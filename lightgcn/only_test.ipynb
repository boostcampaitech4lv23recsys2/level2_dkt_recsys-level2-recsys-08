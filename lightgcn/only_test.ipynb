{
 "cells": [
  {
   "cell_type": "markdown",
   "metadata": {},
   "source": [
    "# test data로만 train 해보기 \n",
    "- train data : 기존 test data의 마지막 행을 제외한 test data\n",
    "- test data : 기존 test data의 마지막 행"
   ]
  },
  {
   "cell_type": "markdown",
   "metadata": {},
   "source": [
    "### train"
   ]
  },
  {
   "cell_type": "code",
   "execution_count": 42,
   "metadata": {},
   "outputs": [],
   "source": [
    "import numpy as np\n",
    "import pandas as pd\n",
    "import torch\n",
    "from config import CFG, logging_conf\n",
    "# from lightgcn.datasets import prepare_dataset\n",
    "from lightgcn.models import build\n",
    "from lightgcn.utils import class2dict, get_logger\n",
    "from sklearn.metrics import accuracy_score, roc_auc_score"
   ]
  },
  {
   "cell_type": "code",
   "execution_count": 43,
   "metadata": {},
   "outputs": [
    {
     "name": "stdout",
     "output_type": "stream",
     "text": [
      "cuda\n"
     ]
    }
   ],
   "source": [
    "logger = get_logger(logging_conf)\n",
    "use_cuda = torch.cuda.is_available() and CFG.use_cuda_if_available\n",
    "device = torch.device(\"cuda\" if use_cuda else \"cpu\")\n",
    "print(device)"
   ]
  },
  {
   "cell_type": "code",
   "execution_count": 44,
   "metadata": {},
   "outputs": [],
   "source": [
    "import os\n",
    "def load_data(basepath):\n",
    "    path = os.path.join(basepath, \"test_data.csv\")\n",
    "    data = pd.read_csv(path)\n",
    "    \n",
    "    train_data = data[data.answerCode>=0].copy()\n",
    "    test_data = data[data.answerCode<0].copy()\n",
    "    \n",
    "    train_data.drop_duplicates(\n",
    "        subset=[\"userID\", \"assessmentItemID\"], keep=\"last\", inplace=True\n",
    "    )\n",
    "\n",
    "    data = pd.concat([train_data, test_data])\n",
    "    \n",
    "    return data"
   ]
  },
  {
   "cell_type": "code",
   "execution_count": 45,
   "metadata": {},
   "outputs": [],
   "source": [
    "def separate_data(data):\n",
    "    train_data = data.copy()\n",
    "    test_data = data.copy()\n",
    "    test_data.drop_duplicates(subset = [\"userID\"],\n",
    "                     keep = \"last\", inplace = True)\n",
    "    train_data.drop(index=test_data.index, inplace=True, errors='ignore')\n",
    "    \n",
    "    return train_data, test_data"
   ]
  },
  {
   "cell_type": "code",
   "execution_count": 46,
   "metadata": {},
   "outputs": [],
   "source": [
    "def indexing_data(data):\n",
    "    userid, itemid = (\n",
    "        sorted(list(set(data.userID))),\n",
    "        sorted(list(set(data.assessmentItemID))),\n",
    "    )\n",
    "    n_user, n_item = len(userid), len(itemid)\n",
    "\n",
    "    userid_2_index = {v: i for i, v in enumerate(userid)}\n",
    "    itemid_2_index = {v: i + n_user for i, v in enumerate(itemid)}\n",
    "    id_2_index = dict(userid_2_index, **itemid_2_index)\n",
    "\n",
    "    return id_2_index"
   ]
  },
  {
   "cell_type": "code",
   "execution_count": 47,
   "metadata": {},
   "outputs": [],
   "source": [
    "def process_data(data, id_2_index, device):\n",
    "    edge, label = [], []\n",
    "    for user, item, acode in zip(data.userID, data.assessmentItemID, data.answerCode):\n",
    "        uid, iid = id_2_index[user], id_2_index[item]\n",
    "        edge.append([uid, iid])\n",
    "        label.append(acode)\n",
    "\n",
    "    edge = torch.LongTensor(edge).T\n",
    "    label = torch.LongTensor(label)\n",
    "\n",
    "    return dict(edge=edge.to(device), label=label.to(device))"
   ]
  },
  {
   "cell_type": "code",
   "execution_count": 48,
   "metadata": {},
   "outputs": [],
   "source": [
    "def prepare_dataset(device, basepath, verbose=True, logger=None):\n",
    "    data = load_data(basepath)\n",
    "    train_data, test_data = separate_data(data)\n",
    "    id2index = indexing_data(data)\n",
    "    train_data_proc = process_data(train_data, id2index, device)\n",
    "    test_data_proc = process_data(test_data, id2index, device)\n",
    "\n",
    "    return train_data_proc, test_data_proc, len(id2index)"
   ]
  },
  {
   "cell_type": "code",
   "execution_count": 49,
   "metadata": {},
   "outputs": [],
   "source": [
    "# data prepare\n",
    "train_data, test_data, n_node = prepare_dataset(\n",
    "    device, CFG.basepath, verbose=CFG.loader_verbose, logger=logger.getChild(\"data\")\n",
    ")"
   ]
  },
  {
   "cell_type": "code",
   "execution_count": 50,
   "metadata": {},
   "outputs": [
    {
     "data": {
      "text/plain": [
       "LightGCN(10198, 64, num_layers=1)"
      ]
     },
     "execution_count": 50,
     "metadata": {},
     "output_type": "execute_result"
    }
   ],
   "source": [
    "# model build\n",
    "model = build(\n",
    "    n_node,\n",
    "    embedding_dim=CFG.embedding_dim,\n",
    "    num_layers=CFG.num_layers,\n",
    "    alpha=CFG.alpha,\n",
    "    logger=logger.getChild(\"build\"),\n",
    "    **CFG.build_kwargs\n",
    ")\n",
    "model.to(device)"
   ]
  },
  {
   "cell_type": "code",
   "execution_count": 51,
   "metadata": {},
   "outputs": [],
   "source": [
    "def train(\n",
    "    model,\n",
    "    train_data,\n",
    "    valid_data=None,\n",
    "    n_epoch=100,\n",
    "    learning_rate=0.01,\n",
    "    use_wandb=False,\n",
    "    weight=None,\n",
    "    logger=None,\n",
    "):\n",
    "    model.train()\n",
    "\n",
    "    optimizer = torch.optim.Adam(model.parameters(), lr=learning_rate)\n",
    "\n",
    "    if not os.path.exists(weight):\n",
    "        os.makedirs(weight)\n",
    "\n",
    "    if valid_data is None:\n",
    "        eids = np.arange(len(train_data[\"label\"]))\n",
    "        eids = np.random.permutation(eids)[:50]\n",
    "        edge, label = train_data[\"edge\"], train_data[\"label\"]\n",
    "        label = label.to(\"cpu\").detach().numpy()\n",
    "        valid_data = dict(edge=edge[:, eids], label=label[eids])\n",
    "\n",
    "    logger.info(f\"Training Started : n_epoch={n_epoch}\")\n",
    "    best_auc, best_epoch = 0, -1\n",
    "    for e in range(n_epoch):\n",
    "        # forward\n",
    "        pred = model(train_data[\"edge\"])\n",
    "        loss = model.link_pred_loss(pred, train_data[\"label\"])\n",
    "\n",
    "        # backward\n",
    "        optimizer.zero_grad()\n",
    "        loss.backward()\n",
    "        optimizer.step()\n",
    "\n",
    "        with torch.no_grad():\n",
    "            prob = model.predict_link(valid_data[\"edge\"], prob=True)\n",
    "            prob = prob.detach().cpu().numpy()\n",
    "            acc = accuracy_score(valid_data[\"label\"], prob > 0.5)\n",
    "            auc = roc_auc_score(valid_data[\"label\"], prob)\n",
    "            logger.info(\n",
    "                f\" * In epoch {(e+1):04}, loss={loss:.03f}, acc={acc:.03f}, AUC={auc:.03f}\"\n",
    "            )\n",
    "            if use_wandb:\n",
    "                import wandb\n",
    "\n",
    "                wandb.log(dict(loss=loss, acc=acc, auc=auc))\n",
    "\n",
    "        if weight:\n",
    "            if auc > best_auc:\n",
    "                logger.info(\n",
    "                    f\" * In epoch {(e+1):04}, loss={loss:.03f}, acc={acc:.03f}, AUC={auc:.03f}, Best AUC\"\n",
    "                )\n",
    "                best_auc, best_epoch = auc, e\n",
    "                torch.save(\n",
    "                    {\"model\": model.state_dict(), \"epoch\": e + 1},\n",
    "                    os.path.join(weight, f\"best_model.pt\"),\n",
    "                )\n",
    "\n",
    "            if use_wandb:\n",
    "                wandb.run.summary['best_auc'] = best_auc\n",
    "                \n",
    "    torch.save(\n",
    "        {\"model\": model.state_dict(), \"epoch\": e + 1},\n",
    "        os.path.join(weight, f\"last_model.pt\"),\n",
    "    )\n",
    "    logger.info(f\"Best Weight Confirmed : {best_epoch+1}'th epoch\")\n"
   ]
  },
  {
   "cell_type": "code",
   "execution_count": 52,
   "metadata": {},
   "outputs": [
    {
     "name": "stdout",
     "output_type": "stream",
     "text": [
      "2022-11-25 02:27:38,446 - root - INFO - Task Complete\n"
     ]
    }
   ],
   "source": [
    "# model train\n",
    "train(\n",
    "    model,\n",
    "    train_data,\n",
    "    n_epoch=CFG.n_epoch,\n",
    "    learning_rate=CFG.learning_rate,\n",
    "    use_wandb=False,\n",
    "    weight=CFG.weight_basepath,\n",
    "    logger=logger.getChild(\"train\"),\n",
    ")\n",
    "logger.info(\"Task Complete\")"
   ]
  },
  {
   "cell_type": "markdown",
   "metadata": {},
   "source": [
    "### inference"
   ]
  },
  {
   "cell_type": "code",
   "execution_count": 53,
   "metadata": {},
   "outputs": [],
   "source": [
    "from lightgcn.datasets import prepare_dataset\n",
    "from lightgcn.models import build, inference\n",
    "from lightgcn.utils import get_logger"
   ]
  },
  {
   "cell_type": "code",
   "execution_count": 54,
   "metadata": {},
   "outputs": [],
   "source": [
    "logger = get_logger(logging_conf)\n",
    "use_cuda = torch.cuda.is_available() and CFG.use_cuda_if_available\n",
    "device = torch.device(\"cuda\" if use_cuda else \"cpu\")\n",
    "\n",
    "if not os.path.exists(CFG.output_dir):\n",
    "    os.makedirs(CFG.output_dir)"
   ]
  },
  {
   "cell_type": "code",
   "execution_count": 55,
   "metadata": {},
   "outputs": [],
   "source": [
    "# inference\n",
    "pred = inference(model, test_data, logger=logger.getChild(\"infer\"))"
   ]
  },
  {
   "cell_type": "code",
   "execution_count": 56,
   "metadata": {},
   "outputs": [],
   "source": [
    "a_prob = pred.detach().cpu().numpy()\n",
    "a_true = test_data[\"label\"].detach().cpu().numpy()\n",
    "a_pred = [round(v) for v in a_prob] "
   ]
  },
  {
   "cell_type": "markdown",
   "metadata": {},
   "source": [
    "실제 평가 데이터로 제출 파일 만들기"
   ]
  },
  {
   "cell_type": "code",
   "execution_count": 57,
   "metadata": {},
   "outputs": [],
   "source": [
    "pred = pred.detach().cpu().numpy()\n",
    "pd.DataFrame({\"prediction\": pred}).to_csv(\n",
    "    os.path.join(CFG.output_dir, 'only_test_submission.csv'), index_label=\"id\"\n",
    ")"
   ]
  },
  {
   "cell_type": "markdown",
   "metadata": {},
   "source": [
    "=> 예측 값이 모두 0.5 주변이다. 왜 그럴까???\n",
    "데이터 양이 적고 이에 따라 학습이 부족해서 일까? 어쨌든 신뢰할 수 없는 결과이다..."
   ]
  }
 ],
 "metadata": {
  "kernelspec": {
   "display_name": "Python 3.10.0 ('lgcnmodel')",
   "language": "python",
   "name": "python3"
  },
  "language_info": {
   "codemirror_mode": {
    "name": "ipython",
    "version": 3
   },
   "file_extension": ".py",
   "mimetype": "text/x-python",
   "name": "python",
   "nbconvert_exporter": "python",
   "pygments_lexer": "ipython3",
   "version": "3.10.8"
  },
  "orig_nbformat": 4,
  "vscode": {
   "interpreter": {
    "hash": "9dcb66f4364347f1194a95291094c517d424054fad9034ad9eacecef50e85ee0"
   }
  }
 },
 "nbformat": 4,
 "nbformat_minor": 2
}
