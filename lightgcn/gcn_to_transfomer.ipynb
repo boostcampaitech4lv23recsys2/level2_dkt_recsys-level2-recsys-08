{
 "cells": [
  {
   "cell_type": "markdown",
   "metadata": {},
   "source": [
    "# lightGCN"
   ]
  },
  {
   "cell_type": "code",
   "execution_count": 2,
   "metadata": {},
   "outputs": [],
   "source": [
    "import os\n",
    "\n",
    "import pandas as pd\n",
    "import torch\n",
    "from config import CFG, logging_conf\n",
    "from lightgcn.datasets import prepare_dataset\n",
    "from lightgcn.models import build, train\n",
    "from lightgcn.utils import class2dict, get_logger\n",
    "\n",
    "from lightgcn.datasets import prepare_dataset\n",
    "from lightgcn.models import build, inference\n",
    "from lightgcn.utils import get_logger"
   ]
  },
  {
   "cell_type": "markdown",
   "metadata": {},
   "source": [
    "train"
   ]
  },
  {
   "cell_type": "code",
   "execution_count": 3,
   "metadata": {},
   "outputs": [
    {
     "name": "stdout",
     "output_type": "stream",
     "text": [
      "cuda\n"
     ]
    }
   ],
   "source": [
    "logger = get_logger(logging_conf)\n",
    "use_cuda = torch.cuda.is_available() and CFG.use_cuda_if_available\n",
    "device = torch.device(\"cuda\" if use_cuda else \"cpu\")\n",
    "print(device)"
   ]
  },
  {
   "cell_type": "code",
   "execution_count": 4,
   "metadata": {},
   "outputs": [],
   "source": [
    "def load_data(basepath):\n",
    "    path1 = os.path.join(basepath, \"train_data.csv\")\n",
    "    path2 = os.path.join(basepath, \"test_data.csv\")\n",
    "    data1 = pd.read_csv(path1)\n",
    "    data2 = pd.read_csv(path2)\n",
    "\n",
    "    data = pd.concat([data1, data2])\n",
    "    data.drop_duplicates(\n",
    "        subset=[\"userID\", \"assessmentItemID\"], keep=\"last\", inplace=True\n",
    "    )\n",
    "\n",
    "    return data\n",
    "\n",
    "\n",
    "def separate_data(data):\n",
    "    train_data = data[data.answerCode >= 0]\n",
    "    test_data = data[data.answerCode < 0]\n",
    "\n",
    "    return train_data, test_data\n",
    "\n",
    "\n",
    "def indexing_data(data):\n",
    "    userid, itemid = (\n",
    "        sorted(list(set(data.userID))),\n",
    "        sorted(list(set(data.assessmentItemID))),\n",
    "    )\n",
    "    n_user, n_item = len(userid), len(itemid)\n",
    "\n",
    "    userid_2_index = {v: i for i, v in enumerate(userid)}\n",
    "    itemid_2_index = {v: i + n_user for i, v in enumerate(itemid)}\n",
    "    id_2_index = dict(userid_2_index, **itemid_2_index)\n",
    "\n",
    "    return id_2_index\n",
    "\n",
    "\n",
    "def process_data(data, id_2_index, device):\n",
    "    edge, label = [], []\n",
    "    for user, item, acode in zip(data.userID, data.assessmentItemID, data.answerCode):\n",
    "        uid, iid = id_2_index[user], id_2_index[item]\n",
    "        edge.append([uid, iid])\n",
    "        label.append(acode)\n",
    "\n",
    "    edge = torch.LongTensor(edge).T\n",
    "    label = torch.LongTensor(label)\n",
    "\n",
    "    return dict(edge=edge.to(device), label=label.to(device))\n"
   ]
  },
  {
   "cell_type": "code",
   "execution_count": 5,
   "metadata": {},
   "outputs": [],
   "source": [
    "def prepare_dataset(device, basepath, verbose=True, logger=None):\n",
    "    data = load_data(basepath)\n",
    "    train_data, test_data = separate_data(data)\n",
    "    id2index = indexing_data(data)\n",
    "    train_data_proc = process_data(train_data, id2index, device)\n",
    "    test_data_proc = process_data(test_data, id2index, device)\n",
    "\n",
    "    # if verbose:\n",
    "    #     print_data_stat(train_data, \"Train\", logger=logger)\n",
    "    #     print_data_stat(test_data, \"Test\", logger=logger)\n",
    "\n",
    "    return train_data_proc, test_data_proc, len(id2index), id2index "
   ]
  },
  {
   "cell_type": "code",
   "execution_count": 6,
   "metadata": {},
   "outputs": [],
   "source": [
    "# data prepare\n",
    "train_data, test_data, n_node, edge_index = prepare_dataset(\n",
    "    device, CFG.basepath, verbose=CFG.loader_verbose, logger=logger.getChild(\"data\")\n",
    ")"
   ]
  },
  {
   "cell_type": "code",
   "execution_count": 7,
   "metadata": {},
   "outputs": [
    {
     "name": "stdout",
     "output_type": "stream",
     "text": [
      "2022-11-30 17:05:28,419 - build - INFO - No load model\n"
     ]
    },
    {
     "data": {
      "text/plain": [
       "LightGCN(16896, 64, num_layers=1)"
      ]
     },
     "execution_count": 7,
     "metadata": {},
     "output_type": "execute_result"
    }
   ],
   "source": [
    "# model build\n",
    "model = build(\n",
    "    n_node,\n",
    "    embedding_dim=CFG.embedding_dim,\n",
    "    num_layers=CFG.num_layers,\n",
    "    alpha=CFG.alpha,\n",
    "    logger=logger.getChild(\"build\"),\n",
    "    **CFG.build_kwargs\n",
    ")\n",
    "model.to(device)"
   ]
  },
  {
   "cell_type": "code",
   "execution_count": 8,
   "metadata": {},
   "outputs": [
    {
     "name": "stdout",
     "output_type": "stream",
     "text": [
      "2022-11-30 17:05:28,746 - train - INFO - Training Started : n_epoch=20\n",
      "2022-11-30 17:05:28,785 - train - INFO -  * In epoch 0001, loss=0.693, acc=0.590, AUC=0.610\n",
      "2022-11-30 17:05:28,788 - train - INFO -  * In epoch 0001, loss=0.693, acc=0.590, AUC=0.610, Best AUC\n",
      "2022-11-30 17:05:28,858 - train - INFO -  * In epoch 0002, loss=0.693, acc=0.786, AUC=0.835\n",
      "2022-11-30 17:05:28,860 - train - INFO -  * In epoch 0002, loss=0.693, acc=0.786, AUC=0.835, Best AUC\n",
      "2022-11-30 17:05:28,922 - train - INFO -  * In epoch 0003, loss=0.685, acc=0.783, AUC=0.827\n",
      "2022-11-30 17:05:28,958 - train - INFO -  * In epoch 0004, loss=0.659, acc=0.774, AUC=0.817\n",
      "2022-11-30 17:05:28,992 - train - INFO -  * In epoch 0005, loss=0.616, acc=0.775, AUC=0.812\n",
      "2022-11-30 17:05:29,027 - train - INFO -  * In epoch 0006, loss=0.563, acc=0.777, AUC=0.814\n",
      "2022-11-30 17:05:29,062 - train - INFO -  * In epoch 0007, loss=0.516, acc=0.785, AUC=0.824\n",
      "2022-11-30 17:05:29,096 - train - INFO -  * In epoch 0008, loss=0.487, acc=0.790, AUC=0.838\n",
      "2022-11-30 17:05:29,098 - train - INFO -  * In epoch 0008, loss=0.487, acc=0.790, AUC=0.838, Best AUC\n",
      "2022-11-30 17:05:29,155 - train - INFO -  * In epoch 0009, loss=0.472, acc=0.796, AUC=0.852\n",
      "2022-11-30 17:05:29,158 - train - INFO -  * In epoch 0009, loss=0.472, acc=0.796, AUC=0.852, Best AUC\n",
      "2022-11-30 17:05:29,222 - train - INFO -  * In epoch 0010, loss=0.460, acc=0.808, AUC=0.863\n",
      "2022-11-30 17:05:29,223 - train - INFO -  * In epoch 0010, loss=0.460, acc=0.808, AUC=0.863, Best AUC\n",
      "2022-11-30 17:05:29,290 - train - INFO -  * In epoch 0011, loss=0.447, acc=0.812, AUC=0.871\n",
      "2022-11-30 17:05:29,292 - train - INFO -  * In epoch 0011, loss=0.447, acc=0.812, AUC=0.871, Best AUC\n",
      "2022-11-30 17:05:29,353 - train - INFO -  * In epoch 0012, loss=0.433, acc=0.817, AUC=0.879\n",
      "2022-11-30 17:05:29,355 - train - INFO -  * In epoch 0012, loss=0.433, acc=0.817, AUC=0.879, Best AUC\n",
      "2022-11-30 17:05:29,414 - train - INFO -  * In epoch 0013, loss=0.421, acc=0.828, AUC=0.887\n",
      "2022-11-30 17:05:29,417 - train - INFO -  * In epoch 0013, loss=0.421, acc=0.828, AUC=0.887, Best AUC\n",
      "2022-11-30 17:05:29,478 - train - INFO -  * In epoch 0014, loss=0.409, acc=0.831, AUC=0.894\n",
      "2022-11-30 17:05:29,480 - train - INFO -  * In epoch 0014, loss=0.409, acc=0.831, AUC=0.894, Best AUC\n",
      "2022-11-30 17:05:29,543 - train - INFO -  * In epoch 0015, loss=0.398, acc=0.836, AUC=0.902\n",
      "2022-11-30 17:05:29,545 - train - INFO -  * In epoch 0015, loss=0.398, acc=0.836, AUC=0.902, Best AUC\n",
      "2022-11-30 17:05:29,606 - train - INFO -  * In epoch 0016, loss=0.387, acc=0.848, AUC=0.909\n",
      "2022-11-30 17:05:29,608 - train - INFO -  * In epoch 0016, loss=0.387, acc=0.848, AUC=0.909, Best AUC\n",
      "2022-11-30 17:05:29,664 - train - INFO -  * In epoch 0017, loss=0.375, acc=0.855, AUC=0.916\n",
      "2022-11-30 17:05:29,666 - train - INFO -  * In epoch 0017, loss=0.375, acc=0.855, AUC=0.916, Best AUC\n",
      "2022-11-30 17:05:29,726 - train - INFO -  * In epoch 0018, loss=0.363, acc=0.860, AUC=0.923\n",
      "2022-11-30 17:05:29,727 - train - INFO -  * In epoch 0018, loss=0.363, acc=0.860, AUC=0.923, Best AUC\n",
      "2022-11-30 17:05:29,787 - train - INFO -  * In epoch 0019, loss=0.352, acc=0.870, AUC=0.930\n",
      "2022-11-30 17:05:29,789 - train - INFO -  * In epoch 0019, loss=0.352, acc=0.870, AUC=0.930, Best AUC\n",
      "2022-11-30 17:05:29,851 - train - INFO -  * In epoch 0020, loss=0.340, acc=0.874, AUC=0.935\n",
      "2022-11-30 17:05:29,854 - train - INFO -  * In epoch 0020, loss=0.340, acc=0.874, AUC=0.935, Best AUC\n",
      "2022-11-30 17:05:29,909 - train - INFO - Best Weight Confirmed : 20'th epoch\n",
      "2022-11-30 17:05:29,910 - root - INFO - Task Complete\n"
     ]
    }
   ],
   "source": [
    "# model train\n",
    "train(\n",
    "    model,\n",
    "    train_data,\n",
    "    n_epoch=CFG.n_epoch,\n",
    "    learning_rate=CFG.learning_rate,\n",
    "    use_wandb=False,\n",
    "    weight=CFG.weight_basepath,\n",
    "    logger=logger.getChild(\"train\"),\n",
    ")\n",
    "logger.info(\"Task Complete\")"
   ]
  },
  {
   "cell_type": "markdown",
   "metadata": {},
   "source": [
    "inference"
   ]
  },
  {
   "cell_type": "code",
   "execution_count": 9,
   "metadata": {},
   "outputs": [],
   "source": [
    "if not os.path.exists(CFG.output_dir):\n",
    "    os.makedirs(CFG.output_dir)"
   ]
  },
  {
   "cell_type": "code",
   "execution_count": 10,
   "metadata": {},
   "outputs": [],
   "source": [
    "pred = inference(model, test_data, logger=logger.getChild(\"infer\"))"
   ]
  },
  {
   "cell_type": "code",
   "execution_count": 11,
   "metadata": {},
   "outputs": [],
   "source": [
    "pred = pred.detach().cpu().numpy()\n",
    "pd.DataFrame({\"prediction\": pred}).to_csv(\n",
    "        os.path.join(CFG.output_dir, \"plus_test_submission.csv\"), index_label=\"id\"\n",
    ")"
   ]
  },
  {
   "cell_type": "markdown",
   "metadata": {},
   "source": [
    "### lightGCN 임베딩 추출"
   ]
  },
  {
   "cell_type": "code",
   "execution_count": 12,
   "metadata": {},
   "outputs": [
    {
     "data": {
      "text/plain": [
       "16896"
      ]
     },
     "execution_count": 12,
     "metadata": {},
     "output_type": "execute_result"
    }
   ],
   "source": [
    "n_node"
   ]
  },
  {
   "cell_type": "code",
   "execution_count": 13,
   "metadata": {},
   "outputs": [
    {
     "data": {
      "text/plain": [
       "torch.Size([16896, 64])"
      ]
     },
     "execution_count": 13,
     "metadata": {},
     "output_type": "execute_result"
    }
   ],
   "source": [
    "model.embedding.weight.shape"
   ]
  },
  {
   "cell_type": "code",
   "execution_count": 14,
   "metadata": {},
   "outputs": [
    {
     "data": {
      "text/plain": [
       "Parameter containing:\n",
       "tensor([[ 1.7002, -0.8157, -1.2023,  ...,  0.2400, -1.0829,  0.0275],\n",
       "        [-1.3248, -0.8314, -1.2569,  ...,  1.0755,  1.0706, -1.2358],\n",
       "        [-0.9595,  1.2628, -1.1110,  ...,  1.5792,  1.1490, -1.5240],\n",
       "        ...,\n",
       "        [ 0.0828, -1.1036, -0.8915,  ..., -0.0332, -1.6060, -0.2426],\n",
       "        [ 0.9188, -0.6512, -0.8878,  ...,  0.0920,  1.0224, -1.4174],\n",
       "        [-0.2551, -1.1963, -0.4450,  ...,  0.4867,  0.5178, -0.2477]],\n",
       "       device='cuda:0', requires_grad=True)"
      ]
     },
     "execution_count": 14,
     "metadata": {},
     "output_type": "execute_result"
    }
   ],
   "source": [
    "model.embedding.weight"
   ]
  },
  {
   "cell_type": "code",
   "execution_count": 15,
   "metadata": {},
   "outputs": [],
   "source": [
    "embed = model.get_embedding(train_data['edge'])"
   ]
  },
  {
   "cell_type": "code",
   "execution_count": 16,
   "metadata": {},
   "outputs": [
    {
     "data": {
      "text/plain": [
       "tensor([[ 0.8501, -0.4079, -0.6012,  ...,  0.1200, -0.5414,  0.0137],\n",
       "        [-0.6624, -0.4157, -0.6285,  ...,  0.5377,  0.5353, -0.6179],\n",
       "        [-0.4798,  0.6314, -0.5555,  ...,  0.7896,  0.5745, -0.7620],\n",
       "        ...,\n",
       "        [ 0.0414, -0.5518, -0.4457,  ..., -0.0166, -0.8030, -0.1213],\n",
       "        [ 0.4594, -0.3256, -0.4439,  ...,  0.0460,  0.5112, -0.7087],\n",
       "        [-0.1275, -0.5982, -0.2225,  ...,  0.2433,  0.2589, -0.1238]],\n",
       "       device='cuda:0', grad_fn=<AddBackward0>)"
      ]
     },
     "execution_count": 16,
     "metadata": {},
     "output_type": "execute_result"
    }
   ],
   "source": [
    "embed.to(device)"
   ]
  },
  {
   "cell_type": "code",
   "execution_count": 17,
   "metadata": {},
   "outputs": [],
   "source": [
    "# totransdim = torch.nn.Linear(CFG.embedding_dim, 21).to(device)"
   ]
  },
  {
   "cell_type": "code",
   "execution_count": 18,
   "metadata": {},
   "outputs": [],
   "source": [
    "# embed = totransdim(embed)"
   ]
  },
  {
   "cell_type": "code",
   "execution_count": 19,
   "metadata": {},
   "outputs": [
    {
     "data": {
      "text/plain": [
       "torch.Size([16896, 64])"
      ]
     },
     "execution_count": 19,
     "metadata": {},
     "output_type": "execute_result"
    }
   ],
   "source": [
    "embed.shape"
   ]
  },
  {
   "cell_type": "code",
   "execution_count": 20,
   "metadata": {},
   "outputs": [
    {
     "name": "stdout",
     "output_type": "stream",
     "text": [
      "tensor([ 0.8501, -0.4079, -0.6012, -0.2696, -0.6387, -0.7295, -0.6195,  0.3441,\n",
      "         0.2355, -0.6734, -0.1753,  0.1448, -0.5484, -0.3062, -0.5339,  0.2712,\n",
      "        -0.3449, -0.6063,  0.4049, -0.0322, -0.0498, -0.1335,  0.4554, -0.0204,\n",
      "         0.1977, -0.5576, -0.5067,  0.1893,  0.3777, -0.0016, -0.0326,  0.0878,\n",
      "         0.0398,  0.4402,  0.0146, -0.4201,  0.1500, -0.0623, -0.5821,  0.4405,\n",
      "        -0.5015, -0.1626,  0.7630, -0.0102,  0.6478,  0.5081,  0.5665, -0.5410,\n",
      "         0.1704,  0.2420, -0.2196,  0.3652, -0.0361,  0.1473, -0.3683,  0.1398,\n",
      "         0.0205,  0.7804, -0.0724, -0.1828,  0.9545,  0.1200, -0.5414,  0.0137],\n",
      "       device='cuda:0', grad_fn=<SelectBackward0>)\n"
     ]
    }
   ],
   "source": [
    "p1 = embed[edge_index[0]]\n",
    "p2 = embed[edge_index['A060001001']]\n",
    "print(p1)"
   ]
  },
  {
   "cell_type": "markdown",
   "metadata": {},
   "source": [
    "# Riiid"
   ]
  },
  {
   "cell_type": "markdown",
   "metadata": {},
   "source": [
    "코드 : 5강 실습 코드"
   ]
  },
  {
   "cell_type": "code",
   "execution_count": 21,
   "metadata": {},
   "outputs": [],
   "source": [
    "import os\n",
    "import pandas as pd\n",
    "\n",
    "# RiiiD 데이터셋 path 설정\n",
    "RIIID_PATH = \"/opt/ml/input/data/\"\n",
    "\n",
    "# 데이터셋 불러오기\n",
    "train_df = pd.read_csv(os.path.join(RIIID_PATH, 'train_data.csv'))\n",
    "test_df = pd.read_csv(os.path.join(RIIID_PATH, 'test_data.csv'))\n",
    "submission_df = pd.read_csv(os.path.join(RIIID_PATH, 'sample_submission.csv'))"
   ]
  },
  {
   "cell_type": "code",
   "execution_count": 22,
   "metadata": {},
   "outputs": [
    {
     "data": {
      "text/html": [
       "<div>\n",
       "<style scoped>\n",
       "    .dataframe tbody tr th:only-of-type {\n",
       "        vertical-align: middle;\n",
       "    }\n",
       "\n",
       "    .dataframe tbody tr th {\n",
       "        vertical-align: top;\n",
       "    }\n",
       "\n",
       "    .dataframe thead th {\n",
       "        text-align: right;\n",
       "    }\n",
       "</style>\n",
       "<table border=\"1\" class=\"dataframe\">\n",
       "  <thead>\n",
       "    <tr style=\"text-align: right;\">\n",
       "      <th></th>\n",
       "      <th>userID</th>\n",
       "      <th>0</th>\n",
       "    </tr>\n",
       "  </thead>\n",
       "  <tbody>\n",
       "    <tr>\n",
       "      <th>0</th>\n",
       "      <td>0</td>\n",
       "      <td>[0, 1, 2, 3, 4, 5, 6, 7, 8, 9, 10, 11, 12, 13,...</td>\n",
       "    </tr>\n",
       "    <tr>\n",
       "      <th>1</th>\n",
       "      <td>1</td>\n",
       "      <td>[745, 746, 747, 748, 749, 750, 751, 752, 753, ...</td>\n",
       "    </tr>\n",
       "    <tr>\n",
       "      <th>2</th>\n",
       "      <td>2</td>\n",
       "      <td>[1678, 1679, 1680, 1681, 1682, 1683, 1684, 168...</td>\n",
       "    </tr>\n",
       "    <tr>\n",
       "      <th>3</th>\n",
       "      <td>5</td>\n",
       "      <td>[1954, 1955, 1956, 1957, 1958, 1959, 1960, 196...</td>\n",
       "    </tr>\n",
       "    <tr>\n",
       "      <th>4</th>\n",
       "      <td>6</td>\n",
       "      <td>[2787, 2788, 2789, 2790, 2791, 2792, 2793, 279...</td>\n",
       "    </tr>\n",
       "  </tbody>\n",
       "</table>\n",
       "</div>"
      ],
      "text/plain": [
       "   userID                                                  0\n",
       "0       0  [0, 1, 2, 3, 4, 5, 6, 7, 8, 9, 10, 11, 12, 13,...\n",
       "1       1  [745, 746, 747, 748, 749, 750, 751, 752, 753, ...\n",
       "2       2  [1678, 1679, 1680, 1681, 1682, 1683, 1684, 168...\n",
       "3       5  [1954, 1955, 1956, 1957, 1958, 1959, 1960, 196...\n",
       "4       6  [2787, 2788, 2789, 2790, 2791, 2792, 2793, 279..."
      ]
     },
     "execution_count": 22,
     "metadata": {},
     "output_type": "execute_result"
    }
   ],
   "source": [
    "# 학습 과정에서 학습 샘플을 생성하기 위해서 필요한 유저별 row_ids를 저장\n",
    "question_row_ids_by_user_id = train_df.groupby('userID').apply(lambda x: x.index.tolist())\n",
    "question_row_ids_by_user_id.reset_index().head()"
   ]
  },
  {
   "cell_type": "code",
   "execution_count": 23,
   "metadata": {},
   "outputs": [
    {
     "data": {
      "text/html": [
       "<div>\n",
       "<style scoped>\n",
       "    .dataframe tbody tr th:only-of-type {\n",
       "        vertical-align: middle;\n",
       "    }\n",
       "\n",
       "    .dataframe tbody tr th {\n",
       "        vertical-align: top;\n",
       "    }\n",
       "\n",
       "    .dataframe thead th {\n",
       "        text-align: right;\n",
       "    }\n",
       "</style>\n",
       "<table border=\"1\" class=\"dataframe\">\n",
       "  <thead>\n",
       "    <tr style=\"text-align: right;\">\n",
       "      <th></th>\n",
       "      <th>userID</th>\n",
       "      <th>0</th>\n",
       "    </tr>\n",
       "  </thead>\n",
       "  <tbody>\n",
       "    <tr>\n",
       "      <th>0</th>\n",
       "      <td>0</td>\n",
       "      <td>0</td>\n",
       "    </tr>\n",
       "    <tr>\n",
       "      <th>1</th>\n",
       "      <td>1</td>\n",
       "      <td>745</td>\n",
       "    </tr>\n",
       "    <tr>\n",
       "      <th>2</th>\n",
       "      <td>2</td>\n",
       "      <td>1678</td>\n",
       "    </tr>\n",
       "    <tr>\n",
       "      <th>3</th>\n",
       "      <td>5</td>\n",
       "      <td>1954</td>\n",
       "    </tr>\n",
       "    <tr>\n",
       "      <th>4</th>\n",
       "      <td>6</td>\n",
       "      <td>2787</td>\n",
       "    </tr>\n",
       "  </tbody>\n",
       "</table>\n",
       "</div>"
      ],
      "text/plain": [
       "   userID     0\n",
       "0       0     0\n",
       "1       1   745\n",
       "2       2  1678\n",
       "3       5  1954\n",
       "4       6  2787"
      ]
     },
     "execution_count": 23,
     "metadata": {},
     "output_type": "execute_result"
    }
   ],
   "source": [
    "# 학습 과정에서 학습 샘플을 생성하기 위해서 필요한 유저별 시작 row_id를 저장\n",
    "start_row_id_by_user_id = train_df.groupby('userID').apply(lambda x: x.index[0])\n",
    "start_row_id_by_user_id.reset_index().head()"
   ]
  },
  {
   "cell_type": "code",
   "execution_count": 24,
   "metadata": {},
   "outputs": [],
   "source": [
    "# feature 추가\n",
    "train_df['big_category'] = train_df.testId.map(lambda x:x[2]).astype(int)\n",
    "train_df['mid_category'] = train_df.testId.map(lambda x: int(x[-3:]))\n",
    "train_df['problem_num'] = train_df.assessmentItemID.map(lambda x: int(x[-3:]))\n",
    "\n",
    "# 데이터 타입 변경\n",
    "train_df['KnowledgeTag'] = train_df['KnowledgeTag'].astype(str)\n",
    "train_df['big_category'] = train_df['big_category'].astype(str)\n",
    "train_df['mid_category'] = train_df['mid_category'].astype(str)\n",
    "train_df['problem_num'] = train_df['problem_num'].astype(str)"
   ]
  },
  {
   "cell_type": "code",
   "execution_count": 25,
   "metadata": {},
   "outputs": [],
   "source": [
    "cate2id_dict = {}\n",
    "\n",
    "offset = 0\n",
    "\n",
    "# assessmentItemID2id\n",
    "Item2id = dict([(v, i+offset) for i, v in enumerate(train_df['assessmentItemID'].unique())])\n",
    "cate2id_dict['Item2id'] = Item2id\n",
    "offset += len(Item2id)\n",
    "\n",
    "# testId2id\n",
    "testId2id = dict([(v, i+offset) for i, v in enumerate(train_df['testId'].unique())])\n",
    "cate2id_dict['testId2id'] = testId2id\n",
    "offset += len(testId2id)\n",
    "\n",
    "# KnowledgeTag2id\n",
    "KnowledgeTag2id = dict([(v, i+offset) for i, v in enumerate(train_df['KnowledgeTag'].unique())])\n",
    "cate2id_dict['KnowledgeTag2id'] = KnowledgeTag2id\n",
    "offset += len(KnowledgeTag2id)\n",
    "\n",
    "# big_category2id\n",
    "big_category2id = dict([(v, i+offset) for i, v in enumerate(train_df['big_category'].unique())])\n",
    "cate2id_dict['big_category2id'] = big_category2id\n",
    "offset += len(big_category2id)\n",
    "        \n",
    "# mid_category2id\n",
    "mid_category2id = dict([(v, i+offset) for i, v in enumerate(train_df['mid_category'].unique())])\n",
    "cate2id_dict['mid_category2id'] = mid_category2id\n",
    "offset += len(mid_category2id)\n",
    "\n",
    "# problem_num2id\n",
    "problem_num2id = dict([(v, i+offset) for i, v in enumerate(train_df['problem_num'].unique())])\n",
    "cate2id_dict['problem_num2id'] = problem_num2id\n",
    "offset += len(problem_num2id)\n"
   ]
  },
  {
   "cell_type": "code",
   "execution_count": 26,
   "metadata": {},
   "outputs": [],
   "source": [
    "import numpy as np\n",
    "\n",
    "# mapping\n",
    "train_df['assessmentItemID'] = train_df['assessmentItemID'].map(Item2id)\n",
    "train_df['testId'] = train_df['testId'].map(testId2id)\n",
    "train_df['KnowledgeTag'] = train_df['KnowledgeTag'].map(KnowledgeTag2id)\n",
    "train_df['big_category'] = train_df['big_category'].map(big_category2id)\n",
    "train_df['mid_category'] = train_df['mid_category'].map(mid_category2id)\n",
    "train_df['problem_num'] = train_df['problem_num'].map(problem_num2id)"
   ]
  },
  {
   "cell_type": "code",
   "execution_count": 27,
   "metadata": {},
   "outputs": [],
   "source": [
    "# Timestamp 변경하기\n",
    "\n",
    "from datetime import datetime\n",
    "import time\n",
    "\n",
    "def convert_time(s):\n",
    "    timestamp = time.mktime(\n",
    "        datetime.strptime(s, \"%Y-%m-%d %H:%M:%S\").timetuple()\n",
    "    )\n",
    "    return int(timestamp)\n",
    "\n",
    "train_df[\"Timestamp\"] = train_df[\"Timestamp\"].apply(convert_time)"
   ]
  },
  {
   "cell_type": "code",
   "execution_count": 28,
   "metadata": {},
   "outputs": [],
   "source": [
    "cont_cols = [ #'Timestamp',\n",
    "             'answerCode']\n",
    "\n",
    "cate_cols = ['assessmentItemID', 'testId', 'KnowledgeTag', 'big_category', 'mid_category', 'problem_num'] \n",
    "\n",
    "train_df[cate_cols] = train_df[cate_cols].astype(np.int16)\n",
    "# train_df[cont_cols] = train_df[cont_cols].astype(np.float32)  "
   ]
  },
  {
   "cell_type": "code",
   "execution_count": 29,
   "metadata": {},
   "outputs": [
    {
     "name": "stdout",
     "output_type": "stream",
     "text": [
      "훈련 데이터셋 shape : (2266586, 9)\n",
      "category 값들의 총 갯수 : 12123\n",
      "category feature들의 column 이름 : ['assessmentItemID', 'testId', 'KnowledgeTag', 'big_category', 'mid_category', 'problem_num']\n",
      "continuous feature들의 column 이름 : ['answerCode']\n"
     ]
    }
   ],
   "source": [
    "print(f\"훈련 데이터셋 shape : {train_df.shape}\")\n",
    "print(f\"category 값들의 총 갯수 : {offset}\")\n",
    "print(f\"category feature들의 column 이름 : {cate_cols}\")\n",
    "print(f\"continuous feature들의 column 이름 : {cont_cols}\")"
   ]
  },
  {
   "cell_type": "code",
   "execution_count": 30,
   "metadata": {},
   "outputs": [
    {
     "name": "stdout",
     "output_type": "stream",
     "text": [
      "category feature들의 index : {'Item2id': {'A060001001': 0, 'A060001002': 1, 'A060001003': 2, 'A060001004': 3, 'A060001005': 4, 'A060001007': 5, 'A060003001': 6, 'A060003002': 7, 'A060003003': 8, 'A060003004': 9, 'A060003005': 10, 'A060003006': 11, 'A060003007': 12, 'A060005001': 13, 'A060005002': 14, 'A060005003': 15, 'A060005004': 16, 'A060005005': 17, 'A060005006': 18, 'A060005007': 19, 'A060007001': 20, 'A060007002': 21, 'A060007003': 22, 'A060007004': 23, 'A060007005': 24, 'A060007006': 25, 'A060007007': 26, 'A080002001': 27, 'A080002002': 28, 'A080002003': 29, 'A080002004': 30, 'A080002005': 31, 'A080002006': 32, 'A060009001': 33, 'A060009002': 34, 'A060009003': 35, 'A060009004': 36, 'A060009005': 37, 'A060009006': 38, 'A060009007': 39, 'A060016001': 40, 'A060016002': 41, 'A060016003': 42, 'A060016004': 43, 'A060016005': 44, 'A060016006': 45, 'A060016007': 46, 'A080004001': 47, 'A080004002': 48, 'A080004003': 49, 'A080004004': 50, 'A080004005': 51, 'A080004006': 52, 'A080004008': 53, 'A080004007': 54, 'A080006001': 55, 'A080006002': 56, 'A080006003': 57, 'A080006004': 58, 'A080006005': 59, 'A080006006': 60, 'A080006007': 61, 'A080006008': 62, 'A060018001': 63, 'A060018002': 64, 'A060018003': 65, 'A060018004': 66, 'A060018005': 67, 'A060018006': 68, 'A060018007': 69, 'A060020001': 70, 'A060020002': 71, 'A060020003': 72, 'A060020004': 73, 'A060020005': 74, 'A060020006': 75, 'A060020007': 76, 'A080008008': 77, 'A080008001': 78, 'A080008002': 79, 'A080008003': 80, 'A080008004': 81, 'A080008005': 82, 'A080008006': 83, 'A080008007': 84, 'A080010001': 85, 'A080010002': 86, 'A080010003': 87, 'A080010004': 88, 'A080010005': 89, 'A080010006': 90, 'A080010007': 91, 'A080010008': 92, 'A060022001': 93, 'A060022002': 94, 'A060022003': 95, 'A060022004': 96, 'A060022005': 97, 'A060022006': 98, 'A060022007': 99, 'A080012001': 100, 'A080012002': 101, 'A080012003': 102, 'A080012008': 103, 'A080012004': 104, 'A080012005': 105, 'A080012006': 106, 'A080012007': 107, 'A080014001': 108, 'A080014002': 109, 'A080014003': 110, 'A080014004': 111, 'A080014005': 112, 'A080014008': 113, 'A080014006': 114, 'A080014007': 115, 'A080016001': 116, 'A080016002': 117, 'A080016004': 118, 'A080016003': 119, 'A080016005': 120, 'A080016006': 121, 'A080016007': 122, 'A080016008': 123, 'A060024001': 124, 'A060024002': 125, 'A060024003': 126, 'A060024004': 127, 'A060024005': 128, 'A060024006': 129, 'A060024007': 130, 'A080018001': 131, 'A080018002': 132, 'A080018003': 133, 'A080018004': 134, 'A080018006': 135, 'A080018005': 136, 'A080018007': 137, 'A080018008': 138, 'A080020008': 139, 'A080020001': 140, 'A080020002': 141, 'A080020003': 142, 'A080020004': 143, 'A080020005': 144, 'A080020007': 145, 'A080020006': 146, 'A060031001': 147, 'A060031002': 148, 'A060031003': 149, 'A060031004': 150, 'A060031005': 151, 'A060031006': 152, 'A060031007': 153, 'A060033001': 154, 'A060033002': 155, 'A060033003': 156, 'A060033004': 157, 'A060033005': 158, 'A060033006': 159, 'A060033007': 160, 'A060035001': 161, 'A060035002': 162, 'A060035003': 163, 'A060035004': 164, 'A060035005': 165, 'A060035006': 166, 'A060035007': 167, 'A060037001': 168, 'A060037002': 169, 'A060037003': 170, 'A060037004': 171, 'A060037005': 172, 'A060037006': 173, 'A060037007': 174, 'A080022001': 175, 'A080022002': 176, 'A080022003': 177, 'A080022004': 178, 'A080022006': 179, 'A080022005': 180, 'A060039001': 181, 'A060039002': 182, 'A060039003': 183, 'A060039004': 184, 'A060039005': 185, 'A060039006': 186, 'A060039007': 187, 'A080024001': 188, 'A080024002': 189, 'A080024003': 190, 'A080024004': 191, 'A080024005': 192, 'A080024006': 193, 'A060041001': 194, 'A060041002': 195, 'A060041003': 196, 'A060041004': 197, 'A060041005': 198, 'A060041006': 199, 'A060041007': 200, 'A080035001': 201, 'A080035002': 202, 'A080035003': 203, 'A080035004': 204, 'A080035005': 205, 'A080035006': 206, 'A080035007': 207, 'A080035008': 208, 'A060043001': 209, 'A060043002': 210, 'A060043003': 211, 'A060043004': 212, 'A060043005': 213, 'A060043006': 214, 'A060043007': 215, 'A080036001': 216, 'A080036002': 217, 'A080036003': 218, 'A080036004': 219, 'A080036005': 220, 'A080036006': 221, 'A080036007': 222, 'A080036008': 223, 'A080037001': 224, 'A080037002': 225, 'A080037003': 226, 'A080037004': 227, 'A080037005': 228, 'A080037006': 229, 'A080037007': 230, 'A080037008': 231, 'A060052001': 232, 'A060052002': 233, 'A060052003': 234, 'A060052004': 235, 'A060052005': 236, 'A060052006': 237, 'A060052007': 238, 'A060054001': 239, 'A060054002': 240, 'A060054003': 241, 'A060054004': 242, 'A060054005': 243, 'A060054006': 244, 'A060054007': 245, 'A080038001': 246, 'A080038002': 247, 'A080038003': 248, 'A080038004': 249, 'A080038005': 250, 'A080038006': 251, 'A080038008': 252, 'A080038007': 253, 'A060056001': 254, 'A060056002': 255, 'A060056003': 256, 'A060056004': 257, 'A060056005': 258, 'A060056006': 259, 'A060056007': 260, 'A080039001': 261, 'A080039003': 262, 'A080039002': 263, 'A080039004': 264, 'A080039006': 265, 'A080039005': 266, 'A080039007': 267, 'A080039008': 268, 'A060058001': 269, 'A060058002': 270, 'A060058003': 271, 'A060058004': 272, 'A060058005': 273, 'A060058006': 274, 'A060058007': 275, 'A060060001': 276, 'A060060002': 277, 'A060060003': 278, 'A060060004': 279, 'A060060005': 280, 'A060060006': 281, 'A060060007': 282, 'A080040001': 283, 'A080040002': 284, 'A080040003': 285, 'A080040004': 286, 'A080040005': 287, 'A080040006': 288, 'A060062001': 289, 'A060062002': 290, 'A060062003': 291, 'A060062004': 292, 'A060062005': 293, 'A060062006': 294, 'A060062007': 295, 'A080041001': 296, 'A080041002': 297, 'A080041003': 298, 'A080041004': 299, 'A080041005': 300, 'A080041006': 301, 'A080042001': 302, 'A080042002': 303, 'A080042003': 304, 'A080042004': 305, 'A080042005': 306, 'A080042006': 307, 'A080042007': 308, 'A080042008': 309, 'A060070001': 310, 'A060070002': 311, 'A060070003': 312, 'A060070004': 313, 'A060070005': 314, 'A060070006': 315, 'A060070007': 316, 'A060072001': 317, 'A060072002': 318, 'A060072003': 319, 'A060072004': 320, 'A060072005': 321, 'A060072006': 322, 'A060072007': 323, 'A080043001': 324, 'A080043002': 325, 'A080043003': 326, 'A080043004': 327, 'A080043005': 328, 'A080043006': 329, 'A080043007': 330, 'A080043008': 331, 'A060074001': 332, 'A060074002': 333, 'A060074003': 334, 'A060074004': 335, 'A060074005': 336, 'A060074006': 337, 'A060074007': 338, 'A080044008': 339, 'A080044007': 340, 'A080044006': 341, 'A080044005': 342, 'A080044004': 343, 'A080044003': 344, 'A080044001': 345, 'A080044002': 346, 'A060076001': 347, 'A060076002': 348, 'A060076003': 349, 'A060076004': 350, 'A060076005': 351, 'A060076006': 352, 'A060076007': 353, 'A060078001': 354, 'A060078002': 355, 'A060078003': 356, 'A060078004': 357, 'A060078005': 358, 'A060078006': 359, 'A060078007': 360, 'A080046001': 361, 'A080046002': 362, 'A080046003': 363, 'A080046004': 364, 'A080046005': 365, 'A080046006': 366, 'A080046007': 367, 'A080046008': 368, 'A080048001': 369, 'A080048002': 370, 'A080048003': 371, 'A080048004': 372, 'A080048005': 373, 'A080048006': 374, 'A080048007': 375, 'A080048008': 376, 'A060085001': 377, 'A060085002': 378, 'A060085003': 379, 'A060085004': 380, 'A060085005': 381, 'A060085006': 382, 'A060085007': 383, 'A060087001': 384, 'A060087002': 385, 'A060087003': 386, 'A060087004': 387, 'A060087005': 388, 'A060087006': 389, 'A060087007': 390, 'A060089001': 391, 'A060089002': 392, 'A060089003': 393, 'A060089004': 394, 'A060089005': 395, 'A060089006': 396, 'A060089007': 397, 'A060091001': 398, 'A060091002': 399, 'A060091003': 400, 'A060091004': 401, 'A060091005': 402, 'A060091006': 403, 'A060091007': 404, 'A060093001': 405, 'A060093002': 406, 'A060093003': 407, 'A060093004': 408, 'A060094001': 409, 'A060094002': 410, 'A060094003': 411, 'A060094004': 412, 'A060094005': 413, 'A060094006': 414, 'A060094007': 415, 'A060094008': 416, 'A060094009': 417, 'A060095001': 418, 'A060095002': 419, 'A060095003': 420, 'A060095004': 421, 'A060095005': 422, 'A060096001': 423, 'A060096002': 424, 'A060096003': 425, 'A060096004': 426, 'A060096005': 427, 'A060096006': 428, 'A060096007': 429, 'A060096008': 430, 'A060096009': 431, 'A080062001': 432, 'A080062002': 433, 'A080062004': 434, 'A080062003': 435, 'A080062006': 436, 'A080062005': 437, 'A080070001': 438, 'A080070002': 439, 'A080070003': 440, 'A080070004': 441, 'A080070005': 442, 'A080070006': 443, 'A080070007': 444, 'A080070008': 445, 'A080072001': 446, 'A080072002': 447, 'A080072003': 448, 'A080072004': 449, 'A080072005': 450, 'A080072006': 451, 'A080072007': 452, 'A080072008': 453, 'A080076001': 454, 'A080076002': 455, 'A080076003': 456, 'A080076004': 457, 'A080076005': 458, 'A080076006': 459, 'A080076007': 460, 'A080076008': 461, 'A080078001': 462, 'A080078002': 463, 'A080078003': 464, 'A080078004': 465, 'A080078005': 466, 'A080078006': 467, 'A080078007': 468, 'A080078008': 469, 'A060097001': 470, 'A060097002': 471, 'A060097003': 472, 'A060097004': 473, 'A060097005': 474, 'A060097006': 475, 'A060097007': 476, 'A080080001': 477, 'A080080002': 478, 'A080080003': 479, 'A080080004': 480, 'A080080005': 481, 'A080080006': 482, 'A080080007': 483, 'A080080008': 484, 'A060099001': 485, 'A060099002': 486, 'A060099003': 487, 'A060099004': 488, 'A060099005': 489, 'A060099006': 490, 'A060099007': 491, 'A080082001': 492, 'A080082002': 493, 'A080082003': 494, 'A080082004': 495, 'A080082005': 496, 'A080082006': 497, 'A060101001': 498, 'A060101002': 499, 'A060101003': 500, 'A060101004': 501, 'A060101005': 502, 'A060101006': 503, 'A060101007': 504, 'A080084001': 505, 'A080084002': 506, 'A080084003': 507, 'A080084004': 508, 'A080084005': 509, 'A080084006': 510, 'A080084007': 511, 'A080084008': 512, 'A060103001': 513, 'A060103002': 514, 'A060103003': 515, 'A060103004': 516, 'A060103005': 517, 'A060103006': 518, 'A060103007': 519, 'A080086001': 520, 'A080086002': 521, 'A080086003': 522, 'A080086004': 523, 'A080086005': 524, 'A080086006': 525, 'A060105001': 526, 'A060105002': 527, 'A060105003': 528, 'A060105004': 529, 'A060105005': 530, 'A060105006': 531, 'A060105007': 532, 'A080088001': 533, 'A080088002': 534, 'A080088003': 535, 'A080088004': 536, 'A080088005': 537, 'A080088006': 538, 'A080088007': 539, 'A080088008': 540, 'A060107001': 541, 'A060107002': 542, 'A060107003': 543, 'A060107004': 544, 'A060107005': 545, 'A060107006': 546, 'A060107007': 547, 'A080090001': 548, 'A080090005': 549, 'A080090006': 550, 'A080090004': 551, 'A080090003': 552, 'A080090002': 553, 'A080092001': 554, 'A080092003': 555, 'A080092002': 556, 'A080092004': 557, 'A080092005': 558, 'A080092008': 559, 'A080092006': 560, 'A080092007': 561, 'A080094001': 562, 'A080094002': 563, 'A080094003': 564, 'A080094004': 565, 'A080094005': 566, 'A080094006': 567, 'A080096008': 568, 'A080096001': 569, 'A080096002': 570, 'A080096003': 571, 'A080096004': 572, 'A080096005': 573, 'A080096006': 574, 'A080096007': 575, 'A080098001': 576, 'A080098002': 577, 'A080098003': 578, 'A080098004': 579, 'A080098005': 580, 'A080098006': 581, 'A080098007': 582, 'A080098008': 583, 'A020172001': 584, 'A020172002': 585, 'A020172003': 586, 'A020172004': 587, 'A020172005': 588, 'A020172006': 589, 'A060121001': 590, 'A060121002': 591, 'A060121003': 592, 'A060121004': 593, 'A060121005': 594, 'A060121006': 595, 'A060121007': 596, 'A080100001': 597, 'A080100002': 598, 'A080100003': 599, 'A080100004': 600, 'A080100005': 601, 'A080100006': 602, 'A080100007': 603, 'A080100008': 604, 'A060123001': 605, 'A060123002': 606, 'A060123003': 607, 'A060123004': 608, 'A060123005': 609, 'A060123006': 610, 'A060123007': 611, 'A060125001': 612, 'A060125002': 613, 'A060125003': 614, 'A060125004': 615, 'A060125005': 616, 'A060125006': 617, 'A060125007': 618, 'A080102001': 619, 'A080102002': 620, 'A080102003': 621, 'A080102004': 622, 'A080102005': 623, 'A080102006': 624, 'A080102007': 625, 'A080102008': 626, 'A020174001': 627, 'A020174002': 628, 'A020174003': 629, 'A020174004': 630, 'A020174005': 631, 'A020181001': 632, 'A020181002': 633, 'A020181003': 634, 'A020181004': 635, 'A020181005': 636, 'A020181006': 637, 'A060127001': 638, 'A060127002': 639, 'A060127003': 640, 'A060127004': 641, 'A060127005': 642, 'A060127006': 643, 'A060127007': 644, 'A060129001': 645, 'A060129002': 646, 'A060129003': 647, 'A060129004': 648, 'A060129005': 649, 'A060129006': 650, 'A060129007': 651, 'A020182001': 652, 'A020182002': 653, 'A020182003': 654, 'A020182004': 655, 'A020182005': 656, 'A060131001': 657, 'A060131002': 658, 'A060131003': 659, 'A060131004': 660, 'A060131005': 661, 'A060131006': 662, 'A060131007': 663, 'A020183001': 664, 'A020183002': 665, 'A020183003': 666, 'A020183004': 667, 'A020183005': 668, 'A020183006': 669, 'A020183007': 670, 'A060119001': 671, 'A060119002': 672, 'A060119003': 673, 'A060119004': 674, 'A060119005': 675, 'A060119006': 676, 'A060115001': 677, 'A060115002': 678, 'A060115003': 679, 'A060115004': 680, 'A060115005': 681, 'A060115006': 682, 'A020192001': 683, 'A020192002': 684, 'A020192003': 685, 'A020192004': 686, 'A020192005': 687, 'A020192006': 688, 'A020192007': 689, 'A080108001': 690, 'A080108002': 691, 'A080108003': 692, 'A080108004': 693, 'A080108005': 694, 'A080108006': 695, 'A080108007': 696, 'A080108008': 697, 'A080112001': 698, 'A080112008': 699, 'A080112002': 700, 'A080112003': 701, 'A080112004': 702, 'A080112005': 703, 'A080112006': 704, 'A080112007': 705, 'A080114001': 706, 'A080114002': 707, 'A080114003': 708, 'A080114004': 709, 'A080114005': 710, 'A080114006': 711, 'A080114007': 712, 'A080114008': 713, 'A080118001': 714, 'A080118002': 715, 'A080118003': 716, 'A080118004': 717, 'A080118005': 718, 'A080118006': 719, 'A080118007': 720, 'A080118008': 721, 'A080120001': 722, 'A080120002': 723, 'A080120003': 724, 'A080120004': 725, 'A080120005': 726, 'A080120006': 727, 'A080128001': 728, 'A080128002': 729, 'A080128003': 730, 'A080128004': 731, 'A080128005': 732, 'A080128006': 733, 'A080128007': 734, 'A080128008': 735, 'A080128009': 736, 'A080128010': 737, 'A080128011': 738, 'A080129001': 739, 'A080129002': 740, 'A080129003': 741, 'A080129004': 742, 'A080129005': 743, 'A080129006': 744, 'A040013001': 745, 'A040013002': 746, 'A040013003': 747, 'A040013004': 748, 'A040013005': 749, 'A040015001': 750, 'A040015002': 751, 'A040015003': 752, 'A040015004': 753, 'A040015005': 754, 'A040017001': 755, 'A040017002': 756, 'A040017003': 757, 'A040017004': 758, 'A040017005': 759, 'A040019001': 760, 'A040019002': 761, 'A040019003': 762, 'A040019004': 763, 'A040019005': 764, 'A040021001': 765, 'A040021002': 766, 'A040021003': 767, 'A040033001': 768, 'A040033002': 769, 'A040033003': 770, 'A040033004': 771, 'A040033005': 772, 'A040035001': 773, 'A040035002': 774, 'A040035003': 775, 'A040035004': 776, 'A040035005': 777, 'A040037001': 778, 'A040037002': 779, 'A040037003': 780, 'A040037004': 781, 'A040037005': 782, 'A040039001': 783, 'A040039002': 784, 'A040039003': 785, 'A040039004': 786, 'A040039005': 787, 'A040041001': 788, 'A040041002': 789, 'A040041003': 790, 'A040041004': 791, 'A040041005': 792, 'A040046001': 793, 'A040046002': 794, 'A040046003': 795, 'A040046004': 796, 'A040046005': 797, 'A040049001': 798, 'A040049002': 799, 'A040049003': 800, 'A040049004': 801, 'A040049005': 802, 'A040051001': 803, 'A040051002': 804, 'A040051003': 805, 'A040051004': 806, 'A040051005': 807, 'A040063001': 808, 'A040063002': 809, 'A040063003': 810, 'A040063004': 811, 'A040063005': 812, 'A040065001': 813, 'A040065002': 814, 'A040065003': 815, 'A040065004': 816, 'A040065005': 817, 'A040058001': 818, 'A040058002': 819, 'A040058003': 820, 'A040058004': 821, 'A040058005': 822, 'A040073001': 823, 'A040073002': 824, 'A040073003': 825, 'A040073004': 826, 'A040073005': 827, 'A040075001': 828, 'A040075002': 829, 'A040075003': 830, 'A040075004': 831, 'A040075005': 832, 'A090001001': 833, 'A090001002': 834, 'A090001003': 835, 'A090001004': 836, 'A090001005': 837, 'A090001006': 838, 'A090001007': 839, 'A090001008': 840, 'A040081001': 841, 'A040081002': 842, 'A040081003': 843, 'A040081004': 844, 'A040081005': 845, 'A090003001': 846, 'A090003002': 847, 'A090003003': 848, 'A090003004': 849, 'A090003005': 850, 'A090003006': 851, 'A090003007': 852, 'A090003008': 853, 'A040083001': 854, 'A040083003': 855, 'A040083002': 856, 'A040083004': 857, 'A040083005': 858, 'A090005001': 859, 'A090005002': 860, 'A090005003': 861, 'A090005004': 862, 'A090005005': 863, 'A090005006': 864, 'A040094001': 865, 'A040094002': 866, 'A040094003': 867, 'A040094004': 868, 'A040094005': 869, 'A090007001': 870, 'A090007002': 871, 'A090007003': 872, 'A090007004': 873, 'A090007005': 874, 'A090007006': 875, 'A040096001': 876, 'A040096002': 877, 'A040096003': 878, 'A040096004': 879, 'A040096005': 880, 'A090009001': 881, 'A090009002': 882, 'A090009003': 883, 'A090009004': 884, 'A090009005': 885, 'A090009006': 886, 'A090009007': 887, 'A090009008': 888, 'A040100001': 889, 'A040100002': 890, 'A040100003': 891, 'A040100004': 892, 'A040100005': 893, 'A090011001': 894, 'A090011002': 895, 'A090011003': 896, 'A090011004': 897, 'A090011005': 898, 'A090011006': 899, 'A090011007': 900, 'A090011008': 901, 'A040088001': 902, 'A040088002': 903, 'A040088003': 904, 'A040088004': 905, 'A040088005': 906, 'A090013001': 907, 'A090013002': 908, 'A090013003': 909, 'A090013004': 910, 'A090013005': 911, 'A090013006': 912, 'A090013007': 913, 'A090013008': 914, 'A040090001': 915, 'A040090002': 916, 'A040090003': 917, 'A040090004': 918, 'A040090005': 919, 'A090014001': 920, 'A090014002': 921, 'A090014003': 922, 'A090014005': 923, 'A090014006': 924, 'A090014004': 925, 'A040092001': 926, 'A040092002': 927, 'A040092003': 928, 'A040092004': 929, 'A040092005': 930, 'A090015001': 931, 'A090015002': 932, 'A090015003': 933, 'A090015004': 934, 'A090015005': 935, 'A090015006': 936, 'A090015007': 937, 'A090015008': 938, 'A040002001': 939, 'A040002002': 940, 'A040002003': 941, 'A040002004': 942, 'A040002005': 943, 'A090016001': 944, 'A090016002': 945, 'A090016003': 946, 'A090016004': 947, 'A090016005': 948, 'A090016006': 949, 'A090016007': 950, 'A090016008': 951, 'A040004001': 952, 'A040004002': 953, 'A040004003': 954, 'A040004004': 955, 'A040004005': 956, 'A090017001': 957, 'A090017002': 958, 'A090017003': 959, 'A090017004': 960, 'A090017005': 961, 'A090017006': 962, 'A040006001': 963, 'A040006002': 964, 'A040006003': 965, 'A040006004': 966, 'A040006005': 967, 'A090018001': 968, 'A090018002': 969, 'A090018003': 970, 'A090018004': 971, 'A090018005': 972, 'A090018006': 973, 'A090018007': 974, 'A090018008': 975, 'A040014001': 976, 'A040014002': 977, 'A040014003': 978, 'A040014004': 979, 'A040014005': 980, 'A090019001': 981, 'A090019002': 982, 'A090019003': 983, 'A090019004': 984, 'A090019005': 985, 'A090019006': 986, 'A090019007': 987, 'A090019008': 988, 'A040016001': 989, 'A040016002': 990, 'A040016003': 991, 'A040016004': 992, 'A040016005': 993, 'A090020001': 994, 'A090020002': 995, 'A090020003': 996, 'A090020004': 997, 'A090020005': 998, 'A090020006': 999, 'A090020007': 1000, 'A090020008': 1001, 'A040018001': 1002, 'A040018002': 1003, 'A040018003': 1004, 'A040018004': 1005, 'A040018005': 1006, 'A090021001': 1007, 'A090021002': 1008, 'A090021003': 1009, 'A090021004': 1010, 'A090021005': 1011, 'A090021006': 1012, 'A090022001': 1013, 'A090022002': 1014, 'A090022003': 1015, 'A090022004': 1016, 'A090022005': 1017, 'A090022006': 1018, 'A090022007': 1019, 'A090022008': 1020, 'A090023001': 1021, 'A090023002': 1022, 'A090023003': 1023, 'A090023004': 1024, 'A090023005': 1025, 'A090023006': 1026, 'A090023007': 1027, 'A090023008': 1028, 'A040022001': 1029, 'A040022002': 1030, 'A040022003': 1031, 'A090024001': 1032, 'A090024002': 1033, 'A090024003': 1034, 'A090024004': 1035, 'A090024005': 1036, 'A090024006': 1037, 'A090024007': 1038, 'A090024008': 1039, 'A040024001': 1040, 'A040024002': 1041, 'A040024003': 1042, 'A040024004': 1043, 'A040024005': 1044, 'A090025001': 1045, 'A090025002': 1046, 'A090025003': 1047, 'A090025004': 1048, 'A090025005': 1049, 'A090025006': 1050, 'A040026001': 1051, 'A040026002': 1052, 'A040026003': 1053, 'A040026004': 1054, 'A040026005': 1055, 'A090026001': 1056, 'A090026002': 1057, 'A090026003': 1058, 'A090026004': 1059, 'A090026005': 1060, 'A090026006': 1061, 'A040034001': 1062, 'A040034002': 1063, 'A040034003': 1064, 'A040034004': 1065, 'A040034005': 1066, 'A090027001': 1067, 'A090027002': 1068, 'A090027003': 1069, 'A090027004': 1070, 'A090027005': 1071, 'A090027006': 1072, 'A040036001': 1073, 'A040036002': 1074, 'A040036003': 1075, 'A040036004': 1076, 'A040036005': 1077, 'A090028001': 1078, 'A090028002': 1079, 'A090028003': 1080, 'A090028004': 1081, 'A090028005': 1082, 'A090028006': 1083, 'A090029002': 1084, 'A090029001': 1085, 'A090029003': 1086, 'A090029004': 1087, 'A090029005': 1088, 'A090029006': 1089, 'A040038001': 1090, 'A040038002': 1091, 'A040038003': 1092, 'A040038004': 1093, 'A040038005': 1094, 'A090030001': 1095, 'A090030002': 1096, 'A090030003': 1097, 'A090030004': 1098, 'A090030005': 1099, 'A090030006': 1100, 'A040040001': 1101, 'A040040002': 1102, 'A040040005': 1103, 'A040040004': 1104, 'A040040003': 1105, 'A090031001': 1106, 'A090031002': 1107, 'A090031003': 1108, 'A090031004': 1109, 'A090031005': 1110, 'A090031006': 1111, 'A090032001': 1112, 'A090032002': 1113, 'A090032003': 1114, 'A090032004': 1115, 'A090032005': 1116, 'A090032006': 1117, 'A040050001': 1118, 'A040050002': 1119, 'A040050003': 1120, 'A040050004': 1121, 'A040050005': 1122, 'A040047001': 1123, 'A040047002': 1124, 'A040047003': 1125, 'A040047004': 1126, 'A040047005': 1127, 'A090033001': 1128, 'A090033002': 1129, 'A090033003': 1130, 'A090033004': 1131, 'A090033006': 1132, 'A090033005': 1133, 'A090034001': 1134, 'A090034002': 1135, 'A090034003': 1136, 'A090034004': 1137, 'A090034005': 1138, 'A090034006': 1139, 'A090034007': 1140, 'A090034008': 1141, 'A040052001': 1142, 'A040052002': 1143, 'A040052003': 1144, 'A040052004': 1145, 'A040052005': 1146, 'A090035001': 1147, 'A090035006': 1148, 'A090035007': 1149, 'A090035008': 1150, 'A090035002': 1151, 'A090035003': 1152, 'A090035004': 1153, 'A090035005': 1154, 'A040054001': 1155, 'A040054003': 1156, 'A040054004': 1157, 'A040054005': 1158, 'A040054002': 1159, 'A090036002': 1160, 'A090036001': 1161, 'A090036003': 1162, 'A090036006': 1163, 'A090036004': 1164, 'A090036005': 1165, 'A040155001': 1166, 'A040155002': 1167, 'A040155003': 1168, 'A040155004': 1169, 'A040155005': 1170, 'A040155006': 1171, 'A040156001': 1172, 'A040156002': 1173, 'A040156003': 1174, 'A040156004': 1175, 'A040156005': 1176, 'A040156006': 1177, 'A090037001': 1178, 'A090037002': 1179, 'A090037003': 1180, 'A090037004': 1181, 'A090037005': 1182, 'A090037006': 1183, 'A090037007': 1184, 'A090037008': 1185, 'A040068001': 1186, 'A040068002': 1187, 'A040068003': 1188, 'A040068004': 1189, 'A040068005': 1190, 'A090038001': 1191, 'A090038002': 1192, 'A090038003': 1193, 'A090038004': 1194, 'A090038005': 1195, 'A090038006': 1196, 'A040157001': 1197, 'A040157002': 1198, 'A040157003': 1199, 'A040157004': 1200, 'A040157005': 1201, 'A040157006': 1202, 'A040070001': 1203, 'A040070002': 1204, 'A040070003': 1205, 'A040070004': 1206, 'A040070005': 1207, 'A040042001': 1208, 'A040042002': 1209, 'A040042003': 1210, 'A040042004': 1211, 'A040042005': 1212, 'A090039001': 1213, 'A090039002': 1214, 'A090039003': 1215, 'A090039004': 1216, 'A090039005': 1217, 'A090039006': 1218, 'A040158001': 1219, 'A040158002': 1220, 'A040158003': 1221, 'A040158004': 1222, 'A040158005': 1223, 'A040158006': 1224, 'A040064001': 1225, 'A040064002': 1226, 'A040064003': 1227, 'A040064004': 1228, 'A040064005': 1229, 'A040066001': 1230, 'A040066002': 1231, 'A040066003': 1232, 'A040066004': 1233, 'A040066005': 1234, 'A040160001': 1235, 'A040160002': 1236, 'A040160003': 1237, 'A040160004': 1238, 'A040160005': 1239, 'A040059001': 1240, 'A040059002': 1241, 'A040059003': 1242, 'A040059004': 1243, 'A040059005': 1244, 'A040161001': 1245, 'A040161002': 1246, 'A040161003': 1247, 'A040161004': 1248, 'A040161005': 1249, 'A040161006': 1250, 'A040161007': 1251, 'A040162001': 1252, 'A040162002': 1253, 'A040162003': 1254, 'A040162004': 1255, 'A040074001': 1256, 'A040074002': 1257, 'A040074003': 1258, 'A040074004': 1259, 'A040163001': 1260, 'A040163002': 1261, 'A040163003': 1262, 'A040163004': 1263, 'A040163005': 1264, 'A040076001': 1265, 'A040076002': 1266, 'A040076003': 1267, 'A040076004': 1268, 'A040076005': 1269, 'A040164001': 1270, 'A040164002': 1271, 'A040164003': 1272, 'A040164004': 1273, 'A040164005': 1274, 'A040082001': 1275, 'A040082002': 1276, 'A040082003': 1277, 'A040082004': 1278, 'A040082005': 1279, 'A040103001': 1280, 'A040103002': 1281, 'A040103003': 1282, 'A040103004': 1283, 'A040103005': 1284, 'A040103006': 1285, 'A040165001': 1286, 'A040165002': 1287, 'A040165003': 1288, 'A040165004': 1289, 'A040104001': 1290, 'A040104002': 1291, 'A040104003': 1292, 'A040104004': 1293, 'A040104005': 1294, 'A040104006': 1295, 'A040184001': 1296, 'A040184002': 1297, 'A040184003': 1298, 'A040184004': 1299, 'A040184005': 1300, 'A040184006': 1301, 'A040184007': 1302, 'A040184008': 1303, 'A040184009': 1304, 'A040184010': 1305, 'A040184011': 1306, 'A040184012': 1307, 'A040184013': 1308, 'A040106001': 1309, 'A040106002': 1310, 'A040106003': 1311, 'A040106004': 1312, 'A040106005': 1313, 'A040106006': 1314, 'A040107001': 1315, 'A040107002': 1316, 'A040107003': 1317, 'A040107004': 1318, 'A040107005': 1319, 'A040107006': 1320, 'A040185001': 1321, 'A040185002': 1322, 'A040185003': 1323, 'A040185004': 1324, 'A040185005': 1325, 'A040185006': 1326, 'A040185007': 1327, 'A040108001': 1328, 'A040108002': 1329, 'A040108003': 1330, 'A040108004': 1331, 'A040108005': 1332, 'A040108006': 1333, 'A040131001': 1334, 'A040131002': 1335, 'A040131003': 1336, 'A040131004': 1337, 'A040131005': 1338, 'A040186001': 1339, 'A040186002': 1340, 'A040186003': 1341, 'A040186004': 1342, 'A040186005': 1343, 'A040132001': 1344, 'A040132002': 1345, 'A040132003': 1346, 'A040132004': 1347, 'A040133001': 1348, 'A040133002': 1349, 'A040133003': 1350, 'A040133004': 1351, 'A040134001': 1352, 'A040134002': 1353, 'A040134003': 1354, 'A040134004': 1355, 'A040134005': 1356, 'A040195001': 1357, 'A040195002': 1358, 'A040195003': 1359, 'A040195004': 1360, 'A040195005': 1361, 'A040195006': 1362, 'A040195007': 1363, 'A040135001': 1364, 'A040135002': 1365, 'A040135003': 1366, 'A040135004': 1367, 'A040196001': 1368, 'A040196002': 1369, 'A040196003': 1370, 'A040196004': 1371, 'A040196005': 1372, 'A040152001': 1373, 'A040152002': 1374, 'A040152003': 1375, 'A040152004': 1376, 'A040152005': 1377, 'A040152006': 1378, 'A040153001': 1379, 'A040153002': 1380, 'A040153003': 1381, 'A040153004': 1382, 'A040153005': 1383, 'A040153006': 1384, 'A040154001': 1385, 'A040154002': 1386, 'A040154003': 1387, 'A040154004': 1388, 'A040154005': 1389, 'A040154006': 1390, 'A040197001': 1391, 'A040197002': 1392, 'A040197003': 1393, 'A040197004': 1394, 'A040197005': 1395, 'A040197006': 1396, 'A040198001': 1397, 'A040198002': 1398, 'A040198003': 1399, 'A040198004': 1400, 'A040159001': 1401, 'A040159002': 1402, 'A040159003': 1403, 'A040159004': 1404, 'A040159005': 1405, 'A040159006': 1406, 'A090043001': 1407, 'A090043002': 1408, 'A090043003': 1409, 'A090043004': 1410, 'A090043005': 1411, 'A090043006': 1412, 'A090043007': 1413, 'A090043008': 1414, 'A090044001': 1415, 'A090044002': 1416, 'A090044003': 1417, 'A090044004': 1418, 'A090044005': 1419, 'A090044006': 1420, 'A090044007': 1421, 'A090044008': 1422, 'A090045001': 1423, 'A090045002': 1424, 'A090045003': 1425, 'A090045004': 1426, 'A090045005': 1427, 'A090045006': 1428, 'A040109001': 1429, 'A040109002': 1430, 'A040109003': 1431, 'A040109004': 1432, 'A040109005': 1433, 'A090046001': 1434, 'A090046002': 1435, 'A090046003': 1436, 'A090046004': 1437, 'A090046005': 1438, 'A090046006': 1439, 'A040111001': 1440, 'A040111002': 1441, 'A040111003': 1442, 'A040111004': 1443, 'A040111005': 1444, 'A090047001': 1445, 'A090047002': 1446, 'A090047003': 1447, 'A090047004': 1448, 'A090047005': 1449, 'A090047006': 1450, 'A090047007': 1451, 'A090047008': 1452, 'A040113001': 1453, 'A040113002': 1454, 'A040113003': 1455, 'A040113004': 1456, 'A040113005': 1457, 'A040115001': 1458, 'A040115002': 1459, 'A040115003': 1460, 'A040115004': 1461, 'A040115005': 1462, 'A090048001': 1463, 'A090048004': 1464, 'A090048003': 1465, 'A090048002': 1466, 'A090048005': 1467, 'A090048006': 1468, 'A040117001': 1469, 'A040117002': 1470, 'A040117003': 1471, 'A040117004': 1472, 'A040117005': 1473, 'A090049001': 1474, 'A090049004': 1475, 'A090049002': 1476, 'A090049003': 1477, 'A090049005': 1478, 'A090049006': 1479, 'A040119001': 1480, 'A040119002': 1481, 'A040119003': 1482, 'A040119004': 1483, 'A040119005': 1484, 'A090050001': 1485, 'A090050004': 1486, 'A090050002': 1487, 'A090050003': 1488, 'A090050005': 1489, 'A090050006': 1490, 'A040121001': 1491, 'A040121002': 1492, 'A040121003': 1493, 'A040121004': 1494, 'A040121005': 1495, 'A090051001': 1496, 'A090051002': 1497, 'A090051003': 1498, 'A090051004': 1499, 'A090051005': 1500, 'A090051006': 1501, 'A090051007': 1502, 'A090051008': 1503, 'A040123001': 1504, 'A040123002': 1505, 'A040123003': 1506, 'A040123004': 1507, 'A040123005': 1508, 'A040125001': 1509, 'A040125002': 1510, 'A040125003': 1511, 'A040125004': 1512, 'A040125005': 1513, 'A090052001': 1514, 'A090052004': 1515, 'A090052005': 1516, 'A090052003': 1517, 'A090052002': 1518, 'A090052006': 1519, 'A040127001': 1520, 'A040127002': 1521, 'A040127003': 1522, 'A040127004': 1523, 'A040127005': 1524, 'A090053001': 1525, 'A090053002': 1526, 'A090053003': 1527, 'A090053004': 1528, 'A090053005': 1529, 'A090053006': 1530, 'A040129001': 1531, 'A040129002': 1532, 'A040129003': 1533, 'A040129004': 1534, 'A040129005': 1535, 'A090054001': 1536, 'A090054002': 1537, 'A090054003': 1538, 'A090054004': 1539, 'A090054005': 1540, 'A090054006': 1541, 'A090054008': 1542, 'A090054007': 1543, 'A040136001': 1544, 'A040136002': 1545, 'A040136003': 1546, 'A040136004': 1547, 'A040136005': 1548, 'A040138001': 1549, 'A040138002': 1550, 'A040138003': 1551, 'A040138004': 1552, 'A040138005': 1553, 'A040140001': 1554, 'A040140002': 1555, 'A040140003': 1556, 'A040140004': 1557, 'A040140005': 1558, 'A040142001': 1559, 'A040142002': 1560, 'A040142003': 1561, 'A040142004': 1562, 'A040142005': 1563, 'A040144001': 1564, 'A040144002': 1565, 'A040144003': 1566, 'A040144004': 1567, 'A040144005': 1568, 'A040146001': 1569, 'A040146002': 1570, 'A040146003': 1571, 'A040146004': 1572, 'A040146005': 1573, 'A040148001': 1574, 'A040148002': 1575, 'A040148003': 1576, 'A040148004': 1577, 'A040148005': 1578, 'A040150001': 1579, 'A040150002': 1580, 'A040150003': 1581, 'A040150004': 1582, 'A040150005': 1583, 'A090069001': 1584, 'A090069002': 1585, 'A090069003': 1586, 'A090069004': 1587, 'A090069005': 1588, 'A090069006': 1589, 'A090070001': 1590, 'A090070002': 1591, 'A090070003': 1592, 'A090070004': 1593, 'A090070006': 1594, 'A090070005': 1595, 'A090070007': 1596, 'A090070008': 1597, 'A090071001': 1598, 'A090071002': 1599, 'A090071003': 1600, 'A090071004': 1601, 'A090071005': 1602, 'A090071006': 1603, 'A090071007': 1604, 'A090071008': 1605, 'A090072001': 1606, 'A090072002': 1607, 'A090072003': 1608, 'A090072004': 1609, 'A090072005': 1610, 'A090072006': 1611, 'A090073001': 1612, 'A090073002': 1613, 'A090073003': 1614, 'A090073004': 1615, 'A090073005': 1616, 'A090073006': 1617, 'A090074001': 1618, 'A090074004': 1619, 'A090074002': 1620, 'A090074003': 1621, 'A090074005': 1622, 'A090074006': 1623, 'A030050001': 1624, 'A030050002': 1625, 'A030050003': 1626, 'A030050004': 1627, 'A030050005': 1628, 'A030001001': 1629, 'A030001002': 1630, 'A030001003': 1631, 'A030001004': 1632, 'A030001005': 1633, 'A030014001': 1634, 'A030014002': 1635, 'A030014003': 1636, 'A030014004': 1637, 'A030014005': 1638, 'A030003001': 1639, 'A030003002': 1640, 'A030003003': 1641, 'A030003004': 1642, 'A030003005': 1643, 'A030021001': 1644, 'A030021002': 1645, 'A030021003': 1646, 'A030021004': 1647, 'A030021005': 1648, 'A030019001': 1649, 'A030019002': 1650, 'A030019003': 1651, 'A030019004': 1652, 'A030019005': 1653, 'A050006001': 1654, 'A050006002': 1655, 'A050006004': 1656, 'A050006005': 1657, 'A050006006': 1658, 'A050006003': 1659, 'A050006007': 1660, 'A030023001': 1661, 'A030023002': 1662, 'A030023003': 1663, 'A030023004': 1664, 'A030023005': 1665, 'A030028001': 1666, 'A030028002': 1667, 'A030028003': 1668, 'A030028004': 1669, 'A030028005': 1670, 'A050010001': 1671, 'A050010002': 1672, 'A050010003': 1673, 'A050010004': 1674, 'A050010005': 1675, 'A050010006': 1676, 'A050010007': 1677, 'A030040001': 1678, 'A030040003': 1679, 'A030040002': 1680, 'A030040004': 1681, 'A030040005': 1682, 'A030042001': 1683, 'A030042002': 1684, 'A030042003': 1685, 'A030042004': 1686, 'A030042005': 1687, 'A030036001': 1688, 'A030036002': 1689, 'A030036003': 1690, 'A030036004': 1691, 'A030036005': 1692, 'A030046001': 1693, 'A030046002': 1694, 'A030046003': 1695, 'A030046004': 1696, 'A030046005': 1697, 'A050027001': 1698, 'A050027002': 1699, 'A050027003': 1700, 'A050027004': 1701, 'A050027005': 1702, 'A050027006': 1703, 'A050027007': 1704, 'A050046001': 1705, 'A050046002': 1706, 'A050046003': 1707, 'A050046004': 1708, 'A050046005': 1709, 'A050046006': 1710, 'A050046007': 1711, 'A050048001': 1712, 'A050048002': 1713, 'A050048003': 1714, 'A050048005': 1715, 'A050048004': 1716, 'A050048006': 1717, 'A050048007': 1718, 'A050050001': 1719, 'A050050002': 1720, 'A050050003': 1721, 'A050050004': 1722, 'A050050005': 1723, 'A050050006': 1724, 'A050050007': 1725, 'A050059001': 1726, 'A050059002': 1727, 'A050059003': 1728, 'A050059004': 1729, 'A050059005': 1730, 'A050059006': 1731, 'A050059007': 1732, 'A050061002': 1733, 'A050061003': 1734, 'A050061004': 1735, 'A050061005': 1736, 'A050061007': 1737, 'A050061006': 1738, 'A050061001': 1739, 'A050065001': 1740, 'A050065002': 1741, 'A050065003': 1742, 'A050065004': 1743, 'A050065005': 1744, 'A050065006': 1745, 'A050065007': 1746, 'A030009001': 1747, 'A030009002': 1748, 'A030009003': 1749, 'A030009004': 1750, 'A030009005': 1751, 'A030009006': 1752, 'A030018001': 1753, 'A030018002': 1754, 'A030018003': 1755, 'A030018004': 1756, 'A030018005': 1757, 'A030018006': 1758, 'A030007001': 1759, 'A030007002': 1760, 'A030007003': 1761, 'A030007004': 1762, 'A030007005': 1763, 'A030007006': 1764, 'A050069001': 1765, 'A050069002': 1766, 'A050069003': 1767, 'A050069004': 1768, 'A050069005': 1769, 'A050069006': 1770, 'A050069007': 1771, 'A030008001': 1772, 'A030008002': 1773, 'A030008003': 1774, 'A030008004': 1775, 'A030008005': 1776, 'A030008006': 1777, 'A030025001': 1778, 'A030025002': 1779, 'A030025003': 1780, 'A030025004': 1781, 'A030025005': 1782, 'A030026001': 1783, 'A030026002': 1784, 'A030026004': 1785, 'A030026005': 1786, 'A030027001': 1787, 'A030027002': 1788, 'A030027003': 1789, 'A030027005': 1790, 'A030075001': 1791, 'A030075002': 1792, 'A030075003': 1793, 'A030075004': 1794, 'A030075005': 1795, 'A030032001': 1796, 'A030032002': 1797, 'A030032003': 1798, 'A030032004': 1799, 'A030032005': 1800, 'A030033001': 1801, 'A030033002': 1802, 'A030033003': 1803, 'A030033004': 1804, 'A030033005': 1805, 'A030033006': 1806, 'A030033007': 1807, 'A030033008': 1808, 'A030033009': 1809, 'A030033010': 1810, 'A030044001': 1811, 'A030044002': 1812, 'A030044003': 1813, 'A030044004': 1814, 'A030044005': 1815, 'A030044006': 1816, 'A030045001': 1817, 'A030045002': 1818, 'A030045003': 1819, 'A030045004': 1820, 'A030045005': 1821, 'A050089001': 1822, 'A050089002': 1823, 'A050089003': 1824, 'A050089004': 1825, 'A050089005': 1826, 'A050089006': 1827, 'A050089007': 1828, 'A030119001': 1829, 'A030119002': 1830, 'A030119003': 1831, 'A030119004': 1832, 'A030119005': 1833, 'A030123001': 1834, 'A030123002': 1835, 'A030123003': 1836, 'A030123004': 1837, 'A030123005': 1838, 'A030117001': 1839, 'A030117002': 1840, 'A030117003': 1841, 'A030117004': 1842, 'A030117005': 1843, 'A030137001': 1844, 'A030137002': 1845, 'A030137003': 1846, 'A030137004': 1847, 'A030137005': 1848, 'A030139001': 1849, 'A030139002': 1850, 'A030139003': 1851, 'A030139004': 1852, 'A030139005': 1853, 'A030141001': 1854, 'A030141002': 1855, 'A030141003': 1856, 'A030141004': 1857, 'A030141005': 1858, 'A030149001': 1859, 'A030149002': 1860, 'A030149003': 1861, 'A030149004': 1862, 'A030149005': 1863, 'A030151001': 1864, 'A030151002': 1865, 'A030151003': 1866, 'A030151004': 1867, 'A030151005': 1868, 'A030153001': 1869, 'A030153002': 1870, 'A030153003': 1871, 'A030153004': 1872, 'A030153005': 1873, 'A050131001': 1874, 'A050131002': 1875, 'A050131003': 1876, 'A050131004': 1877, 'A050131005': 1878, 'A050131006': 1879, 'A050131007': 1880, 'A030155001': 1881, 'A030155002': 1882, 'A030155003': 1883, 'A030155004': 1884, 'A030155005': 1885, 'A050137001': 1886, 'A050137002': 1887, 'A050137003': 1888, 'A050137004': 1889, 'A050137005': 1890, 'A050137006': 1891, 'A050137007': 1892, 'A050139001': 1893, 'A050139002': 1894, 'A050139003': 1895, 'A050139004': 1896, 'A050139005': 1897, 'A050139006': 1898, 'A050139007': 1899, 'A080001001': 1900, 'A080001002': 1901, 'A080001003': 1902, 'A080001004': 1903, 'A080001005': 1904, 'A080001006': 1905, 'A080003001': 1906, 'A080003002': 1907, 'A080003003': 1908, 'A080003004': 1909, 'A080003005': 1910, 'A080003006': 1911, 'A080003007': 1912, 'A080003008': 1913, 'A080005001': 1914, 'A080005002': 1915, 'A080005003': 1916, 'A080005004': 1917, 'A080005005': 1918, 'A080005006': 1919, 'A080005007': 1920, 'A080005008': 1921, 'A080007001': 1922, 'A080007002': 1923, 'A080007003': 1924, 'A080007004': 1925, 'A080007005': 1926, 'A080007006': 1927, 'A080007007': 1928, 'A080007008': 1929, 'A080009001': 1930, 'A080009002': 1931, 'A080009003': 1932, 'A080009004': 1933, 'A080009005': 1934, 'A080009006': 1935, 'A080009007': 1936, 'A080009008': 1937, 'A080011001': 1938, 'A080011002': 1939, 'A080011003': 1940, 'A080011004': 1941, 'A080011005': 1942, 'A080011006': 1943, 'A080011008': 1944, 'A080011007': 1945, 'A080013001': 1946, 'A080013002': 1947, 'A080013003': 1948, 'A080013004': 1949, 'A080013005': 1950, 'A080013006': 1951, 'A080013007': 1952, 'A080013008': 1953, 'A080015001': 1954, 'A080015002': 1955, 'A080015003': 1956, 'A080015004': 1957, 'A080015005': 1958, 'A080015007': 1959, 'A080015006': 1960, 'A080015008': 1961, 'A080017001': 1962, 'A080017002': 1963, 'A080017003': 1964, 'A080017004': 1965, 'A080017005': 1966, 'A080017006': 1967, 'A080017007': 1968, 'A080017008': 1969, 'A080019001': 1970, 'A080019002': 1971, 'A080019003': 1972, 'A080019004': 1973, 'A080019005': 1974, 'A080019006': 1975, 'A080019007': 1976, 'A080019008': 1977, 'A080021001': 1978, 'A080021002': 1979, 'A080021003': 1980, 'A080021004': 1981, 'A080021005': 1982, 'A080021006': 1983, 'A080023001': 1984, 'A080023002': 1985, 'A080023003': 1986, 'A080023004': 1987, 'A080023005': 1988, 'A080023006': 1989, 'A080025001': 1990, 'A080025002': 1991, 'A080025003': 1992, 'A080025004': 1993, 'A080025005': 1994, 'A080025006': 1995, 'A080025007': 1996, 'A080025008': 1997, 'A080026001': 1998, 'A080026002': 1999, 'A080026003': 2000, 'A080026004': 2001, 'A080026005': 2002, 'A080026006': 2003, 'A080026007': 2004, 'A080026008': 2005, 'A080027001': 2006, 'A080027002': 2007, 'A080027003': 2008, 'A080027004': 2009, 'A080027005': 2010, 'A080027006': 2011, 'A080027007': 2012, 'A080027008': 2013, 'A080028001': 2014, 'A080028002': 2015, 'A080028003': 2016, 'A080028004': 2017, 'A080028005': 2018, 'A080028006': 2019, 'A080028008': 2020, 'A080028007': 2021, 'A080029001': 2022, 'A080029002': 2023, 'A080029003': 2024, 'A080029004': 2025, 'A080029005': 2026, 'A080029006': 2027, 'A080029007': 2028, 'A080029008': 2029, 'A080030001': 2030, 'A080030002': 2031, 'A080030003': 2032, 'A080030004': 2033, 'A080030005': 2034, 'A080030006': 2035, 'A080031001': 2036, 'A080031002': 2037, 'A080031003': 2038, 'A080031004': 2039, 'A080031005': 2040, 'A080031006': 2041, 'A080032001': 2042, 'A080032002': 2043, 'A080032005': 2044, 'A080032003': 2045, 'A080032004': 2046, 'A080032006': 2047, 'A080032007': 2048, 'A080032008': 2049, 'A080033001': 2050, 'A080033002': 2051, 'A080033003': 2052, 'A080033004': 2053, 'A080033005': 2054, 'A080033006': 2055, 'A080033007': 2056, 'A080033008': 2057, 'A080034001': 2058, 'A080034002': 2059, 'A080034003': 2060, 'A080034004': 2061, 'A080034005': 2062, 'A080034006': 2063, 'A080034008': 2064, 'A080034007': 2065, 'A080045001': 2066, 'A080045002': 2067, 'A080045003': 2068, 'A080045004': 2069, 'A080045005': 2070, 'A080045006': 2071, 'A080045007': 2072, 'A080045008': 2073, 'A080047001': 2074, 'A080047002': 2075, 'A080047003': 2076, 'A080047004': 2077, 'A080047005': 2078, 'A080047006': 2079, 'A080047007': 2080, 'A080047008': 2081, 'A080049001': 2082, 'A080049002': 2083, 'A080049003': 2084, 'A080049004': 2085, 'A080049005': 2086, 'A080049006': 2087, 'A080049007': 2088, 'A080049008': 2089, 'A080051001': 2090, 'A080051002': 2091, 'A080051003': 2092, 'A080051004': 2093, 'A080051005': 2094, 'A080051006': 2095, 'A010018001': 2096, 'A010018002': 2097, 'A010018003': 2098, 'A010018004': 2099, 'A010018005': 2100, 'A010018006': 2101, 'A010018007': 2102, 'A010018008': 2103, 'A010019001': 2104, 'A010019002': 2105, 'A010019003': 2106, 'A010019004': 2107, 'A010019005': 2108, 'A080053001': 2109, 'A080053002': 2110, 'A080053003': 2111, 'A080053004': 2112, 'A080053006': 2113, 'A080053005': 2114, 'A080055001': 2115, 'A080055004': 2116, 'A080055002': 2117, 'A080055003': 2118, 'A080055005': 2119, 'A080055006': 2120, 'A080055007': 2121, 'A080055008': 2122, 'A010020001': 2123, 'A010020002': 2124, 'A010020004': 2125, 'A010020003': 2126, 'A010021001': 2127, 'A010021002': 2128, 'A010021003': 2129, 'A010021004': 2130, 'A010021005': 2131, 'A010021006': 2132, 'A080057001': 2133, 'A080057002': 2134, 'A080057003': 2135, 'A080057004': 2136, 'A080057005': 2137, 'A080057006': 2138, 'A080057007': 2139, 'A080057008': 2140, 'A080059001': 2141, 'A080059002': 2142, 'A080059005': 2143, 'A080059003': 2144, 'A080059004': 2145, 'A080059006': 2146, 'A080061001': 2147, 'A080061002': 2148, 'A080061003': 2149, 'A080061004': 2150, 'A080061005': 2151, 'A080061006': 2152, 'A080063001': 2153, 'A080063002': 2154, 'A080063003': 2155, 'A080063004': 2156, 'A080063005': 2157, 'A080063006': 2158, 'A080063007': 2159, 'A080063008': 2160, 'A010027001': 2161, 'A010027002': 2162, 'A010027003': 2163, 'A080065001': 2164, 'A080065002': 2165, 'A080065003': 2166, 'A080065004': 2167, 'A080065005': 2168, 'A080065006': 2169, 'A080065007': 2170, 'A080065008': 2171, 'A080067001': 2172, 'A080067002': 2173, 'A080067003': 2174, 'A080067004': 2175, 'A080067005': 2176, 'A080067006': 2177, 'A080067007': 2178, 'A080067008': 2179, 'A010050004': 2180, 'A010050005': 2181, 'A010050006': 2182, 'A010050001': 2183, 'A010050003': 2184, 'A080069001': 2185, 'A080069002': 2186, 'A080069003': 2187, 'A080069004': 2188, 'A080069005': 2189, 'A080069006': 2190, 'A080069007': 2191, 'A080069008': 2192, 'A080071001': 2193, 'A080071002': 2194, 'A080071003': 2195, 'A080071004': 2196, 'A080071005': 2197, 'A080071006': 2198, 'A080071007': 2199, 'A080071008': 2200, 'A080073001': 2201, 'A080073002': 2202, 'A080073003': 2203, 'A080073004': 2204, 'A080073005': 2205, 'A080073006': 2206, 'A080073007': 2207, 'A080073008': 2208, 'A080075001': 2209, 'A080075002': 2210, 'A080075003': 2211, 'A080075004': 2212, 'A080075005': 2213, 'A080075006': 2214, 'A080075008': 2215, 'A080075007': 2216, 'A010054001': 2217, 'A010054002': 2218, 'A010054003': 2219, 'A010054004': 2220, 'A010060001': 2221, 'A010060002': 2222, 'A010060003': 2223, 'A010060004': 2224, 'A010060005': 2225, 'A010060006': 2226, 'A010060007': 2227, 'A010057001': 2228, 'A010057002': 2229, 'A010057003': 2230, 'A010057004': 2231, 'A010057005': 2232, 'A010058001': 2233, 'A010058002': 2234, 'A010058003': 2235, 'A010058004': 2236, 'A010072001': 2237, 'A010072002': 2238, 'A010072003': 2239, 'A010072004': 2240, 'A010072005': 2241, 'A010072006': 2242, 'A010076001': 2243, 'A010076002': 2244, 'A010076003': 2245, 'A010076004': 2246, 'A010076005': 2247, 'A010075001': 2248, 'A010075002': 2249, 'A010075003': 2250, 'A010075004': 2251, 'A010075005': 2252, 'A010075006': 2253, 'A010073001': 2254, 'A010073002': 2255, 'A010073003': 2256, 'A010073004': 2257, 'A010073005': 2258, 'A010073006': 2259, 'A010074001': 2260, 'A010074002': 2261, 'A010074003': 2262, 'A010074004': 2263, 'A010074005': 2264, 'A010074006': 2265, 'A010010001': 2266, 'A010010002': 2267, 'A010010003': 2268, 'A010010004': 2269, 'A010010005': 2270, 'A010014001': 2271, 'A010014002': 2272, 'A010014003': 2273, 'A010014004': 2274, 'A010014005': 2275, 'A080077001': 2276, 'A080077002': 2277, 'A080077003': 2278, 'A080077004': 2279, 'A080077005': 2280, 'A080077006': 2281, 'A080077007': 2282, 'A080077008': 2283, 'A010037001': 2284, 'A010037002': 2285, 'A010037003': 2286, 'A010037004': 2287, 'A010037005': 2288, 'A080079001': 2289, 'A080079002': 2290, 'A080079003': 2291, 'A080079004': 2292, 'A080079005': 2293, 'A080079008': 2294, 'A080079006': 2295, 'A080079007': 2296, 'A010045001': 2297, 'A010045002': 2298, 'A010045003': 2299, 'A010045004': 2300, 'A010045005': 2301, 'A080081001': 2302, 'A080081002': 2303, 'A080081003': 2304, 'A080081004': 2305, 'A080081005': 2306, 'A080081006': 2307, 'A010049001': 2308, 'A010049002': 2309, 'A010049003': 2310, 'A010049004': 2311, 'A010049005': 2312, 'A010068001': 2313, 'A010068002': 2314, 'A010068003': 2315, 'A010068004': 2316, 'A010068005': 2317, 'A080083001': 2318, 'A080083002': 2319, 'A080083003': 2320, 'A080083004': 2321, 'A080083005': 2322, 'A080083006': 2323, 'A080083007': 2324, 'A080083008': 2325, 'A010078001': 2326, 'A010078002': 2327, 'A010078003': 2328, 'A010078004': 2329, 'A010078005': 2330, 'A010079001': 2331, 'A010079002': 2332, 'A010079003': 2333, 'A010079004': 2334, 'A010079005': 2335, 'A080085001': 2336, 'A080085002': 2337, 'A080085003': 2338, 'A080085004': 2339, 'A080085005': 2340, 'A080085006': 2341, 'A010084001': 2342, 'A010084002': 2343, 'A010084003': 2344, 'A010084004': 2345, 'A010084005': 2346, 'A010086001': 2347, 'A010086002': 2348, 'A010086003': 2349, 'A010086004': 2350, 'A010086005': 2351, 'A010088001': 2352, 'A010088002': 2353, 'A010088003': 2354, 'A010088004': 2355, 'A010088005': 2356, 'A080087001': 2357, 'A080087002': 2358, 'A080087003': 2359, 'A080087004': 2360, 'A080087005': 2361, 'A080087006': 2362, 'A080087007': 2363, 'A080087008': 2364, 'A080089001': 2365, 'A080089002': 2366, 'A080089003': 2367, 'A080089004': 2368, 'A080089005': 2369, 'A080089006': 2370, 'A010107001': 2371, 'A010107002': 2372, 'A010107003': 2373, 'A010107004': 2374, 'A010107005': 2375, 'A010107006': 2376, 'A080091001': 2377, 'A080091002': 2378, 'A080091003': 2379, 'A080091004': 2380, 'A080091005': 2381, 'A080091006': 2382, 'A080091007': 2383, 'A080091008': 2384, 'A060108007': 2385, 'A060108001': 2386, 'A060108002': 2387, 'A060108003': 2388, 'A060108004': 2389, 'A060108005': 2390, 'A060108006': 2391, 'A060124001': 2392, 'A060124002': 2393, 'A060124003': 2394, 'A060124004': 2395, 'A060124005': 2396, 'A060124006': 2397, 'A060124007': 2398, 'A080093001': 2399, 'A080093002': 2400, 'A080093003': 2401, 'A080093004': 2402, 'A080093005': 2403, 'A080093006': 2404, 'A060126001': 2405, 'A060126002': 2406, 'A060126004': 2407, 'A060126005': 2408, 'A060126006': 2409, 'A060126007': 2410, 'A060126003': 2411, 'A010110001': 2412, 'A010110002': 2413, 'A010110003': 2414, 'A010110004': 2415, 'A010110005': 2416, 'A060128001': 2417, 'A060128002': 2418, 'A060128003': 2419, 'A060128004': 2420, 'A060128005': 2421, 'A060128007': 2422, 'A060128006': 2423, 'A080095001': 2424, 'A080095002': 2425, 'A080095003': 2426, 'A080095004': 2427, 'A080095005': 2428, 'A080095006': 2429, 'A080095007': 2430, 'A080095008': 2431, 'A060130001': 2432, 'A060130002': 2433, 'A060130003': 2434, 'A060130004': 2435, 'A060130006': 2436, 'A060130007': 2437, 'A060130005': 2438, 'A080097001': 2439, 'A080097002': 2440, 'A080097003': 2441, 'A080097004': 2442, 'A080097005': 2443, 'A080097006': 2444, 'A080097007': 2445, 'A080097008': 2446, 'A060132001': 2447, 'A060132002': 2448, 'A060132003': 2449, 'A060132004': 2450, 'A060132005': 2451, 'A060132006': 2452, 'A060132007': 2453, 'A060134001': 2454, 'A060134002': 2455, 'A060134003': 2456, 'A060134004': 2457, 'A060134005': 2458, 'A060134006': 2459, 'A060134007': 2460, 'A080099001': 2461, 'A080099002': 2462, 'A080099003': 2463, 'A080099004': 2464, 'A080099005': 2465, 'A080099006': 2466, 'A080099007': 2467, 'A080099008': 2468, 'A080101001': 2469, 'A080101002': 2470, 'A080101003': 2471, 'A080101004': 2472, 'A080101005': 2473, 'A080101006': 2474, 'A080101007': 2475, 'A080101008': 2476, 'A060136005': 2477, 'A060136006': 2478, 'A060136001': 2479, 'A060136002': 2480, 'A060136003': 2481, 'A060136004': 2482, 'A060136007': 2483, 'A060138001': 2484, 'A060138002': 2485, 'A060138003': 2486, 'A060138004': 2487, 'A060138005': 2488, 'A060138006': 2489, 'A060138007': 2490, 'A080103001': 2491, 'A080103002': 2492, 'A080103003': 2493, 'A080103004': 2494, 'A080103005': 2495, 'A080103006': 2496, 'A080103007': 2497, 'A080103008': 2498, 'A060140001': 2499, 'A060140002': 2500, 'A060140003': 2501, 'A060140004': 2502, 'A060140005': 2503, 'A060140006': 2504, 'A060140007': 2505, 'A080105001': 2506, 'A080105002': 2507, 'A080105003': 2508, 'A080105004': 2509, 'A080105005': 2510, 'A080105006': 2511, 'A080105007': 2512, 'A080105008': 2513, 'A080107001': 2514, 'A080107002': 2515, 'A080107003': 2516, 'A080107004': 2517, 'A080107005': 2518, 'A080107008': 2519, 'A080107006': 2520, 'A080107007': 2521, 'A010154001': 2522, 'A010154002': 2523, 'A010154003': 2524, 'A010154004': 2525, 'A080109001': 2526, 'A080109002': 2527, 'A080109003': 2528, 'A080109004': 2529, 'A080109005': 2530, 'A080109006': 2531, 'A080109008': 2532, 'A080109007': 2533, 'A080111001': 2534, 'A080111002': 2535, 'A080111003': 2536, 'A080111004': 2537, 'A080111005': 2538, 'A080111006': 2539, 'A080111007': 2540, 'A080111008': 2541, 'A080113001': 2542, 'A080113002': 2543, 'A080113003': 2544, 'A080113004': 2545, 'A080113005': 2546, 'A080113006': 2547, 'A080113007': 2548, 'A080113008': 2549, 'A080115001': 2550, 'A080115002': 2551, 'A080115003': 2552, 'A080115004': 2553, 'A080115005': 2554, 'A080115006': 2555, 'A080115007': 2556, 'A080115008': 2557, 'A080117001': 2558, 'A080117002': 2559, 'A080117003': 2560, 'A080117004': 2561, 'A080117005': 2562, 'A080117006': 2563, 'A080117007': 2564, 'A080117008': 2565, 'A080119001': 2566, 'A080119002': 2567, 'A080119003': 2568, 'A080119004': 2569, 'A080119005': 2570, 'A080119006': 2571, 'A080121002': 2572, 'A080121001': 2573, 'A080121003': 2574, 'A080121004': 2575, 'A080121005': 2576, 'A080121006': 2577, 'A080121007': 2578, 'A080121008': 2579, 'A080122001': 2580, 'A080122002': 2581, 'A080122003': 2582, 'A080122004': 2583, 'A080122006': 2584, 'A080122005': 2585, 'A080123001': 2586, 'A080123002': 2587, 'A080123003': 2588, 'A080123004': 2589, 'A080123005': 2590, 'A080123006': 2591, 'A080123007': 2592, 'A080123008': 2593, 'A080124001': 2594, 'A080124002': 2595, 'A080124003': 2596, 'A080124004': 2597, 'A080124005': 2598, 'A080124006': 2599, 'A080124007': 2600, 'A080124008': 2601, 'A080125001': 2602, 'A080125002': 2603, 'A080125003': 2604, 'A080125004': 2605, 'A080125005': 2606, 'A080125006': 2607, 'A080125007': 2608, 'A080125008': 2609, 'A080126002': 2610, 'A080126003': 2611, 'A080126006': 2612, 'A080126007': 2613, 'A080126001': 2614, 'A080126004': 2615, 'A080126008': 2616, 'A080126005': 2617, 'A080127001': 2618, 'A080127002': 2619, 'A080127003': 2620, 'A080127004': 2621, 'A080127005': 2622, 'A080127006': 2623, 'A080127007': 2624, 'A080127008': 2625, 'A080130001': 2626, 'A080130002': 2627, 'A080130003': 2628, 'A080130004': 2629, 'A080130005': 2630, 'A080130006': 2631, 'A080130007': 2632, 'A080130008': 2633, 'A080131001': 2634, 'A080131002': 2635, 'A080131003': 2636, 'A080131004': 2637, 'A080131005': 2638, 'A080131006': 2639, 'A080131007': 2640, 'A080131008': 2641, 'A080131009': 2642, 'A080131010': 2643, 'A080133001': 2644, 'A080133002': 2645, 'A080133003': 2646, 'A080133004': 2647, 'A080133005': 2648, 'A080133008': 2649, 'A080133006': 2650, 'A080133007': 2651, 'A080135001': 2652, 'A080135002': 2653, 'A080135003': 2654, 'A080135004': 2655, 'A080135005': 2656, 'A080135006': 2657, 'A080135007': 2658, 'A080135008': 2659, 'A080137001': 2660, 'A080137002': 2661, 'A080137003': 2662, 'A080137004': 2663, 'A080137005': 2664, 'A080137006': 2665, 'A080137007': 2666, 'A080137008': 2667, 'A080136001': 2668, 'A080136002': 2669, 'A080136003': 2670, 'A080136004': 2671, 'A080136005': 2672, 'A080136006': 2673, 'A080136007': 2674, 'A080136008': 2675, 'A080138001': 2676, 'A080138002': 2677, 'A080138003': 2678, 'A080138004': 2679, 'A080138005': 2680, 'A080138006': 2681, 'A080138008': 2682, 'A080138007': 2683, 'A030016001': 2684, 'A030016002': 2685, 'A030016003': 2686, 'A030016004': 2687, 'A030016005': 2688, 'A030016006': 2689, 'A030017001': 2690, 'A030017002': 2691, 'A030017003': 2692, 'A030017004': 2693, 'A030017005': 2694, 'A030017006': 2695, 'A030012001': 2696, 'A030012002': 2697, 'A030012003': 2698, 'A030012004': 2699, 'A030012005': 2700, 'A030030001': 2701, 'A030030002': 2702, 'A030030003': 2703, 'A030030004': 2704, 'A030030005': 2705, 'A030038001': 2706, 'A030038002': 2707, 'A030038003': 2708, 'A030038004': 2709, 'A030038005': 2710, 'A030034001': 2711, 'A030034002': 2712, 'A030034003': 2713, 'A030034004': 2714, 'A030034005': 2715, 'A030039001': 2716, 'A030039002': 2717, 'A030039003': 2718, 'A030039004': 2719, 'A030039005': 2720, 'A030039006': 2721, 'A030039007': 2722, 'A030039008': 2723, 'A030039009': 2724, 'A030039010': 2725, 'A030039011': 2726, 'A030056001': 2727, 'A030056002': 2728, 'A030056003': 2729, 'A030056004': 2730, 'A030056005': 2731, 'A030056006': 2732, 'A030057001': 2733, 'A030057002': 2734, 'A030057003': 2735, 'A030057004': 2736, 'A030057005': 2737, 'A030057006': 2738, 'A030048001': 2739, 'A030048002': 2740, 'A030048003': 2741, 'A030048004': 2742, 'A030048005': 2743, 'A030058001': 2744, 'A030058002': 2745, 'A030058003': 2746, 'A030058004': 2747, 'A030058005': 2748, 'A030058006': 2749, 'A030059001': 2750, 'A030059002': 2751, 'A030059003': 2752, 'A030059004': 2753, 'A030059005': 2754, 'A030059006': 2755, 'A030052001': 2756, 'A030052002': 2757, 'A030052003': 2758, 'A030052004': 2759, 'A030052005': 2760, 'A030060001': 2761, 'A030060002': 2762, 'A030060003': 2763, 'A030060004': 2764, 'A030060005': 2765, 'A030060006': 2766, 'A030054001': 2767, 'A030054002': 2768, 'A030054003': 2769, 'A030054004': 2770, 'A030054005': 2771, 'A030067001': 2772, 'A030067002': 2773, 'A030067003': 2774, 'A030067004': 2775, 'A030067005': 2776, 'A030068001': 2777, 'A030068002': 2778, 'A030068003': 2779, 'A030068004': 2780, 'A030068005': 2781, 'A030068006': 2782, 'A030063001': 2783, 'A030063002': 2784, 'A030063003': 2785, 'A030063004': 2786, 'A030063005': 2787, 'A030069001': 2788, 'A030069002': 2789, 'A030069003': 2790, 'A030069004': 2791, 'A030069005': 2792, 'A030065001': 2793, 'A030065002': 2794, 'A030065003': 2795, 'A030065004': 2796, 'A030065005': 2797, 'A030086001': 2798, 'A030086002': 2799, 'A030086003': 2800, 'A030086004': 2801, 'A030086005': 2802, 'A030086006': 2803, 'A040084001': 2804, 'A040084002': 2805, 'A040084003': 2806, 'A040084004': 2807, 'A040084005': 2808, 'A040020001': 2809, 'A040020002': 2810, 'A040020003': 2811, 'A040020004': 2812, 'A040020005': 2813, 'A040097001': 2814, 'A040097002': 2815, 'A040097003': 2816, 'A040097004': 2817, 'A040097005': 2818, 'A040101001': 2819, 'A040101002': 2820, 'A040101003': 2821, 'A040101004': 2822, 'A040101005': 2823, 'A040091001': 2824, 'A040091002': 2825, 'A040091003': 2826, 'A040091004': 2827, 'A040091005': 2828, 'A040095001': 2829, 'A040095002': 2830, 'A040095003': 2831, 'A040095004': 2832, 'A040095005': 2833, 'A040089001': 2834, 'A040089002': 2835, 'A040089003': 2836, 'A040089004': 2837, 'A040089005': 2838, 'A040168001': 2839, 'A040168002': 2840, 'A040168003': 2841, 'A040168004': 2842, 'A040168005': 2843, 'A040172001': 2844, 'A040172002': 2845, 'A040172003': 2846, 'A040172004': 2847, 'A040172005': 2848, 'A040093001': 2849, 'A040093002': 2850, 'A040093003': 2851, 'A040093004': 2852, 'A040093005': 2853, 'A040174001': 2854, 'A040174002': 2855, 'A040174003': 2856, 'A040174004': 2857, 'A040174005': 2858, 'A040176001': 2859, 'A040176002': 2860, 'A040176003': 2861, 'A040176004': 2862, 'A040176005': 2863, 'A040178001': 2864, 'A040178002': 2865, 'A040178003': 2866, 'A040178004': 2867, 'A040178005': 2868, 'A030055001': 2869, 'A030055002': 2870, 'A030055003': 2871, 'A030055004': 2872, 'A030055005': 2873, 'A030062001': 2874, 'A030062002': 2875, 'A030062003': 2876, 'A030062004': 2877, 'A030062005': 2878, 'A040180001': 2879, 'A040180002': 2880, 'A040180003': 2881, 'A040180004': 2882, 'A040180005': 2883, 'A040182001': 2884, 'A040182002': 2885, 'A040182003': 2886, 'A040182004': 2887, 'A040182005': 2888, 'A030072001': 2889, 'A030072002': 2890, 'A030072003': 2891, 'A030072004': 2892, 'A030072005': 2893, 'A030082001': 2894, 'A030082002': 2895, 'A030082003': 2896, 'A030082004': 2897, 'A030082005': 2898, 'A030087001': 2899, 'A030087002': 2900, 'A030087003': 2901, 'A030087004': 2902, 'A030087005': 2903, 'A030084001': 2904, 'A030084002': 2905, 'A030084003': 2906, 'A030084004': 2907, 'A030084005': 2908, 'A030098001': 2909, 'A030098002': 2910, 'A030098003': 2911, 'A030098004': 2912, 'A030098005': 2913, 'A030099001': 2914, 'A030099002': 2915, 'A030099003': 2916, 'A030099004': 2917, 'A030099005': 2918, 'A030099006': 2919, 'A030099007': 2920, 'A040187001': 2921, 'A040187002': 2922, 'A040187003': 2923, 'A040187004': 2924, 'A040187005': 2925, 'A040189001': 2926, 'A040189002': 2927, 'A040189003': 2928, 'A040189004': 2929, 'A040189005': 2930, 'A030090001': 2931, 'A030090002': 2932, 'A030090003': 2933, 'A030090004': 2934, 'A030090005': 2935, 'A040191001': 2936, 'A040191002': 2937, 'A040191003': 2938, 'A040191004': 2939, 'A040191005': 2940, 'A030092001': 2941, 'A030092002': 2942, 'A030092003': 2943, 'A030092004': 2944, 'A030092005': 2945, 'A030100001': 2946, 'A030100002': 2947, 'A030100003': 2948, 'A030100004': 2949, 'A030100005': 2950, 'A030100006': 2951, 'A030101001': 2952, 'A030101002': 2953, 'A030101003': 2954, 'A030101004': 2955, 'A030101005': 2956, 'A030101006': 2957, 'A040193001': 2958, 'A040193002': 2959, 'A040193003': 2960, 'A040193004': 2961, 'A040193005': 2962, 'A030103001': 2963, 'A030103002': 2964, 'A030103003': 2965, 'A030103004': 2966, 'A030103005': 2967, 'A030103006': 2968, 'A030093001': 2969, 'A030093002': 2970, 'A030093003': 2971, 'A030093004': 2972, 'A030093005': 2973, 'A030113001': 2974, 'A030113002': 2975, 'A030113003': 2976, 'A030113004': 2977, 'A030113005': 2978, 'A030104001': 2979, 'A030104002': 2980, 'A030104003': 2981, 'A030104004': 2982, 'A030104005': 2983, 'A030104006': 2984, 'A030091001': 2985, 'A030091002': 2986, 'A030091003': 2987, 'A030091004': 2988, 'A030091005': 2989, 'A040171001': 2990, 'A040171002': 2991, 'A040171003': 2992, 'A040171004': 2993, 'A040171005': 2994, 'A030094001': 2995, 'A030094002': 2996, 'A030094003': 2997, 'A030094004': 2998, 'A030094005': 2999, 'A030102001': 3000, 'A030102002': 3001, 'A030102003': 3002, 'A030102004': 3003, 'A030102005': 3004, 'A030102006': 3005, 'A030102007': 3006, 'A030096001': 3007, 'A030096002': 3008, 'A030096003': 3009, 'A030096004': 3010, 'A030096005': 3011, 'A030079001': 3012, 'A030079002': 3013, 'A030079003': 3014, 'A030079004': 3015, 'A030079005': 3016, 'A030079006': 3017, 'A030105001': 3018, 'A030105002': 3019, 'A030105003': 3020, 'A030105004': 3021, 'A030105005': 3022, 'A030105006': 3023, 'A040169001': 3024, 'A040169002': 3025, 'A040169003': 3026, 'A040169004': 3027, 'A040169005': 3028, 'A040173001': 3029, 'A040173002': 3030, 'A040173003': 3031, 'A040173004': 3032, 'A040173005': 3033, 'A040175001': 3034, 'A040175002': 3035, 'A040175003': 3036, 'A040175004': 3037, 'A040175005': 3038, 'A030115001': 3039, 'A030115002': 3040, 'A030115003': 3041, 'A030115004': 3042, 'A030115005': 3043, 'A030073001': 3044, 'A030073002': 3045, 'A030073003': 3046, 'A030073004': 3047, 'A030073005': 3048, 'A030106001': 3049, 'A030106002': 3050, 'A030106003': 3051, 'A030106004': 3052, 'A030106005': 3053, 'A030106006': 3054, 'A040177001': 3055, 'A040177002': 3056, 'A040177003': 3057, 'A040177004': 3058, 'A040177005': 3059, 'A030080001': 3060, 'A030080002': 3061, 'A030080003': 3062, 'A030080004': 3063, 'A030080005': 3064, 'A030080006': 3065, 'A030081001': 3066, 'A030081002': 3067, 'A030081003': 3068, 'A030081004': 3069, 'A030081005': 3070, 'A030081006': 3071, 'A030077001': 3072, 'A030077002': 3073, 'A030077003': 3074, 'A030077004': 3075, 'A030077005': 3076, 'A030024001': 3077, 'A030024002': 3078, 'A030024003': 3079, 'A030024004': 3080, 'A030024005': 3081, 'A030011001': 3082, 'A030011002': 3083, 'A030011003': 3084, 'A030011004': 3085, 'A030011005': 3086, 'A030013001': 3087, 'A030013002': 3088, 'A030013003': 3089, 'A030013004': 3090, 'A030013005': 3091, 'A030015001': 3092, 'A030015002': 3093, 'A030015003': 3094, 'A030015004': 3095, 'A030015005': 3096, 'A030002001': 3097, 'A030002002': 3098, 'A030002003': 3099, 'A030002004': 3100, 'A030002005': 3101, 'A030004001': 3102, 'A030004002': 3103, 'A030004003': 3104, 'A030004004': 3105, 'A030004005': 3106, 'A030006001': 3107, 'A030006002': 3108, 'A030006003': 3109, 'A030006004': 3110, 'A030006005': 3111, 'A030022001': 3112, 'A030022002': 3113, 'A030022003': 3114, 'A030022004': 3115, 'A030022005': 3116, 'A030020001': 3117, 'A030020002': 3118, 'A030020003': 3119, 'A030020004': 3120, 'A030020005': 3121, 'A030089001': 3122, 'A030089002': 3123, 'A030089003': 3124, 'A030089004': 3125, 'A030089005': 3126, 'A030085001': 3127, 'A030085002': 3128, 'A030085003': 3129, 'A030085004': 3130, 'A030085005': 3131, 'A030107001': 3132, 'A030107002': 3133, 'A030107003': 3134, 'A030107004': 3135, 'A030107005': 3136, 'A030107006': 3137, 'A030083001': 3138, 'A030083002': 3139, 'A030083003': 3140, 'A030083004': 3141, 'A030083005': 3142, 'A030071001': 3143, 'A030071002': 3144, 'A030071003': 3145, 'A030071004': 3146, 'A030071005': 3147, 'A030066001': 3148, 'A030066002': 3149, 'A030066003': 3150, 'A030066004': 3151, 'A030066005': 3152, 'A040110001': 3153, 'A040110002': 3154, 'A040110003': 3155, 'A040110004': 3156, 'A040110005': 3157, 'A040112001': 3158, 'A040112002': 3159, 'A040112003': 3160, 'A040112004': 3161, 'A040112005': 3162, 'A030064001': 3163, 'A030064002': 3164, 'A030064003': 3165, 'A030064004': 3166, 'A030064005': 3167, 'A030053001': 3168, 'A030053002': 3169, 'A030053003': 3170, 'A030053004': 3171, 'A030053005': 3172, 'A040114001': 3173, 'A040114002': 3174, 'A040114003': 3175, 'A040114004': 3176, 'A040114005': 3177, 'A040116001': 3178, 'A040116002': 3179, 'A040116003': 3180, 'A040116004': 3181, 'A040116005': 3182, 'A030109001': 3183, 'A030109002': 3184, 'A030109003': 3185, 'A030109004': 3186, 'A030109006': 3187, 'A030109005': 3188, 'A030051001': 3189, 'A030051002': 3190, 'A030051003': 3191, 'A030051004': 3192, 'A030051005': 3193, 'A030121001': 3194, 'A030121002': 3195, 'A030121003': 3196, 'A030121004': 3197, 'A030121005': 3198, 'A030108001': 3199, 'A030108002': 3200, 'A030108003': 3201, 'A030108004': 3202, 'A030108005': 3203, 'A030108006': 3204, 'A030049001': 3205, 'A030049002': 3206, 'A030049003': 3207, 'A030049004': 3208, 'A030049005': 3209, 'A040118001': 3210, 'A040118002': 3211, 'A040118003': 3212, 'A040118004': 3213, 'A040118005': 3214, 'A030047001': 3215, 'A030047002': 3216, 'A030047003': 3217, 'A030047004': 3218, 'A030047005': 3219, 'A040120001': 3220, 'A040120002': 3221, 'A040120003': 3222, 'A040120004': 3223, 'A040120005': 3224, 'A030029001': 3225, 'A030029002': 3226, 'A030029003': 3227, 'A030029004': 3228, 'A030029005': 3229, 'A030125001': 3230, 'A030125002': 3231, 'A030125003': 3232, 'A030125004': 3233, 'A030125005': 3234, 'A030110001': 3235, 'A030110002': 3236, 'A030110003': 3237, 'A030110004': 3238, 'A030110005': 3239, 'A030037001': 3240, 'A030037002': 3241, 'A030037003': 3242, 'A030037004': 3243, 'A030037005': 3244, 'A030035001': 3245, 'A030035002': 3246, 'A030035003': 3247, 'A030035004': 3248, 'A030035005': 3249, 'A030043001': 3250, 'A030043002': 3251, 'A030043003': 3252, 'A030043004': 3253, 'A030043005': 3254, 'A030041001': 3255, 'A030041002': 3256, 'A030041003': 3257, 'A030041004': 3258, 'A030041005': 3259, 'A030031001': 3260, 'A030031002': 3261, 'A030031003': 3262, 'A030031004': 3263, 'A030031005': 3264, 'A030127001': 3265, 'A030127002': 3266, 'A030127003': 3267, 'A030127004': 3268, 'A030127005': 3269, 'A030127006': 3270, 'A030127007': 3271, 'A030127008': 3272, 'A030127009': 3273, 'A030135001': 3274, 'A030135002': 3275, 'A030135003': 3276, 'A030135004': 3277, 'A030135005': 3278, 'A030128001': 3279, 'A030128002': 3280, 'A030128003': 3281, 'A030128004': 3282, 'A030128005': 3283, 'A030128006': 3284, 'A030129001': 3285, 'A030129002': 3286, 'A030129003': 3287, 'A030129004': 3288, 'A030129005': 3289, 'A040166001': 3290, 'A040166002': 3291, 'A040166003': 3292, 'A040166004': 3293, 'A040166005': 3294, 'A030131001': 3295, 'A030131002': 3296, 'A030131003': 3297, 'A030131004': 3298, 'A030131005': 3299, 'A030143001': 3300, 'A030143002': 3301, 'A030143003': 3302, 'A030143004': 3303, 'A030143005': 3304, 'A040139001': 3305, 'A040139002': 3306, 'A040139003': 3307, 'A040139004': 3308, 'A040139005': 3309, 'A030132001': 3310, 'A030132002': 3311, 'A030132003': 3312, 'A030132004': 3313, 'A030132005': 3314, 'A040141001': 3315, 'A040141002': 3316, 'A040141003': 3317, 'A040141004': 3318, 'A040141005': 3319, 'A040170001': 3320, 'A040170002': 3321, 'A040170003': 3322, 'A040170004': 3323, 'A040170005': 3324, 'A030130001': 3325, 'A030130002': 3326, 'A030130003': 3327, 'A030130004': 3328, 'A030130005': 3329, 'A030130006': 3330, 'A040143001': 3331, 'A040143002': 3332, 'A040143003': 3333, 'A040143004': 3334, 'A040143005': 3335, 'A030145001': 3336, 'A030145002': 3337, 'A030145003': 3338, 'A030145004': 3339, 'A030145005': 3340, 'A050012001': 3341, 'A050012002': 3342, 'A050012003': 3343, 'A050012004': 3344, 'A050012005': 3345, 'A050013001': 3346, 'A050013002': 3347, 'A050013003': 3348, 'A050013004': 3349, 'A050013005': 3350, 'A050029001': 3351, 'A050029002': 3352, 'A050029003': 3353, 'A050029004': 3354, 'A050029005': 3355, 'A050029006': 3356, 'A050030001': 3357, 'A050030002': 3358, 'A050030003': 3359, 'A050030004': 3360, 'A050030005': 3361, 'A050033001': 3362, 'A050033002': 3363, 'A050033003': 3364, 'A050033004': 3365, 'A050033005': 3366, 'A050033006': 3367, 'A050041001': 3368, 'A050041002': 3369, 'A050041003': 3370, 'A050041004': 3371, 'A050041005': 3372, 'A050041006': 3373, 'A050041007': 3374, 'A050042001': 3375, 'A050042002': 3376, 'A050042003': 3377, 'A050042004': 3378, 'A050042005': 3379, 'A050054001': 3380, 'A050054002': 3381, 'A050054003': 3382, 'A050054004': 3383, 'A050054005': 3384, 'A050054006': 3385, 'A050054007': 3386, 'A020006001': 3387, 'A020006002': 3388, 'A020006003': 3389, 'A020006004': 3390, 'A020006005': 3391, 'A020008001': 3392, 'A020008002': 3393, 'A020008003': 3394, 'A020008004': 3395, 'A020008005': 3396, 'A020010001': 3397, 'A020010002': 3398, 'A020010003': 3399, 'A020010004': 3400, 'A020010005': 3401, 'A050008001': 3402, 'A050008002': 3403, 'A050008003': 3404, 'A050008004': 3405, 'A050008005': 3406, 'A050008006': 3407, 'A050008007': 3408, 'A020012001': 3409, 'A020012002': 3410, 'A020012003': 3411, 'A020012004': 3412, 'A020012005': 3413, 'A020002001': 3414, 'A020002002': 3415, 'A020002003': 3416, 'A020002004': 3417, 'A020002005': 3418, 'A020014001': 3419, 'A020014002': 3420, 'A020014003': 3421, 'A020014004': 3422, 'A020014005': 3423, 'A020016001': 3424, 'A020016002': 3425, 'A020016003': 3426, 'A020016004': 3427, 'A020016005': 3428, 'A050025001': 3429, 'A050025002': 3430, 'A050025003': 3431, 'A050025004': 3432, 'A050025005': 3433, 'A050025006': 3434, 'A050025007': 3435, 'A020018002': 3436, 'A020018003': 3437, 'A020018004': 3438, 'A020018005': 3439, 'A050017001': 3440, 'A050017002': 3441, 'A050017003': 3442, 'A050017004': 3443, 'A050017005': 3444, 'A050017006': 3445, 'A050017007': 3446, 'A020020001': 3447, 'A020020002': 3448, 'A020020003': 3449, 'A020020004': 3450, 'A020020005': 3451, 'A020004001': 3452, 'A020004002': 3453, 'A020004003': 3454, 'A020004005': 3455, 'A050023001': 3456, 'A050023002': 3457, 'A050023003': 3458, 'A050023004': 3459, 'A050023005': 3460, 'A050023006': 3461, 'A050023007': 3462, 'A050021001': 3463, 'A050021002': 3464, 'A050021003': 3465, 'A050021004': 3466, 'A050021005': 3467, 'A050021006': 3468, 'A050021007': 3469, 'A020024001': 3470, 'A020024002': 3471, 'A020024003': 3472, 'A020024004': 3473, 'A020024005': 3474, 'A020036001': 3475, 'A020036002': 3476, 'A020036003': 3477, 'A020036004': 3478, 'A020036005': 3479, 'A020036007': 3480, 'A020036008': 3481, 'A020036009': 3482, 'A050035001': 3483, 'A050035002': 3484, 'A050035003': 3485, 'A050035004': 3486, 'A050035005': 3487, 'A050035006': 3488, 'A050035007': 3489, 'A050037001': 3490, 'A050037002': 3491, 'A050037003': 3492, 'A050037004': 3493, 'A050037005': 3494, 'A050037006': 3495, 'A050037007': 3496, 'A020038001': 3497, 'A020038002': 3498, 'A020038003': 3499, 'A020038004': 3500, 'A020038005': 3501, 'A050039001': 3502, 'A050039002': 3503, 'A050039003': 3504, 'A050039004': 3505, 'A050039005': 3506, 'A050039006': 3507, 'A050039007': 3508, 'A050019001': 3509, 'A050019002': 3510, 'A050019003': 3511, 'A050019004': 3512, 'A050019005': 3513, 'A050019006': 3514, 'A050019007': 3515, 'A020042001': 3516, 'A020042005': 3517, 'A020042002': 3518, 'A020042003': 3519, 'A020042004': 3520, 'A020057006': 3521, 'A020057005': 3522, 'A020057004': 3523, 'A020057003': 3524, 'A020057002': 3525, 'A020057001': 3526, 'A020044001': 3527, 'A020044002': 3528, 'A020044003': 3529, 'A020044004': 3530, 'A020044005': 3531, 'A020052001': 3532, 'A020052002': 3533, 'A020052003': 3534, 'A020052004': 3535, 'A020052005': 3536, 'A020066001': 3537, 'A020066002': 3538, 'A020066003': 3539, 'A020066004': 3540, 'A020066005': 3541, 'A020066006': 3542, 'A020061001': 3543, 'A020061002': 3544, 'A020061003': 3545, 'A020061004': 3546, 'A020061005': 3547, 'A020068001': 3548, 'A020068002': 3549, 'A020068003': 3550, 'A020068004': 3551, 'A020068005': 3552, 'A020068006': 3553, 'A020063001': 3554, 'A020063002': 3555, 'A020063003': 3556, 'A020063004': 3557, 'A020063005': 3558, 'A050071001': 3559, 'A050071002': 3560, 'A050071003': 3561, 'A050071004': 3562, 'A050071005': 3563, 'A050071006': 3564, 'A020075001': 3565, 'A020075002': 3566, 'A020075003': 3567, 'A020075004': 3568, 'A020071001': 3569, 'A020071002': 3570, 'A020071003': 3571, 'A020071004': 3572, 'A020071005': 3573, 'A020071006': 3574, 'A020077001': 3575, 'A020077002': 3576, 'A020077003': 3577, 'A020077004': 3578, 'A020077005': 3579, 'A020072001': 3580, 'A020072002': 3581, 'A020072003': 3582, 'A020072004': 3583, 'A020072005': 3584, 'A020079001': 3585, 'A020079002': 3586, 'A020079003': 3587, 'A020079004': 3588, 'A020079005': 3589, 'A020069001': 3590, 'A020069002': 3591, 'A020069003': 3592, 'A020069004': 3593, 'A020069005': 3594, 'A050056001': 3595, 'A050056002': 3596, 'A050056003': 3597, 'A050056004': 3598, 'A050056005': 3599, 'A050056006': 3600, 'A020081001': 3601, 'A020081002': 3602, 'A020081003': 3603, 'A020081004': 3604, 'A020074001': 3605, 'A020074002': 3606, 'A020074003': 3607, 'A020074004': 3608, 'A020074005': 3609, 'A050072001': 3610, 'A050072002': 3611, 'A050072003': 3612, 'A050072004': 3613, 'A050072005': 3614, 'A050072006': 3615, 'A020083001': 3616, 'A020083002': 3617, 'A020083003': 3618, 'A020083004': 3619, 'A020083005': 3620, 'A020086001': 3621, 'A020086002': 3622, 'A020086003': 3623, 'A020086004': 3624, 'A020086005': 3625, 'A020086006': 3626, 'A020086007': 3627, 'A020086008': 3628, 'A020086009': 3629, 'A020086010': 3630, 'A020085001': 3631, 'A020085002': 3632, 'A020085003': 3633, 'A020085004': 3634, 'A020085005': 3635, 'A020087001': 3636, 'A020087002': 3637, 'A020087003': 3638, 'A020087004': 3639, 'A020087005': 3640, 'A020087006': 3641, 'A020087007': 3642, 'A050074001': 3643, 'A050074002': 3644, 'A050074003': 3645, 'A050074004': 3646, 'A050074005': 3647, 'A050074006': 3648, 'A050075001': 3649, 'A050075002': 3650, 'A050075003': 3651, 'A050075004': 3652, 'A050075005': 3653, 'A050075006': 3654, 'A050076001': 3655, 'A050076002': 3656, 'A050076003': 3657, 'A050076004': 3658, 'A050076005': 3659, 'A050076006': 3660, 'A050095001': 3661, 'A050095002': 3662, 'A050095003': 3663, 'A050095004': 3664, 'A020092001': 3665, 'A020092002': 3666, 'A020092003': 3667, 'A020092004': 3668, 'A020092005': 3669, 'A020094001': 3670, 'A020094002': 3671, 'A020094003': 3672, 'A020094004': 3673, 'A020094005': 3674, 'A020089001': 3675, 'A020089002': 3676, 'A020089003': 3677, 'A020089004': 3678, 'A020089005': 3679, 'A020089006': 3680, 'A020096001': 3681, 'A020096002': 3682, 'A020096003': 3683, 'A020096004': 3684, 'A020096005': 3685, 'A050101001': 3686, 'A050101002': 3687, 'A050101003': 3688, 'A050101004': 3689, 'A050101005': 3690, 'A050101006': 3691, 'A050101007': 3692, 'A050102001': 3693, 'A050102002': 3694, 'A050102003': 3695, 'A050102004': 3696, 'A020152001': 3697, 'A020152002': 3698, 'A020152003': 3699, 'A020152004': 3700, 'A020152005': 3701, 'A020098001': 3702, 'A020098002': 3703, 'A020098003': 3704, 'A020098004': 3705, 'A020098005': 3706, 'A050104001': 3707, 'A050104002': 3708, 'A050104003': 3709, 'A050104004': 3710, 'A050104005': 3711, 'A050104006': 3712, 'A050104007': 3713, 'A020110001': 3714, 'A020110002': 3715, 'A020110003': 3716, 'A020110004': 3717, 'A020110005': 3718, 'A020110006': 3719, 'A020100001': 3720, 'A020100002': 3721, 'A020100003': 3722, 'A020100004': 3723, 'A020100005': 3724, 'A050106001': 3725, 'A050106002': 3726, 'A050106003': 3727, 'A050106004': 3728, 'A050106005': 3729, 'A050106006': 3730, 'A050106007': 3731, 'A020111001': 3732, 'A020111002': 3733, 'A020111003': 3734, 'A020111004': 3735, 'A020111005': 3736, 'A020111006': 3737, 'A020102001': 3738, 'A020102003': 3739, 'A020102004': 3740, 'A020102005': 3741, 'A020102002': 3742, 'A050110001': 3743, 'A050110002': 3744, 'A050110003': 3745, 'A050110004': 3746, 'A050110005': 3747, 'A050110006': 3748, 'A050110007': 3749, 'A020112001': 3750, 'A020112002': 3751, 'A020112003': 3752, 'A020112004': 3753, 'A020112005': 3754, 'A020112006': 3755, 'A020104001': 3756, 'A020104002': 3757, 'A020104003': 3758, 'A020104004': 3759, 'A020104005': 3760, 'A050114001': 3761, 'A050114002': 3762, 'A050114003': 3763, 'A050114004': 3764, 'A050114005': 3765, 'A050114006': 3766, 'A050114007': 3767, 'A020113001': 3768, 'A020113002': 3769, 'A020113003': 3770, 'A020113004': 3771, 'A020113005': 3772, 'A020106001': 3773, 'A020106002': 3774, 'A020106003': 3775, 'A020106004': 3776, 'A020106005': 3777, 'A020114001': 3778, 'A020114002': 3779, 'A020114003': 3780, 'A020114004': 3781, 'A020114005': 3782, 'A020114006': 3783, 'A020108001': 3784, 'A020108002': 3785, 'A020108003': 3786, 'A020108004': 3787, 'A020108005': 3788, 'A050112001': 3789, 'A050112002': 3790, 'A050112003': 3791, 'A050112004': 3792, 'A050112005': 3793, 'A050112006': 3794, 'A050112007': 3795, 'A020119001': 3796, 'A020119002': 3797, 'A020119003': 3798, 'A020119004': 3799, 'A020119005': 3800, 'A020119006': 3801, 'A020116001': 3802, 'A020116002': 3803, 'A020116003': 3804, 'A020116004': 3805, 'A020116005': 3806, 'A020120001': 3807, 'A020120002': 3808, 'A020120003': 3809, 'A020120004': 3810, 'A020120005': 3811, 'A020118001': 3812, 'A020118002': 3813, 'A020118003': 3814, 'A020118004': 3815, 'A020118005': 3816, 'A050096001': 3817, 'A050096002': 3818, 'A050096003': 3819, 'A050096004': 3820, 'A050096005': 3821, 'A020135001': 3822, 'A020135002': 3823, 'A020135003': 3824, 'A020135004': 3825, 'A020135005': 3826, 'A020135006': 3827, 'A020122001': 3828, 'A020122002': 3829, 'A020122003': 3830, 'A020122004': 3831, 'A020122005': 3832, 'A020136001': 3833, 'A020136002': 3834, 'A020136003': 3835, 'A020136004': 3836, 'A020136005': 3837, 'A020136006': 3838, 'A020124001': 3839, 'A020124002': 3840, 'A020124003': 3841, 'A020124004': 3842, 'A020124005': 3843, 'A050141001': 3844, 'A050141002': 3845, 'A050141003': 3846, 'A050141004': 3847, 'A050141005': 3848, 'A050141006': 3849, 'A050141007': 3850, 'A020137001': 3851, 'A020137002': 3852, 'A020137003': 3853, 'A020137004': 3854, 'A020137005': 3855, 'A020137006': 3856, 'A020126001': 3857, 'A020126002': 3858, 'A020126003': 3859, 'A020126004': 3860, 'A020126005': 3861, 'A020138001': 3862, 'A020138002': 3863, 'A020138003': 3864, 'A020138004': 3865, 'A020138005': 3866, 'A020138006': 3867, 'A020128001': 3868, 'A020128002': 3869, 'A020128003': 3870, 'A020128004': 3871, 'A020128005': 3872, 'A090055001': 3873, 'A090055002': 3874, 'A090055003': 3875, 'A090055004': 3876, 'A090055005': 3877, 'A090055006': 3878, 'A050149001': 3879, 'A050149002': 3880, 'A050149003': 3881, 'A050149004': 3882, 'A050149005': 3883, 'A050149006': 3884, 'A050149007': 3885, 'A020139001': 3886, 'A020139002': 3887, 'A020139003': 3888, 'A020139004': 3889, 'A020139005': 3890, 'A020139006': 3891, 'A020130001': 3892, 'A020130002': 3893, 'A020130003': 3894, 'A020130004': 3895, 'A020130005': 3896, 'A020140001': 3897, 'A020140002': 3898, 'A020140003': 3899, 'A020140004': 3900, 'A020140005': 3901, 'A020132001': 3902, 'A020132002': 3903, 'A020132003': 3904, 'A020132004': 3905, 'A020132005': 3906, 'A010007001': 3907, 'A010007002': 3908, 'A010007003': 3909, 'A010007004': 3910, 'A010007005': 3911, 'A010009001': 3912, 'A010009002': 3913, 'A010009003': 3914, 'A010009004': 3915, 'A010009005': 3916, 'A010011001': 3917, 'A010011002': 3918, 'A010011003': 3919, 'A010011004': 3920, 'A010011005': 3921, 'A010013001': 3922, 'A010013002': 3923, 'A010013003': 3924, 'A010013004': 3925, 'A010013005': 3926, 'A010015001': 3927, 'A010015003': 3928, 'A010015004': 3929, 'A010015005': 3930, 'A010001001': 3931, 'A010001002': 3932, 'A010001003': 3933, 'A010001004': 3934, 'A010001005': 3935, 'A010005001': 3936, 'A010005002': 3937, 'A010005003': 3938, 'A010005004': 3939, 'A010005005': 3940, 'A010030001': 3941, 'A010030002': 3942, 'A010030003': 3943, 'A010030004': 3944, 'A010030005': 3945, 'A010034001': 3946, 'A010034002': 3947, 'A010034003': 3948, 'A010034004': 3949, 'A010034005': 3950, 'A010032002': 3951, 'A010032003': 3952, 'A010032004': 3953, 'A010032001': 3954, 'A010036001': 3955, 'A010036002': 3956, 'A010036003': 3957, 'A010036004': 3958, 'A010036005': 3959, 'A010038001': 3960, 'A010038002': 3961, 'A010038003': 3962, 'A010038005': 3963, 'A010038004': 3964, 'A010040001': 3965, 'A010040002': 3966, 'A010040003': 3967, 'A010040004': 3968, 'A010040005': 3969, 'A010042001': 3970, 'A010042002': 3971, 'A010042003': 3972, 'A010042004': 3973, 'A010042005': 3974, 'A010044001': 3975, 'A010044002': 3976, 'A010044003': 3977, 'A010044004': 3978, 'A010044005': 3979, 'A010046001': 3980, 'A010046002': 3981, 'A010046003': 3982, 'A010046004': 3983, 'A010046005': 3984, 'A010048001': 3985, 'A010048002': 3986, 'A010048003': 3987, 'A010048004': 3988, 'A010048005': 3989, 'A010061001': 3990, 'A010061002': 3991, 'A010061003': 3992, 'A010061004': 3993, 'A010061005': 3994, 'A010063001': 3995, 'A010063002': 3996, 'A010063003': 3997, 'A010063004': 3998, 'A010063005': 3999, 'A010065001': 4000, 'A010065002': 4001, 'A010065003': 4002, 'A010065004': 4003, 'A010065005': 4004, 'A010067001': 4005, 'A010067002': 4006, 'A010067003': 4007, 'A010067004': 4008, 'A010067005': 4009, 'A010077001': 4010, 'A010077002': 4011, 'A010077003': 4012, 'A010077004': 4013, 'A010077005': 4014, 'A060021001': 4015, 'A060021002': 4016, 'A060021003': 4017, 'A060021004': 4018, 'A060021005': 4019, 'A060021006': 4020, 'A060021007': 4021, 'A010080001': 4022, 'A010080002': 4023, 'A010080003': 4024, 'A010080004': 4025, 'A010080005': 4026, 'A010081001': 4027, 'A010081002': 4028, 'A010081003': 4029, 'A010081004': 4030, 'A010081005': 4031, 'A010083001': 4032, 'A010083002': 4033, 'A010083003': 4034, 'A010083004': 4035, 'A010083005': 4036, 'A010087001': 4037, 'A010087002': 4038, 'A010087003': 4039, 'A010087004': 4040, 'A010087005': 4041, 'A060044001': 4042, 'A060044002': 4043, 'A060044003': 4044, 'A060044004': 4045, 'A060044005': 4046, 'A060044006': 4047, 'A060044007': 4048, 'A010089001': 4049, 'A010089002': 4050, 'A010089003': 4051, 'A010089004': 4052, 'A010089005': 4053, 'A010008001': 4054, 'A010008002': 4055, 'A010008003': 4056, 'A010008004': 4057, 'A010008005': 4058, 'A060071001': 4059, 'A060071002': 4060, 'A060071003': 4061, 'A060071004': 4062, 'A060071005': 4063, 'A060071006': 4064, 'A060071007': 4065, 'A060073001': 4066, 'A060073002': 4067, 'A060073003': 4068, 'A060073004': 4069, 'A060073005': 4070, 'A060073006': 4071, 'A060073007': 4072, 'A010012001': 4073, 'A010012002': 4074, 'A010012003': 4075, 'A010012004': 4076, 'A010012005': 4077, 'A010016001': 4078, 'A010016002': 4079, 'A010016003': 4080, 'A010016004': 4081, 'A010016005': 4082, 'A010025001': 4083, 'A010025002': 4084, 'A010025003': 4085, 'A010025004': 4086, 'A010025005': 4087, 'A060092001': 4088, 'A060092002': 4089, 'A060092003': 4090, 'A060092004': 4091, 'A060092005': 4092, 'A060092006': 4093, 'A060092007': 4094, 'A010002001': 4095, 'A010002002': 4096, 'A010002003': 4097, 'A010002004': 4098, 'A010002005': 4099, 'A010004001': 4100, 'A010004002': 4101, 'A010004003': 4102, 'A010004004': 4103, 'A010004005': 4104, 'A010006001': 4105, 'A010006002': 4106, 'A010006003': 4107, 'A010006004': 4108, 'A010006005': 4109, 'A010029001': 4110, 'A010029002': 4111, 'A010029003': 4112, 'A010029004': 4113, 'A010029005': 4114, 'A070012001': 4115, 'A070012002': 4116, 'A070012003': 4117, 'A070012004': 4118, 'A070012005': 4119, 'A070012006': 4120, 'A070012007': 4121, 'A070012008': 4122, 'A070012009': 4123, 'A010031001': 4124, 'A010031002': 4125, 'A010031003': 4126, 'A010031004': 4127, 'A010031005': 4128, 'A010033001': 4129, 'A010033002': 4130, 'A010033003': 4131, 'A010033004': 4132, 'A010035001': 4133, 'A010035002': 4134, 'A010035003': 4135, 'A010035005': 4136, 'A010035004': 4137, 'A060111001': 4138, 'A060111002': 4139, 'A060111003': 4140, 'A060111004': 4141, 'A060111005': 4142, 'A060111006': 4143, 'A010039001': 4144, 'A010039002': 4145, 'A010039003': 4146, 'A010039004': 4147, 'A010039005': 4148, 'A070034001': 4149, 'A070034002': 4150, 'A070034003': 4151, 'A070034004': 4152, 'A070034005': 4153, 'A070034006': 4154, 'A070034007': 4155, 'A070034008': 4156, 'A070034009': 4157, 'A070036001': 4158, 'A070036002': 4159, 'A070036003': 4160, 'A070036004': 4161, 'A070036005': 4162, 'A070036006': 4163, 'A070036007': 4164, 'A070036008': 4165, 'A070036009': 4166, 'A070040006': 4167, 'A070040002': 4168, 'A070040003': 4169, 'A070040004': 4170, 'A070040001': 4171, 'A070040005': 4172, 'A070042001': 4173, 'A070042002': 4174, 'A070042003': 4175, 'A070042004': 4176, 'A070042005': 4177, 'A070042006': 4178, 'A070050001': 4179, 'A070050002': 4180, 'A070050003': 4181, 'A070050004': 4182, 'A070050005': 4183, 'A070050006': 4184, 'A070050007': 4185, 'A070050008': 4186, 'A070050009': 4187, 'A070054001': 4188, 'A070054002': 4189, 'A070054003': 4190, 'A070054005': 4191, 'A070054006': 4192, 'A070054004': 4193, 'A060114001': 4194, 'A060114002': 4195, 'A060114003': 4196, 'A060114004': 4197, 'A060114005': 4198, 'A060114006': 4199, 'A070056001': 4200, 'A070056002': 4201, 'A070056003': 4202, 'A070056004': 4203, 'A070056005': 4204, 'A070056006': 4205, 'A070056007': 4206, 'A070056008': 4207, 'A070056009': 4208, 'A070058002': 4209, 'A070058003': 4210, 'A070058004': 4211, 'A070058005': 4212, 'A070058001': 4213, 'A070058006': 4214, 'A070058007': 4215, 'A070058008': 4216, 'A070058009': 4217, 'A070058010': 4218, 'A070058011': 4219, 'A070058012': 4220, 'A010117001': 4221, 'A010117002': 4222, 'A010117003': 4223, 'A010117004': 4224, 'A010117005': 4225, 'A060120001': 4226, 'A060120002': 4227, 'A060120003': 4228, 'A060120004': 4229, 'A060120005': 4230, 'A060120006': 4231, 'A060116001': 4232, 'A060116002': 4233, 'A060116003': 4234, 'A060116004': 4235, 'A060116005': 4236, 'A060116006': 4237, 'A060117001': 4238, 'A060117002': 4239, 'A060117003': 4240, 'A060117004': 4241, 'A060117005': 4242, 'A010100001': 4243, 'A010100002': 4244, 'A010100003': 4245, 'A010100004': 4246, 'A010100005': 4247, 'A060141001': 4248, 'A060141002': 4249, 'A060141003': 4250, 'A060141004': 4251, 'A060141005': 4252, 'A060141006': 4253, 'A060141007': 4254, 'A060141008': 4255, 'A060141009': 4256, 'A060142001': 4257, 'A060142002': 4258, 'A060142003': 4259, 'A060142004': 4260, 'A060142005': 4261, 'A010096001': 4262, 'A010096002': 4263, 'A010096003': 4264, 'A010096004': 4265, 'A010096005': 4266, 'A060143001': 4267, 'A060143002': 4268, 'A060143003': 4269, 'A060143004': 4270, 'A060143005': 4271, 'A060143006': 4272, 'A060143007': 4273, 'A060143008': 4274, 'A060143009': 4275, 'A060143010': 4276, 'A060143011': 4277, 'A060144001': 4278, 'A060144002': 4279, 'A060144003': 4280, 'A060144004': 4281, 'A060144005': 4282, 'A010133001': 4283, 'A010133002': 4284, 'A010133003': 4285, 'A010133004': 4286, 'A010133005': 4287, 'A010157001': 4288, 'A010157002': 4289, 'A010157003': 4290, 'A010157004': 4291, 'A010157005': 4292, 'A010165001': 4293, 'A010165002': 4294, 'A010165003': 4295, 'A010165004': 4296, 'A010165005': 4297, 'A010143001': 4298, 'A010143002': 4299, 'A010143003': 4300, 'A010143004': 4301, 'A010143005': 4302, 'A010125001': 4303, 'A010125002': 4304, 'A010125003': 4305, 'A010125004': 4306, 'A010125005': 4307, 'A010167001': 4308, 'A010167002': 4309, 'A010167003': 4310, 'A010167004': 4311, 'A010167005': 4312, 'A010141001': 4313, 'A010141002': 4314, 'A010141003': 4315, 'A010141004': 4316, 'A010141005': 4317, 'A010139001': 4318, 'A010139002': 4319, 'A010139003': 4320, 'A010139004': 4321, 'A010139005': 4322, 'A060147001': 4323, 'A060147002': 4324, 'A060147003': 4325, 'A060147004': 4326, 'A060147005': 4327, 'A060147006': 4328, 'A060147007': 4329, 'A060153001': 4330, 'A060153002': 4331, 'A060153003': 4332, 'A060153004': 4333, 'A060153005': 4334, 'A060153006': 4335, 'A060153007': 4336, 'A060155001': 4337, 'A060155002': 4338, 'A060155003': 4339, 'A060155004': 4340, 'A060155005': 4341, 'A010190001': 4342, 'A010190002': 4343, 'A010190003': 4344, 'A010190004': 4345, 'A010190005': 4346, 'A060156001': 4347, 'A060156002': 4348, 'A060156003': 4349, 'A060156004': 4350, 'A060156005': 4351, 'A010184001': 4352, 'A010184002': 4353, 'A010184003': 4354, 'A010184004': 4355, 'A010184005': 4356, 'A060157001': 4357, 'A060157002': 4358, 'A060157003': 4359, 'A060157004': 4360, 'A060157005': 4361, 'A060158001': 4362, 'A060158002': 4363, 'A060158003': 4364, 'A060158004': 4365, 'A060158005': 4366, 'A060158006': 4367, 'A060158007': 4368, 'A060158008': 4369, 'A060159001': 4370, 'A060159002': 4371, 'A060159003': 4372, 'A060159004': 4373, 'A060159005': 4374, 'A060159006': 4375, 'A010095001': 4376, 'A010095002': 4377, 'A010095003': 4378, 'A010095004': 4379, 'A010095005': 4380, 'A070131001': 4381, 'A070131002': 4382, 'A070131003': 4383, 'A070131004': 4384, 'A070131005': 4385, 'A070131006': 4386, 'A070131007': 4387, 'A070131008': 4388, 'A070132001': 4389, 'A070132002': 4390, 'A070132003': 4391, 'A070132004': 4392, 'A070132005': 4393, 'A070132006': 4394, 'A070132007': 4395, 'A070132008': 4396, 'A070133001': 4397, 'A070133003': 4398, 'A070133002': 4399, 'A070133004': 4400, 'A070133005': 4401, 'A070133006': 4402, 'A070133007': 4403, 'A070133008': 4404, 'A070060001': 4405, 'A070060002': 4406, 'A070060003': 4407, 'A070060004': 4408, 'A070060005': 4409, 'A070060006': 4410, 'A040027001': 4411, 'A040027002': 4412, 'A040027003': 4413, 'A040027004': 4414, 'A040027005': 4415, 'A040027006': 4416, 'A040027007': 4417, 'A040027010': 4418, 'A040027009': 4419, 'A040027008': 4420, 'A070038001': 4421, 'A070038002': 4422, 'A070038003': 4423, 'A070038004': 4424, 'A070038005': 4425, 'A070038006': 4426, 'A070044003': 4427, 'A070044004': 4428, 'A070044005': 4429, 'A070044006': 4430, 'A070044007': 4431, 'A070044008': 4432, 'A070044009': 4433, 'A070044001': 4434, 'A070044002': 4435, 'A070044010': 4436, 'A070044011': 4437, 'A070044012': 4438, 'A070020001': 4439, 'A070020002': 4440, 'A070020003': 4441, 'A070020004': 4442, 'A070020005': 4443, 'A070020006': 4444, 'A070022001': 4445, 'A070022002': 4446, 'A070022003': 4447, 'A070022004': 4448, 'A070022005': 4449, 'A070022006': 4450, 'A070022007': 4451, 'A070022008': 4452, 'A070022009': 4453, 'A070030001': 4454, 'A070030002': 4455, 'A070030003': 4456, 'A070030004': 4457, 'A070030005': 4458, 'A070030006': 4459, 'A070030007': 4460, 'A070030008': 4461, 'A070030009': 4462, 'A040001001': 4463, 'A040001002': 4464, 'A040001003': 4465, 'A040001004': 4466, 'A040001005': 4467, 'A070032001': 4468, 'A070032002': 4469, 'A070032003': 4470, 'A070032004': 4471, 'A070032005': 4472, 'A070032006': 4473, 'A070032007': 4474, 'A070032008': 4475, 'A070032009': 4476, 'A040003001': 4477, 'A040003002': 4478, 'A040003003': 4479, 'A040003004': 4480, 'A040003005': 4481, 'A040005001': 4482, 'A040005002': 4483, 'A040005003': 4484, 'A040005004': 4485, 'A040005005': 4486, 'A070046001': 4487, 'A070046002': 4488, 'A070046003': 4489, 'A070046004': 4490, 'A070046005': 4491, 'A070046006': 4492, 'A070046007': 4493, 'A070046008': 4494, 'A070046009': 4495, 'A070048001': 4496, 'A070048002': 4497, 'A070048003': 4498, 'A070048004': 4499, 'A070048005': 4500, 'A070048006': 4501, 'A070048007': 4502, 'A070048008': 4503, 'A070048009': 4504, 'A040023001': 4505, 'A040023002': 4506, 'A040023003': 4507, 'A040023004': 4508, 'A040023005': 4509, 'A070052001': 4510, 'A070052002': 4511, 'A070052003': 4512, 'A070052004': 4513, 'A070052005': 4514, 'A070052006': 4515, 'A070052007': 4516, 'A070052008': 4517, 'A070052009': 4518, 'A070052010': 4519, 'A070052011': 4520, 'A070052012': 4521, 'A040025001': 4522, 'A040025002': 4523, 'A040025003': 4524, 'A040025004': 4525, 'A040025005': 4526, 'A070062001': 4527, 'A070062002': 4528, 'A070062003': 4529, 'A070062004': 4530, 'A070062005': 4531, 'A070062006': 4532, 'A070062007': 4533, 'A070062008': 4534, 'A070062009': 4535, 'A070064001': 4536, 'A070064002': 4537, 'A070064003': 4538, 'A070064004': 4539, 'A070064005': 4540, 'A070064006': 4541, 'A070066001': 4542, 'A070066002': 4543, 'A070066003': 4544, 'A070066004': 4545, 'A070066005': 4546, 'A070066006': 4547, 'A070068001': 4548, 'A070068002': 4549, 'A070068003': 4550, 'A070068004': 4551, 'A070068005': 4552, 'A070068006': 4553, 'A070068007': 4554, 'A070068008': 4555, 'A070068009': 4556, 'A070068010': 4557, 'A070068011': 4558, 'A070068012': 4559, 'A040067001': 4560, 'A040067002': 4561, 'A040067003': 4562, 'A040067004': 4563, 'A040067005': 4564, 'A070070001': 4565, 'A070070002': 4566, 'A070070003': 4567, 'A070070004': 4568, 'A070070005': 4569, 'A070070006': 4570, 'A070070007': 4571, 'A070070008': 4572, 'A070070009': 4573, 'A040069001': 4574, 'A040069002': 4575, 'A040069003': 4576, 'A040069004': 4577, 'A040069005': 4578, 'A070072001': 4579, 'A070072002': 4580, 'A070072003': 4581, 'A070072004': 4582, 'A070072005': 4583, 'A070072006': 4584, 'A070074001': 4585, 'A070074002': 4586, 'A070074003': 4587, 'A070074004': 4588, 'A070074005': 4589, 'A070074006': 4590, 'A070074007': 4591, 'A070074008': 4592, 'A070074009': 4593, 'A070076001': 4594, 'A070076003': 4595, 'A070076002': 4596, 'A070076004': 4597, 'A070076005': 4598, 'A070076006': 4599, 'A070078001': 4600, 'A070078002': 4601, 'A070078003': 4602, 'A070078004': 4603, 'A070078005': 4604, 'A070078006': 4605, 'A070138001': 4606, 'A070138002': 4607, 'A070138003': 4608, 'A070138004': 4609, 'A070138005': 4610, 'A070138006': 4611, 'A070140001': 4612, 'A070140002': 4613, 'A070140003': 4614, 'A070140004': 4615, 'A070140005': 4616, 'A070140006': 4617, 'A070140007': 4618, 'A070140008': 4619, 'A070142001': 4620, 'A070142002': 4621, 'A070142003': 4622, 'A070142004': 4623, 'A070142005': 4624, 'A070142006': 4625, 'A070142007': 4626, 'A070142008': 4627, 'A070144001': 4628, 'A070144002': 4629, 'A070144003': 4630, 'A070144004': 4631, 'A070144005': 4632, 'A070144006': 4633, 'A070144007': 4634, 'A070144008': 4635, 'A070146001': 4636, 'A070146002': 4637, 'A070146003': 4638, 'A070146004': 4639, 'A070146005': 4640, 'A070146006': 4641, 'A070146007': 4642, 'A070146008': 4643, 'A070148001': 4644, 'A070148002': 4645, 'A070148003': 4646, 'A070148004': 4647, 'A070148005': 4648, 'A070148006': 4649, 'A070148007': 4650, 'A070148008': 4651, 'A070150001': 4652, 'A070150002': 4653, 'A070150003': 4654, 'A070150004': 4655, 'A070150005': 4656, 'A070150006': 4657, 'A070150007': 4658, 'A070150008': 4659, 'A070152001': 4660, 'A070152002': 4661, 'A070152003': 4662, 'A070152004': 4663, 'A070152005': 4664, 'A070152006': 4665, 'A070152007': 4666, 'A070152008': 4667, 'A070154002': 4668, 'A070154001': 4669, 'A070154003': 4670, 'A070154004': 4671, 'A070154005': 4672, 'A070154006': 4673, 'A070154007': 4674, 'A070154008': 4675, 'A070158001': 4676, 'A070158002': 4677, 'A070158003': 4678, 'A070158004': 4679, 'A070158005': 4680, 'A070158006': 4681, 'A070158007': 4682, 'A070158008': 4683, 'A060133001': 4684, 'A060133002': 4685, 'A060133003': 4686, 'A060133004': 4687, 'A060133005': 4688, 'A060133006': 4689, 'A060133007': 4690, 'A060135001': 4691, 'A060135002': 4692, 'A060135003': 4693, 'A060135004': 4694, 'A060135005': 4695, 'A060135006': 4696, 'A060135007': 4697, 'A060137001': 4698, 'A060137002': 4699, 'A060137003': 4700, 'A060137004': 4701, 'A060137005': 4702, 'A060137006': 4703, 'A060137007': 4704, 'A060139001': 4705, 'A060139002': 4706, 'A060139003': 4707, 'A060139004': 4708, 'A060139005': 4709, 'A060139006': 4710, 'A060139007': 4711, 'A070001001': 4712, 'A070001002': 4713, 'A070001003': 4714, 'A070001004': 4715, 'A070001005': 4716, 'A070001006': 4717, 'A070001007': 4718, 'A070001008': 4719, 'A070001009': 4720, 'A070003001': 4721, 'A070003002': 4722, 'A070003003': 4723, 'A070003004': 4724, 'A070003005': 4725, 'A070003006': 4726, 'A070003007': 4727, 'A070003008': 4728, 'A070003009': 4729, 'A070005001': 4730, 'A070005002': 4731, 'A070005003': 4732, 'A070005004': 4733, 'A070005005': 4734, 'A070005006': 4735, 'A070005007': 4736, 'A070005008': 4737, 'A070005009': 4738, 'A070007001': 4739, 'A070007002': 4740, 'A070007003': 4741, 'A070007004': 4742, 'A070007005': 4743, 'A070007006': 4744, 'A070007007': 4745, 'A070007008': 4746, 'A070007009': 4747, 'A070009001': 4748, 'A070009002': 4749, 'A070009003': 4750, 'A070009004': 4751, 'A070009005': 4752, 'A070009007': 4753, 'A070009008': 4754, 'A070009009': 4755, 'A070011001': 4756, 'A070011002': 4757, 'A070011003': 4758, 'A070011004': 4759, 'A070011005': 4760, 'A070011006': 4761, 'A070011007': 4762, 'A070011008': 4763, 'A070011009': 4764, 'A070013001': 4765, 'A070013002': 4766, 'A070013003': 4767, 'A070013004': 4768, 'A070013005': 4769, 'A070013006': 4770, 'A070013008': 4771, 'A070013007': 4772, 'A070013009': 4773, 'A070015001': 4774, 'A070015002': 4775, 'A070015004': 4776, 'A070015005': 4777, 'A070015006': 4778, 'A070015008': 4779, 'A070015009': 4780, 'A070015003': 4781, 'A070015007': 4782, 'A070017001': 4783, 'A070017002': 4784, 'A070017003': 4785, 'A070017004': 4786, 'A070017005': 4787, 'A070017006': 4788, 'A070017007': 4789, 'A070017008': 4790, 'A070017009': 4791, 'A070017010': 4792, 'A070017011': 4793, 'A070017012': 4794, 'A070023001': 4795, 'A070023002': 4796, 'A070023004': 4797, 'A070023005': 4798, 'A070023006': 4799, 'A070023007': 4800, 'A070023008': 4801, 'A070023009': 4802, 'A070023003': 4803, 'A070025001': 4804, 'A070025002': 4805, 'A070025003': 4806, 'A070025004': 4807, 'A070025005': 4808, 'A070025006': 4809, 'A070025007': 4810, 'A070025008': 4811, 'A070025009': 4812, 'A070027001': 4813, 'A070027002': 4814, 'A070027003': 4815, 'A070027004': 4816, 'A070027005': 4817, 'A070027006': 4818, 'A070033001': 4819, 'A070033002': 4820, 'A070033003': 4821, 'A070033004': 4822, 'A070033005': 4823, 'A070033006': 4824, 'A070033007': 4825, 'A070033008': 4826, 'A070033009': 4827, 'A070035001': 4828, 'A070035002': 4829, 'A070035003': 4830, 'A070035004': 4831, 'A070035005': 4832, 'A070035006': 4833, 'A070035007': 4834, 'A070035008': 4835, 'A070035009': 4836, 'A070037001': 4837, 'A070037002': 4838, 'A070037003': 4839, 'A070037004': 4840, 'A070037005': 4841, 'A070037006': 4842, 'A070043001': 4843, 'A070043002': 4844, 'A070043004': 4845, 'A070043005': 4846, 'A070043006': 4847, 'A070043007': 4848, 'A070043008': 4849, 'A070043009': 4850, 'A070043010': 4851, 'A070043011': 4852, 'A070043012': 4853, 'A070043003': 4854, 'A070019001': 4855, 'A070019002': 4856, 'A070019003': 4857, 'A070019004': 4858, 'A070019005': 4859, 'A070019006': 4860, 'A070021001': 4861, 'A070021002': 4862, 'A070021003': 4863, 'A070021004': 4864, 'A070021005': 4865, 'A070021006': 4866, 'A070021007': 4867, 'A070021008': 4868, 'A070021009': 4869, 'A070031001': 4870, 'A070031002': 4871, 'A070031003': 4872, 'A070031004': 4873, 'A070031005': 4874, 'A070031006': 4875, 'A070031007': 4876, 'A070031008': 4877, 'A070031009': 4878, 'A070029001': 4879, 'A070029002': 4880, 'A070029003': 4881, 'A070029004': 4882, 'A070029005': 4883, 'A070029006': 4884, 'A070029007': 4885, 'A070029008': 4886, 'A070029009': 4887, 'A070039001': 4888, 'A070039002': 4889, 'A070039003': 4890, 'A070039004': 4891, 'A070039005': 4892, 'A070039006': 4893, 'A070045001': 4894, 'A070045002': 4895, 'A070045003': 4896, 'A070045004': 4897, 'A070045005': 4898, 'A070045006': 4899, 'A070045007': 4900, 'A070045008': 4901, 'A070045009': 4902, 'A070047001': 4903, 'A070047002': 4904, 'A070047003': 4905, 'A070047004': 4906, 'A070047005': 4907, 'A070047006': 4908, 'A070047007': 4909, 'A070047008': 4910, 'A070047009': 4911, 'A070049001': 4912, 'A070049002': 4913, 'A070049003': 4914, 'A070049004': 4915, 'A070049005': 4916, 'A070049006': 4917, 'A070049007': 4918, 'A070049008': 4919, 'A070049009': 4920, 'A070051001': 4921, 'A070051002': 4922, 'A070051003': 4923, 'A070051004': 4924, 'A070051006': 4925, 'A070051005': 4926, 'A070051007': 4927, 'A070051008': 4928, 'A070051009': 4929, 'A070051012': 4930, 'A070051010': 4931, 'A070051011': 4932, 'A070053001': 4933, 'A070053002': 4934, 'A070053003': 4935, 'A070053004': 4936, 'A070053005': 4937, 'A070053006': 4938, 'A070059001': 4939, 'A070059002': 4940, 'A070059003': 4941, 'A070059004': 4942, 'A070059005': 4943, 'A070059006': 4944, 'A070061001': 4945, 'A070061002': 4946, 'A070061003': 4947, 'A070061005': 4948, 'A070061007': 4949, 'A070061004': 4950, 'A070061006': 4951, 'A070061008': 4952, 'A070061009': 4953, 'A070057001': 4954, 'A070057002': 4955, 'A070057003': 4956, 'A070057004': 4957, 'A070057005': 4958, 'A070057006': 4959, 'A070057007': 4960, 'A070057008': 4961, 'A070057009': 4962, 'A070057010': 4963, 'A070057011': 4964, 'A070057012': 4965, 'A070063001': 4966, 'A070063002': 4967, 'A070063003': 4968, 'A070063004': 4969, 'A070063005': 4970, 'A070063006': 4971, 'A070065001': 4972, 'A070065002': 4973, 'A070065003': 4974, 'A070065004': 4975, 'A070065005': 4976, 'A070065006': 4977, 'A070067001': 4978, 'A070067002': 4979, 'A070067004': 4980, 'A070067005': 4981, 'A070067006': 4982, 'A070067007': 4983, 'A070067008': 4984, 'A070067009': 4985, 'A070067010': 4986, 'A070067011': 4987, 'A070067012': 4988, 'A070067003': 4989, 'A070069001': 4990, 'A070069002': 4991, 'A070069003': 4992, 'A070069004': 4993, 'A070069005': 4994, 'A070069006': 4995, 'A070069007': 4996, 'A070069008': 4997, 'A070069009': 4998, 'A070071002': 4999, 'A070071003': 5000, 'A070071004': 5001, 'A070071005': 5002, 'A070071006': 5003, 'A070071001': 5004, 'A070073001': 5005, 'A070073002': 5006, 'A070073004': 5007, 'A070073005': 5008, 'A070073006': 5009, 'A070073007': 5010, 'A070073008': 5011, 'A070073009': 5012, 'A070073003': 5013, 'A070075001': 5014, 'A070075002': 5015, 'A070075003': 5016, 'A070075004': 5017, 'A070075005': 5018, 'A070075006': 5019, 'A070077001': 5020, 'A070077002': 5021, 'A070077003': 5022, 'A070077004': 5023, 'A070077005': 5024, 'A070077006': 5025, 'A040122001': 5026, 'A040122002': 5027, 'A040122003': 5028, 'A040122004': 5029, 'A040122005': 5030, 'A040126001': 5031, 'A040126002': 5032, 'A040126003': 5033, 'A040126004': 5034, 'A040126005': 5035, 'A040128001': 5036, 'A040128002': 5037, 'A040128003': 5038, 'A040128004': 5039, 'A040128005': 5040, 'A040130001': 5041, 'A040130002': 5042, 'A040130003': 5043, 'A040130004': 5044, 'A040130005': 5045, 'A040137001': 5046, 'A040137002': 5047, 'A040137003': 5048, 'A040137004': 5049, 'A040137005': 5050, 'A040145001': 5051, 'A040145002': 5052, 'A040145003': 5053, 'A040145004': 5054, 'A040145005': 5055, 'A040147001': 5056, 'A040147002': 5057, 'A040147003': 5058, 'A040147004': 5059, 'A040147005': 5060, 'A070101001': 5061, 'A070101002': 5062, 'A070101003': 5063, 'A070101004': 5064, 'A070101005': 5065, 'A070101006': 5066, 'A070101007': 5067, 'A070101008': 5068, 'A040149001': 5069, 'A040149002': 5070, 'A040149003': 5071, 'A040149004': 5072, 'A040149005': 5073, 'A020028001': 5074, 'A020028002': 5075, 'A020028003': 5076, 'A020028004': 5077, 'A020028005': 5078, 'A020031001': 5079, 'A020031002': 5080, 'A020031003': 5081, 'A020031004': 5082, 'A020031005': 5083, 'A020031006': 5084, 'A020032001': 5085, 'A020032002': 5086, 'A020032003': 5087, 'A020032004': 5088, 'A020032005': 5089, 'A020032006': 5090, 'A020026001': 5091, 'A020026002': 5092, 'A070041001': 5093, 'A070041002': 5094, 'A070041003': 5095, 'A070041004': 5096, 'A070041005': 5097, 'A070041006': 5098, 'A020058001': 5099, 'A020058002': 5100, 'A020058003': 5101, 'A020058004': 5102, 'A020058005': 5103, 'A020058006': 5104, 'A070055001': 5105, 'A070055002': 5106, 'A070055003': 5107, 'A070055004': 5108, 'A070055005': 5109, 'A070055006': 5110, 'A070055007': 5111, 'A070055008': 5112, 'A070055009': 5113, 'A070079001': 5114, 'A070079002': 5115, 'A070079003': 5116, 'A070079004': 5117, 'A070079005': 5118, 'A070079006': 5119, 'A070079007': 5120, 'A070079008': 5121, 'A070079009': 5122, 'A070081001': 5123, 'A070081002': 5124, 'A070081003': 5125, 'A070081004': 5126, 'A070081005': 5127, 'A070081006': 5128, 'A070083001': 5129, 'A070083002': 5130, 'A070083003': 5131, 'A070083004': 5132, 'A070083005': 5133, 'A070083006': 5134, 'A070083007': 5135, 'A070083008': 5136, 'A070083009': 5137, 'A020109001': 5138, 'A020109002': 5139, 'A020109003': 5140, 'A020109004': 5141, 'A020109005': 5142, 'A020109006': 5143, 'A070085001': 5144, 'A070085002': 5145, 'A070085003': 5146, 'A070085004': 5147, 'A070085005': 5148, 'A070085006': 5149, 'A070087001': 5150, 'A070087002': 5151, 'A070087003': 5152, 'A070087004': 5153, 'A070087005': 5154, 'A070087006': 5155, 'A070087007': 5156, 'A070087008': 5157, 'A020064001': 5158, 'A020064002': 5159, 'A020064003': 5160, 'A020064004': 5161, 'A020064005': 5162, 'A020064006': 5163, 'A020065001': 5164, 'A020065002': 5165, 'A020065003': 5166, 'A020065004': 5167, 'A020065005': 5168, 'A020065006': 5169, 'A070089001': 5170, 'A070089002': 5171, 'A070089003': 5172, 'A070089004': 5173, 'A070089005': 5174, 'A070089006': 5175, 'A070089007': 5176, 'A070089008': 5177, 'A070091001': 5178, 'A070091002': 5179, 'A070091003': 5180, 'A070091004': 5181, 'A070091005': 5182, 'A070091006': 5183, 'A070091007': 5184, 'A070091008': 5185, 'A070093001': 5186, 'A070093002': 5187, 'A070093003': 5188, 'A070093004': 5189, 'A070093005': 5190, 'A070093006': 5191, 'A070093007': 5192, 'A070093008': 5193, 'A070095001': 5194, 'A070095002': 5195, 'A070095003': 5196, 'A070095004': 5197, 'A070095005': 5198, 'A070095006': 5199, 'A070095007': 5200, 'A070095008': 5201, 'A070097001': 5202, 'A070097002': 5203, 'A070097003': 5204, 'A070097004': 5205, 'A070097005': 5206, 'A070097006': 5207, 'A070097007': 5208, 'A070097008': 5209, 'A020073001': 5210, 'A020073002': 5211, 'A020073003': 5212, 'A020073004': 5213, 'A020073005': 5214, 'A070099001': 5215, 'A070099002': 5216, 'A070099003': 5217, 'A070099004': 5218, 'A070099005': 5219, 'A070099006': 5220, 'A070099007': 5221, 'A070099008': 5222, 'A070103001': 5223, 'A070103002': 5224, 'A070103003': 5225, 'A070103004': 5226, 'A070103005': 5227, 'A070103006': 5228, 'A070103008': 5229, 'A070103007': 5230, 'A020090001': 5231, 'A020090002': 5232, 'A020090003': 5233, 'A020090004': 5234, 'A020090005': 5235, 'A020090006': 5236, 'A020090007': 5237, 'A020090008': 5238, 'A020090009': 5239, 'A020090010': 5240, 'A070105001': 5241, 'A070105002': 5242, 'A070105003': 5243, 'A070105006': 5244, 'A070105008': 5245, 'A070105004': 5246, 'A070105005': 5247, 'A070105007': 5248, 'A070107001': 5249, 'A070107002': 5250, 'A070107003': 5251, 'A070107004': 5252, 'A070107005': 5253, 'A070107006': 5254, 'A070107007': 5255, 'A070107008': 5256, 'A070109001': 5257, 'A070109002': 5258, 'A070109003': 5259, 'A070109004': 5260, 'A070109005': 5261, 'A070109006': 5262, 'A070109007': 5263, 'A070109008': 5264, 'A070110001': 5265, 'A070110002': 5266, 'A070110003': 5267, 'A070110004': 5268, 'A070110005': 5269, 'A070110006': 5270, 'A070110007': 5271, 'A070110008': 5272, 'A090057001': 5273, 'A090057002': 5274, 'A090057003': 5275, 'A090057004': 5276, 'A090057005': 5277, 'A090057006': 5278, 'A090057007': 5279, 'A090057008': 5280, 'A070111001': 5281, 'A070111002': 5282, 'A070111003': 5283, 'A070111004': 5284, 'A070111005': 5285, 'A070111006': 5286, 'A070111007': 5287, 'A070111008': 5288, 'A090059001': 5289, 'A090059002': 5290, 'A090059003': 5291, 'A090059004': 5292, 'A090059005': 5293, 'A090059006': 5294, 'A070112001': 5295, 'A070112002': 5296, 'A070112003': 5297, 'A070112004': 5298, 'A070112005': 5299, 'A070112006': 5300, 'A070113001': 5301, 'A070113002': 5302, 'A070113003': 5303, 'A070113004': 5304, 'A070113005': 5305, 'A070113006': 5306, 'A070114001': 5307, 'A070114002': 5308, 'A070114003': 5309, 'A070114004': 5310, 'A070114005': 5311, 'A070114006': 5312, 'A070114007': 5313, 'A070114008': 5314, 'A070115001': 5315, 'A070115002': 5316, 'A070115003': 5317, 'A070115004': 5318, 'A070115005': 5319, 'A070115006': 5320, 'A070115007': 5321, 'A070115008': 5322, 'A070116001': 5323, 'A070116002': 5324, 'A070116003': 5325, 'A070116004': 5326, 'A070116005': 5327, 'A070116006': 5328, 'A070127001': 5329, 'A070127002': 5330, 'A070127003': 5331, 'A070127004': 5332, 'A070127005': 5333, 'A070127006': 5334, 'A070127007': 5335, 'A070127008': 5336, 'A070128001': 5337, 'A070128002': 5338, 'A070128003': 5339, 'A070128005': 5340, 'A070128006': 5341, 'A070128004': 5342, 'A070128008': 5343, 'A070128007': 5344, 'A070129001': 5345, 'A070129002': 5346, 'A070129003': 5347, 'A070129004': 5348, 'A070129005': 5349, 'A070129006': 5350, 'A070129007': 5351, 'A070129008': 5352, 'A070130001': 5353, 'A070130002': 5354, 'A070130003': 5355, 'A070130004': 5356, 'A070130005': 5357, 'A070130006': 5358, 'A070130007': 5359, 'A070130008': 5360, 'A070135001': 5361, 'A070135002': 5362, 'A070135003': 5363, 'A070135004': 5364, 'A070135005': 5365, 'A070135006': 5366, 'A070135007': 5367, 'A070135008': 5368, 'A070137001': 5369, 'A070137002': 5370, 'A070137003': 5371, 'A070137004': 5372, 'A070137005': 5373, 'A070137006': 5374, 'A070139001': 5375, 'A070139002': 5376, 'A070139003': 5377, 'A070139004': 5378, 'A070139005': 5379, 'A070139006': 5380, 'A070139007': 5381, 'A070139008': 5382, 'A010017001': 5383, 'A010017002': 5384, 'A010017003': 5385, 'A010017004': 5386, 'A010017005': 5387, 'A010017006': 5388, 'A010017007': 5389, 'A010017008': 5390, 'A010052001': 5391, 'A010052002': 5392, 'A010052003': 5393, 'A010052004': 5394, 'A010052005': 5395, 'A010052006': 5396, 'A010053001': 5397, 'A010053002': 5398, 'A010053003': 5399, 'A010053004': 5400, 'A010053005': 5401, 'A010055001': 5402, 'A010055002': 5403, 'A010055003': 5404, 'A010055004': 5405, 'A010056001': 5406, 'A010056002': 5407, 'A010056003': 5408, 'A010056004': 5409, 'A010056005': 5410, 'A010059001': 5411, 'A010059002': 5412, 'A010059003': 5413, 'A010059004': 5414, 'A010059005': 5415, 'A010059006': 5416, 'A010069001': 5417, 'A010069002': 5418, 'A010069003': 5419, 'A010069004': 5420, 'A010069005': 5421, 'A010071003': 5422, 'A010071004': 5423, 'A010071005': 5424, 'A010071006': 5425, 'A010071001': 5426, 'A010071002': 5427, 'A010091001': 5428, 'A010091002': 5429, 'A010091003': 5430, 'A010091004': 5431, 'A010091005': 5432, 'A010091006': 5433, 'A010024001': 5434, 'A010024002': 5435, 'A010024003': 5436, 'A010024004': 5437, 'A010024005': 5438, 'A010092001': 5439, 'A010092002': 5440, 'A010092003': 5441, 'A010092004': 5442, 'A010092005': 5443, 'A010092006': 5444, 'A010093001': 5445, 'A010093002': 5446, 'A010093003': 5447, 'A010093004': 5448, 'A010093005': 5449, 'A010028001': 5450, 'A010028002': 5451, 'A010028003': 5452, 'A010028004': 5453, 'A010028005': 5454, 'A010085001': 5455, 'A010085002': 5456, 'A010085003': 5457, 'A010085004': 5458, 'A010085005': 5459, 'A010041001': 5460, 'A010041002': 5461, 'A010041003': 5462, 'A010041004': 5463, 'A010041005': 5464, 'A010043001': 5465, 'A010043002': 5466, 'A010043003': 5467, 'A010043004': 5468, 'A010043005': 5469, 'A010047001': 5470, 'A010047002': 5471, 'A010047003': 5472, 'A010047004': 5473, 'A010047005': 5474, 'A010062001': 5475, 'A010062002': 5476, 'A010062003': 5477, 'A010062004': 5478, 'A010062005': 5479, 'A010064001': 5480, 'A010064002': 5481, 'A010064003': 5482, 'A010064004': 5483, 'A010064005': 5484, 'A010066001': 5485, 'A010066002': 5486, 'A010066003': 5487, 'A010066004': 5488, 'A010066005': 5489, 'A010082001': 5490, 'A010082002': 5491, 'A010082003': 5492, 'A010082004': 5493, 'A010082005': 5494, 'A010090001': 5495, 'A010090002': 5496, 'A010090003': 5497, 'A010090004': 5498, 'A010090005': 5499, 'A010104001': 5500, 'A010104002': 5501, 'A010104003': 5502, 'A010104004': 5503, 'A010104005': 5504, 'A010105001': 5505, 'A010105002': 5506, 'A010105003': 5507, 'A010105004': 5508, 'A010105005': 5509, 'A010105006': 5510, 'A010106001': 5511, 'A010106002': 5512, 'A010106003': 5513, 'A010106004': 5514, 'A010106005': 5515, 'A010108001': 5516, 'A010108002': 5517, 'A010108003': 5518, 'A010108004': 5519, 'A010108005': 5520, 'A010109001': 5521, 'A010109002': 5522, 'A010109003': 5523, 'A010109004': 5524, 'A010109005': 5525, 'A010109006': 5526, 'A010111001': 5527, 'A010111002': 5528, 'A010111003': 5529, 'A010111004': 5530, 'A010111005': 5531, 'A010112001': 5532, 'A010112002': 5533, 'A010112003': 5534, 'A010112004': 5535, 'A010112005': 5536, 'A010112006': 5537, 'A010097001': 5538, 'A010097002': 5539, 'A010097003': 5540, 'A010097004': 5541, 'A010097005': 5542, 'A010099001': 5543, 'A010099002': 5544, 'A010099003': 5545, 'A010099004': 5546, 'A010099005': 5547, 'A010101001': 5548, 'A010101002': 5549, 'A010101003': 5550, 'A010101004': 5551, 'A010101005': 5552, 'A010103001': 5553, 'A010103002': 5554, 'A010103003': 5555, 'A010103004': 5556, 'A010103005': 5557, 'A010113001': 5558, 'A010113002': 5559, 'A010113003': 5560, 'A010113004': 5561, 'A010113005': 5562, 'A010113006': 5563, 'A010114001': 5564, 'A010114002': 5565, 'A010114003': 5566, 'A010114004': 5567, 'A010114005': 5568, 'A010115001': 5569, 'A010115002': 5570, 'A010115003': 5571, 'A010115004': 5572, 'A010115005': 5573, 'A010116001': 5574, 'A010116002': 5575, 'A010116003': 5576, 'A010116004': 5577, 'A010116005': 5578, 'A010137001': 5579, 'A010137002': 5580, 'A010137003': 5581, 'A010137004': 5582, 'A010137005': 5583, 'A010137006': 5584, 'A010137007': 5585, 'A010138001': 5586, 'A010138002': 5587, 'A010138003': 5588, 'A010138004': 5589, 'A010151001': 5590, 'A010151002': 5591, 'A010151003': 5592, 'A010151004': 5593, 'A010151005': 5594, 'A010151006': 5595, 'A020170001': 5596, 'A020170002': 5597, 'A020170003': 5598, 'A020170004': 5599, 'A020170005': 5600, 'A020170006': 5601, 'A010152001': 5602, 'A010152002': 5603, 'A010152003': 5604, 'A010152004': 5605, 'A010152005': 5606, 'A020171001': 5607, 'A020171002': 5608, 'A020171003': 5609, 'A020171004': 5610, 'A020171005': 5611, 'A020171006': 5612, 'A010153001': 5613, 'A010153002': 5614, 'A010153003': 5615, 'A010153004': 5616, 'A010153005': 5617, 'A010153006': 5618, 'A020005001': 5619, 'A020005002': 5620, 'A020005003': 5621, 'A020005004': 5622, 'A020005005': 5623, 'A020007001': 5624, 'A020007002': 5625, 'A020007003': 5626, 'A020007004': 5627, 'A020007005': 5628, 'A020009001': 5629, 'A020009002': 5630, 'A020009003': 5631, 'A020009004': 5632, 'A020009005': 5633, 'A020011001': 5634, 'A020011002': 5635, 'A020011003': 5636, 'A020011004': 5637, 'A020011005': 5638, 'A020001001': 5639, 'A020001002': 5640, 'A020001003': 5641, 'A020001004': 5642, 'A020001005': 5643, 'A020013001': 5644, 'A020013002': 5645, 'A020013003': 5646, 'A020013004': 5647, 'A020013005': 5648, 'A020015001': 5649, 'A020015002': 5650, 'A020015003': 5651, 'A020015004': 5652, 'A020015005': 5653, 'A020017001': 5654, 'A020017002': 5655, 'A020017003': 5656, 'A020017004': 5657, 'A020017005': 5658, 'A020019001': 5659, 'A020019002': 5660, 'A020019003': 5661, 'A020019004': 5662, 'A020019005': 5663, 'A020021001': 5664, 'A020021002': 5665, 'A020021003': 5666, 'A020021004': 5667, 'A020021005': 5668, 'A020023001': 5669, 'A020023002': 5670, 'A020023003': 5671, 'A020023004': 5672, 'A020023005': 5673, 'A020037001': 5674, 'A020037002': 5675, 'A020037003': 5676, 'A020037004': 5677, 'A020037005': 5678, 'A020039001': 5679, 'A020039002': 5680, 'A020039003': 5681, 'A020039004': 5682, 'A020039005': 5683, 'A020041001': 5684, 'A020041002': 5685, 'A020041003': 5686, 'A020041004': 5687, 'A020041005': 5688, 'A020043001': 5689, 'A020043002': 5690, 'A020043003': 5691, 'A020043004': 5692, 'A020043005': 5693, 'A020045001': 5694, 'A020045002': 5695, 'A020045003': 5696, 'A020045004': 5697, 'A020045005': 5698, 'A020047001': 5699, 'A020047002': 5700, 'A020047003': 5701, 'A020047004': 5702, 'A020047005': 5703, 'A020049001': 5704, 'A020049002': 5705, 'A020049003': 5706, 'A020049004': 5707, 'A020049005': 5708, 'A020060001': 5709, 'A020060002': 5710, 'A020060003': 5711, 'A020060004': 5712, 'A020060005': 5713, 'A020051001': 5714, 'A020051002': 5715, 'A020051003': 5716, 'A020051004': 5717, 'A020051005': 5718, 'A020062001': 5719, 'A020062002': 5720, 'A020062003': 5721, 'A020062004': 5722, 'A020062005': 5723, 'A020053001': 5724, 'A020053002': 5725, 'A020053003': 5726, 'A020053004': 5727, 'A020053005': 5728, 'A020070001': 5729, 'A020070002': 5730, 'A020070003': 5731, 'A020070004': 5732, 'A020070005': 5733, 'A020076001': 5734, 'A020076002': 5735, 'A020076003': 5736, 'A020076004': 5737, 'A020076005': 5738, 'A020078001': 5739, 'A020078002': 5740, 'A020078003': 5741, 'A020078004': 5742, 'A020078005': 5743, 'A020080001': 5744, 'A020080002': 5745, 'A020080003': 5746, 'A020080004': 5747, 'A020080005': 5748, 'A020082001': 5749, 'A020082002': 5750, 'A020082003': 5751, 'A020082004': 5752, 'A020082005': 5753, 'A020084001': 5754, 'A020084002': 5755, 'A020084003': 5756, 'A020084004': 5757, 'A020084005': 5758, 'A020091001': 5759, 'A020091002': 5760, 'A020091003': 5761, 'A020091004': 5762, 'A020091005': 5763, 'A020093001': 5764, 'A020093002': 5765, 'A020093003': 5766, 'A020093004': 5767, 'A020093005': 5768, 'A020095001': 5769, 'A020095002': 5770, 'A020095003': 5771, 'A020095004': 5772, 'A020095005': 5773, 'A020055001': 5774, 'A020055002': 5775, 'A020055003': 5776, 'A020055004': 5777, 'A020055005': 5778, 'A020055006': 5779, 'A020056001': 5780, 'A020056002': 5781, 'A020056003': 5782, 'A020056004': 5783, 'A020056005': 5784, 'A020056006': 5785, 'A020059001': 5786, 'A020059002': 5787, 'A020059003': 5788, 'A020059004': 5789, 'A020059005': 5790, 'A020059006': 5791, 'A030111001': 5792, 'A030111002': 5793, 'A030111003': 5794, 'A030111004': 5795, 'A030111005': 5796, 'A020067001': 5797, 'A020067002': 5798, 'A020067003': 5799, 'A020067004': 5800, 'A020067005': 5801, 'A020067006': 5802, 'A030147001': 5803, 'A030147002': 5804, 'A030147003': 5805, 'A030147004': 5806, 'A030147005': 5807, 'A030165001': 5808, 'A030165002': 5809, 'A030165003': 5810, 'A030165004': 5811, 'A030165005': 5812, 'A030167001': 5813, 'A030167002': 5814, 'A030167003': 5815, 'A030167004': 5816, 'A030167005': 5817, 'A030171001': 5818, 'A030171002': 5819, 'A030171003': 5820, 'A030171004': 5821, 'A030171005': 5822, 'A020088001': 5823, 'A020088002': 5824, 'A020088003': 5825, 'A020088004': 5826, 'A020088005': 5827, 'A020088006': 5828, 'A020088007': 5829, 'A030173001': 5830, 'A030173002': 5831, 'A030173003': 5832, 'A030173004': 5833, 'A030173005': 5834, 'A030175001': 5835, 'A030175002': 5836, 'A030175003': 5837, 'A030175004': 5838, 'A030175005': 5839, 'A030177001': 5840, 'A030177002': 5841, 'A030177003': 5842, 'A030177004': 5843, 'A030177005': 5844, 'A030179001': 5845, 'A030179002': 5846, 'A030179003': 5847, 'A030179004': 5848, 'A030179005': 5849, 'A030181001': 5850, 'A030181002': 5851, 'A030181003': 5852, 'A030181004': 5853, 'A030181005': 5854, 'A030183001': 5855, 'A030183002': 5856, 'A030183003': 5857, 'A030183004': 5858, 'A030183005': 5859, 'A030195001': 5860, 'A030195002': 5861, 'A030195003': 5862, 'A030195004': 5863, 'A030195005': 5864, 'A030197001': 5865, 'A030197002': 5866, 'A030197003': 5867, 'A030197004': 5868, 'A030197005': 5869, 'A020097001': 5870, 'A020097002': 5871, 'A020097003': 5872, 'A020097004': 5873, 'A020097005': 5874, 'A020099001': 5875, 'A020099002': 5876, 'A020099003': 5877, 'A020099004': 5878, 'A020099005': 5879, 'A020101001': 5880, 'A020101002': 5881, 'A020101003': 5882, 'A020101004': 5883, 'A020101005': 5884, 'A020103001': 5885, 'A020103002': 5886, 'A020103003': 5887, 'A020103004': 5888, 'A020103005': 5889, 'A020105001': 5890, 'A020105002': 5891, 'A020105003': 5892, 'A020105004': 5893, 'A020105005': 5894, 'A020107001': 5895, 'A020107002': 5896, 'A020107003': 5897, 'A020107004': 5898, 'A020107005': 5899, 'A020115001': 5900, 'A020115002': 5901, 'A020115003': 5902, 'A020115004': 5903, 'A020115005': 5904, 'A020117001': 5905, 'A020117002': 5906, 'A020117003': 5907, 'A020117004': 5908, 'A020117005': 5909, 'A020121001': 5910, 'A020121002': 5911, 'A020121003': 5912, 'A020121004': 5913, 'A020121005': 5914, 'A020123001': 5915, 'A020123002': 5916, 'A020123003': 5917, 'A020123004': 5918, 'A020123005': 5919, 'A030133001': 5920, 'A030133005': 5921, 'A030133004': 5922, 'A030133003': 5923, 'A030133002': 5924, 'A030134001': 5925, 'A030134002': 5926, 'A030134003': 5927, 'A030134004': 5928, 'A030134005': 5929, 'A030134006': 5930, 'A020142001': 5931, 'A020142002': 5932, 'A020142003': 5933, 'A020142004': 5934, 'A020142005': 5935, 'A030157001': 5936, 'A030157002': 5937, 'A030157003': 5938, 'A030157004': 5939, 'A030157005': 5940, 'A030157006': 5941, 'A030157007': 5942, 'A030157008': 5943, 'A030158001': 5944, 'A030158002': 5945, 'A030158003': 5946, 'A030158004': 5947, 'A030158005': 5948, 'A030158006': 5949, 'A070117001': 5950, 'A070117002': 5951, 'A070117003': 5952, 'A070117004': 5953, 'A070117005': 5954, 'A070117006': 5955, 'A070117008': 5956, 'A070117007': 5957, 'A070141001': 5958, 'A070141002': 5959, 'A070141003': 5960, 'A070141004': 5961, 'A070141005': 5962, 'A070141006': 5963, 'A070141007': 5964, 'A070141008': 5965, 'A070147001': 5966, 'A070147002': 5967, 'A070147003': 5968, 'A070147004': 5969, 'A070147005': 5970, 'A070147006': 5971, 'A070147007': 5972, 'A070147008': 5973, 'A070149001': 5974, 'A070149002': 5975, 'A070149003': 5976, 'A070149004': 5977, 'A070149005': 5978, 'A070149006': 5979, 'A070149008': 5980, 'A070149007': 5981, 'A070151001': 5982, 'A070151002': 5983, 'A070151003': 5984, 'A070151004': 5985, 'A070151005': 5986, 'A070151006': 5987, 'A070151007': 5988, 'A070151008': 5989, 'A070153001': 5990, 'A070153002': 5991, 'A070153003': 5992, 'A070153004': 5993, 'A070153005': 5994, 'A070153006': 5995, 'A070153007': 5996, 'A070153008': 5997, 'A070145001': 5998, 'A070145002': 5999, 'A070145003': 6000, 'A070145004': 6001, 'A070145005': 6002, 'A070145006': 6003, 'A070145007': 6004, 'A070145008': 6005, 'A070155001': 6006, 'A070155002': 6007, 'A070155003': 6008, 'A070155004': 6009, 'A070155005': 6010, 'A070155006': 6011, 'A010003001': 6012, 'A010003002': 6013, 'A010003003': 6014, 'A010003004': 6015, 'A010003005': 6016, 'A020003001': 6017, 'A020003002': 6018, 'A020003003': 6019, 'A020003005': 6020, 'A020029001': 6021, 'A020029002': 6022, 'A020029003': 6023, 'A020029004': 6024, 'A020029005': 6025, 'A020025001': 6026, 'A020025002': 6027, 'A020025003': 6028, 'A020025004': 6029, 'A020025005': 6030, 'A020025006': 6031, 'A020025007': 6032, 'A010026001': 6033, 'A010026002': 6034, 'A010026003': 6035, 'A010026004': 6036, 'A010026005': 6037, 'A010026006': 6038, 'A020050001': 6039, 'A020050002': 6040, 'A020050003': 6041, 'A020050004': 6042, 'A020050005': 6043, 'A010022001': 6044, 'A010022002': 6045, 'A010022003': 6046, 'A010022004': 6047, 'A010022005': 6048, 'A010022006': 6049, 'A010023001': 6050, 'A010023002': 6051, 'A010023003': 6052, 'A010023004': 6053, 'A010051001': 6054, 'A010051002': 6055, 'A010051003': 6056, 'A010051004': 6057, 'A010051005': 6058, 'A010094001': 6059, 'A010094002': 6060, 'A010094003': 6061, 'A010094004': 6062, 'A010094005': 6063, 'A020129001': 6064, 'A020129002': 6065, 'A020129003': 6066, 'A020129004': 6067, 'A020129005': 6068, 'A010102001': 6069, 'A010102002': 6070, 'A010102003': 6071, 'A010102004': 6072, 'A010102005': 6073, 'A020148001': 6074, 'A020148002': 6075, 'A020148003': 6076, 'A020148004': 6077, 'A020148005': 6078, 'A010119001': 6079, 'A010119002': 6080, 'A010119003': 6081, 'A010119004': 6082, 'A010119005': 6083, 'A020150001': 6084, 'A020150002': 6085, 'A020150003': 6086, 'A020150004': 6087, 'A020150005': 6088, 'A020157001': 6089, 'A020157002': 6090, 'A020157003': 6091, 'A020157004': 6092, 'A020157005': 6093, 'A010121001': 6094, 'A010121002': 6095, 'A010121003': 6096, 'A010121004': 6097, 'A010121005': 6098, 'A020159001': 6099, 'A020159002': 6100, 'A020159003': 6101, 'A020159004': 6102, 'A020159005': 6103, 'A020125001': 6104, 'A020125002': 6105, 'A020125003': 6106, 'A020125004': 6107, 'A020125005': 6108, 'A020161001': 6109, 'A020161002': 6110, 'A020161003': 6111, 'A020161004': 6112, 'A020161005': 6113, 'A020163001': 6114, 'A020163002': 6115, 'A020163003': 6116, 'A020163004': 6117, 'A020163005': 6118, 'A010123001': 6119, 'A010123002': 6120, 'A010123003': 6121, 'A010123004': 6122, 'A010123005': 6123, 'A020127001': 6124, 'A020127002': 6125, 'A020127003': 6126, 'A020127004': 6127, 'A020127005': 6128, 'A020165001': 6129, 'A020165002': 6130, 'A020165004': 6131, 'A020165005': 6132, 'A020165003': 6133, 'A020167001': 6134, 'A020167002': 6135, 'A020167003': 6136, 'A020167004': 6137, 'A020167005': 6138, 'A020175001': 6139, 'A020175002': 6140, 'A020175003': 6141, 'A020175004': 6142, 'A020175005': 6143, 'A020131001': 6144, 'A020131002': 6145, 'A020131003': 6146, 'A020131004': 6147, 'A020131005': 6148, 'A020177001': 6149, 'A020177002': 6150, 'A020177003': 6151, 'A020177004': 6152, 'A020177005': 6153, 'A010127001': 6154, 'A010127002': 6155, 'A010127003': 6156, 'A010127004': 6157, 'A010127005': 6158, 'A020179001': 6159, 'A020179002': 6160, 'A020179004': 6161, 'A020179005': 6162, 'A020184001': 6163, 'A020184002': 6164, 'A020184003': 6165, 'A020184004': 6166, 'A020184005': 6167, 'A010098001': 6168, 'A010098002': 6169, 'A010098003': 6170, 'A010098004': 6171, 'A010098005': 6172, 'A020186001': 6173, 'A020186002': 6174, 'A020186003': 6175, 'A020186004': 6176, 'A020186005': 6177, 'A020188001': 6178, 'A020188002': 6179, 'A020188003': 6180, 'A020188004': 6181, 'A020188005': 6182, 'A020190001': 6183, 'A020190002': 6184, 'A020190003': 6185, 'A020190004': 6186, 'A020190005': 6187, 'A010131001': 6188, 'A010131002': 6189, 'A010131003': 6190, 'A010131004': 6191, 'A010131005': 6192, 'A010129001': 6193, 'A010129002': 6194, 'A010129003': 6195, 'A010129004': 6196, 'A010129005': 6197, 'A020133001': 6198, 'A020133002': 6199, 'A020133003': 6200, 'A020133004': 6201, 'A020133005': 6202, 'A020144001': 6203, 'A020144002': 6204, 'A020144003': 6205, 'A020144004': 6206, 'A020144005': 6207, 'A010135001': 6208, 'A010135002': 6209, 'A010135003': 6210, 'A010135004': 6211, 'A010135005': 6212, 'A020134001': 6213, 'A020134002': 6214, 'A020134003': 6215, 'A020134004': 6216, 'A020134005': 6217, 'A020143001': 6218, 'A020143002': 6219, 'A020143003': 6220, 'A020143004': 6221, 'A020143005': 6222, 'A020141001': 6223, 'A020141002': 6224, 'A020141003': 6225, 'A020141004': 6226, 'A020141005': 6227, 'A020141006': 6228, 'A020158001': 6229, 'A020158002': 6230, 'A020158003': 6231, 'A020158004': 6232, 'A020158005': 6233, 'A020160001': 6234, 'A020160002': 6235, 'A020160003': 6236, 'A020160004': 6237, 'A020160005': 6238, 'A020162001': 6239, 'A020162002': 6240, 'A020162003': 6241, 'A020162004': 6242, 'A020162005': 6243, 'A020164002': 6244, 'A020164003': 6245, 'A020164004': 6246, 'A020164005': 6247, 'A020145001': 6248, 'A020145002': 6249, 'A020145003': 6250, 'A020145004': 6251, 'A020145005': 6252, 'A020149001': 6253, 'A020149002': 6254, 'A020149003': 6255, 'A020149004': 6256, 'A020149005': 6257, 'A020146001': 6258, 'A020146002': 6259, 'A020146003': 6260, 'A020146004': 6261, 'A020146005': 6262, 'A020151001': 6263, 'A020151002': 6264, 'A020151003': 6265, 'A020151004': 6266, 'A020151005': 6267, 'A020147001': 6268, 'A020147002': 6269, 'A020147003': 6270, 'A020147004': 6271, 'A020153001': 6272, 'A020153002': 6273, 'A020153003': 6274, 'A020153004': 6275, 'A020153005': 6276, 'A020154001': 6277, 'A020154002': 6278, 'A020154003': 6279, 'A020154004': 6280, 'A020154005': 6281, 'A020154006': 6282, 'A020155001': 6283, 'A020155002': 6284, 'A020155003': 6285, 'A020155004': 6286, 'A020155005': 6287, 'A020155006': 6288, 'A020156001': 6289, 'A020156002': 6290, 'A020156003': 6291, 'A020156004': 6292, 'A020156005': 6293, 'A020156006': 6294, 'A020156007': 6295, 'A020156008': 6296, 'A020169001': 6297, 'A020169002': 6298, 'A020169003': 6299, 'A020169004': 6300, 'A020169005': 6301, 'A020169006': 6302, 'A010163001': 6303, 'A010163002': 6304, 'A010163003': 6305, 'A010163004': 6306, 'A010163005': 6307, 'A020168001': 6308, 'A020168002': 6309, 'A020168003': 6310, 'A020168004': 6311, 'A020168005': 6312, 'A040060001': 6313, 'A040060002': 6314, 'A040060003': 6315, 'A040060004': 6316, 'A040060005': 6317, 'A040080001': 6318, 'A040080002': 6319, 'A040080003': 6320, 'A040080004': 6321, 'A040080005': 6322, 'A040080006': 6323, 'A040086001': 6324, 'A040086002': 6325, 'A040086003': 6326, 'A040086004': 6327, 'A040086005': 6328, 'A040086006': 6329, 'A040087001': 6330, 'A040087002': 6331, 'A040087003': 6332, 'A040087004': 6333, 'A040087005': 6334, 'A010070001': 6335, 'A010070002': 6336, 'A010070003': 6337, 'A010070004': 6338, 'A010070005': 6339, 'A010070006': 6340, 'A030076002': 6341, 'A030076001': 6342, 'A030076003': 6343, 'A030076004': 6344, 'A030076005': 6345, 'A030185001': 6346, 'A030185002': 6347, 'A030185003': 6348, 'A030185004': 6349, 'A030185005': 6350, 'A030112001': 6351, 'A030112002': 6352, 'A030112003': 6353, 'A030112004': 6354, 'A030112005': 6355, 'A030114002': 6356, 'A030114003': 6357, 'A030114004': 6358, 'A030114005': 6359, 'A030114001': 6360, 'A030116001': 6361, 'A030116002': 6362, 'A030116003': 6363, 'A030116004': 6364, 'A030116005': 6365, 'A030118001': 6366, 'A030118002': 6367, 'A030118003': 6368, 'A030118004': 6369, 'A030118005': 6370, 'A030120005': 6371, 'A030120004': 6372, 'A030120003': 6373, 'A030120002': 6374, 'A030120001': 6375, 'A030122001': 6376, 'A030122002': 6377, 'A030122004': 6378, 'A030122005': 6379, 'A030122003': 6380, 'A030124001': 6381, 'A030124002': 6382, 'A030124003': 6383, 'A030124004': 6384, 'A030124005': 6385, 'A030126001': 6386, 'A030126002': 6387, 'A030126003': 6388, 'A030126004': 6389, 'A030126005': 6390, 'A030136001': 6391, 'A030136002': 6392, 'A030136003': 6393, 'A030136004': 6394, 'A030136005': 6395, 'A040105001': 6396, 'A040105002': 6397, 'A040105003': 6398, 'A040105004': 6399, 'A040105005': 6400, 'A030138001': 6401, 'A030138002': 6402, 'A030138003': 6403, 'A030138004': 6404, 'A030138005': 6405, 'A030140002': 6406, 'A030140001': 6407, 'A030140003': 6408, 'A030140004': 6409, 'A030140005': 6410, 'A030142002': 6411, 'A030142001': 6412, 'A030142003': 6413, 'A030142004': 6414, 'A030142005': 6415, 'A030144001': 6416, 'A030144002': 6417, 'A030144003': 6418, 'A030144004': 6419, 'A030144005': 6420, 'A030146001': 6421, 'A030146004': 6422, 'A030146002': 6423, 'A030146003': 6424, 'A030146005': 6425, 'A030148001': 6426, 'A030148002': 6427, 'A030148003': 6428, 'A030148004': 6429, 'A030148005': 6430, 'A030150001': 6431, 'A030150002': 6432, 'A030150003': 6433, 'A030150004': 6434, 'A030150005': 6435, 'A010155001': 6436, 'A010155002': 6437, 'A010155003': 6438, 'A010155004': 6439, 'A010155005': 6440, 'A020027001': 6441, 'A020027002': 6442, 'A020027003': 6443, 'A020027004': 6444, 'A020027005': 6445, 'A020027006': 6446, 'A020030001': 6447, 'A020030002': 6448, 'A020030003': 6449, 'A020030004': 6450, 'A020030005': 6451, 'A020030006': 6452, 'A030010001': 6453, 'A030010002': 6454, 'A030010003': 6455, 'A030010004': 6456, 'A030010005': 6457, 'A020033001': 6458, 'A020033002': 6459, 'A020033003': 6460, 'A020033004': 6461, 'A020033005': 6462, 'A020033006': 6463, 'A020034001': 6464, 'A020034002': 6465, 'A020034003': 6466, 'A020034004': 6467, 'A020034005': 6468, 'A020034006': 6469, 'A020035001': 6470, 'A020035002': 6471, 'A020035004': 6472, 'A020035003': 6473, 'A020035005': 6474, 'A020035006': 6475, 'A020022001': 6476, 'A020022002': 6477, 'A020022003': 6478, 'A020022004': 6479, 'A020022005': 6480, 'A020040001': 6481, 'A020040002': 6482, 'A020040003': 6483, 'A020040004': 6484, 'A020040005': 6485, 'A020046001': 6486, 'A020046002': 6487, 'A020046003': 6488, 'A020046004': 6489, 'A020046005': 6490, 'A020048001': 6491, 'A020048002': 6492, 'A020048003': 6493, 'A020048004': 6494, 'A020048005': 6495, 'A020054001': 6496, 'A020054002': 6497, 'A020054003': 6498, 'A020054004': 6499, 'A020054005': 6500, 'A010122001': 6501, 'A010122002': 6502, 'A010122003': 6503, 'A010122004': 6504, 'A010122005': 6505, 'A010124001': 6506, 'A010124002': 6507, 'A010124003': 6508, 'A010124004': 6509, 'A010124005': 6510, 'A010128001': 6511, 'A010128002': 6512, 'A010128003': 6513, 'A010128004': 6514, 'A010128005': 6515, 'A010134001': 6516, 'A010134002': 6517, 'A010134003': 6518, 'A010134004': 6519, 'A010134005': 6520, 'A010140001': 6521, 'A010140002': 6522, 'A010140003': 6523, 'A010140004': 6524, 'A010140005': 6525, 'A010142001': 6526, 'A010142002': 6527, 'A010142003': 6528, 'A010142004': 6529, 'A010142005': 6530, 'A010146001': 6531, 'A010146002': 6532, 'A010146003': 6533, 'A010146004': 6534, 'A010146005': 6535, 'A010173001': 6536, 'A010173002': 6537, 'A010173003': 6538, 'A010173004': 6539, 'A010173005': 6540, 'A010170001': 6541, 'A010170002': 6542, 'A010170003': 6543, 'A010170004': 6544, 'A010170005': 6545, 'A050002001': 6546, 'A050002002': 6547, 'A050002003': 6548, 'A050002004': 6549, 'A050002005': 6550, 'A050002006': 6551, 'A050002007': 6552, 'A050004001': 6553, 'A050004002': 6554, 'A050004003': 6555, 'A050004004': 6556, 'A050004005': 6557, 'A050004006': 6558, 'A050004007': 6559, 'A060046001': 6560, 'A060046002': 6561, 'A060046003': 6562, 'A060046004': 6563, 'A060046005': 6564, 'A060046006': 6565, 'A060047001': 6566, 'A060047002': 6567, 'A060047003': 6568, 'A060047004': 6569, 'A060047005': 6570, 'A060047006': 6571, 'A050044001': 6572, 'A050044002': 6573, 'A050044003': 6574, 'A050044004': 6575, 'A050044005': 6576, 'A050044006': 6577, 'A050044007': 6578, 'A060048001': 6579, 'A060048002': 6580, 'A060048003': 6581, 'A060048004': 6582, 'A060048005': 6583, 'A060048006': 6584, 'A060064001': 6585, 'A060064002': 6586, 'A060064003': 6587, 'A060066001': 6588, 'A060066002': 6589, 'A060066003': 6590, 'A060066004': 6591, 'A060066005': 6592, 'A060066006': 6593, 'A050052001': 6594, 'A050052002': 6595, 'A050052003': 6596, 'A050052004': 6597, 'A050052005': 6598, 'A050052006': 6599, 'A050052007': 6600, 'A050077001': 6601, 'A050077002': 6602, 'A050077003': 6603, 'A050077004': 6604, 'A050077005': 6605, 'A050077006': 6606, 'A050077007': 6607, 'A050079001': 6608, 'A050079002': 6609, 'A050079003': 6610, 'A050079004': 6611, 'A050079005': 6612, 'A050079006': 6613, 'A050079007': 6614, 'A050081001': 6615, 'A050081002': 6616, 'A050081003': 6617, 'A050081004': 6618, 'A050081005': 6619, 'A050081006': 6620, 'A050081007': 6621, 'A030159001': 6622, 'A030159002': 6623, 'A030159003': 6624, 'A030159004': 6625, 'A030159005': 6626, 'A030159006': 6627, 'A030159007': 6628, 'A050063001': 6629, 'A050063002': 6630, 'A050063003': 6631, 'A050063004': 6632, 'A050063005': 6633, 'A050063006': 6634, 'A050063007': 6635, 'A030160001': 6636, 'A030160002': 6637, 'A030160003': 6638, 'A030160004': 6639, 'A030160005': 6640, 'A050067001': 6641, 'A050067002': 6642, 'A050067003': 6643, 'A050067004': 6644, 'A050067005': 6645, 'A050067006': 6646, 'A050067007': 6647, 'A030161001': 6648, 'A030161002': 6649, 'A030161003': 6650, 'A030161004': 6651, 'A030161005': 6652, 'A030161006': 6653, 'A030161007': 6654, 'A030161008': 6655, 'A030161009': 6656, 'A030163001': 6657, 'A030163002': 6658, 'A030163003': 6659, 'A030163004': 6660, 'A030163005': 6661, 'A030163006': 6662, 'A030162001': 6663, 'A030162002': 6664, 'A030162003': 6665, 'A030162004': 6666, 'A030162005': 6667, 'A030162006': 6668, 'A050085001': 6669, 'A050085002': 6670, 'A050085003': 6671, 'A050085004': 6672, 'A050085005': 6673, 'A050085006': 6674, 'A050085007': 6675, 'A050087001': 6676, 'A050087002': 6677, 'A050087003': 6678, 'A050087004': 6679, 'A050087005': 6680, 'A050087006': 6681, 'A050087007': 6682, 'A030164001': 6683, 'A030164002': 6684, 'A030164003': 6685, 'A030164004': 6686, 'A030164005': 6687, 'A030164006': 6688, 'A030187001': 6689, 'A030187002': 6690, 'A030187003': 6691, 'A030187004': 6692, 'A030187005': 6693, 'A030187006': 6694, 'A030187007': 6695, 'A030187008': 6696, 'A030187009': 6697, 'A030187010': 6698, 'A050091001': 6699, 'A050091002': 6700, 'A050091003': 6701, 'A050091004': 6702, 'A050091006': 6703, 'A050091005': 6704, 'A050091007': 6705, 'A050093001': 6706, 'A050093002': 6707, 'A050093003': 6708, 'A050093004': 6709, 'A050093005': 6710, 'A050093006': 6711, 'A050093007': 6712, 'A030188001': 6713, 'A030188002': 6714, 'A030188003': 6715, 'A030188004': 6716, 'A030188005': 6717, 'A050014001': 6718, 'A050014002': 6719, 'A050014003': 6720, 'A050014004': 6721, 'A050014005': 6722, 'A050014006': 6723, 'A050015001': 6724, 'A050015002': 6725, 'A050015003': 6726, 'A050015004': 6727, 'A050015005': 6728, 'A050015006': 6729, 'A050016001': 6730, 'A050016002': 6731, 'A050016003': 6732, 'A050016004': 6733, 'A050016005': 6734, 'A050016006': 6735, 'A030189001': 6736, 'A030189002': 6737, 'A030189003': 6738, 'A030189004': 6739, 'A030189005': 6740, 'A030189006': 6741, 'A030190001': 6742, 'A030190002': 6743, 'A030190003': 6744, 'A030190004': 6745, 'A030190005': 6746, 'A030190006': 6747, 'A030190007': 6748, 'A030190008': 6749, 'A030190009': 6750, 'A050031001': 6751, 'A050031002': 6752, 'A050031003': 6753, 'A050031004': 6754, 'A050031005': 6755, 'A050031006': 6756, 'A050032001': 6757, 'A050032002': 6758, 'A050032003': 6759, 'A050032004': 6760, 'A050032005': 6761, 'A050032006': 6762, 'A030191001': 6763, 'A030191002': 6764, 'A030191003': 6765, 'A030191004': 6766, 'A030192001': 6767, 'A030192002': 6768, 'A030192003': 6769, 'A030192004': 6770, 'A030192005': 6771, 'A030192006': 6772, 'A050058001': 6773, 'A050058002': 6774, 'A050058003': 6775, 'A050058004': 6776, 'A050058005': 6777, 'A050058006': 6778, 'A030193001': 6779, 'A030193002': 6780, 'A030193003': 6781, 'A030193004': 6782, 'A030193005': 6783, 'A030193006': 6784, 'A030193007': 6785, 'A030193008': 6786, 'A030193009': 6787, 'A030194001': 6788, 'A030194002': 6789, 'A030194003': 6790, 'A030194004': 6791, 'A030194005': 6792, 'A030194006': 6793, 'A030194007': 6794, 'A030194008': 6795, 'A050098001': 6796, 'A050098002': 6797, 'A050098003': 6798, 'A050098004': 6799, 'A050098005': 6800, 'A050098006': 6801, 'A050103001': 6802, 'A050103002': 6803, 'A050103003': 6804, 'A050103004': 6805, 'A050103005': 6806, 'A050103006': 6807, 'A050103007': 6808, 'A050100001': 6809, 'A050100002': 6810, 'A050100003': 6811, 'A050100004': 6812, 'A050100005': 6813, 'A050100006': 6814, 'A050108001': 6815, 'A050108002': 6816, 'A050108003': 6817, 'A050108004': 6818, 'A050108005': 6819, 'A050108006': 6820, 'A050108007': 6821, 'A050116001': 6822, 'A050116002': 6823, 'A050116003': 6824, 'A050116004': 6825, 'A050116005': 6826, 'A050116006': 6827, 'A050116007': 6828, 'A050125001': 6829, 'A050125002': 6830, 'A050125003': 6831, 'A050125004': 6832, 'A050125005': 6833, 'A050125006': 6834, 'A050125007': 6835, 'A050127001': 6836, 'A050127002': 6837, 'A050127003': 6838, 'A050127004': 6839, 'A050127005': 6840, 'A050127006': 6841, 'A050127007': 6842, 'A030152001': 6843, 'A030152002': 6844, 'A030152003': 6845, 'A030152004': 6846, 'A030152005': 6847, 'A050129001': 6848, 'A050129002': 6849, 'A050129003': 6850, 'A050129004': 6851, 'A050129005': 6852, 'A050129006': 6853, 'A050129007': 6854, 'A030154001': 6855, 'A030154002': 6856, 'A030154003': 6857, 'A030154004': 6858, 'A030154005': 6859, 'A030156001': 6860, 'A030156002': 6861, 'A030156003': 6862, 'A030156004': 6863, 'A030156005': 6864, 'A050083001': 6865, 'A050083002': 6866, 'A050083003': 6867, 'A050083004': 6868, 'A050083005': 6869, 'A050083006': 6870, 'A050083007': 6871, 'A050003001': 6872, 'A050003002': 6873, 'A050003003': 6874, 'A050003004': 6875, 'A050003005': 6876, 'A050003006': 6877, 'A050003007': 6878, 'A050005001': 6879, 'A050005002': 6880, 'A050005003': 6881, 'A050005004': 6882, 'A050005005': 6883, 'A050005006': 6884, 'A050005007': 6885, 'A050007001': 6886, 'A050007002': 6887, 'A050007003': 6888, 'A050007004': 6889, 'A050007005': 6890, 'A050007006': 6891, 'A050007007': 6892, 'A050009001': 6893, 'A050009002': 6894, 'A050009003': 6895, 'A050009004': 6896, 'A050009005': 6897, 'A050009006': 6898, 'A050009007': 6899, 'A050011001': 6900, 'A050011002': 6901, 'A050011003': 6902, 'A050011004': 6903, 'A050011005': 6904, 'A050011006': 6905, 'A050011007': 6906, 'A050018001': 6907, 'A050018002': 6908, 'A050018003': 6909, 'A050018004': 6910, 'A050018005': 6911, 'A050018006': 6912, 'A050018007': 6913, 'A050020001': 6914, 'A050020002': 6915, 'A050020003': 6916, 'A050020004': 6917, 'A050020005': 6918, 'A050020006': 6919, 'A050020007': 6920, 'A050022001': 6921, 'A050022002': 6922, 'A050022003': 6923, 'A050022004': 6924, 'A050022005': 6925, 'A050022006': 6926, 'A050022007': 6927, 'A050024001': 6928, 'A050024002': 6929, 'A050024003': 6930, 'A050024004': 6931, 'A050024005': 6932, 'A050024006': 6933, 'A050024007': 6934, 'A050026001': 6935, 'A050026002': 6936, 'A050026003': 6937, 'A050026004': 6938, 'A050026005': 6939, 'A050026006': 6940, 'A050026007': 6941, 'A050028001': 6942, 'A050028002': 6943, 'A050028003': 6944, 'A050028004': 6945, 'A050028005': 6946, 'A050028006': 6947, 'A050028007': 6948, 'A050036001': 6949, 'A050036002': 6950, 'A050036003': 6951, 'A050036004': 6952, 'A050036005': 6953, 'A050036006': 6954, 'A050036007': 6955, 'A050038001': 6956, 'A050038002': 6957, 'A050038003': 6958, 'A050038004': 6959, 'A050038005': 6960, 'A050038006': 6961, 'A050038007': 6962, 'A050040001': 6963, 'A050040002': 6964, 'A050040003': 6965, 'A050040004': 6966, 'A050040005': 6967, 'A050040006': 6968, 'A050040007': 6969, 'A050045001': 6970, 'A050045002': 6971, 'A050045003': 6972, 'A050045004': 6973, 'A050045005': 6974, 'A050045006': 6975, 'A050045007': 6976, 'A050047001': 6977, 'A050047002': 6978, 'A050047003': 6979, 'A050047004': 6980, 'A050047005': 6981, 'A050047006': 6982, 'A050047007': 6983, 'A050049001': 6984, 'A050049002': 6985, 'A050049003': 6986, 'A050049004': 6987, 'A050049005': 6988, 'A050049006': 6989, 'A050049007': 6990, 'A050051001': 6991, 'A050051002': 6992, 'A050051003': 6993, 'A050051004': 6994, 'A050051005': 6995, 'A050051006': 6996, 'A050053001': 6997, 'A050053002': 6998, 'A050053003': 6999, 'A050053004': 7000, 'A050053005': 7001, 'A050053006': 7002, 'A050053007': 7003, 'A050060001': 7004, 'A050060002': 7005, 'A050060003': 7006, 'A050060004': 7007, 'A050060005': 7008, 'A050060006': 7009, 'A050060007': 7010, 'A050062001': 7011, 'A050062002': 7012, 'A050062003': 7013, 'A050062004': 7014, 'A050062005': 7015, 'A050062006': 7016, 'A050062007': 7017, 'A050064001': 7018, 'A050064002': 7019, 'A050064003': 7020, 'A050064004': 7021, 'A050064005': 7022, 'A050064006': 7023, 'A050064007': 7024, 'A050066001': 7025, 'A050066002': 7026, 'A050066003': 7027, 'A050066004': 7028, 'A050066005': 7029, 'A050066006': 7030, 'A050066007': 7031, 'A050068001': 7032, 'A050068002': 7033, 'A050068003': 7034, 'A050068004': 7035, 'A050068005': 7036, 'A050068006': 7037, 'A050068007': 7038, 'A050070001': 7039, 'A050070002': 7040, 'A050070003': 7041, 'A050078001': 7042, 'A050078002': 7043, 'A050078003': 7044, 'A050078004': 7045, 'A050078005': 7046, 'A050078006': 7047, 'A050078007': 7048, 'A050070004': 7049, 'A050070005': 7050, 'A050070006': 7051, 'A050070007': 7052, 'A050080001': 7053, 'A050080002': 7054, 'A050080003': 7055, 'A050080004': 7056, 'A050080005': 7057, 'A050080006': 7058, 'A050080007': 7059, 'A050082001': 7060, 'A050082002': 7061, 'A050082003': 7062, 'A050082004': 7063, 'A050082005': 7064, 'A050082006': 7065, 'A050082007': 7066, 'A050084001': 7067, 'A050084002': 7068, 'A050084003': 7069, 'A050084004': 7070, 'A050084005': 7071, 'A050084006': 7072, 'A050084007': 7073, 'A050086001': 7074, 'A050086002': 7075, 'A050086003': 7076, 'A050086004': 7077, 'A050086005': 7078, 'A050086006': 7079, 'A050086007': 7080, 'A050088001': 7081, 'A050088002': 7082, 'A050088003': 7083, 'A050088004': 7084, 'A050088005': 7085, 'A050088006': 7086, 'A050088007': 7087, 'A050090001': 7088, 'A050090002': 7089, 'A050090003': 7090, 'A050090004': 7091, 'A050090005': 7092, 'A050090006': 7093, 'A050090007': 7094, 'A050092001': 7095, 'A050092002': 7096, 'A050092003': 7097, 'A050092004': 7098, 'A050092005': 7099, 'A050092006': 7100, 'A050092007': 7101, 'A050094001': 7102, 'A050094002': 7103, 'A050094003': 7104, 'A050094004': 7105, 'A050094005': 7106, 'A050094006': 7107, 'A050094007': 7108, 'A050105001': 7109, 'A050105002': 7110, 'A050105003': 7111, 'A050105004': 7112, 'A050105005': 7113, 'A050105006': 7114, 'A050105007': 7115, 'A050107001': 7116, 'A050107002': 7117, 'A050107003': 7118, 'A050107004': 7119, 'A050107005': 7120, 'A050107006': 7121, 'A050107007': 7122, 'A050111001': 7123, 'A050111002': 7124, 'A050111003': 7125, 'A050111004': 7126, 'A050111005': 7127, 'A050111006': 7128, 'A050111007': 7129, 'A050109001': 7130, 'A050109002': 7131, 'A050109003': 7132, 'A050109004': 7133, 'A050109005': 7134, 'A050109006': 7135, 'A050109007': 7136, 'A050113001': 7137, 'A050113002': 7138, 'A050113003': 7139, 'A050113004': 7140, 'A050113005': 7141, 'A050113006': 7142, 'A050113007': 7143, 'A050115001': 7144, 'A050115002': 7145, 'A050115003': 7146, 'A050115004': 7147, 'A050115005': 7148, 'A050115006': 7149, 'A050115007': 7150, 'A050117001': 7151, 'A050117002': 7152, 'A050117003': 7153, 'A050117004': 7154, 'A050117005': 7155, 'A050117006': 7156, 'A050117007': 7157, 'A050126001': 7158, 'A050126002': 7159, 'A050126003': 7160, 'A050126004': 7161, 'A050126005': 7162, 'A050126006': 7163, 'A050126007': 7164, 'A050143001': 7165, 'A050143002': 7166, 'A050143003': 7167, 'A050143004': 7168, 'A050143005': 7169, 'A050143006': 7170, 'A050143007': 7171, 'A050151001': 7172, 'A050151002': 7173, 'A050151003': 7174, 'A050151004': 7175, 'A050151005': 7176, 'A050151006': 7177, 'A050151007': 7178, 'A050153001': 7179, 'A050153002': 7180, 'A050153003': 7181, 'A050153004': 7182, 'A050153005': 7183, 'A050153006': 7184, 'A050153007': 7185, 'A050155001': 7186, 'A050155002': 7187, 'A050155003': 7188, 'A050155004': 7189, 'A050155005': 7190, 'A050155006': 7191, 'A050155007': 7192, 'A050157001': 7193, 'A050157002': 7194, 'A050157003': 7195, 'A050157004': 7196, 'A050157005': 7197, 'A050157006': 7198, 'A050157007': 7199, 'A050164001': 7200, 'A050164002': 7201, 'A050164003': 7202, 'A050164004': 7203, 'A050164005': 7204, 'A050164006': 7205, 'A050164007': 7206, 'A050166001': 7207, 'A050166002': 7208, 'A050166003': 7209, 'A050166004': 7210, 'A050166005': 7211, 'A050166006': 7212, 'A050166007': 7213, 'A050168001': 7214, 'A050168002': 7215, 'A050168003': 7216, 'A050168004': 7217, 'A050168005': 7218, 'A050168006': 7219, 'A050168007': 7220, 'A050170001': 7221, 'A050170002': 7222, 'A050170003': 7223, 'A050170004': 7224, 'A050170005': 7225, 'A050170006': 7226, 'A050170007': 7227, 'A050172001': 7228, 'A050172002': 7229, 'A050172003': 7230, 'A050172004': 7231, 'A050172005': 7232, 'A050172006': 7233, 'A050172007': 7234, 'A050179001': 7235, 'A050179002': 7236, 'A050179003': 7237, 'A050179004': 7238, 'A050179005': 7239, 'A050179006': 7240, 'A050179007': 7241, 'A050181001': 7242, 'A050181002': 7243, 'A050181003': 7244, 'A050181004': 7245, 'A050181005': 7246, 'A050181006': 7247, 'A050181007': 7248, 'A050183001': 7249, 'A050183002': 7250, 'A050183003': 7251, 'A050183004': 7252, 'A050183005': 7253, 'A050183006': 7254, 'A050183007': 7255, 'A050185001': 7256, 'A050185002': 7257, 'A050185003': 7258, 'A050185004': 7259, 'A050185005': 7260, 'A050185006': 7261, 'A050185007': 7262, 'A050187001': 7263, 'A050187002': 7264, 'A050187003': 7265, 'A050187004': 7266, 'A050187005': 7267, 'A050187006': 7268, 'A050187007': 7269, 'A030088001': 7270, 'A030088002': 7271, 'A030088003': 7272, 'A030088004': 7273, 'A030088005': 7274, 'A070094001': 7275, 'A070094002': 7276, 'A070094003': 7277, 'A070094004': 7278, 'A070094005': 7279, 'A070094006': 7280, 'A070094007': 7281, 'A070094008': 7282, 'A070106001': 7283, 'A070106002': 7284, 'A070106003': 7285, 'A070106004': 7286, 'A070106005': 7287, 'A070106006': 7288, 'A070106007': 7289, 'A070106008': 7290, 'A070124001': 7291, 'A070124005': 7292, 'A070124006': 7293, 'A070124004': 7294, 'A070124002': 7295, 'A070124007': 7296, 'A070124008': 7297, 'A070124003': 7298, 'A070126002': 7299, 'A070126005': 7300, 'A070126006': 7301, 'A070126004': 7302, 'A070126008': 7303, 'A070126001': 7304, 'A070126003': 7305, 'A070126007': 7306, 'A070136007': 7307, 'A070136005': 7308, 'A070136001': 7309, 'A070136002': 7310, 'A070136003': 7311, 'A070136008': 7312, 'A070136006': 7313, 'A070136004': 7314, 'A070160001': 7315, 'A070160002': 7316, 'A070160003': 7317, 'A070160004': 7318, 'A070160005': 7319, 'A070160006': 7320, 'A070160007': 7321, 'A070160008': 7322, 'A070162001': 7323, 'A070162002': 7324, 'A070162003': 7325, 'A070162004': 7326, 'A070162005': 7327, 'A070162006': 7328, 'A070162007': 7329, 'A070162008': 7330, 'A070143001': 7331, 'A070143002': 7332, 'A070143003': 7333, 'A070143004': 7334, 'A070143005': 7335, 'A070143006': 7336, 'A070143007': 7337, 'A070143008': 7338, 'A070157001': 7339, 'A070157002': 7340, 'A070157003': 7341, 'A070157004': 7342, 'A070157005': 7343, 'A070157006': 7344, 'A070157007': 7345, 'A070157008': 7346, 'A070159001': 7347, 'A070159002': 7348, 'A070159003': 7349, 'A070159004': 7350, 'A070159005': 7351, 'A070159006': 7352, 'A070159007': 7353, 'A070159008': 7354, 'A070161001': 7355, 'A070161002': 7356, 'A070161003': 7357, 'A070161004': 7358, 'A070161005': 7359, 'A070161006': 7360, 'A070161007': 7361, 'A070161008': 7362, 'A070163002': 7363, 'A070163003': 7364, 'A070163004': 7365, 'A070163001': 7366, 'A070163005': 7367, 'A070163006': 7368, 'A070163007': 7369, 'A070163008': 7370, 'A070086001': 7371, 'A070086002': 7372, 'A070086003': 7373, 'A070086004': 7374, 'A070086005': 7375, 'A070086006': 7376, 'A070088001': 7377, 'A070088002': 7378, 'A070088003': 7379, 'A070088004': 7380, 'A070088005': 7381, 'A070088006': 7382, 'A070088007': 7383, 'A070088008': 7384, 'A070090003': 7385, 'A070090004': 7386, 'A070090005': 7387, 'A070090001': 7388, 'A070090002': 7389, 'A070090008': 7390, 'A070090006': 7391, 'A070090007': 7392, 'A070092001': 7393, 'A070092004': 7394, 'A070092002': 7395, 'A070092003': 7396, 'A070092005': 7397, 'A070092006': 7398, 'A070092007': 7399, 'A070092008': 7400, 'A070096001': 7401, 'A070096002': 7402, 'A070096003': 7403, 'A070096004': 7404, 'A070096005': 7405, 'A070096006': 7406, 'A070096007': 7407, 'A070098001': 7408, 'A070098002': 7409, 'A070098003': 7410, 'A070098004': 7411, 'A070098005': 7412, 'A070098006': 7413, 'A070098007': 7414, 'A070098008': 7415, 'A070100001': 7416, 'A070100002': 7417, 'A070100003': 7418, 'A070100004': 7419, 'A070100005': 7420, 'A070100006': 7421, 'A070100007': 7422, 'A070100008': 7423, 'A070102001': 7424, 'A070102002': 7425, 'A070102003': 7426, 'A070102004': 7427, 'A070102005': 7428, 'A070102006': 7429, 'A070102007': 7430, 'A070102008': 7431, 'A070104001': 7432, 'A070104002': 7433, 'A070104003': 7434, 'A070104004': 7435, 'A070104005': 7436, 'A070104006': 7437, 'A070104007': 7438, 'A070104008': 7439, 'A070108001': 7440, 'A070108002': 7441, 'A070108003': 7442, 'A070108004': 7443, 'A070108005': 7444, 'A070108006': 7445, 'A070108007': 7446, 'A070108008': 7447, 'A070118001': 7448, 'A070118002': 7449, 'A070118003': 7450, 'A070118004': 7451, 'A070118005': 7452, 'A070118006': 7453, 'A070118007': 7454, 'A070118008': 7455, 'A070119002': 7456, 'A070119003': 7457, 'A070119001': 7458, 'A070119004': 7459, 'A070119005': 7460, 'A070119006': 7461, 'A070119007': 7462, 'A070119008': 7463, 'A070120001': 7464, 'A070120002': 7465, 'A070120003': 7466, 'A070120004': 7467, 'A070120005': 7468, 'A070120006': 7469, 'A070120007': 7470, 'A070120008': 7471, 'A070121001': 7472, 'A070121002': 7473, 'A070121003': 7474, 'A070121004': 7475, 'A070121006': 7476, 'A070121005': 7477, 'A070122001': 7478, 'A070122002': 7479, 'A070122003': 7480, 'A070122004': 7481, 'A070122006': 7482, 'A070122005': 7483, 'A070123001': 7484, 'A070123002': 7485, 'A070123003': 7486, 'A070123004': 7487, 'A070123005': 7488, 'A070123006': 7489, 'A070123007': 7490, 'A070123008': 7491, 'A070125001': 7492, 'A070125002': 7493, 'A070125003': 7494, 'A070125004': 7495, 'A070125005': 7496, 'A070125006': 7497, 'A070134001': 7498, 'A070134002': 7499, 'A070134003': 7500, 'A070134004': 7501, 'A070134005': 7502, 'A070134006': 7503, 'A070134007': 7504, 'A070134008': 7505, 'A070156001': 7506, 'A070156006': 7507, 'A070156005': 7508, 'A070156004': 7509, 'A070156003': 7510, 'A070156002': 7511, 'A070164001': 7512, 'A070164002': 7513, 'A070164003': 7514, 'A070164004': 7515, 'A070164005': 7516, 'A070164006': 7517, 'A070164007': 7518, 'A070164008': 7519, 'A070082001': 7520, 'A070082002': 7521, 'A070082003': 7522, 'A070082004': 7523, 'A070082005': 7524, 'A070082006': 7525, 'A070084001': 7526, 'A070084002': 7527, 'A070084003': 7528, 'A070084004': 7529, 'A070084006': 7530, 'A070084005': 7531, 'A070084007': 7532, 'A070084008': 7533, 'A070084009': 7534, 'A090056001': 7535, 'A090056002': 7536, 'A090056003': 7537, 'A090056004': 7538, 'A090056005': 7539, 'A090056006': 7540, 'A090060001': 7541, 'A090060002': 7542, 'A090060003': 7543, 'A090060004': 7544, 'A090060005': 7545, 'A090060006': 7546, 'A090061001': 7547, 'A090061003': 7548, 'A090061004': 7549, 'A090061005': 7550, 'A090061006': 7551, 'A090061007': 7552, 'A090061008': 7553, 'A090062001': 7554, 'A090062002': 7555, 'A090062003': 7556, 'A090062004': 7557, 'A090062005': 7558, 'A090062006': 7559, 'A090062007': 7560, 'A090062008': 7561, 'A090063001': 7562, 'A090063002': 7563, 'A090063003': 7564, 'A090063004': 7565, 'A090063005': 7566, 'A090063006': 7567, 'A090064001': 7568, 'A090064002': 7569, 'A090064003': 7570, 'A090064004': 7571, 'A090064005': 7572, 'A090064006': 7573, 'A090058001': 7574, 'A090058002': 7575, 'A090058003': 7576, 'A090058004': 7577, 'A090058005': 7578, 'A090058006': 7579, 'A090058007': 7580, 'A090058008': 7581, 'A040007001': 7582, 'A040007002': 7583, 'A040007003': 7584, 'A040007004': 7585, 'A040007005': 7586, 'A040007006': 7587, 'A040008001': 7588, 'A040008002': 7589, 'A040008003': 7590, 'A040008004': 7591, 'A040008005': 7592, 'A040010001': 7593, 'A040010002': 7594, 'A040010003': 7595, 'A040010004': 7596, 'A040010005': 7597, 'A040010006': 7598, 'A040011001': 7599, 'A040011002': 7600, 'A040011003': 7601, 'A040011004': 7602, 'A040011005': 7603, 'A040011006': 7604, 'A050034001': 7605, 'A050034002': 7606, 'A050034003': 7607, 'A050034004': 7608, 'A050034005': 7609, 'A050034006': 7610, 'A040012001': 7611, 'A040012002': 7612, 'A040012003': 7613, 'A040012004': 7614, 'A040012005': 7615, 'A040012006': 7616, 'A050043001': 7617, 'A050043002': 7618, 'A050043003': 7619, 'A050043004': 7620, 'A050043005': 7621, 'A050055001': 7622, 'A050055002': 7623, 'A050055003': 7624, 'A050055004': 7625, 'A050055005': 7626, 'A050055006': 7627, 'A050057001': 7628, 'A050057002': 7629, 'A050057003': 7630, 'A050057004': 7631, 'A050057005': 7632, 'A040028001': 7633, 'A040028002': 7634, 'A040028003': 7635, 'A050057006': 7636, 'A040029001': 7637, 'A040029002': 7638, 'A040029003': 7639, 'A040029004': 7640, 'A040029005': 7641, 'A040029006': 7642, 'A040029007': 7643, 'A040030001': 7644, 'A040030002': 7645, 'A040030003': 7646, 'A040030004': 7647, 'A040030005': 7648, 'A040030006': 7649, 'A050073001': 7650, 'A050073002': 7651, 'A050073003': 7652, 'A050073004': 7653, 'A050073005': 7654, 'A040032001': 7655, 'A040032002': 7656, 'A040032003': 7657, 'A040032004': 7658, 'A040032005': 7659, 'A050099001': 7660, 'A050099002': 7661, 'A050099003': 7662, 'A050099004': 7663, 'A050099005': 7664, 'A040031001': 7665, 'A040031002': 7666, 'A040031003': 7667, 'A040031004': 7668, 'A040031005': 7669, 'A040043001': 7670, 'A040043002': 7671, 'A040043003': 7672, 'A040043004': 7673, 'A040043005': 7674, 'A040043006': 7675, 'A040044001': 7676, 'A040044002': 7677, 'A040044003': 7678, 'A040044004': 7679, 'A040044005': 7680, 'A040044006': 7681, 'A040045001': 7682, 'A040045002': 7683, 'A040045003': 7684, 'A040045004': 7685, 'A040045005': 7686, 'A040048001': 7687, 'A040048002': 7688, 'A040048003': 7689, 'A040048004': 7690, 'A040048005': 7691, 'A040048006': 7692, 'A040055001': 7693, 'A040055002': 7694, 'A040055003': 7695, 'A040055004': 7696, 'A040055005': 7697, 'A040055006': 7698, 'A040056001': 7699, 'A040056002': 7700, 'A040056003': 7701, 'A040056004': 7702, 'A040056005': 7703, 'A040056006': 7704, 'A030061001': 7705, 'A030061002': 7706, 'A030061003': 7707, 'A030061004': 7708, 'A030061005': 7709, 'A040057001': 7710, 'A040057002': 7711, 'A040057003': 7712, 'A040057004': 7713, 'A040057005': 7714, 'A040057006': 7715, 'A040071001': 7716, 'A040071002': 7717, 'A040071003': 7718, 'A040071004': 7719, 'A040071005': 7720, 'A040072001': 7721, 'A040072002': 7722, 'A040072003': 7723, 'A040072004': 7724, 'A040072005': 7725, 'A040072006': 7726, 'A040061001': 7727, 'A040061002': 7728, 'A040061003': 7729, 'A040061004': 7730, 'A040061005': 7731, 'A040061006': 7732, 'A040062001': 7733, 'A040062002': 7734, 'A040062003': 7735, 'A040062004': 7736, 'A040062005': 7737, 'A040062006': 7738, 'A040077001': 7739, 'A040077002': 7740, 'A040077003': 7741, 'A040077004': 7742, 'A040077005': 7743, 'A040077006': 7744, 'A040078001': 7745, 'A040078002': 7746, 'A040078003': 7747, 'A040078004': 7748, 'A040078005': 7749, 'A040078006': 7750, 'A040079001': 7751, 'A040079002': 7752, 'A040079003': 7753, 'A040079004': 7754, 'A040079005': 7755, 'A040098001': 7756, 'A040098002': 7757, 'A040098003': 7758, 'A040098004': 7759, 'A040098005': 7760, 'A040099001': 7761, 'A040099002': 7762, 'A040099003': 7763, 'A040099004': 7764, 'A040099005': 7765, 'A040099006': 7766, 'A040102001': 7767, 'A040102002': 7768, 'A040102003': 7769, 'A040102004': 7770, 'A040102005': 7771, 'A040085001': 7772, 'A040085002': 7773, 'A040085003': 7774, 'A040085004': 7775, 'A040085005': 7776, 'A040085006': 7777, 'A030005001': 7778, 'A030005002': 7779, 'A030005003': 7780, 'A030005004': 7781, 'A030005005': 7782, 'A030070001': 7783, 'A030070002': 7784, 'A030070003': 7785, 'A030070004': 7786, 'A030070005': 7787, 'A050152001': 7788, 'A050152002': 7789, 'A050152003': 7790, 'A050152004': 7791, 'A050152005': 7792, 'A050152006': 7793, 'A050152007': 7794, 'A050158002': 7795, 'A050158003': 7796, 'A050158001': 7797, 'A050158004': 7798, 'A050158005': 7799, 'A050158007': 7800, 'A050158006': 7801, 'A050165001': 7802, 'A050165002': 7803, 'A050165003': 7804, 'A050165004': 7805, 'A050165005': 7806, 'A050165006': 7807, 'A050165007': 7808, 'A050167001': 7809, 'A050167002': 7810, 'A050167003': 7811, 'A050167004': 7812, 'A050167005': 7813, 'A050167006': 7814, 'A050167007': 7815, 'A050169001': 7816, 'A050169002': 7817, 'A050169003': 7818, 'A050169004': 7819, 'A050169005': 7820, 'A050169006': 7821, 'A050169007': 7822, 'A050171002': 7823, 'A050171003': 7824, 'A050171004': 7825, 'A050171005': 7826, 'A050171006': 7827, 'A050171007': 7828, 'A050173001': 7829, 'A050173002': 7830, 'A050173003': 7831, 'A050173004': 7832, 'A050173005': 7833, 'A050173006': 7834, 'A050173007': 7835, 'A050180001': 7836, 'A050180002': 7837, 'A050180003': 7838, 'A050180004': 7839, 'A050180005': 7840, 'A050180006': 7841, 'A050180007': 7842, 'A050182001': 7843, 'A050182002': 7844, 'A050182003': 7845, 'A050182004': 7846, 'A050182005': 7847, 'A050182006': 7848, 'A050182007': 7849, 'A050184001': 7850, 'A050184002': 7851, 'A050184003': 7852, 'A050184004': 7853, 'A050184007': 7854, 'A050184005': 7855, 'A050184006': 7856, 'A050186001': 7857, 'A050186003': 7858, 'A050186004': 7859, 'A050186005': 7860, 'A050186006': 7861, 'A050186007': 7862, 'A050188001': 7863, 'A050188003': 7864, 'A050188004': 7865, 'A050188005': 7866, 'A050188006': 7867, 'A050188007': 7868, 'A050128001': 7869, 'A050128002': 7870, 'A050128003': 7871, 'A050128004': 7872, 'A050128005': 7873, 'A050128006': 7874, 'A050128007': 7875, 'A050130001': 7876, 'A050130002': 7877, 'A050130003': 7878, 'A050130004': 7879, 'A050130005': 7880, 'A050130006': 7881, 'A050130007': 7882, 'A050132001': 7883, 'A050132004': 7884, 'A050132005': 7885, 'A050132002': 7886, 'A050132003': 7887, 'A050132006': 7888, 'A050132007': 7889, 'A050138001': 7890, 'A050138002': 7891, 'A050138003': 7892, 'A050138004': 7893, 'A050138005': 7894, 'A050138006': 7895, 'A050138007': 7896, 'A050140001': 7897, 'A050140002': 7898, 'A050140003': 7899, 'A050140004': 7900, 'A050140005': 7901, 'A050140006': 7902, 'A050140007': 7903, 'A050142001': 7904, 'A050142002': 7905, 'A050142003': 7906, 'A050142004': 7907, 'A050142005': 7908, 'A050142006': 7909, 'A050142007': 7910, 'A050144001': 7911, 'A050144002': 7912, 'A050144003': 7913, 'A050144004': 7914, 'A050144005': 7915, 'A050144006': 7916, 'A050144007': 7917, 'A050150001': 7918, 'A050150002': 7919, 'A050150003': 7920, 'A050150004': 7921, 'A050150005': 7922, 'A050150006': 7923, 'A050150007': 7924, 'A050154001': 7925, 'A050154002': 7926, 'A050154003': 7927, 'A050154004': 7928, 'A050154005': 7929, 'A050154007': 7930, 'A050154006': 7931, 'A050156001': 7932, 'A050156002': 7933, 'A050156003': 7934, 'A050156004': 7935, 'A050156005': 7936, 'A050156007': 7937, 'A050156006': 7938, 'A070006001': 7939, 'A070006002': 7940, 'A070006003': 7941, 'A070006004': 7942, 'A070006005': 7943, 'A070006006': 7944, 'A070006007': 7945, 'A070006008': 7946, 'A070006009': 7947, 'A070016001': 7948, 'A070016002': 7949, 'A070016003': 7950, 'A070016004': 7951, 'A070016005': 7952, 'A070016006': 7953, 'A070016007': 7954, 'A070016008': 7955, 'A070016009': 7956, 'A070018001': 7957, 'A070018002': 7958, 'A070018003': 7959, 'A070018004': 7960, 'A070018005': 7961, 'A070018006': 7962, 'A070018007': 7963, 'A070018008': 7964, 'A070018009': 7965, 'A070018010': 7966, 'A070018011': 7967, 'A070018012': 7968, 'A070024001': 7969, 'A070024002': 7970, 'A070024003': 7971, 'A070024004': 7972, 'A070024005': 7973, 'A070024006': 7974, 'A070024007': 7975, 'A070024008': 7976, 'A070024009': 7977, 'A070026001': 7978, 'A070026002': 7979, 'A070026003': 7980, 'A070026004': 7981, 'A070026005': 7982, 'A070026006': 7983, 'A070026007': 7984, 'A070026008': 7985, 'A070026009': 7986, 'A070028001': 7987, 'A070028002': 7988, 'A070028003': 7989, 'A070028004': 7990, 'A070028005': 7991, 'A070028006': 7992, 'A070080001': 7993, 'A070080002': 7994, 'A070080003': 7995, 'A070080004': 7996, 'A070080005': 7997, 'A070080006': 7998, 'A070080007': 7999, 'A070080008': 8000, 'A070080009': 8001, 'A010169001': 8002, 'A010169002': 8003, 'A010169003': 8004, 'A010169004': 8005, 'A010169005': 8006, 'A010182001': 8007, 'A010182002': 8008, 'A010182003': 8009, 'A010182004': 8010, 'A010182005': 8011, 'A010188001': 8012, 'A010188002': 8013, 'A010188003': 8014, 'A010188004': 8015, 'A010188005': 8016, 'A010192001': 8017, 'A010192002': 8018, 'A010192003': 8019, 'A010192004': 8020, 'A010192005': 8021, 'A010191001': 8022, 'A010191002': 8023, 'A010191003': 8024, 'A010191004': 8025, 'A010191005': 8026, 'A040009001': 8027, 'A040009002': 8028, 'A040009003': 8029, 'A040009004': 8030, 'A040009005': 8031, 'A040009006': 8032, 'A070002002': 8033, 'A070002003': 8034, 'A070002004': 8035, 'A070002005': 8036, 'A070002006': 8037, 'A070002007': 8038, 'A070002001': 8039, 'A070002008': 8040, 'A070002009': 8041, 'A070004001': 8042, 'A070004002': 8043, 'A070004003': 8044, 'A070004004': 8045, 'A070004005': 8046, 'A070004006': 8047, 'A070004007': 8048, 'A070004008': 8049, 'A070004009': 8050, 'A070008001': 8051, 'A070008002': 8052, 'A070008003': 8053, 'A070008004': 8054, 'A070008005': 8055, 'A070008006': 8056, 'A070008007': 8057, 'A070008008': 8058, 'A070008009': 8059, 'A070010001': 8060, 'A070010002': 8061, 'A070010003': 8062, 'A070010004': 8063, 'A070010005': 8064, 'A070010006': 8065, 'A070010007': 8066, 'A070010009': 8067, 'A070010008': 8068, 'A070014001': 8069, 'A070014002': 8070, 'A070014003': 8071, 'A070014004': 8072, 'A070014005': 8073, 'A070014006': 8074, 'A070014007': 8075, 'A070014009': 8076, 'A070014008': 8077, 'A090040001': 8078, 'A090040002': 8079, 'A090040003': 8080, 'A090040004': 8081, 'A090040005': 8082, 'A090040006': 8083, 'A090040007': 8084, 'A090040008': 8085, 'A090041001': 8086, 'A090041002': 8087, 'A090041003': 8088, 'A090041004': 8089, 'A090041005': 8090, 'A090041006': 8091, 'A090042001': 8092, 'A090042002': 8093, 'A090042003': 8094, 'A090042004': 8095, 'A090042005': 8096, 'A090042006': 8097, 'A060002001': 8098, 'A060002002': 8099, 'A060002003': 8100, 'A060002004': 8101, 'A060002005': 8102, 'A060002007': 8103, 'A060002006': 8104, 'A060008001': 8105, 'A060008002': 8106, 'A060008003': 8107, 'A060008004': 8108, 'A060008005': 8109, 'A060008006': 8110, 'A060008007': 8111, 'A060010001': 8112, 'A060010002': 8113, 'A060010003': 8114, 'A060010004': 8115, 'A060010005': 8116, 'A060010006': 8117, 'A060010007': 8118, 'A060023001': 8119, 'A060023002': 8120, 'A060023003': 8121, 'A060023004': 8122, 'A060023005': 8123, 'A060023006': 8124, 'A060023007': 8125, 'A060032001': 8126, 'A060032003': 8127, 'A060032002': 8128, 'A060032004': 8129, 'A060032005': 8130, 'A060032006': 8131, 'A060032007': 8132, 'A060042001': 8133, 'A060042002': 8134, 'A060042003': 8135, 'A060042005': 8136, 'A060042004': 8137, 'A060042006': 8138, 'A060042007': 8139, 'A060034001': 8140, 'A060034002': 8141, 'A060034003': 8142, 'A060034004': 8143, 'A060034005': 8144, 'A060034006': 8145, 'A060034007': 8146, 'A060036001': 8147, 'A060036004': 8148, 'A060036002': 8149, 'A060036003': 8150, 'A060036005': 8151, 'A060036007': 8152, 'A060036006': 8153, 'A060038001': 8154, 'A060038002': 8155, 'A060038003': 8156, 'A060038004': 8157, 'A060038005': 8158, 'A060038006': 8159, 'A060038007': 8160, 'A060055001': 8161, 'A060055003': 8162, 'A060055004': 8163, 'A060055002': 8164, 'A060055005': 8165, 'A060055006': 8166, 'A060055007': 8167, 'A060057001': 8168, 'A060057002': 8169, 'A060057004': 8170, 'A060057003': 8171, 'A060057005': 8172, 'A060057007': 8173, 'A060057006': 8174, 'A060061001': 8175, 'A060061002': 8176, 'A060061003': 8177, 'A060061004': 8178, 'A060061005': 8179, 'A060061007': 8180, 'A060061006': 8181, 'A060077001': 8182, 'A060077002': 8183, 'A060077004': 8184, 'A060077003': 8185, 'A060077005': 8186, 'A060077006': 8187, 'A060077007': 8188, 'A060079001': 8189, 'A060079003': 8190, 'A060079002': 8191, 'A060079004': 8192, 'A060079005': 8193, 'A060079006': 8194, 'A060079007': 8195, 'A060088001': 8196, 'A060088002': 8197, 'A060088003': 8198, 'A060088004': 8199, 'A060088005': 8200, 'A060088006': 8201, 'A060088007': 8202, 'A060090001': 8203, 'A060090002': 8204, 'A060090003': 8205, 'A060090004': 8206, 'A060090006': 8207, 'A060090005': 8208, 'A060090007': 8209, 'A050097001': 8210, 'A050097002': 8211, 'A050097003': 8212, 'A050097004': 8213, 'A050097005': 8214, 'A060100001': 8215, 'A060100002': 8216, 'A060100003': 8217, 'A060100004': 8218, 'A060100005': 8219, 'A060100006': 8220, 'A060100007': 8221, 'A060102001': 8222, 'A060102002': 8223, 'A060102003': 8224, 'A060102004': 8225, 'A060102005': 8226, 'A060102006': 8227, 'A060102007': 8228, 'A060106001': 8229, 'A060106002': 8230, 'A060106003': 8231, 'A060106004': 8232, 'A060106005': 8233, 'A060106007': 8234, 'A060122001': 8235, 'A060122002': 8236, 'A060122003': 8237, 'A060122004': 8238, 'A060122005': 8239, 'A060122006': 8240, 'A060122007': 8241, 'A060148001': 8242, 'A060148002': 8243, 'A060148003': 8244, 'A060148004': 8245, 'A060148005': 8246, 'A060148006': 8247, 'A060148007': 8248, 'A040124001': 8249, 'A040124002': 8250, 'A040124003': 8251, 'A040124004': 8252, 'A040124005': 8253, 'A060150001': 8254, 'A060150002': 8255, 'A060150003': 8256, 'A060150004': 8257, 'A060150005': 8258, 'A060150006': 8259, 'A060150007': 8260, 'A060146001': 8261, 'A060146002': 8262, 'A060146003': 8263, 'A060146004': 8264, 'A060146005': 8265, 'A060146006': 8266, 'A060146007': 8267, 'A060152001': 8268, 'A060152002': 8269, 'A060152003': 8270, 'A060152004': 8271, 'A060152005': 8272, 'A060152006': 8273, 'A060152007': 8274, 'A060161001': 8275, 'A060161002': 8276, 'A060161003': 8277, 'A060161004': 8278, 'A060161005': 8279, 'A060161006': 8280, 'A060161007': 8281, 'A060163001': 8282, 'A060163002': 8283, 'A060163003': 8284, 'A060163004': 8285, 'A060163005': 8286, 'A060163006': 8287, 'A060163007': 8288, 'A060167001': 8289, 'A060167002': 8290, 'A060167003': 8291, 'A060167004': 8292, 'A060167005': 8293, 'A060167006': 8294, 'A060167007': 8295, 'A060176002': 8296, 'A060176003': 8297, 'A060176004': 8298, 'A060176007': 8299, 'A060180001': 8300, 'A060180002': 8301, 'A060180003': 8302, 'A060180004': 8303, 'A060180005': 8304, 'A060180006': 8305, 'A060180007': 8306, 'A040151001': 8307, 'A040151002': 8308, 'A040151003': 8309, 'A040151004': 8310, 'A040151005': 8311, 'A040167001': 8312, 'A040167002': 8313, 'A040167003': 8314, 'A040167004': 8315, 'A040167005': 8316, 'A040179001': 8317, 'A040179002': 8318, 'A040179003': 8319, 'A040179004': 8320, 'A040179005': 8321, 'A040181001': 8322, 'A040181002': 8323, 'A040181003': 8324, 'A040181004': 8325, 'A040181005': 8326, 'A040183001': 8327, 'A040183002': 8328, 'A040183003': 8329, 'A040183004': 8330, 'A040183005': 8331, 'A040188001': 8332, 'A040188002': 8333, 'A040188003': 8334, 'A040188004': 8335, 'A040190001': 8336, 'A040190002': 8337, 'A040190003': 8338, 'A040190004': 8339, 'A040190005': 8340, 'A040192001': 8341, 'A040192002': 8342, 'A040192003': 8343, 'A040192004': 8344, 'A040192005': 8345, 'A040194001': 8346, 'A040194002': 8347, 'A040194003': 8348, 'A040194004': 8349, 'A060004001': 8350, 'A060004002': 8351, 'A060004003': 8352, 'A060004004': 8353, 'A060004005': 8354, 'A060004006': 8355, 'A060004007': 8356, 'A060040001': 8357, 'A060040002': 8358, 'A060040003': 8359, 'A060040004': 8360, 'A060040005': 8361, 'A060040006': 8362, 'A060040007': 8363, 'A060059001': 8364, 'A060059002': 8365, 'A060059003': 8366, 'A060059004': 8367, 'A060059005': 8368, 'A060059006': 8369, 'A060059007': 8370, 'A060086001': 8371, 'A060086002': 8372, 'A060086003': 8373, 'A060086004': 8374, 'A060086005': 8375, 'A060086006': 8376, 'A060086007': 8377, 'A060149001': 8378, 'A060149002': 8379, 'A060149003': 8380, 'A060149004': 8381, 'A060149005': 8382, 'A060149006': 8383, 'A060149007': 8384, 'A060151001': 8385, 'A060151002': 8386, 'A060151003': 8387, 'A060151004': 8388, 'A060151005': 8389, 'A060151006': 8390, 'A060151007': 8391, 'A060166001': 8392, 'A060166002': 8393, 'A060166003': 8394, 'A060166004': 8395, 'A060166005': 8396, 'A060166006': 8397, 'A060166007': 8398, 'A060160001': 8399, 'A060160002': 8400, 'A060160003': 8401, 'A060160004': 8402, 'A060160005': 8403, 'A060160006': 8404, 'A060160007': 8405, 'A060162001': 8406, 'A060162002': 8407, 'A060162003': 8408, 'A060162004': 8409, 'A060162005': 8410, 'A060162006': 8411, 'A060162007': 8412, 'A060164001': 8413, 'A060164002': 8414, 'A060164003': 8415, 'A060164004': 8416, 'A060164005': 8417, 'A060164006': 8418, 'A060164007': 8419, 'A060168001': 8420, 'A060168002': 8421, 'A060168003': 8422, 'A060168004': 8423, 'A060168005': 8424, 'A060168006': 8425, 'A060168007': 8426, 'A060170001': 8427, 'A060170002': 8428, 'A060170003': 8429, 'A060170004': 8430, 'A060170005': 8431, 'A060170006': 8432, 'A060170007': 8433, 'A060170008': 8434, 'A060170009': 8435, 'A060171001': 8436, 'A060171002': 8437, 'A060171003': 8438, 'A060171005': 8439, 'A060171006': 8440, 'A090065001': 8441, 'A090065002': 8442, 'A090065003': 8443, 'A090065004': 8444, 'A090065005': 8445, 'A090065006': 8446, 'A090065007': 8447, 'A090065008': 8448, 'A060098001': 8449, 'A060098002': 8450, 'A060098003': 8451, 'A060098004': 8452, 'A060098005': 8453, 'A060098006': 8454, 'A060098007': 8455, 'A050118001': 8456, 'A050118002': 8457, 'A050118003': 8458, 'A050118004': 8459, 'A050118005': 8460, 'A050118006': 8461, 'A050119001': 8462, 'A050119002': 8463, 'A050119003': 8464, 'A050119004': 8465, 'A050119005': 8466, 'A050119006': 8467, 'A050120001': 8468, 'A050120002': 8469, 'A050120003': 8470, 'A050120004': 8471, 'A050120005': 8472, 'A050121001': 8473, 'A050121002': 8474, 'A050121003': 8475, 'A050121004': 8476, 'A050121005': 8477, 'A050122001': 8478, 'A050122002': 8479, 'A050122003': 8480, 'A050122004': 8481, 'A050122005': 8482, 'A050123001': 8483, 'A050123002': 8484, 'A050123003': 8485, 'A050123004': 8486, 'A050123005': 8487, 'A050123006': 8488, 'A050124001': 8489, 'A050124002': 8490, 'A050124003': 8491, 'A050124004': 8492, 'A050124005': 8493, 'A050124006': 8494, 'A050133001': 8495, 'A050133002': 8496, 'A050133003': 8497, 'A050133004': 8498, 'A050133005': 8499, 'A050133006': 8500, 'A050133007': 8501, 'A050133008': 8502, 'A050134001': 8503, 'A050134002': 8504, 'A050134003': 8505, 'A050134004': 8506, 'A050134005': 8507, 'A050134006': 8508, 'A050134007': 8509, 'A050134008': 8510, 'A050134009': 8511, 'A050135001': 8512, 'A050135002': 8513, 'A050135003': 8514, 'A050135004': 8515, 'A050135005': 8516, 'A050135006': 8517, 'A050135007': 8518, 'A050136001': 8519, 'A050136002': 8520, 'A050136003': 8521, 'A050136004': 8522, 'A050136005': 8523, 'A050136006': 8524, 'A050145001': 8525, 'A050145002': 8526, 'A050145003': 8527, 'A050145004': 8528, 'A050145005': 8529, 'A050145006': 8530, 'A050146001': 8531, 'A050146002': 8532, 'A050146003': 8533, 'A050146004': 8534, 'A050146005': 8535, 'A050147001': 8536, 'A050147002': 8537, 'A050147003': 8538, 'A050147004': 8539, 'A050147005': 8540, 'A050148001': 8541, 'A050148002': 8542, 'A050148003': 8543, 'A050148004': 8544, 'A050148005': 8545, 'A040053001': 8546, 'A040053002': 8547, 'A040053003': 8548, 'A040053004': 8549, 'A040053005': 8550, 'A010147001': 8551, 'A010147002': 8552, 'A010147003': 8553, 'A010147004': 8554, 'A010147005': 8555, 'A010145001': 8556, 'A010145002': 8557, 'A010145003': 8558, 'A010145004': 8559, 'A010145005': 8560, 'A010149001': 8561, 'A010149002': 8562, 'A010149003': 8563, 'A010149004': 8564, 'A010149005': 8565, 'A010159001': 8566, 'A010159002': 8567, 'A010159003': 8568, 'A010159004': 8569, 'A010159005': 8570, 'A010120001': 8571, 'A010120002': 8572, 'A010120003': 8573, 'A010120004': 8574, 'A010120005': 8575, 'A060006001': 8576, 'A060006002': 8577, 'A060006003': 8578, 'A060006004': 8579, 'A060006005': 8580, 'A060006006': 8581, 'A060006007': 8582, 'A060017001': 8583, 'A060017002': 8584, 'A060017003': 8585, 'A060017004': 8586, 'A060017005': 8587, 'A060017006': 8588, 'A060017007': 8589, 'A060011001': 8590, 'A060011002': 8591, 'A060011003': 8592, 'A060011004': 8593, 'A060011005': 8594, 'A060013001': 8595, 'A060013002': 8596, 'A060013003': 8597, 'A060013004': 8598, 'A060013005': 8599, 'A060013006': 8600, 'A060015001': 8601, 'A060015002': 8602, 'A060015003': 8603, 'A060015004': 8604, 'A060015005': 8605, 'A060015006': 8606, 'A060026001': 8607, 'A060026002': 8608, 'A060026003': 8609, 'A060026004': 8610, 'A060050001': 8611, 'A060050002': 8612, 'A060050003': 8613, 'A060050004': 8614, 'A060050005': 8615, 'A060050006': 8616, 'A060065001': 8617, 'A060065002': 8618, 'A060065003': 8619, 'A060065004': 8620, 'A060065005': 8621, 'A060068001': 8622, 'A060068002': 8623, 'A060068003': 8624, 'A060068004': 8625, 'A060068005': 8626, 'A030095001': 8627, 'A030095002': 8628, 'A030095003': 8629, 'A030095004': 8630, 'A030095005': 8631, 'A030097001': 8632, 'A030097002': 8633, 'A030097003': 8634, 'A030097004': 8635, 'A030097005': 8636, 'A030074001': 8637, 'A030074002': 8638, 'A030074003': 8639, 'A030074004': 8640, 'A030074005': 8641, 'A030078001': 8642, 'A030078002': 8643, 'A030078003': 8644, 'A030078004': 8645, 'A030078005': 8646, 'A060014001': 8647, 'A060014002': 8648, 'A060014003': 8649, 'A060014004': 8650, 'A060014005': 8651, 'A060045001': 8652, 'A060045002': 8653, 'A060045003': 8654, 'A060045004': 8655, 'A060045005': 8656, 'A060045006': 8657, 'A060049001': 8658, 'A060049002': 8659, 'A060049003': 8660, 'A060049004': 8661, 'A060049005': 8662, 'A060049006': 8663, 'A060051001': 8664, 'A060051002': 8665, 'A060051003': 8666, 'A060051004': 8667, 'A060051005': 8668, 'A060080001': 8669, 'A060080002': 8670, 'A060080003': 8671, 'A060081001': 8672, 'A060081002': 8673, 'A060081003': 8674, 'A060081004': 8675, 'A060081005': 8676, 'A060081006': 8677, 'A060081007': 8678, 'A060081008': 8679, 'A060082001': 8680, 'A060082002': 8681, 'A060082003': 8682, 'A060082004': 8683, 'A060082005': 8684, 'A060082006': 8685, 'A060082007': 8686, 'A060083001': 8687, 'A060083002': 8688, 'A060083003': 8689, 'A060083004': 8690, 'A060083005': 8691, 'A060084001': 8692, 'A060084002': 8693, 'A060084003': 8694, 'A060084004': 8695, 'A030169001': 8696, 'A030169002': 8697, 'A030169003': 8698, 'A030169004': 8699, 'A030169005': 8700, 'A030166001': 8701, 'A030166002': 8702, 'A030166003': 8703, 'A030166004': 8704, 'A030166005': 8705, 'A030168001': 8706, 'A030168002': 8707, 'A030168003': 8708, 'A030168004': 8709, 'A030168005': 8710, 'A030170001': 8711, 'A030170002': 8712, 'A030170003': 8713, 'A030170004': 8714, 'A030170005': 8715, 'A030172001': 8716, 'A030172002': 8717, 'A030172003': 8718, 'A030172004': 8719, 'A030172005': 8720, 'A030174001': 8721, 'A030174002': 8722, 'A030174003': 8723, 'A030174004': 8724, 'A030174005': 8725, 'A030176001': 8726, 'A030176003': 8727, 'A030176004': 8728, 'A030176005': 8729, 'A030178002': 8730, 'A030178004': 8731, 'A030178005': 8732, 'A030180001': 8733, 'A030180002': 8734, 'A030180003': 8735, 'A030180004': 8736, 'A030180005': 8737, 'A030182001': 8738, 'A030182003': 8739, 'A030182004': 8740, 'A030182005': 8741, 'A030184001': 8742, 'A030184002': 8743, 'A030184003': 8744, 'A030184004': 8745, 'A030184005': 8746, 'A030186002': 8747, 'A030186003': 8748, 'A030186004': 8749, 'A030186005': 8750, 'A030196001': 8751, 'A030196002': 8752, 'A030196003': 8753, 'A030196004': 8754, 'A030198001': 8755, 'A030198002': 8756, 'A030198003': 8757, 'A030198004': 8758, 'A030198005': 8759, 'A050159001': 8760, 'A050159002': 8761, 'A050159003': 8762, 'A050159004': 8763, 'A050159005': 8764, 'A050160001': 8765, 'A050160002': 8766, 'A050160003': 8767, 'A050160004': 8768, 'A050160005': 8769, 'A050161001': 8770, 'A050161002': 8771, 'A050161003': 8772, 'A050161004': 8773, 'A050161005': 8774, 'A050161006': 8775, 'A050161007': 8776, 'A050162001': 8777, 'A050162003': 8778, 'A050162004': 8779, 'A050162005': 8780, 'A050162006': 8781, 'A050162007': 8782, 'A050163001': 8783, 'A050163002': 8784, 'A050163003': 8785, 'A050163004': 8786, 'A050163005': 8787, 'A050174001': 8788, 'A050174002': 8789, 'A050174003': 8790, 'A050174004': 8791, 'A050174005': 8792, 'A050174006': 8793, 'A050174007': 8794, 'A050174008': 8795, 'A050174009': 8796, 'A050174010': 8797, 'A050175001': 8798, 'A050175002': 8799, 'A050175003': 8800, 'A050175004': 8801, 'A050175005': 8802, 'A050175006': 8803, 'A050176001': 8804, 'A050176002': 8805, 'A050176003': 8806, 'A050176004': 8807, 'A050176005': 8808, 'A050176006': 8809, 'A050177001': 8810, 'A050177002': 8811, 'A050177003': 8812, 'A050177004': 8813, 'A050177005': 8814, 'A050177006': 8815, 'A050178001': 8816, 'A050178002': 8817, 'A050178003': 8818, 'A050178004': 8819, 'A050178005': 8820, 'A050189001': 8821, 'A050189002': 8822, 'A050189003': 8823, 'A050189004': 8824, 'A050190001': 8825, 'A050190002': 8826, 'A050190003': 8827, 'A050190004': 8828, 'A050191001': 8829, 'A050191002': 8830, 'A050191003': 8831, 'A050191004': 8832, 'A050193001': 8833, 'A050193002': 8834, 'A050193003': 8835, 'A050193004': 8836, 'A050192001': 8837, 'A050192002': 8838, 'A050192003': 8839, 'A050192004': 8840, 'A050192005': 8841, 'A080050001': 8842, 'A080050002': 8843, 'A080050003': 8844, 'A080050004': 8845, 'A080050005': 8846, 'A080050006': 8847, 'A080050007': 8848, 'A080050008': 8849, 'A080052001': 8850, 'A080052002': 8851, 'A080052003': 8852, 'A080052004': 8853, 'A080052005': 8854, 'A080052006': 8855, 'A080054003': 8856, 'A080054004': 8857, 'A080054005': 8858, 'A080054006': 8859, 'A080054001': 8860, 'A080054002': 8861, 'A080056001': 8862, 'A080056002': 8863, 'A080056003': 8864, 'A080056004': 8865, 'A080056005': 8866, 'A080056006': 8867, 'A080056008': 8868, 'A080056007': 8869, 'A080058008': 8870, 'A080058001': 8871, 'A080058002': 8872, 'A080058003': 8873, 'A080058004': 8874, 'A080058005': 8875, 'A080058006': 8876, 'A080058007': 8877, 'A080060006': 8878, 'A080060001': 8879, 'A080060002': 8880, 'A080060003': 8881, 'A080060004': 8882, 'A080060005': 8883, 'A080064008': 8884, 'A080064001': 8885, 'A080064002': 8886, 'A080064003': 8887, 'A080064004': 8888, 'A080064005': 8889, 'A080064006': 8890, 'A080064007': 8891, 'A080066008': 8892, 'A080066001': 8893, 'A080066002': 8894, 'A080066003': 8895, 'A080066004': 8896, 'A080066005': 8897, 'A080066006': 8898, 'A080066007': 8899, 'A080068008': 8900, 'A080068005': 8901, 'A080068006': 8902, 'A080068001': 8903, 'A080068002': 8904, 'A080068003': 8905, 'A080068004': 8906, 'A080068007': 8907, 'A080074008': 8908, 'A080074001': 8909, 'A080074002': 8910, 'A080074003': 8911, 'A080074004': 8912, 'A080074005': 8913, 'A080074006': 8914, 'A080074007': 8915, 'A080104001': 8916, 'A080104002': 8917, 'A080104003': 8918, 'A080104004': 8919, 'A080104005': 8920, 'A080104006': 8921, 'A080104007': 8922, 'A080104008': 8923, 'A080106001': 8924, 'A080106002': 8925, 'A080106003': 8926, 'A080106004': 8927, 'A080106005': 8928, 'A080106006': 8929, 'A080106007': 8930, 'A080106008': 8931, 'A080110008': 8932, 'A080110007': 8933, 'A080110001': 8934, 'A080110002': 8935, 'A080110003': 8936, 'A080110004': 8937, 'A080110005': 8938, 'A080110006': 8939, 'A080116001': 8940, 'A080116002': 8941, 'A080116003': 8942, 'A080116004': 8943, 'A080116006': 8944, 'A080116007': 8945, 'A080116008': 8946, 'A080132001': 8947, 'A080132002': 8948, 'A080132003': 8949, 'A080132004': 8950, 'A080132005': 8951, 'A080132006': 8952, 'A080132007': 8953, 'A080132008': 8954, 'A080132009': 8955, 'A080132010': 8956, 'A080134001': 8957, 'A080134002': 8958, 'A080134003': 8959, 'A080134004': 8960, 'A080134005': 8961, 'A080134006': 8962, 'A080134007': 8963, 'A080134008': 8964, 'A010186001': 8965, 'A010186002': 8966, 'A010186003': 8967, 'A010186004': 8968, 'A010186005': 8969, 'A010118001': 8970, 'A010118002': 8971, 'A010118003': 8972, 'A010118004': 8973, 'A010118005': 8974, 'A010126001': 8975, 'A010126002': 8976, 'A010126003': 8977, 'A010126004': 8978, 'A010126005': 8979, 'A010130001': 8980, 'A010130002': 8981, 'A010130003': 8982, 'A010130004': 8983, 'A010130005': 8984, 'A060025001': 8985, 'A060025002': 8986, 'A060025003': 8987, 'A060025004': 8988, 'A060025005': 8989, 'A060025006': 8990, 'A060025007': 8991, 'A060053001': 8992, 'A060053002': 8993, 'A060053003': 8994, 'A060053004': 8995, 'A060053005': 8996, 'A060053006': 8997, 'A060053007': 8998, 'A060175001': 8999, 'A060175002': 9000, 'A060175003': 9001, 'A060175004': 9002, 'A060175005': 9003, 'A060175006': 9004, 'A060175007': 9005, 'A060177001': 9006, 'A060177002': 9007, 'A060177003': 9008, 'A060177004': 9009, 'A060177005': 9010, 'A060177006': 9011, 'A060177007': 9012, 'A060179001': 9013, 'A060179002': 9014, 'A060179003': 9015, 'A060179004': 9016, 'A060179005': 9017, 'A060179006': 9018, 'A060179007': 9019, 'A060181001': 9020, 'A060181002': 9021, 'A060181003': 9022, 'A060181004': 9023, 'A060181005': 9024, 'A060181006': 9025, 'A060181007': 9026, 'A060019001': 9027, 'A060019002': 9028, 'A060019003': 9029, 'A060019004': 9030, 'A060019005': 9031, 'A060019006': 9032, 'A060019007': 9033, 'A060075001': 9034, 'A060075002': 9035, 'A060075003': 9036, 'A060075004': 9037, 'A060075005': 9038, 'A060075006': 9039, 'A060075007': 9040, 'A060169001': 9041, 'A060169002': 9042, 'A060169003': 9043, 'A060169004': 9044, 'A060169005': 9045, 'A060169006': 9046, 'A060169007': 9047, 'A060178001': 9048, 'A060178003': 9049, 'A060178004': 9050, 'A060178005': 9051, 'A060178006': 9052, 'A060178007': 9053, 'A060182001': 9054, 'A060182002': 9055, 'A060182003': 9056, 'A060182004': 9057, 'A060182005': 9058, 'A060182006': 9059, 'A060182007': 9060, 'A060145001': 9061, 'A060145002': 9062, 'A060145003': 9063, 'A060145004': 9064, 'A060145005': 9065, 'A060145006': 9066, 'A060145007': 9067, 'A020173001': 9068, 'A020173002': 9069, 'A020173003': 9070, 'A020173004': 9071, 'A020173005': 9072, 'A060165001': 9073, 'A060165002': 9074, 'A060165003': 9075, 'A060165004': 9076, 'A060165005': 9077, 'A060165006': 9078, 'A060165007': 9079, 'A060174001': 9080, 'A060174002': 9081, 'A060174003': 9082, 'A060174004': 9083, 'A060174005': 9084, 'A060184001': 9085, 'A060184002': 9086, 'A060184003': 9087, 'A060184004': 9088, 'A060185001': 9089, 'A060185002': 9090, 'A060185003': 9091, 'A060185004': 9092, 'A060185005': 9093, 'A060186001': 9094, 'A060186002': 9095, 'A060186003': 9096, 'A060186004': 9097, 'A060186005': 9098, 'A060154001': 9099, 'A060154002': 9100, 'A060154004': 9101, 'A060154005': 9102, 'A060154007': 9103, 'A060154003': 9104, 'A060154006': 9105, 'A010132001': 9106, 'A010132002': 9107, 'A010132003': 9108, 'A010132004': 9109, 'A010132005': 9110, 'A060030001': 9111, 'A060030002': 9112, 'A060030003': 9113, 'A060030004': 9114, 'A060069001': 9115, 'A060069002': 9116, 'A060069003': 9117, 'A060069004': 9118, 'A060109001': 9119, 'A060109002': 9120, 'A060109003': 9121, 'A060109004': 9122, 'A060109005': 9123, 'A060109006': 9124, 'A060112001': 9125, 'A060112002': 9126, 'A060112003': 9127, 'A060112004': 9128, 'A060112005': 9129, 'A060112006': 9130, 'A060113001': 9131, 'A060113002': 9132, 'A060113003': 9133, 'A060113004': 9134, 'A060113005': 9135, 'A060113006': 9136, 'A060118001': 9137, 'A060118002': 9138, 'A060118003': 9139, 'A060118004': 9140, 'A060118005': 9141, 'A060118006': 9142, 'A060172001': 9143, 'A060172002': 9144, 'A060172003': 9145, 'A060172004': 9146, 'A060172005': 9147, 'A060173001': 9148, 'A060173002': 9149, 'A060173003': 9150, 'A060173004': 9151, 'A060173005': 9152, 'A060173006': 9153, 'A060012001': 9154, 'A060012002': 9155, 'A060012003': 9156, 'A060012004': 9157, 'A060012006': 9158, 'A060012005': 9159, 'A060027001': 9160, 'A060027002': 9161, 'A060027003': 9162, 'A060027004': 9163, 'A060028001': 9164, 'A060028002': 9165, 'A060028003': 9166, 'A060028004': 9167, 'A060028005': 9168, 'A060028006': 9169, 'A060029001': 9170, 'A060029002': 9171, 'A060029003': 9172, 'A060029004': 9173, 'A060067001': 9174, 'A060067002': 9175, 'A060067003': 9176, 'A060067004': 9177, 'A060110001': 9178, 'A060110002': 9179, 'A060110003': 9180, 'A060110004': 9181, 'A060110005': 9182, 'A060110006': 9183, 'A060183001': 9184, 'A060183002': 9185, 'A060183003': 9186, 'A060183004': 9187, 'A060183005': 9188, 'A010136001': 9189, 'A010136002': 9190, 'A010136003': 9191, 'A010136004': 9192, 'A010136005': 9193, 'A010144001': 9194, 'A010144002': 9195, 'A010144003': 9196, 'A010144004': 9197, 'A010144005': 9198, 'A010148001': 9199, 'A010148002': 9200, 'A010148003': 9201, 'A010148004': 9202, 'A010148005': 9203, 'A010156001': 9204, 'A010156002': 9205, 'A010156003': 9206, 'A010156004': 9207, 'A010156005': 9208, 'A010156006': 9209, 'A010156007': 9210, 'A010150001': 9211, 'A010150002': 9212, 'A010150003': 9213, 'A010150004': 9214, 'A010150005': 9215, 'A010161001': 9216, 'A010161002': 9217, 'A010161003': 9218, 'A010161004': 9219, 'A010161005': 9220, 'A010158001': 9221, 'A010158002': 9222, 'A010158003': 9223, 'A010158004': 9224, 'A010158005': 9225, 'A060063001': 9226, 'A060063002': 9227, 'A060063003': 9228, 'A060063004': 9229, 'A060063005': 9230, 'A060063006': 9231, 'A060063007': 9232, 'A060104001': 9233, 'A060104002': 9234, 'A060104003': 9235, 'A060104004': 9236, 'A060104005': 9237, 'A060104006': 9238, 'A060104007': 9239, 'A020193001': 9240, 'A020193002': 9241, 'A020193003': 9242, 'A020193004': 9243, 'A020193005': 9244, 'A020193006': 9245, 'A020193007': 9246, 'A020193008': 9247, 'A020194001': 9248, 'A020194002': 9249, 'A020194003': 9250, 'A020194004': 9251, 'A020195001': 9252, 'A020195002': 9253, 'A020195003': 9254, 'A020195004': 9255, 'A020195005': 9256, 'A020176001': 9257, 'A020176003': 9258, 'A020176004': 9259, 'A020176005': 9260, 'A020178001': 9261, 'A020178002': 9262, 'A020178003': 9263, 'A020178004': 9264, 'A020185001': 9265, 'A020185002': 9266, 'A020185003': 9267, 'A020185004': 9268, 'A020185005': 9269, 'A020191001': 9270, 'A020191002': 9271, 'A020191003': 9272, 'A020191004': 9273, 'A020191005': 9274, 'A090066001': 9275, 'A090066002': 9276, 'A090066003': 9277, 'A090066004': 9278, 'A090066005': 9279, 'A090066006': 9280, 'A090066007': 9281, 'A090066008': 9282, 'A090067001': 9283, 'A090067002': 9284, 'A090067003': 9285, 'A090067004': 9286, 'A090067005': 9287, 'A090067006': 9288, 'A090067007': 9289, 'A090067008': 9290, 'A090068001': 9291, 'A090068002': 9292, 'A090068003': 9293, 'A090068004': 9294, 'A090068005': 9295, 'A090068006': 9296, 'A090068007': 9297, 'A090068008': 9298, 'A010162001': 9299, 'A010162002': 9300, 'A010162003': 9301, 'A010162004': 9302, 'A010162005': 9303, 'A010171001': 9304, 'A010171002': 9305, 'A010171003': 9306, 'A010171004': 9307, 'A010171005': 9308, 'A010172001': 9309, 'A010172002': 9310, 'A010172003': 9311, 'A010172004': 9312, 'A010172005': 9313, 'A010172006': 9314, 'A010172007': 9315, 'A010172008': 9316, 'A010175001': 9317, 'A010175002': 9318, 'A010175003': 9319, 'A010175004': 9320, 'A010176001': 9321, 'A010176002': 9322, 'A010176003': 9323, 'A010176004': 9324, 'A010177001': 9325, 'A010177002': 9326, 'A010177003': 9327, 'A010177004': 9328, 'A010177005': 9329, 'A010179001': 9330, 'A010179002': 9331, 'A010179003': 9332, 'A010179004': 9333, 'A010181001': 9334, 'A010181002': 9335, 'A010181003': 9336, 'A010181004': 9337, 'A020180001': 9338, 'A020180002': 9339, 'A020180003': 9340, 'A020180004': 9341, 'A020180005': 9342, 'A020187001': 9343, 'A020187002': 9344, 'A020187003': 9345, 'A020187004': 9346, 'A020187005': 9347, 'A020189001': 9348, 'A020189003': 9349, 'A020189004': 9350, 'A020189005': 9351, 'A010185001': 9352, 'A010185002': 9353, 'A010185003': 9354, 'A010185004': 9355, 'A010185005': 9356, 'A010187001': 9357, 'A010187002': 9358, 'A010187004': 9359, 'A010187003': 9360, 'A010187005': 9361, 'A050001001': 9362, 'A050001002': 9363, 'A050001003': 9364, 'A050001004': 9365, 'A050001005': 9366, 'A050001006': 9367, 'A050001007': 9368, 'A090002002': 9369, 'A090002005': 9370, 'A090002008': 9371, 'A090002001': 9372, 'A090002007': 9373, 'A090002003': 9374, 'A090002004': 9375, 'A090002006': 9376, 'A090004005': 9377, 'A090004007': 9378, 'A090004008': 9379, 'A090004004': 9380, 'A090004006': 9381, 'A090004001': 9382, 'A090004002': 9383, 'A090004003': 9384, 'A090006001': 9385, 'A090006002': 9386, 'A090006003': 9387, 'A090006004': 9388, 'A090006005': 9389, 'A090006006': 9390, 'A090008001': 9391, 'A090008002': 9392, 'A090008003': 9393, 'A090008005': 9394, 'A090008004': 9395, 'A090008006': 9396, 'A090010001': 9397, 'A090010003': 9398, 'A090010004': 9399, 'A090010002': 9400, 'A090010005': 9401, 'A090010007': 9402, 'A090010006': 9403, 'A090010008': 9404, 'A090012001': 9405, 'A090012002': 9406, 'A090012003': 9407, 'A090012005': 9408, 'A090012006': 9409, 'A090012007': 9410, 'A090012008': 9411, 'A090012004': 9412, 'A010160001': 9413, 'A010160002': 9414, 'A010160003': 9415, 'A010160004': 9416, 'A010160005': 9417, 'A010164001': 9418, 'A010164002': 9419, 'A010164003': 9420, 'A010164004': 9421, 'A010166001': 9422, 'A010166003': 9423, 'A010166004': 9424, 'A010166005': 9425, 'A010168001': 9426, 'A010168002': 9427, 'A010168003': 9428, 'A010168005': 9429, 'A010174001': 9430, 'A010174002': 9431, 'A010174003': 9432, 'A010174004': 9433, 'A010174005': 9434, 'A010183001': 9435, 'A010183002': 9436, 'A010183004': 9437, 'A010183005': 9438, 'A010178001': 9439, 'A010178002': 9440, 'A010178003': 9441, 'A010178004': 9442, 'A010189001': 9443, 'A010189002': 9444, 'A010189003': 9445, 'A010189004': 9446, 'A010189005': 9447, 'A010180001': 9448, 'A010180002': 9449, 'A010180003': 9450, 'A010180004': 9451, 'A010180005': 9452, 'A010180006': 9453}, 'testId2id': {'A060000001': 9454, 'A060000003': 9455, 'A060000005': 9456, 'A060000007': 9457, 'A080000002': 9458, 'A060000009': 9459, 'A060000016': 9460, 'A080000004': 9461, 'A080000006': 9462, 'A060000018': 9463, 'A060000020': 9464, 'A080000008': 9465, 'A080000010': 9466, 'A060000022': 9467, 'A080000012': 9468, 'A080000014': 9469, 'A080000016': 9470, 'A060000024': 9471, 'A080000018': 9472, 'A080000020': 9473, 'A060000031': 9474, 'A060000033': 9475, 'A060000035': 9476, 'A060000037': 9477, 'A080000022': 9478, 'A060000039': 9479, 'A080000024': 9480, 'A060000041': 9481, 'A080000035': 9482, 'A060000043': 9483, 'A080000036': 9484, 'A080000037': 9485, 'A060000052': 9486, 'A060000054': 9487, 'A080000038': 9488, 'A060000056': 9489, 'A080000039': 9490, 'A060000058': 9491, 'A060000060': 9492, 'A080000040': 9493, 'A060000062': 9494, 'A080000041': 9495, 'A080000042': 9496, 'A060000070': 9497, 'A060000072': 9498, 'A080000043': 9499, 'A060000074': 9500, 'A080000044': 9501, 'A060000076': 9502, 'A060000078': 9503, 'A080000046': 9504, 'A080000048': 9505, 'A060000085': 9506, 'A060000087': 9507, 'A060000089': 9508, 'A060000091': 9509, 'A060000093': 9510, 'A060000094': 9511, 'A060000095': 9512, 'A060000096': 9513, 'A080000062': 9514, 'A080000070': 9515, 'A080000072': 9516, 'A080000076': 9517, 'A080000078': 9518, 'A060000097': 9519, 'A080000080': 9520, 'A060000099': 9521, 'A080000082': 9522, 'A060000101': 9523, 'A080000084': 9524, 'A060000103': 9525, 'A080000086': 9526, 'A060000105': 9527, 'A080000088': 9528, 'A060000107': 9529, 'A080000090': 9530, 'A080000092': 9531, 'A080000094': 9532, 'A080000096': 9533, 'A080000098': 9534, 'A020000172': 9535, 'A060000121': 9536, 'A080000100': 9537, 'A060000123': 9538, 'A060000125': 9539, 'A080000102': 9540, 'A020000174': 9541, 'A020000181': 9542, 'A060000127': 9543, 'A060000129': 9544, 'A020000182': 9545, 'A060000131': 9546, 'A020000183': 9547, 'A060000119': 9548, 'A060000115': 9549, 'A020000192': 9550, 'A080000108': 9551, 'A080000112': 9552, 'A080000114': 9553, 'A080000118': 9554, 'A080000120': 9555, 'A080000128': 9556, 'A080000129': 9557, 'A040000013': 9558, 'A040000015': 9559, 'A040000017': 9560, 'A040000019': 9561, 'A040000021': 9562, 'A040000033': 9563, 'A040000035': 9564, 'A040000037': 9565, 'A040000039': 9566, 'A040000041': 9567, 'A040000046': 9568, 'A040000049': 9569, 'A040000051': 9570, 'A040000063': 9571, 'A040000065': 9572, 'A040000058': 9573, 'A040000073': 9574, 'A040000075': 9575, 'A090000001': 9576, 'A040000081': 9577, 'A090000003': 9578, 'A040000083': 9579, 'A090000005': 9580, 'A040000094': 9581, 'A090000007': 9582, 'A040000096': 9583, 'A090000009': 9584, 'A040000100': 9585, 'A090000011': 9586, 'A040000088': 9587, 'A090000013': 9588, 'A040000090': 9589, 'A090000014': 9590, 'A040000092': 9591, 'A090000015': 9592, 'A040000002': 9593, 'A090000016': 9594, 'A040000004': 9595, 'A090000017': 9596, 'A040000006': 9597, 'A090000018': 9598, 'A040000014': 9599, 'A090000019': 9600, 'A040000016': 9601, 'A090000020': 9602, 'A040000018': 9603, 'A090000021': 9604, 'A090000022': 9605, 'A090000023': 9606, 'A040000022': 9607, 'A090000024': 9608, 'A040000024': 9609, 'A090000025': 9610, 'A040000026': 9611, 'A090000026': 9612, 'A040000034': 9613, 'A090000027': 9614, 'A040000036': 9615, 'A090000028': 9616, 'A090000029': 9617, 'A040000038': 9618, 'A090000030': 9619, 'A040000040': 9620, 'A090000031': 9621, 'A090000032': 9622, 'A040000050': 9623, 'A040000047': 9624, 'A090000033': 9625, 'A090000034': 9626, 'A040000052': 9627, 'A090000035': 9628, 'A040000054': 9629, 'A090000036': 9630, 'A040000155': 9631, 'A040000156': 9632, 'A090000037': 9633, 'A040000068': 9634, 'A090000038': 9635, 'A040000157': 9636, 'A040000070': 9637, 'A040000042': 9638, 'A090000039': 9639, 'A040000158': 9640, 'A040000064': 9641, 'A040000066': 9642, 'A040000160': 9643, 'A040000059': 9644, 'A040000161': 9645, 'A040000162': 9646, 'A040000074': 9647, 'A040000163': 9648, 'A040000076': 9649, 'A040000164': 9650, 'A040000082': 9651, 'A040000103': 9652, 'A040000165': 9653, 'A040000104': 9654, 'A040000184': 9655, 'A040000106': 9656, 'A040000107': 9657, 'A040000185': 9658, 'A040000108': 9659, 'A040000131': 9660, 'A040000186': 9661, 'A040000132': 9662, 'A040000133': 9663, 'A040000134': 9664, 'A040000195': 9665, 'A040000135': 9666, 'A040000196': 9667, 'A040000152': 9668, 'A040000153': 9669, 'A040000154': 9670, 'A040000197': 9671, 'A040000198': 9672, 'A040000159': 9673, 'A090000043': 9674, 'A090000044': 9675, 'A090000045': 9676, 'A040000109': 9677, 'A090000046': 9678, 'A040000111': 9679, 'A090000047': 9680, 'A040000113': 9681, 'A040000115': 9682, 'A090000048': 9683, 'A040000117': 9684, 'A090000049': 9685, 'A040000119': 9686, 'A090000050': 9687, 'A040000121': 9688, 'A090000051': 9689, 'A040000123': 9690, 'A040000125': 9691, 'A090000052': 9692, 'A040000127': 9693, 'A090000053': 9694, 'A040000129': 9695, 'A090000054': 9696, 'A040000136': 9697, 'A040000138': 9698, 'A040000140': 9699, 'A040000142': 9700, 'A040000144': 9701, 'A040000146': 9702, 'A040000148': 9703, 'A040000150': 9704, 'A090000069': 9705, 'A090000070': 9706, 'A090000071': 9707, 'A090000072': 9708, 'A090000073': 9709, 'A090000074': 9710, 'A030000050': 9711, 'A030000001': 9712, 'A030000014': 9713, 'A030000003': 9714, 'A030000021': 9715, 'A030000019': 9716, 'A050000006': 9717, 'A030000023': 9718, 'A030000028': 9719, 'A050000010': 9720, 'A030000040': 9721, 'A030000042': 9722, 'A030000036': 9723, 'A030000046': 9724, 'A050000027': 9725, 'A050000046': 9726, 'A050000048': 9727, 'A050000050': 9728, 'A050000059': 9729, 'A050000061': 9730, 'A050000065': 9731, 'A030000009': 9732, 'A030000018': 9733, 'A030000007': 9734, 'A050000069': 9735, 'A030000008': 9736, 'A030000025': 9737, 'A030000026': 9738, 'A030000027': 9739, 'A030000075': 9740, 'A030000032': 9741, 'A030000033': 9742, 'A030000044': 9743, 'A030000045': 9744, 'A050000089': 9745, 'A030000119': 9746, 'A030000123': 9747, 'A030000117': 9748, 'A030000137': 9749, 'A030000139': 9750, 'A030000141': 9751, 'A030000149': 9752, 'A030000151': 9753, 'A030000153': 9754, 'A050000131': 9755, 'A030000155': 9756, 'A050000137': 9757, 'A050000139': 9758, 'A080000001': 9759, 'A080000003': 9760, 'A080000005': 9761, 'A080000007': 9762, 'A080000009': 9763, 'A080000011': 9764, 'A080000013': 9765, 'A080000015': 9766, 'A080000017': 9767, 'A080000019': 9768, 'A080000021': 9769, 'A080000023': 9770, 'A080000025': 9771, 'A080000026': 9772, 'A080000027': 9773, 'A080000028': 9774, 'A080000029': 9775, 'A080000030': 9776, 'A080000031': 9777, 'A080000032': 9778, 'A080000033': 9779, 'A080000034': 9780, 'A080000045': 9781, 'A080000047': 9782, 'A080000049': 9783, 'A080000051': 9784, 'A010000018': 9785, 'A010000019': 9786, 'A080000053': 9787, 'A080000055': 9788, 'A010000020': 9789, 'A010000021': 9790, 'A080000057': 9791, 'A080000059': 9792, 'A080000061': 9793, 'A080000063': 9794, 'A010000027': 9795, 'A080000065': 9796, 'A080000067': 9797, 'A010000050': 9798, 'A080000069': 9799, 'A080000071': 9800, 'A080000073': 9801, 'A080000075': 9802, 'A010000054': 9803, 'A010000060': 9804, 'A010000057': 9805, 'A010000058': 9806, 'A010000072': 9807, 'A010000076': 9808, 'A010000075': 9809, 'A010000073': 9810, 'A010000074': 9811, 'A010000010': 9812, 'A010000014': 9813, 'A080000077': 9814, 'A010000037': 9815, 'A080000079': 9816, 'A010000045': 9817, 'A080000081': 9818, 'A010000049': 9819, 'A010000068': 9820, 'A080000083': 9821, 'A010000078': 9822, 'A010000079': 9823, 'A080000085': 9824, 'A010000084': 9825, 'A010000086': 9826, 'A010000088': 9827, 'A080000087': 9828, 'A080000089': 9829, 'A010000107': 9830, 'A080000091': 9831, 'A060000108': 9832, 'A060000124': 9833, 'A080000093': 9834, 'A060000126': 9835, 'A010000110': 9836, 'A060000128': 9837, 'A080000095': 9838, 'A060000130': 9839, 'A080000097': 9840, 'A060000132': 9841, 'A060000134': 9842, 'A080000099': 9843, 'A080000101': 9844, 'A060000136': 9845, 'A060000138': 9846, 'A080000103': 9847, 'A060000140': 9848, 'A080000105': 9849, 'A080000107': 9850, 'A010000154': 9851, 'A080000109': 9852, 'A080000111': 9853, 'A080000113': 9854, 'A080000115': 9855, 'A080000117': 9856, 'A080000119': 9857, 'A080000121': 9858, 'A080000122': 9859, 'A080000123': 9860, 'A080000124': 9861, 'A080000125': 9862, 'A080000126': 9863, 'A080000127': 9864, 'A080000130': 9865, 'A080000131': 9866, 'A080000133': 9867, 'A080000135': 9868, 'A080000137': 9869, 'A080000136': 9870, 'A080000138': 9871, 'A030000016': 9872, 'A030000017': 9873, 'A030000012': 9874, 'A030000030': 9875, 'A030000038': 9876, 'A030000034': 9877, 'A030000039': 9878, 'A030000056': 9879, 'A030000057': 9880, 'A030000048': 9881, 'A030000058': 9882, 'A030000059': 9883, 'A030000052': 9884, 'A030000060': 9885, 'A030000054': 9886, 'A030000067': 9887, 'A030000068': 9888, 'A030000063': 9889, 'A030000069': 9890, 'A030000065': 9891, 'A030000086': 9892, 'A040000084': 9893, 'A040000020': 9894, 'A040000097': 9895, 'A040000101': 9896, 'A040000091': 9897, 'A040000095': 9898, 'A040000089': 9899, 'A040000168': 9900, 'A040000172': 9901, 'A040000093': 9902, 'A040000174': 9903, 'A040000176': 9904, 'A040000178': 9905, 'A030000055': 9906, 'A030000062': 9907, 'A040000180': 9908, 'A040000182': 9909, 'A030000072': 9910, 'A030000082': 9911, 'A030000087': 9912, 'A030000084': 9913, 'A030000098': 9914, 'A030000099': 9915, 'A040000187': 9916, 'A040000189': 9917, 'A030000090': 9918, 'A040000191': 9919, 'A030000092': 9920, 'A030000100': 9921, 'A030000101': 9922, 'A040000193': 9923, 'A030000103': 9924, 'A030000093': 9925, 'A030000113': 9926, 'A030000104': 9927, 'A030000091': 9928, 'A040000171': 9929, 'A030000094': 9930, 'A030000102': 9931, 'A030000096': 9932, 'A030000079': 9933, 'A030000105': 9934, 'A040000169': 9935, 'A040000173': 9936, 'A040000175': 9937, 'A030000115': 9938, 'A030000073': 9939, 'A030000106': 9940, 'A040000177': 9941, 'A030000080': 9942, 'A030000081': 9943, 'A030000077': 9944, 'A030000024': 9945, 'A030000011': 9946, 'A030000013': 9947, 'A030000015': 9948, 'A030000002': 9949, 'A030000004': 9950, 'A030000006': 9951, 'A030000022': 9952, 'A030000020': 9953, 'A030000089': 9954, 'A030000085': 9955, 'A030000107': 9956, 'A030000083': 9957, 'A030000071': 9958, 'A030000066': 9959, 'A040000110': 9960, 'A040000112': 9961, 'A030000064': 9962, 'A030000053': 9963, 'A040000114': 9964, 'A040000116': 9965, 'A030000109': 9966, 'A030000051': 9967, 'A030000121': 9968, 'A030000108': 9969, 'A030000049': 9970, 'A040000118': 9971, 'A030000047': 9972, 'A040000120': 9973, 'A030000029': 9974, 'A030000125': 9975, 'A030000110': 9976, 'A030000037': 9977, 'A030000035': 9978, 'A030000043': 9979, 'A030000041': 9980, 'A030000031': 9981, 'A030000127': 9982, 'A030000135': 9983, 'A030000128': 9984, 'A030000129': 9985, 'A040000166': 9986, 'A030000131': 9987, 'A030000143': 9988, 'A040000139': 9989, 'A030000132': 9990, 'A040000141': 9991, 'A040000170': 9992, 'A030000130': 9993, 'A040000143': 9994, 'A030000145': 9995, 'A050000012': 9996, 'A050000013': 9997, 'A050000029': 9998, 'A050000030': 9999, 'A050000033': 10000, 'A050000041': 10001, 'A050000042': 10002, 'A050000054': 10003, 'A020000006': 10004, 'A020000008': 10005, 'A020000010': 10006, 'A050000008': 10007, 'A020000012': 10008, 'A020000002': 10009, 'A020000014': 10010, 'A020000016': 10011, 'A050000025': 10012, 'A020000018': 10013, 'A050000017': 10014, 'A020000020': 10015, 'A020000004': 10016, 'A050000023': 10017, 'A050000021': 10018, 'A020000024': 10019, 'A020000036': 10020, 'A050000035': 10021, 'A050000037': 10022, 'A020000038': 10023, 'A050000039': 10024, 'A050000019': 10025, 'A020000042': 10026, 'A020000057': 10027, 'A020000044': 10028, 'A020000052': 10029, 'A020000066': 10030, 'A020000061': 10031, 'A020000068': 10032, 'A020000063': 10033, 'A050000071': 10034, 'A020000075': 10035, 'A020000071': 10036, 'A020000077': 10037, 'A020000072': 10038, 'A020000079': 10039, 'A020000069': 10040, 'A050000056': 10041, 'A020000081': 10042, 'A020000074': 10043, 'A050000072': 10044, 'A020000083': 10045, 'A020000086': 10046, 'A020000085': 10047, 'A020000087': 10048, 'A050000074': 10049, 'A050000075': 10050, 'A050000076': 10051, 'A050000095': 10052, 'A020000092': 10053, 'A020000094': 10054, 'A020000089': 10055, 'A020000096': 10056, 'A050000101': 10057, 'A050000102': 10058, 'A020000152': 10059, 'A020000098': 10060, 'A050000104': 10061, 'A020000110': 10062, 'A020000100': 10063, 'A050000106': 10064, 'A020000111': 10065, 'A020000102': 10066, 'A050000110': 10067, 'A020000112': 10068, 'A020000104': 10069, 'A050000114': 10070, 'A020000113': 10071, 'A020000106': 10072, 'A020000114': 10073, 'A020000108': 10074, 'A050000112': 10075, 'A020000119': 10076, 'A020000116': 10077, 'A020000120': 10078, 'A020000118': 10079, 'A050000096': 10080, 'A020000135': 10081, 'A020000122': 10082, 'A020000136': 10083, 'A020000124': 10084, 'A050000141': 10085, 'A020000137': 10086, 'A020000126': 10087, 'A020000138': 10088, 'A020000128': 10089, 'A090000055': 10090, 'A050000149': 10091, 'A020000139': 10092, 'A020000130': 10093, 'A020000140': 10094, 'A020000132': 10095, 'A010000007': 10096, 'A010000009': 10097, 'A010000011': 10098, 'A010000013': 10099, 'A010000015': 10100, 'A010000001': 10101, 'A010000005': 10102, 'A010000030': 10103, 'A010000034': 10104, 'A010000032': 10105, 'A010000036': 10106, 'A010000038': 10107, 'A010000040': 10108, 'A010000042': 10109, 'A010000044': 10110, 'A010000046': 10111, 'A010000048': 10112, 'A010000061': 10113, 'A010000063': 10114, 'A010000065': 10115, 'A010000067': 10116, 'A010000077': 10117, 'A060000021': 10118, 'A010000080': 10119, 'A010000081': 10120, 'A010000083': 10121, 'A010000087': 10122, 'A060000044': 10123, 'A010000089': 10124, 'A010000008': 10125, 'A060000071': 10126, 'A060000073': 10127, 'A010000012': 10128, 'A010000016': 10129, 'A010000025': 10130, 'A060000092': 10131, 'A010000002': 10132, 'A010000004': 10133, 'A010000006': 10134, 'A010000029': 10135, 'A070000012': 10136, 'A010000031': 10137, 'A010000033': 10138, 'A010000035': 10139, 'A060000111': 10140, 'A010000039': 10141, 'A070000034': 10142, 'A070000036': 10143, 'A070000040': 10144, 'A070000042': 10145, 'A070000050': 10146, 'A070000054': 10147, 'A060000114': 10148, 'A070000056': 10149, 'A070000058': 10150, 'A010000117': 10151, 'A060000120': 10152, 'A060000116': 10153, 'A060000117': 10154, 'A010000100': 10155, 'A060000141': 10156, 'A060000142': 10157, 'A010000096': 10158, 'A060000143': 10159, 'A060000144': 10160, 'A010000133': 10161, 'A010000157': 10162, 'A010000165': 10163, 'A010000143': 10164, 'A010000125': 10165, 'A010000167': 10166, 'A010000141': 10167, 'A010000139': 10168, 'A060000147': 10169, 'A060000153': 10170, 'A060000155': 10171, 'A010000190': 10172, 'A060000156': 10173, 'A010000184': 10174, 'A060000157': 10175, 'A060000158': 10176, 'A060000159': 10177, 'A010000095': 10178, 'A070000131': 10179, 'A070000132': 10180, 'A070000133': 10181, 'A070000060': 10182, 'A040000027': 10183, 'A070000038': 10184, 'A070000044': 10185, 'A070000020': 10186, 'A070000022': 10187, 'A070000030': 10188, 'A040000001': 10189, 'A070000032': 10190, 'A040000003': 10191, 'A040000005': 10192, 'A070000046': 10193, 'A070000048': 10194, 'A040000023': 10195, 'A070000052': 10196, 'A040000025': 10197, 'A070000062': 10198, 'A070000064': 10199, 'A070000066': 10200, 'A070000068': 10201, 'A040000067': 10202, 'A070000070': 10203, 'A040000069': 10204, 'A070000072': 10205, 'A070000074': 10206, 'A070000076': 10207, 'A070000078': 10208, 'A070000138': 10209, 'A070000140': 10210, 'A070000142': 10211, 'A070000144': 10212, 'A070000146': 10213, 'A070000148': 10214, 'A070000150': 10215, 'A070000152': 10216, 'A070000154': 10217, 'A070000158': 10218, 'A060000133': 10219, 'A060000135': 10220, 'A060000137': 10221, 'A060000139': 10222, 'A070000001': 10223, 'A070000003': 10224, 'A070000005': 10225, 'A070000007': 10226, 'A070000009': 10227, 'A070000011': 10228, 'A070000013': 10229, 'A070000015': 10230, 'A070000017': 10231, 'A070000023': 10232, 'A070000025': 10233, 'A070000027': 10234, 'A070000033': 10235, 'A070000035': 10236, 'A070000037': 10237, 'A070000043': 10238, 'A070000019': 10239, 'A070000021': 10240, 'A070000031': 10241, 'A070000029': 10242, 'A070000039': 10243, 'A070000045': 10244, 'A070000047': 10245, 'A070000049': 10246, 'A070000051': 10247, 'A070000053': 10248, 'A070000059': 10249, 'A070000061': 10250, 'A070000057': 10251, 'A070000063': 10252, 'A070000065': 10253, 'A070000067': 10254, 'A070000069': 10255, 'A070000071': 10256, 'A070000073': 10257, 'A070000075': 10258, 'A070000077': 10259, 'A040000122': 10260, 'A040000126': 10261, 'A040000128': 10262, 'A040000130': 10263, 'A040000137': 10264, 'A040000145': 10265, 'A040000147': 10266, 'A070000101': 10267, 'A040000149': 10268, 'A020000028': 10269, 'A020000031': 10270, 'A020000032': 10271, 'A020000026': 10272, 'A070000041': 10273, 'A020000058': 10274, 'A070000055': 10275, 'A070000079': 10276, 'A070000081': 10277, 'A070000083': 10278, 'A020000109': 10279, 'A070000085': 10280, 'A070000087': 10281, 'A020000064': 10282, 'A020000065': 10283, 'A070000089': 10284, 'A070000091': 10285, 'A070000093': 10286, 'A070000095': 10287, 'A070000097': 10288, 'A020000073': 10289, 'A070000099': 10290, 'A070000103': 10291, 'A020000090': 10292, 'A070000105': 10293, 'A070000107': 10294, 'A070000109': 10295, 'A070000110': 10296, 'A090000057': 10297, 'A070000111': 10298, 'A090000059': 10299, 'A070000112': 10300, 'A070000113': 10301, 'A070000114': 10302, 'A070000115': 10303, 'A070000116': 10304, 'A070000127': 10305, 'A070000128': 10306, 'A070000129': 10307, 'A070000130': 10308, 'A070000135': 10309, 'A070000137': 10310, 'A070000139': 10311, 'A010000017': 10312, 'A010000052': 10313, 'A010000053': 10314, 'A010000055': 10315, 'A010000056': 10316, 'A010000059': 10317, 'A010000069': 10318, 'A010000071': 10319, 'A010000091': 10320, 'A010000024': 10321, 'A010000092': 10322, 'A010000093': 10323, 'A010000028': 10324, 'A010000085': 10325, 'A010000041': 10326, 'A010000043': 10327, 'A010000047': 10328, 'A010000062': 10329, 'A010000064': 10330, 'A010000066': 10331, 'A010000082': 10332, 'A010000090': 10333, 'A010000104': 10334, 'A010000105': 10335, 'A010000106': 10336, 'A010000108': 10337, 'A010000109': 10338, 'A010000111': 10339, 'A010000112': 10340, 'A010000097': 10341, 'A010000099': 10342, 'A010000101': 10343, 'A010000103': 10344, 'A010000113': 10345, 'A010000114': 10346, 'A010000115': 10347, 'A010000116': 10348, 'A010000137': 10349, 'A010000138': 10350, 'A010000151': 10351, 'A020000170': 10352, 'A010000152': 10353, 'A020000171': 10354, 'A010000153': 10355, 'A020000005': 10356, 'A020000007': 10357, 'A020000009': 10358, 'A020000011': 10359, 'A020000001': 10360, 'A020000013': 10361, 'A020000015': 10362, 'A020000017': 10363, 'A020000019': 10364, 'A020000021': 10365, 'A020000023': 10366, 'A020000037': 10367, 'A020000039': 10368, 'A020000041': 10369, 'A020000043': 10370, 'A020000045': 10371, 'A020000047': 10372, 'A020000049': 10373, 'A020000060': 10374, 'A020000051': 10375, 'A020000062': 10376, 'A020000053': 10377, 'A020000070': 10378, 'A020000076': 10379, 'A020000078': 10380, 'A020000080': 10381, 'A020000082': 10382, 'A020000084': 10383, 'A020000091': 10384, 'A020000093': 10385, 'A020000095': 10386, 'A020000055': 10387, 'A020000056': 10388, 'A020000059': 10389, 'A030000111': 10390, 'A020000067': 10391, 'A030000147': 10392, 'A030000165': 10393, 'A030000167': 10394, 'A030000171': 10395, 'A020000088': 10396, 'A030000173': 10397, 'A030000175': 10398, 'A030000177': 10399, 'A030000179': 10400, 'A030000181': 10401, 'A030000183': 10402, 'A030000195': 10403, 'A030000197': 10404, 'A020000097': 10405, 'A020000099': 10406, 'A020000101': 10407, 'A020000103': 10408, 'A020000105': 10409, 'A020000107': 10410, 'A020000115': 10411, 'A020000117': 10412, 'A020000121': 10413, 'A020000123': 10414, 'A030000133': 10415, 'A030000134': 10416, 'A020000142': 10417, 'A030000157': 10418, 'A030000158': 10419, 'A070000117': 10420, 'A070000141': 10421, 'A070000147': 10422, 'A070000149': 10423, 'A070000151': 10424, 'A070000153': 10425, 'A070000145': 10426, 'A070000155': 10427, 'A010000003': 10428, 'A020000003': 10429, 'A020000029': 10430, 'A020000025': 10431, 'A010000026': 10432, 'A020000050': 10433, 'A010000022': 10434, 'A010000023': 10435, 'A010000051': 10436, 'A010000094': 10437, 'A020000129': 10438, 'A010000102': 10439, 'A020000148': 10440, 'A010000119': 10441, 'A020000150': 10442, 'A020000157': 10443, 'A010000121': 10444, 'A020000159': 10445, 'A020000125': 10446, 'A020000161': 10447, 'A020000163': 10448, 'A010000123': 10449, 'A020000127': 10450, 'A020000165': 10451, 'A020000167': 10452, 'A020000175': 10453, 'A020000131': 10454, 'A020000177': 10455, 'A010000127': 10456, 'A020000179': 10457, 'A020000184': 10458, 'A010000098': 10459, 'A020000186': 10460, 'A020000188': 10461, 'A020000190': 10462, 'A010000131': 10463, 'A010000129': 10464, 'A020000133': 10465, 'A020000144': 10466, 'A010000135': 10467, 'A020000134': 10468, 'A020000143': 10469, 'A020000141': 10470, 'A020000158': 10471, 'A020000160': 10472, 'A020000162': 10473, 'A020000164': 10474, 'A020000145': 10475, 'A020000149': 10476, 'A020000146': 10477, 'A020000151': 10478, 'A020000147': 10479, 'A020000153': 10480, 'A020000154': 10481, 'A020000155': 10482, 'A020000156': 10483, 'A020000169': 10484, 'A010000163': 10485, 'A020000168': 10486, 'A040000060': 10487, 'A040000080': 10488, 'A040000086': 10489, 'A040000087': 10490, 'A010000070': 10491, 'A030000076': 10492, 'A030000185': 10493, 'A030000112': 10494, 'A030000114': 10495, 'A030000116': 10496, 'A030000118': 10497, 'A030000120': 10498, 'A030000122': 10499, 'A030000124': 10500, 'A030000126': 10501, 'A030000136': 10502, 'A040000105': 10503, 'A030000138': 10504, 'A030000140': 10505, 'A030000142': 10506, 'A030000144': 10507, 'A030000146': 10508, 'A030000148': 10509, 'A030000150': 10510, 'A010000155': 10511, 'A020000027': 10512, 'A020000030': 10513, 'A030000010': 10514, 'A020000033': 10515, 'A020000034': 10516, 'A020000035': 10517, 'A020000022': 10518, 'A020000040': 10519, 'A020000046': 10520, 'A020000048': 10521, 'A020000054': 10522, 'A010000122': 10523, 'A010000124': 10524, 'A010000128': 10525, 'A010000134': 10526, 'A010000140': 10527, 'A010000142': 10528, 'A010000146': 10529, 'A010000173': 10530, 'A010000170': 10531, 'A050000002': 10532, 'A050000004': 10533, 'A060000046': 10534, 'A060000047': 10535, 'A050000044': 10536, 'A060000048': 10537, 'A060000064': 10538, 'A060000066': 10539, 'A050000052': 10540, 'A050000077': 10541, 'A050000079': 10542, 'A050000081': 10543, 'A030000159': 10544, 'A050000063': 10545, 'A030000160': 10546, 'A050000067': 10547, 'A030000161': 10548, 'A030000163': 10549, 'A030000162': 10550, 'A050000085': 10551, 'A050000087': 10552, 'A030000164': 10553, 'A030000187': 10554, 'A050000091': 10555, 'A050000093': 10556, 'A030000188': 10557, 'A050000014': 10558, 'A050000015': 10559, 'A050000016': 10560, 'A030000189': 10561, 'A030000190': 10562, 'A050000031': 10563, 'A050000032': 10564, 'A030000191': 10565, 'A030000192': 10566, 'A050000058': 10567, 'A030000193': 10568, 'A030000194': 10569, 'A050000098': 10570, 'A050000103': 10571, 'A050000100': 10572, 'A050000108': 10573, 'A050000116': 10574, 'A050000125': 10575, 'A050000127': 10576, 'A030000152': 10577, 'A050000129': 10578, 'A030000154': 10579, 'A030000156': 10580, 'A050000083': 10581, 'A050000003': 10582, 'A050000005': 10583, 'A050000007': 10584, 'A050000009': 10585, 'A050000011': 10586, 'A050000018': 10587, 'A050000020': 10588, 'A050000022': 10589, 'A050000024': 10590, 'A050000026': 10591, 'A050000028': 10592, 'A050000036': 10593, 'A050000038': 10594, 'A050000040': 10595, 'A050000045': 10596, 'A050000047': 10597, 'A050000049': 10598, 'A050000051': 10599, 'A050000053': 10600, 'A050000060': 10601, 'A050000062': 10602, 'A050000064': 10603, 'A050000066': 10604, 'A050000068': 10605, 'A050000070': 10606, 'A050000078': 10607, 'A050000080': 10608, 'A050000082': 10609, 'A050000084': 10610, 'A050000086': 10611, 'A050000088': 10612, 'A050000090': 10613, 'A050000092': 10614, 'A050000094': 10615, 'A050000105': 10616, 'A050000107': 10617, 'A050000111': 10618, 'A050000109': 10619, 'A050000113': 10620, 'A050000115': 10621, 'A050000117': 10622, 'A050000126': 10623, 'A050000143': 10624, 'A050000151': 10625, 'A050000153': 10626, 'A050000155': 10627, 'A050000157': 10628, 'A050000164': 10629, 'A050000166': 10630, 'A050000168': 10631, 'A050000170': 10632, 'A050000172': 10633, 'A050000179': 10634, 'A050000181': 10635, 'A050000183': 10636, 'A050000185': 10637, 'A050000187': 10638, 'A030000088': 10639, 'A070000094': 10640, 'A070000106': 10641, 'A070000124': 10642, 'A070000126': 10643, 'A070000136': 10644, 'A070000160': 10645, 'A070000162': 10646, 'A070000143': 10647, 'A070000157': 10648, 'A070000159': 10649, 'A070000161': 10650, 'A070000163': 10651, 'A070000086': 10652, 'A070000088': 10653, 'A070000090': 10654, 'A070000092': 10655, 'A070000096': 10656, 'A070000098': 10657, 'A070000100': 10658, 'A070000102': 10659, 'A070000104': 10660, 'A070000108': 10661, 'A070000118': 10662, 'A070000119': 10663, 'A070000120': 10664, 'A070000121': 10665, 'A070000122': 10666, 'A070000123': 10667, 'A070000125': 10668, 'A070000134': 10669, 'A070000156': 10670, 'A070000164': 10671, 'A070000082': 10672, 'A070000084': 10673, 'A090000056': 10674, 'A090000060': 10675, 'A090000061': 10676, 'A090000062': 10677, 'A090000063': 10678, 'A090000064': 10679, 'A090000058': 10680, 'A040000007': 10681, 'A040000008': 10682, 'A040000010': 10683, 'A040000011': 10684, 'A050000034': 10685, 'A040000012': 10686, 'A050000043': 10687, 'A050000055': 10688, 'A050000057': 10689, 'A040000028': 10690, 'A040000029': 10691, 'A040000030': 10692, 'A050000073': 10693, 'A040000032': 10694, 'A050000099': 10695, 'A040000031': 10696, 'A040000043': 10697, 'A040000044': 10698, 'A040000045': 10699, 'A040000048': 10700, 'A040000055': 10701, 'A040000056': 10702, 'A030000061': 10703, 'A040000057': 10704, 'A040000071': 10705, 'A040000072': 10706, 'A040000061': 10707, 'A040000062': 10708, 'A040000077': 10709, 'A040000078': 10710, 'A040000079': 10711, 'A040000098': 10712, 'A040000099': 10713, 'A040000102': 10714, 'A040000085': 10715, 'A030000005': 10716, 'A030000070': 10717, 'A050000152': 10718, 'A050000158': 10719, 'A050000165': 10720, 'A050000167': 10721, 'A050000169': 10722, 'A050000171': 10723, 'A050000173': 10724, 'A050000180': 10725, 'A050000182': 10726, 'A050000184': 10727, 'A050000186': 10728, 'A050000188': 10729, 'A050000128': 10730, 'A050000130': 10731, 'A050000132': 10732, 'A050000138': 10733, 'A050000140': 10734, 'A050000142': 10735, 'A050000144': 10736, 'A050000150': 10737, 'A050000154': 10738, 'A050000156': 10739, 'A070000006': 10740, 'A070000016': 10741, 'A070000018': 10742, 'A070000024': 10743, 'A070000026': 10744, 'A070000028': 10745, 'A070000080': 10746, 'A010000169': 10747, 'A010000182': 10748, 'A010000188': 10749, 'A010000192': 10750, 'A010000191': 10751, 'A040000009': 10752, 'A070000002': 10753, 'A070000004': 10754, 'A070000008': 10755, 'A070000010': 10756, 'A070000014': 10757, 'A090000040': 10758, 'A090000041': 10759, 'A090000042': 10760, 'A060000002': 10761, 'A060000008': 10762, 'A060000010': 10763, 'A060000023': 10764, 'A060000032': 10765, 'A060000042': 10766, 'A060000034': 10767, 'A060000036': 10768, 'A060000038': 10769, 'A060000055': 10770, 'A060000057': 10771, 'A060000061': 10772, 'A060000077': 10773, 'A060000079': 10774, 'A060000088': 10775, 'A060000090': 10776, 'A050000097': 10777, 'A060000100': 10778, 'A060000102': 10779, 'A060000106': 10780, 'A060000122': 10781, 'A060000148': 10782, 'A040000124': 10783, 'A060000150': 10784, 'A060000146': 10785, 'A060000152': 10786, 'A060000161': 10787, 'A060000163': 10788, 'A060000167': 10789, 'A060000176': 10790, 'A060000180': 10791, 'A040000151': 10792, 'A040000167': 10793, 'A040000179': 10794, 'A040000181': 10795, 'A040000183': 10796, 'A040000188': 10797, 'A040000190': 10798, 'A040000192': 10799, 'A040000194': 10800, 'A060000004': 10801, 'A060000040': 10802, 'A060000059': 10803, 'A060000086': 10804, 'A060000149': 10805, 'A060000151': 10806, 'A060000166': 10807, 'A060000160': 10808, 'A060000162': 10809, 'A060000164': 10810, 'A060000168': 10811, 'A060000170': 10812, 'A060000171': 10813, 'A090000065': 10814, 'A060000098': 10815, 'A050000118': 10816, 'A050000119': 10817, 'A050000120': 10818, 'A050000121': 10819, 'A050000122': 10820, 'A050000123': 10821, 'A050000124': 10822, 'A050000133': 10823, 'A050000134': 10824, 'A050000135': 10825, 'A050000136': 10826, 'A050000145': 10827, 'A050000146': 10828, 'A050000147': 10829, 'A050000148': 10830, 'A040000053': 10831, 'A010000147': 10832, 'A010000145': 10833, 'A010000149': 10834, 'A010000159': 10835, 'A010000120': 10836, 'A060000006': 10837, 'A060000017': 10838, 'A060000011': 10839, 'A060000013': 10840, 'A060000015': 10841, 'A060000026': 10842, 'A060000050': 10843, 'A060000065': 10844, 'A060000068': 10845, 'A030000095': 10846, 'A030000097': 10847, 'A030000074': 10848, 'A030000078': 10849, 'A060000014': 10850, 'A060000045': 10851, 'A060000049': 10852, 'A060000051': 10853, 'A060000080': 10854, 'A060000081': 10855, 'A060000082': 10856, 'A060000083': 10857, 'A060000084': 10858, 'A030000169': 10859, 'A030000166': 10860, 'A030000168': 10861, 'A030000170': 10862, 'A030000172': 10863, 'A030000174': 10864, 'A030000176': 10865, 'A030000178': 10866, 'A030000180': 10867, 'A030000182': 10868, 'A030000184': 10869, 'A030000186': 10870, 'A030000196': 10871, 'A030000198': 10872, 'A050000159': 10873, 'A050000160': 10874, 'A050000161': 10875, 'A050000162': 10876, 'A050000163': 10877, 'A050000174': 10878, 'A050000175': 10879, 'A050000176': 10880, 'A050000177': 10881, 'A050000178': 10882, 'A050000189': 10883, 'A050000190': 10884, 'A050000191': 10885, 'A050000193': 10886, 'A050000192': 10887, 'A080000050': 10888, 'A080000052': 10889, 'A080000054': 10890, 'A080000056': 10891, 'A080000058': 10892, 'A080000060': 10893, 'A080000064': 10894, 'A080000066': 10895, 'A080000068': 10896, 'A080000074': 10897, 'A080000104': 10898, 'A080000106': 10899, 'A080000110': 10900, 'A080000116': 10901, 'A080000132': 10902, 'A080000134': 10903, 'A010000186': 10904, 'A010000118': 10905, 'A010000126': 10906, 'A010000130': 10907, 'A060000025': 10908, 'A060000053': 10909, 'A060000175': 10910, 'A060000177': 10911, 'A060000179': 10912, 'A060000181': 10913, 'A060000019': 10914, 'A060000075': 10915, 'A060000169': 10916, 'A060000178': 10917, 'A060000182': 10918, 'A060000145': 10919, 'A020000173': 10920, 'A060000165': 10921, 'A060000174': 10922, 'A060000184': 10923, 'A060000185': 10924, 'A060000186': 10925, 'A060000154': 10926, 'A010000132': 10927, 'A060000030': 10928, 'A060000069': 10929, 'A060000109': 10930, 'A060000112': 10931, 'A060000113': 10932, 'A060000118': 10933, 'A060000172': 10934, 'A060000173': 10935, 'A060000012': 10936, 'A060000027': 10937, 'A060000028': 10938, 'A060000029': 10939, 'A060000067': 10940, 'A060000110': 10941, 'A060000183': 10942, 'A010000136': 10943, 'A010000144': 10944, 'A010000148': 10945, 'A010000156': 10946, 'A010000150': 10947, 'A010000161': 10948, 'A010000158': 10949, 'A060000063': 10950, 'A060000104': 10951, 'A020000193': 10952, 'A020000194': 10953, 'A020000195': 10954, 'A020000176': 10955, 'A020000178': 10956, 'A020000185': 10957, 'A020000191': 10958, 'A090000066': 10959, 'A090000067': 10960, 'A090000068': 10961, 'A010000162': 10962, 'A010000171': 10963, 'A010000172': 10964, 'A010000175': 10965, 'A010000176': 10966, 'A010000177': 10967, 'A010000179': 10968, 'A010000181': 10969, 'A020000180': 10970, 'A020000187': 10971, 'A020000189': 10972, 'A010000185': 10973, 'A010000187': 10974, 'A050000001': 10975, 'A090000002': 10976, 'A090000004': 10977, 'A090000006': 10978, 'A090000008': 10979, 'A090000010': 10980, 'A090000012': 10981, 'A010000160': 10982, 'A010000164': 10983, 'A010000166': 10984, 'A010000168': 10985, 'A010000174': 10986, 'A010000183': 10987, 'A010000178': 10988, 'A010000189': 10989, 'A010000180': 10990}, 'KnowledgeTag2id': {'7224': 10991, '7225': 10992, '7226': 10993, '7227': 10994, '7228': 10995, '7229': 10996, '4605': 10997, '1394': 10998, '1396': 10999, '1397': 11000, '1395': 11001, '7230': 11002, '586': 11003, '587': 11004, '1356': 11005, '4657': 11006, '588': 11007, '589': 11008, '590': 11009, '4658': 11010, '4673': 11011, '1444': 11012, '4661': 11013, '1443': 11014, '4660': 11015, '4659': 11016, '1442': 11017, '592': 11018, '593': 11019, '4671': 11020, '4668': 11021, '4664': 11022, '4663': 11023, '4662': 11024, '4665': 11025, '4669': 11026, '4672': 11027, '595': 11028, '594': 11029, '4667': 11030, '596': 11031, '599': 11032, '598': 11033, '600': 11034, '4678': 11035, '4682': 11036, '4681': 11037, '4680': 11038, '601': 11039, '4685': 11040, '602': 11041, '4683': 11042, '4684': 11043, '9232': 11044, '603': 11045, '2652': 11046, '4686': 11047, '7863': 11048, '606': 11049, '605': 11050, '609': 11051, '4687': 11052, '610': 11053, '4805': 11054, '4688': 11055, '611': 11056, '10603': 11057, '612': 11058, '4784': 11059, '4802': 11060, '4795': 11061, '10604': 11062, '614': 11063, '4803': 11064, '4793': 11065, '4797': 11066, '9557': 11067, '615': 11068, '616': 11069, '2848': 11070, '618': 11071, '4783': 11072, '4801': 11073, '4799': 11074, '10605': 11075, '10606': 11076, '9590': 11077, '2849': 11078, '2852': 11079, '2853': 11080, '4804': 11081, '10403': 11082, '10405': 11083, '623': 11084, '624': 11085, '626': 11086, '625': 11087, '627': 11088, '628': 11089, '10404': 11090, '4967': 11091, '4970': 11092, '4971': 11093, '4975': 11094, '8794': 11095, '2887': 11096, '4974': 11097, '4976': 11098, '4978': 11099, '4979': 11100, '3097': 11101, '23': 11102, '25': 11103, '9931': 11104, '26': 11105, '10568': 11106, '705': 11107, '30': 11108, '32': 11109, '706': 11110, '31': 11111, '707': 11112, '1108': 11113, '1107': 11114, '708': 11115, '9497': 11116, '709': 11117, '1110': 11118, '8931': 11119, '7034': 11120, '7120': 11121, '1117': 11122, '7171': 11123, '1120': 11124, '8132': 11125, '710': 11126, '7126': 11127, '7125': 11128, '7167': 11129, '711': 11130, '712': 11131, '7170': 11132, '7172': 11133, '8134': 11134, '8135': 11135, '713': 11136, '714': 11137, '8137': 11138, '770': 11139, '8136': 11140, '8091': 11141, '8092': 11142, '8093': 11143, '1184': 11144, '8289': 11145, '2711': 11146, '1185': 11147, '1200': 11148, '1203': 11149, '9519': 11150, '10572': 11151, '1201': 11152, '8404': 11153, '2723': 11154, '2725': 11155, '2048': 11156, '2047': 11157, '2049': 11158, '2050': 11159, '2053': 11160, '11214': 11161, '2054': 11162, '2065': 11163, '2067': 11164, '2068': 11165, '2069': 11166, '2070': 11167, '2071': 11168, '2072': 11169, '2077': 11170, '2078': 11171, '2079': 11172, '2085': 11173, '4697': 11174, '10174': 11175, '78': 11176, '2087': 11177, '4699': 11178, '4709': 11179, '11253': 11180, '4723': 11181, '2089': 11182, '4724': 11183, '4725': 11184, '4209': 11185, '2090': 11186, '5141': 11187, '10741': 11188, '2091': 11189, '5261': 11190, '9728': 11191, '2092': 11192, '5317': 11193, '4210': 11194, '2093': 11195, '2094': 11196, '5595': 11197, '7271': 11198, '5308': 11199, '5596': 11200, '7268': 11201, '4211': 11202, '7305': 11203, '11269': 11204, '974': 11205, '971': 11206, '972': 11207, '9743': 11208, '11270': 11209, '11271': 11210, '10778': 11211, '9744': 11212, '9745': 11213, '975': 11214, '4232': 11215, '9787': 11216, '9829': 11217, '10169': 11218, '10168': 11219, '9811': 11220, '10590': 11221, '2055': 11222, '1000': 11223, '10182': 11224, '10608': 11225, '9832': 11226, '10181': 11227, '1002': 11228, '1010': 11229, '10180': 11230, '1011': 11231, '4234': 11232, '10607': 11233, '1009': 11234, '9846': 11235, '10759': 11236, '10610': 11237, '10760': 11238, '2074': 11239, '1248': 11240, '2111': 11241, '2112': 11242, '1249': 11243, '9852': 11244, '2075': 11245, '1250': 11246, '1251': 11247, '2113': 11248, '2076': 11249, '1252': 11250, '10764': 11251, '4236': 11252, '2114': 11253, '11235': 11254, '2116': 11255, '11236': 11256, '2120': 11257, '11241': 11258, '2121': 11259, '2118': 11260, '2119': 11261, '2123': 11262, '2122': 11263, '8238': 11264, '8836': 11265, '2096': 11266, '2097': 11267, '2125': 11268, '2099': 11269, '2100': 11270, '2127': 11271, '11246': 11272, '2101': 11273, '2102': 11274, '10615': 11275, '2128': 11276, '2103': 11277, '2104': 11278, '10618': 11279, '2129': 11280, '8832': 11281, '8247': 11282, '8244': 11283, '2131': 11284, '2107': 11285, '2108': 11286, '2110': 11287, '2109': 11288, '2132': 11289, '2133': 11290, '2115': 11291, '2010': 11292, '2098': 11293, '2598': 11294, '4242': 11295, '2600': 11296, '2601': 11297, '10190': 11298, '2105': 11299, '2602': 11300, '9923': 11301, '9924': 11302, '2644': 11303, '9925': 11304, '9929': 11305, '2647': 11306, '9926': 11307, '4243': 11308, '2648': 11309, '10196': 11310, '407': 11311, '307': 11312, '7309': 11313, '7310': 11314, '308': 11315, '332': 11316, '331': 11317, '7321': 11318, '419': 11319, '2617': 11320, '334': 11321, '339': 11322, '2619': 11323, '351': 11324, '7333': 11325, '363': 11326, '7334': 11327, '365': 11328, '371': 11329, '373': 11330, '3691': 11331, '3682': 11332, '202': 11333, '3751': 11334, '3752': 11335, '3753': 11336, '3755': 11337, '3756': 11338, '3757': 11339, '3826': 11340, '3827': 11341, '5258': 11342, '309': 11343, '5260': 11344, '475': 11345, '342': 11346, '346': 11347, '394': 11348, '395': 11349, '551': 11350, '559': 11351, '547': 11352, '7781': 11353, '7782': 11354, '7788': 11355, '7823': 11356, '1707': 11357, '1720': 11358, '425': 11359, '5289': 11360, '1721': 11361, '427': 11362, '428': 11363, '4604': 11364, '4679': 11365, '4800': 11366, '4957': 11367, '4959': 11368, '5485': 11369, '7581': 11370, '4962': 11371, '4961': 11372, '4969': 11373, '4963': 11374, '5834': 11375, '7593': 11376, '4965': 11377, '4964': 11378, '6308': 11379, '2868': 11380, '2869': 11381, '2870': 11382, '4972': 11383, '7597': 11384, '7600': 11385, '4980': 11386, '7596': 11387, '7599': 11388, '6456': 11389, '7621': 11390, '7618': 11391, '7620': 11392, '24': 11393, '10569': 11394, '4498': 11395, '6555': 11396, '6556': 11397, '6648': 11398, '7118': 11399, '6775': 11400, '10421': 11401, '7127': 11402, '1422': 11403, '10747': 11404, '10573': 11405, '9498': 11406, '1450': 11407, '10749': 11408, '1183': 11409, '1180': 11410, '1181': 11411, '2719': 11412, '1182': 11413, '7803': 11414, '8343': 11415, '2712': 11416, '1202': 11417, '2718': 11418, '2717': 11419, '2714': 11420, '2715': 11421, '8403': 11422, '2721': 11423, '2726': 11424, '2727': 11425, '9500': 11426, '8420': 11427, '8421': 11428, '8422': 11429, '8423': 11430, '8424': 11431, '8426': 11432, '8431': 11433, '8428': 11434, '8429': 11435, '8425': 11436, '8427': 11437, '8432': 11438, '8433': 11439, '7307': 11440, '7308': 11441, '355': 11442, '405': 11443, '409': 11444, '411': 11445, '417': 11446, '429': 11447, '431': 11448, '433': 11449, '436': 11450, '439': 11451, '11265': 11452, '438': 11453, '443': 11454, '447': 11455, '452': 11456, '458': 11457, '461': 11458, '7636': 11459, '7637': 11460, '465': 11461, '464': 11462, '471': 11463, '7653': 11464, '481': 11465, '554': 11466, '574': 11467, '7690': 11468, '7691': 11469, '7789': 11470, '7817': 11471, '2615': 11472, '2616': 11473, '2620': 11474, '2621': 11475, '2622': 11476, '3681': 11477, '3693': 11478, '3703': 11479, '3728': 11480, '3729': 11481, '7912': 11482, '7913': 11483, '7914': 11484, '2618': 11485, '7915': 11486, '7916': 11487, '7918': 11488, '7919': 11489, '7920': 11490, '7921': 11491, '7922': 11492, '2626': 11493, '2625': 11494, '192': 11495, '2623': 11496, '7696': 11497, '7924': 11498, '3704': 11499, '7926': 11500, '7747': 11501, '7751': 11502, '7932': 11503, '7933': 11504, '8127': 11505, '7934': 11506, '7935': 11507, '7936': 11508, '7938': 11509, '7822': 11510, '5259': 11511, '360': 11512, '7941': 11513, '7943': 11514, '7944': 11515, '396': 11516, '8027': 11517, '5268': 11518, '5269': 11519, '8004': 11520, '5270': 11521, '5271': 11522, '8002': 11523, '5284': 11524, '8003': 11525, '5286': 11526, '8005': 11527, '5285': 11528, '8006': 11529, '8014': 11530, '5267': 11531, '10313': 11532, '10328': 11533, '8015': 11534, '8016': 11535, '8017': 11536, '8018': 11537, '5311': 11538, '434': 11539, '435': 11540, '8019': 11541, '8020': 11542, '2603': 11543, '444': 11544, '8021': 11545, '8022': 11546, '8023': 11547, '5814': 11548, '5844': 11549, '5846': 11550, '7595': 11551, '7598': 11552, '7601': 11553, '6453': 11554, '6454': 11555, '6455': 11556, '6557': 11557, '5836': 11558, '6803': 11559, '6806': 11560, '5845': 11561, '6804': 11562, '4746': 11563, '3804': 11564, '3806': 11565, '164': 11566, '162': 11567, '5656': 11568, '5782': 11569, '5620': 11570, '163': 11571, '5705': 11572, '5788': 11573, '1257': 11574, '8831': 11575, '9161': 11576, '5810': 11577, '1260': 11578, '1261': 11579, '1262': 11580, '9166': 11581, '6795': 11582, '6774': 11583, '6647': 11584, '1439': 11585, '6805': 11586, '7807': 11587, '7810': 11588, '7802': 11589, '7797': 11590, '7811': 11591, '7801': 11592, '7800': 11593, '1453': 11594, '1454': 11595, '1455': 11596, '1463': 11597, '1464': 11598, '1451': 11599, '1452': 11600, '7073': 11601, '7070': 11602, '1456': 11603, '1458': 11604, '7626': 11605, '9062': 11606, '9066': 11607, '9055': 11608, '9065': 11609, '9064': 11610, '6796': 11611, '6785': 11612, '169': 11613, '121': 11614, '5761': 11615, '5707': 11616, '5762': 11617, '5653': 11618, '5763': 11619, '1255': 11620, '5780': 11621, '5781': 11622, '5783': 11623, '5619': 11624, '1256': 11625, '8830': 11626, '9160': 11627, '9165': 11628, '5809': 11629, '1259': 11630, '5808': 11631, '6784': 11632, '1263': 11633, '9168': 11634, '9171': 11635, '9172': 11636, '1264': 11637, '9170': 11638, '1266': 11639, '6800': 11640, '6801': 11641, '6802': 11642, '6825': 11643, '9185': 11644, '9184': 11645, '9186': 11646, '1269': 11647, '6826': 11648, '6828': 11649, '6827': 11650, '9072': 11651, '9099': 11652, '7856': 11653, '9082': 11654, '9083': 11655, '9086': 11656, '9075': 11657, '9069': 11658, '9070': 11659, '9098': 11660, '9071': 11661, '9068': 11662, '9077': 11663, '9078': 11664, '9079': 11665, '9080': 11666, '9081': 11667, '9765': 11668, '7862': 11669, '3288': 11670, '7866': 11671, '9797': 11672, '607': 11673, '608': 11674, '116': 11675, '3793': 11676, '117': 11677, '3792': 11678, '3794': 11679, '3798': 11680, '3795': 11681, '3820': 11682, '3821': 11683, '7665': 11684, '7667': 11685, '5654': 11686, '5655': 11687, '9164': 11688, '9162': 11689, '9167': 11690, '9169': 11691, '1267': 11692, '1268': 11693, '1271': 11694, '9022': 11695, '8899': 11696, '8896': 11697, '9187': 11698, '1273': 11699, '8872': 11700, '8871': 11701, '8875': 11702, '8874': 11703, '10819': 11704, '8885': 11705, '7928': 11706, '7929': 11707, '8879': 11708, '8880': 11709, '8890': 11710, '8891': 11711, '8889': 11712, '8892': 11713, '8878': 11714, '7259': 11715, '8893': 11716, '8895': 11717, '8894': 11718, '10834': 11719, '8897': 11720, '8900': 11721, '8901': 11722, '9021': 11723, '8902': 11724, '8904': 11725, '8905': 11726, '8906': 11727, '9592': 11728, '8910': 11729, '8908': 11730, '10837': 11731, '8911': 11732, '2604': 11733, '8913': 11734, '10838': 11735, '9660': 11736, '2607': 11737, '9044': 11738, '9052': 11739, '9051': 11740, '9053': 11741, '9046': 11742, '9090': 11743, '9054': 11744, '9049': 11745, '10841': 11746, '9067': 11747, '9073': 11748, '7629': 11749, '6649': 11750, '7076': 11751, '6777': 11752, '7798': 11753, '7799': 11754, '6794': 11755, '6807': 11756, '8130': 11757, '8131': 11758, '7693': 11759, '7694': 11760, '7925': 11761, '7927': 11762, '7930': 11763, '7818': 11764, '1726': 11765, '1727': 11766, '1728': 11767, '1873': 11768, '1876': 11769, '1878': 11770, '1879': 11771, '1880': 11772, '1931': 11773, '1934': 11774, '1935': 11775, '1964': 11776, '1962': 11777, '1982': 11778, '1984': 11779, '8123': 11780, '7829': 11781, '9050': 11782, '7867': 11783, '6307': 11784, '8125': 11785, '8126': 11786, '8129': 11787, '8133': 11788, '8094': 11789, '8095': 11790, '8096': 11791, '8097': 11792, '8122': 11793, '8124': 11794, '7809': 11795, '1963': 11796, '7804': 11797, '3824': 11798, '3825': 11799, '10329': 11800, '3828': 11801, '1877': 11802, '1874': 11803, '10335': 11804, '10333': 11805, '392': 11806, '393': 11807, '397': 11808, '398': 11809, '10330': 11810, '5283': 11811, '5288': 11812, '5290': 11813, '5297': 11814, '5298': 11815, '5300': 11816, '374': 11817, '10332': 11818, '440': 11819, '441': 11820, '437': 11821, '445': 11822, '446': 11823, '448': 11824, '449': 11825, '451': 11826, '455': 11827, '456': 11828, '454': 11829, '457': 11830, '459': 11831, '5532': 11832, '5542': 11833, '5543': 11834, '5544': 11835, '10395': 11836, '10396': 11837, '10398': 11838, '10397': 11839, '10399': 11840, '10400': 11841, '10402': 11842, '8877': 11843, '8881': 11844, '9121': 11845, '9122': 11846, '9120': 11847, '9124': 11848, '9126': 11849, '9125': 11850, '8868': 11851, '8887': 11852, '8886': 11853, '7248': 11854, '9661': 11855, '9091': 11856, '2608': 11857, '10784': 11858, '9927': 11859, '2605': 11860, '9928': 11861, '2610': 11862, '2611': 11863, '7812': 11864, '7072': 11865, '7075': 11866, '7815': 11867, '1253': 11868, '9858': 11869, '9857': 11870, '10624': 11871, '10766': 11872, '10625': 11873, '1531': 11874, '1494': 11875, '1533': 11876, '1532': 11877, '1548': 11878, '1576': 11879, '1575': 11880, '1581': 11881, '1534': 11882, '10450': 11883, '1465': 11884, '426': 11885, '7805': 11886, '7808': 11887, '1872': 11888, '1875': 11889, '2871': 11890, '7813': 11891, '1577': 11892, '1578': 11893, '1579': 11894, '1580': 11895, '1582': 11896, '1583': 11897, '2612': 11898, '2614': 11899, '10795': 11900, '2613': 11901, '5142': 11902}, 'big_category2id': {'6': 11903, '8': 11904, '2': 11905, '4': 11906, '9': 11907, '3': 11908, '5': 11909, '1': 11910, '7': 11911}, 'mid_category2id': {'1': 11912, '3': 11913, '5': 11914, '7': 11915, '2': 11916, '9': 11917, '16': 11918, '4': 11919, '6': 11920, '18': 11921, '20': 11922, '8': 11923, '10': 11924, '22': 11925, '12': 11926, '14': 11927, '24': 11928, '31': 11929, '33': 11930, '35': 11931, '37': 11932, '39': 11933, '41': 11934, '43': 11935, '36': 11936, '52': 11937, '54': 11938, '38': 11939, '56': 11940, '58': 11941, '60': 11942, '40': 11943, '62': 11944, '42': 11945, '70': 11946, '72': 11947, '74': 11948, '44': 11949, '76': 11950, '78': 11951, '46': 11952, '48': 11953, '85': 11954, '87': 11955, '89': 11956, '91': 11957, '93': 11958, '94': 11959, '95': 11960, '96': 11961, '97': 11962, '80': 11963, '99': 11964, '82': 11965, '101': 11966, '84': 11967, '103': 11968, '86': 11969, '105': 11970, '88': 11971, '107': 11972, '90': 11973, '92': 11974, '98': 11975, '172': 11976, '121': 11977, '100': 11978, '123': 11979, '125': 11980, '102': 11981, '174': 11982, '181': 11983, '127': 11984, '129': 11985, '182': 11986, '131': 11987, '183': 11988, '119': 11989, '115': 11990, '192': 11991, '108': 11992, '112': 11993, '114': 11994, '118': 11995, '120': 11996, '128': 11997, '13': 11998, '15': 11999, '17': 12000, '19': 12001, '21': 12002, '49': 12003, '51': 12004, '63': 12005, '65': 12006, '73': 12007, '75': 12008, '81': 12009, '83': 12010, '11': 12011, '23': 12012, '25': 12013, '26': 12014, '34': 12015, '27': 12016, '28': 12017, '29': 12018, '30': 12019, '32': 12020, '50': 12021, '47': 12022, '155': 12023, '156': 12024, '68': 12025, '157': 12026, '158': 12027, '64': 12028, '66': 12029, '160': 12030, '59': 12031, '161': 12032, '162': 12033, '163': 12034, '164': 12035, '165': 12036, '104': 12037, '184': 12038, '106': 12039, '185': 12040, '186': 12041, '132': 12042, '133': 12043, '134': 12044, '195': 12045, '135': 12046, '196': 12047, '152': 12048, '153': 12049, '154': 12050, '197': 12051, '198': 12052, '159': 12053, '45': 12054, '109': 12055, '111': 12056, '113': 12057, '117': 12058, '53': 12059, '136': 12060, '138': 12061, '140': 12062, '142': 12063, '144': 12064, '146': 12065, '148': 12066, '150': 12067, '69': 12068, '71': 12069, '61': 12070, '137': 12071, '139': 12072, '141': 12073, '149': 12074, '151': 12075, '55': 12076, '57': 12077, '67': 12078, '77': 12079, '79': 12080, '124': 12081, '126': 12082, '110': 12083, '130': 12084, '122': 12085, '168': 12086, '176': 12087, '178': 12088, '180': 12089, '187': 12090, '189': 12091, '191': 12092, '193': 12093, '171': 12094, '169': 12095, '173': 12096, '175': 12097, '177': 12098, '116': 12099, '166': 12100, '143': 12101, '170': 12102, '145': 12103, '167': 12104, '147': 12105, '190': 12106, '179': 12107, '188': 12108, '194': 12109}, 'problem_num2id': {'1': 12110, '2': 12111, '3': 12112, '4': 12113, '5': 12114, '7': 12115, '6': 12116, '8': 12117, '9': 12118, '10': 12119, '11': 12120, '12': 12121, '13': 12122}}\n"
     ]
    }
   ],
   "source": [
    "print(f\"category feature들의 index : {cate2id_dict}\")"
   ]
  },
  {
   "cell_type": "code",
   "execution_count": 31,
   "metadata": {},
   "outputs": [
    {
     "name": "stdout",
     "output_type": "stream",
     "text": [
      "train셋 sequence 데이터들의 indices : userID\n",
      "0       [0, 1, 2, 3, 4, 5, 6, 7, 8, 9, 10, 11, 12, 13,...\n",
      "1       [745, 746, 747, 748, 749, 750, 751, 752, 753, ...\n",
      "2       [1678, 1679, 1680, 1681, 1682, 1683, 1684, 168...\n",
      "5       [1954, 1955, 1956, 1957, 1958, 1959, 1960, 196...\n",
      "6       [2787, 2788, 2789, 2790, 2791, 2792, 2793, 279...\n",
      "                              ...                        \n",
      "7436    [2266515, 2266516, 2266517, 2266518, 2266519, ...\n",
      "7437    [2266530, 2266531, 2266532, 2266533, 2266534, ...\n",
      "7438    [2266546, 2266547, 2266548, 2266549, 2266550, ...\n",
      "7440    [2266562, 2266563, 2266564, 2266565, 2266566, ...\n",
      "7441    [2266577, 2266578, 2266579, 2266580, 2266581, ...\n",
      "Length: 6698, dtype: object\n",
      "\n",
      "train셋 각 sequence 데이터들의 첫 row의 index : userID\n",
      "0             0\n",
      "1           745\n",
      "2          1678\n",
      "5          1954\n",
      "6          2787\n",
      "         ...   \n",
      "7436    2266515\n",
      "7437    2266530\n",
      "7438    2266546\n",
      "7440    2266562\n",
      "7441    2266577\n",
      "Length: 6698, dtype: int64\n"
     ]
    }
   ],
   "source": [
    "print(f\"train셋 sequence 데이터들의 indices : {question_row_ids_by_user_id}\\n\")\n",
    "print(f\"train셋 각 sequence 데이터들의 첫 row의 index : {start_row_id_by_user_id}\")"
   ]
  },
  {
   "cell_type": "code",
   "execution_count": 32,
   "metadata": {},
   "outputs": [],
   "source": [
    "class CFG_T:\n",
    "    seed=7\n",
    "    device='cpu'\n",
    "\n",
    "    batch_size=16\n",
    "\n",
    "    dropout=0.2\n",
    "    emb_size=100\n",
    "    hidden_size=128\n",
    "    nlayers=2\n",
    "    nheads=8\n",
    "  \n",
    "    seq_len=32\n",
    "    target_size=1"
   ]
  },
  {
   "cell_type": "code",
   "execution_count": 33,
   "metadata": {},
   "outputs": [],
   "source": [
    "CFG_T.total_cate_size = offset\n",
    "CFG_T.cate_cols = cate_cols\n",
    "CFG_T.cont_cols = cont_cols\n",
    "CFG_T.start_row_id_by_user_id = start_row_id_by_user_id\n",
    "\n",
    "CFG_T.cate_vocab_size = offset\n",
    "\n",
    "CFG_T.cate_col_size = len(cate_cols)\n",
    "CFG_T.cont_col_size = len(cont_cols)"
   ]
  },
  {
   "cell_type": "code",
   "execution_count": 34,
   "metadata": {},
   "outputs": [
    {
     "data": {
      "text/plain": [
       "userID\n",
       "0       [0, 1, 2, 3, 4, 5, 6, 7, 8, 9, 10, 11, 12, 13,...\n",
       "1       [745, 746, 747, 748, 749, 750, 751, 752, 753, ...\n",
       "2       [1678, 1679, 1680, 1681, 1682, 1683, 1684, 168...\n",
       "5       [1954, 1955, 1956, 1957, 1958, 1959, 1960, 196...\n",
       "6       [2787, 2788, 2789, 2790, 2791, 2792, 2793, 279...\n",
       "                              ...                        \n",
       "7436    [2266515, 2266516, 2266517, 2266518, 2266519, ...\n",
       "7437    [2266530, 2266531, 2266532, 2266533, 2266534, ...\n",
       "7438    [2266546, 2266547, 2266548, 2266549, 2266550, ...\n",
       "7440    [2266562, 2266563, 2266564, 2266565, 2266566, ...\n",
       "7441    [2266577, 2266578, 2266579, 2266580, 2266581, ...\n",
       "Length: 6698, dtype: object"
      ]
     },
     "execution_count": 34,
     "metadata": {},
     "output_type": "execute_result"
    }
   ],
   "source": [
    "# 이 sequence들의 index들을 그대로 사용하지 않는다\n",
    "question_row_ids_by_user_id"
   ]
  },
  {
   "cell_type": "code",
   "execution_count": 35,
   "metadata": {},
   "outputs": [
    {
     "data": {
      "text/plain": [
       "[(0, 0),\n",
       " (0, 1),\n",
       " (0, 2),\n",
       " (0, 3),\n",
       " (0, 4),\n",
       " (0, 5),\n",
       " (0, 6),\n",
       " (0, 7),\n",
       " (0, 8),\n",
       " (0, 9)]"
      ]
     },
     "execution_count": 35,
     "metadata": {},
     "output_type": "execute_result"
    }
   ],
   "source": [
    "train_user_id_row_id_list = [(user_id, row_id)\n",
    "                             for user_id, row_ids in question_row_ids_by_user_id.items()\n",
    "                             for row_id in row_ids]\n",
    "train_user_id_row_id_list[:10]"
   ]
  },
  {
   "cell_type": "code",
   "execution_count": 36,
   "metadata": {},
   "outputs": [
    {
     "data": {
      "text/plain": [
       "2266586"
      ]
     },
     "execution_count": 36,
     "metadata": {},
     "output_type": "execute_result"
    }
   ],
   "source": [
    "# row가 꽤나 늘어났음을 알 수 있다.\n",
    "len(train_user_id_row_id_list)"
   ]
  },
  {
   "cell_type": "code",
   "execution_count": 37,
   "metadata": {},
   "outputs": [],
   "source": [
    "# configuration에 등록!\n",
    "CFG_T.train_user_id_row_id_list = train_user_id_row_id_list"
   ]
  },
  {
   "cell_type": "code",
   "execution_count": 38,
   "metadata": {},
   "outputs": [
    {
     "data": {
      "text/html": [
       "<div>\n",
       "<style scoped>\n",
       "    .dataframe tbody tr th:only-of-type {\n",
       "        vertical-align: middle;\n",
       "    }\n",
       "\n",
       "    .dataframe tbody tr th {\n",
       "        vertical-align: top;\n",
       "    }\n",
       "\n",
       "    .dataframe thead th {\n",
       "        text-align: right;\n",
       "    }\n",
       "</style>\n",
       "<table border=\"1\" class=\"dataframe\">\n",
       "  <thead>\n",
       "    <tr style=\"text-align: right;\">\n",
       "      <th></th>\n",
       "      <th>assessmentItemID</th>\n",
       "      <th>testId</th>\n",
       "      <th>KnowledgeTag</th>\n",
       "      <th>big_category</th>\n",
       "      <th>mid_category</th>\n",
       "      <th>problem_num</th>\n",
       "    </tr>\n",
       "  </thead>\n",
       "  <tbody>\n",
       "    <tr>\n",
       "      <th>0</th>\n",
       "      <td>0</td>\n",
       "      <td>9454</td>\n",
       "      <td>10991</td>\n",
       "      <td>11903</td>\n",
       "      <td>11912</td>\n",
       "      <td>12110</td>\n",
       "    </tr>\n",
       "    <tr>\n",
       "      <th>1</th>\n",
       "      <td>1</td>\n",
       "      <td>9454</td>\n",
       "      <td>10992</td>\n",
       "      <td>11903</td>\n",
       "      <td>11912</td>\n",
       "      <td>12111</td>\n",
       "    </tr>\n",
       "    <tr>\n",
       "      <th>2</th>\n",
       "      <td>2</td>\n",
       "      <td>9454</td>\n",
       "      <td>10992</td>\n",
       "      <td>11903</td>\n",
       "      <td>11912</td>\n",
       "      <td>12112</td>\n",
       "    </tr>\n",
       "    <tr>\n",
       "      <th>3</th>\n",
       "      <td>3</td>\n",
       "      <td>9454</td>\n",
       "      <td>10992</td>\n",
       "      <td>11903</td>\n",
       "      <td>11912</td>\n",
       "      <td>12113</td>\n",
       "    </tr>\n",
       "    <tr>\n",
       "      <th>4</th>\n",
       "      <td>4</td>\n",
       "      <td>9454</td>\n",
       "      <td>10992</td>\n",
       "      <td>11903</td>\n",
       "      <td>11912</td>\n",
       "      <td>12114</td>\n",
       "    </tr>\n",
       "    <tr>\n",
       "      <th>...</th>\n",
       "      <td>...</td>\n",
       "      <td>...</td>\n",
       "      <td>...</td>\n",
       "      <td>...</td>\n",
       "      <td>...</td>\n",
       "      <td>...</td>\n",
       "    </tr>\n",
       "    <tr>\n",
       "      <th>2266581</th>\n",
       "      <td>3147</td>\n",
       "      <td>9958</td>\n",
       "      <td>11453</td>\n",
       "      <td>11908</td>\n",
       "      <td>12069</td>\n",
       "      <td>12114</td>\n",
       "    </tr>\n",
       "    <tr>\n",
       "      <th>2266582</th>\n",
       "      <td>1286</td>\n",
       "      <td>9653</td>\n",
       "      <td>11265</td>\n",
       "      <td>11906</td>\n",
       "      <td>12036</td>\n",
       "      <td>12110</td>\n",
       "    </tr>\n",
       "    <tr>\n",
       "      <th>2266583</th>\n",
       "      <td>1287</td>\n",
       "      <td>9653</td>\n",
       "      <td>11265</td>\n",
       "      <td>11906</td>\n",
       "      <td>12036</td>\n",
       "      <td>12111</td>\n",
       "    </tr>\n",
       "    <tr>\n",
       "      <th>2266584</th>\n",
       "      <td>1288</td>\n",
       "      <td>9653</td>\n",
       "      <td>11265</td>\n",
       "      <td>11906</td>\n",
       "      <td>12036</td>\n",
       "      <td>12112</td>\n",
       "    </tr>\n",
       "    <tr>\n",
       "      <th>2266585</th>\n",
       "      <td>1289</td>\n",
       "      <td>9653</td>\n",
       "      <td>11265</td>\n",
       "      <td>11906</td>\n",
       "      <td>12036</td>\n",
       "      <td>12113</td>\n",
       "    </tr>\n",
       "  </tbody>\n",
       "</table>\n",
       "<p>2266586 rows × 6 columns</p>\n",
       "</div>"
      ],
      "text/plain": [
       "         assessmentItemID  testId  KnowledgeTag  big_category  mid_category  \\\n",
       "0                       0    9454         10991         11903         11912   \n",
       "1                       1    9454         10992         11903         11912   \n",
       "2                       2    9454         10992         11903         11912   \n",
       "3                       3    9454         10992         11903         11912   \n",
       "4                       4    9454         10992         11903         11912   \n",
       "...                   ...     ...           ...           ...           ...   \n",
       "2266581              3147    9958         11453         11908         12069   \n",
       "2266582              1286    9653         11265         11906         12036   \n",
       "2266583              1287    9653         11265         11906         12036   \n",
       "2266584              1288    9653         11265         11906         12036   \n",
       "2266585              1289    9653         11265         11906         12036   \n",
       "\n",
       "         problem_num  \n",
       "0              12110  \n",
       "1              12111  \n",
       "2              12112  \n",
       "3              12113  \n",
       "4              12114  \n",
       "...              ...  \n",
       "2266581        12114  \n",
       "2266582        12110  \n",
       "2266583        12111  \n",
       "2266584        12112  \n",
       "2266585        12113  \n",
       "\n",
       "[2266586 rows x 6 columns]"
      ]
     },
     "execution_count": 38,
     "metadata": {},
     "output_type": "execute_result"
    }
   ],
   "source": [
    "train_df[cate_cols]"
   ]
  },
  {
   "cell_type": "code",
   "execution_count": 39,
   "metadata": {},
   "outputs": [
    {
     "data": {
      "text/html": [
       "<div>\n",
       "<style scoped>\n",
       "    .dataframe tbody tr th:only-of-type {\n",
       "        vertical-align: middle;\n",
       "    }\n",
       "\n",
       "    .dataframe tbody tr th {\n",
       "        vertical-align: top;\n",
       "    }\n",
       "\n",
       "    .dataframe thead th {\n",
       "        text-align: right;\n",
       "    }\n",
       "</style>\n",
       "<table border=\"1\" class=\"dataframe\">\n",
       "  <thead>\n",
       "    <tr style=\"text-align: right;\">\n",
       "      <th></th>\n",
       "      <th>answerCode</th>\n",
       "    </tr>\n",
       "  </thead>\n",
       "  <tbody>\n",
       "    <tr>\n",
       "      <th>0</th>\n",
       "      <td>1</td>\n",
       "    </tr>\n",
       "    <tr>\n",
       "      <th>1</th>\n",
       "      <td>1</td>\n",
       "    </tr>\n",
       "    <tr>\n",
       "      <th>2</th>\n",
       "      <td>1</td>\n",
       "    </tr>\n",
       "    <tr>\n",
       "      <th>3</th>\n",
       "      <td>1</td>\n",
       "    </tr>\n",
       "    <tr>\n",
       "      <th>4</th>\n",
       "      <td>1</td>\n",
       "    </tr>\n",
       "    <tr>\n",
       "      <th>...</th>\n",
       "      <td>...</td>\n",
       "    </tr>\n",
       "    <tr>\n",
       "      <th>2266581</th>\n",
       "      <td>0</td>\n",
       "    </tr>\n",
       "    <tr>\n",
       "      <th>2266582</th>\n",
       "      <td>1</td>\n",
       "    </tr>\n",
       "    <tr>\n",
       "      <th>2266583</th>\n",
       "      <td>1</td>\n",
       "    </tr>\n",
       "    <tr>\n",
       "      <th>2266584</th>\n",
       "      <td>1</td>\n",
       "    </tr>\n",
       "    <tr>\n",
       "      <th>2266585</th>\n",
       "      <td>1</td>\n",
       "    </tr>\n",
       "  </tbody>\n",
       "</table>\n",
       "<p>2266586 rows × 1 columns</p>\n",
       "</div>"
      ],
      "text/plain": [
       "         answerCode\n",
       "0                 1\n",
       "1                 1\n",
       "2                 1\n",
       "3                 1\n",
       "4                 1\n",
       "...             ...\n",
       "2266581           0\n",
       "2266582           1\n",
       "2266583           1\n",
       "2266584           1\n",
       "2266585           1\n",
       "\n",
       "[2266586 rows x 1 columns]"
      ]
     },
     "execution_count": 39,
     "metadata": {},
     "output_type": "execute_result"
    }
   ],
   "source": [
    "train_df[cont_cols]"
   ]
  },
  {
   "cell_type": "code",
   "execution_count": 40,
   "metadata": {},
   "outputs": [],
   "source": [
    "import torch\n",
    "from torch.utils.data import Dataset\n",
    "from torch.utils.data import DataLoader\n",
    "\n",
    "class RiiidDataset(Dataset):\n",
    "    def __init__(self, df, cfg, max_seq_len=100, max_content_len=1000):        \n",
    "        \n",
    "        self.max_seq_len = max_seq_len\n",
    "        self.max_content_len = max_content_len\n",
    "        \n",
    "        self.user_id_row_id_list = cfg.train_user_id_row_id_list\n",
    "        self.start_row_id_by_user_id = cfg.start_row_id_by_user_id\n",
    "\n",
    "        self.cate_cols = cfg.cate_cols\n",
    "        self.cont_cols = cfg.cont_cols\n",
    "        \n",
    "        self.cate_features = df[self.cate_cols].values\n",
    "        self.cont_features = df[self.cont_cols].values\n",
    "\n",
    "    def __getitem__(self, idx):\n",
    "        \n",
    "        user_id, end_row_id = self.user_id_row_id_list[idx]\n",
    "        end_row_id += 1\n",
    "        \n",
    "        start_row_id = self.start_row_id_by_user_id[user_id]\n",
    "        start_row_id = max(end_row_id - self.max_seq_len, start_row_id) # lower bound\n",
    "        seq_len = end_row_id - start_row_id\n",
    "\n",
    "        # 0으로 채워진 output tensor 제작                  \n",
    "        cate_feature = torch.zeros(self.max_seq_len, len(self.cate_cols), dtype=torch.long)\n",
    "        cont_feature = torch.zeros(self.max_seq_len, len(self.cont_cols), dtype=torch.float)\n",
    "        mask = torch.zeros(self.max_seq_len, dtype=torch.int16)\n",
    "       \n",
    "        # tensor에 값 채워넣기\n",
    "        cate_feature[-seq_len:] = torch.ShortTensor(self.cate_features[start_row_id:end_row_id])\n",
    "        cont_feature[-seq_len:] = torch.HalfTensor(self.cont_features[start_row_id:end_row_id])\n",
    "        mask[-seq_len:] = 1        \n",
    "            \n",
    "        # answered_correctly가 cont_feature[-1]에 위치한다\n",
    "        target = torch.FloatTensor([cont_feature[-1, -1]])\n",
    "\n",
    "        # answered_correctly 및 relative_answered_correctly는\n",
    "        # data leakage가 발생할 수 있으므로 0으로 모두 채운다\n",
    "        # cont_feature[-1, -1] = 0\n",
    "        # cont_feature[-1, -2] = 0\n",
    "        \n",
    "        return cate_feature, cont_feature, mask, target\n",
    "        \n",
    "    def __len__(self):\n",
    "        return len(self.user_id_row_id_list)"
   ]
  },
  {
   "cell_type": "code",
   "execution_count": 41,
   "metadata": {},
   "outputs": [],
   "source": [
    "train_db = RiiidDataset(train_df, CFG_T, max_seq_len=CFG_T.seq_len)\n",
    "train_loader = DataLoader(train_db, batch_size=CFG_T.batch_size, shuffle=True,\n",
    "                          drop_last=False, pin_memory=True)    "
   ]
  },
  {
   "cell_type": "code",
   "execution_count": 42,
   "metadata": {},
   "outputs": [
    {
     "name": "stdout",
     "output_type": "stream",
     "text": [
      "category size : torch.Size([32, 6])\n",
      "continous size : torch.Size([32, 1])\n",
      "mask size : torch.Size([32])\n",
      "target size : torch.Size([1])\n"
     ]
    }
   ],
   "source": [
    "# sequence 데이터 하나의 shape을 살펴보자\n",
    "for cate_x, cont_x, mask, target in train_db:\n",
    "    print(f\"category size : {cate_x.size()}\")\n",
    "    print(f\"continous size : {cont_x.size()}\")\n",
    "    print(f\"mask size : {mask.size()}\")\n",
    "    print(f\"target size : {target.size()}\")\n",
    "    break"
   ]
  },
  {
   "cell_type": "code",
   "execution_count": 43,
   "metadata": {},
   "outputs": [
    {
     "name": "stdout",
     "output_type": "stream",
     "text": [
      "category size : torch.Size([16, 32, 6])\n",
      "continous size : torch.Size([16, 32, 1])\n",
      "mask size : torch.Size([16, 32])\n",
      "target size : torch.Size([16, 1])\n"
     ]
    }
   ],
   "source": [
    "# 배치 단위로 주어지는 데이터를 살펴보자\n",
    "for cate_x, cont_x, mask, target in train_loader:\n",
    "    print(f\"category size : {cate_x.size()}\")\n",
    "    print(f\"continous size : {cont_x.size()}\")\n",
    "    print(f\"mask size : {mask.size()}\")\n",
    "    print(f\"target size : {target.size()}\")\n",
    "    break"
   ]
  },
  {
   "cell_type": "markdown",
   "metadata": {},
   "source": [
    "### 📗 Transformer Input / Output 구현\n",
    "> transformer에 입력시킬 input을 구현하고 transformer를 거친 output을 우리가 원하는 최종 출력값으로 바꾼다."
   ]
  },
  {
   "cell_type": "code",
   "execution_count": 44,
   "metadata": {},
   "outputs": [
    {
     "name": "stdout",
     "output_type": "stream",
     "text": [
      "category size : torch.Size([16, 32, 6])\n",
      "continous size : torch.Size([16, 32, 1])\n",
      "mask size : torch.Size([16, 32])\n",
      "\n"
     ]
    }
   ],
   "source": [
    "import torch.nn as nn\n",
    "\n",
    "# 입력값\n",
    "for cate_x, cont_x, mask, target in train_loader:\n",
    "    print(f\"category size : {cate_x.size()}\")\n",
    "    print(f\"continous size : {cont_x.size()}\")\n",
    "    print(f\"mask size : {mask.size()}\\n\")\n",
    "    break"
   ]
  },
  {
   "cell_type": "markdown",
   "metadata": {},
   "source": [
    "#### 🟡 Category Embedding\n",
    "> 범주형 feature를 임베딩하는 과정을 살펴보자!"
   ]
  },
  {
   "cell_type": "code",
   "execution_count": 45,
   "metadata": {},
   "outputs": [
    {
     "data": {
      "text/plain": [
       "torch.Size([16, 32, 6])"
      ]
     },
     "execution_count": 45,
     "metadata": {},
     "output_type": "execute_result"
    }
   ],
   "source": [
    "cate_x.size()"
   ]
  },
  {
   "cell_type": "code",
   "execution_count": 46,
   "metadata": {},
   "outputs": [
    {
     "data": {
      "text/plain": [
       "100"
      ]
     },
     "execution_count": 46,
     "metadata": {},
     "output_type": "execute_result"
    }
   ],
   "source": [
    "# 임베딩 크기\n",
    "CFG_T.emb_size"
   ]
  },
  {
   "cell_type": "code",
   "execution_count": 47,
   "metadata": {},
   "outputs": [
    {
     "data": {
      "text/plain": [
       "tensor([[[10909, 11050, 11903, 12059, 12115],\n",
       "         [10857, 11075, 11903, 12010, 12110],\n",
       "         [10857, 11075, 11903, 12010, 12111],\n",
       "         ...,\n",
       "         [10057, 11348, 11909, 11966, 12114],\n",
       "         [10057, 11348, 11909, 11966, 12116],\n",
       "         [10057, 11348, 11909, 11966, 12115]],\n",
       "\n",
       "        [[10018, 11495, 11909, 12002, 12114],\n",
       "         [10018, 11496, 11909, 12002, 12116],\n",
       "         [10018, 11496, 11909, 12002, 12115],\n",
       "         ...,\n",
       "         [ 9580, 11181, 11907, 11914, 12114],\n",
       "         [ 9580, 11181, 11907, 11914, 12116],\n",
       "         [10125, 11548, 11910, 11923, 12110]],\n",
       "\n",
       "        [[ 9774, 11052, 11904, 12017, 12115],\n",
       "         [ 9774, 11081, 11904, 12017, 12117],\n",
       "         [ 9769, 11035, 11904, 12002, 12110],\n",
       "         ...,\n",
       "         [ 9772, 11038, 11904, 12014, 12117],\n",
       "         [ 9775, 11055, 11904, 12018, 12110],\n",
       "         [ 9775, 11055, 11904, 12018, 12111]],\n",
       "\n",
       "        ...,\n",
       "\n",
       "        [[10839, 10992, 11903, 12011, 12111],\n",
       "         [10839, 10992, 11903, 12011, 12112],\n",
       "         [10839, 10992, 11903, 12011, 12113],\n",
       "         ...,\n",
       "         [10938, 11009, 11903, 12017, 12114],\n",
       "         [10938, 11009, 11903, 12017, 12116],\n",
       "         [10937, 11007, 11903, 12016, 12110]],\n",
       "\n",
       "        [[10904, 11891, 11910, 12041, 12112],\n",
       "         [10904, 11891, 11910, 12041, 12113],\n",
       "         [10904, 11891, 11910, 12041, 12114],\n",
       "         ...,\n",
       "         [10295, 11726, 11911, 12055, 12111],\n",
       "         [10295, 11726, 11911, 12055, 12112],\n",
       "         [10295, 11727, 11911, 12055, 12113]],\n",
       "\n",
       "        [[10801, 10993, 11903, 11919, 12110],\n",
       "         [10801, 10993, 11903, 11919, 12111],\n",
       "         [10801, 10993, 11903, 11919, 12112],\n",
       "         ...,\n",
       "         [ 9594, 11199, 11907, 11918, 12111],\n",
       "         [ 9594, 11194, 11907, 11918, 12112],\n",
       "         [ 9594, 11194, 11907, 11918, 12113]]])"
      ]
     },
     "execution_count": 47,
     "metadata": {},
     "output_type": "execute_result"
    }
   ],
   "source": [
    "cate_x[:,:,1:]"
   ]
  },
  {
   "cell_type": "code",
   "execution_count": 48,
   "metadata": {},
   "outputs": [
    {
     "data": {
      "text/plain": [
       "torch.Size([16896, 64])"
      ]
     },
     "execution_count": 48,
     "metadata": {},
     "output_type": "execute_result"
    }
   ],
   "source": [
    "embed.shape"
   ]
  },
  {
   "cell_type": "code",
   "execution_count": 49,
   "metadata": {},
   "outputs": [
    {
     "data": {
      "text/plain": [
       "array([[[8998],\n",
       "        [8687],\n",
       "        [8688],\n",
       "        [8689],\n",
       "        [8690],\n",
       "        [8691],\n",
       "        [8692],\n",
       "        [8693],\n",
       "        [8694],\n",
       "        [8695],\n",
       "        [6809],\n",
       "        [6810],\n",
       "        [6811],\n",
       "        [6812],\n",
       "        [6813],\n",
       "        [6814],\n",
       "        [ 409],\n",
       "        [ 410],\n",
       "        [ 411],\n",
       "        [ 412],\n",
       "        [ 413],\n",
       "        [ 414],\n",
       "        [ 415],\n",
       "        [ 416],\n",
       "        [ 417],\n",
       "        [3687],\n",
       "        [3686],\n",
       "        [3688],\n",
       "        [3689],\n",
       "        [3690],\n",
       "        [3691],\n",
       "        [3692]],\n",
       "\n",
       "       [[3467],\n",
       "        [3468],\n",
       "        [3469],\n",
       "        [ 846],\n",
       "        [ 847],\n",
       "        [ 848],\n",
       "        [ 849],\n",
       "        [ 850],\n",
       "        [ 851],\n",
       "        [ 852],\n",
       "        [ 853],\n",
       "        [3429],\n",
       "        [3430],\n",
       "        [3431],\n",
       "        [3432],\n",
       "        [3433],\n",
       "        [3434],\n",
       "        [3435],\n",
       "        [1698],\n",
       "        [1699],\n",
       "        [1700],\n",
       "        [1701],\n",
       "        [1702],\n",
       "        [1703],\n",
       "        [1704],\n",
       "        [ 859],\n",
       "        [ 860],\n",
       "        [ 861],\n",
       "        [ 862],\n",
       "        [ 863],\n",
       "        [ 864],\n",
       "        [4054]],\n",
       "\n",
       "       [[2021],\n",
       "        [2020],\n",
       "        [1978],\n",
       "        [1979],\n",
       "        [1980],\n",
       "        [1981],\n",
       "        [1982],\n",
       "        [1983],\n",
       "        [2006],\n",
       "        [2007],\n",
       "        [2008],\n",
       "        [2009],\n",
       "        [2010],\n",
       "        [2011],\n",
       "        [2012],\n",
       "        [2013],\n",
       "        [1984],\n",
       "        [1985],\n",
       "        [1986],\n",
       "        [1987],\n",
       "        [1988],\n",
       "        [1989],\n",
       "        [1998],\n",
       "        [1999],\n",
       "        [2000],\n",
       "        [2001],\n",
       "        [2002],\n",
       "        [2003],\n",
       "        [2004],\n",
       "        [2005],\n",
       "        [2022],\n",
       "        [2023]],\n",
       "\n",
       "       [[   0],\n",
       "        [   0],\n",
       "        [   0],\n",
       "        [   0],\n",
       "        [   0],\n",
       "        [   0],\n",
       "        [   0],\n",
       "        [   0],\n",
       "        [   0],\n",
       "        [   0],\n",
       "        [   0],\n",
       "        [   0],\n",
       "        [   0],\n",
       "        [   0],\n",
       "        [4804],\n",
       "        [4805],\n",
       "        [4806],\n",
       "        [4807],\n",
       "        [4808],\n",
       "        [4809],\n",
       "        [4810],\n",
       "        [4811],\n",
       "        [4812],\n",
       "        [4748],\n",
       "        [4749],\n",
       "        [4751],\n",
       "        [4752],\n",
       "        [4754],\n",
       "        [4755],\n",
       "        [4750],\n",
       "        [4753],\n",
       "        [4054]],\n",
       "\n",
       "       [[6869],\n",
       "        [6870],\n",
       "        [6871],\n",
       "        [1822],\n",
       "        [1823],\n",
       "        [1824],\n",
       "        [1825],\n",
       "        [1826],\n",
       "        [1827],\n",
       "        [1828],\n",
       "        [6676],\n",
       "        [6677],\n",
       "        [6682],\n",
       "        [6681],\n",
       "        [6678],\n",
       "        [6679],\n",
       "        [6680],\n",
       "        [6699],\n",
       "        [6700],\n",
       "        [6701],\n",
       "        [6702],\n",
       "        [6703],\n",
       "        [6704],\n",
       "        [6705],\n",
       "        [6706],\n",
       "        [6712],\n",
       "        [6711],\n",
       "        [6710],\n",
       "        [6708],\n",
       "        [6707],\n",
       "        [6709],\n",
       "        [3610]],\n",
       "\n",
       "       [[8164],\n",
       "        [8162],\n",
       "        [8163],\n",
       "        [8165],\n",
       "        [8166],\n",
       "        [8167],\n",
       "        [5170],\n",
       "        [5171],\n",
       "        [5172],\n",
       "        [5173],\n",
       "        [5174],\n",
       "        [5175],\n",
       "        [5176],\n",
       "        [5177],\n",
       "        [8168],\n",
       "        [8169],\n",
       "        [8171],\n",
       "        [8170],\n",
       "        [8172],\n",
       "        [8174],\n",
       "        [8173],\n",
       "        [8364],\n",
       "        [8365],\n",
       "        [8366],\n",
       "        [8367],\n",
       "        [8368],\n",
       "        [8369],\n",
       "        [8370],\n",
       "        [8175],\n",
       "        [8176],\n",
       "        [8177],\n",
       "        [8178]],\n",
       "\n",
       "       [[7446],\n",
       "        [7447],\n",
       "        [5289],\n",
       "        [5290],\n",
       "        [5291],\n",
       "        [5292],\n",
       "        [5293],\n",
       "        [5294],\n",
       "        [7541],\n",
       "        [7542],\n",
       "        [7543],\n",
       "        [7544],\n",
       "        [7545],\n",
       "        [7546],\n",
       "        [7472],\n",
       "        [7473],\n",
       "        [7474],\n",
       "        [7475],\n",
       "        [7476],\n",
       "        [7477],\n",
       "        [7484],\n",
       "        [7485],\n",
       "        [7486],\n",
       "        [7487],\n",
       "        [7488],\n",
       "        [7489],\n",
       "        [7490],\n",
       "        [7491],\n",
       "        [2439],\n",
       "        [2440],\n",
       "        [2441],\n",
       "        [2442]],\n",
       "\n",
       "       [[2850],\n",
       "        [2851],\n",
       "        [2852],\n",
       "        [2853],\n",
       "        [3199],\n",
       "        [3200],\n",
       "        [3201],\n",
       "        [3203],\n",
       "        [3202],\n",
       "        [3204],\n",
       "        [3183],\n",
       "        [3184],\n",
       "        [3185],\n",
       "        [3186],\n",
       "        [3188],\n",
       "        [3187],\n",
       "        [5289],\n",
       "        [5290],\n",
       "        [5291],\n",
       "        [5292],\n",
       "        [5293],\n",
       "        [5294],\n",
       "        [7541],\n",
       "        [7542],\n",
       "        [7543],\n",
       "        [7544],\n",
       "        [7545],\n",
       "        [7546],\n",
       "        [3235],\n",
       "        [3236],\n",
       "        [3237],\n",
       "        [3238]],\n",
       "\n",
       "       [[6632],\n",
       "        [6633],\n",
       "        [6634],\n",
       "        [6635],\n",
       "        [1740],\n",
       "        [1741],\n",
       "        [1742],\n",
       "        [1743],\n",
       "        [1744],\n",
       "        [1745],\n",
       "        [1746],\n",
       "        [6641],\n",
       "        [6642],\n",
       "        [6643],\n",
       "        [6644],\n",
       "        [6645],\n",
       "        [6646],\n",
       "        [6647],\n",
       "        [1765],\n",
       "        [1766],\n",
       "        [1767],\n",
       "        [1768],\n",
       "        [1769],\n",
       "        [1770],\n",
       "        [1771],\n",
       "        [7751],\n",
       "        [7752],\n",
       "        [7753],\n",
       "        [7754],\n",
       "        [7755],\n",
       "        [6601],\n",
       "        [6602]],\n",
       "\n",
       "       [[   0],\n",
       "        [   0],\n",
       "        [   0],\n",
       "        [   0],\n",
       "        [   0],\n",
       "        [   0],\n",
       "        [   0],\n",
       "        [   0],\n",
       "        [   0],\n",
       "        [   0],\n",
       "        [   0],\n",
       "        [   0],\n",
       "        [   0],\n",
       "        [   0],\n",
       "        [9143],\n",
       "        [9144],\n",
       "        [9145],\n",
       "        [9146],\n",
       "        [9147],\n",
       "        [9148],\n",
       "        [9149],\n",
       "        [9150],\n",
       "        [9152],\n",
       "        [9151],\n",
       "        [9153],\n",
       "        [9080],\n",
       "        [9081],\n",
       "        [9082],\n",
       "        [9083],\n",
       "        [9084],\n",
       "        [6253],\n",
       "        [6254]],\n",
       "\n",
       "       [[5307],\n",
       "        [5308],\n",
       "        [5309],\n",
       "        [5310],\n",
       "        [5311],\n",
       "        [5312],\n",
       "        [5313],\n",
       "        [5314],\n",
       "        [5315],\n",
       "        [5316],\n",
       "        [5317],\n",
       "        [5318],\n",
       "        [5319],\n",
       "        [5320],\n",
       "        [5321],\n",
       "        [5322],\n",
       "        [5323],\n",
       "        [5324],\n",
       "        [5325],\n",
       "        [5326],\n",
       "        [5327],\n",
       "        [5328],\n",
       "        [5950],\n",
       "        [5951],\n",
       "        [5952],\n",
       "        [5953],\n",
       "        [5954],\n",
       "        [5955],\n",
       "        [5957],\n",
       "        [5956],\n",
       "        [5329],\n",
       "        [5330]],\n",
       "\n",
       "       [[ 658],\n",
       "        [ 659],\n",
       "        [ 660],\n",
       "        [ 661],\n",
       "        [ 662],\n",
       "        [ 663],\n",
       "        [7165],\n",
       "        [7166],\n",
       "        [7167],\n",
       "        [7168],\n",
       "        [7169],\n",
       "        [7170],\n",
       "        [7171],\n",
       "        [4684],\n",
       "        [4685],\n",
       "        [4686],\n",
       "        [4687],\n",
       "        [4688],\n",
       "        [4689],\n",
       "        [4690],\n",
       "        [ 645],\n",
       "        [ 646],\n",
       "        [ 647],\n",
       "        [ 648],\n",
       "        [ 649],\n",
       "        [ 651],\n",
       "        [ 650],\n",
       "        [7172],\n",
       "        [7173],\n",
       "        [7174],\n",
       "        [7175],\n",
       "        [7176]],\n",
       "\n",
       "       [[6418],\n",
       "        [6419],\n",
       "        [6420],\n",
       "        [2550],\n",
       "        [2551],\n",
       "        [2552],\n",
       "        [2553],\n",
       "        [2555],\n",
       "        [2554],\n",
       "        [2556],\n",
       "        [2557],\n",
       "        [6412],\n",
       "        [6411],\n",
       "        [6413],\n",
       "        [6414],\n",
       "        [6415],\n",
       "        [6421],\n",
       "        [6422],\n",
       "        [6423],\n",
       "        [6424],\n",
       "        [6425],\n",
       "        [6426],\n",
       "        [6427],\n",
       "        [6428],\n",
       "        [6429],\n",
       "        [6430],\n",
       "        [2566],\n",
       "        [2567],\n",
       "        [2568],\n",
       "        [2570],\n",
       "        [2569],\n",
       "        [2571]],\n",
       "\n",
       "       [[8591],\n",
       "        [8592],\n",
       "        [8593],\n",
       "        [8594],\n",
       "        [9154],\n",
       "        [9155],\n",
       "        [9156],\n",
       "        [9157],\n",
       "        [9159],\n",
       "        [9158],\n",
       "        [8647],\n",
       "        [8648],\n",
       "        [8649],\n",
       "        [8650],\n",
       "        [8651],\n",
       "        [8601],\n",
       "        [8602],\n",
       "        [8603],\n",
       "        [8604],\n",
       "        [8605],\n",
       "        [8606],\n",
       "        [8607],\n",
       "        [8608],\n",
       "        [8609],\n",
       "        [8610],\n",
       "        [9164],\n",
       "        [9165],\n",
       "        [9166],\n",
       "        [9167],\n",
       "        [9168],\n",
       "        [9169],\n",
       "        [9160]],\n",
       "\n",
       "       [[8967],\n",
       "        [8968],\n",
       "        [8969],\n",
       "        [5194],\n",
       "        [5195],\n",
       "        [5196],\n",
       "        [5197],\n",
       "        [5199],\n",
       "        [5198],\n",
       "        [5200],\n",
       "        [5201],\n",
       "        [7401],\n",
       "        [7402],\n",
       "        [7403],\n",
       "        [7404],\n",
       "        [7405],\n",
       "        [7406],\n",
       "        [7407],\n",
       "        [8012],\n",
       "        [8013],\n",
       "        [8014],\n",
       "        [8015],\n",
       "        [8016],\n",
       "        [4342],\n",
       "        [4343],\n",
       "        [4344],\n",
       "        [4345],\n",
       "        [4346],\n",
       "        [5257],\n",
       "        [5258],\n",
       "        [5259],\n",
       "        [5260]],\n",
       "\n",
       "       [[8350],\n",
       "        [8351],\n",
       "        [8352],\n",
       "        [8353],\n",
       "        [8354],\n",
       "        [8355],\n",
       "        [8356],\n",
       "        [3060],\n",
       "        [3061],\n",
       "        [3062],\n",
       "        [3063],\n",
       "        [3064],\n",
       "        [3065],\n",
       "        [ 931],\n",
       "        [ 932],\n",
       "        [ 933],\n",
       "        [ 934],\n",
       "        [ 935],\n",
       "        [ 936],\n",
       "        [ 938],\n",
       "        [ 937],\n",
       "        [8105],\n",
       "        [8106],\n",
       "        [8107],\n",
       "        [8108],\n",
       "        [8109],\n",
       "        [8110],\n",
       "        [8111],\n",
       "        [ 944],\n",
       "        [ 945],\n",
       "        [ 946],\n",
       "        [ 947]]])"
      ]
     },
     "execution_count": 49,
     "metadata": {},
     "output_type": "execute_result"
    }
   ],
   "source": [
    "cate_x[:,:,:1].detach().cpu().numpy()"
   ]
  },
  {
   "cell_type": "code",
   "execution_count": 50,
   "metadata": {},
   "outputs": [
    {
     "name": "stdout",
     "output_type": "stream",
     "text": [
      "[array([[ 0.09341259, -0.36014912,  0.1606276 ,  0.6093997 ,  0.5243095 ,\n",
      "         0.2520748 , -0.3245924 , -0.2943143 ,  0.10726937, -0.46149   ,\n",
      "         0.35546046, -0.66332734,  0.6134585 , -0.3390525 ,  0.12364267,\n",
      "        -0.5621069 ,  0.1652501 ,  0.45031068,  0.30246317,  0.30647552,\n",
      "        -0.08103045,  0.7088982 , -0.30262157, -0.58451605,  0.56809646,\n",
      "         0.02209161,  0.3423871 , -0.11579446, -0.79176635,  0.49121153,\n",
      "        -0.5000289 , -0.13935606,  0.5744165 , -0.44450647,  0.58080596,\n",
      "         0.09860305,  0.5385321 ,  0.1054225 , -0.4336073 , -0.62677515,\n",
      "         0.15474933,  0.7095008 ,  0.8633867 , -0.4239331 , -0.6878044 ,\n",
      "         0.23705101, -0.46290264,  0.02810036,  0.21017908, -0.5766692 ,\n",
      "         0.4335377 , -0.22417136, -0.05285231,  0.32278836,  0.7102672 ,\n",
      "        -0.37572646, -0.68272316, -0.6885039 ,  0.1934388 ,  0.11597086,\n",
      "         0.27693433, -0.12168665,  0.43959787, -0.11678283]],\n",
      "      dtype=float32), array([[ 0.12662108, -0.22439241, -0.7110484 ,  0.6844428 , -0.6367593 ,\n",
      "        -0.6662776 ,  0.67001975,  0.42787367,  0.62921077, -0.7562811 ,\n",
      "        -0.13454385,  0.7629995 ,  0.08648239,  0.14063017, -0.7422549 ,\n",
      "        -0.7333924 , -0.6255728 ,  0.5115693 , -0.76409835, -0.71397716,\n",
      "         0.6433468 ,  0.6229929 ,  0.6018359 ,  0.45044652, -0.5473849 ,\n",
      "        -0.3061166 ,  0.37521127, -0.47832584, -0.31807628, -0.63999975,\n",
      "         0.72231984,  0.5016006 ,  0.8258532 ,  0.6647363 , -0.25673425,\n",
      "        -0.7329296 ,  0.8595639 ,  0.20301464, -0.46138984, -0.42068285,\n",
      "         0.77755654, -0.64836746,  0.27888057, -0.6315317 ,  0.63008755,\n",
      "        -0.6570537 ,  0.6006584 , -0.7670258 , -0.4825248 ,  0.20048536,\n",
      "        -0.46018326, -0.75234467,  0.5662452 ,  0.5031816 , -0.04993915,\n",
      "        -0.57753223,  0.31902447,  0.37130088, -0.5772005 ,  0.5182409 ,\n",
      "         0.38608903,  0.71634614, -0.9165978 , -0.71371436]],\n",
      "      dtype=float32), array([[-0.31318405, -0.1962127 , -0.6349001 ,  0.41070738, -0.5427881 ,\n",
      "        -0.22843748,  0.61267257,  0.590331  ,  0.31661126, -0.46633002,\n",
      "        -0.5261184 , -0.10069322,  0.63398695,  0.6944401 , -0.43753934,\n",
      "        -0.5387075 , -0.6751619 ,  0.8252302 , -0.88217694,  0.67545897,\n",
      "         0.47913173,  0.8482325 ,  0.5252255 ,  0.7600686 , -0.38736743,\n",
      "         0.4417092 ,  0.7530159 , -0.83408403, -0.43615666, -0.6521335 ,\n",
      "         0.5909795 , -0.15518883,  0.37235963,  0.7407077 ,  0.24216175,\n",
      "        -0.38345188,  0.1265123 ,  0.5272837 , -0.20511423,  0.6026162 ,\n",
      "         0.4380138 ,  0.38469276, -0.06330888, -0.3290478 ,  0.87896234,\n",
      "        -0.8310182 ,  0.66128796, -0.00580546, -0.6788796 ,  0.6367042 ,\n",
      "        -0.27819282, -0.64206994,  0.5273776 ,  0.56994265, -0.53984684,\n",
      "        -0.6744223 ,  0.29350272,  0.3258349 , -0.59591556,  0.5224164 ,\n",
      "         0.47339675,  0.73648167, -0.8342726 , -0.6689625 ]],\n",
      "      dtype=float32), array([[-0.1188722 , -0.52581584, -0.64734334,  0.7408547 , -0.41252193,\n",
      "        -0.19483706,  0.56448686,  0.29094768,  0.49146745, -0.69016093,\n",
      "        -0.24388555, -0.02500406,  0.56768906, -0.3921084 , -0.5145434 ,\n",
      "        -0.76121205, -0.37688082,  0.49840742, -0.84339505, -0.7676957 ,\n",
      "         0.71551985,  0.3805209 ,  0.5028325 ,  0.38183513, -0.6106221 ,\n",
      "        -0.68724984, -0.32081446, -0.62951106, -0.4838992 , -0.56641394,\n",
      "         0.0125099 ,  0.6979153 ,  0.805248  ,  0.5675787 ,  0.69207335,\n",
      "        -0.6786727 ,  0.6653255 , -0.01274945, -0.45792904,  0.47451022,\n",
      "         0.11876792, -0.48863682,  0.5633038 , -0.58587486,  0.73511773,\n",
      "        -0.4728021 ,  0.33719382, -0.0865906 , -0.65422326,  0.24305402,\n",
      "        -0.44570428, -0.6335349 ,  0.6021188 ,  0.53680867, -0.22398658,\n",
      "        -0.5965513 ,  0.45359236,  0.17340623, -0.7279051 ,  0.5908539 ,\n",
      "         0.00659052,  0.7704512 , -0.6476785 , -0.63896275]],\n",
      "      dtype=float32), array([[-0.1471026 , -0.03519257, -0.4944554 ,  0.80521053, -0.3689147 ,\n",
      "        -0.2463927 ,  0.4071915 ,  0.14936772, -0.19721404, -0.15996562,\n",
      "         0.03485762, -0.6307259 , -0.53991026,  0.08995919, -0.3087308 ,\n",
      "        -0.5020784 ,  0.3470784 ,  0.21085794, -0.67386156, -0.3506703 ,\n",
      "         0.72488254,  0.35813853,  0.09415238,  0.27142072, -0.30180737,\n",
      "         0.5210674 ,  0.26467648, -0.8721333 , -0.3079676 , -0.40031898,\n",
      "         0.00434338, -0.45349714,  0.7096771 ,  0.21157202,  0.30476668,\n",
      "         0.01495953,  0.29474917,  0.10580257, -0.51575196,  0.2958363 ,\n",
      "         0.64440596, -0.75203145, -0.51368093, -0.37972164,  0.5163411 ,\n",
      "        -0.14929612, -0.10493451, -0.3687415 , -0.616026  ,  0.3024108 ,\n",
      "        -0.292533  , -0.6696034 , -0.13001339, -0.11085305, -0.370034  ,\n",
      "        -0.57883763,  0.2172259 ,  0.30527273, -0.2551479 ,  0.19441774,\n",
      "        -0.51090693, -0.03716295,  0.12272929, -0.30660117]],\n",
      "      dtype=float32), array([[ 0.10541116,  0.56560004, -0.76531565,  0.07999448,  0.7243549 ,\n",
      "         0.65243936,  0.35548586, -0.27380434, -0.3671056 , -0.7435748 ,\n",
      "         0.25870872,  0.04204424, -0.3389521 , -0.06622478, -0.06480214,\n",
      "        -0.8996655 ,  0.8369021 ,  0.6216456 , -0.01327238,  0.03338634,\n",
      "         0.5820783 ,  0.39963093, -0.43278882,  0.46003887,  0.51580465,\n",
      "        -0.58742803,  0.4044295 , -0.79474276, -0.7794708 ,  0.75547755,\n",
      "        -0.86539173, -0.91989565,  0.12711471,  0.91880184,  0.25971016,\n",
      "         0.4037344 , -0.48179218, -0.03171884, -0.36199445,  0.12546453,\n",
      "        -0.29243803,  0.52001625,  0.8198574 , -0.76357627,  0.6535331 ,\n",
      "        -0.42514274, -0.20525974,  0.8153895 , -0.2356511 ,  0.87534565,\n",
      "        -0.0398393 , -0.19432533, -0.02450417,  0.04939668,  0.67597616,\n",
      "        -0.3029118 ,  0.7449195 , -0.64242375,  0.17850126,  0.24058485,\n",
      "        -0.7330177 ,  0.7189664 , -0.5648495 ,  0.03117798]],\n",
      "      dtype=float32), array([[-0.8639831 ,  0.05287719, -0.63730407,  0.28149167, -0.0284135 ,\n",
      "         0.17626008,  0.15208375, -0.4017847 ,  0.6743934 ,  0.19446644,\n",
      "         0.7383844 , -0.5828204 , -0.78741324, -0.6789706 , -0.01570422,\n",
      "        -0.7623427 , -0.6765845 , -0.24069479, -0.6342598 , -0.00469132,\n",
      "         0.47352242,  0.40088594, -0.10646189,  0.5279781 , -0.22146967,\n",
      "        -0.03919411, -0.5127284 , -0.7177595 , -0.13390481, -0.01332612,\n",
      "        -0.22308378, -0.15568246,  0.8652032 ,  0.05305292, -0.37942925,\n",
      "         0.49352977, -0.05351263,  0.7637943 ,  0.34957114,  0.02587182,\n",
      "        -0.05410892, -0.29659846, -0.44117346, -0.40697208, -0.43012017,\n",
      "         0.08773795, -0.05080554,  0.2754814 ,  0.14988585, -0.8178302 ,\n",
      "        -0.06471444, -0.8119851 ,  0.59706825, -0.7673184 ,  0.41541207,\n",
      "        -0.4635069 ,  0.55573815, -0.30424282,  0.26556677,  0.21994542,\n",
      "        -0.8290884 ,  0.54557616, -0.21345744,  0.21811934]],\n",
      "      dtype=float32), array([[ 0.5024659 , -0.16522676, -0.40316588, -0.8189968 , -0.32895017,\n",
      "        -0.31139833,  0.41162947, -0.04161629,  0.13442278, -0.6851573 ,\n",
      "        -0.30614555,  0.61529994,  0.20175067, -0.33172733, -0.00189896,\n",
      "        -0.54220235,  0.5775702 ,  0.46085894, -0.5873787 , -0.61282164,\n",
      "         0.43510082,  0.05552705,  0.3622924 , -0.15435593, -0.5550998 ,\n",
      "        -0.108527  , -0.8013154 , -0.26912612,  0.19306535,  0.5193498 ,\n",
      "         0.55738574, -0.16028574,  0.538554  ,  0.28472206, -0.2770544 ,\n",
      "         0.22469012,  0.55224144, -0.4498934 , -0.39583793, -0.8575255 ,\n",
      "         0.3122214 ,  0.368655  ,  0.23455013, -0.6054627 , -0.5423297 ,\n",
      "         0.22574335,  0.7697899 , -0.7310521 , -0.4117546 , -0.55036354,\n",
      "        -0.24940856, -0.5409471 ,  0.07789019,  0.23306385, -0.23394296,\n",
      "        -0.09782128,  0.33874068, -0.02092766,  0.1818989 ,  0.45901346,\n",
      "        -0.50887746, -0.227764  , -0.11819965, -0.5091953 ]],\n",
      "      dtype=float32), array([[ 0.30451372,  0.36305222, -0.5190571 , -0.07429539,  0.5009641 ,\n",
      "        -0.08942952, -0.04144839,  0.01011094, -0.8421334 , -0.0513454 ,\n",
      "         0.32480928, -0.25993073,  0.3053104 , -0.01939883, -0.04385306,\n",
      "        -0.5029885 ,  0.06991665, -0.3207126 ,  0.21456021, -0.30982718,\n",
      "         0.21753559, -0.01458364,  0.8497921 , -0.06503227,  0.04067841,\n",
      "        -0.3071101 ,  0.55201834, -0.37376598, -0.7675003 ,  0.36032394,\n",
      "        -0.15607361,  0.651308  ,  0.36667922, -0.26948658, -0.21645463,\n",
      "        -0.28602886,  0.09021715, -0.11965689, -0.5284098 , -0.0980696 ,\n",
      "        -0.09692384, -0.48024628, -0.05519688, -0.47790328, -0.15850419,\n",
      "        -0.08976709,  0.09551612,  0.00469133, -0.20250964,  0.05527689,\n",
      "        -0.11805755, -0.23805663,  0.5107201 ,  0.7656484 , -0.1781372 ,\n",
      "        -0.24661952, -0.29033747, -0.47987917,  0.3164455 , -0.11673006,\n",
      "        -0.5428707 , -0.26547566,  0.08873598, -0.259143  ]],\n",
      "      dtype=float32), array([[ 0.41177943, -0.20843673, -0.22091939, -0.30723822,  0.20128383,\n",
      "        -0.6675766 ,  0.17535655,  0.11443199, -0.8907304 , -0.05620385,\n",
      "        -0.07419065, -0.58487356, -0.28679684, -0.5673117 ,  0.42234084,\n",
      "        -0.77073634,  0.5550352 ,  0.24652341,  0.67983323, -0.5876816 ,\n",
      "         0.10158386,  0.42215747, -0.10511261,  0.8138578 ,  0.35889098,\n",
      "         0.36286423,  0.14724381, -0.5289902 , -0.04016117,  0.14826171,\n",
      "        -0.2211111 ,  0.3598856 ,  0.45059806,  0.23520021, -0.64451844,\n",
      "         0.10254991,  0.34461167, -0.20581028, -0.20096733,  0.19617817,\n",
      "        -0.42040977,  0.47480595,  0.13409588, -0.02568071,  0.2010909 ,\n",
      "        -0.07090855, -0.44109374, -0.32880387, -0.5275224 , -0.27067366,\n",
      "        -0.5318032 , -0.26635116,  0.94250405,  0.42271626, -0.10608609,\n",
      "        -0.30985662, -0.09387796, -0.65682596, -0.03690518, -0.03096537,\n",
      "        -0.35336798, -0.4441785 ,  0.22458819, -0.11725796]],\n",
      "      dtype=float32), array([[ 0.10902227, -0.16382678, -0.07848522, -0.3820305 ,  0.11950307,\n",
      "        -0.2751683 ,  0.23931797, -0.0313332 ,  0.11424451,  0.22416504,\n",
      "        -0.25894305,  0.55441105,  0.11654711, -0.0803561 ,  0.08633527,\n",
      "         0.07898406,  0.453083  , -0.15345639,  0.116448  ,  0.10646753,\n",
      "        -0.06545736,  0.32415387, -0.44099623,  0.36451617, -0.08585694,\n",
      "         0.22852375, -0.74193114,  0.0577151 ,  0.1103257 , -0.17966063,\n",
      "         0.09099492,  0.07563264,  0.6651618 ,  0.529937  , -0.1245361 ,\n",
      "        -0.42206877, -0.05811082,  0.21575658,  0.09552437,  0.76354337,\n",
      "        -0.40726733,  0.20883295, -0.05787052,  0.19329135,  0.5237772 ,\n",
      "         0.15593469,  0.5061796 , -0.44165376,  0.63997096,  0.42319223,\n",
      "         0.2105405 ,  0.4225252 , -0.1589356 ,  0.06955525,  0.09851862,\n",
      "        -0.08408044,  0.05515399,  0.19207917,  0.13115388,  0.07252711,\n",
      "        -0.12158054,  0.09738577,  0.5390925 , -0.05910779]],\n",
      "      dtype=float32), array([[ 0.00499857, -0.21287669, -0.61453307, -0.5785792 ,  0.12413749,\n",
      "        -0.5360308 ,  0.41703868,  0.4537132 ,  0.4177114 , -0.14243361,\n",
      "        -0.6460218 ,  0.69340366,  0.11746554, -0.53408384,  0.27825823,\n",
      "        -0.15026224,  0.82838154, -0.2653559 ,  0.46800414, -0.04456948,\n",
      "        -0.7675915 ,  0.21950318,  0.19048129,  0.576105  , -0.4208211 ,\n",
      "         0.18807672, -0.7596588 , -0.6837137 , -0.42601928, -0.5603668 ,\n",
      "         0.49472332,  0.02930088, -0.3715085 ,  0.619785  , -0.37585083,\n",
      "        -0.7726985 ,  0.14820465,  0.6132054 ,  0.5288186 ,  0.84355414,\n",
      "        -0.594527  , -0.53495425,  0.38674417, -0.5286157 ,  0.6053134 ,\n",
      "         0.27936715,  0.5566108 , -0.35198414,  0.68095744,  0.59511185,\n",
      "        -0.16342348, -0.29758197,  0.42104185,  0.40028897, -0.20557769,\n",
      "        -0.56905955, -0.3530381 ,  0.49029133,  0.5374801 ,  0.49706542,\n",
      "        -0.50334334,  0.45027792,  0.64128697, -0.3833176 ]],\n",
      "      dtype=float32), array([[ 0.01325932, -0.23481166,  0.7200683 , -0.34597367, -0.06843234,\n",
      "         0.34440586, -0.34309494, -0.21909077, -0.25411925,  0.6295848 ,\n",
      "         0.31125078,  0.09816292,  0.5615955 , -0.09293509, -0.25059864,\n",
      "         0.209103  ,  0.1295799 ,  0.4210057 , -0.25744617, -0.2987425 ,\n",
      "         0.27883127,  0.2215934 ,  0.5669592 , -0.38023403, -0.54447997,\n",
      "        -0.16032483, -0.4444324 ,  0.12821384, -0.05117291,  0.4250037 ,\n",
      "        -0.0762946 , -0.3850378 ,  0.02897696, -0.31139624, -0.36225647,\n",
      "        -0.16580617,  0.38029456, -0.3594063 , -0.1580709 ,  0.34087583,\n",
      "         0.0282105 , -0.03755447, -0.05048045,  0.27109912, -0.86424756,\n",
      "         0.3070315 ,  0.01359511,  0.7290485 ,  0.5540742 , -0.06973641,\n",
      "        -0.05094475, -0.2337101 ,  0.19616264, -0.3374582 ,  0.12546834,\n",
      "         0.15694602, -0.5607422 ,  0.15165071,  0.43930542,  0.03247517,\n",
      "         0.35250652, -0.55824804, -0.09508273,  0.12124922]],\n",
      "      dtype=float32), array([[ 5.4005843e-01, -1.9711508e-01,  3.3670130e-01, -3.8050708e-01,\n",
      "         1.8852177e-01, -3.6500701e-01,  5.4249316e-02,  6.2870187e-01,\n",
      "         1.3087025e-01, -1.4264290e-01, -5.1049060e-01,  7.0934659e-01,\n",
      "        -3.7328842e-01, -6.2251091e-01,  6.4925008e-02, -2.6621923e-01,\n",
      "         5.5877787e-01, -4.0821338e-01, -1.0470593e-01, -6.0086723e-02,\n",
      "        -5.7111841e-01,  1.2302730e-01, -9.1453671e-02,  4.3919206e-01,\n",
      "        -2.1946099e-01,  2.4437148e-02, -6.5767562e-01, -4.2140934e-01,\n",
      "        -7.4410951e-04, -5.5793238e-01,  5.4645705e-01, -4.5107052e-01,\n",
      "        -5.3704627e-02,  5.5495185e-01, -3.9795801e-01, -5.0074451e-02,\n",
      "         2.6928103e-01,  1.9944867e-01,  5.5463028e-01,  7.1927816e-01,\n",
      "        -7.0709789e-01, -1.5248910e-01,  2.1564719e-01, -5.8463556e-01,\n",
      "         5.7570004e-01,  2.3104692e-01,  8.9669168e-02, -4.1742775e-01,\n",
      "         7.4926215e-01,  4.5568013e-01, -4.5634735e-01,  3.3534127e-01,\n",
      "        -1.3868372e-01,  2.6715925e-01, -4.1451779e-01, -5.0451809e-01,\n",
      "        -6.2492478e-01,  4.3865165e-01,  7.0938241e-01,  5.5477458e-01,\n",
      "        -3.9894190e-01,  4.7804940e-01,  4.1437837e-01, -3.2796976e-01]],\n",
      "      dtype=float32), array([[ 0.24046572, -0.18461473,  0.132306  , -0.40771985,  0.12359556,\n",
      "        -0.20750324,  0.30746776,  0.24062943,  0.18984249, -0.41628873,\n",
      "        -0.32222435,  0.42344514,  0.1472109 , -0.44175857,  0.40110716,\n",
      "         0.32810825,  0.35232228, -0.07347815,  0.5631404 , -0.359048  ,\n",
      "        -0.4928046 ,  0.16428162, -0.05783119,  0.29830113, -0.44608876,\n",
      "         0.5103124 , -0.29544163, -0.48712718, -0.72182405, -0.49780977,\n",
      "         0.16339149, -0.05926812, -0.5908711 , -0.01745876, -0.25401723,\n",
      "         0.18883091,  0.03302832,  0.51554406,  0.5475725 , -0.14013673,\n",
      "        -0.25020033,  0.75371164,  0.37130907, -0.02052371,  0.27754256,\n",
      "         0.5023393 ,  0.05863177,  0.02174642,  0.46014118,  0.4643269 ,\n",
      "        -0.34436464, -0.13604331, -0.20813613,  0.08883679, -0.23153938,\n",
      "        -0.43613043, -0.8824523 ,  0.14936827,  0.44939947, -0.06270643,\n",
      "        -0.6570205 ,  0.42536795,  0.7251129 , -0.23157263]],\n",
      "      dtype=float32), array([[ 0.49685553, -0.720439  , -0.07077377, -0.45516714,  0.188963  ,\n",
      "         0.4178218 , -0.15824594, -0.35025096, -0.13658142, -0.1069322 ,\n",
      "         0.5785502 ,  0.7576672 ,  0.6087822 , -0.7317055 ,  0.3552904 ,\n",
      "        -0.8738883 ,  0.2271964 , -0.91632575, -0.18180427,  0.10691965,\n",
      "        -0.512222  , -0.76206625, -0.18798944, -0.35073438, -0.6523652 ,\n",
      "         0.89869326, -0.10350839, -0.8274811 ,  0.35298678,  0.6031132 ,\n",
      "        -0.3097006 , -0.46028078,  0.18016759, -0.25753793, -0.11092532,\n",
      "         0.512704  ,  0.5804056 , -0.42592493, -0.19098528,  0.14666858,\n",
      "        -0.65244704,  0.7065982 ,  0.6041355 , -0.4930047 , -0.15508287,\n",
      "         0.670664  ,  0.38123724,  0.42129794,  0.17735837, -0.3891806 ,\n",
      "         0.5747565 ,  0.7724232 , -0.6868388 , -0.63619065,  0.16189192,\n",
      "         0.19957592, -0.77871734, -0.06177285,  0.38032076,  0.14242962,\n",
      "        -0.73293996, -0.01632637,  0.49925095,  0.6042945 ]],\n",
      "      dtype=float32), array([[ 0.49991465, -0.08542862,  0.6260417 ,  0.53902197, -0.54084945,\n",
      "        -0.08173145,  0.07749636,  0.3136524 ,  0.47296146, -0.6769059 ,\n",
      "        -0.31878966, -0.0142828 ,  0.54558766, -0.3362427 , -0.48636878,\n",
      "        -0.03480913,  0.2643622 ,  0.2935674 ,  0.20001452,  0.14801392,\n",
      "        -0.46258095, -0.00609224,  0.666825  , -0.1138404 ,  0.7473354 ,\n",
      "         0.14343683, -0.3958413 , -0.01455969, -0.11563589, -0.35229537,\n",
      "         0.02907755, -0.24979547,  0.12445744,  0.50608903, -0.0402869 ,\n",
      "        -0.5452943 ,  0.38162726,  0.36821818,  0.33729845, -0.3811349 ,\n",
      "         0.3510167 ,  0.79996085, -0.08301221,  0.03336319,  0.3172924 ,\n",
      "         0.10459435, -0.19266047, -0.6759708 , -0.17277151,  0.47145388,\n",
      "         0.03768047, -0.17055796,  0.72932154,  0.2362799 ,  0.05326084,\n",
      "        -0.07084817,  0.519998  , -0.03123208, -0.11070987, -0.07433105,\n",
      "        -0.51117784,  0.28677374,  0.44146076,  0.28543103]],\n",
      "      dtype=float32), array([[-0.47648   ,  0.57598597, -0.03624269, -0.28787807, -0.10058291,\n",
      "        -0.01897902, -0.56192875,  0.71694565,  0.5155159 , -0.6483686 ,\n",
      "        -0.39446718, -0.47961497, -0.7332847 ,  0.5414389 , -0.44721237,\n",
      "         0.768965  ,  0.278967  ,  0.3394523 ,  0.16233286,  0.68969864,\n",
      "        -0.6977563 , -0.02454923,  0.72415364,  0.6607476 , -0.6755801 ,\n",
      "         0.47912207,  0.401488  ,  0.28418297, -0.14425409,  0.02448587,\n",
      "        -0.4514704 ,  0.01049186,  0.61247456, -0.6443359 ,  0.3253108 ,\n",
      "         0.15124813, -0.5441025 ,  0.16621453,  0.49804074, -0.45385617,\n",
      "        -0.49917284, -0.7986883 , -0.51434654,  0.00157725,  0.5080946 ,\n",
      "        -0.24034327, -0.66712964, -0.4168579 ,  0.06279361,  0.11852898,\n",
      "         0.38197765,  0.6656788 ,  0.6296006 , -0.6787487 ,  0.56558216,\n",
      "         0.2499627 , -0.3156028 ,  0.39606777,  0.05636169,  0.51953495,\n",
      "         0.64008814, -0.03027081, -0.4573613 ,  0.37711677]],\n",
      "      dtype=float32), array([[-0.49889562,  0.43091497, -0.16231929,  0.12138177,  0.30894408,\n",
      "        -0.44425136,  0.5132986 ,  0.6883736 ,  0.29360497,  0.0871488 ,\n",
      "         0.04626859,  0.02842647,  0.46404612, -0.642275  ,  0.5993366 ,\n",
      "        -0.29077062,  0.11513199,  0.12680197, -0.53058285, -0.06268666,\n",
      "         0.546243  , -0.5663142 ,  0.61418205, -0.08552365,  0.28747395,\n",
      "        -0.28870952, -0.35963193, -0.18490706, -0.34585288, -0.6016117 ,\n",
      "         0.03073496, -0.70690876, -0.2972297 ,  0.5776223 , -0.61387914,\n",
      "        -0.24370667,  0.6076269 , -0.4669496 , -0.40438777, -0.01365246,\n",
      "         0.14940499, -0.00560364,  0.21526106, -0.28406078,  0.11581606,\n",
      "         0.5826457 , -0.23129115,  0.38724104, -0.04993981, -0.02968334,\n",
      "        -0.12882638, -0.28660247,  0.51012814,  0.19420269, -0.06244524,\n",
      "         0.6946202 ,  0.38547269, -0.7604395 , -0.50620174, -0.24197866,\n",
      "        -0.46653917,  0.6460504 ,  0.22405036, -0.59496695]],\n",
      "      dtype=float32), array([[-0.7418417 , -0.10800067,  0.5386934 ,  0.5533655 , -0.02382912,\n",
      "         0.5467136 ,  0.6986253 , -0.52571654,  0.31075373, -0.61619735,\n",
      "        -0.59433514, -0.624199  ,  0.21580754,  0.7818621 ,  0.75105304,\n",
      "         0.6563863 , -0.5925766 , -0.6869901 ,  0.58538175, -0.5064652 ,\n",
      "         0.6714518 , -0.4517784 ,  0.46633852,  0.51994693, -0.71113336,\n",
      "        -0.15949665, -0.67720675,  0.74342257,  0.62015146, -0.400808  ,\n",
      "         0.559812  ,  0.7915258 , -0.11119641, -0.07258264,  0.6727092 ,\n",
      "         0.6070217 ,  0.58756703, -0.52491534, -0.38692868, -0.7636535 ,\n",
      "         0.0485081 , -0.4829318 , -0.6665347 , -0.17348893,  0.7413804 ,\n",
      "         0.55173093, -0.7471533 ,  0.3252249 , -0.5827752 , -0.5327011 ,\n",
      "        -0.73278797,  0.20675337,  0.69099325, -0.5615985 , -0.6761453 ,\n",
      "        -0.5735577 , -0.5041929 ,  0.4795971 ,  0.5339317 , -0.77649134,\n",
      "        -0.19265088,  0.27905515, -0.7262616 ,  0.70211124]],\n",
      "      dtype=float32), array([[-0.33412772, -0.62355846,  0.38829142, -0.49944186, -0.24964838,\n",
      "        -0.5027446 ,  0.4662009 ,  0.55033207,  0.03095115, -0.5967581 ,\n",
      "         0.7058492 ,  0.28313142,  0.59655917, -0.01544259, -0.08919632,\n",
      "        -0.08344263, -0.27349037,  0.09956396, -0.6965802 , -0.57668376,\n",
      "         0.2900642 , -0.00374514,  0.22103247, -0.44840893, -0.54716253,\n",
      "        -0.6367436 ,  0.04678987,  0.67664635, -0.47391897, -0.06287473,\n",
      "        -0.00723938, -0.04373148,  0.41946816,  0.33040285, -0.31416687,\n",
      "        -0.54005045, -0.7773793 ,  0.3975518 , -0.57406294, -0.33354682,\n",
      "         0.7370913 ,  0.7042208 , -0.00938784, -0.60486186, -0.46214464,\n",
      "        -0.5992775 ,  0.67718965, -0.3605236 ,  0.38399732, -0.1705197 ,\n",
      "        -0.5943693 , -0.7228926 ,  0.03477652,  0.22843792, -0.41609827,\n",
      "        -0.39596498,  0.7158844 ,  0.319148  ,  0.7060193 ,  0.15097809,\n",
      "        -0.21977773,  0.20501459, -0.39855984, -0.31787592]],\n",
      "      dtype=float32), array([[-6.56757474e-01, -5.58450162e-01, -5.35919309e-01,\n",
      "        -7.44401872e-01, -3.09538484e-01, -3.70691508e-01,\n",
      "         5.98857343e-01, -5.76306641e-01, -3.62769157e-01,\n",
      "         7.03716338e-01, -4.70860213e-01, -5.80670178e-01,\n",
      "        -2.53194004e-01, -2.49068320e-01, -5.05514801e-01,\n",
      "        -2.26162106e-01,  7.52938569e-01, -6.83400035e-01,\n",
      "         3.86742830e-01,  7.54414558e-01, -7.08899617e-01,\n",
      "        -2.43227929e-01,  5.98684967e-01,  1.95418119e-01,\n",
      "        -8.10592696e-02, -5.87820768e-01,  4.10794348e-01,\n",
      "        -1.59834415e-01, -3.93132478e-01, -7.45600820e-01,\n",
      "         8.69820565e-02, -7.76010156e-01,  3.99806172e-01,\n",
      "        -5.21885693e-01, -1.09340884e-01,  1.42232150e-01,\n",
      "        -1.86870798e-01,  5.00288606e-01, -6.27851039e-02,\n",
      "        -6.37375057e-01, -5.98922014e-01,  7.54061103e-01,\n",
      "         1.66660145e-01,  5.59640527e-01, -5.78793347e-01,\n",
      "         7.08725631e-01,  4.55124885e-01,  6.80105209e-01,\n",
      "         3.57926309e-01,  3.56934667e-01, -1.94271028e-01,\n",
      "         4.42836046e-01, -3.74330699e-01,  5.56682944e-01,\n",
      "        -6.39751136e-01, -5.96157670e-01, -1.81133404e-01,\n",
      "         3.86382133e-01,  6.17547035e-01, -6.23602211e-01,\n",
      "        -3.48803967e-01, -3.57950270e-01,  6.07854512e-04,\n",
      "        -7.60365069e-01]], dtype=float32), array([[-0.7365855 ,  0.66030204, -0.5177116 ,  0.7639103 , -0.76512396,\n",
      "        -0.32746637,  0.6828413 ,  0.6256826 ,  0.03682078,  0.7672788 ,\n",
      "         0.6978549 , -0.6663551 ,  0.6300308 , -0.82053995, -0.521744  ,\n",
      "        -0.71347004, -0.2859286 ,  0.5774605 , -0.4547641 , -0.38633826,\n",
      "         0.0775916 ,  0.15362382, -0.43423414, -0.5447602 , -0.14602745,\n",
      "        -0.66655684,  0.68155265, -0.39166474, -0.6912783 , -0.05259821,\n",
      "        -0.12500606, -0.38002196,  0.6940353 ,  0.7487195 , -0.7134316 ,\n",
      "        -0.5536014 ,  0.4183805 , -0.41450614, -0.64675874, -0.70540017,\n",
      "        -0.08780436,  0.4409496 , -0.24381009,  0.63350445, -0.35052347,\n",
      "         0.71055543, -0.48488554,  0.2580504 ,  0.6815355 ,  0.63714784,\n",
      "        -0.70256865,  0.6345945 , -0.44615898,  0.707326  , -0.18842171,\n",
      "         0.5188386 ,  0.8149006 ,  0.01611639,  0.50975025,  0.5063396 ,\n",
      "         0.6021749 ,  0.17401157, -0.5778874 ,  0.7268636 ]],\n",
      "      dtype=float32), array([[ 0.30227533, -0.45139337, -0.2189281 ,  0.48499653,  0.15514469,\n",
      "        -0.37646672, -0.16736089,  0.33928627,  0.14787877, -0.22478169,\n",
      "         0.09982101, -0.50612086, -0.07096185,  0.36566225,  0.29712158,\n",
      "        -0.5091869 , -0.15820827,  0.45065835, -0.4714384 ,  0.1907505 ,\n",
      "         0.31087837, -0.39735308, -0.04138511,  0.08445319,  0.3003574 ,\n",
      "        -0.30959415, -0.07427755,  0.6958832 ,  0.54158485, -0.19336724,\n",
      "         0.2919186 ,  0.44747242, -0.2148989 ,  0.37878135,  0.14534141,\n",
      "        -0.20468652, -0.63471186, -0.2844399 ,  0.46629304, -0.3261796 ,\n",
      "        -0.45261857,  0.49060017,  0.24464941,  0.0918664 ,  0.47716853,\n",
      "        -0.55003417,  0.3493837 , -0.32381746, -0.70113665,  0.69716656,\n",
      "        -0.07401958,  0.60407144,  0.39009583, -0.13354033,  0.19241127,\n",
      "        -0.32359147,  0.6240431 , -0.48243782, -0.46457326,  0.0789511 ,\n",
      "         0.71861255,  0.19008145, -0.3184687 ,  0.19987589]],\n",
      "      dtype=float32), array([[ 0.6023537 , -0.15120286,  0.6550824 , -0.37813774, -0.5791628 ,\n",
      "        -0.57343316, -0.08763101,  0.7846193 , -0.37370744, -0.08977054,\n",
      "        -0.65086097, -0.4987666 ,  0.17500372, -0.13446485, -0.47432673,\n",
      "        -0.33130968,  0.1389297 ,  0.4186685 ,  0.08844017,  0.0932657 ,\n",
      "        -0.5790677 ,  0.17228648,  0.5142583 ,  0.34344438, -0.63666785,\n",
      "         0.35599563,  0.5894447 ,  0.47872522,  0.19917303, -0.34172848,\n",
      "         0.32058585, -0.6214177 , -0.46489367, -0.6880792 , -0.3074067 ,\n",
      "        -0.10635403, -0.473383  ,  0.04368784,  0.22310722, -0.5333771 ,\n",
      "         0.85479367, -0.6365658 , -0.7822142 , -0.2882275 , -0.76455444,\n",
      "         0.6374585 ,  0.48995402, -0.3534134 , -0.04390248,  0.47303575,\n",
      "         0.6889839 ,  0.7635156 ,  0.49718544, -0.33404088,  0.36327755,\n",
      "        -0.1435623 ,  0.34219235,  0.11679733, -0.40659183,  0.3394232 ,\n",
      "         0.12473694,  0.6875585 , -0.63212997,  0.53783464]],\n",
      "      dtype=float32), array([[ 0.50539744, -0.68105143, -0.36535567, -0.5205479 , -0.44269106,\n",
      "        -0.5217836 ,  0.6592264 ,  0.21219046,  0.4077565 , -0.31108978,\n",
      "        -0.4722772 ,  0.3344848 , -0.13632606,  0.34739438,  0.63266414,\n",
      "        -0.6369192 , -0.6938858 , -0.23403503,  0.29158244, -0.51051456,\n",
      "        -0.53490466, -0.3856527 ,  0.71012145,  0.31469283, -0.29550722,\n",
      "        -0.33294585,  0.33341753, -0.36445794, -0.22118375, -0.18144155,\n",
      "         0.21077535,  0.70963824, -0.73704255,  0.01097342, -0.33264372,\n",
      "        -0.21171302,  0.46390235,  0.59175646,  0.27766377, -0.28157666,\n",
      "        -0.62133944,  0.06672401,  0.31033915, -0.25454226,  0.12219723,\n",
      "         0.4316228 ,  0.20843571,  0.3298172 , -0.1105326 ,  0.38798788,\n",
      "        -0.6412769 ,  0.5113665 ,  0.44263667, -0.02027885, -0.4320096 ,\n",
      "        -0.62150866, -0.14573985,  0.47082227,  0.30529183, -0.57988274,\n",
      "        -0.3165922 ,  0.2841135 ,  0.3116494 , -0.37295157]],\n",
      "      dtype=float32), array([[ 0.34835997,  0.67849034,  0.39713037, -0.00360921,  0.22657636,\n",
      "         0.38703105, -0.30738455,  0.07379752, -0.07373936, -0.23383638,\n",
      "         0.6864592 , -0.21536967, -0.30352336, -0.52051985, -0.3190481 ,\n",
      "         0.04350764,  0.10126135, -0.6998227 , -0.11608677,  0.33689454,\n",
      "         0.28007537, -0.14941175, -0.37887093, -0.22350635,  0.7749772 ,\n",
      "         0.46005735,  0.49692267,  0.31635574, -0.22164889,  0.2148106 ,\n",
      "         0.26539847, -0.39819616,  0.10564112, -0.6510895 , -0.7935804 ,\n",
      "         0.6806248 ,  0.3923667 ,  0.27829173, -0.54170847,  0.37391737,\n",
      "         0.23209634,  0.6233435 , -0.20285635, -0.84999967, -0.19603641,\n",
      "         0.3302721 ,  0.2572595 , -0.17181706, -0.53631127,  0.1978511 ,\n",
      "         0.43516326, -0.04757206, -0.58155125,  0.26193014, -0.3027137 ,\n",
      "         0.796239  , -0.4513603 , -0.35206038,  0.55007935,  0.52787006,\n",
      "        -0.6491907 ,  0.7605941 ,  0.07519857,  0.28494245]],\n",
      "      dtype=float32), array([[-0.34659487, -0.08788093, -0.43698004, -0.13541475, -0.18016069,\n",
      "        -0.42957446, -0.16282813, -0.1956847 ,  0.09455261, -0.20622435,\n",
      "        -0.02566714,  0.2605972 , -0.01409963,  0.00275062, -0.00412348,\n",
      "         0.38301376,  0.021656  ,  0.22158018,  0.1019    ,  0.04148733,\n",
      "        -0.4175409 , -0.33930096,  0.48930225,  0.2418232 , -0.27545598,\n",
      "        -0.19690362,  0.14888087, -0.72669405, -0.06493465, -0.18140759,\n",
      "        -0.09718351, -0.03597684, -0.13939193,  0.05251389,  0.2095775 ,\n",
      "        -0.37664536, -0.11615255,  0.3047434 , -0.08794957,  0.21444154,\n",
      "         0.28538617, -0.1641863 , -0.14231087, -0.15998593, -0.35845688,\n",
      "         0.3212802 ,  0.22610007,  0.333478  ,  0.01372676,  0.33670542,\n",
      "         0.04264497, -0.4181979 ,  0.03352943, -0.36525285, -0.16079295,\n",
      "         0.09115144,  0.21453655,  0.12491228,  0.10526119,  0.0109466 ,\n",
      "        -0.14962706,  0.07584181,  0.1086662 , -0.1888794 ]],\n",
      "      dtype=float32), array([[-0.28678793, -0.02419893, -0.44472793, -0.63423866, -0.5951482 ,\n",
      "        -0.56693393,  0.47468144,  0.2525643 ,  0.58673495, -0.43687755,\n",
      "        -0.6205578 ,  0.11743058, -0.5228631 ,  0.33211163,  0.505983  ,\n",
      "        -0.31749132, -0.5084966 , -0.3314133 ,  0.20293152, -0.26601303,\n",
      "        -0.5304097 , -0.70376796,  0.64893275,  0.48583242, -0.5826253 ,\n",
      "        -0.6159674 ,  0.4630251 , -0.34186265, -0.50305086, -0.42537957,\n",
      "         0.41103673,  0.8018836 , -0.44424805,  0.36554876, -0.64333874,\n",
      "        -0.49096188,  0.6511378 ,  0.7212297 ,  0.12271053,  0.32553914,\n",
      "        -0.66091186,  0.36834437,  0.41552293, -0.5119219 ,  0.40136576,\n",
      "         0.5744149 ,  0.03786646,  0.1261221 , -0.50407964,  0.6194256 ,\n",
      "        -0.14187406,  0.6037278 ,  0.33283567,  0.44703954, -0.5626734 ,\n",
      "        -0.05910452, -0.52670616,  0.45545563,  0.5947401 , -0.42028242,\n",
      "        -0.5250297 ,  0.6806095 ,  0.57684964, -0.52247214]],\n",
      "      dtype=float32), array([[ 0.41886577,  0.34433103, -0.1397642 , -0.36873382, -0.05200118,\n",
      "        -0.03102389,  0.16814424, -0.6050027 ,  0.14993908, -0.09190255,\n",
      "        -0.32867622,  0.16458848,  0.09237469,  0.4195266 , -0.11107319,\n",
      "         0.14593923,  0.08329172, -0.15472989, -0.15987414,  0.16987763,\n",
      "        -0.49059936, -0.2525717 , -0.00220967,  0.1463001 , -0.06682307,\n",
      "        -0.37015206,  0.25085217, -0.10630424,  0.06143462,  0.67572796,\n",
      "         0.15838115,  0.49210778,  0.16937868, -0.18806158, -0.45906729,\n",
      "         0.29151994,  0.03674774,  0.33319303, -0.4284755 , -0.11390743,\n",
      "        -0.6640653 , -0.02271171,  0.29512343, -0.05551053, -0.393554  ,\n",
      "         0.04363478,  0.12230849,  0.05930647, -0.09021261,  0.28734672,\n",
      "         0.49806163,  0.24677846,  0.02342794,  0.11819173, -0.22484903,\n",
      "         0.32750127, -0.67152923,  0.18353999,  0.39204127, -0.13377175,\n",
      "        -0.29946792,  0.2154238 ,  0.33392712, -0.3248616 ]],\n",
      "      dtype=float32), array([[ 0.7903315 , -0.06380106, -0.20223753, -0.4921305 , -0.37555537,\n",
      "        -0.22419101,  0.19180632, -0.8186464 ,  0.2991674 , -0.5762114 ,\n",
      "        -0.34155965, -0.7625694 , -0.46707568,  0.16853355,  0.35775155,\n",
      "        -0.7291569 , -0.0455297 , -0.4755061 ,  0.5138667 , -0.33121789,\n",
      "        -0.3548885 , -0.46581218,  0.31520987,  0.23352213, -0.2687354 ,\n",
      "        -0.31431413,  0.40014303, -0.69696003, -0.13297954, -0.49964115,\n",
      "         0.31520334,  0.5342073 , -0.13906255,  0.12105014, -0.5063204 ,\n",
      "        -0.5865548 ,  0.8711824 ,  0.46027708,  0.25640428,  0.43432486,\n",
      "         0.30700067,  0.15394968,  0.39096692, -0.30036607,  0.30232623,\n",
      "         0.62047124,  0.31979954,  0.26031622, -0.23008606,  0.3892817 ,\n",
      "         0.21968448,  0.6768654 ,  0.25260028,  0.35361618, -0.48168698,\n",
      "         0.26884836, -0.78967226,  0.37142843,  0.563457  , -0.37877128,\n",
      "        -0.48493427,  0.13222742,  0.26167852, -0.4301505 ]],\n",
      "      dtype=float32), array([[-0.5450366 , -0.65425575, -0.5977823 ,  0.4698626 , -0.6123494 ,\n",
      "        -0.5045286 ,  0.6723568 ,  0.05264109,  0.44578126, -0.60463303,\n",
      "        -0.4233911 , -0.43136615, -0.75125206,  0.63174987,  0.5338253 ,\n",
      "         0.06186496, -0.10207524,  0.5438434 ,  0.7107451 , -0.5564626 ,\n",
      "        -0.5006053 ,  0.4651254 ,  0.62376225,  0.6212204 , -0.19757143,\n",
      "        -0.59550965, -0.27087536,  0.5423119 , -0.5692338 , -0.18372764,\n",
      "         0.61263204,  0.4528094 ,  0.64584553,  0.6964056 , -0.40428007,\n",
      "        -0.5495593 ,  0.35453394,  0.60678494,  0.33422077, -0.50616664,\n",
      "         0.475126  ,  0.27540803,  0.5255365 ,  0.43688434,  0.43353215,\n",
      "         0.27588338, -0.489943  ,  0.829174  , -0.48126197,  0.6483422 ,\n",
      "         0.11819528, -0.72186804,  0.50620466,  0.54376405, -0.41645467,\n",
      "        -0.41620684, -0.39976504,  0.53105164,  0.309938  , -0.33726394,\n",
      "        -0.42160735,  0.37319714,  0.46114367, -0.608387  ]],\n",
      "      dtype=float32)]\n"
     ]
    }
   ],
   "source": [
    "assess = cate_x[:,:,:1].detach().cpu().numpy()\n",
    "embed = embed.detach().cpu().numpy()\n",
    "len_user = train_df['userID'].nunique()\n",
    "\n",
    "assess_embed = []\n",
    "for user in assess:\n",
    "    user_li = []\n",
    "    for item in user:\n",
    "        user_li.append(embed[len_user + item])\n",
    "    assess_embed.append(user_li)\n",
    "\n",
    "print(assess_embed[0])"
   ]
  },
  {
   "cell_type": "code",
   "execution_count": 51,
   "metadata": {},
   "outputs": [
    {
     "name": "stdout",
     "output_type": "stream",
     "text": [
      "torch.Size([16, 32, 1, 100])\n"
     ]
    }
   ],
   "source": [
    "assess_embed = torch.Tensor(np.array(assess_embed))\n",
    "lgcn_linear = nn.Linear(64, 100)\n",
    "assess_embed = lgcn_linear(assess_embed)\n",
    "print(assess_embed.size())"
   ]
  },
  {
   "cell_type": "code",
   "execution_count": 52,
   "metadata": {},
   "outputs": [
    {
     "name": "stdout",
     "output_type": "stream",
     "text": [
      "torch.Size([16, 32, 6, 100])\n"
     ]
    }
   ],
   "source": [
    "batch_size = cate_x.size(0)\n",
    "\n",
    "# 범주형 하나당 100개로 임베딩된다!\n",
    "# [16, 32, 6] -> [16, 32, 6, 100]\n",
    "cate_emb = nn.Embedding(CFG_T.total_cate_size, CFG_T.emb_size, padding_idx=0)\n",
    "cate_embed_x = cate_emb(cate_x)\n",
    "print(cate_embed_x.size())"
   ]
  },
  {
   "cell_type": "code",
   "execution_count": 53,
   "metadata": {},
   "outputs": [],
   "source": [
    "cate_embed_x = torch.cat([assess_embed, cate_embed_x[:,:,1:]], dim=2)"
   ]
  },
  {
   "cell_type": "code",
   "execution_count": 54,
   "metadata": {},
   "outputs": [
    {
     "data": {
      "text/plain": [
       "torch.Size([16, 32, 6, 100])"
      ]
     },
     "execution_count": 54,
     "metadata": {},
     "output_type": "execute_result"
    }
   ],
   "source": [
    "# lightGCN 임베딩(assessmentItemID) 결과와 나머지 컬럼의 임베딩들을 cat해준 것의 shape\n",
    "cate_embed_x.shape"
   ]
  },
  {
   "cell_type": "code",
   "execution_count": 55,
   "metadata": {},
   "outputs": [],
   "source": [
    "# sequence 길이를 몇 배 줄일 것인지\n",
    "# 메모리 절약의 의도가 있다\n",
    "CFG_T.n_rows_per_step = 2"
   ]
  },
  {
   "cell_type": "code",
   "execution_count": 56,
   "metadata": {},
   "outputs": [
    {
     "data": {
      "text/plain": [
       "torch.Size([16, 32, 600])"
      ]
     },
     "execution_count": 56,
     "metadata": {},
     "output_type": "execute_result"
    }
   ],
   "source": [
    "cate_embed_normal_x = cate_embed_x.view(batch_size, CFG_T.seq_len, -1)\n",
    "cate_embed_normal_x.size()"
   ]
  },
  {
   "cell_type": "code",
   "execution_count": 57,
   "metadata": {},
   "outputs": [
    {
     "data": {
      "text/plain": [
       "torch.Size([16, 16, 1200])"
      ]
     },
     "execution_count": 57,
     "metadata": {},
     "output_type": "execute_result"
    }
   ],
   "source": [
    "half_seq_len = cate_x.size(1) // CFG_T.n_rows_per_step\n",
    "\n",
    "# transformer input은 3차원이고 마지막 차원은 hidden 값이다.\n",
    "# sequence의 각 위치에 카테고리별로 임베딩되어있는 것을 하나로 합치자!\n",
    "# [16, 32, 6, 100] -> [16, 16, 1200]\n",
    "cate_embed_x = cate_embed_x.view(batch_size, half_seq_len, -1)\n",
    "cate_embed_x.size()"
   ]
  },
  {
   "cell_type": "code",
   "execution_count": 58,
   "metadata": {},
   "outputs": [
    {
     "data": {
      "text/plain": [
       "torch.Size([16, 16, 128])"
      ]
     },
     "execution_count": 58,
     "metadata": {},
     "output_type": "execute_result"
    }
   ],
   "source": [
    "# 이후에 우리가 원하는 hidden_size의 절반으로 projection한다!\n",
    "# 이렇게 하는 이유는 반은 category로 반은 continous으로 hidden 값을 채우기 위해서이다\n",
    "# [16, 16, 1200] -> [16, 16, 128]\n",
    "cate_proj = nn.Sequential(nn.Linear(CFG_T.emb_size * CFG_T.cate_col_size * CFG_T.n_rows_per_step, CFG_T.hidden_size),\n",
    "                          nn.LayerNorm(CFG_T.hidden_size))     \n",
    "cate_embed_x = cate_proj(cate_embed_x)\n",
    "cate_embed_x.size()"
   ]
  },
  {
   "cell_type": "markdown",
   "metadata": {},
   "source": [
    "#### 🟡 Continuous Embedding\n",
    "> 수치형 feature를 임베딩하는 과정을 살펴보자!"
   ]
  },
  {
   "cell_type": "code",
   "execution_count": 59,
   "metadata": {},
   "outputs": [
    {
     "data": {
      "text/plain": [
       "torch.Size([16, 32, 1])"
      ]
     },
     "execution_count": 59,
     "metadata": {},
     "output_type": "execute_result"
    }
   ],
   "source": [
    "cont_x.size()"
   ]
  },
  {
   "cell_type": "code",
   "execution_count": 60,
   "metadata": {},
   "outputs": [
    {
     "data": {
      "text/plain": [
       "torch.Size([512, 1])"
      ]
     },
     "execution_count": 60,
     "metadata": {},
     "output_type": "execute_result"
    }
   ],
   "source": [
    "cont_bn = nn.BatchNorm1d(CFG_T.cont_col_size)\n",
    "\n",
    "# batchnorm 1d 적용\n",
    "cont_bn_x = cont_bn(cont_x.view(-1, cont_x.size(-1)))\n",
    "cont_bn_x.size()"
   ]
  },
  {
   "cell_type": "code",
   "execution_count": 61,
   "metadata": {},
   "outputs": [
    {
     "data": {
      "text/plain": [
       "torch.Size([16, 32, 1])"
      ]
     },
     "execution_count": 61,
     "metadata": {},
     "output_type": "execute_result"
    }
   ],
   "source": [
    "# batchnorm 적용 이후 원래 사이즈 복구\n",
    "cont_bn_x = cont_bn_x.view(batch_size, -1, cont_x.size(-1))\n",
    "cont_bn_x.size()"
   ]
  },
  {
   "cell_type": "code",
   "execution_count": 62,
   "metadata": {},
   "outputs": [
    {
     "data": {
      "text/plain": [
       "torch.Size([16, 16, 2])"
      ]
     },
     "execution_count": 62,
     "metadata": {},
     "output_type": "execute_result"
    }
   ],
   "source": [
    "# cate에서 사용한 half_seq_len 그대로 사용\n",
    "cont_bn_x = cont_bn_x.view(batch_size, half_seq_len, -1)\n",
    "cont_bn_x.size()"
   ]
  },
  {
   "cell_type": "code",
   "execution_count": 63,
   "metadata": {},
   "outputs": [
    {
     "data": {
      "text/plain": [
       "torch.Size([16, 16, 128])"
      ]
     },
     "execution_count": 63,
     "metadata": {},
     "output_type": "execute_result"
    }
   ],
   "source": [
    "# 범주형과는 다르게 embedding없이 바로 projection을 통해 원하는 사이즈로 줄인다\n",
    "# 여기서는 embedding이라고 부른다\n",
    "cont_emb = nn.Sequential(nn.Linear(CFG_T.cont_col_size * CFG_T.n_rows_per_step, CFG_T.hidden_size),\n",
    "                         nn.LayerNorm(CFG_T.hidden_size))\n",
    "cont_embed_x = cont_emb(cont_bn_x)\n",
    "cont_embed_x.size()"
   ]
  },
  {
   "cell_type": "markdown",
   "metadata": {},
   "source": [
    "#### 🟡 범주형 / 수치형 embedding tensor concat\n",
    "> Transformer에 입력값으로 주려면 범주형 / 수치형으로 embedding된 2개의 tensor를 하나로 합쳐야 한다. 이를 통해 우리는 많은 feature들이 포함된 데이터를 성공적으로 하나의 입력값으로 만들 수 있다!"
   ]
  },
  {
   "cell_type": "code",
   "execution_count": 64,
   "metadata": {},
   "outputs": [
    {
     "data": {
      "text/plain": [
       "(torch.Size([16, 16, 128]), torch.Size([16, 16, 128]))"
      ]
     },
     "execution_count": 64,
     "metadata": {},
     "output_type": "execute_result"
    }
   ],
   "source": [
    "cate_embed_x.size(), cont_embed_x.size()"
   ]
  },
  {
   "cell_type": "code",
   "execution_count": 65,
   "metadata": {},
   "outputs": [
    {
     "data": {
      "text/plain": [
       "torch.Size([16, 16, 256])"
      ]
     },
     "execution_count": 65,
     "metadata": {},
     "output_type": "execute_result"
    }
   ],
   "source": [
    "seq_emb = torch.cat([cate_embed_x, cont_embed_x], 2)\n",
    "seq_emb.size()"
   ]
  },
  {
   "cell_type": "code",
   "execution_count": 66,
   "metadata": {},
   "outputs": [
    {
     "data": {
      "text/plain": [
       "torch.Size([16, 16, 128])"
      ]
     },
     "execution_count": 66,
     "metadata": {},
     "output_type": "execute_result"
    }
   ],
   "source": [
    "comb_proj = nn.Sequential(nn.ReLU(),\n",
    "                          nn.Linear(CFG_T.hidden_size*2, CFG_T.hidden_size),\n",
    "                          nn.LayerNorm(CFG_T.hidden_size))\n",
    "\n",
    "# concat한 sequence를 projection을 통해 원하는 사이즈로 변환한다\n",
    "# 여기서는 embedding이라고 부른다\n",
    "# [16, 16, 256] -> [16, 16, 128]\n",
    "seq_emb = comb_proj(seq_emb)\n",
    "seq_emb.size()"
   ]
  },
  {
   "cell_type": "markdown",
   "metadata": {},
   "source": [
    "#### 🟡 Encoder\n",
    "> 이제 완성된 입력값을 모델에 넣어보자!"
   ]
  },
  {
   "cell_type": "code",
   "execution_count": 67,
   "metadata": {},
   "outputs": [],
   "source": [
    "# !pip install -q transformers"
   ]
  },
  {
   "cell_type": "code",
   "execution_count": 68,
   "metadata": {},
   "outputs": [],
   "source": [
    "try:\n",
    "    from transformers.modeling_bert import BertConfig, BertEncoder, BertModel    \n",
    "except:\n",
    "    from transformers.models.bert.modeling_bert import BertConfig, BertEncoder, BertModel   \n",
    "\n",
    "config = BertConfig(3, # not used\n",
    "                    hidden_size=CFG_T.hidden_size,\n",
    "                    num_hidden_layers=CFG_T.nlayers,\n",
    "                    num_attention_heads=CFG_T.nheads,\n",
    "                    intermediate_size=CFG_T.hidden_size,\n",
    "                    hidden_dropout_prob=CFG_T.dropout,\n",
    "                    attention_probs_dropout_prob=CFG_T.dropout)\n",
    "\n",
    "encoder = BertEncoder(config)   "
   ]
  },
  {
   "cell_type": "code",
   "execution_count": 69,
   "metadata": {},
   "outputs": [
    {
     "data": {
      "text/plain": [
       "torch.Size([16, 16, 128])"
      ]
     },
     "execution_count": 69,
     "metadata": {},
     "output_type": "execute_result"
    }
   ],
   "source": [
    "# Bert Encoder를 거친 tensor의 크기는 동일하게 나온다\n",
    "# [16, 16, 128] -> [16, 16, 128]\n",
    "encoded_layers = encoder(seq_emb)\n",
    "sequence_output = encoded_layers[-1]\n",
    "sequence_output.size()"
   ]
  },
  {
   "cell_type": "code",
   "execution_count": 70,
   "metadata": {},
   "outputs": [
    {
     "data": {
      "text/plain": [
       "torch.Size([16, 128])"
      ]
     },
     "execution_count": 70,
     "metadata": {},
     "output_type": "execute_result"
    }
   ],
   "source": [
    "# 우리가 필요한건 Bert의 마지막 query다\n",
    "# [16, 16, 128] -> [16, 128]\n",
    "sequence_output = sequence_output[:, -1]\n",
    "sequence_output.size()"
   ]
  },
  {
   "cell_type": "markdown",
   "metadata": {},
   "source": [
    "#### 🟡 분류 단계\n",
    "> 이제 우리는 최종 분류를 해야한다! 이걸 위해서 우리는 출력의 크기를 클래스 숫자인 1로 변환한다!"
   ]
  },
  {
   "cell_type": "code",
   "execution_count": 71,
   "metadata": {},
   "outputs": [],
   "source": [
    "def get_reg():\n",
    "    return nn.Sequential(nn.Linear(CFG_T.hidden_size, CFG_T.hidden_size),\n",
    "                         nn.LayerNorm(CFG_T.hidden_size),\n",
    "                         nn.Dropout(CFG_T.dropout),\n",
    "                         nn.ReLU(),\n",
    "                         nn.Linear(CFG_T.hidden_size, CFG_T.target_size))\n",
    "\n",
    "reg_layer = get_reg()"
   ]
  },
  {
   "cell_type": "code",
   "execution_count": 72,
   "metadata": {},
   "outputs": [
    {
     "data": {
      "text/plain": [
       "torch.Size([16, 1])"
      ]
     },
     "execution_count": 72,
     "metadata": {},
     "output_type": "execute_result"
    }
   ],
   "source": [
    "# 😍 우리는 원하는 결과값을 얻었다 😍\n",
    "# [16, 128] -> [16, 1]\n",
    "pred_y = reg_layer(sequence_output)\n",
    "pred_y.size()"
   ]
  },
  {
   "cell_type": "code",
   "execution_count": 73,
   "metadata": {},
   "outputs": [
    {
     "data": {
      "text/plain": [
       "tensor([[ 0.5384],\n",
       "        [-0.7583],\n",
       "        [-0.1893],\n",
       "        [-0.1411],\n",
       "        [-0.1193],\n",
       "        [ 0.4602],\n",
       "        [ 0.2241],\n",
       "        [ 0.3075],\n",
       "        [ 0.8118],\n",
       "        [-0.2446],\n",
       "        [ 0.0624],\n",
       "        [ 0.2804],\n",
       "        [-0.5161],\n",
       "        [ 0.3357],\n",
       "        [-0.1469],\n",
       "        [ 0.8788]], grad_fn=<AddmmBackward0>)"
      ]
     },
     "execution_count": 73,
     "metadata": {},
     "output_type": "execute_result"
    }
   ],
   "source": [
    "pred_y"
   ]
  }
 ],
 "metadata": {
  "kernelspec": {
   "display_name": "Python 3.10.8 ('lgcnrnn')",
   "language": "python",
   "name": "python3"
  },
  "language_info": {
   "codemirror_mode": {
    "name": "ipython",
    "version": 3
   },
   "file_extension": ".py",
   "mimetype": "text/x-python",
   "name": "python",
   "nbconvert_exporter": "python",
   "pygments_lexer": "ipython3",
   "version": "3.10.8"
  },
  "orig_nbformat": 4,
  "vscode": {
   "interpreter": {
    "hash": "1f9ecee0ae7293f2e8fbdd490ca55da94f19608f53940d49fa33c74b4126e337"
   }
  }
 },
 "nbformat": 4,
 "nbformat_minor": 2
}
