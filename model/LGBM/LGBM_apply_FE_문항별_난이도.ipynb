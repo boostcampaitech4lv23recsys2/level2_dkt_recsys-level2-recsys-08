{
 "cells": [
  {
   "cell_type": "markdown",
   "id": "1a73ded2",
   "metadata": {},
   "source": [
    "## dataload"
   ]
  },
  {
   "cell_type": "code",
   "execution_count": 40,
   "id": "464cf792",
   "metadata": {
    "ExecuteTime": {
     "end_time": "2022-12-04T16:10:35.988031Z",
     "start_time": "2022-12-04T16:10:24.448972Z"
    }
   },
   "outputs": [
    {
     "data": {
      "text/plain": [
       "((1845539, 47), (1974, 47), (260114, 47))"
      ]
     },
     "execution_count": 40,
     "metadata": {},
     "output_type": "execute_result"
    },
    {
     "data": {
      "text/plain": [
       "((1845539, 46), (1845539, 1), (1974, 46), (1974, 1))"
      ]
     },
     "execution_count": 40,
     "metadata": {},
     "output_type": "execute_result"
    }
   ],
   "source": [
    "import mlflow\n",
    "import mlflow.lightgbm\n",
    "from datetime import datetime\n",
    "from IPython.core.interactiveshell import InteractiveShell\n",
    "InteractiveShell.ast_node_interactivity = 'all'\n",
    "import pandas as pd\n",
    "import os\n",
    "import random\n",
    "import warnings\n",
    "warnings.filterwarnings('ignore')\n",
    "import lightgbm as lgb\n",
    "from sklearn.metrics import roc_auc_score\n",
    "from sklearn.metrics import accuracy_score\n",
    "import numpy as np\n",
    "from utils import custom_train_test_split, lgbm_predict, post_slack, title2filename\n",
    "os.environ[\"LOGNAME\"]='cwj'\n",
    "SEED=13\n",
    "\n",
    "## 1. 데이터 로딩\n",
    "data_dir = '/opt/ml/input/data' # 경로\n",
    "after_fe_path = os.path.join(data_dir, 'lgbm_ass_difficulty.pkl')\n",
    "df = pd.read_pickle(after_fe_path)\n",
    "\n",
    "train_df = df[df.kind=='train']\n",
    "train, valid = custom_train_test_split(train_df, ratio=0.7, seed=SEED) # 훈련데이터 split\n",
    "test = df[df.kind=='test'] # 테스트 데이터\n",
    "train2 = test[test.answerCode!=-1] # 테스트데이터 마지막 제출 2번쨰꺼까지 훈련데이터로 사용\n",
    "train = pd.concat([train,train2]) # 훈련데이터 병합\n",
    "train.shape, valid.shape, test.shape\n",
    "\n",
    "x_train = train.drop('answerCode',axis=1)\n",
    "y_train = train[['answerCode']]\n",
    "\n",
    "x_valid = valid.drop('answerCode',axis=1)\n",
    "y_valid = valid[['answerCode']]\n",
    "x_train.shape, y_train.shape, x_valid.shape, y_valid.shape"
   ]
  },
  {
   "cell_type": "markdown",
   "id": "5cc103e3",
   "metadata": {},
   "source": [
    "## Hyper Parameter 설정"
   ]
  },
  {
   "cell_type": "code",
   "execution_count": 41,
   "id": "a5bb8a1a",
   "metadata": {
    "ExecuteTime": {
     "end_time": "2022-12-04T16:10:35.993384Z",
     "start_time": "2022-12-04T16:10:35.990103Z"
    }
   },
   "outputs": [],
   "source": [
    "# Hyper parameter 설정\n",
    "params = {\n",
    "#     \"max_depth\": 8,  # 8,\n",
    "#     \"min_data_in_leaf\": 1000,\n",
    "    # \"feature_fraction\": 0.6,  # 0.8,\n",
    "#     \"bagging_fraction\": 0.75,\n",
    "    # \"max_cat_group\": 64,\n",
    "    \"objective\": \"binary\",\n",
    "#     \"boosting\": \"gbdt\",  # dart\n",
    "    \"learning_rate\": 0.023,  # 0.01,\n",
    "    # \"bagging_freq\": 5,\n",
    "    \"seed\": 42,\n",
    "    # \"max_bin\": 50,\n",
    "#     \"num_leaves\": 80,  # 40,\n",
    "#     \"metric\": \"auc\",\n",
    "}"
   ]
  },
  {
   "cell_type": "code",
   "execution_count": 24,
   "id": "c824f78d",
   "metadata": {
    "ExecuteTime": {
     "end_time": "2022-12-04T15:16:19.047232Z",
     "start_time": "2022-12-04T15:16:19.043314Z"
    }
   },
   "outputs": [
    {
     "data": {
      "text/plain": [
       "Index(['userID', 'assessmentItemID', 'testId', 'answerCode', 'Timestamp',\n",
       "       'KnowledgeTag', 'kind', 'uidIdx', 'assIdx', 'testIdx',\n",
       "       'user_correct_answer', 'user_total_answer', 'user_acc', 'month', 'day',\n",
       "       'hour', 'dayname', 'big_category', 'problem_num', 'mid_category',\n",
       "       'test_mean', 'test_std', 'test_sum', 'tag_mean', 'tag_std', 'tag_sum',\n",
       "       'Timestamp2', 'solvetime', 'solvesec', 'solvesec_3600', 'time_category',\n",
       "       'solvesec_cumsum', 'solvecumsum_category', 'big_category_cumconut',\n",
       "       'big_category_answer', 'big_category_user_cum_acc',\n",
       "       'mid_category_cumconut', 'mid_category_answer',\n",
       "       'mid_category_user_cum_acc', 'ass_acc_mean', 'ass_acc_std',\n",
       "       'pb_num_acc_mean', 'pb_num_acc_std'],\n",
       "      dtype='object')"
      ]
     },
     "execution_count": 24,
     "metadata": {},
     "output_type": "execute_result"
    }
   ],
   "source": [
    "df.columns"
   ]
  },
  {
   "cell_type": "markdown",
   "id": "f1db3fb0",
   "metadata": {},
   "source": [
    "## ass_acc_mean 추가 - 성능 향상"
   ]
  },
  {
   "cell_type": "code",
   "execution_count": 17,
   "id": "dfc424be",
   "metadata": {
    "ExecuteTime": {
     "end_time": "2022-12-04T14:46:25.630107Z",
     "start_time": "2022-12-04T14:44:56.316322Z"
    }
   },
   "outputs": [
    {
     "data": {
      "text/plain": [
       "([0, 1, 2, 3, 6, 7, 8, 9, 11, 21, 23],\n",
       " '🌈(12/04 Sun)[LGBM ass_acc_mean 추가] 피처: 29개',\n",
       " '사용된 피처(29)\\nuidIdx, assIdx, testIdx, KnowledgeTag, user_correct_answer, user_total_answer, big_category, mid_category, problem_num, month, day, dayname, hour, user_acc, test_mean, test_sum, test_std, tag_std, tag_mean, tag_sum, solvesec_3600, time_category, solvesec_cumsum, solvecumsum_category, big_category_cumconut, big_category_user_cum_acc, mid_category_cumconut, mid_category_user_cum_acc, ass_acc_mean')"
      ]
     },
     "execution_count": 17,
     "metadata": {},
     "output_type": "execute_result"
    },
    {
     "name": "stdout",
     "output_type": "stream",
     "text": [
      "[LightGBM] [Info] Number of positive: 1208276, number of negative: 637263\n",
      "[LightGBM] [Warning] Auto-choosing row-wise multi-threading, the overhead of testing was 0.031050 seconds.\n",
      "You can set `force_row_wise=true` to remove the overhead.\n",
      "And if memory is not enough, you can set `force_col_wise=true`.\n",
      "[LightGBM] [Info] Total Bins 19964\n",
      "[LightGBM] [Info] Number of data points in the train set: 1845539, number of used features: 29\n",
      "[LightGBM] [Info] [binary:BoostFromScore]: pavg=0.654701 -> initscore=0.639767\n",
      "[LightGBM] [Info] Start training from score 0.639767\n",
      "Training until validation scores don't improve for 100 rounds\n",
      "[100]\tvalid_0's binary_logloss: 0.538933\n",
      "[200]\tvalid_0's binary_logloss: 0.522742\n",
      "[300]\tvalid_0's binary_logloss: 0.518416\n",
      "[400]\tvalid_0's binary_logloss: 0.51688\n",
      "[500]\tvalid_0's binary_logloss: 0.515875\n",
      "[600]\tvalid_0's binary_logloss: 0.515268\n",
      "[700]\tvalid_0's binary_logloss: 0.514868\n",
      "[800]\tvalid_0's binary_logloss: 0.514311\n",
      "[900]\tvalid_0's binary_logloss: 0.513801\n",
      "[1000]\tvalid_0's binary_logloss: 0.513735\n",
      "Early stopping, best iteration is:\n",
      "[925]\tvalid_0's binary_logloss: 0.513649\n",
      "VALID AUC : 0.824784188350697 ACC : 0.7416413373860182\n",
      "\n",
      "model3_run_id='ad6c0253c9bd4f4d9557988b0a482e99'\n",
      "writing prediction : output/12_04_Sun_LGBM_ass_acc_mean_추가_피처_29개.csv\n"
     ]
    }
   ],
   "source": [
    "### 피처 설정\n",
    "# 사용할 Feature 설정\n",
    "FEATS = ['uidIdx',\n",
    "         'assIdx',\n",
    "         'testIdx',\n",
    "         'KnowledgeTag',\n",
    "         'user_correct_answer',\n",
    "         'user_total_answer',\n",
    "         'big_category',\n",
    "         'mid_category',\n",
    "         'problem_num',\n",
    "         'month','day','dayname','hour',\n",
    "         'user_acc',\n",
    "         'test_mean',\n",
    "         'test_sum',\n",
    "         'test_std',\n",
    "         'tag_std',\n",
    "         'tag_mean',\n",
    "         'tag_sum',\n",
    "         'solvesec_3600',\n",
    "         'time_category',\n",
    "         'solvesec_cumsum',\n",
    "         'solvecumsum_category',\n",
    "         'big_category_cumconut',\n",
    "         'big_category_user_cum_acc',\n",
    "         'mid_category_cumconut',\n",
    "         'mid_category_user_cum_acc',\n",
    "         'ass_acc_mean'\n",
    "        ]\n",
    "\n",
    "cat_feats = ['uidIdx','assIdx','testIdx','KnowledgeTag','big_category','mid_category',\n",
    "             'problem_num','dayname','month','time_category','solvecumsum_category']\n",
    "cat_feats_idx = [i for i,e in enumerate(FEATS) if e in cat_feats]\n",
    "\n",
    "### 학습 및 예측\n",
    "\n",
    "date = datetime.now().strftime('%m/%d %a')\n",
    "title=f\"🌈({date})[LGBM ass_acc_mean 추가] 피처: {len(FEATS)}개\"\n",
    "using_feats=\", \".join(FEATS)\n",
    "desc=f\"사용된 피처({len(FEATS)})\\n{using_feats}\"\n",
    "cat_feats_idx, title, desc\n",
    "\n",
    "mlflow.lightgbm.autolog()\n",
    "lgb_x_train = lgb.Dataset(x_train[FEATS], y_train)\n",
    "lgb_x_valid = lgb.Dataset(x_valid[FEATS], y_valid)\n",
    "\n",
    "with mlflow.start_run(run_name=title, description=desc) as run:\n",
    "    model3 = lgb.train(\n",
    "        params, \n",
    "        lgb_x_train,\n",
    "        valid_sets=[lgb_x_valid],\n",
    "        verbose_eval=100,\n",
    "        num_boost_round=3200,\n",
    "        categorical_feature=cat_feats_idx,\n",
    "        early_stopping_rounds=100,\n",
    "    )\n",
    "    preds = model3.predict(x_valid[FEATS])\n",
    "    acc = accuracy_score(y_valid, np.where(preds >= 0.5, 1, 0))\n",
    "    auc = roc_auc_score(y_valid, preds)\n",
    "    print(f'VALID AUC : {auc} ACC : {acc}\\n')\n",
    "    mlflow.log_metric(\"VAL AUC\",auc)\n",
    "    mlflow.log_metric(\"VAL Set SEED\",SEED)\n",
    "    model3_run_id=run.info.run_id\n",
    "    post_slack(\"done\")\n",
    "    print(f\"{model3_run_id=}\")\n",
    "    file_name = title2filename(title)\n",
    "    test_preds = lgbm_predict(test, model3, FEATS, f'{file_name}.csv')"
   ]
  },
  {
   "cell_type": "code",
   "execution_count": 19,
   "id": "642e3025",
   "metadata": {
    "ExecuteTime": {
     "end_time": "2022-12-04T14:46:47.342259Z",
     "start_time": "2022-12-04T14:46:47.179851Z"
    }
   },
   "outputs": [
    {
     "data": {
      "image/png": "[encoded data removed]",
      "text/plain": [
       "<Figure size 640x480 with 1 Axes>"
      ]
     },
     "metadata": {},
     "output_type": "display_data"
    }
   ],
   "source": [
    "q = pd.Series(test_preds).plot(kind='kde')"
   ]
  },
  {
   "cell_type": "code",
   "execution_count": 20,
   "id": "de68f5f8",
   "metadata": {
    "ExecuteTime": {
     "end_time": "2022-12-04T14:49:06.127722Z",
     "start_time": "2022-12-04T14:49:06.102549Z"
    }
   },
   "outputs": [
    {
     "data": {
      "text/plain": [
       "<ActiveRun: >"
      ]
     },
     "execution_count": 20,
     "metadata": {},
     "output_type": "execute_result"
    },
    {
     "name": "stdout",
     "output_type": "stream",
     "text": [
      "Active run_id: ad6c0253c9bd4f4d9557988b0a482e99\n"
     ]
    }
   ],
   "source": [
    "### 제출 mlflow 등록\n",
    "# 제출시\n",
    "LB_AUC=0.8190\n",
    "run_id = 'ad6c0253c9bd4f4d9557988b0a482e99'\n",
    "mlflow.start_run(run_id=run_id)\n",
    "run = mlflow.active_run()\n",
    "print(\"Active run_id: {}\".format(run.info.run_id))\n",
    "mlflow.log_metric(\"LB AUC\",LB_AUC)\n",
    "mlflow.end_run()"
   ]
  },
  {
   "cell_type": "markdown",
   "id": "0a2815b4",
   "metadata": {},
   "source": [
    "## ass_acc_std 추가 - 성능 감소"
   ]
  },
  {
   "cell_type": "code",
   "execution_count": 26,
   "id": "4e786e13",
   "metadata": {
    "ExecuteTime": {
     "end_time": "2022-12-04T15:18:50.004391Z",
     "start_time": "2022-12-04T15:17:15.323733Z"
    }
   },
   "outputs": [
    {
     "data": {
      "text/plain": [
       "([0, 1, 2, 3, 6, 7, 8, 9, 11, 21, 23],\n",
       " '🌈(12/05 Mon)[LGBM ass_acc_std 추가] 피처: 30개',\n",
       " '사용된 피처(30)\\nuidIdx, assIdx, testIdx, KnowledgeTag, user_correct_answer, user_total_answer, big_category, mid_category, problem_num, month, day, dayname, hour, user_acc, test_mean, test_sum, test_std, tag_std, tag_mean, tag_sum, solvesec_3600, time_category, solvesec_cumsum, solvecumsum_category, big_category_cumconut, big_category_user_cum_acc, mid_category_cumconut, mid_category_user_cum_acc, ass_acc_mean, ass_acc_std')"
      ]
     },
     "execution_count": 26,
     "metadata": {},
     "output_type": "execute_result"
    },
    {
     "name": "stdout",
     "output_type": "stream",
     "text": [
      "[LightGBM] [Info] Number of positive: 1208276, number of negative: 637263\n",
      "[LightGBM] [Warning] Auto-choosing row-wise multi-threading, the overhead of testing was 0.028522 seconds.\n",
      "You can set `force_row_wise=true` to remove the overhead.\n",
      "And if memory is not enough, you can set `force_col_wise=true`.\n",
      "[LightGBM] [Info] Total Bins 20219\n",
      "[LightGBM] [Info] Number of data points in the train set: 1845539, number of used features: 30\n",
      "[LightGBM] [Info] [binary:BoostFromScore]: pavg=0.654701 -> initscore=0.639767\n",
      "[LightGBM] [Info] Start training from score 0.639767\n",
      "Training until validation scores don't improve for 100 rounds\n",
      "[100]\tvalid_0's binary_logloss: 0.53881\n",
      "[200]\tvalid_0's binary_logloss: 0.522642\n",
      "[300]\tvalid_0's binary_logloss: 0.518261\n",
      "[400]\tvalid_0's binary_logloss: 0.516747\n",
      "[500]\tvalid_0's binary_logloss: 0.515763\n",
      "[600]\tvalid_0's binary_logloss: 0.515393\n",
      "[700]\tvalid_0's binary_logloss: 0.515011\n",
      "[800]\tvalid_0's binary_logloss: 0.51445\n",
      "[900]\tvalid_0's binary_logloss: 0.514247\n",
      "[1000]\tvalid_0's binary_logloss: 0.514112\n",
      "Early stopping, best iteration is:\n",
      "[976]\tvalid_0's binary_logloss: 0.513987\n",
      "VALID AUC : 0.8244611909346763 ACC : 0.7396149949341438\n",
      "\n",
      "model4_run_id='f64bbdc1dfa5449380e9a70f011d8a7d'\n",
      "writing prediction : output/12_05_Mon_LGBM_ass_acc_std_추가_피처_30개.csv\n"
     ]
    },
    {
     "data": {
      "image/png": "[encoded data removed]",
      "text/plain": [
       "<Figure size 640x480 with 1 Axes>"
      ]
     },
     "metadata": {},
     "output_type": "display_data"
    }
   ],
   "source": [
    "### 피처 설정\n",
    "# 사용할 Feature 설정\n",
    "FEATS = ['uidIdx',\n",
    "         'assIdx',\n",
    "         'testIdx',\n",
    "         'KnowledgeTag',\n",
    "         'user_correct_answer',\n",
    "         'user_total_answer',\n",
    "         'big_category',\n",
    "         'mid_category',\n",
    "         'problem_num',\n",
    "         'month','day','dayname','hour',\n",
    "         'user_acc',\n",
    "         'test_mean',\n",
    "         'test_sum',\n",
    "         'test_std',\n",
    "         'tag_std',\n",
    "         'tag_mean',\n",
    "         'tag_sum',\n",
    "         'solvesec_3600',\n",
    "         'time_category',\n",
    "         'solvesec_cumsum',\n",
    "         'solvecumsum_category',\n",
    "         'big_category_cumconut',\n",
    "         'big_category_user_cum_acc',\n",
    "         'mid_category_cumconut',\n",
    "         'mid_category_user_cum_acc',\n",
    "         'ass_acc_mean',\n",
    "         'ass_acc_std'\n",
    "        ]\n",
    "\n",
    "cat_feats = ['uidIdx','assIdx','testIdx','KnowledgeTag','big_category','mid_category',\n",
    "             'problem_num','dayname','month','time_category','solvecumsum_category']\n",
    "cat_feats_idx = [i for i,e in enumerate(FEATS) if e in cat_feats]\n",
    "\n",
    "### 학습 및 예측\n",
    "\n",
    "date = datetime.now().strftime('%m/%d %a')\n",
    "title=f\"🌈({date})[LGBM ass_acc_std 추가] 피처: {len(FEATS)}개\"\n",
    "using_feats=\", \".join(FEATS)\n",
    "desc=f\"사용된 피처({len(FEATS)})\\n{using_feats}\"\n",
    "cat_feats_idx, title, desc\n",
    "\n",
    "mlflow.lightgbm.autolog()\n",
    "lgb_x_train = lgb.Dataset(x_train[FEATS], y_train)\n",
    "lgb_x_valid = lgb.Dataset(x_valid[FEATS], y_valid)\n",
    "\n",
    "with mlflow.start_run(run_name=title, description=desc) as run:\n",
    "    model4 = lgb.train(\n",
    "        params, \n",
    "        lgb_x_train,\n",
    "        valid_sets=[lgb_x_valid],\n",
    "        verbose_eval=100,\n",
    "        num_boost_round=3200,\n",
    "        categorical_feature=cat_feats_idx,\n",
    "        early_stopping_rounds=100,\n",
    "    )\n",
    "    preds = model4.predict(x_valid[FEATS])\n",
    "    acc = accuracy_score(y_valid, np.where(preds >= 0.5, 1, 0))\n",
    "    auc = roc_auc_score(y_valid, preds)\n",
    "    print(f'VALID AUC : {auc} ACC : {acc}\\n')\n",
    "    mlflow.log_metric(\"VAL AUC\",auc)\n",
    "    mlflow.log_metric(\"VAL Set SEED\",SEED)\n",
    "    model4_run_id=run.info.run_id\n",
    "    post_slack(\"done\")\n",
    "    print(f\"{model4_run_id=}\")\n",
    "    file_name = title2filename(title)\n",
    "    test_preds = lgbm_predict(test, model4, FEATS, f'{file_name}.csv')\n",
    "\n",
    "q = pd.Series(test_preds).plot(kind='kde')"
   ]
  },
  {
   "cell_type": "code",
   "execution_count": null,
   "id": "8455e86e",
   "metadata": {},
   "outputs": [],
   "source": [
    "### 제출 mlflow 등록\n",
    "# 제출시\n",
    "LB_AUC=0.8190\n",
    "run_id = 'ad6c0253c9bd4f4d9557988b0a482e99'\n",
    "mlflow.start_run(run_id=run_id)\n",
    "run = mlflow.active_run()\n",
    "print(\"Active run_id: {}\".format(run.info.run_id))\n",
    "mlflow.log_metric(\"LB AUC\",LB_AUC)\n",
    "mlflow.end_run()"
   ]
  },
  {
   "cell_type": "markdown",
   "id": "4a7cd3de",
   "metadata": {},
   "source": [
    "## pb_num_acc_mean 추가 - 성능향상"
   ]
  },
  {
   "cell_type": "code",
   "execution_count": 29,
   "id": "4c6d8225",
   "metadata": {
    "ExecuteTime": {
     "end_time": "2022-12-04T15:29:11.974585Z",
     "start_time": "2022-12-04T15:27:34.546373Z"
    }
   },
   "outputs": [
    {
     "data": {
      "text/plain": [
       "([0, 1, 2, 3, 6, 7, 8, 9, 11, 21, 23],\n",
       " '🌈(12/05 Mon)[LGBM pb_num_acc_mean 추가] 피처: 30개',\n",
       " '사용된 피처(30)\\nuidIdx, assIdx, testIdx, KnowledgeTag, user_correct_answer, user_total_answer, big_category, mid_category, problem_num, month, day, dayname, hour, user_acc, test_mean, test_sum, test_std, tag_std, tag_mean, tag_sum, solvesec_3600, time_category, solvesec_cumsum, solvecumsum_category, big_category_cumconut, big_category_user_cum_acc, mid_category_cumconut, mid_category_user_cum_acc, ass_acc_mean, pb_num_acc_mean')"
      ]
     },
     "execution_count": 29,
     "metadata": {},
     "output_type": "execute_result"
    },
    {
     "name": "stdout",
     "output_type": "stream",
     "text": [
      "[LightGBM] [Info] Number of positive: 1208276, number of negative: 637263\n",
      "[LightGBM] [Warning] Auto-choosing row-wise multi-threading, the overhead of testing was 0.030767 seconds.\n",
      "You can set `force_row_wise=true` to remove the overhead.\n",
      "And if memory is not enough, you can set `force_col_wise=true`.\n",
      "[LightGBM] [Info] Total Bins 19978\n",
      "[LightGBM] [Info] Number of data points in the train set: 1845539, number of used features: 30\n",
      "[LightGBM] [Info] [binary:BoostFromScore]: pavg=0.654701 -> initscore=0.639767\n",
      "[LightGBM] [Info] Start training from score 0.639767\n",
      "Training until validation scores don't improve for 100 rounds\n",
      "[100]\tvalid_0's binary_logloss: 0.538933\n",
      "[200]\tvalid_0's binary_logloss: 0.522525\n",
      "[300]\tvalid_0's binary_logloss: 0.518109\n",
      "[400]\tvalid_0's binary_logloss: 0.516598\n",
      "[500]\tvalid_0's binary_logloss: 0.515773\n",
      "[600]\tvalid_0's binary_logloss: 0.515371\n",
      "[700]\tvalid_0's binary_logloss: 0.5148\n",
      "[800]\tvalid_0's binary_logloss: 0.514101\n",
      "[900]\tvalid_0's binary_logloss: 0.513615\n",
      "[1000]\tvalid_0's binary_logloss: 0.513426\n",
      "[1100]\tvalid_0's binary_logloss: 0.513553\n",
      "Early stopping, best iteration is:\n",
      "[1022]\tvalid_0's binary_logloss: 0.513362\n",
      "VALID AUC : 0.8251411313550256 ACC : 0.7416413373860182\n",
      "\n",
      "model5_run_id='02e28937a44f409582471a78a0367ed0'\n",
      "writing prediction : output/12_05_Mon_LGBM_pb_num_acc_mean_추가_피처_30개.csv\n"
     ]
    },
    {
     "data": {
      "image/png": "[encoded data removed]",
      "text/plain": [
       "<Figure size 640x480 with 1 Axes>"
      ]
     },
     "metadata": {},
     "output_type": "display_data"
    }
   ],
   "source": [
    "### 피처 설정\n",
    "# 사용할 Feature 설정\n",
    "FEATS = ['uidIdx',\n",
    "         'assIdx',\n",
    "         'testIdx',\n",
    "         'KnowledgeTag',\n",
    "         'user_correct_answer',\n",
    "         'user_total_answer',\n",
    "         'big_category',\n",
    "         'mid_category',\n",
    "         'problem_num',\n",
    "         'month','day','dayname','hour',\n",
    "         'user_acc',\n",
    "         'test_mean',\n",
    "         'test_sum',\n",
    "         'test_std',\n",
    "         'tag_std',\n",
    "         'tag_mean',\n",
    "         'tag_sum',\n",
    "         'solvesec_3600',\n",
    "         'time_category',\n",
    "         'solvesec_cumsum',\n",
    "         'solvecumsum_category',\n",
    "         'big_category_cumconut',\n",
    "         'big_category_user_cum_acc',\n",
    "         'mid_category_cumconut',\n",
    "         'mid_category_user_cum_acc',\n",
    "         'ass_acc_mean',\n",
    "         'pb_num_acc_mean',\n",
    "        ]\n",
    "\n",
    "cat_feats = ['uidIdx','assIdx','testIdx','KnowledgeTag','big_category','mid_category',\n",
    "             'problem_num','dayname','month','time_category','solvecumsum_category']\n",
    "cat_feats_idx = [i for i,e in enumerate(FEATS) if e in cat_feats]\n",
    "\n",
    "### 학습 및 예측\n",
    "\n",
    "date = datetime.now().strftime('%m/%d %a')\n",
    "title=f\"🌈({date})[LGBM pb_num_acc_mean 추가] 피처: {len(FEATS)}개\"\n",
    "using_feats=\", \".join(FEATS)\n",
    "desc=f\"사용된 피처({len(FEATS)})\\n{using_feats}\"\n",
    "cat_feats_idx, title, desc\n",
    "\n",
    "mlflow.lightgbm.autolog()\n",
    "lgb_x_train = lgb.Dataset(x_train[FEATS], y_train)\n",
    "lgb_x_valid = lgb.Dataset(x_valid[FEATS], y_valid)\n",
    "\n",
    "with mlflow.start_run(run_name=title, description=desc) as run:\n",
    "    model5 = lgb.train(\n",
    "        params, \n",
    "        lgb_x_train,\n",
    "        valid_sets=[lgb_x_valid],\n",
    "        verbose_eval=100,\n",
    "        num_boost_round=3200,\n",
    "        categorical_feature=cat_feats_idx,\n",
    "        early_stopping_rounds=100,\n",
    "    )\n",
    "    preds = model5.predict(x_valid[FEATS])\n",
    "    acc = accuracy_score(y_valid, np.where(preds >= 0.5, 1, 0))\n",
    "    auc = roc_auc_score(y_valid, preds)\n",
    "    print(f'VALID AUC : {auc} ACC : {acc}\\n')\n",
    "    mlflow.log_metric(\"VAL AUC\",auc)\n",
    "    mlflow.log_metric(\"VAL Set SEED\",SEED)\n",
    "    model5_run_id=run.info.run_id\n",
    "    post_slack(\"done\")\n",
    "    print(f\"{model5_run_id=}\")\n",
    "    file_name = title2filename(title)\n",
    "    test_preds = lgbm_predict(test, model5, FEATS, f'{file_name}.csv')\n",
    "\n",
    "q = pd.Series(test_preds).plot(kind='kde')"
   ]
  },
  {
   "cell_type": "code",
   "execution_count": null,
   "id": "bce9a661",
   "metadata": {},
   "outputs": [],
   "source": [
    "### 제출 mlflow 등록\n",
    "# 제출시\n",
    "LB_AUC=0.8190\n",
    "run_id = 'ad6c0253c9bd4f4d9557988b0a482e99'\n",
    "mlflow.start_run(run_id=run_id)\n",
    "run = mlflow.active_run()\n",
    "print(\"Active run_id: {}\".format(run.info.run_id))\n",
    "mlflow.log_metric(\"LB AUC\",LB_AUC)\n",
    "mlflow.end_run()"
   ]
  },
  {
   "cell_type": "markdown",
   "id": "44aa44f0",
   "metadata": {},
   "source": [
    "## pb_num_acc_std 추가 -> 성능감소"
   ]
  },
  {
   "cell_type": "code",
   "execution_count": 31,
   "id": "331706c4",
   "metadata": {
    "ExecuteTime": {
     "end_time": "2022-12-04T15:31:20.039269Z",
     "start_time": "2022-12-04T15:29:49.190425Z"
    }
   },
   "outputs": [
    {
     "data": {
      "text/plain": [
       "([0, 1, 2, 3, 6, 7, 8, 9, 11, 21, 23],\n",
       " '🌈(12/05 Mon)[LGBM pb_num_acc_std 추가] 피처: 31개',\n",
       " '사용된 피처(31)\\nuidIdx, assIdx, testIdx, KnowledgeTag, user_correct_answer, user_total_answer, big_category, mid_category, problem_num, month, day, dayname, hour, user_acc, test_mean, test_sum, test_std, tag_std, tag_mean, tag_sum, solvesec_3600, time_category, solvesec_cumsum, solvecumsum_category, big_category_cumconut, big_category_user_cum_acc, mid_category_cumconut, mid_category_user_cum_acc, ass_acc_mean, pb_num_acc_mean, pb_num_acc_std')"
      ]
     },
     "execution_count": 31,
     "metadata": {},
     "output_type": "execute_result"
    },
    {
     "name": "stdout",
     "output_type": "stream",
     "text": [
      "[LightGBM] [Info] Number of positive: 1208276, number of negative: 637263\n",
      "[LightGBM] [Warning] Auto-choosing row-wise multi-threading, the overhead of testing was 0.030871 seconds.\n",
      "You can set `force_row_wise=true` to remove the overhead.\n",
      "And if memory is not enough, you can set `force_col_wise=true`.\n",
      "[LightGBM] [Info] Total Bins 19992\n",
      "[LightGBM] [Info] Number of data points in the train set: 1845539, number of used features: 31\n",
      "[LightGBM] [Info] [binary:BoostFromScore]: pavg=0.654701 -> initscore=0.639767\n",
      "[LightGBM] [Info] Start training from score 0.639767\n",
      "Training until validation scores don't improve for 100 rounds\n",
      "[100]\tvalid_0's binary_logloss: 0.538933\n",
      "[200]\tvalid_0's binary_logloss: 0.522827\n",
      "[300]\tvalid_0's binary_logloss: 0.518476\n",
      "[400]\tvalid_0's binary_logloss: 0.516761\n",
      "[500]\tvalid_0's binary_logloss: 0.516039\n",
      "[600]\tvalid_0's binary_logloss: 0.515632\n",
      "[700]\tvalid_0's binary_logloss: 0.515014\n",
      "[800]\tvalid_0's binary_logloss: 0.514496\n",
      "[900]\tvalid_0's binary_logloss: 0.513775\n",
      "[1000]\tvalid_0's binary_logloss: 0.513743\n",
      "Early stopping, best iteration is:\n",
      "[934]\tvalid_0's binary_logloss: 0.513602\n",
      "VALID AUC : 0.8248613374150331 ACC : 0.7406281661600811\n",
      "\n",
      "model6_run_id='bdc7b0599b274707bd5368b9c58db4c0'\n",
      "writing prediction : output/12_05_Mon_LGBM_pb_num_acc_std_추가_피처_31개.csv\n"
     ]
    },
    {
     "data": {
      "image/png": "[encoded data removed]",
      "text/plain": [
       "<Figure size 640x480 with 1 Axes>"
      ]
     },
     "metadata": {},
     "output_type": "display_data"
    }
   ],
   "source": [
    "### 피처 설정\n",
    "# 사용할 Feature 설정\n",
    "FEATS = ['uidIdx',\n",
    "         'assIdx',\n",
    "         'testIdx',\n",
    "         'KnowledgeTag',\n",
    "         'user_correct_answer',\n",
    "         'user_total_answer',\n",
    "         'big_category',\n",
    "         'mid_category',\n",
    "         'problem_num',\n",
    "         'month','day','dayname','hour',\n",
    "         'user_acc',\n",
    "         'test_mean',\n",
    "         'test_sum',\n",
    "         'test_std',\n",
    "         'tag_std',\n",
    "         'tag_mean',\n",
    "         'tag_sum',\n",
    "         'solvesec_3600',\n",
    "         'time_category',\n",
    "         'solvesec_cumsum',\n",
    "         'solvecumsum_category',\n",
    "         'big_category_cumconut',\n",
    "         'big_category_user_cum_acc',\n",
    "         'mid_category_cumconut',\n",
    "         'mid_category_user_cum_acc',\n",
    "         'ass_acc_mean',\n",
    "         'pb_num_acc_mean',\n",
    "         'pb_num_acc_std',\n",
    "        ]\n",
    "\n",
    "cat_feats = ['uidIdx','assIdx','testIdx','KnowledgeTag','big_category','mid_category',\n",
    "             'problem_num','dayname','month','time_category','solvecumsum_category']\n",
    "cat_feats_idx = [i for i,e in enumerate(FEATS) if e in cat_feats]\n",
    "\n",
    "### 학습 및 예측\n",
    "\n",
    "date = datetime.now().strftime('%m/%d %a')\n",
    "title=f\"🌈({date})[LGBM pb_num_acc_std 추가] 피처: {len(FEATS)}개\"\n",
    "using_feats=\", \".join(FEATS)\n",
    "desc=f\"사용된 피처({len(FEATS)})\\n{using_feats}\"\n",
    "cat_feats_idx, title, desc\n",
    "\n",
    "mlflow.lightgbm.autolog()\n",
    "lgb_x_train = lgb.Dataset(x_train[FEATS], y_train)\n",
    "lgb_x_valid = lgb.Dataset(x_valid[FEATS], y_valid)\n",
    "\n",
    "with mlflow.start_run(run_name=title, description=desc) as run:\n",
    "    model6 = lgb.train(\n",
    "        params, \n",
    "        lgb_x_train,\n",
    "        valid_sets=[lgb_x_valid],\n",
    "        verbose_eval=100,\n",
    "        num_boost_round=3200,\n",
    "        categorical_feature=cat_feats_idx,\n",
    "        early_stopping_rounds=100,\n",
    "    )\n",
    "    preds = model6.predict(x_valid[FEATS])\n",
    "    acc = accuracy_score(y_valid, np.where(preds >= 0.5, 1, 0))\n",
    "    auc = roc_auc_score(y_valid, preds)\n",
    "    print(f'VALID AUC : {auc} ACC : {acc}\\n')\n",
    "    mlflow.log_metric(\"VAL AUC\",auc)\n",
    "    mlflow.log_metric(\"VAL Set SEED\",SEED)\n",
    "    model6_run_id=run.info.run_id\n",
    "    post_slack(\"done\")\n",
    "    print(f\"{model6_run_id=}\")\n",
    "    file_name = title2filename(title)\n",
    "    test_preds = lgbm_predict(test, model6, FEATS, f'{file_name}.csv')\n",
    "\n",
    "q = pd.Series(test_preds).plot(kind='kde')"
   ]
  },
  {
   "cell_type": "code",
   "execution_count": null,
   "id": "c8da1527",
   "metadata": {},
   "outputs": [],
   "source": [
    "### 제출 mlflow 등록\n",
    "# 제출시\n",
    "LB_AUC=0.8190\n",
    "run_id = 'ad6c0253c9bd4f4d9557988b0a482e99'\n",
    "mlflow.start_run(run_id=run_id)\n",
    "run = mlflow.active_run()\n",
    "print(\"Active run_id: {}\".format(run.info.run_id))\n",
    "mlflow.log_metric(\"LB AUC\",LB_AUC)\n",
    "mlflow.end_run()"
   ]
  },
  {
   "cell_type": "code",
   "execution_count": null,
   "id": "36c3bb07",
   "metadata": {},
   "outputs": [],
   "source": []
  },
  {
   "cell_type": "markdown",
   "id": "ce7280c4",
   "metadata": {},
   "source": [
    "## 필요 없어보이는 피처 제거해보기"
   ]
  },
  {
   "cell_type": "markdown",
   "id": "dee94063",
   "metadata": {},
   "source": [
    "### test_std, tag_std 제거 -> 성능 감소"
   ]
  },
  {
   "cell_type": "code",
   "execution_count": 32,
   "id": "bf1c8c05",
   "metadata": {
    "ExecuteTime": {
     "end_time": "2022-12-04T15:34:43.064797Z",
     "start_time": "2022-12-04T15:33:08.482985Z"
    }
   },
   "outputs": [
    {
     "data": {
      "text/plain": [
       "([0, 1, 2, 3, 6, 7, 8, 9, 11, 19, 21],\n",
       " '🌈(12/05 Mon)[LGBM test_std, tag_std 제거] 피처: 28개',\n",
       " '사용된 피처(28)\\nuidIdx, assIdx, testIdx, KnowledgeTag, user_correct_answer, user_total_answer, big_category, mid_category, problem_num, month, day, dayname, hour, user_acc, test_mean, test_sum, tag_mean, tag_sum, solvesec_3600, time_category, solvesec_cumsum, solvecumsum_category, big_category_cumconut, big_category_user_cum_acc, mid_category_cumconut, mid_category_user_cum_acc, ass_acc_mean, pb_num_acc_mean')"
      ]
     },
     "execution_count": 32,
     "metadata": {},
     "output_type": "execute_result"
    },
    {
     "name": "stdout",
     "output_type": "stream",
     "text": [
      "[LightGBM] [Info] Number of positive: 1208276, number of negative: 637263\n",
      "[LightGBM] [Warning] Auto-choosing row-wise multi-threading, the overhead of testing was 0.046660 seconds.\n",
      "You can set `force_row_wise=true` to remove the overhead.\n",
      "And if memory is not enough, you can set `force_col_wise=true`.\n",
      "[LightGBM] [Info] Total Bins 19468\n",
      "[LightGBM] [Info] Number of data points in the train set: 1845539, number of used features: 28\n",
      "[LightGBM] [Info] [binary:BoostFromScore]: pavg=0.654701 -> initscore=0.639767\n",
      "[LightGBM] [Info] Start training from score 0.639767\n",
      "Training until validation scores don't improve for 100 rounds\n",
      "[100]\tvalid_0's binary_logloss: 0.538732\n",
      "[200]\tvalid_0's binary_logloss: 0.522723\n",
      "[300]\tvalid_0's binary_logloss: 0.518535\n",
      "[400]\tvalid_0's binary_logloss: 0.516905\n",
      "[500]\tvalid_0's binary_logloss: 0.516075\n",
      "[600]\tvalid_0's binary_logloss: 0.515711\n",
      "[700]\tvalid_0's binary_logloss: 0.51514\n",
      "[800]\tvalid_0's binary_logloss: 0.514401\n",
      "[900]\tvalid_0's binary_logloss: 0.513927\n",
      "[1000]\tvalid_0's binary_logloss: 0.513872\n",
      "[1100]\tvalid_0's binary_logloss: 0.513872\n",
      "Early stopping, best iteration is:\n",
      "[1025]\tvalid_0's binary_logloss: 0.513813\n",
      "VALID AUC : 0.8246144604091574 ACC : 0.7396149949341438\n",
      "\n",
      "model71_run_id='37fe236cc9e34a5abb1e2585cc10910a'\n",
      "writing prediction : output/12_05_Mon_LGBM_test_std_tag_std_제거_피처_28개.csv\n"
     ]
    },
    {
     "data": {
      "image/png": "[encoded data removed]",
      "text/plain": [
       "<Figure size 640x480 with 1 Axes>"
      ]
     },
     "metadata": {},
     "output_type": "display_data"
    }
   ],
   "source": [
    "### 피처 설정\n",
    "# 사용할 Feature 설정\n",
    "FEATS = ['uidIdx',\n",
    "         'assIdx',\n",
    "         'testIdx',\n",
    "         'KnowledgeTag',\n",
    "         'user_correct_answer',\n",
    "         'user_total_answer',\n",
    "         'big_category',\n",
    "         'mid_category',\n",
    "         'problem_num',\n",
    "         'month','day','dayname','hour',\n",
    "         'user_acc',\n",
    "         'test_mean',\n",
    "         'test_sum',\n",
    "         'tag_mean',\n",
    "         'tag_sum',\n",
    "         'solvesec_3600',\n",
    "         'time_category',\n",
    "         'solvesec_cumsum',\n",
    "         'solvecumsum_category',\n",
    "         'big_category_cumconut',\n",
    "         'big_category_user_cum_acc',\n",
    "         'mid_category_cumconut',\n",
    "         'mid_category_user_cum_acc',\n",
    "         'ass_acc_mean',\n",
    "         'pb_num_acc_mean',\n",
    "        ]\n",
    "\n",
    "cat_feats = ['uidIdx','assIdx','testIdx','KnowledgeTag','big_category','mid_category',\n",
    "             'problem_num','dayname','month','time_category','solvecumsum_category']\n",
    "cat_feats_idx = [i for i,e in enumerate(FEATS) if e in cat_feats]\n",
    "\n",
    "### 학습 및 예측\n",
    "\n",
    "date = datetime.now().strftime('%m/%d %a')\n",
    "title=f\"🌈({date})[LGBM test_std, tag_std 제거] 피처: {len(FEATS)}개\"\n",
    "using_feats=\", \".join(FEATS)\n",
    "desc=f\"사용된 피처({len(FEATS)})\\n{using_feats}\"\n",
    "cat_feats_idx, title, desc\n",
    "\n",
    "mlflow.lightgbm.autolog()\n",
    "lgb_x_train = lgb.Dataset(x_train[FEATS], y_train)\n",
    "lgb_x_valid = lgb.Dataset(x_valid[FEATS], y_valid)\n",
    "\n",
    "with mlflow.start_run(run_name=title, description=desc) as run:\n",
    "    model71 = lgb.train(\n",
    "        params, \n",
    "        lgb_x_train,\n",
    "        valid_sets=[lgb_x_valid],\n",
    "        verbose_eval=100,\n",
    "        num_boost_round=3200,\n",
    "        categorical_feature=cat_feats_idx,\n",
    "        early_stopping_rounds=100,\n",
    "    )\n",
    "    preds = model71.predict(x_valid[FEATS])\n",
    "    acc = accuracy_score(y_valid, np.where(preds >= 0.5, 1, 0))\n",
    "    auc = roc_auc_score(y_valid, preds)\n",
    "    print(f'VALID AUC : {auc} ACC : {acc}\\n')\n",
    "    mlflow.log_metric(\"VAL AUC\",auc)\n",
    "    mlflow.log_metric(\"VAL Set SEED\",SEED)\n",
    "    model71_run_id=run.info.run_id\n",
    "    post_slack(\"done\")\n",
    "    print(f\"{model71_run_id=}\")\n",
    "    file_name = title2filename(title)\n",
    "    test_preds = lgbm_predict(test, model71, FEATS, f'{file_name}.csv')\n",
    "\n",
    "q = pd.Series(test_preds).plot(kind='kde')"
   ]
  },
  {
   "cell_type": "code",
   "execution_count": null,
   "id": "79ec5104",
   "metadata": {},
   "outputs": [],
   "source": [
    "### 제출 mlflow 등록\n",
    "# 제출시\n",
    "LB_AUC=0.8190\n",
    "run_id = 'ad6c0253c9bd4f4d9557988b0a482e99'\n",
    "mlflow.start_run(run_id=run_id)\n",
    "run = mlflow.active_run()\n",
    "print(\"Active run_id: {}\".format(run.info.run_id))\n",
    "mlflow.log_metric(\"LB AUC\",LB_AUC)\n",
    "mlflow.end_run()"
   ]
  },
  {
   "cell_type": "markdown",
   "id": "3fbde7d1",
   "metadata": {},
   "source": [
    "## ass_difficulty 추가 - "
   ]
  },
  {
   "cell_type": "code",
   "execution_count": 36,
   "id": "8d7611e9",
   "metadata": {
    "ExecuteTime": {
     "end_time": "2022-12-04T15:55:03.078695Z",
     "start_time": "2022-12-04T15:53:22.616445Z"
    }
   },
   "outputs": [
    {
     "data": {
      "text/plain": [
       "([0, 1, 2, 3, 6, 7, 8, 9, 11, 21, 23],\n",
       " '🌈(12/05 Mon)[LGBM ass_difficulty 추가] 피처: 29개',\n",
       " '사용된 피처(29)\\nuidIdx, assIdx, testIdx, KnowledgeTag, user_correct_answer, user_total_answer, big_category, mid_category, problem_num, month, day, dayname, hour, user_acc, test_mean, test_sum, test_std, tag_std, tag_mean, tag_sum, solvesec_3600, time_category, solvesec_cumsum, solvecumsum_category, big_category_cumconut, big_category_user_cum_acc, mid_category_cumconut, mid_category_user_cum_acc, ass_difficulty')"
      ]
     },
     "execution_count": 36,
     "metadata": {},
     "output_type": "execute_result"
    },
    {
     "name": "stdout",
     "output_type": "stream",
     "text": [
      "[LightGBM] [Info] Number of positive: 1208276, number of negative: 637263\n",
      "[LightGBM] [Warning] Auto-choosing row-wise multi-threading, the overhead of testing was 0.030358 seconds.\n",
      "You can set `force_row_wise=true` to remove the overhead.\n",
      "And if memory is not enough, you can set `force_col_wise=true`.\n",
      "[LightGBM] [Info] Total Bins 19964\n",
      "[LightGBM] [Info] Number of data points in the train set: 1845539, number of used features: 29\n",
      "[LightGBM] [Info] [binary:BoostFromScore]: pavg=0.654701 -> initscore=0.639767\n",
      "[LightGBM] [Info] Start training from score 0.639767\n",
      "Training until validation scores don't improve for 100 rounds\n",
      "[100]\tvalid_0's binary_logloss: 0.538455\n",
      "[200]\tvalid_0's binary_logloss: 0.522034\n",
      "[300]\tvalid_0's binary_logloss: 0.518143\n",
      "[400]\tvalid_0's binary_logloss: 0.516447\n",
      "[500]\tvalid_0's binary_logloss: 0.51555\n",
      "[600]\tvalid_0's binary_logloss: 0.515313\n",
      "[700]\tvalid_0's binary_logloss: 0.514561\n",
      "[800]\tvalid_0's binary_logloss: 0.5141\n",
      "[900]\tvalid_0's binary_logloss: 0.513567\n",
      "[1000]\tvalid_0's binary_logloss: 0.513407\n",
      "[1100]\tvalid_0's binary_logloss: 0.513477\n",
      "Early stopping, best iteration is:\n",
      "[1059]\tvalid_0's binary_logloss: 0.51334\n",
      "VALID AUC : 0.8249600882173835 ACC : 0.7401215805471124\n",
      "\n",
      "model8_run_id='f2ee53e37db641c6975976e9fc8b10b0'\n",
      "writing prediction : output/12_05_Mon_LGBM_ass_difficulty_추가_피처_29개.csv\n"
     ]
    },
    {
     "data": {
      "image/png": "[encoded data removed]",
      "text/plain": [
       "<Figure size 640x480 with 1 Axes>"
      ]
     },
     "metadata": {},
     "output_type": "display_data"
    }
   ],
   "source": [
    "### 피처 설정\n",
    "# 사용할 Feature 설정\n",
    "FEATS = ['uidIdx',\n",
    "         'assIdx',\n",
    "         'testIdx',\n",
    "         'KnowledgeTag',\n",
    "         'user_correct_answer',\n",
    "         'user_total_answer',\n",
    "         'big_category',\n",
    "         'mid_category',\n",
    "         'problem_num',\n",
    "         'month','day','dayname','hour',\n",
    "         'user_acc',\n",
    "         'test_mean',\n",
    "         'test_sum',\n",
    "         'test_std',\n",
    "         'tag_std',\n",
    "         'tag_mean',\n",
    "         'tag_sum',\n",
    "         'solvesec_3600',\n",
    "         'time_category',\n",
    "         'solvesec_cumsum',\n",
    "         'solvecumsum_category',\n",
    "         'big_category_cumconut',\n",
    "         'big_category_user_cum_acc',\n",
    "         'mid_category_cumconut',\n",
    "         'mid_category_user_cum_acc',\n",
    "         'ass_difficulty'\n",
    "        ]\n",
    "\n",
    "cat_feats = ['uidIdx','assIdx','testIdx','KnowledgeTag','big_category','mid_category',\n",
    "             'problem_num','dayname','month','time_category','solvecumsum_category']\n",
    "cat_feats_idx = [i for i,e in enumerate(FEATS) if e in cat_feats]\n",
    "\n",
    "### 학습 및 예측\n",
    "\n",
    "date = datetime.now().strftime('%m/%d %a')\n",
    "title=f\"🌈({date})[LGBM ass_difficulty 추가] 피처: {len(FEATS)}개\"\n",
    "using_feats=\", \".join(FEATS)\n",
    "desc=f\"사용된 피처({len(FEATS)})\\n{using_feats}\"\n",
    "cat_feats_idx, title, desc\n",
    "\n",
    "mlflow.lightgbm.autolog()\n",
    "lgb_x_train = lgb.Dataset(x_train[FEATS], y_train)\n",
    "lgb_x_valid = lgb.Dataset(x_valid[FEATS], y_valid)\n",
    "\n",
    "with mlflow.start_run(run_name=title, description=desc) as run:\n",
    "    model8 = lgb.train(\n",
    "        params, \n",
    "        lgb_x_train,\n",
    "        valid_sets=[lgb_x_valid],\n",
    "        verbose_eval=100,\n",
    "        num_boost_round=3200,\n",
    "        categorical_feature=cat_feats_idx,\n",
    "        early_stopping_rounds=100,\n",
    "    )\n",
    "    preds = model8.predict(x_valid[FEATS])\n",
    "    acc = accuracy_score(y_valid, np.where(preds >= 0.5, 1, 0))\n",
    "    auc = roc_auc_score(y_valid, preds)\n",
    "    print(f'VALID AUC : {auc} ACC : {acc}\\n')\n",
    "    mlflow.log_metric(\"VAL AUC\",auc)\n",
    "    mlflow.log_metric(\"VAL Set SEED\",SEED)\n",
    "    model8_run_id=run.info.run_id\n",
    "    post_slack(\"done\")\n",
    "    print(f\"{model8_run_id=}\")\n",
    "    file_name = title2filename(title)\n",
    "    test_preds = lgbm_predict(test, model8, FEATS, f'{file_name}.csv')\n",
    "\n",
    "q = pd.Series(test_preds).plot(kind='kde')"
   ]
  },
  {
   "cell_type": "code",
   "execution_count": null,
   "id": "09ad9e13",
   "metadata": {},
   "outputs": [],
   "source": [
    "### 제출 mlflow 등록\n",
    "# 제출시\n",
    "LB_AUC=0.8190\n",
    "run_id = 'ad6c0253c9bd4f4d9557988b0a482e99'\n",
    "mlflow.start_run(run_id=run_id)\n",
    "run = mlflow.active_run()\n",
    "print(\"Active run_id: {}\".format(run.info.run_id))\n",
    "mlflow.log_metric(\"LB AUC\",LB_AUC)\n",
    "mlflow.end_run()"
   ]
  },
  {
   "cell_type": "markdown",
   "id": "9a19dc00",
   "metadata": {},
   "source": [
    "## pb_num_difficulty 추가 - val auc 최대 성능"
   ]
  },
  {
   "cell_type": "code",
   "execution_count": 37,
   "id": "39208b14",
   "metadata": {
    "ExecuteTime": {
     "end_time": "2022-12-04T15:56:37.503082Z",
     "start_time": "2022-12-04T15:55:03.082318Z"
    }
   },
   "outputs": [
    {
     "data": {
      "text/plain": [
       "([0, 1, 2, 3, 6, 7, 8, 9, 11, 21, 23],\n",
       " '🌈(12/05 Mon)[LGBM pb_num_difficulty 추가] 피처: 30개',\n",
       " '사용된 피처(30)\\nuidIdx, assIdx, testIdx, KnowledgeTag, user_correct_answer, user_total_answer, big_category, mid_category, problem_num, month, day, dayname, hour, user_acc, test_mean, test_sum, test_std, tag_std, tag_mean, tag_sum, solvesec_3600, time_category, solvesec_cumsum, solvecumsum_category, big_category_cumconut, big_category_user_cum_acc, mid_category_cumconut, mid_category_user_cum_acc, ass_difficulty, pb_num_difficulty')"
      ]
     },
     "execution_count": 37,
     "metadata": {},
     "output_type": "execute_result"
    },
    {
     "name": "stdout",
     "output_type": "stream",
     "text": [
      "[LightGBM] [Info] Number of positive: 1208276, number of negative: 637263\n",
      "[LightGBM] [Warning] Auto-choosing row-wise multi-threading, the overhead of testing was 0.029176 seconds.\n",
      "You can set `force_row_wise=true` to remove the overhead.\n",
      "And if memory is not enough, you can set `force_col_wise=true`.\n",
      "[LightGBM] [Info] Total Bins 19978\n",
      "[LightGBM] [Info] Number of data points in the train set: 1845539, number of used features: 30\n",
      "[LightGBM] [Info] [binary:BoostFromScore]: pavg=0.654701 -> initscore=0.639767\n",
      "[LightGBM] [Info] Start training from score 0.639767\n",
      "Training until validation scores don't improve for 100 rounds\n",
      "[100]\tvalid_0's binary_logloss: 0.538455\n",
      "[200]\tvalid_0's binary_logloss: 0.522034\n",
      "[300]\tvalid_0's binary_logloss: 0.517878\n",
      "[400]\tvalid_0's binary_logloss: 0.515872\n",
      "[500]\tvalid_0's binary_logloss: 0.51487\n",
      "[600]\tvalid_0's binary_logloss: 0.514511\n",
      "[700]\tvalid_0's binary_logloss: 0.513998\n",
      "[800]\tvalid_0's binary_logloss: 0.513315\n",
      "[900]\tvalid_0's binary_logloss: 0.5129\n",
      "[1000]\tvalid_0's binary_logloss: 0.512737\n",
      "Early stopping, best iteration is:\n",
      "[965]\tvalid_0's binary_logloss: 0.512661\n",
      "VALID AUC : 0.825455899537517 ACC : 0.7411347517730497\n",
      "\n",
      "model9_run_id='a8d9108370b442569318e4540312802d'\n",
      "writing prediction : output/12_05_Mon_LGBM_pb_num_difficulty_추가_피처_30개.csv\n"
     ]
    },
    {
     "data": {
      "image/png": "[encoded data removed]",
      "text/plain": [
       "<Figure size 640x480 with 1 Axes>"
      ]
     },
     "metadata": {},
     "output_type": "display_data"
    }
   ],
   "source": [
    "### 피처 설정\n",
    "# 사용할 Feature 설정\n",
    "FEATS = ['uidIdx',\n",
    "         'assIdx',\n",
    "         'testIdx',\n",
    "         'KnowledgeTag',\n",
    "         'user_correct_answer',\n",
    "         'user_total_answer',\n",
    "         'big_category',\n",
    "         'mid_category',\n",
    "         'problem_num',\n",
    "         'month','day','dayname','hour',\n",
    "         'user_acc',\n",
    "         'test_mean',\n",
    "         'test_sum',\n",
    "         'test_std',\n",
    "         'tag_std',\n",
    "         'tag_mean',\n",
    "         'tag_sum',\n",
    "         'solvesec_3600',\n",
    "         'time_category',\n",
    "         'solvesec_cumsum',\n",
    "         'solvecumsum_category',\n",
    "         'big_category_cumconut',\n",
    "         'big_category_user_cum_acc',\n",
    "         'mid_category_cumconut',\n",
    "         'mid_category_user_cum_acc',\n",
    "         'ass_difficulty',\n",
    "         'pb_num_difficulty'\n",
    "        ]\n",
    "\n",
    "cat_feats = ['uidIdx','assIdx','testIdx','KnowledgeTag','big_category','mid_category',\n",
    "             'problem_num','dayname','month','time_category','solvecumsum_category']\n",
    "cat_feats_idx = [i for i,e in enumerate(FEATS) if e in cat_feats]\n",
    "\n",
    "### 학습 및 예측\n",
    "\n",
    "date = datetime.now().strftime('%m/%d %a')\n",
    "title=f\"🌈({date})[LGBM pb_num_difficulty 추가] 피처: {len(FEATS)}개\"\n",
    "using_feats=\", \".join(FEATS)\n",
    "desc=f\"사용된 피처({len(FEATS)})\\n{using_feats}\"\n",
    "cat_feats_idx, title, desc\n",
    "\n",
    "mlflow.lightgbm.autolog()\n",
    "lgb_x_train = lgb.Dataset(x_train[FEATS], y_train)\n",
    "lgb_x_valid = lgb.Dataset(x_valid[FEATS], y_valid)\n",
    "\n",
    "with mlflow.start_run(run_name=title, description=desc) as run:\n",
    "    model9 = lgb.train(\n",
    "        params, \n",
    "        lgb_x_train,\n",
    "        valid_sets=[lgb_x_valid],\n",
    "        verbose_eval=100,\n",
    "        num_boost_round=3200,\n",
    "        categorical_feature=cat_feats_idx,\n",
    "        early_stopping_rounds=100,\n",
    "    )\n",
    "    preds = model9.predict(x_valid[FEATS])\n",
    "    acc = accuracy_score(y_valid, np.where(preds >= 0.5, 1, 0))\n",
    "    auc = roc_auc_score(y_valid, preds)\n",
    "    print(f'VALID AUC : {auc} ACC : {acc}\\n')\n",
    "    mlflow.log_metric(\"VAL AUC\",auc)\n",
    "    mlflow.log_metric(\"VAL Set SEED\",SEED)\n",
    "    model9_run_id=run.info.run_id\n",
    "    post_slack(\"done\")\n",
    "    print(f\"{model9_run_id=}\")\n",
    "    file_name = title2filename(title)\n",
    "    test_preds = lgbm_predict(test, model9, FEATS, f'{file_name}.csv')\n",
    "\n",
    "q = pd.Series(test_preds).plot(kind='kde')"
   ]
  },
  {
   "cell_type": "code",
   "execution_count": null,
   "id": "c2cdf1d9",
   "metadata": {},
   "outputs": [],
   "source": [
    "### 제출 mlflow 등록\n",
    "# 제출시\n",
    "LB_AUC=0.8190\n",
    "run_id = 'ad6c0253c9bd4f4d9557988b0a482e99'\n",
    "mlflow.start_run(run_id=run_id)\n",
    "run = mlflow.active_run()\n",
    "print(\"Active run_id: {}\".format(run.info.run_id))\n",
    "mlflow.log_metric(\"LB AUC\",LB_AUC)\n",
    "mlflow.end_run()"
   ]
  },
  {
   "cell_type": "code",
   "execution_count": 42,
   "id": "6c1dbe06",
   "metadata": {
    "ExecuteTime": {
     "end_time": "2022-12-04T16:10:38.249911Z",
     "start_time": "2022-12-04T16:10:38.245923Z"
    }
   },
   "outputs": [
    {
     "data": {
      "text/plain": [
       "Index(['userID', 'assessmentItemID', 'testId', 'answerCode', 'Timestamp',\n",
       "       'KnowledgeTag', 'kind', 'uidIdx', 'assIdx', 'testIdx',\n",
       "       'user_correct_answer', 'user_total_answer', 'user_acc', 'month', 'day',\n",
       "       'hour', 'dayname', 'big_category', 'problem_num', 'mid_category',\n",
       "       'test_mean', 'test_std', 'test_sum', 'tag_mean', 'tag_std', 'tag_sum',\n",
       "       'Timestamp2', 'solvetime', 'solvesec', 'solvesec_3600', 'time_category',\n",
       "       'solvesec_cumsum', 'solvecumsum_category', 'big_category_cumconut',\n",
       "       'big_category_answer', 'big_category_user_cum_acc',\n",
       "       'mid_category_cumconut', 'mid_category_answer',\n",
       "       'mid_category_user_cum_acc', 'ass_acc_mean', 'ass_difficulty',\n",
       "       'ass_acc_std', 'pb_num_acc_mean', 'pb_num_difficulty', 'pb_num_acc_std',\n",
       "       'know_tag_acc_mean', 'know_tag_difficulty'],\n",
       "      dtype='object')"
      ]
     },
     "execution_count": 42,
     "metadata": {},
     "output_type": "execute_result"
    }
   ],
   "source": [
    "df.columns"
   ]
  },
  {
   "cell_type": "markdown",
   "id": "861f00b2",
   "metadata": {},
   "source": [
    "## know_tag_difficulty 추가 - "
   ]
  },
  {
   "cell_type": "code",
   "execution_count": 43,
   "id": "e4493f4e",
   "metadata": {
    "ExecuteTime": {
     "end_time": "2022-12-04T16:12:35.281159Z",
     "start_time": "2022-12-04T16:11:01.220892Z"
    }
   },
   "outputs": [
    {
     "data": {
      "text/plain": [
       "([0, 1, 2, 3, 6, 7, 8, 9, 11, 21, 23],\n",
       " '🌈(12/05 Mon)[LGBM know_tag_difficulty 추가] 피처: 31개',\n",
       " '사용된 피처(31)\\nuidIdx, assIdx, testIdx, KnowledgeTag, user_correct_answer, user_total_answer, big_category, mid_category, problem_num, month, day, dayname, hour, user_acc, test_mean, test_sum, test_std, tag_std, tag_mean, tag_sum, solvesec_3600, time_category, solvesec_cumsum, solvecumsum_category, big_category_cumconut, big_category_user_cum_acc, mid_category_cumconut, mid_category_user_cum_acc, ass_difficulty, pb_num_difficulty, know_tag_difficulty')"
      ]
     },
     "execution_count": 43,
     "metadata": {},
     "output_type": "execute_result"
    },
    {
     "name": "stdout",
     "output_type": "stream",
     "text": [
      "[LightGBM] [Info] Number of positive: 1208276, number of negative: 637263\n",
      "[LightGBM] [Warning] Auto-choosing row-wise multi-threading, the overhead of testing was 0.030516 seconds.\n",
      "You can set `force_row_wise=true` to remove the overhead.\n",
      "And if memory is not enough, you can set `force_col_wise=true`.\n",
      "[LightGBM] [Info] Total Bins 20233\n",
      "[LightGBM] [Info] Number of data points in the train set: 1845539, number of used features: 31\n",
      "[LightGBM] [Info] [binary:BoostFromScore]: pavg=0.654701 -> initscore=0.639767\n",
      "[LightGBM] [Info] Start training from score 0.639767\n",
      "Training until validation scores don't improve for 100 rounds\n",
      "[100]\tvalid_0's binary_logloss: 0.538697\n",
      "[200]\tvalid_0's binary_logloss: 0.522604\n",
      "[300]\tvalid_0's binary_logloss: 0.518518\n",
      "[400]\tvalid_0's binary_logloss: 0.516793\n",
      "[500]\tvalid_0's binary_logloss: 0.516177\n",
      "[600]\tvalid_0's binary_logloss: 0.515591\n",
      "[700]\tvalid_0's binary_logloss: 0.515037\n",
      "[800]\tvalid_0's binary_logloss: 0.514611\n",
      "[900]\tvalid_0's binary_logloss: 0.514249\n",
      "[1000]\tvalid_0's binary_logloss: 0.514149\n",
      "Early stopping, best iteration is:\n",
      "[961]\tvalid_0's binary_logloss: 0.514077\n",
      "VALID AUC : 0.8244005003373986 ACC : 0.7401215805471124\n",
      "\n",
      "model10_run_id='781e83b20f454c58ab11b5987dfebb3f'\n",
      "writing prediction : output/12_05_Mon_LGBM_know_tag_difficulty_추가_피처_31개.csv\n"
     ]
    },
    {
     "data": {
      "image/png": "[encoded data removed]",
      "text/plain": [
       "<Figure size 640x480 with 1 Axes>"
      ]
     },
     "metadata": {},
     "output_type": "display_data"
    }
   ],
   "source": [
    "### 피처 설정\n",
    "# 사용할 Feature 설정\n",
    "FEATS = ['uidIdx',\n",
    "         'assIdx',\n",
    "         'testIdx',\n",
    "         'KnowledgeTag',\n",
    "         'user_correct_answer',\n",
    "         'user_total_answer',\n",
    "         'big_category',\n",
    "         'mid_category',\n",
    "         'problem_num',\n",
    "         'month','day','dayname','hour',\n",
    "         'user_acc',\n",
    "         'test_mean',\n",
    "         'test_sum',\n",
    "         'test_std',\n",
    "         'tag_std',\n",
    "         'tag_mean',\n",
    "         'tag_sum',\n",
    "         'solvesec_3600',\n",
    "         'time_category',\n",
    "         'solvesec_cumsum',\n",
    "         'solvecumsum_category',\n",
    "         'big_category_cumconut',\n",
    "         'big_category_user_cum_acc',\n",
    "         'mid_category_cumconut',\n",
    "         'mid_category_user_cum_acc',\n",
    "         'ass_difficulty',\n",
    "         'pb_num_difficulty',\n",
    "         'know_tag_difficulty'\n",
    "        ]\n",
    "\n",
    "cat_feats = ['uidIdx','assIdx','testIdx','KnowledgeTag','big_category','mid_category',\n",
    "             'problem_num','dayname','month','time_category','solvecumsum_category']\n",
    "cat_feats_idx = [i for i,e in enumerate(FEATS) if e in cat_feats]\n",
    "\n",
    "### 학습 및 예측\n",
    "\n",
    "date = datetime.now().strftime('%m/%d %a')\n",
    "title=f\"🌈({date})[LGBM know_tag_difficulty 추가] 피처: {len(FEATS)}개\"\n",
    "using_feats=\", \".join(FEATS)\n",
    "desc=f\"사용된 피처({len(FEATS)})\\n{using_feats}\"\n",
    "cat_feats_idx, title, desc\n",
    "\n",
    "mlflow.lightgbm.autolog()\n",
    "lgb_x_train = lgb.Dataset(x_train[FEATS], y_train)\n",
    "lgb_x_valid = lgb.Dataset(x_valid[FEATS], y_valid)\n",
    "\n",
    "with mlflow.start_run(run_name=title, description=desc) as run:\n",
    "    model10 = lgb.train(\n",
    "        params, \n",
    "        lgb_x_train,\n",
    "        valid_sets=[lgb_x_valid],\n",
    "        verbose_eval=100,\n",
    "        num_boost_round=3200,\n",
    "        categorical_feature=cat_feats_idx,\n",
    "        early_stopping_rounds=100,\n",
    "    )\n",
    "    preds = model10.predict(x_valid[FEATS])\n",
    "    acc = accuracy_score(y_valid, np.where(preds >= 0.5, 1, 0))\n",
    "    auc = roc_auc_score(y_valid, preds)\n",
    "    print(f'VALID AUC : {auc} ACC : {acc}\\n')\n",
    "    mlflow.log_metric(\"VAL AUC\",auc)\n",
    "    mlflow.log_metric(\"VAL Set SEED\",SEED)\n",
    "    model10_run_id=run.info.run_id\n",
    "    post_slack(\"done\")\n",
    "    print(f\"{model10_run_id=}\")\n",
    "    file_name = title2filename(title)\n",
    "    test_preds = lgbm_predict(test, model10, FEATS, f'{file_name}.csv')\n",
    "\n",
    "q = pd.Series(test_preds).plot(kind='kde')"
   ]
  },
  {
   "cell_type": "code",
   "execution_count": null,
   "id": "10b7c7d3",
   "metadata": {},
   "outputs": [],
   "source": [
    "### 제출 mlflow 등록\n",
    "# 제출시\n",
    "LB_AUC=0.8190\n",
    "run_id = 'ad6c0253c9bd4f4d9557988b0a482e99'\n",
    "mlflow.start_run(run_id=run_id)\n",
    "run = mlflow.active_run()\n",
    "print(\"Active run_id: {}\".format(run.info.run_id))\n",
    "mlflow.log_metric(\"LB AUC\",LB_AUC)\n",
    "mlflow.end_run()"
   ]
  }
 ],
 "metadata": {
  "kernelspec": {
   "display_name": "Python 3 (ipykernel)",
   "language": "python",
   "name": "python3"
  },
  "language_info": {
   "codemirror_mode": {
    "name": "ipython",
    "version": 3
   },
   "file_extension": ".py",
   "mimetype": "text/x-python",
   "name": "python",
   "nbconvert_exporter": "python",
   "pygments_lexer": "ipython3",
   "version": "3.9.15"
  },
  "toc": {
   "base_numbering": 1,
   "nav_menu": {},
   "number_sections": true,
   "sideBar": true,
   "skip_h1_title": true,
   "title_cell": "Table of Contents",
   "title_sidebar": "Contents",
   "toc_cell": false,
   "toc_position": {
    "height": "calc(100% - 180px)",
    "left": "10px",
    "top": "150px",
    "width": "384px"
   },
   "toc_section_display": true,
   "toc_window_display": true
  }
 },
 "nbformat": 4,
 "nbformat_minor": 5
}
