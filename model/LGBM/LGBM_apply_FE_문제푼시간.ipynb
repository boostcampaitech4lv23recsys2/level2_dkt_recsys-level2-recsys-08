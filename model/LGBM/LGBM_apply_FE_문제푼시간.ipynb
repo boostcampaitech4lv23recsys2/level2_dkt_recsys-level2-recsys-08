{
 "cells": [
  {
   "cell_type": "code",
   "execution_count": 1,
   "id": "c65c701d",
   "metadata": {
    "ExecuteTime": {
     "end_time": "2022-11-25T06:31:26.715934Z",
     "start_time": "2022-11-25T06:31:16.325097Z"
    }
   },
   "outputs": [
    {
     "data": {
      "text/plain": [
       "((2525956, 24), (2525956, 1), (2007, 24), (2007, 1))"
      ]
     },
     "execution_count": 1,
     "metadata": {},
     "output_type": "execute_result"
    }
   ],
   "source": [
    "from IPython.core.interactiveshell import InteractiveShell\n",
    "InteractiveShell.ast_node_interactivity = 'all'\n",
    "import pandas as pd\n",
    "import os\n",
    "import random\n",
    "import warnings\n",
    "warnings.filterwarnings('ignore')\n",
    "import lightgbm as lgb\n",
    "from sklearn.metrics import roc_auc_score\n",
    "from sklearn.metrics import accuracy_score\n",
    "import numpy as np\n",
    "from utils import custom_train_test_split, lgbm_predict, post_slack\n",
    "\n",
    "base_feats = ['KnowledgeTag', 'user_correct_answer', 'user_total_answer', \n",
    "         'user_acc', 'test_mean', 'test_sum', 'tag_mean','tag_sum']\n",
    "# train과 test 데이터셋은 사용자 별로 묶어서 분리를 해주어야함\n",
    "\n",
    "## 1. 데이터 로딩\n",
    "data_dir = '/opt/ml/input/data' # 경로\n",
    "# train_file_path = os.path.join(data_dir, 'train_data.csv') # 데이터\n",
    "# test_file_path = os.path.join(data_dir, 'test_data.csv')\n",
    "after_fe_path = os.path.join(data_dir, 'after_fe_train_test.pkl')\n",
    "df = pd.read_pickle(after_fe_path)\n",
    "\n",
    "train_df = df[df.kind=='train']\n",
    "train, valid = custom_train_test_split(train_df, ratio=0.7) # 훈련데이터 split\n",
    "test = df[df.kind=='test'] # 테스트 데이터\n",
    "train2 = test[test.answerCode!=-1] # 테스트데이터 마지막 제출 2번쨰꺼까지 훈련데이터로 사용\n",
    "train = pd.concat([train_df,train2]) # 훈련데이터 병합\n",
    "train.shape, valid.shape, test.shape\n",
    "\n",
    "x_train = train.drop('answerCode',axis=1)\n",
    "y_train = train[['answerCode']]\n",
    "\n",
    "x_valid = valid.drop('answerCode',axis=1)\n",
    "y_valid = valid[['answerCode']]\n",
    "x_train.shape, y_train.shape, x_valid.shape, y_valid.shape"
   ]
  },
  {
   "cell_type": "code",
   "execution_count": 2,
   "id": "21ba16e6",
   "metadata": {
    "ExecuteTime": {
     "end_time": "2022-11-25T06:31:29.680734Z",
     "start_time": "2022-11-25T06:31:29.676293Z"
    }
   },
   "outputs": [],
   "source": [
    "# 사용할 Feature 설정\n",
    "FEATS = ['KnowledgeTag',\n",
    "         'user_correct_answer',\n",
    "         'user_total_answer',\n",
    "         'big_category',\n",
    "         'mid_category',\n",
    "         'problem_num',\n",
    "         'month','day','dayname','hour',\n",
    "         'user_acc',\n",
    "         'test_mean',\n",
    "         'test_sum',\n",
    "         'test_std',\n",
    "         'tag_std',\n",
    "         'tag_mean',\n",
    "         'tag_sum',\n",
    "         'solvesec'\n",
    "        ]\n",
    "\n",
    "params = {\n",
    "#     \"max_depth\": 8,  # 8,\n",
    "#     \"min_data_in_leaf\": 1000,\n",
    "    # \"feature_fraction\": 0.6,  # 0.8,\n",
    "#     \"bagging_fraction\": 0.75,\n",
    "    # \"max_cat_group\": 64,\n",
    "    \"objective\": \"binary\",\n",
    "#     \"boosting\": \"gbdt\",  # dart\n",
    "#     \"learning_rate\": 0.01,  # 0.01,\n",
    "    # \"bagging_freq\": 5,\n",
    "    \"seed\": 42,\n",
    "    # \"max_bin\": 50,\n",
    "#     \"num_leaves\": 80,  # 40,\n",
    "#     \"metric\": \"auc\",\n",
    "}\n",
    "\n",
    "model_auc = lgb.LGBMClassifier(\n",
    "    **params,\n",
    "    n_estimators=3200,\n",
    "    silent=-1,\n",
    ")\n"
   ]
  },
  {
   "cell_type": "markdown",
   "id": "eb420c1b",
   "metadata": {},
   "source": [
    "## 문제푼 시간 카테고리 변수도 추가"
   ]
  },
  {
   "cell_type": "code",
   "execution_count": 11,
   "id": "62719237",
   "metadata": {
    "ExecuteTime": {
     "end_time": "2022-11-25T06:40:23.359199Z",
     "start_time": "2022-11-25T06:40:23.353240Z"
    }
   },
   "outputs": [],
   "source": [
    "# 사용할 Feature 설정\n",
    "FEATS = ['KnowledgeTag',\n",
    "         'user_correct_answer',\n",
    "         'user_total_answer',\n",
    "         'big_category',\n",
    "         'mid_category',\n",
    "         'problem_num',\n",
    "         'month','day','dayname','hour',\n",
    "         'user_acc',\n",
    "         'test_mean',\n",
    "         'test_sum',\n",
    "         'test_std',\n",
    "         'tag_std',\n",
    "         'tag_mean',\n",
    "         'tag_sum',\n",
    "         'solvesec',\n",
    "         'time_category',\n",
    "        ]"
   ]
  },
  {
   "cell_type": "code",
   "execution_count": 4,
   "id": "4bd56209",
   "metadata": {
    "ExecuteTime": {
     "end_time": "2022-11-25T06:35:24.141111Z",
     "start_time": "2022-11-25T06:31:48.702109Z"
    }
   },
   "outputs": [
    {
     "name": "stdout",
     "output_type": "stream",
     "text": [
      "[LightGBM] [Info] Number of positive: 1653588, number of negative: 872368\n",
      "[LightGBM] [Warning] Auto-choosing row-wise multi-threading, the overhead of testing was 0.067799 seconds.\n",
      "You can set `force_row_wise=true` to remove the overhead.\n",
      "And if memory is not enough, you can set `force_col_wise=true`.\n",
      "[LightGBM] [Info] Total Bins 3105\n",
      "[LightGBM] [Info] Number of data points in the train set: 2525956, number of used features: 19\n",
      "[LightGBM] [Info] [binary:BoostFromScore]: pavg=0.654638 -> initscore=0.639491\n",
      "[LightGBM] [Info] Start training from score 0.639491\n",
      "[100]\tvalid_0's binary_logloss: 0.58363\n",
      "[200]\tvalid_0's binary_logloss: 0.576\n",
      "[300]\tvalid_0's binary_logloss: 0.570863\n",
      "[400]\tvalid_0's binary_logloss: 0.563467\n",
      "[500]\tvalid_0's binary_logloss: 0.558677\n",
      "[600]\tvalid_0's binary_logloss: 0.556323\n",
      "[700]\tvalid_0's binary_logloss: 0.552457\n",
      "[800]\tvalid_0's binary_logloss: 0.550542\n",
      "[900]\tvalid_0's binary_logloss: 0.549609\n",
      "[1000]\tvalid_0's binary_logloss: 0.546317\n",
      "[1100]\tvalid_0's binary_logloss: 0.544312\n",
      "[1200]\tvalid_0's binary_logloss: 0.541111\n",
      "[1300]\tvalid_0's binary_logloss: 0.539476\n",
      "[1400]\tvalid_0's binary_logloss: 0.53855\n",
      "[1500]\tvalid_0's binary_logloss: 0.537452\n",
      "[1600]\tvalid_0's binary_logloss: 0.534708\n",
      "[1700]\tvalid_0's binary_logloss: 0.532875\n",
      "[1800]\tvalid_0's binary_logloss: 0.531934\n",
      "[1900]\tvalid_0's binary_logloss: 0.530597\n",
      "[2000]\tvalid_0's binary_logloss: 0.529241\n",
      "[2100]\tvalid_0's binary_logloss: 0.528087\n",
      "[2200]\tvalid_0's binary_logloss: 0.526902\n",
      "[2300]\tvalid_0's binary_logloss: 0.525815\n",
      "[2400]\tvalid_0's binary_logloss: 0.524275\n",
      "[2500]\tvalid_0's binary_logloss: 0.523296\n",
      "[2600]\tvalid_0's binary_logloss: 0.522842\n",
      "[2700]\tvalid_0's binary_logloss: 0.521267\n",
      "[2800]\tvalid_0's binary_logloss: 0.520316\n",
      "[2900]\tvalid_0's binary_logloss: 0.519306\n",
      "[3000]\tvalid_0's binary_logloss: 0.517592\n",
      "[3100]\tvalid_0's binary_logloss: 0.516537\n",
      "[3200]\tvalid_0's binary_logloss: 0.51594\n",
      "VALID AUC : 0.8227767839395747 ACC : 0.7518684603886397\n",
      "\n"
     ]
    }
   ],
   "source": [
    "lgb_x_train = lgb.Dataset(x_train[FEATS], y_train)\n",
    "lgb_x_valid = lgb.Dataset(x_valid[FEATS], y_valid)\n",
    "\n",
    "model5 = lgb.train(\n",
    "    params, \n",
    "    lgb_x_train,\n",
    "    valid_sets=[lgb_x_valid],\n",
    "    verbose_eval=100,\n",
    "    num_boost_round=3200,\n",
    "#     early_stopping_rounds=200,\n",
    ")\n",
    "\n",
    "preds = model5.predict(x_valid[FEATS])\n",
    "acc = accuracy_score(y_valid, np.where(preds >= 0.5, 1, 0))\n",
    "auc = roc_auc_score(y_valid, preds)\n",
    "\n",
    "print(f'VALID AUC : {auc} ACC : {acc}\\n')"
   ]
  },
  {
   "cell_type": "code",
   "execution_count": 46,
   "id": "37d9d469",
   "metadata": {
    "ExecuteTime": {
     "end_time": "2022-11-25T06:03:47.998669Z",
     "start_time": "2022-11-25T05:59:20.655107Z"
    }
   },
   "outputs": [
    {
     "name": "stdout",
     "output_type": "stream",
     "text": [
      "[LightGBM] [Info] Number of positive: 1653588, number of negative: 872368\n",
      "[LightGBM] [Warning] Auto-choosing row-wise multi-threading, the overhead of testing was 0.059999 seconds.\n",
      "You can set `force_row_wise=true` to remove the overhead.\n",
      "And if memory is not enough, you can set `force_col_wise=true`.\n",
      "[LightGBM] [Info] Total Bins 3105\n",
      "[LightGBM] [Info] Number of data points in the train set: 2525956, number of used features: 19\n",
      "[LightGBM] [Info] [binary:BoostFromScore]: pavg=0.654638 -> initscore=0.639491\n",
      "[LightGBM] [Info] Start training from score 0.639491\n",
      "[100]\tvalid_0's binary_logloss: 0.560899\n",
      "[200]\tvalid_0's binary_logloss: 0.552517\n",
      "[300]\tvalid_0's binary_logloss: 0.547221\n",
      "[400]\tvalid_0's binary_logloss: 0.540192\n",
      "[500]\tvalid_0's binary_logloss: 0.535174\n",
      "[600]\tvalid_0's binary_logloss: 0.531541\n",
      "[700]\tvalid_0's binary_logloss: 0.527031\n",
      "[800]\tvalid_0's binary_logloss: 0.523995\n",
      "[900]\tvalid_0's binary_logloss: 0.522249\n",
      "[1000]\tvalid_0's binary_logloss: 0.519503\n",
      "[1100]\tvalid_0's binary_logloss: 0.517507\n",
      "[1200]\tvalid_0's binary_logloss: 0.515138\n",
      "[1300]\tvalid_0's binary_logloss: 0.513333\n",
      "[1400]\tvalid_0's binary_logloss: 0.512368\n",
      "[1500]\tvalid_0's binary_logloss: 0.51115\n",
      "[1600]\tvalid_0's binary_logloss: 0.508772\n",
      "[1700]\tvalid_0's binary_logloss: 0.506849\n",
      "[1800]\tvalid_0's binary_logloss: 0.505565\n",
      "[1900]\tvalid_0's binary_logloss: 0.504702\n",
      "[2000]\tvalid_0's binary_logloss: 0.503444\n",
      "[2100]\tvalid_0's binary_logloss: 0.502423\n",
      "[2200]\tvalid_0's binary_logloss: 0.501213\n",
      "[2300]\tvalid_0's binary_logloss: 0.500003\n",
      "[2400]\tvalid_0's binary_logloss: 0.498803\n",
      "[2500]\tvalid_0's binary_logloss: 0.497972\n",
      "[2600]\tvalid_0's binary_logloss: 0.497296\n",
      "[2700]\tvalid_0's binary_logloss: 0.495479\n",
      "[2800]\tvalid_0's binary_logloss: 0.494779\n",
      "[2900]\tvalid_0's binary_logloss: 0.493667\n",
      "[3000]\tvalid_0's binary_logloss: 0.492022\n",
      "[3100]\tvalid_0's binary_logloss: 0.491094\n",
      "[3200]\tvalid_0's binary_logloss: 0.490305\n",
      "VALID AUC : 0.8475305221483802 ACC : 0.7694510739856802\n",
      "\n"
     ]
    }
   ],
   "source": [
    "lgb_x_train = lgb.Dataset(x_train[FEATS], y_train)\n",
    "lgb_x_valid = lgb.Dataset(x_valid[FEATS], y_valid)\n",
    "\n",
    "model5 = lgb.train(\n",
    "    params, \n",
    "    lgb_x_train,\n",
    "    valid_sets=[lgb_x_valid],\n",
    "    verbose_eval=100,\n",
    "    num_boost_round=3200,\n",
    "#     early_stopping_rounds=200,\n",
    ")\n",
    "\n",
    "preds = model5.predict(x_valid[FEATS])\n",
    "acc = accuracy_score(y_valid, np.where(preds >= 0.5, 1, 0))\n",
    "auc = roc_auc_score(y_valid, preds)\n",
    "\n",
    "print(f'VALID AUC : {auc} ACC : {acc}\\n')"
   ]
  },
  {
   "cell_type": "code",
   "execution_count": 5,
   "id": "0916c61e",
   "metadata": {
    "ExecuteTime": {
     "end_time": "2022-11-25T06:35:24.617988Z",
     "start_time": "2022-11-25T06:35:24.145833Z"
    }
   },
   "outputs": [],
   "source": [
    "post_slack(\"done\")"
   ]
  },
  {
   "cell_type": "code",
   "execution_count": 6,
   "id": "4fc084b0",
   "metadata": {
    "ExecuteTime": {
     "end_time": "2022-11-25T06:35:24.683018Z",
     "start_time": "2022-11-25T06:35:24.619706Z"
    }
   },
   "outputs": [
    {
     "name": "stdout",
     "output_type": "stream",
     "text": [
      "writing prediction : output/LGBM_Baseline_문제푼시간_추가_최대3600으로_time_category추가.csv\n"
     ]
    }
   ],
   "source": [
    "lgbm_predict(test, model5, FEATS, 'LGBM_Baseline_문제푼시간_추가_최대3600으로_time_category추가.csv')"
   ]
  },
  {
   "cell_type": "markdown",
   "id": "f5c5a2ce",
   "metadata": {},
   "source": [
    "## 문제푼 시간 3600초 이상 모두 3600으로 변환"
   ]
  },
  {
   "cell_type": "code",
   "execution_count": 24,
   "id": "0a1f3e7d",
   "metadata": {
    "ExecuteTime": {
     "end_time": "2022-11-25T05:54:22.277037Z",
     "start_time": "2022-11-25T05:48:15.716840Z"
    }
   },
   "outputs": [
    {
     "name": "stdout",
     "output_type": "stream",
     "text": [
      "[LightGBM] [Info] Number of positive: 1653588, number of negative: 872368\n",
      "[LightGBM] [Warning] Auto-choosing col-wise multi-threading, the overhead of testing was 0.229645 seconds.\n",
      "You can set `force_col_wise=true` to remove the overhead.\n",
      "[LightGBM] [Info] Total Bins 3095\n",
      "[LightGBM] [Info] Number of data points in the train set: 2525956, number of used features: 18\n",
      "[LightGBM] [Info] [binary:BoostFromScore]: pavg=0.654638 -> initscore=0.639491\n",
      "[LightGBM] [Info] Start training from score 0.639491\n",
      "[100]\tvalid_0's binary_logloss: 0.564848\n",
      "[200]\tvalid_0's binary_logloss: 0.556382\n",
      "[300]\tvalid_0's binary_logloss: 0.55063\n",
      "[400]\tvalid_0's binary_logloss: 0.543942\n",
      "[500]\tvalid_0's binary_logloss: 0.5388\n",
      "[600]\tvalid_0's binary_logloss: 0.534408\n",
      "[700]\tvalid_0's binary_logloss: 0.52949\n",
      "[800]\tvalid_0's binary_logloss: 0.527017\n",
      "[900]\tvalid_0's binary_logloss: 0.525339\n",
      "[1000]\tvalid_0's binary_logloss: 0.521399\n",
      "[1100]\tvalid_0's binary_logloss: 0.51872\n",
      "[1200]\tvalid_0's binary_logloss: 0.516894\n",
      "[1300]\tvalid_0's binary_logloss: 0.514611\n",
      "[1400]\tvalid_0's binary_logloss: 0.513112\n",
      "[1500]\tvalid_0's binary_logloss: 0.510259\n",
      "[1600]\tvalid_0's binary_logloss: 0.508379\n",
      "[1700]\tvalid_0's binary_logloss: 0.507352\n",
      "[1800]\tvalid_0's binary_logloss: 0.50577\n",
      "[1900]\tvalid_0's binary_logloss: 0.504464\n",
      "[2000]\tvalid_0's binary_logloss: 0.502731\n",
      "[2100]\tvalid_0's binary_logloss: 0.501478\n",
      "[2200]\tvalid_0's binary_logloss: 0.499989\n",
      "[2300]\tvalid_0's binary_logloss: 0.498648\n",
      "[2400]\tvalid_0's binary_logloss: 0.497801\n",
      "[2500]\tvalid_0's binary_logloss: 0.496543\n",
      "[2600]\tvalid_0's binary_logloss: 0.495574\n",
      "[2700]\tvalid_0's binary_logloss: 0.494911\n",
      "[2800]\tvalid_0's binary_logloss: 0.49344\n",
      "[2900]\tvalid_0's binary_logloss: 0.49251\n",
      "[3000]\tvalid_0's binary_logloss: 0.491055\n",
      "[3100]\tvalid_0's binary_logloss: 0.490278\n",
      "[3200]\tvalid_0's binary_logloss: 0.489086\n",
      "VALID AUC : 0.8518130159625296 ACC : 0.7636003956478734\n",
      "\n"
     ]
    }
   ],
   "source": [
    "lgb_x_train = lgb.Dataset(x_train[FEATS], y_train)\n",
    "lgb_x_valid = lgb.Dataset(x_valid[FEATS], y_valid)\n",
    "\n",
    "model4 = lgb.train(\n",
    "    params, \n",
    "    lgb_x_train,\n",
    "    valid_sets=[lgb_x_valid],\n",
    "    verbose_eval=100,\n",
    "    num_boost_round=3200,\n",
    "#     early_stopping_rounds=200,\n",
    ")\n",
    "\n",
    "preds = model4.predict(x_valid[FEATS])\n",
    "acc = accuracy_score(y_valid, np.where(preds >= 0.5, 1, 0))\n",
    "auc = roc_auc_score(y_valid, preds)\n",
    "\n",
    "print(f'VALID AUC : {auc} ACC : {acc}\\n')"
   ]
  },
  {
   "cell_type": "code",
   "execution_count": 7,
   "id": "ab57ab8f",
   "metadata": {
    "ExecuteTime": {
     "end_time": "2022-11-25T06:39:07.911597Z",
     "start_time": "2022-11-25T06:35:24.687927Z"
    }
   },
   "outputs": [
    {
     "data": {
      "text/plain": [
       "((2525956, 24), (2007, 24))"
      ]
     },
     "execution_count": 7,
     "metadata": {},
     "output_type": "execute_result"
    },
    {
     "name": "stdout",
     "output_type": "stream",
     "text": [
      "[LightGBM] [Info] Number of positive: 1653588, number of negative: 872368\n",
      "[LightGBM] [Warning] Auto-choosing row-wise multi-threading, the overhead of testing was 0.039673 seconds.\n",
      "You can set `force_row_wise=true` to remove the overhead.\n",
      "And if memory is not enough, you can set `force_col_wise=true`.\n",
      "[LightGBM] [Info] Total Bins 3095\n",
      "[LightGBM] [Info] Number of data points in the train set: 2525956, number of used features: 18\n",
      "[LightGBM] [Info] [binary:BoostFromScore]: pavg=0.654638 -> initscore=0.639491\n",
      "[LightGBM] [Info] Start training from score 0.639491\n",
      "[100]\tvalid_0's binary_logloss: 0.583624\n",
      "[200]\tvalid_0's binary_logloss: 0.575627\n",
      "[300]\tvalid_0's binary_logloss: 0.57101\n",
      "[400]\tvalid_0's binary_logloss: 0.565064\n",
      "[500]\tvalid_0's binary_logloss: 0.560446\n",
      "[600]\tvalid_0's binary_logloss: 0.557313\n",
      "[700]\tvalid_0's binary_logloss: 0.553471\n",
      "[800]\tvalid_0's binary_logloss: 0.549933\n",
      "[900]\tvalid_0's binary_logloss: 0.54842\n",
      "[1000]\tvalid_0's binary_logloss: 0.54517\n",
      "[1100]\tvalid_0's binary_logloss: 0.542667\n",
      "[1200]\tvalid_0's binary_logloss: 0.541443\n",
      "[1300]\tvalid_0's binary_logloss: 0.539426\n",
      "[1400]\tvalid_0's binary_logloss: 0.538001\n",
      "[1500]\tvalid_0's binary_logloss: 0.535958\n",
      "[1600]\tvalid_0's binary_logloss: 0.534014\n",
      "[1700]\tvalid_0's binary_logloss: 0.532549\n",
      "[1800]\tvalid_0's binary_logloss: 0.531329\n",
      "[1900]\tvalid_0's binary_logloss: 0.530424\n",
      "[2000]\tvalid_0's binary_logloss: 0.528613\n",
      "[2100]\tvalid_0's binary_logloss: 0.527612\n",
      "[2200]\tvalid_0's binary_logloss: 0.526203\n",
      "[2300]\tvalid_0's binary_logloss: 0.524693\n",
      "[2400]\tvalid_0's binary_logloss: 0.523949\n",
      "[2500]\tvalid_0's binary_logloss: 0.522735\n",
      "[2600]\tvalid_0's binary_logloss: 0.521341\n",
      "[2700]\tvalid_0's binary_logloss: 0.52062\n",
      "[2800]\tvalid_0's binary_logloss: 0.519438\n",
      "[2900]\tvalid_0's binary_logloss: 0.518638\n",
      "[3000]\tvalid_0's binary_logloss: 0.517614\n",
      "[3100]\tvalid_0's binary_logloss: 0.516685\n",
      "[3200]\tvalid_0's binary_logloss: 0.516003\n",
      "VALID AUC : 0.8232269926455973 ACC : 0.752366716492277\n",
      "\n",
      "writing prediction : output/LGBM_Baseline_문제푼시간_추가_3600초이상모두3600으로.csv\n"
     ]
    }
   ],
   "source": [
    "# 사용할 Feature 설정\n",
    "FEATS = ['KnowledgeTag',\n",
    "         'user_correct_answer',\n",
    "         'user_total_answer',\n",
    "         'big_category',\n",
    "         'mid_category',\n",
    "         'problem_num',\n",
    "         'month','day','dayname','hour',\n",
    "         'user_acc',\n",
    "         'test_mean',\n",
    "         'test_sum',\n",
    "         'test_std',\n",
    "         'tag_std',\n",
    "         'tag_mean',\n",
    "         'tag_sum',\n",
    "         'solvesec'\n",
    "        ]\n",
    "\n",
    "x_train.shape, x_valid.shape\n",
    "\n",
    "lgb_x_train = lgb.Dataset(x_train[FEATS], y_train)\n",
    "lgb_x_valid = lgb.Dataset(x_valid[FEATS], y_valid)\n",
    "\n",
    "model4 = lgb.train(\n",
    "    params, \n",
    "    lgb_x_train,\n",
    "    valid_sets=[lgb_x_valid],\n",
    "    verbose_eval=100,\n",
    "    num_boost_round=3200,\n",
    "#     early_stopping_rounds=200,\n",
    ")\n",
    "\n",
    "preds = model4.predict(x_valid[FEATS])\n",
    "acc = accuracy_score(y_valid, np.where(preds >= 0.5, 1, 0))\n",
    "auc = roc_auc_score(y_valid, preds)\n",
    "\n",
    "print(f'VALID AUC : {auc} ACC : {acc}\\n')\n",
    "\n",
    "post_slack(\"done\")\n",
    "lgbm_predict(test, model4, FEATS, 'LGBM_Baseline_문제푼시간_추가_3600초이상모두3600으로.csv')"
   ]
  },
  {
   "cell_type": "markdown",
   "id": "cbb815f4",
   "metadata": {},
   "source": [
    "## 문제푼 시간 4800초 이상 모두 4800초로 변환"
   ]
  },
  {
   "cell_type": "code",
   "execution_count": 17,
   "id": "4f56f411",
   "metadata": {
    "ExecuteTime": {
     "end_time": "2022-11-25T05:44:02.293592Z",
     "start_time": "2022-11-25T05:38:51.518242Z"
    }
   },
   "outputs": [
    {
     "name": "stdout",
     "output_type": "stream",
     "text": [
      "[LightGBM] [Info] Number of positive: 1653588, number of negative: 872368\n",
      "[LightGBM] [Warning] Auto-choosing row-wise multi-threading, the overhead of testing was 0.063728 seconds.\n",
      "You can set `force_row_wise=true` to remove the overhead.\n",
      "And if memory is not enough, you can set `force_col_wise=true`.\n",
      "[LightGBM] [Info] Total Bins 3095\n",
      "[LightGBM] [Info] Number of data points in the train set: 2525956, number of used features: 18\n",
      "[LightGBM] [Info] [binary:BoostFromScore]: pavg=0.654638 -> initscore=0.639491\n",
      "[LightGBM] [Info] Start training from score 0.639491\n",
      "[100]\tvalid_0's binary_logloss: 0.570995\n",
      "[200]\tvalid_0's binary_logloss: 0.563762\n",
      "[300]\tvalid_0's binary_logloss: 0.558203\n",
      "[400]\tvalid_0's binary_logloss: 0.551398\n",
      "[500]\tvalid_0's binary_logloss: 0.546308\n",
      "[600]\tvalid_0's binary_logloss: 0.542565\n",
      "[700]\tvalid_0's binary_logloss: 0.5393\n",
      "[800]\tvalid_0's binary_logloss: 0.535955\n",
      "[900]\tvalid_0's binary_logloss: 0.533331\n",
      "[1000]\tvalid_0's binary_logloss: 0.531025\n",
      "[1100]\tvalid_0's binary_logloss: 0.528364\n",
      "[1200]\tvalid_0's binary_logloss: 0.525734\n",
      "[1300]\tvalid_0's binary_logloss: 0.524037\n",
      "[1400]\tvalid_0's binary_logloss: 0.522081\n",
      "[1500]\tvalid_0's binary_logloss: 0.520172\n",
      "[1600]\tvalid_0's binary_logloss: 0.519123\n",
      "[1700]\tvalid_0's binary_logloss: 0.51747\n",
      "[1800]\tvalid_0's binary_logloss: 0.516012\n",
      "[1900]\tvalid_0's binary_logloss: 0.514997\n",
      "[2000]\tvalid_0's binary_logloss: 0.513749\n",
      "[2100]\tvalid_0's binary_logloss: 0.511996\n",
      "[2200]\tvalid_0's binary_logloss: 0.51121\n",
      "[2300]\tvalid_0's binary_logloss: 0.510247\n",
      "[2400]\tvalid_0's binary_logloss: 0.509266\n",
      "[2500]\tvalid_0's binary_logloss: 0.508404\n",
      "[2600]\tvalid_0's binary_logloss: 0.507826\n",
      "[2700]\tvalid_0's binary_logloss: 0.506466\n",
      "[2800]\tvalid_0's binary_logloss: 0.505277\n",
      "[2900]\tvalid_0's binary_logloss: 0.503978\n",
      "[3000]\tvalid_0's binary_logloss: 0.503346\n",
      "[3100]\tvalid_0's binary_logloss: 0.502099\n",
      "[3200]\tvalid_0's binary_logloss: 0.501158\n",
      "VALID AUC : 0.8345549955837273 ACC : 0.7549668874172185\n",
      "\n"
     ]
    }
   ],
   "source": [
    "lgb_x_train = lgb.Dataset(x_train[FEATS], y_train)\n",
    "lgb_x_valid = lgb.Dataset(x_valid[FEATS], y_valid)\n",
    "\n",
    "model3 = lgb.train(\n",
    "    params, \n",
    "    lgb_x_train,\n",
    "    valid_sets=[lgb_x_valid],\n",
    "    verbose_eval=100,\n",
    "    num_boost_round=3200,\n",
    "#     early_stopping_rounds=200,\n",
    ")\n",
    "\n",
    "preds = model3.predict(x_valid[FEATS])\n",
    "acc = accuracy_score(y_valid, np.where(preds >= 0.5, 1, 0))\n",
    "auc = roc_auc_score(y_valid, preds)\n",
    "\n",
    "print(f'VALID AUC : {auc} ACC : {acc}\\n')"
   ]
  },
  {
   "cell_type": "code",
   "execution_count": 18,
   "id": "cd1fcaf7",
   "metadata": {
    "ExecuteTime": {
     "end_time": "2022-11-25T05:44:02.921279Z",
     "start_time": "2022-11-25T05:44:02.298120Z"
    }
   },
   "outputs": [],
   "source": [
    "post_slack(\"done\")"
   ]
  },
  {
   "cell_type": "code",
   "execution_count": 19,
   "id": "957e0290",
   "metadata": {
    "ExecuteTime": {
     "end_time": "2022-11-25T05:44:32.173043Z",
     "start_time": "2022-11-25T05:44:32.060162Z"
    }
   },
   "outputs": [
    {
     "name": "stdout",
     "output_type": "stream",
     "text": [
      "writing prediction : output/LGBM_Baseline_문제푼시간_추가_4800초로수렴.csv\n"
     ]
    }
   ],
   "source": [
    "lgbm_predict(test, model2, FEATS, 'LGBM_Baseline_문제푼시간_추가_4800초로수렴.csv')"
   ]
  },
  {
   "cell_type": "markdown",
   "id": "caf9e8fe",
   "metadata": {},
   "source": [
    "## 문제푼 시간 초로만 추가한 것"
   ]
  },
  {
   "cell_type": "code",
   "execution_count": 5,
   "id": "46c64e7c",
   "metadata": {
    "ExecuteTime": {
     "end_time": "2022-11-25T05:54:22.277037Z",
     "start_time": "2022-11-25T05:48:15.716840Z"
    }
   },
   "outputs": [
    {
     "name": "stdout",
     "output_type": "stream",
     "text": [
      "[LightGBM] [Info] Number of positive: 1653588, number of negative: 872368\n",
      "[LightGBM] [Warning] Auto-choosing row-wise multi-threading, the overhead of testing was 0.069061 seconds.\n",
      "You can set `force_row_wise=true` to remove the overhead.\n",
      "And if memory is not enough, you can set `force_col_wise=true`.\n",
      "[LightGBM] [Info] Total Bins 3095\n",
      "[LightGBM] [Info] Number of data points in the train set: 2525956, number of used features: 18\n",
      "[LightGBM] [Info] [binary:BoostFromScore]: pavg=0.654638 -> initscore=0.639491\n",
      "[LightGBM] [Info] Start training from score 0.639491\n",
      "[100]\tvalid_0's binary_logloss: 0.582419\n",
      "[200]\tvalid_0's binary_logloss: 0.575168\n",
      "[300]\tvalid_0's binary_logloss: 0.568893\n",
      "[400]\tvalid_0's binary_logloss: 0.563229\n",
      "[500]\tvalid_0's binary_logloss: 0.559829\n",
      "[600]\tvalid_0's binary_logloss: 0.556637\n",
      "[700]\tvalid_0's binary_logloss: 0.553144\n",
      "[800]\tvalid_0's binary_logloss: 0.550667\n",
      "[900]\tvalid_0's binary_logloss: 0.548314\n",
      "[1000]\tvalid_0's binary_logloss: 0.546135\n",
      "[1100]\tvalid_0's binary_logloss: 0.542614\n",
      "[1200]\tvalid_0's binary_logloss: 0.540631\n",
      "[1300]\tvalid_0's binary_logloss: 0.539541\n",
      "[1400]\tvalid_0's binary_logloss: 0.537865\n",
      "[1500]\tvalid_0's binary_logloss: 0.536437\n",
      "[1600]\tvalid_0's binary_logloss: 0.534883\n",
      "[1700]\tvalid_0's binary_logloss: 0.532909\n",
      "[1800]\tvalid_0's binary_logloss: 0.531226\n",
      "[1900]\tvalid_0's binary_logloss: 0.530395\n",
      "[2000]\tvalid_0's binary_logloss: 0.528694\n",
      "[2100]\tvalid_0's binary_logloss: 0.527385\n",
      "[2200]\tvalid_0's binary_logloss: 0.5261\n",
      "[2300]\tvalid_0's binary_logloss: 0.52483\n",
      "[2400]\tvalid_0's binary_logloss: 0.524006\n",
      "[2500]\tvalid_0's binary_logloss: 0.522985\n",
      "[2600]\tvalid_0's binary_logloss: 0.521911\n",
      "[2700]\tvalid_0's binary_logloss: 0.519999\n",
      "[2800]\tvalid_0's binary_logloss: 0.519164\n",
      "[2900]\tvalid_0's binary_logloss: 0.518294\n",
      "[3000]\tvalid_0's binary_logloss: 0.517839\n",
      "[3100]\tvalid_0's binary_logloss: 0.516759\n",
      "[3200]\tvalid_0's binary_logloss: 0.515955\n",
      "VALID AUC : 0.8229596501689525 ACC : 0.7448928749377179\n",
      "\n"
     ]
    }
   ],
   "source": [
    "lgb_x_train = lgb.Dataset(x_train[FEATS], y_train)\n",
    "lgb_x_valid = lgb.Dataset(x_valid[FEATS], y_valid)\n",
    "\n",
    "model2 = lgb.train(\n",
    "    params, \n",
    "    lgb_x_train,\n",
    "    valid_sets=[lgb_x_valid],\n",
    "    verbose_eval=100,\n",
    "    num_boost_round=3200,\n",
    "#     early_stopping_rounds=200,\n",
    ")\n",
    "\n",
    "preds = model2.predict(x_valid[FEATS])\n",
    "acc = accuracy_score(y_valid, np.where(preds >= 0.5, 1, 0))\n",
    "auc = roc_auc_score(y_valid, preds)\n",
    "\n",
    "print(f'VALID AUC : {auc} ACC : {acc}\\n')"
   ]
  },
  {
   "cell_type": "code",
   "execution_count": 6,
   "id": "72edf666",
   "metadata": {
    "ExecuteTime": {
     "end_time": "2022-11-25T05:28:28.521735Z",
     "start_time": "2022-11-25T05:28:28.010598Z"
    }
   },
   "outputs": [],
   "source": [
    "post_slack(\"done\")"
   ]
  },
  {
   "cell_type": "code",
   "execution_count": 5,
   "id": "f5d730f3",
   "metadata": {
    "ExecuteTime": {
     "end_time": "2022-11-24T18:01:10.198171Z",
     "start_time": "2022-11-24T17:37:25.877660Z"
    },
    "collapsed": true
   },
   "outputs": [
    {
     "name": "stdout",
     "output_type": "stream",
     "text": [
      "[100]\ttrain's auc: 0.757435\ttrain's binary_logloss: 0.546374\tvalid's auc: 0.70322\tvalid's binary_logloss: 0.62917\n",
      "[200]\ttrain's auc: 0.762059\ttrain's binary_logloss: 0.54251\tvalid's auc: 0.710404\tvalid's binary_logloss: 0.623287\n",
      "[300]\ttrain's auc: 0.766217\ttrain's binary_logloss: 0.539063\tvalid's auc: 0.714973\tvalid's binary_logloss: 0.619211\n",
      "[400]\ttrain's auc: 0.769646\ttrain's binary_logloss: 0.536233\tvalid's auc: 0.721349\tvalid's binary_logloss: 0.614343\n",
      "[500]\ttrain's auc: 0.772549\ttrain's binary_logloss: 0.533777\tvalid's auc: 0.724012\tvalid's binary_logloss: 0.611957\n",
      "[600]\ttrain's auc: 0.775027\ttrain's binary_logloss: 0.531641\tvalid's auc: 0.726944\tvalid's binary_logloss: 0.609731\n",
      "[700]\ttrain's auc: 0.777064\ttrain's binary_logloss: 0.52987\tvalid's auc: 0.729365\tvalid's binary_logloss: 0.607706\n",
      "[800]\ttrain's auc: 0.779319\ttrain's binary_logloss: 0.527932\tvalid's auc: 0.731309\tvalid's binary_logloss: 0.606041\n",
      "[900]\ttrain's auc: 0.781924\ttrain's binary_logloss: 0.525736\tvalid's auc: 0.734842\tvalid's binary_logloss: 0.602973\n",
      "[1000]\ttrain's auc: 0.784106\ttrain's binary_logloss: 0.52384\tvalid's auc: 0.737696\tvalid's binary_logloss: 0.600589\n",
      "[1100]\ttrain's auc: 0.786047\ttrain's binary_logloss: 0.522147\tvalid's auc: 0.738475\tvalid's binary_logloss: 0.599959\n",
      "[1200]\ttrain's auc: 0.787736\ttrain's binary_logloss: 0.520663\tvalid's auc: 0.740032\tvalid's binary_logloss: 0.598788\n",
      "[1300]\ttrain's auc: 0.789363\ttrain's binary_logloss: 0.519211\tvalid's auc: 0.741246\tvalid's binary_logloss: 0.597546\n",
      "[1400]\ttrain's auc: 0.79084\ttrain's binary_logloss: 0.517914\tvalid's auc: 0.743147\tvalid's binary_logloss: 0.596049\n",
      "[1500]\ttrain's auc: 0.792362\ttrain's binary_logloss: 0.516551\tvalid's auc: 0.745241\tvalid's binary_logloss: 0.594231\n",
      "[1600]\ttrain's auc: 0.794101\ttrain's binary_logloss: 0.515003\tvalid's auc: 0.747032\tvalid's binary_logloss: 0.59271\n",
      "[1700]\ttrain's auc: 0.795673\ttrain's binary_logloss: 0.513581\tvalid's auc: 0.748808\tvalid's binary_logloss: 0.591353\n",
      "[1800]\ttrain's auc: 0.79734\ttrain's binary_logloss: 0.51208\tvalid's auc: 0.750607\tvalid's binary_logloss: 0.589962\n",
      "[1900]\ttrain's auc: 0.79889\ttrain's binary_logloss: 0.510675\tvalid's auc: 0.752945\tvalid's binary_logloss: 0.588152\n",
      "[2000]\ttrain's auc: 0.800254\ttrain's binary_logloss: 0.509435\tvalid's auc: 0.755409\tvalid's binary_logloss: 0.586006\n",
      "[2100]\ttrain's auc: 0.8016\ttrain's binary_logloss: 0.508184\tvalid's auc: 0.757177\tvalid's binary_logloss: 0.584419\n",
      "[2200]\ttrain's auc: 0.802766\ttrain's binary_logloss: 0.507109\tvalid's auc: 0.758257\tvalid's binary_logloss: 0.5834\n",
      "[2300]\ttrain's auc: 0.80407\ttrain's binary_logloss: 0.50592\tvalid's auc: 0.759662\tvalid's binary_logloss: 0.582021\n",
      "[2400]\ttrain's auc: 0.80515\ttrain's binary_logloss: 0.504909\tvalid's auc: 0.760882\tvalid's binary_logloss: 0.580891\n",
      "[2500]\ttrain's auc: 0.80649\ttrain's binary_logloss: 0.503658\tvalid's auc: 0.761869\tvalid's binary_logloss: 0.579854\n",
      "[2600]\ttrain's auc: 0.807743\ttrain's binary_logloss: 0.502486\tvalid's auc: 0.763921\tvalid's binary_logloss: 0.578097\n",
      "[2700]\ttrain's auc: 0.808958\ttrain's binary_logloss: 0.501356\tvalid's auc: 0.765211\tvalid's binary_logloss: 0.576963\n",
      "[2800]\ttrain's auc: 0.810033\ttrain's binary_logloss: 0.500339\tvalid's auc: 0.766704\tvalid's binary_logloss: 0.575516\n",
      "[2900]\ttrain's auc: 0.811167\ttrain's binary_logloss: 0.499253\tvalid's auc: 0.768721\tvalid's binary_logloss: 0.573862\n",
      "[3000]\ttrain's auc: 0.812343\ttrain's binary_logloss: 0.49816\tvalid's auc: 0.769462\tvalid's binary_logloss: 0.573233\n",
      "[3100]\ttrain's auc: 0.813419\ttrain's binary_logloss: 0.497141\tvalid's auc: 0.771061\tvalid's binary_logloss: 0.572004\n",
      "[3200]\ttrain's auc: 0.814484\ttrain's binary_logloss: 0.496123\tvalid's auc: 0.772221\tvalid's binary_logloss: 0.570755\n"
     ]
    },
    {
     "data": {
      "text/html": [
       "<style>#sk-container-id-2 {color: black;background-color: white;}#sk-container-id-2 pre{padding: 0;}#sk-container-id-2 div.sk-toggleable {background-color: white;}#sk-container-id-2 label.sk-toggleable__label {cursor: pointer;display: block;width: 100%;margin-bottom: 0;padding: 0.3em;box-sizing: border-box;text-align: center;}#sk-container-id-2 label.sk-toggleable__label-arrow:before {content: \"▸\";float: left;margin-right: 0.25em;color: #696969;}#sk-container-id-2 label.sk-toggleable__label-arrow:hover:before {color: black;}#sk-container-id-2 div.sk-estimator:hover label.sk-toggleable__label-arrow:before {color: black;}#sk-container-id-2 div.sk-toggleable__content {max-height: 0;max-width: 0;overflow: hidden;text-align: left;background-color: #f0f8ff;}#sk-container-id-2 div.sk-toggleable__content pre {margin: 0.2em;color: black;border-radius: 0.25em;background-color: #f0f8ff;}#sk-container-id-2 input.sk-toggleable__control:checked~div.sk-toggleable__content {max-height: 200px;max-width: 100%;overflow: auto;}#sk-container-id-2 input.sk-toggleable__control:checked~label.sk-toggleable__label-arrow:before {content: \"▾\";}#sk-container-id-2 div.sk-estimator input.sk-toggleable__control:checked~label.sk-toggleable__label {background-color: #d4ebff;}#sk-container-id-2 div.sk-label input.sk-toggleable__control:checked~label.sk-toggleable__label {background-color: #d4ebff;}#sk-container-id-2 input.sk-hidden--visually {border: 0;clip: rect(1px 1px 1px 1px);clip: rect(1px, 1px, 1px, 1px);height: 1px;margin: -1px;overflow: hidden;padding: 0;position: absolute;width: 1px;}#sk-container-id-2 div.sk-estimator {font-family: monospace;background-color: #f0f8ff;border: 1px dotted black;border-radius: 0.25em;box-sizing: border-box;margin-bottom: 0.5em;}#sk-container-id-2 div.sk-estimator:hover {background-color: #d4ebff;}#sk-container-id-2 div.sk-parallel-item::after {content: \"\";width: 100%;border-bottom: 1px solid gray;flex-grow: 1;}#sk-container-id-2 div.sk-label:hover label.sk-toggleable__label {background-color: #d4ebff;}#sk-container-id-2 div.sk-serial::before {content: \"\";position: absolute;border-left: 1px solid gray;box-sizing: border-box;top: 0;bottom: 0;left: 50%;z-index: 0;}#sk-container-id-2 div.sk-serial {display: flex;flex-direction: column;align-items: center;background-color: white;padding-right: 0.2em;padding-left: 0.2em;position: relative;}#sk-container-id-2 div.sk-item {position: relative;z-index: 1;}#sk-container-id-2 div.sk-parallel {display: flex;align-items: stretch;justify-content: center;background-color: white;position: relative;}#sk-container-id-2 div.sk-item::before, #sk-container-id-2 div.sk-parallel-item::before {content: \"\";position: absolute;border-left: 1px solid gray;box-sizing: border-box;top: 0;bottom: 0;left: 50%;z-index: -1;}#sk-container-id-2 div.sk-parallel-item {display: flex;flex-direction: column;z-index: 1;position: relative;background-color: white;}#sk-container-id-2 div.sk-parallel-item:first-child::after {align-self: flex-end;width: 50%;}#sk-container-id-2 div.sk-parallel-item:last-child::after {align-self: flex-start;width: 50%;}#sk-container-id-2 div.sk-parallel-item:only-child::after {width: 0;}#sk-container-id-2 div.sk-dashed-wrapped {border: 1px dashed gray;margin: 0 0.4em 0.5em 0.4em;box-sizing: border-box;padding-bottom: 0.4em;background-color: white;}#sk-container-id-2 div.sk-label label {font-family: monospace;font-weight: bold;display: inline-block;line-height: 1.2em;}#sk-container-id-2 div.sk-label-container {text-align: center;}#sk-container-id-2 div.sk-container {/* jupyter's `normalize.less` sets `[hidden] { display: none; }` but bootstrap.min.css set `[hidden] { display: none !important; }` so we also need the `!important` here to be able to override the default hidden behavior on the sphinx rendered scikit-learn.org. See: https://github.com/scikit-learn/scikit-learn/issues/21755 */display: inline-block !important;position: relative;}#sk-container-id-2 div.sk-text-repr-fallback {display: none;}</style><div id=\"sk-container-id-2\" class=\"sk-top-container\"><div class=\"sk-text-repr-fallback\"><pre>LGBMClassifier(n_estimators=3200, objective=&#x27;binary&#x27;, seed=42, silent=-1)</pre><b>In a Jupyter environment, please rerun this cell to show the HTML representation or trust the notebook. <br />On GitHub, the HTML representation is unable to render, please try loading this page with nbviewer.org.</b></div><div class=\"sk-container\" hidden><div class=\"sk-item\"><div class=\"sk-estimator sk-toggleable\"><input class=\"sk-toggleable__control sk-hidden--visually\" id=\"sk-estimator-id-2\" type=\"checkbox\" checked><label for=\"sk-estimator-id-2\" class=\"sk-toggleable__label sk-toggleable__label-arrow\">LGBMClassifier</label><div class=\"sk-toggleable__content\"><pre>LGBMClassifier(n_estimators=3200, objective=&#x27;binary&#x27;, seed=42, silent=-1)</pre></div></div></div></div></div>"
      ],
      "text/plain": [
       "LGBMClassifier(n_estimators=3200, objective='binary', seed=42, silent=-1)"
      ]
     },
     "execution_count": 5,
     "metadata": {},
     "output_type": "execute_result"
    },
    {
     "name": "stdout",
     "output_type": "stream",
     "text": [
      "VALID AUC : 0.7722212283840191 ACC : 0.6925759840558047\n",
      "\n"
     ]
    }
   ],
   "source": [
    "model_auc.fit(\n",
    "    X=x_train[FEATS],\n",
    "    y=y_train,\n",
    "    early_stopping_rounds=1000,\n",
    "    eval_set=[(x_train[FEATS], y_train), (x_valid[FEATS], y_valid)],\n",
    "    eval_names=[\"train\", \"valid\"],\n",
    "    eval_metric=\"auc\",\n",
    "    verbose=100,\n",
    ")\n",
    "\n",
    "preds = model_auc.predict_proba(x_valid[FEATS])[:, 1]\n",
    "acc = accuracy_score(y_valid, np.where(preds >= 0.5, 1, 0))\n",
    "auc = roc_auc_score(y_valid, preds)\n",
    "print(f'VALID AUC : {auc} ACC : {acc}\\n')"
   ]
  },
  {
   "cell_type": "code",
   "execution_count": 8,
   "id": "ee487191",
   "metadata": {
    "ExecuteTime": {
     "end_time": "2022-11-24T18:02:25.061187Z",
     "start_time": "2022-11-24T18:02:24.975832Z"
    }
   },
   "outputs": [
    {
     "name": "stdout",
     "output_type": "stream",
     "text": [
      "writing prediction : output/LGBM_Baseline_학습데이터변경.csv\n"
     ]
    }
   ],
   "source": [
    "lgbm_predict(test, model_auc, FEATS, 'LGBM_Baseline_학습데이터변경.csv')"
   ]
  },
  {
   "cell_type": "code",
   "execution_count": 7,
   "id": "e799d0df",
   "metadata": {
    "ExecuteTime": {
     "end_time": "2022-11-25T05:29:09.661551Z",
     "start_time": "2022-11-25T05:29:09.568692Z"
    }
   },
   "outputs": [
    {
     "name": "stdout",
     "output_type": "stream",
     "text": [
      "writing prediction : output/LGBM_Baseline_문제푼시간_추가.csv\n"
     ]
    }
   ],
   "source": [
    "lgbm_predict(test, model2, FEATS, 'LGBM_Baseline_문제푼시간_추가.csv')"
   ]
  },
  {
   "cell_type": "code",
   "execution_count": 21,
   "id": "4ec1ead4",
   "metadata": {
    "ExecuteTime": {
     "end_time": "2022-11-24T18:14:22.901860Z",
     "start_time": "2022-11-24T18:14:22.894693Z"
    }
   },
   "outputs": [],
   "source": [
    "d4 = pd.read_csv('output/LGBM_Baseline_학습데이터변경_logloss_기존7627.csv')"
   ]
  }
 ],
 "metadata": {
  "kernelspec": {
   "display_name": "Python 3 (ipykernel)",
   "language": "python",
   "name": "python3"
  },
  "language_info": {
   "codemirror_mode": {
    "name": "ipython",
    "version": 3
   },
   "file_extension": ".py",
   "mimetype": "text/x-python",
   "name": "python",
   "nbconvert_exporter": "python",
   "pygments_lexer": "ipython3",
   "version": "3.9.15"
  },
  "toc": {
   "base_numbering": 1,
   "nav_menu": {},
   "number_sections": true,
   "sideBar": true,
   "skip_h1_title": true,
   "title_cell": "Table of Contents",
   "title_sidebar": "Contents",
   "toc_cell": false,
   "toc_position": {
    "height": "calc(100% - 180px)",
    "left": "10px",
    "top": "150px",
    "width": "384px"
   },
   "toc_section_display": true,
   "toc_window_display": true
  }
 },
 "nbformat": 4,
 "nbformat_minor": 5
}
