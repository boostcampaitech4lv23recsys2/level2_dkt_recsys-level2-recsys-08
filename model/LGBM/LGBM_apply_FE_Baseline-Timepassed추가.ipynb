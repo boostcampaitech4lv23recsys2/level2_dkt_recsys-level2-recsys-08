{
 "cells": [
  {
   "cell_type": "markdown",
   "id": "1a73ded2",
   "metadata": {},
   "source": [
    "## dataload"
   ]
  },
  {
   "cell_type": "code",
   "execution_count": 7,
   "id": "464cf792",
   "metadata": {
    "ExecuteTime": {
     "end_time": "2022-11-30T14:30:43.683570Z",
     "start_time": "2022-11-30T14:30:39.640158Z"
    }
   },
   "outputs": [
    {
     "data": {
      "text/plain": [
       "((1845539, 38), (1974, 38), (260114, 38))"
      ]
     },
     "execution_count": 7,
     "metadata": {},
     "output_type": "execute_result"
    },
    {
     "data": {
      "text/plain": [
       "((1845539, 37), (1845539, 1), (1974, 37), (1974, 1))"
      ]
     },
     "execution_count": 7,
     "metadata": {},
     "output_type": "execute_result"
    }
   ],
   "source": [
    "import mlflow\n",
    "import mlflow.lightgbm\n",
    "from datetime import datetime\n",
    "from IPython.core.interactiveshell import InteractiveShell\n",
    "InteractiveShell.ast_node_interactivity = 'all'\n",
    "import pandas as pd\n",
    "import os\n",
    "import random\n",
    "import warnings\n",
    "warnings.filterwarnings('ignore')\n",
    "import lightgbm as lgb\n",
    "from sklearn.metrics import roc_auc_score\n",
    "from sklearn.metrics import accuracy_score\n",
    "import numpy as np\n",
    "from utils import custom_train_test_split, lgbm_predict, post_slack, title2filename\n",
    "\n",
    "SEED=13\n",
    "## 1. 데이터 로딩\n",
    "data_dir = '/opt/ml/input/data' # 경로\n",
    "after_fe_path = os.path.join(data_dir, 'after_fe_train_test_timepass.pkl')\n",
    "df = pd.read_pickle(after_fe_path)\n",
    "\n",
    "train_df = df[df.kind=='train']\n",
    "train, valid = custom_train_test_split(train_df, ratio=0.7, seed=SEED) # 훈련데이터 split\n",
    "test = df[df.kind=='test'] # 테스트 데이터\n",
    "train2 = test[test.answerCode!=-1] # 테스트데이터 마지막 제출 2번쨰꺼까지 훈련데이터로 사용\n",
    "train = pd.concat([train,train2]) # 훈련데이터 병합\n",
    "train.shape, valid.shape, test.shape\n",
    "\n",
    "x_train = train.drop('answerCode',axis=1)\n",
    "y_train = train[['answerCode']]\n",
    "\n",
    "x_valid = valid.drop('answerCode',axis=1)\n",
    "y_valid = valid[['answerCode']]\n",
    "x_train.shape, y_train.shape, x_valid.shape, y_valid.shape"
   ]
  },
  {
   "cell_type": "markdown",
   "id": "5cc103e3",
   "metadata": {},
   "source": [
    "## Hyper Parameter 설정"
   ]
  },
  {
   "cell_type": "code",
   "execution_count": 2,
   "id": "a5bb8a1a",
   "metadata": {
    "ExecuteTime": {
     "end_time": "2022-11-30T13:51:07.455575Z",
     "start_time": "2022-11-30T13:51:07.452528Z"
    }
   },
   "outputs": [],
   "source": [
    "# Hyper parameter 설정\n",
    "params = {\n",
    "#     \"max_depth\": 8,  # 8,\n",
    "#     \"min_data_in_leaf\": 1000,\n",
    "    # \"feature_fraction\": 0.6,  # 0.8,\n",
    "#     \"bagging_fraction\": 0.75,\n",
    "    # \"max_cat_group\": 64,\n",
    "    \"objective\": \"binary\",\n",
    "#     \"boosting\": \"gbdt\",  # dart\n",
    "#     \"learning_rate\": 0.01,  # 0.01,\n",
    "    # \"bagging_freq\": 5,\n",
    "    \"seed\": 42,\n",
    "    # \"max_bin\": 50,\n",
    "#     \"num_leaves\": 80,  # 40,\n",
    "#     \"metric\": \"auc\",\n",
    "}"
   ]
  },
  {
   "cell_type": "code",
   "execution_count": 5,
   "id": "40ff1ad5",
   "metadata": {
    "ExecuteTime": {
     "end_time": "2022-11-30T14:23:42.271012Z",
     "start_time": "2022-11-30T14:23:42.252474Z"
    }
   },
   "outputs": [
    {
     "data": {
      "text/html": [
       "<div>\n",
       "<style scoped>\n",
       "    .dataframe tbody tr th:only-of-type {\n",
       "        vertical-align: middle;\n",
       "    }\n",
       "\n",
       "    .dataframe tbody tr th {\n",
       "        vertical-align: top;\n",
       "    }\n",
       "\n",
       "    .dataframe thead th {\n",
       "        text-align: right;\n",
       "    }\n",
       "</style>\n",
       "<table border=\"1\" class=\"dataframe\">\n",
       "  <thead>\n",
       "    <tr style=\"text-align: right;\">\n",
       "      <th></th>\n",
       "      <th>userID</th>\n",
       "      <th>assessmentItemID</th>\n",
       "      <th>testId</th>\n",
       "      <th>Timestamp</th>\n",
       "      <th>KnowledgeTag</th>\n",
       "      <th>kind</th>\n",
       "      <th>uidIdx</th>\n",
       "      <th>assIdx</th>\n",
       "      <th>testIdx</th>\n",
       "      <th>user_correct_answer</th>\n",
       "      <th>...</th>\n",
       "      <th>solvesec</th>\n",
       "      <th>solvesec_3600</th>\n",
       "      <th>time_category</th>\n",
       "      <th>solvesec_cumsum</th>\n",
       "      <th>solvecumsum_category</th>\n",
       "      <th>Time</th>\n",
       "      <th>cnt</th>\n",
       "      <th>assess_count</th>\n",
       "      <th>Timediff</th>\n",
       "      <th>Timepassed</th>\n",
       "    </tr>\n",
       "  </thead>\n",
       "  <tbody>\n",
       "    <tr>\n",
       "      <th>1678</th>\n",
       "      <td>2</td>\n",
       "      <td>A030050001</td>\n",
       "      <td>A030000050</td>\n",
       "      <td>2020-01-10 11:02:53</td>\n",
       "      <td>407</td>\n",
       "      <td>train</td>\n",
       "      <td>2</td>\n",
       "      <td>2258</td>\n",
       "      <td>435</td>\n",
       "      <td>NaN</td>\n",
       "      <td>...</td>\n",
       "      <td>0.0</td>\n",
       "      <td>0.0</td>\n",
       "      <td>0</td>\n",
       "      <td>0.0</td>\n",
       "      <td>0</td>\n",
       "      <td>1578621773</td>\n",
       "      <td>1</td>\n",
       "      <td>1</td>\n",
       "      <td>0</td>\n",
       "      <td>0</td>\n",
       "    </tr>\n",
       "    <tr>\n",
       "      <th>1679</th>\n",
       "      <td>2</td>\n",
       "      <td>A030050002</td>\n",
       "      <td>A030000050</td>\n",
       "      <td>2020-01-10 11:03:45</td>\n",
       "      <td>407</td>\n",
       "      <td>train</td>\n",
       "      <td>2</td>\n",
       "      <td>2259</td>\n",
       "      <td>435</td>\n",
       "      <td>1.0</td>\n",
       "      <td>...</td>\n",
       "      <td>52.0</td>\n",
       "      <td>52.0</td>\n",
       "      <td>4</td>\n",
       "      <td>52.0</td>\n",
       "      <td>4</td>\n",
       "      <td>1578621825</td>\n",
       "      <td>1</td>\n",
       "      <td>1</td>\n",
       "      <td>52</td>\n",
       "      <td>52</td>\n",
       "    </tr>\n",
       "  </tbody>\n",
       "</table>\n",
       "<p>2 rows × 37 columns</p>\n",
       "</div>"
      ],
      "text/plain": [
       "      userID assessmentItemID      testId            Timestamp  KnowledgeTag  \\\n",
       "1678       2       A030050001  A030000050  2020-01-10 11:02:53           407   \n",
       "1679       2       A030050002  A030000050  2020-01-10 11:03:45           407   \n",
       "\n",
       "       kind  uidIdx  assIdx  testIdx  user_correct_answer  ...  solvesec  \\\n",
       "1678  train       2    2258      435                  NaN  ...       0.0   \n",
       "1679  train       2    2259      435                  1.0  ...      52.0   \n",
       "\n",
       "      solvesec_3600  time_category  solvesec_cumsum  solvecumsum_category  \\\n",
       "1678            0.0              0              0.0                     0   \n",
       "1679           52.0              4             52.0                     4   \n",
       "\n",
       "            Time  cnt  assess_count  Timediff  Timepassed  \n",
       "1678  1578621773    1             1         0           0  \n",
       "1679  1578621825    1             1        52          52  \n",
       "\n",
       "[2 rows x 37 columns]"
      ]
     },
     "execution_count": 5,
     "metadata": {},
     "output_type": "execute_result"
    }
   ],
   "source": [
    "x_train[:2]"
   ]
  },
  {
   "cell_type": "markdown",
   "id": "40d41c54",
   "metadata": {},
   "source": [
    "## solvesec3600 대신 Timediff 써보기"
   ]
  },
  {
   "cell_type": "code",
   "execution_count": 9,
   "id": "2760def1",
   "metadata": {
    "ExecuteTime": {
     "end_time": "2022-11-30T14:37:20.257566Z",
     "start_time": "2022-11-30T14:34:50.855840Z"
    },
    "scrolled": true
   },
   "outputs": [
    {
     "data": {
      "text/plain": [
       "([0, 1, 2, 3, 6, 7, 8, 9, 11, 21, 23],\n",
       " '🌈(11/30 Wed)[LGBM solvesec3600대신에 Timediff] 피처: 24개',\n",
       " '사용된 피처(24)\\nuidIdx, assIdx, testIdx, KnowledgeTag, user_correct_answer, user_total_answer, big_category, mid_category, problem_num, month, day, dayname, hour, user_acc, test_mean, test_sum, test_std, tag_std, tag_mean, tag_sum, Timediff, time_category, solvesec_cumsum, solvecumsum_category')"
      ]
     },
     "execution_count": 9,
     "metadata": {},
     "output_type": "execute_result"
    },
    {
     "name": "stdout",
     "output_type": "stream",
     "text": [
      "[LightGBM] [Info] Number of positive: 1208276, number of negative: 637263\n",
      "[LightGBM] [Warning] Auto-choosing row-wise multi-threading, the overhead of testing was 0.024886 seconds.\n",
      "You can set `force_row_wise=true` to remove the overhead.\n",
      "And if memory is not enough, you can set `force_col_wise=true`.\n",
      "[LightGBM] [Info] Total Bins 19041\n",
      "[LightGBM] [Info] Number of data points in the train set: 1845539, number of used features: 24\n",
      "[LightGBM] [Info] [binary:BoostFromScore]: pavg=0.654701 -> initscore=0.639767\n",
      "[LightGBM] [Info] Start training from score 0.639767\n",
      "[100]\tvalid_0's binary_logloss: 0.562345\n",
      "[200]\tvalid_0's binary_logloss: 0.555308\n",
      "[300]\tvalid_0's binary_logloss: 0.552404\n",
      "[400]\tvalid_0's binary_logloss: 0.551248\n",
      "[500]\tvalid_0's binary_logloss: 0.55031\n",
      "[600]\tvalid_0's binary_logloss: 0.550454\n",
      "[700]\tvalid_0's binary_logloss: 0.550428\n",
      "[800]\tvalid_0's binary_logloss: 0.549509\n",
      "[900]\tvalid_0's binary_logloss: 0.549918\n",
      "[1000]\tvalid_0's binary_logloss: 0.54988\n",
      "[1100]\tvalid_0's binary_logloss: 0.550191\n",
      "[1200]\tvalid_0's binary_logloss: 0.550316\n",
      "[1300]\tvalid_0's binary_logloss: 0.550611\n",
      "[1400]\tvalid_0's binary_logloss: 0.551242\n",
      "[1500]\tvalid_0's binary_logloss: 0.551892\n",
      "[1600]\tvalid_0's binary_logloss: 0.552422\n",
      "[1700]\tvalid_0's binary_logloss: 0.552788\n",
      "[1800]\tvalid_0's binary_logloss: 0.553029\n",
      "[1900]\tvalid_0's binary_logloss: 0.553518\n",
      "[2000]\tvalid_0's binary_logloss: 0.553615\n",
      "[2100]\tvalid_0's binary_logloss: 0.5539\n",
      "[2200]\tvalid_0's binary_logloss: 0.554098\n",
      "[2300]\tvalid_0's binary_logloss: 0.554041\n",
      "[2400]\tvalid_0's binary_logloss: 0.554547\n",
      "[2500]\tvalid_0's binary_logloss: 0.55487\n",
      "[2600]\tvalid_0's binary_logloss: 0.554913\n",
      "[2700]\tvalid_0's binary_logloss: 0.554988\n",
      "[2800]\tvalid_0's binary_logloss: 0.554972\n",
      "[2900]\tvalid_0's binary_logloss: 0.554928\n",
      "[3000]\tvalid_0's binary_logloss: 0.554911\n",
      "[3100]\tvalid_0's binary_logloss: 0.554636\n",
      "[3200]\tvalid_0's binary_logloss: 0.554838\n",
      "VALID AUC : 0.7908756315936734 ACC : 0.720871327254306\n",
      "\n",
      "36b1a803d21b469ba69915d6119bc709\n",
      "writing prediction : output/11_30_Wed_LGBM_solvesec3600대신에_Timediff_피처_24개.csv\n"
     ]
    }
   ],
   "source": [
    "## LGBM 학습 및 예측\n",
    "\n",
    "### 피처 설정\n",
    "\n",
    "# 사용할 Feature 설정\n",
    "FEATS = ['uidIdx',\n",
    "         'assIdx',\n",
    "         'testIdx',\n",
    "         'KnowledgeTag',\n",
    "         'user_correct_answer',\n",
    "         'user_total_answer',\n",
    "         'big_category',\n",
    "         'mid_category',\n",
    "         'problem_num',\n",
    "         'month','day','dayname','hour',\n",
    "         'user_acc',\n",
    "         'test_mean',\n",
    "         'test_sum',\n",
    "         'test_std',\n",
    "         'tag_std',\n",
    "         'tag_mean',\n",
    "         'tag_sum',\n",
    "         'Timediff',\n",
    "         'time_category',\n",
    "         'solvesec_cumsum',\n",
    "         'solvecumsum_category',\n",
    "        ]\n",
    "\n",
    "cat_feats = ['uidIdx','assIdx','testIdx','KnowledgeTag','big_category','mid_category',\n",
    "             'problem_num','dayname','month','time_category','solvecumsum_category']\n",
    "cat_feats_idx = [i for i,e in enumerate(FEATS) if e in cat_feats]\n",
    "\n",
    "### 학습 및 예측\n",
    "\n",
    "date = datetime.now().strftime('%m/%d %a')\n",
    "title=f\"🌈({date})[LGBM solvesec3600대신에 Timediff] 피처: {len(FEATS)}개\"\n",
    "using_feats=\", \".join(FEATS)\n",
    "desc=f\"사용된 피처({len(FEATS)})\\n{using_feats}\"\n",
    "cat_feats_idx, title, desc\n",
    "\n",
    "mlflow.lightgbm.autolog()\n",
    "lgb_x_train = lgb.Dataset(x_train[FEATS], y_train)\n",
    "lgb_x_valid = lgb.Dataset(x_valid[FEATS], y_valid)\n",
    "\n",
    "with mlflow.start_run(run_name=title, description=desc) as run:\n",
    "    model3 = lgb.train(\n",
    "        params, \n",
    "        lgb_x_train,\n",
    "        valid_sets=[lgb_x_valid],\n",
    "        verbose_eval=100,\n",
    "        num_boost_round=3200,\n",
    "        categorical_feature=cat_feats_idx\n",
    "    #     early_stopping_rounds=200,\n",
    "    )\n",
    "\n",
    "    preds = model3.predict(x_valid[FEATS])\n",
    "    acc = accuracy_score(y_valid, np.where(preds >= 0.5, 1, 0))\n",
    "    auc = roc_auc_score(y_valid, preds)\n",
    "    print(f'VALID AUC : {auc} ACC : {acc}\\n')\n",
    "    mlflow.log_metric(\"VAL AUC\",auc)\n",
    "    mlflow.log_metric(\"VAL Set SEED\",SEED)\n",
    "    model3_run_id=run.info.run_id\n",
    "    print(f\"{model3_run_id}\")\n",
    "    post_slack(\"done\")\n",
    "    file_name = title2filename(title)\n",
    "    lgbm_predict(test, model3, FEATS, f'{file_name}.csv')"
   ]
  },
  {
   "cell_type": "code",
   "execution_count": 14,
   "id": "e46ca0cf",
   "metadata": {
    "ExecuteTime": {
     "end_time": "2022-11-30T15:19:14.222670Z",
     "start_time": "2022-11-30T15:19:14.193675Z"
    }
   },
   "outputs": [
    {
     "data": {
      "text/plain": [
       "<ActiveRun: >"
      ]
     },
     "execution_count": 14,
     "metadata": {},
     "output_type": "execute_result"
    },
    {
     "name": "stdout",
     "output_type": "stream",
     "text": [
      "Active run_id: 36b1a803d21b469ba69915d6119bc709\n"
     ]
    }
   ],
   "source": [
    "### 제출 mlflow 등록\n",
    "# 제출시\n",
    "LB_AUC=0.8043\n",
    "run_id = '36b1a803d21b469ba69915d6119bc709'\n",
    "mlflow.start_run(run_id=run_id)\n",
    "run = mlflow.active_run()\n",
    "print(\"Active run_id: {}\".format(run.info.run_id))\n",
    "mlflow.log_metric(\"LB AUC\",LB_AUC)\n",
    "mlflow.end_run()"
   ]
  },
  {
   "cell_type": "markdown",
   "id": "f1db3fb0",
   "metadata": {},
   "source": [
    "## Timepassed 추가"
   ]
  },
  {
   "cell_type": "markdown",
   "id": "e3171ccb",
   "metadata": {},
   "source": [
    "### 피처 설정"
   ]
  },
  {
   "cell_type": "code",
   "execution_count": 3,
   "id": "25440a46",
   "metadata": {
    "ExecuteTime": {
     "end_time": "2022-11-30T14:06:08.409262Z",
     "start_time": "2022-11-30T14:06:08.404292Z"
    }
   },
   "outputs": [],
   "source": [
    "# 사용할 Feature 설정\n",
    "FEATS = ['uidIdx',\n",
    "         'assIdx',\n",
    "         'testIdx',\n",
    "         'KnowledgeTag',\n",
    "         'user_correct_answer',\n",
    "         'user_total_answer',\n",
    "         'big_category',\n",
    "         'mid_category',\n",
    "         'problem_num',\n",
    "         'month','day','dayname','hour',\n",
    "         'user_acc',\n",
    "         'test_mean',\n",
    "         'test_sum',\n",
    "         'test_std',\n",
    "         'tag_std',\n",
    "         'tag_mean',\n",
    "         'tag_sum',\n",
    "         'solvesec_3600',\n",
    "         'time_category',\n",
    "         'solvesec_cumsum',\n",
    "         'solvecumsum_category',\n",
    "         'Timepassed'\n",
    "        ]\n",
    "\n",
    "cat_feats = ['uidIdx','assIdx','testIdx','KnowledgeTag','big_category','mid_category',\n",
    "             'problem_num','dayname','month','time_category','solvecumsum_category']\n",
    "cat_feats_idx = [i for i,e in enumerate(FEATS) if e in cat_feats]"
   ]
  },
  {
   "cell_type": "markdown",
   "id": "760babac",
   "metadata": {},
   "source": [
    "### 학습 및 예측"
   ]
  },
  {
   "cell_type": "code",
   "execution_count": 4,
   "id": "2c9701b5",
   "metadata": {
    "ExecuteTime": {
     "end_time": "2022-11-30T14:09:36.322650Z",
     "start_time": "2022-11-30T14:06:40.093082Z"
    },
    "scrolled": true
   },
   "outputs": [
    {
     "data": {
      "text/plain": [
       "([0, 1, 2, 3, 6, 7, 8, 9, 11, 21, 23],\n",
       " '🌈(11/30 Wed)[LGBM Timepassed추가] 피처: 25개',\n",
       " '사용된 피처(25)\\nuidIdx, assIdx, testIdx, KnowledgeTag, user_correct_answer, user_total_answer, big_category, mid_category, problem_num, month, day, dayname, hour, user_acc, test_mean, test_sum, test_std, tag_std, tag_mean, tag_sum, solvesec_3600, time_category, solvesec_cumsum, solvecumsum_category, Timepassed')"
      ]
     },
     "execution_count": 4,
     "metadata": {},
     "output_type": "execute_result"
    },
    {
     "name": "stdout",
     "output_type": "stream",
     "text": [
      "[LightGBM] [Info] Number of positive: 1208276, number of negative: 637263\n",
      "[LightGBM] [Warning] Auto-choosing row-wise multi-threading, the overhead of testing was 0.025722 seconds.\n",
      "You can set `force_row_wise=true` to remove the overhead.\n",
      "And if memory is not enough, you can set `force_col_wise=true`.\n",
      "[LightGBM] [Info] Total Bins 19296\n",
      "[LightGBM] [Info] Number of data points in the train set: 1845539, number of used features: 25\n",
      "[LightGBM] [Info] [binary:BoostFromScore]: pavg=0.654701 -> initscore=0.639767\n",
      "[LightGBM] [Info] Start training from score 0.639767\n",
      "[100]\tvalid_0's binary_logloss: 0.560245\n",
      "[200]\tvalid_0's binary_logloss: 0.551829\n",
      "[300]\tvalid_0's binary_logloss: 0.549456\n",
      "[400]\tvalid_0's binary_logloss: 0.548715\n",
      "[500]\tvalid_0's binary_logloss: 0.547629\n",
      "[600]\tvalid_0's binary_logloss: 0.547982\n",
      "[700]\tvalid_0's binary_logloss: 0.548247\n",
      "[800]\tvalid_0's binary_logloss: 0.54748\n",
      "[900]\tvalid_0's binary_logloss: 0.546899\n",
      "[1000]\tvalid_0's binary_logloss: 0.54696\n",
      "[1100]\tvalid_0's binary_logloss: 0.547438\n",
      "[1200]\tvalid_0's binary_logloss: 0.547482\n",
      "[1300]\tvalid_0's binary_logloss: 0.548026\n",
      "[1400]\tvalid_0's binary_logloss: 0.548457\n",
      "[1500]\tvalid_0's binary_logloss: 0.548636\n",
      "[1600]\tvalid_0's binary_logloss: 0.548725\n",
      "[1700]\tvalid_0's binary_logloss: 0.549203\n",
      "[1800]\tvalid_0's binary_logloss: 0.549927\n",
      "[1900]\tvalid_0's binary_logloss: 0.550321\n",
      "[2000]\tvalid_0's binary_logloss: 0.550503\n",
      "[2100]\tvalid_0's binary_logloss: 0.551675\n",
      "[2200]\tvalid_0's binary_logloss: 0.552364\n",
      "[2300]\tvalid_0's binary_logloss: 0.552602\n",
      "[2400]\tvalid_0's binary_logloss: 0.552762\n",
      "[2500]\tvalid_0's binary_logloss: 0.553317\n",
      "[2600]\tvalid_0's binary_logloss: 0.553225\n",
      "[2700]\tvalid_0's binary_logloss: 0.553419\n",
      "[2800]\tvalid_0's binary_logloss: 0.553621\n",
      "[2900]\tvalid_0's binary_logloss: 0.553845\n",
      "[3000]\tvalid_0's binary_logloss: 0.553951\n",
      "[3100]\tvalid_0's binary_logloss: 0.554967\n",
      "[3200]\tvalid_0's binary_logloss: 0.554969\n",
      "VALID AUC : 0.7904641699172139 ACC : 0.7117527862208713\n",
      "\n",
      "writing prediction : output/LGBM_Timepassed_추가.csv\n"
     ]
    }
   ],
   "source": [
    "date = datetime.now().strftime('%m/%d %a')\n",
    "title=f\"🌈({date})[LGBM Timepassed추가] 피처: {len(FEATS)}개\"\n",
    "using_feats=\", \".join(FEATS)\n",
    "desc=f\"사용된 피처({len(FEATS)})\\n{using_feats}\"\n",
    "cat_feats_idx, title, desc\n",
    "\n",
    "mlflow.lightgbm.autolog()\n",
    "lgb_x_train = lgb.Dataset(x_train[FEATS], y_train)\n",
    "lgb_x_valid = lgb.Dataset(x_valid[FEATS], y_valid)\n",
    "\n",
    "with mlflow.start_run(run_name=title, description=desc) as run:\n",
    "    model32 = lgb.train(\n",
    "        params, \n",
    "        lgb_x_train,\n",
    "        valid_sets=[lgb_x_valid],\n",
    "        verbose_eval=100,\n",
    "        num_boost_round=3200,\n",
    "        categorical_feature=cat_feats_idx\n",
    "    #     early_stopping_rounds=200,\n",
    "    )\n",
    "\n",
    "    preds = model32.predict(x_valid[FEATS])\n",
    "    acc = accuracy_score(y_valid, np.where(preds >= 0.5, 1, 0))\n",
    "    auc = roc_auc_score(y_valid, preds)\n",
    "    print(f'VALID AUC : {auc} ACC : {acc}\\n')\n",
    "    mlflow.log_metric(\"VAL AUC\",auc)\n",
    "    mlflow.log_metric(\"VAL Set SEED\",SEED)\n",
    "    model32_run_id=run.info.run_id\n",
    "    post_slack(\"done\")\n",
    "    lgbm_predict(test, model32, FEATS, 'LGBM_Timepassed_추가.csv')"
   ]
  },
  {
   "cell_type": "markdown",
   "id": "daaf3d5d",
   "metadata": {},
   "source": [
    "### 제출 mlflow 등록"
   ]
  },
  {
   "cell_type": "code",
   "execution_count": 13,
   "id": "6c8b956e",
   "metadata": {
    "ExecuteTime": {
     "end_time": "2022-11-30T15:18:41.223363Z",
     "start_time": "2022-11-30T15:18:41.194244Z"
    }
   },
   "outputs": [
    {
     "data": {
      "text/plain": [
       "<ActiveRun: >"
      ]
     },
     "execution_count": 13,
     "metadata": {},
     "output_type": "execute_result"
    },
    {
     "name": "stdout",
     "output_type": "stream",
     "text": [
      "Active run_id: 0d29f02e10d8498db85e20c4b4d24f6b\n"
     ]
    }
   ],
   "source": [
    "# 제출시\n",
    "LB_AUC=0.8084\n",
    "run_id = model32_run_id\n",
    "mlflow.start_run(run_id=run_id)\n",
    "run = mlflow.active_run()\n",
    "print(\"Active run_id: {}\".format(run.info.run_id))\n",
    "mlflow.log_metric(\"LB AUC\",LB_AUC)\n",
    "mlflow.end_run()"
   ]
  },
  {
   "cell_type": "markdown",
   "id": "307cf484",
   "metadata": {},
   "source": [
    "## Timediff, Timepassed 둘다 추가"
   ]
  },
  {
   "cell_type": "code",
   "execution_count": 11,
   "id": "9aae5003",
   "metadata": {
    "ExecuteTime": {
     "end_time": "2022-11-30T14:43:43.774196Z",
     "start_time": "2022-11-30T14:41:09.835830Z"
    },
    "scrolled": true
   },
   "outputs": [
    {
     "data": {
      "text/plain": [
       "([0, 1, 2, 3, 6, 7, 8, 9, 11, 21, 23],\n",
       " '🌈(11/30 Wed)[LGBM Timediff, Timepassed 추가] 피처: 25개',\n",
       " '사용된 피처(25)\\nuidIdx, assIdx, testIdx, KnowledgeTag, user_correct_answer, user_total_answer, big_category, mid_category, problem_num, month, day, dayname, hour, user_acc, test_mean, test_sum, test_std, tag_std, tag_mean, tag_sum, Timediff, time_category, solvesec_cumsum, solvecumsum_category, Timepassed')"
      ]
     },
     "execution_count": 11,
     "metadata": {},
     "output_type": "execute_result"
    },
    {
     "name": "stdout",
     "output_type": "stream",
     "text": [
      "[LightGBM] [Info] Number of positive: 1208276, number of negative: 637263\n",
      "[LightGBM] [Warning] Auto-choosing row-wise multi-threading, the overhead of testing was 0.026305 seconds.\n",
      "You can set `force_row_wise=true` to remove the overhead.\n",
      "And if memory is not enough, you can set `force_col_wise=true`.\n",
      "[LightGBM] [Info] Total Bins 19296\n",
      "[LightGBM] [Info] Number of data points in the train set: 1845539, number of used features: 25\n",
      "[LightGBM] [Info] [binary:BoostFromScore]: pavg=0.654701 -> initscore=0.639767\n",
      "[LightGBM] [Info] Start training from score 0.639767\n",
      "[100]\tvalid_0's binary_logloss: 0.561278\n",
      "[200]\tvalid_0's binary_logloss: 0.553632\n",
      "[300]\tvalid_0's binary_logloss: 0.551009\n",
      "[400]\tvalid_0's binary_logloss: 0.549807\n",
      "[500]\tvalid_0's binary_logloss: 0.548909\n",
      "[600]\tvalid_0's binary_logloss: 0.549395\n",
      "[700]\tvalid_0's binary_logloss: 0.549036\n",
      "[800]\tvalid_0's binary_logloss: 0.548923\n",
      "[900]\tvalid_0's binary_logloss: 0.548596\n",
      "[1000]\tvalid_0's binary_logloss: 0.54937\n",
      "[1100]\tvalid_0's binary_logloss: 0.550061\n",
      "[1200]\tvalid_0's binary_logloss: 0.550386\n",
      "[1300]\tvalid_0's binary_logloss: 0.550799\n",
      "[1400]\tvalid_0's binary_logloss: 0.551107\n",
      "[1500]\tvalid_0's binary_logloss: 0.551368\n",
      "[1600]\tvalid_0's binary_logloss: 0.551623\n",
      "[1700]\tvalid_0's binary_logloss: 0.551733\n",
      "[1800]\tvalid_0's binary_logloss: 0.552046\n",
      "[1900]\tvalid_0's binary_logloss: 0.552046\n",
      "[2000]\tvalid_0's binary_logloss: 0.552139\n",
      "[2100]\tvalid_0's binary_logloss: 0.552766\n",
      "[2200]\tvalid_0's binary_logloss: 0.553424\n",
      "[2300]\tvalid_0's binary_logloss: 0.553904\n",
      "[2400]\tvalid_0's binary_logloss: 0.554189\n",
      "[2500]\tvalid_0's binary_logloss: 0.554247\n",
      "[2600]\tvalid_0's binary_logloss: 0.554495\n",
      "[2700]\tvalid_0's binary_logloss: 0.555033\n",
      "[2800]\tvalid_0's binary_logloss: 0.555625\n",
      "[2900]\tvalid_0's binary_logloss: 0.555465\n",
      "[3000]\tvalid_0's binary_logloss: 0.55603\n",
      "[3100]\tvalid_0's binary_logloss: 0.556087\n",
      "[3200]\tvalid_0's binary_logloss: 0.556429\n",
      "VALID AUC : 0.7897255962079692 ACC : 0.7193515704154002\n",
      "\n",
      "8925f24e510a4bb19214974415c9e26a\n",
      "writing prediction : output/11_30_Wed_LGBM_Timediff_Timepassed_추가_피처_25개.csv\n"
     ]
    }
   ],
   "source": [
    "## LGBM 학습 및 예측\n",
    "\n",
    "### 피처 설정\n",
    "\n",
    "# 사용할 Feature 설정\n",
    "FEATS = ['uidIdx',\n",
    "         'assIdx',\n",
    "         'testIdx',\n",
    "         'KnowledgeTag',\n",
    "         'user_correct_answer',\n",
    "         'user_total_answer',\n",
    "         'big_category',\n",
    "         'mid_category',\n",
    "         'problem_num',\n",
    "         'month','day','dayname','hour',\n",
    "         'user_acc',\n",
    "         'test_mean',\n",
    "         'test_sum',\n",
    "         'test_std',\n",
    "         'tag_std',\n",
    "         'tag_mean',\n",
    "         'tag_sum',\n",
    "         'Timediff',\n",
    "         'time_category',\n",
    "         'solvesec_cumsum',\n",
    "         'solvecumsum_category',\n",
    "         'Timepassed'\n",
    "        ]\n",
    "\n",
    "cat_feats = ['uidIdx','assIdx','testIdx','KnowledgeTag','big_category','mid_category',\n",
    "             'problem_num','dayname','month','time_category','solvecumsum_category']\n",
    "cat_feats_idx = [i for i,e in enumerate(FEATS) if e in cat_feats]\n",
    "\n",
    "### 학습 및 예측\n",
    "\n",
    "date = datetime.now().strftime('%m/%d %a')\n",
    "title=f\"🌈({date})[LGBM Timediff, Timepassed 추가] 피처: {len(FEATS)}개\"\n",
    "using_feats=\", \".join(FEATS)\n",
    "desc=f\"사용된 피처({len(FEATS)})\\n{using_feats}\"\n",
    "cat_feats_idx, title, desc\n",
    "\n",
    "mlflow.lightgbm.autolog()\n",
    "lgb_x_train = lgb.Dataset(x_train[FEATS], y_train)\n",
    "lgb_x_valid = lgb.Dataset(x_valid[FEATS], y_valid)\n",
    "\n",
    "with mlflow.start_run(run_name=title, description=desc) as run:\n",
    "    model5 = lgb.train(\n",
    "        params, \n",
    "        lgb_x_train,\n",
    "        valid_sets=[lgb_x_valid],\n",
    "        verbose_eval=100,\n",
    "        num_boost_round=3200,\n",
    "        categorical_feature=cat_feats_idx\n",
    "    #     early_stopping_rounds=200,\n",
    "    )\n",
    "\n",
    "    preds = model5.predict(x_valid[FEATS])\n",
    "    acc = accuracy_score(y_valid, np.where(preds >= 0.5, 1, 0))\n",
    "    auc = roc_auc_score(y_valid, preds)\n",
    "    print(f'VALID AUC : {auc} ACC : {acc}\\n')\n",
    "    mlflow.log_metric(\"VAL AUC\",auc)\n",
    "    mlflow.log_metric(\"VAL Set SEED\",SEED)\n",
    "    model5_run_id=run.info.run_id\n",
    "    print(model5_run_id)\n",
    "    post_slack(\"done\")\n",
    "    file_name = title2filename(title)\n",
    "    lgbm_predict(test, model5, FEATS, f'{file_name}.csv')"
   ]
  },
  {
   "cell_type": "code",
   "execution_count": 12,
   "id": "56a04c2a",
   "metadata": {
    "ExecuteTime": {
     "end_time": "2022-11-30T15:18:20.218550Z",
     "start_time": "2022-11-30T15:18:20.185421Z"
    }
   },
   "outputs": [
    {
     "data": {
      "text/plain": [
       "<ActiveRun: >"
      ]
     },
     "execution_count": 12,
     "metadata": {},
     "output_type": "execute_result"
    },
    {
     "name": "stdout",
     "output_type": "stream",
     "text": [
      "Active run_id: 8925f24e510a4bb19214974415c9e26a\n"
     ]
    }
   ],
   "source": [
    "### 제출 mlflow 등록\n",
    "# 제출시\n",
    "LB_AUC=0.8003\n",
    "run_id = '8925f24e510a4bb19214974415c9e26a'\n",
    "mlflow.start_run(run_id=run_id)\n",
    "run = mlflow.active_run()\n",
    "print(\"Active run_id: {}\".format(run.info.run_id))\n",
    "mlflow.log_metric(\"LB AUC\",LB_AUC)\n",
    "mlflow.end_run()"
   ]
  },
  {
   "cell_type": "code",
   "execution_count": null,
   "id": "c077232b",
   "metadata": {},
   "outputs": [],
   "source": []
  }
 ],
 "metadata": {
  "kernelspec": {
   "display_name": "Python 3 (ipykernel)",
   "language": "python",
   "name": "python3"
  },
  "language_info": {
   "codemirror_mode": {
    "name": "ipython",
    "version": 3
   },
   "file_extension": ".py",
   "mimetype": "text/x-python",
   "name": "python",
   "nbconvert_exporter": "python",
   "pygments_lexer": "ipython3",
   "version": "3.9.15"
  },
  "toc": {
   "base_numbering": 1,
   "nav_menu": {},
   "number_sections": true,
   "sideBar": true,
   "skip_h1_title": true,
   "title_cell": "Table of Contents",
   "title_sidebar": "Contents",
   "toc_cell": false,
   "toc_position": {
    "height": "calc(100% - 180px)",
    "left": "10px",
    "top": "150px",
    "width": "384px"
   },
   "toc_section_display": true,
   "toc_window_display": true
  }
 },
 "nbformat": 4,
 "nbformat_minor": 5
}
