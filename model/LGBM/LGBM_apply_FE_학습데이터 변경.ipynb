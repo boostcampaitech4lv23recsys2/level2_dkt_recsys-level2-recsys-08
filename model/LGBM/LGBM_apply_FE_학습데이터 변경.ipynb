{
 "cells": [
  {
   "cell_type": "code",
   "execution_count": 2,
   "id": "c65c701d",
   "metadata": {
    "ExecuteTime": {
     "end_time": "2022-11-24T17:28:10.859721Z",
     "start_time": "2022-11-24T17:27:56.016735Z"
    }
   },
   "outputs": [
    {
     "data": {
      "text/plain": [
       "'df를 입력받아서, userid들을 랜덤해서 1-ratio만큼의 user만 선별하고, 마지막 제출껀만 만들어서 train, test로 리턴 '"
      ]
     },
     "execution_count": 2,
     "metadata": {},
     "output_type": "execute_result"
    },
    {
     "data": {
      "text/plain": [
       "((2525956, 23), (2007, 23), (260114, 23))"
      ]
     },
     "execution_count": 2,
     "metadata": {},
     "output_type": "execute_result"
    },
    {
     "data": {
      "text/plain": [
       "((2525956, 22), (2525956, 1), (2007, 22), (2007, 1))"
      ]
     },
     "execution_count": 2,
     "metadata": {},
     "output_type": "execute_result"
    }
   ],
   "source": [
    "from IPython.core.interactiveshell import InteractiveShell\n",
    "InteractiveShell.ast_node_interactivity = 'all'\n",
    "import pandas as pd\n",
    "import os\n",
    "import random\n",
    "import warnings\n",
    "warnings.filterwarnings('ignore')\n",
    "import lightgbm as lgb\n",
    "from sklearn.metrics import roc_auc_score\n",
    "from sklearn.metrics import accuracy_score\n",
    "import numpy as np\n",
    "from utils import custom_train_test_split, lgbm_predict, post_slack\n",
    "\n",
    "base_feats = ['KnowledgeTag', 'user_correct_answer', 'user_total_answer', \n",
    "         'user_acc', 'test_mean', 'test_sum', 'tag_mean','tag_sum']\n",
    "# train과 test 데이터셋은 사용자 별로 묶어서 분리를 해주어야함\n",
    "\n",
    "\n",
    "\n",
    "## 1. 데이터 로딩\n",
    "data_dir = '/opt/ml/input/data' # 경로\n",
    "# train_file_path = os.path.join(data_dir, 'train_data.csv') # 데이터\n",
    "# test_file_path = os.path.join(data_dir, 'test_data.csv')\n",
    "after_fe_path = os.path.join(data_dir, 'after_fe_train_test.pkl')\n",
    "df = pd.read_pickle(after_fe_path)\n",
    "custom_train_test_split.__doc__\n",
    "\n",
    "train_df = df[df.kind=='train']\n",
    "train, valid = custom_train_test_split(train_df, ratio=0.7) # 훈련데이터 split\n",
    "test = df[df.kind=='test'] # 테스트 데이터\n",
    "train2 = test[test.answerCode!=-1] # 테스트데이터 마지막 제출 2번쨰꺼까지 훈련데이터로 사용\n",
    "train = pd.concat([train_df,train2]) # 훈련데이터 병합\n",
    "train.shape, valid.shape, test.shape\n",
    "\n",
    "x_train = train.drop('answerCode',axis=1)\n",
    "y_train = train[['answerCode']]\n",
    "\n",
    "x_valid = valid.drop('answerCode',axis=1)\n",
    "y_valid = valid[['answerCode']]\n",
    "x_train.shape, y_train.shape, x_valid.shape, y_valid.shape"
   ]
  },
  {
   "cell_type": "code",
   "execution_count": null,
   "id": "503041a2",
   "metadata": {},
   "outputs": [],
   "source": [
    "x_valid"
   ]
  },
  {
   "cell_type": "code",
   "execution_count": 25,
   "id": "f99075a3",
   "metadata": {
    "ExecuteTime": {
     "end_time": "2022-11-25T01:43:56.366046Z",
     "start_time": "2022-11-25T01:43:54.772577Z"
    }
   },
   "outputs": [
    {
     "data": {
      "text/html": [
       "<div>\n",
       "<style scoped>\n",
       "    .dataframe tbody tr th:only-of-type {\n",
       "        vertical-align: middle;\n",
       "    }\n",
       "\n",
       "    .dataframe tbody tr th {\n",
       "        vertical-align: top;\n",
       "    }\n",
       "\n",
       "    .dataframe thead th {\n",
       "        text-align: right;\n",
       "    }\n",
       "</style>\n",
       "<table border=\"1\" class=\"dataframe\">\n",
       "  <thead>\n",
       "    <tr style=\"text-align: right;\">\n",
       "      <th></th>\n",
       "      <th>userID</th>\n",
       "      <th>assessmentItemID</th>\n",
       "      <th>testId</th>\n",
       "      <th>Timestamp</th>\n",
       "      <th>KnowledgeTag</th>\n",
       "      <th>user_correct_answer</th>\n",
       "      <th>user_total_answer</th>\n",
       "      <th>user_acc</th>\n",
       "      <th>month</th>\n",
       "      <th>day</th>\n",
       "      <th>...</th>\n",
       "      <th>big_category</th>\n",
       "      <th>problem_num</th>\n",
       "      <th>mid_category</th>\n",
       "      <th>test_mean</th>\n",
       "      <th>test_std</th>\n",
       "      <th>test_sum</th>\n",
       "      <th>tag_mean</th>\n",
       "      <th>tag_std</th>\n",
       "      <th>tag_sum</th>\n",
       "      <th>kind</th>\n",
       "    </tr>\n",
       "  </thead>\n",
       "  <tbody>\n",
       "    <tr>\n",
       "      <th>0</th>\n",
       "      <td>0</td>\n",
       "      <td>A060001001</td>\n",
       "      <td>A060000001</td>\n",
       "      <td>2020-03-24 00:17:11</td>\n",
       "      <td>7224</td>\n",
       "      <td>NaN</td>\n",
       "      <td>0</td>\n",
       "      <td>NaN</td>\n",
       "      <td>3</td>\n",
       "      <td>24</td>\n",
       "      <td>...</td>\n",
       "      <td>6</td>\n",
       "      <td>1</td>\n",
       "      <td>1</td>\n",
       "      <td>0.947683</td>\n",
       "      <td>0.222749</td>\n",
       "      <td>1268</td>\n",
       "      <td>0.955022</td>\n",
       "      <td>0.207410</td>\n",
       "      <td>637</td>\n",
       "      <td>train</td>\n",
       "    </tr>\n",
       "    <tr>\n",
       "      <th>1</th>\n",
       "      <td>0</td>\n",
       "      <td>A060001002</td>\n",
       "      <td>A060000001</td>\n",
       "      <td>2020-03-24 00:17:14</td>\n",
       "      <td>7225</td>\n",
       "      <td>1.0</td>\n",
       "      <td>1</td>\n",
       "      <td>1.000000</td>\n",
       "      <td>3</td>\n",
       "      <td>24</td>\n",
       "      <td>...</td>\n",
       "      <td>6</td>\n",
       "      <td>2</td>\n",
       "      <td>1</td>\n",
       "      <td>0.947683</td>\n",
       "      <td>0.222749</td>\n",
       "      <td>1268</td>\n",
       "      <td>0.913187</td>\n",
       "      <td>0.281603</td>\n",
       "      <td>3040</td>\n",
       "      <td>train</td>\n",
       "    </tr>\n",
       "    <tr>\n",
       "      <th>2</th>\n",
       "      <td>0</td>\n",
       "      <td>A060001003</td>\n",
       "      <td>A060000001</td>\n",
       "      <td>2020-03-24 00:17:22</td>\n",
       "      <td>7225</td>\n",
       "      <td>2.0</td>\n",
       "      <td>2</td>\n",
       "      <td>1.000000</td>\n",
       "      <td>3</td>\n",
       "      <td>24</td>\n",
       "      <td>...</td>\n",
       "      <td>6</td>\n",
       "      <td>3</td>\n",
       "      <td>1</td>\n",
       "      <td>0.947683</td>\n",
       "      <td>0.222749</td>\n",
       "      <td>1268</td>\n",
       "      <td>0.913187</td>\n",
       "      <td>0.281603</td>\n",
       "      <td>3040</td>\n",
       "      <td>train</td>\n",
       "    </tr>\n",
       "    <tr>\n",
       "      <th>3</th>\n",
       "      <td>0</td>\n",
       "      <td>A060001004</td>\n",
       "      <td>A060000001</td>\n",
       "      <td>2020-03-24 00:17:29</td>\n",
       "      <td>7225</td>\n",
       "      <td>3.0</td>\n",
       "      <td>3</td>\n",
       "      <td>1.000000</td>\n",
       "      <td>3</td>\n",
       "      <td>24</td>\n",
       "      <td>...</td>\n",
       "      <td>6</td>\n",
       "      <td>4</td>\n",
       "      <td>1</td>\n",
       "      <td>0.947683</td>\n",
       "      <td>0.222749</td>\n",
       "      <td>1268</td>\n",
       "      <td>0.913187</td>\n",
       "      <td>0.281603</td>\n",
       "      <td>3040</td>\n",
       "      <td>train</td>\n",
       "    </tr>\n",
       "    <tr>\n",
       "      <th>4</th>\n",
       "      <td>0</td>\n",
       "      <td>A060001005</td>\n",
       "      <td>A060000001</td>\n",
       "      <td>2020-03-24 00:17:36</td>\n",
       "      <td>7225</td>\n",
       "      <td>4.0</td>\n",
       "      <td>4</td>\n",
       "      <td>1.000000</td>\n",
       "      <td>3</td>\n",
       "      <td>24</td>\n",
       "      <td>...</td>\n",
       "      <td>6</td>\n",
       "      <td>5</td>\n",
       "      <td>1</td>\n",
       "      <td>0.947683</td>\n",
       "      <td>0.222749</td>\n",
       "      <td>1268</td>\n",
       "      <td>0.913187</td>\n",
       "      <td>0.281603</td>\n",
       "      <td>3040</td>\n",
       "      <td>train</td>\n",
       "    </tr>\n",
       "    <tr>\n",
       "      <th>...</th>\n",
       "      <td>...</td>\n",
       "      <td>...</td>\n",
       "      <td>...</td>\n",
       "      <td>...</td>\n",
       "      <td>...</td>\n",
       "      <td>...</td>\n",
       "      <td>...</td>\n",
       "      <td>...</td>\n",
       "      <td>...</td>\n",
       "      <td>...</td>\n",
       "      <td>...</td>\n",
       "      <td>...</td>\n",
       "      <td>...</td>\n",
       "      <td>...</td>\n",
       "      <td>...</td>\n",
       "      <td>...</td>\n",
       "      <td>...</td>\n",
       "      <td>...</td>\n",
       "      <td>...</td>\n",
       "      <td>...</td>\n",
       "      <td>...</td>\n",
       "    </tr>\n",
       "    <tr>\n",
       "      <th>260108</th>\n",
       "      <td>7439</td>\n",
       "      <td>A040197006</td>\n",
       "      <td>A040000197</td>\n",
       "      <td>2020-08-21 07:39:45</td>\n",
       "      <td>2132</td>\n",
       "      <td>7.0</td>\n",
       "      <td>10</td>\n",
       "      <td>0.700000</td>\n",
       "      <td>8</td>\n",
       "      <td>21</td>\n",
       "      <td>...</td>\n",
       "      <td>4</td>\n",
       "      <td>6</td>\n",
       "      <td>197</td>\n",
       "      <td>0.744792</td>\n",
       "      <td>0.460450</td>\n",
       "      <td>143</td>\n",
       "      <td>0.720930</td>\n",
       "      <td>0.471632</td>\n",
       "      <td>279</td>\n",
       "      <td>test</td>\n",
       "    </tr>\n",
       "    <tr>\n",
       "      <th>260109</th>\n",
       "      <td>7439</td>\n",
       "      <td>A040130001</td>\n",
       "      <td>A040000130</td>\n",
       "      <td>2020-10-14 23:07:23</td>\n",
       "      <td>8832</td>\n",
       "      <td>8.0</td>\n",
       "      <td>11</td>\n",
       "      <td>0.727273</td>\n",
       "      <td>10</td>\n",
       "      <td>14</td>\n",
       "      <td>...</td>\n",
       "      <td>4</td>\n",
       "      <td>1</td>\n",
       "      <td>130</td>\n",
       "      <td>0.604762</td>\n",
       "      <td>0.499738</td>\n",
       "      <td>127</td>\n",
       "      <td>0.584848</td>\n",
       "      <td>0.499618</td>\n",
       "      <td>193</td>\n",
       "      <td>test</td>\n",
       "    </tr>\n",
       "    <tr>\n",
       "      <th>260110</th>\n",
       "      <td>7439</td>\n",
       "      <td>A040130002</td>\n",
       "      <td>A040000130</td>\n",
       "      <td>2020-10-14 23:07:41</td>\n",
       "      <td>8832</td>\n",
       "      <td>8.0</td>\n",
       "      <td>12</td>\n",
       "      <td>0.666667</td>\n",
       "      <td>10</td>\n",
       "      <td>14</td>\n",
       "      <td>...</td>\n",
       "      <td>4</td>\n",
       "      <td>2</td>\n",
       "      <td>130</td>\n",
       "      <td>0.604762</td>\n",
       "      <td>0.499738</td>\n",
       "      <td>127</td>\n",
       "      <td>0.584848</td>\n",
       "      <td>0.499618</td>\n",
       "      <td>193</td>\n",
       "      <td>test</td>\n",
       "    </tr>\n",
       "    <tr>\n",
       "      <th>260111</th>\n",
       "      <td>7439</td>\n",
       "      <td>A040130003</td>\n",
       "      <td>A040000130</td>\n",
       "      <td>2020-10-14 23:08:02</td>\n",
       "      <td>8244</td>\n",
       "      <td>9.0</td>\n",
       "      <td>13</td>\n",
       "      <td>0.692308</td>\n",
       "      <td>10</td>\n",
       "      <td>14</td>\n",
       "      <td>...</td>\n",
       "      <td>4</td>\n",
       "      <td>3</td>\n",
       "      <td>130</td>\n",
       "      <td>0.604762</td>\n",
       "      <td>0.499738</td>\n",
       "      <td>127</td>\n",
       "      <td>0.725490</td>\n",
       "      <td>0.476214</td>\n",
       "      <td>111</td>\n",
       "      <td>test</td>\n",
       "    </tr>\n",
       "    <tr>\n",
       "      <th>260112</th>\n",
       "      <td>7439</td>\n",
       "      <td>A040130004</td>\n",
       "      <td>A040000130</td>\n",
       "      <td>2020-10-14 23:09:31</td>\n",
       "      <td>8244</td>\n",
       "      <td>10.0</td>\n",
       "      <td>14</td>\n",
       "      <td>0.714286</td>\n",
       "      <td>10</td>\n",
       "      <td>14</td>\n",
       "      <td>...</td>\n",
       "      <td>4</td>\n",
       "      <td>4</td>\n",
       "      <td>130</td>\n",
       "      <td>0.604762</td>\n",
       "      <td>0.499738</td>\n",
       "      <td>127</td>\n",
       "      <td>0.725490</td>\n",
       "      <td>0.476214</td>\n",
       "      <td>111</td>\n",
       "      <td>test</td>\n",
       "    </tr>\n",
       "  </tbody>\n",
       "</table>\n",
       "<p>2525956 rows × 22 columns</p>\n",
       "</div>"
      ],
      "text/plain": [
       "        userID assessmentItemID      testId            Timestamp  \\\n",
       "0            0       A060001001  A060000001  2020-03-24 00:17:11   \n",
       "1            0       A060001002  A060000001  2020-03-24 00:17:14   \n",
       "2            0       A060001003  A060000001  2020-03-24 00:17:22   \n",
       "3            0       A060001004  A060000001  2020-03-24 00:17:29   \n",
       "4            0       A060001005  A060000001  2020-03-24 00:17:36   \n",
       "...        ...              ...         ...                  ...   \n",
       "260108    7439       A040197006  A040000197  2020-08-21 07:39:45   \n",
       "260109    7439       A040130001  A040000130  2020-10-14 23:07:23   \n",
       "260110    7439       A040130002  A040000130  2020-10-14 23:07:41   \n",
       "260111    7439       A040130003  A040000130  2020-10-14 23:08:02   \n",
       "260112    7439       A040130004  A040000130  2020-10-14 23:09:31   \n",
       "\n",
       "        KnowledgeTag  user_correct_answer  user_total_answer  user_acc  month  \\\n",
       "0               7224                  NaN                  0       NaN      3   \n",
       "1               7225                  1.0                  1  1.000000      3   \n",
       "2               7225                  2.0                  2  1.000000      3   \n",
       "3               7225                  3.0                  3  1.000000      3   \n",
       "4               7225                  4.0                  4  1.000000      3   \n",
       "...              ...                  ...                ...       ...    ...   \n",
       "260108          2132                  7.0                 10  0.700000      8   \n",
       "260109          8832                  8.0                 11  0.727273     10   \n",
       "260110          8832                  8.0                 12  0.666667     10   \n",
       "260111          8244                  9.0                 13  0.692308     10   \n",
       "260112          8244                 10.0                 14  0.714286     10   \n",
       "\n",
       "        day  ...  big_category  problem_num  mid_category  test_mean  \\\n",
       "0        24  ...             6            1             1   0.947683   \n",
       "1        24  ...             6            2             1   0.947683   \n",
       "2        24  ...             6            3             1   0.947683   \n",
       "3        24  ...             6            4             1   0.947683   \n",
       "4        24  ...             6            5             1   0.947683   \n",
       "...     ...  ...           ...          ...           ...        ...   \n",
       "260108   21  ...             4            6           197   0.744792   \n",
       "260109   14  ...             4            1           130   0.604762   \n",
       "260110   14  ...             4            2           130   0.604762   \n",
       "260111   14  ...             4            3           130   0.604762   \n",
       "260112   14  ...             4            4           130   0.604762   \n",
       "\n",
       "        test_std  test_sum  tag_mean   tag_std  tag_sum   kind  \n",
       "0       0.222749      1268  0.955022  0.207410      637  train  \n",
       "1       0.222749      1268  0.913187  0.281603     3040  train  \n",
       "2       0.222749      1268  0.913187  0.281603     3040  train  \n",
       "3       0.222749      1268  0.913187  0.281603     3040  train  \n",
       "4       0.222749      1268  0.913187  0.281603     3040  train  \n",
       "...          ...       ...       ...       ...      ...    ...  \n",
       "260108  0.460450       143  0.720930  0.471632      279   test  \n",
       "260109  0.499738       127  0.584848  0.499618      193   test  \n",
       "260110  0.499738       127  0.584848  0.499618      193   test  \n",
       "260111  0.499738       127  0.725490  0.476214      111   test  \n",
       "260112  0.499738       127  0.725490  0.476214      111   test  \n",
       "\n",
       "[2525956 rows x 22 columns]"
      ]
     },
     "execution_count": 25,
     "metadata": {},
     "output_type": "execute_result"
    }
   ],
   "source": [
    "x_train"
   ]
  },
  {
   "cell_type": "code",
   "execution_count": 3,
   "id": "21ba16e6",
   "metadata": {
    "ExecuteTime": {
     "end_time": "2022-11-24T17:28:30.375423Z",
     "start_time": "2022-11-24T17:28:30.370260Z"
    }
   },
   "outputs": [],
   "source": [
    "# 사용할 Feature 설정\n",
    "FEATS = ['KnowledgeTag',\n",
    "         'user_correct_answer',\n",
    "         'user_total_answer',\n",
    "         'big_category',\n",
    "         'mid_category',\n",
    "         'problem_num',\n",
    "         'month','day','dayname','hour',\n",
    "         'user_acc',\n",
    "         'test_mean',\n",
    "         'test_sum',\n",
    "         'test_std',\n",
    "         'tag_std',\n",
    "         'tag_mean',\n",
    "         'tag_sum',\n",
    "        ]\n",
    "\n",
    "params = {\n",
    "#     \"max_depth\": 8,  # 8,\n",
    "#     \"min_data_in_leaf\": 1000,\n",
    "    # \"feature_fraction\": 0.6,  # 0.8,\n",
    "#     \"bagging_fraction\": 0.75,\n",
    "    # \"max_cat_group\": 64,\n",
    "    \"objective\": \"binary\",\n",
    "#     \"boosting\": \"gbdt\",  # dart\n",
    "#     \"learning_rate\": 0.01,  # 0.01,\n",
    "    # \"bagging_freq\": 5,\n",
    "    \"seed\": 42,\n",
    "    # \"max_bin\": 50,\n",
    "#     \"num_leaves\": 80,  # 40,\n",
    "#     \"metric\": \"auc\",\n",
    "}\n",
    "\n",
    "model_auc = lgb.LGBMClassifier(\n",
    "    **params,\n",
    "    n_estimators=3200,\n",
    "    silent=-1,\n",
    ")\n",
    "\n",
    "model_loss = lgb.LGBMClassifier(\n",
    "    **params,\n",
    "    n_estimators=3200,\n",
    "    silent=-1,\n",
    ")"
   ]
  },
  {
   "cell_type": "code",
   "execution_count": 4,
   "id": "8b870cd4",
   "metadata": {
    "ExecuteTime": {
     "end_time": "2022-11-24T17:37:25.873022Z",
     "start_time": "2022-11-24T17:28:31.319592Z"
    }
   },
   "outputs": [
    {
     "name": "stdout",
     "output_type": "stream",
     "text": [
      "[100]\ttrain's binary_logloss: 0.546374\tvalid's binary_logloss: 0.62917\n",
      "[200]\ttrain's binary_logloss: 0.54251\tvalid's binary_logloss: 0.623287\n",
      "[300]\ttrain's binary_logloss: 0.539063\tvalid's binary_logloss: 0.619211\n",
      "[400]\ttrain's binary_logloss: 0.536233\tvalid's binary_logloss: 0.614343\n",
      "[500]\ttrain's binary_logloss: 0.533777\tvalid's binary_logloss: 0.611957\n",
      "[600]\ttrain's binary_logloss: 0.531641\tvalid's binary_logloss: 0.609731\n",
      "[700]\ttrain's binary_logloss: 0.52987\tvalid's binary_logloss: 0.607706\n",
      "[800]\ttrain's binary_logloss: 0.527932\tvalid's binary_logloss: 0.606041\n",
      "[900]\ttrain's binary_logloss: 0.525736\tvalid's binary_logloss: 0.602973\n",
      "[1000]\ttrain's binary_logloss: 0.52384\tvalid's binary_logloss: 0.600589\n",
      "[1100]\ttrain's binary_logloss: 0.522147\tvalid's binary_logloss: 0.599959\n",
      "[1200]\ttrain's binary_logloss: 0.520663\tvalid's binary_logloss: 0.598788\n",
      "[1300]\ttrain's binary_logloss: 0.519211\tvalid's binary_logloss: 0.597546\n",
      "[1400]\ttrain's binary_logloss: 0.517914\tvalid's binary_logloss: 0.596049\n",
      "[1500]\ttrain's binary_logloss: 0.516551\tvalid's binary_logloss: 0.594231\n",
      "[1600]\ttrain's binary_logloss: 0.515003\tvalid's binary_logloss: 0.59271\n",
      "[1700]\ttrain's binary_logloss: 0.513581\tvalid's binary_logloss: 0.591353\n",
      "[1800]\ttrain's binary_logloss: 0.51208\tvalid's binary_logloss: 0.589962\n",
      "[1900]\ttrain's binary_logloss: 0.510675\tvalid's binary_logloss: 0.588152\n",
      "[2000]\ttrain's binary_logloss: 0.509435\tvalid's binary_logloss: 0.586006\n",
      "[2100]\ttrain's binary_logloss: 0.508184\tvalid's binary_logloss: 0.584419\n",
      "[2200]\ttrain's binary_logloss: 0.507109\tvalid's binary_logloss: 0.5834\n",
      "[2300]\ttrain's binary_logloss: 0.50592\tvalid's binary_logloss: 0.582021\n",
      "[2400]\ttrain's binary_logloss: 0.504909\tvalid's binary_logloss: 0.580891\n",
      "[2500]\ttrain's binary_logloss: 0.503658\tvalid's binary_logloss: 0.579854\n",
      "[2600]\ttrain's binary_logloss: 0.502486\tvalid's binary_logloss: 0.578097\n",
      "[2700]\ttrain's binary_logloss: 0.501356\tvalid's binary_logloss: 0.576963\n",
      "[2800]\ttrain's binary_logloss: 0.500339\tvalid's binary_logloss: 0.575516\n",
      "[2900]\ttrain's binary_logloss: 0.499253\tvalid's binary_logloss: 0.573862\n",
      "[3000]\ttrain's binary_logloss: 0.49816\tvalid's binary_logloss: 0.573233\n",
      "[3100]\ttrain's binary_logloss: 0.497141\tvalid's binary_logloss: 0.572004\n",
      "[3200]\ttrain's binary_logloss: 0.496123\tvalid's binary_logloss: 0.570755\n"
     ]
    },
    {
     "data": {
      "text/html": [
       "<style>#sk-container-id-1 {color: black;background-color: white;}#sk-container-id-1 pre{padding: 0;}#sk-container-id-1 div.sk-toggleable {background-color: white;}#sk-container-id-1 label.sk-toggleable__label {cursor: pointer;display: block;width: 100%;margin-bottom: 0;padding: 0.3em;box-sizing: border-box;text-align: center;}#sk-container-id-1 label.sk-toggleable__label-arrow:before {content: \"▸\";float: left;margin-right: 0.25em;color: #696969;}#sk-container-id-1 label.sk-toggleable__label-arrow:hover:before {color: black;}#sk-container-id-1 div.sk-estimator:hover label.sk-toggleable__label-arrow:before {color: black;}#sk-container-id-1 div.sk-toggleable__content {max-height: 0;max-width: 0;overflow: hidden;text-align: left;background-color: #f0f8ff;}#sk-container-id-1 div.sk-toggleable__content pre {margin: 0.2em;color: black;border-radius: 0.25em;background-color: #f0f8ff;}#sk-container-id-1 input.sk-toggleable__control:checked~div.sk-toggleable__content {max-height: 200px;max-width: 100%;overflow: auto;}#sk-container-id-1 input.sk-toggleable__control:checked~label.sk-toggleable__label-arrow:before {content: \"▾\";}#sk-container-id-1 div.sk-estimator input.sk-toggleable__control:checked~label.sk-toggleable__label {background-color: #d4ebff;}#sk-container-id-1 div.sk-label input.sk-toggleable__control:checked~label.sk-toggleable__label {background-color: #d4ebff;}#sk-container-id-1 input.sk-hidden--visually {border: 0;clip: rect(1px 1px 1px 1px);clip: rect(1px, 1px, 1px, 1px);height: 1px;margin: -1px;overflow: hidden;padding: 0;position: absolute;width: 1px;}#sk-container-id-1 div.sk-estimator {font-family: monospace;background-color: #f0f8ff;border: 1px dotted black;border-radius: 0.25em;box-sizing: border-box;margin-bottom: 0.5em;}#sk-container-id-1 div.sk-estimator:hover {background-color: #d4ebff;}#sk-container-id-1 div.sk-parallel-item::after {content: \"\";width: 100%;border-bottom: 1px solid gray;flex-grow: 1;}#sk-container-id-1 div.sk-label:hover label.sk-toggleable__label {background-color: #d4ebff;}#sk-container-id-1 div.sk-serial::before {content: \"\";position: absolute;border-left: 1px solid gray;box-sizing: border-box;top: 0;bottom: 0;left: 50%;z-index: 0;}#sk-container-id-1 div.sk-serial {display: flex;flex-direction: column;align-items: center;background-color: white;padding-right: 0.2em;padding-left: 0.2em;position: relative;}#sk-container-id-1 div.sk-item {position: relative;z-index: 1;}#sk-container-id-1 div.sk-parallel {display: flex;align-items: stretch;justify-content: center;background-color: white;position: relative;}#sk-container-id-1 div.sk-item::before, #sk-container-id-1 div.sk-parallel-item::before {content: \"\";position: absolute;border-left: 1px solid gray;box-sizing: border-box;top: 0;bottom: 0;left: 50%;z-index: -1;}#sk-container-id-1 div.sk-parallel-item {display: flex;flex-direction: column;z-index: 1;position: relative;background-color: white;}#sk-container-id-1 div.sk-parallel-item:first-child::after {align-self: flex-end;width: 50%;}#sk-container-id-1 div.sk-parallel-item:last-child::after {align-self: flex-start;width: 50%;}#sk-container-id-1 div.sk-parallel-item:only-child::after {width: 0;}#sk-container-id-1 div.sk-dashed-wrapped {border: 1px dashed gray;margin: 0 0.4em 0.5em 0.4em;box-sizing: border-box;padding-bottom: 0.4em;background-color: white;}#sk-container-id-1 div.sk-label label {font-family: monospace;font-weight: bold;display: inline-block;line-height: 1.2em;}#sk-container-id-1 div.sk-label-container {text-align: center;}#sk-container-id-1 div.sk-container {/* jupyter's `normalize.less` sets `[hidden] { display: none; }` but bootstrap.min.css set `[hidden] { display: none !important; }` so we also need the `!important` here to be able to override the default hidden behavior on the sphinx rendered scikit-learn.org. See: https://github.com/scikit-learn/scikit-learn/issues/21755 */display: inline-block !important;position: relative;}#sk-container-id-1 div.sk-text-repr-fallback {display: none;}</style><div id=\"sk-container-id-1\" class=\"sk-top-container\"><div class=\"sk-text-repr-fallback\"><pre>LGBMClassifier(n_estimators=3200, objective=&#x27;binary&#x27;, seed=42, silent=-1)</pre><b>In a Jupyter environment, please rerun this cell to show the HTML representation or trust the notebook. <br />On GitHub, the HTML representation is unable to render, please try loading this page with nbviewer.org.</b></div><div class=\"sk-container\" hidden><div class=\"sk-item\"><div class=\"sk-estimator sk-toggleable\"><input class=\"sk-toggleable__control sk-hidden--visually\" id=\"sk-estimator-id-1\" type=\"checkbox\" checked><label for=\"sk-estimator-id-1\" class=\"sk-toggleable__label sk-toggleable__label-arrow\">LGBMClassifier</label><div class=\"sk-toggleable__content\"><pre>LGBMClassifier(n_estimators=3200, objective=&#x27;binary&#x27;, seed=42, silent=-1)</pre></div></div></div></div></div>"
      ],
      "text/plain": [
       "LGBMClassifier(n_estimators=3200, objective='binary', seed=42, silent=-1)"
      ]
     },
     "execution_count": 4,
     "metadata": {},
     "output_type": "execute_result"
    },
    {
     "name": "stdout",
     "output_type": "stream",
     "text": [
      "VALID AUC : 0.7722212283840191 ACC : 0.6925759840558047\n",
      "\n"
     ]
    }
   ],
   "source": [
    "model_loss.fit(\n",
    "    X=x_train[FEATS],\n",
    "    y=y_train,\n",
    "#     early_stopping_rounds=2000,\n",
    "    eval_set=[(x_train[FEATS], y_train), (x_valid[FEATS], y_valid)],\n",
    "    eval_names=[\"train\", \"valid\"],\n",
    "    eval_metric=\"logloss\",\n",
    "    verbose=100,\n",
    ")\n",
    "\n",
    "preds = model_loss.predict_proba(x_valid[FEATS])[:, 1]\n",
    "acc = accuracy_score(y_valid, np.where(preds >= 0.5, 1, 0))\n",
    "auc = roc_auc_score(y_valid, preds)\n",
    "print(f'VALID AUC : {auc} ACC : {acc}\\n')"
   ]
  },
  {
   "cell_type": "code",
   "execution_count": 5,
   "id": "f5d730f3",
   "metadata": {
    "ExecuteTime": {
     "end_time": "2022-11-24T18:01:10.198171Z",
     "start_time": "2022-11-24T17:37:25.877660Z"
    },
    "scrolled": true
   },
   "outputs": [
    {
     "name": "stdout",
     "output_type": "stream",
     "text": [
      "[100]\ttrain's auc: 0.757435\ttrain's binary_logloss: 0.546374\tvalid's auc: 0.70322\tvalid's binary_logloss: 0.62917\n",
      "[200]\ttrain's auc: 0.762059\ttrain's binary_logloss: 0.54251\tvalid's auc: 0.710404\tvalid's binary_logloss: 0.623287\n",
      "[300]\ttrain's auc: 0.766217\ttrain's binary_logloss: 0.539063\tvalid's auc: 0.714973\tvalid's binary_logloss: 0.619211\n",
      "[400]\ttrain's auc: 0.769646\ttrain's binary_logloss: 0.536233\tvalid's auc: 0.721349\tvalid's binary_logloss: 0.614343\n",
      "[500]\ttrain's auc: 0.772549\ttrain's binary_logloss: 0.533777\tvalid's auc: 0.724012\tvalid's binary_logloss: 0.611957\n",
      "[600]\ttrain's auc: 0.775027\ttrain's binary_logloss: 0.531641\tvalid's auc: 0.726944\tvalid's binary_logloss: 0.609731\n",
      "[700]\ttrain's auc: 0.777064\ttrain's binary_logloss: 0.52987\tvalid's auc: 0.729365\tvalid's binary_logloss: 0.607706\n",
      "[800]\ttrain's auc: 0.779319\ttrain's binary_logloss: 0.527932\tvalid's auc: 0.731309\tvalid's binary_logloss: 0.606041\n",
      "[900]\ttrain's auc: 0.781924\ttrain's binary_logloss: 0.525736\tvalid's auc: 0.734842\tvalid's binary_logloss: 0.602973\n",
      "[1000]\ttrain's auc: 0.784106\ttrain's binary_logloss: 0.52384\tvalid's auc: 0.737696\tvalid's binary_logloss: 0.600589\n",
      "[1100]\ttrain's auc: 0.786047\ttrain's binary_logloss: 0.522147\tvalid's auc: 0.738475\tvalid's binary_logloss: 0.599959\n",
      "[1200]\ttrain's auc: 0.787736\ttrain's binary_logloss: 0.520663\tvalid's auc: 0.740032\tvalid's binary_logloss: 0.598788\n",
      "[1300]\ttrain's auc: 0.789363\ttrain's binary_logloss: 0.519211\tvalid's auc: 0.741246\tvalid's binary_logloss: 0.597546\n",
      "[1400]\ttrain's auc: 0.79084\ttrain's binary_logloss: 0.517914\tvalid's auc: 0.743147\tvalid's binary_logloss: 0.596049\n",
      "[1500]\ttrain's auc: 0.792362\ttrain's binary_logloss: 0.516551\tvalid's auc: 0.745241\tvalid's binary_logloss: 0.594231\n",
      "[1600]\ttrain's auc: 0.794101\ttrain's binary_logloss: 0.515003\tvalid's auc: 0.747032\tvalid's binary_logloss: 0.59271\n",
      "[1700]\ttrain's auc: 0.795673\ttrain's binary_logloss: 0.513581\tvalid's auc: 0.748808\tvalid's binary_logloss: 0.591353\n",
      "[1800]\ttrain's auc: 0.79734\ttrain's binary_logloss: 0.51208\tvalid's auc: 0.750607\tvalid's binary_logloss: 0.589962\n",
      "[1900]\ttrain's auc: 0.79889\ttrain's binary_logloss: 0.510675\tvalid's auc: 0.752945\tvalid's binary_logloss: 0.588152\n",
      "[2000]\ttrain's auc: 0.800254\ttrain's binary_logloss: 0.509435\tvalid's auc: 0.755409\tvalid's binary_logloss: 0.586006\n",
      "[2100]\ttrain's auc: 0.8016\ttrain's binary_logloss: 0.508184\tvalid's auc: 0.757177\tvalid's binary_logloss: 0.584419\n",
      "[2200]\ttrain's auc: 0.802766\ttrain's binary_logloss: 0.507109\tvalid's auc: 0.758257\tvalid's binary_logloss: 0.5834\n",
      "[2300]\ttrain's auc: 0.80407\ttrain's binary_logloss: 0.50592\tvalid's auc: 0.759662\tvalid's binary_logloss: 0.582021\n",
      "[2400]\ttrain's auc: 0.80515\ttrain's binary_logloss: 0.504909\tvalid's auc: 0.760882\tvalid's binary_logloss: 0.580891\n",
      "[2500]\ttrain's auc: 0.80649\ttrain's binary_logloss: 0.503658\tvalid's auc: 0.761869\tvalid's binary_logloss: 0.579854\n",
      "[2600]\ttrain's auc: 0.807743\ttrain's binary_logloss: 0.502486\tvalid's auc: 0.763921\tvalid's binary_logloss: 0.578097\n",
      "[2700]\ttrain's auc: 0.808958\ttrain's binary_logloss: 0.501356\tvalid's auc: 0.765211\tvalid's binary_logloss: 0.576963\n",
      "[2800]\ttrain's auc: 0.810033\ttrain's binary_logloss: 0.500339\tvalid's auc: 0.766704\tvalid's binary_logloss: 0.575516\n",
      "[2900]\ttrain's auc: 0.811167\ttrain's binary_logloss: 0.499253\tvalid's auc: 0.768721\tvalid's binary_logloss: 0.573862\n",
      "[3000]\ttrain's auc: 0.812343\ttrain's binary_logloss: 0.49816\tvalid's auc: 0.769462\tvalid's binary_logloss: 0.573233\n",
      "[3100]\ttrain's auc: 0.813419\ttrain's binary_logloss: 0.497141\tvalid's auc: 0.771061\tvalid's binary_logloss: 0.572004\n",
      "[3200]\ttrain's auc: 0.814484\ttrain's binary_logloss: 0.496123\tvalid's auc: 0.772221\tvalid's binary_logloss: 0.570755\n"
     ]
    },
    {
     "data": {
      "text/html": [
       "<style>#sk-container-id-2 {color: black;background-color: white;}#sk-container-id-2 pre{padding: 0;}#sk-container-id-2 div.sk-toggleable {background-color: white;}#sk-container-id-2 label.sk-toggleable__label {cursor: pointer;display: block;width: 100%;margin-bottom: 0;padding: 0.3em;box-sizing: border-box;text-align: center;}#sk-container-id-2 label.sk-toggleable__label-arrow:before {content: \"▸\";float: left;margin-right: 0.25em;color: #696969;}#sk-container-id-2 label.sk-toggleable__label-arrow:hover:before {color: black;}#sk-container-id-2 div.sk-estimator:hover label.sk-toggleable__label-arrow:before {color: black;}#sk-container-id-2 div.sk-toggleable__content {max-height: 0;max-width: 0;overflow: hidden;text-align: left;background-color: #f0f8ff;}#sk-container-id-2 div.sk-toggleable__content pre {margin: 0.2em;color: black;border-radius: 0.25em;background-color: #f0f8ff;}#sk-container-id-2 input.sk-toggleable__control:checked~div.sk-toggleable__content {max-height: 200px;max-width: 100%;overflow: auto;}#sk-container-id-2 input.sk-toggleable__control:checked~label.sk-toggleable__label-arrow:before {content: \"▾\";}#sk-container-id-2 div.sk-estimator input.sk-toggleable__control:checked~label.sk-toggleable__label {background-color: #d4ebff;}#sk-container-id-2 div.sk-label input.sk-toggleable__control:checked~label.sk-toggleable__label {background-color: #d4ebff;}#sk-container-id-2 input.sk-hidden--visually {border: 0;clip: rect(1px 1px 1px 1px);clip: rect(1px, 1px, 1px, 1px);height: 1px;margin: -1px;overflow: hidden;padding: 0;position: absolute;width: 1px;}#sk-container-id-2 div.sk-estimator {font-family: monospace;background-color: #f0f8ff;border: 1px dotted black;border-radius: 0.25em;box-sizing: border-box;margin-bottom: 0.5em;}#sk-container-id-2 div.sk-estimator:hover {background-color: #d4ebff;}#sk-container-id-2 div.sk-parallel-item::after {content: \"\";width: 100%;border-bottom: 1px solid gray;flex-grow: 1;}#sk-container-id-2 div.sk-label:hover label.sk-toggleable__label {background-color: #d4ebff;}#sk-container-id-2 div.sk-serial::before {content: \"\";position: absolute;border-left: 1px solid gray;box-sizing: border-box;top: 0;bottom: 0;left: 50%;z-index: 0;}#sk-container-id-2 div.sk-serial {display: flex;flex-direction: column;align-items: center;background-color: white;padding-right: 0.2em;padding-left: 0.2em;position: relative;}#sk-container-id-2 div.sk-item {position: relative;z-index: 1;}#sk-container-id-2 div.sk-parallel {display: flex;align-items: stretch;justify-content: center;background-color: white;position: relative;}#sk-container-id-2 div.sk-item::before, #sk-container-id-2 div.sk-parallel-item::before {content: \"\";position: absolute;border-left: 1px solid gray;box-sizing: border-box;top: 0;bottom: 0;left: 50%;z-index: -1;}#sk-container-id-2 div.sk-parallel-item {display: flex;flex-direction: column;z-index: 1;position: relative;background-color: white;}#sk-container-id-2 div.sk-parallel-item:first-child::after {align-self: flex-end;width: 50%;}#sk-container-id-2 div.sk-parallel-item:last-child::after {align-self: flex-start;width: 50%;}#sk-container-id-2 div.sk-parallel-item:only-child::after {width: 0;}#sk-container-id-2 div.sk-dashed-wrapped {border: 1px dashed gray;margin: 0 0.4em 0.5em 0.4em;box-sizing: border-box;padding-bottom: 0.4em;background-color: white;}#sk-container-id-2 div.sk-label label {font-family: monospace;font-weight: bold;display: inline-block;line-height: 1.2em;}#sk-container-id-2 div.sk-label-container {text-align: center;}#sk-container-id-2 div.sk-container {/* jupyter's `normalize.less` sets `[hidden] { display: none; }` but bootstrap.min.css set `[hidden] { display: none !important; }` so we also need the `!important` here to be able to override the default hidden behavior on the sphinx rendered scikit-learn.org. See: https://github.com/scikit-learn/scikit-learn/issues/21755 */display: inline-block !important;position: relative;}#sk-container-id-2 div.sk-text-repr-fallback {display: none;}</style><div id=\"sk-container-id-2\" class=\"sk-top-container\"><div class=\"sk-text-repr-fallback\"><pre>LGBMClassifier(n_estimators=3200, objective=&#x27;binary&#x27;, seed=42, silent=-1)</pre><b>In a Jupyter environment, please rerun this cell to show the HTML representation or trust the notebook. <br />On GitHub, the HTML representation is unable to render, please try loading this page with nbviewer.org.</b></div><div class=\"sk-container\" hidden><div class=\"sk-item\"><div class=\"sk-estimator sk-toggleable\"><input class=\"sk-toggleable__control sk-hidden--visually\" id=\"sk-estimator-id-2\" type=\"checkbox\" checked><label for=\"sk-estimator-id-2\" class=\"sk-toggleable__label sk-toggleable__label-arrow\">LGBMClassifier</label><div class=\"sk-toggleable__content\"><pre>LGBMClassifier(n_estimators=3200, objective=&#x27;binary&#x27;, seed=42, silent=-1)</pre></div></div></div></div></div>"
      ],
      "text/plain": [
       "LGBMClassifier(n_estimators=3200, objective='binary', seed=42, silent=-1)"
      ]
     },
     "execution_count": 5,
     "metadata": {},
     "output_type": "execute_result"
    },
    {
     "name": "stdout",
     "output_type": "stream",
     "text": [
      "VALID AUC : 0.7722212283840191 ACC : 0.6925759840558047\n",
      "\n"
     ]
    }
   ],
   "source": [
    "model_auc.fit(\n",
    "    X=x_train[FEATS],\n",
    "    y=y_train,\n",
    "    early_stopping_rounds=1000,\n",
    "    eval_set=[(x_train[FEATS], y_train), (x_valid[FEATS], y_valid)],\n",
    "    eval_names=[\"train\", \"valid\"],\n",
    "    eval_metric=\"auc\",\n",
    "    verbose=100,\n",
    ")\n",
    "\n",
    "preds = model_auc.predict_proba(x_valid[FEATS])[:, 1]\n",
    "acc = accuracy_score(y_valid, np.where(preds >= 0.5, 1, 0))\n",
    "auc = roc_auc_score(y_valid, preds)\n",
    "print(f'VALID AUC : {auc} ACC : {acc}\\n')"
   ]
  },
  {
   "cell_type": "code",
   "execution_count": 6,
   "id": "72edf666",
   "metadata": {
    "ExecuteTime": {
     "end_time": "2022-11-24T18:01:10.631852Z",
     "start_time": "2022-11-24T18:01:10.202183Z"
    }
   },
   "outputs": [],
   "source": [
    "post_slack(\"done\")"
   ]
  },
  {
   "cell_type": "code",
   "execution_count": 8,
   "id": "ee487191",
   "metadata": {
    "ExecuteTime": {
     "end_time": "2022-11-24T18:02:25.061187Z",
     "start_time": "2022-11-24T18:02:24.975832Z"
    }
   },
   "outputs": [
    {
     "name": "stdout",
     "output_type": "stream",
     "text": [
      "writing prediction : output/LGBM_Baseline_학습데이터변경.csv\n"
     ]
    }
   ],
   "source": [
    "lgbm_predict(test, model_auc, FEATS, 'LGBM_Baseline_학습데이터변경.csv')"
   ]
  },
  {
   "cell_type": "code",
   "execution_count": 9,
   "id": "19993785",
   "metadata": {
    "ExecuteTime": {
     "end_time": "2022-11-24T18:04:37.379350Z",
     "start_time": "2022-11-24T18:04:37.301486Z"
    }
   },
   "outputs": [
    {
     "name": "stdout",
     "output_type": "stream",
     "text": [
      "writing prediction : output/LGBM_Baseline_학습데이터변경_logloss.csv\n"
     ]
    }
   ],
   "source": [
    "lgbm_predict(test, model_loss, FEATS, 'LGBM_Baseline_학습데이터변경_logloss.csv')"
   ]
  },
  {
   "cell_type": "code",
   "execution_count": 11,
   "id": "d85dfa9d",
   "metadata": {
    "ExecuteTime": {
     "end_time": "2022-11-24T18:05:06.403126Z",
     "start_time": "2022-11-24T18:05:06.396306Z"
    }
   },
   "outputs": [],
   "source": [
    "d1 = pd.read_csv('output/LGBM_Baseline_학습데이터변경.csv')"
   ]
  },
  {
   "cell_type": "code",
   "execution_count": 12,
   "id": "af966cf2",
   "metadata": {
    "ExecuteTime": {
     "end_time": "2022-11-24T18:05:13.843326Z",
     "start_time": "2022-11-24T18:05:13.838205Z"
    }
   },
   "outputs": [],
   "source": [
    "d2 = pd.read_csv('output/LGBM_Baseline_학습데이터변경_logloss.csv')"
   ]
  },
  {
   "cell_type": "code",
   "execution_count": 15,
   "id": "5089e36e",
   "metadata": {
    "ExecuteTime": {
     "end_time": "2022-11-24T18:08:44.167400Z",
     "start_time": "2022-11-24T18:08:44.162207Z"
    }
   },
   "outputs": [],
   "source": [
    "d3 = pd.read_csv('output/submission_lgbm_add_time_test_tag_std_big_mid_problem_number_3200epoch_valauc_7718.csv')"
   ]
  },
  {
   "cell_type": "code",
   "execution_count": 17,
   "id": "5da89555",
   "metadata": {
    "ExecuteTime": {
     "end_time": "2022-11-24T18:08:54.651156Z",
     "start_time": "2022-11-24T18:08:54.621641Z"
    }
   },
   "outputs": [
    {
     "data": {
      "text/html": [
       "<div>\n",
       "<style scoped>\n",
       "    .dataframe tbody tr th:only-of-type {\n",
       "        vertical-align: middle;\n",
       "    }\n",
       "\n",
       "    .dataframe tbody tr th {\n",
       "        vertical-align: top;\n",
       "    }\n",
       "\n",
       "    .dataframe thead th {\n",
       "        text-align: right;\n",
       "    }\n",
       "</style>\n",
       "<table border=\"1\" class=\"dataframe\">\n",
       "  <thead>\n",
       "    <tr style=\"text-align: right;\">\n",
       "      <th></th>\n",
       "      <th>id</th>\n",
       "      <th>prediction_x</th>\n",
       "      <th>prediction_y</th>\n",
       "      <th>prediction</th>\n",
       "    </tr>\n",
       "  </thead>\n",
       "  <tbody>\n",
       "    <tr>\n",
       "      <th>0</th>\n",
       "      <td>0</td>\n",
       "      <td>0.489572</td>\n",
       "      <td>0.489572</td>\n",
       "      <td>0.617911</td>\n",
       "    </tr>\n",
       "    <tr>\n",
       "      <th>1</th>\n",
       "      <td>1</td>\n",
       "      <td>0.791385</td>\n",
       "      <td>0.791385</td>\n",
       "      <td>0.722200</td>\n",
       "    </tr>\n",
       "    <tr>\n",
       "      <th>2</th>\n",
       "      <td>2</td>\n",
       "      <td>0.346894</td>\n",
       "      <td>0.346894</td>\n",
       "      <td>0.411294</td>\n",
       "    </tr>\n",
       "    <tr>\n",
       "      <th>3</th>\n",
       "      <td>3</td>\n",
       "      <td>0.962404</td>\n",
       "      <td>0.962404</td>\n",
       "      <td>0.961742</td>\n",
       "    </tr>\n",
       "    <tr>\n",
       "      <th>4</th>\n",
       "      <td>4</td>\n",
       "      <td>0.486123</td>\n",
       "      <td>0.486123</td>\n",
       "      <td>0.497752</td>\n",
       "    </tr>\n",
       "    <tr>\n",
       "      <th>...</th>\n",
       "      <td>...</td>\n",
       "      <td>...</td>\n",
       "      <td>...</td>\n",
       "      <td>...</td>\n",
       "    </tr>\n",
       "    <tr>\n",
       "      <th>739</th>\n",
       "      <td>739</td>\n",
       "      <td>0.298297</td>\n",
       "      <td>0.298297</td>\n",
       "      <td>0.283412</td>\n",
       "    </tr>\n",
       "    <tr>\n",
       "      <th>740</th>\n",
       "      <td>740</td>\n",
       "      <td>0.550643</td>\n",
       "      <td>0.550643</td>\n",
       "      <td>0.589468</td>\n",
       "    </tr>\n",
       "    <tr>\n",
       "      <th>741</th>\n",
       "      <td>741</td>\n",
       "      <td>0.661735</td>\n",
       "      <td>0.661735</td>\n",
       "      <td>0.617862</td>\n",
       "    </tr>\n",
       "    <tr>\n",
       "      <th>742</th>\n",
       "      <td>742</td>\n",
       "      <td>0.715602</td>\n",
       "      <td>0.715602</td>\n",
       "      <td>0.667699</td>\n",
       "    </tr>\n",
       "    <tr>\n",
       "      <th>743</th>\n",
       "      <td>743</td>\n",
       "      <td>0.481313</td>\n",
       "      <td>0.481313</td>\n",
       "      <td>0.460231</td>\n",
       "    </tr>\n",
       "  </tbody>\n",
       "</table>\n",
       "<p>744 rows × 4 columns</p>\n",
       "</div>"
      ],
      "text/plain": [
       "      id  prediction_x  prediction_y  prediction\n",
       "0      0      0.489572      0.489572    0.617911\n",
       "1      1      0.791385      0.791385    0.722200\n",
       "2      2      0.346894      0.346894    0.411294\n",
       "3      3      0.962404      0.962404    0.961742\n",
       "4      4      0.486123      0.486123    0.497752\n",
       "..   ...           ...           ...         ...\n",
       "739  739      0.298297      0.298297    0.283412\n",
       "740  740      0.550643      0.550643    0.589468\n",
       "741  741      0.661735      0.661735    0.617862\n",
       "742  742      0.715602      0.715602    0.667699\n",
       "743  743      0.481313      0.481313    0.460231\n",
       "\n",
       "[744 rows x 4 columns]"
      ]
     },
     "execution_count": 17,
     "metadata": {},
     "output_type": "execute_result"
    }
   ],
   "source": [
    "d1.merge(d2, on='id').merge(d3, on='id')"
   ]
  },
  {
   "cell_type": "code",
   "execution_count": 23,
   "id": "4f56f411",
   "metadata": {
    "ExecuteTime": {
     "end_time": "2022-11-24T18:20:49.483929Z",
     "start_time": "2022-11-24T18:15:07.612828Z"
    }
   },
   "outputs": [
    {
     "name": "stdout",
     "output_type": "stream",
     "text": [
      "[LightGBM] [Info] Number of positive: 1653588, number of negative: 872368\n",
      "[LightGBM] [Warning] Auto-choosing col-wise multi-threading, the overhead of testing was 0.227970 seconds.\n",
      "You can set `force_col_wise=true` to remove the overhead.\n",
      "[LightGBM] [Info] Total Bins 2840\n",
      "[LightGBM] [Info] Number of data points in the train set: 2525956, number of used features: 17\n",
      "[LightGBM] [Info] [binary:BoostFromScore]: pavg=0.654638 -> initscore=0.639491\n",
      "[LightGBM] [Info] Start training from score 0.639491\n",
      "[100]\tvalid_0's binary_logloss: 0.628573\n",
      "[200]\tvalid_0's binary_logloss: 0.622693\n",
      "[1000]\tvalid_0's binary_logloss: 0.603296\n",
      "[1100]\tvalid_0's binary_logloss: 0.601964\n",
      "[1200]\tvalid_0's binary_logloss: 0.600705\n",
      "[1300]\tvalid_0's binary_logloss: 0.598862\n",
      "[1400]\tvalid_0's binary_logloss: 0.597412\n",
      "[1500]\tvalid_0's binary_logloss: 0.596286\n",
      "[1600]\tvalid_0's binary_logloss: 0.594529\n",
      "[1700]\tvalid_0's binary_logloss: 0.592822\n",
      "[1800]\tvalid_0's binary_logloss: 0.591632\n",
      "[1900]\tvalid_0's binary_logloss: 0.590614\n",
      "[2000]\tvalid_0's binary_logloss: 0.589187\n",
      "[2100]\tvalid_0's binary_logloss: 0.587818\n",
      "[2200]\tvalid_0's binary_logloss: 0.585765\n",
      "[2300]\tvalid_0's binary_logloss: 0.584448\n",
      "[2400]\tvalid_0's binary_logloss: 0.583134\n",
      "[2500]\tvalid_0's binary_logloss: 0.582229\n",
      "[2600]\tvalid_0's binary_logloss: 0.580783\n",
      "[2700]\tvalid_0's binary_logloss: 0.579512\n",
      "[2800]\tvalid_0's binary_logloss: 0.577595\n",
      "[2900]\tvalid_0's binary_logloss: 0.575603\n",
      "[3000]\tvalid_0's binary_logloss: 0.574601\n",
      "[3100]\tvalid_0's binary_logloss: 0.572937\n",
      "[3200]\tvalid_0's binary_logloss: 0.571511\n",
      "VALID AUC : 0.7718773603657325 ACC : 0.6945690084703537\n",
      "\n"
     ]
    }
   ],
   "source": [
    "lgb_x_train = lgb.Dataset(x_train[FEATS], y_train)\n",
    "lgb_x_valid = lgb.Dataset(x_valid[FEATS], y_valid)\n",
    "\n",
    "model2 = lgb.train(\n",
    "    {'objective': 'binary'}, \n",
    "    lgb_x_train,\n",
    "    valid_sets=[lgb_x_valid],\n",
    "    verbose_eval=100,\n",
    "    num_boost_round=3200,\n",
    "#     early_stopping_rounds=200,\n",
    ")\n",
    "\n",
    "preds = model2.predict(x_valid[FEATS])\n",
    "acc = accuracy_score(y_valid, np.where(preds >= 0.5, 1, 0))\n",
    "auc = roc_auc_score(y_valid, preds)\n",
    "\n",
    "print(f'VALID AUC : {auc} ACC : {acc}\\n')"
   ]
  },
  {
   "cell_type": "code",
   "execution_count": 20,
   "id": "e799d0df",
   "metadata": {
    "ExecuteTime": {
     "end_time": "2022-11-24T18:14:11.705714Z",
     "start_time": "2022-11-24T18:14:11.643274Z"
    }
   },
   "outputs": [
    {
     "name": "stdout",
     "output_type": "stream",
     "text": [
      "writing prediction : output/LGBM_Baseline_학습데이터변경_logloss_기존7627.csv\n"
     ]
    }
   ],
   "source": [
    "lgbm_predict(test, model2, FEATS, 'LGBM_Baseline_학습데이터변경_logloss_기존7627.csv')"
   ]
  },
  {
   "cell_type": "code",
   "execution_count": 21,
   "id": "4ec1ead4",
   "metadata": {
    "ExecuteTime": {
     "end_time": "2022-11-24T18:14:22.901860Z",
     "start_time": "2022-11-24T18:14:22.894693Z"
    }
   },
   "outputs": [],
   "source": [
    "d4 = pd.read_csv('output/LGBM_Baseline_학습데이터변경_logloss_기존7627.csv')"
   ]
  },
  {
   "cell_type": "code",
   "execution_count": 22,
   "id": "38fd03a3",
   "metadata": {
    "ExecuteTime": {
     "end_time": "2022-11-24T18:14:35.154860Z",
     "start_time": "2022-11-24T18:14:35.131321Z"
    }
   },
   "outputs": [
    {
     "data": {
      "text/html": [
       "<div>\n",
       "<style scoped>\n",
       "    .dataframe tbody tr th:only-of-type {\n",
       "        vertical-align: middle;\n",
       "    }\n",
       "\n",
       "    .dataframe tbody tr th {\n",
       "        vertical-align: top;\n",
       "    }\n",
       "\n",
       "    .dataframe thead th {\n",
       "        text-align: right;\n",
       "    }\n",
       "</style>\n",
       "<table border=\"1\" class=\"dataframe\">\n",
       "  <thead>\n",
       "    <tr style=\"text-align: right;\">\n",
       "      <th></th>\n",
       "      <th>id</th>\n",
       "      <th>prediction_x</th>\n",
       "      <th>prediction_y</th>\n",
       "      <th>prediction_x</th>\n",
       "      <th>prediction_y</th>\n",
       "    </tr>\n",
       "  </thead>\n",
       "  <tbody>\n",
       "    <tr>\n",
       "      <th>0</th>\n",
       "      <td>0</td>\n",
       "      <td>0.489572</td>\n",
       "      <td>0.489572</td>\n",
       "      <td>0.617911</td>\n",
       "      <td>0.617911</td>\n",
       "    </tr>\n",
       "    <tr>\n",
       "      <th>1</th>\n",
       "      <td>1</td>\n",
       "      <td>0.791385</td>\n",
       "      <td>0.791385</td>\n",
       "      <td>0.722200</td>\n",
       "      <td>0.722200</td>\n",
       "    </tr>\n",
       "    <tr>\n",
       "      <th>2</th>\n",
       "      <td>2</td>\n",
       "      <td>0.346894</td>\n",
       "      <td>0.346894</td>\n",
       "      <td>0.411294</td>\n",
       "      <td>0.411294</td>\n",
       "    </tr>\n",
       "    <tr>\n",
       "      <th>3</th>\n",
       "      <td>3</td>\n",
       "      <td>0.962404</td>\n",
       "      <td>0.962404</td>\n",
       "      <td>0.961742</td>\n",
       "      <td>0.961742</td>\n",
       "    </tr>\n",
       "    <tr>\n",
       "      <th>4</th>\n",
       "      <td>4</td>\n",
       "      <td>0.486123</td>\n",
       "      <td>0.486123</td>\n",
       "      <td>0.497752</td>\n",
       "      <td>0.497752</td>\n",
       "    </tr>\n",
       "    <tr>\n",
       "      <th>...</th>\n",
       "      <td>...</td>\n",
       "      <td>...</td>\n",
       "      <td>...</td>\n",
       "      <td>...</td>\n",
       "      <td>...</td>\n",
       "    </tr>\n",
       "    <tr>\n",
       "      <th>739</th>\n",
       "      <td>739</td>\n",
       "      <td>0.298297</td>\n",
       "      <td>0.298297</td>\n",
       "      <td>0.283412</td>\n",
       "      <td>0.283412</td>\n",
       "    </tr>\n",
       "    <tr>\n",
       "      <th>740</th>\n",
       "      <td>740</td>\n",
       "      <td>0.550643</td>\n",
       "      <td>0.550643</td>\n",
       "      <td>0.589468</td>\n",
       "      <td>0.589468</td>\n",
       "    </tr>\n",
       "    <tr>\n",
       "      <th>741</th>\n",
       "      <td>741</td>\n",
       "      <td>0.661735</td>\n",
       "      <td>0.661735</td>\n",
       "      <td>0.617862</td>\n",
       "      <td>0.617862</td>\n",
       "    </tr>\n",
       "    <tr>\n",
       "      <th>742</th>\n",
       "      <td>742</td>\n",
       "      <td>0.715602</td>\n",
       "      <td>0.715602</td>\n",
       "      <td>0.667699</td>\n",
       "      <td>0.667699</td>\n",
       "    </tr>\n",
       "    <tr>\n",
       "      <th>743</th>\n",
       "      <td>743</td>\n",
       "      <td>0.481313</td>\n",
       "      <td>0.481313</td>\n",
       "      <td>0.460231</td>\n",
       "      <td>0.460231</td>\n",
       "    </tr>\n",
       "  </tbody>\n",
       "</table>\n",
       "<p>744 rows × 5 columns</p>\n",
       "</div>"
      ],
      "text/plain": [
       "      id  prediction_x  prediction_y  prediction_x  prediction_y\n",
       "0      0      0.489572      0.489572      0.617911      0.617911\n",
       "1      1      0.791385      0.791385      0.722200      0.722200\n",
       "2      2      0.346894      0.346894      0.411294      0.411294\n",
       "3      3      0.962404      0.962404      0.961742      0.961742\n",
       "4      4      0.486123      0.486123      0.497752      0.497752\n",
       "..   ...           ...           ...           ...           ...\n",
       "739  739      0.298297      0.298297      0.283412      0.283412\n",
       "740  740      0.550643      0.550643      0.589468      0.589468\n",
       "741  741      0.661735      0.661735      0.617862      0.617862\n",
       "742  742      0.715602      0.715602      0.667699      0.667699\n",
       "743  743      0.481313      0.481313      0.460231      0.460231\n",
       "\n",
       "[744 rows x 5 columns]"
      ]
     },
     "execution_count": 22,
     "metadata": {},
     "output_type": "execute_result"
    }
   ],
   "source": [
    "d1.merge(d2, on='id').merge(d3, on='id').merge(d4, on='id')"
   ]
  }
 ],
 "metadata": {
  "kernelspec": {
   "display_name": "Python 3 (ipykernel)",
   "language": "python",
   "name": "python3"
  },
  "language_info": {
   "codemirror_mode": {
    "name": "ipython",
    "version": 3
   },
   "file_extension": ".py",
   "mimetype": "text/x-python",
   "name": "python",
   "nbconvert_exporter": "python",
   "pygments_lexer": "ipython3",
   "version": "3.9.15"
  },
  "toc": {
   "base_numbering": 1,
   "nav_menu": {},
   "number_sections": true,
   "sideBar": true,
   "skip_h1_title": true,
   "title_cell": "Table of Contents",
   "title_sidebar": "Contents",
   "toc_cell": false,
   "toc_position": {},
   "toc_section_display": true,
   "toc_window_display": false
  }
 },
 "nbformat": 4,
 "nbformat_minor": 5
}
