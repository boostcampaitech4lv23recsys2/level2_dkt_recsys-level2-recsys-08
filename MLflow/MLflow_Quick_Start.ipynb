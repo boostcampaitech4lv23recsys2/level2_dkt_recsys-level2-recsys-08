{
 "cells": [
  {
   "cell_type": "markdown",
   "id": "b3102485",
   "metadata": {
    "toc": true
   },
   "source": [
    "<h1>Table of Contents<span class=\"tocSkip\"></span></h1>\n",
    "<div class=\"toc\"><ul class=\"toc-item\"><li><span><a href=\"#라이브러리-설치\" data-toc-modified-id=\"라이브러리-설치-1\">라이브러리 설치</a></span></li><li><span><a href=\"#라이브러리-import-&amp;-dataLoad\" data-toc-modified-id=\"라이브러리-import-&amp;-dataLoad-2\">라이브러리 import &amp; dataLoad</a></span></li><li><span><a href=\"#train-&amp;-valid-&amp;-test-split\" data-toc-modified-id=\"train-&amp;-valid-&amp;-test-split-3\">train &amp; valid &amp; test split</a></span></li><li><span><a href=\"#MLflow-초기-설정\" data-toc-modified-id=\"MLflow-초기-설정-4\">MLflow 초기 설정</a></span><ul class=\"toc-item\"><li><span><a href=\"#사용자-설정\" data-toc-modified-id=\"사용자-설정-4.1\">사용자 설정</a></span></li><li><span><a href=\"#mlflow-server-연결\" data-toc-modified-id=\"mlflow-server-연결-4.2\">mlflow server 연결</a></span></li><li><span><a href=\"#실험-생성-or-이미-존재한다면-id-가져오기\" data-toc-modified-id=\"실험-생성-or-이미-존재한다면-id-가져오기-4.3\">실험 생성 or 이미 존재한다면 id 가져오기</a></span></li></ul></li><li><span><a href=\"#pytorch-튜토리얼\" data-toc-modified-id=\"pytorch-튜토리얼-5\">pytorch 튜토리얼</a></span><ul class=\"toc-item\"><li><span><a href=\"#모델-불러와서-기존-학습된-모델과-비교\" data-toc-modified-id=\"모델-불러와서-기존-학습된-모델과-비교-5.1\">모델 불러와서 기존 학습된 모델과 비교</a></span></li></ul></li><li><span><a href=\"#Tabnet-Tutorial\" data-toc-modified-id=\"Tabnet-Tutorial-6\">Tabnet Tutorial</a></span><ul class=\"toc-item\"><li><span><a href=\"#mlflow-callback-함수-설정\" data-toc-modified-id=\"mlflow-callback-함수-설정-6.1\">mlflow callback 함수 설정</a></span></li></ul></li></ul></div>"
   ]
  },
  {
   "cell_type": "markdown",
   "id": "387689be",
   "metadata": {},
   "source": [
    "## 라이브러리 설치"
   ]
  },
  {
   "cell_type": "code",
   "execution_count": 1,
   "id": "e5c94963",
   "metadata": {
    "ExecuteTime": {
     "end_time": "2022-12-03T03:21:06.388694Z",
     "start_time": "2022-12-03T03:20:59.787629Z"
    },
    "collapsed": true
   },
   "outputs": [
    {
     "name": "stdout",
     "output_type": "stream",
     "text": [
      "Collecting mlflow\n",
      "  Downloading mlflow-2.0.1-py3-none-any.whl (16.5 MB)\n",
      "\u001b[2K     \u001b[38;2;114;156;31m━━━━━━━━━━━━━━━━━━━━━━━━━━━━━━━━━━━━━━━━\u001b[0m \u001b[32m16.5/16.5 MB\u001b[0m \u001b[31m22.2 MB/s\u001b[0m eta \u001b[36m0:00:00\u001b[0mm eta \u001b[36m0:00:01\u001b[0m[36m0:00:01\u001b[0m\n",
      "\u001b[?25hRequirement already satisfied: scipy<2 in /Users/cwj/miniconda3/envs/tf25/lib/python3.8/site-packages (from mlflow) (1.7.3)\n",
      "Requirement already satisfied: pytz<2023 in /Users/cwj/miniconda3/envs/tf25/lib/python3.8/site-packages (from mlflow) (2021.3)\n",
      "Requirement already satisfied: packaging<22 in /Users/cwj/miniconda3/envs/tf25/lib/python3.8/site-packages (from mlflow) (21.3)\n",
      "Requirement already satisfied: cloudpickle<3 in /Users/cwj/miniconda3/envs/tf25/lib/python3.8/site-packages (from mlflow) (2.0.0)\n",
      "Collecting gunicorn<21\n",
      "  Using cached gunicorn-20.1.0-py3-none-any.whl (79 kB)\n",
      "Requirement already satisfied: requests<3,>=2.17.3 in /Users/cwj/miniconda3/envs/tf25/lib/python3.8/site-packages (from mlflow) (2.27.1)\n",
      "Collecting querystring-parser<2\n",
      "  Downloading querystring_parser-1.2.4-py2.py3-none-any.whl (7.9 kB)\n",
      "Requirement already satisfied: alembic<2 in /Users/cwj/miniconda3/envs/tf25/lib/python3.8/site-packages (from mlflow) (1.7.6)\n",
      "Requirement already satisfied: entrypoints<1 in /Users/cwj/miniconda3/envs/tf25/lib/python3.8/site-packages (from mlflow) (0.4)\n",
      "Requirement already satisfied: pandas<2 in /Users/cwj/miniconda3/envs/tf25/lib/python3.8/site-packages (from mlflow) (1.4.1)\n",
      "Collecting pyarrow<11,>=4.0.0\n",
      "  Downloading pyarrow-10.0.1-cp38-cp38-macosx_11_0_arm64.whl (23.0 MB)\n",
      "\u001b[2K     \u001b[38;2;114;156;31m━━━━━━━━━━━━━━━━━━━━━━━━━━━━━━━━━━━━━━━━\u001b[0m \u001b[32m23.0/23.0 MB\u001b[0m \u001b[31m22.2 MB/s\u001b[0m eta \u001b[36m0:00:00\u001b[0mm eta \u001b[36m0:00:01\u001b[0m[36m0:00:01\u001b[0m\n",
      "\u001b[?25hRequirement already satisfied: importlib-metadata!=4.7.0,<6,>=3.7.0 in /Users/cwj/miniconda3/envs/tf25/lib/python3.8/site-packages (from mlflow) (4.11.2)\n",
      "Collecting Flask<3\n",
      "  Downloading Flask-2.2.2-py3-none-any.whl (101 kB)\n",
      "\u001b[2K     \u001b[38;2;114;156;31m━━━━━━━━━━━━━━━━━━━━━━━━━━━━━━━━━━━━━━\u001b[0m \u001b[32m101.5/101.5 kB\u001b[0m \u001b[31m10.2 MB/s\u001b[0m eta \u001b[36m0:00:00\u001b[0m\n",
      "\u001b[?25hRequirement already satisfied: gitpython<4,>=2.1.0 in /Users/cwj/miniconda3/envs/tf25/lib/python3.8/site-packages (from mlflow) (3.1.27)\n",
      "Requirement already satisfied: protobuf<5,>=3.12.0 in /Users/cwj/miniconda3/envs/tf25/lib/python3.8/site-packages (from mlflow) (3.19.4)\n",
      "Collecting docker<7,>=4.0.0\n",
      "  Downloading docker-6.0.1-py3-none-any.whl (147 kB)\n",
      "\u001b[2K     \u001b[38;2;114;156;31m━━━━━━━━━━━━━━━━━━━━━━━━━━━━━━━━━━━━━━\u001b[0m \u001b[32m147.5/147.5 kB\u001b[0m \u001b[31m12.9 MB/s\u001b[0m eta \u001b[36m0:00:00\u001b[0m\n",
      "\u001b[?25hRequirement already satisfied: Jinja2<4,>=2.11 in /Users/cwj/miniconda3/envs/tf25/lib/python3.8/site-packages (from mlflow) (3.0.3)\n",
      "Collecting databricks-cli<1,>=0.8.7\n",
      "  Downloading databricks-cli-0.17.3.tar.gz (77 kB)\n",
      "\u001b[2K     \u001b[38;2;114;156;31m━━━━━━━━━━━━━━━━━━━━━━━━━━━━━━━━━━━━━━━━\u001b[0m \u001b[32m77.9/77.9 kB\u001b[0m \u001b[31m9.1 MB/s\u001b[0m eta \u001b[36m0:00:00\u001b[0m\n",
      "\u001b[?25h  Preparing metadata (setup.py) ... \u001b[?25ldone\n",
      "\u001b[?25hCollecting sqlparse<1,>=0.4.0\n",
      "  Downloading sqlparse-0.4.3-py3-none-any.whl (42 kB)\n",
      "\u001b[2K     \u001b[38;2;114;156;31m━━━━━━━━━━━━━━━━━━━━━━━━━━━━━━━━━━━━━━━━\u001b[0m \u001b[32m42.8/42.8 kB\u001b[0m \u001b[31m4.8 MB/s\u001b[0m eta \u001b[36m0:00:00\u001b[0m\n",
      "\u001b[?25hRequirement already satisfied: numpy<2 in /Users/cwj/miniconda3/envs/tf25/lib/python3.8/site-packages (from mlflow) (1.21.2)\n",
      "Requirement already satisfied: sqlalchemy<2,>=1.4.0 in /Users/cwj/miniconda3/envs/tf25/lib/python3.8/site-packages (from mlflow) (1.4.32)\n",
      "Requirement already satisfied: shap<1,>=0.40 in /Users/cwj/miniconda3/envs/tf25/lib/python3.8/site-packages (from mlflow) (0.41.0)\n",
      "Requirement already satisfied: click<9,>=7.0 in /Users/cwj/miniconda3/envs/tf25/lib/python3.8/site-packages (from mlflow) (8.0.4)\n",
      "Requirement already satisfied: matplotlib<4 in /Users/cwj/miniconda3/envs/tf25/lib/python3.8/site-packages (from mlflow) (3.5.1)\n",
      "Requirement already satisfied: pyyaml<7,>=5.1 in /Users/cwj/miniconda3/envs/tf25/lib/python3.8/site-packages (from mlflow) (6.0)\n",
      "Requirement already satisfied: scikit-learn<2 in /Users/cwj/miniconda3/envs/tf25/lib/python3.8/site-packages (from mlflow) (1.1.3)\n",
      "Requirement already satisfied: markdown<4,>=3.3 in /Users/cwj/miniconda3/envs/tf25/lib/python3.8/site-packages (from mlflow) (3.3.6)\n",
      "Requirement already satisfied: Mako in /Users/cwj/miniconda3/envs/tf25/lib/python3.8/site-packages (from alembic<2->mlflow) (1.2.0)\n",
      "Requirement already satisfied: importlib-resources in /Users/cwj/miniconda3/envs/tf25/lib/python3.8/site-packages (from alembic<2->mlflow) (5.4.0)\n",
      "Collecting pyjwt>=1.7.0\n",
      "  Downloading PyJWT-2.6.0-py3-none-any.whl (20 kB)\n",
      "Requirement already satisfied: oauthlib>=3.1.0 in /Users/cwj/miniconda3/envs/tf25/lib/python3.8/site-packages (from databricks-cli<1,>=0.8.7->mlflow) (3.2.0)\n",
      "Requirement already satisfied: tabulate>=0.7.7 in /Users/cwj/miniconda3/envs/tf25/lib/python3.8/site-packages (from databricks-cli<1,>=0.8.7->mlflow) (0.8.10)\n",
      "Requirement already satisfied: six>=1.10.0 in /Users/cwj/miniconda3/envs/tf25/lib/python3.8/site-packages (from databricks-cli<1,>=0.8.7->mlflow) (1.16.0)\n",
      "Requirement already satisfied: urllib3>=1.26.0 in /Users/cwj/miniconda3/envs/tf25/lib/python3.8/site-packages (from docker<7,>=4.0.0->mlflow) (1.26.12)\n",
      "Requirement already satisfied: websocket-client>=0.32.0 in /Users/cwj/miniconda3/envs/tf25/lib/python3.8/site-packages (from docker<7,>=4.0.0->mlflow) (1.3.3)\n",
      "Collecting itsdangerous>=2.0\n",
      "  Downloading itsdangerous-2.1.2-py3-none-any.whl (15 kB)\n",
      "Collecting Werkzeug>=2.2.2\n",
      "  Using cached Werkzeug-2.2.2-py3-none-any.whl (232 kB)\n",
      "Requirement already satisfied: gitdb<5,>=4.0.1 in /Users/cwj/miniconda3/envs/tf25/lib/python3.8/site-packages (from gitpython<4,>=2.1.0->mlflow) (4.0.9)\n",
      "Requirement already satisfied: setuptools>=3.0 in /Users/cwj/miniconda3/envs/tf25/lib/python3.8/site-packages (from gunicorn<21->mlflow) (58.0.4)\n",
      "Requirement already satisfied: zipp>=0.5 in /Users/cwj/miniconda3/envs/tf25/lib/python3.8/site-packages (from importlib-metadata!=4.7.0,<6,>=3.7.0->mlflow) (3.7.0)\n",
      "Requirement already satisfied: MarkupSafe>=2.0 in /Users/cwj/miniconda3/envs/tf25/lib/python3.8/site-packages (from Jinja2<4,>=2.11->mlflow) (2.0.1)\n",
      "Requirement already satisfied: cycler>=0.10 in /Users/cwj/miniconda3/envs/tf25/lib/python3.8/site-packages (from matplotlib<4->mlflow) (0.11.0)\n",
      "Requirement already satisfied: fonttools>=4.22.0 in /Users/cwj/miniconda3/envs/tf25/lib/python3.8/site-packages (from matplotlib<4->mlflow) (4.25.0)\n",
      "Requirement already satisfied: kiwisolver>=1.0.1 in /Users/cwj/miniconda3/envs/tf25/lib/python3.8/site-packages (from matplotlib<4->mlflow) (1.3.2)\n",
      "Requirement already satisfied: pillow>=6.2.0 in /Users/cwj/miniconda3/envs/tf25/lib/python3.8/site-packages (from matplotlib<4->mlflow) (9.2.0)\n",
      "Requirement already satisfied: pyparsing>=2.2.1 in /Users/cwj/miniconda3/envs/tf25/lib/python3.8/site-packages (from matplotlib<4->mlflow) (3.0.7)\n",
      "Requirement already satisfied: python-dateutil>=2.7 in /Users/cwj/miniconda3/envs/tf25/lib/python3.8/site-packages (from matplotlib<4->mlflow) (2.8.2)\n",
      "Requirement already satisfied: idna<4,>=2.5 in /Users/cwj/miniconda3/envs/tf25/lib/python3.8/site-packages (from requests<3,>=2.17.3->mlflow) (3.3)\n",
      "Requirement already satisfied: charset-normalizer~=2.0.0 in /Users/cwj/miniconda3/envs/tf25/lib/python3.8/site-packages (from requests<3,>=2.17.3->mlflow) (2.0.12)\n",
      "Requirement already satisfied: certifi>=2017.4.17 in /Users/cwj/miniconda3/envs/tf25/lib/python3.8/site-packages (from requests<3,>=2.17.3->mlflow) (2022.9.24)\n",
      "Requirement already satisfied: threadpoolctl>=2.0.0 in /Users/cwj/miniconda3/envs/tf25/lib/python3.8/site-packages (from scikit-learn<2->mlflow) (2.1.0)\n",
      "Requirement already satisfied: joblib>=1.0.0 in /Users/cwj/miniconda3/envs/tf25/lib/python3.8/site-packages (from scikit-learn<2->mlflow) (1.1.0)\n",
      "Requirement already satisfied: tqdm>4.25.0 in /Users/cwj/miniconda3/envs/tf25/lib/python3.8/site-packages (from shap<1,>=0.40->mlflow) (4.63.0)\n",
      "Requirement already satisfied: slicer==0.0.7 in /Users/cwj/miniconda3/envs/tf25/lib/python3.8/site-packages (from shap<1,>=0.40->mlflow) (0.0.7)\n",
      "Requirement already satisfied: numba in /Users/cwj/miniconda3/envs/tf25/lib/python3.8/site-packages (from shap<1,>=0.40->mlflow) (0.55.2)\n"
     ]
    },
    {
     "name": "stdout",
     "output_type": "stream",
     "text": [
      "Requirement already satisfied: smmap<6,>=3.0.1 in /Users/cwj/miniconda3/envs/tf25/lib/python3.8/site-packages (from gitdb<5,>=4.0.1->gitpython<4,>=2.1.0->mlflow) (5.0.0)\n",
      "Collecting MarkupSafe>=2.0\n",
      "  Using cached MarkupSafe-2.1.1-cp38-cp38-macosx_10_9_universal2.whl (17 kB)\n",
      "Requirement already satisfied: llvmlite<0.39,>=0.38.0rc1 in /Users/cwj/miniconda3/envs/tf25/lib/python3.8/site-packages (from numba->shap<1,>=0.40->mlflow) (0.38.1)\n",
      "Building wheels for collected packages: databricks-cli\n",
      "  Building wheel for databricks-cli (setup.py) ... \u001b[?25ldone\n",
      "\u001b[?25h  Created wheel for databricks-cli: filename=databricks_cli-0.17.3-py3-none-any.whl size=139102 sha256=9a4a2f3ab296236b1310738f77af5ece5526a05a357cbadd50a0a8a0072d524d\n",
      "  Stored in directory: /Users/cwj/Library/Caches/pip/wheels/0d/3d/a6/4e1c9eb0231541ccd4b7e9f153d7c122a857851e0a735ac46e\n",
      "Successfully built databricks-cli\n",
      "Installing collected packages: sqlparse, querystring-parser, pyjwt, pyarrow, MarkupSafe, itsdangerous, gunicorn, Werkzeug, docker, databricks-cli, Flask, mlflow\n",
      "  Attempting uninstall: MarkupSafe\n",
      "    Found existing installation: MarkupSafe 2.0.1\n",
      "    Uninstalling MarkupSafe-2.0.1:\n",
      "      Successfully uninstalled MarkupSafe-2.0.1\n",
      "  Attempting uninstall: Werkzeug\n",
      "    Found existing installation: Werkzeug 2.0.3\n",
      "    Uninstalling Werkzeug-2.0.3:\n",
      "      Successfully uninstalled Werkzeug-2.0.3\n",
      "\u001b[31mERROR: pip's dependency resolver does not currently take into account all the packages that are installed. This behaviour is the source of the following dependency conflicts.\n",
      "jupyter 1.0.0 requires qtconsole, which is not installed.\u001b[0m\u001b[31m\n",
      "\u001b[0mSuccessfully installed Flask-2.2.2 MarkupSafe-2.1.1 Werkzeug-2.2.2 databricks-cli-0.17.3 docker-6.0.1 gunicorn-20.1.0 itsdangerous-2.1.2 mlflow-2.0.1 pyarrow-10.0.1 pyjwt-2.6.0 querystring-parser-1.2.4 sqlparse-0.4.3\n"
     ]
    }
   ],
   "source": [
    "!pip install mlflow"
   ]
  },
  {
   "cell_type": "code",
   "execution_count": 205,
   "id": "3776b8ed",
   "metadata": {
    "ExecuteTime": {
     "end_time": "2022-12-03T08:04:58.309089Z",
     "start_time": "2022-12-03T08:04:55.010510Z"
    },
    "collapsed": true
   },
   "outputs": [
    {
     "name": "stdout",
     "output_type": "stream",
     "text": [
      "Collecting pytorch-lightning==1.8.1\n",
      "  Downloading pytorch_lightning-1.8.1-py3-none-any.whl (798 kB)\n",
      "\u001b[2K     \u001b[38;2;114;156;31m━━━━━━━━━━━━━━━━━━━━━━━━━━━━━━━━━━━━━━\u001b[0m \u001b[32m798.4/798.4 kB\u001b[0m \u001b[31m15.8 MB/s\u001b[0m eta \u001b[36m0:00:00\u001b[0mm eta \u001b[36m0:00:01\u001b[0m\n",
      "\u001b[?25hRequirement already satisfied: numpy>=1.17.2 in /Users/cwj/miniconda3/envs/tf25/lib/python3.8/site-packages (from pytorch-lightning==1.8.1) (1.21.2)\n",
      "Requirement already satisfied: torch>=1.9.* in /Users/cwj/miniconda3/envs/tf25/lib/python3.8/site-packages (from pytorch-lightning==1.8.1) (1.12.1)\n",
      "Collecting tensorboard>=2.9.1\n",
      "  Downloading tensorboard-2.11.0-py3-none-any.whl (6.0 MB)\n",
      "\u001b[2K     \u001b[38;2;114;156;31m━━━━━━━━━━━━━━━━━━━━━━━━━━━━━━━━━━━━━━━━\u001b[0m \u001b[32m6.0/6.0 MB\u001b[0m \u001b[31m23.1 MB/s\u001b[0m eta \u001b[36m0:00:00\u001b[0m31m24.7 MB/s\u001b[0m eta \u001b[36m0:00:01\u001b[0m\n",
      "\u001b[?25hRequirement already satisfied: PyYAML>=5.4 in /Users/cwj/miniconda3/envs/tf25/lib/python3.8/site-packages (from pytorch-lightning==1.8.1) (6.0)\n",
      "Requirement already satisfied: fsspec[http]>2021.06.0 in /Users/cwj/miniconda3/envs/tf25/lib/python3.8/site-packages (from pytorch-lightning==1.8.1) (2022.3.0)\n",
      "Requirement already satisfied: typing-extensions>=4.0.0 in /Users/cwj/miniconda3/envs/tf25/lib/python3.8/site-packages (from pytorch-lightning==1.8.1) (4.1.1)\n",
      "Requirement already satisfied: torchmetrics>=0.7.0 in /Users/cwj/miniconda3/envs/tf25/lib/python3.8/site-packages (from pytorch-lightning==1.8.1) (0.11.0)\n",
      "Requirement already satisfied: tqdm>=4.57.0 in /Users/cwj/miniconda3/envs/tf25/lib/python3.8/site-packages (from pytorch-lightning==1.8.1) (4.63.0)\n",
      "Requirement already satisfied: packaging>=17.0 in /Users/cwj/miniconda3/envs/tf25/lib/python3.8/site-packages (from pytorch-lightning==1.8.1) (21.3)\n",
      "Requirement already satisfied: lightning-utilities==0.3.* in /Users/cwj/miniconda3/envs/tf25/lib/python3.8/site-packages (from pytorch-lightning==1.8.1) (0.3.0)\n",
      "Requirement already satisfied: fire in /Users/cwj/miniconda3/envs/tf25/lib/python3.8/site-packages (from lightning-utilities==0.3.*->pytorch-lightning==1.8.1) (0.4.0)\n",
      "Requirement already satisfied: requests in /Users/cwj/miniconda3/envs/tf25/lib/python3.8/site-packages (from fsspec[http]>2021.06.0->pytorch-lightning==1.8.1) (2.27.1)\n",
      "Requirement already satisfied: aiohttp in /Users/cwj/miniconda3/envs/tf25/lib/python3.8/site-packages (from fsspec[http]>2021.06.0->pytorch-lightning==1.8.1) (3.8.3)\n",
      "Requirement already satisfied: pyparsing!=3.0.5,>=2.0.2 in /Users/cwj/miniconda3/envs/tf25/lib/python3.8/site-packages (from packaging>=17.0->pytorch-lightning==1.8.1) (3.0.7)\n",
      "Requirement already satisfied: protobuf<4,>=3.9.2 in /Users/cwj/miniconda3/envs/tf25/lib/python3.8/site-packages (from tensorboard>=2.9.1->pytorch-lightning==1.8.1) (3.19.4)\n",
      "Requirement already satisfied: setuptools>=41.0.0 in /Users/cwj/miniconda3/envs/tf25/lib/python3.8/site-packages (from tensorboard>=2.9.1->pytorch-lightning==1.8.1) (58.0.4)\n",
      "Requirement already satisfied: werkzeug>=1.0.1 in /Users/cwj/miniconda3/envs/tf25/lib/python3.8/site-packages (from tensorboard>=2.9.1->pytorch-lightning==1.8.1) (2.2.2)\n",
      "Requirement already satisfied: google-auth<3,>=1.6.3 in /Users/cwj/miniconda3/envs/tf25/lib/python3.8/site-packages (from tensorboard>=2.9.1->pytorch-lightning==1.8.1) (2.6.0)\n",
      "Requirement already satisfied: grpcio>=1.24.3 in /Users/cwj/miniconda3/envs/tf25/lib/python3.8/site-packages (from tensorboard>=2.9.1->pytorch-lightning==1.8.1) (1.42.0)\n",
      "Requirement already satisfied: wheel>=0.26 in /Users/cwj/miniconda3/envs/tf25/lib/python3.8/site-packages (from tensorboard>=2.9.1->pytorch-lightning==1.8.1) (0.37.1)\n",
      "Requirement already satisfied: absl-py>=0.4 in /Users/cwj/miniconda3/envs/tf25/lib/python3.8/site-packages (from tensorboard>=2.9.1->pytorch-lightning==1.8.1) (1.0.0)\n",
      "Requirement already satisfied: tensorboard-data-server<0.7.0,>=0.6.0 in /Users/cwj/miniconda3/envs/tf25/lib/python3.8/site-packages (from tensorboard>=2.9.1->pytorch-lightning==1.8.1) (0.6.1)\n",
      "Requirement already satisfied: tensorboard-plugin-wit>=1.6.0 in /Users/cwj/miniconda3/envs/tf25/lib/python3.8/site-packages (from tensorboard>=2.9.1->pytorch-lightning==1.8.1) (1.8.1)\n",
      "Requirement already satisfied: markdown>=2.6.8 in /Users/cwj/miniconda3/envs/tf25/lib/python3.8/site-packages (from tensorboard>=2.9.1->pytorch-lightning==1.8.1) (3.3.6)\n",
      "Requirement already satisfied: google-auth-oauthlib<0.5,>=0.4.1 in /Users/cwj/miniconda3/envs/tf25/lib/python3.8/site-packages (from tensorboard>=2.9.1->pytorch-lightning==1.8.1) (0.4.6)\n",
      "Requirement already satisfied: six in /Users/cwj/miniconda3/envs/tf25/lib/python3.8/site-packages (from absl-py>=0.4->tensorboard>=2.9.1->pytorch-lightning==1.8.1) (1.16.0)\n",
      "Requirement already satisfied: rsa<5,>=3.1.4 in /Users/cwj/miniconda3/envs/tf25/lib/python3.8/site-packages (from google-auth<3,>=1.6.3->tensorboard>=2.9.1->pytorch-lightning==1.8.1) (4.8)\n",
      "Requirement already satisfied: cachetools<6.0,>=2.0.0 in /Users/cwj/miniconda3/envs/tf25/lib/python3.8/site-packages (from google-auth<3,>=1.6.3->tensorboard>=2.9.1->pytorch-lightning==1.8.1) (5.0.0)\n",
      "Requirement already satisfied: pyasn1-modules>=0.2.1 in /Users/cwj/miniconda3/envs/tf25/lib/python3.8/site-packages (from google-auth<3,>=1.6.3->tensorboard>=2.9.1->pytorch-lightning==1.8.1) (0.2.8)\n",
      "Requirement already satisfied: requests-oauthlib>=0.7.0 in /Users/cwj/miniconda3/envs/tf25/lib/python3.8/site-packages (from google-auth-oauthlib<0.5,>=0.4.1->tensorboard>=2.9.1->pytorch-lightning==1.8.1) (1.3.1)\n",
      "Requirement already satisfied: importlib-metadata>=4.4 in /Users/cwj/miniconda3/envs/tf25/lib/python3.8/site-packages (from markdown>=2.6.8->tensorboard>=2.9.1->pytorch-lightning==1.8.1) (4.11.2)\n",
      "Requirement already satisfied: certifi>=2017.4.17 in /Users/cwj/miniconda3/envs/tf25/lib/python3.8/site-packages (from requests->fsspec[http]>2021.06.0->pytorch-lightning==1.8.1) (2022.9.24)\n",
      "Requirement already satisfied: urllib3<1.27,>=1.21.1 in /Users/cwj/miniconda3/envs/tf25/lib/python3.8/site-packages (from requests->fsspec[http]>2021.06.0->pytorch-lightning==1.8.1) (1.26.12)\n",
      "Requirement already satisfied: idna<4,>=2.5 in /Users/cwj/miniconda3/envs/tf25/lib/python3.8/site-packages (from requests->fsspec[http]>2021.06.0->pytorch-lightning==1.8.1) (3.3)\n",
      "Requirement already satisfied: charset-normalizer~=2.0.0 in /Users/cwj/miniconda3/envs/tf25/lib/python3.8/site-packages (from requests->fsspec[http]>2021.06.0->pytorch-lightning==1.8.1) (2.0.12)\n",
      "Requirement already satisfied: MarkupSafe>=2.1.1 in /Users/cwj/miniconda3/envs/tf25/lib/python3.8/site-packages (from werkzeug>=1.0.1->tensorboard>=2.9.1->pytorch-lightning==1.8.1) (2.1.1)\n",
      "Requirement already satisfied: multidict<7.0,>=4.5 in /Users/cwj/miniconda3/envs/tf25/lib/python3.8/site-packages (from aiohttp->fsspec[http]>2021.06.0->pytorch-lightning==1.8.1) (6.0.3)\n",
      "Requirement already satisfied: frozenlist>=1.1.1 in /Users/cwj/miniconda3/envs/tf25/lib/python3.8/site-packages (from aiohttp->fsspec[http]>2021.06.0->pytorch-lightning==1.8.1) (1.3.1)\n",
      "Requirement already satisfied: aiosignal>=1.1.2 in /Users/cwj/miniconda3/envs/tf25/lib/python3.8/site-packages (from aiohttp->fsspec[http]>2021.06.0->pytorch-lightning==1.8.1) (1.2.0)\n",
      "Requirement already satisfied: attrs>=17.3.0 in /Users/cwj/miniconda3/envs/tf25/lib/python3.8/site-packages (from aiohttp->fsspec[http]>2021.06.0->pytorch-lightning==1.8.1) (21.4.0)\n",
      "Requirement already satisfied: yarl<2.0,>=1.0 in /Users/cwj/miniconda3/envs/tf25/lib/python3.8/site-packages (from aiohttp->fsspec[http]>2021.06.0->pytorch-lightning==1.8.1) (1.8.1)\n",
      "Requirement already satisfied: async-timeout<5.0,>=4.0.0a3 in /Users/cwj/miniconda3/envs/tf25/lib/python3.8/site-packages (from aiohttp->fsspec[http]>2021.06.0->pytorch-lightning==1.8.1) (4.0.2)\n",
      "Requirement already satisfied: termcolor in /Users/cwj/miniconda3/envs/tf25/lib/python3.8/site-packages (from fire->lightning-utilities==0.3.*->pytorch-lightning==1.8.1) (1.1.0)\n",
      "Requirement already satisfied: zipp>=0.5 in /Users/cwj/miniconda3/envs/tf25/lib/python3.8/site-packages (from importlib-metadata>=4.4->markdown>=2.6.8->tensorboard>=2.9.1->pytorch-lightning==1.8.1) (3.7.0)\n",
      "Requirement already satisfied: pyasn1<0.5.0,>=0.4.6 in /Users/cwj/miniconda3/envs/tf25/lib/python3.8/site-packages (from pyasn1-modules>=0.2.1->google-auth<3,>=1.6.3->tensorboard>=2.9.1->pytorch-lightning==1.8.1) (0.4.8)\n",
      "Requirement already satisfied: oauthlib>=3.0.0 in /Users/cwj/miniconda3/envs/tf25/lib/python3.8/site-packages (from requests-oauthlib>=0.7.0->google-auth-oauthlib<0.5,>=0.4.1->tensorboard>=2.9.1->pytorch-lightning==1.8.1) (3.2.0)\n"
     ]
    },
    {
     "name": "stdout",
     "output_type": "stream",
     "text": [
      "Installing collected packages: tensorboard, pytorch-lightning\n",
      "  Attempting uninstall: tensorboard\n",
      "    Found existing installation: tensorboard 2.8.0\n",
      "    Uninstalling tensorboard-2.8.0:\n",
      "      Successfully uninstalled tensorboard-2.8.0\n",
      "  Attempting uninstall: pytorch-lightning\n",
      "    Found existing installation: pytorch-lightning 1.8.3.post1\n",
      "    Uninstalling pytorch-lightning-1.8.3.post1:\n",
      "      Successfully uninstalled pytorch-lightning-1.8.3.post1\n",
      "\u001b[31mERROR: pip's dependency resolver does not currently take into account all the packages that are installed. This behaviour is the source of the following dependency conflicts.\n",
      "tensorflow-macos 2.8.0 requires tensorboard<2.9,>=2.8, but you have tensorboard 2.11.0 which is incompatible.\u001b[0m\u001b[31m\n",
      "\u001b[0mSuccessfully installed pytorch-lightning-1.8.1 tensorboard-2.11.0\n"
     ]
    }
   ],
   "source": [
    "!pip install pytorch-lightning==1.8.1"
   ]
  },
  {
   "cell_type": "code",
   "execution_count": 22,
   "id": "b7f9b71c",
   "metadata": {
    "ExecuteTime": {
     "end_time": "2022-12-03T04:02:40.345827Z",
     "start_time": "2022-12-03T04:02:38.041369Z"
    },
    "collapsed": true
   },
   "outputs": [
    {
     "name": "stdout",
     "output_type": "stream",
     "text": [
      "Collecting pytorch-tabnet\n",
      "  Downloading pytorch_tabnet-4.0-py3-none-any.whl (41 kB)\n",
      "\u001b[2K     \u001b[38;2;114;156;31m━━━━━━━━━━━━━━━━━━━━━━━━━━━━━━━━━━━━━━━━\u001b[0m \u001b[32m41.8/41.8 kB\u001b[0m \u001b[31m3.9 MB/s\u001b[0m eta \u001b[36m0:00:00\u001b[0m\n",
      "\u001b[?25hRequirement already satisfied: numpy<2.0,>=1.17 in /Users/cwj/miniconda3/envs/tf25/lib/python3.8/site-packages (from pytorch-tabnet) (1.21.2)\n",
      "Requirement already satisfied: tqdm<5.0,>=4.36 in /Users/cwj/miniconda3/envs/tf25/lib/python3.8/site-packages (from pytorch-tabnet) (4.63.0)\n",
      "Requirement already satisfied: scikit_learn>0.21 in /Users/cwj/miniconda3/envs/tf25/lib/python3.8/site-packages (from pytorch-tabnet) (1.1.3)\n",
      "Requirement already satisfied: scipy>1.4 in /Users/cwj/miniconda3/envs/tf25/lib/python3.8/site-packages (from pytorch-tabnet) (1.7.3)\n",
      "Requirement already satisfied: torch<2.0,>=1.2 in /Users/cwj/miniconda3/envs/tf25/lib/python3.8/site-packages (from pytorch-tabnet) (1.12.1)\n",
      "Requirement already satisfied: threadpoolctl>=2.0.0 in /Users/cwj/miniconda3/envs/tf25/lib/python3.8/site-packages (from scikit_learn>0.21->pytorch-tabnet) (2.1.0)\n",
      "Requirement already satisfied: joblib>=1.0.0 in /Users/cwj/miniconda3/envs/tf25/lib/python3.8/site-packages (from scikit_learn>0.21->pytorch-tabnet) (1.1.0)\n",
      "Requirement already satisfied: typing-extensions in /Users/cwj/miniconda3/envs/tf25/lib/python3.8/site-packages (from torch<2.0,>=1.2->pytorch-tabnet) (4.1.1)\n",
      "Installing collected packages: pytorch-tabnet\n",
      "Successfully installed pytorch-tabnet-4.0\n"
     ]
    }
   ],
   "source": [
    "!pip install pytorch-tabnet"
   ]
  },
  {
   "cell_type": "markdown",
   "id": "6aedb9d9",
   "metadata": {},
   "source": [
    "## 라이브러리 import & dataLoad"
   ]
  },
  {
   "cell_type": "code",
   "execution_count": 1,
   "id": "715b6ce7",
   "metadata": {
    "ExecuteTime": {
     "end_time": "2022-12-03T08:05:24.761855Z",
     "start_time": "2022-12-03T08:05:22.858181Z"
    }
   },
   "outputs": [
    {
     "data": {
      "text/plain": [
       "'1.8.1'"
      ]
     },
     "execution_count": 1,
     "metadata": {},
     "output_type": "execute_result"
    }
   ],
   "source": [
    "import pytorch_lightning\n",
    "pytorch_lightning.__version__"
   ]
  },
  {
   "cell_type": "code",
   "execution_count": 1,
   "id": "feddb7c1",
   "metadata": {
    "ExecuteTime": {
     "end_time": "2022-12-04T13:12:07.653180Z",
     "start_time": "2022-12-04T13:12:06.541747Z"
    }
   },
   "outputs": [],
   "source": [
    "import mlflow\n",
    "import pandas as pd\n",
    "import numpy as np\n",
    "import os\n",
    "import random\n",
    "import warnings\n",
    "warnings.filterwarnings('ignore')\n",
    "from sklearn.metrics import roc_auc_score\n",
    "\n",
    "def feature_engineering(df):\n",
    "    #유저별 시퀀스를 고려하기 위해 아래와 같이 정렬\n",
    "    df.sort_values(by=['userID','Timestamp'], inplace=True)\n",
    "    \n",
    "    #유저들의 문제 풀이수, 정답 수, 정답률을 시간순으로 누적해서 계산\n",
    "    ## 유저별 맞춘 개수를 한칸 아래로 땡기기(shift 1)\n",
    "    df['user_correct_answer'] = df.groupby('userID')['answerCode'].transform(lambda x: x.cumsum().shift(1))\n",
    "    ## 유저별 문제 푼 개수 cumcount\n",
    "    df['user_total_answer'] = df.groupby('userID')['answerCode'].cumcount()\n",
    "    # 유저별 푼 문제수에 따른 정확도\n",
    "    df['user_acc'] = df['user_correct_answer']/df['user_total_answer']\n",
    "\n",
    "    # testId와 KnowledgeTag의 전체 정답률은 한번에 계산\n",
    "    # 아래 데이터는 제출용 데이터셋에 대해서도 재사용\n",
    "    \n",
    "    ## 시험지별 정답률과 맞춘 횟수\n",
    "    correct_t = df.groupby(['testId'])['answerCode'].agg(['mean', 'sum'])\n",
    "    correct_t.columns = [\"test_mean\", 'test_sum']\n",
    "    ## 문제 유형별 정답률과 맞춘 횟수\n",
    "    correct_k = df.groupby(['KnowledgeTag'])['answerCode'].agg(['mean', 'sum'])\n",
    "    correct_k.columns = [\"tag_mean\", 'tag_sum']\n",
    "\n",
    "    ## df에 시험지별 정답률과 맞춘 횟수 추가\n",
    "    df = pd.merge(df, correct_t, on=['testId'], how=\"left\")\n",
    "    ## df에 문제 유형별 정답률과 맞춘 횟수 추가\n",
    "    df = pd.merge(df, correct_k, on=['KnowledgeTag'], how=\"left\")\n",
    "    \n",
    "    return df\n",
    "# train과 test 데이터셋은 사용자 별로 묶어서 분리를 해주어야함\n",
    "def custom_train_test_split(df, ratio=0.1, split=True, seed=13):\n",
    "    \n",
    "    users = list(zip(df['userID'].value_counts().index, df['userID'].value_counts()))\n",
    "    random.seed(seed)\n",
    "    random.shuffle(users)\n",
    "    \n",
    "    max_train_data_len = ratio*len(df)\n",
    "    sum_of_train_data = 0\n",
    "    user_ids =[]\n",
    "\n",
    "    for user_id, count in users:\n",
    "        sum_of_train_data += count\n",
    "        if max_train_data_len < sum_of_train_data:\n",
    "            break\n",
    "        user_ids.append(user_id)\n",
    "\n",
    "\n",
    "    train = df[df['userID'].isin(user_ids)]\n",
    "    test = df[df['userID'].isin(user_ids) == False]\n",
    "\n",
    "    #test데이터셋은 각 유저의 마지막 interaction만 추출\n",
    "    test = test[test['userID'] != test['userID'].shift(-1)]\n",
    "    return train, test"
   ]
  },
  {
   "cell_type": "markdown",
   "id": "4cf8119f",
   "metadata": {},
   "source": [
    "## train & valid & test split"
   ]
  },
  {
   "cell_type": "code",
   "execution_count": 3,
   "id": "c0406d30",
   "metadata": {
    "ExecuteTime": {
     "end_time": "2022-12-03T08:05:32.105026Z",
     "start_time": "2022-12-03T08:05:26.609710Z"
    }
   },
   "outputs": [
    {
     "data": {
      "text/plain": [
       "((226506, 12), (6010, 12), (744, 13))"
      ]
     },
     "execution_count": 3,
     "metadata": {},
     "output_type": "execute_result"
    }
   ],
   "source": [
    "data_dir = '../../data'\n",
    "SEED=13\n",
    "\n",
    "train = pd.read_csv(os.path.join(data_dir,'train_data.csv'))\n",
    "test = pd.read_csv(os.path.join(data_dir,'test_data.csv'))\n",
    "train=feature_engineering(train)\n",
    "test=feature_engineering(test)\n",
    "train,valid = custom_train_test_split(train, seed=SEED)\n",
    "# 사용할 Feature 설정\n",
    "FEATS = ['KnowledgeTag', 'user_correct_answer', 'user_total_answer', \n",
    "         'user_acc', 'test_mean', 'test_sum', 'tag_mean','tag_sum']\n",
    "\n",
    "# X, y 값 분리\n",
    "y_train = train['answerCode']\n",
    "train = train.drop(['answerCode'], axis=1)\n",
    "\n",
    "y_valid = valid['answerCode']\n",
    "valid = valid.drop(['answerCode'], axis=1)\n",
    "\n",
    "# Tabnet은 NaN값있으면 안되서 NaN 채우기\n",
    "train.fillna(0,inplace=True)\n",
    "valid.fillna(0,inplace=True)\n",
    "\n",
    "test = test[test.userID != test.userID.shift(-1)]\n",
    "\n",
    "train.shape, valid.shape, test.shape"
   ]
  },
  {
   "cell_type": "markdown",
   "id": "64f7e2ef",
   "metadata": {},
   "source": [
    "## MLflow 초기 설정"
   ]
  },
  {
   "cell_type": "markdown",
   "id": "c9b0369e",
   "metadata": {},
   "source": [
    "### 사용자 설정"
   ]
  },
  {
   "cell_type": "code",
   "execution_count": 2,
   "id": "92f0f1fe",
   "metadata": {
    "ExecuteTime": {
     "end_time": "2022-12-04T13:12:18.027454Z",
     "start_time": "2022-12-04T13:12:18.023991Z"
    }
   },
   "outputs": [],
   "source": [
    "os.environ[\"LOGNAME\"] = \"cwj\""
   ]
  },
  {
   "cell_type": "markdown",
   "id": "2cbec300",
   "metadata": {},
   "source": [
    "### mlflow server 연결"
   ]
  },
  {
   "cell_type": "code",
   "execution_count": 7,
   "id": "6e52ba80",
   "metadata": {
    "ExecuteTime": {
     "end_time": "2022-12-03T08:06:01.022842Z",
     "start_time": "2022-12-03T08:06:01.019105Z"
    }
   },
   "outputs": [],
   "source": [
    "remote_server_uri=\"http://118.67.134.110:30005\"\n",
    "mlflow.set_tracking_uri(remote_server_uri)"
   ]
  },
  {
   "cell_type": "markdown",
   "id": "effd4b1c",
   "metadata": {},
   "source": [
    "### 실험 생성 or 이미 존재한다면 id 가져오기"
   ]
  },
  {
   "cell_type": "code",
   "execution_count": 8,
   "id": "8b82bf3b",
   "metadata": {
    "ExecuteTime": {
     "end_time": "2022-12-03T08:06:03.218258Z",
     "start_time": "2022-12-03T08:06:03.138284Z"
    }
   },
   "outputs": [
    {
     "data": {
      "text/plain": [
       "'111027469669502760'"
      ]
     },
     "execution_count": 8,
     "metadata": {},
     "output_type": "execute_result"
    }
   ],
   "source": [
    "client = mlflow.tracking.MlflowClient()\n",
    "experiment_name = \"Tutorial\" # 튜토\n",
    "try:\n",
    "    experiment_id = client.create_experiment(experiment_name)\n",
    "except:\n",
    "    experiment = client.get_experiment_by_name(experiment_name)\n",
    "    experiment_id = experiment.experiment_id\n",
    "experiment_id"
   ]
  },
  {
   "cell_type": "markdown",
   "id": "1b7782b2",
   "metadata": {},
   "source": [
    "## pytorch 튜토리얼\n",
    "참조: https://www.mlflow.org/docs/latest/python_api/mlflow.pytorch.html"
   ]
  },
  {
   "cell_type": "code",
   "execution_count": 9,
   "id": "722a2ec8",
   "metadata": {
    "ExecuteTime": {
     "end_time": "2022-12-03T08:06:04.387359Z",
     "start_time": "2022-12-03T08:06:04.380597Z"
    }
   },
   "outputs": [],
   "source": [
    "import torch\n",
    "from torch.autograd import Variable\n",
    "class linearRegression(torch.nn.Module):\n",
    "    def __init__(self, inputSize, outputSize):\n",
    "        super(linearRegression, self).__init__()\n",
    "        self.linear = torch.nn.Linear(inputSize, outputSize)\n",
    "\n",
    "    def forward(self, x):\n",
    "        out = self.linear(x)\n",
    "        return out"
   ]
  },
  {
   "cell_type": "code",
   "execution_count": 10,
   "id": "5860738f",
   "metadata": {
    "ExecuteTime": {
     "end_time": "2022-12-03T08:06:05.465777Z",
     "start_time": "2022-12-03T08:06:05.460089Z"
    }
   },
   "outputs": [],
   "source": [
    "model = linearRegression(inputSize=len(FEATS), outputSize=1)\n",
    "criterion = torch.nn.BCEWithLogitsLoss()\n",
    "optimizer = torch.optim.SGD(model.parameters(), lr=0.00001)"
   ]
  },
  {
   "cell_type": "code",
   "execution_count": 11,
   "id": "beb168f9",
   "metadata": {
    "ExecuteTime": {
     "end_time": "2022-12-03T08:06:05.818955Z",
     "start_time": "2022-12-03T08:06:05.814592Z"
    }
   },
   "outputs": [],
   "source": [
    "mlflow.pytorch.autolog()"
   ]
  },
  {
   "cell_type": "code",
   "execution_count": 48,
   "id": "4ceba015",
   "metadata": {
    "ExecuteTime": {
     "end_time": "2022-12-03T08:24:46.906593Z",
     "start_time": "2022-12-03T08:24:46.286868Z"
    },
    "scrolled": true
   },
   "outputs": [
    {
     "name": "stdout",
     "output_type": "stream",
     "text": [
      "epoch 0, loss 90.1653060913086\n"
     ]
    },
    {
     "data": {
      "text/plain": [
       "linearRegression(\n",
       "  (linear): Linear(in_features=8, out_features=1, bias=True)\n",
       ")"
      ]
     },
     "execution_count": 48,
     "metadata": {},
     "output_type": "execute_result"
    },
    {
     "name": "stdout",
     "output_type": "stream",
     "text": [
      "epoch 1, loss 87.58428192138672\n"
     ]
    },
    {
     "data": {
      "text/plain": [
       "linearRegression(\n",
       "  (linear): Linear(in_features=8, out_features=1, bias=True)\n",
       ")"
      ]
     },
     "execution_count": 48,
     "metadata": {},
     "output_type": "execute_result"
    },
    {
     "name": "stdout",
     "output_type": "stream",
     "text": [
      "epoch 2, loss 85.00765228271484\n"
     ]
    },
    {
     "data": {
      "text/plain": [
       "linearRegression(\n",
       "  (linear): Linear(in_features=8, out_features=1, bias=True)\n",
       ")"
      ]
     },
     "execution_count": 48,
     "metadata": {},
     "output_type": "execute_result"
    },
    {
     "name": "stdout",
     "output_type": "stream",
     "text": [
      "epoch 3, loss 82.43504333496094\n"
     ]
    },
    {
     "data": {
      "text/plain": [
       "linearRegression(\n",
       "  (linear): Linear(in_features=8, out_features=1, bias=True)\n",
       ")"
      ]
     },
     "execution_count": 48,
     "metadata": {},
     "output_type": "execute_result"
    },
    {
     "name": "stdout",
     "output_type": "stream",
     "text": [
      "epoch 4, loss 79.86756896972656\n"
     ]
    },
    {
     "data": {
      "text/plain": [
       "linearRegression(\n",
       "  (linear): Linear(in_features=8, out_features=1, bias=True)\n",
       ")"
      ]
     },
     "execution_count": 48,
     "metadata": {},
     "output_type": "execute_result"
    },
    {
     "name": "stdout",
     "output_type": "stream",
     "text": [
      "epoch 5, loss 77.30581665039062\n"
     ]
    },
    {
     "data": {
      "text/plain": [
       "linearRegression(\n",
       "  (linear): Linear(in_features=8, out_features=1, bias=True)\n",
       ")"
      ]
     },
     "execution_count": 48,
     "metadata": {},
     "output_type": "execute_result"
    },
    {
     "name": "stdout",
     "output_type": "stream",
     "text": [
      "epoch 6, loss 74.75005340576172\n"
     ]
    },
    {
     "data": {
      "text/plain": [
       "linearRegression(\n",
       "  (linear): Linear(in_features=8, out_features=1, bias=True)\n",
       ")"
      ]
     },
     "execution_count": 48,
     "metadata": {},
     "output_type": "execute_result"
    },
    {
     "name": "stdout",
     "output_type": "stream",
     "text": [
      "epoch 7, loss 72.20103454589844\n"
     ]
    },
    {
     "data": {
      "text/plain": [
       "linearRegression(\n",
       "  (linear): Linear(in_features=8, out_features=1, bias=True)\n",
       ")"
      ]
     },
     "execution_count": 48,
     "metadata": {},
     "output_type": "execute_result"
    },
    {
     "name": "stdout",
     "output_type": "stream",
     "text": [
      "epoch 8, loss 69.6605224609375\n"
     ]
    },
    {
     "data": {
      "text/plain": [
       "linearRegression(\n",
       "  (linear): Linear(in_features=8, out_features=1, bias=True)\n",
       ")"
      ]
     },
     "execution_count": 48,
     "metadata": {},
     "output_type": "execute_result"
    },
    {
     "name": "stdout",
     "output_type": "stream",
     "text": [
      "epoch 9, loss 67.12972259521484\n"
     ]
    },
    {
     "data": {
      "text/plain": [
       "linearRegression(\n",
       "  (linear): Linear(in_features=8, out_features=1, bias=True)\n",
       ")"
      ]
     },
     "execution_count": 48,
     "metadata": {},
     "output_type": "execute_result"
    },
    {
     "name": "stderr",
     "output_type": "stream",
     "text": [
      "2022/12/03 17:24:46 WARNING mlflow.utils.environment: Encountered an unexpected error while inferring pip requirements (model URI: /var/folders/3z/y96spzj121b8vg6xflzxfyww0000gn/T/tmpun6a9r1l/model/data, flavor: pytorch), fall back to return ['torch==1.12.1', 'cloudpickle==2.0.0']. Set logging level to DEBUG to see the full traceback.\n"
     ]
    },
    {
     "data": {
      "text/plain": [
       "<mlflow.models.model.ModelInfo at 0x28c8b5d60>"
      ]
     },
     "execution_count": 48,
     "metadata": {},
     "output_type": "execute_result"
    }
   ],
   "source": [
    "run_name=\"pytorch linearRegression\"\n",
    "desc=\"pytorch linearRegression test\"\n",
    "with mlflow.start_run(run_name=run_name, description=desc, experiment_id=experiment_id) as run:\n",
    "    for epoch in range(10):\n",
    "        optimizer.zero_grad()\n",
    "        outputs = model(torch.Tensor(train[FEATS].values))\n",
    "        loss = criterion(outputs, torch.Tensor(y_train.values.reshape(-1,1)))\n",
    "        loss.backward()\n",
    "        optimizer.step()\n",
    "        print('epoch {}, loss {}'.format(epoch, loss.item()))\n",
    "        with torch.no_grad():\n",
    "            model.eval()\n",
    "            valid_outputs = model(torch.Tensor(valid[FEATS].values))\n",
    "            val_loss = criterion(valid_outputs, torch.Tensor(y_valid.values.reshape(-1,1)))\n",
    "            val_auc = roc_auc_score(y_valid, valid_outputs)\n",
    "            mlflow.log_metric(\"VAL AUC\",val_auc)\n",
    "            mlflow.log_metric(\"loss\",val_loss)\n",
    "    mlflow.pytorch.log_model(model, artifact_path=\"model\") # 모델 기록"
   ]
  },
  {
   "cell_type": "markdown",
   "id": "783c39b5",
   "metadata": {},
   "source": [
    "### 모델 불러와서 기존 학습된 모델과 비교\n",
    "\n",
    "기존 학습된 모델: model\n",
    "\n",
    "불러온 모델: loaded_model"
   ]
  },
  {
   "cell_type": "code",
   "execution_count": 49,
   "id": "5a99819a",
   "metadata": {
    "ExecuteTime": {
     "end_time": "2022-12-03T08:25:09.613180Z",
     "start_time": "2022-12-03T08:25:09.597674Z"
    }
   },
   "outputs": [
    {
     "data": {
      "text/plain": [
       "'b3421b5c66c541f797b52259fb78db1a'"
      ]
     },
     "execution_count": 49,
     "metadata": {},
     "output_type": "execute_result"
    }
   ],
   "source": [
    "run.info.run_id"
   ]
  },
  {
   "cell_type": "code",
   "execution_count": 50,
   "id": "05831d75",
   "metadata": {
    "ExecuteTime": {
     "end_time": "2022-12-03T08:25:10.998637Z",
     "start_time": "2022-12-03T08:25:10.802295Z"
    }
   },
   "outputs": [
    {
     "name": "stderr",
     "output_type": "stream",
     "text": [
      "2022/12/03 17:25:10 WARNING mlflow.pyfunc: Encountered an unexpected error (AttributeError(\"module 'importlib_metadata' has no attribute 'packages_distributions'\")) while detecting model dependency mismatches. Set logging level to DEBUG to see the full traceback.\n"
     ]
    }
   ],
   "source": [
    "import mlflow\n",
    "logged_model = f'runs:/{run.info.run_id}/model'\n",
    "\n",
    "# Load model as a PyFuncModel.\n",
    "loaded_model = mlflow.pyfunc.load_model(logged_model)"
   ]
  },
  {
   "cell_type": "code",
   "execution_count": 51,
   "id": "e31f6baa",
   "metadata": {
    "ExecuteTime": {
     "end_time": "2022-12-03T08:25:12.582529Z",
     "start_time": "2022-12-03T08:25:12.573081Z"
    }
   },
   "outputs": [
    {
     "data": {
      "text/plain": [
       "tensor([[ -22.0639],\n",
       "        [-181.9926],\n",
       "        [-254.0373],\n",
       "        [   3.2508],\n",
       "        [ -40.0687],\n",
       "        [ 300.0703],\n",
       "        [-237.0592],\n",
       "        [ 171.9637],\n",
       "        [ 309.0714],\n",
       "        [-220.5343]], grad_fn=<SliceBackward0>)"
      ]
     },
     "execution_count": 51,
     "metadata": {},
     "output_type": "execute_result"
    }
   ],
   "source": [
    "model(torch.Tensor(valid[FEATS].values))[:10]"
   ]
  },
  {
   "cell_type": "code",
   "execution_count": 52,
   "id": "ad54edd1",
   "metadata": {
    "ExecuteTime": {
     "end_time": "2022-12-03T08:25:13.769026Z",
     "start_time": "2022-12-03T08:25:13.757141Z"
    }
   },
   "outputs": [
    {
     "data": {
      "text/html": [
       "<div>\n",
       "<style scoped>\n",
       "    .dataframe tbody tr th:only-of-type {\n",
       "        vertical-align: middle;\n",
       "    }\n",
       "\n",
       "    .dataframe tbody tr th {\n",
       "        vertical-align: top;\n",
       "    }\n",
       "\n",
       "    .dataframe thead th {\n",
       "        text-align: right;\n",
       "    }\n",
       "</style>\n",
       "<table border=\"1\" class=\"dataframe\">\n",
       "  <thead>\n",
       "    <tr style=\"text-align: right;\">\n",
       "      <th></th>\n",
       "      <th>0</th>\n",
       "    </tr>\n",
       "  </thead>\n",
       "  <tbody>\n",
       "    <tr>\n",
       "      <th>744</th>\n",
       "      <td>-22.063894</td>\n",
       "    </tr>\n",
       "    <tr>\n",
       "      <th>1677</th>\n",
       "      <td>-181.992630</td>\n",
       "    </tr>\n",
       "    <tr>\n",
       "      <th>2786</th>\n",
       "      <td>-254.037338</td>\n",
       "    </tr>\n",
       "    <tr>\n",
       "      <th>3707</th>\n",
       "      <td>3.250764</td>\n",
       "    </tr>\n",
       "    <tr>\n",
       "      <th>4519</th>\n",
       "      <td>-40.068741</td>\n",
       "    </tr>\n",
       "    <tr>\n",
       "      <th>5055</th>\n",
       "      <td>300.070343</td>\n",
       "    </tr>\n",
       "    <tr>\n",
       "      <th>5922</th>\n",
       "      <td>-237.059204</td>\n",
       "    </tr>\n",
       "    <tr>\n",
       "      <th>6292</th>\n",
       "      <td>171.963715</td>\n",
       "    </tr>\n",
       "    <tr>\n",
       "      <th>6897</th>\n",
       "      <td>309.071442</td>\n",
       "    </tr>\n",
       "    <tr>\n",
       "      <th>7836</th>\n",
       "      <td>-220.534286</td>\n",
       "    </tr>\n",
       "  </tbody>\n",
       "</table>\n",
       "</div>"
      ],
      "text/plain": [
       "               0\n",
       "744   -22.063894\n",
       "1677 -181.992630\n",
       "2786 -254.037338\n",
       "3707    3.250764\n",
       "4519  -40.068741\n",
       "5055  300.070343\n",
       "5922 -237.059204\n",
       "6292  171.963715\n",
       "6897  309.071442\n",
       "7836 -220.534286"
      ]
     },
     "execution_count": 52,
     "metadata": {},
     "output_type": "execute_result"
    }
   ],
   "source": [
    "load_valid_outputs = loaded_model.predict(valid[FEATS])\n",
    "load_valid_outputs[:10]"
   ]
  },
  {
   "cell_type": "markdown",
   "id": "c7b29c60",
   "metadata": {},
   "source": [
    "## Tabnet Tutorial"
   ]
  },
  {
   "cell_type": "code",
   "execution_count": 98,
   "id": "ed6f719d",
   "metadata": {
    "ExecuteTime": {
     "end_time": "2022-12-03T05:04:49.611998Z",
     "start_time": "2022-12-03T05:04:49.603860Z"
    }
   },
   "outputs": [],
   "source": [
    "import torch\n",
    "from pytorch_tabnet.tab_model import TabNetClassifier, TabNetRegressor\n",
    "\n",
    "params={'mask_type':'sparsemax'}\n",
    "\n",
    "model = TabNetClassifier(**params)"
   ]
  },
  {
   "cell_type": "markdown",
   "id": "1eabb979",
   "metadata": {},
   "source": [
    "### mlflow callback 함수 설정\n",
    "\n",
    "출처: https://towardsdatascience.com/pytorch-tabnet-integration-with-mlflow-cb14f3920cb0"
   ]
  },
  {
   "cell_type": "code",
   "execution_count": 122,
   "id": "16e159b0",
   "metadata": {
    "ExecuteTime": {
     "end_time": "2022-12-03T05:15:11.760830Z",
     "start_time": "2022-12-03T05:15:11.745767Z"
    }
   },
   "outputs": [],
   "source": [
    "from pytorch_tabnet.callbacks import Callback\n",
    "import mlflow\n",
    "\n",
    "#\n",
    "# callback for MLflow integration\n",
    "#\n",
    "class MLCallback(Callback):\n",
    "    def __init__(self, remote_server_uri, experiment_id, run_name, desc, params):\n",
    "        self.remote_server_uri = remote_server_uri\n",
    "        self.experiment_id = experiment_id\n",
    "        self.run_name = run_name\n",
    "        self.desc = desc\n",
    "        self.params = params\n",
    "        \n",
    "    def on_train_begin(self, logs=None):\n",
    "        mlflow.set_tracking_uri(self.remote_server_uri)\n",
    "        mlflow.start_run(run_name = self.run_name, experiment_id=self.experiment_id)\n",
    "        mlflow.log_params(params)\n",
    "        \n",
    "    def on_train_end(self, logs=None):\n",
    "        \n",
    "        mlflow.end_run()\n",
    "        \n",
    "    def on_epoch_end(self, epoch, logs=None):\n",
    "    \n",
    "        # send to MLFlow\n",
    "        mlflow.log_metric(\"valid_auc\", logs[\"val_0_auc\"])\n",
    "        mlflow.log_metric(\"loss\", logs[\"loss\"])\n",
    "        mlflow.log_metric(\"lr\", logs[\"lr\"])\n",
    "ml_callback = MLCallback"
   ]
  },
  {
   "cell_type": "code",
   "execution_count": 125,
   "id": "ee2be4ac",
   "metadata": {
    "ExecuteTime": {
     "end_time": "2022-12-03T05:16:51.462838Z",
     "start_time": "2022-12-03T05:15:22.961202Z"
    }
   },
   "outputs": [
    {
     "name": "stdout",
     "output_type": "stream",
     "text": [
      "epoch 0  | loss: 0.584   | val_0_auc: 0.67553 |  0:00:17s\n",
      "epoch 1  | loss: 0.5684  | val_0_auc: 0.68479 |  0:00:34s\n",
      "epoch 2  | loss: 0.56759 | val_0_auc: 0.68885 |  0:00:50s\n",
      "epoch 3  | loss: 0.56725 | val_0_auc: 0.68798 |  0:01:07s\n",
      "epoch 4  | loss: 0.56692 | val_0_auc: 0.68673 |  0:01:24s\n",
      "Stop training because you reached max_epochs = 5 with best_epoch = 2 and best_val_0_auc = 0.68885\n"
     ]
    }
   ],
   "source": [
    "run_name=\"tabent mlflow test\"\n",
    "desc=\"tabnet emergency\"\n",
    "model.fit(\n",
    "    X_train=train[FEATS].values,\n",
    "    y_train=y_train.values,\n",
    "    eval_set=[(valid[FEATS].values, y_valid.values)],\n",
    "    max_epochs=5,\n",
    "    eval_metric=['auc'],\n",
    "    callbacks=[ml_callback(remote_server_uri, experiment_id, run_name, desc, params)]\n",
    ")\n"
   ]
  },
  {
   "cell_type": "code",
   "execution_count": 69,
   "id": "c6e8d1fa",
   "metadata": {
    "ExecuteTime": {
     "end_time": "2022-12-03T04:20:40.279787Z",
     "start_time": "2022-12-03T04:20:40.244742Z"
    },
    "collapsed": true
   },
   "outputs": [
    {
     "data": {
      "text/plain": [
       "array([[0.34418178],\n",
       "       [0.28635344],\n",
       "       [0.42200392],\n",
       "       [0.30359733],\n",
       "       [0.34146947],\n",
       "       [0.28904858],\n",
       "       [0.3434113 ],\n",
       "       [0.5181855 ],\n",
       "       [0.56956106],\n",
       "       [0.24289362],\n",
       "       [0.35416132],\n",
       "       [0.31952024],\n",
       "       [0.1524481 ],\n",
       "       [0.3739483 ],\n",
       "       [0.20014855],\n",
       "       [0.17866004],\n",
       "       [0.5772255 ],\n",
       "       [0.19308479],\n",
       "       [0.2207003 ],\n",
       "       [0.4226561 ],\n",
       "       [0.18170334],\n",
       "       [0.4189573 ],\n",
       "       [0.5873952 ],\n",
       "       [0.35907793],\n",
       "       [0.4350451 ],\n",
       "       [0.2990977 ],\n",
       "       [0.19204801],\n",
       "       [0.19231887],\n",
       "       [0.39305285],\n",
       "       [0.3724877 ],\n",
       "       [0.33608472],\n",
       "       [0.34044912],\n",
       "       [0.2823102 ],\n",
       "       [0.49297252],\n",
       "       [0.37855926],\n",
       "       [0.45132193],\n",
       "       [0.3335354 ],\n",
       "       [0.35810658],\n",
       "       [0.35249785],\n",
       "       [0.38240463],\n",
       "       [0.39762983],\n",
       "       [0.45180324],\n",
       "       [0.5181574 ],\n",
       "       [0.53084207],\n",
       "       [0.43015468],\n",
       "       [0.2963607 ],\n",
       "       [0.2932395 ],\n",
       "       [0.56975484],\n",
       "       [0.18184246],\n",
       "       [0.3213798 ],\n",
       "       [0.34913868],\n",
       "       [0.36801675],\n",
       "       [0.31774285],\n",
       "       [0.39525577],\n",
       "       [0.3002381 ],\n",
       "       [0.30271256],\n",
       "       [0.45127153],\n",
       "       [0.1826695 ],\n",
       "       [0.54014385],\n",
       "       [0.3704011 ],\n",
       "       [0.25282794],\n",
       "       [0.22649302],\n",
       "       [0.3556071 ],\n",
       "       [0.5301878 ],\n",
       "       [0.41986734],\n",
       "       [0.40525353],\n",
       "       [0.30611974],\n",
       "       [0.33509877],\n",
       "       [0.43738654],\n",
       "       [0.3126178 ],\n",
       "       [0.33348292],\n",
       "       [0.1849305 ],\n",
       "       [0.4805329 ],\n",
       "       [0.50526613],\n",
       "       [0.31249487],\n",
       "       [0.3994475 ],\n",
       "       [0.5750552 ],\n",
       "       [0.4093841 ],\n",
       "       [0.3739418 ],\n",
       "       [0.41615474],\n",
       "       [0.52545804],\n",
       "       [0.23236895],\n",
       "       [0.3310329 ],\n",
       "       [0.26415536],\n",
       "       [0.3051225 ],\n",
       "       [0.36404946],\n",
       "       [0.37126124],\n",
       "       [0.46737608],\n",
       "       [0.27614477],\n",
       "       [0.5179976 ],\n",
       "       [0.56502247],\n",
       "       [0.44064373],\n",
       "       [0.44121385],\n",
       "       [0.17477906],\n",
       "       [0.16582052],\n",
       "       [0.31695998],\n",
       "       [0.5309331 ],\n",
       "       [0.377149  ],\n",
       "       [0.23859155],\n",
       "       [0.39894614],\n",
       "       [0.31892338],\n",
       "       [0.31130192],\n",
       "       [0.2003158 ],\n",
       "       [0.55246925],\n",
       "       [0.20710959],\n",
       "       [0.21694785],\n",
       "       [0.33035108],\n",
       "       [0.25841114],\n",
       "       [0.30031   ],\n",
       "       [0.38436505],\n",
       "       [0.39305538],\n",
       "       [0.22614108],\n",
       "       [0.4283738 ],\n",
       "       [0.43296522],\n",
       "       [0.3569592 ],\n",
       "       [0.26215237],\n",
       "       [0.26885074],\n",
       "       [0.55741835],\n",
       "       [0.37811747],\n",
       "       [0.4531794 ],\n",
       "       [0.40802556],\n",
       "       [0.23850791],\n",
       "       [0.2974235 ],\n",
       "       [0.46956167],\n",
       "       [0.38507098],\n",
       "       [0.32393384],\n",
       "       [0.2119005 ],\n",
       "       [0.45884466],\n",
       "       [0.33466625],\n",
       "       [0.5265199 ],\n",
       "       [0.16445957],\n",
       "       [0.20678452],\n",
       "       [0.35291263],\n",
       "       [0.48202446],\n",
       "       [0.449329  ],\n",
       "       [0.29110348],\n",
       "       [0.37340724],\n",
       "       [0.3174465 ],\n",
       "       [0.3702895 ],\n",
       "       [0.26929066],\n",
       "       [0.30157295],\n",
       "       [0.30235472],\n",
       "       [0.5862759 ],\n",
       "       [0.325395  ],\n",
       "       [0.35329354],\n",
       "       [0.40063262],\n",
       "       [0.21711607],\n",
       "       [0.1834092 ],\n",
       "       [0.39996186],\n",
       "       [0.2954098 ],\n",
       "       [0.47223812],\n",
       "       [0.39562303],\n",
       "       [0.3572608 ],\n",
       "       [0.5454499 ],\n",
       "       [0.42747328],\n",
       "       [0.44987506],\n",
       "       [0.5111525 ],\n",
       "       [0.23416919],\n",
       "       [0.29320306],\n",
       "       [0.38348067],\n",
       "       [0.32336077],\n",
       "       [0.505833  ],\n",
       "       [0.3656324 ],\n",
       "       [0.2818171 ],\n",
       "       [0.3522491 ],\n",
       "       [0.3563366 ],\n",
       "       [0.22706723],\n",
       "       [0.5702083 ],\n",
       "       [0.3514914 ],\n",
       "       [0.3103109 ],\n",
       "       [0.37256375],\n",
       "       [0.37408897],\n",
       "       [0.31289098],\n",
       "       [0.5301138 ],\n",
       "       [0.37635496],\n",
       "       [0.18561906],\n",
       "       [0.3002152 ],\n",
       "       [0.27753648],\n",
       "       [0.5187607 ],\n",
       "       [0.50027525],\n",
       "       [0.32929823],\n",
       "       [0.4141769 ],\n",
       "       [0.31337333],\n",
       "       [0.3020878 ],\n",
       "       [0.20088716],\n",
       "       [0.27609763],\n",
       "       [0.35392752],\n",
       "       [0.45549697],\n",
       "       [0.19563483],\n",
       "       [0.34457818],\n",
       "       [0.28991795],\n",
       "       [0.53859305],\n",
       "       [0.49825302],\n",
       "       [0.19317147],\n",
       "       [0.35475674],\n",
       "       [0.37637997],\n",
       "       [0.21913365],\n",
       "       [0.3577784 ],\n",
       "       [0.21093775],\n",
       "       [0.55238175],\n",
       "       [0.3667338 ],\n",
       "       [0.34099844],\n",
       "       [0.57470226],\n",
       "       [0.28040394],\n",
       "       [0.33715978],\n",
       "       [0.20551436],\n",
       "       [0.5387159 ],\n",
       "       [0.34576732],\n",
       "       [0.35915264],\n",
       "       [0.4811085 ],\n",
       "       [0.3588451 ],\n",
       "       [0.4175618 ],\n",
       "       [0.36005634],\n",
       "       [0.54525256],\n",
       "       [0.29598516],\n",
       "       [0.34541318],\n",
       "       [0.5690709 ],\n",
       "       [0.32125342],\n",
       "       [0.21063353],\n",
       "       [0.28126943],\n",
       "       [0.29168752],\n",
       "       [0.26892695],\n",
       "       [0.5892966 ],\n",
       "       [0.3248308 ],\n",
       "       [0.2287428 ],\n",
       "       [0.5335519 ],\n",
       "       [0.5386039 ],\n",
       "       [0.50189674],\n",
       "       [0.4803076 ],\n",
       "       [0.4091508 ],\n",
       "       [0.58664024],\n",
       "       [0.20540658],\n",
       "       [0.3212031 ],\n",
       "       [0.3936645 ],\n",
       "       [0.3306546 ],\n",
       "       [0.28855073],\n",
       "       [0.3979919 ],\n",
       "       [0.5241829 ],\n",
       "       [0.45636836],\n",
       "       [0.2894231 ],\n",
       "       [0.28069094],\n",
       "       [0.42521533],\n",
       "       [0.5510021 ],\n",
       "       [0.3612482 ],\n",
       "       [0.1899204 ],\n",
       "       [0.51070106],\n",
       "       [0.44819066],\n",
       "       [0.2552472 ],\n",
       "       [0.53151083],\n",
       "       [0.39054054],\n",
       "       [0.48964038],\n",
       "       [0.39615726],\n",
       "       [0.31809244],\n",
       "       [0.32915613],\n",
       "       [0.30597126],\n",
       "       [0.5625951 ],\n",
       "       [0.34805688],\n",
       "       [0.1877996 ],\n",
       "       [0.3757056 ],\n",
       "       [0.54087496],\n",
       "       [0.54452294],\n",
       "       [0.25943124],\n",
       "       [0.40189517],\n",
       "       [0.57119924],\n",
       "       [0.39062938],\n",
       "       [0.22488138],\n",
       "       [0.2356183 ],\n",
       "       [0.31860462],\n",
       "       [0.50032234],\n",
       "       [0.24664965],\n",
       "       [0.5190706 ],\n",
       "       [0.5067557 ],\n",
       "       [0.4914886 ],\n",
       "       [0.36931798],\n",
       "       [0.28997254],\n",
       "       [0.33295062],\n",
       "       [0.3539585 ],\n",
       "       [0.58882886],\n",
       "       [0.5571301 ],\n",
       "       [0.3199929 ],\n",
       "       [0.29305676],\n",
       "       [0.48314807],\n",
       "       [0.22752759],\n",
       "       [0.166588  ],\n",
       "       [0.32048324],\n",
       "       [0.5382899 ],\n",
       "       [0.47151697],\n",
       "       [0.2525868 ],\n",
       "       [0.35710356],\n",
       "       [0.20299199],\n",
       "       [0.4187375 ],\n",
       "       [0.4005099 ],\n",
       "       [0.50162584],\n",
       "       [0.35100627],\n",
       "       [0.41698736],\n",
       "       [0.3764419 ],\n",
       "       [0.33768255],\n",
       "       [0.58902115],\n",
       "       [0.27494988],\n",
       "       [0.46898782],\n",
       "       [0.3266148 ],\n",
       "       [0.4179116 ],\n",
       "       [0.3972394 ],\n",
       "       [0.32553682],\n",
       "       [0.49760544],\n",
       "       [0.5403917 ],\n",
       "       [0.29618073],\n",
       "       [0.17532566],\n",
       "       [0.58364326],\n",
       "       [0.4028062 ],\n",
       "       [0.33572522],\n",
       "       [0.4137104 ],\n",
       "       [0.3309481 ],\n",
       "       [0.34732586],\n",
       "       [0.38057095],\n",
       "       [0.17260902],\n",
       "       [0.54626274],\n",
       "       [0.47132885],\n",
       "       [0.55033636],\n",
       "       [0.25013292],\n",
       "       [0.5381895 ],\n",
       "       [0.32547107],\n",
       "       [0.17350611],\n",
       "       [0.5767178 ],\n",
       "       [0.3218164 ],\n",
       "       [0.513736  ],\n",
       "       [0.18696228],\n",
       "       [0.5765256 ],\n",
       "       [0.38513505],\n",
       "       [0.3370415 ],\n",
       "       [0.3964173 ],\n",
       "       [0.5708302 ],\n",
       "       [0.3153977 ],\n",
       "       [0.543158  ],\n",
       "       [0.25370666],\n",
       "       [0.2918396 ],\n",
       "       [0.5839424 ],\n",
       "       [0.30234462],\n",
       "       [0.19913943],\n",
       "       [0.20869873],\n",
       "       [0.32500553],\n",
       "       [0.28563082],\n",
       "       [0.28748456],\n",
       "       [0.3320479 ],\n",
       "       [0.25409082],\n",
       "       [0.28253415],\n",
       "       [0.32682788],\n",
       "       [0.51602143],\n",
       "       [0.19066648],\n",
       "       [0.35002488],\n",
       "       [0.3637198 ],\n",
       "       [0.48573574],\n",
       "       [0.43453932],\n",
       "       [0.5268938 ],\n",
       "       [0.41804406],\n",
       "       [0.3399534 ],\n",
       "       [0.3341029 ],\n",
       "       [0.4395108 ],\n",
       "       [0.34717205],\n",
       "       [0.26430714],\n",
       "       [0.24817331],\n",
       "       [0.51819074],\n",
       "       [0.62913144],\n",
       "       [0.5435858 ],\n",
       "       [0.44114473],\n",
       "       [0.50603324],\n",
       "       [0.35385886],\n",
       "       [0.39436346],\n",
       "       [0.54216814],\n",
       "       [0.4946566 ],\n",
       "       [0.32516885],\n",
       "       [0.3286073 ],\n",
       "       [0.26573426],\n",
       "       [0.3334512 ],\n",
       "       [0.3858309 ],\n",
       "       [0.30486023],\n",
       "       [0.47107235],\n",
       "       [0.511358  ],\n",
       "       [0.45271397],\n",
       "       [0.42491728],\n",
       "       [0.577694  ],\n",
       "       [0.31522575],\n",
       "       [0.48217595],\n",
       "       [0.4459017 ],\n",
       "       [0.2737778 ],\n",
       "       [0.53719723],\n",
       "       [0.45652127],\n",
       "       [0.491147  ],\n",
       "       [0.3418766 ],\n",
       "       [0.3021705 ],\n",
       "       [0.50471586],\n",
       "       [0.46364847],\n",
       "       [0.58203846],\n",
       "       [0.35077468],\n",
       "       [0.27692527],\n",
       "       [0.3969216 ],\n",
       "       [0.30468923],\n",
       "       [0.41509548],\n",
       "       [0.39813164],\n",
       "       [0.53901017],\n",
       "       [0.1681138 ],\n",
       "       [0.5252838 ],\n",
       "       [0.58637226],\n",
       "       [0.5225687 ],\n",
       "       [0.41715944],\n",
       "       [0.3677288 ],\n",
       "       [0.2956093 ],\n",
       "       [0.60048884],\n",
       "       [0.5246515 ],\n",
       "       [0.45098653],\n",
       "       [0.3093249 ],\n",
       "       [0.5399368 ],\n",
       "       [0.5016872 ],\n",
       "       [0.34816915],\n",
       "       [0.56334275],\n",
       "       [0.3686965 ],\n",
       "       [0.26636058],\n",
       "       [0.56698424],\n",
       "       [0.21433093],\n",
       "       [0.4660618 ],\n",
       "       [0.36616766],\n",
       "       [0.34219837],\n",
       "       [0.41994202],\n",
       "       [0.28866965],\n",
       "       [0.44879517],\n",
       "       [0.43762386],\n",
       "       [0.21915661],\n",
       "       [0.37163737],\n",
       "       [0.27068603],\n",
       "       [0.33246684],\n",
       "       [0.32610628],\n",
       "       [0.3521674 ],\n",
       "       [0.40330106],\n",
       "       [0.2923053 ],\n",
       "       [0.25179693],\n",
       "       [0.35577556],\n",
       "       [0.50856286],\n",
       "       [0.48887244],\n",
       "       [0.2544166 ],\n",
       "       [0.422182  ],\n",
       "       [0.44694486],\n",
       "       [0.5094774 ],\n",
       "       [0.5723857 ],\n",
       "       [0.24727212],\n",
       "       [0.3084471 ],\n",
       "       [0.41742706],\n",
       "       [0.392982  ],\n",
       "       [0.1769789 ],\n",
       "       [0.39250362],\n",
       "       [0.40560177],\n",
       "       [0.34997502],\n",
       "       [0.3527092 ],\n",
       "       [0.2899132 ],\n",
       "       [0.5266288 ],\n",
       "       [0.52029926],\n",
       "       [0.39931193],\n",
       "       [0.48862207],\n",
       "       [0.25751486],\n",
       "       [0.27767685],\n",
       "       [0.5387915 ],\n",
       "       [0.3838481 ],\n",
       "       [0.2743479 ],\n",
       "       [0.5609481 ],\n",
       "       [0.44738504],\n",
       "       [0.31890276],\n",
       "       [0.5529776 ],\n",
       "       [0.41182023],\n",
       "       [0.5687507 ],\n",
       "       [0.47522616],\n",
       "       [0.41752657],\n",
       "       [0.53566784],\n",
       "       [0.5226112 ],\n",
       "       [0.5337982 ],\n",
       "       [0.5026877 ],\n",
       "       [0.5307292 ],\n",
       "       [0.567166  ],\n",
       "       [0.32654667],\n",
       "       [0.55294645],\n",
       "       [0.31913355],\n",
       "       [0.3053018 ],\n",
       "       [0.52699447],\n",
       "       [0.5215845 ],\n",
       "       [0.4960725 ],\n",
       "       [0.4742405 ],\n",
       "       [0.3321179 ],\n",
       "       [0.46594033],\n",
       "       [0.4021043 ],\n",
       "       [0.5033118 ],\n",
       "       [0.5797383 ],\n",
       "       [0.57235175],\n",
       "       [0.5710633 ],\n",
       "       [0.40651727],\n",
       "       [0.3765319 ],\n",
       "       [0.57797176],\n",
       "       [0.6287018 ],\n",
       "       [0.3567533 ],\n",
       "       [0.43525985],\n",
       "       [0.5074028 ],\n",
       "       [0.47135764],\n",
       "       [0.3351513 ],\n",
       "       [0.3412298 ],\n",
       "       [0.5686481 ],\n",
       "       [0.44508222],\n",
       "       [0.4177644 ],\n",
       "       [0.34002984],\n",
       "       [0.5383936 ],\n",
       "       [0.3387676 ],\n",
       "       [0.35206485],\n",
       "       [0.53836393],\n",
       "       [0.5935605 ],\n",
       "       [0.4937834 ],\n",
       "       [0.54711825],\n",
       "       [0.2269601 ],\n",
       "       [0.1985546 ],\n",
       "       [0.4102007 ],\n",
       "       [0.28739056],\n",
       "       [0.24450079],\n",
       "       [0.3979976 ],\n",
       "       [0.52770835],\n",
       "       [0.5714271 ],\n",
       "       [0.21976337],\n",
       "       [0.24005324],\n",
       "       [0.19029748],\n",
       "       [0.5849811 ],\n",
       "       [0.48455805],\n",
       "       [0.22238484],\n",
       "       [0.36848074],\n",
       "       [0.39655074],\n",
       "       [0.4587066 ],\n",
       "       [0.36498725],\n",
       "       [0.52105427],\n",
       "       [0.5465256 ],\n",
       "       [0.5089421 ],\n",
       "       [0.47187588],\n",
       "       [0.47871035],\n",
       "       [0.34440333],\n",
       "       [0.47955224],\n",
       "       [0.57449067],\n",
       "       [0.5072725 ],\n",
       "       [0.3619717 ],\n",
       "       [0.3301728 ],\n",
       "       [0.3740191 ],\n",
       "       [0.36641946],\n",
       "       [0.3989461 ],\n",
       "       [0.5220364 ],\n",
       "       [0.35098198],\n",
       "       [0.5533618 ],\n",
       "       [0.19323619],\n",
       "       [0.37235686],\n",
       "       [0.37479776],\n",
       "       [0.4040633 ],\n",
       "       [0.57487035],\n",
       "       [0.29060653],\n",
       "       [0.4067556 ],\n",
       "       [0.45200518],\n",
       "       [0.3735646 ],\n",
       "       [0.5290184 ],\n",
       "       [0.37021282],\n",
       "       [0.33735687],\n",
       "       [0.35434932],\n",
       "       [0.24877065],\n",
       "       [0.24939764],\n",
       "       [0.3520606 ],\n",
       "       [0.54322076],\n",
       "       [0.33804512],\n",
       "       [0.46230417],\n",
       "       [0.6028029 ],\n",
       "       [0.3119688 ],\n",
       "       [0.55644983],\n",
       "       [0.54744244],\n",
       "       [0.60765773],\n",
       "       [0.38260618],\n",
       "       [0.54706967],\n",
       "       [0.40680712],\n",
       "       [0.5862089 ],\n",
       "       [0.39875674],\n",
       "       [0.46738508],\n",
       "       [0.31323195],\n",
       "       [0.4689769 ],\n",
       "       [0.43907702],\n",
       "       [0.356802  ],\n",
       "       [0.20811883],\n",
       "       [0.20246835],\n",
       "       [0.44600877],\n",
       "       [0.57613295],\n",
       "       [0.44532937],\n",
       "       [0.5503771 ],\n",
       "       [0.39175212],\n",
       "       [0.56919324],\n",
       "       [0.38629976],\n",
       "       [0.6248292 ],\n",
       "       [0.37378928],\n",
       "       [0.49236342],\n",
       "       [0.2131465 ],\n",
       "       [0.43016985],\n",
       "       [0.40293106],\n",
       "       [0.22798224],\n",
       "       [0.56882274],\n",
       "       [0.2958973 ],\n",
       "       [0.5388158 ],\n",
       "       [0.18359712],\n",
       "       [0.43913496],\n",
       "       [0.27668267],\n",
       "       [0.49314585],\n",
       "       [0.3602379 ],\n",
       "       [0.31117538],\n",
       "       [0.4805089 ],\n",
       "       [0.38995647],\n",
       "       [0.4961859 ],\n",
       "       [0.2758555 ],\n",
       "       [0.5289108 ],\n",
       "       [0.53068805],\n",
       "       [0.4039474 ],\n",
       "       [0.576771  ],\n",
       "       [0.540171  ],\n",
       "       [0.55208737],\n",
       "       [0.41857517],\n",
       "       [0.581065  ],\n",
       "       [0.5348217 ],\n",
       "       [0.4417977 ],\n",
       "       [0.55202144],\n",
       "       [0.5309657 ],\n",
       "       [0.51886344],\n",
       "       [0.49785236],\n",
       "       [0.2593353 ],\n",
       "       [0.3962664 ],\n",
       "       [0.22899336],\n",
       "       [0.56727076],\n",
       "       [0.56641   ],\n",
       "       [0.54983014],\n",
       "       [0.60892236],\n",
       "       [0.29573235],\n",
       "       [0.3999861 ],\n",
       "       [0.34761685],\n",
       "       [0.38693777],\n",
       "       [0.5057063 ],\n",
       "       [0.3823731 ],\n",
       "       [0.48380718],\n",
       "       [0.346661  ],\n",
       "       [0.5060011 ],\n",
       "       [0.19051574],\n",
       "       [0.41426829],\n",
       "       [0.57793087],\n",
       "       [0.30214262],\n",
       "       [0.47645444],\n",
       "       [0.38632184],\n",
       "       [0.49012324],\n",
       "       [0.37751266],\n",
       "       [0.49369922],\n",
       "       [0.5056143 ],\n",
       "       [0.5290682 ],\n",
       "       [0.29006067],\n",
       "       [0.2218337 ],\n",
       "       [0.29005432],\n",
       "       [0.42529282],\n",
       "       [0.43838018],\n",
       "       [0.4487631 ],\n",
       "       [0.25211903],\n",
       "       [0.5403767 ],\n",
       "       [0.41653538],\n",
       "       [0.52636665],\n",
       "       [0.19914906],\n",
       "       [0.5278745 ],\n",
       "       [0.519065  ],\n",
       "       [0.42385048],\n",
       "       [0.42717883],\n",
       "       [0.37966472],\n",
       "       [0.46272743],\n",
       "       [0.5206155 ],\n",
       "       [0.49666154],\n",
       "       [0.45417017],\n",
       "       [0.5930581 ],\n",
       "       [0.5334852 ],\n",
       "       [0.4434382 ],\n",
       "       [0.53755367],\n",
       "       [0.20276971],\n",
       "       [0.4906733 ],\n",
       "       [0.38568637],\n",
       "       [0.4022682 ],\n",
       "       [0.52515805],\n",
       "       [0.5420678 ],\n",
       "       [0.41726172],\n",
       "       [0.43773505],\n",
       "       [0.21339445],\n",
       "       [0.39875817],\n",
       "       [0.379652  ],\n",
       "       [0.23725426],\n",
       "       [0.24133766],\n",
       "       [0.5378574 ],\n",
       "       [0.52849364],\n",
       "       [0.5940819 ],\n",
       "       [0.5482897 ],\n",
       "       [0.20533729],\n",
       "       [0.46135828],\n",
       "       [0.5574533 ],\n",
       "       [0.5629527 ],\n",
       "       [0.6004618 ],\n",
       "       [0.5071978 ],\n",
       "       [0.5886997 ],\n",
       "       [0.2837781 ],\n",
       "       [0.24119952],\n",
       "       [0.31235048],\n",
       "       [0.32549104],\n",
       "       [0.331748  ],\n",
       "       [0.451023  ],\n",
       "       [0.3892516 ],\n",
       "       [0.31707275],\n",
       "       [0.56981415],\n",
       "       [0.4915635 ],\n",
       "       [0.53481245],\n",
       "       [0.22853467],\n",
       "       [0.5870644 ],\n",
       "       [0.29850504],\n",
       "       [0.32482567],\n",
       "       [0.559115  ],\n",
       "       [0.4084476 ],\n",
       "       [0.38688028],\n",
       "       [0.5472206 ],\n",
       "       [0.444359  ],\n",
       "       [0.54899955],\n",
       "       [0.38160637],\n",
       "       [0.50648594],\n",
       "       [0.4664724 ],\n",
       "       [0.2682229 ],\n",
       "       [0.2745475 ],\n",
       "       [0.28826693],\n",
       "       [0.58423424],\n",
       "       [0.5165662 ],\n",
       "       [0.3632109 ],\n",
       "       [0.37304965],\n",
       "       [0.3481716 ],\n",
       "       [0.51959294],\n",
       "       [0.37147778],\n",
       "       [0.36696374],\n",
       "       [0.39598942],\n",
       "       [0.45513016],\n",
       "       [0.27334762],\n",
       "       [0.42082825],\n",
       "       [0.2277147 ],\n",
       "       [0.36345598],\n",
       "       [0.22165093],\n",
       "       [0.31869054],\n",
       "       [0.63506776],\n",
       "       [0.38750958]], dtype=float32)"
      ]
     },
     "execution_count": 69,
     "metadata": {},
     "output_type": "execute_result"
    }
   ],
   "source": [
    "model.predict_proba(test[FEATS].values)[:,:1]"
   ]
  }
 ],
 "metadata": {
  "kernelspec": {
   "display_name": "Python 3 (ipykernel)",
   "language": "python",
   "name": "python3"
  },
  "language_info": {
   "codemirror_mode": {
    "name": "ipython",
    "version": 3
   },
   "file_extension": ".py",
   "mimetype": "text/x-python",
   "name": "python",
   "nbconvert_exporter": "python",
   "pygments_lexer": "ipython3",
   "version": "3.9.15"
  },
  "toc": {
   "base_numbering": 1,
   "nav_menu": {},
   "number_sections": false,
   "sideBar": true,
   "skip_h1_title": false,
   "title_cell": "Table of Contents",
   "title_sidebar": "Contents",
   "toc_cell": true,
   "toc_position": {
    "height": "764px",
    "left": "71px",
    "top": "111.141px",
    "width": "384px"
   },
   "toc_section_display": true,
   "toc_window_display": true
  }
 },
 "nbformat": 4,
 "nbformat_minor": 5
}
