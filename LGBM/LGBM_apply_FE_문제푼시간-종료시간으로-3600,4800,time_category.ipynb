{
 "cells": [
  {
   "cell_type": "markdown",
   "id": "f9938ed8",
   "metadata": {},
   "source": [
    "## dataLoad"
   ]
  },
  {
   "cell_type": "code",
   "execution_count": 119,
   "id": "70dcf04a",
   "metadata": {
    "ExecuteTime": {
     "end_time": "2022-11-27T13:51:10.333212Z",
     "start_time": "2022-11-27T13:51:08.752875Z"
    }
   },
   "outputs": [],
   "source": [
    "from IPython.core.interactiveshell import InteractiveShell\n",
    "InteractiveShell.ast_node_interactivity = 'all'\n",
    "import pandas as pd\n",
    "import os\n",
    "import random\n",
    "import warnings\n",
    "warnings.filterwarnings('ignore')\n",
    "import lightgbm as lgb\n",
    "from sklearn.metrics import roc_auc_score\n",
    "from sklearn.metrics import accuracy_score\n",
    "import numpy as np\n",
    "from utils import lgbm_predict, post_slack\n",
    "base_feats = ['KnowledgeTag', 'user_correct_answer', 'user_total_answer', \n",
    "         'user_acc', 'test_mean', 'test_sum', 'tag_mean','tag_sum']\n",
    "# train과 test 데이터셋은 사용자 별로 묶어서 분리를 해주어야함\n",
    "\n",
    "## 1. 데이터 로딩\n",
    "data_dir = '/opt/ml/input/data' # 경로\n",
    "# train_file_path = os.path.join(data_dir, 'train_data.csv') # 데이터\n",
    "# test_file_path = os.path.join(data_dir, 'test_data.csv')\n",
    "after_fe_path = os.path.join(data_dir, 'after_fe_train_test.pkl')\n",
    "df = pd.read_pickle(after_fe_path)\n",
    "\n",
    "train_df = df[df.kind=='train']\n",
    "train, valid = custom_train_test_split(train_df, ratio=0.7, seed=2) # 훈련데이터 split\n",
    "test = df[df.kind=='test'] # 테스트 데이터\n",
    "train2 = test[test.answerCode!=-1] # 테스트데이터 마지막 제출 2번쨰꺼까지 훈련데이터로 사용\n",
    "train = pd.concat([train_df,train2]) # 훈련데이터 병합\n",
    "train.shape, valid.shape, test.shape\n",
    "\n",
    "x_train = train.drop('answerCode',axis=1)\n",
    "y_train = train[['answerCode']]\n",
    "\n",
    "x_valid = valid.drop('answerCode',axis=1)\n",
    "y_valid = valid[['answerCode']]\n",
    "x_train.shape, y_train.shape, x_valid.shape, y_valid.shape"
   ]
  },
  {
   "cell_type": "markdown",
   "id": "97471165",
   "metadata": {},
   "source": [
    "### 시드별 Validation set align"
   ]
  },
  {
   "cell_type": "code",
   "execution_count": 121,
   "id": "e7475c19",
   "metadata": {
    "ExecuteTime": {
     "end_time": "2022-11-27T13:52:32.853862Z",
     "start_time": "2022-11-27T13:52:21.297697Z"
    }
   },
   "outputs": [
    {
     "name": "stdout",
     "output_type": "stream",
     "text": [
      "seed: 0\n",
      "[(5361, 21), (2201, 537), (5811, 72), (5089, 70), (1372, 789), (2217, 828), (6646, 41), (3390, 276), (1986, 390), (1250, 575), (334, 1162), (1609, 554), (211, 721), (188, 445), (7019, 21), (4098, 144), (1277, 491), (3898, 271), (4311, 144), (2759, 613)]\n"
     ]
    },
    {
     "data": {
      "text/plain": [
       "((2525956, 25), (1968, 25), (260114, 25))"
      ]
     },
     "execution_count": 121,
     "metadata": {},
     "output_type": "execute_result"
    },
    {
     "data": {
      "text/plain": [
       "((2525956, 24), (2525956, 1), (1968, 24), (1968, 1))"
      ]
     },
     "execution_count": 121,
     "metadata": {},
     "output_type": "execute_result"
    },
    {
     "name": "stdout",
     "output_type": "stream",
     "text": [
      "3600 VALID AUC : 0.8309100018567869 ACC : 0.7479674796747967\n",
      "\n",
      "4800 VALID AUC : 0.8295978033901399 ACC : 0.7469512195121951\n",
      "\n",
      "seed: 1\n",
      "[(345, 591), (4395, 301), (7272, 19), (1284, 1155), (3930, 319), (3585, 344), (6746, 39), (1686, 262), (6166, 40), (431, 978), (6586, 61), (6872, 50), (4807, 216), (148, 666), (5025, 305), (4201, 307), (517, 1119), (5168, 191), (5043, 69), (6801, 52)]\n"
     ]
    },
    {
     "data": {
      "text/plain": [
       "((2525956, 25), (2015, 25), (260114, 25))"
      ]
     },
     "execution_count": 121,
     "metadata": {},
     "output_type": "execute_result"
    },
    {
     "data": {
      "text/plain": [
       "((2525956, 24), (2525956, 1), (2015, 24), (2015, 1))"
      ]
     },
     "execution_count": 121,
     "metadata": {},
     "output_type": "execute_result"
    },
    {
     "name": "stdout",
     "output_type": "stream",
     "text": [
      "3600 VALID AUC : 0.8343223797187196 ACC : 0.7578163771712159\n",
      "\n",
      "4800 VALID AUC : 0.8339913801791548 ACC : 0.75136476426799\n",
      "\n",
      "seed: 2\n",
      "[(4741, 112), (7094, 16), (6451, 74), (893, 1032), (1662, 582), (6060, 35), (2566, 252), (2788, 411), (3954, 316), (4020, 89), (1937, 579), (4535, 74), (1113, 709), (4336, 217), (3460, 197), (4426, 302), (5095, 57), (4429, 289), (1597, 208), (4595, 63)]\n"
     ]
    },
    {
     "data": {
      "text/plain": [
       "((2525956, 25), (2011, 25), (260114, 25))"
      ]
     },
     "execution_count": 121,
     "metadata": {},
     "output_type": "execute_result"
    },
    {
     "data": {
      "text/plain": [
       "((2525956, 24), (2525956, 1), (2011, 24), (2011, 1))"
      ]
     },
     "execution_count": 121,
     "metadata": {},
     "output_type": "execute_result"
    },
    {
     "name": "stdout",
     "output_type": "stream",
     "text": [
      "3600 VALID AUC : 0.8197994272745637 ACC : 0.739433117851815\n",
      "\n",
      "4800 VALID AUC : 0.8202113459839906 ACC : 0.739433117851815\n",
      "\n",
      "seed: 3\n",
      "[(4329, 192), (6443, 24), (5557, 128), (3757, 250), (6749, 25), (4030, 333), (4816, 54), (5284, 146), (1357, 430), (3457, 232), (5971, 38), (1988, 409), (3039, 230), (2398, 187), (5108, 156), (1867, 256), (2579, 385), (3074, 124), (5189, 222), (436, 1304)]\n"
     ]
    },
    {
     "data": {
      "text/plain": [
       "((2525956, 25), (2009, 25), (260114, 25))"
      ]
     },
     "execution_count": 121,
     "metadata": {},
     "output_type": "execute_result"
    },
    {
     "data": {
      "text/plain": [
       "((2525956, 24), (2525956, 1), (2009, 24), (2009, 1))"
      ]
     },
     "execution_count": 121,
     "metadata": {},
     "output_type": "execute_result"
    },
    {
     "name": "stdout",
     "output_type": "stream",
     "text": [
      "3600 VALID AUC : 0.8372251140774101 ACC : 0.7590841214534594\n",
      "\n",
      "4800 VALID AUC : 0.835474803858215 ACC : 0.7605774016923843\n",
      "\n",
      "seed: 4\n",
      "[(2089, 433), (2421, 480), (2496, 148), (4641, 134), (4046, 155), (4145, 243), (6030, 59), (4769, 133), (6389, 48), (541, 550), (1948, 553), (4933, 157), (7132, 26), (6240, 56), (2914, 550), (230, 800), (2090, 402), (6922, 23), (6661, 51), (4357, 112)]\n"
     ]
    },
    {
     "ename": "KeyboardInterrupt",
     "evalue": "",
     "output_type": "error",
     "traceback": [
      "\u001b[0;31m---------------------------------------------------------------------------\u001b[0m",
      "\u001b[0;31mKeyboardInterrupt\u001b[0m                         Traceback (most recent call last)",
      "Cell \u001b[0;32mIn [121], line 6\u001b[0m\n\u001b[1;32m      4\u001b[0m test \u001b[38;5;241m=\u001b[39m df[df\u001b[38;5;241m.\u001b[39mkind\u001b[38;5;241m==\u001b[39m\u001b[38;5;124m'\u001b[39m\u001b[38;5;124mtest\u001b[39m\u001b[38;5;124m'\u001b[39m] \u001b[38;5;66;03m# 테스트 데이터\u001b[39;00m\n\u001b[1;32m      5\u001b[0m train2 \u001b[38;5;241m=\u001b[39m test[test\u001b[38;5;241m.\u001b[39manswerCode\u001b[38;5;241m!=\u001b[39m\u001b[38;5;241m-\u001b[39m\u001b[38;5;241m1\u001b[39m] \u001b[38;5;66;03m# 테스트데이터 마지막 제출 2번쨰꺼까지 훈련데이터로 사용\u001b[39;00m\n\u001b[0;32m----> 6\u001b[0m train \u001b[38;5;241m=\u001b[39m \u001b[43mpd\u001b[49m\u001b[38;5;241;43m.\u001b[39;49m\u001b[43mconcat\u001b[49m\u001b[43m(\u001b[49m\u001b[43m[\u001b[49m\u001b[43mtrain_df\u001b[49m\u001b[43m,\u001b[49m\u001b[43mtrain2\u001b[49m\u001b[43m]\u001b[49m\u001b[43m)\u001b[49m \u001b[38;5;66;03m# 훈련데이터 병합\u001b[39;00m\n\u001b[1;32m      7\u001b[0m train\u001b[38;5;241m.\u001b[39mshape, valid\u001b[38;5;241m.\u001b[39mshape, test\u001b[38;5;241m.\u001b[39mshape\n\u001b[1;32m      9\u001b[0m x_train \u001b[38;5;241m=\u001b[39m train\u001b[38;5;241m.\u001b[39mdrop(\u001b[38;5;124m'\u001b[39m\u001b[38;5;124manswerCode\u001b[39m\u001b[38;5;124m'\u001b[39m,axis\u001b[38;5;241m=\u001b[39m\u001b[38;5;241m1\u001b[39m)\n",
      "File \u001b[0;32m/opt/conda/envs/jupy/lib/python3.9/site-packages/pandas/util/_decorators.py:311\u001b[0m, in \u001b[0;36mdeprecate_nonkeyword_arguments.<locals>.decorate.<locals>.wrapper\u001b[0;34m(*args, **kwargs)\u001b[0m\n\u001b[1;32m    305\u001b[0m \u001b[38;5;28;01mif\u001b[39;00m \u001b[38;5;28mlen\u001b[39m(args) \u001b[38;5;241m>\u001b[39m num_allow_args:\n\u001b[1;32m    306\u001b[0m     warnings\u001b[38;5;241m.\u001b[39mwarn(\n\u001b[1;32m    307\u001b[0m         msg\u001b[38;5;241m.\u001b[39mformat(arguments\u001b[38;5;241m=\u001b[39marguments),\n\u001b[1;32m    308\u001b[0m         \u001b[38;5;167;01mFutureWarning\u001b[39;00m,\n\u001b[1;32m    309\u001b[0m         stacklevel\u001b[38;5;241m=\u001b[39mstacklevel,\n\u001b[1;32m    310\u001b[0m     )\n\u001b[0;32m--> 311\u001b[0m \u001b[38;5;28;01mreturn\u001b[39;00m \u001b[43mfunc\u001b[49m\u001b[43m(\u001b[49m\u001b[38;5;241;43m*\u001b[39;49m\u001b[43margs\u001b[49m\u001b[43m,\u001b[49m\u001b[43m \u001b[49m\u001b[38;5;241;43m*\u001b[39;49m\u001b[38;5;241;43m*\u001b[39;49m\u001b[43mkwargs\u001b[49m\u001b[43m)\u001b[49m\n",
      "File \u001b[0;32m/opt/conda/envs/jupy/lib/python3.9/site-packages/pandas/core/reshape/concat.py:360\u001b[0m, in \u001b[0;36mconcat\u001b[0;34m(objs, axis, join, ignore_index, keys, levels, names, verify_integrity, sort, copy)\u001b[0m\n\u001b[1;32m    156\u001b[0m \u001b[38;5;124;03m\"\"\"\u001b[39;00m\n\u001b[1;32m    157\u001b[0m \u001b[38;5;124;03mConcatenate pandas objects along a particular axis with optional set logic\u001b[39;00m\n\u001b[1;32m    158\u001b[0m \u001b[38;5;124;03malong the other axes.\u001b[39;00m\n\u001b[0;32m   (...)\u001b[0m\n\u001b[1;32m    345\u001b[0m \u001b[38;5;124;03mValueError: Indexes have overlapping values: ['a']\u001b[39;00m\n\u001b[1;32m    346\u001b[0m \u001b[38;5;124;03m\"\"\"\u001b[39;00m\n\u001b[1;32m    347\u001b[0m op \u001b[38;5;241m=\u001b[39m _Concatenator(\n\u001b[1;32m    348\u001b[0m     objs,\n\u001b[1;32m    349\u001b[0m     axis\u001b[38;5;241m=\u001b[39maxis,\n\u001b[0;32m   (...)\u001b[0m\n\u001b[1;32m    357\u001b[0m     sort\u001b[38;5;241m=\u001b[39msort,\n\u001b[1;32m    358\u001b[0m )\n\u001b[0;32m--> 360\u001b[0m \u001b[38;5;28;01mreturn\u001b[39;00m \u001b[43mop\u001b[49m\u001b[38;5;241;43m.\u001b[39;49m\u001b[43mget_result\u001b[49m\u001b[43m(\u001b[49m\u001b[43m)\u001b[49m\n",
      "File \u001b[0;32m/opt/conda/envs/jupy/lib/python3.9/site-packages/pandas/core/reshape/concat.py:595\u001b[0m, in \u001b[0;36m_Concatenator.get_result\u001b[0;34m(self)\u001b[0m\n\u001b[1;32m    591\u001b[0m             indexers[ax] \u001b[38;5;241m=\u001b[39m obj_labels\u001b[38;5;241m.\u001b[39mget_indexer(new_labels)\n\u001b[1;32m    593\u001b[0m     mgrs_indexers\u001b[38;5;241m.\u001b[39mappend((obj\u001b[38;5;241m.\u001b[39m_mgr, indexers))\n\u001b[0;32m--> 595\u001b[0m new_data \u001b[38;5;241m=\u001b[39m \u001b[43mconcatenate_managers\u001b[49m\u001b[43m(\u001b[49m\n\u001b[1;32m    596\u001b[0m \u001b[43m    \u001b[49m\u001b[43mmgrs_indexers\u001b[49m\u001b[43m,\u001b[49m\u001b[43m \u001b[49m\u001b[38;5;28;43mself\u001b[39;49m\u001b[38;5;241;43m.\u001b[39;49m\u001b[43mnew_axes\u001b[49m\u001b[43m,\u001b[49m\u001b[43m \u001b[49m\u001b[43mconcat_axis\u001b[49m\u001b[38;5;241;43m=\u001b[39;49m\u001b[38;5;28;43mself\u001b[39;49m\u001b[38;5;241;43m.\u001b[39;49m\u001b[43mbm_axis\u001b[49m\u001b[43m,\u001b[49m\u001b[43m \u001b[49m\u001b[43mcopy\u001b[49m\u001b[38;5;241;43m=\u001b[39;49m\u001b[38;5;28;43mself\u001b[39;49m\u001b[38;5;241;43m.\u001b[39;49m\u001b[43mcopy\u001b[49m\n\u001b[1;32m    597\u001b[0m \u001b[43m\u001b[49m\u001b[43m)\u001b[49m\n\u001b[1;32m    598\u001b[0m \u001b[38;5;28;01mif\u001b[39;00m \u001b[38;5;129;01mnot\u001b[39;00m \u001b[38;5;28mself\u001b[39m\u001b[38;5;241m.\u001b[39mcopy:\n\u001b[1;32m    599\u001b[0m     new_data\u001b[38;5;241m.\u001b[39m_consolidate_inplace()\n",
      "File \u001b[0;32m/opt/conda/envs/jupy/lib/python3.9/site-packages/pandas/core/internals/concat.py:242\u001b[0m, in \u001b[0;36mconcatenate_managers\u001b[0;34m(mgrs_indexers, axes, concat_axis, copy)\u001b[0m\n\u001b[1;32m    240\u001b[0m     fastpath \u001b[38;5;241m=\u001b[39m blk\u001b[38;5;241m.\u001b[39mvalues\u001b[38;5;241m.\u001b[39mdtype \u001b[38;5;241m==\u001b[39m values\u001b[38;5;241m.\u001b[39mdtype\n\u001b[1;32m    241\u001b[0m \u001b[38;5;28;01melse\u001b[39;00m:\n\u001b[0;32m--> 242\u001b[0m     values \u001b[38;5;241m=\u001b[39m \u001b[43m_concatenate_join_units\u001b[49m\u001b[43m(\u001b[49m\u001b[43mjoin_units\u001b[49m\u001b[43m,\u001b[49m\u001b[43m \u001b[49m\u001b[43mconcat_axis\u001b[49m\u001b[43m,\u001b[49m\u001b[43m \u001b[49m\u001b[43mcopy\u001b[49m\u001b[38;5;241;43m=\u001b[39;49m\u001b[43mcopy\u001b[49m\u001b[43m)\u001b[49m\n\u001b[1;32m    243\u001b[0m     fastpath \u001b[38;5;241m=\u001b[39m \u001b[38;5;28;01mFalse\u001b[39;00m\n\u001b[1;32m    245\u001b[0m \u001b[38;5;28;01mif\u001b[39;00m fastpath:\n",
      "File \u001b[0;32m/opt/conda/envs/jupy/lib/python3.9/site-packages/pandas/core/internals/concat.py:550\u001b[0m, in \u001b[0;36m_concatenate_join_units\u001b[0;34m(join_units, concat_axis, copy)\u001b[0m\n\u001b[1;32m    547\u001b[0m has_none_blocks \u001b[38;5;241m=\u001b[39m \u001b[38;5;28many\u001b[39m(unit\u001b[38;5;241m.\u001b[39mblock\u001b[38;5;241m.\u001b[39mdtype\u001b[38;5;241m.\u001b[39mkind \u001b[38;5;241m==\u001b[39m \u001b[38;5;124m\"\u001b[39m\u001b[38;5;124mV\u001b[39m\u001b[38;5;124m\"\u001b[39m \u001b[38;5;28;01mfor\u001b[39;00m unit \u001b[38;5;129;01min\u001b[39;00m join_units)\n\u001b[1;32m    548\u001b[0m upcasted_na \u001b[38;5;241m=\u001b[39m _dtype_to_na_value(empty_dtype, has_none_blocks)\n\u001b[0;32m--> 550\u001b[0m to_concat \u001b[38;5;241m=\u001b[39m [\n\u001b[1;32m    551\u001b[0m     ju\u001b[38;5;241m.\u001b[39mget_reindexed_values(empty_dtype\u001b[38;5;241m=\u001b[39mempty_dtype, upcasted_na\u001b[38;5;241m=\u001b[39mupcasted_na)\n\u001b[1;32m    552\u001b[0m     \u001b[38;5;28;01mfor\u001b[39;00m ju \u001b[38;5;129;01min\u001b[39;00m join_units\n\u001b[1;32m    553\u001b[0m ]\n\u001b[1;32m    555\u001b[0m \u001b[38;5;28;01mif\u001b[39;00m \u001b[38;5;28mlen\u001b[39m(to_concat) \u001b[38;5;241m==\u001b[39m \u001b[38;5;241m1\u001b[39m:\n\u001b[1;32m    556\u001b[0m     \u001b[38;5;66;03m# Only one block, nothing to concatenate.\u001b[39;00m\n\u001b[1;32m    557\u001b[0m     concat_values \u001b[38;5;241m=\u001b[39m to_concat[\u001b[38;5;241m0\u001b[39m]\n",
      "File \u001b[0;32m/opt/conda/envs/jupy/lib/python3.9/site-packages/pandas/core/internals/concat.py:551\u001b[0m, in \u001b[0;36m<listcomp>\u001b[0;34m(.0)\u001b[0m\n\u001b[1;32m    547\u001b[0m has_none_blocks \u001b[38;5;241m=\u001b[39m \u001b[38;5;28many\u001b[39m(unit\u001b[38;5;241m.\u001b[39mblock\u001b[38;5;241m.\u001b[39mdtype\u001b[38;5;241m.\u001b[39mkind \u001b[38;5;241m==\u001b[39m \u001b[38;5;124m\"\u001b[39m\u001b[38;5;124mV\u001b[39m\u001b[38;5;124m\"\u001b[39m \u001b[38;5;28;01mfor\u001b[39;00m unit \u001b[38;5;129;01min\u001b[39;00m join_units)\n\u001b[1;32m    548\u001b[0m upcasted_na \u001b[38;5;241m=\u001b[39m _dtype_to_na_value(empty_dtype, has_none_blocks)\n\u001b[1;32m    550\u001b[0m to_concat \u001b[38;5;241m=\u001b[39m [\n\u001b[0;32m--> 551\u001b[0m     \u001b[43mju\u001b[49m\u001b[38;5;241;43m.\u001b[39;49m\u001b[43mget_reindexed_values\u001b[49m\u001b[43m(\u001b[49m\u001b[43mempty_dtype\u001b[49m\u001b[38;5;241;43m=\u001b[39;49m\u001b[43mempty_dtype\u001b[49m\u001b[43m,\u001b[49m\u001b[43m \u001b[49m\u001b[43mupcasted_na\u001b[49m\u001b[38;5;241;43m=\u001b[39;49m\u001b[43mupcasted_na\u001b[49m\u001b[43m)\u001b[49m\n\u001b[1;32m    552\u001b[0m     \u001b[38;5;28;01mfor\u001b[39;00m ju \u001b[38;5;129;01min\u001b[39;00m join_units\n\u001b[1;32m    553\u001b[0m ]\n\u001b[1;32m    555\u001b[0m \u001b[38;5;28;01mif\u001b[39;00m \u001b[38;5;28mlen\u001b[39m(to_concat) \u001b[38;5;241m==\u001b[39m \u001b[38;5;241m1\u001b[39m:\n\u001b[1;32m    556\u001b[0m     \u001b[38;5;66;03m# Only one block, nothing to concatenate.\u001b[39;00m\n\u001b[1;32m    557\u001b[0m     concat_values \u001b[38;5;241m=\u001b[39m to_concat[\u001b[38;5;241m0\u001b[39m]\n",
      "File \u001b[0;32m/opt/conda/envs/jupy/lib/python3.9/site-packages/pandas/core/internals/concat.py:530\u001b[0m, in \u001b[0;36mJoinUnit.get_reindexed_values\u001b[0;34m(self, empty_dtype, upcasted_na)\u001b[0m\n\u001b[1;32m    528\u001b[0m \u001b[38;5;28;01melse\u001b[39;00m:\n\u001b[1;32m    529\u001b[0m     \u001b[38;5;28;01mfor\u001b[39;00m ax, indexer \u001b[38;5;129;01min\u001b[39;00m \u001b[38;5;28mself\u001b[39m\u001b[38;5;241m.\u001b[39mindexers\u001b[38;5;241m.\u001b[39mitems():\n\u001b[0;32m--> 530\u001b[0m         values \u001b[38;5;241m=\u001b[39m \u001b[43malgos\u001b[49m\u001b[38;5;241;43m.\u001b[39;49m\u001b[43mtake_nd\u001b[49m\u001b[43m(\u001b[49m\u001b[43mvalues\u001b[49m\u001b[43m,\u001b[49m\u001b[43m \u001b[49m\u001b[43mindexer\u001b[49m\u001b[43m,\u001b[49m\u001b[43m \u001b[49m\u001b[43maxis\u001b[49m\u001b[38;5;241;43m=\u001b[39;49m\u001b[43max\u001b[49m\u001b[43m)\u001b[49m\n\u001b[1;32m    532\u001b[0m \u001b[38;5;28;01mreturn\u001b[39;00m values\n",
      "File \u001b[0;32m/opt/conda/envs/jupy/lib/python3.9/site-packages/pandas/core/array_algos/take.py:117\u001b[0m, in \u001b[0;36mtake_nd\u001b[0;34m(arr, indexer, axis, fill_value, allow_fill)\u001b[0m\n\u001b[1;32m    114\u001b[0m     \u001b[38;5;28;01mreturn\u001b[39;00m arr\u001b[38;5;241m.\u001b[39mtake(indexer, fill_value\u001b[38;5;241m=\u001b[39mfill_value, allow_fill\u001b[38;5;241m=\u001b[39mallow_fill)\n\u001b[1;32m    116\u001b[0m arr \u001b[38;5;241m=\u001b[39m np\u001b[38;5;241m.\u001b[39masarray(arr)\n\u001b[0;32m--> 117\u001b[0m \u001b[38;5;28;01mreturn\u001b[39;00m \u001b[43m_take_nd_ndarray\u001b[49m\u001b[43m(\u001b[49m\u001b[43marr\u001b[49m\u001b[43m,\u001b[49m\u001b[43m \u001b[49m\u001b[43mindexer\u001b[49m\u001b[43m,\u001b[49m\u001b[43m \u001b[49m\u001b[43maxis\u001b[49m\u001b[43m,\u001b[49m\u001b[43m \u001b[49m\u001b[43mfill_value\u001b[49m\u001b[43m,\u001b[49m\u001b[43m \u001b[49m\u001b[43mallow_fill\u001b[49m\u001b[43m)\u001b[49m\n",
      "File \u001b[0;32m/opt/conda/envs/jupy/lib/python3.9/site-packages/pandas/core/array_algos/take.py:163\u001b[0m, in \u001b[0;36m_take_nd_ndarray\u001b[0;34m(arr, indexer, axis, fill_value, allow_fill)\u001b[0m\n\u001b[1;32m    158\u001b[0m     out \u001b[38;5;241m=\u001b[39m np\u001b[38;5;241m.\u001b[39mempty(out_shape, dtype\u001b[38;5;241m=\u001b[39mdtype)\n\u001b[1;32m    160\u001b[0m func \u001b[38;5;241m=\u001b[39m _get_take_nd_function(\n\u001b[1;32m    161\u001b[0m     arr\u001b[38;5;241m.\u001b[39mndim, arr\u001b[38;5;241m.\u001b[39mdtype, out\u001b[38;5;241m.\u001b[39mdtype, axis\u001b[38;5;241m=\u001b[39maxis, mask_info\u001b[38;5;241m=\u001b[39mmask_info\n\u001b[1;32m    162\u001b[0m )\n\u001b[0;32m--> 163\u001b[0m \u001b[43mfunc\u001b[49m\u001b[43m(\u001b[49m\u001b[43marr\u001b[49m\u001b[43m,\u001b[49m\u001b[43m \u001b[49m\u001b[43mindexer\u001b[49m\u001b[43m,\u001b[49m\u001b[43m \u001b[49m\u001b[43mout\u001b[49m\u001b[43m,\u001b[49m\u001b[43m \u001b[49m\u001b[43mfill_value\u001b[49m\u001b[43m)\u001b[49m\n\u001b[1;32m    165\u001b[0m \u001b[38;5;28;01mif\u001b[39;00m flip_order:\n\u001b[1;32m    166\u001b[0m     out \u001b[38;5;241m=\u001b[39m out\u001b[38;5;241m.\u001b[39mT\n",
      "\u001b[0;31mKeyboardInterrupt\u001b[0m: "
     ]
    }
   ],
   "source": [
    "for seed in range(100):\n",
    "    print(f\"seed: {seed}\")\n",
    "    train, valid = custom_train_test_split(train_df, ratio=0.7, seed=seed) # 훈련데이터 split\n",
    "    test = df[df.kind=='test'] # 테스트 데이터\n",
    "    train2 = test[test.answerCode!=-1] # 테스트데이터 마지막 제출 2번쨰꺼까지 훈련데이터로 사용\n",
    "    train = pd.concat([train_df,train2]) # 훈련데이터 병합\n",
    "    train.shape, valid.shape, test.shape\n",
    "\n",
    "    x_train = train.drop('answerCode',axis=1)\n",
    "    y_train = train[['answerCode']]\n",
    "\n",
    "    x_valid = valid.drop('answerCode',axis=1)\n",
    "    y_valid = valid[['answerCode']]\n",
    "    x_train.shape, y_train.shape, x_valid.shape, y_valid.shape\n",
    "    FEATS = ['KnowledgeTag',\n",
    "         'user_correct_answer',\n",
    "         'user_total_answer',\n",
    "         'big_category',\n",
    "         'mid_category',\n",
    "         'problem_num',\n",
    "         'month','day','dayname','hour',\n",
    "         'user_acc',\n",
    "         'test_mean',\n",
    "         'test_sum',\n",
    "         'test_std',\n",
    "         'tag_std',\n",
    "         'tag_mean',\n",
    "         'tag_sum',\n",
    "         'solvesec'\n",
    "        ]\n",
    "    preds = model4.predict(x_valid[FEATS])\n",
    "    acc = accuracy_score(y_valid, np.where(preds >= 0.5, 1, 0))\n",
    "    auc = roc_auc_score(y_valid, preds)\n",
    "\n",
    "    print(f'3600 VALID AUC : {auc} ACC : {acc}\\n')\n",
    "    # 사용할 Feature 설정\n",
    "    FEATS = ['KnowledgeTag',\n",
    "             'user_correct_answer',\n",
    "             'user_total_answer',\n",
    "             'big_category',\n",
    "             'mid_category',\n",
    "             'problem_num',\n",
    "             'month','day','dayname','hour',\n",
    "             'user_acc',\n",
    "             'test_mean',\n",
    "             'test_sum',\n",
    "             'test_std',\n",
    "             'tag_std',\n",
    "             'tag_mean',\n",
    "             'tag_sum',\n",
    "             'solvesec',\n",
    "             'time_category'\n",
    "            ]\n",
    "    preds = model5.predict(x_valid[FEATS])\n",
    "    acc = accuracy_score(y_valid, np.where(preds >= 0.5, 1, 0))\n",
    "    auc = roc_auc_score(y_valid, preds)\n",
    "\n",
    "    print(f'4800 VALID AUC : {auc} ACC : {acc}\\n')"
   ]
  },
  {
   "cell_type": "code",
   "execution_count": null,
   "id": "d0247068",
   "metadata": {},
   "outputs": [],
   "source": []
  },
  {
   "cell_type": "code",
   "execution_count": null,
   "id": "e4c606fc",
   "metadata": {},
   "outputs": [],
   "source": []
  },
  {
   "cell_type": "code",
   "execution_count": null,
   "id": "a8b5eafc",
   "metadata": {},
   "outputs": [],
   "source": []
  },
  {
   "cell_type": "code",
   "execution_count": 4,
   "id": "21ba16e6",
   "metadata": {
    "ExecuteTime": {
     "end_time": "2022-11-25T06:55:36.709795Z",
     "start_time": "2022-11-25T06:55:36.705026Z"
    }
   },
   "outputs": [],
   "source": [
    "# 사용할 Feature 설정\n",
    "FEATS = ['KnowledgeTag',\n",
    "         'user_correct_answer',\n",
    "         'user_total_answer',\n",
    "         'big_category',\n",
    "         'mid_category',\n",
    "         'problem_num',\n",
    "         'month','day','dayname','hour',\n",
    "         'user_acc',\n",
    "         'test_mean',\n",
    "         'test_sum',\n",
    "         'test_std',\n",
    "         'tag_std',\n",
    "         'tag_mean',\n",
    "         'tag_sum',\n",
    "         'solvesec'\n",
    "        ]\n",
    "\n",
    "params = {\n",
    "#     \"max_depth\": 8,  # 8,\n",
    "#     \"min_data_in_leaf\": 1000,\n",
    "    # \"feature_fraction\": 0.6,  # 0.8,\n",
    "#     \"bagging_fraction\": 0.75,\n",
    "    # \"max_cat_group\": 64,\n",
    "    \"objective\": \"binary\",\n",
    "#     \"boosting\": \"gbdt\",  # dart\n",
    "#     \"learning_rate\": 0.01,  # 0.01,\n",
    "    # \"bagging_freq\": 5,\n",
    "    \"seed\": 42,\n",
    "    # \"max_bin\": 50,\n",
    "#     \"num_leaves\": 80,  # 40,\n",
    "#     \"metric\": \"auc\",\n",
    "}\n",
    "\n",
    "model_auc = lgb.LGBMClassifier(\n",
    "    **params,\n",
    "    n_estimators=3200,\n",
    "    silent=-1,\n",
    ")\n"
   ]
  },
  {
   "cell_type": "markdown",
   "id": "caf9e8fe",
   "metadata": {},
   "source": [
    "## 문제푼 시간 초로만 추가한 것"
   ]
  },
  {
   "cell_type": "code",
   "execution_count": 5,
   "id": "ee26250b",
   "metadata": {
    "ExecuteTime": {
     "end_time": "2022-11-25T07:01:18.831338Z",
     "start_time": "2022-11-25T06:55:39.336742Z"
    },
    "scrolled": true
   },
   "outputs": [
    {
     "name": "stdout",
     "output_type": "stream",
     "text": [
      "[LightGBM] [Info] Number of positive: 1653588, number of negative: 872368\n",
      "[LightGBM] [Warning] Auto-choosing col-wise multi-threading, the overhead of testing was 0.238892 seconds.\n",
      "You can set `force_col_wise=true` to remove the overhead.\n",
      "[LightGBM] [Info] Total Bins 3095\n",
      "[LightGBM] [Info] Number of data points in the train set: 2525956, number of used features: 18\n",
      "[LightGBM] [Info] [binary:BoostFromScore]: pavg=0.654638 -> initscore=0.639491\n",
      "[LightGBM] [Info] Start training from score 0.639491\n",
      "[100]\tvalid_0's binary_logloss: 0.582419\n",
      "[200]\tvalid_0's binary_logloss: 0.575168\n",
      "[300]\tvalid_0's binary_logloss: 0.568893\n",
      "[400]\tvalid_0's binary_logloss: 0.563229\n",
      "[500]\tvalid_0's binary_logloss: 0.559829\n",
      "[600]\tvalid_0's binary_logloss: 0.556637\n",
      "[700]\tvalid_0's binary_logloss: 0.553144\n",
      "[800]\tvalid_0's binary_logloss: 0.550667\n",
      "[900]\tvalid_0's binary_logloss: 0.548314\n",
      "[1000]\tvalid_0's binary_logloss: 0.546135\n",
      "[1100]\tvalid_0's binary_logloss: 0.542614\n",
      "[1200]\tvalid_0's binary_logloss: 0.540631\n",
      "[1300]\tvalid_0's binary_logloss: 0.539541\n",
      "[1400]\tvalid_0's binary_logloss: 0.537865\n",
      "[1500]\tvalid_0's binary_logloss: 0.536437\n",
      "[1600]\tvalid_0's binary_logloss: 0.534883\n",
      "[1700]\tvalid_0's binary_logloss: 0.532909\n",
      "[1800]\tvalid_0's binary_logloss: 0.531226\n",
      "[1900]\tvalid_0's binary_logloss: 0.530395\n",
      "[2000]\tvalid_0's binary_logloss: 0.528694\n",
      "[2100]\tvalid_0's binary_logloss: 0.527385\n",
      "[2200]\tvalid_0's binary_logloss: 0.5261\n",
      "[2300]\tvalid_0's binary_logloss: 0.52483\n",
      "[2400]\tvalid_0's binary_logloss: 0.524006\n",
      "[2500]\tvalid_0's binary_logloss: 0.522985\n",
      "[2600]\tvalid_0's binary_logloss: 0.521911\n",
      "[2700]\tvalid_0's binary_logloss: 0.519999\n",
      "[2800]\tvalid_0's binary_logloss: 0.519164\n",
      "[2900]\tvalid_0's binary_logloss: 0.518294\n",
      "[3000]\tvalid_0's binary_logloss: 0.517839\n",
      "[3100]\tvalid_0's binary_logloss: 0.516759\n",
      "[3200]\tvalid_0's binary_logloss: 0.515955\n",
      "VALID AUC : 0.8229596501689525 ACC : 0.7448928749377179\n",
      "\n"
     ]
    }
   ],
   "source": [
    "lgb_x_train = lgb.Dataset(x_train[FEATS], y_train)\n",
    "lgb_x_valid = lgb.Dataset(x_valid[FEATS], y_valid)\n",
    "\n",
    "model2 = lgb.train(\n",
    "    params, \n",
    "    lgb_x_train,\n",
    "    valid_sets=[lgb_x_valid],\n",
    "    verbose_eval=100,\n",
    "    num_boost_round=3200,\n",
    "#     early_stopping_rounds=200,\n",
    ")\n",
    "\n",
    "preds = model2.predict(x_valid[FEATS])\n",
    "acc = accuracy_score(y_valid, np.where(preds >= 0.5, 1, 0))\n",
    "auc = roc_auc_score(y_valid, preds)\n",
    "\n",
    "print(f'VALID AUC : {auc} ACC : {acc}\\n')\n",
    "\n",
    "post_slack(\"done\")"
   ]
  },
  {
   "cell_type": "markdown",
   "id": "df3e9a6f",
   "metadata": {
    "ExecuteTime": {
     "end_time": "2022-11-25T05:54:22.277037Z",
     "start_time": "2022-11-25T05:48:15.716840Z"
    }
   },
   "source": [
    "## 문제푼 시간 4800초 이상 모두 4800초로 변환"
   ]
  },
  {
   "cell_type": "code",
   "execution_count": 8,
   "id": "46c64e7c",
   "metadata": {
    "ExecuteTime": {
     "end_time": "2022-11-25T07:05:34.560401Z",
     "start_time": "2022-11-25T07:01:41.691191Z"
    },
    "scrolled": true
   },
   "outputs": [
    {
     "name": "stdout",
     "output_type": "stream",
     "text": [
      "[LightGBM] [Info] Number of positive: 1653588, number of negative: 872368\n",
      "[LightGBM] [Warning] Auto-choosing row-wise multi-threading, the overhead of testing was 0.067944 seconds.\n",
      "You can set `force_row_wise=true` to remove the overhead.\n",
      "And if memory is not enough, you can set `force_col_wise=true`.\n",
      "[LightGBM] [Info] Total Bins 3095\n",
      "[LightGBM] [Info] Number of data points in the train set: 2525956, number of used features: 18\n",
      "[LightGBM] [Info] [binary:BoostFromScore]: pavg=0.654638 -> initscore=0.639491\n",
      "[LightGBM] [Info] Start training from score 0.639491\n",
      "[100]\tvalid_0's binary_logloss: 0.56096\n",
      "[200]\tvalid_0's binary_logloss: 0.554025\n",
      "[300]\tvalid_0's binary_logloss: 0.547694\n",
      "[400]\tvalid_0's binary_logloss: 0.542811\n",
      "[500]\tvalid_0's binary_logloss: 0.536767\n",
      "[600]\tvalid_0's binary_logloss: 0.533314\n",
      "[700]\tvalid_0's binary_logloss: 0.530218\n",
      "[800]\tvalid_0's binary_logloss: 0.527721\n",
      "[900]\tvalid_0's binary_logloss: 0.525034\n",
      "[1000]\tvalid_0's binary_logloss: 0.522923\n",
      "[1100]\tvalid_0's binary_logloss: 0.520484\n",
      "[1200]\tvalid_0's binary_logloss: 0.518743\n",
      "[1300]\tvalid_0's binary_logloss: 0.516943\n",
      "[1400]\tvalid_0's binary_logloss: 0.515161\n",
      "[1500]\tvalid_0's binary_logloss: 0.513018\n",
      "[1600]\tvalid_0's binary_logloss: 0.512013\n",
      "[1700]\tvalid_0's binary_logloss: 0.510849\n",
      "[1800]\tvalid_0's binary_logloss: 0.509057\n",
      "[1900]\tvalid_0's binary_logloss: 0.507737\n",
      "[2000]\tvalid_0's binary_logloss: 0.506483\n",
      "[2100]\tvalid_0's binary_logloss: 0.505521\n",
      "[2200]\tvalid_0's binary_logloss: 0.504641\n",
      "[2300]\tvalid_0's binary_logloss: 0.503526\n",
      "[2400]\tvalid_0's binary_logloss: 0.502971\n",
      "[2500]\tvalid_0's binary_logloss: 0.502471\n",
      "[2600]\tvalid_0's binary_logloss: 0.502001\n",
      "[2700]\tvalid_0's binary_logloss: 0.500928\n",
      "[2800]\tvalid_0's binary_logloss: 0.499918\n",
      "[2900]\tvalid_0's binary_logloss: 0.49838\n",
      "[3000]\tvalid_0's binary_logloss: 0.497592\n",
      "[3100]\tvalid_0's binary_logloss: 0.496223\n",
      "[3200]\tvalid_0's binary_logloss: 0.495367\n",
      "VALID AUC : 0.8421447482720068 ACC : 0.765274949083503\n",
      "\n"
     ]
    }
   ],
   "source": [
    "lgb_x_train = lgb.Dataset(x_train[FEATS], y_train)\n",
    "lgb_x_valid = lgb.Dataset(x_valid[FEATS], y_valid)\n",
    "\n",
    "model3 = lgb.train(\n",
    "    params, \n",
    "    lgb_x_train,\n",
    "    valid_sets=[lgb_x_valid],\n",
    "    verbose_eval=100,\n",
    "    num_boost_round=3200,\n",
    "#     early_stopping_rounds=200,\n",
    ")\n",
    "\n",
    "preds = model3.predict(x_valid[FEATS])\n",
    "acc = accuracy_score(y_valid, np.where(preds >= 0.5, 1, 0))\n",
    "auc = roc_auc_score(y_valid, preds)\n",
    "\n",
    "print(f'VALID AUC : {auc} ACC : {acc}\\n')"
   ]
  },
  {
   "cell_type": "code",
   "execution_count": 48,
   "id": "a38ffd94",
   "metadata": {
    "ExecuteTime": {
     "end_time": "2022-11-27T12:57:53.392015Z",
     "start_time": "2022-11-27T12:57:53.223778Z"
    }
   },
   "outputs": [
    {
     "name": "stdout",
     "output_type": "stream",
     "text": [
      "VALID AUC : 0.8302605814985996 ACC : 0.7531645569620253\n",
      "\n"
     ]
    }
   ],
   "source": [
    "# 사용할 Feature 설정\n",
    "FEATS = ['KnowledgeTag',\n",
    "         'user_correct_answer',\n",
    "         'user_total_answer',\n",
    "         'big_category',\n",
    "         'mid_category',\n",
    "         'problem_num',\n",
    "         'month','day','dayname','hour',\n",
    "         'user_acc',\n",
    "         'test_mean',\n",
    "         'test_sum',\n",
    "         'test_std',\n",
    "         'tag_std',\n",
    "         'tag_mean',\n",
    "         'tag_sum',\n",
    "         'solvesec'\n",
    "        ]\n",
    "preds = model3.predict(x_valid[FEATS])\n",
    "acc = accuracy_score(y_valid, np.where(preds >= 0.5, 1, 0))\n",
    "auc = roc_auc_score(y_valid, preds)\n",
    "\n",
    "print(f'VALID AUC : {auc} ACC : {acc}\\n')"
   ]
  },
  {
   "cell_type": "code",
   "execution_count": 9,
   "id": "cd1fcaf7",
   "metadata": {
    "ExecuteTime": {
     "end_time": "2022-11-25T07:05:34.984374Z",
     "start_time": "2022-11-25T07:05:34.566151Z"
    }
   },
   "outputs": [],
   "source": [
    "post_slack(\"done\")"
   ]
  },
  {
   "cell_type": "code",
   "execution_count": 19,
   "id": "957e0290",
   "metadata": {
    "ExecuteTime": {
     "end_time": "2022-11-25T05:44:32.173043Z",
     "start_time": "2022-11-25T05:44:32.060162Z"
    }
   },
   "outputs": [
    {
     "name": "stdout",
     "output_type": "stream",
     "text": [
      "writing prediction : output/LGBM_Baseline_문제푼시간_추가_4800초로수렴.csv\n"
     ]
    }
   ],
   "source": [
    "lgbm_predict(test, model3, FEATS, 'LGBM_Baseline_문제푼시간_추가_4800초로수렴.csv')"
   ]
  },
  {
   "cell_type": "markdown",
   "id": "f5c5a2ce",
   "metadata": {},
   "source": [
    "## 문제푼 시간 3600초 이상 모두 3600으로 변환"
   ]
  },
  {
   "cell_type": "code",
   "execution_count": 11,
   "id": "0a1f3e7d",
   "metadata": {
    "ExecuteTime": {
     "end_time": "2022-11-25T07:10:28.899854Z",
     "start_time": "2022-11-25T07:06:28.463459Z"
    },
    "scrolled": true
   },
   "outputs": [
    {
     "name": "stdout",
     "output_type": "stream",
     "text": [
      "[LightGBM] [Info] Number of positive: 1653588, number of negative: 872368\n",
      "[LightGBM] [Warning] Auto-choosing row-wise multi-threading, the overhead of testing was 0.052752 seconds.\n",
      "You can set `force_row_wise=true` to remove the overhead.\n",
      "And if memory is not enough, you can set `force_col_wise=true`.\n",
      "[LightGBM] [Info] Total Bins 3095\n",
      "[LightGBM] [Info] Number of data points in the train set: 2525956, number of used features: 18\n",
      "[LightGBM] [Info] [binary:BoostFromScore]: pavg=0.654638 -> initscore=0.639491\n",
      "[LightGBM] [Info] Start training from score 0.639491\n",
      "[100]\tvalid_0's binary_logloss: 0.57308\n",
      "[200]\tvalid_0's binary_logloss: 0.564389\n",
      "[300]\tvalid_0's binary_logloss: 0.559807\n",
      "[400]\tvalid_0's binary_logloss: 0.554239\n",
      "[500]\tvalid_0's binary_logloss: 0.550381\n",
      "[600]\tvalid_0's binary_logloss: 0.547333\n",
      "[700]\tvalid_0's binary_logloss: 0.542663\n",
      "[800]\tvalid_0's binary_logloss: 0.539448\n",
      "[900]\tvalid_0's binary_logloss: 0.537293\n",
      "[1000]\tvalid_0's binary_logloss: 0.533369\n",
      "[1100]\tvalid_0's binary_logloss: 0.530778\n",
      "[1200]\tvalid_0's binary_logloss: 0.528895\n",
      "[1300]\tvalid_0's binary_logloss: 0.526897\n",
      "[1400]\tvalid_0's binary_logloss: 0.525646\n",
      "[1500]\tvalid_0's binary_logloss: 0.523441\n",
      "[1600]\tvalid_0's binary_logloss: 0.521941\n",
      "[1700]\tvalid_0's binary_logloss: 0.520392\n",
      "[1800]\tvalid_0's binary_logloss: 0.518991\n",
      "[1900]\tvalid_0's binary_logloss: 0.518401\n",
      "[2000]\tvalid_0's binary_logloss: 0.516927\n",
      "[2100]\tvalid_0's binary_logloss: 0.515664\n",
      "[2200]\tvalid_0's binary_logloss: 0.514235\n",
      "[2300]\tvalid_0's binary_logloss: 0.512859\n",
      "[2400]\tvalid_0's binary_logloss: 0.511646\n",
      "[2500]\tvalid_0's binary_logloss: 0.510438\n",
      "[2600]\tvalid_0's binary_logloss: 0.509123\n",
      "[2700]\tvalid_0's binary_logloss: 0.508236\n",
      "[2800]\tvalid_0's binary_logloss: 0.506781\n",
      "[2900]\tvalid_0's binary_logloss: 0.505248\n",
      "[3000]\tvalid_0's binary_logloss: 0.503842\n",
      "[3100]\tvalid_0's binary_logloss: 0.503227\n",
      "[3200]\tvalid_0's binary_logloss: 0.502616\n",
      "VALID AUC : 0.833218683431184 ACC : 0.7585328578706062\n",
      "\n",
      "writing prediction : output/LGBM_Baseline_문제푼시간_추가_3600초이상모두3600으로.csv\n"
     ]
    }
   ],
   "source": [
    "lgb_x_train = lgb.Dataset(x_train[FEATS], y_train)\n",
    "lgb_x_valid = lgb.Dataset(x_valid[FEATS], y_valid)\n",
    "\n",
    "model4 = lgb.train(\n",
    "    params, \n",
    "    lgb_x_train,\n",
    "    valid_sets=[lgb_x_valid],\n",
    "    verbose_eval=100,\n",
    "    num_boost_round=3200,\n",
    "#     early_stopping_rounds=200,\n",
    ")\n",
    "\n",
    "preds = model4.predict(x_valid[FEATS])\n",
    "acc = accuracy_score(y_valid, np.where(preds >= 0.5, 1, 0))\n",
    "auc = roc_auc_score(y_valid, preds)\n",
    "\n",
    "print(f'VALID AUC : {auc} ACC : {acc}\\n')\n",
    "\n",
    "post_slack(\"done\")\n",
    "\n",
    "lgbm_predict(test, model4, FEATS, 'LGBM_Baseline_문제푼시간_추가_3600초이상모두3600으로.csv')"
   ]
  },
  {
   "cell_type": "markdown",
   "id": "e67c59d9",
   "metadata": {},
   "source": [
    "### validation"
   ]
  },
  {
   "cell_type": "code",
   "execution_count": 115,
   "id": "7a182c49",
   "metadata": {
    "ExecuteTime": {
     "end_time": "2022-11-27T13:48:47.426910Z",
     "start_time": "2022-11-27T13:48:47.276874Z"
    }
   },
   "outputs": [
    {
     "name": "stdout",
     "output_type": "stream",
     "text": [
      "VALID AUC : 0.8194181098835474 ACC : 0.7370959961408586\n",
      "\n"
     ]
    }
   ],
   "source": [
    "# 사용할 Feature 설정\n",
    "FEATS = ['KnowledgeTag',\n",
    "         'user_correct_answer',\n",
    "         'user_total_answer',\n",
    "         'big_category',\n",
    "         'mid_category',\n",
    "         'problem_num',\n",
    "         'month','day','dayname','hour',\n",
    "         'user_acc',\n",
    "         'test_mean',\n",
    "         'test_sum',\n",
    "         'test_std',\n",
    "         'tag_std',\n",
    "         'tag_mean',\n",
    "         'tag_sum',\n",
    "         'solvesec'\n",
    "        ]\n",
    "preds = model4.predict(x_valid[FEATS])\n",
    "acc = accuracy_score(y_valid, np.where(preds >= 0.5, 1, 0))\n",
    "auc = roc_auc_score(y_valid, preds)\n",
    "\n",
    "print(f'VALID AUC : {auc} ACC : {acc}\\n')"
   ]
  },
  {
   "cell_type": "code",
   "execution_count": 49,
   "id": "8a7acde6",
   "metadata": {
    "ExecuteTime": {
     "end_time": "2022-11-27T12:58:23.598924Z",
     "start_time": "2022-11-27T12:58:23.550301Z"
    }
   },
   "outputs": [
    {
     "name": "stdout",
     "output_type": "stream",
     "text": [
      "writing prediction : output/LGBM_Baseline_문제푼시간_추가_3600초이상모두3600으로.csv\n"
     ]
    }
   ],
   "source": [
    "lgbm_predict(test, model4, FEATS, 'LGBM_Baseline_문제푼시간_추가_3600초이상모두3600으로.csv')"
   ]
  },
  {
   "cell_type": "markdown",
   "id": "eb420c1b",
   "metadata": {},
   "source": [
    "## 문제푼 시간 카테고리 변수도 추가"
   ]
  },
  {
   "cell_type": "code",
   "execution_count": 16,
   "id": "aa64f83a",
   "metadata": {
    "ExecuteTime": {
     "end_time": "2022-11-25T07:16:30.251217Z",
     "start_time": "2022-11-25T07:16:30.248040Z"
    }
   },
   "outputs": [],
   "source": [
    "# 사용할 Feature 설정\n",
    "FEATS = ['KnowledgeTag',\n",
    "         'user_correct_answer',\n",
    "         'user_total_answer',\n",
    "         'big_category',\n",
    "         'mid_category',\n",
    "         'problem_num',\n",
    "         'month','day','dayname','hour',\n",
    "         'user_acc',\n",
    "         'test_mean',\n",
    "         'test_sum',\n",
    "         'test_std',\n",
    "         'tag_std',\n",
    "         'tag_mean',\n",
    "         'tag_sum',\n",
    "         'solvesec',\n",
    "         'time_category'\n",
    "        ]"
   ]
  },
  {
   "cell_type": "code",
   "execution_count": 17,
   "id": "4bd56209",
   "metadata": {
    "ExecuteTime": {
     "end_time": "2022-11-25T07:20:37.173608Z",
     "start_time": "2022-11-25T07:16:35.375550Z"
    }
   },
   "outputs": [
    {
     "name": "stdout",
     "output_type": "stream",
     "text": [
      "[LightGBM] [Info] Number of positive: 1653588, number of negative: 872368\n",
      "[LightGBM] [Warning] Auto-choosing row-wise multi-threading, the overhead of testing was 0.052055 seconds.\n",
      "You can set `force_row_wise=true` to remove the overhead.\n",
      "And if memory is not enough, you can set `force_col_wise=true`.\n",
      "[LightGBM] [Info] Total Bins 3105\n",
      "[LightGBM] [Info] Number of data points in the train set: 2525956, number of used features: 19\n",
      "[LightGBM] [Info] [binary:BoostFromScore]: pavg=0.654638 -> initscore=0.639491\n",
      "[LightGBM] [Info] Start training from score 0.639491\n",
      "[100]\tvalid_0's binary_logloss: 0.560899\n",
      "[200]\tvalid_0's binary_logloss: 0.552517\n",
      "[300]\tvalid_0's binary_logloss: 0.547221\n",
      "[400]\tvalid_0's binary_logloss: 0.540192\n",
      "[500]\tvalid_0's binary_logloss: 0.535174\n",
      "[600]\tvalid_0's binary_logloss: 0.531541\n",
      "[700]\tvalid_0's binary_logloss: 0.527031\n",
      "[800]\tvalid_0's binary_logloss: 0.523995\n",
      "[900]\tvalid_0's binary_logloss: 0.522249\n",
      "[1000]\tvalid_0's binary_logloss: 0.519503\n",
      "[1100]\tvalid_0's binary_logloss: 0.517507\n",
      "[1200]\tvalid_0's binary_logloss: 0.515138\n",
      "[1300]\tvalid_0's binary_logloss: 0.513333\n",
      "[1400]\tvalid_0's binary_logloss: 0.512368\n",
      "[1500]\tvalid_0's binary_logloss: 0.51115\n",
      "[1600]\tvalid_0's binary_logloss: 0.508772\n",
      "[1700]\tvalid_0's binary_logloss: 0.506849\n",
      "[1800]\tvalid_0's binary_logloss: 0.505565\n",
      "[1900]\tvalid_0's binary_logloss: 0.504702\n",
      "[2000]\tvalid_0's binary_logloss: 0.503444\n",
      "[2100]\tvalid_0's binary_logloss: 0.502423\n",
      "[2200]\tvalid_0's binary_logloss: 0.501213\n",
      "[2300]\tvalid_0's binary_logloss: 0.500003\n",
      "[2400]\tvalid_0's binary_logloss: 0.498803\n",
      "[2500]\tvalid_0's binary_logloss: 0.497972\n",
      "[2600]\tvalid_0's binary_logloss: 0.497296\n",
      "[2700]\tvalid_0's binary_logloss: 0.495479\n",
      "[2800]\tvalid_0's binary_logloss: 0.494779\n",
      "[2900]\tvalid_0's binary_logloss: 0.493667\n",
      "[3000]\tvalid_0's binary_logloss: 0.492022\n",
      "[3100]\tvalid_0's binary_logloss: 0.491094\n",
      "[3200]\tvalid_0's binary_logloss: 0.490305\n",
      "VALID AUC : 0.8475305221483802 ACC : 0.7694510739856802\n",
      "\n"
     ]
    }
   ],
   "source": [
    "lgb_x_train = lgb.Dataset(x_train[FEATS], y_train)\n",
    "lgb_x_valid = lgb.Dataset(x_valid[FEATS], y_valid)\n",
    "\n",
    "model5 = lgb.train(\n",
    "    params, \n",
    "    lgb_x_train,\n",
    "    valid_sets=[lgb_x_valid],\n",
    "    verbose_eval=100,\n",
    "    num_boost_round=3200,\n",
    "#     early_stopping_rounds=200,\n",
    ")\n",
    "\n",
    "preds = model5.predict(x_valid[FEATS])\n",
    "acc = accuracy_score(y_valid, np.where(preds >= 0.5, 1, 0))\n",
    "auc = roc_auc_score(y_valid, preds)\n",
    "\n",
    "print(f'VALID AUC : {auc} ACC : {acc}\\n')"
   ]
  },
  {
   "cell_type": "markdown",
   "id": "10146cba",
   "metadata": {},
   "source": [
    "### validation"
   ]
  },
  {
   "cell_type": "code",
   "execution_count": 116,
   "id": "adb2583a",
   "metadata": {
    "ExecuteTime": {
     "end_time": "2022-11-27T13:48:49.098767Z",
     "start_time": "2022-11-27T13:48:48.880518Z"
    }
   },
   "outputs": [
    {
     "name": "stdout",
     "output_type": "stream",
     "text": [
      "VALID AUC : 0.818123880262765 ACC : 0.7370959961408586\n",
      "\n"
     ]
    }
   ],
   "source": [
    "# 사용할 Feature 설정\n",
    "FEATS = ['KnowledgeTag',\n",
    "         'user_correct_answer',\n",
    "         'user_total_answer',\n",
    "         'big_category',\n",
    "         'mid_category',\n",
    "         'problem_num',\n",
    "         'month','day','dayname','hour',\n",
    "         'user_acc',\n",
    "         'test_mean',\n",
    "         'test_sum',\n",
    "         'test_std',\n",
    "         'tag_std',\n",
    "         'tag_mean',\n",
    "         'tag_sum',\n",
    "         'solvesec',\n",
    "         'time_category'\n",
    "        ]\n",
    "preds = model5.predict(x_valid[FEATS])\n",
    "acc = accuracy_score(y_valid, np.where(preds >= 0.5, 1, 0))\n",
    "auc = roc_auc_score(y_valid, preds)\n",
    "\n",
    "print(f'VALID AUC : {auc} ACC : {acc}\\n')"
   ]
  },
  {
   "cell_type": "code",
   "execution_count": 18,
   "id": "0916c61e",
   "metadata": {
    "ExecuteTime": {
     "end_time": "2022-11-25T07:20:37.640409Z",
     "start_time": "2022-11-25T07:20:37.184245Z"
    }
   },
   "outputs": [],
   "source": [
    "post_slack(\"done\")"
   ]
  },
  {
   "cell_type": "code",
   "execution_count": 52,
   "id": "4fc084b0",
   "metadata": {
    "ExecuteTime": {
     "end_time": "2022-11-27T12:58:47.221634Z",
     "start_time": "2022-11-27T12:58:47.133050Z"
    }
   },
   "outputs": [
    {
     "name": "stdout",
     "output_type": "stream",
     "text": [
      "writing prediction : output/LGBM_Baseline_문제푼시간_추가_최대3600으로_time_category추가.csv\n"
     ]
    }
   ],
   "source": [
    "lgbm_predict(test, model5, FEATS, 'LGBM_Baseline_문제푼시간_추가_최대3600으로_time_category추가.csv')"
   ]
  }
 ],
 "metadata": {
  "kernelspec": {
   "display_name": "Python 3 (ipykernel)",
   "language": "python",
   "name": "python3"
  },
  "language_info": {
   "codemirror_mode": {
    "name": "ipython",
    "version": 3
   },
   "file_extension": ".py",
   "mimetype": "text/x-python",
   "name": "python",
   "nbconvert_exporter": "python",
   "pygments_lexer": "ipython3",
   "version": "3.9.15"
  },
  "toc": {
   "base_numbering": 1,
   "nav_menu": {},
   "number_sections": true,
   "sideBar": true,
   "skip_h1_title": true,
   "title_cell": "Table of Contents",
   "title_sidebar": "Contents",
   "toc_cell": false,
   "toc_position": {
    "height": "calc(100% - 180px)",
    "left": "10px",
    "top": "150px",
    "width": "384px"
   },
   "toc_section_display": true,
   "toc_window_display": true
  }
 },
 "nbformat": 4,
 "nbformat_minor": 5
}
