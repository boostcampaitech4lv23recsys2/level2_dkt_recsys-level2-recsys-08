{
 "cells": [
  {
   "cell_type": "markdown",
   "id": "1a73ded2",
   "metadata": {},
   "source": [
    "## dataload"
   ]
  },
  {
   "cell_type": "code",
   "execution_count": 19,
   "id": "464cf792",
   "metadata": {
    "ExecuteTime": {
     "end_time": "2022-12-06T06:21:50.302214Z",
     "start_time": "2022-12-06T06:21:45.178206Z"
    }
   },
   "outputs": [
    {
     "data": {
      "text/plain": [
       "((1845539, 52), (1974, 52), (260114, 52))"
      ]
     },
     "execution_count": 19,
     "metadata": {},
     "output_type": "execute_result"
    },
    {
     "data": {
      "text/plain": [
       "((1845539, 51), (1845539, 1), (1974, 51), (1974, 1))"
      ]
     },
     "execution_count": 19,
     "metadata": {},
     "output_type": "execute_result"
    }
   ],
   "source": [
    "import mlflow\n",
    "import mlflow.lightgbm\n",
    "from datetime import datetime\n",
    "from IPython.core.interactiveshell import InteractiveShell\n",
    "InteractiveShell.ast_node_interactivity = 'all'\n",
    "import pandas as pd\n",
    "import os\n",
    "import random\n",
    "import warnings\n",
    "warnings.filterwarnings('ignore')\n",
    "import lightgbm as lgb\n",
    "from sklearn.metrics import roc_auc_score\n",
    "from sklearn.metrics import accuracy_score\n",
    "import numpy as np\n",
    "from utils import custom_train_test_split, lgbm_predict, post_slack, title2filename\n",
    "os.environ[\"LOGNAME\"]='cwj'\n",
    "SEED=13\n",
    "\n",
    "## 1. 데이터 로딩\n",
    "data_dir = '/opt/ml/input/data' # 경로\n",
    "after_fe_path = os.path.join(data_dir, 'lgbm_elo.pkl')\n",
    "df = pd.read_pickle(after_fe_path)\n",
    "\n",
    "train_df = df[df.kind=='train']\n",
    "train, valid = custom_train_test_split(train_df, ratio=0.7, seed=SEED) # 훈련데이터 split\n",
    "test = df[df.kind=='test'] # 테스트 데이터\n",
    "train2 = test[test.answerCode!=-1] # 테스트데이터 마지막 제출 2번쨰꺼까지 훈련데이터로 사용\n",
    "train = pd.concat([train,train2]) # 훈련데이터 병합\n",
    "train.shape, valid.shape, test.shape\n",
    "\n",
    "x_train = train.drop('answerCode',axis=1)\n",
    "y_train = train[['answerCode']]\n",
    "\n",
    "x_valid = valid.drop('answerCode',axis=1)\n",
    "y_valid = valid[['answerCode']]\n",
    "x_train.shape, y_train.shape, x_valid.shape, y_valid.shape"
   ]
  },
  {
   "cell_type": "code",
   "execution_count": 20,
   "id": "c824f78d",
   "metadata": {
    "ExecuteTime": {
     "end_time": "2022-12-06T06:21:50.309368Z",
     "start_time": "2022-12-06T06:21:50.304242Z"
    }
   },
   "outputs": [
    {
     "data": {
      "text/plain": [
       "Index(['userID', 'assessmentItemID', 'testId', 'answerCode', 'Timestamp',\n",
       "       'KnowledgeTag', 'kind', 'uidIdx', 'assIdx', 'testIdx',\n",
       "       'user_correct_answer', 'user_total_answer', 'user_acc', 'month', 'day',\n",
       "       'hour', 'dayname', 'big_category', 'problem_num', 'mid_category',\n",
       "       'test_mean', 'test_std', 'test_sum', 'tag_mean', 'tag_std', 'tag_sum',\n",
       "       'Timestamp2', 'solvetime', 'solvesec', 'solvesec_3600', 'time_category',\n",
       "       'solvesec_cumsum', 'solvecumsum_category', 'big_category_cumconut',\n",
       "       'big_category_answer', 'big_category_user_cum_acc',\n",
       "       'mid_category_cumconut', 'mid_category_answer',\n",
       "       'mid_category_user_cum_acc', 'ass_acc_mean', 'ass_difficulty',\n",
       "       'ass_acc_std', 'pb_num_acc_mean', 'pb_num_difficulty', 'pb_num_acc_std',\n",
       "       'assess_count', 'left_asymptote', 'eloTest', 'elo', 'elo4', 'elo5',\n",
       "       'elo_pbnum0'],\n",
       "      dtype='object')"
      ]
     },
     "execution_count": 20,
     "metadata": {},
     "output_type": "execute_result"
    }
   ],
   "source": [
    "df.columns"
   ]
  },
  {
   "cell_type": "markdown",
   "id": "f1db3fb0",
   "metadata": {},
   "source": [
    "## Params"
   ]
  },
  {
   "cell_type": "code",
   "execution_count": 3,
   "id": "a5bb8a1a",
   "metadata": {
    "ExecuteTime": {
     "end_time": "2022-12-05T14:37:39.949474Z",
     "start_time": "2022-12-05T14:37:39.945868Z"
    }
   },
   "outputs": [],
   "source": [
    "# Hyper parameter 설정\n",
    "params = {\n",
    "#     \"max_depth\": 8,  # 8,\n",
    "#     \"min_data_in_leaf\": 1000,\n",
    "    # \"feature_fraction\": 0.6,  # 0.8,\n",
    "#     \"bagging_fraction\": 0.75,\n",
    "    # \"max_cat_group\": 64,\n",
    "    \"objective\": \"binary\",\n",
    "#     \"boosting\": \"gbdt\",  # dart\n",
    "    \"learning_rate\": 0.023,  # 0.01,\n",
    "    # \"bagging_freq\": 5,\n",
    "    \"seed\": 42,\n",
    "    # \"max_bin\": 50,\n",
    "#     \"num_leaves\": 80,  # 40,\n",
    "#     \"metric\": \"auc\",\n",
    "}"
   ]
  },
  {
   "cell_type": "code",
   "execution_count": 4,
   "id": "bb11adf1",
   "metadata": {
    "ExecuteTime": {
     "end_time": "2022-12-05T14:37:44.416174Z",
     "start_time": "2022-12-05T14:37:44.411831Z"
    }
   },
   "outputs": [
    {
     "data": {
      "text/plain": [
       "Index(['userID', 'assessmentItemID', 'testId', 'answerCode', 'Timestamp',\n",
       "       'KnowledgeTag', 'kind', 'uidIdx', 'assIdx', 'testIdx',\n",
       "       'user_correct_answer', 'user_total_answer', 'user_acc', 'month', 'day',\n",
       "       'hour', 'dayname', 'big_category', 'problem_num', 'mid_category',\n",
       "       'test_mean', 'test_std', 'test_sum', 'tag_mean', 'tag_std', 'tag_sum',\n",
       "       'Timestamp2', 'solvetime', 'solvesec', 'solvesec_3600', 'time_category',\n",
       "       'solvesec_cumsum', 'solvecumsum_category', 'big_category_cumconut',\n",
       "       'big_category_answer', 'big_category_user_cum_acc',\n",
       "       'mid_category_cumconut', 'mid_category_answer',\n",
       "       'mid_category_user_cum_acc', 'ass_acc_mean', 'ass_difficulty',\n",
       "       'ass_acc_std', 'pb_num_acc_mean', 'pb_num_difficulty', 'pb_num_acc_std',\n",
       "       'assess_count', 'left_asymptote', 'eloTest', 'elo', 'elo4', 'elo5',\n",
       "       'elo_pbnum0'],\n",
       "      dtype='object')"
      ]
     },
     "execution_count": 4,
     "metadata": {},
     "output_type": "execute_result"
    }
   ],
   "source": [
    "df.columns"
   ]
  },
  {
   "cell_type": "markdown",
   "id": "5cc103e3",
   "metadata": {},
   "source": [
    "## elo만 추가"
   ]
  },
  {
   "cell_type": "code",
   "execution_count": 5,
   "id": "2b5f54a7",
   "metadata": {
    "ExecuteTime": {
     "end_time": "2022-12-05T14:39:58.476827Z",
     "start_time": "2022-12-05T14:38:17.306474Z"
    },
    "scrolled": false
   },
   "outputs": [
    {
     "data": {
      "text/plain": [
       "([0, 1, 2, 3, 6, 7, 8, 9, 11, 21, 23],\n",
       " '🌈(12/05 Mon)[LGBM elo만 추가 lr 0.023] 피처: 32개',\n",
       " '사용된 피처(32)\\nuidIdx, assIdx, testIdx, KnowledgeTag, user_correct_answer, user_total_answer, big_category, mid_category, problem_num, month, day, dayname, hour, user_acc, test_mean, test_sum, test_std, tag_std, tag_mean, tag_sum, solvesec_3600, time_category, solvesec_cumsum, solvecumsum_category, big_category_cumconut, big_category_user_cum_acc, mid_category_cumconut, mid_category_user_cum_acc, ass_difficulty, pb_num_difficulty, assess_count, elo')"
      ]
     },
     "execution_count": 5,
     "metadata": {},
     "output_type": "execute_result"
    },
    {
     "name": "stdout",
     "output_type": "stream",
     "text": [
      "[LightGBM] [Info] Number of positive: 1208276, number of negative: 637263\n",
      "[LightGBM] [Warning] Auto-choosing row-wise multi-threading, the overhead of testing was 0.033396 seconds.\n",
      "You can set `force_row_wise=true` to remove the overhead.\n",
      "And if memory is not enough, you can set `force_col_wise=true`.\n",
      "[LightGBM] [Info] Total Bins 20236\n",
      "[LightGBM] [Info] Number of data points in the train set: 1845539, number of used features: 32\n",
      "[LightGBM] [Info] [binary:BoostFromScore]: pavg=0.654701 -> initscore=0.639767\n",
      "[LightGBM] [Info] Start training from score 0.639767\n",
      "Training until validation scores don't improve for 100 rounds\n",
      "[100]\tvalid_0's binary_logloss: 0.528003\n",
      "[200]\tvalid_0's binary_logloss: 0.513656\n",
      "[300]\tvalid_0's binary_logloss: 0.509895\n",
      "[400]\tvalid_0's binary_logloss: 0.508105\n",
      "[500]\tvalid_0's binary_logloss: 0.507487\n",
      "[600]\tvalid_0's binary_logloss: 0.507189\n",
      "[700]\tvalid_0's binary_logloss: 0.506812\n",
      "[800]\tvalid_0's binary_logloss: 0.506264\n",
      "[900]\tvalid_0's binary_logloss: 0.505924\n",
      "[1000]\tvalid_0's binary_logloss: 0.505651\n",
      "Early stopping, best iteration is:\n",
      "[998]\tvalid_0's binary_logloss: 0.505633\n",
      "VALID AUC : 0.8304993910367189 ACC : 0.7492401215805471\n",
      "\n",
      "model3_run_id='5c679883be5f4a65a06aacef5671d156'\n",
      "writing prediction : output/12_05_Mon_LGBM_elo만_추가_lr_0_023_피처_32개.csv\n"
     ]
    },
    {
     "data": {
      "image/png": "[encoded data removed]",
      "text/plain": [
       "<Figure size 640x480 with 1 Axes>"
      ]
     },
     "metadata": {},
     "output_type": "display_data"
    }
   ],
   "source": [
    "### 피처 설정\n",
    "# 사용할 Feature 설정\n",
    "FEATS = ['uidIdx',\n",
    "         'assIdx',\n",
    "         'testIdx',\n",
    "         'KnowledgeTag',\n",
    "         'user_correct_answer',\n",
    "         'user_total_answer',\n",
    "         'big_category',\n",
    "         'mid_category',\n",
    "         'problem_num',\n",
    "         'month','day','dayname','hour',\n",
    "         'user_acc',\n",
    "         'test_mean',\n",
    "         'test_sum',\n",
    "         'test_std',\n",
    "         'tag_std',\n",
    "         'tag_mean',\n",
    "         'tag_sum',\n",
    "         'solvesec_3600',\n",
    "         'time_category',\n",
    "         'solvesec_cumsum',\n",
    "         'solvecumsum_category',\n",
    "         'big_category_cumconut',\n",
    "         'big_category_user_cum_acc',\n",
    "         'mid_category_cumconut',\n",
    "         'mid_category_user_cum_acc',\n",
    "         'ass_difficulty',\n",
    "         'pb_num_difficulty',\n",
    "         'assess_count',\n",
    "         'elo'\n",
    "        ]\n",
    "\n",
    "cat_feats = ['uidIdx','assIdx','testIdx','KnowledgeTag','big_category','mid_category',\n",
    "             'problem_num','dayname','month','time_category','solvecumsum_category']\n",
    "cat_feats_idx = [i for i,e in enumerate(FEATS) if e in cat_feats]\n",
    "\n",
    "### 학습 및 예측\n",
    "\n",
    "date = datetime.now().strftime('%m/%d %a')\n",
    "title=f\"🌈({date})[LGBM elo만 추가 lr 0.023] 피처: {len(FEATS)}개\"\n",
    "using_feats=\", \".join(FEATS)\n",
    "desc=f\"사용된 피처({len(FEATS)})\\n{using_feats}\"\n",
    "cat_feats_idx, title, desc\n",
    "\n",
    "mlflow.lightgbm.autolog()\n",
    "lgb_x_train = lgb.Dataset(x_train[FEATS], y_train)\n",
    "lgb_x_valid = lgb.Dataset(x_valid[FEATS], y_valid)\n",
    "\n",
    "with mlflow.start_run(run_name=title, description=desc) as run:\n",
    "    model3 = lgb.train(\n",
    "        params, \n",
    "        lgb_x_train,\n",
    "        valid_sets=[lgb_x_valid],\n",
    "        verbose_eval=100,\n",
    "        num_boost_round=3200,\n",
    "        categorical_feature=cat_feats_idx,\n",
    "        early_stopping_rounds=100,\n",
    "    )\n",
    "    preds = model3.predict(x_valid[FEATS])\n",
    "    acc = accuracy_score(y_valid, np.where(preds >= 0.5, 1, 0))\n",
    "    auc = roc_auc_score(y_valid, preds)\n",
    "    print(f'VALID AUC : {auc} ACC : {acc}\\n')\n",
    "    mlflow.log_metric(\"VAL AUC\",auc)\n",
    "    mlflow.log_metric(\"VAL Set SEED\",SEED)\n",
    "    model3_run_id=run.info.run_id\n",
    "    post_slack(\"done\")\n",
    "    print(f\"{model3_run_id=}\")\n",
    "    file_name = title2filename(title)\n",
    "    test_preds = lgbm_predict(test, model3, FEATS, f'{file_name}.csv')\n",
    "\n",
    "q = pd.Series(test_preds).plot(kind='kde')"
   ]
  },
  {
   "cell_type": "code",
   "execution_count": 13,
   "id": "26e3d8f3",
   "metadata": {
    "ExecuteTime": {
     "end_time": "2022-12-05T14:51:51.269713Z",
     "start_time": "2022-12-05T14:51:51.244657Z"
    }
   },
   "outputs": [
    {
     "data": {
      "text/plain": [
       "<ActiveRun: >"
      ]
     },
     "execution_count": 13,
     "metadata": {},
     "output_type": "execute_result"
    },
    {
     "name": "stdout",
     "output_type": "stream",
     "text": [
      "Active run_id: 5c679883be5f4a65a06aacef5671d156\n"
     ]
    }
   ],
   "source": [
    "### 제출 mlflow 등록\n",
    "# 제출시\n",
    "LB_AUC=0.8185\n",
    "run_id = '5c679883be5f4a65a06aacef5671d156'\n",
    "mlflow.start_run(run_id=run_id)\n",
    "run = mlflow.active_run()\n",
    "print(\"Active run_id: {}\".format(run.info.run_id))\n",
    "mlflow.log_metric(\"LB AUC\",LB_AUC)\n",
    "mlflow.end_run()"
   ]
  },
  {
   "cell_type": "markdown",
   "id": "9414c9bc",
   "metadata": {},
   "source": [
    "### lr 0.021"
   ]
  },
  {
   "cell_type": "code",
   "execution_count": 10,
   "id": "c2a7cbc6",
   "metadata": {
    "ExecuteTime": {
     "end_time": "2022-12-05T14:48:01.483021Z",
     "start_time": "2022-12-05T14:46:10.453585Z"
    }
   },
   "outputs": [
    {
     "data": {
      "text/plain": [
       "([0, 1, 2, 3, 6, 7, 8, 9, 11, 21, 23],\n",
       " '🌈(12/05 Mon)[LGBM elo만 추가 lr 0.021] 피처: 32개',\n",
       " '사용된 피처(32)\\nuidIdx, assIdx, testIdx, KnowledgeTag, user_correct_answer, user_total_answer, big_category, mid_category, problem_num, month, day, dayname, hour, user_acc, test_mean, test_sum, test_std, tag_std, tag_mean, tag_sum, solvesec_3600, time_category, solvesec_cumsum, solvecumsum_category, big_category_cumconut, big_category_user_cum_acc, mid_category_cumconut, mid_category_user_cum_acc, ass_difficulty, pb_num_difficulty, assess_count, elo')"
      ]
     },
     "execution_count": 10,
     "metadata": {},
     "output_type": "execute_result"
    },
    {
     "name": "stdout",
     "output_type": "stream",
     "text": [
      "[LightGBM] [Info] Number of positive: 1208276, number of negative: 637263\n",
      "[LightGBM] [Warning] Auto-choosing row-wise multi-threading, the overhead of testing was 0.033989 seconds.\n",
      "You can set `force_row_wise=true` to remove the overhead.\n",
      "And if memory is not enough, you can set `force_col_wise=true`.\n",
      "[LightGBM] [Info] Total Bins 20236\n",
      "[LightGBM] [Info] Number of data points in the train set: 1845539, number of used features: 32\n",
      "[LightGBM] [Info] [binary:BoostFromScore]: pavg=0.654701 -> initscore=0.639767\n",
      "[LightGBM] [Info] Start training from score 0.639767\n",
      "Training until validation scores don't improve for 100 rounds\n",
      "[100]\tvalid_0's binary_logloss: 0.531231\n",
      "[200]\tvalid_0's binary_logloss: 0.514876\n",
      "[300]\tvalid_0's binary_logloss: 0.511002\n",
      "[400]\tvalid_0's binary_logloss: 0.508915\n",
      "[500]\tvalid_0's binary_logloss: 0.507994\n",
      "[600]\tvalid_0's binary_logloss: 0.507557\n",
      "[700]\tvalid_0's binary_logloss: 0.507352\n",
      "[800]\tvalid_0's binary_logloss: 0.506894\n",
      "[900]\tvalid_0's binary_logloss: 0.506433\n",
      "[1000]\tvalid_0's binary_logloss: 0.506183\n",
      "[1100]\tvalid_0's binary_logloss: 0.506015\n",
      "[1200]\tvalid_0's binary_logloss: 0.505971\n",
      "Early stopping, best iteration is:\n",
      "[1118]\tvalid_0's binary_logloss: 0.505904\n",
      "VALID AUC : 0.8304551589064995 ACC : 0.7467071935157041\n",
      "\n",
      "model31_run_id='f8106bc4661b465a84fc3776cf6a35b2'\n",
      "writing prediction : output/12_05_Mon_LGBM_elo만_추가_lr_0_021_피처_32개.csv\n"
     ]
    },
    {
     "data": {
      "image/png": "[encoded data removed]",
      "text/plain": [
       "<Figure size 640x480 with 1 Axes>"
      ]
     },
     "metadata": {},
     "output_type": "display_data"
    }
   ],
   "source": [
    "# Hyper parameter 설정\n",
    "params = {\n",
    "#     \"max_depth\": 8,  # 8,\n",
    "#     \"min_data_in_leaf\": 1000,\n",
    "    # \"feature_fraction\": 0.6,  # 0.8,\n",
    "#     \"bagging_fraction\": 0.75,\n",
    "    # \"max_cat_group\": 64,\n",
    "    \"objective\": \"binary\",\n",
    "#     \"boosting\": \"gbdt\",  # dart\n",
    "    \"learning_rate\": 0.021,  # 0.01,\n",
    "    # \"bagging_freq\": 5,\n",
    "    \"seed\": 42,\n",
    "    # \"max_bin\": 50,\n",
    "#     \"num_leaves\": 80,  # 40,\n",
    "#     \"metric\": \"auc\",\n",
    "}\n",
    "### 피처 설정\n",
    "# 사용할 Feature 설정\n",
    "FEATS = ['uidIdx',\n",
    "         'assIdx',\n",
    "         'testIdx',\n",
    "         'KnowledgeTag',\n",
    "         'user_correct_answer',\n",
    "         'user_total_answer',\n",
    "         'big_category',\n",
    "         'mid_category',\n",
    "         'problem_num',\n",
    "         'month','day','dayname','hour',\n",
    "         'user_acc',\n",
    "         'test_mean',\n",
    "         'test_sum',\n",
    "         'test_std',\n",
    "         'tag_std',\n",
    "         'tag_mean',\n",
    "         'tag_sum',\n",
    "         'solvesec_3600',\n",
    "         'time_category',\n",
    "         'solvesec_cumsum',\n",
    "         'solvecumsum_category',\n",
    "         'big_category_cumconut',\n",
    "         'big_category_user_cum_acc',\n",
    "         'mid_category_cumconut',\n",
    "         'mid_category_user_cum_acc',\n",
    "         'ass_difficulty',\n",
    "         'pb_num_difficulty',\n",
    "         'assess_count',\n",
    "         'elo'\n",
    "        ]\n",
    "\n",
    "cat_feats = ['uidIdx','assIdx','testIdx','KnowledgeTag','big_category','mid_category',\n",
    "             'problem_num','dayname','month','time_category','solvecumsum_category']\n",
    "cat_feats_idx = [i for i,e in enumerate(FEATS) if e in cat_feats]\n",
    "\n",
    "### 학습 및 예측\n",
    "\n",
    "date = datetime.now().strftime('%m/%d %a')\n",
    "title=f\"🌈({date})[LGBM elo만 추가 lr 0.021] 피처: {len(FEATS)}개\"\n",
    "using_feats=\", \".join(FEATS)\n",
    "desc=f\"사용된 피처({len(FEATS)})\\n{using_feats}\"\n",
    "cat_feats_idx, title, desc\n",
    "\n",
    "mlflow.lightgbm.autolog()\n",
    "lgb_x_train = lgb.Dataset(x_train[FEATS], y_train)\n",
    "lgb_x_valid = lgb.Dataset(x_valid[FEATS], y_valid)\n",
    "\n",
    "with mlflow.start_run(run_name=title, description=desc) as run:\n",
    "    model31 = lgb.train(\n",
    "        params, \n",
    "        lgb_x_train,\n",
    "        valid_sets=[lgb_x_valid],\n",
    "        verbose_eval=100,\n",
    "        num_boost_round=3200,\n",
    "        categorical_feature=cat_feats_idx,\n",
    "        early_stopping_rounds=100,\n",
    "    )\n",
    "    preds = model31.predict(x_valid[FEATS])\n",
    "    acc = accuracy_score(y_valid, np.where(preds >= 0.5, 1, 0))\n",
    "    auc = roc_auc_score(y_valid, preds)\n",
    "    print(f'VALID AUC : {auc} ACC : {acc}\\n')\n",
    "    mlflow.log_metric(\"VAL AUC\",auc)\n",
    "    mlflow.log_metric(\"VAL Set SEED\",SEED)\n",
    "    model31_run_id=run.info.run_id\n",
    "    post_slack(\"done\")\n",
    "    print(f\"{model31_run_id=}\")\n",
    "    file_name = title2filename(title)\n",
    "    test_preds = lgbm_predict(test, model31, FEATS, f'{file_name}.csv')\n",
    "\n",
    "q = pd.Series(test_preds).plot(kind='kde')"
   ]
  },
  {
   "cell_type": "code",
   "execution_count": null,
   "id": "fdae6a06",
   "metadata": {},
   "outputs": [],
   "source": [
    "### 제출 mlflow 등록\n",
    "# 제출시\n",
    "LB_AUC=0.8195\n",
    "run_id = '882b85ff089a43f7aefe25ae1fb66f5f'\n",
    "mlflow.start_run(run_id=run_id)\n",
    "run = mlflow.active_run()\n",
    "print(\"Active run_id: {}\".format(run.info.run_id))\n",
    "mlflow.log_metric(\"LB AUC\",LB_AUC)\n",
    "mlflow.end_run()"
   ]
  },
  {
   "cell_type": "code",
   "execution_count": null,
   "id": "06d1e123",
   "metadata": {},
   "outputs": [],
   "source": []
  },
  {
   "cell_type": "code",
   "execution_count": null,
   "id": "e9af58fe",
   "metadata": {},
   "outputs": [],
   "source": []
  },
  {
   "cell_type": "markdown",
   "id": "73f61112",
   "metadata": {},
   "source": [
    "## elo4만 추가"
   ]
  },
  {
   "cell_type": "code",
   "execution_count": 6,
   "id": "8dcaca19",
   "metadata": {
    "ExecuteTime": {
     "end_time": "2022-12-05T14:41:50.921406Z",
     "start_time": "2022-12-05T14:39:58.482086Z"
    }
   },
   "outputs": [
    {
     "data": {
      "text/plain": [
       "([0, 1, 2, 3, 6, 7, 8, 9, 11, 21, 23],\n",
       " '🌈(12/05 Mon)[LGBM elo4만 추가 lr 0.023] 피처: 32개',\n",
       " '사용된 피처(32)\\nuidIdx, assIdx, testIdx, KnowledgeTag, user_correct_answer, user_total_answer, big_category, mid_category, problem_num, month, day, dayname, hour, user_acc, test_mean, test_sum, test_std, tag_std, tag_mean, tag_sum, solvesec_3600, time_category, solvesec_cumsum, solvecumsum_category, big_category_cumconut, big_category_user_cum_acc, mid_category_cumconut, mid_category_user_cum_acc, ass_difficulty, pb_num_difficulty, assess_count, elo4')"
      ]
     },
     "execution_count": 6,
     "metadata": {},
     "output_type": "execute_result"
    },
    {
     "name": "stdout",
     "output_type": "stream",
     "text": [
      "[LightGBM] [Info] Number of positive: 1208276, number of negative: 637263\n",
      "[LightGBM] [Warning] Auto-choosing row-wise multi-threading, the overhead of testing was 0.035224 seconds.\n",
      "You can set `force_row_wise=true` to remove the overhead.\n",
      "And if memory is not enough, you can set `force_col_wise=true`.\n",
      "[LightGBM] [Info] Total Bins 20236\n",
      "[LightGBM] [Info] Number of data points in the train set: 1845539, number of used features: 32\n",
      "[LightGBM] [Info] [binary:BoostFromScore]: pavg=0.654701 -> initscore=0.639767\n",
      "[LightGBM] [Info] Start training from score 0.639767\n",
      "Training until validation scores don't improve for 100 rounds\n",
      "[100]\tvalid_0's binary_logloss: 0.530615\n",
      "[200]\tvalid_0's binary_logloss: 0.516024\n",
      "[300]\tvalid_0's binary_logloss: 0.512159\n",
      "[400]\tvalid_0's binary_logloss: 0.509862\n",
      "[500]\tvalid_0's binary_logloss: 0.508915\n",
      "[600]\tvalid_0's binary_logloss: 0.508451\n",
      "[700]\tvalid_0's binary_logloss: 0.508074\n",
      "[800]\tvalid_0's binary_logloss: 0.507531\n",
      "[900]\tvalid_0's binary_logloss: 0.506981\n",
      "[1000]\tvalid_0's binary_logloss: 0.506513\n",
      "[1100]\tvalid_0's binary_logloss: 0.506516\n",
      "[1200]\tvalid_0's binary_logloss: 0.506453\n",
      "Early stopping, best iteration is:\n",
      "[1158]\tvalid_0's binary_logloss: 0.506377\n",
      "VALID AUC : 0.8301064451357001 ACC : 0.7467071935157041\n",
      "\n",
      "model4_run_id='aee6381a7ca64c929f755c697fa59ac1'\n",
      "writing prediction : output/12_05_Mon_LGBM_elo4만_추가_lr_0_023_피처_32개.csv\n"
     ]
    },
    {
     "data": {
      "image/png": "[encoded data removed]",
      "text/plain": [
       "<Figure size 640x480 with 1 Axes>"
      ]
     },
     "metadata": {},
     "output_type": "display_data"
    }
   ],
   "source": [
    "### 피처 설정\n",
    "# 사용할 Feature 설정\n",
    "FEATS = ['uidIdx',\n",
    "         'assIdx',\n",
    "         'testIdx',\n",
    "         'KnowledgeTag',\n",
    "         'user_correct_answer',\n",
    "         'user_total_answer',\n",
    "         'big_category',\n",
    "         'mid_category',\n",
    "         'problem_num',\n",
    "         'month','day','dayname','hour',\n",
    "         'user_acc',\n",
    "         'test_mean',\n",
    "         'test_sum',\n",
    "         'test_std',\n",
    "         'tag_std',\n",
    "         'tag_mean',\n",
    "         'tag_sum',\n",
    "         'solvesec_3600',\n",
    "         'time_category',\n",
    "         'solvesec_cumsum',\n",
    "         'solvecumsum_category',\n",
    "         'big_category_cumconut',\n",
    "         'big_category_user_cum_acc',\n",
    "         'mid_category_cumconut',\n",
    "         'mid_category_user_cum_acc',\n",
    "         'ass_difficulty',\n",
    "         'pb_num_difficulty',\n",
    "         'assess_count',\n",
    "         'elo4'\n",
    "        ]\n",
    "\n",
    "cat_feats = ['uidIdx','assIdx','testIdx','KnowledgeTag','big_category','mid_category',\n",
    "             'problem_num','dayname','month','time_category','solvecumsum_category']\n",
    "cat_feats_idx = [i for i,e in enumerate(FEATS) if e in cat_feats]\n",
    "\n",
    "### 학습 및 예측\n",
    "\n",
    "date = datetime.now().strftime('%m/%d %a')\n",
    "title=f\"🌈({date})[LGBM elo4만 추가 lr 0.023] 피처: {len(FEATS)}개\"\n",
    "using_feats=\", \".join(FEATS)\n",
    "desc=f\"사용된 피처({len(FEATS)})\\n{using_feats}\"\n",
    "cat_feats_idx, title, desc\n",
    "\n",
    "mlflow.lightgbm.autolog()\n",
    "lgb_x_train = lgb.Dataset(x_train[FEATS], y_train)\n",
    "lgb_x_valid = lgb.Dataset(x_valid[FEATS], y_valid)\n",
    "\n",
    "with mlflow.start_run(run_name=title, description=desc) as run:\n",
    "    model4 = lgb.train(\n",
    "        params, \n",
    "        lgb_x_train,\n",
    "        valid_sets=[lgb_x_valid],\n",
    "        verbose_eval=100,\n",
    "        num_boost_round=3200,\n",
    "        categorical_feature=cat_feats_idx,\n",
    "        early_stopping_rounds=100,\n",
    "    )\n",
    "    preds = model4.predict(x_valid[FEATS])\n",
    "    acc = accuracy_score(y_valid, np.where(preds >= 0.5, 1, 0))\n",
    "    auc = roc_auc_score(y_valid, preds)\n",
    "    print(f'VALID AUC : {auc} ACC : {acc}\\n')\n",
    "    mlflow.log_metric(\"VAL AUC\",auc)\n",
    "    mlflow.log_metric(\"VAL Set SEED\",SEED)\n",
    "    model4_run_id=run.info.run_id\n",
    "    post_slack(\"done\")\n",
    "    print(f\"{model4_run_id=}\")\n",
    "    file_name = title2filename(title)\n",
    "    test_preds = lgbm_predict(test, model4, FEATS, f'{file_name}.csv')\n",
    "\n",
    "q = pd.Series(test_preds).plot(kind='kde')"
   ]
  },
  {
   "cell_type": "code",
   "execution_count": 14,
   "id": "323a4fc3",
   "metadata": {
    "ExecuteTime": {
     "end_time": "2022-12-05T15:00:41.747015Z",
     "start_time": "2022-12-05T15:00:41.721509Z"
    }
   },
   "outputs": [
    {
     "data": {
      "text/plain": [
       "<ActiveRun: >"
      ]
     },
     "execution_count": 14,
     "metadata": {},
     "output_type": "execute_result"
    },
    {
     "name": "stdout",
     "output_type": "stream",
     "text": [
      "Active run_id: aee6381a7ca64c929f755c697fa59ac1\n"
     ]
    }
   ],
   "source": [
    "### 제출 mlflow 등록\n",
    "# 제출시\n",
    "LB_AUC=0.8180\n",
    "run_id = 'aee6381a7ca64c929f755c697fa59ac1'\n",
    "mlflow.start_run(run_id=run_id)\n",
    "run = mlflow.active_run()\n",
    "print(\"Active run_id: {}\".format(run.info.run_id))\n",
    "mlflow.log_metric(\"LB AUC\",LB_AUC)\n",
    "mlflow.end_run()"
   ]
  },
  {
   "cell_type": "markdown",
   "id": "6851471c",
   "metadata": {},
   "source": [
    "## elo5만 추가"
   ]
  },
  {
   "cell_type": "code",
   "execution_count": 7,
   "id": "7949ac25",
   "metadata": {
    "ExecuteTime": {
     "end_time": "2022-12-05T14:43:57.249665Z",
     "start_time": "2022-12-05T14:41:50.924212Z"
    }
   },
   "outputs": [
    {
     "data": {
      "text/plain": [
       "([0, 1, 2, 3, 6, 7, 8, 9, 11, 21, 23],\n",
       " '🌈(12/05 Mon)[LGBM elo5만 추가 lr 0.023] 피처: 32개',\n",
       " '사용된 피처(32)\\nuidIdx, assIdx, testIdx, KnowledgeTag, user_correct_answer, user_total_answer, big_category, mid_category, problem_num, month, day, dayname, hour, user_acc, test_mean, test_sum, test_std, tag_std, tag_mean, tag_sum, solvesec_3600, time_category, solvesec_cumsum, solvecumsum_category, big_category_cumconut, big_category_user_cum_acc, mid_category_cumconut, mid_category_user_cum_acc, ass_difficulty, pb_num_difficulty, assess_count, elo5')"
      ]
     },
     "execution_count": 7,
     "metadata": {},
     "output_type": "execute_result"
    },
    {
     "name": "stdout",
     "output_type": "stream",
     "text": [
      "[LightGBM] [Info] Number of positive: 1208276, number of negative: 637263\n",
      "[LightGBM] [Warning] Auto-choosing row-wise multi-threading, the overhead of testing was 0.060321 seconds.\n",
      "You can set `force_row_wise=true` to remove the overhead.\n",
      "And if memory is not enough, you can set `force_col_wise=true`.\n",
      "[LightGBM] [Info] Total Bins 20236\n",
      "[LightGBM] [Info] Number of data points in the train set: 1845539, number of used features: 32\n",
      "[LightGBM] [Info] [binary:BoostFromScore]: pavg=0.654701 -> initscore=0.639767\n",
      "[LightGBM] [Info] Start training from score 0.639767\n",
      "Training until validation scores don't improve for 100 rounds\n",
      "[100]\tvalid_0's binary_logloss: 0.530383\n",
      "[200]\tvalid_0's binary_logloss: 0.516313\n",
      "[300]\tvalid_0's binary_logloss: 0.512659\n",
      "[400]\tvalid_0's binary_logloss: 0.510903\n",
      "[500]\tvalid_0's binary_logloss: 0.509735\n",
      "[600]\tvalid_0's binary_logloss: 0.509381\n",
      "[700]\tvalid_0's binary_logloss: 0.508817\n",
      "[800]\tvalid_0's binary_logloss: 0.508487\n",
      "[900]\tvalid_0's binary_logloss: 0.508231\n",
      "[1000]\tvalid_0's binary_logloss: 0.50779\n",
      "[1100]\tvalid_0's binary_logloss: 0.50751\n",
      "[1200]\tvalid_0's binary_logloss: 0.507457\n",
      "[1300]\tvalid_0's binary_logloss: 0.507243\n",
      "Early stopping, best iteration is:\n",
      "[1299]\tvalid_0's binary_logloss: 0.507229\n",
      "VALID AUC : 0.8293637568096905 ACC : 0.7451874366767984\n",
      "\n",
      "model5_run_id='117ce72fa60f4c159ab79d1ce1a41786'\n",
      "writing prediction : output/12_05_Mon_LGBM_elo5만_추가_lr_0_023_피처_32개.csv\n"
     ]
    },
    {
     "data": {
      "image/png": "[encoded data removed]",
      "text/plain": [
       "<Figure size 640x480 with 1 Axes>"
      ]
     },
     "metadata": {},
     "output_type": "display_data"
    }
   ],
   "source": [
    "### 피처 설정\n",
    "# 사용할 Feature 설정\n",
    "FEATS = ['uidIdx',\n",
    "         'assIdx',\n",
    "         'testIdx',\n",
    "         'KnowledgeTag',\n",
    "         'user_correct_answer',\n",
    "         'user_total_answer',\n",
    "         'big_category',\n",
    "         'mid_category',\n",
    "         'problem_num',\n",
    "         'month','day','dayname','hour',\n",
    "         'user_acc',\n",
    "         'test_mean',\n",
    "         'test_sum',\n",
    "         'test_std',\n",
    "         'tag_std',\n",
    "         'tag_mean',\n",
    "         'tag_sum',\n",
    "         'solvesec_3600',\n",
    "         'time_category',\n",
    "         'solvesec_cumsum',\n",
    "         'solvecumsum_category',\n",
    "         'big_category_cumconut',\n",
    "         'big_category_user_cum_acc',\n",
    "         'mid_category_cumconut',\n",
    "         'mid_category_user_cum_acc',\n",
    "         'ass_difficulty',\n",
    "         'pb_num_difficulty',\n",
    "         'assess_count',\n",
    "         'elo5'\n",
    "        ]\n",
    "\n",
    "cat_feats = ['uidIdx','assIdx','testIdx','KnowledgeTag','big_category','mid_category',\n",
    "             'problem_num','dayname','month','time_category','solvecumsum_category']\n",
    "cat_feats_idx = [i for i,e in enumerate(FEATS) if e in cat_feats]\n",
    "\n",
    "### 학습 및 예측\n",
    "\n",
    "date = datetime.now().strftime('%m/%d %a')\n",
    "title=f\"🌈({date})[LGBM elo5만 추가 lr 0.023] 피처: {len(FEATS)}개\"\n",
    "using_feats=\", \".join(FEATS)\n",
    "desc=f\"사용된 피처({len(FEATS)})\\n{using_feats}\"\n",
    "cat_feats_idx, title, desc\n",
    "\n",
    "mlflow.lightgbm.autolog()\n",
    "lgb_x_train = lgb.Dataset(x_train[FEATS], y_train)\n",
    "lgb_x_valid = lgb.Dataset(x_valid[FEATS], y_valid)\n",
    "\n",
    "with mlflow.start_run(run_name=title, description=desc) as run:\n",
    "    model5 = lgb.train(\n",
    "        params, \n",
    "        lgb_x_train,\n",
    "        valid_sets=[lgb_x_valid],\n",
    "        verbose_eval=100,\n",
    "        num_boost_round=3200,\n",
    "        categorical_feature=cat_feats_idx,\n",
    "        early_stopping_rounds=100,\n",
    "    )\n",
    "    preds = model5.predict(x_valid[FEATS])\n",
    "    acc = accuracy_score(y_valid, np.where(preds >= 0.5, 1, 0))\n",
    "    auc = roc_auc_score(y_valid, preds)\n",
    "    print(f'VALID AUC : {auc} ACC : {acc}\\n')\n",
    "    mlflow.log_metric(\"VAL AUC\",auc)\n",
    "    mlflow.log_metric(\"VAL Set SEED\",SEED)\n",
    "    model5_run_id=run.info.run_id\n",
    "    post_slack(\"done\")\n",
    "    print(f\"{model5_run_id=}\")\n",
    "    file_name = title2filename(title)\n",
    "    test_preds = lgbm_predict(test, model5, FEATS, f'{file_name}.csv')\n",
    "\n",
    "q = pd.Series(test_preds).plot(kind='kde')"
   ]
  },
  {
   "cell_type": "code",
   "execution_count": null,
   "id": "6d2b05e9",
   "metadata": {},
   "outputs": [],
   "source": [
    "### 제출 mlflow 등록\n",
    "# 제출시\n",
    "LB_AUC=0.8195\n",
    "run_id = '882b85ff089a43f7aefe25ae1fb66f5f'\n",
    "mlflow.start_run(run_id=run_id)\n",
    "run = mlflow.active_run()\n",
    "print(\"Active run_id: {}\".format(run.info.run_id))\n",
    "mlflow.log_metric(\"LB AUC\",LB_AUC)\n",
    "mlflow.end_run()"
   ]
  },
  {
   "cell_type": "markdown",
   "id": "73bc7c54",
   "metadata": {},
   "source": [
    "## elo_pbnum0 추가"
   ]
  },
  {
   "cell_type": "code",
   "execution_count": 11,
   "id": "e29f0145",
   "metadata": {
    "ExecuteTime": {
     "end_time": "2022-12-05T14:49:53.614511Z",
     "start_time": "2022-12-05T14:48:15.823787Z"
    }
   },
   "outputs": [
    {
     "data": {
      "text/plain": [
       "([0, 1, 2, 3, 6, 7, 8, 9, 11, 21, 23],\n",
       " '🌈(12/05 Mon)[LGBM elo_pbnum0 추가 lr 0.023] 피처: 33개',\n",
       " '사용된 피처(33)\\nuidIdx, assIdx, testIdx, KnowledgeTag, user_correct_answer, user_total_answer, big_category, mid_category, problem_num, month, day, dayname, hour, user_acc, test_mean, test_sum, test_std, tag_std, tag_mean, tag_sum, solvesec_3600, time_category, solvesec_cumsum, solvecumsum_category, big_category_cumconut, big_category_user_cum_acc, mid_category_cumconut, mid_category_user_cum_acc, ass_difficulty, pb_num_difficulty, assess_count, elo, elo_pbnum0')"
      ]
     },
     "execution_count": 11,
     "metadata": {},
     "output_type": "execute_result"
    },
    {
     "name": "stdout",
     "output_type": "stream",
     "text": [
      "[LightGBM] [Info] Number of positive: 1208276, number of negative: 637263\n",
      "[LightGBM] [Warning] Auto-choosing row-wise multi-threading, the overhead of testing was 0.036655 seconds.\n",
      "You can set `force_row_wise=true` to remove the overhead.\n",
      "And if memory is not enough, you can set `force_col_wise=true`.\n",
      "[LightGBM] [Info] Total Bins 20491\n",
      "[LightGBM] [Info] Number of data points in the train set: 1845539, number of used features: 33\n",
      "[LightGBM] [Info] [binary:BoostFromScore]: pavg=0.654701 -> initscore=0.639767\n",
      "[LightGBM] [Info] Start training from score 0.639767\n",
      "Training until validation scores don't improve for 100 rounds\n",
      "[100]\tvalid_0's binary_logloss: 0.528366\n",
      "[200]\tvalid_0's binary_logloss: 0.514001\n",
      "[300]\tvalid_0's binary_logloss: 0.510594\n",
      "[400]\tvalid_0's binary_logloss: 0.508614\n",
      "[500]\tvalid_0's binary_logloss: 0.5076\n",
      "[600]\tvalid_0's binary_logloss: 0.507043\n",
      "[700]\tvalid_0's binary_logloss: 0.506623\n",
      "[800]\tvalid_0's binary_logloss: 0.50611\n",
      "[900]\tvalid_0's binary_logloss: 0.505877\n",
      "[1000]\tvalid_0's binary_logloss: 0.505825\n",
      "Early stopping, best iteration is:\n",
      "[967]\tvalid_0's binary_logloss: 0.505793\n",
      "VALID AUC : 0.8308234171069308 ACC : 0.7492401215805471\n",
      "\n",
      "model6_run_id='72eb5a3915ee472095b202cbec0272e4'\n",
      "writing prediction : output/12_05_Mon_LGBM_elo_pbnum0_추가_lr_0_023_피처_33개.csv\n"
     ]
    },
    {
     "data": {
      "image/png": "[encoded data removed]",
      "text/plain": [
       "<Figure size 640x480 with 1 Axes>"
      ]
     },
     "metadata": {},
     "output_type": "display_data"
    }
   ],
   "source": [
    "# Hyper parameter 설정\n",
    "params = {\n",
    "#     \"max_depth\": 8,  # 8,\n",
    "#     \"min_data_in_leaf\": 1000,\n",
    "    # \"feature_fraction\": 0.6,  # 0.8,\n",
    "#     \"bagging_fraction\": 0.75,\n",
    "    # \"max_cat_group\": 64,\n",
    "    \"objective\": \"binary\",\n",
    "#     \"boosting\": \"gbdt\",  # dart\n",
    "    \"learning_rate\": 0.023,  # 0.01,\n",
    "    # \"bagging_freq\": 5,\n",
    "    \"seed\": 42,\n",
    "    # \"max_bin\": 50,\n",
    "#     \"num_leaves\": 80,  # 40,\n",
    "#     \"metric\": \"auc\",\n",
    "}\n",
    "\n",
    "### 피처 설정\n",
    "# 사용할 Feature 설정\n",
    "FEATS = ['uidIdx',\n",
    "         'assIdx',\n",
    "         'testIdx',\n",
    "         'KnowledgeTag',\n",
    "         'user_correct_answer',\n",
    "         'user_total_answer',\n",
    "         'big_category',\n",
    "         'mid_category',\n",
    "         'problem_num',\n",
    "         'month','day','dayname','hour',\n",
    "         'user_acc',\n",
    "         'test_mean',\n",
    "         'test_sum',\n",
    "         'test_std',\n",
    "         'tag_std',\n",
    "         'tag_mean',\n",
    "         'tag_sum',\n",
    "         'solvesec_3600',\n",
    "         'time_category',\n",
    "         'solvesec_cumsum',\n",
    "         'solvecumsum_category',\n",
    "         'big_category_cumconut',\n",
    "         'big_category_user_cum_acc',\n",
    "         'mid_category_cumconut',\n",
    "         'mid_category_user_cum_acc',\n",
    "         'ass_difficulty',\n",
    "         'pb_num_difficulty',\n",
    "         'assess_count',\n",
    "         'elo',\n",
    "         'elo_pbnum0',\n",
    "        ]\n",
    "\n",
    "cat_feats = ['uidIdx','assIdx','testIdx','KnowledgeTag','big_category','mid_category',\n",
    "             'problem_num','dayname','month','time_category','solvecumsum_category']\n",
    "cat_feats_idx = [i for i,e in enumerate(FEATS) if e in cat_feats]\n",
    "\n",
    "### 학습 및 예측\n",
    "\n",
    "date = datetime.now().strftime('%m/%d %a')\n",
    "title=f\"🌈({date})[LGBM elo_pbnum0 추가 lr 0.023] 피처: {len(FEATS)}개\"\n",
    "using_feats=\", \".join(FEATS)\n",
    "desc=f\"사용된 피처({len(FEATS)})\\n{using_feats}\"\n",
    "cat_feats_idx, title, desc\n",
    "\n",
    "mlflow.lightgbm.autolog()\n",
    "lgb_x_train = lgb.Dataset(x_train[FEATS], y_train)\n",
    "lgb_x_valid = lgb.Dataset(x_valid[FEATS], y_valid)\n",
    "\n",
    "with mlflow.start_run(run_name=title, description=desc) as run:\n",
    "    model6 = lgb.train(\n",
    "        params, \n",
    "        lgb_x_train,\n",
    "        valid_sets=[lgb_x_valid],\n",
    "        verbose_eval=100,\n",
    "        num_boost_round=3200,\n",
    "        categorical_feature=cat_feats_idx,\n",
    "        early_stopping_rounds=100,\n",
    "    )\n",
    "    preds = model6.predict(x_valid[FEATS])\n",
    "    acc = accuracy_score(y_valid, np.where(preds >= 0.5, 1, 0))\n",
    "    auc = roc_auc_score(y_valid, preds)\n",
    "    print(f'VALID AUC : {auc} ACC : {acc}\\n')\n",
    "    mlflow.log_metric(\"VAL AUC\",auc)\n",
    "    mlflow.log_metric(\"VAL Set SEED\",SEED)\n",
    "    model6_run_id=run.info.run_id\n",
    "    post_slack(\"done\")\n",
    "    print(f\"{model6_run_id=}\")\n",
    "    file_name = title2filename(title)\n",
    "    test_preds = lgbm_predict(test, model6, FEATS, f'{file_name}.csv')\n",
    "\n",
    "q = pd.Series(test_preds).plot(kind='kde')"
   ]
  },
  {
   "cell_type": "code",
   "execution_count": 12,
   "id": "c42a45d1",
   "metadata": {
    "ExecuteTime": {
     "end_time": "2022-12-05T14:51:32.546518Z",
     "start_time": "2022-12-05T14:51:32.519922Z"
    }
   },
   "outputs": [
    {
     "data": {
      "text/plain": [
       "<ActiveRun: >"
      ]
     },
     "execution_count": 12,
     "metadata": {},
     "output_type": "execute_result"
    },
    {
     "name": "stdout",
     "output_type": "stream",
     "text": [
      "Active run_id: 72eb5a3915ee472095b202cbec0272e4\n"
     ]
    }
   ],
   "source": [
    "### 제출 mlflow 등록\n",
    "# 제출시\n",
    "LB_AUC=0.8195\n",
    "run_id = '72eb5a3915ee472095b202cbec0272e4'\n",
    "mlflow.start_run(run_id=run_id)\n",
    "run = mlflow.active_run()\n",
    "print(\"Active run_id: {}\".format(run.info.run_id))\n",
    "mlflow.log_metric(\"LB AUC\",LB_AUC)\n",
    "mlflow.end_run()"
   ]
  },
  {
   "cell_type": "markdown",
   "id": "1ab7bb58",
   "metadata": {},
   "source": [
    "## ass_difficulty, pb_num_dificulty 제외"
   ]
  },
  {
   "cell_type": "code",
   "execution_count": 15,
   "id": "27859bcd",
   "metadata": {
    "ExecuteTime": {
     "end_time": "2022-12-05T15:06:49.904578Z",
     "start_time": "2022-12-05T15:04:05.441506Z"
    }
   },
   "outputs": [
    {
     "data": {
      "text/plain": [
       "([0, 1, 2, 3, 6, 7, 8, 9, 11, 21, 23],\n",
       " '🌈(12/06 Tue)[LGBM ass_difficulty, pb_num_dificulty 제외 lr 0.023] 피처: 31개',\n",
       " '사용된 피처(31)\\nuidIdx, assIdx, testIdx, KnowledgeTag, user_correct_answer, user_total_answer, big_category, mid_category, problem_num, month, day, dayname, hour, user_acc, test_mean, test_sum, test_std, tag_std, tag_mean, tag_sum, solvesec_3600, time_category, solvesec_cumsum, solvecumsum_category, big_category_cumconut, big_category_user_cum_acc, mid_category_cumconut, mid_category_user_cum_acc, assess_count, elo, elo_pbnum0')"
      ]
     },
     "execution_count": 15,
     "metadata": {},
     "output_type": "execute_result"
    },
    {
     "name": "stdout",
     "output_type": "stream",
     "text": [
      "[LightGBM] [Info] Number of positive: 1208276, number of negative: 637263\n",
      "[LightGBM] [Warning] Auto-choosing row-wise multi-threading, the overhead of testing was 0.030201 seconds.\n",
      "You can set `force_row_wise=true` to remove the overhead.\n",
      "And if memory is not enough, you can set `force_col_wise=true`.\n",
      "[LightGBM] [Info] Total Bins 20222\n",
      "[LightGBM] [Info] Number of data points in the train set: 1845539, number of used features: 31\n",
      "[LightGBM] [Info] [binary:BoostFromScore]: pavg=0.654701 -> initscore=0.639767\n",
      "[LightGBM] [Info] Start training from score 0.639767\n",
      "Training until validation scores don't improve for 100 rounds\n",
      "[100]\tvalid_0's binary_logloss: 0.531009\n",
      "[200]\tvalid_0's binary_logloss: 0.516821\n",
      "[300]\tvalid_0's binary_logloss: 0.512688\n",
      "[400]\tvalid_0's binary_logloss: 0.510299\n",
      "[500]\tvalid_0's binary_logloss: 0.508753\n",
      "[600]\tvalid_0's binary_logloss: 0.507432\n",
      "[700]\tvalid_0's binary_logloss: 0.506404\n",
      "[800]\tvalid_0's binary_logloss: 0.505796\n",
      "[900]\tvalid_0's binary_logloss: 0.505081\n",
      "[1000]\tvalid_0's binary_logloss: 0.504697\n",
      "[1100]\tvalid_0's binary_logloss: 0.504484\n",
      "[1200]\tvalid_0's binary_logloss: 0.504321\n",
      "[1300]\tvalid_0's binary_logloss: 0.504017\n",
      "[1400]\tvalid_0's binary_logloss: 0.503842\n",
      "[1500]\tvalid_0's binary_logloss: 0.503617\n",
      "[1600]\tvalid_0's binary_logloss: 0.503433\n",
      "[1700]\tvalid_0's binary_logloss: 0.503394\n",
      "[1800]\tvalid_0's binary_logloss: 0.503279\n",
      "[1900]\tvalid_0's binary_logloss: 0.503374\n",
      "Early stopping, best iteration is:\n",
      "[1830]\tvalid_0's binary_logloss: 0.503222\n",
      "VALID AUC : 0.8322090143024079 ACC : 0.7497467071935157\n",
      "\n",
      "model7_run_id='ec8e6ddbdf77445abec6a353b1b6e620'\n",
      "writing prediction : output/12_06_Tue_LGBM_ass_difficulty_pb_num_dificulty_제외_lr_0_023_피처_31개.csv\n"
     ]
    },
    {
     "data": {
      "image/png": "[encoded data removed]",
      "text/plain": [
       "<Figure size 640x480 with 1 Axes>"
      ]
     },
     "metadata": {},
     "output_type": "display_data"
    }
   ],
   "source": [
    "# Hyper parameter 설정\n",
    "params = {\n",
    "#     \"max_depth\": 8,  # 8,\n",
    "#     \"min_data_in_leaf\": 1000,\n",
    "    # \"feature_fraction\": 0.6,  # 0.8,\n",
    "#     \"bagging_fraction\": 0.75,\n",
    "    # \"max_cat_group\": 64,\n",
    "    \"objective\": \"binary\",\n",
    "#     \"boosting\": \"gbdt\",  # dart\n",
    "    \"learning_rate\": 0.023,  # 0.01,\n",
    "    # \"bagging_freq\": 5,\n",
    "    \"seed\": 42,\n",
    "    # \"max_bin\": 50,\n",
    "#     \"num_leaves\": 80,  # 40,\n",
    "#     \"metric\": \"auc\",\n",
    "}\n",
    "\n",
    "### 피처 설정\n",
    "# 사용할 Feature 설정\n",
    "FEATS = ['uidIdx',\n",
    "         'assIdx',\n",
    "         'testIdx',\n",
    "         'KnowledgeTag',\n",
    "         'user_correct_answer',\n",
    "         'user_total_answer',\n",
    "         'big_category',\n",
    "         'mid_category',\n",
    "         'problem_num',\n",
    "         'month','day','dayname','hour',\n",
    "         'user_acc',\n",
    "         'test_mean',\n",
    "         'test_sum',\n",
    "         'test_std',\n",
    "         'tag_std',\n",
    "         'tag_mean',\n",
    "         'tag_sum',\n",
    "         'solvesec_3600',\n",
    "         'time_category',\n",
    "         'solvesec_cumsum',\n",
    "         'solvecumsum_category',\n",
    "         'big_category_cumconut',\n",
    "         'big_category_user_cum_acc',\n",
    "         'mid_category_cumconut',\n",
    "         'mid_category_user_cum_acc',\n",
    "         'assess_count',\n",
    "         'elo',\n",
    "         'elo_pbnum0',\n",
    "        ]\n",
    "\n",
    "cat_feats = ['uidIdx','assIdx','testIdx','KnowledgeTag','big_category','mid_category',\n",
    "             'problem_num','dayname','month','time_category','solvecumsum_category']\n",
    "cat_feats_idx = [i for i,e in enumerate(FEATS) if e in cat_feats]\n",
    "\n",
    "### 학습 및 예측\n",
    "\n",
    "date = datetime.now().strftime('%m/%d %a')\n",
    "title=f\"🌈({date})[LGBM ass_difficulty, pb_num_dificulty 제외 lr 0.023] 피처: {len(FEATS)}개\"\n",
    "using_feats=\", \".join(FEATS)\n",
    "desc=f\"사용된 피처({len(FEATS)})\\n{using_feats}\"\n",
    "cat_feats_idx, title, desc\n",
    "\n",
    "mlflow.lightgbm.autolog()\n",
    "lgb_x_train = lgb.Dataset(x_train[FEATS], y_train)\n",
    "lgb_x_valid = lgb.Dataset(x_valid[FEATS], y_valid)\n",
    "\n",
    "with mlflow.start_run(run_name=title, description=desc) as run:\n",
    "    model7 = lgb.train(\n",
    "        params, \n",
    "        lgb_x_train,\n",
    "        valid_sets=[lgb_x_valid],\n",
    "        verbose_eval=100,\n",
    "        num_boost_round=3200,\n",
    "        categorical_feature=cat_feats_idx,\n",
    "        early_stopping_rounds=100,\n",
    "    )\n",
    "    preds = model7.predict(x_valid[FEATS])\n",
    "    acc = accuracy_score(y_valid, np.where(preds >= 0.5, 1, 0))\n",
    "    auc = roc_auc_score(y_valid, preds)\n",
    "    print(f'VALID AUC : {auc} ACC : {acc}\\n')\n",
    "    mlflow.log_metric(\"VAL AUC\",auc)\n",
    "    mlflow.log_metric(\"VAL Set SEED\",SEED)\n",
    "    model7_run_id=run.info.run_id\n",
    "    post_slack(\"done\")\n",
    "    print(f\"{model7_run_id=}\")\n",
    "    file_name = title2filename(title)\n",
    "    test_preds = lgbm_predict(test, model7, FEATS, f'{file_name}.csv')\n",
    "\n",
    "q = pd.Series(test_preds).plot(kind='kde')"
   ]
  },
  {
   "cell_type": "code",
   "execution_count": 16,
   "id": "609624cb",
   "metadata": {
    "ExecuteTime": {
     "end_time": "2022-12-05T15:13:31.370431Z",
     "start_time": "2022-12-05T15:13:31.340155Z"
    }
   },
   "outputs": [
    {
     "data": {
      "text/plain": [
       "<ActiveRun: >"
      ]
     },
     "execution_count": 16,
     "metadata": {},
     "output_type": "execute_result"
    },
    {
     "name": "stdout",
     "output_type": "stream",
     "text": [
      "Active run_id: ec8e6ddbdf77445abec6a353b1b6e620\n"
     ]
    }
   ],
   "source": [
    "### 제출 mlflow 등록\n",
    "# 제출시\n",
    "LB_AUC=0.8205\n",
    "run_id = 'ec8e6ddbdf77445abec6a353b1b6e620'\n",
    "mlflow.start_run(run_id=run_id)\n",
    "run = mlflow.active_run()\n",
    "print(\"Active run_id: {}\".format(run.info.run_id))\n",
    "mlflow.log_metric(\"LB AUC\",LB_AUC)\n",
    "mlflow.end_run()"
   ]
  },
  {
   "cell_type": "markdown",
   "id": "b23ba863",
   "metadata": {},
   "source": [
    "## user_acc 제외"
   ]
  },
  {
   "cell_type": "code",
   "execution_count": 17,
   "id": "68d6e186",
   "metadata": {
    "ExecuteTime": {
     "end_time": "2022-12-05T15:17:44.691725Z",
     "start_time": "2022-12-05T15:15:02.526611Z"
    }
   },
   "outputs": [
    {
     "data": {
      "text/plain": [
       "([0, 1, 2, 3, 6, 7, 8, 9, 11, 20, 22],\n",
       " '🌈(12/06 Tue)[LGBM user_acc 제외 lr 0.023] 피처: 30개',\n",
       " '사용된 피처(30)\\nuidIdx, assIdx, testIdx, KnowledgeTag, user_correct_answer, user_total_answer, big_category, mid_category, problem_num, month, day, dayname, hour, test_mean, test_sum, test_std, tag_std, tag_mean, tag_sum, solvesec_3600, time_category, solvesec_cumsum, solvecumsum_category, big_category_cumconut, big_category_user_cum_acc, mid_category_cumconut, mid_category_user_cum_acc, assess_count, elo, elo_pbnum0')"
      ]
     },
     "execution_count": 17,
     "metadata": {},
     "output_type": "execute_result"
    },
    {
     "name": "stdout",
     "output_type": "stream",
     "text": [
      "[LightGBM] [Info] Number of positive: 1208276, number of negative: 637263\n",
      "[LightGBM] [Warning] Auto-choosing row-wise multi-threading, the overhead of testing was 0.030786 seconds.\n",
      "You can set `force_row_wise=true` to remove the overhead.\n",
      "And if memory is not enough, you can set `force_col_wise=true`.\n",
      "[LightGBM] [Info] Total Bins 19967\n",
      "[LightGBM] [Info] Number of data points in the train set: 1845539, number of used features: 30\n",
      "[LightGBM] [Info] [binary:BoostFromScore]: pavg=0.654701 -> initscore=0.639767\n",
      "[LightGBM] [Info] Start training from score 0.639767\n",
      "Training until validation scores don't improve for 100 rounds\n",
      "[100]\tvalid_0's binary_logloss: 0.531009\n",
      "[200]\tvalid_0's binary_logloss: 0.517541\n",
      "[300]\tvalid_0's binary_logloss: 0.513531\n",
      "[400]\tvalid_0's binary_logloss: 0.511328\n",
      "[500]\tvalid_0's binary_logloss: 0.509576\n",
      "[600]\tvalid_0's binary_logloss: 0.507943\n",
      "[700]\tvalid_0's binary_logloss: 0.506832\n",
      "[800]\tvalid_0's binary_logloss: 0.505703\n",
      "[900]\tvalid_0's binary_logloss: 0.505156\n",
      "[1000]\tvalid_0's binary_logloss: 0.504698\n",
      "[1100]\tvalid_0's binary_logloss: 0.504322\n",
      "[1200]\tvalid_0's binary_logloss: 0.503844\n",
      "[1300]\tvalid_0's binary_logloss: 0.50346\n",
      "[1400]\tvalid_0's binary_logloss: 0.503154\n",
      "[1500]\tvalid_0's binary_logloss: 0.502729\n",
      "[1600]\tvalid_0's binary_logloss: 0.502575\n",
      "[1700]\tvalid_0's binary_logloss: 0.50238\n",
      "[1800]\tvalid_0's binary_logloss: 0.502213\n",
      "[1900]\tvalid_0's binary_logloss: 0.502094\n",
      "Early stopping, best iteration is:\n",
      "[1882]\tvalid_0's binary_logloss: 0.502026\n",
      "VALID AUC : 0.8325649286525453 ACC : 0.7553191489361702\n",
      "\n",
      "model8_run_id='6ab3234356d04d20a25991c228c1e033'\n",
      "writing prediction : output/12_06_Tue_LGBM_user_acc_제외_lr_0_023_피처_30개.csv\n"
     ]
    },
    {
     "data": {
      "image/png": "[encoded data removed]",
      "text/plain": [
       "<Figure size 640x480 with 1 Axes>"
      ]
     },
     "metadata": {},
     "output_type": "display_data"
    }
   ],
   "source": [
    "# Hyper parameter 설정\n",
    "params = {\n",
    "#     \"max_depth\": 8,  # 8,\n",
    "#     \"min_data_in_leaf\": 1000,\n",
    "    # \"feature_fraction\": 0.6,  # 0.8,\n",
    "#     \"bagging_fraction\": 0.75,\n",
    "    # \"max_cat_group\": 64,\n",
    "    \"objective\": \"binary\",\n",
    "#     \"boosting\": \"gbdt\",  # dart\n",
    "    \"learning_rate\": 0.023,  # 0.01,\n",
    "    # \"bagging_freq\": 5,\n",
    "    \"seed\": 42,\n",
    "    # \"max_bin\": 50,\n",
    "#     \"num_leaves\": 80,  # 40,\n",
    "#     \"metric\": \"auc\",\n",
    "}\n",
    "\n",
    "### 피처 설정\n",
    "# 사용할 Feature 설정\n",
    "FEATS = ['uidIdx',\n",
    "         'assIdx',\n",
    "         'testIdx',\n",
    "         'KnowledgeTag',\n",
    "         'user_correct_answer',\n",
    "         'user_total_answer',\n",
    "         'big_category',\n",
    "         'mid_category',\n",
    "         'problem_num',\n",
    "         'month','day','dayname','hour',\n",
    "         'test_mean',\n",
    "         'test_sum',\n",
    "         'test_std',\n",
    "         'tag_std',\n",
    "         'tag_mean',\n",
    "         'tag_sum',\n",
    "         'solvesec_3600',\n",
    "         'time_category',\n",
    "         'solvesec_cumsum',\n",
    "         'solvecumsum_category',\n",
    "         'big_category_cumconut',\n",
    "         'big_category_user_cum_acc',\n",
    "         'mid_category_cumconut',\n",
    "         'mid_category_user_cum_acc',\n",
    "         'assess_count',\n",
    "         'elo',\n",
    "         'elo_pbnum0',\n",
    "        ]\n",
    "\n",
    "cat_feats = ['uidIdx','assIdx','testIdx','KnowledgeTag','big_category','mid_category',\n",
    "             'problem_num','dayname','month','time_category','solvecumsum_category']\n",
    "cat_feats_idx = [i for i,e in enumerate(FEATS) if e in cat_feats]\n",
    "\n",
    "### 학습 및 예측\n",
    "\n",
    "date = datetime.now().strftime('%m/%d %a')\n",
    "title=f\"🌈({date})[LGBM user_acc 제외 lr 0.023] 피처: {len(FEATS)}개\"\n",
    "using_feats=\", \".join(FEATS)\n",
    "desc=f\"사용된 피처({len(FEATS)})\\n{using_feats}\"\n",
    "cat_feats_idx, title, desc\n",
    "\n",
    "mlflow.lightgbm.autolog()\n",
    "lgb_x_train = lgb.Dataset(x_train[FEATS], y_train)\n",
    "lgb_x_valid = lgb.Dataset(x_valid[FEATS], y_valid)\n",
    "\n",
    "with mlflow.start_run(run_name=title, description=desc) as run:\n",
    "    model8 = lgb.train(\n",
    "        params, \n",
    "        lgb_x_train,\n",
    "        valid_sets=[lgb_x_valid],\n",
    "        verbose_eval=100,\n",
    "        num_boost_round=3200,\n",
    "        categorical_feature=cat_feats_idx,\n",
    "        early_stopping_rounds=100,\n",
    "    )\n",
    "    preds = model8.predict(x_valid[FEATS])\n",
    "    acc = accuracy_score(y_valid, np.where(preds >= 0.5, 1, 0))\n",
    "    auc = roc_auc_score(y_valid, preds)\n",
    "    print(f'VALID AUC : {auc} ACC : {acc}\\n')\n",
    "    mlflow.log_metric(\"VAL AUC\",auc)\n",
    "    mlflow.log_metric(\"VAL Set SEED\",SEED)\n",
    "    model8_run_id=run.info.run_id\n",
    "    post_slack(\"done\")\n",
    "    print(f\"{model8_run_id=}\")\n",
    "    file_name = title2filename(title)\n",
    "    test_preds = lgbm_predict(test, model8, FEATS, f'{file_name}.csv')\n",
    "\n",
    "q = pd.Series(test_preds).plot(kind='kde')"
   ]
  },
  {
   "cell_type": "code",
   "execution_count": 21,
   "id": "2d0d041f",
   "metadata": {
    "ExecuteTime": {
     "end_time": "2022-12-06T14:44:17.226022Z",
     "start_time": "2022-12-06T14:44:17.196704Z"
    }
   },
   "outputs": [
    {
     "data": {
      "text/plain": [
       "<ActiveRun: >"
      ]
     },
     "execution_count": 21,
     "metadata": {},
     "output_type": "execute_result"
    },
    {
     "name": "stdout",
     "output_type": "stream",
     "text": [
      "Active run_id: 6ab3234356d04d20a25991c228c1e033\n"
     ]
    }
   ],
   "source": [
    "### 제출 mlflow 등록\n",
    "# 제출시\n",
    "LB_AUC=0.8220\n",
    "run_id = '6ab3234356d04d20a25991c228c1e033'\n",
    "mlflow.start_run(run_id=run_id)\n",
    "run = mlflow.active_run()\n",
    "print(\"Active run_id: {}\".format(run.info.run_id))\n",
    "mlflow.log_metric(\"LB AUC\",LB_AUC)\n",
    "mlflow.end_run()"
   ]
  },
  {
   "cell_type": "markdown",
   "id": "bb8dfc08",
   "metadata": {},
   "source": [
    "## big, mid category cum_acc 제외"
   ]
  },
  {
   "cell_type": "code",
   "execution_count": 18,
   "id": "508cc1ee",
   "metadata": {
    "ExecuteTime": {
     "end_time": "2022-12-06T06:04:53.900824Z",
     "start_time": "2022-12-06T06:03:02.663382Z"
    }
   },
   "outputs": [
    {
     "data": {
      "text/plain": [
       "([0, 1, 2, 3, 6, 7, 8, 9, 11, 20, 22],\n",
       " '🌈(12/06 Tue)[LGBM big, mid category cum_acc 제외 lr 0.023] 피처: 28개',\n",
       " '사용된 피처(28)\\nuidIdx, assIdx, testIdx, KnowledgeTag, user_correct_answer, user_total_answer, big_category, mid_category, problem_num, month, day, dayname, hour, test_mean, test_sum, test_std, tag_std, tag_mean, tag_sum, solvesec_3600, time_category, solvesec_cumsum, solvecumsum_category, big_category_cumconut, mid_category_cumconut, assess_count, elo, elo_pbnum0')"
      ]
     },
     "execution_count": 18,
     "metadata": {},
     "output_type": "execute_result"
    },
    {
     "name": "stdout",
     "output_type": "stream",
     "text": [
      "[LightGBM] [Info] Number of positive: 1208276, number of negative: 637263\n",
      "[LightGBM] [Warning] Auto-choosing row-wise multi-threading, the overhead of testing was 0.030837 seconds.\n",
      "You can set `force_row_wise=true` to remove the overhead.\n",
      "And if memory is not enough, you can set `force_col_wise=true`.\n",
      "[LightGBM] [Info] Total Bins 19581\n",
      "[LightGBM] [Info] Number of data points in the train set: 1845539, number of used features: 28\n",
      "[LightGBM] [Info] [binary:BoostFromScore]: pavg=0.654701 -> initscore=0.639767\n",
      "[LightGBM] [Info] Start training from score 0.639767\n",
      "Training until validation scores don't improve for 100 rounds\n",
      "[100]\tvalid_0's binary_logloss: 0.539354\n",
      "[200]\tvalid_0's binary_logloss: 0.528669\n",
      "[300]\tvalid_0's binary_logloss: 0.5253\n",
      "[400]\tvalid_0's binary_logloss: 0.523132\n",
      "[500]\tvalid_0's binary_logloss: 0.521418\n",
      "[600]\tvalid_0's binary_logloss: 0.520001\n",
      "[700]\tvalid_0's binary_logloss: 0.518914\n",
      "[800]\tvalid_0's binary_logloss: 0.518528\n",
      "[900]\tvalid_0's binary_logloss: 0.518301\n",
      "[1000]\tvalid_0's binary_logloss: 0.518038\n",
      "[1100]\tvalid_0's binary_logloss: 0.517824\n",
      "[1200]\tvalid_0's binary_logloss: 0.517598\n",
      "[1300]\tvalid_0's binary_logloss: 0.517481\n",
      "[1400]\tvalid_0's binary_logloss: 0.517528\n",
      "Early stopping, best iteration is:\n",
      "[1305]\tvalid_0's binary_logloss: 0.51744\n",
      "VALID AUC : 0.8202838262644216 ACC : 0.743161094224924\n",
      "\n",
      "model9_run_id='fbe562bab8924f8798cb98bc37869304'\n",
      "writing prediction : output/12_06_Tue_LGBM_big_mid_category_cum_acc_제외_lr_0_023_피처_28개.csv\n"
     ]
    },
    {
     "data": {
      "image/png": "[encoded data removed]",
      "text/plain": [
       "<Figure size 640x480 with 1 Axes>"
      ]
     },
     "metadata": {},
     "output_type": "display_data"
    }
   ],
   "source": [
    "# Hyper parameter 설정\n",
    "params = {\n",
    "#     \"max_depth\": 8,  # 8,\n",
    "#     \"min_data_in_leaf\": 1000,\n",
    "    # \"feature_fraction\": 0.6,  # 0.8,\n",
    "#     \"bagging_fraction\": 0.75,\n",
    "    # \"max_cat_group\": 64,\n",
    "    \"objective\": \"binary\",\n",
    "#     \"boosting\": \"gbdt\",  # dart\n",
    "    \"learning_rate\": 0.023,  # 0.01,\n",
    "    # \"bagging_freq\": 5,\n",
    "    \"seed\": 42,\n",
    "    # \"max_bin\": 50,\n",
    "#     \"num_leaves\": 80,  # 40,\n",
    "#     \"metric\": \"auc\",\n",
    "}\n",
    "\n",
    "### 피처 설정\n",
    "# 사용할 Feature 설정\n",
    "FEATS = ['uidIdx',\n",
    "         'assIdx',\n",
    "         'testIdx',\n",
    "         'KnowledgeTag',\n",
    "         'user_correct_answer',\n",
    "         'user_total_answer',\n",
    "         'big_category',\n",
    "         'mid_category',\n",
    "         'problem_num',\n",
    "         'month','day','dayname','hour',\n",
    "         'test_mean',\n",
    "         'test_sum',\n",
    "         'test_std',\n",
    "         'tag_std',\n",
    "         'tag_mean',\n",
    "         'tag_sum',\n",
    "         'solvesec_3600',\n",
    "         'time_category',\n",
    "         'solvesec_cumsum',\n",
    "         'solvecumsum_category',\n",
    "         'big_category_cumconut',\n",
    "         'big_category_user_cum_acc',\n",
    "         'mid_category_cumconut',\n",
    "         'mid_category_user_cum_acc',\n",
    "         'assess_count',\n",
    "         'elo',\n",
    "         'elo_pbnum0',\n",
    "        ]\n",
    "\n",
    "cat_feats = ['uidIdx','assIdx','testIdx','KnowledgeTag','big_category','mid_category',\n",
    "             'problem_num','dayname','month','time_category','solvecumsum_category']\n",
    "cat_feats_idx = [i for i,e in enumerate(FEATS) if e in cat_feats]\n",
    "\n",
    "### 학습 및 예측\n",
    "\n",
    "date = datetime.now().strftime('%m/%d %a')\n",
    "title=f\"🌈({date})[LGBM user_acc 제외 lr 0.023] 피처: {len(FEATS)}개\"\n",
    "using_feats=\", \".join(FEATS)\n",
    "desc=f\"사용된 피처({len(FEATS)})\\n{using_feats}\"\n",
    "cat_feats_idx, title, desc\n",
    "\n",
    "mlflow.lightgbm.autolog()\n",
    "lgb_x_train = lgb.Dataset(x_train[FEATS], y_train)\n",
    "lgb_x_valid = lgb.Dataset(x_valid[FEATS], y_valid)\n",
    "\n",
    "with mlflow.start_run(run_name=title, description=desc) as run:\n",
    "    model8 = lgb.train(\n",
    "        params, \n",
    "        lgb_x_train,\n",
    "        valid_sets=[lgb_x_valid],\n",
    "        verbose_eval=100,\n",
    "        num_boost_round=3200,\n",
    "        categorical_feature=cat_feats_idx,\n",
    "        early_stopping_rounds=100,\n",
    "    )\n",
    "    preds = model8.predict(x_valid[FEATS])\n",
    "    acc = accuracy_score(y_valid, np.where(preds >= 0.5, 1, 0))\n",
    "    auc = roc_auc_score(y_valid, preds)\n",
    "    print(f'VALID AUC : {auc} ACC : {acc}\\n')\n",
    "    mlflow.log_metric(\"VAL AUC\",auc)\n",
    "    mlflow.log_metric(\"VAL Set SEED\",SEED)\n",
    "    model8_run_id=run.info.run_id\n",
    "    post_slack(\"done\")\n",
    "    print(f\"{model8_run_id=}\")\n",
    "    file_name = title2filename(title)\n",
    "    test_preds = lgbm_predict(test, model8, FEATS, f'{file_name}.csv')\n",
    "\n",
    "q = pd.Series(test_preds).plot(kind='kde')"
   ]
  },
  {
   "cell_type": "markdown",
   "id": "2b364e1b",
   "metadata": {},
   "source": [
    "## HP 튜닝"
   ]
  },
  {
   "cell_type": "code",
   "execution_count": null,
   "id": "f2b2bae5",
   "metadata": {
    "ExecuteTime": {
     "end_time": "2022-12-04T17:49:19.261148Z",
     "start_time": "2022-12-04T17:48:23.976273Z"
    }
   },
   "outputs": [],
   "source": [
    "# Hyper parameter 설정\n",
    "params = {\n",
    "    \"max_depth\": 8,  # 8,\n",
    "#     \"min_data_in_leaf\": 1000,\n",
    "    \"feature_fraction\": 0.6,  # 0.8,\n",
    "    \"bagging_fraction\": 0.75,\n",
    "    \"max_cat_group\": 64,\n",
    "    \"objective\": \"binary\",\n",
    "    \"boosting\": \"gbdt\",  # dart\n",
    "    \"learning_rate\": 0.023,  # 0.01,\n",
    "    # \"bagging_freq\": 5,\n",
    "    \"seed\": 42,\n",
    "    \"max_bin\": 50,\n",
    "#     \"num_leaves\": 80,  # 40,\n",
    "#     \"metric\": \"auc\",\n",
    "     'lambda_l1': 9.5, \n",
    "     'lambda_l2': 0.005, \n",
    "     'min_child_samples': 20,\n",
    "}"
   ]
  }
 ],
 "metadata": {
  "kernelspec": {
   "display_name": "Python 3 (ipykernel)",
   "language": "python",
   "name": "python3"
  },
  "language_info": {
   "codemirror_mode": {
    "name": "ipython",
    "version": 3
   },
   "file_extension": ".py",
   "mimetype": "text/x-python",
   "name": "python",
   "nbconvert_exporter": "python",
   "pygments_lexer": "ipython3",
   "version": "3.9.15"
  },
  "toc": {
   "base_numbering": 1,
   "nav_menu": {},
   "number_sections": true,
   "sideBar": true,
   "skip_h1_title": true,
   "title_cell": "Table of Contents",
   "title_sidebar": "Contents",
   "toc_cell": false,
   "toc_position": {
    "height": "calc(100% - 180px)",
    "left": "10px",
    "top": "150px",
    "width": "383.993px"
   },
   "toc_section_display": true,
   "toc_window_display": true
  }
 },
 "nbformat": 4,
 "nbformat_minor": 5
}
