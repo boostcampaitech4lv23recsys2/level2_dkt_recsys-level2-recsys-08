{
 "cells": [
  {
   "cell_type": "markdown",
   "id": "1a73ded2",
   "metadata": {},
   "source": [
    "## dataload"
   ]
  },
  {
   "cell_type": "code",
   "execution_count": 10,
   "id": "464cf792",
   "metadata": {
    "ExecuteTime": {
     "end_time": "2022-12-05T12:23:33.447875Z",
     "start_time": "2022-12-05T12:23:28.388951Z"
    }
   },
   "outputs": [
    {
     "data": {
      "text/plain": [
       "((1845539, 54), (1974, 54), (260114, 54))"
      ]
     },
     "execution_count": 10,
     "metadata": {},
     "output_type": "execute_result"
    },
    {
     "data": {
      "text/plain": [
       "((1845539, 53), (1845539, 1), (1974, 53), (1974, 1))"
      ]
     },
     "execution_count": 10,
     "metadata": {},
     "output_type": "execute_result"
    }
   ],
   "source": [
    "import mlflow\n",
    "import mlflow.lightgbm\n",
    "from datetime import datetime\n",
    "from IPython.core.interactiveshell import InteractiveShell\n",
    "InteractiveShell.ast_node_interactivity = 'all'\n",
    "import pandas as pd\n",
    "import os\n",
    "import random\n",
    "import warnings\n",
    "warnings.filterwarnings('ignore')\n",
    "import lightgbm as lgb\n",
    "from sklearn.metrics import roc_auc_score\n",
    "from sklearn.metrics import accuracy_score\n",
    "import numpy as np\n",
    "from utils import custom_train_test_split, lgbm_predict, post_slack, title2filename\n",
    "os.environ[\"LOGNAME\"]='cwj'\n",
    "SEED=13\n",
    "\n",
    "## 1. 데이터 로딩\n",
    "data_dir = '/opt/ml/input/data' # 경로\n",
    "after_fe_path = os.path.join(data_dir, 'lgbm_assess_count_solvesec_650.pkl')\n",
    "df = pd.read_pickle(after_fe_path)\n",
    "\n",
    "train_df = df[df.kind=='train']\n",
    "train, valid = custom_train_test_split(train_df, ratio=0.7, seed=SEED) # 훈련데이터 split\n",
    "test = df[df.kind=='test'] # 테스트 데이터\n",
    "train2 = test[test.answerCode!=-1] # 테스트데이터 마지막 제출 2번쨰꺼까지 훈련데이터로 사용\n",
    "train = pd.concat([train,train2]) # 훈련데이터 병합\n",
    "train.shape, valid.shape, test.shape\n",
    "\n",
    "x_train = train.drop('answerCode',axis=1)\n",
    "y_train = train[['answerCode']]\n",
    "\n",
    "x_valid = valid.drop('answerCode',axis=1)\n",
    "y_valid = valid[['answerCode']]\n",
    "x_train.shape, y_train.shape, x_valid.shape, y_valid.shape"
   ]
  },
  {
   "cell_type": "code",
   "execution_count": 11,
   "id": "c824f78d",
   "metadata": {
    "ExecuteTime": {
     "end_time": "2022-12-05T12:23:33.454836Z",
     "start_time": "2022-12-05T12:23:33.450181Z"
    }
   },
   "outputs": [
    {
     "data": {
      "text/plain": [
       "Index(['userID', 'assessmentItemID', 'testId', 'answerCode', 'Timestamp',\n",
       "       'KnowledgeTag', 'kind', 'uidIdx', 'assIdx', 'testIdx',\n",
       "       'user_correct_answer', 'user_total_answer', 'user_acc', 'month', 'day',\n",
       "       'hour', 'dayname', 'big_category', 'problem_num', 'mid_category',\n",
       "       'test_mean', 'test_std', 'test_sum', 'tag_mean', 'tag_std', 'tag_sum',\n",
       "       'Timestamp2', 'solvetime', 'solvesec', 'solvesec_3600', 'time_category',\n",
       "       'solvesec_cumsum', 'solvecumsum_category', 'big_category_cumconut',\n",
       "       'big_category_answer', 'big_category_user_cum_acc',\n",
       "       'mid_category_cumconut', 'mid_category_answer',\n",
       "       'mid_category_user_cum_acc', 'ass_acc_mean', 'ass_difficulty',\n",
       "       'ass_acc_std', 'pb_num_acc_mean', 'pb_num_difficulty', 'pb_num_acc_std',\n",
       "       'shift', 'past_ass_correct', 'assess_count', 'Time', 'Timediff',\n",
       "       'Timepassed', 'Time_answer_rate', 'timediff_category',\n",
       "       'timepassed_category'],\n",
       "      dtype='object')"
      ]
     },
     "execution_count": 11,
     "metadata": {},
     "output_type": "execute_result"
    }
   ],
   "source": [
    "df.columns"
   ]
  },
  {
   "cell_type": "markdown",
   "id": "f1db3fb0",
   "metadata": {},
   "source": [
    "## Params"
   ]
  },
  {
   "cell_type": "code",
   "execution_count": 18,
   "id": "a5bb8a1a",
   "metadata": {
    "ExecuteTime": {
     "end_time": "2022-12-05T12:33:16.374697Z",
     "start_time": "2022-12-05T12:33:16.370778Z"
    }
   },
   "outputs": [],
   "source": [
    "# Hyper parameter 설정\n",
    "params = {\n",
    "#     \"max_depth\": 8,  # 8,\n",
    "#     \"min_data_in_leaf\": 1000,\n",
    "    # \"feature_fraction\": 0.6,  # 0.8,\n",
    "#     \"bagging_fraction\": 0.75,\n",
    "    # \"max_cat_group\": 64,\n",
    "    \"objective\": \"binary\",\n",
    "#     \"boosting\": \"gbdt\",  # dart\n",
    "    \"learning_rate\": 0.023,  # 0.01,\n",
    "    # \"bagging_freq\": 5,\n",
    "    \"seed\": 42,\n",
    "    # \"max_bin\": 50,\n",
    "#     \"num_leaves\": 80,  # 40,\n",
    "#     \"metric\": \"auc\",\n",
    "}"
   ]
  },
  {
   "cell_type": "markdown",
   "id": "5cc103e3",
   "metadata": {},
   "source": [
    "## assess_count 추가 -> 성능 제일 좋음"
   ]
  },
  {
   "cell_type": "code",
   "execution_count": 19,
   "id": "2b5f54a7",
   "metadata": {
    "ExecuteTime": {
     "end_time": "2022-12-05T12:35:07.240887Z",
     "start_time": "2022-12-05T12:33:41.330633Z"
    },
    "scrolled": false
   },
   "outputs": [
    {
     "data": {
      "text/plain": [
       "([0, 1, 2, 3, 6, 7, 8, 9, 11, 21, 23],\n",
       " '🌈(12/05 Mon)[LGBM assess_count 추가 lr 0.023] 피처: 31개',\n",
       " '사용된 피처(31)\\nuidIdx, assIdx, testIdx, KnowledgeTag, user_correct_answer, user_total_answer, big_category, mid_category, problem_num, month, day, dayname, hour, user_acc, test_mean, test_sum, test_std, tag_std, tag_mean, tag_sum, solvesec_3600, time_category, solvesec_cumsum, solvecumsum_category, big_category_cumconut, big_category_user_cum_acc, mid_category_cumconut, mid_category_user_cum_acc, ass_difficulty, pb_num_difficulty, assess_count')"
      ]
     },
     "execution_count": 19,
     "metadata": {},
     "output_type": "execute_result"
    },
    {
     "name": "stdout",
     "output_type": "stream",
     "text": [
      "[LightGBM] [Info] Number of positive: 1208276, number of negative: 637263\n",
      "[LightGBM] [Warning] Auto-choosing row-wise multi-threading, the overhead of testing was 0.030354 seconds.\n",
      "You can set `force_row_wise=true` to remove the overhead.\n",
      "And if memory is not enough, you can set `force_col_wise=true`.\n",
      "[LightGBM] [Info] Total Bins 19981\n",
      "[LightGBM] [Info] Number of data points in the train set: 1845539, number of used features: 31\n",
      "[LightGBM] [Info] [binary:BoostFromScore]: pavg=0.654701 -> initscore=0.639767\n",
      "[LightGBM] [Info] Start training from score 0.639767\n",
      "Training until validation scores don't improve for 100 rounds\n",
      "[100]\tvalid_0's binary_logloss: 0.538455\n",
      "[200]\tvalid_0's binary_logloss: 0.522034\n",
      "[300]\tvalid_0's binary_logloss: 0.517878\n",
      "[400]\tvalid_0's binary_logloss: 0.515872\n",
      "[500]\tvalid_0's binary_logloss: 0.51487\n",
      "[600]\tvalid_0's binary_logloss: 0.51465\n",
      "[700]\tvalid_0's binary_logloss: 0.514133\n",
      "[800]\tvalid_0's binary_logloss: 0.513592\n",
      "[900]\tvalid_0's binary_logloss: 0.51285\n",
      "[1000]\tvalid_0's binary_logloss: 0.512901\n",
      "Early stopping, best iteration is:\n",
      "[904]\tvalid_0's binary_logloss: 0.512784\n",
      "VALID AUC : 0.8254831588735825 ACC : 0.7416413373860182\n",
      "\n",
      "model3_run_id='882b85ff089a43f7aefe25ae1fb66f5f'\n",
      "writing prediction : output/12_05_Mon_LGBM_assess_count_추가_lr_0_023_피처_31개.csv\n"
     ]
    },
    {
     "data": {
      "image/png": "[encoded data removed]",
      "text/plain": [
       "<Figure size 640x480 with 1 Axes>"
      ]
     },
     "metadata": {},
     "output_type": "display_data"
    }
   ],
   "source": [
    "### 피처 설정\n",
    "# 사용할 Feature 설정\n",
    "FEATS = ['uidIdx',\n",
    "         'assIdx',\n",
    "         'testIdx',\n",
    "         'KnowledgeTag',\n",
    "         'user_correct_answer',\n",
    "         'user_total_answer',\n",
    "         'big_category',\n",
    "         'mid_category',\n",
    "         'problem_num',\n",
    "         'month','day','dayname','hour',\n",
    "         'user_acc',\n",
    "         'test_mean',\n",
    "         'test_sum',\n",
    "         'test_std',\n",
    "         'tag_std',\n",
    "         'tag_mean',\n",
    "         'tag_sum',\n",
    "         'solvesec_3600',\n",
    "         'time_category',\n",
    "         'solvesec_cumsum',\n",
    "         'solvecumsum_category',\n",
    "         'big_category_cumconut',\n",
    "         'big_category_user_cum_acc',\n",
    "         'mid_category_cumconut',\n",
    "         'mid_category_user_cum_acc',\n",
    "         'ass_difficulty',\n",
    "         'pb_num_difficulty',\n",
    "         'assess_count'\n",
    "        ]\n",
    "\n",
    "cat_feats = ['uidIdx','assIdx','testIdx','KnowledgeTag','big_category','mid_category',\n",
    "             'problem_num','dayname','month','time_category','solvecumsum_category']\n",
    "cat_feats_idx = [i for i,e in enumerate(FEATS) if e in cat_feats]\n",
    "\n",
    "### 학습 및 예측\n",
    "\n",
    "date = datetime.now().strftime('%m/%d %a')\n",
    "title=f\"🌈({date})[LGBM assess_count 추가 lr 0.023] 피처: {len(FEATS)}개\"\n",
    "using_feats=\", \".join(FEATS)\n",
    "desc=f\"사용된 피처({len(FEATS)})\\n{using_feats}\"\n",
    "cat_feats_idx, title, desc\n",
    "\n",
    "mlflow.lightgbm.autolog()\n",
    "lgb_x_train = lgb.Dataset(x_train[FEATS], y_train)\n",
    "lgb_x_valid = lgb.Dataset(x_valid[FEATS], y_valid)\n",
    "\n",
    "with mlflow.start_run(run_name=title, description=desc) as run:\n",
    "    model3 = lgb.train(\n",
    "        params, \n",
    "        lgb_x_train,\n",
    "        valid_sets=[lgb_x_valid],\n",
    "        verbose_eval=100,\n",
    "        num_boost_round=3200,\n",
    "        categorical_feature=cat_feats_idx,\n",
    "        early_stopping_rounds=100,\n",
    "    )\n",
    "    preds = model3.predict(x_valid[FEATS])\n",
    "    acc = accuracy_score(y_valid, np.where(preds >= 0.5, 1, 0))\n",
    "    auc = roc_auc_score(y_valid, preds)\n",
    "    print(f'VALID AUC : {auc} ACC : {acc}\\n')\n",
    "    mlflow.log_metric(\"VAL AUC\",auc)\n",
    "    mlflow.log_metric(\"VAL Set SEED\",SEED)\n",
    "    model3_run_id=run.info.run_id\n",
    "    post_slack(\"done\")\n",
    "    print(f\"{model3_run_id=}\")\n",
    "    file_name = title2filename(title)\n",
    "    test_preds = lgbm_predict(test, model3, FEATS, f'{file_name}.csv')\n",
    "\n",
    "q = pd.Series(test_preds).plot(kind='kde')"
   ]
  },
  {
   "cell_type": "code",
   "execution_count": 10,
   "id": "26e3d8f3",
   "metadata": {
    "ExecuteTime": {
     "end_time": "2022-12-04T17:10:11.332477Z",
     "start_time": "2022-12-04T17:10:11.296209Z"
    }
   },
   "outputs": [
    {
     "data": {
      "text/plain": [
       "<ActiveRun: >"
      ]
     },
     "execution_count": 10,
     "metadata": {},
     "output_type": "execute_result"
    },
    {
     "name": "stdout",
     "output_type": "stream",
     "text": [
      "Active run_id: 9f01fdbf766f4765b5749fa57aadfdc5\n"
     ]
    }
   ],
   "source": [
    "### 제출 mlflow 등록\n",
    "# 제출시\n",
    "LB_AUC=0.6769\n",
    "run_id = '9f01fdbf766f4765b5749fa57aadfdc5'\n",
    "mlflow.start_run(run_id=run_id)\n",
    "run = mlflow.active_run()\n",
    "print(\"Active run_id: {}\".format(run.info.run_id))\n",
    "mlflow.log_metric(\"LB AUC\",LB_AUC)\n",
    "mlflow.end_run()"
   ]
  },
  {
   "cell_type": "markdown",
   "id": "3276d195",
   "metadata": {},
   "source": [
    "## past_ass_correct 추가"
   ]
  },
  {
   "cell_type": "code",
   "execution_count": 20,
   "id": "c8f1f758",
   "metadata": {
    "ExecuteTime": {
     "end_time": "2022-12-05T12:36:54.331890Z",
     "start_time": "2022-12-05T12:35:26.561590Z"
    }
   },
   "outputs": [
    {
     "data": {
      "text/plain": [
       "([0, 1, 2, 3, 6, 7, 8, 9, 11, 21, 23],\n",
       " '🌈(12/05 Mon)[LGBM past_ass_correct만 추가 lr 0.023] 피처: 31개',\n",
       " '사용된 피처(31)\\nuidIdx, assIdx, testIdx, KnowledgeTag, user_correct_answer, user_total_answer, big_category, mid_category, problem_num, month, day, dayname, hour, user_acc, test_mean, test_sum, test_std, tag_std, tag_mean, tag_sum, solvesec_3600, time_category, solvesec_cumsum, solvecumsum_category, big_category_cumconut, big_category_user_cum_acc, mid_category_cumconut, mid_category_user_cum_acc, ass_difficulty, pb_num_difficulty, past_ass_correct')"
      ]
     },
     "execution_count": 20,
     "metadata": {},
     "output_type": "execute_result"
    },
    {
     "name": "stdout",
     "output_type": "stream",
     "text": [
      "[LightGBM] [Info] Number of positive: 1208276, number of negative: 637263\n",
      "[LightGBM] [Warning] Auto-choosing row-wise multi-threading, the overhead of testing was 0.030858 seconds.\n",
      "You can set `force_row_wise=true` to remove the overhead.\n",
      "And if memory is not enough, you can set `force_col_wise=true`.\n",
      "[LightGBM] [Info] Total Bins 19981\n",
      "[LightGBM] [Info] Number of data points in the train set: 1845539, number of used features: 31\n",
      "[LightGBM] [Info] [binary:BoostFromScore]: pavg=0.654701 -> initscore=0.639767\n",
      "[LightGBM] [Info] Start training from score 0.639767\n",
      "Training until validation scores don't improve for 100 rounds\n",
      "[100]\tvalid_0's binary_logloss: 0.538455\n",
      "[200]\tvalid_0's binary_logloss: 0.522034\n",
      "[300]\tvalid_0's binary_logloss: 0.517811\n",
      "[400]\tvalid_0's binary_logloss: 0.516467\n",
      "[500]\tvalid_0's binary_logloss: 0.515687\n",
      "[600]\tvalid_0's binary_logloss: 0.515544\n",
      "[700]\tvalid_0's binary_logloss: 0.515008\n",
      "[800]\tvalid_0's binary_logloss: 0.514598\n",
      "[900]\tvalid_0's binary_logloss: 0.514179\n",
      "[1000]\tvalid_0's binary_logloss: 0.514225\n",
      "Early stopping, best iteration is:\n",
      "[941]\tvalid_0's binary_logloss: 0.514081\n",
      "VALID AUC : 0.82458977270857 ACC : 0.7406281661600811\n",
      "\n",
      "model4_run_id='e752b26acd724f72b1912c193e8c9678'\n",
      "writing prediction : output/12_05_Mon_LGBM_past_ass_correct만_추가_lr_0_023_피처_31개.csv\n"
     ]
    },
    {
     "data": {
      "image/png": "[encoded data removed]",
      "text/plain": [
       "<Figure size 640x480 with 1 Axes>"
      ]
     },
     "metadata": {},
     "output_type": "display_data"
    }
   ],
   "source": [
    "### 피처 설정\n",
    "# 사용할 Feature 설정\n",
    "FEATS = ['uidIdx',\n",
    "         'assIdx',\n",
    "         'testIdx',\n",
    "         'KnowledgeTag',\n",
    "         'user_correct_answer',\n",
    "         'user_total_answer',\n",
    "         'big_category',\n",
    "         'mid_category',\n",
    "         'problem_num',\n",
    "         'month','day','dayname','hour',\n",
    "         'user_acc',\n",
    "         'test_mean',\n",
    "         'test_sum',\n",
    "         'test_std',\n",
    "         'tag_std',\n",
    "         'tag_mean',\n",
    "         'tag_sum',\n",
    "         'solvesec_3600',\n",
    "         'time_category',\n",
    "         'solvesec_cumsum',\n",
    "         'solvecumsum_category',\n",
    "         'big_category_cumconut',\n",
    "         'big_category_user_cum_acc',\n",
    "         'mid_category_cumconut',\n",
    "         'mid_category_user_cum_acc',\n",
    "         'ass_difficulty',\n",
    "         'pb_num_difficulty',\n",
    "         'past_ass_correct'\n",
    "        ]\n",
    "\n",
    "cat_feats = ['uidIdx','assIdx','testIdx','KnowledgeTag','big_category','mid_category',\n",
    "             'problem_num','dayname','month','time_category','solvecumsum_category']\n",
    "cat_feats_idx = [i for i,e in enumerate(FEATS) if e in cat_feats]\n",
    "\n",
    "### 학습 및 예측\n",
    "\n",
    "date = datetime.now().strftime('%m/%d %a')\n",
    "title=f\"🌈({date})[LGBM past_ass_correct만 추가 lr 0.023] 피처: {len(FEATS)}개\"\n",
    "using_feats=\", \".join(FEATS)\n",
    "desc=f\"사용된 피처({len(FEATS)})\\n{using_feats}\"\n",
    "cat_feats_idx, title, desc\n",
    "\n",
    "mlflow.lightgbm.autolog()\n",
    "lgb_x_train = lgb.Dataset(x_train[FEATS], y_train)\n",
    "lgb_x_valid = lgb.Dataset(x_valid[FEATS], y_valid)\n",
    "\n",
    "with mlflow.start_run(run_name=title, description=desc) as run:\n",
    "    model4 = lgb.train(\n",
    "        params, \n",
    "        lgb_x_train,\n",
    "        valid_sets=[lgb_x_valid],\n",
    "        verbose_eval=100,\n",
    "        num_boost_round=3200,\n",
    "        categorical_feature=cat_feats_idx,\n",
    "        early_stopping_rounds=100,\n",
    "    )\n",
    "    preds = model4.predict(x_valid[FEATS])\n",
    "    acc = accuracy_score(y_valid, np.where(preds >= 0.5, 1, 0))\n",
    "    auc = roc_auc_score(y_valid, preds)\n",
    "    print(f'VALID AUC : {auc} ACC : {acc}\\n')\n",
    "    mlflow.log_metric(\"VAL AUC\",auc)\n",
    "    mlflow.log_metric(\"VAL Set SEED\",SEED)\n",
    "    model4_run_id=run.info.run_id\n",
    "    post_slack(\"done\")\n",
    "    print(f\"{model4_run_id=}\")\n",
    "    file_name = title2filename(title)\n",
    "    test_preds = lgbm_predict(test, model4, FEATS, f'{file_name}.csv')\n",
    "\n",
    "q = pd.Series(test_preds).plot(kind='kde')"
   ]
  },
  {
   "cell_type": "markdown",
   "id": "528cb290",
   "metadata": {},
   "source": [
    "## assess_count, past_ass_correct 둘다 추가"
   ]
  },
  {
   "cell_type": "code",
   "execution_count": 21,
   "id": "4a689679",
   "metadata": {
    "ExecuteTime": {
     "end_time": "2022-12-05T12:38:28.653716Z",
     "start_time": "2022-12-05T12:36:54.335769Z"
    },
    "scrolled": false
   },
   "outputs": [
    {
     "data": {
      "text/plain": [
       "([0, 1, 2, 3, 6, 7, 8, 9, 11, 21, 23],\n",
       " '🌈(12/05 Mon)[LGBM assess_count, past_ass_correct 둘다 추가 lr 0.023] 피처: 32개',\n",
       " '사용된 피처(32)\\nuidIdx, assIdx, testIdx, KnowledgeTag, user_correct_answer, user_total_answer, big_category, mid_category, problem_num, month, day, dayname, hour, user_acc, test_mean, test_sum, test_std, tag_std, tag_mean, tag_sum, solvesec_3600, time_category, solvesec_cumsum, solvecumsum_category, big_category_cumconut, big_category_user_cum_acc, mid_category_cumconut, mid_category_user_cum_acc, ass_difficulty, pb_num_difficulty, assess_count, past_ass_correct')"
      ]
     },
     "execution_count": 21,
     "metadata": {},
     "output_type": "execute_result"
    },
    {
     "name": "stdout",
     "output_type": "stream",
     "text": [
      "[LightGBM] [Info] Number of positive: 1208276, number of negative: 637263\n",
      "[LightGBM] [Warning] Auto-choosing row-wise multi-threading, the overhead of testing was 0.043029 seconds.\n",
      "You can set `force_row_wise=true` to remove the overhead.\n",
      "And if memory is not enough, you can set `force_col_wise=true`.\n",
      "[LightGBM] [Info] Total Bins 19984\n",
      "[LightGBM] [Info] Number of data points in the train set: 1845539, number of used features: 32\n",
      "[LightGBM] [Info] [binary:BoostFromScore]: pavg=0.654701 -> initscore=0.639767\n",
      "[LightGBM] [Info] Start training from score 0.639767\n",
      "Training until validation scores don't improve for 100 rounds\n",
      "[100]\tvalid_0's binary_logloss: 0.538455\n",
      "[200]\tvalid_0's binary_logloss: 0.522034\n",
      "[300]\tvalid_0's binary_logloss: 0.517767\n",
      "[400]\tvalid_0's binary_logloss: 0.516282\n",
      "[500]\tvalid_0's binary_logloss: 0.51539\n",
      "[600]\tvalid_0's binary_logloss: 0.514882\n",
      "[700]\tvalid_0's binary_logloss: 0.514452\n",
      "[800]\tvalid_0's binary_logloss: 0.513815\n",
      "[900]\tvalid_0's binary_logloss: 0.513325\n",
      "[1000]\tvalid_0's binary_logloss: 0.513013\n",
      "[1100]\tvalid_0's binary_logloss: 0.513079\n",
      "Early stopping, best iteration is:\n",
      "[1021]\tvalid_0's binary_logloss: 0.512906\n",
      "VALID AUC : 0.8254188679866359 ACC : 0.7421479229989868\n",
      "\n",
      "model5_run_id='215f5aab2c89494eb251f8f8211701f3'\n",
      "writing prediction : output/12_05_Mon_LGBM_assess_count_past_ass_correct_둘다_추가_lr_0_023_피처_32개.csv\n"
     ]
    },
    {
     "data": {
      "image/png": "[encoded data removed]",
      "text/plain": [
       "<Figure size 640x480 with 1 Axes>"
      ]
     },
     "metadata": {},
     "output_type": "display_data"
    }
   ],
   "source": [
    "### 피처 설정\n",
    "# 사용할 Feature 설정\n",
    "FEATS = ['uidIdx',\n",
    "         'assIdx',\n",
    "         'testIdx',\n",
    "         'KnowledgeTag',\n",
    "         'user_correct_answer',\n",
    "         'user_total_answer',\n",
    "         'big_category',\n",
    "         'mid_category',\n",
    "         'problem_num',\n",
    "         'month','day','dayname','hour',\n",
    "         'user_acc',\n",
    "         'test_mean',\n",
    "         'test_sum',\n",
    "         'test_std',\n",
    "         'tag_std',\n",
    "         'tag_mean',\n",
    "         'tag_sum',\n",
    "         'solvesec_3600',\n",
    "         'time_category',\n",
    "         'solvesec_cumsum',\n",
    "         'solvecumsum_category',\n",
    "         'big_category_cumconut',\n",
    "         'big_category_user_cum_acc',\n",
    "         'mid_category_cumconut',\n",
    "         'mid_category_user_cum_acc',\n",
    "         'ass_difficulty',\n",
    "         'pb_num_difficulty',\n",
    "         'assess_count',\n",
    "         'past_ass_correct'\n",
    "        ]\n",
    "\n",
    "cat_feats = ['uidIdx','assIdx','testIdx','KnowledgeTag','big_category','mid_category',\n",
    "             'problem_num','dayname','month','time_category','solvecumsum_category']\n",
    "cat_feats_idx = [i for i,e in enumerate(FEATS) if e in cat_feats]\n",
    "\n",
    "### 학습 및 예측\n",
    "\n",
    "date = datetime.now().strftime('%m/%d %a')\n",
    "title=f\"🌈({date})[LGBM assess_count, past_ass_correct 둘다 추가 lr 0.023] 피처: {len(FEATS)}개\"\n",
    "using_feats=\", \".join(FEATS)\n",
    "desc=f\"사용된 피처({len(FEATS)})\\n{using_feats}\"\n",
    "cat_feats_idx, title, desc\n",
    "\n",
    "mlflow.lightgbm.autolog()\n",
    "lgb_x_train = lgb.Dataset(x_train[FEATS], y_train)\n",
    "lgb_x_valid = lgb.Dataset(x_valid[FEATS], y_valid)\n",
    "\n",
    "with mlflow.start_run(run_name=title, description=desc) as run:\n",
    "    model5 = lgb.train(\n",
    "        params, \n",
    "        lgb_x_train,\n",
    "        valid_sets=[lgb_x_valid],\n",
    "        verbose_eval=100,\n",
    "        num_boost_round=3200,\n",
    "        categorical_feature=cat_feats_idx,\n",
    "        early_stopping_rounds=100,\n",
    "    )\n",
    "    preds = model5.predict(x_valid[FEATS])\n",
    "    acc = accuracy_score(y_valid, np.where(preds >= 0.5, 1, 0))\n",
    "    auc = roc_auc_score(y_valid, preds)\n",
    "    print(f'VALID AUC : {auc} ACC : {acc}\\n')\n",
    "    mlflow.log_metric(\"VAL AUC\",auc)\n",
    "    mlflow.log_metric(\"VAL Set SEED\",SEED)\n",
    "    model5_run_id=run.info.run_id\n",
    "    post_slack(\"done\")\n",
    "    print(f\"{model5_run_id=}\")\n",
    "    file_name = title2filename(title)\n",
    "    test_preds = lgbm_predict(test, model5, FEATS, f'{file_name}.csv')\n",
    "\n",
    "q = pd.Series(test_preds).plot(kind='kde')"
   ]
  },
  {
   "cell_type": "code",
   "execution_count": null,
   "id": "09a4cf3f",
   "metadata": {},
   "outputs": [],
   "source": [
    "### 제출 mlflow 등록\n",
    "# 제출시\n",
    "LB_AUC=0.6769\n",
    "run_id = '9f01fdbf766f4765b5749fa57aadfdc5'\n",
    "mlflow.start_run(run_id=run_id)\n",
    "run = mlflow.active_run()\n",
    "print(\"Active run_id: {}\".format(run.info.run_id))\n",
    "mlflow.log_metric(\"LB AUC\",LB_AUC)\n",
    "mlflow.end_run()"
   ]
  },
  {
   "cell_type": "markdown",
   "id": "9e676e4c",
   "metadata": {},
   "source": [
    "## solvesec3600,solvecumsum, 각 category를 모두 timediff, timepassed로 변경"
   ]
  },
  {
   "cell_type": "code",
   "execution_count": 22,
   "id": "d0489885",
   "metadata": {
    "ExecuteTime": {
     "end_time": "2022-12-05T12:39:54.881009Z",
     "start_time": "2022-12-05T12:38:28.658140Z"
    }
   },
   "outputs": [
    {
     "data": {
      "text/plain": [
       "([0, 1, 2, 3, 6, 7, 8, 9, 11, 21, 23],\n",
       " '🌈(12/05 Mon)[LGBM timediff, tiempased로 변경 lr 0.023] 피처: 32개',\n",
       " '사용된 피처(32)\\nuidIdx, assIdx, testIdx, KnowledgeTag, user_correct_answer, user_total_answer, big_category, mid_category, problem_num, month, day, dayname, hour, user_acc, test_mean, test_sum, test_std, tag_std, tag_mean, tag_sum, Timediff, timediff_category, Timepassed, timepassed_category, big_category_cumconut, big_category_user_cum_acc, mid_category_cumconut, mid_category_user_cum_acc, ass_difficulty, pb_num_difficulty, assess_count, past_ass_correct')"
      ]
     },
     "execution_count": 22,
     "metadata": {},
     "output_type": "execute_result"
    },
    {
     "name": "stdout",
     "output_type": "stream",
     "text": [
      "[LightGBM] [Info] Number of positive: 1208276, number of negative: 637263\n",
      "[LightGBM] [Warning] Auto-choosing row-wise multi-threading, the overhead of testing was 0.041512 seconds.\n",
      "You can set `force_row_wise=true` to remove the overhead.\n",
      "And if memory is not enough, you can set `force_col_wise=true`.\n",
      "[LightGBM] [Info] Total Bins 19973\n",
      "[LightGBM] [Info] Number of data points in the train set: 1845539, number of used features: 31\n",
      "[LightGBM] [Info] [binary:BoostFromScore]: pavg=0.654701 -> initscore=0.639767\n",
      "[LightGBM] [Info] Start training from score 0.639767\n",
      "Training until validation scores don't improve for 100 rounds\n",
      "[100]\tvalid_0's binary_logloss: 0.541082\n",
      "[200]\tvalid_0's binary_logloss: 0.523781\n",
      "[300]\tvalid_0's binary_logloss: 0.519257\n",
      "[400]\tvalid_0's binary_logloss: 0.51753\n",
      "[500]\tvalid_0's binary_logloss: 0.516763\n",
      "[600]\tvalid_0's binary_logloss: 0.516127\n",
      "[700]\tvalid_0's binary_logloss: 0.515822\n",
      "[800]\tvalid_0's binary_logloss: 0.515579\n",
      "[900]\tvalid_0's binary_logloss: 0.515179\n",
      "[1000]\tvalid_0's binary_logloss: 0.515272\n",
      "Early stopping, best iteration is:\n",
      "[915]\tvalid_0's binary_logloss: 0.51505\n",
      "VALID AUC : 0.822836431639757 ACC : 0.7391084093211753\n",
      "\n",
      "model6_run_id='84ee3e91b1764e608dbeb82b029419f2'\n",
      "writing prediction : output/12_05_Mon_LGBM_timediff_tiempased로_변경_lr_0_023_피처_32개.csv\n"
     ]
    },
    {
     "data": {
      "image/png": "[encoded data removed]",
      "text/plain": [
       "<Figure size 640x480 with 1 Axes>"
      ]
     },
     "metadata": {},
     "output_type": "display_data"
    }
   ],
   "source": [
    "### 피처 설정\n",
    "# 사용할 Feature 설정\n",
    "FEATS = ['uidIdx',\n",
    "         'assIdx',\n",
    "         'testIdx',\n",
    "         'KnowledgeTag',\n",
    "         'user_correct_answer',\n",
    "         'user_total_answer',\n",
    "         'big_category',\n",
    "         'mid_category',\n",
    "         'problem_num',\n",
    "         'month','day','dayname','hour',\n",
    "         'user_acc',\n",
    "         'test_mean',\n",
    "         'test_sum',\n",
    "         'test_std',\n",
    "         'tag_std',\n",
    "         'tag_mean',\n",
    "         'tag_sum',\n",
    "         'Timediff',\n",
    "         'timediff_category',\n",
    "         'Timepassed',\n",
    "         'timepassed_category',\n",
    "         'big_category_cumconut',\n",
    "         'big_category_user_cum_acc',\n",
    "         'mid_category_cumconut',\n",
    "         'mid_category_user_cum_acc',\n",
    "         'ass_difficulty',\n",
    "         'pb_num_difficulty',\n",
    "         'assess_count',\n",
    "         'past_ass_correct'\n",
    "        ]\n",
    "\n",
    "cat_feats = ['uidIdx','assIdx','testIdx','KnowledgeTag','big_category','mid_category',\n",
    "             'problem_num','dayname','month','timediff_category','timepassed_category']\n",
    "cat_feats_idx = [i for i,e in enumerate(FEATS) if e in cat_feats]\n",
    "\n",
    "### 학습 및 예측\n",
    "\n",
    "date = datetime.now().strftime('%m/%d %a')\n",
    "title=f\"🌈({date})[LGBM timediff, tiempased로 변경 lr 0.023] 피처: {len(FEATS)}개\"\n",
    "using_feats=\", \".join(FEATS)\n",
    "desc=f\"사용된 피처({len(FEATS)})\\n{using_feats}\"\n",
    "cat_feats_idx, title, desc\n",
    "\n",
    "mlflow.lightgbm.autolog()\n",
    "lgb_x_train = lgb.Dataset(x_train[FEATS], y_train)\n",
    "lgb_x_valid = lgb.Dataset(x_valid[FEATS], y_valid)\n",
    "\n",
    "with mlflow.start_run(run_name=title, description=desc) as run:\n",
    "    model6 = lgb.train(\n",
    "        params, \n",
    "        lgb_x_train,\n",
    "        valid_sets=[lgb_x_valid],\n",
    "        verbose_eval=100,\n",
    "        num_boost_round=3200,\n",
    "        categorical_feature=cat_feats_idx,\n",
    "        early_stopping_rounds=100,\n",
    "    )\n",
    "    preds = model6.predict(x_valid[FEATS])\n",
    "    acc = accuracy_score(y_valid, np.where(preds >= 0.5, 1, 0))\n",
    "    auc = roc_auc_score(y_valid, preds)\n",
    "    print(f'VALID AUC : {auc} ACC : {acc}\\n')\n",
    "    mlflow.log_metric(\"VAL AUC\",auc)\n",
    "    mlflow.log_metric(\"VAL Set SEED\",SEED)\n",
    "    model6_run_id=run.info.run_id\n",
    "    post_slack(\"done\")\n",
    "    print(f\"{model6_run_id=}\")\n",
    "    file_name = title2filename(title)\n",
    "    test_preds = lgbm_predict(test, model6, FEATS, f'{file_name}.csv')\n",
    "\n",
    "q = pd.Series(test_preds).plot(kind='kde')"
   ]
  },
  {
   "cell_type": "code",
   "execution_count": null,
   "id": "86a78379",
   "metadata": {},
   "outputs": [],
   "source": [
    "### 제출 mlflow 등록\n",
    "# 제출시\n",
    "LB_AUC=0.6769\n",
    "run_id = '9f01fdbf766f4765b5749fa57aadfdc5'\n",
    "mlflow.start_run(run_id=run_id)\n",
    "run = mlflow.active_run()\n",
    "print(\"Active run_id: {}\".format(run.info.run_id))\n",
    "mlflow.log_metric(\"LB AUC\",LB_AUC)\n",
    "mlflow.end_run()"
   ]
  },
  {
   "cell_type": "markdown",
   "id": "cfab4c33",
   "metadata": {},
   "source": [
    "## 기존"
   ]
  },
  {
   "cell_type": "code",
   "execution_count": 17,
   "id": "1d9c8860",
   "metadata": {
    "ExecuteTime": {
     "end_time": "2022-12-05T12:32:35.117866Z",
     "start_time": "2022-12-05T12:32:07.224128Z"
    }
   },
   "outputs": [
    {
     "data": {
      "text/plain": [
       "([0, 1, 2, 3, 6, 7, 8, 9, 11, 21, 23],\n",
       " '🌈(12/05 Mon)[LGBM 기존] 피처: 30개',\n",
       " '사용된 피처(30)\\nuidIdx, assIdx, testIdx, KnowledgeTag, user_correct_answer, user_total_answer, big_category, mid_category, problem_num, month, day, dayname, hour, user_acc, test_mean, test_sum, test_std, tag_std, tag_mean, tag_sum, solvesec_3600, time_category, solvesec_cumsum, solvecumsum_category, big_category_cumconut, big_category_user_cum_acc, mid_category_cumconut, mid_category_user_cum_acc, ass_difficulty, pb_num_difficulty')"
      ]
     },
     "execution_count": 17,
     "metadata": {},
     "output_type": "execute_result"
    },
    {
     "name": "stdout",
     "output_type": "stream",
     "text": [
      "[LightGBM] [Info] Number of positive: 1208276, number of negative: 637263\n",
      "[LightGBM] [Warning] Auto-choosing row-wise multi-threading, the overhead of testing was 0.028676 seconds.\n",
      "You can set `force_row_wise=true` to remove the overhead.\n",
      "And if memory is not enough, you can set `force_col_wise=true`.\n",
      "[LightGBM] [Info] Total Bins 19978\n",
      "[LightGBM] [Info] Number of data points in the train set: 1845539, number of used features: 30\n",
      "[LightGBM] [Info] [binary:BoostFromScore]: pavg=0.654701 -> initscore=0.639767\n",
      "[LightGBM] [Info] Start training from score 0.639767\n",
      "Training until validation scores don't improve for 100 rounds\n",
      "[100]\tvalid_0's binary_logloss: 0.51781\n",
      "[200]\tvalid_0's binary_logloss: 0.515089\n",
      "Early stopping, best iteration is:\n",
      "[199]\tvalid_0's binary_logloss: 0.515081\n",
      "VALID AUC : 0.8238419411116049 ACC : 0.7370820668693009\n",
      "\n",
      "model7_run_id='5c9416d535f44eae862b593300fdd66e'\n",
      "writing prediction : output/12_05_Mon_LGBM_기존_피처_30개.csv\n"
     ]
    },
    {
     "data": {
      "image/png": "[encoded data removed]",
      "text/plain": [
       "<Figure size 640x480 with 1 Axes>"
      ]
     },
     "metadata": {},
     "output_type": "display_data"
    }
   ],
   "source": [
    "### 피처 설정\n",
    "# 사용할 Feature 설정\n",
    "FEATS = ['uidIdx',\n",
    "         'assIdx',\n",
    "         'testIdx',\n",
    "         'KnowledgeTag',\n",
    "         'user_correct_answer',\n",
    "         'user_total_answer',\n",
    "         'big_category',\n",
    "         'mid_category',\n",
    "         'problem_num',\n",
    "         'month','day','dayname','hour',\n",
    "         'user_acc',\n",
    "         'test_mean',\n",
    "         'test_sum',\n",
    "         'test_std',\n",
    "         'tag_std',\n",
    "         'tag_mean',\n",
    "         'tag_sum',\n",
    "         'solvesec_3600',\n",
    "         'time_category',\n",
    "         'solvesec_cumsum',\n",
    "         'solvecumsum_category',\n",
    "         'big_category_cumconut',\n",
    "         'big_category_user_cum_acc',\n",
    "         'mid_category_cumconut',\n",
    "         'mid_category_user_cum_acc',\n",
    "         'ass_difficulty',\n",
    "         'pb_num_difficulty',\n",
    "        ]\n",
    "\n",
    "cat_feats = ['uidIdx','assIdx','testIdx','KnowledgeTag','big_category','mid_category',\n",
    "             'problem_num','dayname','month','time_category','solvecumsum_category']\n",
    "cat_feats_idx = [i for i,e in enumerate(FEATS) if e in cat_feats]\n",
    "\n",
    "### 학습 및 예측\n",
    "\n",
    "date = datetime.now().strftime('%m/%d %a')\n",
    "title=f\"🌈({date})[LGBM 기존] 피처: {len(FEATS)}개\"\n",
    "using_feats=\", \".join(FEATS)\n",
    "desc=f\"사용된 피처({len(FEATS)})\\n{using_feats}\"\n",
    "cat_feats_idx, title, desc\n",
    "\n",
    "mlflow.lightgbm.autolog()\n",
    "lgb_x_train = lgb.Dataset(x_train[FEATS], y_train)\n",
    "lgb_x_valid = lgb.Dataset(x_valid[FEATS], y_valid)\n",
    "\n",
    "with mlflow.start_run(run_name=title, description=desc) as run:\n",
    "    model7 = lgb.train(\n",
    "        params, \n",
    "        lgb_x_train,\n",
    "        valid_sets=[lgb_x_valid],\n",
    "        verbose_eval=100,\n",
    "        num_boost_round=3200,\n",
    "        categorical_feature=cat_feats_idx,\n",
    "        early_stopping_rounds=100,\n",
    "    )\n",
    "    preds = model7.predict(x_valid[FEATS])\n",
    "    acc = accuracy_score(y_valid, np.where(preds >= 0.5, 1, 0))\n",
    "    auc = roc_auc_score(y_valid, preds)\n",
    "    print(f'VALID AUC : {auc} ACC : {acc}\\n')\n",
    "    mlflow.log_metric(\"VAL AUC\",auc)\n",
    "    mlflow.log_metric(\"VAL Set SEED\",SEED)\n",
    "    model7_run_id=run.info.run_id\n",
    "    post_slack(\"done\")\n",
    "    print(f\"{model7_run_id=}\")\n",
    "    file_name = title2filename(title)\n",
    "    test_preds = lgbm_predict(test, model7, FEATS, f'{file_name}.csv')\n",
    "\n",
    "q = pd.Series(test_preds).plot(kind='kde')"
   ]
  },
  {
   "cell_type": "code",
   "execution_count": null,
   "id": "962f72f2",
   "metadata": {},
   "outputs": [],
   "source": []
  },
  {
   "cell_type": "code",
   "execution_count": null,
   "id": "8b657130",
   "metadata": {},
   "outputs": [],
   "source": []
  },
  {
   "cell_type": "markdown",
   "id": "2b364e1b",
   "metadata": {},
   "source": [
    "### HP 튜닝"
   ]
  },
  {
   "cell_type": "code",
   "execution_count": null,
   "id": "f2b2bae5",
   "metadata": {
    "ExecuteTime": {
     "end_time": "2022-12-04T17:49:19.261148Z",
     "start_time": "2022-12-04T17:48:23.976273Z"
    }
   },
   "outputs": [],
   "source": [
    "# Hyper parameter 설정\n",
    "params = {\n",
    "    \"max_depth\": 8,  # 8,\n",
    "#     \"min_data_in_leaf\": 1000,\n",
    "    \"feature_fraction\": 0.6,  # 0.8,\n",
    "    \"bagging_fraction\": 0.75,\n",
    "    \"max_cat_group\": 64,\n",
    "    \"objective\": \"binary\",\n",
    "    \"boosting\": \"gbdt\",  # dart\n",
    "    \"learning_rate\": 0.023,  # 0.01,\n",
    "    # \"bagging_freq\": 5,\n",
    "    \"seed\": 42,\n",
    "    \"max_bin\": 50,\n",
    "#     \"num_leaves\": 80,  # 40,\n",
    "#     \"metric\": \"auc\",\n",
    "     'lambda_l1': 9.5, \n",
    "     'lambda_l2': 0.005, \n",
    "     'min_child_samples': 20,\n",
    "}"
   ]
  }
 ],
 "metadata": {
  "kernelspec": {
   "display_name": "Python 3 (ipykernel)",
   "language": "python",
   "name": "python3"
  },
  "language_info": {
   "codemirror_mode": {
    "name": "ipython",
    "version": 3
   },
   "file_extension": ".py",
   "mimetype": "text/x-python",
   "name": "python",
   "nbconvert_exporter": "python",
   "pygments_lexer": "ipython3",
   "version": "3.9.15"
  },
  "toc": {
   "base_numbering": 1,
   "nav_menu": {},
   "number_sections": true,
   "sideBar": true,
   "skip_h1_title": true,
   "title_cell": "Table of Contents",
   "title_sidebar": "Contents",
   "toc_cell": false,
   "toc_position": {
    "height": "calc(100% - 180px)",
    "left": "10px",
    "top": "150px",
    "width": "384px"
   },
   "toc_section_display": true,
   "toc_window_display": true
  }
 },
 "nbformat": 4,
 "nbformat_minor": 5
}
