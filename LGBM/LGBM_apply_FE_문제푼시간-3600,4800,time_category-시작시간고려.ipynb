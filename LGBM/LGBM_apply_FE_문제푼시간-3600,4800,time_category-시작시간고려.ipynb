{
 "cells": [
  {
   "cell_type": "markdown",
   "id": "f9938ed8",
   "metadata": {},
   "source": [
    "## dataLoad"
   ]
  },
  {
   "cell_type": "code",
   "execution_count": 4,
   "id": "70dcf04a",
   "metadata": {
    "ExecuteTime": {
     "end_time": "2022-11-27T14:53:57.332908Z",
     "start_time": "2022-11-27T14:53:53.421157Z"
    }
   },
   "outputs": [
    {
     "data": {
      "text/plain": [
       "((2525956, 26), (2011, 26), (259370, 26))"
      ]
     },
     "execution_count": 4,
     "metadata": {},
     "output_type": "execute_result"
    },
    {
     "data": {
      "text/plain": [
       "((2525956, 25), (2525956, 1), (2011, 25), (2011, 1))"
      ]
     },
     "execution_count": 4,
     "metadata": {},
     "output_type": "execute_result"
    }
   ],
   "source": [
    "from IPython.core.interactiveshell import InteractiveShell\n",
    "InteractiveShell.ast_node_interactivity = 'all'\n",
    "import pandas as pd\n",
    "import os\n",
    "import random\n",
    "import warnings\n",
    "warnings.filterwarnings('ignore')\n",
    "import lightgbm as lgb\n",
    "from sklearn.metrics import roc_auc_score\n",
    "from sklearn.metrics import accuracy_score\n",
    "import numpy as np\n",
    "from utils import custom_train_test_split, lgbm_predict, post_slack\n",
    "base_feats = ['KnowledgeTag', 'user_correct_answer', 'user_total_answer', \n",
    "         'user_acc', 'test_mean', 'test_sum', 'tag_mean','tag_sum']\n",
    "# train과 test 데이터셋은 사용자 별로 묶어서 분리를 해주어야함\n",
    "\n",
    "## 1. 데이터 로딩\n",
    "data_dir = '/opt/ml/input/data' # 경로\n",
    "# train_file_path = os.path.join(data_dir, 'train_data.csv') # 데이터\n",
    "# test_file_path = os.path.join(data_dir, 'test_data.csv')\n",
    "after_fe_path = os.path.join(data_dir, 'after_fe_train_test.pkl')\n",
    "df = pd.read_pickle(after_fe_path)\n",
    "\n",
    "train_df = df[df.kind=='train']\n",
    "train, valid = custom_train_test_split(train_df, ratio=0.7, seed=2) # 훈련데이터 split\n",
    "test = df[df.kind=='test'] # 테스트 데이터\n",
    "train2 = test[test.answerCode!=-1] # 테스트데이터 마지막 제출 2번쨰꺼까지 훈련데이터로 사용\n",
    "train = pd.concat([train_df,train2]) # 훈련데이터 병합\n",
    "train.shape, valid.shape, test.shape\n",
    "\n",
    "x_train = train.drop('answerCode',axis=1)\n",
    "y_train = train[['answerCode']]\n",
    "\n",
    "x_valid = valid.drop('answerCode',axis=1)\n",
    "y_valid = valid[['answerCode']]\n",
    "x_train.shape, y_train.shape, x_valid.shape, y_valid.shape"
   ]
  },
  {
   "cell_type": "code",
   "execution_count": 5,
   "id": "177e6728",
   "metadata": {
    "ExecuteTime": {
     "end_time": "2022-11-27T14:54:05.255933Z",
     "start_time": "2022-11-27T14:54:05.236306Z"
    }
   },
   "outputs": [
    {
     "data": {
      "text/html": [
       "<div>\n",
       "<style scoped>\n",
       "    .dataframe tbody tr th:only-of-type {\n",
       "        vertical-align: middle;\n",
       "    }\n",
       "\n",
       "    .dataframe tbody tr th {\n",
       "        vertical-align: top;\n",
       "    }\n",
       "\n",
       "    .dataframe thead th {\n",
       "        text-align: right;\n",
       "    }\n",
       "</style>\n",
       "<table border=\"1\" class=\"dataframe\">\n",
       "  <thead>\n",
       "    <tr style=\"text-align: right;\">\n",
       "      <th></th>\n",
       "      <th>userID</th>\n",
       "      <th>assessmentItemID</th>\n",
       "      <th>testId</th>\n",
       "      <th>answerCode</th>\n",
       "      <th>Timestamp</th>\n",
       "      <th>KnowledgeTag</th>\n",
       "      <th>user_correct_answer</th>\n",
       "      <th>user_total_answer</th>\n",
       "      <th>user_acc</th>\n",
       "      <th>month</th>\n",
       "      <th>...</th>\n",
       "      <th>test_mean</th>\n",
       "      <th>test_std</th>\n",
       "      <th>test_sum</th>\n",
       "      <th>tag_mean</th>\n",
       "      <th>tag_std</th>\n",
       "      <th>tag_sum</th>\n",
       "      <th>kind</th>\n",
       "      <th>solvesec</th>\n",
       "      <th>time_category</th>\n",
       "      <th>solvesec_3600</th>\n",
       "    </tr>\n",
       "  </thead>\n",
       "  <tbody>\n",
       "    <tr>\n",
       "      <th>0</th>\n",
       "      <td>0</td>\n",
       "      <td>A060001001</td>\n",
       "      <td>A060000001</td>\n",
       "      <td>1</td>\n",
       "      <td>2020-03-24 00:17:11</td>\n",
       "      <td>7224</td>\n",
       "      <td>NaN</td>\n",
       "      <td>0</td>\n",
       "      <td>NaN</td>\n",
       "      <td>3</td>\n",
       "      <td>...</td>\n",
       "      <td>0.947683</td>\n",
       "      <td>0.222749</td>\n",
       "      <td>1268</td>\n",
       "      <td>0.955022</td>\n",
       "      <td>0.207410</td>\n",
       "      <td>637</td>\n",
       "      <td>train</td>\n",
       "      <td>3.0</td>\n",
       "      <td>1</td>\n",
       "      <td>3.0</td>\n",
       "    </tr>\n",
       "    <tr>\n",
       "      <th>1</th>\n",
       "      <td>0</td>\n",
       "      <td>A060001002</td>\n",
       "      <td>A060000001</td>\n",
       "      <td>1</td>\n",
       "      <td>2020-03-24 00:17:14</td>\n",
       "      <td>7225</td>\n",
       "      <td>1.0</td>\n",
       "      <td>1</td>\n",
       "      <td>1.0</td>\n",
       "      <td>3</td>\n",
       "      <td>...</td>\n",
       "      <td>0.947683</td>\n",
       "      <td>0.222749</td>\n",
       "      <td>1268</td>\n",
       "      <td>0.913187</td>\n",
       "      <td>0.281603</td>\n",
       "      <td>3040</td>\n",
       "      <td>train</td>\n",
       "      <td>8.0</td>\n",
       "      <td>3</td>\n",
       "      <td>8.0</td>\n",
       "    </tr>\n",
       "  </tbody>\n",
       "</table>\n",
       "<p>2 rows × 26 columns</p>\n",
       "</div>"
      ],
      "text/plain": [
       "   userID assessmentItemID      testId  answerCode            Timestamp  \\\n",
       "0       0       A060001001  A060000001           1  2020-03-24 00:17:11   \n",
       "1       0       A060001002  A060000001           1  2020-03-24 00:17:14   \n",
       "\n",
       "   KnowledgeTag  user_correct_answer  user_total_answer  user_acc  month  ...  \\\n",
       "0          7224                  NaN                  0       NaN      3  ...   \n",
       "1          7225                  1.0                  1       1.0      3  ...   \n",
       "\n",
       "   test_mean  test_std  test_sum  tag_mean   tag_std  tag_sum   kind  \\\n",
       "0   0.947683  0.222749      1268  0.955022  0.207410      637  train   \n",
       "1   0.947683  0.222749      1268  0.913187  0.281603     3040  train   \n",
       "\n",
       "   solvesec  time_category  solvesec_3600  \n",
       "0       3.0              1            3.0  \n",
       "1       8.0              3            8.0  \n",
       "\n",
       "[2 rows x 26 columns]"
      ]
     },
     "execution_count": 5,
     "metadata": {},
     "output_type": "execute_result"
    }
   ],
   "source": [
    "df[:2]"
   ]
  },
  {
   "cell_type": "code",
   "execution_count": 6,
   "id": "21ba16e6",
   "metadata": {
    "ExecuteTime": {
     "end_time": "2022-11-27T14:54:12.519279Z",
     "start_time": "2022-11-27T14:54:12.514859Z"
    }
   },
   "outputs": [],
   "source": [
    "# 사용할 Feature 설정\n",
    "FEATS = ['KnowledgeTag',\n",
    "         'user_correct_answer',\n",
    "         'user_total_answer',\n",
    "         'big_category',\n",
    "         'mid_category',\n",
    "         'problem_num',\n",
    "         'month','day','dayname','hour',\n",
    "         'user_acc',\n",
    "         'test_mean',\n",
    "         'test_sum',\n",
    "         'test_std',\n",
    "         'tag_std',\n",
    "         'tag_mean',\n",
    "         'tag_sum',\n",
    "         'solvesec'\n",
    "        ]\n",
    "\n",
    "params = {\n",
    "#     \"max_depth\": 8,  # 8,\n",
    "#     \"min_data_in_leaf\": 1000,\n",
    "    # \"feature_fraction\": 0.6,  # 0.8,\n",
    "#     \"bagging_fraction\": 0.75,\n",
    "    # \"max_cat_group\": 64,\n",
    "    \"objective\": \"binary\",\n",
    "#     \"boosting\": \"gbdt\",  # dart\n",
    "#     \"learning_rate\": 0.01,  # 0.01,\n",
    "    # \"bagging_freq\": 5,\n",
    "    \"seed\": 42,\n",
    "    # \"max_bin\": 50,\n",
    "#     \"num_leaves\": 80,  # 40,\n",
    "#     \"metric\": \"auc\",\n",
    "}\n",
    "\n",
    "model_auc = lgb.LGBMClassifier(\n",
    "    **params,\n",
    "    n_estimators=3200,\n",
    "    silent=-1,\n",
    ")\n"
   ]
  },
  {
   "cell_type": "markdown",
   "id": "caf9e8fe",
   "metadata": {},
   "source": [
    "## 문제푼 시간 초로만 추가한 것"
   ]
  },
  {
   "cell_type": "code",
   "execution_count": 7,
   "id": "ee26250b",
   "metadata": {
    "ExecuteTime": {
     "end_time": "2022-11-27T14:58:55.519939Z",
     "start_time": "2022-11-27T14:54:57.871934Z"
    },
    "scrolled": true
   },
   "outputs": [
    {
     "name": "stdout",
     "output_type": "stream",
     "text": [
      "[LightGBM] [Info] Number of positive: 1653588, number of negative: 872368\n",
      "[LightGBM] [Warning] Auto-choosing row-wise multi-threading, the overhead of testing was 0.057854 seconds.\n",
      "You can set `force_row_wise=true` to remove the overhead.\n",
      "And if memory is not enough, you can set `force_col_wise=true`.\n",
      "[LightGBM] [Info] Total Bins 3095\n",
      "[LightGBM] [Info] Number of data points in the train set: 2525956, number of used features: 18\n",
      "[LightGBM] [Info] [binary:BoostFromScore]: pavg=0.654638 -> initscore=0.639491\n",
      "[LightGBM] [Info] Start training from score 0.639491\n",
      "[100]\tvalid_0's binary_logloss: 0.636889\n",
      "[200]\tvalid_0's binary_logloss: 0.627956\n",
      "[300]\tvalid_0's binary_logloss: 0.61702\n",
      "[400]\tvalid_0's binary_logloss: 0.606031\n",
      "[500]\tvalid_0's binary_logloss: 0.600917\n",
      "[600]\tvalid_0's binary_logloss: 0.597458\n",
      "[700]\tvalid_0's binary_logloss: 0.594846\n",
      "[800]\tvalid_0's binary_logloss: 0.59095\n",
      "[900]\tvalid_0's binary_logloss: 0.584513\n",
      "[1000]\tvalid_0's binary_logloss: 0.58157\n",
      "[1100]\tvalid_0's binary_logloss: 0.579156\n",
      "[1200]\tvalid_0's binary_logloss: 0.575782\n",
      "[1300]\tvalid_0's binary_logloss: 0.574656\n",
      "[1400]\tvalid_0's binary_logloss: 0.572784\n",
      "[1500]\tvalid_0's binary_logloss: 0.570142\n",
      "[1600]\tvalid_0's binary_logloss: 0.568837\n",
      "[1700]\tvalid_0's binary_logloss: 0.565126\n",
      "[1800]\tvalid_0's binary_logloss: 0.563635\n",
      "[1900]\tvalid_0's binary_logloss: 0.561732\n",
      "[2000]\tvalid_0's binary_logloss: 0.559238\n",
      "[2100]\tvalid_0's binary_logloss: 0.55803\n",
      "[2200]\tvalid_0's binary_logloss: 0.556395\n",
      "[2300]\tvalid_0's binary_logloss: 0.554749\n",
      "[2400]\tvalid_0's binary_logloss: 0.553312\n",
      "[2500]\tvalid_0's binary_logloss: 0.551808\n",
      "[2600]\tvalid_0's binary_logloss: 0.550537\n",
      "[2700]\tvalid_0's binary_logloss: 0.549014\n",
      "[2800]\tvalid_0's binary_logloss: 0.546487\n",
      "[2900]\tvalid_0's binary_logloss: 0.543378\n",
      "[3000]\tvalid_0's binary_logloss: 0.541494\n",
      "[3100]\tvalid_0's binary_logloss: 0.540237\n",
      "[3200]\tvalid_0's binary_logloss: 0.538716\n",
      "VALID AUC : 0.8125314385072699 ACC : 0.7235206364992541\n",
      "\n",
      "writing prediction : output/LGBM_Baseline_문제푼시간초로만_timestamp시작시간고려.csv\n"
     ]
    }
   ],
   "source": [
    "lgb_x_train = lgb.Dataset(x_train[FEATS], y_train)\n",
    "lgb_x_valid = lgb.Dataset(x_valid[FEATS], y_valid)\n",
    "\n",
    "model2 = lgb.train(\n",
    "    params, \n",
    "    lgb_x_train,\n",
    "    valid_sets=[lgb_x_valid],\n",
    "    verbose_eval=100,\n",
    "    num_boost_round=3200,\n",
    "#     early_stopping_rounds=200,\n",
    ")\n",
    "\n",
    "preds = model2.predict(x_valid[FEATS])\n",
    "acc = accuracy_score(y_valid, np.where(preds >= 0.5, 1, 0))\n",
    "auc = roc_auc_score(y_valid, preds)\n",
    "\n",
    "print(f'VALID AUC : {auc} ACC : {acc}\\n')\n",
    "\n",
    "post_slack(\"done\")\n",
    "\n",
    "lgbm_predict(test, model2, FEATS, 'LGBM_Baseline_문제푼시간초로만_timestamp시작시간고려.csv')"
   ]
  },
  {
   "cell_type": "markdown",
   "id": "f5c5a2ce",
   "metadata": {},
   "source": [
    "## 문제푼 시간 3600초 이상 모두 3600으로 변환"
   ]
  },
  {
   "cell_type": "code",
   "execution_count": 8,
   "id": "0a1f3e7d",
   "metadata": {
    "ExecuteTime": {
     "end_time": "2022-11-27T15:05:00.287808Z",
     "start_time": "2022-11-27T14:58:55.528591Z"
    },
    "scrolled": true
   },
   "outputs": [
    {
     "name": "stdout",
     "output_type": "stream",
     "text": [
      "[LightGBM] [Info] Number of positive: 1653588, number of negative: 872368\n",
      "[LightGBM] [Warning] Auto-choosing col-wise multi-threading, the overhead of testing was 0.234207 seconds.\n",
      "You can set `force_col_wise=true` to remove the overhead.\n",
      "[LightGBM] [Info] Total Bins 3095\n",
      "[LightGBM] [Info] Number of data points in the train set: 2525956, number of used features: 18\n",
      "[LightGBM] [Info] [binary:BoostFromScore]: pavg=0.654638 -> initscore=0.639491\n",
      "[LightGBM] [Info] Start training from score 0.639491\n",
      "[100]\tvalid_0's binary_logloss: 0.635652\n",
      "[200]\tvalid_0's binary_logloss: 0.62286\n",
      "[300]\tvalid_0's binary_logloss: 0.617181\n",
      "[400]\tvalid_0's binary_logloss: 0.613279\n",
      "[500]\tvalid_0's binary_logloss: 0.607887\n",
      "[600]\tvalid_0's binary_logloss: 0.603502\n",
      "[700]\tvalid_0's binary_logloss: 0.601559\n",
      "[800]\tvalid_0's binary_logloss: 0.597103\n",
      "[900]\tvalid_0's binary_logloss: 0.594014\n",
      "[1000]\tvalid_0's binary_logloss: 0.591036\n",
      "[1100]\tvalid_0's binary_logloss: 0.586717\n",
      "[1200]\tvalid_0's binary_logloss: 0.584269\n",
      "[1300]\tvalid_0's binary_logloss: 0.582223\n",
      "[1400]\tvalid_0's binary_logloss: 0.58009\n",
      "[1500]\tvalid_0's binary_logloss: 0.577682\n",
      "[1600]\tvalid_0's binary_logloss: 0.574705\n",
      "[1700]\tvalid_0's binary_logloss: 0.572971\n",
      "[1800]\tvalid_0's binary_logloss: 0.570953\n",
      "[1900]\tvalid_0's binary_logloss: 0.568139\n",
      "[2000]\tvalid_0's binary_logloss: 0.566629\n",
      "[2100]\tvalid_0's binary_logloss: 0.565487\n",
      "[2200]\tvalid_0's binary_logloss: 0.562965\n",
      "[2300]\tvalid_0's binary_logloss: 0.560398\n",
      "[2400]\tvalid_0's binary_logloss: 0.558022\n",
      "[2500]\tvalid_0's binary_logloss: 0.555016\n",
      "[2600]\tvalid_0's binary_logloss: 0.553226\n",
      "[2700]\tvalid_0's binary_logloss: 0.552527\n",
      "[2800]\tvalid_0's binary_logloss: 0.550248\n",
      "[2900]\tvalid_0's binary_logloss: 0.548106\n",
      "[3000]\tvalid_0's binary_logloss: 0.545644\n",
      "[3100]\tvalid_0's binary_logloss: 0.543413\n",
      "[3200]\tvalid_0's binary_logloss: 0.542722\n",
      "VALID AUC : 0.8083696732771698 ACC : 0.720537046245649\n",
      "\n",
      "writing prediction : output/LGBM_Baseline_문제푼시간_추가_3600초_timestamp시작시간고려.csv\n"
     ]
    }
   ],
   "source": [
    "# 사용할 Feature 설정\n",
    "FEATS = ['KnowledgeTag',\n",
    "         'user_correct_answer',\n",
    "         'user_total_answer',\n",
    "         'big_category',\n",
    "         'mid_category',\n",
    "         'problem_num',\n",
    "         'month','day','dayname','hour',\n",
    "         'user_acc',\n",
    "         'test_mean',\n",
    "         'test_sum',\n",
    "         'test_std',\n",
    "         'tag_std',\n",
    "         'tag_mean',\n",
    "         'tag_sum',\n",
    "         'solvesec_3600'\n",
    "        ]\n",
    "\n",
    "lgb_x_train = lgb.Dataset(x_train[FEATS], y_train)\n",
    "lgb_x_valid = lgb.Dataset(x_valid[FEATS], y_valid)\n",
    "\n",
    "model4 = lgb.train(\n",
    "    params, \n",
    "    lgb_x_train,\n",
    "    valid_sets=[lgb_x_valid],\n",
    "    verbose_eval=100,\n",
    "    num_boost_round=3200,\n",
    "#     early_stopping_rounds=200,\n",
    ")\n",
    "\n",
    "preds = model4.predict(x_valid[FEATS])\n",
    "acc = accuracy_score(y_valid, np.where(preds >= 0.5, 1, 0))\n",
    "auc = roc_auc_score(y_valid, preds)\n",
    "\n",
    "print(f'VALID AUC : {auc} ACC : {acc}\\n')\n",
    "\n",
    "post_slack(\"done\")\n",
    "\n",
    "lgbm_predict(test, model4, FEATS, 'LGBM_Baseline_문제푼시간_추가_3600초_timestamp시작시간고려.csv')"
   ]
  },
  {
   "cell_type": "markdown",
   "id": "e67c59d9",
   "metadata": {},
   "source": [
    "### validation"
   ]
  },
  {
   "cell_type": "code",
   "execution_count": 115,
   "id": "7a182c49",
   "metadata": {
    "ExecuteTime": {
     "end_time": "2022-11-27T13:48:47.426910Z",
     "start_time": "2022-11-27T13:48:47.276874Z"
    }
   },
   "outputs": [
    {
     "name": "stdout",
     "output_type": "stream",
     "text": [
      "VALID AUC : 0.8194181098835474 ACC : 0.7370959961408586\n",
      "\n"
     ]
    }
   ],
   "source": [
    "# 사용할 Feature 설정\n",
    "FEATS = ['KnowledgeTag',\n",
    "         'user_correct_answer',\n",
    "         'user_total_answer',\n",
    "         'big_category',\n",
    "         'mid_category',\n",
    "         'problem_num',\n",
    "         'month','day','dayname','hour',\n",
    "         'user_acc',\n",
    "         'test_mean',\n",
    "         'test_sum',\n",
    "         'test_std',\n",
    "         'tag_std',\n",
    "         'tag_mean',\n",
    "         'tag_sum',\n",
    "         'solvesec_3600'\n",
    "        ]\n",
    "preds = model4.predict(x_valid[FEATS])\n",
    "acc = accuracy_score(y_valid, np.where(preds >= 0.5, 1, 0))\n",
    "auc = roc_auc_score(y_valid, preds)\n",
    "\n",
    "print(f'VALID AUC : {auc} ACC : {acc}\\n')"
   ]
  },
  {
   "cell_type": "code",
   "execution_count": 49,
   "id": "8a7acde6",
   "metadata": {
    "ExecuteTime": {
     "end_time": "2022-11-27T12:58:23.598924Z",
     "start_time": "2022-11-27T12:58:23.550301Z"
    }
   },
   "outputs": [
    {
     "name": "stdout",
     "output_type": "stream",
     "text": [
      "writing prediction : output/LGBM_Baseline_문제푼시간_추가_3600초이상모두3600으로.csv\n"
     ]
    }
   ],
   "source": [
    "lgbm_predict(test, model4, FEATS, 'LGBM_Baseline_문제푼시간_추가_3600초이상모두3600으로.csv')"
   ]
  },
  {
   "cell_type": "markdown",
   "id": "eb420c1b",
   "metadata": {},
   "source": [
    "## 문제푼 시간 카테고리 변수도 추가"
   ]
  },
  {
   "cell_type": "code",
   "execution_count": 9,
   "id": "aa64f83a",
   "metadata": {
    "ExecuteTime": {
     "end_time": "2022-11-27T15:09:15.028227Z",
     "start_time": "2022-11-27T15:05:00.293284Z"
    }
   },
   "outputs": [
    {
     "name": "stdout",
     "output_type": "stream",
     "text": [
      "[LightGBM] [Info] Number of positive: 1653588, number of negative: 872368\n",
      "[LightGBM] [Warning] Auto-choosing row-wise multi-threading, the overhead of testing was 0.064242 seconds.\n",
      "You can set `force_row_wise=true` to remove the overhead.\n",
      "And if memory is not enough, you can set `force_col_wise=true`.\n",
      "[LightGBM] [Info] Total Bins 3105\n",
      "[LightGBM] [Info] Number of data points in the train set: 2525956, number of used features: 19\n",
      "[LightGBM] [Info] [binary:BoostFromScore]: pavg=0.654638 -> initscore=0.639491\n",
      "[LightGBM] [Info] Start training from score 0.639491\n",
      "[100]\tvalid_0's binary_logloss: 0.637445\n",
      "[200]\tvalid_0's binary_logloss: 0.629309\n",
      "[300]\tvalid_0's binary_logloss: 0.62248\n",
      "[400]\tvalid_0's binary_logloss: 0.613333\n",
      "[500]\tvalid_0's binary_logloss: 0.60244\n",
      "[600]\tvalid_0's binary_logloss: 0.595522\n",
      "[700]\tvalid_0's binary_logloss: 0.592256\n",
      "[800]\tvalid_0's binary_logloss: 0.5893\n",
      "[900]\tvalid_0's binary_logloss: 0.586738\n",
      "[1000]\tvalid_0's binary_logloss: 0.583592\n",
      "[1100]\tvalid_0's binary_logloss: 0.582231\n",
      "[1200]\tvalid_0's binary_logloss: 0.579287\n",
      "[1300]\tvalid_0's binary_logloss: 0.576648\n",
      "[1400]\tvalid_0's binary_logloss: 0.573488\n",
      "[1500]\tvalid_0's binary_logloss: 0.572381\n",
      "[1600]\tvalid_0's binary_logloss: 0.570865\n",
      "[1700]\tvalid_0's binary_logloss: 0.568601\n",
      "[1800]\tvalid_0's binary_logloss: 0.566576\n",
      "[1900]\tvalid_0's binary_logloss: 0.564723\n",
      "[2000]\tvalid_0's binary_logloss: 0.562664\n",
      "[2100]\tvalid_0's binary_logloss: 0.560601\n",
      "[2200]\tvalid_0's binary_logloss: 0.558372\n",
      "[2300]\tvalid_0's binary_logloss: 0.556056\n",
      "[2400]\tvalid_0's binary_logloss: 0.554303\n",
      "[2500]\tvalid_0's binary_logloss: 0.553228\n",
      "[2600]\tvalid_0's binary_logloss: 0.550513\n",
      "[2700]\tvalid_0's binary_logloss: 0.548482\n",
      "[2800]\tvalid_0's binary_logloss: 0.54617\n",
      "[2900]\tvalid_0's binary_logloss: 0.543965\n",
      "[3000]\tvalid_0's binary_logloss: 0.542675\n",
      "[3100]\tvalid_0's binary_logloss: 0.541141\n",
      "[3200]\tvalid_0's binary_logloss: 0.539748\n",
      "VALID AUC : 0.8120789220404234 ACC : 0.7265042267528593\n",
      "\n",
      "writing prediction : output/LGBM_Baseline_문제푼시간_추가_최대3600으로_time_category추가.csv\n"
     ]
    }
   ],
   "source": [
    "# 사용할 Feature 설정\n",
    "FEATS = ['KnowledgeTag',\n",
    "         'user_correct_answer',\n",
    "         'user_total_answer',\n",
    "         'big_category',\n",
    "         'mid_category',\n",
    "         'problem_num',\n",
    "         'month','day','dayname','hour',\n",
    "         'user_acc',\n",
    "         'test_mean',\n",
    "         'test_sum',\n",
    "         'test_std',\n",
    "         'tag_std',\n",
    "         'tag_mean',\n",
    "         'tag_sum',\n",
    "         'solvesec_3600',\n",
    "         'time_category',\n",
    "        ]\n",
    "\n",
    "lgb_x_train = lgb.Dataset(x_train[FEATS], y_train)\n",
    "lgb_x_valid = lgb.Dataset(x_valid[FEATS], y_valid)\n",
    "\n",
    "model5 = lgb.train(\n",
    "    params, \n",
    "    lgb_x_train,\n",
    "    valid_sets=[lgb_x_valid],\n",
    "    verbose_eval=100,\n",
    "    num_boost_round=3200,\n",
    "#     early_stopping_rounds=200,\n",
    ")\n",
    "\n",
    "preds = model5.predict(x_valid[FEATS])\n",
    "acc = accuracy_score(y_valid, np.where(preds >= 0.5, 1, 0))\n",
    "auc = roc_auc_score(y_valid, preds)\n",
    "\n",
    "print(f'VALID AUC : {auc} ACC : {acc}\\n')\n",
    "\n",
    "post_slack(\"done\")\n",
    "lgbm_predict(test, model5, FEATS, 'LGBM_Baseline_문제푼시간_추가_최대3600으로_time_category추가.csv')"
   ]
  },
  {
   "cell_type": "markdown",
   "id": "10146cba",
   "metadata": {},
   "source": [
    "### validation"
   ]
  },
  {
   "cell_type": "code",
   "execution_count": 10,
   "id": "adb2583a",
   "metadata": {
    "ExecuteTime": {
     "end_time": "2022-11-28T05:52:29.184389Z",
     "start_time": "2022-11-28T05:52:29.045682Z"
    }
   },
   "outputs": [
    {
     "name": "stdout",
     "output_type": "stream",
     "text": [
      "VALID AUC : 0.8120789220404234 ACC : 0.7265042267528593\n",
      "\n"
     ]
    }
   ],
   "source": [
    "# 사용할 Feature 설정\n",
    "FEATS = ['KnowledgeTag',\n",
    "         'user_correct_answer',\n",
    "         'user_total_answer',\n",
    "         'big_category',\n",
    "         'mid_category',\n",
    "         'problem_num',\n",
    "         'month','day','dayname','hour',\n",
    "         'user_acc',\n",
    "         'test_mean',\n",
    "         'test_sum',\n",
    "         'test_std',\n",
    "         'tag_std',\n",
    "         'tag_mean',\n",
    "         'tag_sum',\n",
    "         'solvesec',\n",
    "         'time_category'\n",
    "        ]\n",
    "preds = model5.predict(x_valid[FEATS])\n",
    "acc = accuracy_score(y_valid, np.where(preds >= 0.5, 1, 0))\n",
    "auc = roc_auc_score(y_valid, preds)\n",
    "\n",
    "print(f'VALID AUC : {auc} ACC : {acc}\\n')"
   ]
  },
  {
   "cell_type": "code",
   "execution_count": 18,
   "id": "0916c61e",
   "metadata": {
    "ExecuteTime": {
     "end_time": "2022-11-25T07:20:37.640409Z",
     "start_time": "2022-11-25T07:20:37.184245Z"
    }
   },
   "outputs": [],
   "source": [
    "post_slack(\"done\")\n",
    "\n",
    "lgbm_predict(test, model5, FEATS, 'LGBM_Baseline_문제푼시간_추가_최대3600으로_time_category추가.csv')"
   ]
  }
 ],
 "metadata": {
  "kernelspec": {
   "display_name": "Python 3 (ipykernel)",
   "language": "python",
   "name": "python3"
  },
  "language_info": {
   "codemirror_mode": {
    "name": "ipython",
    "version": 3
   },
   "file_extension": ".py",
   "mimetype": "text/x-python",
   "name": "python",
   "nbconvert_exporter": "python",
   "pygments_lexer": "ipython3",
   "version": "3.9.15"
  },
  "toc": {
   "base_numbering": 1,
   "nav_menu": {},
   "number_sections": true,
   "sideBar": true,
   "skip_h1_title": true,
   "title_cell": "Table of Contents",
   "title_sidebar": "Contents",
   "toc_cell": false,
   "toc_position": {
    "height": "calc(100% - 180px)",
    "left": "10px",
    "top": "150px",
    "width": "383.993px"
   },
   "toc_section_display": true,
   "toc_window_display": true
  }
 },
 "nbformat": 4,
 "nbformat_minor": 5
}
