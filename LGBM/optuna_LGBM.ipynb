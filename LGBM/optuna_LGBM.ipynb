{
 "cells": [
  {
   "cell_type": "code",
   "execution_count": 1,
   "id": "a2b00553-6db4-448d-942c-2c10c331b0ff",
   "metadata": {},
   "outputs": [],
   "source": [
    "import mlflow\n",
    "import mlflow.lightgbm\n",
    "import numpy as np\n",
    "import pandas as pd\n",
    "import optuna\n",
    "from lightgbm import LGBMClassifier\n",
    "from optuna import Trial\n",
    "from optuna.samplers import TPESampler\n",
    "from sklearn.metrics import log_loss\n",
    "from sklearn.model_selection import train_test_split\n",
    "from datetime import datetime\n",
    "from IPython.core.interactiveshell import InteractiveShell\n",
    "InteractiveShell.ast_node_interactivity = 'all'\n",
    "import pandas as pd\n",
    "import os\n",
    "import random\n",
    "import warnings\n",
    "warnings.filterwarnings('ignore')\n",
    "import lightgbm as lgb\n",
    "from sklearn.metrics import roc_auc_score\n",
    "from sklearn.metrics import accuracy_score\n",
    "import numpy as np\n",
    "from utils import custom_train_test_split, lgbm_predict, title2filename"
   ]
  },
  {
   "cell_type": "markdown",
   "id": "15fa6b9f-18e8-4b54-b21b-3fc8d3077568",
   "metadata": {},
   "source": [
    "## MLflow 설정"
   ]
  },
  {
   "cell_type": "code",
   "execution_count": null,
   "id": "17416a55-3bdd-4997-b038-83cdb86ed32f",
   "metadata": {},
   "outputs": [],
   "source": [
    "mlflow.get_tracking_uri()"
   ]
  },
  {
   "cell_type": "code",
   "execution_count": 2,
   "id": "ab2250c3-c3c0-4c9b-a1d7-426f3ee22565",
   "metadata": {},
   "outputs": [
    {
     "data": {
      "text/plain": [
       "'271919591702384430'"
      ]
     },
     "execution_count": 2,
     "metadata": {},
     "output_type": "execute_result"
    }
   ],
   "source": [
    "os.environ[\"LOGNAME\"] = \"lnh\"\n",
    "remote_server_uri=\"http://118.67.134.110:30005\"\n",
    "mlflow.set_tracking_uri(remote_server_uri)\n",
    "\n",
    "client = mlflow.tracking.MlflowClient()\n",
    "experiment_name = \"LGBM optuna\"\n",
    "try:\n",
    "    experiment_id = client.create_experiment(experiment_name)\n",
    "except:\n",
    "    experiment = client.get_experiment_by_name(experiment_name)\n",
    "    experiment_id = experiment.experiment_id\n",
    "experiment_id"
   ]
  },
  {
   "cell_type": "markdown",
   "id": "8cfa6234-edcb-44cb-a546-90d2c15414d4",
   "metadata": {},
   "source": [
    "## 데이터 불러오기 및 split"
   ]
  },
  {
   "cell_type": "code",
   "execution_count": 3,
   "id": "c1de1f7c-c9c4-4180-98b0-6f0b448d25f3",
   "metadata": {},
   "outputs": [
    {
     "data": {
      "text/plain": [
       "((1845539, 58), (1974, 58), (260114, 58))"
      ]
     },
     "execution_count": 3,
     "metadata": {},
     "output_type": "execute_result"
    },
    {
     "data": {
      "text/plain": [
       "((1845539, 57), (1845539, 1), (1974, 57), (1974, 1))"
      ]
     },
     "execution_count": 3,
     "metadata": {},
     "output_type": "execute_result"
    }
   ],
   "source": [
    "SEED=13\n",
    "\n",
    "## 1. 데이터 로딩\n",
    "data_dir = '/opt/ml/input/data' # 경로\n",
    "after_fe_path = os.path.join(data_dir, 'base_lgbm2.pkl')\n",
    "df = pd.read_pickle(after_fe_path)\n",
    "\n",
    "train_df = df[df.kind=='train']\n",
    "train, valid = custom_train_test_split(train_df, ratio=0.7, seed=SEED) # 훈련데이터 split\n",
    "test = df[df.kind=='test'] # 테스트 데이터\n",
    "train2 = test[test.answerCode!=-1] # 테스트데이터 마지막 제출 2번쨰꺼까지 훈련데이터로 사용\n",
    "train = pd.concat([train,train2]) # 훈련데이터 병합\n",
    "train.shape, valid.shape, test.shape\n",
    "\n",
    "x_train = train.drop('answerCode',axis=1)\n",
    "y_train = train[['answerCode']]\n",
    "\n",
    "x_valid = valid.drop('answerCode',axis=1)\n",
    "y_valid = valid[['answerCode']]\n",
    "x_train.shape, y_train.shape, x_valid.shape, y_valid.shape"
   ]
  },
  {
   "cell_type": "code",
   "execution_count": 4,
   "id": "5b52aad1-9cc1-44de-8673-35e4be308df0",
   "metadata": {},
   "outputs": [],
   "source": [
    "# @mlflc.track_in_mlflow()\n",
    "def objective(trial: Trial) -> float:\n",
    "    # Hyper parameter 설정\n",
    "    params = {\n",
    "    #     \"max_depth\": 8,  # 8,\n",
    "    #     \"min_data_in_leaf\": 1000,\n",
    "        # \"feature_fraction\": 0.6,  # 0.8,\n",
    "    #     \"bagging_fraction\": 0.75,\n",
    "        # \"max_cat_group\": 64,\n",
    "        \"objective\": \"binary\",\n",
    "    #     \"boosting\": \"gbdt\",  # dart\n",
    "        \"learning_rate\": 0.023,  # 0.01,\n",
    "        # \"bagging_freq\": 5,\n",
    "        \"seed\": 42,\n",
    "        # \"max_bin\": 50,\n",
    "    #     \"num_leaves\": 80,  # 40,\n",
    "    #     \"metric\": \"auc\",\n",
    "    }\n",
    "\n",
    "    ### 피처 설정\n",
    "    # 사용할 Feature 설정\n",
    "    FEATS = ['uidIdx',\n",
    "             'assIdx',\n",
    "             'testIdx',\n",
    "             'KnowledgeTag',\n",
    "             'user_correct_answer',\n",
    "             'user_total_answer',\n",
    "             'big_category',\n",
    "             'mid_category',\n",
    "             'problem_num',\n",
    "             'month','day','dayname','hour',\n",
    "             'test_mean',\n",
    "             'test_sum',\n",
    "             'test_std',\n",
    "             'tag_std',\n",
    "             'tag_mean',\n",
    "             'tag_sum',\n",
    "             'solvesec_3600',\n",
    "             'time_category',\n",
    "             'solvesec_cumsum',\n",
    "             'solvecumsum_category',\n",
    "             'big_category_cumconut',\n",
    "             'big_category_user_cum_acc',\n",
    "             'mid_category_cumconut',\n",
    "             'mid_category_user_cum_acc',\n",
    "             'assess_count',\n",
    "             'elo_assessmentItemID',\n",
    "             'elo_problem_num',\n",
    "            ]\n",
    "\n",
    "    cat_feats = ['uidIdx','assIdx','testIdx','KnowledgeTag','big_category','mid_category',\n",
    "                 'problem_num','dayname','month','time_category','solvecumsum_category']\n",
    "    cat_feats_idx = [i for i,e in enumerate(FEATS) if e in cat_feats]\n",
    "\n",
    "    ### 학습 및 예측\n",
    "\n",
    "    date = datetime.now().strftime('%m/%d %a')\n",
    "    title=f\"🌈({date})[LGBM] optuna\"\n",
    "    using_feats=\", \".join(FEATS)\n",
    "    desc=f\"사용된 피처({len(FEATS)})\\n{using_feats}\"\n",
    "    cat_feats_idx, title, desc\n",
    "\n",
    "    lgb_x_train = lgb.Dataset(x_train[FEATS], y_train)\n",
    "    lgb_x_valid = lgb.Dataset(x_valid[FEATS], y_valid)\n",
    "\n",
    "    model_lgbm = lgb.train(\n",
    "        params, \n",
    "        lgb_x_train,\n",
    "        valid_sets=[lgb_x_valid],\n",
    "        verbose_eval=100,\n",
    "        num_boost_round=3200,\n",
    "        categorical_feature=cat_feats_idx,\n",
    "        early_stopping_rounds=100,\n",
    "    )\n",
    "    preds = model_lgbm.predict(x_valid[FEATS])\n",
    "    acc = accuracy_score(y_valid, np.where(preds >= 0.5, 1, 0))\n",
    "    auc = roc_auc_score(y_valid, preds)\n",
    "    print(f'VALID AUC : {auc} ACC : {acc}\\n')\n",
    "    # model_run_id=run.info.run_id\n",
    "    # post_slack(\"done\")\n",
    "    # print(f\"{model_run_id=}\")\n",
    "    file_name = title2filename(title)\n",
    "    test_preds = lgbm_predict(test, model_lgbm, FEATS, f'{file_name}.csv')\n",
    "\n",
    "    q = pd.Series(test_preds).plot(kind='kde')\n",
    "    return auc"
   ]
  },
  {
   "cell_type": "code",
   "execution_count": 5,
   "id": "8af647e0-71bf-4149-84b8-8b8a9fc03faf",
   "metadata": {},
   "outputs": [
    {
     "name": "stderr",
     "output_type": "stream",
     "text": [
      "\u001b[32m[I 2022-12-07 17:06:22,287]\u001b[0m A new study created in memory with name: lgbm_parameter_opt\u001b[0m\n"
     ]
    },
    {
     "name": "stdout",
     "output_type": "stream",
     "text": [
      "Optimize a model...\n"
     ]
    },
    {
     "data": {
      "application/vnd.jupyter.widget-view+json": {
       "model_id": "f25c71b8708c404e8dc7e7b1b0c85eb0",
       "version_major": 2,
       "version_minor": 0
      },
      "text/plain": [
       "  0%|          | 0/1 [00:00<?, ?it/s]"
      ]
     },
     "metadata": {},
     "output_type": "display_data"
    },
    {
     "name": "stdout",
     "output_type": "stream",
     "text": [
      "[LightGBM] [Info] Number of positive: 1208276, number of negative: 637263\n",
      "[LightGBM] [Warning] Auto-choosing row-wise multi-threading, the overhead of testing was 0.030926 seconds.\n",
      "You can set `force_row_wise=true` to remove the overhead.\n",
      "And if memory is not enough, you can set `force_col_wise=true`.\n",
      "[LightGBM] [Info] Total Bins 19967\n",
      "[LightGBM] [Info] Number of data points in the train set: 1845539, number of used features: 30\n",
      "[LightGBM] [Info] [binary:BoostFromScore]: pavg=0.654701 -> initscore=0.639767\n",
      "[LightGBM] [Info] Start training from score 0.639767\n",
      "Training until validation scores don't improve for 100 rounds\n",
      "[100]\tvalid_0's binary_logloss: 0.531009\n",
      "[200]\tvalid_0's binary_logloss: 0.517541\n",
      "[300]\tvalid_0's binary_logloss: 0.513531\n",
      "[400]\tvalid_0's binary_logloss: 0.511328\n",
      "[500]\tvalid_0's binary_logloss: 0.509576\n",
      "[600]\tvalid_0's binary_logloss: 0.507943\n",
      "[700]\tvalid_0's binary_logloss: 0.506832\n",
      "[800]\tvalid_0's binary_logloss: 0.505703\n",
      "[900]\tvalid_0's binary_logloss: 0.505156\n",
      "[1000]\tvalid_0's binary_logloss: 0.504698\n",
      "[1100]\tvalid_0's binary_logloss: 0.504322\n",
      "[1200]\tvalid_0's binary_logloss: 0.503844\n",
      "[1300]\tvalid_0's binary_logloss: 0.50346\n",
      "[1400]\tvalid_0's binary_logloss: 0.503154\n",
      "[1500]\tvalid_0's binary_logloss: 0.502729\n",
      "[1600]\tvalid_0's binary_logloss: 0.502575\n",
      "[1700]\tvalid_0's binary_logloss: 0.50238\n",
      "[1800]\tvalid_0's binary_logloss: 0.502213\n",
      "[1900]\tvalid_0's binary_logloss: 0.502094\n",
      "Early stopping, best iteration is:\n",
      "[1882]\tvalid_0's binary_logloss: 0.502026\n",
      "VALID AUC : 0.8325649286525453 ACC : 0.7553191489361702\n",
      "\n",
      "writing prediction : output/12_07_Wed_LGBM_optuna.csv\n",
      "\u001b[32m[I 2022-12-07 17:09:02,164]\u001b[0m Trial 0 finished with value: 0.8325649286525453 and parameters: {}. Best is trial 0 with value: 0.8325649286525453.\u001b[0m\n"
     ]
    },
    {
     "data": {
      "image/png": "[encoded data removed]",
      "text/plain": [
       "<Figure size 640x480 with 1 Axes>"
      ]
     },
     "metadata": {},
     "output_type": "display_data"
    }
   ],
   "source": [
    "from optuna.integration.mlflow import MLflowCallback\n",
    "sampler = TPESampler(seed=42)\n",
    "study = optuna.create_study(\n",
    "    study_name=\"lgbm_parameter_opt\",\n",
    "    direction=\"maximize\",\n",
    "    sampler=sampler,\n",
    ")\n",
    "\n",
    "print(\"Optimize a model...\")\n",
    "\n",
    "\n",
    "remote_server_uri=\"http://118.67.134.110:30005\"\n",
    "def make_mlflow_callback():\n",
    "    cb = MLflowCallback(\n",
    "         tracking_uri = mlflow.get_tracking_uri(),\n",
    "         metric_name=\"VAL AUC\",\n",
    "         create_experiment=True)\n",
    "    return cb\n",
    "\n",
    "mlflow_cb = make_mlflow_callback()\n",
    "\n",
    "study.optimize(\n",
    "    objective, n_trials=1, callbacks=[mlflow_cb], show_progress_bar=True\n",
    ")"
   ]
  },
  {
   "cell_type": "code",
   "execution_count": null,
   "id": "7328aff0-54d6-4d99-8d4e-7d1075b968f2",
   "metadata": {},
   "outputs": [],
   "source": []
  },
  {
   "cell_type": "code",
   "execution_count": null,
   "id": "35de8e58-be75-46a7-bbe8-1d6e2d81a44f",
   "metadata": {},
   "outputs": [],
   "source": []
  },
  {
   "cell_type": "code",
   "execution_count": null,
   "id": "55c49b92-6402-4c4a-9ad6-2e6b48277f4d",
   "metadata": {},
   "outputs": [],
   "source": []
  },
  {
   "cell_type": "code",
   "execution_count": 6,
   "id": "f1e6874e-f868-4cfd-9a9c-8732ab67ff4b",
   "metadata": {
    "tags": []
   },
   "outputs": [
    {
     "name": "stdout",
     "output_type": "stream",
     "text": [
      "[LightGBM] [Info] Number of positive: 1208276, number of negative: 637263\n",
      "[LightGBM] [Warning] Auto-choosing row-wise multi-threading, the overhead of testing was 0.031129 seconds.\n",
      "You can set `force_row_wise=true` to remove the overhead.\n",
      "And if memory is not enough, you can set `force_col_wise=true`.\n",
      "[LightGBM] [Info] Total Bins 19967\n",
      "[LightGBM] [Info] Number of data points in the train set: 1845539, number of used features: 30\n",
      "[LightGBM] [Info] [binary:BoostFromScore]: pavg=0.654701 -> initscore=0.639767\n",
      "[LightGBM] [Info] Start training from score 0.639767\n",
      "Training until validation scores don't improve for 100 rounds\n",
      "[100]\tvalid_0's binary_logloss: 0.531009\n",
      "[200]\tvalid_0's binary_logloss: 0.517541\n",
      "[300]\tvalid_0's binary_logloss: 0.513531\n",
      "[400]\tvalid_0's binary_logloss: 0.511328\n",
      "[500]\tvalid_0's binary_logloss: 0.509576\n",
      "[600]\tvalid_0's binary_logloss: 0.507943\n",
      "[700]\tvalid_0's binary_logloss: 0.506832\n",
      "[800]\tvalid_0's binary_logloss: 0.505703\n",
      "[900]\tvalid_0's binary_logloss: 0.505156\n",
      "[1000]\tvalid_0's binary_logloss: 0.504698\n",
      "[1100]\tvalid_0's binary_logloss: 0.504322\n",
      "[1200]\tvalid_0's binary_logloss: 0.503844\n",
      "[1300]\tvalid_0's binary_logloss: 0.50346\n",
      "[1400]\tvalid_0's binary_logloss: 0.503154\n",
      "[1500]\tvalid_0's binary_logloss: 0.502729\n",
      "[1600]\tvalid_0's binary_logloss: 0.502575\n",
      "[1700]\tvalid_0's binary_logloss: 0.50238\n",
      "[1800]\tvalid_0's binary_logloss: 0.502213\n",
      "[1900]\tvalid_0's binary_logloss: 0.502094\n",
      "Early stopping, best iteration is:\n",
      "[1882]\tvalid_0's binary_logloss: 0.502026\n"
     ]
    },
    {
     "name": "stderr",
     "output_type": "stream",
     "text": [
      "\u001b[32m[I 2022-12-07 17:11:35,981]\u001b[0m Trial 1 finished with value: 0.8325649286525453 and parameters: {}. Best is trial 0 with value: 0.8325649286525453.\u001b[0m\n",
      "WARNING:root:Malformed experiment 'mlruns'. Detailed error Yaml file 'mlruns/mlruns/meta.yaml' does not exist.\n",
      "Traceback (most recent call last):\n",
      "  File \"/opt/conda/envs/dkt2/lib/python3.9/site-packages/mlflow/store/tracking/file_store.py\", line 279, in search_experiments\n",
      "    exp = self._get_experiment(exp_id, view_type)\n",
      "  File \"/opt/conda/envs/dkt2/lib/python3.9/site-packages/mlflow/store/tracking/file_store.py\", line 372, in _get_experiment\n",
      "    meta = FileStore._read_yaml(experiment_dir, FileStore.META_DATA_FILE_NAME)\n",
      "  File \"/opt/conda/envs/dkt2/lib/python3.9/site-packages/mlflow/store/tracking/file_store.py\", line 1082, in _read_yaml\n",
      "    return _read_helper(root, file_name, attempts_remaining=retries)\n",
      "  File \"/opt/conda/envs/dkt2/lib/python3.9/site-packages/mlflow/store/tracking/file_store.py\", line 1075, in _read_helper\n",
      "    result = read_yaml(root, file_name)\n",
      "  File \"/opt/conda/envs/dkt2/lib/python3.9/site-packages/mlflow/utils/file_utils.py\", line 182, in read_yaml\n",
      "    raise MissingConfigException(\"Yaml file '%s' does not exist.\" % file_path)\n",
      "mlflow.exceptions.MissingConfigException: Yaml file 'mlruns/mlruns/meta.yaml' does not exist.\n"
     ]
    },
    {
     "name": "stdout",
     "output_type": "stream",
     "text": [
      "VALID AUC : 0.8325649286525453 ACC : 0.7553191489361702\n",
      "\n",
      "writing prediction : output/12_07_Wed_LGBM_optuna.csv\n"
     ]
    },
    {
     "data": {
      "image/png": "[encoded data removed]",
      "text/plain": [
       "<Figure size 640x480 with 1 Axes>"
      ]
     },
     "metadata": {},
     "output_type": "display_data"
    }
   ],
   "source": [
    "from optuna.integration.mlflow import MLflowCallback\n",
    " \n",
    "def make_mlflow_callback():\n",
    "    cb = MLflowCallback(\n",
    "         tracking_uri=\"mlruns\",\n",
    "         metric_name=\"VALID AUC\",\n",
    "         create_experiment=True)\n",
    "    return cb\n",
    " \n",
    "mlflow_cb = make_mlflow_callback()\n",
    "study.optimize(objective, n_trials=1, callbacks=[mlflow_cb])"
   ]
  },
  {
   "cell_type": "code",
   "execution_count": null,
   "id": "065efd7f-1d48-487a-a8b8-66e2aef6acb6",
   "metadata": {
    "tags": []
   },
   "outputs": [
    {
     "name": "stderr",
     "output_type": "stream",
     "text": [
      "\u001b[32m[I 2022-12-07 17:05:37,037]\u001b[0m A new study created in memory with name: lgbm_parameter_opt\u001b[0m\n"
     ]
    },
    {
     "name": "stdout",
     "output_type": "stream",
     "text": [
      "[LightGBM] [Info] Number of positive: 1208276, number of negative: 637263\n",
      "[LightGBM] [Warning] Auto-choosing row-wise multi-threading, the overhead of testing was 0.030862 seconds.\n",
      "You can set `force_row_wise=true` to remove the overhead.\n",
      "And if memory is not enough, you can set `force_col_wise=true`.\n",
      "[LightGBM] [Info] Total Bins 19967\n",
      "[LightGBM] [Info] Number of data points in the train set: 1845539, number of used features: 30\n",
      "[LightGBM] [Info] [binary:BoostFromScore]: pavg=0.654701 -> initscore=0.639767\n",
      "[LightGBM] [Info] Start training from score 0.639767\n",
      "Training until validation scores don't improve for 100 rounds\n",
      "[100]\tvalid_0's binary_logloss: 0.531009\n"
     ]
    }
   ],
   "source": [
    "sampler = TPESampler(seed=42)\n",
    "study = optuna.create_study(\n",
    "    study_name=\"lgbm_parameter_opt\",\n",
    "    direction=\"maximize\",\n",
    "    sampler=sampler,\n",
    ")\n",
    "study.optimize(objective, n_trials=10)\n",
    "print(\"Best Score:\", study.best_value)\n",
    "print(\"Best trial:\", study.best_trial.params)"
   ]
  },
  {
   "cell_type": "markdown",
   "id": "f2f94040-997d-4597-b0b2-600defc7a076",
   "metadata": {},
   "source": []
  }
 ],
 "metadata": {
  "kernelspec": {
   "display_name": "dkt2",
   "language": "python",
   "name": "dkt2"
  },
  "language_info": {
   "codemirror_mode": {
    "name": "ipython",
    "version": 3
   },
   "file_extension": ".py",
   "mimetype": "text/x-python",
   "name": "python",
   "nbconvert_exporter": "python",
   "pygments_lexer": "ipython3",
   "version": "3.9.15"
  }
 },
 "nbformat": 4,
 "nbformat_minor": 5
}
