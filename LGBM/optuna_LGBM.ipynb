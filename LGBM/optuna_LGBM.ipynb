{
 "cells": [
  {
   "cell_type": "code",
   "execution_count": 10,
   "id": "a2b00553-6db4-448d-942c-2c10c331b0ff",
   "metadata": {},
   "outputs": [],
   "source": [
    "import mlflow\n",
    "import mlflow.lightgbm\n",
    "import numpy as np\n",
    "import pandas as pd\n",
    "import optuna\n",
    "from lightgbm import LGBMClassifier\n",
    "from optuna import Trial\n",
    "from optuna.samplers import TPESampler\n",
    "from sklearn.metrics import log_loss\n",
    "from sklearn.model_selection import train_test_split\n",
    "from datetime import datetime\n",
    "from IPython.core.interactiveshell import InteractiveShell\n",
    "InteractiveShell.ast_node_interactivity = 'all'\n",
    "import pandas as pd\n",
    "import os\n",
    "import random\n",
    "import warnings\n",
    "warnings.filterwarnings('ignore')\n",
    "import lightgbm as lgb\n",
    "from sklearn.metrics import roc_auc_score\n",
    "from sklearn.metrics import accuracy_score\n",
    "import numpy as np\n",
    "from utils import custom_train_test_split, lgbm_predict, title2filename"
   ]
  },
  {
   "cell_type": "markdown",
   "id": "15fa6b9f-18e8-4b54-b21b-3fc8d3077568",
   "metadata": {},
   "source": [
    "## MLflow 설정"
   ]
  },
  {
   "cell_type": "code",
   "execution_count": 11,
   "id": "ab2250c3-c3c0-4c9b-a1d7-426f3ee22565",
   "metadata": {},
   "outputs": [
    {
     "data": {
      "text/plain": [
       "'271919591702384430'"
      ]
     },
     "execution_count": 11,
     "metadata": {},
     "output_type": "execute_result"
    }
   ],
   "source": [
    "os.environ[\"LOGNAME\"] = \"lnh\"\n",
    "remote_server_uri=\"http://118.67.134.110:30005\"\n",
    "mlflow.set_tracking_uri(remote_server_uri)\n",
    "\n",
    "client = mlflow.tracking.MlflowClient()\n",
    "experiment_name = \"LGBM optuna\"\n",
    "try:\n",
    "    experiment_id = client.create_experiment(experiment_name)\n",
    "except:\n",
    "    experiment = client.get_experiment_by_name(experiment_name)\n",
    "    experiment_id = experiment.experiment_id\n",
    "experiment_id"
   ]
  },
  {
   "cell_type": "markdown",
   "id": "8cfa6234-edcb-44cb-a546-90d2c15414d4",
   "metadata": {},
   "source": [
    "## 데이터 불러오기 및 split"
   ]
  },
  {
   "cell_type": "code",
   "execution_count": 12,
   "id": "c1de1f7c-c9c4-4180-98b0-6f0b448d25f3",
   "metadata": {},
   "outputs": [
    {
     "data": {
      "text/plain": [
       "((1845539, 58), (1974, 58), (260114, 58))"
      ]
     },
     "execution_count": 12,
     "metadata": {},
     "output_type": "execute_result"
    },
    {
     "data": {
      "text/plain": [
       "((1845539, 57), (1845539, 1), (1974, 57), (1974, 1))"
      ]
     },
     "execution_count": 12,
     "metadata": {},
     "output_type": "execute_result"
    }
   ],
   "source": [
    "SEED=13\n",
    "\n",
    "## 1. 데이터 로딩\n",
    "data_dir = '/opt/ml/input/data' # 경로\n",
    "after_fe_path = os.path.join(data_dir, 'base_lgbm2.pkl')\n",
    "df = pd.read_pickle(after_fe_path)\n",
    "\n",
    "train_df = df[df.kind=='train']\n",
    "train, valid = custom_train_test_split(train_df, ratio=0.7, seed=SEED) # 훈련데이터 split\n",
    "test = df[df.kind=='test'] # 테스트 데이터\n",
    "train2 = test[test.answerCode!=-1] # 테스트데이터 마지막 제출 2번쨰꺼까지 훈련데이터로 사용\n",
    "train = pd.concat([train,train2]) # 훈련데이터 병합\n",
    "train.shape, valid.shape, test.shape\n",
    "\n",
    "x_train = train.drop('answerCode',axis=1)\n",
    "y_train = train[['answerCode']]\n",
    "\n",
    "x_valid = valid.drop('answerCode',axis=1)\n",
    "y_valid = valid[['answerCode']]\n",
    "x_train.shape, y_train.shape, x_valid.shape, y_valid.shape"
   ]
  },
  {
   "cell_type": "code",
   "execution_count": 13,
   "id": "5b52aad1-9cc1-44de-8673-35e4be308df0",
   "metadata": {},
   "outputs": [],
   "source": [
    "def objective(trial: Trial) -> float:\n",
    "    # Hyper parameter 설정\n",
    "    params = {\n",
    "    #     \"max_depth\": 8,  # 8,\n",
    "    #     \"min_data_in_leaf\": 1000,\n",
    "        # \"feature_fraction\": 0.6,  # 0.8,\n",
    "    #     \"bagging_fraction\": 0.75,\n",
    "        # \"max_cat_group\": 64,\n",
    "        \"objective\": \"binary\",\n",
    "    #     \"boosting\": \"gbdt\",  # dart\n",
    "        \"learning_rate\": 0.023,  # 0.01,\n",
    "        # \"bagging_freq\": 5,\n",
    "        \"seed\": 42,\n",
    "        # \"max_bin\": 50,\n",
    "    #     \"num_leaves\": 80,  # 40,\n",
    "    #     \"metric\": \"auc\",\n",
    "    }\n",
    "\n",
    "    ### 피처 설정\n",
    "    # 사용할 Feature 설정\n",
    "    FEATS = ['uidIdx',\n",
    "             'assIdx',\n",
    "             'testIdx',\n",
    "             'KnowledgeTag',\n",
    "             'user_correct_answer',\n",
    "             'user_total_answer',\n",
    "             'big_category',\n",
    "             'mid_category',\n",
    "             'problem_num',\n",
    "             'month','day','dayname','hour',\n",
    "             'test_mean',\n",
    "             'test_sum',\n",
    "             'test_std',\n",
    "             'tag_std',\n",
    "             'tag_mean',\n",
    "             'tag_sum',\n",
    "             'solvesec_3600',\n",
    "             'time_category',\n",
    "             'solvesec_cumsum',\n",
    "             'solvecumsum_category',\n",
    "             'big_category_cumconut',\n",
    "             'big_category_user_cum_acc',\n",
    "             'mid_category_cumconut',\n",
    "             'mid_category_user_cum_acc',\n",
    "             'assess_count',\n",
    "             'elo_assessmentItemID',\n",
    "             'elo_problem_num',\n",
    "            ]\n",
    "\n",
    "    cat_feats = ['uidIdx','assIdx','testIdx','KnowledgeTag','big_category','mid_category',\n",
    "                 'problem_num','dayname','month','time_category','solvecumsum_category']\n",
    "    cat_feats_idx = [i for i,e in enumerate(FEATS) if e in cat_feats]\n",
    "\n",
    "    ### 학습 및 예측\n",
    "\n",
    "    date = datetime.now().strftime('%m/%d %a')\n",
    "    title=f\"🌈({date})[LGBM] optuna\"\n",
    "    using_feats=\", \".join(FEATS)\n",
    "    desc=f\"사용된 피처({len(FEATS)})\\n{using_feats}\"\n",
    "    cat_feats_idx, title, desc\n",
    "\n",
    "    mlflow.lightgbm.autolog()\n",
    "    lgb_x_train = lgb.Dataset(x_train[FEATS], y_train)\n",
    "    lgb_x_valid = lgb.Dataset(x_valid[FEATS], y_valid)\n",
    "\n",
    "    with mlflow.start_run(run_name=title, description=desc) as run:\n",
    "        model_lgbm = lgb.train(\n",
    "            params, \n",
    "            lgb_x_train,\n",
    "            valid_sets=[lgb_x_valid],\n",
    "            verbose_eval=100,\n",
    "            num_boost_round=3200,\n",
    "            categorical_feature=cat_feats_idx,\n",
    "            early_stopping_rounds=100,\n",
    "        )\n",
    "        preds = model_lgbm.predict(x_valid[FEATS])\n",
    "        acc = accuracy_score(y_valid, np.where(preds >= 0.5, 1, 0))\n",
    "        auc = roc_auc_score(y_valid, preds)\n",
    "        print(f'VALID AUC : {auc} ACC : {acc}\\n')\n",
    "        mlflow.log_metric(\"VAL AUC\",auc)\n",
    "        mlflow.log_metric(\"VAL Set SEED\",SEED)\n",
    "        model_run_id=run.info.run_id\n",
    "        # post_slack(\"done\")\n",
    "        print(f\"{model_run_id=}\")\n",
    "        file_name = title2filename(title)\n",
    "        test_preds = lgbm_predict(test, model_lgbm, FEATS, f'{file_name}.csv')\n",
    "\n",
    "    q = pd.Series(test_preds).plot(kind='kde')\n",
    "    return auc"
   ]
  },
  {
   "cell_type": "code",
   "execution_count": 29,
   "id": "8af647e0-71bf-4149-84b8-8b8a9fc03faf",
   "metadata": {},
   "outputs": [
    {
     "name": "stderr",
     "output_type": "stream",
     "text": [
      "\u001b[32m[I 2022-12-07 16:40:16,770]\u001b[0m A new study created in memory with name: lgbm_parameter_opt\u001b[0m\n"
     ]
    },
    {
     "name": "stdout",
     "output_type": "stream",
     "text": [
      "Optimize a model...\n"
     ]
    },
    {
     "data": {
      "application/vnd.jupyter.widget-view+json": {
       "model_id": "e7146dec7dd848588d4b4041070dd609",
       "version_major": 2,
       "version_minor": 0
      },
      "text/plain": [
       "  0%|          | 0/1 [00:00<?, ?it/s]"
      ]
     },
     "metadata": {},
     "output_type": "display_data"
    },
    {
     "name": "stdout",
     "output_type": "stream",
     "text": [
      "[LightGBM] [Info] Number of positive: 1208276, number of negative: 637263\n",
      "[LightGBM] [Warning] Auto-choosing row-wise multi-threading, the overhead of testing was 0.030991 seconds.\n",
      "You can set `force_row_wise=true` to remove the overhead.\n",
      "And if memory is not enough, you can set `force_col_wise=true`.\n",
      "[LightGBM] [Info] Total Bins 19967\n",
      "[LightGBM] [Info] Number of data points in the train set: 1845539, number of used features: 30\n",
      "[LightGBM] [Info] [binary:BoostFromScore]: pavg=0.654701 -> initscore=0.639767\n",
      "[LightGBM] [Info] Start training from score 0.639767\n",
      "Training until validation scores don't improve for 100 rounds\n",
      "[100]\tvalid_0's binary_logloss: 0.531009\n",
      "[200]\tvalid_0's binary_logloss: 0.517541\n",
      "[300]\tvalid_0's binary_logloss: 0.513531\n",
      "[400]\tvalid_0's binary_logloss: 0.511328\n",
      "[500]\tvalid_0's binary_logloss: 0.509576\n",
      "[600]\tvalid_0's binary_logloss: 0.507943\n",
      "[700]\tvalid_0's binary_logloss: 0.506832\n",
      "[800]\tvalid_0's binary_logloss: 0.505703\n",
      "[900]\tvalid_0's binary_logloss: 0.505156\n",
      "[1000]\tvalid_0's binary_logloss: 0.504698\n",
      "[1100]\tvalid_0's binary_logloss: 0.504322\n",
      "[1200]\tvalid_0's binary_logloss: 0.503844\n",
      "[1300]\tvalid_0's binary_logloss: 0.50346\n",
      "[1400]\tvalid_0's binary_logloss: 0.503154\n",
      "[1500]\tvalid_0's binary_logloss: 0.502729\n",
      "[1600]\tvalid_0's binary_logloss: 0.502575\n",
      "[1700]\tvalid_0's binary_logloss: 0.50238\n",
      "[1800]\tvalid_0's binary_logloss: 0.502213\n",
      "[1900]\tvalid_0's binary_logloss: 0.502094\n",
      "Early stopping, best iteration is:\n",
      "[1882]\tvalid_0's binary_logloss: 0.502026\n",
      "VALID AUC : 0.8325649286525453 ACC : 0.7553191489361702\n",
      "\n",
      "model_run_id='183d1409af53465a80ac759124906fad'\n",
      "writing prediction : output/12_07_Wed_LGBM_optuna.csv\n",
      "\u001b[32m[I 2022-12-07 16:42:58,864]\u001b[0m Trial 0 finished with value: 0.8325649286525453 and parameters: {}. Best is trial 0 with value: 0.8325649286525453.\u001b[0m\n"
     ]
    },
    {
     "data": {
      "image/png": "[encoded data removed]",
      "text/plain": [
       "<Figure size 640x480 with 1 Axes>"
      ]
     },
     "metadata": {},
     "output_type": "display_data"
    }
   ],
   "source": [
    "sampler = TPESampler(seed=42)\n",
    "study = optuna.create_study(\n",
    "    study_name=\"lgbm_parameter_opt\",\n",
    "    direction=\"maximize\",\n",
    "    sampler=sampler,\n",
    ")\n",
    "\n",
    "print(\"Optimize a model...\")\n",
    "\n",
    "def make_mlflow_callback():\n",
    "    cb = MLflowCallback(\n",
    "         tracking_uri=\"http://118.67.134.110:30005\",\n",
    "         metric_name=\"VALID AUC\",\n",
    "         create_experiment=True)\n",
    "    return cb\n",
    "\n",
    "mlflow_cb = make_mlflow_callback()\n",
    "\n",
    "study.optimize(\n",
    "    objective, n_trials=1, callbacks=[mlflow_cb], show_progress_bar=True\n",
    ")"
   ]
  },
  {
   "cell_type": "code",
   "execution_count": 27,
   "id": "f1e6874e-f868-4cfd-9a9c-8732ab67ff4b",
   "metadata": {},
   "outputs": [
    {
     "name": "stdout",
     "output_type": "stream",
     "text": [
      "[LightGBM] [Info] Number of positive: 1208276, number of negative: 637263\n",
      "[LightGBM] [Warning] Auto-choosing row-wise multi-threading, the overhead of testing was 0.032637 seconds.\n",
      "You can set `force_row_wise=true` to remove the overhead.\n",
      "And if memory is not enough, you can set `force_col_wise=true`.\n",
      "[LightGBM] [Info] Total Bins 19967\n",
      "[LightGBM] [Info] Number of data points in the train set: 1845539, number of used features: 30\n",
      "[LightGBM] [Info] [binary:BoostFromScore]: pavg=0.654701 -> initscore=0.639767\n",
      "[LightGBM] [Info] Start training from score 0.639767\n",
      "Training until validation scores don't improve for 100 rounds\n",
      "[100]\tvalid_0's binary_logloss: 0.531009\n",
      "[200]\tvalid_0's binary_logloss: 0.517541\n",
      "[300]\tvalid_0's binary_logloss: 0.513531\n",
      "[400]\tvalid_0's binary_logloss: 0.511328\n",
      "[500]\tvalid_0's binary_logloss: 0.509576\n",
      "[600]\tvalid_0's binary_logloss: 0.507943\n",
      "[700]\tvalid_0's binary_logloss: 0.506832\n",
      "[800]\tvalid_0's binary_logloss: 0.505703\n",
      "[900]\tvalid_0's binary_logloss: 0.505156\n",
      "[1000]\tvalid_0's binary_logloss: 0.504698\n",
      "[1100]\tvalid_0's binary_logloss: 0.504322\n",
      "[1200]\tvalid_0's binary_logloss: 0.503844\n",
      "[1300]\tvalid_0's binary_logloss: 0.50346\n",
      "[1400]\tvalid_0's binary_logloss: 0.503154\n",
      "[1500]\tvalid_0's binary_logloss: 0.502729\n",
      "[1600]\tvalid_0's binary_logloss: 0.502575\n",
      "[1700]\tvalid_0's binary_logloss: 0.50238\n",
      "[1800]\tvalid_0's binary_logloss: 0.502213\n",
      "[1900]\tvalid_0's binary_logloss: 0.502094\n",
      "Early stopping, best iteration is:\n",
      "[1882]\tvalid_0's binary_logloss: 0.502026\n"
     ]
    },
    {
     "name": "stderr",
     "output_type": "stream",
     "text": [
      "\u001b[32m[I 2022-12-07 16:35:00,941]\u001b[0m Trial 12 finished with value: 0.8325649286525453 and parameters: {}. Best is trial 0 with value: 0.8325649286525453.\u001b[0m\n",
      "WARNING:root:Malformed experiment 'mlruns'. Detailed error Yaml file 'mlruns/mlruns/meta.yaml' does not exist.\n",
      "Traceback (most recent call last):\n",
      "  File \"/opt/conda/envs/dkt2/lib/python3.9/site-packages/mlflow/store/tracking/file_store.py\", line 279, in search_experiments\n",
      "    exp = self._get_experiment(exp_id, view_type)\n",
      "  File \"/opt/conda/envs/dkt2/lib/python3.9/site-packages/mlflow/store/tracking/file_store.py\", line 372, in _get_experiment\n",
      "    meta = FileStore._read_yaml(experiment_dir, FileStore.META_DATA_FILE_NAME)\n",
      "  File \"/opt/conda/envs/dkt2/lib/python3.9/site-packages/mlflow/store/tracking/file_store.py\", line 1082, in _read_yaml\n",
      "    return _read_helper(root, file_name, attempts_remaining=retries)\n",
      "  File \"/opt/conda/envs/dkt2/lib/python3.9/site-packages/mlflow/store/tracking/file_store.py\", line 1075, in _read_helper\n",
      "    result = read_yaml(root, file_name)\n",
      "  File \"/opt/conda/envs/dkt2/lib/python3.9/site-packages/mlflow/utils/file_utils.py\", line 182, in read_yaml\n",
      "    raise MissingConfigException(\"Yaml file '%s' does not exist.\" % file_path)\n",
      "mlflow.exceptions.MissingConfigException: Yaml file 'mlruns/mlruns/meta.yaml' does not exist.\n",
      "2022/12/07 16:35:00 INFO mlflow.tracking.fluent: Experiment with name 'lgbm_parameter_opt' does not exist. Creating a new experiment.\n",
      "WARNING:root:Malformed experiment 'mlruns'. Detailed error Yaml file 'mlruns/mlruns/meta.yaml' does not exist.\n",
      "Traceback (most recent call last):\n",
      "  File \"/opt/conda/envs/dkt2/lib/python3.9/site-packages/mlflow/store/tracking/file_store.py\", line 279, in search_experiments\n",
      "    exp = self._get_experiment(exp_id, view_type)\n",
      "  File \"/opt/conda/envs/dkt2/lib/python3.9/site-packages/mlflow/store/tracking/file_store.py\", line 372, in _get_experiment\n",
      "    meta = FileStore._read_yaml(experiment_dir, FileStore.META_DATA_FILE_NAME)\n",
      "  File \"/opt/conda/envs/dkt2/lib/python3.9/site-packages/mlflow/store/tracking/file_store.py\", line 1082, in _read_yaml\n",
      "    return _read_helper(root, file_name, attempts_remaining=retries)\n",
      "  File \"/opt/conda/envs/dkt2/lib/python3.9/site-packages/mlflow/store/tracking/file_store.py\", line 1075, in _read_helper\n",
      "    result = read_yaml(root, file_name)\n",
      "  File \"/opt/conda/envs/dkt2/lib/python3.9/site-packages/mlflow/utils/file_utils.py\", line 182, in read_yaml\n",
      "    raise MissingConfigException(\"Yaml file '%s' does not exist.\" % file_path)\n",
      "mlflow.exceptions.MissingConfigException: Yaml file 'mlruns/mlruns/meta.yaml' does not exist.\n"
     ]
    },
    {
     "name": "stdout",
     "output_type": "stream",
     "text": [
      "VALID AUC : 0.8325649286525453 ACC : 0.7553191489361702\n",
      "\n",
      "model_run_id='cc033976d12f4c289da9aaf92f67964f'\n",
      "writing prediction : output/12_07_Wed_LGBM_optuna.csv\n"
     ]
    },
    {
     "data": {
      "image/png": "[encoded data removed]",
      "text/plain": [
       "<Figure size 640x480 with 1 Axes>"
      ]
     },
     "metadata": {},
     "output_type": "display_data"
    }
   ],
   "source": [
    "from optuna.integration.mlflow import MLflowCallback\n",
    " \n",
    "def make_mlflow_callback():\n",
    "    cb = MLflowCallback(\n",
    "         tracking_uri=\"mlruns\",\n",
    "         metric_name=\"VALID AUC\",\n",
    "         create_experiment=True)\n",
    "    return cb\n",
    " \n",
    "mlflow_cb = make_mlflow_callback()\n",
    "study.optimize(objective, n_trials=1, callbacks=[mlflow_cb])"
   ]
  },
  {
   "cell_type": "code",
   "execution_count": 9,
   "id": "065efd7f-1d48-487a-a8b8-66e2aef6acb6",
   "metadata": {},
   "outputs": [
    {
     "name": "stderr",
     "output_type": "stream",
     "text": [
      "\u001b[32m[I 2022-12-07 15:49:50,191]\u001b[0m A new study created in memory with name: lgbm_parameter_opt\u001b[0m\n"
     ]
    },
    {
     "name": "stdout",
     "output_type": "stream",
     "text": [
      "[LightGBM] [Info] Number of positive: 1208276, number of negative: 637263\n",
      "[LightGBM] [Warning] Auto-choosing row-wise multi-threading, the overhead of testing was 0.031531 seconds.\n",
      "You can set `force_row_wise=true` to remove the overhead.\n",
      "And if memory is not enough, you can set `force_col_wise=true`.\n",
      "[LightGBM] [Info] Total Bins 19967\n",
      "[LightGBM] [Info] Number of data points in the train set: 1845539, number of used features: 30\n",
      "[LightGBM] [Info] [binary:BoostFromScore]: pavg=0.654701 -> initscore=0.639767\n",
      "[LightGBM] [Info] Start training from score 0.639767\n",
      "Training until validation scores don't improve for 100 rounds\n",
      "[100]\tvalid_0's binary_logloss: 0.531009\n",
      "[200]\tvalid_0's binary_logloss: 0.517541\n",
      "[300]\tvalid_0's binary_logloss: 0.513531\n",
      "[400]\tvalid_0's binary_logloss: 0.511328\n",
      "[500]\tvalid_0's binary_logloss: 0.509576\n",
      "[600]\tvalid_0's binary_logloss: 0.507943\n",
      "[700]\tvalid_0's binary_logloss: 0.506832\n",
      "[800]\tvalid_0's binary_logloss: 0.505703\n",
      "[900]\tvalid_0's binary_logloss: 0.505156\n",
      "[1000]\tvalid_0's binary_logloss: 0.504698\n",
      "[1100]\tvalid_0's binary_logloss: 0.504322\n",
      "[1200]\tvalid_0's binary_logloss: 0.503844\n",
      "[1300]\tvalid_0's binary_logloss: 0.50346\n",
      "[1400]\tvalid_0's binary_logloss: 0.503154\n",
      "[1500]\tvalid_0's binary_logloss: 0.502729\n",
      "[1600]\tvalid_0's binary_logloss: 0.502575\n",
      "[1700]\tvalid_0's binary_logloss: 0.50238\n",
      "[1800]\tvalid_0's binary_logloss: 0.502213\n",
      "[1900]\tvalid_0's binary_logloss: 0.502094\n",
      "Early stopping, best iteration is:\n",
      "[1882]\tvalid_0's binary_logloss: 0.502026\n"
     ]
    },
    {
     "name": "stderr",
     "output_type": "stream",
     "text": [
      "\u001b[32m[I 2022-12-07 15:52:49,623]\u001b[0m Trial 0 finished with value: 0.8325649286525453 and parameters: {}. Best is trial 0 with value: 0.8325649286525453.\u001b[0m\n"
     ]
    },
    {
     "name": "stdout",
     "output_type": "stream",
     "text": [
      "VALID AUC : 0.8325649286525453 ACC : 0.7553191489361702\n",
      "\n",
      "model_run_id='de6deb448e73491ca836267abfa5505e'\n",
      "writing prediction : output/12_07_Wed_LGBM_optuna.csv\n",
      "[LightGBM] [Info] Number of positive: 1208276, number of negative: 637263\n",
      "[LightGBM] [Warning] Auto-choosing row-wise multi-threading, the overhead of testing was 0.031157 seconds.\n",
      "You can set `force_row_wise=true` to remove the overhead.\n",
      "And if memory is not enough, you can set `force_col_wise=true`.\n",
      "[LightGBM] [Info] Total Bins 19967\n",
      "[LightGBM] [Info] Number of data points in the train set: 1845539, number of used features: 30\n",
      "[LightGBM] [Info] [binary:BoostFromScore]: pavg=0.654701 -> initscore=0.639767\n",
      "[LightGBM] [Info] Start training from score 0.639767\n",
      "Training until validation scores don't improve for 100 rounds\n",
      "[100]\tvalid_0's binary_logloss: 0.531009\n",
      "[200]\tvalid_0's binary_logloss: 0.517541\n",
      "[300]\tvalid_0's binary_logloss: 0.513531\n",
      "[400]\tvalid_0's binary_logloss: 0.511328\n",
      "[500]\tvalid_0's binary_logloss: 0.509576\n",
      "[600]\tvalid_0's binary_logloss: 0.507943\n",
      "[700]\tvalid_0's binary_logloss: 0.506832\n",
      "[800]\tvalid_0's binary_logloss: 0.505703\n",
      "[900]\tvalid_0's binary_logloss: 0.505156\n",
      "[1000]\tvalid_0's binary_logloss: 0.504698\n",
      "[1100]\tvalid_0's binary_logloss: 0.504322\n",
      "[1200]\tvalid_0's binary_logloss: 0.503844\n",
      "[1300]\tvalid_0's binary_logloss: 0.50346\n",
      "[1400]\tvalid_0's binary_logloss: 0.503154\n",
      "[1500]\tvalid_0's binary_logloss: 0.502729\n",
      "[1600]\tvalid_0's binary_logloss: 0.502575\n",
      "[1700]\tvalid_0's binary_logloss: 0.50238\n",
      "[1800]\tvalid_0's binary_logloss: 0.502213\n",
      "[1900]\tvalid_0's binary_logloss: 0.502094\n",
      "Early stopping, best iteration is:\n",
      "[1882]\tvalid_0's binary_logloss: 0.502026\n"
     ]
    },
    {
     "name": "stderr",
     "output_type": "stream",
     "text": [
      "\u001b[32m[I 2022-12-07 15:55:40,580]\u001b[0m Trial 1 finished with value: 0.8325649286525453 and parameters: {}. Best is trial 0 with value: 0.8325649286525453.\u001b[0m\n"
     ]
    },
    {
     "name": "stdout",
     "output_type": "stream",
     "text": [
      "VALID AUC : 0.8325649286525453 ACC : 0.7553191489361702\n",
      "\n",
      "model_run_id='9a44d0f0bdf94879a3a4c4717d1307fc'\n",
      "writing prediction : output/12_07_Wed_LGBM_optuna.csv\n",
      "[LightGBM] [Info] Number of positive: 1208276, number of negative: 637263\n",
      "[LightGBM] [Warning] Auto-choosing row-wise multi-threading, the overhead of testing was 0.030948 seconds.\n",
      "You can set `force_row_wise=true` to remove the overhead.\n",
      "And if memory is not enough, you can set `force_col_wise=true`.\n",
      "[LightGBM] [Info] Total Bins 19967\n",
      "[LightGBM] [Info] Number of data points in the train set: 1845539, number of used features: 30\n",
      "[LightGBM] [Info] [binary:BoostFromScore]: pavg=0.654701 -> initscore=0.639767\n",
      "[LightGBM] [Info] Start training from score 0.639767\n",
      "Training until validation scores don't improve for 100 rounds\n",
      "[100]\tvalid_0's binary_logloss: 0.531009\n",
      "[200]\tvalid_0's binary_logloss: 0.517541\n",
      "[300]\tvalid_0's binary_logloss: 0.513531\n",
      "[400]\tvalid_0's binary_logloss: 0.511328\n",
      "[500]\tvalid_0's binary_logloss: 0.509576\n",
      "[600]\tvalid_0's binary_logloss: 0.507943\n",
      "[700]\tvalid_0's binary_logloss: 0.506832\n",
      "[800]\tvalid_0's binary_logloss: 0.505703\n",
      "[900]\tvalid_0's binary_logloss: 0.505156\n",
      "[1000]\tvalid_0's binary_logloss: 0.504698\n",
      "[1100]\tvalid_0's binary_logloss: 0.504322\n",
      "[1200]\tvalid_0's binary_logloss: 0.503844\n",
      "[1300]\tvalid_0's binary_logloss: 0.50346\n",
      "[1400]\tvalid_0's binary_logloss: 0.503154\n",
      "[1500]\tvalid_0's binary_logloss: 0.502729\n",
      "[1600]\tvalid_0's binary_logloss: 0.502575\n",
      "[1700]\tvalid_0's binary_logloss: 0.50238\n",
      "[1800]\tvalid_0's binary_logloss: 0.502213\n",
      "[1900]\tvalid_0's binary_logloss: 0.502094\n",
      "Early stopping, best iteration is:\n",
      "[1882]\tvalid_0's binary_logloss: 0.502026\n"
     ]
    },
    {
     "name": "stderr",
     "output_type": "stream",
     "text": [
      "\u001b[32m[I 2022-12-07 15:58:30,217]\u001b[0m Trial 2 finished with value: 0.8325649286525453 and parameters: {}. Best is trial 0 with value: 0.8325649286525453.\u001b[0m\n"
     ]
    },
    {
     "name": "stdout",
     "output_type": "stream",
     "text": [
      "VALID AUC : 0.8325649286525453 ACC : 0.7553191489361702\n",
      "\n",
      "model_run_id='39481e72cb0045f9a1198c02f3bf633b'\n",
      "writing prediction : output/12_07_Wed_LGBM_optuna.csv\n",
      "[LightGBM] [Info] Number of positive: 1208276, number of negative: 637263\n",
      "[LightGBM] [Warning] Auto-choosing row-wise multi-threading, the overhead of testing was 0.031215 seconds.\n",
      "You can set `force_row_wise=true` to remove the overhead.\n",
      "And if memory is not enough, you can set `force_col_wise=true`.\n",
      "[LightGBM] [Info] Total Bins 19967\n",
      "[LightGBM] [Info] Number of data points in the train set: 1845539, number of used features: 30\n",
      "[LightGBM] [Info] [binary:BoostFromScore]: pavg=0.654701 -> initscore=0.639767\n",
      "[LightGBM] [Info] Start training from score 0.639767\n",
      "Training until validation scores don't improve for 100 rounds\n",
      "[100]\tvalid_0's binary_logloss: 0.531009\n",
      "[200]\tvalid_0's binary_logloss: 0.517541\n",
      "[300]\tvalid_0's binary_logloss: 0.513531\n",
      "[400]\tvalid_0's binary_logloss: 0.511328\n",
      "[500]\tvalid_0's binary_logloss: 0.509576\n",
      "[600]\tvalid_0's binary_logloss: 0.507943\n",
      "[700]\tvalid_0's binary_logloss: 0.506832\n",
      "[800]\tvalid_0's binary_logloss: 0.505703\n",
      "[900]\tvalid_0's binary_logloss: 0.505156\n",
      "[1000]\tvalid_0's binary_logloss: 0.504698\n",
      "[1100]\tvalid_0's binary_logloss: 0.504322\n",
      "[1200]\tvalid_0's binary_logloss: 0.503844\n",
      "[1300]\tvalid_0's binary_logloss: 0.50346\n",
      "[1400]\tvalid_0's binary_logloss: 0.503154\n",
      "[1500]\tvalid_0's binary_logloss: 0.502729\n",
      "[1600]\tvalid_0's binary_logloss: 0.502575\n",
      "[1700]\tvalid_0's binary_logloss: 0.50238\n",
      "[1800]\tvalid_0's binary_logloss: 0.502213\n",
      "[1900]\tvalid_0's binary_logloss: 0.502094\n",
      "Early stopping, best iteration is:\n",
      "[1882]\tvalid_0's binary_logloss: 0.502026\n"
     ]
    },
    {
     "name": "stderr",
     "output_type": "stream",
     "text": [
      "\u001b[32m[I 2022-12-07 16:01:19,896]\u001b[0m Trial 3 finished with value: 0.8325649286525453 and parameters: {}. Best is trial 0 with value: 0.8325649286525453.\u001b[0m\n"
     ]
    },
    {
     "name": "stdout",
     "output_type": "stream",
     "text": [
      "VALID AUC : 0.8325649286525453 ACC : 0.7553191489361702\n",
      "\n",
      "model_run_id='90151475ff9c42faaa8255af4f317012'\n",
      "writing prediction : output/12_07_Wed_LGBM_optuna.csv\n",
      "[LightGBM] [Info] Number of positive: 1208276, number of negative: 637263\n",
      "[LightGBM] [Warning] Auto-choosing row-wise multi-threading, the overhead of testing was 0.031503 seconds.\n",
      "You can set `force_row_wise=true` to remove the overhead.\n",
      "And if memory is not enough, you can set `force_col_wise=true`.\n",
      "[LightGBM] [Info] Total Bins 19967\n",
      "[LightGBM] [Info] Number of data points in the train set: 1845539, number of used features: 30\n",
      "[LightGBM] [Info] [binary:BoostFromScore]: pavg=0.654701 -> initscore=0.639767\n",
      "[LightGBM] [Info] Start training from score 0.639767\n",
      "Training until validation scores don't improve for 100 rounds\n",
      "[100]\tvalid_0's binary_logloss: 0.531009\n",
      "[200]\tvalid_0's binary_logloss: 0.517541\n",
      "[300]\tvalid_0's binary_logloss: 0.513531\n",
      "[400]\tvalid_0's binary_logloss: 0.511328\n",
      "[500]\tvalid_0's binary_logloss: 0.509576\n",
      "[600]\tvalid_0's binary_logloss: 0.507943\n",
      "[700]\tvalid_0's binary_logloss: 0.506832\n",
      "[800]\tvalid_0's binary_logloss: 0.505703\n",
      "[900]\tvalid_0's binary_logloss: 0.505156\n",
      "[1000]\tvalid_0's binary_logloss: 0.504698\n",
      "[1100]\tvalid_0's binary_logloss: 0.504322\n",
      "[1200]\tvalid_0's binary_logloss: 0.503844\n",
      "[1300]\tvalid_0's binary_logloss: 0.50346\n",
      "[1400]\tvalid_0's binary_logloss: 0.503154\n",
      "[1500]\tvalid_0's binary_logloss: 0.502729\n",
      "[1600]\tvalid_0's binary_logloss: 0.502575\n",
      "[1700]\tvalid_0's binary_logloss: 0.50238\n",
      "[1800]\tvalid_0's binary_logloss: 0.502213\n",
      "[1900]\tvalid_0's binary_logloss: 0.502094\n",
      "Early stopping, best iteration is:\n",
      "[1882]\tvalid_0's binary_logloss: 0.502026\n"
     ]
    },
    {
     "name": "stderr",
     "output_type": "stream",
     "text": [
      "\u001b[32m[I 2022-12-07 16:04:09,921]\u001b[0m Trial 4 finished with value: 0.8325649286525453 and parameters: {}. Best is trial 0 with value: 0.8325649286525453.\u001b[0m\n"
     ]
    },
    {
     "name": "stdout",
     "output_type": "stream",
     "text": [
      "VALID AUC : 0.8325649286525453 ACC : 0.7553191489361702\n",
      "\n",
      "model_run_id='b463e713601d4bc59fc04aa715083426'\n",
      "writing prediction : output/12_07_Wed_LGBM_optuna.csv\n",
      "[LightGBM] [Info] Number of positive: 1208276, number of negative: 637263\n",
      "[LightGBM] [Warning] Auto-choosing row-wise multi-threading, the overhead of testing was 0.031270 seconds.\n",
      "You can set `force_row_wise=true` to remove the overhead.\n",
      "And if memory is not enough, you can set `force_col_wise=true`.\n",
      "[LightGBM] [Info] Total Bins 19967\n",
      "[LightGBM] [Info] Number of data points in the train set: 1845539, number of used features: 30\n",
      "[LightGBM] [Info] [binary:BoostFromScore]: pavg=0.654701 -> initscore=0.639767\n",
      "[LightGBM] [Info] Start training from score 0.639767\n",
      "Training until validation scores don't improve for 100 rounds\n",
      "[100]\tvalid_0's binary_logloss: 0.531009\n",
      "[200]\tvalid_0's binary_logloss: 0.517541\n",
      "[300]\tvalid_0's binary_logloss: 0.513531\n",
      "[400]\tvalid_0's binary_logloss: 0.511328\n",
      "[500]\tvalid_0's binary_logloss: 0.509576\n",
      "[600]\tvalid_0's binary_logloss: 0.507943\n",
      "[700]\tvalid_0's binary_logloss: 0.506832\n",
      "[800]\tvalid_0's binary_logloss: 0.505703\n",
      "[900]\tvalid_0's binary_logloss: 0.505156\n",
      "[1000]\tvalid_0's binary_logloss: 0.504698\n",
      "[1100]\tvalid_0's binary_logloss: 0.504322\n",
      "[1200]\tvalid_0's binary_logloss: 0.503844\n",
      "[1300]\tvalid_0's binary_logloss: 0.50346\n",
      "[1400]\tvalid_0's binary_logloss: 0.503154\n",
      "[1500]\tvalid_0's binary_logloss: 0.502729\n",
      "[1600]\tvalid_0's binary_logloss: 0.502575\n",
      "[1700]\tvalid_0's binary_logloss: 0.50238\n",
      "[1800]\tvalid_0's binary_logloss: 0.502213\n",
      "[1900]\tvalid_0's binary_logloss: 0.502094\n",
      "Early stopping, best iteration is:\n",
      "[1882]\tvalid_0's binary_logloss: 0.502026\n"
     ]
    },
    {
     "name": "stderr",
     "output_type": "stream",
     "text": [
      "\u001b[32m[I 2022-12-07 16:07:01,360]\u001b[0m Trial 5 finished with value: 0.8325649286525453 and parameters: {}. Best is trial 0 with value: 0.8325649286525453.\u001b[0m\n"
     ]
    },
    {
     "name": "stdout",
     "output_type": "stream",
     "text": [
      "VALID AUC : 0.8325649286525453 ACC : 0.7553191489361702\n",
      "\n",
      "model_run_id='d80d2fd30e0c415eae00df7528fe2591'\n",
      "writing prediction : output/12_07_Wed_LGBM_optuna.csv\n",
      "[LightGBM] [Info] Number of positive: 1208276, number of negative: 637263\n",
      "[LightGBM] [Warning] Auto-choosing row-wise multi-threading, the overhead of testing was 0.034513 seconds.\n",
      "You can set `force_row_wise=true` to remove the overhead.\n",
      "And if memory is not enough, you can set `force_col_wise=true`.\n",
      "[LightGBM] [Info] Total Bins 19967\n",
      "[LightGBM] [Info] Number of data points in the train set: 1845539, number of used features: 30\n",
      "[LightGBM] [Info] [binary:BoostFromScore]: pavg=0.654701 -> initscore=0.639767\n",
      "[LightGBM] [Info] Start training from score 0.639767\n",
      "Training until validation scores don't improve for 100 rounds\n",
      "[100]\tvalid_0's binary_logloss: 0.531009\n",
      "[200]\tvalid_0's binary_logloss: 0.517541\n",
      "[300]\tvalid_0's binary_logloss: 0.513531\n",
      "[400]\tvalid_0's binary_logloss: 0.511328\n",
      "[500]\tvalid_0's binary_logloss: 0.509576\n",
      "[600]\tvalid_0's binary_logloss: 0.507943\n",
      "[700]\tvalid_0's binary_logloss: 0.506832\n",
      "[800]\tvalid_0's binary_logloss: 0.505703\n",
      "[900]\tvalid_0's binary_logloss: 0.505156\n",
      "[1000]\tvalid_0's binary_logloss: 0.504698\n",
      "[1100]\tvalid_0's binary_logloss: 0.504322\n",
      "[1200]\tvalid_0's binary_logloss: 0.503844\n",
      "[1300]\tvalid_0's binary_logloss: 0.50346\n",
      "[1400]\tvalid_0's binary_logloss: 0.503154\n",
      "[1500]\tvalid_0's binary_logloss: 0.502729\n",
      "[1600]\tvalid_0's binary_logloss: 0.502575\n",
      "[1700]\tvalid_0's binary_logloss: 0.50238\n",
      "[1800]\tvalid_0's binary_logloss: 0.502213\n",
      "[1900]\tvalid_0's binary_logloss: 0.502094\n",
      "Early stopping, best iteration is:\n",
      "[1882]\tvalid_0's binary_logloss: 0.502026\n"
     ]
    },
    {
     "name": "stderr",
     "output_type": "stream",
     "text": [
      "\u001b[32m[I 2022-12-07 16:09:51,604]\u001b[0m Trial 6 finished with value: 0.8325649286525453 and parameters: {}. Best is trial 0 with value: 0.8325649286525453.\u001b[0m\n"
     ]
    },
    {
     "name": "stdout",
     "output_type": "stream",
     "text": [
      "VALID AUC : 0.8325649286525453 ACC : 0.7553191489361702\n",
      "\n",
      "model_run_id='f2be83f9ac7d4896afa316e4a18b1333'\n",
      "writing prediction : output/12_07_Wed_LGBM_optuna.csv\n",
      "[LightGBM] [Info] Number of positive: 1208276, number of negative: 637263\n",
      "[LightGBM] [Warning] Auto-choosing row-wise multi-threading, the overhead of testing was 0.031024 seconds.\n",
      "You can set `force_row_wise=true` to remove the overhead.\n",
      "And if memory is not enough, you can set `force_col_wise=true`.\n",
      "[LightGBM] [Info] Total Bins 19967\n",
      "[LightGBM] [Info] Number of data points in the train set: 1845539, number of used features: 30\n",
      "[LightGBM] [Info] [binary:BoostFromScore]: pavg=0.654701 -> initscore=0.639767\n",
      "[LightGBM] [Info] Start training from score 0.639767\n",
      "Training until validation scores don't improve for 100 rounds\n",
      "[100]\tvalid_0's binary_logloss: 0.531009\n",
      "[200]\tvalid_0's binary_logloss: 0.517541\n",
      "[300]\tvalid_0's binary_logloss: 0.513531\n",
      "[400]\tvalid_0's binary_logloss: 0.511328\n",
      "[500]\tvalid_0's binary_logloss: 0.509576\n",
      "[600]\tvalid_0's binary_logloss: 0.507943\n",
      "[700]\tvalid_0's binary_logloss: 0.506832\n",
      "[800]\tvalid_0's binary_logloss: 0.505703\n",
      "[900]\tvalid_0's binary_logloss: 0.505156\n",
      "[1000]\tvalid_0's binary_logloss: 0.504698\n",
      "[1100]\tvalid_0's binary_logloss: 0.504322\n",
      "[1200]\tvalid_0's binary_logloss: 0.503844\n",
      "[1300]\tvalid_0's binary_logloss: 0.50346\n",
      "[1400]\tvalid_0's binary_logloss: 0.503154\n",
      "[1500]\tvalid_0's binary_logloss: 0.502729\n",
      "[1600]\tvalid_0's binary_logloss: 0.502575\n",
      "[1700]\tvalid_0's binary_logloss: 0.50238\n",
      "[1800]\tvalid_0's binary_logloss: 0.502213\n",
      "[1900]\tvalid_0's binary_logloss: 0.502094\n",
      "Early stopping, best iteration is:\n",
      "[1882]\tvalid_0's binary_logloss: 0.502026\n"
     ]
    },
    {
     "name": "stderr",
     "output_type": "stream",
     "text": [
      "\u001b[32m[I 2022-12-07 16:12:41,997]\u001b[0m Trial 7 finished with value: 0.8325649286525453 and parameters: {}. Best is trial 0 with value: 0.8325649286525453.\u001b[0m\n"
     ]
    },
    {
     "name": "stdout",
     "output_type": "stream",
     "text": [
      "VALID AUC : 0.8325649286525453 ACC : 0.7553191489361702\n",
      "\n",
      "model_run_id='4b338f415f57447ea2a075d638f43d01'\n",
      "writing prediction : output/12_07_Wed_LGBM_optuna.csv\n",
      "[LightGBM] [Info] Number of positive: 1208276, number of negative: 637263\n",
      "[LightGBM] [Warning] Auto-choosing row-wise multi-threading, the overhead of testing was 0.031195 seconds.\n",
      "You can set `force_row_wise=true` to remove the overhead.\n",
      "And if memory is not enough, you can set `force_col_wise=true`.\n",
      "[LightGBM] [Info] Total Bins 19967\n",
      "[LightGBM] [Info] Number of data points in the train set: 1845539, number of used features: 30\n",
      "[LightGBM] [Info] [binary:BoostFromScore]: pavg=0.654701 -> initscore=0.639767\n",
      "[LightGBM] [Info] Start training from score 0.639767\n",
      "Training until validation scores don't improve for 100 rounds\n",
      "[100]\tvalid_0's binary_logloss: 0.531009\n",
      "[200]\tvalid_0's binary_logloss: 0.517541\n",
      "[300]\tvalid_0's binary_logloss: 0.513531\n",
      "[400]\tvalid_0's binary_logloss: 0.511328\n",
      "[500]\tvalid_0's binary_logloss: 0.509576\n"
     ]
    },
    {
     "name": "stderr",
     "output_type": "stream",
     "text": [
      "\u001b[33m[W 2022-12-07 16:13:33,900]\u001b[0m Trial 8 failed because of the following error: KeyboardInterrupt()\u001b[0m\n",
      "Traceback (most recent call last):\n",
      "  File \"/opt/conda/envs/dkt2/lib/python3.9/site-packages/optuna/study/_optimize.py\", line 196, in _run_trial\n",
      "    value_or_values = func(trial)\n",
      "  File \"/tmp/ipykernel_43002/3976119615.py\", line 67, in objective\n",
      "    model_lgbm = lgb.train(\n",
      "  File \"/opt/conda/envs/dkt2/lib/python3.9/site-packages/mlflow/utils/autologging_utils/safety.py\", line 555, in safe_patch_function\n",
      "    patch_function(call_original, *args, **kwargs)\n",
      "  File \"/opt/conda/envs/dkt2/lib/python3.9/site-packages/mlflow/utils/autologging_utils/safety.py\", line 254, in patch_with_managed_run\n",
      "    result = patch_function(original, *args, **kwargs)\n",
      "  File \"/opt/conda/envs/dkt2/lib/python3.9/site-packages/mlflow/lightgbm.py\", line 582, in train\n",
      "    model = original(*args, **kwargs)\n",
      "  File \"/opt/conda/envs/dkt2/lib/python3.9/site-packages/mlflow/utils/autologging_utils/safety.py\", line 536, in call_original\n",
      "    return call_original_fn_with_event_logging(_original_fn, og_args, og_kwargs)\n",
      "  File \"/opt/conda/envs/dkt2/lib/python3.9/site-packages/mlflow/utils/autologging_utils/safety.py\", line 471, in call_original_fn_with_event_logging\n",
      "    original_fn_result = original_fn(*og_args, **og_kwargs)\n",
      "  File \"/opt/conda/envs/dkt2/lib/python3.9/site-packages/mlflow/utils/autologging_utils/safety.py\", line 533, in _original_fn\n",
      "    original_result = original(*_og_args, **_og_kwargs)\n",
      "  File \"/opt/conda/envs/dkt2/lib/python3.9/site-packages/lightgbm/engine.py\", line 292, in train\n",
      "    booster.update(fobj=fobj)\n",
      "  File \"/opt/conda/envs/dkt2/lib/python3.9/site-packages/lightgbm/basic.py\", line 3021, in update\n",
      "    _safe_call(_LIB.LGBM_BoosterUpdateOneIter(\n",
      "KeyboardInterrupt\n"
     ]
    },
    {
     "ename": "KeyboardInterrupt",
     "evalue": "",
     "output_type": "error",
     "traceback": [
      "\u001b[0;31m---------------------------------------------------------------------------\u001b[0m",
      "\u001b[0;31mKeyboardInterrupt\u001b[0m                         Traceback (most recent call last)",
      "Cell \u001b[0;32mIn[9], line 7\u001b[0m\n\u001b[1;32m      1\u001b[0m sampler \u001b[38;5;241m=\u001b[39m TPESampler(seed\u001b[38;5;241m=\u001b[39m\u001b[38;5;241m42\u001b[39m)\n\u001b[1;32m      2\u001b[0m study \u001b[38;5;241m=\u001b[39m optuna\u001b[38;5;241m.\u001b[39mcreate_study(\n\u001b[1;32m      3\u001b[0m     study_name\u001b[38;5;241m=\u001b[39m\u001b[38;5;124m\"\u001b[39m\u001b[38;5;124mlgbm_parameter_opt\u001b[39m\u001b[38;5;124m\"\u001b[39m,\n\u001b[1;32m      4\u001b[0m     direction\u001b[38;5;241m=\u001b[39m\u001b[38;5;124m\"\u001b[39m\u001b[38;5;124mmaximize\u001b[39m\u001b[38;5;124m\"\u001b[39m,\n\u001b[1;32m      5\u001b[0m     sampler\u001b[38;5;241m=\u001b[39msampler,\n\u001b[1;32m      6\u001b[0m )\n\u001b[0;32m----> 7\u001b[0m \u001b[43mstudy\u001b[49m\u001b[38;5;241;43m.\u001b[39;49m\u001b[43moptimize\u001b[49m\u001b[43m(\u001b[49m\u001b[43mobjective\u001b[49m\u001b[43m,\u001b[49m\u001b[43m \u001b[49m\u001b[43mn_trials\u001b[49m\u001b[38;5;241;43m=\u001b[39;49m\u001b[38;5;241;43m10\u001b[39;49m\u001b[43m)\u001b[49m\n\u001b[1;32m      8\u001b[0m \u001b[38;5;28mprint\u001b[39m(\u001b[38;5;124m\"\u001b[39m\u001b[38;5;124mBest Score:\u001b[39m\u001b[38;5;124m\"\u001b[39m, study\u001b[38;5;241m.\u001b[39mbest_value)\n\u001b[1;32m      9\u001b[0m \u001b[38;5;28mprint\u001b[39m(\u001b[38;5;124m\"\u001b[39m\u001b[38;5;124mBest trial:\u001b[39m\u001b[38;5;124m\"\u001b[39m, study\u001b[38;5;241m.\u001b[39mbest_trial\u001b[38;5;241m.\u001b[39mparams)\n",
      "File \u001b[0;32m/opt/conda/envs/dkt2/lib/python3.9/site-packages/optuna/study/study.py:419\u001b[0m, in \u001b[0;36mStudy.optimize\u001b[0;34m(self, func, n_trials, timeout, n_jobs, catch, callbacks, gc_after_trial, show_progress_bar)\u001b[0m\n\u001b[1;32m    315\u001b[0m \u001b[38;5;28;01mdef\u001b[39;00m \u001b[38;5;21moptimize\u001b[39m(\n\u001b[1;32m    316\u001b[0m     \u001b[38;5;28mself\u001b[39m,\n\u001b[1;32m    317\u001b[0m     func: ObjectiveFuncType,\n\u001b[0;32m   (...)\u001b[0m\n\u001b[1;32m    324\u001b[0m     show_progress_bar: \u001b[38;5;28mbool\u001b[39m \u001b[38;5;241m=\u001b[39m \u001b[38;5;28;01mFalse\u001b[39;00m,\n\u001b[1;32m    325\u001b[0m ) \u001b[38;5;241m-\u001b[39m\u001b[38;5;241m>\u001b[39m \u001b[38;5;28;01mNone\u001b[39;00m:\n\u001b[1;32m    326\u001b[0m     \u001b[38;5;124;03m\"\"\"Optimize an objective function.\u001b[39;00m\n\u001b[1;32m    327\u001b[0m \n\u001b[1;32m    328\u001b[0m \u001b[38;5;124;03m    Optimization is done by choosing a suitable set of hyperparameter values from a given\u001b[39;00m\n\u001b[0;32m   (...)\u001b[0m\n\u001b[1;32m    416\u001b[0m \u001b[38;5;124;03m            If nested invocation of this method occurs.\u001b[39;00m\n\u001b[1;32m    417\u001b[0m \u001b[38;5;124;03m    \"\"\"\u001b[39;00m\n\u001b[0;32m--> 419\u001b[0m     \u001b[43m_optimize\u001b[49m\u001b[43m(\u001b[49m\n\u001b[1;32m    420\u001b[0m \u001b[43m        \u001b[49m\u001b[43mstudy\u001b[49m\u001b[38;5;241;43m=\u001b[39;49m\u001b[38;5;28;43mself\u001b[39;49m\u001b[43m,\u001b[49m\n\u001b[1;32m    421\u001b[0m \u001b[43m        \u001b[49m\u001b[43mfunc\u001b[49m\u001b[38;5;241;43m=\u001b[39;49m\u001b[43mfunc\u001b[49m\u001b[43m,\u001b[49m\n\u001b[1;32m    422\u001b[0m \u001b[43m        \u001b[49m\u001b[43mn_trials\u001b[49m\u001b[38;5;241;43m=\u001b[39;49m\u001b[43mn_trials\u001b[49m\u001b[43m,\u001b[49m\n\u001b[1;32m    423\u001b[0m \u001b[43m        \u001b[49m\u001b[43mtimeout\u001b[49m\u001b[38;5;241;43m=\u001b[39;49m\u001b[43mtimeout\u001b[49m\u001b[43m,\u001b[49m\n\u001b[1;32m    424\u001b[0m \u001b[43m        \u001b[49m\u001b[43mn_jobs\u001b[49m\u001b[38;5;241;43m=\u001b[39;49m\u001b[43mn_jobs\u001b[49m\u001b[43m,\u001b[49m\n\u001b[1;32m    425\u001b[0m \u001b[43m        \u001b[49m\u001b[43mcatch\u001b[49m\u001b[38;5;241;43m=\u001b[39;49m\u001b[43mcatch\u001b[49m\u001b[43m,\u001b[49m\n\u001b[1;32m    426\u001b[0m \u001b[43m        \u001b[49m\u001b[43mcallbacks\u001b[49m\u001b[38;5;241;43m=\u001b[39;49m\u001b[43mcallbacks\u001b[49m\u001b[43m,\u001b[49m\n\u001b[1;32m    427\u001b[0m \u001b[43m        \u001b[49m\u001b[43mgc_after_trial\u001b[49m\u001b[38;5;241;43m=\u001b[39;49m\u001b[43mgc_after_trial\u001b[49m\u001b[43m,\u001b[49m\n\u001b[1;32m    428\u001b[0m \u001b[43m        \u001b[49m\u001b[43mshow_progress_bar\u001b[49m\u001b[38;5;241;43m=\u001b[39;49m\u001b[43mshow_progress_bar\u001b[49m\u001b[43m,\u001b[49m\n\u001b[1;32m    429\u001b[0m \u001b[43m    \u001b[49m\u001b[43m)\u001b[49m\n",
      "File \u001b[0;32m/opt/conda/envs/dkt2/lib/python3.9/site-packages/optuna/study/_optimize.py:66\u001b[0m, in \u001b[0;36m_optimize\u001b[0;34m(study, func, n_trials, timeout, n_jobs, catch, callbacks, gc_after_trial, show_progress_bar)\u001b[0m\n\u001b[1;32m     64\u001b[0m \u001b[38;5;28;01mtry\u001b[39;00m:\n\u001b[1;32m     65\u001b[0m     \u001b[38;5;28;01mif\u001b[39;00m n_jobs \u001b[38;5;241m==\u001b[39m \u001b[38;5;241m1\u001b[39m:\n\u001b[0;32m---> 66\u001b[0m         \u001b[43m_optimize_sequential\u001b[49m\u001b[43m(\u001b[49m\n\u001b[1;32m     67\u001b[0m \u001b[43m            \u001b[49m\u001b[43mstudy\u001b[49m\u001b[43m,\u001b[49m\n\u001b[1;32m     68\u001b[0m \u001b[43m            \u001b[49m\u001b[43mfunc\u001b[49m\u001b[43m,\u001b[49m\n\u001b[1;32m     69\u001b[0m \u001b[43m            \u001b[49m\u001b[43mn_trials\u001b[49m\u001b[43m,\u001b[49m\n\u001b[1;32m     70\u001b[0m \u001b[43m            \u001b[49m\u001b[43mtimeout\u001b[49m\u001b[43m,\u001b[49m\n\u001b[1;32m     71\u001b[0m \u001b[43m            \u001b[49m\u001b[43mcatch\u001b[49m\u001b[43m,\u001b[49m\n\u001b[1;32m     72\u001b[0m \u001b[43m            \u001b[49m\u001b[43mcallbacks\u001b[49m\u001b[43m,\u001b[49m\n\u001b[1;32m     73\u001b[0m \u001b[43m            \u001b[49m\u001b[43mgc_after_trial\u001b[49m\u001b[43m,\u001b[49m\n\u001b[1;32m     74\u001b[0m \u001b[43m            \u001b[49m\u001b[43mreseed_sampler_rng\u001b[49m\u001b[38;5;241;43m=\u001b[39;49m\u001b[38;5;28;43;01mFalse\u001b[39;49;00m\u001b[43m,\u001b[49m\n\u001b[1;32m     75\u001b[0m \u001b[43m            \u001b[49m\u001b[43mtime_start\u001b[49m\u001b[38;5;241;43m=\u001b[39;49m\u001b[38;5;28;43;01mNone\u001b[39;49;00m\u001b[43m,\u001b[49m\n\u001b[1;32m     76\u001b[0m \u001b[43m            \u001b[49m\u001b[43mprogress_bar\u001b[49m\u001b[38;5;241;43m=\u001b[39;49m\u001b[43mprogress_bar\u001b[49m\u001b[43m,\u001b[49m\n\u001b[1;32m     77\u001b[0m \u001b[43m        \u001b[49m\u001b[43m)\u001b[49m\n\u001b[1;32m     78\u001b[0m     \u001b[38;5;28;01melse\u001b[39;00m:\n\u001b[1;32m     79\u001b[0m         \u001b[38;5;28;01mif\u001b[39;00m n_jobs \u001b[38;5;241m==\u001b[39m \u001b[38;5;241m-\u001b[39m\u001b[38;5;241m1\u001b[39m:\n",
      "File \u001b[0;32m/opt/conda/envs/dkt2/lib/python3.9/site-packages/optuna/study/_optimize.py:160\u001b[0m, in \u001b[0;36m_optimize_sequential\u001b[0;34m(study, func, n_trials, timeout, catch, callbacks, gc_after_trial, reseed_sampler_rng, time_start, progress_bar)\u001b[0m\n\u001b[1;32m    157\u001b[0m         \u001b[38;5;28;01mbreak\u001b[39;00m\n\u001b[1;32m    159\u001b[0m \u001b[38;5;28;01mtry\u001b[39;00m:\n\u001b[0;32m--> 160\u001b[0m     frozen_trial \u001b[38;5;241m=\u001b[39m \u001b[43m_run_trial\u001b[49m\u001b[43m(\u001b[49m\u001b[43mstudy\u001b[49m\u001b[43m,\u001b[49m\u001b[43m \u001b[49m\u001b[43mfunc\u001b[49m\u001b[43m,\u001b[49m\u001b[43m \u001b[49m\u001b[43mcatch\u001b[49m\u001b[43m)\u001b[49m\n\u001b[1;32m    161\u001b[0m \u001b[38;5;28;01mfinally\u001b[39;00m:\n\u001b[1;32m    162\u001b[0m     \u001b[38;5;66;03m# The following line mitigates memory problems that can be occurred in some\u001b[39;00m\n\u001b[1;32m    163\u001b[0m     \u001b[38;5;66;03m# environments (e.g., services that use computing containers such as CircleCI).\u001b[39;00m\n\u001b[1;32m    164\u001b[0m     \u001b[38;5;66;03m# Please refer to the following PR for further details:\u001b[39;00m\n\u001b[1;32m    165\u001b[0m     \u001b[38;5;66;03m# https://github.com/optuna/optuna/pull/325.\u001b[39;00m\n\u001b[1;32m    166\u001b[0m     \u001b[38;5;28;01mif\u001b[39;00m gc_after_trial:\n",
      "File \u001b[0;32m/opt/conda/envs/dkt2/lib/python3.9/site-packages/optuna/study/_optimize.py:234\u001b[0m, in \u001b[0;36m_run_trial\u001b[0;34m(study, func, catch)\u001b[0m\n\u001b[1;32m    227\u001b[0m         \u001b[38;5;28;01massert\u001b[39;00m \u001b[38;5;28;01mFalse\u001b[39;00m, \u001b[38;5;124m\"\u001b[39m\u001b[38;5;124mShould not reach.\u001b[39m\u001b[38;5;124m\"\u001b[39m\n\u001b[1;32m    229\u001b[0m \u001b[38;5;28;01mif\u001b[39;00m (\n\u001b[1;32m    230\u001b[0m     frozen_trial\u001b[38;5;241m.\u001b[39mstate \u001b[38;5;241m==\u001b[39m TrialState\u001b[38;5;241m.\u001b[39mFAIL\n\u001b[1;32m    231\u001b[0m     \u001b[38;5;129;01mand\u001b[39;00m func_err \u001b[38;5;129;01mis\u001b[39;00m \u001b[38;5;129;01mnot\u001b[39;00m \u001b[38;5;28;01mNone\u001b[39;00m\n\u001b[1;32m    232\u001b[0m     \u001b[38;5;129;01mand\u001b[39;00m \u001b[38;5;129;01mnot\u001b[39;00m \u001b[38;5;28misinstance\u001b[39m(func_err, catch)\n\u001b[1;32m    233\u001b[0m ):\n\u001b[0;32m--> 234\u001b[0m     \u001b[38;5;28;01mraise\u001b[39;00m func_err\n\u001b[1;32m    235\u001b[0m \u001b[38;5;28;01mreturn\u001b[39;00m frozen_trial\n",
      "File \u001b[0;32m/opt/conda/envs/dkt2/lib/python3.9/site-packages/optuna/study/_optimize.py:196\u001b[0m, in \u001b[0;36m_run_trial\u001b[0;34m(study, func, catch)\u001b[0m\n\u001b[1;32m    194\u001b[0m \u001b[38;5;28;01mwith\u001b[39;00m get_heartbeat_thread(trial\u001b[38;5;241m.\u001b[39m_trial_id, study\u001b[38;5;241m.\u001b[39m_storage):\n\u001b[1;32m    195\u001b[0m     \u001b[38;5;28;01mtry\u001b[39;00m:\n\u001b[0;32m--> 196\u001b[0m         value_or_values \u001b[38;5;241m=\u001b[39m \u001b[43mfunc\u001b[49m\u001b[43m(\u001b[49m\u001b[43mtrial\u001b[49m\u001b[43m)\u001b[49m\n\u001b[1;32m    197\u001b[0m     \u001b[38;5;28;01mexcept\u001b[39;00m exceptions\u001b[38;5;241m.\u001b[39mTrialPruned \u001b[38;5;28;01mas\u001b[39;00m e:\n\u001b[1;32m    198\u001b[0m         \u001b[38;5;66;03m# TODO(mamu): Handle multi-objective cases.\u001b[39;00m\n\u001b[1;32m    199\u001b[0m         state \u001b[38;5;241m=\u001b[39m TrialState\u001b[38;5;241m.\u001b[39mPRUNED\n",
      "Cell \u001b[0;32mIn[8], line 67\u001b[0m, in \u001b[0;36mobjective\u001b[0;34m(trial)\u001b[0m\n\u001b[1;32m     64\u001b[0m lgb_x_valid \u001b[38;5;241m=\u001b[39m lgb\u001b[38;5;241m.\u001b[39mDataset(x_valid[FEATS], y_valid)\n\u001b[1;32m     66\u001b[0m \u001b[38;5;28;01mwith\u001b[39;00m mlflow\u001b[38;5;241m.\u001b[39mstart_run(run_name\u001b[38;5;241m=\u001b[39mtitle, description\u001b[38;5;241m=\u001b[39mdesc) \u001b[38;5;28;01mas\u001b[39;00m run:\n\u001b[0;32m---> 67\u001b[0m     model_lgbm \u001b[38;5;241m=\u001b[39m \u001b[43mlgb\u001b[49m\u001b[38;5;241;43m.\u001b[39;49m\u001b[43mtrain\u001b[49m\u001b[43m(\u001b[49m\n\u001b[1;32m     68\u001b[0m \u001b[43m        \u001b[49m\u001b[43mparams\u001b[49m\u001b[43m,\u001b[49m\u001b[43m \u001b[49m\n\u001b[1;32m     69\u001b[0m \u001b[43m        \u001b[49m\u001b[43mlgb_x_train\u001b[49m\u001b[43m,\u001b[49m\n\u001b[1;32m     70\u001b[0m \u001b[43m        \u001b[49m\u001b[43mvalid_sets\u001b[49m\u001b[38;5;241;43m=\u001b[39;49m\u001b[43m[\u001b[49m\u001b[43mlgb_x_valid\u001b[49m\u001b[43m]\u001b[49m\u001b[43m,\u001b[49m\n\u001b[1;32m     71\u001b[0m \u001b[43m        \u001b[49m\u001b[43mverbose_eval\u001b[49m\u001b[38;5;241;43m=\u001b[39;49m\u001b[38;5;241;43m100\u001b[39;49m\u001b[43m,\u001b[49m\n\u001b[1;32m     72\u001b[0m \u001b[43m        \u001b[49m\u001b[43mnum_boost_round\u001b[49m\u001b[38;5;241;43m=\u001b[39;49m\u001b[38;5;241;43m3200\u001b[39;49m\u001b[43m,\u001b[49m\n\u001b[1;32m     73\u001b[0m \u001b[43m        \u001b[49m\u001b[43mcategorical_feature\u001b[49m\u001b[38;5;241;43m=\u001b[39;49m\u001b[43mcat_feats_idx\u001b[49m\u001b[43m,\u001b[49m\n\u001b[1;32m     74\u001b[0m \u001b[43m        \u001b[49m\u001b[43mearly_stopping_rounds\u001b[49m\u001b[38;5;241;43m=\u001b[39;49m\u001b[38;5;241;43m100\u001b[39;49m\u001b[43m,\u001b[49m\n\u001b[1;32m     75\u001b[0m \u001b[43m    \u001b[49m\u001b[43m)\u001b[49m\n\u001b[1;32m     76\u001b[0m     preds \u001b[38;5;241m=\u001b[39m model_lgbm\u001b[38;5;241m.\u001b[39mpredict(x_valid[FEATS])\n\u001b[1;32m     77\u001b[0m     acc \u001b[38;5;241m=\u001b[39m accuracy_score(y_valid, np\u001b[38;5;241m.\u001b[39mwhere(preds \u001b[38;5;241m>\u001b[39m\u001b[38;5;241m=\u001b[39m \u001b[38;5;241m0.5\u001b[39m, \u001b[38;5;241m1\u001b[39m, \u001b[38;5;241m0\u001b[39m))\n",
      "File \u001b[0;32m/opt/conda/envs/dkt2/lib/python3.9/site-packages/mlflow/utils/autologging_utils/safety.py:555\u001b[0m, in \u001b[0;36msafe_patch.<locals>.safe_patch_function\u001b[0;34m(*args, **kwargs)\u001b[0m\n\u001b[1;32m    553\u001b[0m     patch_function\u001b[38;5;241m.\u001b[39mcall(call_original, \u001b[38;5;241m*\u001b[39margs, \u001b[38;5;241m*\u001b[39m\u001b[38;5;241m*\u001b[39mkwargs)\n\u001b[1;32m    554\u001b[0m \u001b[38;5;28;01melse\u001b[39;00m:\n\u001b[0;32m--> 555\u001b[0m     \u001b[43mpatch_function\u001b[49m\u001b[43m(\u001b[49m\u001b[43mcall_original\u001b[49m\u001b[43m,\u001b[49m\u001b[43m \u001b[49m\u001b[38;5;241;43m*\u001b[39;49m\u001b[43margs\u001b[49m\u001b[43m,\u001b[49m\u001b[43m \u001b[49m\u001b[38;5;241;43m*\u001b[39;49m\u001b[38;5;241;43m*\u001b[39;49m\u001b[43mkwargs\u001b[49m\u001b[43m)\u001b[49m\n\u001b[1;32m    557\u001b[0m session\u001b[38;5;241m.\u001b[39mstate \u001b[38;5;241m=\u001b[39m \u001b[38;5;124m\"\u001b[39m\u001b[38;5;124msucceeded\u001b[39m\u001b[38;5;124m\"\u001b[39m\n\u001b[1;32m    559\u001b[0m try_log_autologging_event(\n\u001b[1;32m    560\u001b[0m     AutologgingEventLogger\u001b[38;5;241m.\u001b[39mget_logger()\u001b[38;5;241m.\u001b[39mlog_patch_function_success,\n\u001b[1;32m    561\u001b[0m     session,\n\u001b[0;32m   (...)\u001b[0m\n\u001b[1;32m    565\u001b[0m     kwargs,\n\u001b[1;32m    566\u001b[0m )\n",
      "File \u001b[0;32m/opt/conda/envs/dkt2/lib/python3.9/site-packages/mlflow/utils/autologging_utils/safety.py:254\u001b[0m, in \u001b[0;36mwith_managed_run.<locals>.patch_with_managed_run\u001b[0;34m(original, *args, **kwargs)\u001b[0m\n\u001b[1;32m    251\u001b[0m     managed_run \u001b[38;5;241m=\u001b[39m create_managed_run()\n\u001b[1;32m    253\u001b[0m \u001b[38;5;28;01mtry\u001b[39;00m:\n\u001b[0;32m--> 254\u001b[0m     result \u001b[38;5;241m=\u001b[39m \u001b[43mpatch_function\u001b[49m\u001b[43m(\u001b[49m\u001b[43moriginal\u001b[49m\u001b[43m,\u001b[49m\u001b[43m \u001b[49m\u001b[38;5;241;43m*\u001b[39;49m\u001b[43margs\u001b[49m\u001b[43m,\u001b[49m\u001b[43m \u001b[49m\u001b[38;5;241;43m*\u001b[39;49m\u001b[38;5;241;43m*\u001b[39;49m\u001b[43mkwargs\u001b[49m\u001b[43m)\u001b[49m\n\u001b[1;32m    255\u001b[0m \u001b[38;5;28;01mexcept\u001b[39;00m (\u001b[38;5;167;01mException\u001b[39;00m, \u001b[38;5;167;01mKeyboardInterrupt\u001b[39;00m):\n\u001b[1;32m    256\u001b[0m     \u001b[38;5;66;03m# In addition to standard Python exceptions, handle keyboard interrupts to ensure\u001b[39;00m\n\u001b[1;32m    257\u001b[0m     \u001b[38;5;66;03m# that runs are terminated if a user prematurely interrupts training execution\u001b[39;00m\n\u001b[1;32m    258\u001b[0m     \u001b[38;5;66;03m# (e.g. via sigint / ctrl-c)\u001b[39;00m\n\u001b[1;32m    259\u001b[0m     \u001b[38;5;28;01mif\u001b[39;00m managed_run:\n",
      "File \u001b[0;32m/opt/conda/envs/dkt2/lib/python3.9/site-packages/mlflow/lightgbm.py:582\u001b[0m, in \u001b[0;36mautolog.<locals>.train\u001b[0;34m(_log_models, original, *args, **kwargs)\u001b[0m\n\u001b[1;32m    579\u001b[0m     kwargs[\u001b[38;5;124m\"\u001b[39m\u001b[38;5;124mcallbacks\u001b[39m\u001b[38;5;124m\"\u001b[39m] \u001b[38;5;241m=\u001b[39m [callback]\n\u001b[1;32m    581\u001b[0m \u001b[38;5;66;03m# training model\u001b[39;00m\n\u001b[0;32m--> 582\u001b[0m model \u001b[38;5;241m=\u001b[39m \u001b[43moriginal\u001b[49m\u001b[43m(\u001b[49m\u001b[38;5;241;43m*\u001b[39;49m\u001b[43margs\u001b[49m\u001b[43m,\u001b[49m\u001b[43m \u001b[49m\u001b[38;5;241;43m*\u001b[39;49m\u001b[38;5;241;43m*\u001b[39;49m\u001b[43mkwargs\u001b[49m\u001b[43m)\u001b[49m\n\u001b[1;32m    584\u001b[0m \u001b[38;5;66;03m# If early stopping is activated, logging metrics at the best iteration\u001b[39;00m\n\u001b[1;32m    585\u001b[0m \u001b[38;5;66;03m# as extra metrics with the max step + 1.\u001b[39;00m\n\u001b[1;32m    586\u001b[0m early_stopping \u001b[38;5;241m=\u001b[39m model\u001b[38;5;241m.\u001b[39mbest_iteration \u001b[38;5;241m>\u001b[39m \u001b[38;5;241m0\u001b[39m\n",
      "File \u001b[0;32m/opt/conda/envs/dkt2/lib/python3.9/site-packages/mlflow/utils/autologging_utils/safety.py:536\u001b[0m, in \u001b[0;36msafe_patch.<locals>.safe_patch_function.<locals>.call_original\u001b[0;34m(*og_args, **og_kwargs)\u001b[0m\n\u001b[1;32m    533\u001b[0m         original_result \u001b[38;5;241m=\u001b[39m original(\u001b[38;5;241m*\u001b[39m_og_args, \u001b[38;5;241m*\u001b[39m\u001b[38;5;241m*\u001b[39m_og_kwargs)\n\u001b[1;32m    534\u001b[0m         \u001b[38;5;28;01mreturn\u001b[39;00m original_result\n\u001b[0;32m--> 536\u001b[0m \u001b[38;5;28;01mreturn\u001b[39;00m \u001b[43mcall_original_fn_with_event_logging\u001b[49m\u001b[43m(\u001b[49m\u001b[43m_original_fn\u001b[49m\u001b[43m,\u001b[49m\u001b[43m \u001b[49m\u001b[43mog_args\u001b[49m\u001b[43m,\u001b[49m\u001b[43m \u001b[49m\u001b[43mog_kwargs\u001b[49m\u001b[43m)\u001b[49m\n",
      "File \u001b[0;32m/opt/conda/envs/dkt2/lib/python3.9/site-packages/mlflow/utils/autologging_utils/safety.py:471\u001b[0m, in \u001b[0;36msafe_patch.<locals>.safe_patch_function.<locals>.call_original_fn_with_event_logging\u001b[0;34m(original_fn, og_args, og_kwargs)\u001b[0m\n\u001b[1;32m    462\u001b[0m \u001b[38;5;28;01mtry\u001b[39;00m:\n\u001b[1;32m    463\u001b[0m     try_log_autologging_event(\n\u001b[1;32m    464\u001b[0m         AutologgingEventLogger\u001b[38;5;241m.\u001b[39mget_logger()\u001b[38;5;241m.\u001b[39mlog_original_function_start,\n\u001b[1;32m    465\u001b[0m         session,\n\u001b[0;32m   (...)\u001b[0m\n\u001b[1;32m    469\u001b[0m         og_kwargs,\n\u001b[1;32m    470\u001b[0m     )\n\u001b[0;32m--> 471\u001b[0m     original_fn_result \u001b[38;5;241m=\u001b[39m \u001b[43moriginal_fn\u001b[49m\u001b[43m(\u001b[49m\u001b[38;5;241;43m*\u001b[39;49m\u001b[43mog_args\u001b[49m\u001b[43m,\u001b[49m\u001b[43m \u001b[49m\u001b[38;5;241;43m*\u001b[39;49m\u001b[38;5;241;43m*\u001b[39;49m\u001b[43mog_kwargs\u001b[49m\u001b[43m)\u001b[49m\n\u001b[1;32m    473\u001b[0m     try_log_autologging_event(\n\u001b[1;32m    474\u001b[0m         AutologgingEventLogger\u001b[38;5;241m.\u001b[39mget_logger()\u001b[38;5;241m.\u001b[39mlog_original_function_success,\n\u001b[1;32m    475\u001b[0m         session,\n\u001b[0;32m   (...)\u001b[0m\n\u001b[1;32m    479\u001b[0m         og_kwargs,\n\u001b[1;32m    480\u001b[0m     )\n\u001b[1;32m    481\u001b[0m     \u001b[38;5;28;01mreturn\u001b[39;00m original_fn_result\n",
      "File \u001b[0;32m/opt/conda/envs/dkt2/lib/python3.9/site-packages/mlflow/utils/autologging_utils/safety.py:533\u001b[0m, in \u001b[0;36msafe_patch.<locals>.safe_patch_function.<locals>.call_original.<locals>._original_fn\u001b[0;34m(*_og_args, **_og_kwargs)\u001b[0m\n\u001b[1;32m    525\u001b[0m \u001b[38;5;66;03m# Show all non-MLflow warnings as normal (i.e. not as event logs)\u001b[39;00m\n\u001b[1;32m    526\u001b[0m \u001b[38;5;66;03m# during original function execution, even if silent mode is enabled\u001b[39;00m\n\u001b[1;32m    527\u001b[0m \u001b[38;5;66;03m# (`silent=True`), since these warnings originate from the ML framework\u001b[39;00m\n\u001b[1;32m    528\u001b[0m \u001b[38;5;66;03m# or one of its dependencies and are likely relevant to the caller\u001b[39;00m\n\u001b[1;32m    529\u001b[0m \u001b[38;5;28;01mwith\u001b[39;00m set_non_mlflow_warnings_behavior_for_current_thread(\n\u001b[1;32m    530\u001b[0m     disable_warnings\u001b[38;5;241m=\u001b[39m\u001b[38;5;28;01mFalse\u001b[39;00m,\n\u001b[1;32m    531\u001b[0m     reroute_warnings\u001b[38;5;241m=\u001b[39m\u001b[38;5;28;01mFalse\u001b[39;00m,\n\u001b[1;32m    532\u001b[0m ):\n\u001b[0;32m--> 533\u001b[0m     original_result \u001b[38;5;241m=\u001b[39m \u001b[43moriginal\u001b[49m\u001b[43m(\u001b[49m\u001b[38;5;241;43m*\u001b[39;49m\u001b[43m_og_args\u001b[49m\u001b[43m,\u001b[49m\u001b[43m \u001b[49m\u001b[38;5;241;43m*\u001b[39;49m\u001b[38;5;241;43m*\u001b[39;49m\u001b[43m_og_kwargs\u001b[49m\u001b[43m)\u001b[49m\n\u001b[1;32m    534\u001b[0m     \u001b[38;5;28;01mreturn\u001b[39;00m original_result\n",
      "File \u001b[0;32m/opt/conda/envs/dkt2/lib/python3.9/site-packages/lightgbm/engine.py:292\u001b[0m, in \u001b[0;36mtrain\u001b[0;34m(params, train_set, num_boost_round, valid_sets, valid_names, fobj, feval, init_model, feature_name, categorical_feature, early_stopping_rounds, evals_result, verbose_eval, learning_rates, keep_training_booster, callbacks)\u001b[0m\n\u001b[1;32m    284\u001b[0m \u001b[38;5;28;01mfor\u001b[39;00m cb \u001b[38;5;129;01min\u001b[39;00m callbacks_before_iter:\n\u001b[1;32m    285\u001b[0m     cb(callback\u001b[38;5;241m.\u001b[39mCallbackEnv(model\u001b[38;5;241m=\u001b[39mbooster,\n\u001b[1;32m    286\u001b[0m                             params\u001b[38;5;241m=\u001b[39mparams,\n\u001b[1;32m    287\u001b[0m                             iteration\u001b[38;5;241m=\u001b[39mi,\n\u001b[1;32m    288\u001b[0m                             begin_iteration\u001b[38;5;241m=\u001b[39minit_iteration,\n\u001b[1;32m    289\u001b[0m                             end_iteration\u001b[38;5;241m=\u001b[39minit_iteration \u001b[38;5;241m+\u001b[39m num_boost_round,\n\u001b[1;32m    290\u001b[0m                             evaluation_result_list\u001b[38;5;241m=\u001b[39m\u001b[38;5;28;01mNone\u001b[39;00m))\n\u001b[0;32m--> 292\u001b[0m \u001b[43mbooster\u001b[49m\u001b[38;5;241;43m.\u001b[39;49m\u001b[43mupdate\u001b[49m\u001b[43m(\u001b[49m\u001b[43mfobj\u001b[49m\u001b[38;5;241;43m=\u001b[39;49m\u001b[43mfobj\u001b[49m\u001b[43m)\u001b[49m\n\u001b[1;32m    294\u001b[0m evaluation_result_list \u001b[38;5;241m=\u001b[39m []\n\u001b[1;32m    295\u001b[0m \u001b[38;5;66;03m# check evaluation result.\u001b[39;00m\n",
      "File \u001b[0;32m/opt/conda/envs/dkt2/lib/python3.9/site-packages/lightgbm/basic.py:3021\u001b[0m, in \u001b[0;36mBooster.update\u001b[0;34m(self, train_set, fobj)\u001b[0m\n\u001b[1;32m   3019\u001b[0m \u001b[38;5;28;01mif\u001b[39;00m \u001b[38;5;28mself\u001b[39m\u001b[38;5;241m.\u001b[39m__set_objective_to_none:\n\u001b[1;32m   3020\u001b[0m     \u001b[38;5;28;01mraise\u001b[39;00m LightGBMError(\u001b[38;5;124m'\u001b[39m\u001b[38;5;124mCannot update due to null objective function.\u001b[39m\u001b[38;5;124m'\u001b[39m)\n\u001b[0;32m-> 3021\u001b[0m _safe_call(\u001b[43m_LIB\u001b[49m\u001b[38;5;241;43m.\u001b[39;49m\u001b[43mLGBM_BoosterUpdateOneIter\u001b[49m\u001b[43m(\u001b[49m\n\u001b[1;32m   3022\u001b[0m \u001b[43m    \u001b[49m\u001b[38;5;28;43mself\u001b[39;49m\u001b[38;5;241;43m.\u001b[39;49m\u001b[43mhandle\u001b[49m\u001b[43m,\u001b[49m\n\u001b[1;32m   3023\u001b[0m \u001b[43m    \u001b[49m\u001b[43mctypes\u001b[49m\u001b[38;5;241;43m.\u001b[39;49m\u001b[43mbyref\u001b[49m\u001b[43m(\u001b[49m\u001b[43mis_finished\u001b[49m\u001b[43m)\u001b[49m\u001b[43m)\u001b[49m)\n\u001b[1;32m   3024\u001b[0m \u001b[38;5;28mself\u001b[39m\u001b[38;5;241m.\u001b[39m__is_predicted_cur_iter \u001b[38;5;241m=\u001b[39m [\u001b[38;5;28;01mFalse\u001b[39;00m \u001b[38;5;28;01mfor\u001b[39;00m _ \u001b[38;5;129;01min\u001b[39;00m \u001b[38;5;28mrange\u001b[39m(\u001b[38;5;28mself\u001b[39m\u001b[38;5;241m.\u001b[39m__num_dataset)]\n\u001b[1;32m   3025\u001b[0m \u001b[38;5;28;01mreturn\u001b[39;00m is_finished\u001b[38;5;241m.\u001b[39mvalue \u001b[38;5;241m==\u001b[39m \u001b[38;5;241m1\u001b[39m\n",
      "\u001b[0;31mKeyboardInterrupt\u001b[0m: "
     ]
    },
    {
     "data": {
      "image/png": "[encoded data removed]",
      "text/plain": [
       "<Figure size 640x480 with 1 Axes>"
      ]
     },
     "metadata": {},
     "output_type": "display_data"
    }
   ],
   "source": [
    "sampler = TPESampler(seed=42)\n",
    "study = optuna.create_study(\n",
    "    study_name=\"lgbm_parameter_opt\",\n",
    "    direction=\"maximize\",\n",
    "    sampler=sampler,\n",
    ")\n",
    "study.optimize(objective, n_trials=10)\n",
    "print(\"Best Score:\", study.best_value)\n",
    "print(\"Best trial:\", study.best_trial.params)"
   ]
  },
  {
   "cell_type": "markdown",
   "id": "f2f94040-997d-4597-b0b2-600defc7a076",
   "metadata": {},
   "source": []
  }
 ],
 "metadata": {
  "kernelspec": {
   "display_name": "dkt2",
   "language": "python",
   "name": "dkt2"
  },
  "language_info": {
   "codemirror_mode": {
    "name": "ipython",
    "version": 3
   },
   "file_extension": ".py",
   "mimetype": "text/x-python",
   "name": "python",
   "nbconvert_exporter": "python",
   "pygments_lexer": "ipython3",
   "version": "3.9.15"
  }
 },
 "nbformat": 4,
 "nbformat_minor": 5
}
