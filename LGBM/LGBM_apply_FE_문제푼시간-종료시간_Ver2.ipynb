{
 "cells": [
  {
   "cell_type": "markdown",
   "id": "f9938ed8",
   "metadata": {},
   "source": [
    "## dataLoad"
   ]
  },
  {
   "cell_type": "code",
   "execution_count": 19,
   "id": "7b9e50b1",
   "metadata": {
    "ExecuteTime": {
     "end_time": "2022-11-28T16:48:39.199521Z",
     "start_time": "2022-11-28T16:48:33.382863Z"
    }
   },
   "outputs": [
    {
     "data": {
      "text/plain": [
       "((2525956, 33), (1974, 33), (260114, 33))"
      ]
     },
     "execution_count": 19,
     "metadata": {},
     "output_type": "execute_result"
    },
    {
     "data": {
      "text/plain": [
       "((2525956, 32), (2525956, 1), (1974, 32), (1974, 1))"
      ]
     },
     "execution_count": 19,
     "metadata": {},
     "output_type": "execute_result"
    }
   ],
   "source": [
    "from IPython.core.interactiveshell import InteractiveShell\n",
    "InteractiveShell.ast_node_interactivity = 'all'\n",
    "import pandas as pd\n",
    "import os\n",
    "import random\n",
    "import warnings\n",
    "warnings.filterwarnings('ignore')\n",
    "import lightgbm as lgb\n",
    "from sklearn.metrics import roc_auc_score\n",
    "from sklearn.metrics import accuracy_score\n",
    "import numpy as np\n",
    "from utils import custom_train_test_split, lgbm_predict, post_slack\n",
    "base_feats = ['KnowledgeTag', 'user_correct_answer', 'user_total_answer', \n",
    "         'user_acc', 'test_mean', 'test_sum', 'tag_mean','tag_sum']\n",
    "# train과 test 데이터셋은 사용자 별로 묶어서 분리를 해주어야함\n",
    "\n",
    "## 1. 데이터 로딩\n",
    "data_dir = '/opt/ml/input/data' # 경로\n",
    "# train_file_path = os.path.join(data_dir, 'train_data.csv') # 데이터\n",
    "# test_file_path = os.path.join(data_dir, 'test_data.csv')\n",
    "after_fe_path = os.path.join(data_dir, 'after_fe_train_test_solvetime2.pkl')\n",
    "df = pd.read_pickle(after_fe_path)\n",
    "\n",
    "train_df = df[df.kind=='train']\n",
    "\n",
    "train, valid = custom_train_test_split(train_df, ratio=0.7, seed=13) # 훈련데이터 split\n",
    "test = df[df.kind=='test'] # 테스트 데이터\n",
    "train2 = test[test.answerCode!=-1] # 테스트데이터 마지막 제출 2번쨰꺼까지 훈련데이터로 사용\n",
    "train = pd.concat([train_df,train2]) # 훈련데이터 병합\n",
    "train.shape, valid.shape, test.shape\n",
    "\n",
    "x_train = train.drop('answerCode',axis=1)\n",
    "y_train = train[['answerCode']]\n",
    "\n",
    "x_valid = valid.drop('answerCode',axis=1)\n",
    "y_valid = valid[['answerCode']]\n",
    "x_train.shape, y_train.shape, x_valid.shape, y_valid.shape"
   ]
  },
  {
   "cell_type": "markdown",
   "id": "caf9e8fe",
   "metadata": {},
   "source": [
    "## 문제푼 시간 초로만 추가한 것 (기존)"
   ]
  },
  {
   "cell_type": "code",
   "execution_count": 5,
   "id": "ee26250b",
   "metadata": {
    "ExecuteTime": {
     "end_time": "2022-11-25T07:01:18.831338Z",
     "start_time": "2022-11-25T06:55:39.336742Z"
    },
    "scrolled": true
   },
   "outputs": [
    {
     "name": "stdout",
     "output_type": "stream",
     "text": [
      "[LightGBM] [Info] Number of positive: 1653588, number of negative: 872368\n",
      "[LightGBM] [Warning] Auto-choosing col-wise multi-threading, the overhead of testing was 0.238892 seconds.\n",
      "You can set `force_col_wise=true` to remove the overhead.\n",
      "[LightGBM] [Info] Total Bins 3095\n",
      "[LightGBM] [Info] Number of data points in the train set: 2525956, number of used features: 18\n",
      "[LightGBM] [Info] [binary:BoostFromScore]: pavg=0.654638 -> initscore=0.639491\n",
      "[LightGBM] [Info] Start training from score 0.639491\n",
      "[100]\tvalid_0's binary_logloss: 0.582419\n",
      "[200]\tvalid_0's binary_logloss: 0.575168\n",
      "[300]\tvalid_0's binary_logloss: 0.568893\n",
      "[400]\tvalid_0's binary_logloss: 0.563229\n",
      "[500]\tvalid_0's binary_logloss: 0.559829\n",
      "[600]\tvalid_0's binary_logloss: 0.556637\n",
      "[700]\tvalid_0's binary_logloss: 0.553144\n",
      "[800]\tvalid_0's binary_logloss: 0.550667\n",
      "[900]\tvalid_0's binary_logloss: 0.548314\n",
      "[1000]\tvalid_0's binary_logloss: 0.546135\n",
      "[1100]\tvalid_0's binary_logloss: 0.542614\n",
      "[1200]\tvalid_0's binary_logloss: 0.540631\n",
      "[1300]\tvalid_0's binary_logloss: 0.539541\n",
      "[1400]\tvalid_0's binary_logloss: 0.537865\n",
      "[1500]\tvalid_0's binary_logloss: 0.536437\n",
      "[1600]\tvalid_0's binary_logloss: 0.534883\n",
      "[1700]\tvalid_0's binary_logloss: 0.532909\n",
      "[1800]\tvalid_0's binary_logloss: 0.531226\n",
      "[1900]\tvalid_0's binary_logloss: 0.530395\n",
      "[2000]\tvalid_0's binary_logloss: 0.528694\n",
      "[2100]\tvalid_0's binary_logloss: 0.527385\n",
      "[2200]\tvalid_0's binary_logloss: 0.5261\n",
      "[2300]\tvalid_0's binary_logloss: 0.52483\n",
      "[2400]\tvalid_0's binary_logloss: 0.524006\n",
      "[2500]\tvalid_0's binary_logloss: 0.522985\n",
      "[2600]\tvalid_0's binary_logloss: 0.521911\n",
      "[2700]\tvalid_0's binary_logloss: 0.519999\n",
      "[2800]\tvalid_0's binary_logloss: 0.519164\n",
      "[2900]\tvalid_0's binary_logloss: 0.518294\n",
      "[3000]\tvalid_0's binary_logloss: 0.517839\n",
      "[3100]\tvalid_0's binary_logloss: 0.516759\n",
      "[3200]\tvalid_0's binary_logloss: 0.515955\n",
      "VALID AUC : 0.8229596501689525 ACC : 0.7448928749377179\n",
      "\n"
     ]
    }
   ],
   "source": [
    "lgb_x_train = lgb.Dataset(x_train[FEATS], y_train)\n",
    "lgb_x_valid = lgb.Dataset(x_valid[FEATS], y_valid)\n",
    "\n",
    "model2 = lgb.train(\n",
    "    params, \n",
    "    lgb_x_train,\n",
    "    valid_sets=[lgb_x_valid],\n",
    "    verbose_eval=100,\n",
    "    num_boost_round=3200,\n",
    "#     early_stopping_rounds=200,\n",
    ")\n",
    "\n",
    "preds = model2.predict(x_valid[FEATS])\n",
    "acc = accuracy_score(y_valid, np.where(preds >= 0.5, 1, 0))\n",
    "auc = roc_auc_score(y_valid, preds)\n",
    "\n",
    "print(f'VALID AUC : {auc} ACC : {acc}\\n')\n",
    "\n",
    "post_slack(\"done\")"
   ]
  },
  {
   "cell_type": "markdown",
   "id": "1f99532e",
   "metadata": {},
   "source": [
    "### validation"
   ]
  },
  {
   "cell_type": "code",
   "execution_count": 169,
   "id": "f82f8c4b",
   "metadata": {
    "ExecuteTime": {
     "end_time": "2022-11-28T09:13:13.125785Z",
     "start_time": "2022-11-28T09:13:12.917067Z"
    }
   },
   "outputs": [
    {
     "name": "stdout",
     "output_type": "stream",
     "text": [
      "VALID AUC : 0.8187398163235076 ACC : 0.7406281661600811\n",
      "\n"
     ]
    }
   ],
   "source": [
    "# 사용할 Feature 설정\n",
    "FEATS = ['KnowledgeTag',\n",
    "         'user_correct_answer',\n",
    "         'user_total_answer',\n",
    "         'big_category',\n",
    "         'mid_category',\n",
    "         'problem_num',\n",
    "         'month','day','dayname','hour',\n",
    "         'user_acc',\n",
    "         'test_mean',\n",
    "         'test_sum',\n",
    "         'test_std',\n",
    "         'tag_std',\n",
    "         'tag_mean',\n",
    "         'tag_sum',\n",
    "         'solvesec'\n",
    "        ]\n",
    "preds = model2.predict(x_valid[FEATS])\n",
    "acc = accuracy_score(y_valid, np.where(preds >= 0.5, 1, 0))\n",
    "auc = roc_auc_score(y_valid, preds)\n",
    "\n",
    "print(f'VALID AUC : {auc} ACC : {acc}\\n')"
   ]
  },
  {
   "cell_type": "markdown",
   "id": "fa13fe34",
   "metadata": {},
   "source": [
    "## 문제푼 시간 초로만 추가 (NaN 채우지 않음)"
   ]
  },
  {
   "cell_type": "code",
   "execution_count": 2,
   "id": "ef613740",
   "metadata": {
    "ExecuteTime": {
     "end_time": "2022-11-28T15:40:38.973452Z",
     "start_time": "2022-11-28T15:40:38.945472Z"
    }
   },
   "outputs": [
    {
     "data": {
      "text/html": [
       "<div>\n",
       "<style scoped>\n",
       "    .dataframe tbody tr th:only-of-type {\n",
       "        vertical-align: middle;\n",
       "    }\n",
       "\n",
       "    .dataframe tbody tr th {\n",
       "        vertical-align: top;\n",
       "    }\n",
       "\n",
       "    .dataframe thead th {\n",
       "        text-align: right;\n",
       "    }\n",
       "</style>\n",
       "<table border=\"1\" class=\"dataframe\">\n",
       "  <thead>\n",
       "    <tr style=\"text-align: right;\">\n",
       "      <th></th>\n",
       "      <th>userID</th>\n",
       "      <th>assessmentItemID</th>\n",
       "      <th>testId</th>\n",
       "      <th>Timestamp</th>\n",
       "      <th>KnowledgeTag</th>\n",
       "      <th>solvesec</th>\n",
       "      <th>solvesec_3600</th>\n",
       "      <th>time_category</th>\n",
       "      <th>user_correct_answer</th>\n",
       "      <th>user_total_answer</th>\n",
       "      <th>...</th>\n",
       "      <th>big_category</th>\n",
       "      <th>problem_num</th>\n",
       "      <th>mid_category</th>\n",
       "      <th>test_mean</th>\n",
       "      <th>test_std</th>\n",
       "      <th>test_sum</th>\n",
       "      <th>tag_mean</th>\n",
       "      <th>tag_std</th>\n",
       "      <th>tag_sum</th>\n",
       "      <th>kind</th>\n",
       "    </tr>\n",
       "  </thead>\n",
       "  <tbody>\n",
       "    <tr>\n",
       "      <th>0</th>\n",
       "      <td>0</td>\n",
       "      <td>A060001001</td>\n",
       "      <td>A060000001</td>\n",
       "      <td>2020-03-24 00:17:11</td>\n",
       "      <td>7224</td>\n",
       "      <td>NaN</td>\n",
       "      <td>0.0</td>\n",
       "      <td>0</td>\n",
       "      <td>NaN</td>\n",
       "      <td>0</td>\n",
       "      <td>...</td>\n",
       "      <td>6</td>\n",
       "      <td>1</td>\n",
       "      <td>1</td>\n",
       "      <td>0.947683</td>\n",
       "      <td>0.222749</td>\n",
       "      <td>1268</td>\n",
       "      <td>0.955022</td>\n",
       "      <td>0.207410</td>\n",
       "      <td>637</td>\n",
       "      <td>train</td>\n",
       "    </tr>\n",
       "    <tr>\n",
       "      <th>1</th>\n",
       "      <td>0</td>\n",
       "      <td>A060001002</td>\n",
       "      <td>A060000001</td>\n",
       "      <td>2020-03-24 00:17:14</td>\n",
       "      <td>7225</td>\n",
       "      <td>3.0</td>\n",
       "      <td>3.0</td>\n",
       "      <td>1</td>\n",
       "      <td>1.0</td>\n",
       "      <td>1</td>\n",
       "      <td>...</td>\n",
       "      <td>6</td>\n",
       "      <td>2</td>\n",
       "      <td>1</td>\n",
       "      <td>0.947683</td>\n",
       "      <td>0.222749</td>\n",
       "      <td>1268</td>\n",
       "      <td>0.913187</td>\n",
       "      <td>0.281603</td>\n",
       "      <td>3040</td>\n",
       "      <td>train</td>\n",
       "    </tr>\n",
       "  </tbody>\n",
       "</table>\n",
       "<p>2 rows × 25 columns</p>\n",
       "</div>"
      ],
      "text/plain": [
       "   userID assessmentItemID      testId            Timestamp  KnowledgeTag  \\\n",
       "0       0       A060001001  A060000001  2020-03-24 00:17:11          7224   \n",
       "1       0       A060001002  A060000001  2020-03-24 00:17:14          7225   \n",
       "\n",
       "   solvesec  solvesec_3600  time_category  user_correct_answer  \\\n",
       "0       NaN            0.0              0                  NaN   \n",
       "1       3.0            3.0              1                  1.0   \n",
       "\n",
       "   user_total_answer  ...  big_category  problem_num  mid_category  test_mean  \\\n",
       "0                  0  ...             6            1             1   0.947683   \n",
       "1                  1  ...             6            2             1   0.947683   \n",
       "\n",
       "   test_std  test_sum  tag_mean   tag_std  tag_sum   kind  \n",
       "0  0.222749      1268  0.955022  0.207410      637  train  \n",
       "1  0.222749      1268  0.913187  0.281603     3040  train  \n",
       "\n",
       "[2 rows x 25 columns]"
      ]
     },
     "execution_count": 2,
     "metadata": {},
     "output_type": "execute_result"
    }
   ],
   "source": [
    "x_train[:2]"
   ]
  },
  {
   "cell_type": "code",
   "execution_count": 3,
   "id": "21ba16e6",
   "metadata": {
    "ExecuteTime": {
     "end_time": "2022-11-28T15:41:04.548609Z",
     "start_time": "2022-11-28T15:41:04.544407Z"
    }
   },
   "outputs": [],
   "source": [
    "# 사용할 Feature 설정\n",
    "FEATS = ['KnowledgeTag',\n",
    "         'user_correct_answer',\n",
    "         'user_total_answer',\n",
    "         'big_category',\n",
    "         'mid_category',\n",
    "         'problem_num',\n",
    "         'month','day','dayname','hour',\n",
    "         'user_acc',\n",
    "         'test_mean',\n",
    "         'test_sum',\n",
    "         'test_std',\n",
    "         'tag_std',\n",
    "         'tag_mean',\n",
    "         'tag_sum',\n",
    "         'solvesec'\n",
    "        ]\n",
    "\n",
    "params = {\n",
    "#     \"max_depth\": 8,  # 8,\n",
    "#     \"min_data_in_leaf\": 1000,\n",
    "    # \"feature_fraction\": 0.6,  # 0.8,\n",
    "#     \"bagging_fraction\": 0.75,\n",
    "    # \"max_cat_group\": 64,\n",
    "    \"objective\": \"binary\",\n",
    "#     \"boosting\": \"gbdt\",  # dart\n",
    "#     \"learning_rate\": 0.01,  # 0.01,\n",
    "    # \"bagging_freq\": 5,\n",
    "    \"seed\": 42,\n",
    "    # \"max_bin\": 50,\n",
    "#     \"num_leaves\": 80,  # 40,\n",
    "#     \"metric\": \"auc\",\n",
    "}"
   ]
  },
  {
   "cell_type": "code",
   "execution_count": 4,
   "id": "982081e2",
   "metadata": {
    "ExecuteTime": {
     "end_time": "2022-11-28T15:45:23.389211Z",
     "start_time": "2022-11-28T15:41:07.719410Z"
    },
    "scrolled": true
   },
   "outputs": [
    {
     "name": "stdout",
     "output_type": "stream",
     "text": [
      "[LightGBM] [Info] Number of positive: 1653588, number of negative: 872368\n",
      "[LightGBM] [Warning] Auto-choosing row-wise multi-threading, the overhead of testing was 0.099724 seconds.\n",
      "You can set `force_row_wise=true` to remove the overhead.\n",
      "And if memory is not enough, you can set `force_col_wise=true`.\n",
      "[LightGBM] [Info] Total Bins 3095\n",
      "[LightGBM] [Info] Number of data points in the train set: 2525956, number of used features: 18\n",
      "[LightGBM] [Info] [binary:BoostFromScore]: pavg=0.654638 -> initscore=0.639491\n",
      "[LightGBM] [Info] Start training from score 0.639491\n",
      "[100]\tvalid_0's binary_logloss: 0.586764\n",
      "[200]\tvalid_0's binary_logloss: 0.580913\n",
      "[300]\tvalid_0's binary_logloss: 0.57342\n",
      "[400]\tvalid_0's binary_logloss: 0.568314\n",
      "[500]\tvalid_0's binary_logloss: 0.564522\n",
      "[600]\tvalid_0's binary_logloss: 0.56078\n",
      "[700]\tvalid_0's binary_logloss: 0.558609\n",
      "[800]\tvalid_0's binary_logloss: 0.555498\n",
      "[900]\tvalid_0's binary_logloss: 0.552048\n",
      "[1000]\tvalid_0's binary_logloss: 0.548929\n",
      "[1100]\tvalid_0's binary_logloss: 0.545648\n",
      "[1200]\tvalid_0's binary_logloss: 0.543771\n",
      "[1300]\tvalid_0's binary_logloss: 0.542452\n",
      "[1400]\tvalid_0's binary_logloss: 0.541755\n",
      "[1500]\tvalid_0's binary_logloss: 0.540312\n",
      "[1600]\tvalid_0's binary_logloss: 0.53884\n",
      "[1700]\tvalid_0's binary_logloss: 0.536912\n",
      "[1800]\tvalid_0's binary_logloss: 0.534193\n",
      "[1900]\tvalid_0's binary_logloss: 0.532272\n",
      "[2000]\tvalid_0's binary_logloss: 0.530718\n",
      "[2100]\tvalid_0's binary_logloss: 0.529891\n",
      "[2200]\tvalid_0's binary_logloss: 0.528604\n",
      "[2300]\tvalid_0's binary_logloss: 0.527003\n",
      "[2400]\tvalid_0's binary_logloss: 0.526158\n",
      "[2500]\tvalid_0's binary_logloss: 0.525411\n",
      "[2600]\tvalid_0's binary_logloss: 0.524174\n",
      "[2700]\tvalid_0's binary_logloss: 0.522648\n",
      "[2800]\tvalid_0's binary_logloss: 0.521304\n",
      "[2900]\tvalid_0's binary_logloss: 0.520393\n",
      "[3000]\tvalid_0's binary_logloss: 0.51939\n",
      "[3100]\tvalid_0's binary_logloss: 0.517733\n",
      "[3200]\tvalid_0's binary_logloss: 0.516885\n",
      "VALID AUC : 0.822568467222963 ACC : 0.7396149949341438\n",
      "\n"
     ]
    }
   ],
   "source": [
    "lgb_x_train = lgb.Dataset(x_train[FEATS], y_train)\n",
    "lgb_x_valid = lgb.Dataset(x_valid[FEATS], y_valid)\n",
    "\n",
    "model3 = lgb.train(\n",
    "    params, \n",
    "    lgb_x_train,\n",
    "    valid_sets=[lgb_x_valid],\n",
    "    verbose_eval=100,\n",
    "    num_boost_round=3200,\n",
    "#     early_stopping_rounds=200,\n",
    ")\n",
    "\n",
    "preds = model3.predict(x_valid[FEATS])\n",
    "acc = accuracy_score(y_valid, np.where(preds >= 0.5, 1, 0))\n",
    "auc = roc_auc_score(y_valid, preds)\n",
    "\n",
    "print(f'VALID AUC : {auc} ACC : {acc}\\n')\n",
    "\n",
    "post_slack(\"done\")"
   ]
  },
  {
   "cell_type": "markdown",
   "id": "f5c5a2ce",
   "metadata": {},
   "source": [
    "## 문제푼 시간 3600초 이상 모두 3600으로 변환 (기존)"
   ]
  },
  {
   "cell_type": "code",
   "execution_count": 11,
   "id": "0a1f3e7d",
   "metadata": {
    "ExecuteTime": {
     "end_time": "2022-11-25T07:10:28.899854Z",
     "start_time": "2022-11-25T07:06:28.463459Z"
    },
    "scrolled": true
   },
   "outputs": [
    {
     "name": "stdout",
     "output_type": "stream",
     "text": [
      "[LightGBM] [Info] Number of positive: 1653588, number of negative: 872368\n",
      "[LightGBM] [Warning] Auto-choosing row-wise multi-threading, the overhead of testing was 0.052752 seconds.\n",
      "You can set `force_row_wise=true` to remove the overhead.\n",
      "And if memory is not enough, you can set `force_col_wise=true`.\n",
      "[LightGBM] [Info] Total Bins 3095\n",
      "[LightGBM] [Info] Number of data points in the train set: 2525956, number of used features: 18\n",
      "[LightGBM] [Info] [binary:BoostFromScore]: pavg=0.654638 -> initscore=0.639491\n",
      "[LightGBM] [Info] Start training from score 0.639491\n",
      "[100]\tvalid_0's binary_logloss: 0.57308\n",
      "[200]\tvalid_0's binary_logloss: 0.564389\n",
      "[300]\tvalid_0's binary_logloss: 0.559807\n",
      "[400]\tvalid_0's binary_logloss: 0.554239\n",
      "[500]\tvalid_0's binary_logloss: 0.550381\n",
      "[600]\tvalid_0's binary_logloss: 0.547333\n",
      "[700]\tvalid_0's binary_logloss: 0.542663\n",
      "[800]\tvalid_0's binary_logloss: 0.539448\n",
      "[900]\tvalid_0's binary_logloss: 0.537293\n",
      "[1000]\tvalid_0's binary_logloss: 0.533369\n",
      "[1100]\tvalid_0's binary_logloss: 0.530778\n",
      "[1200]\tvalid_0's binary_logloss: 0.528895\n",
      "[1300]\tvalid_0's binary_logloss: 0.526897\n",
      "[1400]\tvalid_0's binary_logloss: 0.525646\n",
      "[1500]\tvalid_0's binary_logloss: 0.523441\n",
      "[1600]\tvalid_0's binary_logloss: 0.521941\n",
      "[1700]\tvalid_0's binary_logloss: 0.520392\n",
      "[1800]\tvalid_0's binary_logloss: 0.518991\n",
      "[1900]\tvalid_0's binary_logloss: 0.518401\n",
      "[2000]\tvalid_0's binary_logloss: 0.516927\n",
      "[2100]\tvalid_0's binary_logloss: 0.515664\n",
      "[2200]\tvalid_0's binary_logloss: 0.514235\n",
      "[2300]\tvalid_0's binary_logloss: 0.512859\n",
      "[2400]\tvalid_0's binary_logloss: 0.511646\n",
      "[2500]\tvalid_0's binary_logloss: 0.510438\n",
      "[2600]\tvalid_0's binary_logloss: 0.509123\n",
      "[2700]\tvalid_0's binary_logloss: 0.508236\n",
      "[2800]\tvalid_0's binary_logloss: 0.506781\n",
      "[2900]\tvalid_0's binary_logloss: 0.505248\n",
      "[3000]\tvalid_0's binary_logloss: 0.503842\n",
      "[3100]\tvalid_0's binary_logloss: 0.503227\n",
      "[3200]\tvalid_0's binary_logloss: 0.502616\n",
      "VALID AUC : 0.833218683431184 ACC : 0.7585328578706062\n",
      "\n",
      "writing prediction : output/LGBM_Baseline_문제푼시간_추가_3600초이상모두3600으로.csv\n"
     ]
    }
   ],
   "source": [
    "lgb_x_train = lgb.Dataset(x_train[FEATS], y_train)\n",
    "lgb_x_valid = lgb.Dataset(x_valid[FEATS], y_valid)\n",
    "\n",
    "model4 = lgb.train(\n",
    "    params, \n",
    "    lgb_x_train,\n",
    "    valid_sets=[lgb_x_valid],\n",
    "    verbose_eval=100,\n",
    "    num_boost_round=3200,\n",
    "#     early_stopping_rounds=200,\n",
    ")\n",
    "\n",
    "preds = model4.predict(x_valid[FEATS])\n",
    "acc = accuracy_score(y_valid, np.where(preds >= 0.5, 1, 0))\n",
    "auc = roc_auc_score(y_valid, preds)\n",
    "\n",
    "print(f'VALID AUC : {auc} ACC : {acc}\\n')\n",
    "\n",
    "post_slack(\"done\")\n",
    "\n",
    "lgbm_predict(test, model4, FEATS, 'LGBM_Baseline_문제푼시간_추가_3600초이상모두3600으로.csv')"
   ]
  },
  {
   "cell_type": "markdown",
   "id": "e67c59d9",
   "metadata": {},
   "source": [
    "### validation"
   ]
  },
  {
   "cell_type": "code",
   "execution_count": 170,
   "id": "7a182c49",
   "metadata": {
    "ExecuteTime": {
     "end_time": "2022-11-28T09:13:15.930223Z",
     "start_time": "2022-11-28T09:13:15.723497Z"
    }
   },
   "outputs": [
    {
     "name": "stdout",
     "output_type": "stream",
     "text": [
      "VALID AUC : 0.8199340838394311 ACC : 0.7396149949341438\n",
      "\n"
     ]
    }
   ],
   "source": [
    "# 사용할 Feature 설정\n",
    "FEATS = ['KnowledgeTag',\n",
    "         'user_correct_answer',\n",
    "         'user_total_answer',\n",
    "         'big_category',\n",
    "         'mid_category',\n",
    "         'problem_num',\n",
    "         'month','day','dayname','hour',\n",
    "         'user_acc',\n",
    "         'test_mean',\n",
    "         'test_sum',\n",
    "         'test_std',\n",
    "         'tag_std',\n",
    "         'tag_mean',\n",
    "         'tag_sum',\n",
    "         'solvesec_3600'\n",
    "        ]\n",
    "preds = model4.predict(x_valid[FEATS])\n",
    "acc = accuracy_score(y_valid, np.where(preds >= 0.5, 1, 0))\n",
    "auc = roc_auc_score(y_valid, preds)\n",
    "\n",
    "print(f'VALID AUC : {auc} ACC : {acc}\\n')\n",
    "# 제출 AUC: 0.7789"
   ]
  },
  {
   "cell_type": "code",
   "execution_count": 49,
   "id": "8a7acde6",
   "metadata": {
    "ExecuteTime": {
     "end_time": "2022-11-27T12:58:23.598924Z",
     "start_time": "2022-11-27T12:58:23.550301Z"
    }
   },
   "outputs": [
    {
     "name": "stdout",
     "output_type": "stream",
     "text": [
      "writing prediction : output/LGBM_Baseline_문제푼시간_추가_3600초이상모두3600으로.csv\n"
     ]
    }
   ],
   "source": [
    "lgbm_predict(test, model4, FEATS, 'LGBM_Baseline_문제푼시간_추가_3600초이상모두3600으로.csv')"
   ]
  },
  {
   "cell_type": "markdown",
   "id": "7cea971e",
   "metadata": {},
   "source": [
    "## 문제푼 시간 3600초 이상 모두 3600으로 (NaN 채우지 않음)"
   ]
  },
  {
   "cell_type": "code",
   "execution_count": 9,
   "id": "325dfc59",
   "metadata": {
    "ExecuteTime": {
     "end_time": "2022-11-28T15:54:19.139028Z",
     "start_time": "2022-11-28T15:48:41.841667Z"
    },
    "scrolled": true
   },
   "outputs": [
    {
     "name": "stdout",
     "output_type": "stream",
     "text": [
      "[LightGBM] [Info] Number of positive: 1653588, number of negative: 872368\n",
      "[LightGBM] [Warning] Auto-choosing col-wise multi-threading, the overhead of testing was 0.243955 seconds.\n",
      "You can set `force_col_wise=true` to remove the overhead.\n",
      "[LightGBM] [Info] Total Bins 3095\n",
      "[LightGBM] [Info] Number of data points in the train set: 2525956, number of used features: 18\n",
      "[LightGBM] [Info] [binary:BoostFromScore]: pavg=0.654638 -> initscore=0.639491\n",
      "[LightGBM] [Info] Start training from score 0.639491\n",
      "[100]\tvalid_0's binary_logloss: 0.586405\n",
      "[200]\tvalid_0's binary_logloss: 0.578384\n",
      "[300]\tvalid_0's binary_logloss: 0.572436\n",
      "[400]\tvalid_0's binary_logloss: 0.56745\n",
      "[500]\tvalid_0's binary_logloss: 0.563781\n",
      "[600]\tvalid_0's binary_logloss: 0.559902\n",
      "[700]\tvalid_0's binary_logloss: 0.557801\n",
      "[800]\tvalid_0's binary_logloss: 0.556075\n",
      "[900]\tvalid_0's binary_logloss: 0.55264\n",
      "[1000]\tvalid_0's binary_logloss: 0.551029\n",
      "[1100]\tvalid_0's binary_logloss: 0.549562\n",
      "[1200]\tvalid_0's binary_logloss: 0.548115\n",
      "[1300]\tvalid_0's binary_logloss: 0.547129\n",
      "[1400]\tvalid_0's binary_logloss: 0.545214\n",
      "[1500]\tvalid_0's binary_logloss: 0.541782\n",
      "[1600]\tvalid_0's binary_logloss: 0.539302\n",
      "[1700]\tvalid_0's binary_logloss: 0.536561\n",
      "[1800]\tvalid_0's binary_logloss: 0.534819\n",
      "[1900]\tvalid_0's binary_logloss: 0.53403\n",
      "[2000]\tvalid_0's binary_logloss: 0.532677\n",
      "[2100]\tvalid_0's binary_logloss: 0.531371\n",
      "[2200]\tvalid_0's binary_logloss: 0.530988\n",
      "[2300]\tvalid_0's binary_logloss: 0.530158\n",
      "[2400]\tvalid_0's binary_logloss: 0.529165\n",
      "[2500]\tvalid_0's binary_logloss: 0.527993\n",
      "[2600]\tvalid_0's binary_logloss: 0.526521\n",
      "[2700]\tvalid_0's binary_logloss: 0.525201\n",
      "[2800]\tvalid_0's binary_logloss: 0.524433\n",
      "[2900]\tvalid_0's binary_logloss: 0.52283\n",
      "[3000]\tvalid_0's binary_logloss: 0.521649\n",
      "[3100]\tvalid_0's binary_logloss: 0.520548\n",
      "[3200]\tvalid_0's binary_logloss: 0.518833\n",
      "VALID AUC : 0.8215891884329893 ACC : 0.7416413373860182\n",
      "\n",
      "writing prediction : output/LGBM_Baseline_문제푼시간_추가_3600_NaN채우지않음.csv\n"
     ]
    }
   ],
   "source": [
    "# 사용할 Feature 설정\n",
    "FEATS = ['KnowledgeTag',\n",
    "         'user_correct_answer',\n",
    "         'user_total_answer',\n",
    "         'big_category',\n",
    "         'mid_category',\n",
    "         'problem_num',\n",
    "         'month','day','dayname','hour',\n",
    "         'user_acc',\n",
    "         'test_mean',\n",
    "         'test_sum',\n",
    "         'test_std',\n",
    "         'tag_std',\n",
    "         'tag_mean',\n",
    "         'tag_sum',\n",
    "         'solvesec_3600_2'\n",
    "        ]\n",
    "\n",
    "lgb_x_train = lgb.Dataset(x_train[FEATS], y_train)\n",
    "lgb_x_valid = lgb.Dataset(x_valid[FEATS], y_valid)\n",
    "\n",
    "model5 = lgb.train(\n",
    "    params, \n",
    "    lgb_x_train,\n",
    "    valid_sets=[lgb_x_valid],\n",
    "    verbose_eval=100,\n",
    "    num_boost_round=3200,\n",
    "#     early_stopping_rounds=200,\n",
    ")\n",
    "\n",
    "preds = model5.predict(x_valid[FEATS])\n",
    "acc = accuracy_score(y_valid, np.where(preds >= 0.5, 1, 0))\n",
    "auc = roc_auc_score(y_valid, preds)\n",
    "\n",
    "print(f'VALID AUC : {auc} ACC : {acc}\\n')\n",
    "\n",
    "post_slack(\"done\")\n",
    "\n",
    "lgbm_predict(test, model5, FEATS, 'LGBM_Baseline_문제푼시간_추가_3600_NaN채우지않음.csv')"
   ]
  },
  {
   "cell_type": "code",
   "execution_count": 12,
   "id": "a3cb5924",
   "metadata": {
    "ExecuteTime": {
     "end_time": "2022-11-28T15:58:03.585630Z",
     "start_time": "2022-11-28T15:58:03.548710Z"
    }
   },
   "outputs": [
    {
     "data": {
      "text/html": [
       "<div>\n",
       "<style scoped>\n",
       "    .dataframe tbody tr th:only-of-type {\n",
       "        vertical-align: middle;\n",
       "    }\n",
       "\n",
       "    .dataframe tbody tr th {\n",
       "        vertical-align: top;\n",
       "    }\n",
       "\n",
       "    .dataframe thead th {\n",
       "        text-align: right;\n",
       "    }\n",
       "</style>\n",
       "<table border=\"1\" class=\"dataframe\">\n",
       "  <thead>\n",
       "    <tr style=\"text-align: right;\">\n",
       "      <th></th>\n",
       "      <th>userID</th>\n",
       "      <th>assessmentItemID</th>\n",
       "      <th>testId</th>\n",
       "      <th>Timestamp</th>\n",
       "      <th>KnowledgeTag</th>\n",
       "      <th>solvesec</th>\n",
       "      <th>solvesec_3600</th>\n",
       "      <th>time_category</th>\n",
       "      <th>user_correct_answer</th>\n",
       "      <th>user_total_answer</th>\n",
       "      <th>...</th>\n",
       "      <th>tag_std</th>\n",
       "      <th>tag_sum</th>\n",
       "      <th>kind</th>\n",
       "      <th>solvesec_3600_2</th>\n",
       "      <th>solvesec_3200_2</th>\n",
       "      <th>solvesec_2400_2</th>\n",
       "      <th>solvesec_1800_2</th>\n",
       "      <th>solvesec_1200_2</th>\n",
       "      <th>solvesec_800_2</th>\n",
       "      <th>solvesec_600_2</th>\n",
       "    </tr>\n",
       "  </thead>\n",
       "  <tbody>\n",
       "    <tr>\n",
       "      <th>0</th>\n",
       "      <td>0</td>\n",
       "      <td>A060001001</td>\n",
       "      <td>A060000001</td>\n",
       "      <td>2020-03-24 00:17:11</td>\n",
       "      <td>7224</td>\n",
       "      <td>NaN</td>\n",
       "      <td>0.0</td>\n",
       "      <td>0</td>\n",
       "      <td>NaN</td>\n",
       "      <td>0</td>\n",
       "      <td>...</td>\n",
       "      <td>0.207410</td>\n",
       "      <td>637</td>\n",
       "      <td>train</td>\n",
       "      <td>NaN</td>\n",
       "      <td>NaN</td>\n",
       "      <td>NaN</td>\n",
       "      <td>NaN</td>\n",
       "      <td>NaN</td>\n",
       "      <td>NaN</td>\n",
       "      <td>NaN</td>\n",
       "    </tr>\n",
       "    <tr>\n",
       "      <th>1</th>\n",
       "      <td>0</td>\n",
       "      <td>A060001002</td>\n",
       "      <td>A060000001</td>\n",
       "      <td>2020-03-24 00:17:14</td>\n",
       "      <td>7225</td>\n",
       "      <td>3.0</td>\n",
       "      <td>3.0</td>\n",
       "      <td>1</td>\n",
       "      <td>1.0</td>\n",
       "      <td>1</td>\n",
       "      <td>...</td>\n",
       "      <td>0.281603</td>\n",
       "      <td>3040</td>\n",
       "      <td>train</td>\n",
       "      <td>3.0</td>\n",
       "      <td>3.0</td>\n",
       "      <td>3.0</td>\n",
       "      <td>3.0</td>\n",
       "      <td>3.0</td>\n",
       "      <td>3.0</td>\n",
       "      <td>3.0</td>\n",
       "    </tr>\n",
       "  </tbody>\n",
       "</table>\n",
       "<p>2 rows × 32 columns</p>\n",
       "</div>"
      ],
      "text/plain": [
       "   userID assessmentItemID      testId            Timestamp  KnowledgeTag  \\\n",
       "0       0       A060001001  A060000001  2020-03-24 00:17:11          7224   \n",
       "1       0       A060001002  A060000001  2020-03-24 00:17:14          7225   \n",
       "\n",
       "   solvesec  solvesec_3600  time_category  user_correct_answer  \\\n",
       "0       NaN            0.0              0                  NaN   \n",
       "1       3.0            3.0              1                  1.0   \n",
       "\n",
       "   user_total_answer  ...   tag_std  tag_sum   kind  solvesec_3600_2  \\\n",
       "0                  0  ...  0.207410      637  train              NaN   \n",
       "1                  1  ...  0.281603     3040  train              3.0   \n",
       "\n",
       "   solvesec_3200_2  solvesec_2400_2  solvesec_1800_2  solvesec_1200_2  \\\n",
       "0              NaN              NaN              NaN              NaN   \n",
       "1              3.0              3.0              3.0              3.0   \n",
       "\n",
       "   solvesec_800_2  solvesec_600_2  \n",
       "0             NaN             NaN  \n",
       "1             3.0             3.0  \n",
       "\n",
       "[2 rows x 32 columns]"
      ]
     },
     "execution_count": 12,
     "metadata": {},
     "output_type": "execute_result"
    }
   ],
   "source": [
    "x_train[:2]"
   ]
  },
  {
   "cell_type": "markdown",
   "id": "f079ac34",
   "metadata": {},
   "source": [
    "## 문제푼 시간 3200초 이상 모두 3200초 (NaN 채우지 않음)"
   ]
  },
  {
   "cell_type": "code",
   "execution_count": 13,
   "id": "a15304e0",
   "metadata": {
    "ExecuteTime": {
     "end_time": "2022-11-28T16:02:32.267242Z",
     "start_time": "2022-11-28T15:58:27.690042Z"
    },
    "scrolled": true
   },
   "outputs": [
    {
     "name": "stdout",
     "output_type": "stream",
     "text": [
      "[LightGBM] [Info] Number of positive: 1653588, number of negative: 872368\n",
      "[LightGBM] [Warning] Auto-choosing row-wise multi-threading, the overhead of testing was 0.046535 seconds.\n",
      "You can set `force_row_wise=true` to remove the overhead.\n",
      "And if memory is not enough, you can set `force_col_wise=true`.\n",
      "[LightGBM] [Info] Total Bins 3095\n",
      "[LightGBM] [Info] Number of data points in the train set: 2525956, number of used features: 18\n",
      "[LightGBM] [Info] [binary:BoostFromScore]: pavg=0.654638 -> initscore=0.639491\n",
      "[LightGBM] [Info] Start training from score 0.639491\n",
      "[100]\tvalid_0's binary_logloss: 0.586502\n",
      "[200]\tvalid_0's binary_logloss: 0.57959\n",
      "[300]\tvalid_0's binary_logloss: 0.572732\n",
      "[400]\tvalid_0's binary_logloss: 0.567639\n",
      "[500]\tvalid_0's binary_logloss: 0.562424\n",
      "[600]\tvalid_0's binary_logloss: 0.55853\n",
      "[700]\tvalid_0's binary_logloss: 0.556248\n",
      "[800]\tvalid_0's binary_logloss: 0.553459\n",
      "[900]\tvalid_0's binary_logloss: 0.551091\n",
      "[1000]\tvalid_0's binary_logloss: 0.549598\n",
      "[1100]\tvalid_0's binary_logloss: 0.546279\n",
      "[1200]\tvalid_0's binary_logloss: 0.545095\n",
      "[1300]\tvalid_0's binary_logloss: 0.541925\n",
      "[1400]\tvalid_0's binary_logloss: 0.539027\n",
      "[1500]\tvalid_0's binary_logloss: 0.538104\n",
      "[1600]\tvalid_0's binary_logloss: 0.536928\n",
      "[1700]\tvalid_0's binary_logloss: 0.535076\n",
      "[1800]\tvalid_0's binary_logloss: 0.533513\n",
      "[1900]\tvalid_0's binary_logloss: 0.532865\n",
      "[2000]\tvalid_0's binary_logloss: 0.532147\n",
      "[2100]\tvalid_0's binary_logloss: 0.530369\n",
      "[2200]\tvalid_0's binary_logloss: 0.529552\n",
      "[2300]\tvalid_0's binary_logloss: 0.528897\n",
      "[2400]\tvalid_0's binary_logloss: 0.52777\n",
      "[2500]\tvalid_0's binary_logloss: 0.526302\n",
      "[2600]\tvalid_0's binary_logloss: 0.524689\n",
      "[2700]\tvalid_0's binary_logloss: 0.523429\n",
      "[2800]\tvalid_0's binary_logloss: 0.521448\n",
      "[2900]\tvalid_0's binary_logloss: 0.520808\n",
      "[3000]\tvalid_0's binary_logloss: 0.519343\n",
      "[3100]\tvalid_0's binary_logloss: 0.518415\n",
      "[3200]\tvalid_0's binary_logloss: 0.516765\n",
      "VALID AUC : 0.8219769910630526 ACC : 0.7375886524822695\n",
      "\n",
      "writing prediction : output/LGBM_Baseline_문제푼시간_추가_3200_NaN채우지않음.csv\n"
     ]
    }
   ],
   "source": [
    "# 사용할 Feature 설정\n",
    "FEATS = ['KnowledgeTag',\n",
    "         'user_correct_answer',\n",
    "         'user_total_answer',\n",
    "         'big_category',\n",
    "         'mid_category',\n",
    "         'problem_num',\n",
    "         'month','day','dayname','hour',\n",
    "         'user_acc',\n",
    "         'test_mean',\n",
    "         'test_sum',\n",
    "         'test_std',\n",
    "         'tag_std',\n",
    "         'tag_mean',\n",
    "         'tag_sum',\n",
    "         'solvesec_3200_2'\n",
    "        ]\n",
    "\n",
    "lgb_x_train = lgb.Dataset(x_train[FEATS], y_train)\n",
    "lgb_x_valid = lgb.Dataset(x_valid[FEATS], y_valid)\n",
    "\n",
    "model6 = lgb.train(\n",
    "    params, \n",
    "    lgb_x_train,\n",
    "    valid_sets=[lgb_x_valid],\n",
    "    verbose_eval=100,\n",
    "    num_boost_round=3200,\n",
    "#     early_stopping_rounds=200,\n",
    ")\n",
    "\n",
    "preds = model6.predict(x_valid[FEATS])\n",
    "acc = accuracy_score(y_valid, np.where(preds >= 0.5, 1, 0))\n",
    "auc = roc_auc_score(y_valid, preds)\n",
    "\n",
    "print(f'VALID AUC : {auc} ACC : {acc}\\n')\n",
    "\n",
    "post_slack(\"done\")\n",
    "\n",
    "lgbm_predict(test, model6, FEATS, 'LGBM_Baseline_문제푼시간_추가_3200_NaN채우지않음.csv')"
   ]
  },
  {
   "cell_type": "markdown",
   "id": "e919dfee",
   "metadata": {},
   "source": [
    "## 문제푼 시간 2400초 이상 모두 2400초 (NaN 채우지 않음)"
   ]
  },
  {
   "cell_type": "code",
   "execution_count": 14,
   "id": "4def5a50",
   "metadata": {
    "ExecuteTime": {
     "end_time": "2022-11-28T16:06:18.425804Z",
     "start_time": "2022-11-28T16:02:32.272476Z"
    },
    "scrolled": true
   },
   "outputs": [
    {
     "name": "stdout",
     "output_type": "stream",
     "text": [
      "[LightGBM] [Info] Number of positive: 1653588, number of negative: 872368\n",
      "[LightGBM] [Warning] Auto-choosing row-wise multi-threading, the overhead of testing was 0.025751 seconds.\n",
      "You can set `force_row_wise=true` to remove the overhead.\n",
      "And if memory is not enough, you can set `force_col_wise=true`.\n",
      "[LightGBM] [Info] Total Bins 3095\n",
      "[LightGBM] [Info] Number of data points in the train set: 2525956, number of used features: 18\n",
      "[LightGBM] [Info] [binary:BoostFromScore]: pavg=0.654638 -> initscore=0.639491\n",
      "[LightGBM] [Info] Start training from score 0.639491\n",
      "[100]\tvalid_0's binary_logloss: 0.588256\n",
      "[200]\tvalid_0's binary_logloss: 0.581898\n",
      "[300]\tvalid_0's binary_logloss: 0.573774\n",
      "[400]\tvalid_0's binary_logloss: 0.567347\n",
      "[500]\tvalid_0's binary_logloss: 0.561978\n",
      "[600]\tvalid_0's binary_logloss: 0.5586\n",
      "[700]\tvalid_0's binary_logloss: 0.555183\n",
      "[800]\tvalid_0's binary_logloss: 0.552697\n",
      "[900]\tvalid_0's binary_logloss: 0.550415\n",
      "[1000]\tvalid_0's binary_logloss: 0.547781\n",
      "[1100]\tvalid_0's binary_logloss: 0.545578\n",
      "[1200]\tvalid_0's binary_logloss: 0.543372\n",
      "[1300]\tvalid_0's binary_logloss: 0.541259\n",
      "[1400]\tvalid_0's binary_logloss: 0.539873\n",
      "[1500]\tvalid_0's binary_logloss: 0.538597\n",
      "[1600]\tvalid_0's binary_logloss: 0.536933\n",
      "[1700]\tvalid_0's binary_logloss: 0.535575\n",
      "[1800]\tvalid_0's binary_logloss: 0.53351\n",
      "[1900]\tvalid_0's binary_logloss: 0.531674\n",
      "[2000]\tvalid_0's binary_logloss: 0.530989\n",
      "[2100]\tvalid_0's binary_logloss: 0.52962\n",
      "[2200]\tvalid_0's binary_logloss: 0.528908\n",
      "[2300]\tvalid_0's binary_logloss: 0.527613\n",
      "[2400]\tvalid_0's binary_logloss: 0.525996\n",
      "[2500]\tvalid_0's binary_logloss: 0.524932\n",
      "[2600]\tvalid_0's binary_logloss: 0.523271\n",
      "[2700]\tvalid_0's binary_logloss: 0.522329\n",
      "[2800]\tvalid_0's binary_logloss: 0.520783\n",
      "[2900]\tvalid_0's binary_logloss: 0.519519\n",
      "[3000]\tvalid_0's binary_logloss: 0.518826\n",
      "[3100]\tvalid_0's binary_logloss: 0.518003\n",
      "[3200]\tvalid_0's binary_logloss: 0.516697\n",
      "VALID AUC : 0.8230457627676557 ACC : 0.7396149949341438\n",
      "\n",
      "writing prediction : output/LGBM_Baseline_문제푼시간_추가_2400_NaN채우지않음.csv\n"
     ]
    }
   ],
   "source": [
    "# 사용할 Feature 설정\n",
    "FEATS = ['KnowledgeTag',\n",
    "         'user_correct_answer',\n",
    "         'user_total_answer',\n",
    "         'big_category',\n",
    "         'mid_category',\n",
    "         'problem_num',\n",
    "         'month','day','dayname','hour',\n",
    "         'user_acc',\n",
    "         'test_mean',\n",
    "         'test_sum',\n",
    "         'test_std',\n",
    "         'tag_std',\n",
    "         'tag_mean',\n",
    "         'tag_sum',\n",
    "         'solvesec_2400_2'\n",
    "        ]\n",
    "\n",
    "lgb_x_train = lgb.Dataset(x_train[FEATS], y_train)\n",
    "lgb_x_valid = lgb.Dataset(x_valid[FEATS], y_valid)\n",
    "\n",
    "model7 = lgb.train(\n",
    "    params, \n",
    "    lgb_x_train,\n",
    "    valid_sets=[lgb_x_valid],\n",
    "    verbose_eval=100,\n",
    "    num_boost_round=3200,\n",
    "#     early_stopping_rounds=200,\n",
    ")\n",
    "\n",
    "preds = model7.predict(x_valid[FEATS])\n",
    "acc = accuracy_score(y_valid, np.where(preds >= 0.5, 1, 0))\n",
    "auc = roc_auc_score(y_valid, preds)\n",
    "\n",
    "print(f'VALID AUC : {auc} ACC : {acc}\\n')\n",
    "\n",
    "post_slack(\"done\")\n",
    "\n",
    "lgbm_predict(test, model7, FEATS, 'LGBM_Baseline_문제푼시간_추가_2400_NaN채우지않음.csv')\n",
    "# 제출 AUC: 0.7828"
   ]
  },
  {
   "cell_type": "markdown",
   "id": "4faa4749",
   "metadata": {},
   "source": [
    "## 문제푼 시간 1800초 이상 모두 1800초 (NaN 채우지 않음)"
   ]
  },
  {
   "cell_type": "code",
   "execution_count": 15,
   "id": "11a9badf",
   "metadata": {
    "ExecuteTime": {
     "end_time": "2022-11-28T16:11:02.587327Z",
     "start_time": "2022-11-28T16:06:18.431568Z"
    },
    "scrolled": true
   },
   "outputs": [
    {
     "name": "stdout",
     "output_type": "stream",
     "text": [
      "[LightGBM] [Info] Number of positive: 1653588, number of negative: 872368\n",
      "[LightGBM] [Warning] Auto-choosing row-wise multi-threading, the overhead of testing was 0.057631 seconds.\n",
      "You can set `force_row_wise=true` to remove the overhead.\n",
      "And if memory is not enough, you can set `force_col_wise=true`.\n",
      "[LightGBM] [Info] Total Bins 3095\n",
      "[LightGBM] [Info] Number of data points in the train set: 2525956, number of used features: 18\n",
      "[LightGBM] [Info] [binary:BoostFromScore]: pavg=0.654638 -> initscore=0.639491\n",
      "[LightGBM] [Info] Start training from score 0.639491\n",
      "[100]\tvalid_0's binary_logloss: 0.587722\n",
      "[200]\tvalid_0's binary_logloss: 0.579209\n",
      "[300]\tvalid_0's binary_logloss: 0.574437\n",
      "[400]\tvalid_0's binary_logloss: 0.569448\n",
      "[500]\tvalid_0's binary_logloss: 0.564249\n",
      "[600]\tvalid_0's binary_logloss: 0.56075\n",
      "[700]\tvalid_0's binary_logloss: 0.557833\n",
      "[800]\tvalid_0's binary_logloss: 0.555997\n",
      "[900]\tvalid_0's binary_logloss: 0.552131\n",
      "[1000]\tvalid_0's binary_logloss: 0.549298\n",
      "[1100]\tvalid_0's binary_logloss: 0.546745\n",
      "[1200]\tvalid_0's binary_logloss: 0.543798\n",
      "[1300]\tvalid_0's binary_logloss: 0.54197\n",
      "[1400]\tvalid_0's binary_logloss: 0.540681\n",
      "[1500]\tvalid_0's binary_logloss: 0.538894\n",
      "[1600]\tvalid_0's binary_logloss: 0.537759\n",
      "[1700]\tvalid_0's binary_logloss: 0.535746\n",
      "[1800]\tvalid_0's binary_logloss: 0.534547\n",
      "[1900]\tvalid_0's binary_logloss: 0.533447\n",
      "[2000]\tvalid_0's binary_logloss: 0.531716\n",
      "[2100]\tvalid_0's binary_logloss: 0.529548\n",
      "[2200]\tvalid_0's binary_logloss: 0.527987\n",
      "[2300]\tvalid_0's binary_logloss: 0.526489\n",
      "[2400]\tvalid_0's binary_logloss: 0.525143\n",
      "[2500]\tvalid_0's binary_logloss: 0.523851\n",
      "[2600]\tvalid_0's binary_logloss: 0.522828\n",
      "[2700]\tvalid_0's binary_logloss: 0.521774\n",
      "[2800]\tvalid_0's binary_logloss: 0.520501\n",
      "[2900]\tvalid_0's binary_logloss: 0.519718\n",
      "[3000]\tvalid_0's binary_logloss: 0.518578\n",
      "[3100]\tvalid_0's binary_logloss: 0.517588\n",
      "[3200]\tvalid_0's binary_logloss: 0.516704\n",
      "VALID AUC : 0.822222839414737 ACC : 0.7446808510638298\n",
      "\n",
      "writing prediction : output/LGBM_Baseline_문제푼시간_추가_1800_NaN채우지않음.csv\n"
     ]
    }
   ],
   "source": [
    "# 사용할 Feature 설정\n",
    "FEATS = ['KnowledgeTag',\n",
    "         'user_correct_answer',\n",
    "         'user_total_answer',\n",
    "         'big_category',\n",
    "         'mid_category',\n",
    "         'problem_num',\n",
    "         'month','day','dayname','hour',\n",
    "         'user_acc',\n",
    "         'test_mean',\n",
    "         'test_sum',\n",
    "         'test_std',\n",
    "         'tag_std',\n",
    "         'tag_mean',\n",
    "         'tag_sum',\n",
    "         'solvesec_1800_2'\n",
    "        ]\n",
    "\n",
    "lgb_x_train = lgb.Dataset(x_train[FEATS], y_train)\n",
    "lgb_x_valid = lgb.Dataset(x_valid[FEATS], y_valid)\n",
    "\n",
    "model8 = lgb.train(\n",
    "    params, \n",
    "    lgb_x_train,\n",
    "    valid_sets=[lgb_x_valid],\n",
    "    verbose_eval=100,\n",
    "    num_boost_round=3200,\n",
    "#     early_stopping_rounds=200,\n",
    ")\n",
    "\n",
    "preds = model8.predict(x_valid[FEATS])\n",
    "acc = accuracy_score(y_valid, np.where(preds >= 0.5, 1, 0))\n",
    "auc = roc_auc_score(y_valid, preds)\n",
    "\n",
    "print(f'VALID AUC : {auc} ACC : {acc}\\n')\n",
    "\n",
    "post_slack(\"done\")\n",
    "\n",
    "lgbm_predict(test, model8, FEATS, 'LGBM_Baseline_문제푼시간_추가_1800_NaN채우지않음.csv')"
   ]
  },
  {
   "cell_type": "markdown",
   "id": "19de6772",
   "metadata": {},
   "source": [
    "## 문제푼 시간 1200초 이상 모두 1200초 (NaN 채우지 않음)"
   ]
  },
  {
   "cell_type": "code",
   "execution_count": 16,
   "id": "dd0a7304",
   "metadata": {
    "ExecuteTime": {
     "end_time": "2022-11-28T16:16:46.657101Z",
     "start_time": "2022-11-28T16:11:02.592908Z"
    },
    "scrolled": true
   },
   "outputs": [
    {
     "name": "stdout",
     "output_type": "stream",
     "text": [
      "[LightGBM] [Info] Number of positive: 1653588, number of negative: 872368\n",
      "[LightGBM] [Warning] Auto-choosing col-wise multi-threading, the overhead of testing was 0.188601 seconds.\n",
      "You can set `force_col_wise=true` to remove the overhead.\n",
      "[LightGBM] [Info] Total Bins 3095\n",
      "[LightGBM] [Info] Number of data points in the train set: 2525956, number of used features: 18\n",
      "[LightGBM] [Info] [binary:BoostFromScore]: pavg=0.654638 -> initscore=0.639491\n",
      "[LightGBM] [Info] Start training from score 0.639491\n",
      "[100]\tvalid_0's binary_logloss: 0.587058\n",
      "[200]\tvalid_0's binary_logloss: 0.579794\n",
      "[300]\tvalid_0's binary_logloss: 0.574722\n",
      "[400]\tvalid_0's binary_logloss: 0.568841\n",
      "[500]\tvalid_0's binary_logloss: 0.564294\n",
      "[600]\tvalid_0's binary_logloss: 0.561138\n",
      "[700]\tvalid_0's binary_logloss: 0.556389\n",
      "[800]\tvalid_0's binary_logloss: 0.554757\n",
      "[900]\tvalid_0's binary_logloss: 0.552172\n",
      "[1000]\tvalid_0's binary_logloss: 0.5478\n",
      "[1100]\tvalid_0's binary_logloss: 0.545379\n",
      "[1200]\tvalid_0's binary_logloss: 0.543779\n",
      "[1300]\tvalid_0's binary_logloss: 0.541464\n",
      "[1400]\tvalid_0's binary_logloss: 0.540231\n",
      "[1500]\tvalid_0's binary_logloss: 0.538149\n",
      "[1600]\tvalid_0's binary_logloss: 0.536272\n",
      "[1700]\tvalid_0's binary_logloss: 0.535275\n",
      "[1800]\tvalid_0's binary_logloss: 0.533949\n",
      "[1900]\tvalid_0's binary_logloss: 0.532463\n",
      "[2000]\tvalid_0's binary_logloss: 0.531272\n",
      "[2100]\tvalid_0's binary_logloss: 0.530113\n",
      "[2200]\tvalid_0's binary_logloss: 0.529108\n",
      "[2300]\tvalid_0's binary_logloss: 0.528272\n",
      "[2400]\tvalid_0's binary_logloss: 0.52739\n",
      "[2500]\tvalid_0's binary_logloss: 0.526183\n",
      "[2600]\tvalid_0's binary_logloss: 0.525209\n",
      "[2700]\tvalid_0's binary_logloss: 0.524382\n",
      "[2800]\tvalid_0's binary_logloss: 0.523408\n",
      "[2900]\tvalid_0's binary_logloss: 0.522562\n",
      "[3000]\tvalid_0's binary_logloss: 0.521885\n",
      "[3100]\tvalid_0's binary_logloss: 0.520963\n",
      "[3200]\tvalid_0's binary_logloss: 0.519968\n",
      "VALID AUC : 0.820575964054708 ACC : 0.7370820668693009\n",
      "\n",
      "writing prediction : output/LGBM_Baseline_문제푼시간_추가_1200_NaN채우지않음.csv\n"
     ]
    }
   ],
   "source": [
    "# 사용할 Feature 설정\n",
    "FEATS = ['KnowledgeTag',\n",
    "         'user_correct_answer',\n",
    "         'user_total_answer',\n",
    "         'big_category',\n",
    "         'mid_category',\n",
    "         'problem_num',\n",
    "         'month','day','dayname','hour',\n",
    "         'user_acc',\n",
    "         'test_mean',\n",
    "         'test_sum',\n",
    "         'test_std',\n",
    "         'tag_std',\n",
    "         'tag_mean',\n",
    "         'tag_sum',\n",
    "         'solvesec_1200_2'\n",
    "        ]\n",
    "\n",
    "lgb_x_train = lgb.Dataset(x_train[FEATS], y_train)\n",
    "lgb_x_valid = lgb.Dataset(x_valid[FEATS], y_valid)\n",
    "\n",
    "model9 = lgb.train(\n",
    "    params, \n",
    "    lgb_x_train,\n",
    "    valid_sets=[lgb_x_valid],\n",
    "    verbose_eval=100,\n",
    "    num_boost_round=3200,\n",
    "#     early_stopping_rounds=200,\n",
    ")\n",
    "\n",
    "preds = model9.predict(x_valid[FEATS])\n",
    "acc = accuracy_score(y_valid, np.where(preds >= 0.5, 1, 0))\n",
    "auc = roc_auc_score(y_valid, preds)\n",
    "\n",
    "print(f'VALID AUC : {auc} ACC : {acc}\\n')\n",
    "\n",
    "post_slack(\"done\")\n",
    "\n",
    "lgbm_predict(test, model9, FEATS, 'LGBM_Baseline_문제푼시간_추가_1200_NaN채우지않음.csv')"
   ]
  },
  {
   "cell_type": "markdown",
   "id": "88f7b65f",
   "metadata": {},
   "source": [
    "## 문제푼 시간 800초 이상 모두 800초 (NaN 채우지 않음)"
   ]
  },
  {
   "cell_type": "code",
   "execution_count": 17,
   "id": "95cbbed1",
   "metadata": {
    "ExecuteTime": {
     "end_time": "2022-11-28T16:21:39.439862Z",
     "start_time": "2022-11-28T16:16:46.668404Z"
    },
    "scrolled": true
   },
   "outputs": [
    {
     "name": "stdout",
     "output_type": "stream",
     "text": [
      "[LightGBM] [Info] Number of positive: 1653588, number of negative: 872368\n",
      "[LightGBM] [Warning] Auto-choosing row-wise multi-threading, the overhead of testing was 0.064085 seconds.\n",
      "You can set `force_row_wise=true` to remove the overhead.\n",
      "And if memory is not enough, you can set `force_col_wise=true`.\n",
      "[LightGBM] [Info] Total Bins 3095\n",
      "[LightGBM] [Info] Number of data points in the train set: 2525956, number of used features: 18\n",
      "[LightGBM] [Info] [binary:BoostFromScore]: pavg=0.654638 -> initscore=0.639491\n",
      "[LightGBM] [Info] Start training from score 0.639491\n",
      "[100]\tvalid_0's binary_logloss: 0.58643\n",
      "[200]\tvalid_0's binary_logloss: 0.579698\n",
      "[300]\tvalid_0's binary_logloss: 0.573991\n",
      "[400]\tvalid_0's binary_logloss: 0.566776\n",
      "[500]\tvalid_0's binary_logloss: 0.56198\n",
      "[600]\tvalid_0's binary_logloss: 0.557785\n",
      "[700]\tvalid_0's binary_logloss: 0.555966\n",
      "[800]\tvalid_0's binary_logloss: 0.553107\n",
      "[900]\tvalid_0's binary_logloss: 0.5523\n",
      "[1000]\tvalid_0's binary_logloss: 0.549443\n",
      "[1100]\tvalid_0's binary_logloss: 0.547573\n",
      "[1200]\tvalid_0's binary_logloss: 0.545874\n",
      "[1300]\tvalid_0's binary_logloss: 0.544805\n",
      "[1400]\tvalid_0's binary_logloss: 0.543314\n",
      "[1500]\tvalid_0's binary_logloss: 0.54222\n",
      "[1600]\tvalid_0's binary_logloss: 0.540925\n",
      "[1700]\tvalid_0's binary_logloss: 0.539365\n",
      "[1800]\tvalid_0's binary_logloss: 0.538093\n",
      "[1900]\tvalid_0's binary_logloss: 0.537345\n",
      "[2000]\tvalid_0's binary_logloss: 0.535842\n",
      "[2100]\tvalid_0's binary_logloss: 0.53431\n",
      "[2200]\tvalid_0's binary_logloss: 0.532469\n",
      "[2300]\tvalid_0's binary_logloss: 0.531379\n",
      "[2400]\tvalid_0's binary_logloss: 0.530114\n",
      "[2500]\tvalid_0's binary_logloss: 0.529092\n",
      "[2600]\tvalid_0's binary_logloss: 0.527428\n",
      "[2700]\tvalid_0's binary_logloss: 0.525445\n",
      "[2800]\tvalid_0's binary_logloss: 0.52439\n",
      "[2900]\tvalid_0's binary_logloss: 0.523637\n",
      "[3000]\tvalid_0's binary_logloss: 0.521998\n",
      "[3100]\tvalid_0's binary_logloss: 0.521531\n",
      "[3200]\tvalid_0's binary_logloss: 0.520306\n",
      "VALID AUC : 0.8205029296071364 ACC : 0.7396149949341438\n",
      "\n",
      "writing prediction : output/LGBM_Baseline_문제푼시간_추가_800_NaN채우지않음.csv\n"
     ]
    }
   ],
   "source": [
    "# 사용할 Feature 설정\n",
    "FEATS = ['KnowledgeTag',\n",
    "         'user_correct_answer',\n",
    "         'user_total_answer',\n",
    "         'big_category',\n",
    "         'mid_category',\n",
    "         'problem_num',\n",
    "         'month','day','dayname','hour',\n",
    "         'user_acc',\n",
    "         'test_mean',\n",
    "         'test_sum',\n",
    "         'test_std',\n",
    "         'tag_std',\n",
    "         'tag_mean',\n",
    "         'tag_sum',\n",
    "         'solvesec_800_2'\n",
    "        ]\n",
    "\n",
    "lgb_x_train = lgb.Dataset(x_train[FEATS], y_train)\n",
    "lgb_x_valid = lgb.Dataset(x_valid[FEATS], y_valid)\n",
    "\n",
    "model10 = lgb.train(\n",
    "    params, \n",
    "    lgb_x_train,\n",
    "    valid_sets=[lgb_x_valid],\n",
    "    verbose_eval=100,\n",
    "    num_boost_round=3200,\n",
    "#     early_stopping_rounds=200,\n",
    ")\n",
    "\n",
    "preds = model10.predict(x_valid[FEATS])\n",
    "acc = accuracy_score(y_valid, np.where(preds >= 0.5, 1, 0))\n",
    "auc = roc_auc_score(y_valid, preds)\n",
    "\n",
    "print(f'VALID AUC : {auc} ACC : {acc}\\n')\n",
    "\n",
    "post_slack(\"done\")\n",
    "\n",
    "lgbm_predict(test, model10, FEATS, 'LGBM_Baseline_문제푼시간_추가_800_NaN채우지않음.csv')"
   ]
  },
  {
   "cell_type": "markdown",
   "id": "386fa2c1",
   "metadata": {},
   "source": [
    "## 문제푼 시간 600초 이상 모두 600초 (NaN 채우지 않음)"
   ]
  },
  {
   "cell_type": "code",
   "execution_count": 18,
   "id": "2386c39a",
   "metadata": {
    "ExecuteTime": {
     "end_time": "2022-11-28T16:26:31.787817Z",
     "start_time": "2022-11-28T16:21:39.443389Z"
    },
    "scrolled": true
   },
   "outputs": [
    {
     "name": "stdout",
     "output_type": "stream",
     "text": [
      "[LightGBM] [Info] Number of positive: 1653588, number of negative: 872368\n",
      "[LightGBM] [Warning] Auto-choosing row-wise multi-threading, the overhead of testing was 0.068141 seconds.\n",
      "You can set `force_row_wise=true` to remove the overhead.\n",
      "And if memory is not enough, you can set `force_col_wise=true`.\n",
      "[LightGBM] [Info] Total Bins 3095\n",
      "[LightGBM] [Info] Number of data points in the train set: 2525956, number of used features: 18\n",
      "[LightGBM] [Info] [binary:BoostFromScore]: pavg=0.654638 -> initscore=0.639491\n",
      "[LightGBM] [Info] Start training from score 0.639491\n",
      "[100]\tvalid_0's binary_logloss: 0.587124\n",
      "[200]\tvalid_0's binary_logloss: 0.578588\n",
      "[300]\tvalid_0's binary_logloss: 0.573595\n",
      "[400]\tvalid_0's binary_logloss: 0.569711\n",
      "[500]\tvalid_0's binary_logloss: 0.564073\n",
      "[600]\tvalid_0's binary_logloss: 0.561293\n",
      "[700]\tvalid_0's binary_logloss: 0.557475\n",
      "[800]\tvalid_0's binary_logloss: 0.554662\n",
      "[900]\tvalid_0's binary_logloss: 0.55215\n",
      "[1000]\tvalid_0's binary_logloss: 0.549619\n",
      "[1100]\tvalid_0's binary_logloss: 0.547044\n",
      "[1200]\tvalid_0's binary_logloss: 0.545593\n",
      "[1300]\tvalid_0's binary_logloss: 0.543747\n",
      "[1400]\tvalid_0's binary_logloss: 0.541905\n",
      "[1500]\tvalid_0's binary_logloss: 0.540367\n",
      "[1600]\tvalid_0's binary_logloss: 0.539134\n",
      "[1700]\tvalid_0's binary_logloss: 0.53792\n",
      "[1800]\tvalid_0's binary_logloss: 0.536103\n",
      "[1900]\tvalid_0's binary_logloss: 0.534353\n",
      "[2000]\tvalid_0's binary_logloss: 0.53283\n",
      "[2100]\tvalid_0's binary_logloss: 0.53189\n",
      "[2200]\tvalid_0's binary_logloss: 0.530093\n",
      "[2300]\tvalid_0's binary_logloss: 0.529747\n",
      "[2400]\tvalid_0's binary_logloss: 0.528545\n",
      "[2500]\tvalid_0's binary_logloss: 0.527627\n",
      "[2600]\tvalid_0's binary_logloss: 0.526795\n",
      "[2700]\tvalid_0's binary_logloss: 0.525582\n",
      "[2800]\tvalid_0's binary_logloss: 0.524229\n",
      "[2900]\tvalid_0's binary_logloss: 0.522698\n",
      "[3000]\tvalid_0's binary_logloss: 0.521689\n",
      "[3100]\tvalid_0's binary_logloss: 0.520818\n",
      "[3200]\tvalid_0's binary_logloss: 0.519412\n",
      "VALID AUC : 0.8211201221218256 ACC : 0.7416413373860182\n",
      "\n",
      "writing prediction : output/LGBM_Baseline_문제푼시간_추가_600_NaN채우지않음.csv\n"
     ]
    }
   ],
   "source": [
    "# 사용할 Feature 설정\n",
    "FEATS = ['KnowledgeTag',\n",
    "         'user_correct_answer',\n",
    "         'user_total_answer',\n",
    "         'big_category',\n",
    "         'mid_category',\n",
    "         'problem_num',\n",
    "         'month','day','dayname','hour',\n",
    "         'user_acc',\n",
    "         'test_mean',\n",
    "         'test_sum',\n",
    "         'test_std',\n",
    "         'tag_std',\n",
    "         'tag_mean',\n",
    "         'tag_sum',\n",
    "         'solvesec_600_2'\n",
    "        ]\n",
    "\n",
    "lgb_x_train = lgb.Dataset(x_train[FEATS], y_train)\n",
    "lgb_x_valid = lgb.Dataset(x_valid[FEATS], y_valid)\n",
    "\n",
    "model11 = lgb.train(\n",
    "    params, \n",
    "    lgb_x_train,\n",
    "    valid_sets=[lgb_x_valid],\n",
    "    verbose_eval=100,\n",
    "    num_boost_round=3200,\n",
    "#     early_stopping_rounds=200,\n",
    ")\n",
    "\n",
    "preds = model11.predict(x_valid[FEATS])\n",
    "acc = accuracy_score(y_valid, np.where(preds >= 0.5, 1, 0))\n",
    "auc = roc_auc_score(y_valid, preds)\n",
    "\n",
    "print(f'VALID AUC : {auc} ACC : {acc}\\n')\n",
    "\n",
    "post_slack(\"done\")\n",
    "\n",
    "lgbm_predict(test, model11, FEATS, 'LGBM_Baseline_문제푼시간_추가_600_NaN채우지않음.csv')"
   ]
  },
  {
   "cell_type": "code",
   "execution_count": null,
   "id": "3eb3651c",
   "metadata": {},
   "outputs": [],
   "source": []
  },
  {
   "cell_type": "markdown",
   "id": "eb420c1b",
   "metadata": {},
   "source": [
    "## 문제푼 시간 카테고리 변수도 추가 (기존)"
   ]
  },
  {
   "cell_type": "code",
   "execution_count": 16,
   "id": "aa64f83a",
   "metadata": {
    "ExecuteTime": {
     "end_time": "2022-11-25T07:16:30.251217Z",
     "start_time": "2022-11-25T07:16:30.248040Z"
    }
   },
   "outputs": [],
   "source": [
    "# 사용할 Feature 설정\n",
    "FEATS = ['KnowledgeTag',\n",
    "         'user_correct_answer',\n",
    "         'user_total_answer',\n",
    "         'big_category',\n",
    "         'mid_category',\n",
    "         'problem_num',\n",
    "         'month','day','dayname','hour',\n",
    "         'user_acc',\n",
    "         'test_mean',\n",
    "         'test_sum',\n",
    "         'test_std',\n",
    "         'tag_std',\n",
    "         'tag_mean',\n",
    "         'tag_sum',\n",
    "         'solvesec',\n",
    "         'time_category'\n",
    "        ]"
   ]
  },
  {
   "cell_type": "code",
   "execution_count": 17,
   "id": "4bd56209",
   "metadata": {
    "ExecuteTime": {
     "end_time": "2022-11-25T07:20:37.173608Z",
     "start_time": "2022-11-25T07:16:35.375550Z"
    }
   },
   "outputs": [
    {
     "name": "stdout",
     "output_type": "stream",
     "text": [
      "[LightGBM] [Info] Number of positive: 1653588, number of negative: 872368\n",
      "[LightGBM] [Warning] Auto-choosing row-wise multi-threading, the overhead of testing was 0.052055 seconds.\n",
      "You can set `force_row_wise=true` to remove the overhead.\n",
      "And if memory is not enough, you can set `force_col_wise=true`.\n",
      "[LightGBM] [Info] Total Bins 3105\n",
      "[LightGBM] [Info] Number of data points in the train set: 2525956, number of used features: 19\n",
      "[LightGBM] [Info] [binary:BoostFromScore]: pavg=0.654638 -> initscore=0.639491\n",
      "[LightGBM] [Info] Start training from score 0.639491\n",
      "[100]\tvalid_0's binary_logloss: 0.560899\n",
      "[200]\tvalid_0's binary_logloss: 0.552517\n",
      "[300]\tvalid_0's binary_logloss: 0.547221\n",
      "[400]\tvalid_0's binary_logloss: 0.540192\n",
      "[500]\tvalid_0's binary_logloss: 0.535174\n",
      "[600]\tvalid_0's binary_logloss: 0.531541\n",
      "[700]\tvalid_0's binary_logloss: 0.527031\n",
      "[800]\tvalid_0's binary_logloss: 0.523995\n",
      "[900]\tvalid_0's binary_logloss: 0.522249\n",
      "[1000]\tvalid_0's binary_logloss: 0.519503\n",
      "[1100]\tvalid_0's binary_logloss: 0.517507\n",
      "[1200]\tvalid_0's binary_logloss: 0.515138\n",
      "[1300]\tvalid_0's binary_logloss: 0.513333\n",
      "[1400]\tvalid_0's binary_logloss: 0.512368\n",
      "[1500]\tvalid_0's binary_logloss: 0.51115\n",
      "[1600]\tvalid_0's binary_logloss: 0.508772\n",
      "[1700]\tvalid_0's binary_logloss: 0.506849\n",
      "[1800]\tvalid_0's binary_logloss: 0.505565\n",
      "[1900]\tvalid_0's binary_logloss: 0.504702\n",
      "[2000]\tvalid_0's binary_logloss: 0.503444\n",
      "[2100]\tvalid_0's binary_logloss: 0.502423\n",
      "[2200]\tvalid_0's binary_logloss: 0.501213\n",
      "[2300]\tvalid_0's binary_logloss: 0.500003\n",
      "[2400]\tvalid_0's binary_logloss: 0.498803\n",
      "[2500]\tvalid_0's binary_logloss: 0.497972\n",
      "[2600]\tvalid_0's binary_logloss: 0.497296\n",
      "[2700]\tvalid_0's binary_logloss: 0.495479\n",
      "[2800]\tvalid_0's binary_logloss: 0.494779\n",
      "[2900]\tvalid_0's binary_logloss: 0.493667\n",
      "[3000]\tvalid_0's binary_logloss: 0.492022\n",
      "[3100]\tvalid_0's binary_logloss: 0.491094\n",
      "[3200]\tvalid_0's binary_logloss: 0.490305\n",
      "VALID AUC : 0.8475305221483802 ACC : 0.7694510739856802\n",
      "\n"
     ]
    }
   ],
   "source": [
    "lgb_x_train = lgb.Dataset(x_train[FEATS], y_train)\n",
    "lgb_x_valid = lgb.Dataset(x_valid[FEATS], y_valid)\n",
    "\n",
    "model5 = lgb.train(\n",
    "    params, \n",
    "    lgb_x_train,\n",
    "    valid_sets=[lgb_x_valid],\n",
    "    verbose_eval=100,\n",
    "    num_boost_round=3200,\n",
    "#     early_stopping_rounds=200,\n",
    ")\n",
    "\n",
    "preds = model5.predict(x_valid[FEATS])\n",
    "acc = accuracy_score(y_valid, np.where(preds >= 0.5, 1, 0))\n",
    "auc = roc_auc_score(y_valid, preds)\n",
    "\n",
    "print(f'VALID AUC : {auc} ACC : {acc}\\n')"
   ]
  },
  {
   "cell_type": "markdown",
   "id": "10146cba",
   "metadata": {},
   "source": [
    "### validation"
   ]
  },
  {
   "cell_type": "code",
   "execution_count": 171,
   "id": "adb2583a",
   "metadata": {
    "ExecuteTime": {
     "end_time": "2022-11-28T09:13:35.370330Z",
     "start_time": "2022-11-28T09:13:35.219638Z"
    }
   },
   "outputs": [
    {
     "name": "stdout",
     "output_type": "stream",
     "text": [
      "VALID AUC : 0.8215223259105646 ACC : 0.7406281661600811\n",
      "\n"
     ]
    }
   ],
   "source": [
    "# 사용할 Feature 설정\n",
    "FEATS = ['KnowledgeTag',\n",
    "         'user_correct_answer',\n",
    "         'user_total_answer',\n",
    "         'big_category',\n",
    "         'mid_category',\n",
    "         'problem_num',\n",
    "         'month','day','dayname','hour',\n",
    "         'user_acc',\n",
    "         'test_mean',\n",
    "         'test_sum',\n",
    "         'test_std',\n",
    "         'tag_std',\n",
    "         'tag_mean',\n",
    "         'tag_sum',\n",
    "         'solvesec_3600',\n",
    "         'time_category'\n",
    "        ]\n",
    "preds = model5.predict(x_valid[FEATS])\n",
    "acc = accuracy_score(y_valid, np.where(preds >= 0.5, 1, 0))\n",
    "auc = roc_auc_score(y_valid, preds)\n",
    "\n",
    "print(f'VALID AUC : {auc} ACC : {acc}\\n')"
   ]
  },
  {
   "cell_type": "code",
   "execution_count": 18,
   "id": "0916c61e",
   "metadata": {
    "ExecuteTime": {
     "end_time": "2022-11-25T07:20:37.640409Z",
     "start_time": "2022-11-25T07:20:37.184245Z"
    }
   },
   "outputs": [],
   "source": [
    "post_slack(\"done\")"
   ]
  },
  {
   "cell_type": "markdown",
   "id": "79ac0848",
   "metadata": {},
   "source": [
    "## 문제푼 시간 2400 초 이상, 카테고리 변수 추가"
   ]
  },
  {
   "cell_type": "code",
   "execution_count": 21,
   "id": "28d972d8",
   "metadata": {
    "ExecuteTime": {
     "end_time": "2022-11-28T16:54:22.853101Z",
     "start_time": "2022-11-28T16:50:17.629735Z"
    },
    "scrolled": true
   },
   "outputs": [
    {
     "name": "stdout",
     "output_type": "stream",
     "text": [
      "[LightGBM] [Info] Number of positive: 1653588, number of negative: 872368\n",
      "[LightGBM] [Warning] Auto-choosing row-wise multi-threading, the overhead of testing was 0.049040 seconds.\n",
      "You can set `force_row_wise=true` to remove the overhead.\n",
      "And if memory is not enough, you can set `force_col_wise=true`.\n",
      "[LightGBM] [Info] Total Bins 3105\n",
      "[LightGBM] [Info] Number of data points in the train set: 2525956, number of used features: 19\n",
      "[LightGBM] [Info] [binary:BoostFromScore]: pavg=0.654638 -> initscore=0.639491\n",
      "[LightGBM] [Info] Start training from score 0.639491\n",
      "[100]\tvalid_0's binary_logloss: 0.588256\n",
      "[200]\tvalid_0's binary_logloss: 0.581898\n",
      "[300]\tvalid_0's binary_logloss: 0.573774\n",
      "[400]\tvalid_0's binary_logloss: 0.568879\n",
      "[500]\tvalid_0's binary_logloss: 0.561\n",
      "[600]\tvalid_0's binary_logloss: 0.558781\n",
      "[700]\tvalid_0's binary_logloss: 0.554875\n",
      "[800]\tvalid_0's binary_logloss: 0.55249\n",
      "[900]\tvalid_0's binary_logloss: 0.550776\n",
      "[1000]\tvalid_0's binary_logloss: 0.549105\n",
      "[1100]\tvalid_0's binary_logloss: 0.546567\n",
      "[1200]\tvalid_0's binary_logloss: 0.545324\n",
      "[1300]\tvalid_0's binary_logloss: 0.543706\n",
      "[1400]\tvalid_0's binary_logloss: 0.542158\n",
      "[1500]\tvalid_0's binary_logloss: 0.5406\n",
      "[1600]\tvalid_0's binary_logloss: 0.539788\n",
      "[1700]\tvalid_0's binary_logloss: 0.538546\n",
      "[1800]\tvalid_0's binary_logloss: 0.537203\n",
      "[1900]\tvalid_0's binary_logloss: 0.535428\n",
      "[2000]\tvalid_0's binary_logloss: 0.533224\n",
      "[2100]\tvalid_0's binary_logloss: 0.532318\n",
      "[2200]\tvalid_0's binary_logloss: 0.531587\n",
      "[2300]\tvalid_0's binary_logloss: 0.530798\n",
      "[2400]\tvalid_0's binary_logloss: 0.529845\n",
      "[2500]\tvalid_0's binary_logloss: 0.528255\n",
      "[2600]\tvalid_0's binary_logloss: 0.526311\n",
      "[2700]\tvalid_0's binary_logloss: 0.524061\n",
      "[2800]\tvalid_0's binary_logloss: 0.522714\n",
      "[2900]\tvalid_0's binary_logloss: 0.521889\n",
      "[3000]\tvalid_0's binary_logloss: 0.520535\n",
      "[3100]\tvalid_0's binary_logloss: 0.519687\n",
      "[3200]\tvalid_0's binary_logloss: 0.518673\n",
      "VALID AUC : 0.8215418703401965 ACC : 0.7411347517730497\n",
      "\n",
      "writing prediction : output/LGBM_Baseline_문제푼시간_추가_2400_NaN채우지않음_timecategory추가.csv\n"
     ]
    }
   ],
   "source": [
    "# 사용할 Feature 설정\n",
    "FEATS = ['KnowledgeTag',\n",
    "         'user_correct_answer',\n",
    "         'user_total_answer',\n",
    "         'big_category',\n",
    "         'mid_category',\n",
    "         'problem_num',\n",
    "         'month','day','dayname','hour',\n",
    "         'user_acc',\n",
    "         'test_mean',\n",
    "         'test_sum',\n",
    "         'test_std',\n",
    "         'tag_std',\n",
    "         'tag_mean',\n",
    "         'tag_sum',\n",
    "         'solvesec_2400_2',\n",
    "         'time_category'\n",
    "        ]\n",
    "\n",
    "lgb_x_train = lgb.Dataset(x_train[FEATS], y_train)\n",
    "lgb_x_valid = lgb.Dataset(x_valid[FEATS], y_valid)\n",
    "\n",
    "model13 = lgb.train(\n",
    "    params, \n",
    "    lgb_x_train,\n",
    "    valid_sets=[lgb_x_valid],\n",
    "    verbose_eval=100,\n",
    "    num_boost_round=3200,\n",
    "#     early_stopping_rounds=200,\n",
    ")\n",
    "\n",
    "preds = model13.predict(x_valid[FEATS])\n",
    "acc = accuracy_score(y_valid, np.where(preds >= 0.5, 1, 0))\n",
    "auc = roc_auc_score(y_valid, preds)\n",
    "\n",
    "print(f'VALID AUC : {auc} ACC : {acc}\\n')\n",
    "\n",
    "post_slack(\"done\")\n",
    "\n",
    "lgbm_predict(test, model13, FEATS, 'LGBM_Baseline_문제푼시간_추가_2400_NaN채우지않음_timecategory추가.csv')\n",
    "# 제출 AUC: 0.7828 -> "
   ]
  },
  {
   "cell_type": "code",
   "execution_count": null,
   "id": "dfd39761",
   "metadata": {},
   "outputs": [],
   "source": []
  },
  {
   "cell_type": "code",
   "execution_count": null,
   "id": "1cabefe2",
   "metadata": {},
   "outputs": [],
   "source": []
  },
  {
   "cell_type": "code",
   "execution_count": null,
   "id": "2be6964b",
   "metadata": {},
   "outputs": [],
   "source": []
  },
  {
   "cell_type": "code",
   "execution_count": 52,
   "id": "4fc084b0",
   "metadata": {
    "ExecuteTime": {
     "end_time": "2022-11-27T12:58:47.221634Z",
     "start_time": "2022-11-27T12:58:47.133050Z"
    }
   },
   "outputs": [
    {
     "name": "stdout",
     "output_type": "stream",
     "text": [
      "writing prediction : output/LGBM_Baseline_문제푼시간_추가_최대3600으로_time_category추가.csv\n"
     ]
    }
   ],
   "source": [
    "lgbm_predict(test, model5, FEATS, 'LGBM_Baseline_문제푼시간_추가_최대3600으로_time_category추가.csv')"
   ]
  }
 ],
 "metadata": {
  "kernelspec": {
   "display_name": "Python 3 (ipykernel)",
   "language": "python",
   "name": "python3"
  },
  "language_info": {
   "codemirror_mode": {
    "name": "ipython",
    "version": 3
   },
   "file_extension": ".py",
   "mimetype": "text/x-python",
   "name": "python",
   "nbconvert_exporter": "python",
   "pygments_lexer": "ipython3",
   "version": "3.9.15"
  },
  "toc": {
   "base_numbering": 1,
   "nav_menu": {},
   "number_sections": true,
   "sideBar": true,
   "skip_h1_title": true,
   "title_cell": "Table of Contents",
   "title_sidebar": "Contents",
   "toc_cell": false,
   "toc_position": {
    "height": "calc(100% - 180px)",
    "left": "10px",
    "top": "150px",
    "width": "383.991px"
   },
   "toc_section_display": true,
   "toc_window_display": true
  }
 },
 "nbformat": 4,
 "nbformat_minor": 5
}
