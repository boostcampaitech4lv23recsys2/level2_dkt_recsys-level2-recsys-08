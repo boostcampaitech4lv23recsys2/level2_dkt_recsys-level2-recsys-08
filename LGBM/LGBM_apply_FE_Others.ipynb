{
 "cells": [
  {
   "cell_type": "markdown",
   "id": "1a73ded2",
   "metadata": {},
   "source": [
    "## dataload"
   ]
  },
  {
   "cell_type": "code",
   "execution_count": 24,
   "id": "464cf792",
   "metadata": {
    "ExecuteTime": {
     "end_time": "2022-12-06T16:51:31.953116Z",
     "start_time": "2022-12-06T16:51:04.667738Z"
    }
   },
   "outputs": [
    {
     "data": {
      "text/plain": [
       "((1845539, 62), (1974, 62), (260114, 62))"
      ]
     },
     "execution_count": 24,
     "metadata": {},
     "output_type": "execute_result"
    },
    {
     "data": {
      "text/plain": [
       "((1845539, 61), (1845539, 1), (1974, 61), (1974, 1))"
      ]
     },
     "execution_count": 24,
     "metadata": {},
     "output_type": "execute_result"
    }
   ],
   "source": [
    "import mlflow\n",
    "import mlflow.lightgbm\n",
    "from datetime import datetime\n",
    "from IPython.core.interactiveshell import InteractiveShell\n",
    "InteractiveShell.ast_node_interactivity = 'all'\n",
    "import pandas as pd\n",
    "import os\n",
    "import random\n",
    "import eli5\n",
    "import warnings\n",
    "warnings.filterwarnings('ignore')\n",
    "import lightgbm as lgb\n",
    "from sklearn.metrics import roc_auc_score\n",
    "from sklearn.metrics import accuracy_score\n",
    "from eli5.sklearn import PermutationImportance\n",
    "import numpy as np\n",
    "from utils import custom_train_test_split, lgbm_predict, post_slack, title2filename\n",
    "os.environ[\"LOGNAME\"]='cwj'\n",
    "SEED=13\n",
    "\n",
    "## 1. 데이터 로딩\n",
    "data_dir = '/opt/ml/input/data' # 경로\n",
    "after_fe_path = os.path.join(data_dir, 'lgbm_other_features.pkl')\n",
    "df = pd.read_pickle(after_fe_path)\n",
    "\n",
    "train_df = df[df.kind=='train']\n",
    "train, valid = custom_train_test_split(train_df, ratio=0.7, seed=SEED) # 훈련데이터 split\n",
    "test = df[df.kind=='test'] # 테스트 데이터\n",
    "train2 = test[test.answerCode!=-1] # 테스트데이터 마지막 제출 2번쨰꺼까지 훈련데이터로 사용\n",
    "train = pd.concat([train,train2]) # 훈련데이터 병합\n",
    "train.shape, valid.shape, test.shape\n",
    "\n",
    "x_train = train.drop('answerCode',axis=1)\n",
    "y_train = train[['answerCode']]\n",
    "\n",
    "x_valid = valid.drop('answerCode',axis=1)\n",
    "y_valid = valid[['answerCode']]\n",
    "x_train.shape, y_train.shape, x_valid.shape, y_valid.shape"
   ]
  },
  {
   "cell_type": "code",
   "execution_count": 30,
   "id": "3339deb4",
   "metadata": {
    "ExecuteTime": {
     "end_time": "2022-12-06T16:54:31.192277Z",
     "start_time": "2022-12-06T16:54:30.980251Z"
    }
   },
   "outputs": [
    {
     "data": {
      "text/plain": [
       "5469902.5"
      ]
     },
     "execution_count": 30,
     "metadata": {},
     "output_type": "execute_result"
    }
   ],
   "source": [
    "max(df.solvesec_y)"
   ]
  },
  {
   "cell_type": "code",
   "execution_count": 25,
   "id": "c824f78d",
   "metadata": {
    "ExecuteTime": {
     "end_time": "2022-12-06T16:51:31.964504Z",
     "start_time": "2022-12-06T16:51:31.958470Z"
    }
   },
   "outputs": [
    {
     "data": {
      "text/plain": [
       "Index(['userID', 'assessmentItemID', 'testId', 'answerCode', 'Timestamp',\n",
       "       'KnowledgeTag', 'kind', 'uidIdx', 'assIdx', 'testIdx',\n",
       "       'user_correct_answer', 'user_total_answer', 'user_acc', 'month', 'day',\n",
       "       'hour', 'dayname', 'big_category', 'problem_num', 'mid_category',\n",
       "       'test_mean', 'test_std', 'test_sum', 'tag_mean', 'tag_std', 'tag_sum',\n",
       "       'Timestamp2', 'solvetime', 'solvesec_x', 'solvesec_3600',\n",
       "       'time_category', 'solvesec_cumsum', 'solvecumsum_category',\n",
       "       'big_category_cumconut', 'big_category_answer',\n",
       "       'big_category_user_cum_acc', 'mid_category_cumconut',\n",
       "       'mid_category_answer', 'mid_category_user_cum_acc', 'ass_acc_mean',\n",
       "       'ass_difficulty', 'ass_acc_std', 'pb_num_acc_mean', 'pb_num_difficulty',\n",
       "       'pb_num_acc_std', 'assess_count', 'left_asymptote',\n",
       "       'elo_assessmentItemID', 'elo_problem_num', 'user_tag_cluster',\n",
       "       'tag_cluster', 'elo_big_category', 'elo_mid_category',\n",
       "       'elo_user_tag_cluster', 'elo_tag_cluster', 'user_mean_acc',\n",
       "       'big_category_acc', 'big_category_acc_category', 'solvesec_y',\n",
       "       'user_acc_rolling_mean_10', 'answerCodeshift', 'tag_count'],\n",
       "      dtype='object')"
      ]
     },
     "execution_count": 25,
     "metadata": {},
     "output_type": "execute_result"
    }
   ],
   "source": [
    "df.columns"
   ]
  },
  {
   "cell_type": "markdown",
   "id": "f1db3fb0",
   "metadata": {},
   "source": [
    "## Params"
   ]
  },
  {
   "cell_type": "code",
   "execution_count": 31,
   "id": "a5bb8a1a",
   "metadata": {
    "ExecuteTime": {
     "end_time": "2022-12-06T17:06:44.346586Z",
     "start_time": "2022-12-06T16:57:31.507298Z"
    }
   },
   "outputs": [
    {
     "data": {
      "text/plain": [
       "([0, 2, 3, 9, 13, 14, 20],\n",
       " '🌈(12/07 Wed)[LGBM] 피처 추가: 21개',\n",
       " '사용된 피처(21)\\nKnowledgeTag, user_mean_acc, assIdx, big_category, big_category_acc, big_category_acc_category, user_acc, user_correct_answer, day, time_category, solvesec_3600, elo_assessmentItemID, hour, month, problem_num, user_acc_rolling_mean_10, assess_count, user_tag_cluster, tag_count, userID, dayname')"
      ]
     },
     "execution_count": 31,
     "metadata": {},
     "output_type": "execute_result"
    },
    {
     "name": "stdout",
     "output_type": "stream",
     "text": [
      "[LightGBM] [Warning] boosting is set=gbdt, boosting_type=gbdt will be ignored. Current value: boosting=gbdt\n",
      "[LightGBM] [Warning] min_data_in_leaf is set=1000, min_child_samples=20 will be ignored. Current value: min_data_in_leaf=1000\n",
      "[LightGBM] [Warning] bagging_fraction is set=0.75, subsample=1.0 will be ignored. Current value: bagging_fraction=0.75\n",
      "[100]\ttrain's auc: 0.838032\tvalid's auc: 0.825617\n",
      "[200]\ttrain's auc: 0.841749\tvalid's auc: 0.82921\n",
      "[300]\ttrain's auc: 0.844514\tvalid's auc: 0.83151\n",
      "[400]\ttrain's auc: 0.846513\tvalid's auc: 0.833183\n",
      "[500]\ttrain's auc: 0.847953\tvalid's auc: 0.834339\n",
      "[600]\ttrain's auc: 0.849022\tvalid's auc: 0.835157\n",
      "[700]\ttrain's auc: 0.849898\tvalid's auc: 0.836058\n",
      "[800]\ttrain's auc: 0.850653\tvalid's auc: 0.836651\n",
      "[900]\ttrain's auc: 0.851268\tvalid's auc: 0.837293\n",
      "[1000]\ttrain's auc: 0.851818\tvalid's auc: 0.837803\n",
      "[1100]\ttrain's auc: 0.852326\tvalid's auc: 0.838373\n",
      "[1200]\ttrain's auc: 0.8528\tvalid's auc: 0.838807\n",
      "[1300]\ttrain's auc: 0.853221\tvalid's auc: 0.839079\n",
      "[1400]\ttrain's auc: 0.853625\tvalid's auc: 0.839252\n",
      "[1500]\ttrain's auc: 0.853997\tvalid's auc: 0.839513\n",
      "[1600]\ttrain's auc: 0.85439\tvalid's auc: 0.839614\n",
      "[1700]\ttrain's auc: 0.854742\tvalid's auc: 0.83981\n",
      "[1800]\ttrain's auc: 0.855068\tvalid's auc: 0.840076\n",
      "[1900]\ttrain's auc: 0.855396\tvalid's auc: 0.840171\n",
      "[2000]\ttrain's auc: 0.855687\tvalid's auc: 0.840306\n",
      "[2100]\ttrain's auc: 0.855962\tvalid's auc: 0.840384\n",
      "[2200]\ttrain's auc: 0.856251\tvalid's auc: 0.840446\n",
      "[2300]\ttrain's auc: 0.856528\tvalid's auc: 0.840601\n",
      "[2400]\ttrain's auc: 0.8568\tvalid's auc: 0.840708\n",
      "[2500]\ttrain's auc: 0.857063\tvalid's auc: 0.8408\n",
      "[2600]\ttrain's auc: 0.857323\tvalid's auc: 0.840917\n",
      "[2700]\ttrain's auc: 0.857587\tvalid's auc: 0.840994\n",
      "[2800]\ttrain's auc: 0.857838\tvalid's auc: 0.841024\n",
      "[2900]\ttrain's auc: 0.858089\tvalid's auc: 0.841119\n",
      "[3000]\ttrain's auc: 0.858333\tvalid's auc: 0.841285\n",
      "[3100]\ttrain's auc: 0.858576\tvalid's auc: 0.841331\n",
      "[3200]\ttrain's auc: 0.858819\tvalid's auc: 0.841334\n"
     ]
    },
    {
     "name": "stderr",
     "output_type": "stream",
     "text": [
      "2022/12/07 02:06:39 WARNING mlflow.utils.autologging_utils: Encountered unexpected error during lightgbm autologging: The following failures occurred while performing one or more logging operations: [MlflowException('Failed to perform one or more operations on the run with ID 2528d6d3d0f149d79c1efd10b3e40885. Failed operations: [MlflowException(\"Duplicate parameter keys have been submitted: [\\'early_stopping_rounds\\']. Please ensure the request contains only one param value per param key.\")]')]\n"
     ]
    },
    {
     "data": {
      "text/html": [
       "<style>#sk-container-id-5 {color: black;background-color: white;}#sk-container-id-5 pre{padding: 0;}#sk-container-id-5 div.sk-toggleable {background-color: white;}#sk-container-id-5 label.sk-toggleable__label {cursor: pointer;display: block;width: 100%;margin-bottom: 0;padding: 0.3em;box-sizing: border-box;text-align: center;}#sk-container-id-5 label.sk-toggleable__label-arrow:before {content: \"▸\";float: left;margin-right: 0.25em;color: #696969;}#sk-container-id-5 label.sk-toggleable__label-arrow:hover:before {color: black;}#sk-container-id-5 div.sk-estimator:hover label.sk-toggleable__label-arrow:before {color: black;}#sk-container-id-5 div.sk-toggleable__content {max-height: 0;max-width: 0;overflow: hidden;text-align: left;background-color: #f0f8ff;}#sk-container-id-5 div.sk-toggleable__content pre {margin: 0.2em;color: black;border-radius: 0.25em;background-color: #f0f8ff;}#sk-container-id-5 input.sk-toggleable__control:checked~div.sk-toggleable__content {max-height: 200px;max-width: 100%;overflow: auto;}#sk-container-id-5 input.sk-toggleable__control:checked~label.sk-toggleable__label-arrow:before {content: \"▾\";}#sk-container-id-5 div.sk-estimator input.sk-toggleable__control:checked~label.sk-toggleable__label {background-color: #d4ebff;}#sk-container-id-5 div.sk-label input.sk-toggleable__control:checked~label.sk-toggleable__label {background-color: #d4ebff;}#sk-container-id-5 input.sk-hidden--visually {border: 0;clip: rect(1px 1px 1px 1px);clip: rect(1px, 1px, 1px, 1px);height: 1px;margin: -1px;overflow: hidden;padding: 0;position: absolute;width: 1px;}#sk-container-id-5 div.sk-estimator {font-family: monospace;background-color: #f0f8ff;border: 1px dotted black;border-radius: 0.25em;box-sizing: border-box;margin-bottom: 0.5em;}#sk-container-id-5 div.sk-estimator:hover {background-color: #d4ebff;}#sk-container-id-5 div.sk-parallel-item::after {content: \"\";width: 100%;border-bottom: 1px solid gray;flex-grow: 1;}#sk-container-id-5 div.sk-label:hover label.sk-toggleable__label {background-color: #d4ebff;}#sk-container-id-5 div.sk-serial::before {content: \"\";position: absolute;border-left: 1px solid gray;box-sizing: border-box;top: 0;bottom: 0;left: 50%;z-index: 0;}#sk-container-id-5 div.sk-serial {display: flex;flex-direction: column;align-items: center;background-color: white;padding-right: 0.2em;padding-left: 0.2em;position: relative;}#sk-container-id-5 div.sk-item {position: relative;z-index: 1;}#sk-container-id-5 div.sk-parallel {display: flex;align-items: stretch;justify-content: center;background-color: white;position: relative;}#sk-container-id-5 div.sk-item::before, #sk-container-id-5 div.sk-parallel-item::before {content: \"\";position: absolute;border-left: 1px solid gray;box-sizing: border-box;top: 0;bottom: 0;left: 50%;z-index: -1;}#sk-container-id-5 div.sk-parallel-item {display: flex;flex-direction: column;z-index: 1;position: relative;background-color: white;}#sk-container-id-5 div.sk-parallel-item:first-child::after {align-self: flex-end;width: 50%;}#sk-container-id-5 div.sk-parallel-item:last-child::after {align-self: flex-start;width: 50%;}#sk-container-id-5 div.sk-parallel-item:only-child::after {width: 0;}#sk-container-id-5 div.sk-dashed-wrapped {border: 1px dashed gray;margin: 0 0.4em 0.5em 0.4em;box-sizing: border-box;padding-bottom: 0.4em;background-color: white;}#sk-container-id-5 div.sk-label label {font-family: monospace;font-weight: bold;display: inline-block;line-height: 1.2em;}#sk-container-id-5 div.sk-label-container {text-align: center;}#sk-container-id-5 div.sk-container {/* jupyter's `normalize.less` sets `[hidden] { display: none; }` but bootstrap.min.css set `[hidden] { display: none !important; }` so we also need the `!important` here to be able to override the default hidden behavior on the sphinx rendered scikit-learn.org. See: https://github.com/scikit-learn/scikit-learn/issues/21755 */display: inline-block !important;position: relative;}#sk-container-id-5 div.sk-text-repr-fallback {display: none;}</style><div id=\"sk-container-id-5\" class=\"sk-top-container\"><div class=\"sk-text-repr-fallback\"><pre>LGBMClassifier(bagging_fraction=0.75, boosting=&#x27;gbdt&#x27;, learning_rate=0.01,\n",
       "               max_depth=8, metric=&#x27;auc&#x27;, min_data_in_leaf=1000,\n",
       "               n_estimators=3200, num_leaves=80, objective=&#x27;binary&#x27;, seed=42,\n",
       "               silent=-1)</pre><b>In a Jupyter environment, please rerun this cell to show the HTML representation or trust the notebook. <br />On GitHub, the HTML representation is unable to render, please try loading this page with nbviewer.org.</b></div><div class=\"sk-container\" hidden><div class=\"sk-item\"><div class=\"sk-estimator sk-toggleable\"><input class=\"sk-toggleable__control sk-hidden--visually\" id=\"sk-estimator-id-5\" type=\"checkbox\" checked><label for=\"sk-estimator-id-5\" class=\"sk-toggleable__label sk-toggleable__label-arrow\">LGBMClassifier</label><div class=\"sk-toggleable__content\"><pre>LGBMClassifier(bagging_fraction=0.75, boosting=&#x27;gbdt&#x27;, learning_rate=0.01,\n",
       "               max_depth=8, metric=&#x27;auc&#x27;, min_data_in_leaf=1000,\n",
       "               n_estimators=3200, num_leaves=80, objective=&#x27;binary&#x27;, seed=42,\n",
       "               silent=-1)</pre></div></div></div></div></div>"
      ],
      "text/plain": [
       "LGBMClassifier(bagging_fraction=0.75, boosting='gbdt', learning_rate=0.01,\n",
       "               max_depth=8, metric='auc', min_data_in_leaf=1000,\n",
       "               n_estimators=3200, num_leaves=80, objective='binary', seed=42,\n",
       "               silent=-1)"
      ]
     },
     "execution_count": 31,
     "metadata": {},
     "output_type": "execute_result"
    },
    {
     "name": "stdout",
     "output_type": "stream",
     "text": [
      "VALID AUC : 0.8413342056320876 ACC : 0.7710233029381965\n",
      "\n",
      "model3_run_id='2528d6d3d0f149d79c1efd10b3e40885'\n",
      "writing prediction : output/12_07_Wed_LGBM_피처_추가_21개.csv\n"
     ]
    },
    {
     "data": {
      "image/png": "[encoded data removed]",
      "text/plain": [
       "<Figure size 640x480 with 1 Axes>"
      ]
     },
     "metadata": {},
     "output_type": "display_data"
    }
   ],
   "source": [
    "# TODO : tunning\n",
    "params = {\n",
    "    \"max_depth\": 8,  # 8,\n",
    "    \"min_data_in_leaf\": 1000,\n",
    "    # \"feature_fraction\": 0.6,  # 0.8,\n",
    "    \"bagging_fraction\": 0.75,\n",
    "    # \"max_cat_group\": 64,\n",
    "    \"objective\": \"binary\",\n",
    "    \"boosting\": \"gbdt\",  # dart\n",
    "    \"learning_rate\": 0.01,  # 0.01,\n",
    "    # \"bagging_freq\": 5,\n",
    "    \"seed\": 42,\n",
    "    # \"max_bin\": 50,\n",
    "    \"num_leaves\": 80,  # 40,\n",
    "    \"metric\": \"auc\",\n",
    "}\n",
    "\n",
    "model = lgb.LGBMClassifier(\n",
    "    **params,\n",
    "    n_estimators=1000,\n",
    "    silent=-1\n",
    ")\n",
    "\n",
    "### 피처 설정\n",
    "# 사용할 Feature 설정\n",
    "FEATS = [\n",
    "     'KnowledgeTag',\n",
    "     'user_mean_acc',\n",
    "     'assIdx',\n",
    "     'big_category',\n",
    "     'big_category_acc',\n",
    "     'big_category_acc_category',\n",
    "    \n",
    "     'user_acc',\n",
    "     'user_correct_answer',\n",
    "    \n",
    "     'day',\n",
    "     'time_category',\n",
    "     'solvesec_3600',     \n",
    "     'elo_assessmentItemID',\n",
    "     'hour',\n",
    "     'month',\n",
    "     'problem_num',\n",
    "     'user_acc_rolling_mean_10',    \n",
    "     'assess_count',\n",
    "     \"user_tag_cluster\",\n",
    "     'tag_count',    \n",
    "     'userID',\n",
    "    \n",
    "     'dayname',\n",
    "        ]\n",
    "\n",
    "cat_feats = ['uidIdx','assIdx','testIdx','KnowledgeTag','big_category','mid_category',\n",
    "             'problem_num','dayname','month','time_category','solvecumsum_category']\n",
    "cat_feats_idx = [i for i,e in enumerate(FEATS) if e in cat_feats]\n",
    "\n",
    "### 학습 및 예측\n",
    "\n",
    "date = datetime.now().strftime('%m/%d %a')\n",
    "title=f\"🌈({date})[LGBM] 피처 1000 epochs: {len(FEATS)}개\"\n",
    "using_feats=\", \".join(FEATS)\n",
    "desc=f\"사용된 피처({len(FEATS)})\\n{using_feats}\"\n",
    "cat_feats_idx, title, desc\n",
    "\n",
    "mlflow.lightgbm.autolog()\n",
    "mlflow.sklearn.autolog()\n",
    "lgb_x_train = lgb.Dataset(x_train[FEATS], y_train)\n",
    "lgb_x_valid = lgb.Dataset(x_valid[FEATS], y_valid)\n",
    "\n",
    "with mlflow.start_run(run_name=title, description=desc) as run:\n",
    "    model.fit(\n",
    "        X=x_train[FEATS],\n",
    "        y=y_train,\n",
    "        early_stopping_rounds=100,\n",
    "        eval_set=[(x_train[FEATS], y_train), (x_valid[FEATS], y_valid)],\n",
    "        eval_names=[\"train\",'valid'],\n",
    "        eval_metric=\"roc_auc\",\n",
    "        verbose=100,\n",
    "    )\n",
    "    preds = model.predict_proba(x_valid[FEATS])[:,1]\n",
    "    acc = accuracy_score(y_valid, np.where(preds >= 0.5, 1, 0))\n",
    "    auc = roc_auc_score(y_valid, preds)\n",
    "    print(f'VALID AUC : {auc} ACC : {acc}\\n')\n",
    "    mlflow.log_metric(\"VAL AUC\",auc)\n",
    "    mlflow.log_metric(\"VAL Set SEED\",SEED)\n",
    "    model3_run_id=run.info.run_id\n",
    "    post_slack(\"done\")\n",
    "    print(f\"{model3_run_id=}\")\n",
    "    file_name = title2filename(title)\n",
    "    test_preds = lgbm_predict(test, model, FEATS, f'{file_name}.csv')\n",
    "\n",
    "q = pd.Series(test_preds).plot(kind='kde')"
   ]
  },
  {
   "cell_type": "code",
   "execution_count": 37,
   "id": "d920c638",
   "metadata": {
    "ExecuteTime": {
     "end_time": "2022-12-06T17:25:25.218575Z",
     "start_time": "2022-12-06T17:25:25.167676Z"
    }
   },
   "outputs": [
    {
     "data": {
      "text/plain": [
       "<ActiveRun: >"
      ]
     },
     "execution_count": 37,
     "metadata": {},
     "output_type": "execute_result"
    },
    {
     "name": "stdout",
     "output_type": "stream",
     "text": [
      "Active run_id: 2528d6d3d0f149d79c1efd10b3e40885\n"
     ]
    }
   ],
   "source": [
    "### 제출 mlflow 등록\n",
    "# 제출시\n",
    "LB_AUC=0.7831\n",
    "run_id = '2528d6d3d0f149d79c1efd10b3e40885'\n",
    "mlflow.start_run(run_id=run_id)\n",
    "run = mlflow.active_run()\n",
    "print(\"Active run_id: {}\".format(run.info.run_id))\n",
    "mlflow.log_metric(\"LB AUC\",LB_AUC)\n",
    "mlflow.end_run()"
   ]
  },
  {
   "cell_type": "code",
   "execution_count": 20,
   "id": "34000b90",
   "metadata": {
    "ExecuteTime": {
     "end_time": "2022-12-06T14:43:30.139305Z",
     "start_time": "2022-12-06T14:43:29.019704Z"
    }
   },
   "outputs": [
    {
     "data": {
      "text/html": [
       "\n",
       "    <style>\n",
       "    table.eli5-weights tr:hover {\n",
       "        filter: brightness(85%);\n",
       "    }\n",
       "</style>\n",
       "\n",
       "\n",
       "\n",
       "    \n",
       "\n",
       "    \n",
       "\n",
       "    \n",
       "\n",
       "    \n",
       "\n",
       "    \n",
       "\n",
       "    \n",
       "\n",
       "\n",
       "    \n",
       "\n",
       "    \n",
       "\n",
       "    \n",
       "\n",
       "    \n",
       "\n",
       "    \n",
       "\n",
       "    \n",
       "\n",
       "\n",
       "    \n",
       "\n",
       "    \n",
       "\n",
       "    \n",
       "\n",
       "    \n",
       "\n",
       "    \n",
       "        <table class=\"eli5-weights eli5-feature-importances\" style=\"border-collapse: collapse; border: none; margin-top: 0em; table-layout: auto;\">\n",
       "    <thead>\n",
       "    <tr style=\"border: none;\">\n",
       "        <th style=\"padding: 0 1em 0 0.5em; text-align: right; border: none;\">Weight</th>\n",
       "        <th style=\"padding: 0 0.5em 0 0.5em; text-align: left; border: none;\">Feature</th>\n",
       "    </tr>\n",
       "    </thead>\n",
       "    <tbody>\n",
       "    \n",
       "        <tr style=\"background-color: hsl(120, 100.00%, 80.00%); border: none;\">\n",
       "            <td style=\"padding: 0 1em 0 0.5em; text-align: right; border: none;\">\n",
       "                0.2086\n",
       "                \n",
       "                    &plusmn; 0.0000\n",
       "                \n",
       "            </td>\n",
       "            <td style=\"padding: 0 0.5em 0 0.5em; text-align: left; border: none;\">\n",
       "                elo_assessmentItemID\n",
       "            </td>\n",
       "        </tr>\n",
       "    \n",
       "        <tr style=\"background-color: hsl(120, 100.00%, 92.29%); border: none;\">\n",
       "            <td style=\"padding: 0 1em 0 0.5em; text-align: right; border: none;\">\n",
       "                0.0534\n",
       "                \n",
       "                    &plusmn; 0.0000\n",
       "                \n",
       "            </td>\n",
       "            <td style=\"padding: 0 0.5em 0 0.5em; text-align: left; border: none;\">\n",
       "                big_category_user_cum_acc\n",
       "            </td>\n",
       "        </tr>\n",
       "    \n",
       "        <tr style=\"background-color: hsl(120, 100.00%, 92.49%); border: none;\">\n",
       "            <td style=\"padding: 0 1em 0 0.5em; text-align: right; border: none;\">\n",
       "                0.0515\n",
       "                \n",
       "                    &plusmn; 0.0000\n",
       "                \n",
       "            </td>\n",
       "            <td style=\"padding: 0 0.5em 0 0.5em; text-align: left; border: none;\">\n",
       "                solvesec_3600\n",
       "            </td>\n",
       "        </tr>\n",
       "    \n",
       "        <tr style=\"background-color: hsl(120, 100.00%, 95.86%); border: none;\">\n",
       "            <td style=\"padding: 0 1em 0 0.5em; text-align: right; border: none;\">\n",
       "                0.0220\n",
       "                \n",
       "                    &plusmn; 0.0000\n",
       "                \n",
       "            </td>\n",
       "            <td style=\"padding: 0 0.5em 0 0.5em; text-align: left; border: none;\">\n",
       "                assIdx\n",
       "            </td>\n",
       "        </tr>\n",
       "    \n",
       "        <tr style=\"background-color: hsl(120, 100.00%, 96.25%); border: none;\">\n",
       "            <td style=\"padding: 0 1em 0 0.5em; text-align: right; border: none;\">\n",
       "                0.0191\n",
       "                \n",
       "                    &plusmn; 0.0000\n",
       "                \n",
       "            </td>\n",
       "            <td style=\"padding: 0 0.5em 0 0.5em; text-align: left; border: none;\">\n",
       "                user_mean_acc\n",
       "            </td>\n",
       "        </tr>\n",
       "    \n",
       "        <tr style=\"background-color: hsl(120, 100.00%, 98.13%); border: none;\">\n",
       "            <td style=\"padding: 0 1em 0 0.5em; text-align: right; border: none;\">\n",
       "                0.0071\n",
       "                \n",
       "                    &plusmn; 0.0000\n",
       "                \n",
       "            </td>\n",
       "            <td style=\"padding: 0 0.5em 0 0.5em; text-align: left; border: none;\">\n",
       "                time_category\n",
       "            </td>\n",
       "        </tr>\n",
       "    \n",
       "        <tr style=\"background-color: hsl(120, 100.00%, 98.81%); border: none;\">\n",
       "            <td style=\"padding: 0 1em 0 0.5em; text-align: right; border: none;\">\n",
       "                0.0037\n",
       "                \n",
       "                    &plusmn; 0.0000\n",
       "                \n",
       "            </td>\n",
       "            <td style=\"padding: 0 0.5em 0 0.5em; text-align: left; border: none;\">\n",
       "                userID\n",
       "            </td>\n",
       "        </tr>\n",
       "    \n",
       "        <tr style=\"background-color: hsl(120, 100.00%, 99.25%); border: none;\">\n",
       "            <td style=\"padding: 0 1em 0 0.5em; text-align: right; border: none;\">\n",
       "                0.0019\n",
       "                \n",
       "                    &plusmn; 0.0000\n",
       "                \n",
       "            </td>\n",
       "            <td style=\"padding: 0 0.5em 0 0.5em; text-align: left; border: none;\">\n",
       "                user_acc\n",
       "            </td>\n",
       "        </tr>\n",
       "    \n",
       "        <tr style=\"background-color: hsl(120, 100.00%, 99.56%); border: none;\">\n",
       "            <td style=\"padding: 0 1em 0 0.5em; text-align: right; border: none;\">\n",
       "                0.0009\n",
       "                \n",
       "                    &plusmn; 0.0000\n",
       "                \n",
       "            </td>\n",
       "            <td style=\"padding: 0 0.5em 0 0.5em; text-align: left; border: none;\">\n",
       "                big_category_cumconut\n",
       "            </td>\n",
       "        </tr>\n",
       "    \n",
       "        <tr style=\"background-color: hsl(120, 100.00%, 99.69%); border: none;\">\n",
       "            <td style=\"padding: 0 1em 0 0.5em; text-align: right; border: none;\">\n",
       "                0.0005\n",
       "                \n",
       "                    &plusmn; 0.0000\n",
       "                \n",
       "            </td>\n",
       "            <td style=\"padding: 0 0.5em 0 0.5em; text-align: left; border: none;\">\n",
       "                user_tag_cluster\n",
       "            </td>\n",
       "        </tr>\n",
       "    \n",
       "        <tr style=\"background-color: hsl(120, 100.00%, 99.74%); border: none;\">\n",
       "            <td style=\"padding: 0 1em 0 0.5em; text-align: right; border: none;\">\n",
       "                0.0004\n",
       "                \n",
       "                    &plusmn; 0.0000\n",
       "                \n",
       "            </td>\n",
       "            <td style=\"padding: 0 0.5em 0 0.5em; text-align: left; border: none;\">\n",
       "                month\n",
       "            </td>\n",
       "        </tr>\n",
       "    \n",
       "        <tr style=\"background-color: hsl(120, 100.00%, 99.81%); border: none;\">\n",
       "            <td style=\"padding: 0 1em 0 0.5em; text-align: right; border: none;\">\n",
       "                0.0003\n",
       "                \n",
       "                    &plusmn; 0.0000\n",
       "                \n",
       "            </td>\n",
       "            <td style=\"padding: 0 0.5em 0 0.5em; text-align: left; border: none;\">\n",
       "                KnowledgeTag\n",
       "            </td>\n",
       "        </tr>\n",
       "    \n",
       "        <tr style=\"background-color: hsl(120, 100.00%, 99.82%); border: none;\">\n",
       "            <td style=\"padding: 0 1em 0 0.5em; text-align: right; border: none;\">\n",
       "                0.0002\n",
       "                \n",
       "                    &plusmn; 0.0000\n",
       "                \n",
       "            </td>\n",
       "            <td style=\"padding: 0 0.5em 0 0.5em; text-align: left; border: none;\">\n",
       "                user_correct_answer\n",
       "            </td>\n",
       "        </tr>\n",
       "    \n",
       "        <tr style=\"background-color: hsl(120, 100.00%, 99.86%); border: none;\">\n",
       "            <td style=\"padding: 0 1em 0 0.5em; text-align: right; border: none;\">\n",
       "                0.0002\n",
       "                \n",
       "                    &plusmn; 0.0000\n",
       "                \n",
       "            </td>\n",
       "            <td style=\"padding: 0 0.5em 0 0.5em; text-align: left; border: none;\">\n",
       "                problem_num\n",
       "            </td>\n",
       "        </tr>\n",
       "    \n",
       "        <tr style=\"background-color: hsl(120, 100.00%, 99.92%); border: none;\">\n",
       "            <td style=\"padding: 0 1em 0 0.5em; text-align: right; border: none;\">\n",
       "                0.0001\n",
       "                \n",
       "                    &plusmn; 0.0000\n",
       "                \n",
       "            </td>\n",
       "            <td style=\"padding: 0 0.5em 0 0.5em; text-align: left; border: none;\">\n",
       "                hour\n",
       "            </td>\n",
       "        </tr>\n",
       "    \n",
       "        <tr style=\"background-color: hsl(120, 100.00%, 99.93%); border: none;\">\n",
       "            <td style=\"padding: 0 1em 0 0.5em; text-align: right; border: none;\">\n",
       "                0.0001\n",
       "                \n",
       "                    &plusmn; 0.0000\n",
       "                \n",
       "            </td>\n",
       "            <td style=\"padding: 0 0.5em 0 0.5em; text-align: left; border: none;\">\n",
       "                dayname\n",
       "            </td>\n",
       "        </tr>\n",
       "    \n",
       "        <tr style=\"background-color: hsl(120, 100.00%, 99.95%); border: none;\">\n",
       "            <td style=\"padding: 0 1em 0 0.5em; text-align: right; border: none;\">\n",
       "                0.0000\n",
       "                \n",
       "                    &plusmn; 0.0000\n",
       "                \n",
       "            </td>\n",
       "            <td style=\"padding: 0 0.5em 0 0.5em; text-align: left; border: none;\">\n",
       "                big_category\n",
       "            </td>\n",
       "        </tr>\n",
       "    \n",
       "        <tr style=\"background-color: hsl(120, 100.00%, 99.96%); border: none;\">\n",
       "            <td style=\"padding: 0 1em 0 0.5em; text-align: right; border: none;\">\n",
       "                0.0000\n",
       "                \n",
       "                    &plusmn; 0.0000\n",
       "                \n",
       "            </td>\n",
       "            <td style=\"padding: 0 0.5em 0 0.5em; text-align: left; border: none;\">\n",
       "                assess_count\n",
       "            </td>\n",
       "        </tr>\n",
       "    \n",
       "        <tr style=\"background-color: hsl(0, 100.00%, 99.92%); border: none;\">\n",
       "            <td style=\"padding: 0 1em 0 0.5em; text-align: right; border: none;\">\n",
       "                -0.0001\n",
       "                \n",
       "                    &plusmn; 0.0000\n",
       "                \n",
       "            </td>\n",
       "            <td style=\"padding: 0 0.5em 0 0.5em; text-align: left; border: none;\">\n",
       "                day\n",
       "            </td>\n",
       "        </tr>\n",
       "    \n",
       "    \n",
       "    </tbody>\n",
       "</table>\n",
       "    \n",
       "\n",
       "    \n",
       "\n",
       "\n",
       "    \n",
       "\n",
       "    \n",
       "\n",
       "    \n",
       "\n",
       "    \n",
       "\n",
       "    \n",
       "\n",
       "    \n",
       "\n",
       "\n",
       "\n"
      ],
      "text/plain": [
       "<IPython.core.display.HTML object>"
      ]
     },
     "execution_count": 20,
     "metadata": {},
     "output_type": "execute_result"
    },
    {
     "data": {
      "text/html": [
       "<div>\n",
       "<style scoped>\n",
       "    .dataframe tbody tr th:only-of-type {\n",
       "        vertical-align: middle;\n",
       "    }\n",
       "\n",
       "    .dataframe tbody tr th {\n",
       "        vertical-align: top;\n",
       "    }\n",
       "\n",
       "    .dataframe thead th {\n",
       "        text-align: right;\n",
       "    }\n",
       "</style>\n",
       "<table border=\"1\" class=\"dataframe\">\n",
       "  <thead>\n",
       "    <tr style=\"text-align: right;\">\n",
       "      <th></th>\n",
       "      <th>feature</th>\n",
       "      <th>importance</th>\n",
       "      <th>std</th>\n",
       "    </tr>\n",
       "  </thead>\n",
       "  <tbody>\n",
       "    <tr>\n",
       "      <th>0</th>\n",
       "      <td>elo_assessmentItemID</td>\n",
       "      <td>0.208598</td>\n",
       "      <td>0.0</td>\n",
       "    </tr>\n",
       "    <tr>\n",
       "      <th>1</th>\n",
       "      <td>big_category_user_cum_acc</td>\n",
       "      <td>0.053417</td>\n",
       "      <td>0.0</td>\n",
       "    </tr>\n",
       "    <tr>\n",
       "      <th>2</th>\n",
       "      <td>solvesec_3600</td>\n",
       "      <td>0.051522</td>\n",
       "      <td>0.0</td>\n",
       "    </tr>\n",
       "    <tr>\n",
       "      <th>3</th>\n",
       "      <td>assIdx</td>\n",
       "      <td>0.021997</td>\n",
       "      <td>0.0</td>\n",
       "    </tr>\n",
       "    <tr>\n",
       "      <th>4</th>\n",
       "      <td>user_mean_acc</td>\n",
       "      <td>0.019094</td>\n",
       "      <td>0.0</td>\n",
       "    </tr>\n",
       "    <tr>\n",
       "      <th>5</th>\n",
       "      <td>time_category</td>\n",
       "      <td>0.007065</td>\n",
       "      <td>0.0</td>\n",
       "    </tr>\n",
       "    <tr>\n",
       "      <th>6</th>\n",
       "      <td>userID</td>\n",
       "      <td>0.003723</td>\n",
       "      <td>0.0</td>\n",
       "    </tr>\n",
       "    <tr>\n",
       "      <th>7</th>\n",
       "      <td>user_acc</td>\n",
       "      <td>0.001912</td>\n",
       "      <td>0.0</td>\n",
       "    </tr>\n",
       "    <tr>\n",
       "      <th>8</th>\n",
       "      <td>big_category_cumconut</td>\n",
       "      <td>0.000891</td>\n",
       "      <td>0.0</td>\n",
       "    </tr>\n",
       "    <tr>\n",
       "      <th>9</th>\n",
       "      <td>user_tag_cluster</td>\n",
       "      <td>0.000549</td>\n",
       "      <td>0.0</td>\n",
       "    </tr>\n",
       "    <tr>\n",
       "      <th>10</th>\n",
       "      <td>month</td>\n",
       "      <td>0.000424</td>\n",
       "      <td>0.0</td>\n",
       "    </tr>\n",
       "    <tr>\n",
       "      <th>11</th>\n",
       "      <td>KnowledgeTag</td>\n",
       "      <td>0.000264</td>\n",
       "      <td>0.0</td>\n",
       "    </tr>\n",
       "    <tr>\n",
       "      <th>12</th>\n",
       "      <td>user_correct_answer</td>\n",
       "      <td>0.000245</td>\n",
       "      <td>0.0</td>\n",
       "    </tr>\n",
       "    <tr>\n",
       "      <th>13</th>\n",
       "      <td>problem_num</td>\n",
       "      <td>0.000166</td>\n",
       "      <td>0.0</td>\n",
       "    </tr>\n",
       "    <tr>\n",
       "      <th>14</th>\n",
       "      <td>hour</td>\n",
       "      <td>0.000082</td>\n",
       "      <td>0.0</td>\n",
       "    </tr>\n",
       "    <tr>\n",
       "      <th>15</th>\n",
       "      <td>dayname</td>\n",
       "      <td>0.000062</td>\n",
       "      <td>0.0</td>\n",
       "    </tr>\n",
       "    <tr>\n",
       "      <th>16</th>\n",
       "      <td>big_category</td>\n",
       "      <td>0.000040</td>\n",
       "      <td>0.0</td>\n",
       "    </tr>\n",
       "    <tr>\n",
       "      <th>17</th>\n",
       "      <td>assess_count</td>\n",
       "      <td>0.000034</td>\n",
       "      <td>0.0</td>\n",
       "    </tr>\n",
       "    <tr>\n",
       "      <th>18</th>\n",
       "      <td>day</td>\n",
       "      <td>-0.000078</td>\n",
       "      <td>0.0</td>\n",
       "    </tr>\n",
       "  </tbody>\n",
       "</table>\n",
       "</div>"
      ],
      "text/plain": [
       "                      feature  importance  std\n",
       "0        elo_assessmentItemID    0.208598  0.0\n",
       "1   big_category_user_cum_acc    0.053417  0.0\n",
       "2               solvesec_3600    0.051522  0.0\n",
       "3                      assIdx    0.021997  0.0\n",
       "4               user_mean_acc    0.019094  0.0\n",
       "5               time_category    0.007065  0.0\n",
       "6                      userID    0.003723  0.0\n",
       "7                    user_acc    0.001912  0.0\n",
       "8       big_category_cumconut    0.000891  0.0\n",
       "9            user_tag_cluster    0.000549  0.0\n",
       "10                      month    0.000424  0.0\n",
       "11               KnowledgeTag    0.000264  0.0\n",
       "12        user_correct_answer    0.000245  0.0\n",
       "13                problem_num    0.000166  0.0\n",
       "14                       hour    0.000082  0.0\n",
       "15                    dayname    0.000062  0.0\n",
       "16               big_category    0.000040  0.0\n",
       "17               assess_count    0.000034  0.0\n",
       "18                        day   -0.000078  0.0"
      ]
     },
     "execution_count": 20,
     "metadata": {},
     "output_type": "execute_result"
    }
   ],
   "source": [
    "perm = PermutationImportance(\n",
    "    model, scoring=\"roc_auc\", n_iter=1, random_state=42, cv=None, refit=False\n",
    ").fit(x_valid[FEATS], y_valid)\n",
    "eli5.show_weights(perm, top=len(FEATS), feature_names=FEATS)\n",
    "perm_imp_df = pd.DataFrame()\n",
    "perm_imp_df[\"feature\"] = FEATS\n",
    "perm_imp_df[\"importance\"] = perm.feature_importances_\n",
    "perm_imp_df[\"std\"] = perm.feature_importances_std_\n",
    "perm_imp_df.sort_values(by=\"importance\", ascending=False, inplace=True)\n",
    "perm_imp_df.reset_index(drop=True, inplace=True)\n",
    "perm_imp_df"
   ]
  },
  {
   "cell_type": "code",
   "execution_count": 13,
   "id": "26e3d8f3",
   "metadata": {
    "ExecuteTime": {
     "end_time": "2022-12-05T14:51:51.269713Z",
     "start_time": "2022-12-05T14:51:51.244657Z"
    }
   },
   "outputs": [
    {
     "data": {
      "text/plain": [
       "<ActiveRun: >"
      ]
     },
     "execution_count": 13,
     "metadata": {},
     "output_type": "execute_result"
    },
    {
     "name": "stdout",
     "output_type": "stream",
     "text": [
      "Active run_id: 5c679883be5f4a65a06aacef5671d156\n"
     ]
    }
   ],
   "source": [
    "### 제출 mlflow 등록\n",
    "# 제출시\n",
    "LB_AUC=0.8185\n",
    "run_id = '5c679883be5f4a65a06aacef5671d156'\n",
    "mlflow.start_run(run_id=run_id)\n",
    "run = mlflow.active_run()\n",
    "print(\"Active run_id: {}\".format(run.info.run_id))\n",
    "mlflow.log_metric(\"LB AUC\",LB_AUC)\n",
    "mlflow.end_run()"
   ]
  },
  {
   "cell_type": "markdown",
   "id": "d7af18b4",
   "metadata": {},
   "source": [
    "## user_acc_rolling_mean_10_big_category_관련_피처_추가"
   ]
  },
  {
   "cell_type": "code",
   "execution_count": 32,
   "id": "d09541f6",
   "metadata": {
    "ExecuteTime": {
     "end_time": "2022-12-06T17:13:09.453036Z",
     "start_time": "2022-12-06T17:08:47.171909Z"
    }
   },
   "outputs": [
    {
     "data": {
      "text/plain": [
       "([0, 1, 2, 3, 6, 7, 8, 9, 11, 21, 23, 31, 34],\n",
       " '🌈(12/07 Wed)[LGBM user_acc_rolling_mean_10, big_category 관련 피처 추가 lr 0.023] 피처: 35개',\n",
       " '사용된 피처(35)\\nuidIdx, assIdx, testIdx, KnowledgeTag, user_correct_answer, user_total_answer, big_category, mid_category, problem_num, month, day, dayname, hour, user_acc, test_mean, test_sum, test_std, tag_std, tag_mean, tag_sum, solvesec_3600, time_category, solvesec_cumsum, solvecumsum_category, big_category_cumconut, big_category_user_cum_acc, mid_category_cumconut, mid_category_user_cum_acc, assess_count, elo_assessmentItemID, elo_problem_num, user_tag_cluster, user_acc_rolling_mean_10, big_category_acc, big_category_acc_category')"
      ]
     },
     "execution_count": 32,
     "metadata": {},
     "output_type": "execute_result"
    },
    {
     "name": "stdout",
     "output_type": "stream",
     "text": [
      "[LightGBM] [Info] Number of positive: 1208276, number of negative: 637263\n",
      "[LightGBM] [Warning] Auto-choosing row-wise multi-threading, the overhead of testing was 0.037956 seconds.\n",
      "You can set `force_row_wise=true` to remove the overhead.\n",
      "And if memory is not enough, you can set `force_col_wise=true`.\n",
      "[LightGBM] [Info] Total Bins 20538\n",
      "[LightGBM] [Info] Number of data points in the train set: 1845539, number of used features: 35\n",
      "[LightGBM] [Info] [binary:BoostFromScore]: pavg=0.654701 -> initscore=0.639767\n",
      "[LightGBM] [Info] Start training from score 0.639767\n",
      "Training until validation scores don't improve for 100 rounds\n",
      "[100]\tvalid_0's binary_logloss: 0.520431\n",
      "[200]\tvalid_0's binary_logloss: 0.502625\n",
      "[300]\tvalid_0's binary_logloss: 0.497136\n",
      "[400]\tvalid_0's binary_logloss: 0.494068\n",
      "[500]\tvalid_0's binary_logloss: 0.491752\n",
      "[600]\tvalid_0's binary_logloss: 0.490237\n",
      "[700]\tvalid_0's binary_logloss: 0.488646\n",
      "[800]\tvalid_0's binary_logloss: 0.487044\n",
      "[900]\tvalid_0's binary_logloss: 0.485485\n",
      "[1000]\tvalid_0's binary_logloss: 0.484103\n",
      "[1100]\tvalid_0's binary_logloss: 0.483001\n",
      "[1200]\tvalid_0's binary_logloss: 0.482028\n",
      "[1300]\tvalid_0's binary_logloss: 0.48136\n",
      "[1400]\tvalid_0's binary_logloss: 0.480447\n",
      "[1500]\tvalid_0's binary_logloss: 0.479679\n",
      "[1600]\tvalid_0's binary_logloss: 0.479156\n",
      "[1700]\tvalid_0's binary_logloss: 0.478765\n",
      "[1800]\tvalid_0's binary_logloss: 0.478367\n",
      "[1900]\tvalid_0's binary_logloss: 0.477895\n",
      "[2000]\tvalid_0's binary_logloss: 0.477444\n",
      "[2100]\tvalid_0's binary_logloss: 0.476921\n",
      "[2200]\tvalid_0's binary_logloss: 0.476299\n",
      "[2300]\tvalid_0's binary_logloss: 0.475838\n",
      "[2400]\tvalid_0's binary_logloss: 0.475475\n",
      "[2500]\tvalid_0's binary_logloss: 0.475162\n",
      "[2600]\tvalid_0's binary_logloss: 0.474793\n",
      "[2700]\tvalid_0's binary_logloss: 0.47434\n",
      "[2800]\tvalid_0's binary_logloss: 0.474211\n",
      "[2900]\tvalid_0's binary_logloss: 0.473775\n",
      "[3000]\tvalid_0's binary_logloss: 0.473426\n",
      "[3100]\tvalid_0's binary_logloss: 0.47304\n",
      "[3200]\tvalid_0's binary_logloss: 0.472543\n",
      "Did not meet early stopping. Best iteration is:\n",
      "[3200]\tvalid_0's binary_logloss: 0.472543\n",
      "VALID AUC : 0.8535793051235208 ACC : 0.7695035460992907\n",
      "\n",
      "model3_run_id='3be9e9bb7f014138b80aa2567096febd'\n",
      "writing prediction : output/12_07_Wed_LGBM_user_acc_rolling_mean_10_big_category_관련_피처_추가_lr_0_023_피처_35개.csv\n"
     ]
    },
    {
     "data": {
      "image/png": "[encoded data removed]",
      "text/plain": [
       "<Figure size 640x480 with 1 Axes>"
      ]
     },
     "metadata": {},
     "output_type": "display_data"
    }
   ],
   "source": [
    "# Hyper parameter 설정\n",
    "params = {\n",
    "#     \"max_depth\": 8,  # 8,\n",
    "#     \"min_data_in_leaf\": 1000,\n",
    "    # \"feature_fraction\": 0.6,  # 0.8,\n",
    "#     \"bagging_fraction\": 0.75,\n",
    "    # \"max_cat_group\": 64,\n",
    "    \"objective\": \"binary\",\n",
    "#     \"boosting\": \"gbdt\",  # dart\n",
    "    \"learning_rate\": 0.023,  # 0.01,\n",
    "    # \"bagging_freq\": 5,\n",
    "    \"seed\": 42,\n",
    "    # \"max_bin\": 50,\n",
    "#     \"num_leaves\": 80,  # 40,\n",
    "#     \"metric\": \"auc\",\n",
    "}\n",
    "\n",
    "### 피처 설정\n",
    "# 사용할 Feature 설정\n",
    "FEATS = ['uidIdx',\n",
    "         'assIdx',\n",
    "         'testIdx',\n",
    "         'KnowledgeTag',\n",
    "         'user_correct_answer',\n",
    "         'user_total_answer',\n",
    "         'big_category',\n",
    "         'mid_category',\n",
    "         'problem_num',\n",
    "         'month','day','dayname','hour',\n",
    "         'user_acc',\n",
    "         'test_mean',\n",
    "         'test_sum',\n",
    "         'test_std',\n",
    "         'tag_std',\n",
    "         'tag_mean',\n",
    "         'tag_sum',\n",
    "         'solvesec_3600',\n",
    "         'time_category',\n",
    "         'solvesec_cumsum',\n",
    "         'solvecumsum_category',\n",
    "         'big_category_cumconut',\n",
    "         'big_category_user_cum_acc',\n",
    "         'mid_category_cumconut',\n",
    "         'mid_category_user_cum_acc',\n",
    "         'assess_count',\n",
    "         'elo_assessmentItemID',\n",
    "         'elo_problem_num',\n",
    "         'user_tag_cluster',\n",
    "         'user_acc_rolling_mean_10',\n",
    "         'big_category_acc',\n",
    "         'big_category_acc_category',\n",
    "        ]\n",
    "\n",
    "cat_feats = ['uidIdx','assIdx','testIdx','KnowledgeTag','big_category','mid_category','big_category_acc_category',\n",
    "             'problem_num','dayname','month','time_category','solvecumsum_category','user_tag_cluster']\n",
    "cat_feats_idx = [i for i,e in enumerate(FEATS) if e in cat_feats]\n",
    "\n",
    "### 학습 및 예측\n",
    "\n",
    "date = datetime.now().strftime('%m/%d %a')\n",
    "title=f\"🌈({date})[LGBM user_acc_rolling_mean_10, big_category 관련 피처 추가 lr 0.023] 피처: {len(FEATS)}개\"\n",
    "using_feats=\", \".join(FEATS)\n",
    "desc=f\"사용된 피처({len(FEATS)})\\n{using_feats}\"\n",
    "cat_feats_idx, title, desc\n",
    "\n",
    "mlflow.lightgbm.autolog()\n",
    "lgb_x_train = lgb.Dataset(x_train[FEATS], y_train)\n",
    "lgb_x_valid = lgb.Dataset(x_valid[FEATS], y_valid)\n",
    "\n",
    "with mlflow.start_run(run_name=title, description=desc) as run:\n",
    "    model3 = lgb.train(\n",
    "        params, \n",
    "        lgb_x_train,\n",
    "        valid_sets=[lgb_x_valid],\n",
    "        verbose_eval=100,\n",
    "        num_boost_round=3200,\n",
    "        categorical_feature=cat_feats_idx,\n",
    "        early_stopping_rounds=100,\n",
    "    )\n",
    "    preds = model3.predict(x_valid[FEATS])\n",
    "    acc = accuracy_score(y_valid, np.where(preds >= 0.5, 1, 0))\n",
    "    auc = roc_auc_score(y_valid, preds)\n",
    "    print(f'VALID AUC : {auc} ACC : {acc}\\n')\n",
    "    mlflow.log_metric(\"VAL AUC\",auc)\n",
    "    mlflow.log_metric(\"VAL Set SEED\",SEED)\n",
    "    model3_run_id=run.info.run_id\n",
    "    post_slack(\"done\")\n",
    "    print(f\"{model3_run_id=}\")\n",
    "    file_name = title2filename(title)\n",
    "    test_preds = lgbm_predict(test, model3, FEATS, f'{file_name}.csv')\n",
    "\n",
    "q = pd.Series(test_preds).plot(kind='kde')"
   ]
  },
  {
   "cell_type": "code",
   "execution_count": 35,
   "id": "4d4a2839",
   "metadata": {
    "ExecuteTime": {
     "end_time": "2022-12-06T17:24:48.099870Z",
     "start_time": "2022-12-06T17:24:48.062920Z"
    }
   },
   "outputs": [
    {
     "data": {
      "text/plain": [
       "<ActiveRun: >"
      ]
     },
     "execution_count": 35,
     "metadata": {},
     "output_type": "execute_result"
    },
    {
     "name": "stdout",
     "output_type": "stream",
     "text": [
      "Active run_id: 3be9e9bb7f014138b80aa2567096febd\n"
     ]
    }
   ],
   "source": [
    "### 제출 mlflow 등록\n",
    "# 제출시\n",
    "LB_AUC=0.8015\n",
    "run_id = '3be9e9bb7f014138b80aa2567096febd'\n",
    "mlflow.start_run(run_id=run_id)\n",
    "run = mlflow.active_run()\n",
    "print(\"Active run_id: {}\".format(run.info.run_id))\n",
    "mlflow.log_metric(\"LB AUC\",LB_AUC)\n",
    "mlflow.end_run()"
   ]
  },
  {
   "cell_type": "markdown",
   "id": "5f108a64",
   "metadata": {},
   "source": [
    "### 1000epoch"
   ]
  },
  {
   "cell_type": "code",
   "execution_count": 33,
   "id": "5825fc21",
   "metadata": {
    "ExecuteTime": {
     "end_time": "2022-12-06T17:18:34.557846Z",
     "start_time": "2022-12-06T17:16:52.995820Z"
    }
   },
   "outputs": [
    {
     "data": {
      "text/plain": [
       "([0, 1, 2, 3, 6, 7, 8, 9, 11, 21, 23, 31, 34],\n",
       " '🌈(12/07 Wed)[LGBM user_acc_rolling_mean_10, big_category 관련 피처 추가 lr 0.023 1000epoch] 피처: 35개',\n",
       " '사용된 피처(35)\\nuidIdx, assIdx, testIdx, KnowledgeTag, user_correct_answer, user_total_answer, big_category, mid_category, problem_num, month, day, dayname, hour, user_acc, test_mean, test_sum, test_std, tag_std, tag_mean, tag_sum, solvesec_3600, time_category, solvesec_cumsum, solvecumsum_category, big_category_cumconut, big_category_user_cum_acc, mid_category_cumconut, mid_category_user_cum_acc, assess_count, elo_assessmentItemID, elo_problem_num, user_tag_cluster, user_acc_rolling_mean_10, big_category_acc, big_category_acc_category')"
      ]
     },
     "execution_count": 33,
     "metadata": {},
     "output_type": "execute_result"
    },
    {
     "name": "stdout",
     "output_type": "stream",
     "text": [
      "[LightGBM] [Info] Number of positive: 1208276, number of negative: 637263\n",
      "[LightGBM] [Warning] Auto-choosing row-wise multi-threading, the overhead of testing was 0.037042 seconds.\n",
      "You can set `force_row_wise=true` to remove the overhead.\n",
      "And if memory is not enough, you can set `force_col_wise=true`.\n",
      "[LightGBM] [Info] Total Bins 20538\n",
      "[LightGBM] [Info] Number of data points in the train set: 1845539, number of used features: 35\n",
      "[LightGBM] [Info] [binary:BoostFromScore]: pavg=0.654701 -> initscore=0.639767\n",
      "[LightGBM] [Info] Start training from score 0.639767\n",
      "Training until validation scores don't improve for 100 rounds\n",
      "[100]\tvalid_0's binary_logloss: 0.520431\n",
      "[200]\tvalid_0's binary_logloss: 0.502625\n",
      "[300]\tvalid_0's binary_logloss: 0.497136\n",
      "[400]\tvalid_0's binary_logloss: 0.494068\n",
      "[500]\tvalid_0's binary_logloss: 0.491752\n",
      "[600]\tvalid_0's binary_logloss: 0.490237\n",
      "[700]\tvalid_0's binary_logloss: 0.488646\n",
      "[800]\tvalid_0's binary_logloss: 0.487044\n",
      "[900]\tvalid_0's binary_logloss: 0.485485\n",
      "[1000]\tvalid_0's binary_logloss: 0.484103\n",
      "Did not meet early stopping. Best iteration is:\n",
      "[1000]\tvalid_0's binary_logloss: 0.484103\n",
      "VALID AUC : 0.8454951118352836 ACC : 0.7659574468085106\n",
      "\n",
      "model4_run_id='43cbb2ec66524342bd471368a22bf94a'\n",
      "writing prediction : output/12_07_Wed_LGBM_user_acc_rolling_mean_10_big_category_관련_피처_추가_lr_0_023_1000epoch_피처_35개.csv\n"
     ]
    },
    {
     "data": {
      "image/png": "[encoded data removed]",
      "text/plain": [
       "<Figure size 640x480 with 1 Axes>"
      ]
     },
     "metadata": {},
     "output_type": "display_data"
    }
   ],
   "source": [
    "# Hyper parameter 설정\n",
    "params = {\n",
    "#     \"max_depth\": 8,  # 8,\n",
    "#     \"min_data_in_leaf\": 1000,\n",
    "    # \"feature_fraction\": 0.6,  # 0.8,\n",
    "#     \"bagging_fraction\": 0.75,\n",
    "    # \"max_cat_group\": 64,\n",
    "    \"objective\": \"binary\",\n",
    "#     \"boosting\": \"gbdt\",  # dart\n",
    "    \"learning_rate\": 0.023,  # 0.01,\n",
    "    # \"bagging_freq\": 5,\n",
    "    \"seed\": 42,\n",
    "    # \"max_bin\": 50,\n",
    "#     \"num_leaves\": 80,  # 40,\n",
    "#     \"metric\": \"auc\",\n",
    "}\n",
    "\n",
    "### 피처 설정\n",
    "# 사용할 Feature 설정\n",
    "FEATS = ['uidIdx',\n",
    "         'assIdx',\n",
    "         'testIdx',\n",
    "         'KnowledgeTag',\n",
    "         'user_correct_answer',\n",
    "         'user_total_answer',\n",
    "         'big_category',\n",
    "         'mid_category',\n",
    "         'problem_num',\n",
    "         'month','day','dayname','hour',\n",
    "         'user_acc',\n",
    "         'test_mean',\n",
    "         'test_sum',\n",
    "         'test_std',\n",
    "         'tag_std',\n",
    "         'tag_mean',\n",
    "         'tag_sum',\n",
    "         'solvesec_3600',\n",
    "         'time_category',\n",
    "         'solvesec_cumsum',\n",
    "         'solvecumsum_category',\n",
    "         'big_category_cumconut',\n",
    "         'big_category_user_cum_acc',\n",
    "         'mid_category_cumconut',\n",
    "         'mid_category_user_cum_acc',\n",
    "         'assess_count',\n",
    "         'elo_assessmentItemID',\n",
    "         'elo_problem_num',\n",
    "         'user_tag_cluster',\n",
    "         'user_acc_rolling_mean_10',\n",
    "         'big_category_acc',\n",
    "         'big_category_acc_category',\n",
    "        ]\n",
    "\n",
    "cat_feats = ['uidIdx','assIdx','testIdx','KnowledgeTag','big_category','mid_category','big_category_acc_category',\n",
    "             'problem_num','dayname','month','time_category','solvecumsum_category','user_tag_cluster']\n",
    "cat_feats_idx = [i for i,e in enumerate(FEATS) if e in cat_feats]\n",
    "\n",
    "### 학습 및 예측\n",
    "\n",
    "date = datetime.now().strftime('%m/%d %a')\n",
    "title=f\"🌈({date})[LGBM user_acc_rolling_mean_10, big_category 관련 피처 추가 lr 0.023 1000epoch] 피처: {len(FEATS)}개\"\n",
    "using_feats=\", \".join(FEATS)\n",
    "desc=f\"사용된 피처({len(FEATS)})\\n{using_feats}\"\n",
    "cat_feats_idx, title, desc\n",
    "\n",
    "mlflow.lightgbm.autolog()\n",
    "lgb_x_train = lgb.Dataset(x_train[FEATS], y_train)\n",
    "lgb_x_valid = lgb.Dataset(x_valid[FEATS], y_valid)\n",
    "\n",
    "with mlflow.start_run(run_name=title, description=desc) as run:\n",
    "    model4 = lgb.train(\n",
    "        params, \n",
    "        lgb_x_train,\n",
    "        valid_sets=[lgb_x_valid],\n",
    "        verbose_eval=100,\n",
    "        num_boost_round=1000,\n",
    "        categorical_feature=cat_feats_idx,\n",
    "        early_stopping_rounds=100,\n",
    "    )\n",
    "    preds = model4.predict(x_valid[FEATS])\n",
    "    acc = accuracy_score(y_valid, np.where(preds >= 0.5, 1, 0))\n",
    "    auc = roc_auc_score(y_valid, preds)\n",
    "    print(f'VALID AUC : {auc} ACC : {acc}\\n')\n",
    "    mlflow.log_metric(\"VAL AUC\",auc)\n",
    "    mlflow.log_metric(\"VAL Set SEED\",SEED)\n",
    "    model4_run_id=run.info.run_id\n",
    "    post_slack(\"done\")\n",
    "    print(f\"{model4_run_id=}\")\n",
    "    file_name = title2filename(title)\n",
    "    test_preds = lgbm_predict(test, model4, FEATS, f'{file_name}.csv')\n",
    "\n",
    "q = pd.Series(test_preds).plot(kind='kde')"
   ]
  },
  {
   "cell_type": "code",
   "execution_count": 36,
   "id": "445bf458",
   "metadata": {
    "ExecuteTime": {
     "end_time": "2022-12-06T17:25:02.385094Z",
     "start_time": "2022-12-06T17:25:02.359869Z"
    }
   },
   "outputs": [
    {
     "data": {
      "text/plain": [
       "<ActiveRun: >"
      ]
     },
     "execution_count": 36,
     "metadata": {},
     "output_type": "execute_result"
    },
    {
     "name": "stdout",
     "output_type": "stream",
     "text": [
      "Active run_id: 43cbb2ec66524342bd471368a22bf94a\n"
     ]
    }
   ],
   "source": [
    "### 제출 mlflow 등록\n",
    "# 제출시\n",
    "LB_AUC=0.8059\n",
    "run_id = '43cbb2ec66524342bd471368a22bf94a'\n",
    "mlflow.start_run(run_id=run_id)\n",
    "run = mlflow.active_run()\n",
    "print(\"Active run_id: {}\".format(run.info.run_id))\n",
    "mlflow.log_metric(\"LB AUC\",LB_AUC)\n",
    "mlflow.end_run()"
   ]
  },
  {
   "cell_type": "code",
   "execution_count": 34,
   "id": "c1cb4912",
   "metadata": {
    "ExecuteTime": {
     "end_time": "2022-12-06T17:18:53.763145Z",
     "start_time": "2022-12-06T17:18:52.882294Z"
    }
   },
   "outputs": [
    {
     "data": {
      "text/plain": [
       "<AxesSubplot:xlabel='bins'>"
      ]
     },
     "execution_count": 34,
     "metadata": {},
     "output_type": "execute_result"
    },
    {
     "data": {
      "image/png": "[encoded data removed]",
      "text/plain": [
       "<Figure size 640x480 with 1 Axes>"
      ]
     },
     "metadata": {},
     "output_type": "display_data"
    }
   ],
   "source": [
    "bins=70\n",
    "\n",
    "auc819 = pd.read_csv('../LGBM/output/12_05_Mon_LGBM_elo만_추가_lr_0_023_피처_32개.csv')\n",
    "auc819['bins'] = pd.cut(auc819.index,bins)\n",
    "bins_map = {k:v for v,k in enumerate(sorted(auc819.bins.unique()))}\n",
    "auc819['bins'] = auc819.bins.map(bins_map)\n",
    "auc819_grp = auc819.groupby('bins').prediction.mean()\n",
    "\n",
    "user_dfc2 = pd.read_csv('../LGBM/output/12_07_Wed_LGBM_user_acc_rolling_mean_10_big_category_관련_피처_추가_lr_0_023_1000epoch_피처_35개.csv')\n",
    "user_dfc2['bins'] = pd.cut(user_dfc2.index,bins)\n",
    "bins_map = {k:v for v,k in enumerate(sorted(user_dfc2.bins.unique()))}\n",
    "user_dfc2['bins'] = user_dfc2.bins.map(bins_map)\n",
    "user_dfc2_grp = user_dfc2.groupby('bins').prediction.mean()\n",
    "pd.concat([auc819_grp,user_dfc2_grp],axis=1).plot(kind='bar')"
   ]
  },
  {
   "cell_type": "code",
   "execution_count": null,
   "id": "78e7ac00",
   "metadata": {},
   "outputs": [],
   "source": []
  }
 ],
 "metadata": {
  "kernelspec": {
   "display_name": "Python 3 (ipykernel)",
   "language": "python",
   "name": "python3"
  },
  "language_info": {
   "codemirror_mode": {
    "name": "ipython",
    "version": 3
   },
   "file_extension": ".py",
   "mimetype": "text/x-python",
   "name": "python",
   "nbconvert_exporter": "python",
   "pygments_lexer": "ipython3",
   "version": "3.9.15"
  },
  "toc": {
   "base_numbering": 1,
   "nav_menu": {},
   "number_sections": true,
   "sideBar": true,
   "skip_h1_title": true,
   "title_cell": "Table of Contents",
   "title_sidebar": "Contents",
   "toc_cell": false,
   "toc_position": {
    "height": "calc(100% - 180px)",
    "left": "10px",
    "top": "150px",
    "width": "383.984px"
   },
   "toc_section_display": true,
   "toc_window_display": true
  }
 },
 "nbformat": 4,
 "nbformat_minor": 5
}
