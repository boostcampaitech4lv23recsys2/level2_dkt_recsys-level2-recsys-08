{
 "cells": [
  {
   "cell_type": "code",
   "execution_count": 3,
   "id": "c65c701d",
   "metadata": {
    "ExecuteTime": {
     "end_time": "2022-11-29T04:37:21.533556Z",
     "start_time": "2022-11-29T04:37:17.732330Z"
    }
   },
   "outputs": [
    {
     "data": {
      "text/plain": [
       "((2525956, 29), (2525956, 1), (1974, 29), (1974, 1))"
      ]
     },
     "execution_count": 3,
     "metadata": {},
     "output_type": "execute_result"
    }
   ],
   "source": [
    "from IPython.core.interactiveshell import InteractiveShell\n",
    "InteractiveShell.ast_node_interactivity = 'all'\n",
    "import pandas as pd\n",
    "import os\n",
    "import random\n",
    "import warnings\n",
    "warnings.filterwarnings('ignore')\n",
    "import lightgbm as lgb\n",
    "from sklearn.metrics import roc_auc_score\n",
    "from sklearn.metrics import accuracy_score\n",
    "import numpy as np\n",
    "from utils import custom_train_test_split, lgbm_predict, post_slack\n",
    "base_feats = ['KnowledgeTag', 'user_correct_answer', 'user_total_answer', \n",
    "         'user_acc', 'test_mean', 'test_sum', 'tag_mean','tag_sum']\n",
    "# train과 test 데이터셋은 사용자 별로 묶어서 분리를 해주어야함\n",
    "\n",
    "## 1. 데이터 로딩\n",
    "data_dir = '/opt/ml/input/data' # 경로\n",
    "# train_file_path = os.path.join(data_dir, 'train_data.csv') # 데이터\n",
    "# test_file_path = os.path.join(data_dir, 'test_data.csv')\n",
    "after_fe_path = os.path.join(data_dir, 'after_fe_train_test.pkl')\n",
    "df = pd.read_pickle(after_fe_path)\n",
    "\n",
    "train_df = df[df.kind=='train']\n",
    "train, valid = custom_train_test_split(train_df, ratio=0.7, seed=13) # 훈련데이터 split\n",
    "test = df[df.kind=='test'] # 테스트 데이터\n",
    "train2 = test[test.answerCode!=-1] # 테스트데이터 마지막 제출 2번쨰꺼까지 훈련데이터로 사용\n",
    "train = pd.concat([train_df,train2]) # 훈련데이터 병합\n",
    "train.shape, valid.shape, test.shape\n",
    "\n",
    "x_train = train.drop('answerCode',axis=1)\n",
    "y_train = train[['answerCode']]\n",
    "\n",
    "x_valid = valid.drop('answerCode',axis=1)\n",
    "y_valid = valid[['answerCode']]\n",
    "x_train.shape, y_train.shape, x_valid.shape, y_valid.shape"
   ]
  },
  {
   "cell_type": "code",
   "execution_count": 4,
   "id": "21ba16e6",
   "metadata": {
    "ExecuteTime": {
     "end_time": "2022-11-29T04:37:21.539387Z",
     "start_time": "2022-11-29T04:37:21.535631Z"
    }
   },
   "outputs": [],
   "source": [
    "# 사용할 Feature 설정\n",
    "FEATS = ['KnowledgeTag',\n",
    "         'user_correct_answer',\n",
    "         'user_total_answer',\n",
    "         'big_category',\n",
    "         'mid_category',\n",
    "         'problem_num',\n",
    "         'month','day','dayname','hour',\n",
    "         'user_acc',\n",
    "         'test_mean',\n",
    "         'test_sum',\n",
    "         'test_std',\n",
    "         'tag_std',\n",
    "         'tag_mean',\n",
    "         'tag_sum',\n",
    "        ]\n",
    "\n",
    "params = {\n",
    "#     \"max_depth\": 8,  # 8,\n",
    "#     \"min_data_in_leaf\": 1000,\n",
    "    # \"feature_fraction\": 0.6,  # 0.8,\n",
    "#     \"bagging_fraction\": 0.75,\n",
    "    # \"max_cat_group\": 64,\n",
    "    \"objective\": \"binary\",\n",
    "#     \"boosting\": \"gbdt\",  # dart\n",
    "#     \"learning_rate\": 0.01,  # 0.01,\n",
    "    # \"bagging_freq\": 5,\n",
    "    \"seed\": 42,\n",
    "    # \"max_bin\": 50,\n",
    "#     \"num_leaves\": 80,  # 40,\n",
    "#     \"metric\": \"auc\",\n",
    "}"
   ]
  },
  {
   "cell_type": "code",
   "execution_count": 10,
   "id": "ade27ece",
   "metadata": {
    "ExecuteTime": {
     "end_time": "2022-11-29T04:15:47.113873Z",
     "start_time": "2022-11-29T04:15:47.111094Z"
    }
   },
   "outputs": [],
   "source": [
    "from mlflow.tracking import MlflowClient\n",
    "\n",
    "client = MlflowClient()\n",
    "experiment_id = client.create_experiment(\"CWJ Test\")\n",
    "\n",
    "client.set_experiment_tag(experiment_id, \"Model\", \"LGBM\")"
   ]
  },
  {
   "cell_type": "code",
   "execution_count": 1,
   "id": "1f3a710a",
   "metadata": {
    "ExecuteTime": {
     "end_time": "2022-11-29T04:37:14.238485Z",
     "start_time": "2022-11-29T04:37:13.463962Z"
    }
   },
   "outputs": [],
   "source": [
    "import mlflow\n",
    "import mlflow.lightgbm"
   ]
  },
  {
   "cell_type": "code",
   "execution_count": 12,
   "id": "6c8f38ca",
   "metadata": {
    "ExecuteTime": {
     "end_time": "2022-11-29T04:39:47.116671Z",
     "start_time": "2022-11-29T04:39:47.112752Z"
    }
   },
   "outputs": [
    {
     "data": {
      "text/plain": [
       "'KnowledgeTag, user_correct_answer, user_total_answer, big_category, mid_category, problem_num, month, day, dayname, hour, user_acc, test_mean, test_sum, test_std, tag_std, tag_mean, tag_sum'"
      ]
     },
     "execution_count": 12,
     "metadata": {},
     "output_type": "execute_result"
    }
   ],
   "source": []
  },
  {
   "cell_type": "code",
   "execution_count": 81,
   "id": "7fb50673",
   "metadata": {
    "ExecuteTime": {
     "end_time": "2022-11-29T05:17:48.415446Z",
     "start_time": "2022-11-29T05:17:48.411854Z"
    }
   },
   "outputs": [],
   "source": [
    "from datetime import datetime\n",
    "date = datetime.now().strftime('%m/%d %a')\n",
    "title=f\"🌈({date})[LGBM abcd test] 피처: {len(FEATS)}개\"\n",
    "using_feats=\", \".join(FEATS)\n",
    "desc=f\"사용된 피처({len(FEATS)})\\n{using_feats}\""
   ]
  },
  {
   "cell_type": "code",
   "execution_count": 83,
   "id": "810a6ea3",
   "metadata": {
    "ExecuteTime": {
     "end_time": "2022-11-29T05:19:11.399898Z",
     "start_time": "2022-11-29T05:19:11.049773Z"
    }
   },
   "outputs": [],
   "source": [
    "post_slack(f\"{title}, Val AUC: {auc}\")"
   ]
  },
  {
   "cell_type": "code",
   "execution_count": 82,
   "id": "447d446c",
   "metadata": {
    "ExecuteTime": {
     "end_time": "2022-11-29T05:17:55.434026Z",
     "start_time": "2022-11-29T05:17:49.823870Z"
    }
   },
   "outputs": [
    {
     "name": "stdout",
     "output_type": "stream",
     "text": [
      "[LightGBM] [Info] Number of positive: 1653588, number of negative: 872368\n",
      "[LightGBM] [Warning] Auto-choosing row-wise multi-threading, the overhead of testing was 0.028514 seconds.\n",
      "You can set `force_row_wise=true` to remove the overhead.\n",
      "And if memory is not enough, you can set `force_col_wise=true`.\n",
      "[LightGBM] [Info] Total Bins 2840\n",
      "[LightGBM] [Info] Number of data points in the train set: 2525956, number of used features: 17\n",
      "[LightGBM] [Info] [binary:BoostFromScore]: pavg=0.654638 -> initscore=0.639491\n",
      "[LightGBM] [Info] Start training from score 0.639491\n",
      "VALID AUC : 0.6878440848269393 ACC : 0.6084093211752786\n",
      "\n",
      "MLflow run id: 8772b90bf6684672bed786990dcbd7e5\n"
     ]
    }
   ],
   "source": [
    "mlflow.lightgbm.autolog()\n",
    "lgb_x_train = lgb.Dataset(x_train[FEATS], y_train)\n",
    "lgb_x_valid = lgb.Dataset(x_valid[FEATS], y_valid)\n",
    "\n",
    "with mlflow.start_run(run_name=title, description=desc) as run:\n",
    "    model2 = lgb.train(\n",
    "        params, \n",
    "        lgb_x_train,\n",
    "        valid_sets=[lgb_x_valid],\n",
    "        verbose_eval=100,\n",
    "        num_boost_round=30,\n",
    "    #     early_stopping_rounds=200,\n",
    "    )\n",
    "\n",
    "    preds = model2.predict(x_valid[FEATS])\n",
    "    acc = accuracy_score(y_valid, np.where(preds >= 0.5, 1, 0))\n",
    "    auc = roc_auc_score(y_valid, preds)\n",
    "\n",
    "    print(f'VALID AUC : {auc} ACC : {acc}\\n')\n",
    "    mlflow.log_metric(\"VAL_AUC\",auc)\n",
    "    post_slack(f\"{title}, Val AUC: {auc}\")\n",
    "    print(f\"MLflow run id: {run.info.run_id}\")\n",
    "    model2_run_id=run.info.run_id"
   ]
  },
  {
   "cell_type": "code",
   "execution_count": 75,
   "id": "d70d0769",
   "metadata": {
    "ExecuteTime": {
     "end_time": "2022-11-29T05:14:09.599241Z",
     "start_time": "2022-11-29T05:14:09.585236Z"
    }
   },
   "outputs": [
    {
     "data": {
      "text/plain": [
       "<ActiveRun: >"
      ]
     },
     "execution_count": 75,
     "metadata": {},
     "output_type": "execute_result"
    },
    {
     "name": "stdout",
     "output_type": "stream",
     "text": [
      "Active run_id: a74e158b3d88497c9dfbe34984d315c9\n"
     ]
    }
   ],
   "source": [
    "# 제출시\n",
    "LB_AUC=0.880\n",
    "run_id = model2_run_id\n",
    "mlflow.start_run(run_id=run_id)\n",
    "run = mlflow.active_run()\n",
    "print(\"Active run_id: {}\".format(run.info.run_id))\n",
    "mlflow.log_metric(\"LB AUC\",LB_AUC)\n",
    "mlflow.end_run()"
   ]
  },
  {
   "cell_type": "markdown",
   "id": "e1af186a",
   "metadata": {},
   "source": [
    "## 불러온 모델로 예측해보기"
   ]
  },
  {
   "cell_type": "code",
   "execution_count": 59,
   "id": "6172dacc",
   "metadata": {
    "ExecuteTime": {
     "end_time": "2022-11-29T05:07:33.610296Z",
     "start_time": "2022-11-29T05:07:33.576141Z"
    }
   },
   "outputs": [],
   "source": [
    "import mlflow\n",
    "logged_model = 'runs:/69943bce53f540d8acbebae7f9ceed62/model'\n",
    "\n",
    "# Load model as a PyFuncModel.\n",
    "loaded_model = mlflow.pyfunc.load_model(logged_model)\n",
    "\n",
    "# Predict on a Pandas DataFrame.\n",
    "import pandas as pd\n",
    "preds = loaded_model.predict(x_valid[FEATS])\n",
    "auc = roc_auc_score(y_valid, preds)\n",
    "auc"
   ]
  },
  {
   "cell_type": "code",
   "execution_count": null,
   "id": "306ccf34",
   "metadata": {},
   "outputs": [],
   "source": []
  },
  {
   "cell_type": "code",
   "execution_count": 51,
   "id": "b221575e",
   "metadata": {
    "ExecuteTime": {
     "end_time": "2022-11-29T05:01:21.230892Z",
     "start_time": "2022-11-29T05:01:21.225937Z"
    }
   },
   "outputs": [],
   "source": []
  },
  {
   "cell_type": "code",
   "execution_count": 9,
   "id": "20cd552a",
   "metadata": {
    "ExecuteTime": {
     "end_time": "2022-11-29T04:13:38.094680Z",
     "start_time": "2022-11-29T04:13:38.081600Z"
    }
   },
   "outputs": [],
   "source": []
  },
  {
   "cell_type": "code",
   "execution_count": 5,
   "id": "72edf666",
   "metadata": {
    "ExecuteTime": {
     "end_time": "2022-11-24T17:24:26.484680Z",
     "start_time": "2022-11-24T17:24:26.099457Z"
    }
   },
   "outputs": [],
   "source": [
    "post_slack(\"done\")"
   ]
  },
  {
   "cell_type": "code",
   "execution_count": null,
   "id": "ee487191",
   "metadata": {
    "ExecuteTime": {
     "end_time": "2022-11-24T16:54:38.669184Z",
     "start_time": "2022-11-24T16:54:37.602821Z"
    }
   },
   "outputs": [],
   "source": [
    "lgbm_predict(test, model, FEATS, 'test.csv')"
   ]
  }
 ],
 "metadata": {
  "kernelspec": {
   "display_name": "Python 3 (ipykernel)",
   "language": "python",
   "name": "python3"
  },
  "language_info": {
   "codemirror_mode": {
    "name": "ipython",
    "version": 3
   },
   "file_extension": ".py",
   "mimetype": "text/x-python",
   "name": "python",
   "nbconvert_exporter": "python",
   "pygments_lexer": "ipython3",
   "version": "3.9.15"
  },
  "toc": {
   "base_numbering": 1,
   "nav_menu": {},
   "number_sections": true,
   "sideBar": true,
   "skip_h1_title": true,
   "title_cell": "Table of Contents",
   "title_sidebar": "Contents",
   "toc_cell": false,
   "toc_position": {},
   "toc_section_display": true,
   "toc_window_display": false
  }
 },
 "nbformat": 4,
 "nbformat_minor": 5
}
