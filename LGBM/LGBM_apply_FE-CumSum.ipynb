{
 "cells": [
  {
   "cell_type": "code",
   "execution_count": 69,
   "id": "479de2d2",
   "metadata": {
    "ExecuteTime": {
     "end_time": "2022-11-28T13:46:32.740531Z",
     "start_time": "2022-11-28T13:46:28.752274Z"
    }
   },
   "outputs": [
    {
     "data": {
      "text/plain": [
       "((2525956, 31), (1974, 31), (260114, 31))"
      ]
     },
     "execution_count": 69,
     "metadata": {},
     "output_type": "execute_result"
    },
    {
     "data": {
      "text/plain": [
       "((2525956, 30), (2525956, 1), (1974, 30), (1974, 1))"
      ]
     },
     "execution_count": 69,
     "metadata": {},
     "output_type": "execute_result"
    }
   ],
   "source": [
    "from IPython.core.interactiveshell import InteractiveShell\n",
    "InteractiveShell.ast_node_interactivity = 'all'\n",
    "import pandas as pd\n",
    "import os\n",
    "import random\n",
    "import warnings\n",
    "warnings.filterwarnings('ignore')\n",
    "import lightgbm as lgb\n",
    "from sklearn.metrics import roc_auc_score\n",
    "from sklearn.metrics import accuracy_score\n",
    "import numpy as np\n",
    "from utils import custom_train_test_split, lgbm_predict, post_slack\n",
    "base_feats = ['KnowledgeTag', 'user_correct_answer', 'user_total_answer', \n",
    "         'user_acc', 'test_mean', 'test_sum', 'tag_mean','tag_sum']\n",
    "# train과 test 데이터셋은 사용자 별로 묶어서 분리를 해주어야함\n",
    "\n",
    "## 1. 데이터 로딩\n",
    "data_dir = '/opt/ml/input/data' # 경로\n",
    "# train_file_path = os.path.join(data_dir, 'train_data.csv') # 데이터\n",
    "# test_file_path = os.path.join(data_dir, 'test_data.csv')\n",
    "after_fe_path = os.path.join(data_dir, 'after_fe_train_test_cumsum.pkl')\n",
    "df = pd.read_pickle(after_fe_path)\n",
    "\n",
    "train_df = df[df.kind=='train']\n",
    "train, valid = custom_train_test_split(train_df, ratio=0.7, seed=13) # 훈련데이터 split\n",
    "test = df[df.kind=='test'] # 테스트 데이터\n",
    "train2 = test[test.answerCode!=-1] # 테스트데이터 마지막 제출 2번쨰꺼까지 훈련데이터로 사용\n",
    "train = pd.concat([train_df,train2]) # 훈련데이터 병합\n",
    "train.shape, valid.shape, test.shape\n",
    "\n",
    "x_train = train.drop('answerCode',axis=1)\n",
    "y_train = train[['answerCode']]\n",
    "\n",
    "x_valid = valid.drop('answerCode',axis=1)\n",
    "y_valid = valid[['answerCode']]\n",
    "x_train.shape, y_train.shape, x_valid.shape, y_valid.shape"
   ]
  },
  {
   "cell_type": "code",
   "execution_count": 28,
   "id": "f66618a0",
   "metadata": {
    "ExecuteTime": {
     "end_time": "2022-11-28T12:46:31.611904Z",
     "start_time": "2022-11-28T12:46:31.593735Z"
    }
   },
   "outputs": [
    {
     "data": {
      "text/html": [
       "<div>\n",
       "<style scoped>\n",
       "    .dataframe tbody tr th:only-of-type {\n",
       "        vertical-align: middle;\n",
       "    }\n",
       "\n",
       "    .dataframe tbody tr th {\n",
       "        vertical-align: top;\n",
       "    }\n",
       "\n",
       "    .dataframe thead th {\n",
       "        text-align: right;\n",
       "    }\n",
       "</style>\n",
       "<table border=\"1\" class=\"dataframe\">\n",
       "  <thead>\n",
       "    <tr style=\"text-align: right;\">\n",
       "      <th></th>\n",
       "      <th>userID</th>\n",
       "      <th>assessmentItemID</th>\n",
       "      <th>testId</th>\n",
       "      <th>answerCode</th>\n",
       "      <th>Timestamp</th>\n",
       "      <th>KnowledgeTag</th>\n",
       "      <th>user_correct_answer</th>\n",
       "      <th>user_total_answer</th>\n",
       "      <th>user_acc</th>\n",
       "      <th>month</th>\n",
       "      <th>...</th>\n",
       "      <th>time_category</th>\n",
       "      <th>test_mean</th>\n",
       "      <th>test_std</th>\n",
       "      <th>test_sum</th>\n",
       "      <th>tag_mean</th>\n",
       "      <th>tag_std</th>\n",
       "      <th>tag_sum</th>\n",
       "      <th>kind</th>\n",
       "      <th>solvesec_cumsum</th>\n",
       "      <th>solvecumsum_category</th>\n",
       "    </tr>\n",
       "  </thead>\n",
       "  <tbody>\n",
       "    <tr>\n",
       "      <th>0</th>\n",
       "      <td>0</td>\n",
       "      <td>A060001001</td>\n",
       "      <td>A060000001</td>\n",
       "      <td>1</td>\n",
       "      <td>2020-03-24 00:17:11</td>\n",
       "      <td>7224</td>\n",
       "      <td>NaN</td>\n",
       "      <td>0</td>\n",
       "      <td>NaN</td>\n",
       "      <td>3</td>\n",
       "      <td>...</td>\n",
       "      <td>0</td>\n",
       "      <td>0.947683</td>\n",
       "      <td>0.222749</td>\n",
       "      <td>1268</td>\n",
       "      <td>0.955022</td>\n",
       "      <td>0.207410</td>\n",
       "      <td>637</td>\n",
       "      <td>train</td>\n",
       "      <td>0.0</td>\n",
       "      <td>0</td>\n",
       "    </tr>\n",
       "    <tr>\n",
       "      <th>1</th>\n",
       "      <td>0</td>\n",
       "      <td>A060001002</td>\n",
       "      <td>A060000001</td>\n",
       "      <td>1</td>\n",
       "      <td>2020-03-24 00:17:14</td>\n",
       "      <td>7225</td>\n",
       "      <td>1.0</td>\n",
       "      <td>1</td>\n",
       "      <td>1.0</td>\n",
       "      <td>3</td>\n",
       "      <td>...</td>\n",
       "      <td>1</td>\n",
       "      <td>0.947683</td>\n",
       "      <td>0.222749</td>\n",
       "      <td>1268</td>\n",
       "      <td>0.913187</td>\n",
       "      <td>0.281603</td>\n",
       "      <td>3040</td>\n",
       "      <td>train</td>\n",
       "      <td>3.0</td>\n",
       "      <td>1</td>\n",
       "    </tr>\n",
       "    <tr>\n",
       "      <th>2</th>\n",
       "      <td>0</td>\n",
       "      <td>A060001003</td>\n",
       "      <td>A060000001</td>\n",
       "      <td>1</td>\n",
       "      <td>2020-03-24 00:17:22</td>\n",
       "      <td>7225</td>\n",
       "      <td>2.0</td>\n",
       "      <td>2</td>\n",
       "      <td>1.0</td>\n",
       "      <td>3</td>\n",
       "      <td>...</td>\n",
       "      <td>3</td>\n",
       "      <td>0.947683</td>\n",
       "      <td>0.222749</td>\n",
       "      <td>1268</td>\n",
       "      <td>0.913187</td>\n",
       "      <td>0.281603</td>\n",
       "      <td>3040</td>\n",
       "      <td>train</td>\n",
       "      <td>11.0</td>\n",
       "      <td>4</td>\n",
       "    </tr>\n",
       "  </tbody>\n",
       "</table>\n",
       "<p>3 rows × 30 columns</p>\n",
       "</div>"
      ],
      "text/plain": [
       "   userID assessmentItemID      testId  answerCode            Timestamp  \\\n",
       "0       0       A060001001  A060000001           1  2020-03-24 00:17:11   \n",
       "1       0       A060001002  A060000001           1  2020-03-24 00:17:14   \n",
       "2       0       A060001003  A060000001           1  2020-03-24 00:17:22   \n",
       "\n",
       "   KnowledgeTag  user_correct_answer  user_total_answer  user_acc  month  ...  \\\n",
       "0          7224                  NaN                  0       NaN      3  ...   \n",
       "1          7225                  1.0                  1       1.0      3  ...   \n",
       "2          7225                  2.0                  2       1.0      3  ...   \n",
       "\n",
       "   time_category  test_mean  test_std  test_sum  tag_mean   tag_std tag_sum  \\\n",
       "0              0   0.947683  0.222749      1268  0.955022  0.207410     637   \n",
       "1              1   0.947683  0.222749      1268  0.913187  0.281603    3040   \n",
       "2              3   0.947683  0.222749      1268  0.913187  0.281603    3040   \n",
       "\n",
       "    kind  solvesec_cumsum  solvecumsum_category  \n",
       "0  train              0.0                     0  \n",
       "1  train              3.0                     1  \n",
       "2  train             11.0                     4  \n",
       "\n",
       "[3 rows x 30 columns]"
      ]
     },
     "execution_count": 28,
     "metadata": {},
     "output_type": "execute_result"
    }
   ],
   "source": [
    "df[:3]"
   ]
  },
  {
   "cell_type": "code",
   "execution_count": 3,
   "id": "21ba16e6",
   "metadata": {
    "ExecuteTime": {
     "end_time": "2022-11-28T12:01:09.049173Z",
     "start_time": "2022-11-28T12:01:09.045024Z"
    }
   },
   "outputs": [],
   "source": [
    "params = {\n",
    "#     \"max_depth\": 8,  # 8,\n",
    "#     \"min_data_in_leaf\": 1000,\n",
    "    # \"feature_fraction\": 0.6,  # 0.8,\n",
    "#     \"bagging_fraction\": 0.75,\n",
    "    # \"max_cat_group\": 64,\n",
    "    \"objective\": \"binary\",\n",
    "#     \"boosting\": \"gbdt\",  # dart\n",
    "#     \"learning_rate\": 0.01,  # 0.01,\n",
    "    # \"bagging_freq\": 5,\n",
    "    \"seed\": 42,\n",
    "    # \"max_bin\": 50,\n",
    "#     \"num_leaves\": 80,  # 40,\n",
    "#     \"metric\": \"auc\",\n",
    "}\n",
    "\n",
    "model_auc = lgb.LGBMClassifier(\n",
    "    **params,\n",
    "    n_estimators=3200,\n",
    "    silent=-1,\n",
    ")\n",
    "\n",
    "model_loss = lgb.LGBMClassifier(\n",
    "    **params,\n",
    "    n_estimators=3200,\n",
    "    silent=-1,\n",
    ")"
   ]
  },
  {
   "cell_type": "markdown",
   "id": "a5a3b91a",
   "metadata": {},
   "source": [
    "## Cumsum 추가 (3601로 나눔)"
   ]
  },
  {
   "cell_type": "code",
   "execution_count": 4,
   "id": "8eba1bf4",
   "metadata": {
    "ExecuteTime": {
     "end_time": "2022-11-28T12:06:18.840893Z",
     "start_time": "2022-11-28T12:01:35.935333Z"
    },
    "scrolled": true
   },
   "outputs": [
    {
     "name": "stdout",
     "output_type": "stream",
     "text": [
      "[LightGBM] [Info] Number of positive: 1653588, number of negative: 872368\n",
      "[LightGBM] [Warning] Auto-choosing row-wise multi-threading, the overhead of testing was 0.064631 seconds.\n",
      "You can set `force_row_wise=true` to remove the overhead.\n",
      "And if memory is not enough, you can set `force_col_wise=true`.\n",
      "[LightGBM] [Info] Total Bins 3360\n",
      "[LightGBM] [Info] Number of data points in the train set: 2525956, number of used features: 20\n",
      "[LightGBM] [Info] [binary:BoostFromScore]: pavg=0.654638 -> initscore=0.639491\n",
      "[LightGBM] [Info] Start training from score 0.639491\n",
      "[100]\tvalid_0's binary_logloss: 0.583692\n",
      "[200]\tvalid_0's binary_logloss: 0.577598\n",
      "[300]\tvalid_0's binary_logloss: 0.569466\n",
      "[400]\tvalid_0's binary_logloss: 0.563463\n",
      "[500]\tvalid_0's binary_logloss: 0.55919\n",
      "[600]\tvalid_0's binary_logloss: 0.556276\n",
      "[700]\tvalid_0's binary_logloss: 0.554172\n",
      "[800]\tvalid_0's binary_logloss: 0.551324\n",
      "[900]\tvalid_0's binary_logloss: 0.548944\n",
      "[1000]\tvalid_0's binary_logloss: 0.546783\n",
      "[1100]\tvalid_0's binary_logloss: 0.545648\n",
      "[1200]\tvalid_0's binary_logloss: 0.544419\n",
      "[1300]\tvalid_0's binary_logloss: 0.542312\n",
      "[1400]\tvalid_0's binary_logloss: 0.540163\n",
      "[1500]\tvalid_0's binary_logloss: 0.537569\n",
      "[1600]\tvalid_0's binary_logloss: 0.535972\n",
      "[1700]\tvalid_0's binary_logloss: 0.533039\n",
      "[1800]\tvalid_0's binary_logloss: 0.531191\n",
      "[1900]\tvalid_0's binary_logloss: 0.530076\n",
      "[2000]\tvalid_0's binary_logloss: 0.528155\n",
      "[2100]\tvalid_0's binary_logloss: 0.52718\n",
      "[2200]\tvalid_0's binary_logloss: 0.526376\n",
      "[2300]\tvalid_0's binary_logloss: 0.525224\n",
      "[2400]\tvalid_0's binary_logloss: 0.523372\n",
      "[2500]\tvalid_0's binary_logloss: 0.522362\n",
      "[2600]\tvalid_0's binary_logloss: 0.520927\n",
      "[2700]\tvalid_0's binary_logloss: 0.519735\n",
      "[2800]\tvalid_0's binary_logloss: 0.518469\n",
      "[2900]\tvalid_0's binary_logloss: 0.517594\n",
      "[3000]\tvalid_0's binary_logloss: 0.515536\n",
      "[3100]\tvalid_0's binary_logloss: 0.514039\n",
      "[3200]\tvalid_0's binary_logloss: 0.513195\n",
      "VALID AUC : 0.8266491383992495 ACC : 0.7472137791286727\n",
      "\n",
      "writing prediction : output/LGBM_Baseline_solvetime_Cumsum추가.csv\n"
     ]
    }
   ],
   "source": [
    "# 사용할 Feature 설정\n",
    "FEATS = ['KnowledgeTag',\n",
    "         'user_correct_answer',\n",
    "         'user_total_answer',\n",
    "         'big_category',\n",
    "         'mid_category',\n",
    "         'problem_num',\n",
    "         'month','day','dayname','hour',\n",
    "         'user_acc',\n",
    "         'test_mean',\n",
    "         'test_sum',\n",
    "         'test_std',\n",
    "         'tag_std',\n",
    "         'tag_mean',\n",
    "         'tag_sum',\n",
    "         'solvesec_3600',\n",
    "         'time_category',\n",
    "         'solvesec_cumsum'\n",
    "        ]\n",
    "\n",
    "lgb_x_train = lgb.Dataset(x_train[FEATS], y_train)\n",
    "lgb_x_valid = lgb.Dataset(x_valid[FEATS], y_valid)\n",
    "\n",
    "model1 = lgb.train(\n",
    "    params, \n",
    "    lgb_x_train,\n",
    "    valid_sets=[lgb_x_valid],\n",
    "    verbose_eval=100,\n",
    "    num_boost_round=3200,\n",
    "#     early_stopping_rounds=200,\n",
    ")\n",
    "\n",
    "preds = model1.predict(x_valid[FEATS])\n",
    "acc = accuracy_score(y_valid, np.where(preds >= 0.5, 1, 0))\n",
    "auc = roc_auc_score(y_valid, preds)\n",
    "\n",
    "print(f'VALID AUC : {auc} ACC : {acc}\\n')\n",
    "\n",
    "post_slack(\"done\")\n",
    "lgbm_predict(test, model1, FEATS, 'LGBM_Baseline_solvetime_Cumsum추가.csv')\n",
    "# 제출 AUC: 0.7847"
   ]
  },
  {
   "cell_type": "markdown",
   "id": "1a318dc6",
   "metadata": {},
   "source": [
    "### NaN값 처리해주기"
   ]
  },
  {
   "cell_type": "code",
   "execution_count": 10,
   "id": "39b54fa0",
   "metadata": {
    "ExecuteTime": {
     "end_time": "2022-11-28T12:16:50.704785Z",
     "start_time": "2022-11-28T12:16:49.428143Z"
    }
   },
   "outputs": [],
   "source": [
    "import missingno as msno"
   ]
  },
  {
   "cell_type": "code",
   "execution_count": 13,
   "id": "d196e5f8",
   "metadata": {
    "ExecuteTime": {
     "end_time": "2022-11-28T12:17:47.999554Z",
     "start_time": "2022-11-28T12:17:47.959663Z"
    }
   },
   "outputs": [
    {
     "data": {
      "text/html": [
       "<div>\n",
       "<style scoped>\n",
       "    .dataframe tbody tr th:only-of-type {\n",
       "        vertical-align: middle;\n",
       "    }\n",
       "\n",
       "    .dataframe tbody tr th {\n",
       "        vertical-align: top;\n",
       "    }\n",
       "\n",
       "    .dataframe thead th {\n",
       "        text-align: right;\n",
       "    }\n",
       "</style>\n",
       "<table border=\"1\" class=\"dataframe\">\n",
       "  <thead>\n",
       "    <tr style=\"text-align: right;\">\n",
       "      <th></th>\n",
       "      <th>userID</th>\n",
       "      <th>assessmentItemID</th>\n",
       "      <th>testId</th>\n",
       "      <th>Timestamp</th>\n",
       "      <th>KnowledgeTag</th>\n",
       "      <th>user_correct_answer</th>\n",
       "      <th>user_total_answer</th>\n",
       "      <th>user_acc</th>\n",
       "      <th>month</th>\n",
       "      <th>day</th>\n",
       "      <th>...</th>\n",
       "      <th>time_category</th>\n",
       "      <th>test_mean</th>\n",
       "      <th>test_std</th>\n",
       "      <th>test_sum</th>\n",
       "      <th>tag_mean</th>\n",
       "      <th>tag_std</th>\n",
       "      <th>tag_sum</th>\n",
       "      <th>kind</th>\n",
       "      <th>solvesec_cumsum</th>\n",
       "      <th>solvecumsum_category</th>\n",
       "    </tr>\n",
       "  </thead>\n",
       "  <tbody>\n",
       "    <tr>\n",
       "      <th>0</th>\n",
       "      <td>0</td>\n",
       "      <td>A060001001</td>\n",
       "      <td>A060000001</td>\n",
       "      <td>2020-03-24 00:17:11</td>\n",
       "      <td>7224</td>\n",
       "      <td>NaN</td>\n",
       "      <td>0</td>\n",
       "      <td>NaN</td>\n",
       "      <td>3</td>\n",
       "      <td>24</td>\n",
       "      <td>...</td>\n",
       "      <td>0</td>\n",
       "      <td>0.947683</td>\n",
       "      <td>0.222749</td>\n",
       "      <td>1268</td>\n",
       "      <td>0.955022</td>\n",
       "      <td>0.20741</td>\n",
       "      <td>637</td>\n",
       "      <td>train</td>\n",
       "      <td>0.0</td>\n",
       "      <td>0</td>\n",
       "    </tr>\n",
       "  </tbody>\n",
       "</table>\n",
       "<p>1 rows × 29 columns</p>\n",
       "</div>"
      ],
      "text/plain": [
       "   userID assessmentItemID      testId            Timestamp  KnowledgeTag  \\\n",
       "0       0       A060001001  A060000001  2020-03-24 00:17:11          7224   \n",
       "\n",
       "   user_correct_answer  user_total_answer  user_acc  month  day  ...  \\\n",
       "0                  NaN                  0       NaN      3   24  ...   \n",
       "\n",
       "   time_category  test_mean  test_std  test_sum  tag_mean  tag_std tag_sum  \\\n",
       "0              0   0.947683  0.222749      1268  0.955022  0.20741     637   \n",
       "\n",
       "    kind  solvesec_cumsum  solvecumsum_category  \n",
       "0  train              0.0                     0  \n",
       "\n",
       "[1 rows x 29 columns]"
      ]
     },
     "execution_count": 13,
     "metadata": {},
     "output_type": "execute_result"
    }
   ],
   "source": [
    "x_train[:1]"
   ]
  },
  {
   "cell_type": "code",
   "execution_count": 12,
   "id": "9c09011b",
   "metadata": {
    "ExecuteTime": {
     "end_time": "2022-11-28T12:17:47.956780Z",
     "start_time": "2022-11-28T12:17:29.472986Z"
    }
   },
   "outputs": [
    {
     "data": {
      "text/plain": [
       "<AxesSubplot:>"
      ]
     },
     "execution_count": 12,
     "metadata": {},
     "output_type": "execute_result"
    },
    {
     "data": {
      "image/png": "[encoded data removed]",
      "text/plain": [
       "<Figure size 2500x1000 with 2 Axes>"
      ]
     },
     "metadata": {},
     "output_type": "display_data"
    }
   ],
   "source": [
    "msno.matrix(x_train)"
   ]
  },
  {
   "cell_type": "code",
   "execution_count": 16,
   "id": "a63e7e3f",
   "metadata": {
    "ExecuteTime": {
     "end_time": "2022-11-28T12:18:45.178825Z",
     "start_time": "2022-11-28T12:18:44.968179Z"
    }
   },
   "outputs": [],
   "source": [
    "x_train.user_correct_answer = x_train.user_correct_answer.fillna(0)\n",
    "x_train.user_acc = x_train.user_acc.fillna(0)"
   ]
  },
  {
   "cell_type": "code",
   "execution_count": 18,
   "id": "88d2ad9d",
   "metadata": {
    "ExecuteTime": {
     "end_time": "2022-11-28T12:19:09.144342Z",
     "start_time": "2022-11-28T12:18:51.034187Z"
    }
   },
   "outputs": [
    {
     "data": {
      "text/plain": [
       "<AxesSubplot:>"
      ]
     },
     "execution_count": 18,
     "metadata": {},
     "output_type": "execute_result"
    },
    {
     "data": {
      "image/png": "[encoded data removed]",
      "text/plain": [
       "<Figure size 2500x1000 with 2 Axes>"
      ]
     },
     "metadata": {},
     "output_type": "display_data"
    }
   ],
   "source": [
    "msno.matrix(x_train)"
   ]
  },
  {
   "cell_type": "code",
   "execution_count": 19,
   "id": "8170c047",
   "metadata": {
    "ExecuteTime": {
     "end_time": "2022-11-28T12:19:17.187044Z",
     "start_time": "2022-11-28T12:19:17.182166Z"
    }
   },
   "outputs": [],
   "source": [
    "x_valid.user_correct_answer = x_valid.user_correct_answer.fillna(0)\n",
    "x_valid.user_acc = x_valid.user_acc.fillna(0)"
   ]
  },
  {
   "cell_type": "code",
   "execution_count": 21,
   "id": "256b4d4d",
   "metadata": {
    "ExecuteTime": {
     "end_time": "2022-11-28T12:27:09.153399Z",
     "start_time": "2022-11-28T12:27:09.145364Z"
    }
   },
   "outputs": [
    {
     "data": {
      "text/plain": [
       "(1974, 29)"
      ]
     },
     "execution_count": 21,
     "metadata": {},
     "output_type": "execute_result"
    }
   ],
   "source": [
    "x_valid.shape"
   ]
  },
  {
   "cell_type": "code",
   "execution_count": 20,
   "id": "9cdefb40",
   "metadata": {
    "ExecuteTime": {
     "end_time": "2022-11-28T12:24:22.554444Z",
     "start_time": "2022-11-28T12:20:08.666476Z"
    },
    "scrolled": true
   },
   "outputs": [
    {
     "name": "stdout",
     "output_type": "stream",
     "text": [
      "[LightGBM] [Info] Number of positive: 1653588, number of negative: 872368\n",
      "[LightGBM] [Warning] Auto-choosing row-wise multi-threading, the overhead of testing was 0.058386 seconds.\n",
      "You can set `force_row_wise=true` to remove the overhead.\n",
      "And if memory is not enough, you can set `force_col_wise=true`.\n",
      "[LightGBM] [Info] Total Bins 3360\n",
      "[LightGBM] [Info] Number of data points in the train set: 2525956, number of used features: 20\n",
      "[LightGBM] [Info] [binary:BoostFromScore]: pavg=0.654638 -> initscore=0.639491\n",
      "[LightGBM] [Info] Start training from score 0.639491\n",
      "[100]\tvalid_0's binary_logloss: 0.584853\n",
      "[200]\tvalid_0's binary_logloss: 0.577546\n",
      "[300]\tvalid_0's binary_logloss: 0.571442\n",
      "[400]\tvalid_0's binary_logloss: 0.567962\n",
      "[500]\tvalid_0's binary_logloss: 0.563974\n",
      "[600]\tvalid_0's binary_logloss: 0.560075\n",
      "[700]\tvalid_0's binary_logloss: 0.556383\n",
      "[800]\tvalid_0's binary_logloss: 0.554245\n",
      "[900]\tvalid_0's binary_logloss: 0.550569\n",
      "[1000]\tvalid_0's binary_logloss: 0.548632\n",
      "[1100]\tvalid_0's binary_logloss: 0.546338\n",
      "[1200]\tvalid_0's binary_logloss: 0.543744\n",
      "[1300]\tvalid_0's binary_logloss: 0.541974\n",
      "[1400]\tvalid_0's binary_logloss: 0.540918\n",
      "[1500]\tvalid_0's binary_logloss: 0.53897\n",
      "[1600]\tvalid_0's binary_logloss: 0.53769\n",
      "[1700]\tvalid_0's binary_logloss: 0.536175\n",
      "[1800]\tvalid_0's binary_logloss: 0.53486\n",
      "[1900]\tvalid_0's binary_logloss: 0.533674\n",
      "[2000]\tvalid_0's binary_logloss: 0.531795\n",
      "[2100]\tvalid_0's binary_logloss: 0.530242\n",
      "[2200]\tvalid_0's binary_logloss: 0.529126\n",
      "[2300]\tvalid_0's binary_logloss: 0.527171\n",
      "[2400]\tvalid_0's binary_logloss: 0.525686\n",
      "[2500]\tvalid_0's binary_logloss: 0.523745\n",
      "[2600]\tvalid_0's binary_logloss: 0.522752\n",
      "[2700]\tvalid_0's binary_logloss: 0.521848\n",
      "[2800]\tvalid_0's binary_logloss: 0.520188\n",
      "[2900]\tvalid_0's binary_logloss: 0.518162\n",
      "[3000]\tvalid_0's binary_logloss: 0.516698\n",
      "[3100]\tvalid_0's binary_logloss: 0.515668\n",
      "[3200]\tvalid_0's binary_logloss: 0.514712\n",
      "VALID AUC : 0.8246124031007752 ACC : 0.7487335359675785\n",
      "\n",
      "writing prediction : output/LGBM_Baseline_solvetime_Cumsum추가_카테고리추가_usercorrect_acc_nan처리.csv\n"
     ]
    }
   ],
   "source": [
    "# 사용할 Feature 설정\n",
    "FEATS = ['KnowledgeTag',\n",
    "         'user_correct_answer',\n",
    "         'user_total_answer',\n",
    "         'big_category',\n",
    "         'mid_category',\n",
    "         'problem_num',\n",
    "         'month','day','dayname','hour',\n",
    "         'user_acc',\n",
    "         'test_mean',\n",
    "         'test_sum',\n",
    "         'test_std',\n",
    "         'tag_std',\n",
    "         'tag_mean',\n",
    "         'tag_sum',\n",
    "         'solvesec_3600',\n",
    "         'time_category',\n",
    "         'solvesec_cumsum',\n",
    "        ]\n",
    "\n",
    "lgb_x_train = lgb.Dataset(x_train[FEATS], y_train)\n",
    "lgb_x_valid = lgb.Dataset(x_valid[FEATS], y_valid)\n",
    "\n",
    "model1_1 = lgb.train(\n",
    "    params, \n",
    "    lgb_x_train,\n",
    "    valid_sets=[lgb_x_valid],\n",
    "    verbose_eval=100,\n",
    "    num_boost_round=3200,\n",
    "#     early_stopping_rounds=200,\n",
    ")\n",
    "\n",
    "preds = model1_1.predict(x_valid[FEATS])\n",
    "acc = accuracy_score(y_valid, np.where(preds >= 0.5, 1, 0))\n",
    "auc = roc_auc_score(y_valid, preds)\n",
    "\n",
    "print(f'VALID AUC : {auc} ACC : {acc}\\n')\n",
    "\n",
    "post_slack(\"done\")\n",
    "lgbm_predict(test, model1_1, FEATS, 'LGBM_Baseline_solvetime_Cumsum추가_카테고리추가_usercorrect_acc_nan처리.csv')\n",
    "# 제출 AUC: 0.7829"
   ]
  },
  {
   "cell_type": "markdown",
   "id": "0e5114c7",
   "metadata": {},
   "source": [
    "### x_train에서 NaN 삭제(dropna)"
   ]
  },
  {
   "cell_type": "code",
   "execution_count": 33,
   "id": "08812d6b",
   "metadata": {
    "ExecuteTime": {
     "end_time": "2022-11-28T12:47:17.853608Z",
     "start_time": "2022-11-28T12:47:15.221340Z"
    }
   },
   "outputs": [
    {
     "data": {
      "text/plain": [
       "(2525956, 29)"
      ]
     },
     "execution_count": 33,
     "metadata": {},
     "output_type": "execute_result"
    },
    {
     "data": {
      "text/plain": [
       "(2518514, 29)"
      ]
     },
     "execution_count": 33,
     "metadata": {},
     "output_type": "execute_result"
    },
    {
     "data": {
      "text/plain": [
       "(1974, 29)"
      ]
     },
     "execution_count": 33,
     "metadata": {},
     "output_type": "execute_result"
    },
    {
     "data": {
      "text/plain": [
       "(1974, 29)"
      ]
     },
     "execution_count": 33,
     "metadata": {},
     "output_type": "execute_result"
    }
   ],
   "source": [
    "x_train.shape\n",
    "x_train.dropna().shape\n",
    "\n",
    "x_valid.shape\n",
    "x_valid.dropna().shape"
   ]
  },
  {
   "cell_type": "code",
   "execution_count": 34,
   "id": "ee7381b0",
   "metadata": {
    "ExecuteTime": {
     "end_time": "2022-11-28T12:48:01.070825Z",
     "start_time": "2022-11-28T12:47:59.261848Z"
    }
   },
   "outputs": [],
   "source": [
    "x_train2 = x_train.dropna()"
   ]
  },
  {
   "cell_type": "code",
   "execution_count": 40,
   "id": "1b36a48c",
   "metadata": {
    "ExecuteTime": {
     "end_time": "2022-11-28T12:50:09.083250Z",
     "start_time": "2022-11-28T12:50:09.029622Z"
    }
   },
   "outputs": [],
   "source": [
    "y_train2 = y_train.iloc[x_train2.index]"
   ]
  },
  {
   "cell_type": "code",
   "execution_count": 41,
   "id": "9fec2073",
   "metadata": {
    "ExecuteTime": {
     "end_time": "2022-11-28T12:54:29.968882Z",
     "start_time": "2022-11-28T12:50:16.948007Z"
    },
    "scrolled": true
   },
   "outputs": [
    {
     "name": "stdout",
     "output_type": "stream",
     "text": [
      "[LightGBM] [Info] Number of positive: 1651267, number of negative: 867247\n",
      "[LightGBM] [Warning] Auto-choosing row-wise multi-threading, the overhead of testing was 0.061609 seconds.\n",
      "You can set `force_row_wise=true` to remove the overhead.\n",
      "And if memory is not enough, you can set `force_col_wise=true`.\n",
      "[LightGBM] [Info] Total Bins 3362\n",
      "[LightGBM] [Info] Number of data points in the train set: 2518514, number of used features: 20\n",
      "[LightGBM] [Info] [binary:BoostFromScore]: pavg=0.655651 -> initscore=0.643974\n",
      "[LightGBM] [Info] Start training from score 0.643974\n",
      "[100]\tvalid_0's binary_logloss: 0.587894\n",
      "[200]\tvalid_0's binary_logloss: 0.57879\n",
      "[300]\tvalid_0's binary_logloss: 0.571086\n",
      "[400]\tvalid_0's binary_logloss: 0.567217\n",
      "[500]\tvalid_0's binary_logloss: 0.561538\n",
      "[600]\tvalid_0's binary_logloss: 0.557652\n",
      "[700]\tvalid_0's binary_logloss: 0.554222\n",
      "[800]\tvalid_0's binary_logloss: 0.550872\n",
      "[900]\tvalid_0's binary_logloss: 0.5494\n",
      "[1000]\tvalid_0's binary_logloss: 0.547781\n",
      "[1100]\tvalid_0's binary_logloss: 0.546537\n",
      "[1200]\tvalid_0's binary_logloss: 0.545151\n",
      "[1300]\tvalid_0's binary_logloss: 0.543896\n",
      "[1400]\tvalid_0's binary_logloss: 0.542106\n",
      "[1500]\tvalid_0's binary_logloss: 0.540639\n",
      "[1600]\tvalid_0's binary_logloss: 0.539537\n",
      "[1700]\tvalid_0's binary_logloss: 0.537837\n",
      "[1800]\tvalid_0's binary_logloss: 0.536712\n",
      "[1900]\tvalid_0's binary_logloss: 0.534516\n",
      "[2000]\tvalid_0's binary_logloss: 0.533175\n",
      "[2100]\tvalid_0's binary_logloss: 0.531397\n",
      "[2200]\tvalid_0's binary_logloss: 0.529658\n",
      "[2300]\tvalid_0's binary_logloss: 0.528346\n",
      "[2400]\tvalid_0's binary_logloss: 0.526796\n",
      "[2500]\tvalid_0's binary_logloss: 0.525825\n",
      "[2600]\tvalid_0's binary_logloss: 0.524263\n",
      "[2700]\tvalid_0's binary_logloss: 0.523123\n",
      "[2800]\tvalid_0's binary_logloss: 0.522103\n",
      "[2900]\tvalid_0's binary_logloss: 0.520189\n",
      "[3000]\tvalid_0's binary_logloss: 0.519107\n",
      "[3100]\tvalid_0's binary_logloss: 0.517634\n",
      "[3200]\tvalid_0's binary_logloss: 0.516482\n",
      "VALID AUC : 0.8228564903964846 ACC : 0.7406281661600811\n",
      "\n",
      "writing prediction : output/LGBM_Baseline_solvetime_Cumsum추가_train에서Nan삭제.csv\n"
     ]
    }
   ],
   "source": [
    "# 사용할 Feature 설정\n",
    "FEATS = ['KnowledgeTag',\n",
    "         'user_correct_answer',\n",
    "         'user_total_answer',\n",
    "         'big_category',\n",
    "         'mid_category',\n",
    "         'problem_num',\n",
    "         'month','day','dayname','hour',\n",
    "         'user_acc',\n",
    "         'test_mean',\n",
    "         'test_sum',\n",
    "         'test_std',\n",
    "         'tag_std',\n",
    "         'tag_mean',\n",
    "         'tag_sum',\n",
    "         'solvesec_3600',\n",
    "         'time_category',\n",
    "         'solvesec_cumsum'\n",
    "        ]\n",
    "\n",
    "lgb_x_train = lgb.Dataset(x_train2[FEATS], y_train2)\n",
    "lgb_x_valid = lgb.Dataset(x_valid[FEATS], y_valid)\n",
    "\n",
    "model1_2 = lgb.train(\n",
    "    params, \n",
    "    lgb_x_train,\n",
    "    valid_sets=[lgb_x_valid],\n",
    "    verbose_eval=100,\n",
    "    num_boost_round=3200,\n",
    "#     early_stopping_rounds=200,\n",
    ")\n",
    "\n",
    "preds = model1_2.predict(x_valid[FEATS])\n",
    "acc = accuracy_score(y_valid, np.where(preds >= 0.5, 1, 0))\n",
    "auc = roc_auc_score(y_valid, preds)\n",
    "\n",
    "print(f'VALID AUC : {auc} ACC : {acc}\\n')\n",
    "\n",
    "post_slack(\"done\")\n",
    "lgbm_predict(test, model1_2, FEATS, 'LGBM_Baseline_solvetime_Cumsum추가_train에서Nan삭제.csv')\n",
    "# 제출 AUC: "
   ]
  },
  {
   "cell_type": "markdown",
   "id": "dc8c62cb",
   "metadata": {},
   "source": [
    "### assIdx, testIdx 추가"
   ]
  },
  {
   "cell_type": "code",
   "execution_count": 51,
   "id": "27d755af",
   "metadata": {
    "ExecuteTime": {
     "end_time": "2022-11-28T13:01:25.476323Z",
     "start_time": "2022-11-28T13:01:25.471806Z"
    }
   },
   "outputs": [
    {
     "data": {
      "text/plain": [
       "(9454, 1537)"
      ]
     },
     "execution_count": 51,
     "metadata": {},
     "output_type": "execute_result"
    }
   ],
   "source": [
    "len(ass2idx),len(test2idx)"
   ]
  },
  {
   "cell_type": "code",
   "execution_count": null,
   "id": "45bf60f0",
   "metadata": {},
   "outputs": [],
   "source": [
    "ass2idx = {v:k for k,v in enumerate(sorted(df.assessmentItemID.unique()))}\n",
    "\n",
    "test2idx = {v:k for k,v in enumerate(sorted(df.testId.unique()))}"
   ]
  },
  {
   "cell_type": "code",
   "execution_count": 53,
   "id": "d8784deb",
   "metadata": {
    "ExecuteTime": {
     "end_time": "2022-11-28T13:02:36.325603Z",
     "start_time": "2022-11-28T13:02:35.801089Z"
    }
   },
   "outputs": [],
   "source": [
    "x_train3 = x_train.copy()\n",
    "x_train3['assIdx'] = x_train3.assessmentItemID.map(ass2idx)\n",
    "x_train3['testIdx'] = x_train3.testId.map(test2idx)"
   ]
  },
  {
   "cell_type": "code",
   "execution_count": 56,
   "id": "21bd7607",
   "metadata": {
    "ExecuteTime": {
     "end_time": "2022-11-28T13:03:33.705727Z",
     "start_time": "2022-11-28T13:03:33.692224Z"
    }
   },
   "outputs": [],
   "source": [
    "x_valid3 = x_valid.copy()\n",
    "x_valid3['assIdx'] = x_valid3.assessmentItemID.map(ass2idx)\n",
    "x_valid3['testIdx'] = x_valid3.testId.map(test2idx)"
   ]
  },
  {
   "cell_type": "code",
   "execution_count": 58,
   "id": "89ba0a3b",
   "metadata": {
    "ExecuteTime": {
     "end_time": "2022-11-28T13:03:50.495517Z",
     "start_time": "2022-11-28T13:03:50.442951Z"
    },
    "collapsed": true
   },
   "outputs": [
    {
     "data": {
      "text/html": [
       "<div>\n",
       "<style scoped>\n",
       "    .dataframe tbody tr th:only-of-type {\n",
       "        vertical-align: middle;\n",
       "    }\n",
       "\n",
       "    .dataframe tbody tr th {\n",
       "        vertical-align: top;\n",
       "    }\n",
       "\n",
       "    .dataframe thead th {\n",
       "        text-align: right;\n",
       "    }\n",
       "</style>\n",
       "<table border=\"1\" class=\"dataframe\">\n",
       "  <thead>\n",
       "    <tr style=\"text-align: right;\">\n",
       "      <th></th>\n",
       "      <th>userID</th>\n",
       "      <th>assessmentItemID</th>\n",
       "      <th>testId</th>\n",
       "      <th>Timestamp</th>\n",
       "      <th>KnowledgeTag</th>\n",
       "      <th>user_correct_answer</th>\n",
       "      <th>user_total_answer</th>\n",
       "      <th>user_acc</th>\n",
       "      <th>month</th>\n",
       "      <th>day</th>\n",
       "      <th>...</th>\n",
       "      <th>test_std</th>\n",
       "      <th>test_sum</th>\n",
       "      <th>tag_mean</th>\n",
       "      <th>tag_std</th>\n",
       "      <th>tag_sum</th>\n",
       "      <th>kind</th>\n",
       "      <th>solvesec_cumsum</th>\n",
       "      <th>solvecumsum_category</th>\n",
       "      <th>assIdx</th>\n",
       "      <th>testIdx</th>\n",
       "    </tr>\n",
       "  </thead>\n",
       "  <tbody>\n",
       "    <tr>\n",
       "      <th>0</th>\n",
       "      <td>0</td>\n",
       "      <td>A060001001</td>\n",
       "      <td>A060000001</td>\n",
       "      <td>2020-03-24 00:17:11</td>\n",
       "      <td>7224</td>\n",
       "      <td>NaN</td>\n",
       "      <td>0</td>\n",
       "      <td>NaN</td>\n",
       "      <td>3</td>\n",
       "      <td>24</td>\n",
       "      <td>...</td>\n",
       "      <td>0.222749</td>\n",
       "      <td>1268</td>\n",
       "      <td>0.955022</td>\n",
       "      <td>0.207410</td>\n",
       "      <td>637</td>\n",
       "      <td>train</td>\n",
       "      <td>0.0</td>\n",
       "      <td>0</td>\n",
       "      <td>5354</td>\n",
       "      <td>975</td>\n",
       "    </tr>\n",
       "    <tr>\n",
       "      <th>1</th>\n",
       "      <td>0</td>\n",
       "      <td>A060001002</td>\n",
       "      <td>A060000001</td>\n",
       "      <td>2020-03-24 00:17:14</td>\n",
       "      <td>7225</td>\n",
       "      <td>1.0</td>\n",
       "      <td>1</td>\n",
       "      <td>1.0</td>\n",
       "      <td>3</td>\n",
       "      <td>24</td>\n",
       "      <td>...</td>\n",
       "      <td>0.222749</td>\n",
       "      <td>1268</td>\n",
       "      <td>0.913187</td>\n",
       "      <td>0.281603</td>\n",
       "      <td>3040</td>\n",
       "      <td>train</td>\n",
       "      <td>3.0</td>\n",
       "      <td>1</td>\n",
       "      <td>5355</td>\n",
       "      <td>975</td>\n",
       "    </tr>\n",
       "  </tbody>\n",
       "</table>\n",
       "<p>2 rows × 31 columns</p>\n",
       "</div>"
      ],
      "text/plain": [
       "   userID assessmentItemID      testId            Timestamp  KnowledgeTag  \\\n",
       "0       0       A060001001  A060000001  2020-03-24 00:17:11          7224   \n",
       "1       0       A060001002  A060000001  2020-03-24 00:17:14          7225   \n",
       "\n",
       "   user_correct_answer  user_total_answer  user_acc  month  day  ...  \\\n",
       "0                  NaN                  0       NaN      3   24  ...   \n",
       "1                  1.0                  1       1.0      3   24  ...   \n",
       "\n",
       "   test_std  test_sum  tag_mean   tag_std  tag_sum   kind solvesec_cumsum  \\\n",
       "0  0.222749      1268  0.955022  0.207410      637  train             0.0   \n",
       "1  0.222749      1268  0.913187  0.281603     3040  train             3.0   \n",
       "\n",
       "   solvecumsum_category  assIdx  testIdx  \n",
       "0                     0    5354      975  \n",
       "1                     1    5355      975  \n",
       "\n",
       "[2 rows x 31 columns]"
      ]
     },
     "execution_count": 58,
     "metadata": {},
     "output_type": "execute_result"
    },
    {
     "data": {
      "text/html": [
       "<div>\n",
       "<style scoped>\n",
       "    .dataframe tbody tr th:only-of-type {\n",
       "        vertical-align: middle;\n",
       "    }\n",
       "\n",
       "    .dataframe tbody tr th {\n",
       "        vertical-align: top;\n",
       "    }\n",
       "\n",
       "    .dataframe thead th {\n",
       "        text-align: right;\n",
       "    }\n",
       "</style>\n",
       "<table border=\"1\" class=\"dataframe\">\n",
       "  <thead>\n",
       "    <tr style=\"text-align: right;\">\n",
       "      <th></th>\n",
       "      <th>userID</th>\n",
       "      <th>assessmentItemID</th>\n",
       "      <th>testId</th>\n",
       "      <th>Timestamp</th>\n",
       "      <th>KnowledgeTag</th>\n",
       "      <th>user_correct_answer</th>\n",
       "      <th>user_total_answer</th>\n",
       "      <th>user_acc</th>\n",
       "      <th>month</th>\n",
       "      <th>day</th>\n",
       "      <th>...</th>\n",
       "      <th>test_std</th>\n",
       "      <th>test_sum</th>\n",
       "      <th>tag_mean</th>\n",
       "      <th>tag_std</th>\n",
       "      <th>tag_sum</th>\n",
       "      <th>kind</th>\n",
       "      <th>solvesec_cumsum</th>\n",
       "      <th>solvecumsum_category</th>\n",
       "      <th>assIdx</th>\n",
       "      <th>testIdx</th>\n",
       "    </tr>\n",
       "  </thead>\n",
       "  <tbody>\n",
       "    <tr>\n",
       "      <th>744</th>\n",
       "      <td>0</td>\n",
       "      <td>A080129006</td>\n",
       "      <td>A080000129</td>\n",
       "      <td>2020-12-23 03:40:19</td>\n",
       "      <td>2725</td>\n",
       "      <td>470.0</td>\n",
       "      <td>744</td>\n",
       "      <td>0.631720</td>\n",
       "      <td>12</td>\n",
       "      <td>23</td>\n",
       "      <td>...</td>\n",
       "      <td>0.480143</td>\n",
       "      <td>780</td>\n",
       "      <td>0.301939</td>\n",
       "      <td>0.459258</td>\n",
       "      <td>436</td>\n",
       "      <td>train</td>\n",
       "      <td>286.0</td>\n",
       "      <td>5</td>\n",
       "      <td>8862</td>\n",
       "      <td>1453</td>\n",
       "    </tr>\n",
       "    <tr>\n",
       "      <th>1677</th>\n",
       "      <td>1</td>\n",
       "      <td>A090074006</td>\n",
       "      <td>A090000074</td>\n",
       "      <td>2020-11-13 02:47:20</td>\n",
       "      <td>2648</td>\n",
       "      <td>795.0</td>\n",
       "      <td>932</td>\n",
       "      <td>0.853004</td>\n",
       "      <td>11</td>\n",
       "      <td>13</td>\n",
       "      <td>...</td>\n",
       "      <td>0.495401</td>\n",
       "      <td>115</td>\n",
       "      <td>0.440741</td>\n",
       "      <td>0.497398</td>\n",
       "      <td>119</td>\n",
       "      <td>train</td>\n",
       "      <td>328.0</td>\n",
       "      <td>5</td>\n",
       "      <td>9453</td>\n",
       "      <td>1536</td>\n",
       "    </tr>\n",
       "  </tbody>\n",
       "</table>\n",
       "<p>2 rows × 31 columns</p>\n",
       "</div>"
      ],
      "text/plain": [
       "      userID assessmentItemID      testId            Timestamp  KnowledgeTag  \\\n",
       "744        0       A080129006  A080000129  2020-12-23 03:40:19          2725   \n",
       "1677       1       A090074006  A090000074  2020-11-13 02:47:20          2648   \n",
       "\n",
       "      user_correct_answer  user_total_answer  user_acc  month  day  ...  \\\n",
       "744                 470.0                744  0.631720     12   23  ...   \n",
       "1677                795.0                932  0.853004     11   13  ...   \n",
       "\n",
       "      test_std  test_sum  tag_mean   tag_std  tag_sum   kind solvesec_cumsum  \\\n",
       "744   0.480143       780  0.301939  0.459258      436  train           286.0   \n",
       "1677  0.495401       115  0.440741  0.497398      119  train           328.0   \n",
       "\n",
       "      solvecumsum_category  assIdx  testIdx  \n",
       "744                      5    8862     1453  \n",
       "1677                     5    9453     1536  \n",
       "\n",
       "[2 rows x 31 columns]"
      ]
     },
     "execution_count": 58,
     "metadata": {},
     "output_type": "execute_result"
    }
   ],
   "source": [
    "x_train3[:2]\n",
    "x_valid3[:2]"
   ]
  },
  {
   "cell_type": "code",
   "execution_count": 62,
   "id": "8d259e16",
   "metadata": {
    "ExecuteTime": {
     "end_time": "2022-11-28T13:10:42.547985Z",
     "start_time": "2022-11-28T13:10:42.377886Z"
    }
   },
   "outputs": [],
   "source": [
    "test2 = test.copy()\n",
    "test2['assIdx'] = test2.assessmentItemID.map(ass2idx)\n",
    "test2['testIdx'] = test2.testId.map(test2idx)"
   ]
  },
  {
   "cell_type": "code",
   "execution_count": 64,
   "id": "e2758f10",
   "metadata": {
    "ExecuteTime": {
     "end_time": "2022-11-28T13:10:50.750735Z",
     "start_time": "2022-11-28T13:10:50.724721Z"
    }
   },
   "outputs": [
    {
     "data": {
      "text/html": [
       "<div>\n",
       "<style scoped>\n",
       "    .dataframe tbody tr th:only-of-type {\n",
       "        vertical-align: middle;\n",
       "    }\n",
       "\n",
       "    .dataframe tbody tr th {\n",
       "        vertical-align: top;\n",
       "    }\n",
       "\n",
       "    .dataframe thead th {\n",
       "        text-align: right;\n",
       "    }\n",
       "</style>\n",
       "<table border=\"1\" class=\"dataframe\">\n",
       "  <thead>\n",
       "    <tr style=\"text-align: right;\">\n",
       "      <th></th>\n",
       "      <th>userID</th>\n",
       "      <th>assessmentItemID</th>\n",
       "      <th>testId</th>\n",
       "      <th>answerCode</th>\n",
       "      <th>Timestamp</th>\n",
       "      <th>KnowledgeTag</th>\n",
       "      <th>user_correct_answer</th>\n",
       "      <th>user_total_answer</th>\n",
       "      <th>user_acc</th>\n",
       "      <th>month</th>\n",
       "      <th>...</th>\n",
       "      <th>test_std</th>\n",
       "      <th>test_sum</th>\n",
       "      <th>tag_mean</th>\n",
       "      <th>tag_std</th>\n",
       "      <th>tag_sum</th>\n",
       "      <th>kind</th>\n",
       "      <th>solvesec_cumsum</th>\n",
       "      <th>solvecumsum_category</th>\n",
       "      <th>assIdx</th>\n",
       "      <th>testIdx</th>\n",
       "    </tr>\n",
       "  </thead>\n",
       "  <tbody>\n",
       "    <tr>\n",
       "      <th>0</th>\n",
       "      <td>3</td>\n",
       "      <td>A050023001</td>\n",
       "      <td>A050000023</td>\n",
       "      <td>1</td>\n",
       "      <td>2020-01-09 10:56:31</td>\n",
       "      <td>2626</td>\n",
       "      <td>NaN</td>\n",
       "      <td>0</td>\n",
       "      <td>NaN</td>\n",
       "      <td>1</td>\n",
       "      <td>...</td>\n",
       "      <td>0.5004</td>\n",
       "      <td>106</td>\n",
       "      <td>0.587097</td>\n",
       "      <td>0.493952</td>\n",
       "      <td>91</td>\n",
       "      <td>test</td>\n",
       "      <td>0.0</td>\n",
       "      <td>0</td>\n",
       "      <td>4235</td>\n",
       "      <td>804</td>\n",
       "    </tr>\n",
       "    <tr>\n",
       "      <th>1</th>\n",
       "      <td>3</td>\n",
       "      <td>A050023002</td>\n",
       "      <td>A050000023</td>\n",
       "      <td>1</td>\n",
       "      <td>2020-01-09 10:56:57</td>\n",
       "      <td>2626</td>\n",
       "      <td>1.0</td>\n",
       "      <td>1</td>\n",
       "      <td>1.0</td>\n",
       "      <td>1</td>\n",
       "      <td>...</td>\n",
       "      <td>0.5004</td>\n",
       "      <td>106</td>\n",
       "      <td>0.587097</td>\n",
       "      <td>0.493952</td>\n",
       "      <td>91</td>\n",
       "      <td>test</td>\n",
       "      <td>26.0</td>\n",
       "      <td>4</td>\n",
       "      <td>4236</td>\n",
       "      <td>804</td>\n",
       "    </tr>\n",
       "    <tr>\n",
       "      <th>2</th>\n",
       "      <td>3</td>\n",
       "      <td>A050023003</td>\n",
       "      <td>A050000023</td>\n",
       "      <td>0</td>\n",
       "      <td>2020-01-09 10:58:31</td>\n",
       "      <td>2625</td>\n",
       "      <td>2.0</td>\n",
       "      <td>2</td>\n",
       "      <td>1.0</td>\n",
       "      <td>1</td>\n",
       "      <td>...</td>\n",
       "      <td>0.5004</td>\n",
       "      <td>106</td>\n",
       "      <td>0.588517</td>\n",
       "      <td>0.493284</td>\n",
       "      <td>123</td>\n",
       "      <td>test</td>\n",
       "      <td>120.0</td>\n",
       "      <td>5</td>\n",
       "      <td>4237</td>\n",
       "      <td>804</td>\n",
       "    </tr>\n",
       "  </tbody>\n",
       "</table>\n",
       "<p>3 rows × 32 columns</p>\n",
       "</div>"
      ],
      "text/plain": [
       "   userID assessmentItemID      testId  answerCode            Timestamp  \\\n",
       "0       3       A050023001  A050000023           1  2020-01-09 10:56:31   \n",
       "1       3       A050023002  A050000023           1  2020-01-09 10:56:57   \n",
       "2       3       A050023003  A050000023           0  2020-01-09 10:58:31   \n",
       "\n",
       "   KnowledgeTag  user_correct_answer  user_total_answer  user_acc  month  ...  \\\n",
       "0          2626                  NaN                  0       NaN      1  ...   \n",
       "1          2626                  1.0                  1       1.0      1  ...   \n",
       "2          2625                  2.0                  2       1.0      1  ...   \n",
       "\n",
       "   test_std  test_sum  tag_mean   tag_std  tag_sum  kind solvesec_cumsum  \\\n",
       "0    0.5004       106  0.587097  0.493952       91  test             0.0   \n",
       "1    0.5004       106  0.587097  0.493952       91  test            26.0   \n",
       "2    0.5004       106  0.588517  0.493284      123  test           120.0   \n",
       "\n",
       "  solvecumsum_category  assIdx  testIdx  \n",
       "0                    0    4235      804  \n",
       "1                    4    4236      804  \n",
       "2                    5    4237      804  \n",
       "\n",
       "[3 rows x 32 columns]"
      ]
     },
     "execution_count": 64,
     "metadata": {},
     "output_type": "execute_result"
    },
    {
     "data": {
      "text/plain": [
       "(260114, 30)"
      ]
     },
     "execution_count": 64,
     "metadata": {},
     "output_type": "execute_result"
    }
   ],
   "source": [
    "test2[:3]\n",
    "test.shape"
   ]
  },
  {
   "cell_type": "markdown",
   "id": "44d12534",
   "metadata": {},
   "source": [
    "#### assIdx 추가"
   ]
  },
  {
   "cell_type": "code",
   "execution_count": 65,
   "id": "997e9b26",
   "metadata": {
    "ExecuteTime": {
     "end_time": "2022-11-28T13:15:44.251070Z",
     "start_time": "2022-11-28T13:11:05.383803Z"
    },
    "scrolled": true
   },
   "outputs": [
    {
     "name": "stdout",
     "output_type": "stream",
     "text": [
      "[LightGBM] [Info] Number of positive: 1653588, number of negative: 872368\n",
      "[LightGBM] [Warning] Auto-choosing row-wise multi-threading, the overhead of testing was 0.074379 seconds.\n",
      "You can set `force_row_wise=true` to remove the overhead.\n",
      "And if memory is not enough, you can set `force_col_wise=true`.\n",
      "[LightGBM] [Info] Total Bins 3624\n",
      "[LightGBM] [Info] Number of data points in the train set: 2525956, number of used features: 22\n",
      "[LightGBM] [Info] [binary:BoostFromScore]: pavg=0.654638 -> initscore=0.639491\n",
      "[LightGBM] [Info] Start training from score 0.639491\n",
      "[100]\tvalid_0's binary_logloss: 0.583938\n",
      "[200]\tvalid_0's binary_logloss: 0.575645\n",
      "[300]\tvalid_0's binary_logloss: 0.570356\n",
      "[400]\tvalid_0's binary_logloss: 0.564777\n",
      "[500]\tvalid_0's binary_logloss: 0.561208\n",
      "[600]\tvalid_0's binary_logloss: 0.555872\n",
      "[700]\tvalid_0's binary_logloss: 0.552327\n",
      "[800]\tvalid_0's binary_logloss: 0.550285\n",
      "[900]\tvalid_0's binary_logloss: 0.547807\n",
      "[1000]\tvalid_0's binary_logloss: 0.545059\n",
      "[1100]\tvalid_0's binary_logloss: 0.543338\n",
      "[1200]\tvalid_0's binary_logloss: 0.540581\n",
      "[1300]\tvalid_0's binary_logloss: 0.538823\n",
      "[1400]\tvalid_0's binary_logloss: 0.537831\n",
      "[1500]\tvalid_0's binary_logloss: 0.536932\n",
      "[1600]\tvalid_0's binary_logloss: 0.535255\n",
      "[1700]\tvalid_0's binary_logloss: 0.533724\n",
      "[1800]\tvalid_0's binary_logloss: 0.532305\n",
      "[1900]\tvalid_0's binary_logloss: 0.530922\n",
      "[2000]\tvalid_0's binary_logloss: 0.528545\n",
      "[2100]\tvalid_0's binary_logloss: 0.526841\n",
      "[2200]\tvalid_0's binary_logloss: 0.525267\n",
      "[2300]\tvalid_0's binary_logloss: 0.524394\n",
      "[2400]\tvalid_0's binary_logloss: 0.523227\n",
      "[2500]\tvalid_0's binary_logloss: 0.522269\n",
      "[2600]\tvalid_0's binary_logloss: 0.521723\n",
      "[2700]\tvalid_0's binary_logloss: 0.520487\n",
      "[2800]\tvalid_0's binary_logloss: 0.519809\n",
      "[2900]\tvalid_0's binary_logloss: 0.518717\n",
      "[3000]\tvalid_0's binary_logloss: 0.517016\n",
      "[3100]\tvalid_0's binary_logloss: 0.516014\n",
      "[3200]\tvalid_0's binary_logloss: 0.515087\n",
      "VALID AUC : 0.8247111539031255 ACC : 0.7446808510638298\n",
      "\n",
      "writing prediction : output/LGBM_Baseline_solvetime_Cumsum추가_assIdx_추가.csv\n"
     ]
    }
   ],
   "source": [
    "# 사용할 Feature 설정\n",
    "FEATS = ['assIdx',\n",
    "         'KnowledgeTag',\n",
    "         'user_correct_answer',\n",
    "         'user_total_answer',\n",
    "         'big_category',\n",
    "         'mid_category',\n",
    "         'problem_num',\n",
    "         'month','day','dayname','hour',\n",
    "         'user_acc',\n",
    "         'test_mean',\n",
    "         'test_sum',\n",
    "         'test_std',\n",
    "         'tag_std',\n",
    "         'tag_mean',\n",
    "         'tag_sum',\n",
    "         'solvesec_3600',\n",
    "         'time_category',\n",
    "         'solvesec_cumsum',\n",
    "         'solvecumsum_category'\n",
    "        ]\n",
    "\n",
    "lgb_x_train = lgb.Dataset(x_train3[FEATS], y_train)\n",
    "lgb_x_valid = lgb.Dataset(x_valid3[FEATS], y_valid)\n",
    "\n",
    "model1_31 = lgb.train(\n",
    "    params, \n",
    "    lgb_x_train,\n",
    "    valid_sets=[lgb_x_valid],\n",
    "    verbose_eval=100,\n",
    "    num_boost_round=3200,\n",
    "#     early_stopping_rounds=200,\n",
    ")\n",
    "\n",
    "preds = model1_31.predict(x_valid3[FEATS])\n",
    "acc = accuracy_score(y_valid, np.where(preds >= 0.5, 1, 0))\n",
    "auc = roc_auc_score(y_valid, preds)\n",
    "\n",
    "print(f'VALID AUC : {auc} ACC : {acc}\\n')\n",
    "\n",
    "post_slack(\"done\")\n",
    "lgbm_predict(test2, model1_31, FEATS, 'LGBM_Baseline_solvetime_Cumsum추가_assIdx_추가.csv')\n",
    "# 제출 AUC: 0.7844"
   ]
  },
  {
   "cell_type": "markdown",
   "id": "c62c5d51",
   "metadata": {},
   "source": [
    "#### testIdx 추가"
   ]
  },
  {
   "cell_type": "code",
   "execution_count": 66,
   "id": "76acf41e",
   "metadata": {
    "ExecuteTime": {
     "end_time": "2022-11-28T13:19:42.149146Z",
     "start_time": "2022-11-28T13:15:44.255708Z"
    },
    "scrolled": true
   },
   "outputs": [
    {
     "name": "stdout",
     "output_type": "stream",
     "text": [
      "[LightGBM] [Info] Number of positive: 1653588, number of negative: 872368\n",
      "[LightGBM] [Warning] Auto-choosing row-wise multi-threading, the overhead of testing was 0.050848 seconds.\n",
      "You can set `force_row_wise=true` to remove the overhead.\n",
      "And if memory is not enough, you can set `force_col_wise=true`.\n",
      "[LightGBM] [Info] Total Bins 3624\n",
      "[LightGBM] [Info] Number of data points in the train set: 2525956, number of used features: 22\n",
      "[LightGBM] [Info] [binary:BoostFromScore]: pavg=0.654638 -> initscore=0.639491\n",
      "[LightGBM] [Info] Start training from score 0.639491\n",
      "[100]\tvalid_0's binary_logloss: 0.584324\n",
      "[200]\tvalid_0's binary_logloss: 0.576497\n",
      "[300]\tvalid_0's binary_logloss: 0.569555\n",
      "[400]\tvalid_0's binary_logloss: 0.564757\n",
      "[500]\tvalid_0's binary_logloss: 0.560722\n",
      "[600]\tvalid_0's binary_logloss: 0.556398\n",
      "[700]\tvalid_0's binary_logloss: 0.553725\n",
      "[800]\tvalid_0's binary_logloss: 0.551726\n",
      "[900]\tvalid_0's binary_logloss: 0.550118\n",
      "[1000]\tvalid_0's binary_logloss: 0.54731\n",
      "[1100]\tvalid_0's binary_logloss: 0.545243\n",
      "[1200]\tvalid_0's binary_logloss: 0.54392\n",
      "[1300]\tvalid_0's binary_logloss: 0.542056\n",
      "[1400]\tvalid_0's binary_logloss: 0.539727\n",
      "[1500]\tvalid_0's binary_logloss: 0.537725\n",
      "[1600]\tvalid_0's binary_logloss: 0.536785\n",
      "[1700]\tvalid_0's binary_logloss: 0.535164\n",
      "[1800]\tvalid_0's binary_logloss: 0.534349\n",
      "[1900]\tvalid_0's binary_logloss: 0.532804\n",
      "[2000]\tvalid_0's binary_logloss: 0.531435\n",
      "[2100]\tvalid_0's binary_logloss: 0.530254\n",
      "[2200]\tvalid_0's binary_logloss: 0.528871\n",
      "[2300]\tvalid_0's binary_logloss: 0.527904\n",
      "[2400]\tvalid_0's binary_logloss: 0.52701\n",
      "[2500]\tvalid_0's binary_logloss: 0.525663\n",
      "[2600]\tvalid_0's binary_logloss: 0.524783\n",
      "[2700]\tvalid_0's binary_logloss: 0.523736\n",
      "[2800]\tvalid_0's binary_logloss: 0.52281\n",
      "[2900]\tvalid_0's binary_logloss: 0.521418\n",
      "[3000]\tvalid_0's binary_logloss: 0.520481\n",
      "[3100]\tvalid_0's binary_logloss: 0.519282\n",
      "[3200]\tvalid_0's binary_logloss: 0.518431\n",
      "VALID AUC : 0.8213021939136589 ACC : 0.7451874366767984\n",
      "\n",
      "writing prediction : output/LGBM_Baseline_solvetime_Cumsum추가_testIdx_추가.csv\n"
     ]
    }
   ],
   "source": [
    "# 사용할 Feature 설정\n",
    "FEATS = ['testIdx',\n",
    "         'KnowledgeTag',\n",
    "         'user_correct_answer',\n",
    "         'user_total_answer',\n",
    "         'big_category',\n",
    "         'mid_category',\n",
    "         'problem_num',\n",
    "         'month','day','dayname','hour',\n",
    "         'user_acc',\n",
    "         'test_mean',\n",
    "         'test_sum',\n",
    "         'test_std',\n",
    "         'tag_std',\n",
    "         'tag_mean',\n",
    "         'tag_sum',\n",
    "         'solvesec_3600',\n",
    "         'time_category',\n",
    "         'solvesec_cumsum',\n",
    "         'solvecumsum_category'\n",
    "        ]\n",
    "\n",
    "lgb_x_train = lgb.Dataset(x_train3[FEATS], y_train)\n",
    "lgb_x_valid = lgb.Dataset(x_valid3[FEATS], y_valid)\n",
    "\n",
    "model1_32 = lgb.train(\n",
    "    params, \n",
    "    lgb_x_train,\n",
    "    valid_sets=[lgb_x_valid],\n",
    "    verbose_eval=100,\n",
    "    num_boost_round=3200,\n",
    "#     early_stopping_rounds=200,\n",
    ")\n",
    "\n",
    "preds = model1_32.predict(x_valid3[FEATS])\n",
    "acc = accuracy_score(y_valid, np.where(preds >= 0.5, 1, 0))\n",
    "auc = roc_auc_score(y_valid, preds)\n",
    "\n",
    "print(f'VALID AUC : {auc} ACC : {acc}\\n')\n",
    "\n",
    "post_slack(\"done\")\n",
    "lgbm_predict(test2, model1_32, FEATS, 'LGBM_Baseline_solvetime_Cumsum추가_testIdx_추가.csv')"
   ]
  },
  {
   "cell_type": "markdown",
   "id": "64879c90",
   "metadata": {},
   "source": [
    "#### assIdx, testIdx 추가"
   ]
  },
  {
   "cell_type": "code",
   "execution_count": 68,
   "id": "ac8d0605",
   "metadata": {
    "ExecuteTime": {
     "end_time": "2022-11-28T13:25:12.933296Z",
     "start_time": "2022-11-28T13:20:17.351312Z"
    },
    "scrolled": true
   },
   "outputs": [
    {
     "name": "stdout",
     "output_type": "stream",
     "text": [
      "[LightGBM] [Info] Number of positive: 1653588, number of negative: 872368\n",
      "[LightGBM] [Warning] Auto-choosing row-wise multi-threading, the overhead of testing was 0.075360 seconds.\n",
      "You can set `force_row_wise=true` to remove the overhead.\n",
      "And if memory is not enough, you can set `force_col_wise=true`.\n",
      "[LightGBM] [Info] Total Bins 3879\n",
      "[LightGBM] [Info] Number of data points in the train set: 2525956, number of used features: 23\n",
      "[LightGBM] [Info] [binary:BoostFromScore]: pavg=0.654638 -> initscore=0.639491\n",
      "[LightGBM] [Info] Start training from score 0.639491\n",
      "[100]\tvalid_0's binary_logloss: 0.58598\n",
      "[200]\tvalid_0's binary_logloss: 0.577013\n",
      "[300]\tvalid_0's binary_logloss: 0.571151\n",
      "[400]\tvalid_0's binary_logloss: 0.566009\n",
      "[500]\tvalid_0's binary_logloss: 0.562115\n",
      "[600]\tvalid_0's binary_logloss: 0.559377\n",
      "[700]\tvalid_0's binary_logloss: 0.555281\n",
      "[800]\tvalid_0's binary_logloss: 0.550862\n",
      "[900]\tvalid_0's binary_logloss: 0.548275\n",
      "[1000]\tvalid_0's binary_logloss: 0.545749\n",
      "[1100]\tvalid_0's binary_logloss: 0.54434\n",
      "[1200]\tvalid_0's binary_logloss: 0.542256\n",
      "[1300]\tvalid_0's binary_logloss: 0.54041\n",
      "[1400]\tvalid_0's binary_logloss: 0.539076\n",
      "[1500]\tvalid_0's binary_logloss: 0.53741\n",
      "[1600]\tvalid_0's binary_logloss: 0.535211\n",
      "[1700]\tvalid_0's binary_logloss: 0.534374\n",
      "[1800]\tvalid_0's binary_logloss: 0.532396\n",
      "[1900]\tvalid_0's binary_logloss: 0.531394\n",
      "[2000]\tvalid_0's binary_logloss: 0.530178\n",
      "[2100]\tvalid_0's binary_logloss: 0.529176\n",
      "[2200]\tvalid_0's binary_logloss: 0.528331\n",
      "[2300]\tvalid_0's binary_logloss: 0.52668\n",
      "[2400]\tvalid_0's binary_logloss: 0.525504\n",
      "[2500]\tvalid_0's binary_logloss: 0.523783\n",
      "[2600]\tvalid_0's binary_logloss: 0.52289\n",
      "[2700]\tvalid_0's binary_logloss: 0.52122\n",
      "[2800]\tvalid_0's binary_logloss: 0.519671\n",
      "[2900]\tvalid_0's binary_logloss: 0.518248\n",
      "[3000]\tvalid_0's binary_logloss: 0.516986\n",
      "[3100]\tvalid_0's binary_logloss: 0.515981\n",
      "[3200]\tvalid_0's binary_logloss: 0.514944\n",
      "VALID AUC : 0.8239530357642489 ACC : 0.7436676798378926\n",
      "\n",
      "writing prediction : output/LGBM_Baseline_solvetime_Cumsum추가_assIdx_testIdx_추가.csv\n"
     ]
    }
   ],
   "source": [
    "# 사용할 Feature 설정\n",
    "FEATS = ['assIdx',\n",
    "         'testIdx',\n",
    "         'KnowledgeTag',\n",
    "         'user_correct_answer',\n",
    "         'user_total_answer',\n",
    "         'big_category',\n",
    "         'mid_category',\n",
    "         'problem_num',\n",
    "         'month','day','dayname','hour',\n",
    "         'user_acc',\n",
    "         'test_mean',\n",
    "         'test_sum',\n",
    "         'test_std',\n",
    "         'tag_std',\n",
    "         'tag_mean',\n",
    "         'tag_sum',\n",
    "         'solvesec_3600',\n",
    "         'time_category',\n",
    "         'solvesec_cumsum',\n",
    "         'solvecumsum_category'\n",
    "        ]\n",
    "\n",
    "lgb_x_train = lgb.Dataset(x_train3[FEATS], y_train)\n",
    "lgb_x_valid = lgb.Dataset(x_valid3[FEATS], y_valid)\n",
    "\n",
    "model1_33 = lgb.train(\n",
    "    params, \n",
    "    lgb_x_train,\n",
    "    valid_sets=[lgb_x_valid],\n",
    "    verbose_eval=100,\n",
    "    num_boost_round=3200,\n",
    "#     early_stopping_rounds=200,\n",
    ")\n",
    "\n",
    "preds = model1_33.predict(x_valid3[FEATS])\n",
    "acc = accuracy_score(y_valid, np.where(preds >= 0.5, 1, 0))\n",
    "auc = roc_auc_score(y_valid, preds)\n",
    "\n",
    "print(f'VALID AUC : {auc} ACC : {acc}\\n')\n",
    "\n",
    "post_slack(\"done\")\n",
    "lgbm_predict(test2, model1_33, FEATS, 'LGBM_Baseline_solvetime_Cumsum추가_assIdx_testIdx_추가.csv')"
   ]
  },
  {
   "cell_type": "code",
   "execution_count": null,
   "id": "cb4b720f",
   "metadata": {},
   "outputs": [],
   "source": []
  },
  {
   "cell_type": "code",
   "execution_count": null,
   "id": "2cbe9bcb",
   "metadata": {},
   "outputs": [],
   "source": []
  },
  {
   "cell_type": "markdown",
   "id": "7ea781f3",
   "metadata": {},
   "source": [
    "## Cumsum및 카테고리 추가"
   ]
  },
  {
   "cell_type": "code",
   "execution_count": 5,
   "id": "656e5fbc",
   "metadata": {
    "ExecuteTime": {
     "end_time": "2022-11-28T12:11:42.809426Z",
     "start_time": "2022-11-28T12:06:18.847426Z"
    },
    "scrolled": true
   },
   "outputs": [
    {
     "name": "stdout",
     "output_type": "stream",
     "text": [
      "[LightGBM] [Info] Number of positive: 1653588, number of negative: 872368\n",
      "[LightGBM] [Warning] Auto-choosing row-wise multi-threading, the overhead of testing was 0.070503 seconds.\n",
      "You can set `force_row_wise=true` to remove the overhead.\n",
      "And if memory is not enough, you can set `force_col_wise=true`.\n",
      "[LightGBM] [Info] Total Bins 3369\n",
      "[LightGBM] [Info] Number of data points in the train set: 2525956, number of used features: 21\n",
      "[LightGBM] [Info] [binary:BoostFromScore]: pavg=0.654638 -> initscore=0.639491\n",
      "[LightGBM] [Info] Start training from score 0.639491\n",
      "[100]\tvalid_0's binary_logloss: 0.583692\n",
      "[200]\tvalid_0's binary_logloss: 0.577598\n",
      "[300]\tvalid_0's binary_logloss: 0.571147\n",
      "[400]\tvalid_0's binary_logloss: 0.565527\n",
      "[500]\tvalid_0's binary_logloss: 0.56144\n",
      "[600]\tvalid_0's binary_logloss: 0.559251\n",
      "[700]\tvalid_0's binary_logloss: 0.554696\n",
      "[800]\tvalid_0's binary_logloss: 0.552521\n",
      "[900]\tvalid_0's binary_logloss: 0.549299\n",
      "[1000]\tvalid_0's binary_logloss: 0.547183\n",
      "[1100]\tvalid_0's binary_logloss: 0.544195\n",
      "[1200]\tvalid_0's binary_logloss: 0.543139\n",
      "[1300]\tvalid_0's binary_logloss: 0.541346\n",
      "[1400]\tvalid_0's binary_logloss: 0.540068\n",
      "[1500]\tvalid_0's binary_logloss: 0.538641\n",
      "[1600]\tvalid_0's binary_logloss: 0.537195\n",
      "[1700]\tvalid_0's binary_logloss: 0.53477\n",
      "[1800]\tvalid_0's binary_logloss: 0.533137\n",
      "[1900]\tvalid_0's binary_logloss: 0.531495\n",
      "[2000]\tvalid_0's binary_logloss: 0.529549\n",
      "[2100]\tvalid_0's binary_logloss: 0.528061\n",
      "[2200]\tvalid_0's binary_logloss: 0.527199\n",
      "[2300]\tvalid_0's binary_logloss: 0.525815\n",
      "[2400]\tvalid_0's binary_logloss: 0.524205\n",
      "[2500]\tvalid_0's binary_logloss: 0.522467\n",
      "[2600]\tvalid_0's binary_logloss: 0.521441\n",
      "[2700]\tvalid_0's binary_logloss: 0.520217\n",
      "[2800]\tvalid_0's binary_logloss: 0.519122\n",
      "[2900]\tvalid_0's binary_logloss: 0.517297\n",
      "[3000]\tvalid_0's binary_logloss: 0.516169\n",
      "[3100]\tvalid_0's binary_logloss: 0.514935\n",
      "[3200]\tvalid_0's binary_logloss: 0.513884\n",
      "VALID AUC : 0.8254826445464869 ACC : 0.7507598784194529\n",
      "\n",
      "writing prediction : output/LGBM_Baseline_solvetime_Cumsum추가_카테고리추가.csv\n"
     ]
    }
   ],
   "source": [
    "# 사용할 Feature 설정\n",
    "FEATS = ['KnowledgeTag',\n",
    "         'user_correct_answer',\n",
    "         'user_total_answer',\n",
    "         'big_category',\n",
    "         'mid_category',\n",
    "         'problem_num',\n",
    "         'month','day','dayname','hour',\n",
    "         'user_acc',\n",
    "         'test_mean',\n",
    "         'test_sum',\n",
    "         'test_std',\n",
    "         'tag_std',\n",
    "         'tag_mean',\n",
    "         'tag_sum',\n",
    "         'solvesec_3600',\n",
    "         'time_category',\n",
    "         'solvesec_cumsum',\n",
    "         'solvecumsum_category'\n",
    "        ]\n",
    "\n",
    "lgb_x_train = lgb.Dataset(x_train[FEATS], y_train)\n",
    "lgb_x_valid = lgb.Dataset(x_valid[FEATS], y_valid)\n",
    "\n",
    "model2 = lgb.train(\n",
    "    params, \n",
    "    lgb_x_train,\n",
    "    valid_sets=[lgb_x_valid],\n",
    "    verbose_eval=100,\n",
    "    num_boost_round=3200,\n",
    "#     early_stopping_rounds=200,\n",
    ")\n",
    "\n",
    "preds = model2.predict(x_valid[FEATS])\n",
    "acc = accuracy_score(y_valid, np.where(preds >= 0.5, 1, 0))\n",
    "auc = roc_auc_score(y_valid, preds)\n",
    "\n",
    "print(f'VALID AUC : {auc} ACC : {acc}\\n')\n",
    "\n",
    "post_slack(\"done\")\n",
    "lgbm_predict(test, model2, FEATS, 'LGBM_Baseline_solvetime_Cumsum추가_카테고리추가_usercorrect_acc_nan처리.csv')"
   ]
  },
  {
   "cell_type": "code",
   "execution_count": null,
   "id": "ee487191",
   "metadata": {
    "ExecuteTime": {
     "end_time": "2022-11-24T16:54:38.669184Z",
     "start_time": "2022-11-24T16:54:37.602821Z"
    }
   },
   "outputs": [],
   "source": [
    "lgbm_predict(test, model, FEATS, 'test.csv')"
   ]
  },
  {
   "cell_type": "markdown",
   "id": "a5ea6f03",
   "metadata": {},
   "source": [
    "## Cumsum추가 (3600으로 나눔)"
   ]
  },
  {
   "cell_type": "code",
   "execution_count": 70,
   "id": "e62bf716",
   "metadata": {
    "ExecuteTime": {
     "end_time": "2022-11-28T13:47:46.330193Z",
     "start_time": "2022-11-28T13:47:46.309234Z"
    }
   },
   "outputs": [
    {
     "data": {
      "text/html": [
       "<div>\n",
       "<style scoped>\n",
       "    .dataframe tbody tr th:only-of-type {\n",
       "        vertical-align: middle;\n",
       "    }\n",
       "\n",
       "    .dataframe tbody tr th {\n",
       "        vertical-align: top;\n",
       "    }\n",
       "\n",
       "    .dataframe thead th {\n",
       "        text-align: right;\n",
       "    }\n",
       "</style>\n",
       "<table border=\"1\" class=\"dataframe\">\n",
       "  <thead>\n",
       "    <tr style=\"text-align: right;\">\n",
       "      <th></th>\n",
       "      <th>userID</th>\n",
       "      <th>assessmentItemID</th>\n",
       "      <th>testId</th>\n",
       "      <th>Timestamp</th>\n",
       "      <th>KnowledgeTag</th>\n",
       "      <th>user_correct_answer</th>\n",
       "      <th>user_total_answer</th>\n",
       "      <th>user_acc</th>\n",
       "      <th>month</th>\n",
       "      <th>day</th>\n",
       "      <th>...</th>\n",
       "      <th>test_mean</th>\n",
       "      <th>test_std</th>\n",
       "      <th>test_sum</th>\n",
       "      <th>tag_mean</th>\n",
       "      <th>tag_std</th>\n",
       "      <th>tag_sum</th>\n",
       "      <th>kind</th>\n",
       "      <th>solvesec_cumsum</th>\n",
       "      <th>solvecumsum_category</th>\n",
       "      <th>solvesec_cumsum2</th>\n",
       "    </tr>\n",
       "  </thead>\n",
       "  <tbody>\n",
       "    <tr>\n",
       "      <th>0</th>\n",
       "      <td>0</td>\n",
       "      <td>A060001001</td>\n",
       "      <td>A060000001</td>\n",
       "      <td>2020-03-24 00:17:11</td>\n",
       "      <td>7224</td>\n",
       "      <td>NaN</td>\n",
       "      <td>0</td>\n",
       "      <td>NaN</td>\n",
       "      <td>3</td>\n",
       "      <td>24</td>\n",
       "      <td>...</td>\n",
       "      <td>0.947683</td>\n",
       "      <td>0.222749</td>\n",
       "      <td>1268</td>\n",
       "      <td>0.955022</td>\n",
       "      <td>0.207410</td>\n",
       "      <td>637</td>\n",
       "      <td>train</td>\n",
       "      <td>0.0</td>\n",
       "      <td>0</td>\n",
       "      <td>0.0</td>\n",
       "    </tr>\n",
       "    <tr>\n",
       "      <th>1</th>\n",
       "      <td>0</td>\n",
       "      <td>A060001002</td>\n",
       "      <td>A060000001</td>\n",
       "      <td>2020-03-24 00:17:14</td>\n",
       "      <td>7225</td>\n",
       "      <td>1.0</td>\n",
       "      <td>1</td>\n",
       "      <td>1.0</td>\n",
       "      <td>3</td>\n",
       "      <td>24</td>\n",
       "      <td>...</td>\n",
       "      <td>0.947683</td>\n",
       "      <td>0.222749</td>\n",
       "      <td>1268</td>\n",
       "      <td>0.913187</td>\n",
       "      <td>0.281603</td>\n",
       "      <td>3040</td>\n",
       "      <td>train</td>\n",
       "      <td>3.0</td>\n",
       "      <td>1</td>\n",
       "      <td>3.0</td>\n",
       "    </tr>\n",
       "    <tr>\n",
       "      <th>2</th>\n",
       "      <td>0</td>\n",
       "      <td>A060001003</td>\n",
       "      <td>A060000001</td>\n",
       "      <td>2020-03-24 00:17:22</td>\n",
       "      <td>7225</td>\n",
       "      <td>2.0</td>\n",
       "      <td>2</td>\n",
       "      <td>1.0</td>\n",
       "      <td>3</td>\n",
       "      <td>24</td>\n",
       "      <td>...</td>\n",
       "      <td>0.947683</td>\n",
       "      <td>0.222749</td>\n",
       "      <td>1268</td>\n",
       "      <td>0.913187</td>\n",
       "      <td>0.281603</td>\n",
       "      <td>3040</td>\n",
       "      <td>train</td>\n",
       "      <td>11.0</td>\n",
       "      <td>4</td>\n",
       "      <td>11.0</td>\n",
       "    </tr>\n",
       "  </tbody>\n",
       "</table>\n",
       "<p>3 rows × 30 columns</p>\n",
       "</div>"
      ],
      "text/plain": [
       "   userID assessmentItemID      testId            Timestamp  KnowledgeTag  \\\n",
       "0       0       A060001001  A060000001  2020-03-24 00:17:11          7224   \n",
       "1       0       A060001002  A060000001  2020-03-24 00:17:14          7225   \n",
       "2       0       A060001003  A060000001  2020-03-24 00:17:22          7225   \n",
       "\n",
       "   user_correct_answer  user_total_answer  user_acc  month  day  ...  \\\n",
       "0                  NaN                  0       NaN      3   24  ...   \n",
       "1                  1.0                  1       1.0      3   24  ...   \n",
       "2                  2.0                  2       1.0      3   24  ...   \n",
       "\n",
       "   test_mean  test_std  test_sum  tag_mean   tag_std tag_sum   kind  \\\n",
       "0   0.947683  0.222749      1268  0.955022  0.207410     637  train   \n",
       "1   0.947683  0.222749      1268  0.913187  0.281603    3040  train   \n",
       "2   0.947683  0.222749      1268  0.913187  0.281603    3040  train   \n",
       "\n",
       "   solvesec_cumsum  solvecumsum_category  solvesec_cumsum2  \n",
       "0              0.0                     0               0.0  \n",
       "1              3.0                     1               3.0  \n",
       "2             11.0                     4              11.0  \n",
       "\n",
       "[3 rows x 30 columns]"
      ]
     },
     "execution_count": 70,
     "metadata": {},
     "output_type": "execute_result"
    }
   ],
   "source": [
    "x_train"
   ]
  },
  {
   "cell_type": "code",
   "execution_count": 71,
   "id": "499d5785",
   "metadata": {
    "ExecuteTime": {
     "end_time": "2022-11-28T13:52:49.030127Z",
     "start_time": "2022-11-28T13:48:36.458650Z"
    }
   },
   "outputs": [
    {
     "name": "stdout",
     "output_type": "stream",
     "text": [
      "[LightGBM] [Info] Number of positive: 1653588, number of negative: 872368\n",
      "[LightGBM] [Warning] Auto-choosing row-wise multi-threading, the overhead of testing was 0.080436 seconds.\n",
      "You can set `force_row_wise=true` to remove the overhead.\n",
      "And if memory is not enough, you can set `force_col_wise=true`.\n",
      "[LightGBM] [Info] Total Bins 3360\n",
      "[LightGBM] [Info] Number of data points in the train set: 2525956, number of used features: 20\n",
      "[LightGBM] [Info] [binary:BoostFromScore]: pavg=0.654638 -> initscore=0.639491\n",
      "[LightGBM] [Info] Start training from score 0.639491\n",
      "[100]\tvalid_0's binary_logloss: 0.585607\n",
      "[200]\tvalid_0's binary_logloss: 0.576222\n",
      "[300]\tvalid_0's binary_logloss: 0.5699\n",
      "[400]\tvalid_0's binary_logloss: 0.565599\n",
      "[500]\tvalid_0's binary_logloss: 0.561664\n",
      "[600]\tvalid_0's binary_logloss: 0.558705\n",
      "[700]\tvalid_0's binary_logloss: 0.554077\n",
      "[800]\tvalid_0's binary_logloss: 0.551868\n",
      "[900]\tvalid_0's binary_logloss: 0.549103\n",
      "[1000]\tvalid_0's binary_logloss: 0.547129\n",
      "[1100]\tvalid_0's binary_logloss: 0.545805\n",
      "[1200]\tvalid_0's binary_logloss: 0.543751\n",
      "[1300]\tvalid_0's binary_logloss: 0.541714\n",
      "[1400]\tvalid_0's binary_logloss: 0.539433\n",
      "[1500]\tvalid_0's binary_logloss: 0.537425\n",
      "[1600]\tvalid_0's binary_logloss: 0.53489\n",
      "[1700]\tvalid_0's binary_logloss: 0.533709\n",
      "[1800]\tvalid_0's binary_logloss: 0.532201\n",
      "[1900]\tvalid_0's binary_logloss: 0.530874\n",
      "[2000]\tvalid_0's binary_logloss: 0.529765\n",
      "[2100]\tvalid_0's binary_logloss: 0.527517\n",
      "[2200]\tvalid_0's binary_logloss: 0.526633\n",
      "[2300]\tvalid_0's binary_logloss: 0.525193\n",
      "[2400]\tvalid_0's binary_logloss: 0.524059\n",
      "[2500]\tvalid_0's binary_logloss: 0.523056\n",
      "[2600]\tvalid_0's binary_logloss: 0.52208\n",
      "[2700]\tvalid_0's binary_logloss: 0.521658\n",
      "[2800]\tvalid_0's binary_logloss: 0.520086\n",
      "[2900]\tvalid_0's binary_logloss: 0.518693\n",
      "[3000]\tvalid_0's binary_logloss: 0.51707\n",
      "[3100]\tvalid_0's binary_logloss: 0.516193\n",
      "[3200]\tvalid_0's binary_logloss: 0.515343\n",
      "VALID AUC : 0.824168024490199 ACC : 0.7426545086119554\n",
      "\n",
      "writing prediction : output/LGBM_Baseline_solvetime_Cumsum추가_3600나누기.csv\n"
     ]
    }
   ],
   "source": [
    "# 사용할 Feature 설정\n",
    "FEATS = ['KnowledgeTag',\n",
    "         'user_correct_answer',\n",
    "         'user_total_answer',\n",
    "         'big_category',\n",
    "         'mid_category',\n",
    "         'problem_num',\n",
    "         'month','day','dayname','hour',\n",
    "         'user_acc',\n",
    "         'test_mean',\n",
    "         'test_sum',\n",
    "         'test_std',\n",
    "         'tag_std',\n",
    "         'tag_mean',\n",
    "         'tag_sum',\n",
    "         'solvesec_3600',\n",
    "         'time_category',\n",
    "         'solvesec_cumsum2'\n",
    "        ]\n",
    "\n",
    "lgb_x_train = lgb.Dataset(x_train[FEATS], y_train)\n",
    "lgb_x_valid = lgb.Dataset(x_valid[FEATS], y_valid)\n",
    "\n",
    "model3 = lgb.train(\n",
    "    params, \n",
    "    lgb_x_train,\n",
    "    valid_sets=[lgb_x_valid],\n",
    "    verbose_eval=100,\n",
    "    num_boost_round=3200,\n",
    "#     early_stopping_rounds=200,\n",
    ")\n",
    "\n",
    "preds = model3.predict(x_valid[FEATS])\n",
    "acc = accuracy_score(y_valid, np.where(preds >= 0.5, 1, 0))\n",
    "auc = roc_auc_score(y_valid, preds)\n",
    "\n",
    "print(f'VALID AUC : {auc} ACC : {acc}\\n')\n",
    "\n",
    "post_slack(\"done\")\n",
    "lgbm_predict(test, model3, FEATS, 'LGBM_Baseline_solvetime_Cumsum추가_3600나누기.csv')\n",
    "# 제출 AUC: 0.7847(기존 1번) →"
   ]
  },
  {
   "cell_type": "code",
   "execution_count": null,
   "id": "d971eee8",
   "metadata": {},
   "outputs": [],
   "source": []
  }
 ],
 "metadata": {
  "kernelspec": {
   "display_name": "Python 3 (ipykernel)",
   "language": "python",
   "name": "python3"
  },
  "language_info": {
   "codemirror_mode": {
    "name": "ipython",
    "version": 3
   },
   "file_extension": ".py",
   "mimetype": "text/x-python",
   "name": "python",
   "nbconvert_exporter": "python",
   "pygments_lexer": "ipython3",
   "version": "3.9.15"
  },
  "toc": {
   "base_numbering": 1,
   "nav_menu": {},
   "number_sections": true,
   "sideBar": true,
   "skip_h1_title": true,
   "title_cell": "Table of Contents",
   "title_sidebar": "Contents",
   "toc_cell": false,
   "toc_position": {
    "height": "calc(100% - 180px)",
    "left": "10px",
    "top": "150px",
    "width": "330.099px"
   },
   "toc_section_display": true,
   "toc_window_display": true
  }
 },
 "nbformat": 4,
 "nbformat_minor": 5
}
