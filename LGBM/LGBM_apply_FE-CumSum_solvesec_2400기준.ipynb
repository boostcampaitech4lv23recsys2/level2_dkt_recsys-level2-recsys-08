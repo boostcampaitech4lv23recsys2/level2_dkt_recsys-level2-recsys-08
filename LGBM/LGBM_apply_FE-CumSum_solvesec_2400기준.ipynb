{
 "cells": [
  {
   "cell_type": "markdown",
   "id": "42ac2253",
   "metadata": {},
   "source": [
    "## dataload"
   ]
  },
  {
   "cell_type": "code",
   "execution_count": 34,
   "id": "deba27dc",
   "metadata": {
    "ExecuteTime": {
     "end_time": "2022-11-29T15:53:48.656929Z",
     "start_time": "2022-11-29T15:53:45.174037Z"
    }
   },
   "outputs": [
    {
     "data": {
      "text/plain": [
       "((1845539, 33), (1974, 33), (260114, 33))"
      ]
     },
     "execution_count": 34,
     "metadata": {},
     "output_type": "execute_result"
    },
    {
     "data": {
      "text/plain": [
       "((1845539, 32), (1845539, 1), (1974, 32), (1974, 1))"
      ]
     },
     "execution_count": 34,
     "metadata": {},
     "output_type": "execute_result"
    }
   ],
   "source": [
    "import mlflow\n",
    "import mlflow.lightgbm\n",
    "\n",
    "from IPython.core.interactiveshell import InteractiveShell\n",
    "InteractiveShell.ast_node_interactivity = 'all'\n",
    "import pandas as pd\n",
    "import os\n",
    "import random\n",
    "import warnings\n",
    "warnings.filterwarnings('ignore')\n",
    "import lightgbm as lgb\n",
    "from sklearn.metrics import roc_auc_score\n",
    "from sklearn.metrics import accuracy_score\n",
    "import numpy as np\n",
    "from utils import custom_train_test_split, lgbm_predict, post_slack\n",
    "\n",
    "SEED=13\n",
    "## 1. 데이터 로딩\n",
    "data_dir = '/opt/ml/input/data' # 경로\n",
    "after_fe_path = os.path.join(data_dir, 'after_fe_train_test_cumsum2.pkl')\n",
    "df = pd.read_pickle(after_fe_path)\n",
    "\n",
    "train_df = df[df.kind=='train']\n",
    "train, valid = custom_train_test_split(train_df, ratio=0.7, seed=SEED) # 훈련데이터 split\n",
    "test = df[df.kind=='test'] # 테스트 데이터\n",
    "train2 = test[test.answerCode!=-1] # 테스트데이터 마지막 제출 2번쨰꺼까지 훈련데이터로 사용\n",
    "train = pd.concat([train,train2]) # 훈련데이터 병합\n",
    "train.shape, valid.shape, test.shape\n",
    "\n",
    "x_train = train.drop('answerCode',axis=1)\n",
    "y_train = train[['answerCode']]\n",
    "\n",
    "x_valid = valid.drop('answerCode',axis=1)\n",
    "y_valid = valid[['answerCode']]\n",
    "x_train.shape, y_train.shape, x_valid.shape, y_valid.shape"
   ]
  },
  {
   "cell_type": "code",
   "execution_count": 35,
   "id": "ae2297e3",
   "metadata": {
    "ExecuteTime": {
     "end_time": "2022-11-29T15:54:02.797599Z",
     "start_time": "2022-11-29T15:54:02.322126Z"
    }
   },
   "outputs": [
    {
     "data": {
      "text/html": [
       "<div>\n",
       "<style scoped>\n",
       "    .dataframe tbody tr th:only-of-type {\n",
       "        vertical-align: middle;\n",
       "    }\n",
       "\n",
       "    .dataframe tbody tr th {\n",
       "        vertical-align: top;\n",
       "    }\n",
       "\n",
       "    .dataframe thead th {\n",
       "        text-align: right;\n",
       "    }\n",
       "</style>\n",
       "<table border=\"1\" class=\"dataframe\">\n",
       "  <thead>\n",
       "    <tr style=\"text-align: right;\">\n",
       "      <th></th>\n",
       "      <th>userID</th>\n",
       "      <th>uidIdx</th>\n",
       "    </tr>\n",
       "  </thead>\n",
       "  <tbody>\n",
       "    <tr>\n",
       "      <th>1678</th>\n",
       "      <td>2</td>\n",
       "      <td>2</td>\n",
       "    </tr>\n",
       "    <tr>\n",
       "      <th>1679</th>\n",
       "      <td>2</td>\n",
       "      <td>2</td>\n",
       "    </tr>\n",
       "    <tr>\n",
       "      <th>1680</th>\n",
       "      <td>2</td>\n",
       "      <td>2</td>\n",
       "    </tr>\n",
       "    <tr>\n",
       "      <th>1681</th>\n",
       "      <td>2</td>\n",
       "      <td>2</td>\n",
       "    </tr>\n",
       "    <tr>\n",
       "      <th>1682</th>\n",
       "      <td>2</td>\n",
       "      <td>2</td>\n",
       "    </tr>\n",
       "    <tr>\n",
       "      <th>...</th>\n",
       "      <td>...</td>\n",
       "      <td>...</td>\n",
       "    </tr>\n",
       "    <tr>\n",
       "      <th>2526670</th>\n",
       "      <td>7439</td>\n",
       "      <td>7439</td>\n",
       "    </tr>\n",
       "    <tr>\n",
       "      <th>2526671</th>\n",
       "      <td>7439</td>\n",
       "      <td>7439</td>\n",
       "    </tr>\n",
       "    <tr>\n",
       "      <th>2526672</th>\n",
       "      <td>7439</td>\n",
       "      <td>7439</td>\n",
       "    </tr>\n",
       "    <tr>\n",
       "      <th>2526673</th>\n",
       "      <td>7439</td>\n",
       "      <td>7439</td>\n",
       "    </tr>\n",
       "    <tr>\n",
       "      <th>2526674</th>\n",
       "      <td>7439</td>\n",
       "      <td>7439</td>\n",
       "    </tr>\n",
       "  </tbody>\n",
       "</table>\n",
       "<p>1845539 rows × 2 columns</p>\n",
       "</div>"
      ],
      "text/plain": [
       "         userID  uidIdx\n",
       "1678          2       2\n",
       "1679          2       2\n",
       "1680          2       2\n",
       "1681          2       2\n",
       "1682          2       2\n",
       "...         ...     ...\n",
       "2526670    7439    7439\n",
       "2526671    7439    7439\n",
       "2526672    7439    7439\n",
       "2526673    7439    7439\n",
       "2526674    7439    7439\n",
       "\n",
       "[1845539 rows x 2 columns]"
      ]
     },
     "execution_count": 35,
     "metadata": {},
     "output_type": "execute_result"
    }
   ],
   "source": [
    "x_train[['userID','uidIdx']]"
   ]
  },
  {
   "cell_type": "code",
   "execution_count": 24,
   "id": "21ba16e6",
   "metadata": {
    "ExecuteTime": {
     "end_time": "2022-11-29T15:33:56.413550Z",
     "start_time": "2022-11-29T15:33:56.410862Z"
    }
   },
   "outputs": [],
   "source": [
    "params = {\n",
    "#     \"max_depth\": 8,  # 8,\n",
    "#     \"min_data_in_leaf\": 1000,\n",
    "    # \"feature_fraction\": 0.6,  # 0.8,\n",
    "#     \"bagging_fraction\": 0.75,\n",
    "    # \"max_cat_group\": 64,\n",
    "    \"objective\": \"binary\",\n",
    "#     \"boosting\": \"gbdt\",  # dart\n",
    "#     \"learning_rate\": 0.01,  # 0.01,\n",
    "    # \"bagging_freq\": 5,\n",
    "    \"seed\": 42,\n",
    "    # \"max_bin\": 50,\n",
    "#     \"num_leaves\": 80,  # 40,\n",
    "#     \"metric\": \"auc\",\n",
    "}"
   ]
  },
  {
   "cell_type": "markdown",
   "id": "2cd4a5b2",
   "metadata": {},
   "source": [
    "## 그냥 solvesec_cumsum 사용"
   ]
  },
  {
   "cell_type": "code",
   "execution_count": 5,
   "id": "eb08c793",
   "metadata": {
    "ExecuteTime": {
     "end_time": "2022-11-29T14:35:35.221910Z",
     "start_time": "2022-11-29T14:35:35.213839Z"
    }
   },
   "outputs": [
    {
     "data": {
      "text/plain": [
       "([0, 1, 2, 3, 21, 23],\n",
       " '🌈(11/29 Tue)[LGBM Cumsum + category] 피처: 24개',\n",
       " '사용된 피처(24)\\nuidIdx, assIdx, testIdx, KnowledgeTag, user_correct_answer, user_total_answer, big_category, mid_category, problem_num, month, day, dayname, hour, user_acc, test_mean, test_sum, test_std, tag_std, tag_mean, tag_sum, solvesec_2400, time_category, solvesec_cumsum, solvecumsum_category')"
      ]
     },
     "execution_count": 5,
     "metadata": {},
     "output_type": "execute_result"
    }
   ],
   "source": [
    "# 사용할 Feature 설정\n",
    "FEATS = ['uidIdx',\n",
    "         'assIdx',\n",
    "         'testIdx',\n",
    "         'KnowledgeTag',\n",
    "         'user_correct_answer',\n",
    "         'user_total_answer',\n",
    "         'big_category',\n",
    "         'mid_category',\n",
    "         'problem_num',\n",
    "         'month','day','dayname','hour',\n",
    "         'user_acc',\n",
    "         'test_mean',\n",
    "         'test_sum',\n",
    "         'test_std',\n",
    "         'tag_std',\n",
    "         'tag_mean',\n",
    "         'tag_sum',\n",
    "         'solvesec_2400',\n",
    "         'time_category',\n",
    "         'solvesec_cumsum',\n",
    "         'solvecumsum_category'\n",
    "        ]\n",
    "\n",
    "cat_feats = ['uidIdx','assIdx','testIdx','KnowledgeTag','time_category','solvecumsum_category']\n",
    "cat_feats_idx = [i for i,e in enumerate(FEATS) if e in cat_feats]\n",
    "\n",
    "\n",
    "from datetime import datetime\n",
    "date = datetime.now().strftime('%m/%d %a')\n",
    "title=f\"🌈({date})[LGBM Cumsum + category] 피처: {len(FEATS)}개\"\n",
    "using_feats=\", \".join(FEATS)\n",
    "desc=f\"사용된 피처({len(FEATS)})\\n{using_feats}\"\n",
    "cat_feats_idx, title, desc"
   ]
  },
  {
   "cell_type": "code",
   "execution_count": 8,
   "id": "2cbe9bcb",
   "metadata": {
    "ExecuteTime": {
     "end_time": "2022-11-29T14:38:55.029112Z",
     "start_time": "2022-11-29T14:36:17.627257Z"
    },
    "scrolled": false
   },
   "outputs": [
    {
     "name": "stdout",
     "output_type": "stream",
     "text": [
      "[LightGBM] [Info] Number of positive: 1208276, number of negative: 637263\n",
      "[LightGBM] [Warning] Auto-choosing row-wise multi-threading, the overhead of testing was 0.022757 seconds.\n",
      "You can set `force_row_wise=true` to remove the overhead.\n",
      "And if memory is not enough, you can set `force_col_wise=true`.\n",
      "[LightGBM] [Info] Total Bins 18557\n",
      "[LightGBM] [Info] Number of data points in the train set: 1845539, number of used features: 23\n",
      "[LightGBM] [Info] [binary:BoostFromScore]: pavg=0.654701 -> initscore=0.639767\n",
      "[LightGBM] [Info] Start training from score 0.639767\n",
      "[100]\tvalid_0's binary_logloss: 0.56237\n",
      "[200]\tvalid_0's binary_logloss: 0.555351\n",
      "[300]\tvalid_0's binary_logloss: 0.553151\n",
      "[400]\tvalid_0's binary_logloss: 0.551699\n",
      "[500]\tvalid_0's binary_logloss: 0.551188\n",
      "[600]\tvalid_0's binary_logloss: 0.548887\n",
      "[700]\tvalid_0's binary_logloss: 0.549058\n",
      "[800]\tvalid_0's binary_logloss: 0.548756\n",
      "[900]\tvalid_0's binary_logloss: 0.549501\n",
      "[1000]\tvalid_0's binary_logloss: 0.550635\n",
      "[1100]\tvalid_0's binary_logloss: 0.551213\n",
      "[1200]\tvalid_0's binary_logloss: 0.55135\n",
      "[1300]\tvalid_0's binary_logloss: 0.552372\n",
      "[1400]\tvalid_0's binary_logloss: 0.55319\n",
      "[1500]\tvalid_0's binary_logloss: 0.553912\n",
      "[1600]\tvalid_0's binary_logloss: 0.554282\n",
      "[1700]\tvalid_0's binary_logloss: 0.555237\n",
      "[1800]\tvalid_0's binary_logloss: 0.555712\n",
      "[1900]\tvalid_0's binary_logloss: 0.556248\n",
      "[2000]\tvalid_0's binary_logloss: 0.556618\n",
      "[2100]\tvalid_0's binary_logloss: 0.557346\n",
      "[2200]\tvalid_0's binary_logloss: 0.557616\n",
      "[2300]\tvalid_0's binary_logloss: 0.557776\n",
      "[2400]\tvalid_0's binary_logloss: 0.558015\n",
      "[2500]\tvalid_0's binary_logloss: 0.558227\n",
      "[2600]\tvalid_0's binary_logloss: 0.558416\n",
      "[2700]\tvalid_0's binary_logloss: 0.558794\n",
      "[2800]\tvalid_0's binary_logloss: 0.558894\n",
      "[2900]\tvalid_0's binary_logloss: 0.559299\n",
      "[3000]\tvalid_0's binary_logloss: 0.559607\n",
      "[3100]\tvalid_0's binary_logloss: 0.560004\n",
      "[3200]\tvalid_0's binary_logloss: 0.560063\n",
      "VALID AUC : 0.7872136226731843 ACC : 0.7117527862208713\n",
      "\n",
      "writing prediction : output/LGBM_Baseline_solvetime_Cumsum추가_category_추가.csv\n"
     ]
    }
   ],
   "source": [
    "mlflow.lightgbm.autolog()\n",
    "lgb_x_train = lgb.Dataset(x_train[FEATS], y_train)\n",
    "lgb_x_valid = lgb.Dataset(x_valid[FEATS], y_valid)\n",
    "\n",
    "with mlflow.start_run(run_name=title, description=desc) as run:\n",
    "    model2 = lgb.train(\n",
    "        params, \n",
    "        lgb_x_train,\n",
    "        valid_sets=[lgb_x_valid],\n",
    "        verbose_eval=100,\n",
    "        num_boost_round=3200,\n",
    "        categorical_feature=cat_feats_idx\n",
    "    #     early_stopping_rounds=200,\n",
    "    )\n",
    "\n",
    "    preds = model2.predict(x_valid[FEATS])\n",
    "    acc = accuracy_score(y_valid, np.where(preds >= 0.5, 1, 0))\n",
    "    auc = roc_auc_score(y_valid, preds)\n",
    "    print(f'VALID AUC : {auc} ACC : {acc}\\n')\n",
    "    mlflow.log_metric(\"VAL AUC\",auc)\n",
    "    mlflow.log_metric(\"VAL Set SEED\",SEED)\n",
    "    model2_run_id=run.info.run_id\n",
    "    post_slack(\"done\")\n",
    "    lgbm_predict(test, model2, FEATS, 'LGBM_Baseline_solvetime_Cumsum추가_category_추가.csv')"
   ]
  },
  {
   "cell_type": "code",
   "execution_count": 9,
   "id": "fe584dd4",
   "metadata": {
    "ExecuteTime": {
     "end_time": "2022-11-29T14:40:16.802796Z",
     "start_time": "2022-11-29T14:40:16.743390Z"
    }
   },
   "outputs": [
    {
     "name": "stdout",
     "output_type": "stream",
     "text": [
      "writing prediction : output/LGBM_solvetime_Cumsum추가_category_추가_2400.csv\n"
     ]
    }
   ],
   "source": [
    "lgbm_predict(test, model2, FEATS, 'LGBM_solvetime_Cumsum추가_category_추가_2400.csv')"
   ]
  },
  {
   "cell_type": "code",
   "execution_count": 14,
   "id": "b76d5b5e",
   "metadata": {
    "ExecuteTime": {
     "end_time": "2022-11-29T14:47:32.824828Z",
     "start_time": "2022-11-29T14:47:32.791045Z"
    }
   },
   "outputs": [
    {
     "data": {
      "text/plain": [
       "<ActiveRun: >"
      ]
     },
     "execution_count": 14,
     "metadata": {},
     "output_type": "execute_result"
    },
    {
     "name": "stdout",
     "output_type": "stream",
     "text": [
      "Active run_id: 7a9515834a1e430f9255ecdc7946af00\n"
     ]
    }
   ],
   "source": [
    "# 제출시\n",
    "LB_AUC=0.7905\n",
    "run_id = model2_run_id\n",
    "mlflow.start_run(run_id=run_id)\n",
    "run = mlflow.active_run()\n",
    "print(\"Active run_id: {}\".format(run.info.run_id))\n",
    "mlflow.log_metric(\"LB AUC\",LB_AUC)\n",
    "mlflow.end_run()"
   ]
  },
  {
   "cell_type": "code",
   "execution_count": null,
   "id": "d9e21a0f",
   "metadata": {},
   "outputs": [],
   "source": []
  },
  {
   "cell_type": "markdown",
   "id": "8dbdea2f",
   "metadata": {},
   "source": [
    "## solvesec_cumsum 2400 사용"
   ]
  },
  {
   "cell_type": "code",
   "execution_count": 10,
   "id": "f7007ca8",
   "metadata": {
    "ExecuteTime": {
     "end_time": "2022-11-29T14:41:54.054975Z",
     "start_time": "2022-11-29T14:41:54.046656Z"
    }
   },
   "outputs": [
    {
     "data": {
      "text/plain": [
       "([0, 1, 2, 3, 21, 23],\n",
       " '🌈(11/29 Tue)[LGBM Cumsum 2400기준, solvesec_cumsum_2400] 피처: 24개',\n",
       " '사용된 피처(24)\\nuidIdx, assIdx, testIdx, KnowledgeTag, user_correct_answer, user_total_answer, big_category, mid_category, problem_num, month, day, dayname, hour, user_acc, test_mean, test_sum, test_std, tag_std, tag_mean, tag_sum, solvesec_2400, time_category, solvesec_cumsum_2400, solvecumsum_category')"
      ]
     },
     "execution_count": 10,
     "metadata": {},
     "output_type": "execute_result"
    }
   ],
   "source": [
    "# 사용할 Feature 설정\n",
    "FEATS = ['uidIdx',\n",
    "         'assIdx',\n",
    "         'testIdx',\n",
    "         'KnowledgeTag',\n",
    "         'user_correct_answer',\n",
    "         'user_total_answer',\n",
    "         'big_category',\n",
    "         'mid_category',\n",
    "         'problem_num',\n",
    "         'month','day','dayname','hour',\n",
    "         'user_acc',\n",
    "         'test_mean',\n",
    "         'test_sum',\n",
    "         'test_std',\n",
    "         'tag_std',\n",
    "         'tag_mean',\n",
    "         'tag_sum',\n",
    "         'solvesec_2400',\n",
    "         'time_category',\n",
    "         'solvesec_cumsum_2400',\n",
    "         'solvecumsum_category'\n",
    "        ]\n",
    "\n",
    "cat_feats = ['uidIdx','assIdx','testIdx','KnowledgeTag','time_category','solvecumsum_category']\n",
    "cat_feats_idx = [i for i,e in enumerate(FEATS) if e in cat_feats]\n",
    "\n",
    "\n",
    "from datetime import datetime\n",
    "date = datetime.now().strftime('%m/%d %a')\n",
    "title=f\"🌈({date})[LGBM Cumsum 2400기준, solvesec_cumsum_2400] 피처: {len(FEATS)}개\"\n",
    "using_feats=\", \".join(FEATS)\n",
    "desc=f\"사용된 피처({len(FEATS)})\\n{using_feats}\"\n",
    "cat_feats_idx, title, desc"
   ]
  },
  {
   "cell_type": "code",
   "execution_count": 11,
   "id": "480912cf",
   "metadata": {
    "ExecuteTime": {
     "end_time": "2022-11-29T14:44:59.582107Z",
     "start_time": "2022-11-29T14:42:29.299085Z"
    },
    "scrolled": false
   },
   "outputs": [
    {
     "name": "stdout",
     "output_type": "stream",
     "text": [
      "[LightGBM] [Info] Number of positive: 1208276, number of negative: 637263\n",
      "[LightGBM] [Warning] Auto-choosing row-wise multi-threading, the overhead of testing was 0.022559 seconds.\n",
      "You can set `force_row_wise=true` to remove the overhead.\n",
      "And if memory is not enough, you can set `force_col_wise=true`.\n",
      "[LightGBM] [Info] Total Bins 18557\n",
      "[LightGBM] [Info] Number of data points in the train set: 1845539, number of used features: 23\n",
      "[LightGBM] [Info] [binary:BoostFromScore]: pavg=0.654701 -> initscore=0.639767\n",
      "[LightGBM] [Info] Start training from score 0.639767\n",
      "[100]\tvalid_0's binary_logloss: 0.561438\n",
      "[200]\tvalid_0's binary_logloss: 0.554626\n",
      "[300]\tvalid_0's binary_logloss: 0.552703\n",
      "[400]\tvalid_0's binary_logloss: 0.551491\n",
      "[500]\tvalid_0's binary_logloss: 0.550737\n",
      "[600]\tvalid_0's binary_logloss: 0.549383\n",
      "[700]\tvalid_0's binary_logloss: 0.54733\n",
      "[800]\tvalid_0's binary_logloss: 0.547293\n",
      "[900]\tvalid_0's binary_logloss: 0.547104\n",
      "[1000]\tvalid_0's binary_logloss: 0.547631\n",
      "[1100]\tvalid_0's binary_logloss: 0.548391\n",
      "[1200]\tvalid_0's binary_logloss: 0.549149\n",
      "[1300]\tvalid_0's binary_logloss: 0.549715\n",
      "[1400]\tvalid_0's binary_logloss: 0.549752\n",
      "[1500]\tvalid_0's binary_logloss: 0.549759\n",
      "[1600]\tvalid_0's binary_logloss: 0.550788\n",
      "[1700]\tvalid_0's binary_logloss: 0.550714\n",
      "[1800]\tvalid_0's binary_logloss: 0.551132\n",
      "[1900]\tvalid_0's binary_logloss: 0.551424\n",
      "[2000]\tvalid_0's binary_logloss: 0.551845\n",
      "[2100]\tvalid_0's binary_logloss: 0.552099\n",
      "[2200]\tvalid_0's binary_logloss: 0.552649\n",
      "[2300]\tvalid_0's binary_logloss: 0.553298\n",
      "[2400]\tvalid_0's binary_logloss: 0.553394\n",
      "[2500]\tvalid_0's binary_logloss: 0.553002\n",
      "[2600]\tvalid_0's binary_logloss: 0.553537\n",
      "[2700]\tvalid_0's binary_logloss: 0.553545\n",
      "[2800]\tvalid_0's binary_logloss: 0.553741\n",
      "[2900]\tvalid_0's binary_logloss: 0.554283\n",
      "[3000]\tvalid_0's binary_logloss: 0.55501\n",
      "[3100]\tvalid_0's binary_logloss: 0.555425\n",
      "[3200]\tvalid_0's binary_logloss: 0.555963\n",
      "VALID AUC : 0.7893799683997432 ACC : 0.7152988855116514\n",
      "\n",
      "writing prediction : output/LGBM_solvetime_Cumsum추가_category_추가_2400_solvesec_cumsum_2400.csv\n"
     ]
    }
   ],
   "source": [
    "mlflow.lightgbm.autolog()\n",
    "lgb_x_train = lgb.Dataset(x_train[FEATS], y_train)\n",
    "lgb_x_valid = lgb.Dataset(x_valid[FEATS], y_valid)\n",
    "\n",
    "with mlflow.start_run(run_name=title, description=desc) as run:\n",
    "    model3 = lgb.train(\n",
    "        params, \n",
    "        lgb_x_train,\n",
    "        valid_sets=[lgb_x_valid],\n",
    "        verbose_eval=100,\n",
    "        num_boost_round=3200,\n",
    "        categorical_feature=cat_feats_idx\n",
    "    #     early_stopping_rounds=200,\n",
    "    )\n",
    "\n",
    "    preds = model3.predict(x_valid[FEATS])\n",
    "    acc = accuracy_score(y_valid, np.where(preds >= 0.5, 1, 0))\n",
    "    auc = roc_auc_score(y_valid, preds)\n",
    "    print(f'VALID AUC : {auc} ACC : {acc}\\n')\n",
    "    mlflow.log_metric(\"VAL AUC\",auc)\n",
    "    mlflow.log_metric(\"VAL Set SEED\",SEED)\n",
    "    model3_run_id=run.info.run_id\n",
    "    post_slack(\"done\")\n",
    "    lgbm_predict(test, model3, FEATS, 'LGBM_solvetime_Cumsum추가_category_추가_2400_solvesec_cumsum_2400.csv')"
   ]
  },
  {
   "cell_type": "code",
   "execution_count": 15,
   "id": "c4ff8192",
   "metadata": {
    "ExecuteTime": {
     "end_time": "2022-11-29T14:48:43.687638Z",
     "start_time": "2022-11-29T14:48:43.658120Z"
    }
   },
   "outputs": [
    {
     "data": {
      "text/plain": [
       "<ActiveRun: >"
      ]
     },
     "execution_count": 15,
     "metadata": {},
     "output_type": "execute_result"
    },
    {
     "name": "stdout",
     "output_type": "stream",
     "text": [
      "Active run_id: b1ea685e9f444aeb80420459cbaa81b3\n"
     ]
    }
   ],
   "source": [
    "# 제출시\n",
    "LB_AUC=0.7988\n",
    "run_id = model3_run_id\n",
    "mlflow.start_run(run_id=run_id)\n",
    "run = mlflow.active_run()\n",
    "print(\"Active run_id: {}\".format(run.info.run_id))\n",
    "mlflow.log_metric(\"LB AUC\",LB_AUC)\n",
    "mlflow.end_run()"
   ]
  },
  {
   "cell_type": "markdown",
   "id": "48f8f560",
   "metadata": {},
   "source": [
    "### early stoping 적용"
   ]
  },
  {
   "cell_type": "code",
   "execution_count": 17,
   "id": "b88af912",
   "metadata": {
    "ExecuteTime": {
     "end_time": "2022-11-29T14:50:39.309284Z",
     "start_time": "2022-11-29T14:49:37.643372Z"
    }
   },
   "outputs": [
    {
     "data": {
      "text/plain": [
       "([0, 1, 2, 3, 21, 23],\n",
       " '🌈(11/29 Tue)[LGBM Cumsum 2400기준, solvesec_cumsum_2400] 피처: 24개',\n",
       " '사용된 피처(24)\\nuidIdx, assIdx, testIdx, KnowledgeTag, user_correct_answer, user_total_answer, big_category, mid_category, problem_num, month, day, dayname, hour, user_acc, test_mean, test_sum, test_std, tag_std, tag_mean, tag_sum, solvesec_2400, time_category, solvesec_cumsum_2400, solvecumsum_category')"
      ]
     },
     "execution_count": 17,
     "metadata": {},
     "output_type": "execute_result"
    },
    {
     "name": "stdout",
     "output_type": "stream",
     "text": [
      "[LightGBM] [Info] Number of positive: 1208276, number of negative: 637263\n",
      "[LightGBM] [Warning] Auto-choosing row-wise multi-threading, the overhead of testing was 0.024245 seconds.\n",
      "You can set `force_row_wise=true` to remove the overhead.\n",
      "And if memory is not enough, you can set `force_col_wise=true`.\n",
      "[LightGBM] [Info] Total Bins 18557\n",
      "[LightGBM] [Info] Number of data points in the train set: 1845539, number of used features: 23\n",
      "[LightGBM] [Info] [binary:BoostFromScore]: pavg=0.654701 -> initscore=0.639767\n",
      "[LightGBM] [Info] Start training from score 0.639767\n",
      "Training until validation scores don't improve for 200 rounds\n",
      "[100]\tvalid_0's binary_logloss: 0.561438\n",
      "[200]\tvalid_0's binary_logloss: 0.554626\n",
      "[300]\tvalid_0's binary_logloss: 0.552703\n",
      "[400]\tvalid_0's binary_logloss: 0.551491\n",
      "[500]\tvalid_0's binary_logloss: 0.550737\n",
      "[600]\tvalid_0's binary_logloss: 0.549383\n",
      "[700]\tvalid_0's binary_logloss: 0.54733\n",
      "[800]\tvalid_0's binary_logloss: 0.547293\n",
      "[900]\tvalid_0's binary_logloss: 0.547104\n",
      "Early stopping, best iteration is:\n",
      "[732]\tvalid_0's binary_logloss: 0.546977\n",
      "VALID AUC : 0.7946950246054083 ACC : 0.7218844984802432\n",
      "\n",
      "writing prediction : output/LGBM_solvetime_Cumsum추가_category_추가_2400_solvesec_cumsum_2400_early.csv\n"
     ]
    }
   ],
   "source": [
    "# 사용할 Feature 설정\n",
    "FEATS = ['uidIdx',\n",
    "         'assIdx',\n",
    "         'testIdx',\n",
    "         'KnowledgeTag',\n",
    "         'user_correct_answer',\n",
    "         'user_total_answer',\n",
    "         'big_category',\n",
    "         'mid_category',\n",
    "         'problem_num',\n",
    "         'month','day','dayname','hour',\n",
    "         'user_acc',\n",
    "         'test_mean',\n",
    "         'test_sum',\n",
    "         'test_std',\n",
    "         'tag_std',\n",
    "         'tag_mean',\n",
    "         'tag_sum',\n",
    "         'solvesec_2400',\n",
    "         'time_category',\n",
    "         'solvesec_cumsum_2400',\n",
    "         'solvecumsum_category'\n",
    "        ]\n",
    "\n",
    "cat_feats = ['uidIdx','assIdx','testIdx','KnowledgeTag','time_category','solvecumsum_category']\n",
    "cat_feats_idx = [i for i,e in enumerate(FEATS) if e in cat_feats]\n",
    "\n",
    "\n",
    "from datetime import datetime\n",
    "date = datetime.now().strftime('%m/%d %a')\n",
    "title=f\"🌈({date})[LGBM Cumsum 2400기준, solvesec_cumsum_2400] 피처: {len(FEATS)}개\"\n",
    "using_feats=\", \".join(FEATS)\n",
    "desc=f\"사용된 피처({len(FEATS)})\\n{using_feats}\"\n",
    "cat_feats_idx, title, desc\n",
    "\n",
    "mlflow.lightgbm.autolog()\n",
    "lgb_x_train = lgb.Dataset(x_train[FEATS], y_train)\n",
    "lgb_x_valid = lgb.Dataset(x_valid[FEATS], y_valid)\n",
    "\n",
    "with mlflow.start_run(run_name=title, description=desc) as run:\n",
    "    model3_1 = lgb.train(\n",
    "        params, \n",
    "        lgb_x_train,\n",
    "        valid_sets=[lgb_x_valid],\n",
    "        verbose_eval=100,\n",
    "        num_boost_round=3200,\n",
    "        categorical_feature=cat_feats_idx,\n",
    "        early_stopping_rounds=200,\n",
    "    )\n",
    "\n",
    "    preds = model3_1.predict(x_valid[FEATS])\n",
    "    acc = accuracy_score(y_valid, np.where(preds >= 0.5, 1, 0))\n",
    "    auc = roc_auc_score(y_valid, preds)\n",
    "    print(f'VALID AUC : {auc} ACC : {acc}\\n')\n",
    "    mlflow.log_metric(\"VAL AUC\",auc)\n",
    "    mlflow.log_metric(\"VAL Set SEED\",SEED)\n",
    "    model3_1_run_id=run.info.run_id\n",
    "    post_slack(\"done\")\n",
    "    lgbm_predict(test, model3_1, FEATS, 'LGBM_solvetime_Cumsum추가_category_추가_2400_solvesec_cumsum_2400_early.csv')"
   ]
  },
  {
   "cell_type": "code",
   "execution_count": null,
   "id": "a7488b42",
   "metadata": {},
   "outputs": [],
   "source": [
    "# 제출시\n",
    "LB_AUC=0.7988\n",
    "run_id = model3_run_id\n",
    "mlflow.start_run(run_id=run_id)\n",
    "run = mlflow.active_run()\n",
    "print(\"Active run_id: {}\".format(run.info.run_id))\n",
    "mlflow.log_metric(\"LB AUC\",LB_AUC)\n",
    "mlflow.end_run()"
   ]
  },
  {
   "cell_type": "code",
   "execution_count": null,
   "id": "d7ced73d",
   "metadata": {},
   "outputs": [],
   "source": []
  },
  {
   "cell_type": "code",
   "execution_count": null,
   "id": "8b52019e",
   "metadata": {},
   "outputs": [],
   "source": []
  },
  {
   "cell_type": "code",
   "execution_count": null,
   "id": "30d0c586",
   "metadata": {},
   "outputs": [],
   "source": []
  },
  {
   "cell_type": "markdown",
   "id": "06c28898",
   "metadata": {},
   "source": [
    "## solvesec_cumsum 2401 사용"
   ]
  },
  {
   "cell_type": "code",
   "execution_count": 12,
   "id": "1f5037a4",
   "metadata": {
    "ExecuteTime": {
     "end_time": "2022-11-29T14:44:59.596103Z",
     "start_time": "2022-11-29T14:44:59.586833Z"
    }
   },
   "outputs": [
    {
     "data": {
      "text/plain": [
       "([0, 1, 2, 3, 21, 23],\n",
       " '🌈(11/29 Tue)[LGBM solvesec_cumsum_2401] 피처: 24개',\n",
       " '사용된 피처(24)\\nuidIdx, assIdx, testIdx, KnowledgeTag, user_correct_answer, user_total_answer, big_category, mid_category, problem_num, month, day, dayname, hour, user_acc, test_mean, test_sum, test_std, tag_std, tag_mean, tag_sum, solvesec_2400, time_category, solvesec_cumsum_2401, solvecumsum_category')"
      ]
     },
     "execution_count": 12,
     "metadata": {},
     "output_type": "execute_result"
    }
   ],
   "source": [
    "# 사용할 Feature 설정\n",
    "FEATS = ['uidIdx',\n",
    "         'assIdx',\n",
    "         'testIdx',\n",
    "         'KnowledgeTag',\n",
    "         'user_correct_answer',\n",
    "         'user_total_answer',\n",
    "         'big_category',\n",
    "         'mid_category',\n",
    "         'problem_num',\n",
    "         'month','day','dayname','hour',\n",
    "         'user_acc',\n",
    "         'test_mean',\n",
    "         'test_sum',\n",
    "         'test_std',\n",
    "         'tag_std',\n",
    "         'tag_mean',\n",
    "         'tag_sum',\n",
    "         'solvesec_2400',\n",
    "         'time_category',\n",
    "         'solvesec_cumsum_2401',\n",
    "         'solvecumsum_category'\n",
    "        ]\n",
    "\n",
    "cat_feats = ['uidIdx','assIdx','testIdx','KnowledgeTag','time_category','solvecumsum_category']\n",
    "cat_feats_idx = [i for i,e in enumerate(FEATS) if e in cat_feats]\n",
    "\n",
    "\n",
    "from datetime import datetime\n",
    "date = datetime.now().strftime('%m/%d %a')\n",
    "title=f\"🌈({date})[LGBM solvesec_cumsum_2401] 피처: {len(FEATS)}개\"\n",
    "using_feats=\", \".join(FEATS)\n",
    "desc=f\"사용된 피처({len(FEATS)})\\n{using_feats}\"\n",
    "cat_feats_idx, title, desc"
   ]
  },
  {
   "cell_type": "code",
   "execution_count": 13,
   "id": "6f0b5376",
   "metadata": {
    "ExecuteTime": {
     "end_time": "2022-11-29T14:47:32.785543Z",
     "start_time": "2022-11-29T14:44:59.598061Z"
    },
    "scrolled": false
   },
   "outputs": [
    {
     "name": "stdout",
     "output_type": "stream",
     "text": [
      "[LightGBM] [Info] Number of positive: 1208276, number of negative: 637263\n",
      "[LightGBM] [Warning] Auto-choosing row-wise multi-threading, the overhead of testing was 0.022740 seconds.\n",
      "You can set `force_row_wise=true` to remove the overhead.\n",
      "And if memory is not enough, you can set `force_col_wise=true`.\n",
      "[LightGBM] [Info] Total Bins 18557\n",
      "[LightGBM] [Info] Number of data points in the train set: 1845539, number of used features: 23\n",
      "[LightGBM] [Info] [binary:BoostFromScore]: pavg=0.654701 -> initscore=0.639767\n",
      "[LightGBM] [Info] Start training from score 0.639767\n",
      "[100]\tvalid_0's binary_logloss: 0.561446\n",
      "[200]\tvalid_0's binary_logloss: 0.554137\n",
      "[300]\tvalid_0's binary_logloss: 0.552903\n",
      "[400]\tvalid_0's binary_logloss: 0.551544\n",
      "[500]\tvalid_0's binary_logloss: 0.5494\n",
      "[600]\tvalid_0's binary_logloss: 0.548209\n",
      "[700]\tvalid_0's binary_logloss: 0.547312\n",
      "[800]\tvalid_0's binary_logloss: 0.547647\n",
      "[900]\tvalid_0's binary_logloss: 0.548485\n",
      "[1000]\tvalid_0's binary_logloss: 0.549564\n",
      "[1100]\tvalid_0's binary_logloss: 0.550332\n",
      "[1200]\tvalid_0's binary_logloss: 0.551066\n",
      "[1300]\tvalid_0's binary_logloss: 0.551107\n",
      "[1400]\tvalid_0's binary_logloss: 0.551275\n",
      "[1500]\tvalid_0's binary_logloss: 0.551805\n",
      "[1600]\tvalid_0's binary_logloss: 0.55245\n",
      "[1700]\tvalid_0's binary_logloss: 0.553391\n",
      "[1800]\tvalid_0's binary_logloss: 0.553424\n",
      "[1900]\tvalid_0's binary_logloss: 0.553477\n",
      "[2000]\tvalid_0's binary_logloss: 0.554192\n",
      "[2100]\tvalid_0's binary_logloss: 0.554272\n",
      "[2200]\tvalid_0's binary_logloss: 0.554972\n",
      "[2300]\tvalid_0's binary_logloss: 0.555411\n",
      "[2400]\tvalid_0's binary_logloss: 0.556093\n",
      "[2500]\tvalid_0's binary_logloss: 0.556522\n",
      "[2600]\tvalid_0's binary_logloss: 0.557271\n",
      "[2700]\tvalid_0's binary_logloss: 0.557279\n",
      "[2800]\tvalid_0's binary_logloss: 0.557577\n",
      "[2900]\tvalid_0's binary_logloss: 0.557775\n",
      "[3000]\tvalid_0's binary_logloss: 0.558244\n",
      "[3100]\tvalid_0's binary_logloss: 0.558719\n",
      "[3200]\tvalid_0's binary_logloss: 0.559383\n",
      "VALID AUC : 0.7876559439753781 ACC : 0.7117527862208713\n",
      "\n",
      "writing prediction : output/LGBM_solvetime_Cumsum추가_category_추가_2400_solvesec_cumsum_2401.csv\n"
     ]
    }
   ],
   "source": [
    "mlflow.lightgbm.autolog()\n",
    "lgb_x_train = lgb.Dataset(x_train[FEATS], y_train)\n",
    "lgb_x_valid = lgb.Dataset(x_valid[FEATS], y_valid)\n",
    "\n",
    "with mlflow.start_run(run_name=title, description=desc) as run:\n",
    "    model4 = lgb.train(\n",
    "        params, \n",
    "        lgb_x_train,\n",
    "        valid_sets=[lgb_x_valid],\n",
    "        verbose_eval=100,\n",
    "        num_boost_round=3200,\n",
    "        categorical_feature=cat_feats_idx\n",
    "    #     early_stopping_rounds=200,\n",
    "    )\n",
    "\n",
    "    preds = model4.predict(x_valid[FEATS])\n",
    "    acc = accuracy_score(y_valid, np.where(preds >= 0.5, 1, 0))\n",
    "    auc = roc_auc_score(y_valid, preds)\n",
    "    print(f'VALID AUC : {auc} ACC : {acc}\\n')\n",
    "    mlflow.log_metric(\"VAL AUC\",auc)\n",
    "    mlflow.log_metric(\"VAL Set SEED\",SEED)\n",
    "    model4_run_id=run.info.run_id\n",
    "    post_slack(\"done\")\n",
    "    lgbm_predict(test, model4, FEATS, 'LGBM_solvetime_Cumsum추가_category_추가_2400_solvesec_cumsum_2401.csv')"
   ]
  },
  {
   "cell_type": "markdown",
   "id": "a5194121",
   "metadata": {},
   "source": [
    "## 3600 기존 최고 성능 - 8012 재현 (수정된 부분 허용할만한지)"
   ]
  },
  {
   "cell_type": "code",
   "execution_count": 37,
   "id": "6fd5f364",
   "metadata": {
    "ExecuteTime": {
     "end_time": "2022-11-29T15:58:11.543283Z",
     "start_time": "2022-11-29T15:55:39.127359Z"
    }
   },
   "outputs": [
    {
     "data": {
      "text/plain": [
       "([0, 1, 2, 3, 21, 23],\n",
       " '🌈(11/30 Wed)[LGBM 기존 8012 재현] 피처: 24개',\n",
       " '사용된 피처(24)\\nuidIdx, assIdx, testIdx, KnowledgeTag, user_correct_answer, user_total_answer, big_category, mid_category, problem_num, month, day, dayname, hour, user_acc, test_mean, test_sum, test_std, tag_std, tag_mean, tag_sum, solvesec_3600, time_category, solvesec_cumsum, solvecumsum_category')"
      ]
     },
     "execution_count": 37,
     "metadata": {},
     "output_type": "execute_result"
    },
    {
     "name": "stdout",
     "output_type": "stream",
     "text": [
      "[LightGBM] [Info] Number of positive: 1208276, number of negative: 637263\n",
      "[LightGBM] [Warning] Auto-choosing row-wise multi-threading, the overhead of testing was 0.024028 seconds.\n",
      "You can set `force_row_wise=true` to remove the overhead.\n",
      "And if memory is not enough, you can set `force_col_wise=true`.\n",
      "[LightGBM] [Info] Total Bins 19042\n",
      "[LightGBM] [Info] Number of data points in the train set: 1845539, number of used features: 24\n",
      "[LightGBM] [Info] [binary:BoostFromScore]: pavg=0.654701 -> initscore=0.639767\n",
      "[LightGBM] [Info] Start training from score 0.639767\n",
      "[100]\tvalid_0's binary_logloss: 0.560045\n",
      "[200]\tvalid_0's binary_logloss: 0.553273\n",
      "[300]\tvalid_0's binary_logloss: 0.551615\n",
      "[400]\tvalid_0's binary_logloss: 0.549948\n",
      "[500]\tvalid_0's binary_logloss: 0.549759\n",
      "[600]\tvalid_0's binary_logloss: 0.549908\n",
      "[700]\tvalid_0's binary_logloss: 0.549459\n",
      "[800]\tvalid_0's binary_logloss: 0.549514\n",
      "[900]\tvalid_0's binary_logloss: 0.549613\n",
      "[1000]\tvalid_0's binary_logloss: 0.549223\n",
      "[1100]\tvalid_0's binary_logloss: 0.549293\n",
      "[1200]\tvalid_0's binary_logloss: 0.549537\n",
      "[1300]\tvalid_0's binary_logloss: 0.549861\n",
      "[1400]\tvalid_0's binary_logloss: 0.549646\n",
      "[1500]\tvalid_0's binary_logloss: 0.550355\n",
      "[1600]\tvalid_0's binary_logloss: 0.550981\n",
      "[1700]\tvalid_0's binary_logloss: 0.551005\n",
      "[1800]\tvalid_0's binary_logloss: 0.551473\n",
      "[1900]\tvalid_0's binary_logloss: 0.55197\n",
      "[2000]\tvalid_0's binary_logloss: 0.552291\n",
      "[2100]\tvalid_0's binary_logloss: 0.552836\n",
      "[2200]\tvalid_0's binary_logloss: 0.553586\n",
      "[2300]\tvalid_0's binary_logloss: 0.553781\n",
      "[2400]\tvalid_0's binary_logloss: 0.55389\n",
      "[2500]\tvalid_0's binary_logloss: 0.554495\n",
      "[2600]\tvalid_0's binary_logloss: 0.554775\n",
      "[2700]\tvalid_0's binary_logloss: 0.555298\n",
      "[2800]\tvalid_0's binary_logloss: 0.555606\n",
      "[2900]\tvalid_0's binary_logloss: 0.555979\n",
      "[3000]\tvalid_0's binary_logloss: 0.556185\n",
      "[3100]\tvalid_0's binary_logloss: 0.556198\n",
      "[3200]\tvalid_0's binary_logloss: 0.556375\n",
      "VALID AUC : 0.7894951776691519 ACC : 0.7107396149949341\n",
      "\n"
     ]
    }
   ],
   "source": [
    "# 사용할 Feature 설정\n",
    "FEATS = ['uidIdx',\n",
    "         'assIdx',\n",
    "         'testIdx',\n",
    "         'KnowledgeTag',\n",
    "         'user_correct_answer',\n",
    "         'user_total_answer',\n",
    "         'big_category',\n",
    "         'mid_category',\n",
    "         'problem_num',\n",
    "         'month','day','dayname','hour',\n",
    "         'user_acc',\n",
    "         'test_mean',\n",
    "         'test_sum',\n",
    "         'test_std',\n",
    "         'tag_std',\n",
    "         'tag_mean',\n",
    "         'tag_sum',\n",
    "         'solvesec_3600',\n",
    "         'time_category',\n",
    "         'solvesec_cumsum',\n",
    "         'solvecumsum_category'\n",
    "        ]\n",
    "\n",
    "cat_feats = ['uidIdx','assIdx','testIdx','KnowledgeTag','time_category','solvecumsum_category']\n",
    "cat_feats_idx = [i for i,e in enumerate(FEATS) if e in cat_feats]\n",
    "\n",
    "\n",
    "from datetime import datetime\n",
    "date = datetime.now().strftime('%m/%d %a')\n",
    "title=f\"🌈({date})[LGBM 기존 8012 재현] 피처: {len(FEATS)}개\"\n",
    "using_feats=\", \".join(FEATS)\n",
    "desc=f\"사용된 피처({len(FEATS)})\\n{using_feats}\"\n",
    "cat_feats_idx, title, desc\n",
    "\n",
    "mlflow.lightgbm.autolog()\n",
    "lgb_x_train = lgb.Dataset(x_train[FEATS], y_train)\n",
    "lgb_x_valid = lgb.Dataset(x_valid[FEATS], y_valid)\n",
    "\n",
    "with mlflow.start_run(run_name=title, description=desc) as run:\n",
    "    model5 = lgb.train(\n",
    "        params, \n",
    "        lgb_x_train,\n",
    "        valid_sets=[lgb_x_valid],\n",
    "        verbose_eval=100,\n",
    "        num_boost_round=3200,\n",
    "        categorical_feature=cat_feats_idx\n",
    "    #     early_stopping_rounds=200,\n",
    "    )\n",
    "\n",
    "    preds = model5.predict(x_valid[FEATS])\n",
    "    acc = accuracy_score(y_valid, np.where(preds >= 0.5, 1, 0))\n",
    "    auc = roc_auc_score(y_valid, preds)\n",
    "    print(f'VALID AUC : {auc} ACC : {acc}\\n')\n",
    "    mlflow.log_metric(\"VAL AUC\",auc)\n",
    "    mlflow.log_metric(\"VAL Set SEED\",SEED)\n",
    "    model5_run_id=run.info.run_id\n",
    "    post_slack(\"done\")\n",
    "#     lgbm_predict(test, model5, FEATS, 'LGBM_solvetime_Cumsum추가_category_추가_2400_solvesec_cumsum_2401.csv')"
   ]
  },
  {
   "cell_type": "code",
   "execution_count": 38,
   "id": "c44e73a8",
   "metadata": {
    "ExecuteTime": {
     "end_time": "2022-11-29T15:59:10.746254Z",
     "start_time": "2022-11-29T15:59:10.675368Z"
    }
   },
   "outputs": [
    {
     "name": "stdout",
     "output_type": "stream",
     "text": [
      "writing prediction : output/LGBM_기존8012_재현성테스트_train_test를합쳐서_한번에fe함수통과하도록_수정.csv\n"
     ]
    }
   ],
   "source": [
    "lgbm_predict(test, model5, FEATS, 'LGBM_기존8012_재현성테스트_train_test를합쳐서_한번에fe함수통과하도록_수정.csv')"
   ]
  },
  {
   "cell_type": "code",
   "execution_count": 39,
   "id": "2fbef445",
   "metadata": {
    "ExecuteTime": {
     "end_time": "2022-11-29T16:14:48.267116Z",
     "start_time": "2022-11-29T16:14:48.234794Z"
    }
   },
   "outputs": [
    {
     "data": {
      "text/plain": [
       "<ActiveRun: >"
      ]
     },
     "execution_count": 39,
     "metadata": {},
     "output_type": "execute_result"
    },
    {
     "name": "stdout",
     "output_type": "stream",
     "text": [
      "Active run_id: 5cb8c6ce080041888bfb1c70d67c2ac5\n"
     ]
    }
   ],
   "source": [
    "# 제출시\n",
    "LB_AUC=0.8107\n",
    "run_id = model5_run_id\n",
    "mlflow.start_run(run_id=run_id)\n",
    "run = mlflow.active_run()\n",
    "print(\"Active run_id: {}\".format(run.info.run_id))\n",
    "mlflow.log_metric(\"LB AUC\",LB_AUC)\n",
    "mlflow.end_run()"
   ]
  },
  {
   "cell_type": "code",
   "execution_count": null,
   "id": "7991c228",
   "metadata": {},
   "outputs": [],
   "source": []
  }
 ],
 "metadata": {
  "kernelspec": {
   "display_name": "Python 3 (ipykernel)",
   "language": "python",
   "name": "python3"
  },
  "language_info": {
   "codemirror_mode": {
    "name": "ipython",
    "version": 3
   },
   "file_extension": ".py",
   "mimetype": "text/x-python",
   "name": "python",
   "nbconvert_exporter": "python",
   "pygments_lexer": "ipython3",
   "version": "3.9.15"
  },
  "toc": {
   "base_numbering": 1,
   "nav_menu": {},
   "number_sections": true,
   "sideBar": true,
   "skip_h1_title": true,
   "title_cell": "Table of Contents",
   "title_sidebar": "Contents",
   "toc_cell": false,
   "toc_position": {
    "height": "calc(100% - 180px)",
    "left": "10px",
    "top": "150px",
    "width": "330.047px"
   },
   "toc_section_display": true,
   "toc_window_display": true
  }
 },
 "nbformat": 4,
 "nbformat_minor": 5
}
