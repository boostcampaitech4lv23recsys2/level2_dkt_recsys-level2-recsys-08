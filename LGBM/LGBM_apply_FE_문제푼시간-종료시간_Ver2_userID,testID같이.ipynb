{
 "cells": [
  {
   "cell_type": "markdown",
   "id": "f9938ed8",
   "metadata": {},
   "source": [
    "## dataLoad"
   ]
  },
  {
   "cell_type": "code",
   "execution_count": 1,
   "id": "7b9e50b1",
   "metadata": {
    "ExecuteTime": {
     "end_time": "2022-11-28T17:28:02.056430Z",
     "start_time": "2022-11-28T17:27:43.064106Z"
    }
   },
   "outputs": [
    {
     "data": {
      "text/plain": [
       "((2525956, 31), (2525956, 1), (1974, 31), (1974, 1))"
      ]
     },
     "execution_count": 1,
     "metadata": {},
     "output_type": "execute_result"
    }
   ],
   "source": [
    "from IPython.core.interactiveshell import InteractiveShell\n",
    "InteractiveShell.ast_node_interactivity = 'all'\n",
    "import pandas as pd\n",
    "import os\n",
    "import random\n",
    "import warnings\n",
    "warnings.filterwarnings('ignore')\n",
    "import lightgbm as lgb\n",
    "from sklearn.metrics import roc_auc_score\n",
    "from sklearn.metrics import accuracy_score\n",
    "import numpy as np\n",
    "from utils import custom_train_test_split, lgbm_predict, post_slack\n",
    "base_feats = ['KnowledgeTag', 'user_correct_answer', 'user_total_answer', \n",
    "         'user_acc', 'test_mean', 'test_sum', 'tag_mean','tag_sum']\n",
    "# train과 test 데이터셋은 사용자 별로 묶어서 분리를 해주어야함\n",
    "\n",
    "## 1. 데이터 로딩\n",
    "data_dir = '/opt/ml/input/data' # 경로\n",
    "# train_file_path = os.path.join(data_dir, 'train_data.csv') # 데이터\n",
    "# test_file_path = os.path.join(data_dir, 'test_data.csv')\n",
    "after_fe_path = os.path.join(data_dir, 'after_fe_train_test_solvetime_user_test.pkl')\n",
    "df = pd.read_pickle(after_fe_path)\n",
    "\n",
    "train_df = df[df.kind=='train']\n",
    "\n",
    "train, valid = custom_train_test_split(train_df, ratio=0.7, seed=13) # 훈련데이터 split\n",
    "test = df[df.kind=='test'] # 테스트 데이터\n",
    "train2 = test[test.answerCode!=-1] # 테스트데이터 마지막 제출 2번쨰꺼까지 훈련데이터로 사용\n",
    "train = pd.concat([train_df,train2]) # 훈련데이터 병합\n",
    "train.shape, valid.shape, test.shape\n",
    "\n",
    "x_train = train.drop('answerCode',axis=1)\n",
    "y_train = train[['answerCode']]\n",
    "\n",
    "x_valid = valid.drop('answerCode',axis=1)\n",
    "y_valid = valid[['answerCode']]\n",
    "x_train.shape, y_train.shape, x_valid.shape, y_valid.shape"
   ]
  },
  {
   "cell_type": "markdown",
   "id": "caf9e8fe",
   "metadata": {},
   "source": [
    "## 문제푼 시간 초로만 추가한 것 (기존)"
   ]
  },
  {
   "cell_type": "code",
   "execution_count": 5,
   "id": "ee26250b",
   "metadata": {
    "ExecuteTime": {
     "end_time": "2022-11-25T07:01:18.831338Z",
     "start_time": "2022-11-25T06:55:39.336742Z"
    },
    "scrolled": true
   },
   "outputs": [
    {
     "name": "stdout",
     "output_type": "stream",
     "text": [
      "[LightGBM] [Info] Number of positive: 1653588, number of negative: 872368\n",
      "[LightGBM] [Warning] Auto-choosing col-wise multi-threading, the overhead of testing was 0.238892 seconds.\n",
      "You can set `force_col_wise=true` to remove the overhead.\n",
      "[LightGBM] [Info] Total Bins 3095\n",
      "[LightGBM] [Info] Number of data points in the train set: 2525956, number of used features: 18\n",
      "[LightGBM] [Info] [binary:BoostFromScore]: pavg=0.654638 -> initscore=0.639491\n",
      "[LightGBM] [Info] Start training from score 0.639491\n",
      "[100]\tvalid_0's binary_logloss: 0.582419\n",
      "[200]\tvalid_0's binary_logloss: 0.575168\n",
      "[300]\tvalid_0's binary_logloss: 0.568893\n",
      "[400]\tvalid_0's binary_logloss: 0.563229\n",
      "[500]\tvalid_0's binary_logloss: 0.559829\n",
      "[600]\tvalid_0's binary_logloss: 0.556637\n",
      "[700]\tvalid_0's binary_logloss: 0.553144\n",
      "[800]\tvalid_0's binary_logloss: 0.550667\n",
      "[900]\tvalid_0's binary_logloss: 0.548314\n",
      "[1000]\tvalid_0's binary_logloss: 0.546135\n",
      "[1100]\tvalid_0's binary_logloss: 0.542614\n",
      "[1200]\tvalid_0's binary_logloss: 0.540631\n",
      "[1300]\tvalid_0's binary_logloss: 0.539541\n",
      "[1400]\tvalid_0's binary_logloss: 0.537865\n",
      "[1500]\tvalid_0's binary_logloss: 0.536437\n",
      "[1600]\tvalid_0's binary_logloss: 0.534883\n",
      "[1700]\tvalid_0's binary_logloss: 0.532909\n",
      "[1800]\tvalid_0's binary_logloss: 0.531226\n",
      "[1900]\tvalid_0's binary_logloss: 0.530395\n",
      "[2000]\tvalid_0's binary_logloss: 0.528694\n",
      "[2100]\tvalid_0's binary_logloss: 0.527385\n",
      "[2200]\tvalid_0's binary_logloss: 0.5261\n",
      "[2300]\tvalid_0's binary_logloss: 0.52483\n",
      "[2400]\tvalid_0's binary_logloss: 0.524006\n",
      "[2500]\tvalid_0's binary_logloss: 0.522985\n",
      "[2600]\tvalid_0's binary_logloss: 0.521911\n",
      "[2700]\tvalid_0's binary_logloss: 0.519999\n",
      "[2800]\tvalid_0's binary_logloss: 0.519164\n",
      "[2900]\tvalid_0's binary_logloss: 0.518294\n",
      "[3000]\tvalid_0's binary_logloss: 0.517839\n",
      "[3100]\tvalid_0's binary_logloss: 0.516759\n",
      "[3200]\tvalid_0's binary_logloss: 0.515955\n",
      "VALID AUC : 0.8229596501689525 ACC : 0.7448928749377179\n",
      "\n"
     ]
    }
   ],
   "source": [
    "lgb_x_train = lgb.Dataset(x_train[FEATS], y_train)\n",
    "lgb_x_valid = lgb.Dataset(x_valid[FEATS], y_valid)\n",
    "\n",
    "model2 = lgb.train(\n",
    "    params, \n",
    "    lgb_x_train,\n",
    "    valid_sets=[lgb_x_valid],\n",
    "    verbose_eval=100,\n",
    "    num_boost_round=3200,\n",
    "#     early_stopping_rounds=200,\n",
    ")\n",
    "\n",
    "preds = model2.predict(x_valid[FEATS])\n",
    "acc = accuracy_score(y_valid, np.where(preds >= 0.5, 1, 0))\n",
    "auc = roc_auc_score(y_valid, preds)\n",
    "\n",
    "print(f'VALID AUC : {auc} ACC : {acc}\\n')\n",
    "\n",
    "post_slack(\"done\")"
   ]
  },
  {
   "cell_type": "markdown",
   "id": "1f99532e",
   "metadata": {},
   "source": [
    "### validation"
   ]
  },
  {
   "cell_type": "code",
   "execution_count": 169,
   "id": "f82f8c4b",
   "metadata": {
    "ExecuteTime": {
     "end_time": "2022-11-28T09:13:13.125785Z",
     "start_time": "2022-11-28T09:13:12.917067Z"
    }
   },
   "outputs": [
    {
     "name": "stdout",
     "output_type": "stream",
     "text": [
      "VALID AUC : 0.8187398163235076 ACC : 0.7406281661600811\n",
      "\n"
     ]
    }
   ],
   "source": [
    "# 사용할 Feature 설정\n",
    "FEATS = ['KnowledgeTag',\n",
    "         'user_correct_answer',\n",
    "         'user_total_answer',\n",
    "         'big_category',\n",
    "         'mid_category',\n",
    "         'problem_num',\n",
    "         'month','day','dayname','hour',\n",
    "         'user_acc',\n",
    "         'test_mean',\n",
    "         'test_sum',\n",
    "         'test_std',\n",
    "         'tag_std',\n",
    "         'tag_mean',\n",
    "         'tag_sum',\n",
    "         'solvesec'\n",
    "        ]\n",
    "preds = model2.predict(x_valid[FEATS])\n",
    "acc = accuracy_score(y_valid, np.where(preds >= 0.5, 1, 0))\n",
    "auc = roc_auc_score(y_valid, preds)\n",
    "\n",
    "print(f'VALID AUC : {auc} ACC : {acc}\\n')"
   ]
  },
  {
   "cell_type": "markdown",
   "id": "fa13fe34",
   "metadata": {},
   "source": [
    "## 문제푼 시간 초로만 추가 (NaN 채우지 않음)"
   ]
  },
  {
   "cell_type": "code",
   "execution_count": 2,
   "id": "ef613740",
   "metadata": {
    "ExecuteTime": {
     "end_time": "2022-11-28T15:40:38.973452Z",
     "start_time": "2022-11-28T15:40:38.945472Z"
    }
   },
   "outputs": [
    {
     "data": {
      "text/html": [
       "<div>\n",
       "<style scoped>\n",
       "    .dataframe tbody tr th:only-of-type {\n",
       "        vertical-align: middle;\n",
       "    }\n",
       "\n",
       "    .dataframe tbody tr th {\n",
       "        vertical-align: top;\n",
       "    }\n",
       "\n",
       "    .dataframe thead th {\n",
       "        text-align: right;\n",
       "    }\n",
       "</style>\n",
       "<table border=\"1\" class=\"dataframe\">\n",
       "  <thead>\n",
       "    <tr style=\"text-align: right;\">\n",
       "      <th></th>\n",
       "      <th>userID</th>\n",
       "      <th>assessmentItemID</th>\n",
       "      <th>testId</th>\n",
       "      <th>Timestamp</th>\n",
       "      <th>KnowledgeTag</th>\n",
       "      <th>solvesec</th>\n",
       "      <th>solvesec_3600</th>\n",
       "      <th>time_category</th>\n",
       "      <th>user_correct_answer</th>\n",
       "      <th>user_total_answer</th>\n",
       "      <th>...</th>\n",
       "      <th>big_category</th>\n",
       "      <th>problem_num</th>\n",
       "      <th>mid_category</th>\n",
       "      <th>test_mean</th>\n",
       "      <th>test_std</th>\n",
       "      <th>test_sum</th>\n",
       "      <th>tag_mean</th>\n",
       "      <th>tag_std</th>\n",
       "      <th>tag_sum</th>\n",
       "      <th>kind</th>\n",
       "    </tr>\n",
       "  </thead>\n",
       "  <tbody>\n",
       "    <tr>\n",
       "      <th>0</th>\n",
       "      <td>0</td>\n",
       "      <td>A060001001</td>\n",
       "      <td>A060000001</td>\n",
       "      <td>2020-03-24 00:17:11</td>\n",
       "      <td>7224</td>\n",
       "      <td>NaN</td>\n",
       "      <td>0.0</td>\n",
       "      <td>0</td>\n",
       "      <td>NaN</td>\n",
       "      <td>0</td>\n",
       "      <td>...</td>\n",
       "      <td>6</td>\n",
       "      <td>1</td>\n",
       "      <td>1</td>\n",
       "      <td>0.947683</td>\n",
       "      <td>0.222749</td>\n",
       "      <td>1268</td>\n",
       "      <td>0.955022</td>\n",
       "      <td>0.207410</td>\n",
       "      <td>637</td>\n",
       "      <td>train</td>\n",
       "    </tr>\n",
       "    <tr>\n",
       "      <th>1</th>\n",
       "      <td>0</td>\n",
       "      <td>A060001002</td>\n",
       "      <td>A060000001</td>\n",
       "      <td>2020-03-24 00:17:14</td>\n",
       "      <td>7225</td>\n",
       "      <td>3.0</td>\n",
       "      <td>3.0</td>\n",
       "      <td>1</td>\n",
       "      <td>1.0</td>\n",
       "      <td>1</td>\n",
       "      <td>...</td>\n",
       "      <td>6</td>\n",
       "      <td>2</td>\n",
       "      <td>1</td>\n",
       "      <td>0.947683</td>\n",
       "      <td>0.222749</td>\n",
       "      <td>1268</td>\n",
       "      <td>0.913187</td>\n",
       "      <td>0.281603</td>\n",
       "      <td>3040</td>\n",
       "      <td>train</td>\n",
       "    </tr>\n",
       "  </tbody>\n",
       "</table>\n",
       "<p>2 rows × 25 columns</p>\n",
       "</div>"
      ],
      "text/plain": [
       "   userID assessmentItemID      testId            Timestamp  KnowledgeTag  \\\n",
       "0       0       A060001001  A060000001  2020-03-24 00:17:11          7224   \n",
       "1       0       A060001002  A060000001  2020-03-24 00:17:14          7225   \n",
       "\n",
       "   solvesec  solvesec_3600  time_category  user_correct_answer  \\\n",
       "0       NaN            0.0              0                  NaN   \n",
       "1       3.0            3.0              1                  1.0   \n",
       "\n",
       "   user_total_answer  ...  big_category  problem_num  mid_category  test_mean  \\\n",
       "0                  0  ...             6            1             1   0.947683   \n",
       "1                  1  ...             6            2             1   0.947683   \n",
       "\n",
       "   test_std  test_sum  tag_mean   tag_std  tag_sum   kind  \n",
       "0  0.222749      1268  0.955022  0.207410      637  train  \n",
       "1  0.222749      1268  0.913187  0.281603     3040  train  \n",
       "\n",
       "[2 rows x 25 columns]"
      ]
     },
     "execution_count": 2,
     "metadata": {},
     "output_type": "execute_result"
    }
   ],
   "source": [
    "x_train[:2]"
   ]
  },
  {
   "cell_type": "code",
   "execution_count": 4,
   "id": "21ba16e6",
   "metadata": {
    "ExecuteTime": {
     "end_time": "2022-11-28T17:29:17.345072Z",
     "start_time": "2022-11-28T17:29:17.341047Z"
    }
   },
   "outputs": [],
   "source": [
    "# 사용할 Feature 설정\n",
    "FEATS = ['KnowledgeTag',\n",
    "         'user_correct_answer',\n",
    "         'user_total_answer',\n",
    "         'big_category',\n",
    "         'mid_category',\n",
    "         'problem_num',\n",
    "         'month','day','dayname','hour',\n",
    "         'user_acc',\n",
    "         'test_mean',\n",
    "         'test_sum',\n",
    "         'test_std',\n",
    "         'tag_std',\n",
    "         'tag_mean',\n",
    "         'tag_sum',\n",
    "         'solvesec'\n",
    "        ]\n",
    "\n",
    "params = {\n",
    "#     \"max_depth\": 8,  # 8,\n",
    "#     \"min_data_in_leaf\": 1000,\n",
    "    # \"feature_fraction\": 0.6,  # 0.8,\n",
    "#     \"bagging_fraction\": 0.75,\n",
    "    # \"max_cat_group\": 64,\n",
    "    \"objective\": \"binary\",\n",
    "#     \"boosting\": \"gbdt\",  # dart\n",
    "#     \"learning_rate\": 0.01,  # 0.01,\n",
    "    # \"bagging_freq\": 5,\n",
    "    \"seed\": 42,\n",
    "    # \"max_bin\": 50,\n",
    "#     \"num_leaves\": 80,  # 40,\n",
    "#     \"metric\": \"auc\",\n",
    "}"
   ]
  },
  {
   "cell_type": "code",
   "execution_count": 4,
   "id": "982081e2",
   "metadata": {
    "ExecuteTime": {
     "end_time": "2022-11-28T15:45:23.389211Z",
     "start_time": "2022-11-28T15:41:07.719410Z"
    },
    "scrolled": true
   },
   "outputs": [
    {
     "name": "stdout",
     "output_type": "stream",
     "text": [
      "[LightGBM] [Info] Number of positive: 1653588, number of negative: 872368\n",
      "[LightGBM] [Warning] Auto-choosing row-wise multi-threading, the overhead of testing was 0.099724 seconds.\n",
      "You can set `force_row_wise=true` to remove the overhead.\n",
      "And if memory is not enough, you can set `force_col_wise=true`.\n",
      "[LightGBM] [Info] Total Bins 3095\n",
      "[LightGBM] [Info] Number of data points in the train set: 2525956, number of used features: 18\n",
      "[LightGBM] [Info] [binary:BoostFromScore]: pavg=0.654638 -> initscore=0.639491\n",
      "[LightGBM] [Info] Start training from score 0.639491\n",
      "[100]\tvalid_0's binary_logloss: 0.586764\n",
      "[200]\tvalid_0's binary_logloss: 0.580913\n",
      "[300]\tvalid_0's binary_logloss: 0.57342\n",
      "[400]\tvalid_0's binary_logloss: 0.568314\n",
      "[500]\tvalid_0's binary_logloss: 0.564522\n",
      "[600]\tvalid_0's binary_logloss: 0.56078\n",
      "[700]\tvalid_0's binary_logloss: 0.558609\n",
      "[800]\tvalid_0's binary_logloss: 0.555498\n",
      "[900]\tvalid_0's binary_logloss: 0.552048\n",
      "[1000]\tvalid_0's binary_logloss: 0.548929\n",
      "[1100]\tvalid_0's binary_logloss: 0.545648\n",
      "[1200]\tvalid_0's binary_logloss: 0.543771\n",
      "[1300]\tvalid_0's binary_logloss: 0.542452\n",
      "[1400]\tvalid_0's binary_logloss: 0.541755\n",
      "[1500]\tvalid_0's binary_logloss: 0.540312\n",
      "[1600]\tvalid_0's binary_logloss: 0.53884\n",
      "[1700]\tvalid_0's binary_logloss: 0.536912\n",
      "[1800]\tvalid_0's binary_logloss: 0.534193\n",
      "[1900]\tvalid_0's binary_logloss: 0.532272\n",
      "[2000]\tvalid_0's binary_logloss: 0.530718\n",
      "[2100]\tvalid_0's binary_logloss: 0.529891\n",
      "[2200]\tvalid_0's binary_logloss: 0.528604\n",
      "[2300]\tvalid_0's binary_logloss: 0.527003\n",
      "[2400]\tvalid_0's binary_logloss: 0.526158\n",
      "[2500]\tvalid_0's binary_logloss: 0.525411\n",
      "[2600]\tvalid_0's binary_logloss: 0.524174\n",
      "[2700]\tvalid_0's binary_logloss: 0.522648\n",
      "[2800]\tvalid_0's binary_logloss: 0.521304\n",
      "[2900]\tvalid_0's binary_logloss: 0.520393\n",
      "[3000]\tvalid_0's binary_logloss: 0.51939\n",
      "[3100]\tvalid_0's binary_logloss: 0.517733\n",
      "[3200]\tvalid_0's binary_logloss: 0.516885\n",
      "VALID AUC : 0.822568467222963 ACC : 0.7396149949341438\n",
      "\n"
     ]
    }
   ],
   "source": [
    "lgb_x_train = lgb.Dataset(x_train[FEATS], y_train)\n",
    "lgb_x_valid = lgb.Dataset(x_valid[FEATS], y_valid)\n",
    "\n",
    "model3 = lgb.train(\n",
    "    params, \n",
    "    lgb_x_train,\n",
    "    valid_sets=[lgb_x_valid],\n",
    "    verbose_eval=100,\n",
    "    num_boost_round=3200,\n",
    "#     early_stopping_rounds=200,\n",
    ")\n",
    "\n",
    "preds = model3.predict(x_valid[FEATS])\n",
    "acc = accuracy_score(y_valid, np.where(preds >= 0.5, 1, 0))\n",
    "auc = roc_auc_score(y_valid, preds)\n",
    "\n",
    "print(f'VALID AUC : {auc} ACC : {acc}\\n')\n",
    "\n",
    "post_slack(\"done\")"
   ]
  },
  {
   "cell_type": "markdown",
   "id": "f5c5a2ce",
   "metadata": {},
   "source": [
    "## 문제푼 시간 3600초 이상 모두 3600으로 변환 (기존)"
   ]
  },
  {
   "cell_type": "code",
   "execution_count": 11,
   "id": "0a1f3e7d",
   "metadata": {
    "ExecuteTime": {
     "end_time": "2022-11-25T07:10:28.899854Z",
     "start_time": "2022-11-25T07:06:28.463459Z"
    },
    "scrolled": true
   },
   "outputs": [
    {
     "name": "stdout",
     "output_type": "stream",
     "text": [
      "[LightGBM] [Info] Number of positive: 1653588, number of negative: 872368\n",
      "[LightGBM] [Warning] Auto-choosing row-wise multi-threading, the overhead of testing was 0.052752 seconds.\n",
      "You can set `force_row_wise=true` to remove the overhead.\n",
      "And if memory is not enough, you can set `force_col_wise=true`.\n",
      "[LightGBM] [Info] Total Bins 3095\n",
      "[LightGBM] [Info] Number of data points in the train set: 2525956, number of used features: 18\n",
      "[LightGBM] [Info] [binary:BoostFromScore]: pavg=0.654638 -> initscore=0.639491\n",
      "[LightGBM] [Info] Start training from score 0.639491\n",
      "[100]\tvalid_0's binary_logloss: 0.57308\n",
      "[200]\tvalid_0's binary_logloss: 0.564389\n",
      "[300]\tvalid_0's binary_logloss: 0.559807\n",
      "[400]\tvalid_0's binary_logloss: 0.554239\n",
      "[500]\tvalid_0's binary_logloss: 0.550381\n",
      "[600]\tvalid_0's binary_logloss: 0.547333\n",
      "[700]\tvalid_0's binary_logloss: 0.542663\n",
      "[800]\tvalid_0's binary_logloss: 0.539448\n",
      "[900]\tvalid_0's binary_logloss: 0.537293\n",
      "[1000]\tvalid_0's binary_logloss: 0.533369\n",
      "[1100]\tvalid_0's binary_logloss: 0.530778\n",
      "[1200]\tvalid_0's binary_logloss: 0.528895\n",
      "[1300]\tvalid_0's binary_logloss: 0.526897\n",
      "[1400]\tvalid_0's binary_logloss: 0.525646\n",
      "[1500]\tvalid_0's binary_logloss: 0.523441\n",
      "[1600]\tvalid_0's binary_logloss: 0.521941\n",
      "[1700]\tvalid_0's binary_logloss: 0.520392\n",
      "[1800]\tvalid_0's binary_logloss: 0.518991\n",
      "[1900]\tvalid_0's binary_logloss: 0.518401\n",
      "[2000]\tvalid_0's binary_logloss: 0.516927\n",
      "[2100]\tvalid_0's binary_logloss: 0.515664\n",
      "[2200]\tvalid_0's binary_logloss: 0.514235\n",
      "[2300]\tvalid_0's binary_logloss: 0.512859\n",
      "[2400]\tvalid_0's binary_logloss: 0.511646\n",
      "[2500]\tvalid_0's binary_logloss: 0.510438\n",
      "[2600]\tvalid_0's binary_logloss: 0.509123\n",
      "[2700]\tvalid_0's binary_logloss: 0.508236\n",
      "[2800]\tvalid_0's binary_logloss: 0.506781\n",
      "[2900]\tvalid_0's binary_logloss: 0.505248\n",
      "[3000]\tvalid_0's binary_logloss: 0.503842\n",
      "[3100]\tvalid_0's binary_logloss: 0.503227\n",
      "[3200]\tvalid_0's binary_logloss: 0.502616\n",
      "VALID AUC : 0.833218683431184 ACC : 0.7585328578706062\n",
      "\n",
      "writing prediction : output/LGBM_Baseline_문제푼시간_추가_3600초이상모두3600으로.csv\n"
     ]
    }
   ],
   "source": [
    "lgb_x_train = lgb.Dataset(x_train[FEATS], y_train)\n",
    "lgb_x_valid = lgb.Dataset(x_valid[FEATS], y_valid)\n",
    "\n",
    "model4 = lgb.train(\n",
    "    params, \n",
    "    lgb_x_train,\n",
    "    valid_sets=[lgb_x_valid],\n",
    "    verbose_eval=100,\n",
    "    num_boost_round=3200,\n",
    "#     early_stopping_rounds=200,\n",
    ")\n",
    "\n",
    "preds = model4.predict(x_valid[FEATS])\n",
    "acc = accuracy_score(y_valid, np.where(preds >= 0.5, 1, 0))\n",
    "auc = roc_auc_score(y_valid, preds)\n",
    "\n",
    "print(f'VALID AUC : {auc} ACC : {acc}\\n')\n",
    "\n",
    "post_slack(\"done\")\n",
    "\n",
    "lgbm_predict(test, model4, FEATS, 'LGBM_Baseline_문제푼시간_추가_3600초이상모두3600으로.csv')"
   ]
  },
  {
   "cell_type": "markdown",
   "id": "e67c59d9",
   "metadata": {},
   "source": [
    "### validation"
   ]
  },
  {
   "cell_type": "code",
   "execution_count": 170,
   "id": "7a182c49",
   "metadata": {
    "ExecuteTime": {
     "end_time": "2022-11-28T09:13:15.930223Z",
     "start_time": "2022-11-28T09:13:15.723497Z"
    }
   },
   "outputs": [
    {
     "name": "stdout",
     "output_type": "stream",
     "text": [
      "VALID AUC : 0.8199340838394311 ACC : 0.7396149949341438\n",
      "\n"
     ]
    }
   ],
   "source": [
    "# 사용할 Feature 설정\n",
    "FEATS = ['KnowledgeTag',\n",
    "         'user_correct_answer',\n",
    "         'user_total_answer',\n",
    "         'big_category',\n",
    "         'mid_category',\n",
    "         'problem_num',\n",
    "         'month','day','dayname','hour',\n",
    "         'user_acc',\n",
    "         'test_mean',\n",
    "         'test_sum',\n",
    "         'test_std',\n",
    "         'tag_std',\n",
    "         'tag_mean',\n",
    "         'tag_sum',\n",
    "         'solvesec_3600'\n",
    "        ]\n",
    "preds = model4.predict(x_valid[FEATS])\n",
    "acc = accuracy_score(y_valid, np.where(preds >= 0.5, 1, 0))\n",
    "auc = roc_auc_score(y_valid, preds)\n",
    "\n",
    "print(f'VALID AUC : {auc} ACC : {acc}\\n')\n",
    "# 제출 AUC: 0.7789"
   ]
  },
  {
   "cell_type": "code",
   "execution_count": 49,
   "id": "8a7acde6",
   "metadata": {
    "ExecuteTime": {
     "end_time": "2022-11-27T12:58:23.598924Z",
     "start_time": "2022-11-27T12:58:23.550301Z"
    }
   },
   "outputs": [
    {
     "name": "stdout",
     "output_type": "stream",
     "text": [
      "writing prediction : output/LGBM_Baseline_문제푼시간_추가_3600초이상모두3600으로.csv\n"
     ]
    }
   ],
   "source": [
    "lgbm_predict(test, model4, FEATS, 'LGBM_Baseline_문제푼시간_추가_3600초이상모두3600으로.csv')"
   ]
  },
  {
   "cell_type": "markdown",
   "id": "e2410b81",
   "metadata": {},
   "source": [
    "# userID, testID 같이 groupby한 경우"
   ]
  },
  {
   "cell_type": "markdown",
   "id": "7cea971e",
   "metadata": {},
   "source": [
    "## 문제푼 시간 3600초 이상 모두 3600으로 (NaN 채우지 않음)"
   ]
  },
  {
   "cell_type": "code",
   "execution_count": 5,
   "id": "325dfc59",
   "metadata": {
    "ExecuteTime": {
     "end_time": "2022-11-28T17:33:39.167490Z",
     "start_time": "2022-11-28T17:29:20.149460Z"
    },
    "scrolled": true
   },
   "outputs": [
    {
     "name": "stdout",
     "output_type": "stream",
     "text": [
      "[LightGBM] [Info] Number of positive: 1653588, number of negative: 872368\n",
      "[LightGBM] [Warning] Auto-choosing row-wise multi-threading, the overhead of testing was 0.044387 seconds.\n",
      "You can set `force_row_wise=true` to remove the overhead.\n",
      "And if memory is not enough, you can set `force_col_wise=true`.\n",
      "[LightGBM] [Info] Total Bins 3095\n",
      "[LightGBM] [Info] Number of data points in the train set: 2525956, number of used features: 18\n",
      "[LightGBM] [Info] [binary:BoostFromScore]: pavg=0.654638 -> initscore=0.639491\n",
      "[LightGBM] [Info] Start training from score 0.639491\n",
      "[100]\tvalid_0's binary_logloss: 0.589353\n",
      "[200]\tvalid_0's binary_logloss: 0.578821\n",
      "[300]\tvalid_0's binary_logloss: 0.57417\n",
      "[400]\tvalid_0's binary_logloss: 0.569103\n",
      "[500]\tvalid_0's binary_logloss: 0.563665\n",
      "[600]\tvalid_0's binary_logloss: 0.560852\n",
      "[700]\tvalid_0's binary_logloss: 0.558971\n",
      "[800]\tvalid_0's binary_logloss: 0.55587\n",
      "[900]\tvalid_0's binary_logloss: 0.552249\n",
      "[1000]\tvalid_0's binary_logloss: 0.551044\n",
      "[1100]\tvalid_0's binary_logloss: 0.548723\n",
      "[1200]\tvalid_0's binary_logloss: 0.546903\n",
      "[1300]\tvalid_0's binary_logloss: 0.545897\n",
      "[1400]\tvalid_0's binary_logloss: 0.544042\n",
      "[1500]\tvalid_0's binary_logloss: 0.542977\n",
      "[1600]\tvalid_0's binary_logloss: 0.540998\n",
      "[1700]\tvalid_0's binary_logloss: 0.539356\n",
      "[1800]\tvalid_0's binary_logloss: 0.537782\n",
      "[1900]\tvalid_0's binary_logloss: 0.536896\n",
      "[2000]\tvalid_0's binary_logloss: 0.535543\n",
      "[2100]\tvalid_0's binary_logloss: 0.534477\n",
      "[2200]\tvalid_0's binary_logloss: 0.533359\n",
      "[2300]\tvalid_0's binary_logloss: 0.532097\n",
      "[2400]\tvalid_0's binary_logloss: 0.530007\n",
      "[2500]\tvalid_0's binary_logloss: 0.528741\n",
      "[2600]\tvalid_0's binary_logloss: 0.528404\n",
      "[2700]\tvalid_0's binary_logloss: 0.52754\n",
      "[2800]\tvalid_0's binary_logloss: 0.526719\n",
      "[2900]\tvalid_0's binary_logloss: 0.52564\n",
      "[3000]\tvalid_0's binary_logloss: 0.524468\n",
      "[3100]\tvalid_0's binary_logloss: 0.523732\n",
      "[3200]\tvalid_0's binary_logloss: 0.523038\n",
      "VALID AUC : 0.8171392304020804 ACC : 0.7411347517730497\n",
      "\n",
      "writing prediction : output/LGBM_Baseline_문제푼시간_추가_3600_NaN채우지않음_user_test.csv\n"
     ]
    }
   ],
   "source": [
    "# 사용할 Feature 설정\n",
    "FEATS = ['KnowledgeTag',\n",
    "         'user_correct_answer',\n",
    "         'user_total_answer',\n",
    "         'big_category',\n",
    "         'mid_category',\n",
    "         'problem_num',\n",
    "         'month','day','dayname','hour',\n",
    "         'user_acc',\n",
    "         'test_mean',\n",
    "         'test_sum',\n",
    "         'test_std',\n",
    "         'tag_std',\n",
    "         'tag_mean',\n",
    "         'tag_sum',\n",
    "         'solvesec_3600'\n",
    "        ]\n",
    "\n",
    "lgb_x_train = lgb.Dataset(x_train[FEATS], y_train)\n",
    "lgb_x_valid = lgb.Dataset(x_valid[FEATS], y_valid)\n",
    "\n",
    "model5 = lgb.train(\n",
    "    params, \n",
    "    lgb_x_train,\n",
    "    valid_sets=[lgb_x_valid],\n",
    "    verbose_eval=100,\n",
    "    num_boost_round=3200,\n",
    "#     early_stopping_rounds=200,\n",
    ")\n",
    "\n",
    "preds = model5.predict(x_valid[FEATS])\n",
    "acc = accuracy_score(y_valid, np.where(preds >= 0.5, 1, 0))\n",
    "auc = roc_auc_score(y_valid, preds)\n",
    "\n",
    "print(f'VALID AUC : {auc} ACC : {acc}\\n')\n",
    "\n",
    "post_slack(\"done\")\n",
    "\n",
    "lgbm_predict(test, model5, FEATS, 'LGBM_Baseline_문제푼시간_추가_3600_NaN채우지않음_user_test.csv')"
   ]
  },
  {
   "cell_type": "markdown",
   "id": "a63c5b66",
   "metadata": {},
   "source": [
    "### fillna(0) 해보기"
   ]
  },
  {
   "cell_type": "code",
   "execution_count": 11,
   "id": "b9630f17",
   "metadata": {
    "ExecuteTime": {
     "end_time": "2022-11-28T17:34:59.826172Z",
     "start_time": "2022-11-28T17:34:59.509576Z"
    }
   },
   "outputs": [],
   "source": [
    "x_train.solvesec_3600 = x_train.solvesec_3600.fillna(0)"
   ]
  },
  {
   "cell_type": "code",
   "execution_count": 10,
   "id": "4132ff3e",
   "metadata": {
    "ExecuteTime": {
     "end_time": "2022-11-28T17:34:49.929529Z",
     "start_time": "2022-11-28T17:34:49.921356Z"
    }
   },
   "outputs": [
    {
     "name": "stdout",
     "output_type": "stream",
     "text": [
      "<class 'pandas.core.series.Series'>\n",
      "Int64Index: 1974 entries, 744 to 2526699\n",
      "Series name: solvesec_3600\n",
      "Non-Null Count  Dtype  \n",
      "--------------  -----  \n",
      "1974 non-null   float64\n",
      "dtypes: float64(1)\n",
      "memory usage: 30.8 KB\n"
     ]
    }
   ],
   "source": [
    "x_valid.solvesec_3600.info()"
   ]
  },
  {
   "cell_type": "code",
   "execution_count": 12,
   "id": "f60a9396",
   "metadata": {
    "ExecuteTime": {
     "end_time": "2022-11-28T17:40:06.329765Z",
     "start_time": "2022-11-28T17:35:21.508227Z"
    },
    "scrolled": true
   },
   "outputs": [
    {
     "name": "stdout",
     "output_type": "stream",
     "text": [
      "[LightGBM] [Info] Number of positive: 1653588, number of negative: 872368\n",
      "[LightGBM] [Warning] Auto-choosing row-wise multi-threading, the overhead of testing was 0.054967 seconds.\n",
      "You can set `force_row_wise=true` to remove the overhead.\n",
      "And if memory is not enough, you can set `force_col_wise=true`.\n",
      "[LightGBM] [Info] Total Bins 3095\n",
      "[LightGBM] [Info] Number of data points in the train set: 2525956, number of used features: 18\n",
      "[LightGBM] [Info] [binary:BoostFromScore]: pavg=0.654638 -> initscore=0.639491\n",
      "[LightGBM] [Info] Start training from score 0.639491\n",
      "[100]\tvalid_0's binary_logloss: 0.584019\n",
      "[200]\tvalid_0's binary_logloss: 0.578371\n",
      "[300]\tvalid_0's binary_logloss: 0.573579\n",
      "[400]\tvalid_0's binary_logloss: 0.566298\n",
      "[500]\tvalid_0's binary_logloss: 0.561036\n",
      "[600]\tvalid_0's binary_logloss: 0.559448\n",
      "[700]\tvalid_0's binary_logloss: 0.557682\n",
      "[800]\tvalid_0's binary_logloss: 0.554892\n",
      "[900]\tvalid_0's binary_logloss: 0.552933\n",
      "[1000]\tvalid_0's binary_logloss: 0.550578\n",
      "[1100]\tvalid_0's binary_logloss: 0.54871\n",
      "[1200]\tvalid_0's binary_logloss: 0.546362\n",
      "[1300]\tvalid_0's binary_logloss: 0.544131\n",
      "[1400]\tvalid_0's binary_logloss: 0.541352\n",
      "[1500]\tvalid_0's binary_logloss: 0.539284\n",
      "[1600]\tvalid_0's binary_logloss: 0.537089\n",
      "[1700]\tvalid_0's binary_logloss: 0.536064\n",
      "[1800]\tvalid_0's binary_logloss: 0.535355\n",
      "[1900]\tvalid_0's binary_logloss: 0.534229\n",
      "[2000]\tvalid_0's binary_logloss: 0.533133\n",
      "[2100]\tvalid_0's binary_logloss: 0.531451\n",
      "[2200]\tvalid_0's binary_logloss: 0.5297\n",
      "[2300]\tvalid_0's binary_logloss: 0.528408\n",
      "[2400]\tvalid_0's binary_logloss: 0.526704\n",
      "[2500]\tvalid_0's binary_logloss: 0.525327\n",
      "[2600]\tvalid_0's binary_logloss: 0.524447\n",
      "[2700]\tvalid_0's binary_logloss: 0.523038\n",
      "[2800]\tvalid_0's binary_logloss: 0.521953\n",
      "[2900]\tvalid_0's binary_logloss: 0.521513\n",
      "[3000]\tvalid_0's binary_logloss: 0.520432\n",
      "[3100]\tvalid_0's binary_logloss: 0.519771\n",
      "[3200]\tvalid_0's binary_logloss: 0.518497\n",
      "VALID AUC : 0.8204134366925064 ACC : 0.7441742654508612\n",
      "\n",
      "writing prediction : output/LGBM_Baseline_문제푼시간_추가_3600_fillna0_user_test.csv\n"
     ]
    }
   ],
   "source": [
    "# 사용할 Feature 설정\n",
    "FEATS = ['KnowledgeTag',\n",
    "         'user_correct_answer',\n",
    "         'user_total_answer',\n",
    "         'big_category',\n",
    "         'mid_category',\n",
    "         'problem_num',\n",
    "         'month','day','dayname','hour',\n",
    "         'user_acc',\n",
    "         'test_mean',\n",
    "         'test_sum',\n",
    "         'test_std',\n",
    "         'tag_std',\n",
    "         'tag_mean',\n",
    "         'tag_sum',\n",
    "         'solvesec_3600'\n",
    "        ]\n",
    "\n",
    "lgb_x_train = lgb.Dataset(x_train[FEATS], y_train)\n",
    "lgb_x_valid = lgb.Dataset(x_valid[FEATS], y_valid)\n",
    "\n",
    "model5_1 = lgb.train(\n",
    "    params, \n",
    "    lgb_x_train,\n",
    "    valid_sets=[lgb_x_valid],\n",
    "    verbose_eval=100,\n",
    "    num_boost_round=3200,\n",
    "#     early_stopping_rounds=200,\n",
    ")\n",
    "\n",
    "preds = model5_1.predict(x_valid[FEATS])\n",
    "acc = accuracy_score(y_valid, np.where(preds >= 0.5, 1, 0))\n",
    "auc = roc_auc_score(y_valid, preds)\n",
    "\n",
    "print(f'VALID AUC : {auc} ACC : {acc}\\n')\n",
    "\n",
    "post_slack(\"done\")\n",
    "\n",
    "lgbm_predict(test, model5_1, FEATS, 'LGBM_Baseline_문제푼시간_추가_3600_fillna0_user_test.csv')"
   ]
  },
  {
   "cell_type": "code",
   "execution_count": null,
   "id": "95ebfe35",
   "metadata": {},
   "outputs": [],
   "source": []
  },
  {
   "cell_type": "code",
   "execution_count": 13,
   "id": "a15304e0",
   "metadata": {
    "ExecuteTime": {
     "end_time": "2022-11-28T16:02:32.267242Z",
     "start_time": "2022-11-28T15:58:27.690042Z"
    },
    "scrolled": true
   },
   "outputs": [
    {
     "name": "stdout",
     "output_type": "stream",
     "text": [
      "[LightGBM] [Info] Number of positive: 1653588, number of negative: 872368\n",
      "[LightGBM] [Warning] Auto-choosing row-wise multi-threading, the overhead of testing was 0.046535 seconds.\n",
      "You can set `force_row_wise=true` to remove the overhead.\n",
      "And if memory is not enough, you can set `force_col_wise=true`.\n",
      "[LightGBM] [Info] Total Bins 3095\n",
      "[LightGBM] [Info] Number of data points in the train set: 2525956, number of used features: 18\n",
      "[LightGBM] [Info] [binary:BoostFromScore]: pavg=0.654638 -> initscore=0.639491\n",
      "[LightGBM] [Info] Start training from score 0.639491\n",
      "[100]\tvalid_0's binary_logloss: 0.586502\n",
      "[200]\tvalid_0's binary_logloss: 0.57959\n",
      "[300]\tvalid_0's binary_logloss: 0.572732\n",
      "[400]\tvalid_0's binary_logloss: 0.567639\n",
      "[500]\tvalid_0's binary_logloss: 0.562424\n",
      "[600]\tvalid_0's binary_logloss: 0.55853\n",
      "[700]\tvalid_0's binary_logloss: 0.556248\n",
      "[800]\tvalid_0's binary_logloss: 0.553459\n",
      "[900]\tvalid_0's binary_logloss: 0.551091\n",
      "[1000]\tvalid_0's binary_logloss: 0.549598\n",
      "[1100]\tvalid_0's binary_logloss: 0.546279\n",
      "[1200]\tvalid_0's binary_logloss: 0.545095\n",
      "[1300]\tvalid_0's binary_logloss: 0.541925\n",
      "[1400]\tvalid_0's binary_logloss: 0.539027\n",
      "[1500]\tvalid_0's binary_logloss: 0.538104\n",
      "[1600]\tvalid_0's binary_logloss: 0.536928\n",
      "[1700]\tvalid_0's binary_logloss: 0.535076\n",
      "[1800]\tvalid_0's binary_logloss: 0.533513\n",
      "[1900]\tvalid_0's binary_logloss: 0.532865\n",
      "[2000]\tvalid_0's binary_logloss: 0.532147\n",
      "[2100]\tvalid_0's binary_logloss: 0.530369\n",
      "[2200]\tvalid_0's binary_logloss: 0.529552\n",
      "[2300]\tvalid_0's binary_logloss: 0.528897\n",
      "[2400]\tvalid_0's binary_logloss: 0.52777\n",
      "[2500]\tvalid_0's binary_logloss: 0.526302\n",
      "[2600]\tvalid_0's binary_logloss: 0.524689\n",
      "[2700]\tvalid_0's binary_logloss: 0.523429\n",
      "[2800]\tvalid_0's binary_logloss: 0.521448\n",
      "[2900]\tvalid_0's binary_logloss: 0.520808\n",
      "[3000]\tvalid_0's binary_logloss: 0.519343\n",
      "[3100]\tvalid_0's binary_logloss: 0.518415\n",
      "[3200]\tvalid_0's binary_logloss: 0.516765\n",
      "VALID AUC : 0.8219769910630526 ACC : 0.7375886524822695\n",
      "\n",
      "writing prediction : output/LGBM_Baseline_문제푼시간_추가_3200_NaN채우지않음.csv\n"
     ]
    }
   ],
   "source": [
    "# 사용할 Feature 설정\n",
    "FEATS = ['KnowledgeTag',\n",
    "         'user_correct_answer',\n",
    "         'user_total_answer',\n",
    "         'big_category',\n",
    "         'mid_category',\n",
    "         'problem_num',\n",
    "         'month','day','dayname','hour',\n",
    "         'user_acc',\n",
    "         'test_mean',\n",
    "         'test_sum',\n",
    "         'test_std',\n",
    "         'tag_std',\n",
    "         'tag_mean',\n",
    "         'tag_sum',\n",
    "         'solvesec_3200'\n",
    "        ]\n",
    "\n",
    "lgb_x_train = lgb.Dataset(x_train[FEATS], y_train)\n",
    "lgb_x_valid = lgb.Dataset(x_valid[FEATS], y_valid)\n",
    "\n",
    "model6 = lgb.train(\n",
    "    params, \n",
    "    lgb_x_train,\n",
    "    valid_sets=[lgb_x_valid],\n",
    "    verbose_eval=100,\n",
    "    num_boost_round=3200,\n",
    "#     early_stopping_rounds=200,\n",
    ")\n",
    "\n",
    "preds = model6.predict(x_valid[FEATS])\n",
    "acc = accuracy_score(y_valid, np.where(preds >= 0.5, 1, 0))\n",
    "auc = roc_auc_score(y_valid, preds)\n",
    "\n",
    "print(f'VALID AUC : {auc} ACC : {acc}\\n')\n",
    "\n",
    "post_slack(\"done\")\n",
    "\n",
    "lgbm_predict(test, model6, FEATS, 'LGBM_Baseline_문제푼시간_추가_3200_NaN채우지않음_user_test.csv')"
   ]
  },
  {
   "cell_type": "markdown",
   "id": "e919dfee",
   "metadata": {},
   "source": [
    "## 문제푼 시간 2400초 이상 모두 2400초 (NaN 채우지 않음)"
   ]
  },
  {
   "cell_type": "code",
   "execution_count": 14,
   "id": "92084301",
   "metadata": {
    "ExecuteTime": {
     "end_time": "2022-11-28T17:41:28.445346Z",
     "start_time": "2022-11-28T17:41:28.412787Z"
    }
   },
   "outputs": [
    {
     "data": {
      "text/html": [
       "<div>\n",
       "<style scoped>\n",
       "    .dataframe tbody tr th:only-of-type {\n",
       "        vertical-align: middle;\n",
       "    }\n",
       "\n",
       "    .dataframe tbody tr th {\n",
       "        vertical-align: top;\n",
       "    }\n",
       "\n",
       "    .dataframe thead th {\n",
       "        text-align: right;\n",
       "    }\n",
       "</style>\n",
       "<table border=\"1\" class=\"dataframe\">\n",
       "  <thead>\n",
       "    <tr style=\"text-align: right;\">\n",
       "      <th></th>\n",
       "      <th>userID</th>\n",
       "      <th>assessmentItemID</th>\n",
       "      <th>testId</th>\n",
       "      <th>Timestamp</th>\n",
       "      <th>KnowledgeTag</th>\n",
       "      <th>solvesec</th>\n",
       "      <th>solvesec_3600</th>\n",
       "      <th>time_category</th>\n",
       "      <th>user_correct_answer</th>\n",
       "      <th>user_total_answer</th>\n",
       "      <th>...</th>\n",
       "      <th>tag_mean</th>\n",
       "      <th>tag_std</th>\n",
       "      <th>tag_sum</th>\n",
       "      <th>kind</th>\n",
       "      <th>solvesec_3200</th>\n",
       "      <th>solvesec400</th>\n",
       "      <th>solvesec_1800</th>\n",
       "      <th>solvesec_1200</th>\n",
       "      <th>solvesec_800</th>\n",
       "      <th>solvesec_600</th>\n",
       "    </tr>\n",
       "  </thead>\n",
       "  <tbody>\n",
       "    <tr>\n",
       "      <th>0</th>\n",
       "      <td>0</td>\n",
       "      <td>A060001001</td>\n",
       "      <td>A060000001</td>\n",
       "      <td>2020-03-24 00:17:11</td>\n",
       "      <td>7224</td>\n",
       "      <td>NaN</td>\n",
       "      <td>0.0</td>\n",
       "      <td>9999</td>\n",
       "      <td>NaN</td>\n",
       "      <td>0</td>\n",
       "      <td>...</td>\n",
       "      <td>0.955022</td>\n",
       "      <td>0.207410</td>\n",
       "      <td>637</td>\n",
       "      <td>train</td>\n",
       "      <td>NaN</td>\n",
       "      <td>NaN</td>\n",
       "      <td>NaN</td>\n",
       "      <td>NaN</td>\n",
       "      <td>NaN</td>\n",
       "      <td>NaN</td>\n",
       "    </tr>\n",
       "    <tr>\n",
       "      <th>1</th>\n",
       "      <td>0</td>\n",
       "      <td>A060001002</td>\n",
       "      <td>A060000001</td>\n",
       "      <td>2020-03-24 00:17:14</td>\n",
       "      <td>7225</td>\n",
       "      <td>3.0</td>\n",
       "      <td>3.0</td>\n",
       "      <td>1 - (0, 5]</td>\n",
       "      <td>1.0</td>\n",
       "      <td>1</td>\n",
       "      <td>...</td>\n",
       "      <td>0.913187</td>\n",
       "      <td>0.281603</td>\n",
       "      <td>3040</td>\n",
       "      <td>train</td>\n",
       "      <td>3.0</td>\n",
       "      <td>3.0</td>\n",
       "      <td>3.0</td>\n",
       "      <td>3.0</td>\n",
       "      <td>3.0</td>\n",
       "      <td>3.0</td>\n",
       "    </tr>\n",
       "  </tbody>\n",
       "</table>\n",
       "<p>2 rows × 31 columns</p>\n",
       "</div>"
      ],
      "text/plain": [
       "   userID assessmentItemID      testId            Timestamp  KnowledgeTag  \\\n",
       "0       0       A060001001  A060000001  2020-03-24 00:17:11          7224   \n",
       "1       0       A060001002  A060000001  2020-03-24 00:17:14          7225   \n",
       "\n",
       "   solvesec  solvesec_3600 time_category  user_correct_answer  \\\n",
       "0       NaN            0.0          9999                  NaN   \n",
       "1       3.0            3.0    1 - (0, 5]                  1.0   \n",
       "\n",
       "   user_total_answer  ...  tag_mean   tag_std  tag_sum   kind  solvesec_3200  \\\n",
       "0                  0  ...  0.955022  0.207410      637  train            NaN   \n",
       "1                  1  ...  0.913187  0.281603     3040  train            3.0   \n",
       "\n",
       "   solvesec400  solvesec_1800  solvesec_1200  solvesec_800  solvesec_600  \n",
       "0          NaN            NaN            NaN           NaN           NaN  \n",
       "1          3.0            3.0            3.0           3.0           3.0  \n",
       "\n",
       "[2 rows x 31 columns]"
      ]
     },
     "execution_count": 14,
     "metadata": {},
     "output_type": "execute_result"
    }
   ],
   "source": [
    "x_train[:2]"
   ]
  },
  {
   "cell_type": "code",
   "execution_count": 15,
   "id": "4def5a50",
   "metadata": {
    "ExecuteTime": {
     "end_time": "2022-11-28T17:43:04.674461Z",
     "start_time": "2022-11-28T17:41:48.901979Z"
    },
    "scrolled": true
   },
   "outputs": [
    {
     "name": "stdout",
     "output_type": "stream",
     "text": [
      "[LightGBM] [Info] Number of positive: 1653588, number of negative: 872368\n",
      "[LightGBM] [Warning] Auto-choosing row-wise multi-threading, the overhead of testing was 0.050236 seconds.\n",
      "You can set `force_row_wise=true` to remove the overhead.\n",
      "And if memory is not enough, you can set `force_col_wise=true`.\n",
      "[LightGBM] [Info] Total Bins 3095\n",
      "[LightGBM] [Info] Number of data points in the train set: 2525956, number of used features: 18\n",
      "[LightGBM] [Info] [binary:BoostFromScore]: pavg=0.654638 -> initscore=0.639491\n",
      "[LightGBM] [Info] Start training from score 0.639491\n",
      "[100]\tvalid_0's binary_logloss: 0.589189\n",
      "[200]\tvalid_0's binary_logloss: 0.582206\n",
      "[300]\tvalid_0's binary_logloss: 0.576758\n",
      "[400]\tvalid_0's binary_logloss: 0.573431\n",
      "[500]\tvalid_0's binary_logloss: 0.56895\n",
      "[600]\tvalid_0's binary_logloss: 0.561961\n",
      "[700]\tvalid_0's binary_logloss: 0.556918\n"
     ]
    },
    {
     "ename": "KeyboardInterrupt",
     "evalue": "",
     "output_type": "error",
     "traceback": [
      "\u001b[0;31m---------------------------------------------------------------------------\u001b[0m",
      "\u001b[0;31mKeyboardInterrupt\u001b[0m                         Traceback (most recent call last)",
      "Cell \u001b[0;32mIn [15], line 22\u001b[0m\n\u001b[1;32m     19\u001b[0m lgb_x_train \u001b[38;5;241m=\u001b[39m lgb\u001b[38;5;241m.\u001b[39mDataset(x_train[FEATS], y_train)\n\u001b[1;32m     20\u001b[0m lgb_x_valid \u001b[38;5;241m=\u001b[39m lgb\u001b[38;5;241m.\u001b[39mDataset(x_valid[FEATS], y_valid)\n\u001b[0;32m---> 22\u001b[0m model6 \u001b[38;5;241m=\u001b[39m \u001b[43mlgb\u001b[49m\u001b[38;5;241;43m.\u001b[39;49m\u001b[43mtrain\u001b[49m\u001b[43m(\u001b[49m\n\u001b[1;32m     23\u001b[0m \u001b[43m    \u001b[49m\u001b[43mparams\u001b[49m\u001b[43m,\u001b[49m\u001b[43m \u001b[49m\n\u001b[1;32m     24\u001b[0m \u001b[43m    \u001b[49m\u001b[43mlgb_x_train\u001b[49m\u001b[43m,\u001b[49m\n\u001b[1;32m     25\u001b[0m \u001b[43m    \u001b[49m\u001b[43mvalid_sets\u001b[49m\u001b[38;5;241;43m=\u001b[39;49m\u001b[43m[\u001b[49m\u001b[43mlgb_x_valid\u001b[49m\u001b[43m]\u001b[49m\u001b[43m,\u001b[49m\n\u001b[1;32m     26\u001b[0m \u001b[43m    \u001b[49m\u001b[43mverbose_eval\u001b[49m\u001b[38;5;241;43m=\u001b[39;49m\u001b[38;5;241;43m100\u001b[39;49m\u001b[43m,\u001b[49m\n\u001b[1;32m     27\u001b[0m \u001b[43m    \u001b[49m\u001b[43mnum_boost_round\u001b[49m\u001b[38;5;241;43m=\u001b[39;49m\u001b[38;5;241;43m3200\u001b[39;49m\u001b[43m,\u001b[49m\n\u001b[1;32m     28\u001b[0m \u001b[38;5;66;43;03m#     early_stopping_rounds=200,\u001b[39;49;00m\n\u001b[1;32m     29\u001b[0m \u001b[43m)\u001b[49m\n\u001b[1;32m     31\u001b[0m preds \u001b[38;5;241m=\u001b[39m model6\u001b[38;5;241m.\u001b[39mpredict(x_valid[FEATS])\n\u001b[1;32m     32\u001b[0m acc \u001b[38;5;241m=\u001b[39m accuracy_score(y_valid, np\u001b[38;5;241m.\u001b[39mwhere(preds \u001b[38;5;241m>\u001b[39m\u001b[38;5;241m=\u001b[39m \u001b[38;5;241m0.5\u001b[39m, \u001b[38;5;241m1\u001b[39m, \u001b[38;5;241m0\u001b[39m))\n",
      "File \u001b[0;32m/opt/conda/envs/jupy/lib/python3.9/site-packages/lightgbm/engine.py:292\u001b[0m, in \u001b[0;36mtrain\u001b[0;34m(params, train_set, num_boost_round, valid_sets, valid_names, fobj, feval, init_model, feature_name, categorical_feature, early_stopping_rounds, evals_result, verbose_eval, learning_rates, keep_training_booster, callbacks)\u001b[0m\n\u001b[1;32m    284\u001b[0m \u001b[38;5;28;01mfor\u001b[39;00m cb \u001b[38;5;129;01min\u001b[39;00m callbacks_before_iter:\n\u001b[1;32m    285\u001b[0m     cb(callback\u001b[38;5;241m.\u001b[39mCallbackEnv(model\u001b[38;5;241m=\u001b[39mbooster,\n\u001b[1;32m    286\u001b[0m                             params\u001b[38;5;241m=\u001b[39mparams,\n\u001b[1;32m    287\u001b[0m                             iteration\u001b[38;5;241m=\u001b[39mi,\n\u001b[1;32m    288\u001b[0m                             begin_iteration\u001b[38;5;241m=\u001b[39minit_iteration,\n\u001b[1;32m    289\u001b[0m                             end_iteration\u001b[38;5;241m=\u001b[39minit_iteration \u001b[38;5;241m+\u001b[39m num_boost_round,\n\u001b[1;32m    290\u001b[0m                             evaluation_result_list\u001b[38;5;241m=\u001b[39m\u001b[38;5;28;01mNone\u001b[39;00m))\n\u001b[0;32m--> 292\u001b[0m \u001b[43mbooster\u001b[49m\u001b[38;5;241;43m.\u001b[39;49m\u001b[43mupdate\u001b[49m\u001b[43m(\u001b[49m\u001b[43mfobj\u001b[49m\u001b[38;5;241;43m=\u001b[39;49m\u001b[43mfobj\u001b[49m\u001b[43m)\u001b[49m\n\u001b[1;32m    294\u001b[0m evaluation_result_list \u001b[38;5;241m=\u001b[39m []\n\u001b[1;32m    295\u001b[0m \u001b[38;5;66;03m# check evaluation result.\u001b[39;00m\n",
      "File \u001b[0;32m/opt/conda/envs/jupy/lib/python3.9/site-packages/lightgbm/basic.py:3021\u001b[0m, in \u001b[0;36mBooster.update\u001b[0;34m(self, train_set, fobj)\u001b[0m\n\u001b[1;32m   3019\u001b[0m \u001b[38;5;28;01mif\u001b[39;00m \u001b[38;5;28mself\u001b[39m\u001b[38;5;241m.\u001b[39m__set_objective_to_none:\n\u001b[1;32m   3020\u001b[0m     \u001b[38;5;28;01mraise\u001b[39;00m LightGBMError(\u001b[38;5;124m'\u001b[39m\u001b[38;5;124mCannot update due to null objective function.\u001b[39m\u001b[38;5;124m'\u001b[39m)\n\u001b[0;32m-> 3021\u001b[0m _safe_call(\u001b[43m_LIB\u001b[49m\u001b[38;5;241;43m.\u001b[39;49m\u001b[43mLGBM_BoosterUpdateOneIter\u001b[49m\u001b[43m(\u001b[49m\n\u001b[1;32m   3022\u001b[0m \u001b[43m    \u001b[49m\u001b[38;5;28;43mself\u001b[39;49m\u001b[38;5;241;43m.\u001b[39;49m\u001b[43mhandle\u001b[49m\u001b[43m,\u001b[49m\n\u001b[1;32m   3023\u001b[0m \u001b[43m    \u001b[49m\u001b[43mctypes\u001b[49m\u001b[38;5;241;43m.\u001b[39;49m\u001b[43mbyref\u001b[49m\u001b[43m(\u001b[49m\u001b[43mis_finished\u001b[49m\u001b[43m)\u001b[49m\u001b[43m)\u001b[49m)\n\u001b[1;32m   3024\u001b[0m \u001b[38;5;28mself\u001b[39m\u001b[38;5;241m.\u001b[39m__is_predicted_cur_iter \u001b[38;5;241m=\u001b[39m [\u001b[38;5;28;01mFalse\u001b[39;00m \u001b[38;5;28;01mfor\u001b[39;00m _ \u001b[38;5;129;01min\u001b[39;00m \u001b[38;5;28mrange\u001b[39m(\u001b[38;5;28mself\u001b[39m\u001b[38;5;241m.\u001b[39m__num_dataset)]\n\u001b[1;32m   3025\u001b[0m \u001b[38;5;28;01mreturn\u001b[39;00m is_finished\u001b[38;5;241m.\u001b[39mvalue \u001b[38;5;241m==\u001b[39m \u001b[38;5;241m1\u001b[39m\n",
      "\u001b[0;31mKeyboardInterrupt\u001b[0m: "
     ]
    }
   ],
   "source": [
    "# 사용할 Feature 설정\n",
    "FEATS = ['KnowledgeTag',\n",
    "         'user_correct_answer',\n",
    "         'user_total_answer',\n",
    "         'big_category',\n",
    "         'mid_category',\n",
    "         'problem_num',\n",
    "         'month','day','dayname','hour',\n",
    "         'user_acc',\n",
    "         'test_mean',\n",
    "         'test_sum',\n",
    "         'test_std',\n",
    "         'tag_std',\n",
    "         'tag_mean',\n",
    "         'tag_sum',\n",
    "         'solvesec400'\n",
    "        ]\n",
    "\n",
    "lgb_x_train = lgb.Dataset(x_train[FEATS], y_train)\n",
    "lgb_x_valid = lgb.Dataset(x_valid[FEATS], y_valid)\n",
    "\n",
    "model6 = lgb.train(\n",
    "    params, \n",
    "    lgb_x_train,\n",
    "    valid_sets=[lgb_x_valid],\n",
    "    verbose_eval=100,\n",
    "    num_boost_round=3200,\n",
    "#     early_stopping_rounds=200,\n",
    ")\n",
    "\n",
    "preds = model6.predict(x_valid[FEATS])\n",
    "acc = accuracy_score(y_valid, np.where(preds >= 0.5, 1, 0))\n",
    "auc = roc_auc_score(y_valid, preds)\n",
    "\n",
    "print(f'VALID AUC : {auc} ACC : {acc}\\n')\n",
    "\n",
    "# post_slack(\"done\")\n",
    "\n",
    "lgbm_predict(test, model6, FEATS, 'LGBM_Baseline_문제푼시간_추가_2400_NaN채우지않음_user_test.csv')\n",
    "# 제출 AUC: 0.7828"
   ]
  },
  {
   "cell_type": "markdown",
   "id": "48ff1273",
   "metadata": {},
   "source": [
    "### fillna(0) 해보기"
   ]
  },
  {
   "cell_type": "code",
   "execution_count": 16,
   "id": "493e16e1",
   "metadata": {
    "ExecuteTime": {
     "end_time": "2022-11-28T17:43:09.518988Z",
     "start_time": "2022-11-28T17:43:09.180154Z"
    }
   },
   "outputs": [],
   "source": [
    "x_train.solvesec400 = x_train.solvesec400.fillna(0)"
   ]
  },
  {
   "cell_type": "code",
   "execution_count": 26,
   "id": "f929d0d7",
   "metadata": {
    "ExecuteTime": {
     "end_time": "2022-11-29T01:33:10.045432Z",
     "start_time": "2022-11-29T01:28:33.330978Z"
    },
    "scrolled": true
   },
   "outputs": [
    {
     "name": "stdout",
     "output_type": "stream",
     "text": [
      "[LightGBM] [Info] Number of positive: 1653588, number of negative: 872368\n",
      "[LightGBM] [Warning] Auto-choosing row-wise multi-threading, the overhead of testing was 0.059677 seconds.\n",
      "You can set `force_row_wise=true` to remove the overhead.\n",
      "And if memory is not enough, you can set `force_col_wise=true`.\n",
      "[LightGBM] [Info] Total Bins 3095\n",
      "[LightGBM] [Info] Number of data points in the train set: 2525956, number of used features: 18\n",
      "[LightGBM] [Info] [binary:BoostFromScore]: pavg=0.654638 -> initscore=0.639491\n",
      "[LightGBM] [Info] Start training from score 0.639491\n",
      "[100]\tvalid_0's binary_logloss: 0.586169\n",
      "[200]\tvalid_0's binary_logloss: 0.579944\n",
      "[300]\tvalid_0's binary_logloss: 0.5732\n",
      "[400]\tvalid_0's binary_logloss: 0.568215\n",
      "[500]\tvalid_0's binary_logloss: 0.563044\n",
      "[600]\tvalid_0's binary_logloss: 0.558819\n",
      "[700]\tvalid_0's binary_logloss: 0.556577\n",
      "[800]\tvalid_0's binary_logloss: 0.554006\n",
      "[900]\tvalid_0's binary_logloss: 0.551461\n",
      "[1000]\tvalid_0's binary_logloss: 0.548987\n",
      "[1100]\tvalid_0's binary_logloss: 0.546577\n",
      "[1200]\tvalid_0's binary_logloss: 0.545151\n",
      "[1300]\tvalid_0's binary_logloss: 0.543672\n",
      "[1400]\tvalid_0's binary_logloss: 0.542068\n",
      "[1500]\tvalid_0's binary_logloss: 0.540049\n",
      "[1600]\tvalid_0's binary_logloss: 0.53827\n",
      "[1700]\tvalid_0's binary_logloss: 0.537082\n",
      "[1800]\tvalid_0's binary_logloss: 0.53548\n",
      "[1900]\tvalid_0's binary_logloss: 0.533325\n",
      "[2000]\tvalid_0's binary_logloss: 0.531402\n",
      "[2100]\tvalid_0's binary_logloss: 0.529691\n",
      "[2200]\tvalid_0's binary_logloss: 0.527982\n",
      "[2300]\tvalid_0's binary_logloss: 0.526984\n",
      "[2400]\tvalid_0's binary_logloss: 0.525744\n",
      "[2500]\tvalid_0's binary_logloss: 0.52475\n",
      "[2600]\tvalid_0's binary_logloss: 0.523872\n",
      "[2700]\tvalid_0's binary_logloss: 0.522824\n",
      "[2800]\tvalid_0's binary_logloss: 0.52152\n",
      "[2900]\tvalid_0's binary_logloss: 0.520312\n",
      "[3000]\tvalid_0's binary_logloss: 0.518869\n",
      "[3100]\tvalid_0's binary_logloss: 0.517956\n",
      "[3200]\tvalid_0's binary_logloss: 0.516719\n",
      "VALID AUC : 0.8211664115604274 ACC : 0.7426545086119554\n",
      "\n",
      "writing prediction : output/LGBM_Baseline_문제푼시간_추가_2400_fillna0_user_test.csv\n"
     ]
    }
   ],
   "source": [
    "# 사용할 Feature 설정\n",
    "FEATS = ['KnowledgeTag',\n",
    "         'user_correct_answer',\n",
    "         'user_total_answer',\n",
    "         'big_category',\n",
    "         'mid_category',\n",
    "         'problem_num',\n",
    "         'month','day','dayname','hour',\n",
    "         'user_acc',\n",
    "         'test_mean',\n",
    "         'test_sum',\n",
    "         'test_std',\n",
    "         'tag_std',\n",
    "         'tag_mean',\n",
    "         'tag_sum',\n",
    "         'solvesec400'\n",
    "        ]\n",
    "\n",
    "lgb_x_train = lgb.Dataset(x_train[FEATS], y_train)\n",
    "lgb_x_valid = lgb.Dataset(x_valid[FEATS], y_valid)\n",
    "\n",
    "model6_1 = lgb.train(\n",
    "    params, \n",
    "    lgb_x_train,\n",
    "    valid_sets=[lgb_x_valid],\n",
    "    verbose_eval=100,\n",
    "    num_boost_round=3200,\n",
    "#     early_stopping_rounds=200,\n",
    ")\n",
    "\n",
    "preds = model6_1.predict(x_valid[FEATS])\n",
    "acc = accuracy_score(y_valid, np.where(preds >= 0.5, 1, 0))\n",
    "auc = roc_auc_score(y_valid, preds)\n",
    "\n",
    "print(f'VALID AUC : {auc} ACC : {acc}\\n')\n",
    "\n",
    "# post_slack(\"done\")\n",
    "\n",
    "lgbm_predict(test, model6_1, FEATS, 'LGBM_Baseline_문제푼시간_추가_2400_fillna0_user_test.csv')\n",
    "# 제출 AUC: 0.7828"
   ]
  },
  {
   "cell_type": "code",
   "execution_count": null,
   "id": "a0c8a6b4",
   "metadata": {},
   "outputs": [],
   "source": []
  },
  {
   "cell_type": "markdown",
   "id": "4faa4749",
   "metadata": {},
   "source": [
    "## 문제푼 시간 1800초 이상 모두 1800초 (Fillna 0)"
   ]
  },
  {
   "cell_type": "code",
   "execution_count": 27,
   "id": "2157398c",
   "metadata": {
    "ExecuteTime": {
     "end_time": "2022-11-29T01:33:10.304353Z",
     "start_time": "2022-11-29T01:33:10.050688Z"
    }
   },
   "outputs": [],
   "source": [
    "x_train.solvesec_1800 = x_train.solvesec_1800.fillna(0)"
   ]
  },
  {
   "cell_type": "code",
   "execution_count": 28,
   "id": "11a9badf",
   "metadata": {
    "ExecuteTime": {
     "end_time": "2022-11-29T01:37:59.500511Z",
     "start_time": "2022-11-29T01:33:10.309736Z"
    },
    "scrolled": true
   },
   "outputs": [
    {
     "name": "stdout",
     "output_type": "stream",
     "text": [
      "[LightGBM] [Info] Number of positive: 1653588, number of negative: 872368\n",
      "[LightGBM] [Warning] Auto-choosing row-wise multi-threading, the overhead of testing was 0.060570 seconds.\n",
      "You can set `force_row_wise=true` to remove the overhead.\n",
      "And if memory is not enough, you can set `force_col_wise=true`.\n",
      "[LightGBM] [Info] Total Bins 3095\n",
      "[LightGBM] [Info] Number of data points in the train set: 2525956, number of used features: 18\n",
      "[LightGBM] [Info] [binary:BoostFromScore]: pavg=0.654638 -> initscore=0.639491\n",
      "[LightGBM] [Info] Start training from score 0.639491\n",
      "[100]\tvalid_0's binary_logloss: 0.586733\n",
      "[200]\tvalid_0's binary_logloss: 0.578531\n",
      "[300]\tvalid_0's binary_logloss: 0.572469\n",
      "[400]\tvalid_0's binary_logloss: 0.567673\n",
      "[500]\tvalid_0's binary_logloss: 0.562649\n",
      "[600]\tvalid_0's binary_logloss: 0.558864\n",
      "[700]\tvalid_0's binary_logloss: 0.556945\n",
      "[800]\tvalid_0's binary_logloss: 0.553692\n",
      "[900]\tvalid_0's binary_logloss: 0.552532\n",
      "[1000]\tvalid_0's binary_logloss: 0.548963\n",
      "[1100]\tvalid_0's binary_logloss: 0.546901\n",
      "[1200]\tvalid_0's binary_logloss: 0.54426\n",
      "[1300]\tvalid_0's binary_logloss: 0.542722\n",
      "[1400]\tvalid_0's binary_logloss: 0.541799\n",
      "[1500]\tvalid_0's binary_logloss: 0.540224\n",
      "[1600]\tvalid_0's binary_logloss: 0.538271\n",
      "[1700]\tvalid_0's binary_logloss: 0.536872\n",
      "[1800]\tvalid_0's binary_logloss: 0.534783\n",
      "[1900]\tvalid_0's binary_logloss: 0.53317\n",
      "[2000]\tvalid_0's binary_logloss: 0.532238\n",
      "[2100]\tvalid_0's binary_logloss: 0.529863\n",
      "[2200]\tvalid_0's binary_logloss: 0.52852\n",
      "[2300]\tvalid_0's binary_logloss: 0.527487\n",
      "[2400]\tvalid_0's binary_logloss: 0.52668\n",
      "[2500]\tvalid_0's binary_logloss: 0.526185\n",
      "[2600]\tvalid_0's binary_logloss: 0.524875\n",
      "[2700]\tvalid_0's binary_logloss: 0.523528\n",
      "[2800]\tvalid_0's binary_logloss: 0.522559\n",
      "[2900]\tvalid_0's binary_logloss: 0.521369\n",
      "[3000]\tvalid_0's binary_logloss: 0.520761\n",
      "[3100]\tvalid_0's binary_logloss: 0.519908\n",
      "[3200]\tvalid_0's binary_logloss: 0.519353\n",
      "VALID AUC : 0.8200030036702382 ACC : 0.7416413373860182\n",
      "\n",
      "writing prediction : output/LGBM_Baseline_문제푼시간_추가_1800_fillna0_user_test.csv\n"
     ]
    }
   ],
   "source": [
    "# 사용할 Feature 설정\n",
    "FEATS = ['KnowledgeTag',\n",
    "         'user_correct_answer',\n",
    "         'user_total_answer',\n",
    "         'big_category',\n",
    "         'mid_category',\n",
    "         'problem_num',\n",
    "         'month','day','dayname','hour',\n",
    "         'user_acc',\n",
    "         'test_mean',\n",
    "         'test_sum',\n",
    "         'test_std',\n",
    "         'tag_std',\n",
    "         'tag_mean',\n",
    "         'tag_sum',\n",
    "         'solvesec_1800'\n",
    "        ]\n",
    "\n",
    "lgb_x_train = lgb.Dataset(x_train[FEATS], y_train)\n",
    "lgb_x_valid = lgb.Dataset(x_valid[FEATS], y_valid)\n",
    "\n",
    "model8 = lgb.train(\n",
    "    params, \n",
    "    lgb_x_train,\n",
    "    valid_sets=[lgb_x_valid],\n",
    "    verbose_eval=100,\n",
    "    num_boost_round=3200,\n",
    "#     early_stopping_rounds=200,\n",
    ")\n",
    "\n",
    "preds = model8.predict(x_valid[FEATS])\n",
    "acc = accuracy_score(y_valid, np.where(preds >= 0.5, 1, 0))\n",
    "auc = roc_auc_score(y_valid, preds)\n",
    "\n",
    "print(f'VALID AUC : {auc} ACC : {acc}\\n')\n",
    "\n",
    "# post_slack(\"done\")\n",
    "\n",
    "lgbm_predict(test, model8, FEATS, 'LGBM_Baseline_문제푼시간_추가_1800_fillna0_user_test.csv')"
   ]
  },
  {
   "cell_type": "markdown",
   "id": "19de6772",
   "metadata": {},
   "source": [
    "## 문제푼 시간 1200초 이상 모두 1200초 (Fillna 0)"
   ]
  },
  {
   "cell_type": "code",
   "execution_count": 29,
   "id": "d7207780",
   "metadata": {
    "ExecuteTime": {
     "end_time": "2022-11-29T01:37:59.744615Z",
     "start_time": "2022-11-29T01:37:59.505467Z"
    }
   },
   "outputs": [],
   "source": [
    "x_train.solvesec_1200 = x_train.solvesec_1200.fillna(0)"
   ]
  },
  {
   "cell_type": "code",
   "execution_count": 30,
   "id": "dd0a7304",
   "metadata": {
    "ExecuteTime": {
     "end_time": "2022-11-29T01:42:54.649141Z",
     "start_time": "2022-11-29T01:37:59.749798Z"
    },
    "scrolled": true
   },
   "outputs": [
    {
     "name": "stdout",
     "output_type": "stream",
     "text": [
      "[LightGBM] [Info] Number of positive: 1653588, number of negative: 872368\n",
      "[LightGBM] [Warning] Auto-choosing row-wise multi-threading, the overhead of testing was 0.055768 seconds.\n",
      "You can set `force_row_wise=true` to remove the overhead.\n",
      "And if memory is not enough, you can set `force_col_wise=true`.\n",
      "[LightGBM] [Info] Total Bins 3095\n",
      "[LightGBM] [Info] Number of data points in the train set: 2525956, number of used features: 18\n",
      "[LightGBM] [Info] [binary:BoostFromScore]: pavg=0.654638 -> initscore=0.639491\n",
      "[LightGBM] [Info] Start training from score 0.639491\n",
      "[100]\tvalid_0's binary_logloss: 0.586733\n",
      "[200]\tvalid_0's binary_logloss: 0.578855\n",
      "[300]\tvalid_0's binary_logloss: 0.573703\n",
      "[400]\tvalid_0's binary_logloss: 0.568943\n",
      "[500]\tvalid_0's binary_logloss: 0.564133\n",
      "[600]\tvalid_0's binary_logloss: 0.556624\n",
      "[700]\tvalid_0's binary_logloss: 0.553693\n",
      "[800]\tvalid_0's binary_logloss: 0.552816\n",
      "[900]\tvalid_0's binary_logloss: 0.549696\n",
      "[1000]\tvalid_0's binary_logloss: 0.547725\n",
      "[1100]\tvalid_0's binary_logloss: 0.545527\n",
      "[1200]\tvalid_0's binary_logloss: 0.544299\n",
      "[1300]\tvalid_0's binary_logloss: 0.54302\n",
      "[1400]\tvalid_0's binary_logloss: 0.541737\n",
      "[1500]\tvalid_0's binary_logloss: 0.539547\n",
      "[1600]\tvalid_0's binary_logloss: 0.537538\n",
      "[1700]\tvalid_0's binary_logloss: 0.536038\n",
      "[1800]\tvalid_0's binary_logloss: 0.535249\n",
      "[1900]\tvalid_0's binary_logloss: 0.534002\n",
      "[2000]\tvalid_0's binary_logloss: 0.532884\n",
      "[2100]\tvalid_0's binary_logloss: 0.530964\n",
      "[2200]\tvalid_0's binary_logloss: 0.530081\n",
      "[2300]\tvalid_0's binary_logloss: 0.528717\n",
      "[2400]\tvalid_0's binary_logloss: 0.527371\n",
      "[2500]\tvalid_0's binary_logloss: 0.526338\n",
      "[2600]\tvalid_0's binary_logloss: 0.525111\n",
      "[2700]\tvalid_0's binary_logloss: 0.523675\n",
      "[2800]\tvalid_0's binary_logloss: 0.522649\n",
      "[2900]\tvalid_0's binary_logloss: 0.521544\n",
      "[3000]\tvalid_0's binary_logloss: 0.520661\n",
      "[3100]\tvalid_0's binary_logloss: 0.519945\n",
      "[3200]\tvalid_0's binary_logloss: 0.518481\n",
      "VALID AUC : 0.8205163021116214 ACC : 0.7380952380952381\n",
      "\n",
      "writing prediction : output/LGBM_Baseline_문제푼시간_추가_1200_fillna0_user_test.csv\n"
     ]
    }
   ],
   "source": [
    "# 사용할 Feature 설정\n",
    "FEATS = ['KnowledgeTag',\n",
    "         'user_correct_answer',\n",
    "         'user_total_answer',\n",
    "         'big_category',\n",
    "         'mid_category',\n",
    "         'problem_num',\n",
    "         'month','day','dayname','hour',\n",
    "         'user_acc',\n",
    "         'test_mean',\n",
    "         'test_sum',\n",
    "         'test_std',\n",
    "         'tag_std',\n",
    "         'tag_mean',\n",
    "         'tag_sum',\n",
    "         'solvesec_1200'\n",
    "        ]\n",
    "\n",
    "lgb_x_train = lgb.Dataset(x_train[FEATS], y_train)\n",
    "lgb_x_valid = lgb.Dataset(x_valid[FEATS], y_valid)\n",
    "\n",
    "model9 = lgb.train(\n",
    "    params, \n",
    "    lgb_x_train,\n",
    "    valid_sets=[lgb_x_valid],\n",
    "    verbose_eval=100,\n",
    "    num_boost_round=3200,\n",
    "#     early_stopping_rounds=200,\n",
    ")\n",
    "\n",
    "preds = model9.predict(x_valid[FEATS])\n",
    "acc = accuracy_score(y_valid, np.where(preds >= 0.5, 1, 0))\n",
    "auc = roc_auc_score(y_valid, preds)\n",
    "\n",
    "print(f'VALID AUC : {auc} ACC : {acc}\\n')\n",
    "\n",
    "# post_slack(\"done\")\n",
    "\n",
    "lgbm_predict(test, model9, FEATS, 'LGBM_Baseline_문제푼시간_추가_1200_fillna0_user_test.csv')"
   ]
  },
  {
   "cell_type": "markdown",
   "id": "88f7b65f",
   "metadata": {},
   "source": [
    "## 문제푼 시간 800초 이상 모두 800초 (Fillna 0)"
   ]
  },
  {
   "cell_type": "code",
   "execution_count": 31,
   "id": "5af24edd",
   "metadata": {
    "ExecuteTime": {
     "end_time": "2022-11-29T01:42:54.896776Z",
     "start_time": "2022-11-29T01:42:54.654322Z"
    }
   },
   "outputs": [],
   "source": [
    "x_train.solvesec_800 = x_train.solvesec_800.fillna(0)"
   ]
  },
  {
   "cell_type": "code",
   "execution_count": 32,
   "id": "95cbbed1",
   "metadata": {
    "ExecuteTime": {
     "end_time": "2022-11-29T01:46:55.828164Z",
     "start_time": "2022-11-29T01:42:54.902346Z"
    },
    "scrolled": true
   },
   "outputs": [
    {
     "name": "stdout",
     "output_type": "stream",
     "text": [
      "[LightGBM] [Info] Number of positive: 1653588, number of negative: 872368\n",
      "[LightGBM] [Warning] Auto-choosing row-wise multi-threading, the overhead of testing was 0.051280 seconds.\n",
      "You can set `force_row_wise=true` to remove the overhead.\n",
      "And if memory is not enough, you can set `force_col_wise=true`.\n",
      "[LightGBM] [Info] Total Bins 3095\n",
      "[LightGBM] [Info] Number of data points in the train set: 2525956, number of used features: 18\n",
      "[LightGBM] [Info] [binary:BoostFromScore]: pavg=0.654638 -> initscore=0.639491\n",
      "[LightGBM] [Info] Start training from score 0.639491\n",
      "[100]\tvalid_0's binary_logloss: 0.585567\n",
      "[200]\tvalid_0's binary_logloss: 0.577478\n",
      "[300]\tvalid_0's binary_logloss: 0.571909\n",
      "[400]\tvalid_0's binary_logloss: 0.566423\n",
      "[500]\tvalid_0's binary_logloss: 0.561582\n",
      "[600]\tvalid_0's binary_logloss: 0.557073\n",
      "[700]\tvalid_0's binary_logloss: 0.554236\n",
      "[800]\tvalid_0's binary_logloss: 0.552168\n",
      "[900]\tvalid_0's binary_logloss: 0.549849\n",
      "[1000]\tvalid_0's binary_logloss: 0.547453\n",
      "[1100]\tvalid_0's binary_logloss: 0.544742\n",
      "[1200]\tvalid_0's binary_logloss: 0.543544\n",
      "[1300]\tvalid_0's binary_logloss: 0.542235\n",
      "[1400]\tvalid_0's binary_logloss: 0.540219\n",
      "[1500]\tvalid_0's binary_logloss: 0.538515\n",
      "[1600]\tvalid_0's binary_logloss: 0.537631\n",
      "[1700]\tvalid_0's binary_logloss: 0.53624\n",
      "[1800]\tvalid_0's binary_logloss: 0.535299\n",
      "[1900]\tvalid_0's binary_logloss: 0.533065\n",
      "[2000]\tvalid_0's binary_logloss: 0.531818\n",
      "[2100]\tvalid_0's binary_logloss: 0.531052\n",
      "[2200]\tvalid_0's binary_logloss: 0.529785\n",
      "[2300]\tvalid_0's binary_logloss: 0.528947\n",
      "[2400]\tvalid_0's binary_logloss: 0.528323\n",
      "[2500]\tvalid_0's binary_logloss: 0.527325\n",
      "[2600]\tvalid_0's binary_logloss: 0.526264\n",
      "[2700]\tvalid_0's binary_logloss: 0.525301\n",
      "[2800]\tvalid_0's binary_logloss: 0.524445\n",
      "[2900]\tvalid_0's binary_logloss: 0.523296\n",
      "[3000]\tvalid_0's binary_logloss: 0.522388\n",
      "[3100]\tvalid_0's binary_logloss: 0.521535\n",
      "[3200]\tvalid_0's binary_logloss: 0.520501\n",
      "VALID AUC : 0.8188972004147533 ACC : 0.7370820668693009\n",
      "\n",
      "writing prediction : output/LGBM_Baseline_문제푼시간_추가_800_fillna0_user_test.csv\n"
     ]
    }
   ],
   "source": [
    "# 사용할 Feature 설정\n",
    "FEATS = ['KnowledgeTag',\n",
    "         'user_correct_answer',\n",
    "         'user_total_answer',\n",
    "         'big_category',\n",
    "         'mid_category',\n",
    "         'problem_num',\n",
    "         'month','day','dayname','hour',\n",
    "         'user_acc',\n",
    "         'test_mean',\n",
    "         'test_sum',\n",
    "         'test_std',\n",
    "         'tag_std',\n",
    "         'tag_mean',\n",
    "         'tag_sum',\n",
    "         'solvesec_800'\n",
    "        ]\n",
    "\n",
    "lgb_x_train = lgb.Dataset(x_train[FEATS], y_train)\n",
    "lgb_x_valid = lgb.Dataset(x_valid[FEATS], y_valid)\n",
    "\n",
    "model10 = lgb.train(\n",
    "    params, \n",
    "    lgb_x_train,\n",
    "    valid_sets=[lgb_x_valid],\n",
    "    verbose_eval=100,\n",
    "    num_boost_round=3200,\n",
    "#     early_stopping_rounds=200,\n",
    ")\n",
    "\n",
    "preds = model10.predict(x_valid[FEATS])\n",
    "acc = accuracy_score(y_valid, np.where(preds >= 0.5, 1, 0))\n",
    "auc = roc_auc_score(y_valid, preds)\n",
    "\n",
    "print(f'VALID AUC : {auc} ACC : {acc}\\n')\n",
    "\n",
    "# post_slack(\"done\")\n",
    "\n",
    "lgbm_predict(test, model10, FEATS, 'LGBM_Baseline_문제푼시간_추가_800_fillna0_user_test.csv')"
   ]
  },
  {
   "cell_type": "markdown",
   "id": "386fa2c1",
   "metadata": {},
   "source": [
    "## 문제푼 시간 600초 이상 모두 600초 (Fillna 0)"
   ]
  },
  {
   "cell_type": "code",
   "execution_count": 33,
   "id": "d464f77c",
   "metadata": {
    "ExecuteTime": {
     "end_time": "2022-11-29T01:46:56.091205Z",
     "start_time": "2022-11-29T01:46:55.832419Z"
    }
   },
   "outputs": [],
   "source": [
    "x_train.solvesec_600 = x_train.solvesec_600.fillna(0)"
   ]
  },
  {
   "cell_type": "code",
   "execution_count": 34,
   "id": "2386c39a",
   "metadata": {
    "ExecuteTime": {
     "end_time": "2022-11-29T01:51:47.582218Z",
     "start_time": "2022-11-29T01:46:56.096564Z"
    },
    "scrolled": true
   },
   "outputs": [
    {
     "name": "stdout",
     "output_type": "stream",
     "text": [
      "[LightGBM] [Info] Number of positive: 1653588, number of negative: 872368\n",
      "[LightGBM] [Warning] Auto-choosing row-wise multi-threading, the overhead of testing was 0.059873 seconds.\n",
      "You can set `force_row_wise=true` to remove the overhead.\n",
      "And if memory is not enough, you can set `force_col_wise=true`.\n",
      "[LightGBM] [Info] Total Bins 3095\n",
      "[LightGBM] [Info] Number of data points in the train set: 2525956, number of used features: 18\n",
      "[LightGBM] [Info] [binary:BoostFromScore]: pavg=0.654638 -> initscore=0.639491\n",
      "[LightGBM] [Info] Start training from score 0.639491\n",
      "[100]\tvalid_0's binary_logloss: 0.585035\n",
      "[200]\tvalid_0's binary_logloss: 0.577606\n",
      "[300]\tvalid_0's binary_logloss: 0.573044\n",
      "[400]\tvalid_0's binary_logloss: 0.567491\n",
      "[500]\tvalid_0's binary_logloss: 0.563481\n",
      "[600]\tvalid_0's binary_logloss: 0.559263\n",
      "[700]\tvalid_0's binary_logloss: 0.557925\n",
      "[800]\tvalid_0's binary_logloss: 0.555063\n",
      "[900]\tvalid_0's binary_logloss: 0.55208\n",
      "[1000]\tvalid_0's binary_logloss: 0.549163\n",
      "[1100]\tvalid_0's binary_logloss: 0.546625\n",
      "[1200]\tvalid_0's binary_logloss: 0.545241\n",
      "[1300]\tvalid_0's binary_logloss: 0.543615\n",
      "[1400]\tvalid_0's binary_logloss: 0.542554\n",
      "[1500]\tvalid_0's binary_logloss: 0.541917\n",
      "[1600]\tvalid_0's binary_logloss: 0.539971\n",
      "[1700]\tvalid_0's binary_logloss: 0.538415\n",
      "[1800]\tvalid_0's binary_logloss: 0.537207\n",
      "[1900]\tvalid_0's binary_logloss: 0.53584\n",
      "[2000]\tvalid_0's binary_logloss: 0.534474\n",
      "[2100]\tvalid_0's binary_logloss: 0.533311\n",
      "[2200]\tvalid_0's binary_logloss: 0.53238\n",
      "[2300]\tvalid_0's binary_logloss: 0.5315\n",
      "[2400]\tvalid_0's binary_logloss: 0.529983\n",
      "[2500]\tvalid_0's binary_logloss: 0.528945\n",
      "[2600]\tvalid_0's binary_logloss: 0.527123\n",
      "[2700]\tvalid_0's binary_logloss: 0.525519\n",
      "[2800]\tvalid_0's binary_logloss: 0.524615\n",
      "[2900]\tvalid_0's binary_logloss: 0.523149\n",
      "[3000]\tvalid_0's binary_logloss: 0.522051\n",
      "[3100]\tvalid_0's binary_logloss: 0.52114\n",
      "[3200]\tvalid_0's binary_logloss: 0.52048\n",
      "VALID AUC : 0.8184466498790303 ACC : 0.7380952380952381\n",
      "\n",
      "writing prediction : output/LGBM_Baseline_문제푼시간_추가_600_fillna0_user_test.csv\n"
     ]
    }
   ],
   "source": [
    "# 사용할 Feature 설정\n",
    "FEATS = ['KnowledgeTag',\n",
    "         'user_correct_answer',\n",
    "         'user_total_answer',\n",
    "         'big_category',\n",
    "         'mid_category',\n",
    "         'problem_num',\n",
    "         'month','day','dayname','hour',\n",
    "         'user_acc',\n",
    "         'test_mean',\n",
    "         'test_sum',\n",
    "         'test_std',\n",
    "         'tag_std',\n",
    "         'tag_mean',\n",
    "         'tag_sum',\n",
    "         'solvesec_600'\n",
    "        ]\n",
    "\n",
    "lgb_x_train = lgb.Dataset(x_train[FEATS], y_train)\n",
    "lgb_x_valid = lgb.Dataset(x_valid[FEATS], y_valid)\n",
    "\n",
    "model11 = lgb.train(\n",
    "    params, \n",
    "    lgb_x_train,\n",
    "    valid_sets=[lgb_x_valid],\n",
    "    verbose_eval=100,\n",
    "    num_boost_round=3200,\n",
    "#     early_stopping_rounds=200,\n",
    ")\n",
    "\n",
    "preds = model11.predict(x_valid[FEATS])\n",
    "acc = accuracy_score(y_valid, np.where(preds >= 0.5, 1, 0))\n",
    "auc = roc_auc_score(y_valid, preds)\n",
    "\n",
    "print(f'VALID AUC : {auc} ACC : {acc}\\n')\n",
    "\n",
    "post_slack(\"done\")\n",
    "\n",
    "lgbm_predict(test, model11, FEATS, 'LGBM_Baseline_문제푼시간_추가_600_fillna0_user_test.csv')"
   ]
  },
  {
   "cell_type": "code",
   "execution_count": null,
   "id": "9b66c34e",
   "metadata": {},
   "outputs": [],
   "source": []
  },
  {
   "cell_type": "markdown",
   "id": "eb420c1b",
   "metadata": {},
   "source": [
    "## 문제푼 시간 카테고리 변수도 추가 (기존)"
   ]
  },
  {
   "cell_type": "code",
   "execution_count": 16,
   "id": "aa64f83a",
   "metadata": {
    "ExecuteTime": {
     "end_time": "2022-11-25T07:16:30.251217Z",
     "start_time": "2022-11-25T07:16:30.248040Z"
    }
   },
   "outputs": [],
   "source": [
    "# 사용할 Feature 설정\n",
    "FEATS = ['KnowledgeTag',\n",
    "         'user_correct_answer',\n",
    "         'user_total_answer',\n",
    "         'big_category',\n",
    "         'mid_category',\n",
    "         'problem_num',\n",
    "         'month','day','dayname','hour',\n",
    "         'user_acc',\n",
    "         'test_mean',\n",
    "         'test_sum',\n",
    "         'test_std',\n",
    "         'tag_std',\n",
    "         'tag_mean',\n",
    "         'tag_sum',\n",
    "         'solvesec',\n",
    "         'time_category'\n",
    "        ]"
   ]
  },
  {
   "cell_type": "code",
   "execution_count": 17,
   "id": "4bd56209",
   "metadata": {
    "ExecuteTime": {
     "end_time": "2022-11-25T07:20:37.173608Z",
     "start_time": "2022-11-25T07:16:35.375550Z"
    }
   },
   "outputs": [
    {
     "name": "stdout",
     "output_type": "stream",
     "text": [
      "[LightGBM] [Info] Number of positive: 1653588, number of negative: 872368\n",
      "[LightGBM] [Warning] Auto-choosing row-wise multi-threading, the overhead of testing was 0.052055 seconds.\n",
      "You can set `force_row_wise=true` to remove the overhead.\n",
      "And if memory is not enough, you can set `force_col_wise=true`.\n",
      "[LightGBM] [Info] Total Bins 3105\n",
      "[LightGBM] [Info] Number of data points in the train set: 2525956, number of used features: 19\n",
      "[LightGBM] [Info] [binary:BoostFromScore]: pavg=0.654638 -> initscore=0.639491\n",
      "[LightGBM] [Info] Start training from score 0.639491\n",
      "[100]\tvalid_0's binary_logloss: 0.560899\n",
      "[200]\tvalid_0's binary_logloss: 0.552517\n",
      "[300]\tvalid_0's binary_logloss: 0.547221\n",
      "[400]\tvalid_0's binary_logloss: 0.540192\n",
      "[500]\tvalid_0's binary_logloss: 0.535174\n",
      "[600]\tvalid_0's binary_logloss: 0.531541\n",
      "[700]\tvalid_0's binary_logloss: 0.527031\n",
      "[800]\tvalid_0's binary_logloss: 0.523995\n",
      "[900]\tvalid_0's binary_logloss: 0.522249\n",
      "[1000]\tvalid_0's binary_logloss: 0.519503\n",
      "[1100]\tvalid_0's binary_logloss: 0.517507\n",
      "[1200]\tvalid_0's binary_logloss: 0.515138\n",
      "[1300]\tvalid_0's binary_logloss: 0.513333\n",
      "[1400]\tvalid_0's binary_logloss: 0.512368\n",
      "[1500]\tvalid_0's binary_logloss: 0.51115\n",
      "[1600]\tvalid_0's binary_logloss: 0.508772\n",
      "[1700]\tvalid_0's binary_logloss: 0.506849\n",
      "[1800]\tvalid_0's binary_logloss: 0.505565\n",
      "[1900]\tvalid_0's binary_logloss: 0.504702\n",
      "[2000]\tvalid_0's binary_logloss: 0.503444\n",
      "[2100]\tvalid_0's binary_logloss: 0.502423\n",
      "[2200]\tvalid_0's binary_logloss: 0.501213\n",
      "[2300]\tvalid_0's binary_logloss: 0.500003\n",
      "[2400]\tvalid_0's binary_logloss: 0.498803\n",
      "[2500]\tvalid_0's binary_logloss: 0.497972\n",
      "[2600]\tvalid_0's binary_logloss: 0.497296\n",
      "[2700]\tvalid_0's binary_logloss: 0.495479\n",
      "[2800]\tvalid_0's binary_logloss: 0.494779\n",
      "[2900]\tvalid_0's binary_logloss: 0.493667\n",
      "[3000]\tvalid_0's binary_logloss: 0.492022\n",
      "[3100]\tvalid_0's binary_logloss: 0.491094\n",
      "[3200]\tvalid_0's binary_logloss: 0.490305\n",
      "VALID AUC : 0.8475305221483802 ACC : 0.7694510739856802\n",
      "\n"
     ]
    }
   ],
   "source": [
    "lgb_x_train = lgb.Dataset(x_train[FEATS], y_train)\n",
    "lgb_x_valid = lgb.Dataset(x_valid[FEATS], y_valid)\n",
    "\n",
    "model5 = lgb.train(\n",
    "    params, \n",
    "    lgb_x_train,\n",
    "    valid_sets=[lgb_x_valid],\n",
    "    verbose_eval=100,\n",
    "    num_boost_round=3200,\n",
    "#     early_stopping_rounds=200,\n",
    ")\n",
    "\n",
    "preds = model5.predict(x_valid[FEATS])\n",
    "acc = accuracy_score(y_valid, np.where(preds >= 0.5, 1, 0))\n",
    "auc = roc_auc_score(y_valid, preds)\n",
    "\n",
    "print(f'VALID AUC : {auc} ACC : {acc}\\n')"
   ]
  },
  {
   "cell_type": "markdown",
   "id": "10146cba",
   "metadata": {},
   "source": [
    "### validation"
   ]
  },
  {
   "cell_type": "code",
   "execution_count": 171,
   "id": "adb2583a",
   "metadata": {
    "ExecuteTime": {
     "end_time": "2022-11-28T09:13:35.370330Z",
     "start_time": "2022-11-28T09:13:35.219638Z"
    }
   },
   "outputs": [
    {
     "name": "stdout",
     "output_type": "stream",
     "text": [
      "VALID AUC : 0.8215223259105646 ACC : 0.7406281661600811\n",
      "\n"
     ]
    }
   ],
   "source": [
    "# 사용할 Feature 설정\n",
    "FEATS = ['KnowledgeTag',\n",
    "         'user_correct_answer',\n",
    "         'user_total_answer',\n",
    "         'big_category',\n",
    "         'mid_category',\n",
    "         'problem_num',\n",
    "         'month','day','dayname','hour',\n",
    "         'user_acc',\n",
    "         'test_mean',\n",
    "         'test_sum',\n",
    "         'test_std',\n",
    "         'tag_std',\n",
    "         'tag_mean',\n",
    "         'tag_sum',\n",
    "         'solvesec_3600',\n",
    "         'time_category'\n",
    "        ]\n",
    "preds = model5.predict(x_valid[FEATS])\n",
    "acc = accuracy_score(y_valid, np.where(preds >= 0.5, 1, 0))\n",
    "auc = roc_auc_score(y_valid, preds)\n",
    "\n",
    "print(f'VALID AUC : {auc} ACC : {acc}\\n')"
   ]
  },
  {
   "cell_type": "code",
   "execution_count": 18,
   "id": "0916c61e",
   "metadata": {
    "ExecuteTime": {
     "end_time": "2022-11-25T07:20:37.640409Z",
     "start_time": "2022-11-25T07:20:37.184245Z"
    }
   },
   "outputs": [],
   "source": [
    "post_slack(\"done\")"
   ]
  },
  {
   "cell_type": "markdown",
   "id": "79ac0848",
   "metadata": {},
   "source": [
    "## 문제푼 시간 2400 초 이상, 카테고리 변수 추가"
   ]
  },
  {
   "cell_type": "code",
   "execution_count": 21,
   "id": "28d972d8",
   "metadata": {
    "ExecuteTime": {
     "end_time": "2022-11-28T16:54:22.853101Z",
     "start_time": "2022-11-28T16:50:17.629735Z"
    },
    "scrolled": true
   },
   "outputs": [
    {
     "name": "stdout",
     "output_type": "stream",
     "text": [
      "[LightGBM] [Info] Number of positive: 1653588, number of negative: 872368\n",
      "[LightGBM] [Warning] Auto-choosing row-wise multi-threading, the overhead of testing was 0.049040 seconds.\n",
      "You can set `force_row_wise=true` to remove the overhead.\n",
      "And if memory is not enough, you can set `force_col_wise=true`.\n",
      "[LightGBM] [Info] Total Bins 3105\n",
      "[LightGBM] [Info] Number of data points in the train set: 2525956, number of used features: 19\n",
      "[LightGBM] [Info] [binary:BoostFromScore]: pavg=0.654638 -> initscore=0.639491\n",
      "[LightGBM] [Info] Start training from score 0.639491\n",
      "[100]\tvalid_0's binary_logloss: 0.588256\n",
      "[200]\tvalid_0's binary_logloss: 0.581898\n",
      "[300]\tvalid_0's binary_logloss: 0.573774\n",
      "[400]\tvalid_0's binary_logloss: 0.568879\n",
      "[500]\tvalid_0's binary_logloss: 0.561\n",
      "[600]\tvalid_0's binary_logloss: 0.558781\n",
      "[700]\tvalid_0's binary_logloss: 0.554875\n",
      "[800]\tvalid_0's binary_logloss: 0.55249\n",
      "[900]\tvalid_0's binary_logloss: 0.550776\n",
      "[1000]\tvalid_0's binary_logloss: 0.549105\n",
      "[1100]\tvalid_0's binary_logloss: 0.546567\n",
      "[1200]\tvalid_0's binary_logloss: 0.545324\n",
      "[1300]\tvalid_0's binary_logloss: 0.543706\n",
      "[1400]\tvalid_0's binary_logloss: 0.542158\n",
      "[1500]\tvalid_0's binary_logloss: 0.5406\n",
      "[1600]\tvalid_0's binary_logloss: 0.539788\n",
      "[1700]\tvalid_0's binary_logloss: 0.538546\n",
      "[1800]\tvalid_0's binary_logloss: 0.537203\n",
      "[1900]\tvalid_0's binary_logloss: 0.535428\n",
      "[2000]\tvalid_0's binary_logloss: 0.533224\n",
      "[2100]\tvalid_0's binary_logloss: 0.532318\n",
      "[2200]\tvalid_0's binary_logloss: 0.531587\n",
      "[2300]\tvalid_0's binary_logloss: 0.530798\n",
      "[2400]\tvalid_0's binary_logloss: 0.529845\n",
      "[2500]\tvalid_0's binary_logloss: 0.528255\n",
      "[2600]\tvalid_0's binary_logloss: 0.526311\n",
      "[2700]\tvalid_0's binary_logloss: 0.524061\n",
      "[2800]\tvalid_0's binary_logloss: 0.522714\n",
      "[2900]\tvalid_0's binary_logloss: 0.521889\n",
      "[3000]\tvalid_0's binary_logloss: 0.520535\n",
      "[3100]\tvalid_0's binary_logloss: 0.519687\n",
      "[3200]\tvalid_0's binary_logloss: 0.518673\n",
      "VALID AUC : 0.8215418703401965 ACC : 0.7411347517730497\n",
      "\n",
      "writing prediction : output/LGBM_Baseline_문제푼시간_추가_2400_NaN채우지않음_timecategory추가.csv\n"
     ]
    }
   ],
   "source": [
    "# 사용할 Feature 설정\n",
    "FEATS = ['KnowledgeTag',\n",
    "         'user_correct_answer',\n",
    "         'user_total_answer',\n",
    "         'big_category',\n",
    "         'mid_category',\n",
    "         'problem_num',\n",
    "         'month','day','dayname','hour',\n",
    "         'user_acc',\n",
    "         'test_mean',\n",
    "         'test_sum',\n",
    "         'test_std',\n",
    "         'tag_std',\n",
    "         'tag_mean',\n",
    "         'tag_sum',\n",
    "         'solvesec_2400_2',\n",
    "         'time_category'\n",
    "        ]\n",
    "\n",
    "lgb_x_train = lgb.Dataset(x_train[FEATS], y_train)\n",
    "lgb_x_valid = lgb.Dataset(x_valid[FEATS], y_valid)\n",
    "\n",
    "model13 = lgb.train(\n",
    "    params, \n",
    "    lgb_x_train,\n",
    "    valid_sets=[lgb_x_valid],\n",
    "    verbose_eval=100,\n",
    "    num_boost_round=3200,\n",
    "#     early_stopping_rounds=200,\n",
    ")\n",
    "\n",
    "preds = model13.predict(x_valid[FEATS])\n",
    "acc = accuracy_score(y_valid, np.where(preds >= 0.5, 1, 0))\n",
    "auc = roc_auc_score(y_valid, preds)\n",
    "\n",
    "print(f'VALID AUC : {auc} ACC : {acc}\\n')\n",
    "\n",
    "post_slack(\"done\")\n",
    "\n",
    "lgbm_predict(test, model13, FEATS, 'LGBM_Baseline_문제푼시간_추가_2400_NaN채우지않음_timecategory추가.csv')\n",
    "# 제출 AUC: 0.7828 -> "
   ]
  },
  {
   "cell_type": "code",
   "execution_count": null,
   "id": "dfd39761",
   "metadata": {},
   "outputs": [],
   "source": []
  },
  {
   "cell_type": "code",
   "execution_count": null,
   "id": "1cabefe2",
   "metadata": {},
   "outputs": [],
   "source": []
  },
  {
   "cell_type": "code",
   "execution_count": null,
   "id": "2be6964b",
   "metadata": {},
   "outputs": [],
   "source": []
  },
  {
   "cell_type": "code",
   "execution_count": 52,
   "id": "4fc084b0",
   "metadata": {
    "ExecuteTime": {
     "end_time": "2022-11-27T12:58:47.221634Z",
     "start_time": "2022-11-27T12:58:47.133050Z"
    }
   },
   "outputs": [
    {
     "name": "stdout",
     "output_type": "stream",
     "text": [
      "writing prediction : output/LGBM_Baseline_문제푼시간_추가_최대3600으로_time_category추가.csv\n"
     ]
    }
   ],
   "source": [
    "lgbm_predict(test, model5, FEATS, 'LGBM_Baseline_문제푼시간_추가_최대3600으로_time_category추가.csv')"
   ]
  }
 ],
 "metadata": {
  "kernelspec": {
   "display_name": "Python 3 (ipykernel)",
   "language": "python",
   "name": "python3"
  },
  "language_info": {
   "codemirror_mode": {
    "name": "ipython",
    "version": 3
   },
   "file_extension": ".py",
   "mimetype": "text/x-python",
   "name": "python",
   "nbconvert_exporter": "python",
   "pygments_lexer": "ipython3",
   "version": "3.9.15"
  },
  "toc": {
   "base_numbering": 1,
   "nav_menu": {},
   "number_sections": true,
   "sideBar": true,
   "skip_h1_title": true,
   "title_cell": "Table of Contents",
   "title_sidebar": "Contents",
   "toc_cell": false,
   "toc_position": {
    "height": "calc(100% - 180px)",
    "left": "10px",
    "top": "150px",
    "width": "383.963px"
   },
   "toc_section_display": true,
   "toc_window_display": true
  }
 },
 "nbformat": 4,
 "nbformat_minor": 5
}
