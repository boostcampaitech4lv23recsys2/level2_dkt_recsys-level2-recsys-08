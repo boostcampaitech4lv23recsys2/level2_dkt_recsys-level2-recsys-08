{
 "cells": [
  {
   "cell_type": "markdown",
   "id": "1a73ded2",
   "metadata": {},
   "source": [
    "## dataload"
   ]
  },
  {
   "cell_type": "code",
   "execution_count": 17,
   "id": "464cf792",
   "metadata": {
    "ExecuteTime": {
     "end_time": "2022-11-30T17:03:54.307132Z",
     "start_time": "2022-11-30T17:03:50.781180Z"
    }
   },
   "outputs": [
    {
     "data": {
      "text/plain": [
       "((1845539, 40), (1974, 40), (260114, 40))"
      ]
     },
     "execution_count": 17,
     "metadata": {},
     "output_type": "execute_result"
    },
    {
     "data": {
      "text/plain": [
       "((1845539, 39), (1845539, 1), (1974, 39), (1974, 1))"
      ]
     },
     "execution_count": 17,
     "metadata": {},
     "output_type": "execute_result"
    }
   ],
   "source": [
    "import mlflow\n",
    "import mlflow.lightgbm\n",
    "from datetime import datetime\n",
    "from IPython.core.interactiveshell import InteractiveShell\n",
    "InteractiveShell.ast_node_interactivity = 'all'\n",
    "import pandas as pd\n",
    "import os\n",
    "import random\n",
    "import warnings\n",
    "warnings.filterwarnings('ignore')\n",
    "import lightgbm as lgb\n",
    "from sklearn.metrics import roc_auc_score\n",
    "from sklearn.metrics import accuracy_score\n",
    "import numpy as np\n",
    "from utils import custom_train_test_split, lgbm_predict, post_slack, title2filename\n",
    "\n",
    "SEED=13\n",
    "## 1. 데이터 로딩\n",
    "data_dir = '/opt/ml/input/data' # 경로\n",
    "after_fe_path = os.path.join(data_dir, 'after_fe_train_test_bigcategory_fe.pkl')\n",
    "df = pd.read_pickle(after_fe_path)\n",
    "\n",
    "train_df = df[df.kind=='train']\n",
    "train, valid = custom_train_test_split(train_df, ratio=0.7, seed=SEED) # 훈련데이터 split\n",
    "test = df[df.kind=='test'] # 테스트 데이터\n",
    "train2 = test[test.answerCode!=-1] # 테스트데이터 마지막 제출 2번쨰꺼까지 훈련데이터로 사용\n",
    "train = pd.concat([train,train2]) # 훈련데이터 병합\n",
    "train.shape, valid.shape, test.shape\n",
    "\n",
    "x_train = train.drop('answerCode',axis=1)\n",
    "y_train = train[['answerCode']]\n",
    "\n",
    "x_valid = valid.drop('answerCode',axis=1)\n",
    "y_valid = valid[['answerCode']]\n",
    "x_train.shape, y_train.shape, x_valid.shape, y_valid.shape"
   ]
  },
  {
   "cell_type": "code",
   "execution_count": 2,
   "id": "2bc2dbad",
   "metadata": {
    "ExecuteTime": {
     "end_time": "2022-11-30T14:53:32.561592Z",
     "start_time": "2022-11-30T14:53:32.541831Z"
    }
   },
   "outputs": [
    {
     "data": {
      "text/html": [
       "<div>\n",
       "<style scoped>\n",
       "    .dataframe tbody tr th:only-of-type {\n",
       "        vertical-align: middle;\n",
       "    }\n",
       "\n",
       "    .dataframe tbody tr th {\n",
       "        vertical-align: top;\n",
       "    }\n",
       "\n",
       "    .dataframe thead th {\n",
       "        text-align: right;\n",
       "    }\n",
       "</style>\n",
       "<table border=\"1\" class=\"dataframe\">\n",
       "  <thead>\n",
       "    <tr style=\"text-align: right;\">\n",
       "      <th></th>\n",
       "      <th>userID</th>\n",
       "      <th>assessmentItemID</th>\n",
       "      <th>testId</th>\n",
       "      <th>answerCode</th>\n",
       "      <th>Timestamp</th>\n",
       "      <th>KnowledgeTag</th>\n",
       "      <th>kind</th>\n",
       "      <th>uidIdx</th>\n",
       "      <th>assIdx</th>\n",
       "      <th>testIdx</th>\n",
       "      <th>...</th>\n",
       "      <th>Timestamp2</th>\n",
       "      <th>solvetime</th>\n",
       "      <th>solvesec</th>\n",
       "      <th>solvesec_3600</th>\n",
       "      <th>time_category</th>\n",
       "      <th>solvesec_cumsum</th>\n",
       "      <th>solvecumsum_category</th>\n",
       "      <th>big_category_acc</th>\n",
       "      <th>big_category_std</th>\n",
       "      <th>big_category_cumconut</th>\n",
       "    </tr>\n",
       "  </thead>\n",
       "  <tbody>\n",
       "    <tr>\n",
       "      <th>0</th>\n",
       "      <td>0</td>\n",
       "      <td>A060001001</td>\n",
       "      <td>A060000001</td>\n",
       "      <td>1</td>\n",
       "      <td>2020-03-24 00:17:11</td>\n",
       "      <td>7224</td>\n",
       "      <td>train</td>\n",
       "      <td>0</td>\n",
       "      <td>5354</td>\n",
       "      <td>975</td>\n",
       "      <td>...</td>\n",
       "      <td>2020-03-24 00:17:11</td>\n",
       "      <td>0 days 00:00:00</td>\n",
       "      <td>0.0</td>\n",
       "      <td>0.0</td>\n",
       "      <td>0</td>\n",
       "      <td>0.0</td>\n",
       "      <td>0</td>\n",
       "      <td>0.711898</td>\n",
       "      <td>0.453371</td>\n",
       "      <td>0</td>\n",
       "    </tr>\n",
       "    <tr>\n",
       "      <th>1</th>\n",
       "      <td>0</td>\n",
       "      <td>A060001002</td>\n",
       "      <td>A060000001</td>\n",
       "      <td>1</td>\n",
       "      <td>2020-03-24 00:17:14</td>\n",
       "      <td>7225</td>\n",
       "      <td>train</td>\n",
       "      <td>0</td>\n",
       "      <td>5355</td>\n",
       "      <td>975</td>\n",
       "      <td>...</td>\n",
       "      <td>2020-03-24 00:17:14</td>\n",
       "      <td>0 days 00:00:03</td>\n",
       "      <td>3.0</td>\n",
       "      <td>3.0</td>\n",
       "      <td>1</td>\n",
       "      <td>3.0</td>\n",
       "      <td>1</td>\n",
       "      <td>0.711898</td>\n",
       "      <td>0.453371</td>\n",
       "      <td>1</td>\n",
       "    </tr>\n",
       "    <tr>\n",
       "      <th>2</th>\n",
       "      <td>0</td>\n",
       "      <td>A060001003</td>\n",
       "      <td>A060000001</td>\n",
       "      <td>1</td>\n",
       "      <td>2020-03-24 00:17:22</td>\n",
       "      <td>7225</td>\n",
       "      <td>train</td>\n",
       "      <td>0</td>\n",
       "      <td>5356</td>\n",
       "      <td>975</td>\n",
       "      <td>...</td>\n",
       "      <td>2020-03-24 00:17:22</td>\n",
       "      <td>0 days 00:00:08</td>\n",
       "      <td>8.0</td>\n",
       "      <td>8.0</td>\n",
       "      <td>3</td>\n",
       "      <td>11.0</td>\n",
       "      <td>4</td>\n",
       "      <td>0.711898</td>\n",
       "      <td>0.453371</td>\n",
       "      <td>2</td>\n",
       "    </tr>\n",
       "  </tbody>\n",
       "</table>\n",
       "<p>3 rows × 36 columns</p>\n",
       "</div>"
      ],
      "text/plain": [
       "   userID assessmentItemID      testId  answerCode            Timestamp  \\\n",
       "0       0       A060001001  A060000001           1  2020-03-24 00:17:11   \n",
       "1       0       A060001002  A060000001           1  2020-03-24 00:17:14   \n",
       "2       0       A060001003  A060000001           1  2020-03-24 00:17:22   \n",
       "\n",
       "   KnowledgeTag   kind  uidIdx  assIdx  testIdx  ...          Timestamp2  \\\n",
       "0          7224  train       0    5354      975  ... 2020-03-24 00:17:11   \n",
       "1          7225  train       0    5355      975  ... 2020-03-24 00:17:14   \n",
       "2          7225  train       0    5356      975  ... 2020-03-24 00:17:22   \n",
       "\n",
       "        solvetime  solvesec  solvesec_3600  time_category  solvesec_cumsum  \\\n",
       "0 0 days 00:00:00       0.0            0.0              0              0.0   \n",
       "1 0 days 00:00:03       3.0            3.0              1              3.0   \n",
       "2 0 days 00:00:08       8.0            8.0              3             11.0   \n",
       "\n",
       "   solvecumsum_category  big_category_acc  big_category_std  \\\n",
       "0                     0          0.711898          0.453371   \n",
       "1                     1          0.711898          0.453371   \n",
       "2                     4          0.711898          0.453371   \n",
       "\n",
       "   big_category_cumconut  \n",
       "0                      0  \n",
       "1                      1  \n",
       "2                      2  \n",
       "\n",
       "[3 rows x 36 columns]"
      ]
     },
     "execution_count": 2,
     "metadata": {},
     "output_type": "execute_result"
    }
   ],
   "source": [
    "df[:3]"
   ]
  },
  {
   "cell_type": "markdown",
   "id": "5cc103e3",
   "metadata": {},
   "source": [
    "## Hyper Parameter 설정"
   ]
  },
  {
   "cell_type": "code",
   "execution_count": 3,
   "id": "a5bb8a1a",
   "metadata": {
    "ExecuteTime": {
     "end_time": "2022-11-30T14:53:32.566201Z",
     "start_time": "2022-11-30T14:53:32.563223Z"
    }
   },
   "outputs": [],
   "source": [
    "# Hyper parameter 설정\n",
    "params = {\n",
    "#     \"max_depth\": 8,  # 8,\n",
    "#     \"min_data_in_leaf\": 1000,\n",
    "    # \"feature_fraction\": 0.6,  # 0.8,\n",
    "#     \"bagging_fraction\": 0.75,\n",
    "    # \"max_cat_group\": 64,\n",
    "    \"objective\": \"binary\",\n",
    "#     \"boosting\": \"gbdt\",  # dart\n",
    "#     \"learning_rate\": 0.01,  # 0.01,\n",
    "    # \"bagging_freq\": 5,\n",
    "    \"seed\": 42,\n",
    "    # \"max_bin\": 50,\n",
    "#     \"num_leaves\": 80,  # 40,\n",
    "#     \"metric\": \"auc\",\n",
    "}"
   ]
  },
  {
   "cell_type": "markdown",
   "id": "f1db3fb0",
   "metadata": {},
   "source": [
    "##  big_category 정답률, std, cumcount 추가"
   ]
  },
  {
   "cell_type": "code",
   "execution_count": 4,
   "id": "4bd02189",
   "metadata": {
    "ExecuteTime": {
     "end_time": "2022-11-30T14:54:29.315238Z",
     "start_time": "2022-11-30T14:54:29.310652Z"
    }
   },
   "outputs": [
    {
     "data": {
      "text/plain": [
       "Index(['userID', 'assessmentItemID', 'testId', 'Timestamp', 'KnowledgeTag',\n",
       "       'kind', 'uidIdx', 'assIdx', 'testIdx', 'user_correct_answer',\n",
       "       'user_total_answer', 'user_acc', 'month', 'day', 'hour', 'dayname',\n",
       "       'big_category', 'problem_num', 'mid_category', 'test_mean', 'test_std',\n",
       "       'test_sum', 'tag_mean', 'tag_std', 'tag_sum', 'Timestamp2', 'solvetime',\n",
       "       'solvesec', 'solvesec_3600', 'time_category', 'solvesec_cumsum',\n",
       "       'solvecumsum_category', 'big_category_acc', 'big_category_std',\n",
       "       'big_category_cumconut'],\n",
       "      dtype='object')"
      ]
     },
     "execution_count": 4,
     "metadata": {},
     "output_type": "execute_result"
    }
   ],
   "source": [
    "x_train.columns"
   ]
  },
  {
   "cell_type": "code",
   "execution_count": 5,
   "id": "e56da31f",
   "metadata": {
    "ExecuteTime": {
     "end_time": "2022-11-30T14:57:53.533761Z",
     "start_time": "2022-11-30T14:55:17.088468Z"
    }
   },
   "outputs": [
    {
     "data": {
      "text/plain": [
       "([0, 1, 2, 3, 6, 7, 8, 9, 11, 21, 23],\n",
       " '🌈(11/30 Wed)[LGBM big_category 정답률, std, cumcount 추가] 피처: 27개',\n",
       " '사용된 피처(27)\\nuidIdx, assIdx, testIdx, KnowledgeTag, user_correct_answer, user_total_answer, big_category, mid_category, problem_num, month, day, dayname, hour, user_acc, test_mean, test_sum, test_std, tag_std, tag_mean, tag_sum, solvesec_3600, time_category, solvesec_cumsum, solvecumsum_category, big_category_acc, big_category_std, big_category_cumconut')"
      ]
     },
     "execution_count": 5,
     "metadata": {},
     "output_type": "execute_result"
    },
    {
     "name": "stdout",
     "output_type": "stream",
     "text": [
      "[LightGBM] [Info] Number of positive: 1208276, number of negative: 637263\n",
      "[LightGBM] [Warning] Auto-choosing row-wise multi-threading, the overhead of testing was 0.030320 seconds.\n",
      "You can set `force_row_wise=true` to remove the overhead.\n",
      "And if memory is not enough, you can set `force_col_wise=true`.\n",
      "[LightGBM] [Info] Total Bins 19316\n",
      "[LightGBM] [Info] Number of data points in the train set: 1845539, number of used features: 27\n",
      "[LightGBM] [Info] [binary:BoostFromScore]: pavg=0.654701 -> initscore=0.639767\n",
      "[LightGBM] [Info] Start training from score 0.639767\n",
      "[100]\tvalid_0's binary_logloss: 0.560243\n",
      "[200]\tvalid_0's binary_logloss: 0.551904\n",
      "[300]\tvalid_0's binary_logloss: 0.549396\n",
      "[400]\tvalid_0's binary_logloss: 0.547937\n",
      "[500]\tvalid_0's binary_logloss: 0.546311\n",
      "[600]\tvalid_0's binary_logloss: 0.544856\n",
      "[700]\tvalid_0's binary_logloss: 0.544792\n",
      "[800]\tvalid_0's binary_logloss: 0.544924\n",
      "[900]\tvalid_0's binary_logloss: 0.545558\n",
      "[1000]\tvalid_0's binary_logloss: 0.545992\n",
      "[1100]\tvalid_0's binary_logloss: 0.546207\n",
      "[1200]\tvalid_0's binary_logloss: 0.546522\n",
      "[1300]\tvalid_0's binary_logloss: 0.546992\n",
      "[1400]\tvalid_0's binary_logloss: 0.547506\n",
      "[1500]\tvalid_0's binary_logloss: 0.548088\n",
      "[1600]\tvalid_0's binary_logloss: 0.548276\n",
      "[1700]\tvalid_0's binary_logloss: 0.548859\n",
      "[1800]\tvalid_0's binary_logloss: 0.548357\n",
      "[1900]\tvalid_0's binary_logloss: 0.548478\n",
      "[2000]\tvalid_0's binary_logloss: 0.548896\n",
      "[2100]\tvalid_0's binary_logloss: 0.549\n",
      "[2200]\tvalid_0's binary_logloss: 0.549776\n",
      "[2300]\tvalid_0's binary_logloss: 0.550416\n",
      "[2400]\tvalid_0's binary_logloss: 0.550751\n",
      "[2500]\tvalid_0's binary_logloss: 0.551157\n",
      "[2600]\tvalid_0's binary_logloss: 0.551473\n",
      "[2700]\tvalid_0's binary_logloss: 0.551747\n",
      "[2800]\tvalid_0's binary_logloss: 0.552609\n",
      "[2900]\tvalid_0's binary_logloss: 0.552362\n",
      "[3000]\tvalid_0's binary_logloss: 0.552832\n",
      "[3100]\tvalid_0's binary_logloss: 0.553555\n",
      "[3200]\tvalid_0's binary_logloss: 0.553782\n",
      "VALID AUC : 0.7908488865847035 ACC : 0.7137791286727457\n",
      "\n",
      "model1_run_id='6a42312b2c7044a8b69dc362a392f4c8'\n"
     ]
    },
    {
     "ename": "NameError",
     "evalue": "name 'model4' is not defined",
     "output_type": "error",
     "traceback": [
      "\u001b[0;31m---------------------------------------------------------------------------\u001b[0m",
      "\u001b[0;31mNameError\u001b[0m                                 Traceback (most recent call last)",
      "Cell \u001b[0;32mIn [5], line 66\u001b[0m\n\u001b[1;32m     64\u001b[0m \u001b[38;5;28mprint\u001b[39m(\u001b[38;5;124mf\u001b[39m\u001b[38;5;124m\"\u001b[39m\u001b[38;5;132;01m{\u001b[39;00mmodel1_run_id\u001b[38;5;132;01m=}\u001b[39;00m\u001b[38;5;124m\"\u001b[39m)\n\u001b[1;32m     65\u001b[0m file_name \u001b[38;5;241m=\u001b[39m title2filename(title)\n\u001b[0;32m---> 66\u001b[0m lgbm_predict(test, \u001b[43mmodel4\u001b[49m, FEATS, \u001b[38;5;124mf\u001b[39m\u001b[38;5;124m'\u001b[39m\u001b[38;5;132;01m{\u001b[39;00mfile_name\u001b[38;5;132;01m}\u001b[39;00m\u001b[38;5;124m.csv\u001b[39m\u001b[38;5;124m'\u001b[39m)\n",
      "\u001b[0;31mNameError\u001b[0m: name 'model4' is not defined"
     ]
    }
   ],
   "source": [
    "### 피처 설정\n",
    "# 사용할 Feature 설정\n",
    "FEATS = ['uidIdx',\n",
    "         'assIdx',\n",
    "         'testIdx',\n",
    "         'KnowledgeTag',\n",
    "         'user_correct_answer',\n",
    "         'user_total_answer',\n",
    "         'big_category',\n",
    "         'mid_category',\n",
    "         'problem_num',\n",
    "         'month','day','dayname','hour',\n",
    "         'user_acc',\n",
    "         'test_mean',\n",
    "         'test_sum',\n",
    "         'test_std',\n",
    "         'tag_std',\n",
    "         'tag_mean',\n",
    "         'tag_sum',\n",
    "         'solvesec_3600',\n",
    "         'time_category',\n",
    "         'solvesec_cumsum',\n",
    "         'solvecumsum_category',\n",
    "         'big_category_acc',\n",
    "         'big_category_std',\n",
    "         'big_category_cumconut'\n",
    "        ]\n",
    "\n",
    "cat_feats = ['uidIdx','assIdx','testIdx','KnowledgeTag','big_category','mid_category',\n",
    "             'problem_num','dayname','month','time_category','solvecumsum_category']\n",
    "cat_feats_idx = [i for i,e in enumerate(FEATS) if e in cat_feats]\n",
    "\n",
    "### 학습 및 예측\n",
    "\n",
    "date = datetime.now().strftime('%m/%d %a')\n",
    "title=f\"🌈({date})[LGBM big_category 정답률, std, cumcount 추가] 피처: {len(FEATS)}개\"\n",
    "using_feats=\", \".join(FEATS)\n",
    "desc=f\"사용된 피처({len(FEATS)})\\n{using_feats}\"\n",
    "cat_feats_idx, title, desc\n",
    "\n",
    "mlflow.lightgbm.autolog()\n",
    "lgb_x_train = lgb.Dataset(x_train[FEATS], y_train)\n",
    "lgb_x_valid = lgb.Dataset(x_valid[FEATS], y_valid)\n",
    "\n",
    "with mlflow.start_run(run_name=title, description=desc) as run:\n",
    "    model1 = lgb.train(\n",
    "        params, \n",
    "        lgb_x_train,\n",
    "        valid_sets=[lgb_x_valid],\n",
    "        verbose_eval=100,\n",
    "        num_boost_round=3200,\n",
    "        categorical_feature=cat_feats_idx\n",
    "    #     early_stopping_rounds=200,\n",
    "    )\n",
    "\n",
    "    preds = model1.predict(x_valid[FEATS])\n",
    "    acc = accuracy_score(y_valid, np.where(preds >= 0.5, 1, 0))\n",
    "    auc = roc_auc_score(y_valid, preds)\n",
    "    print(f'VALID AUC : {auc} ACC : {acc}\\n')\n",
    "    mlflow.log_metric(\"VAL AUC\",auc)\n",
    "    mlflow.log_metric(\"VAL Set SEED\",SEED)\n",
    "    model1_run_id=run.info.run_id\n",
    "    post_slack(\"done\")\n",
    "    print(f\"{model1_run_id=}\")\n",
    "    file_name = title2filename(title)\n"
   ]
  },
  {
   "cell_type": "code",
   "execution_count": 6,
   "id": "886c151d",
   "metadata": {
    "ExecuteTime": {
     "end_time": "2022-11-30T14:58:08.914523Z",
     "start_time": "2022-11-30T14:58:08.833305Z"
    }
   },
   "outputs": [
    {
     "name": "stdout",
     "output_type": "stream",
     "text": [
      "writing prediction : output/11_30_Wed_LGBM_big_category_정답률_std_cumcount_추가_피처_27개.csv\n"
     ]
    }
   ],
   "source": [
    "lgbm_predict(test, model1, FEATS, f'{file_name}.csv')"
   ]
  },
  {
   "cell_type": "code",
   "execution_count": 13,
   "id": "0f90e0de",
   "metadata": {
    "ExecuteTime": {
     "end_time": "2022-11-30T15:17:06.035693Z",
     "start_time": "2022-11-30T15:17:06.004161Z"
    }
   },
   "outputs": [
    {
     "data": {
      "text/plain": [
       "<ActiveRun: >"
      ]
     },
     "execution_count": 13,
     "metadata": {},
     "output_type": "execute_result"
    },
    {
     "name": "stdout",
     "output_type": "stream",
     "text": [
      "Active run_id: 6a42312b2c7044a8b69dc362a392f4c8\n"
     ]
    }
   ],
   "source": [
    "### 제출 mlflow 등록\n",
    "# 제출시\n",
    "LB_AUC=0.8111\n",
    "run_id = model1_run_id\n",
    "mlflow.start_run(run_id=run_id)\n",
    "run = mlflow.active_run()\n",
    "print(\"Active run_id: {}\".format(run.info.run_id))\n",
    "mlflow.log_metric(\"LB AUC\",LB_AUC)\n",
    "mlflow.end_run()"
   ]
  },
  {
   "cell_type": "markdown",
   "id": "13a1f005",
   "metadata": {},
   "source": [
    "## big_category 정답률, std, cumcount 추가 - earlystop"
   ]
  },
  {
   "cell_type": "code",
   "execution_count": 8,
   "id": "0ba4b00e",
   "metadata": {
    "ExecuteTime": {
     "end_time": "2022-11-30T14:59:19.649540Z",
     "start_time": "2022-11-30T14:58:20.078479Z"
    }
   },
   "outputs": [
    {
     "data": {
      "text/plain": [
       "([0, 1, 2, 3, 6, 7, 8, 9, 11, 21, 23],\n",
       " '🌈(11/30 Wed)[LGBM big_category 정답률, std, cumcount 추가 earlystop] 피처: 27개',\n",
       " '사용된 피처(27)\\nuidIdx, assIdx, testIdx, KnowledgeTag, user_correct_answer, user_total_answer, big_category, mid_category, problem_num, month, day, dayname, hour, user_acc, test_mean, test_sum, test_std, tag_std, tag_mean, tag_sum, solvesec_3600, time_category, solvesec_cumsum, solvecumsum_category, big_category_acc, big_category_std, big_category_cumconut')"
      ]
     },
     "execution_count": 8,
     "metadata": {},
     "output_type": "execute_result"
    },
    {
     "name": "stdout",
     "output_type": "stream",
     "text": [
      "[LightGBM] [Info] Number of positive: 1208276, number of negative: 637263\n",
      "[LightGBM] [Warning] Auto-choosing row-wise multi-threading, the overhead of testing was 0.030329 seconds.\n",
      "You can set `force_row_wise=true` to remove the overhead.\n",
      "And if memory is not enough, you can set `force_col_wise=true`.\n",
      "[LightGBM] [Info] Total Bins 19316\n",
      "[LightGBM] [Info] Number of data points in the train set: 1845539, number of used features: 27\n",
      "[LightGBM] [Info] [binary:BoostFromScore]: pavg=0.654701 -> initscore=0.639767\n",
      "[LightGBM] [Info] Start training from score 0.639767\n",
      "Training until validation scores don't improve for 200 rounds\n",
      "[100]\tvalid_0's binary_logloss: 0.560243\n",
      "[200]\tvalid_0's binary_logloss: 0.551904\n",
      "[300]\tvalid_0's binary_logloss: 0.549396\n",
      "[400]\tvalid_0's binary_logloss: 0.547937\n",
      "[500]\tvalid_0's binary_logloss: 0.546311\n",
      "[600]\tvalid_0's binary_logloss: 0.544856\n",
      "[700]\tvalid_0's binary_logloss: 0.544792\n",
      "[800]\tvalid_0's binary_logloss: 0.544924\n",
      "Early stopping, best iteration is:\n",
      "[672]\tvalid_0's binary_logloss: 0.544468\n",
      "VALID AUC : 0.7970238976941687 ACC : 0.7304964539007093\n",
      "\n",
      "model2_run_id='88aac4c9c9cb42c089856d46ef8ba746'\n",
      "writing prediction : output/11_30_Wed_LGBM_big_category_정답률_std_cumcount_추가_earlystop_피처_27개.csv\n"
     ]
    }
   ],
   "source": [
    "### 피처 설정\n",
    "# 사용할 Feature 설정\n",
    "FEATS = ['uidIdx',\n",
    "         'assIdx',\n",
    "         'testIdx',\n",
    "         'KnowledgeTag',\n",
    "         'user_correct_answer',\n",
    "         'user_total_answer',\n",
    "         'big_category',\n",
    "         'mid_category',\n",
    "         'problem_num',\n",
    "         'month','day','dayname','hour',\n",
    "         'user_acc',\n",
    "         'test_mean',\n",
    "         'test_sum',\n",
    "         'test_std',\n",
    "         'tag_std',\n",
    "         'tag_mean',\n",
    "         'tag_sum',\n",
    "         'solvesec_3600',\n",
    "         'time_category',\n",
    "         'solvesec_cumsum',\n",
    "         'solvecumsum_category',\n",
    "         'big_category_acc',\n",
    "         'big_category_std',\n",
    "         'big_category_cumconut'\n",
    "        ]\n",
    "\n",
    "cat_feats = ['uidIdx','assIdx','testIdx','KnowledgeTag','big_category','mid_category',\n",
    "             'problem_num','dayname','month','time_category','solvecumsum_category']\n",
    "cat_feats_idx = [i for i,e in enumerate(FEATS) if e in cat_feats]\n",
    "\n",
    "### 학습 및 예측\n",
    "\n",
    "date = datetime.now().strftime('%m/%d %a')\n",
    "title=f\"🌈({date})[LGBM big_category 정답률, std, cumcount 추가 earlystop] 피처: {len(FEATS)}개\"\n",
    "using_feats=\", \".join(FEATS)\n",
    "desc=f\"사용된 피처({len(FEATS)})\\n{using_feats}\"\n",
    "cat_feats_idx, title, desc\n",
    "\n",
    "mlflow.lightgbm.autolog()\n",
    "lgb_x_train = lgb.Dataset(x_train[FEATS], y_train)\n",
    "lgb_x_valid = lgb.Dataset(x_valid[FEATS], y_valid)\n",
    "\n",
    "with mlflow.start_run(run_name=title, description=desc) as run:\n",
    "    model2 = lgb.train(\n",
    "        params, \n",
    "        lgb_x_train,\n",
    "        valid_sets=[lgb_x_valid],\n",
    "        verbose_eval=100,\n",
    "        num_boost_round=3200,\n",
    "        categorical_feature=cat_feats_idx,\n",
    "        early_stopping_rounds=200,\n",
    "    )\n",
    "\n",
    "    preds = model2.predict(x_valid[FEATS])\n",
    "    acc = accuracy_score(y_valid, np.where(preds >= 0.5, 1, 0))\n",
    "    auc = roc_auc_score(y_valid, preds)\n",
    "    print(f'VALID AUC : {auc} ACC : {acc}\\n')\n",
    "    mlflow.log_metric(\"VAL AUC\",auc)\n",
    "    mlflow.log_metric(\"VAL Set SEED\",SEED)\n",
    "    model2_run_id=run.info.run_id\n",
    "    post_slack(\"done\")\n",
    "    print(f\"{model2_run_id=}\")\n",
    "    file_name = title2filename(title)\n",
    "    lgbm_predict(test, model2, FEATS, f'{file_name}.csv')"
   ]
  },
  {
   "cell_type": "code",
   "execution_count": 12,
   "id": "d02bb1ed",
   "metadata": {
    "ExecuteTime": {
     "end_time": "2022-11-30T15:16:37.737912Z",
     "start_time": "2022-11-30T15:16:37.719471Z"
    }
   },
   "outputs": [
    {
     "data": {
      "text/plain": [
       "<ActiveRun: >"
      ]
     },
     "execution_count": 12,
     "metadata": {},
     "output_type": "execute_result"
    },
    {
     "name": "stdout",
     "output_type": "stream",
     "text": [
      "Active run_id: 88aac4c9c9cb42c089856d46ef8ba746\n"
     ]
    }
   ],
   "source": [
    "### 제출 mlflow 등록\n",
    "# 제출시\n",
    "LB_AUC=0.8155\n",
    "run_id = model2_run_id\n",
    "mlflow.start_run(run_id=run_id)\n",
    "run = mlflow.active_run()\n",
    "print(\"Active run_id: {}\".format(run.info.run_id))\n",
    "mlflow.log_metric(\"LB AUC\",LB_AUC)\n",
    "mlflow.end_run()"
   ]
  },
  {
   "cell_type": "markdown",
   "id": "4d8d9148",
   "metadata": {},
   "source": [
    "## 기존 month 추가한것 까지만 earlystop"
   ]
  },
  {
   "cell_type": "code",
   "execution_count": 10,
   "id": "99d13ee1",
   "metadata": {
    "ExecuteTime": {
     "end_time": "2022-11-30T15:10:47.700296Z",
     "start_time": "2022-11-30T15:09:56.516100Z"
    }
   },
   "outputs": [
    {
     "data": {
      "text/plain": [
       "([0, 1, 2, 3, 6, 7, 8, 9, 11, 21, 23],\n",
       " '🌈(12/01 Thu)[LGBM month추가한것 까지만 earlystop] 피처: 24개',\n",
       " '사용된 피처(24)\\nuidIdx, assIdx, testIdx, KnowledgeTag, user_correct_answer, user_total_answer, big_category, mid_category, problem_num, month, day, dayname, hour, user_acc, test_mean, test_sum, test_std, tag_std, tag_mean, tag_sum, solvesec_3600, time_category, solvesec_cumsum, solvecumsum_category')"
      ]
     },
     "execution_count": 10,
     "metadata": {},
     "output_type": "execute_result"
    },
    {
     "name": "stdout",
     "output_type": "stream",
     "text": [
      "[LightGBM] [Info] Number of positive: 1208276, number of negative: 637263\n",
      "[LightGBM] [Warning] Auto-choosing row-wise multi-threading, the overhead of testing was 0.023671 seconds.\n",
      "You can set `force_row_wise=true` to remove the overhead.\n",
      "And if memory is not enough, you can set `force_col_wise=true`.\n",
      "[LightGBM] [Info] Total Bins 19041\n",
      "[LightGBM] [Info] Number of data points in the train set: 1845539, number of used features: 24\n",
      "[LightGBM] [Info] [binary:BoostFromScore]: pavg=0.654701 -> initscore=0.639767\n",
      "[LightGBM] [Info] Start training from score 0.639767\n",
      "Training until validation scores don't improve for 200 rounds\n",
      "[100]\tvalid_0's binary_logloss: 0.561618\n",
      "[200]\tvalid_0's binary_logloss: 0.554541\n",
      "[300]\tvalid_0's binary_logloss: 0.552477\n",
      "[400]\tvalid_0's binary_logloss: 0.550644\n",
      "[500]\tvalid_0's binary_logloss: 0.549608\n",
      "[600]\tvalid_0's binary_logloss: 0.549414\n",
      "[700]\tvalid_0's binary_logloss: 0.549202\n",
      "Early stopping, best iteration is:\n",
      "[543]\tvalid_0's binary_logloss: 0.548983\n",
      "VALID AUC : 0.7934421238005892 ACC : 0.7239108409321175\n",
      "\n",
      "model5_run_id='d63b95d1bcd243e9ace084652f35c287'\n",
      "writing prediction : output/12_01_Thu_LGBM_month추가한것_까지만_earlystop_피처_24개.csv\n"
     ]
    }
   ],
   "source": [
    "### 피처 설정\n",
    "# 사용할 Feature 설정\n",
    "FEATS = ['uidIdx',\n",
    "         'assIdx',\n",
    "         'testIdx',\n",
    "         'KnowledgeTag',\n",
    "         'user_correct_answer',\n",
    "         'user_total_answer',\n",
    "         'big_category',\n",
    "         'mid_category',\n",
    "         'problem_num',\n",
    "         'month','day','dayname','hour',\n",
    "         'user_acc',\n",
    "         'test_mean',\n",
    "         'test_sum',\n",
    "         'test_std',\n",
    "         'tag_std',\n",
    "         'tag_mean',\n",
    "         'tag_sum',\n",
    "         'solvesec_3600',\n",
    "         'time_category',\n",
    "         'solvesec_cumsum',\n",
    "         'solvecumsum_category',\n",
    "        ]\n",
    "\n",
    "cat_feats = ['uidIdx','assIdx','testIdx','KnowledgeTag','big_category','mid_category',\n",
    "             'problem_num','dayname','month','time_category','solvecumsum_category']\n",
    "cat_feats_idx = [i for i,e in enumerate(FEATS) if e in cat_feats]\n",
    "\n",
    "### 학습 및 예측\n",
    "\n",
    "date = datetime.now().strftime('%m/%d %a')\n",
    "title=f\"🌈({date})[LGBM month추가한것 까지만 earlystop] 피처: {len(FEATS)}개\"\n",
    "using_feats=\", \".join(FEATS)\n",
    "desc=f\"사용된 피처({len(FEATS)})\\n{using_feats}\"\n",
    "cat_feats_idx, title, desc\n",
    "\n",
    "mlflow.lightgbm.autolog()\n",
    "lgb_x_train = lgb.Dataset(x_train[FEATS], y_train)\n",
    "lgb_x_valid = lgb.Dataset(x_valid[FEATS], y_valid)\n",
    "\n",
    "with mlflow.start_run(run_name=title, description=desc) as run:\n",
    "    model5 = lgb.train(\n",
    "        params, \n",
    "        lgb_x_train,\n",
    "        valid_sets=[lgb_x_valid],\n",
    "        verbose_eval=100,\n",
    "        num_boost_round=3200,\n",
    "        categorical_feature=cat_feats_idx,\n",
    "#         early_stopping_rounds=200,\n",
    "    )\n",
    "\n",
    "    preds = model5.predict(x_valid[FEATS])\n",
    "    acc = accuracy_score(y_valid, np.where(preds >= 0.5, 1, 0))\n",
    "    auc = roc_auc_score(y_valid, preds)\n",
    "    print(f'VALID AUC : {auc} ACC : {acc}\\n')\n",
    "    mlflow.log_metric(\"VAL AUC\",auc)\n",
    "    mlflow.log_metric(\"VAL Set SEED\",SEED)\n",
    "    model5_run_id=run.info.run_id\n",
    "    post_slack(\"done\")\n",
    "    print(f\"{model5_run_id=}\")\n",
    "    file_name = title2filename(title)\n",
    "    lgbm_predict(test, model5, FEATS, f'{file_name}.csv')"
   ]
  },
  {
   "cell_type": "code",
   "execution_count": 11,
   "id": "b27020b3",
   "metadata": {
    "ExecuteTime": {
     "end_time": "2022-11-30T15:16:24.481869Z",
     "start_time": "2022-11-30T15:16:24.462603Z"
    }
   },
   "outputs": [
    {
     "data": {
      "text/plain": [
       "<ActiveRun: >"
      ]
     },
     "execution_count": 11,
     "metadata": {},
     "output_type": "execute_result"
    },
    {
     "name": "stdout",
     "output_type": "stream",
     "text": [
      "Active run_id: d63b95d1bcd243e9ace084652f35c287\n"
     ]
    }
   ],
   "source": [
    "### 제출 mlflow 등록\n",
    "# 제출시\n",
    "LB_AUC=0.8112\n",
    "run_id = model5_run_id\n",
    "mlflow.start_run(run_id=run_id)\n",
    "run = mlflow.active_run()\n",
    "print(\"Active run_id: {}\".format(run.info.run_id))\n",
    "mlflow.log_metric(\"LB AUC\",LB_AUC)\n",
    "mlflow.end_run()"
   ]
  },
  {
   "cell_type": "code",
   "execution_count": 18,
   "id": "5e31e1a5",
   "metadata": {
    "ExecuteTime": {
     "end_time": "2022-11-30T17:03:57.978315Z",
     "start_time": "2022-11-30T17:03:57.973836Z"
    }
   },
   "outputs": [
    {
     "data": {
      "text/plain": [
       "Index(['userID', 'assessmentItemID', 'testId', 'answerCode', 'Timestamp',\n",
       "       'KnowledgeTag', 'kind', 'uidIdx', 'assIdx', 'testIdx',\n",
       "       'user_correct_answer', 'user_total_answer', 'user_acc', 'month', 'day',\n",
       "       'hour', 'dayname', 'big_category', 'problem_num', 'mid_category',\n",
       "       'test_mean', 'test_std', 'test_sum', 'tag_mean', 'tag_std', 'tag_sum',\n",
       "       'Timestamp2', 'solvetime', 'solvesec', 'solvesec_3600', 'time_category',\n",
       "       'solvesec_cumsum', 'solvecumsum_category', 'big_category_acc',\n",
       "       'big_category_std', 'big_category_cumconut', 'big_category_user_acc',\n",
       "       'big_category_user_std', 'big_category_answer',\n",
       "       'big_category_answer_log1p'],\n",
       "      dtype='object')"
      ]
     },
     "execution_count": 18,
     "metadata": {},
     "output_type": "execute_result"
    }
   ],
   "source": [
    "df.columns"
   ]
  },
  {
   "cell_type": "markdown",
   "id": "3e18e126",
   "metadata": {},
   "source": [
    "## big category 유저별 정답률, std, cumcount"
   ]
  },
  {
   "cell_type": "code",
   "execution_count": 22,
   "id": "f186a38e",
   "metadata": {
    "ExecuteTime": {
     "end_time": "2022-11-30T17:09:31.852443Z",
     "start_time": "2022-11-30T17:08:44.362508Z"
    }
   },
   "outputs": [
    {
     "data": {
      "text/plain": [
       "([0, 1, 2, 3, 6, 7, 8, 9, 11, 21, 23],\n",
       " '🌈(12/01 Thu)[LGBM big category 유저별 정답률, std, cumcount] 피처: 27개',\n",
       " '사용된 피처(27)\\nuidIdx, assIdx, testIdx, KnowledgeTag, user_correct_answer, user_total_answer, big_category, mid_category, problem_num, month, day, dayname, hour, user_acc, test_mean, test_sum, test_std, tag_std, tag_mean, tag_sum, solvesec_3600, time_category, solvesec_cumsum, solvecumsum_category, big_category_user_acc, big_category_user_std, big_category_cumconut')"
      ]
     },
     "execution_count": 22,
     "metadata": {},
     "output_type": "execute_result"
    },
    {
     "name": "stdout",
     "output_type": "stream",
     "text": [
      "[LightGBM] [Info] Number of positive: 1208276, number of negative: 637263\n",
      "[LightGBM] [Warning] Auto-choosing row-wise multi-threading, the overhead of testing was 0.030201 seconds.\n",
      "You can set `force_row_wise=true` to remove the overhead.\n",
      "And if memory is not enough, you can set `force_col_wise=true`.\n",
      "[LightGBM] [Info] Total Bins 19806\n",
      "[LightGBM] [Info] Number of data points in the train set: 1845539, number of used features: 27\n",
      "[LightGBM] [Info] [binary:BoostFromScore]: pavg=0.654701 -> initscore=0.639767\n",
      "[LightGBM] [Info] Start training from score 0.639767\n",
      "Training until validation scores don't improve for 200 rounds\n",
      "[100]\tvalid_0's binary_logloss: 0.513417\n",
      "[200]\tvalid_0's binary_logloss: 0.502819\n",
      "[300]\tvalid_0's binary_logloss: 0.500721\n",
      "[400]\tvalid_0's binary_logloss: 0.500024\n",
      "[500]\tvalid_0's binary_logloss: 0.499942\n",
      "[600]\tvalid_0's binary_logloss: 0.500928\n",
      "Early stopping, best iteration is:\n",
      "[425]\tvalid_0's binary_logloss: 0.499722\n",
      "VALID AUC : 0.8335442074425188 ACC : 0.7563323201621074\n",
      "\n",
      "model6_run_id='3af96264ab7544119d567b2ad3ec4921'\n",
      "writing prediction : output/12_01_Thu_LGBM_big_category_유저별_정답률_std_cumcount_피처_27개.csv\n"
     ]
    }
   ],
   "source": [
    "### 피처 설정\n",
    "# 사용할 Feature 설정\n",
    "FEATS = ['uidIdx',\n",
    "         'assIdx',\n",
    "         'testIdx',\n",
    "         'KnowledgeTag',\n",
    "         'user_correct_answer',\n",
    "         'user_total_answer',\n",
    "         'big_category',\n",
    "         'mid_category',\n",
    "         'problem_num',\n",
    "         'month','day','dayname','hour',\n",
    "         'user_acc',\n",
    "         'test_mean',\n",
    "         'test_sum',\n",
    "         'test_std',\n",
    "         'tag_std',\n",
    "         'tag_mean',\n",
    "         'tag_sum',\n",
    "         'solvesec_3600',\n",
    "         'time_category',\n",
    "         'solvesec_cumsum',\n",
    "         'solvecumsum_category',\n",
    "         'big_category_user_acc',\n",
    "         'big_category_user_std',\n",
    "         'big_category_cumconut'\n",
    "        ]\n",
    "\n",
    "cat_feats = ['uidIdx','assIdx','testIdx','KnowledgeTag','big_category','mid_category',\n",
    "             'problem_num','dayname','month','time_category','solvecumsum_category']\n",
    "cat_feats_idx = [i for i,e in enumerate(FEATS) if e in cat_feats]\n",
    "\n",
    "### 학습 및 예측\n",
    "\n",
    "date = datetime.now().strftime('%m/%d %a')\n",
    "title=f\"🌈({date})[LGBM big category 유저별 정답률, std, cumcount] 피처: {len(FEATS)}개\"\n",
    "using_feats=\", \".join(FEATS)\n",
    "desc=f\"사용된 피처({len(FEATS)})\\n{using_feats}\"\n",
    "cat_feats_idx, title, desc\n",
    "\n",
    "mlflow.lightgbm.autolog()\n",
    "lgb_x_train = lgb.Dataset(x_train[FEATS], y_train)\n",
    "lgb_x_valid = lgb.Dataset(x_valid[FEATS], y_valid)\n",
    "\n",
    "with mlflow.start_run(run_name=title, description=desc) as run:\n",
    "    model6 = lgb.train(\n",
    "        params, \n",
    "        lgb_x_train,\n",
    "        valid_sets=[lgb_x_valid],\n",
    "        verbose_eval=100,\n",
    "        num_boost_round=3200,\n",
    "        categorical_feature=cat_feats_idx,\n",
    "        early_stopping_rounds=200,\n",
    "    )\n",
    "\n",
    "    preds = model6.predict(x_valid[FEATS])\n",
    "    acc = accuracy_score(y_valid, np.where(preds >= 0.5, 1, 0))\n",
    "    auc = roc_auc_score(y_valid, preds)\n",
    "    print(f'VALID AUC : {auc} ACC : {acc}\\n')\n",
    "    mlflow.log_metric(\"VAL AUC\",auc)\n",
    "    mlflow.log_metric(\"VAL Set SEED\",SEED)\n",
    "    model6_run_id=run.info.run_id\n",
    "    post_slack(\"done\")\n",
    "    print(f\"{model6_run_id=}\")\n",
    "    file_name = title2filename(title)\n",
    "    lgbm_predict(test, model6, FEATS, f'{file_name}.csv')"
   ]
  },
  {
   "cell_type": "code",
   "execution_count": 25,
   "id": "2b1c8bb8",
   "metadata": {
    "ExecuteTime": {
     "end_time": "2022-11-30T17:15:01.410606Z",
     "start_time": "2022-11-30T17:15:01.392853Z"
    }
   },
   "outputs": [
    {
     "data": {
      "text/plain": [
       "<ActiveRun: >"
      ]
     },
     "execution_count": 25,
     "metadata": {},
     "output_type": "execute_result"
    },
    {
     "name": "stdout",
     "output_type": "stream",
     "text": [
      "Active run_id: 3af96264ab7544119d567b2ad3ec4921\n"
     ]
    }
   ],
   "source": [
    "### 제출 mlflow 등록\n",
    "# 제출시\n",
    "LB_AUC=0.8024\n",
    "run_id = model6_run_id\n",
    "mlflow.start_run(run_id=run_id)\n",
    "run = mlflow.active_run()\n",
    "print(\"Active run_id: {}\".format(run.info.run_id))\n",
    "mlflow.log_metric(\"LB AUC\",LB_AUC)\n",
    "mlflow.end_run()"
   ]
  },
  {
   "cell_type": "markdown",
   "id": "13924af9",
   "metadata": {},
   "source": [
    "## big_category_answer_log1p 추가"
   ]
  },
  {
   "cell_type": "code",
   "execution_count": 23,
   "id": "3ec6ac70",
   "metadata": {
    "ExecuteTime": {
     "end_time": "2022-11-30T17:10:25.488164Z",
     "start_time": "2022-11-30T17:09:31.858004Z"
    }
   },
   "outputs": [
    {
     "data": {
      "text/plain": [
       "([0, 1, 2, 3, 6, 7, 8, 9, 11, 21, 23],\n",
       " '🌈(12/01 Thu)[LGBM big_category_answer_log1p 추가] 피처: 28개',\n",
       " '사용된 피처(28)\\nuidIdx, assIdx, testIdx, KnowledgeTag, user_correct_answer, user_total_answer, big_category, mid_category, problem_num, month, day, dayname, hour, user_acc, test_mean, test_sum, test_std, tag_std, tag_mean, tag_sum, solvesec_3600, time_category, solvesec_cumsum, solvecumsum_category, big_category_user_acc, big_category_user_std, big_category_cumconut, big_category_answer_log1p')"
      ]
     },
     "execution_count": 23,
     "metadata": {},
     "output_type": "execute_result"
    },
    {
     "name": "stdout",
     "output_type": "stream",
     "text": [
      "[LightGBM] [Info] Number of positive: 1208276, number of negative: 637263\n",
      "[LightGBM] [Warning] Auto-choosing row-wise multi-threading, the overhead of testing was 0.030350 seconds.\n",
      "You can set `force_row_wise=true` to remove the overhead.\n",
      "And if memory is not enough, you can set `force_col_wise=true`.\n",
      "[LightGBM] [Info] Total Bins 20061\n",
      "[LightGBM] [Info] Number of data points in the train set: 1845539, number of used features: 28\n",
      "[LightGBM] [Info] [binary:BoostFromScore]: pavg=0.654701 -> initscore=0.639767\n",
      "[LightGBM] [Info] Start training from score 0.639767\n",
      "Training until validation scores don't improve for 200 rounds\n",
      "[100]\tvalid_0's binary_logloss: 0.512626\n",
      "[200]\tvalid_0's binary_logloss: 0.503799\n",
      "[300]\tvalid_0's binary_logloss: 0.500915\n",
      "[400]\tvalid_0's binary_logloss: 0.500644\n",
      "[500]\tvalid_0's binary_logloss: 0.500709\n",
      "[600]\tvalid_0's binary_logloss: 0.500692\n",
      "[700]\tvalid_0's binary_logloss: 0.501092\n",
      "Early stopping, best iteration is:\n",
      "[545]\tvalid_0's binary_logloss: 0.500358\n",
      "VALID AUC : 0.8335503793676656 ACC : 0.756838905775076\n",
      "\n",
      "model7_run_id='9673ba65009845779aed5d57850755e3'\n",
      "writing prediction : output/12_01_Thu_LGBM_big_category_answer_log1p_추가_피처_28개.csv\n"
     ]
    }
   ],
   "source": [
    "### 피처 설정\n",
    "# 사용할 Feature 설정\n",
    "FEATS = ['uidIdx',\n",
    "         'assIdx',\n",
    "         'testIdx',\n",
    "         'KnowledgeTag',\n",
    "         'user_correct_answer',\n",
    "         'user_total_answer',\n",
    "         'big_category',\n",
    "         'mid_category',\n",
    "         'problem_num',\n",
    "         'month','day','dayname','hour',\n",
    "         'user_acc',\n",
    "         'test_mean',\n",
    "         'test_sum',\n",
    "         'test_std',\n",
    "         'tag_std',\n",
    "         'tag_mean',\n",
    "         'tag_sum',\n",
    "         'solvesec_3600',\n",
    "         'time_category',\n",
    "         'solvesec_cumsum',\n",
    "         'solvecumsum_category',\n",
    "         'big_category_user_acc',\n",
    "         'big_category_user_std',\n",
    "         'big_category_cumconut',\n",
    "         'big_category_answer_log1p'\n",
    "        ]\n",
    "\n",
    "cat_feats = ['uidIdx','assIdx','testIdx','KnowledgeTag','big_category','mid_category',\n",
    "             'problem_num','dayname','month','time_category','solvecumsum_category']\n",
    "cat_feats_idx = [i for i,e in enumerate(FEATS) if e in cat_feats]\n",
    "\n",
    "### 학습 및 예측\n",
    "\n",
    "date = datetime.now().strftime('%m/%d %a')\n",
    "title=f\"🌈({date})[LGBM big_category_answer_log1p 추가] 피처: {len(FEATS)}개\"\n",
    "using_feats=\", \".join(FEATS)\n",
    "desc=f\"사용된 피처({len(FEATS)})\\n{using_feats}\"\n",
    "cat_feats_idx, title, desc\n",
    "\n",
    "mlflow.lightgbm.autolog()\n",
    "lgb_x_train = lgb.Dataset(x_train[FEATS], y_train)\n",
    "lgb_x_valid = lgb.Dataset(x_valid[FEATS], y_valid)\n",
    "\n",
    "with mlflow.start_run(run_name=title, description=desc) as run:\n",
    "    model7 = lgb.train(\n",
    "        params, \n",
    "        lgb_x_train,\n",
    "        valid_sets=[lgb_x_valid],\n",
    "        verbose_eval=100,\n",
    "        num_boost_round=3200,\n",
    "        categorical_feature=cat_feats_idx,\n",
    "        early_stopping_rounds=200,\n",
    "    )\n",
    "\n",
    "    preds = model7.predict(x_valid[FEATS])\n",
    "    acc = accuracy_score(y_valid, np.where(preds >= 0.5, 1, 0))\n",
    "    auc = roc_auc_score(y_valid, preds)\n",
    "    print(f'VALID AUC : {auc} ACC : {acc}\\n')\n",
    "    mlflow.log_metric(\"VAL AUC\",auc)\n",
    "    mlflow.log_metric(\"VAL Set SEED\",SEED)\n",
    "    model7_run_id=run.info.run_id\n",
    "    post_slack(\"done\")\n",
    "    print(f\"{model7_run_id=}\")\n",
    "    file_name = title2filename(title)\n",
    "    lgbm_predict(test, model7, FEATS, f'{file_name}.csv')"
   ]
  },
  {
   "cell_type": "code",
   "execution_count": 26,
   "id": "50739e42",
   "metadata": {
    "ExecuteTime": {
     "end_time": "2022-11-30T17:16:37.880233Z",
     "start_time": "2022-11-30T17:16:37.862092Z"
    }
   },
   "outputs": [
    {
     "data": {
      "text/plain": [
       "<ActiveRun: >"
      ]
     },
     "execution_count": 26,
     "metadata": {},
     "output_type": "execute_result"
    },
    {
     "name": "stdout",
     "output_type": "stream",
     "text": [
      "Active run_id: 9673ba65009845779aed5d57850755e3\n"
     ]
    }
   ],
   "source": [
    "### 제출 mlflow 등록\n",
    "# 제출시\n",
    "LB_AUC=0.8062\n",
    "run_id = model7_run_id\n",
    "mlflow.start_run(run_id=run_id)\n",
    "run = mlflow.active_run()\n",
    "print(\"Active run_id: {}\".format(run.info.run_id))\n",
    "mlflow.log_metric(\"LB AUC\",LB_AUC)\n",
    "mlflow.end_run()"
   ]
  },
  {
   "cell_type": "markdown",
   "id": "c32dc4fb",
   "metadata": {},
   "source": [
    "### big_category_answer_log1p 추가 3200 epoch"
   ]
  },
  {
   "cell_type": "code",
   "execution_count": 28,
   "id": "3e48093b",
   "metadata": {
    "ExecuteTime": {
     "end_time": "2022-11-30T17:20:48.876707Z",
     "start_time": "2022-11-30T17:17:59.871577Z"
    },
    "scrolled": true
   },
   "outputs": [
    {
     "data": {
      "text/plain": [
       "([0, 1, 2, 3, 6, 7, 8, 9, 11, 21, 23],\n",
       " '🌈(12/01 Thu)[LGBM big_category_answer_log1p 추가 3200epoch] 피처: 28개',\n",
       " '사용된 피처(28)\\nuidIdx, assIdx, testIdx, KnowledgeTag, user_correct_answer, user_total_answer, big_category, mid_category, problem_num, month, day, dayname, hour, user_acc, test_mean, test_sum, test_std, tag_std, tag_mean, tag_sum, solvesec_3600, time_category, solvesec_cumsum, solvecumsum_category, big_category_user_acc, big_category_user_std, big_category_cumconut, big_category_answer_log1p')"
      ]
     },
     "execution_count": 28,
     "metadata": {},
     "output_type": "execute_result"
    },
    {
     "name": "stdout",
     "output_type": "stream",
     "text": [
      "[LightGBM] [Info] Number of positive: 1208276, number of negative: 637263\n",
      "[LightGBM] [Warning] Auto-choosing row-wise multi-threading, the overhead of testing was 0.031297 seconds.\n",
      "You can set `force_row_wise=true` to remove the overhead.\n",
      "And if memory is not enough, you can set `force_col_wise=true`.\n",
      "[LightGBM] [Info] Total Bins 20061\n",
      "[LightGBM] [Info] Number of data points in the train set: 1845539, number of used features: 28\n",
      "[LightGBM] [Info] [binary:BoostFromScore]: pavg=0.654701 -> initscore=0.639767\n",
      "[LightGBM] [Info] Start training from score 0.639767\n",
      "[100]\tvalid_0's binary_logloss: 0.512626\n",
      "[200]\tvalid_0's binary_logloss: 0.503799\n",
      "[300]\tvalid_0's binary_logloss: 0.500915\n",
      "[400]\tvalid_0's binary_logloss: 0.500644\n",
      "[500]\tvalid_0's binary_logloss: 0.500709\n",
      "[600]\tvalid_0's binary_logloss: 0.500692\n",
      "[700]\tvalid_0's binary_logloss: 0.501092\n",
      "[800]\tvalid_0's binary_logloss: 0.501289\n",
      "[900]\tvalid_0's binary_logloss: 0.501496\n",
      "[1000]\tvalid_0's binary_logloss: 0.502544\n",
      "[1100]\tvalid_0's binary_logloss: 0.503477\n",
      "[1200]\tvalid_0's binary_logloss: 0.504137\n",
      "[1300]\tvalid_0's binary_logloss: 0.503887\n",
      "[1400]\tvalid_0's binary_logloss: 0.504628\n",
      "[1500]\tvalid_0's binary_logloss: 0.50493\n",
      "[1600]\tvalid_0's binary_logloss: 0.50508\n",
      "[1700]\tvalid_0's binary_logloss: 0.505023\n",
      "[1800]\tvalid_0's binary_logloss: 0.505362\n",
      "[1900]\tvalid_0's binary_logloss: 0.505408\n",
      "[2000]\tvalid_0's binary_logloss: 0.505975\n",
      "[2100]\tvalid_0's binary_logloss: 0.505633\n",
      "[2200]\tvalid_0's binary_logloss: 0.506046\n",
      "[2300]\tvalid_0's binary_logloss: 0.506811\n",
      "[2400]\tvalid_0's binary_logloss: 0.507144\n",
      "[2500]\tvalid_0's binary_logloss: 0.507197\n",
      "[2600]\tvalid_0's binary_logloss: 0.507878\n",
      "[2700]\tvalid_0's binary_logloss: 0.508198\n",
      "[2800]\tvalid_0's binary_logloss: 0.508786\n",
      "[2900]\tvalid_0's binary_logloss: 0.509258\n",
      "[3000]\tvalid_0's binary_logloss: 0.509476\n",
      "[3100]\tvalid_0's binary_logloss: 0.510393\n",
      "[3200]\tvalid_0's binary_logloss: 0.510491\n",
      "VALID AUC : 0.8320763179117497 ACC : 0.7532928064842959\n",
      "\n",
      "model71_run_id='254fd0dba60b46cf84742c32cc677bb4'\n",
      "writing prediction : output/12_01_Thu_LGBM_big_category_answer_log1p_추가_3200epoch_피처_28개.csv\n"
     ]
    }
   ],
   "source": [
    "### 피처 설정\n",
    "# 사용할 Feature 설정\n",
    "FEATS = ['uidIdx',\n",
    "         'assIdx',\n",
    "         'testIdx',\n",
    "         'KnowledgeTag',\n",
    "         'user_correct_answer',\n",
    "         'user_total_answer',\n",
    "         'big_category',\n",
    "         'mid_category',\n",
    "         'problem_num',\n",
    "         'month','day','dayname','hour',\n",
    "         'user_acc',\n",
    "         'test_mean',\n",
    "         'test_sum',\n",
    "         'test_std',\n",
    "         'tag_std',\n",
    "         'tag_mean',\n",
    "         'tag_sum',\n",
    "         'solvesec_3600',\n",
    "         'time_category',\n",
    "         'solvesec_cumsum',\n",
    "         'solvecumsum_category',\n",
    "         'big_category_user_acc',\n",
    "         'big_category_user_std',\n",
    "         'big_category_cumconut',\n",
    "         'big_category_answer_log1p'\n",
    "        ]\n",
    "\n",
    "cat_feats = ['uidIdx','assIdx','testIdx','KnowledgeTag','big_category','mid_category',\n",
    "             'problem_num','dayname','month','time_category','solvecumsum_category']\n",
    "cat_feats_idx = [i for i,e in enumerate(FEATS) if e in cat_feats]\n",
    "\n",
    "### 학습 및 예측\n",
    "\n",
    "date = datetime.now().strftime('%m/%d %a')\n",
    "title=f\"🌈({date})[LGBM big_category_answer_log1p 추가 3200epoch] 피처: {len(FEATS)}개\"\n",
    "using_feats=\", \".join(FEATS)\n",
    "desc=f\"사용된 피처({len(FEATS)})\\n{using_feats}\"\n",
    "cat_feats_idx, title, desc\n",
    "\n",
    "mlflow.lightgbm.autolog()\n",
    "lgb_x_train = lgb.Dataset(x_train[FEATS], y_train)\n",
    "lgb_x_valid = lgb.Dataset(x_valid[FEATS], y_valid)\n",
    "\n",
    "with mlflow.start_run(run_name=title, description=desc) as run:\n",
    "    model71 = lgb.train(\n",
    "        params, \n",
    "        lgb_x_train,\n",
    "        valid_sets=[lgb_x_valid],\n",
    "        verbose_eval=100,\n",
    "        num_boost_round=3200,\n",
    "        categorical_feature=cat_feats_idx,\n",
    "#         early_stopping_rounds=200,\n",
    "    )\n",
    "\n",
    "    preds = model71.predict(x_valid[FEATS])\n",
    "    acc = accuracy_score(y_valid, np.where(preds >= 0.5, 1, 0))\n",
    "    auc = roc_auc_score(y_valid, preds)\n",
    "    print(f'VALID AUC : {auc} ACC : {acc}\\n')\n",
    "    mlflow.log_metric(\"VAL AUC\",auc)\n",
    "    mlflow.log_metric(\"VAL Set SEED\",SEED)\n",
    "    model71_run_id=run.info.run_id\n",
    "    post_slack(\"done\")\n",
    "    print(f\"{model71_run_id=}\")\n",
    "    file_name = title2filename(title)\n",
    "    lgbm_predict(test, model71, FEATS, f'{file_name}.csv')"
   ]
  },
  {
   "cell_type": "code",
   "execution_count": 29,
   "id": "b8ac65c2",
   "metadata": {
    "ExecuteTime": {
     "end_time": "2022-11-30T17:22:09.911378Z",
     "start_time": "2022-11-30T17:22:09.879232Z"
    }
   },
   "outputs": [
    {
     "data": {
      "text/plain": [
       "<ActiveRun: >"
      ]
     },
     "execution_count": 29,
     "metadata": {},
     "output_type": "execute_result"
    },
    {
     "name": "stdout",
     "output_type": "stream",
     "text": [
      "Active run_id: 254fd0dba60b46cf84742c32cc677bb4\n"
     ]
    }
   ],
   "source": [
    "### 제출 mlflow 등록\n",
    "# 제출시\n",
    "LB_AUC=0.7948\n",
    "run_id = model71_run_id\n",
    "mlflow.start_run(run_id=run_id)\n",
    "run = mlflow.active_run()\n",
    "print(\"Active run_id: {}\".format(run.info.run_id))\n",
    "mlflow.log_metric(\"LB AUC\",LB_AUC)\n",
    "mlflow.end_run()"
   ]
  },
  {
   "cell_type": "markdown",
   "id": "c5f38f59",
   "metadata": {},
   "source": [
    "## big_category_answer log1p 안한것"
   ]
  },
  {
   "cell_type": "code",
   "execution_count": 24,
   "id": "f341d649",
   "metadata": {
    "ExecuteTime": {
     "end_time": "2022-11-30T17:11:19.215988Z",
     "start_time": "2022-11-30T17:10:25.492278Z"
    }
   },
   "outputs": [
    {
     "data": {
      "text/plain": [
       "([0, 1, 2, 3, 6, 7, 8, 9, 11, 21, 23],\n",
       " '🌈(12/01 Thu)[LGBM big_category_answer log1p 안한것] 피처: 28개',\n",
       " '사용된 피처(28)\\nuidIdx, assIdx, testIdx, KnowledgeTag, user_correct_answer, user_total_answer, big_category, mid_category, problem_num, month, day, dayname, hour, user_acc, test_mean, test_sum, test_std, tag_std, tag_mean, tag_sum, solvesec_3600, time_category, solvesec_cumsum, solvecumsum_category, big_category_user_acc, big_category_user_std, big_category_cumconut, big_category_answer')"
      ]
     },
     "execution_count": 24,
     "metadata": {},
     "output_type": "execute_result"
    },
    {
     "name": "stdout",
     "output_type": "stream",
     "text": [
      "[LightGBM] [Info] Number of positive: 1208276, number of negative: 637263\n",
      "[LightGBM] [Warning] Auto-choosing row-wise multi-threading, the overhead of testing was 0.030252 seconds.\n",
      "You can set `force_row_wise=true` to remove the overhead.\n",
      "And if memory is not enough, you can set `force_col_wise=true`.\n",
      "[LightGBM] [Info] Total Bins 20061\n",
      "[LightGBM] [Info] Number of data points in the train set: 1845539, number of used features: 28\n",
      "[LightGBM] [Info] [binary:BoostFromScore]: pavg=0.654701 -> initscore=0.639767\n",
      "[LightGBM] [Info] Start training from score 0.639767\n",
      "Training until validation scores don't improve for 200 rounds\n",
      "[100]\tvalid_0's binary_logloss: 0.512626\n",
      "[200]\tvalid_0's binary_logloss: 0.503799\n",
      "[300]\tvalid_0's binary_logloss: 0.500915\n",
      "[400]\tvalid_0's binary_logloss: 0.500644\n",
      "[500]\tvalid_0's binary_logloss: 0.500709\n",
      "[600]\tvalid_0's binary_logloss: 0.500692\n",
      "[700]\tvalid_0's binary_logloss: 0.501092\n",
      "Early stopping, best iteration is:\n",
      "[545]\tvalid_0's binary_logloss: 0.500358\n",
      "VALID AUC : 0.8335503793676656 ACC : 0.756838905775076\n",
      "\n",
      "model8_run_id='3c9e5adba003459694dbdd9ca5384119'\n",
      "writing prediction : output/12_01_Thu_LGBM_big_category_answer_log1p_안한것_피처_28개.csv\n"
     ]
    }
   ],
   "source": [
    "### 피처 설정\n",
    "# 사용할 Feature 설정\n",
    "FEATS = ['uidIdx',\n",
    "         'assIdx',\n",
    "         'testIdx',\n",
    "         'KnowledgeTag',\n",
    "         'user_correct_answer',\n",
    "         'user_total_answer',\n",
    "         'big_category',\n",
    "         'mid_category',\n",
    "         'problem_num',\n",
    "         'month','day','dayname','hour',\n",
    "         'user_acc',\n",
    "         'test_mean',\n",
    "         'test_sum',\n",
    "         'test_std',\n",
    "         'tag_std',\n",
    "         'tag_mean',\n",
    "         'tag_sum',\n",
    "         'solvesec_3600',\n",
    "         'time_category',\n",
    "         'solvesec_cumsum',\n",
    "         'solvecumsum_category',\n",
    "         'big_category_user_acc',\n",
    "         'big_category_user_std',\n",
    "         'big_category_cumconut',\n",
    "         'big_category_answer'\n",
    "        ]\n",
    "\n",
    "cat_feats = ['uidIdx','assIdx','testIdx','KnowledgeTag','big_category','mid_category',\n",
    "             'problem_num','dayname','month','time_category','solvecumsum_category']\n",
    "cat_feats_idx = [i for i,e in enumerate(FEATS) if e in cat_feats]\n",
    "\n",
    "### 학습 및 예측\n",
    "\n",
    "date = datetime.now().strftime('%m/%d %a')\n",
    "title=f\"🌈({date})[LGBM big_category_answer log1p 안한것] 피처: {len(FEATS)}개\"\n",
    "using_feats=\", \".join(FEATS)\n",
    "desc=f\"사용된 피처({len(FEATS)})\\n{using_feats}\"\n",
    "cat_feats_idx, title, desc\n",
    "\n",
    "mlflow.lightgbm.autolog()\n",
    "lgb_x_train = lgb.Dataset(x_train[FEATS], y_train)\n",
    "lgb_x_valid = lgb.Dataset(x_valid[FEATS], y_valid)\n",
    "\n",
    "with mlflow.start_run(run_name=title, description=desc) as run:\n",
    "    model8 = lgb.train(\n",
    "        params, \n",
    "        lgb_x_train,\n",
    "        valid_sets=[lgb_x_valid],\n",
    "        verbose_eval=100,\n",
    "        num_boost_round=3200,\n",
    "        categorical_feature=cat_feats_idx,\n",
    "        early_stopping_rounds=200,\n",
    "    )\n",
    "\n",
    "    preds = model8.predict(x_valid[FEATS])\n",
    "    acc = accuracy_score(y_valid, np.where(preds >= 0.5, 1, 0))\n",
    "    auc = roc_auc_score(y_valid, preds)\n",
    "    print(f'VALID AUC : {auc} ACC : {acc}\\n')\n",
    "    mlflow.log_metric(\"VAL AUC\",auc)\n",
    "    mlflow.log_metric(\"VAL Set SEED\",SEED)\n",
    "    model8_run_id=run.info.run_id\n",
    "    post_slack(\"done\")\n",
    "    print(f\"{model8_run_id=}\")\n",
    "    file_name = title2filename(title)\n",
    "    lgbm_predict(test, model8, FEATS, f'{file_name}.csv')"
   ]
  },
  {
   "cell_type": "code",
   "execution_count": null,
   "id": "e3fa9bf4",
   "metadata": {},
   "outputs": [],
   "source": [
    "### 제출 mlflow 등록\n",
    "# 제출시\n",
    "LB_AUC=0.8112\n",
    "run_id = model8_run_id\n",
    "mlflow.start_run(run_id=run_id)\n",
    "run = mlflow.active_run()\n",
    "print(\"Active run_id: {}\".format(run.info.run_id))\n",
    "mlflow.log_metric(\"LB AUC\",LB_AUC)\n",
    "mlflow.end_run()"
   ]
  }
 ],
 "metadata": {
  "kernelspec": {
   "display_name": "Python 3 (ipykernel)",
   "language": "python",
   "name": "python3"
  },
  "language_info": {
   "codemirror_mode": {
    "name": "ipython",
    "version": 3
   },
   "file_extension": ".py",
   "mimetype": "text/x-python",
   "name": "python",
   "nbconvert_exporter": "python",
   "pygments_lexer": "ipython3",
   "version": "3.9.15"
  },
  "toc": {
   "base_numbering": 1,
   "nav_menu": {},
   "number_sections": true,
   "sideBar": true,
   "skip_h1_title": true,
   "title_cell": "Table of Contents",
   "title_sidebar": "Contents",
   "toc_cell": false,
   "toc_position": {
    "height": "calc(100% - 180px)",
    "left": "10px",
    "top": "150px",
    "width": "384px"
   },
   "toc_section_display": true,
   "toc_window_display": true
  }
 },
 "nbformat": 4,
 "nbformat_minor": 5
}
