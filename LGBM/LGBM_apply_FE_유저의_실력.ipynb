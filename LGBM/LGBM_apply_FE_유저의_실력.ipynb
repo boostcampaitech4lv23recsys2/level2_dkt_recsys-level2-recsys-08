{
 "cells": [
  {
   "cell_type": "markdown",
   "id": "1a73ded2",
   "metadata": {},
   "source": [
    "## dataload"
   ]
  },
  {
   "cell_type": "code",
   "execution_count": 1,
   "id": "464cf792",
   "metadata": {
    "ExecuteTime": {
     "end_time": "2022-12-04T16:21:52.473814Z",
     "start_time": "2022-12-04T16:21:19.582990Z"
    }
   },
   "outputs": [
    {
     "data": {
      "text/plain": [
       "((1845539, 48), (1845539, 1), (1974, 48), (1974, 1))"
      ]
     },
     "execution_count": 1,
     "metadata": {},
     "output_type": "execute_result"
    }
   ],
   "source": [
    "import mlflow\n",
    "import mlflow.lightgbm\n",
    "from datetime import datetime\n",
    "from IPython.core.interactiveshell import InteractiveShell\n",
    "InteractiveShell.ast_node_interactivity = 'all'\n",
    "import pandas as pd\n",
    "import os\n",
    "import random\n",
    "import warnings\n",
    "warnings.filterwarnings('ignore')\n",
    "import lightgbm as lgb\n",
    "from sklearn.metrics import roc_auc_score\n",
    "from sklearn.metrics import accuracy_score\n",
    "import numpy as np\n",
    "from utils import custom_train_test_split, lgbm_predict, post_slack, title2filename\n",
    "os.environ[\"LOGNAME\"]='cwj'\n",
    "SEED=13\n",
    "\n",
    "## 1. 데이터 로딩\n",
    "data_dir = '/opt/ml/input/data' # 경로\n",
    "after_fe_path = os.path.join(data_dir, 'lgbm_user_acc_difficulty.pkl')\n",
    "df = pd.read_pickle(after_fe_path)\n",
    "\n",
    "train_df = df[df.kind=='train']\n",
    "train, valid = custom_train_test_split(train_df, ratio=0.7, seed=SEED) # 훈련데이터 split\n",
    "test = df[df.kind=='test'] # 테스트 데이터\n",
    "train2 = test[test.answerCode!=-1] # 테스트데이터 마지막 제출 2번쨰꺼까지 훈련데이터로 사용\n",
    "train = pd.concat([train,train2]) # 훈련데이터 병합\n",
    "train.shape, valid.shape, test.shape\n",
    "\n",
    "x_train = train.drop('answerCode',axis=1)\n",
    "y_train = train[['answerCode']]\n",
    "\n",
    "x_valid = valid.drop('answerCode',axis=1)\n",
    "y_valid = valid[['answerCode']]\n",
    "x_train.shape, y_train.shape, x_valid.shape, y_valid.shape"
   ]
  },
  {
   "cell_type": "markdown",
   "id": "5cc103e3",
   "metadata": {},
   "source": [
    "## Hyper Parameter 설정"
   ]
  },
  {
   "cell_type": "code",
   "execution_count": 2,
   "id": "a5bb8a1a",
   "metadata": {
    "ExecuteTime": {
     "end_time": "2022-12-04T16:21:52.483022Z",
     "start_time": "2022-12-04T16:21:52.477865Z"
    }
   },
   "outputs": [],
   "source": [
    "# Hyper parameter 설정\n",
    "params = {\n",
    "#     \"max_depth\": 8,  # 8,\n",
    "#     \"min_data_in_leaf\": 1000,\n",
    "    # \"feature_fraction\": 0.6,  # 0.8,\n",
    "#     \"bagging_fraction\": 0.75,\n",
    "    # \"max_cat_group\": 64,\n",
    "    \"objective\": \"binary\",\n",
    "#     \"boosting\": \"gbdt\",  # dart\n",
    "    \"learning_rate\": 0.023,  # 0.01,\n",
    "    # \"bagging_freq\": 5,\n",
    "    \"seed\": 42,\n",
    "    # \"max_bin\": 50,\n",
    "#     \"num_leaves\": 80,  # 40,\n",
    "#     \"metric\": \"auc\",\n",
    "}"
   ]
  },
  {
   "cell_type": "code",
   "execution_count": 3,
   "id": "c824f78d",
   "metadata": {
    "ExecuteTime": {
     "end_time": "2022-12-04T16:21:52.495560Z",
     "start_time": "2022-12-04T16:21:52.484254Z"
    }
   },
   "outputs": [
    {
     "data": {
      "text/plain": [
       "Index(['userID', 'assessmentItemID', 'testId', 'answerCode', 'Timestamp',\n",
       "       'KnowledgeTag', 'kind', 'uidIdx', 'assIdx', 'testIdx',\n",
       "       'user_correct_answer', 'user_total_answer', 'user_acc', 'month', 'day',\n",
       "       'hour', 'dayname', 'big_category', 'problem_num', 'mid_category',\n",
       "       'test_mean', 'test_std', 'test_sum', 'tag_mean', 'tag_std', 'tag_sum',\n",
       "       'Timestamp2', 'solvetime', 'solvesec', 'solvesec_3600', 'time_category',\n",
       "       'solvesec_cumsum', 'solvecumsum_category', 'big_category_cumconut',\n",
       "       'big_category_answer', 'big_category_user_cum_acc',\n",
       "       'mid_category_cumconut', 'mid_category_answer',\n",
       "       'mid_category_user_cum_acc', 'ass_acc_mean', 'ass_difficulty',\n",
       "       'ass_acc_std', 'pb_num_acc_mean', 'pb_num_difficulty', 'pb_num_acc_std',\n",
       "       'user_tag_acc_mean', 'user_pbnum_acc_mean', 'user_tag_difficulty',\n",
       "       'user_pbnum_difficulty'],\n",
       "      dtype='object')"
      ]
     },
     "execution_count": 3,
     "metadata": {},
     "output_type": "execute_result"
    }
   ],
   "source": [
    "df.columns"
   ]
  },
  {
   "cell_type": "markdown",
   "id": "f1db3fb0",
   "metadata": {},
   "source": [
    "## user_tag_acc_mean 추가"
   ]
  },
  {
   "cell_type": "code",
   "execution_count": 4,
   "id": "2b5f54a7",
   "metadata": {
    "ExecuteTime": {
     "end_time": "2022-12-04T16:26:53.483728Z",
     "start_time": "2022-12-04T16:22:28.659161Z"
    }
   },
   "outputs": [
    {
     "data": {
      "text/plain": [
       "([0, 1, 2, 3, 6, 7, 8, 9, 11, 21, 23],\n",
       " '🌈(12/05 Mon)[LGBM user_tag_acc_mean 추가] 피처: 31개',\n",
       " '사용된 피처(31)\\nuidIdx, assIdx, testIdx, KnowledgeTag, user_correct_answer, user_total_answer, big_category, mid_category, problem_num, month, day, dayname, hour, user_acc, test_mean, test_sum, test_std, tag_std, tag_mean, tag_sum, solvesec_3600, time_category, solvesec_cumsum, solvecumsum_category, big_category_cumconut, big_category_user_cum_acc, mid_category_cumconut, mid_category_user_cum_acc, ass_difficulty, pb_num_difficulty, user_tag_acc_mean')"
      ]
     },
     "execution_count": 4,
     "metadata": {},
     "output_type": "execute_result"
    },
    {
     "name": "stdout",
     "output_type": "stream",
     "text": [
      "[LightGBM] [Info] Number of positive: 1208276, number of negative: 637263\n",
      "[LightGBM] [Warning] Auto-choosing row-wise multi-threading, the overhead of testing was 0.030390 seconds.\n",
      "You can set `force_row_wise=true` to remove the overhead.\n",
      "And if memory is not enough, you can set `force_col_wise=true`.\n",
      "[LightGBM] [Info] Total Bins 20138\n",
      "[LightGBM] [Info] Number of data points in the train set: 1845539, number of used features: 31\n",
      "[LightGBM] [Info] [binary:BoostFromScore]: pavg=0.654701 -> initscore=0.639767\n",
      "[LightGBM] [Info] Start training from score 0.639767\n",
      "Training until validation scores don't improve for 100 rounds\n",
      "[100]\tvalid_0's binary_logloss: 0.329181\n",
      "[200]\tvalid_0's binary_logloss: 0.280163\n",
      "[300]\tvalid_0's binary_logloss: 0.264976\n",
      "[400]\tvalid_0's binary_logloss: 0.257331\n",
      "[500]\tvalid_0's binary_logloss: 0.252519\n",
      "[600]\tvalid_0's binary_logloss: 0.249612\n",
      "[700]\tvalid_0's binary_logloss: 0.24751\n",
      "[800]\tvalid_0's binary_logloss: 0.245477\n",
      "[900]\tvalid_0's binary_logloss: 0.242723\n",
      "[1000]\tvalid_0's binary_logloss: 0.240999\n",
      "[1100]\tvalid_0's binary_logloss: 0.239832\n",
      "[1200]\tvalid_0's binary_logloss: 0.23861\n",
      "[1300]\tvalid_0's binary_logloss: 0.237394\n",
      "[1400]\tvalid_0's binary_logloss: 0.235971\n",
      "[1500]\tvalid_0's binary_logloss: 0.23481\n",
      "[1600]\tvalid_0's binary_logloss: 0.23369\n",
      "[1700]\tvalid_0's binary_logloss: 0.232727\n",
      "[1800]\tvalid_0's binary_logloss: 0.231928\n",
      "[1900]\tvalid_0's binary_logloss: 0.230719\n",
      "[2000]\tvalid_0's binary_logloss: 0.229929\n",
      "[2100]\tvalid_0's binary_logloss: 0.229425\n",
      "[2200]\tvalid_0's binary_logloss: 0.228792\n",
      "[2300]\tvalid_0's binary_logloss: 0.228222\n",
      "[2400]\tvalid_0's binary_logloss: 0.227719\n",
      "[2500]\tvalid_0's binary_logloss: 0.227062\n",
      "[2600]\tvalid_0's binary_logloss: 0.226552\n",
      "[2700]\tvalid_0's binary_logloss: 0.225887\n",
      "[2800]\tvalid_0's binary_logloss: 0.225524\n",
      "[2900]\tvalid_0's binary_logloss: 0.225097\n",
      "[3000]\tvalid_0's binary_logloss: 0.224747\n",
      "[3100]\tvalid_0's binary_logloss: 0.224323\n",
      "[3200]\tvalid_0's binary_logloss: 0.223874\n",
      "Did not meet early stopping. Best iteration is:\n",
      "[3200]\tvalid_0's binary_logloss: 0.223874\n",
      "VALID AUC : 0.9684244309485015 ACC : 0.9098277608915907\n",
      "\n",
      "model3_run_id='9f01fdbf766f4765b5749fa57aadfdc5'\n",
      "writing prediction : output/12_05_Mon_LGBM_user_tag_acc_mean_추가_피처_31개.csv\n"
     ]
    },
    {
     "data": {
      "image/png": "[encoded data removed]",
      "text/plain": [
       "<Figure size 640x480 with 1 Axes>"
      ]
     },
     "metadata": {},
     "output_type": "display_data"
    }
   ],
   "source": [
    "### 피처 설정\n",
    "# 사용할 Feature 설정\n",
    "FEATS = ['uidIdx',\n",
    "         'assIdx',\n",
    "         'testIdx',\n",
    "         'KnowledgeTag',\n",
    "         'user_correct_answer',\n",
    "         'user_total_answer',\n",
    "         'big_category',\n",
    "         'mid_category',\n",
    "         'problem_num',\n",
    "         'month','day','dayname','hour',\n",
    "         'user_acc',\n",
    "         'test_mean',\n",
    "         'test_sum',\n",
    "         'test_std',\n",
    "         'tag_std',\n",
    "         'tag_mean',\n",
    "         'tag_sum',\n",
    "         'solvesec_3600',\n",
    "         'time_category',\n",
    "         'solvesec_cumsum',\n",
    "         'solvecumsum_category',\n",
    "         'big_category_cumconut',\n",
    "         'big_category_user_cum_acc',\n",
    "         'mid_category_cumconut',\n",
    "         'mid_category_user_cum_acc',\n",
    "         'ass_difficulty',\n",
    "         'pb_num_difficulty',\n",
    "         'user_tag_acc_mean'\n",
    "        ]\n",
    "\n",
    "cat_feats = ['uidIdx','assIdx','testIdx','KnowledgeTag','big_category','mid_category',\n",
    "             'problem_num','dayname','month','time_category','solvecumsum_category']\n",
    "cat_feats_idx = [i for i,e in enumerate(FEATS) if e in cat_feats]\n",
    "\n",
    "### 학습 및 예측\n",
    "\n",
    "date = datetime.now().strftime('%m/%d %a')\n",
    "title=f\"🌈({date})[LGBM user_tag_acc_mean 추가] 피처: {len(FEATS)}개\"\n",
    "using_feats=\", \".join(FEATS)\n",
    "desc=f\"사용된 피처({len(FEATS)})\\n{using_feats}\"\n",
    "cat_feats_idx, title, desc\n",
    "\n",
    "mlflow.lightgbm.autolog()\n",
    "lgb_x_train = lgb.Dataset(x_train[FEATS], y_train)\n",
    "lgb_x_valid = lgb.Dataset(x_valid[FEATS], y_valid)\n",
    "\n",
    "with mlflow.start_run(run_name=title, description=desc) as run:\n",
    "    model3 = lgb.train(\n",
    "        params, \n",
    "        lgb_x_train,\n",
    "        valid_sets=[lgb_x_valid],\n",
    "        verbose_eval=100,\n",
    "        num_boost_round=3200,\n",
    "        categorical_feature=cat_feats_idx,\n",
    "        early_stopping_rounds=100,\n",
    "    )\n",
    "    preds = model3.predict(x_valid[FEATS])\n",
    "    acc = accuracy_score(y_valid, np.where(preds >= 0.5, 1, 0))\n",
    "    auc = roc_auc_score(y_valid, preds)\n",
    "    print(f'VALID AUC : {auc} ACC : {acc}\\n')\n",
    "    mlflow.log_metric(\"VAL AUC\",auc)\n",
    "    mlflow.log_metric(\"VAL Set SEED\",SEED)\n",
    "    model3_run_id=run.info.run_id\n",
    "    post_slack(\"done\")\n",
    "    print(f\"{model3_run_id=}\")\n",
    "    file_name = title2filename(title)\n",
    "    test_preds = lgbm_predict(test, model3, FEATS, f'{file_name}.csv')\n",
    "\n",
    "q = pd.Series(test_preds).plot(kind='kde')"
   ]
  },
  {
   "cell_type": "code",
   "execution_count": 10,
   "id": "26e3d8f3",
   "metadata": {
    "ExecuteTime": {
     "end_time": "2022-12-04T17:10:11.332477Z",
     "start_time": "2022-12-04T17:10:11.296209Z"
    }
   },
   "outputs": [
    {
     "data": {
      "text/plain": [
       "<ActiveRun: >"
      ]
     },
     "execution_count": 10,
     "metadata": {},
     "output_type": "execute_result"
    },
    {
     "name": "stdout",
     "output_type": "stream",
     "text": [
      "Active run_id: 9f01fdbf766f4765b5749fa57aadfdc5\n"
     ]
    }
   ],
   "source": [
    "### 제출 mlflow 등록\n",
    "# 제출시\n",
    "LB_AUC=0.6769\n",
    "run_id = '9f01fdbf766f4765b5749fa57aadfdc5'\n",
    "mlflow.start_run(run_id=run_id)\n",
    "run = mlflow.active_run()\n",
    "print(\"Active run_id: {}\".format(run.info.run_id))\n",
    "mlflow.log_metric(\"LB AUC\",LB_AUC)\n",
    "mlflow.end_run()"
   ]
  },
  {
   "cell_type": "markdown",
   "id": "917173c3",
   "metadata": {},
   "source": [
    "## user_tag_difficulty 추가"
   ]
  },
  {
   "cell_type": "code",
   "execution_count": 5,
   "id": "dcc67154",
   "metadata": {
    "ExecuteTime": {
     "end_time": "2022-12-04T16:31:36.260136Z",
     "start_time": "2022-12-04T16:26:53.486644Z"
    }
   },
   "outputs": [
    {
     "data": {
      "text/plain": [
       "([0, 1, 2, 3, 6, 7, 8, 9, 11, 21, 23],\n",
       " '🌈(12/05 Mon)[LGBM user_tag_difficulty 추가] 피처: 32개',\n",
       " '사용된 피처(32)\\nuidIdx, assIdx, testIdx, KnowledgeTag, user_correct_answer, user_total_answer, big_category, mid_category, problem_num, month, day, dayname, hour, user_acc, test_mean, test_sum, test_std, tag_std, tag_mean, tag_sum, solvesec_3600, time_category, solvesec_cumsum, solvecumsum_category, big_category_cumconut, big_category_user_cum_acc, mid_category_cumconut, mid_category_user_cum_acc, ass_difficulty, pb_num_difficulty, user_tag_acc_mean, user_tag_difficulty')"
      ]
     },
     "execution_count": 5,
     "metadata": {},
     "output_type": "execute_result"
    },
    {
     "name": "stdout",
     "output_type": "stream",
     "text": [
      "[LightGBM] [Info] Number of positive: 1208276, number of negative: 637263\n",
      "[LightGBM] [Warning] Auto-choosing row-wise multi-threading, the overhead of testing was 0.037118 seconds.\n",
      "You can set `force_row_wise=true` to remove the overhead.\n",
      "And if memory is not enough, you can set `force_col_wise=true`.\n",
      "[LightGBM] [Info] Total Bins 20296\n",
      "[LightGBM] [Info] Number of data points in the train set: 1845539, number of used features: 32\n",
      "[LightGBM] [Info] [binary:BoostFromScore]: pavg=0.654701 -> initscore=0.639767\n",
      "[LightGBM] [Info] Start training from score 0.639767\n",
      "Training until validation scores don't improve for 100 rounds\n",
      "[100]\tvalid_0's binary_logloss: 0.329288\n",
      "[200]\tvalid_0's binary_logloss: 0.280026\n",
      "[300]\tvalid_0's binary_logloss: 0.264887\n",
      "[400]\tvalid_0's binary_logloss: 0.257157\n",
      "[500]\tvalid_0's binary_logloss: 0.252811\n",
      "[600]\tvalid_0's binary_logloss: 0.249545\n",
      "[700]\tvalid_0's binary_logloss: 0.247206\n",
      "[800]\tvalid_0's binary_logloss: 0.244916\n",
      "[900]\tvalid_0's binary_logloss: 0.24299\n",
      "[1000]\tvalid_0's binary_logloss: 0.241239\n",
      "[1100]\tvalid_0's binary_logloss: 0.239793\n",
      "[1200]\tvalid_0's binary_logloss: 0.238979\n",
      "[1300]\tvalid_0's binary_logloss: 0.23749\n",
      "[1400]\tvalid_0's binary_logloss: 0.236064\n",
      "[1500]\tvalid_0's binary_logloss: 0.234833\n",
      "[1600]\tvalid_0's binary_logloss: 0.233807\n",
      "[1700]\tvalid_0's binary_logloss: 0.232999\n",
      "[1800]\tvalid_0's binary_logloss: 0.231785\n",
      "[1900]\tvalid_0's binary_logloss: 0.230871\n",
      "[2000]\tvalid_0's binary_logloss: 0.22989\n",
      "[2100]\tvalid_0's binary_logloss: 0.229246\n",
      "[2200]\tvalid_0's binary_logloss: 0.228477\n",
      "[2300]\tvalid_0's binary_logloss: 0.22787\n",
      "[2400]\tvalid_0's binary_logloss: 0.227371\n",
      "[2500]\tvalid_0's binary_logloss: 0.226749\n",
      "[2600]\tvalid_0's binary_logloss: 0.226303\n",
      "[2700]\tvalid_0's binary_logloss: 0.225831\n",
      "[2800]\tvalid_0's binary_logloss: 0.22549\n",
      "[2900]\tvalid_0's binary_logloss: 0.225136\n",
      "[3000]\tvalid_0's binary_logloss: 0.224665\n",
      "[3100]\tvalid_0's binary_logloss: 0.224508\n",
      "[3200]\tvalid_0's binary_logloss: 0.223887\n",
      "Did not meet early stopping. Best iteration is:\n",
      "[3195]\tvalid_0's binary_logloss: 0.223874\n",
      "VALID AUC : 0.9683688836221793 ACC : 0.9062816616008106\n",
      "\n",
      "model4_run_id='40a73d9889ce4364a6934fb4fb125130'\n",
      "writing prediction : output/12_05_Mon_LGBM_user_tag_difficulty_추가_피처_32개.csv\n"
     ]
    },
    {
     "data": {
      "image/png": "[encoded data removed]",
      "text/plain": [
       "<Figure size 640x480 with 1 Axes>"
      ]
     },
     "metadata": {},
     "output_type": "display_data"
    }
   ],
   "source": [
    "### 피처 설정\n",
    "# 사용할 Feature 설정\n",
    "FEATS = ['uidIdx',\n",
    "         'assIdx',\n",
    "         'testIdx',\n",
    "         'KnowledgeTag',\n",
    "         'user_correct_answer',\n",
    "         'user_total_answer',\n",
    "         'big_category',\n",
    "         'mid_category',\n",
    "         'problem_num',\n",
    "         'month','day','dayname','hour',\n",
    "         'user_acc',\n",
    "         'test_mean',\n",
    "         'test_sum',\n",
    "         'test_std',\n",
    "         'tag_std',\n",
    "         'tag_mean',\n",
    "         'tag_sum',\n",
    "         'solvesec_3600',\n",
    "         'time_category',\n",
    "         'solvesec_cumsum',\n",
    "         'solvecumsum_category',\n",
    "         'big_category_cumconut',\n",
    "         'big_category_user_cum_acc',\n",
    "         'mid_category_cumconut',\n",
    "         'mid_category_user_cum_acc',\n",
    "         'ass_difficulty',\n",
    "         'pb_num_difficulty',\n",
    "         'user_tag_acc_mean',\n",
    "         'user_tag_difficulty',\n",
    "        ]\n",
    "\n",
    "cat_feats = ['uidIdx','assIdx','testIdx','KnowledgeTag','big_category','mid_category',\n",
    "             'problem_num','dayname','month','time_category','solvecumsum_category']\n",
    "cat_feats_idx = [i for i,e in enumerate(FEATS) if e in cat_feats]\n",
    "\n",
    "### 학습 및 예측\n",
    "\n",
    "date = datetime.now().strftime('%m/%d %a')\n",
    "title=f\"🌈({date})[LGBM user_tag_difficulty 추가] 피처: {len(FEATS)}개\"\n",
    "using_feats=\", \".join(FEATS)\n",
    "desc=f\"사용된 피처({len(FEATS)})\\n{using_feats}\"\n",
    "cat_feats_idx, title, desc\n",
    "\n",
    "mlflow.lightgbm.autolog()\n",
    "lgb_x_train = lgb.Dataset(x_train[FEATS], y_train)\n",
    "lgb_x_valid = lgb.Dataset(x_valid[FEATS], y_valid)\n",
    "\n",
    "with mlflow.start_run(run_name=title, description=desc) as run:\n",
    "    model4 = lgb.train(\n",
    "        params, \n",
    "        lgb_x_train,\n",
    "        valid_sets=[lgb_x_valid],\n",
    "        verbose_eval=100,\n",
    "        num_boost_round=3200,\n",
    "        categorical_feature=cat_feats_idx,\n",
    "        early_stopping_rounds=100,\n",
    "    )\n",
    "    preds = model4.predict(x_valid[FEATS])\n",
    "    acc = accuracy_score(y_valid, np.where(preds >= 0.5, 1, 0))\n",
    "    auc = roc_auc_score(y_valid, preds)\n",
    "    print(f'VALID AUC : {auc} ACC : {acc}\\n')\n",
    "    mlflow.log_metric(\"VAL AUC\",auc)\n",
    "    mlflow.log_metric(\"VAL Set SEED\",SEED)\n",
    "    model4_run_id=run.info.run_id\n",
    "    post_slack(\"done\")\n",
    "    print(f\"{model4_run_id=}\")\n",
    "    file_name = title2filename(title)\n",
    "    test_preds = lgbm_predict(test, model4, FEATS, f'{file_name}.csv')\n",
    "\n",
    "q = pd.Series(test_preds).plot(kind='kde')"
   ]
  },
  {
   "cell_type": "code",
   "execution_count": null,
   "id": "4d5b1b87",
   "metadata": {},
   "outputs": [],
   "source": [
    "### 제출 mlflow 등록\n",
    "# 제출시\n",
    "LB_AUC=0.8190\n",
    "run_id = 'ad6c0253c9bd4f4d9557988b0a482e99'\n",
    "mlflow.start_run(run_id=run_id)\n",
    "run = mlflow.active_run()\n",
    "print(\"Active run_id: {}\".format(run.info.run_id))\n",
    "mlflow.log_metric(\"LB AUC\",LB_AUC)\n",
    "mlflow.end_run()"
   ]
  },
  {
   "cell_type": "markdown",
   "id": "cec03021",
   "metadata": {},
   "source": [
    "## user_pbnum_acc_mean만 추가"
   ]
  },
  {
   "cell_type": "code",
   "execution_count": 8,
   "id": "20faa6d3",
   "metadata": {
    "ExecuteTime": {
     "end_time": "2022-12-04T17:00:46.476192Z",
     "start_time": "2022-12-04T16:58:14.245052Z"
    }
   },
   "outputs": [
    {
     "data": {
      "text/plain": [
       "([0, 1, 2, 3, 6, 7, 8, 9, 11, 21, 23],\n",
       " '🌈(12/05 Mon)[LGBM user_pbnum_acc_mean만 추가] 피처: 31개',\n",
       " '사용된 피처(31)\\nuidIdx, assIdx, testIdx, KnowledgeTag, user_correct_answer, user_total_answer, big_category, mid_category, problem_num, month, day, dayname, hour, user_acc, test_mean, test_sum, test_std, tag_std, tag_mean, tag_sum, solvesec_3600, time_category, solvesec_cumsum, solvecumsum_category, big_category_cumconut, big_category_user_cum_acc, mid_category_cumconut, mid_category_user_cum_acc, ass_difficulty, pb_num_difficulty, user_pbnum_acc_mean')"
      ]
     },
     "execution_count": 8,
     "metadata": {},
     "output_type": "execute_result"
    },
    {
     "name": "stdout",
     "output_type": "stream",
     "text": [
      "[LightGBM] [Info] Number of positive: 1208276, number of negative: 637263\n",
      "[LightGBM] [Warning] Auto-choosing row-wise multi-threading, the overhead of testing was 0.030801 seconds.\n",
      "You can set `force_row_wise=true` to remove the overhead.\n",
      "And if memory is not enough, you can set `force_col_wise=true`.\n",
      "[LightGBM] [Info] Total Bins 20233\n",
      "[LightGBM] [Info] Number of data points in the train set: 1845539, number of used features: 31\n",
      "[LightGBM] [Info] [binary:BoostFromScore]: pavg=0.654701 -> initscore=0.639767\n",
      "[LightGBM] [Info] Start training from score 0.639767\n",
      "Training until validation scores don't improve for 100 rounds\n",
      "[100]\tvalid_0's binary_logloss: 0.50728\n",
      "[200]\tvalid_0's binary_logloss: 0.472802\n",
      "[300]\tvalid_0's binary_logloss: 0.463581\n",
      "[400]\tvalid_0's binary_logloss: 0.458891\n",
      "[500]\tvalid_0's binary_logloss: 0.455879\n",
      "[600]\tvalid_0's binary_logloss: 0.453959\n",
      "[700]\tvalid_0's binary_logloss: 0.452631\n",
      "[800]\tvalid_0's binary_logloss: 0.451633\n",
      "[900]\tvalid_0's binary_logloss: 0.451043\n",
      "[1000]\tvalid_0's binary_logloss: 0.45062\n",
      "[1100]\tvalid_0's binary_logloss: 0.450067\n",
      "[1200]\tvalid_0's binary_logloss: 0.44965\n",
      "[1300]\tvalid_0's binary_logloss: 0.449395\n",
      "[1400]\tvalid_0's binary_logloss: 0.449277\n",
      "[1500]\tvalid_0's binary_logloss: 0.449203\n",
      "[1600]\tvalid_0's binary_logloss: 0.448988\n",
      "[1700]\tvalid_0's binary_logloss: 0.449146\n",
      "Early stopping, best iteration is:\n",
      "[1634]\tvalid_0's binary_logloss: 0.44896\n",
      "VALID AUC : 0.8670587896443325 ACC : 0.7740628166160081\n",
      "\n",
      "model5_run_id='fdfc86e854b54e10982cf666cb9b48da'\n",
      "writing prediction : output/12_05_Mon_LGBM_user_pbnum_acc_mean만_추가_피처_31개.csv\n"
     ]
    },
    {
     "data": {
      "image/png": "[encoded data removed]",
      "text/plain": [
       "<Figure size 640x480 with 1 Axes>"
      ]
     },
     "metadata": {},
     "output_type": "display_data"
    }
   ],
   "source": [
    "### 피처 설정\n",
    "# 사용할 Feature 설정\n",
    "FEATS = ['uidIdx',\n",
    "         'assIdx',\n",
    "         'testIdx',\n",
    "         'KnowledgeTag',\n",
    "         'user_correct_answer',\n",
    "         'user_total_answer',\n",
    "         'big_category',\n",
    "         'mid_category',\n",
    "         'problem_num',\n",
    "         'month','day','dayname','hour',\n",
    "         'user_acc',\n",
    "         'test_mean',\n",
    "         'test_sum',\n",
    "         'test_std',\n",
    "         'tag_std',\n",
    "         'tag_mean',\n",
    "         'tag_sum',\n",
    "         'solvesec_3600',\n",
    "         'time_category',\n",
    "         'solvesec_cumsum',\n",
    "         'solvecumsum_category',\n",
    "         'big_category_cumconut',\n",
    "         'big_category_user_cum_acc',\n",
    "         'mid_category_cumconut',\n",
    "         'mid_category_user_cum_acc',\n",
    "         'ass_difficulty',\n",
    "         'pb_num_difficulty',\n",
    "         'user_pbnum_acc_mean'\n",
    "        ]\n",
    "\n",
    "cat_feats = ['uidIdx','assIdx','testIdx','KnowledgeTag','big_category','mid_category',\n",
    "             'problem_num','dayname','month','time_category','solvecumsum_category']\n",
    "cat_feats_idx = [i for i,e in enumerate(FEATS) if e in cat_feats]\n",
    "\n",
    "### 학습 및 예측\n",
    "\n",
    "date = datetime.now().strftime('%m/%d %a')\n",
    "title=f\"🌈({date})[LGBM user_pbnum_acc_mean만 추가] 피처: {len(FEATS)}개\"\n",
    "using_feats=\", \".join(FEATS)\n",
    "desc=f\"사용된 피처({len(FEATS)})\\n{using_feats}\"\n",
    "cat_feats_idx, title, desc\n",
    "\n",
    "mlflow.lightgbm.autolog()\n",
    "lgb_x_train = lgb.Dataset(x_train[FEATS], y_train)\n",
    "lgb_x_valid = lgb.Dataset(x_valid[FEATS], y_valid)\n",
    "\n",
    "with mlflow.start_run(run_name=title, description=desc) as run:\n",
    "    model5 = lgb.train(\n",
    "        params, \n",
    "        lgb_x_train,\n",
    "        valid_sets=[lgb_x_valid],\n",
    "        verbose_eval=100,\n",
    "        num_boost_round=3200,\n",
    "        categorical_feature=cat_feats_idx,\n",
    "        early_stopping_rounds=100,\n",
    "    )\n",
    "    preds = model5.predict(x_valid[FEATS])\n",
    "    acc = accuracy_score(y_valid, np.where(preds >= 0.5, 1, 0))\n",
    "    auc = roc_auc_score(y_valid, preds)\n",
    "    print(f'VALID AUC : {auc} ACC : {acc}\\n')\n",
    "    mlflow.log_metric(\"VAL AUC\",auc)\n",
    "    mlflow.log_metric(\"VAL Set SEED\",SEED)\n",
    "    model5_run_id=run.info.run_id\n",
    "    post_slack(\"done\")\n",
    "    print(f\"{model5_run_id=}\")\n",
    "    file_name = title2filename(title)\n",
    "    test_preds = lgbm_predict(test, model5, FEATS, f'{file_name}.csv')\n",
    "\n",
    "q = pd.Series(test_preds).plot(kind='kde')"
   ]
  },
  {
   "cell_type": "code",
   "execution_count": 9,
   "id": "7626d10f",
   "metadata": {
    "ExecuteTime": {
     "end_time": "2022-12-04T17:09:34.075176Z",
     "start_time": "2022-12-04T17:09:34.046770Z"
    }
   },
   "outputs": [
    {
     "data": {
      "text/plain": [
       "<ActiveRun: >"
      ]
     },
     "execution_count": 9,
     "metadata": {},
     "output_type": "execute_result"
    },
    {
     "name": "stdout",
     "output_type": "stream",
     "text": [
      "Active run_id: fdfc86e854b54e10982cf666cb9b48da\n"
     ]
    }
   ],
   "source": [
    "### 제출 mlflow 등록\n",
    "# 제출시\n",
    "LB_AUC=0.7781\n",
    "run_id = 'fdfc86e854b54e10982cf666cb9b48da'\n",
    "mlflow.start_run(run_id=run_id)\n",
    "run = mlflow.active_run()\n",
    "print(\"Active run_id: {}\".format(run.info.run_id))\n",
    "mlflow.log_metric(\"LB AUC\",LB_AUC)\n",
    "mlflow.end_run()"
   ]
  },
  {
   "cell_type": "markdown",
   "id": "10615632",
   "metadata": {},
   "source": [
    "## user_pbnum_difficulty만 추가"
   ]
  },
  {
   "cell_type": "code",
   "execution_count": 13,
   "id": "51b12ce3",
   "metadata": {
    "ExecuteTime": {
     "end_time": "2022-12-04T17:18:45.972188Z",
     "start_time": "2022-12-04T17:17:52.841274Z"
    }
   },
   "outputs": [
    {
     "data": {
      "text/plain": [
       "([0, 1, 2, 3, 6, 7, 8, 9, 11, 21, 23],\n",
       " '🌈(12/05 Mon)[LGBM user_pbnum_difficulty만 추가] 피처: 31개',\n",
       " '사용된 피처(31)\\nuidIdx, assIdx, testIdx, KnowledgeTag, user_correct_answer, user_total_answer, big_category, mid_category, problem_num, month, day, dayname, hour, user_acc, test_mean, test_sum, test_std, tag_std, tag_mean, tag_sum, solvesec_3600, time_category, solvesec_cumsum, solvecumsum_category, big_category_cumconut, big_category_user_cum_acc, mid_category_cumconut, mid_category_user_cum_acc, ass_difficulty, pb_num_difficulty, user_pbnum_difficulty')"
      ]
     },
     "execution_count": 13,
     "metadata": {},
     "output_type": "execute_result"
    },
    {
     "name": "stdout",
     "output_type": "stream",
     "text": [
      "[LightGBM] [Warning] Accuracy may be bad since you didn't explicitly set num_leaves OR 2^max_depth > num_leaves. (num_leaves=31).\n",
      "[LightGBM] [Warning] Accuracy may be bad since you didn't explicitly set num_leaves OR 2^max_depth > num_leaves. (num_leaves=31).\n",
      "[LightGBM] [Info] Number of positive: 1208276, number of negative: 637263\n",
      "[LightGBM] [Warning] Auto-choosing row-wise multi-threading, the overhead of testing was 0.030450 seconds.\n",
      "You can set `force_row_wise=true` to remove the overhead.\n",
      "And if memory is not enough, you can set `force_col_wise=true`.\n",
      "[LightGBM] [Info] Total Bins 20233\n",
      "[LightGBM] [Info] Number of data points in the train set: 1845539, number of used features: 31\n",
      "[LightGBM] [Warning] Accuracy may be bad since you didn't explicitly set num_leaves OR 2^max_depth > num_leaves. (num_leaves=31).\n",
      "[LightGBM] [Info] [binary:BoostFromScore]: pavg=0.654701 -> initscore=0.639767\n",
      "[LightGBM] [Info] Start training from score 0.639767\n",
      "Training until validation scores don't improve for 100 rounds\n",
      "[100]\tvalid_0's binary_logloss: 0.506881\n",
      "[200]\tvalid_0's binary_logloss: 0.4723\n",
      "[300]\tvalid_0's binary_logloss: 0.463464\n",
      "[400]\tvalid_0's binary_logloss: 0.459366\n",
      "[500]\tvalid_0's binary_logloss: 0.457185\n",
      "Did not meet early stopping. Best iteration is:\n",
      "[500]\tvalid_0's binary_logloss: 0.457185\n",
      "VALID AUC : 0.8618219111571949 ACC : 0.7735562310030395\n",
      "\n",
      "model6_run_id='86407f14b0b44c2392e4d62ebd354965'\n",
      "writing prediction : output/12_05_Mon_LGBM_user_pbnum_difficulty만_추가_피처_31개.csv\n"
     ]
    },
    {
     "data": {
      "image/png": "[encoded data removed]",
      "text/plain": [
       "<Figure size 640x480 with 1 Axes>"
      ]
     },
     "metadata": {},
     "output_type": "display_data"
    }
   ],
   "source": [
    "# Hyper parameter 설정\n",
    "params = {\n",
    "    \"max_depth\": 8,  # 8,\n",
    "#     \"min_data_in_leaf\": 1000,\n",
    "    # \"feature_fraction\": 0.6,  # 0.8,\n",
    "#     \"bagging_fraction\": 0.75,\n",
    "    # \"max_cat_group\": 64,\n",
    "    \"objective\": \"binary\",\n",
    "#     \"boosting\": \"gbdt\",  # dart\n",
    "    \"learning_rate\": 0.023,  # 0.01,\n",
    "    # \"bagging_freq\": 5,\n",
    "    \"seed\": 42,\n",
    "    # \"max_bin\": 50,\n",
    "#     \"num_leaves\": 80,  # 40,\n",
    "#     \"metric\": \"auc\",\n",
    "}\n",
    "### 피처 설정\n",
    "# 사용할 Feature 설정\n",
    "FEATS = ['uidIdx',\n",
    "         'assIdx',\n",
    "         'testIdx',\n",
    "         'KnowledgeTag',\n",
    "         'user_correct_answer',\n",
    "         'user_total_answer',\n",
    "         'big_category',\n",
    "         'mid_category',\n",
    "         'problem_num',\n",
    "         'month','day','dayname','hour',\n",
    "         'user_acc',\n",
    "         'test_mean',\n",
    "         'test_sum',\n",
    "         'test_std',\n",
    "         'tag_std',\n",
    "         'tag_mean',\n",
    "         'tag_sum',\n",
    "         'solvesec_3600',\n",
    "         'time_category',\n",
    "         'solvesec_cumsum',\n",
    "         'solvecumsum_category',\n",
    "         'big_category_cumconut',\n",
    "         'big_category_user_cum_acc',\n",
    "         'mid_category_cumconut',\n",
    "         'mid_category_user_cum_acc',\n",
    "         'ass_difficulty',\n",
    "         'pb_num_difficulty',\n",
    "         'user_pbnum_difficulty'\n",
    "        ]\n",
    "\n",
    "cat_feats = ['uidIdx','assIdx','testIdx','KnowledgeTag','big_category','mid_category',\n",
    "             'problem_num','dayname','month','time_category','solvecumsum_category']\n",
    "cat_feats_idx = [i for i,e in enumerate(FEATS) if e in cat_feats]\n",
    "\n",
    "### 학습 및 예측\n",
    "\n",
    "date = datetime.now().strftime('%m/%d %a')\n",
    "title=f\"🌈({date})[LGBM user_pbnum_difficulty만 추가] 피처: {len(FEATS)}개\"\n",
    "using_feats=\", \".join(FEATS)\n",
    "desc=f\"사용된 피처({len(FEATS)})\\n{using_feats}\"\n",
    "cat_feats_idx, title, desc\n",
    "\n",
    "mlflow.lightgbm.autolog()\n",
    "lgb_x_train = lgb.Dataset(x_train[FEATS], y_train)\n",
    "lgb_x_valid = lgb.Dataset(x_valid[FEATS], y_valid)\n",
    "\n",
    "with mlflow.start_run(run_name=title, description=desc) as run:\n",
    "    model6 = lgb.train(\n",
    "        params, \n",
    "        lgb_x_train,\n",
    "        valid_sets=[lgb_x_valid],\n",
    "        verbose_eval=100,\n",
    "        num_boost_round=500,\n",
    "        categorical_feature=cat_feats_idx,\n",
    "        early_stopping_rounds=100,\n",
    "    )\n",
    "    preds = model6.predict(x_valid[FEATS])\n",
    "    acc = accuracy_score(y_valid, np.where(preds >= 0.5, 1, 0))\n",
    "    auc = roc_auc_score(y_valid, preds)\n",
    "    print(f'VALID AUC : {auc} ACC : {acc}\\n')\n",
    "    mlflow.log_metric(\"VAL AUC\",auc)\n",
    "    mlflow.log_metric(\"VAL Set SEED\",SEED)\n",
    "    model6_run_id=run.info.run_id\n",
    "    post_slack(\"done\")\n",
    "    print(f\"{model6_run_id=}\")\n",
    "    file_name = title2filename(title)\n",
    "    test_preds = lgbm_predict(test, model6, FEATS, f'{file_name}.csv')\n",
    "\n",
    "q = pd.Series(test_preds).plot(kind='kde')"
   ]
  },
  {
   "cell_type": "markdown",
   "id": "2b364e1b",
   "metadata": {},
   "source": [
    "### HP 튜닝"
   ]
  },
  {
   "cell_type": "code",
   "execution_count": 17,
   "id": "953871f9",
   "metadata": {
    "ExecuteTime": {
     "end_time": "2022-12-04T17:49:19.261148Z",
     "start_time": "2022-12-04T17:48:23.976273Z"
    }
   },
   "outputs": [
    {
     "data": {
      "text/plain": [
       "([0, 1, 2, 3, 6, 7, 8, 9, 11, 21, 23],\n",
       " '🌈(12/05 Mon)[LGBM user_pbnum_difficulty만 추가 HP 튜닝] 피처: 31개',\n",
       " '사용된 피처(31)\\nuidIdx, assIdx, testIdx, KnowledgeTag, user_correct_answer, user_total_answer, big_category, mid_category, problem_num, month, day, dayname, hour, user_acc, test_mean, test_sum, test_std, tag_std, tag_mean, tag_sum, solvesec_3600, time_category, solvesec_cumsum, solvecumsum_category, big_category_cumconut, big_category_user_cum_acc, mid_category_cumconut, mid_category_user_cum_acc, ass_difficulty, pb_num_difficulty, user_pbnum_difficulty')"
      ]
     },
     "execution_count": 17,
     "metadata": {},
     "output_type": "execute_result"
    },
    {
     "name": "stdout",
     "output_type": "stream",
     "text": [
      "[LightGBM] [Warning] Unknown parameter: max_cat_group\n",
      "[LightGBM] [Warning] Accuracy may be bad since you didn't explicitly set num_leaves OR 2^max_depth > num_leaves. (num_leaves=31).\n",
      "[LightGBM] [Warning] Unknown parameter: max_cat_group\n",
      "[LightGBM] [Warning] Accuracy may be bad since you didn't explicitly set num_leaves OR 2^max_depth > num_leaves. (num_leaves=31).\n",
      "[LightGBM] [Info] Number of positive: 1208276, number of negative: 637263\n",
      "[LightGBM] [Warning] Auto-choosing row-wise multi-threading, the overhead of testing was 0.028500 seconds.\n",
      "You can set `force_row_wise=true` to remove the overhead.\n",
      "And if memory is not enough, you can set `force_col_wise=true`.\n",
      "[LightGBM] [Info] Total Bins 17075\n",
      "[LightGBM] [Info] Number of data points in the train set: 1845539, number of used features: 31\n",
      "[LightGBM] [Warning] Unknown parameter: max_cat_group\n",
      "[LightGBM] [Warning] Accuracy may be bad since you didn't explicitly set num_leaves OR 2^max_depth > num_leaves. (num_leaves=31).\n",
      "[LightGBM] [Info] [binary:BoostFromScore]: pavg=0.654701 -> initscore=0.639767\n",
      "[LightGBM] [Info] Start training from score 0.639767\n",
      "Training until validation scores don't improve for 100 rounds\n",
      "[100]\tvalid_0's binary_logloss: 0.516679\n",
      "[200]\tvalid_0's binary_logloss: 0.48301\n",
      "[300]\tvalid_0's binary_logloss: 0.471383\n",
      "[400]\tvalid_0's binary_logloss: 0.466622\n",
      "[500]\tvalid_0's binary_logloss: 0.463348\n",
      "Did not meet early stopping. Best iteration is:\n",
      "[500]\tvalid_0's binary_logloss: 0.463348\n",
      "VALID AUC : 0.8598602676146743 ACC : 0.7725430597771024\n",
      "\n",
      "model61_run_id='8343e5deb39446cf9cb68b6c227f9c70'\n",
      "writing prediction : output/12_05_Mon_LGBM_user_pbnum_difficulty만_추가_HP_튜닝_피처_31개.csv\n"
     ]
    },
    {
     "data": {
      "image/png": "[encoded data removed]",
      "text/plain": [
       "<Figure size 640x480 with 1 Axes>"
      ]
     },
     "metadata": {},
     "output_type": "display_data"
    }
   ],
   "source": [
    "# Hyper parameter 설정\n",
    "params = {\n",
    "    \"max_depth\": 8,  # 8,\n",
    "#     \"min_data_in_leaf\": 1000,\n",
    "    \"feature_fraction\": 0.6,  # 0.8,\n",
    "    \"bagging_fraction\": 0.75,\n",
    "    \"max_cat_group\": 64,\n",
    "    \"objective\": \"binary\",\n",
    "    \"boosting\": \"gbdt\",  # dart\n",
    "    \"learning_rate\": 0.023,  # 0.01,\n",
    "    # \"bagging_freq\": 5,\n",
    "    \"seed\": 42,\n",
    "    \"max_bin\": 50,\n",
    "#     \"num_leaves\": 80,  # 40,\n",
    "#     \"metric\": \"auc\",\n",
    "     'lambda_l1': 9.5, \n",
    "     'lambda_l2': 0.005, \n",
    "    'min_child_samples': 20,\n",
    "}\n",
    "### 피처 설정\n",
    "# 사용할 Feature 설정\n",
    "FEATS = ['uidIdx',\n",
    "         'assIdx',\n",
    "         'testIdx',\n",
    "         'KnowledgeTag',\n",
    "         'user_correct_answer',\n",
    "         'user_total_answer',\n",
    "         'big_category',\n",
    "         'mid_category',\n",
    "         'problem_num',\n",
    "         'month','day','dayname','hour',\n",
    "         'user_acc',\n",
    "         'test_mean',\n",
    "         'test_sum',\n",
    "         'test_std',\n",
    "         'tag_std',\n",
    "         'tag_mean',\n",
    "         'tag_sum',\n",
    "         'solvesec_3600',\n",
    "         'time_category',\n",
    "         'solvesec_cumsum',\n",
    "         'solvecumsum_category',\n",
    "         'big_category_cumconut',\n",
    "         'big_category_user_cum_acc',\n",
    "         'mid_category_cumconut',\n",
    "         'mid_category_user_cum_acc',\n",
    "         'ass_difficulty',\n",
    "         'pb_num_difficulty',\n",
    "         'user_pbnum_difficulty'\n",
    "        ]\n",
    "\n",
    "cat_feats = ['uidIdx','assIdx','testIdx','KnowledgeTag','big_category','mid_category',\n",
    "             'problem_num','dayname','month','time_category','solvecumsum_category']\n",
    "cat_feats_idx = [i for i,e in enumerate(FEATS) if e in cat_feats]\n",
    "\n",
    "### 학습 및 예측\n",
    "\n",
    "date = datetime.now().strftime('%m/%d %a')\n",
    "title=f\"🌈({date})[LGBM user_pbnum_difficulty만 추가 HP 튜닝] 피처: {len(FEATS)}개\"\n",
    "using_feats=\", \".join(FEATS)\n",
    "desc=f\"사용된 피처({len(FEATS)})\\n{using_feats}\"\n",
    "cat_feats_idx, title, desc\n",
    "\n",
    "mlflow.lightgbm.autolog()\n",
    "lgb_x_train = lgb.Dataset(x_train[FEATS], y_train)\n",
    "lgb_x_valid = lgb.Dataset(x_valid[FEATS], y_valid)\n",
    "\n",
    "with mlflow.start_run(run_name=title, description=desc) as run:\n",
    "    model61 = lgb.train(\n",
    "        params, \n",
    "        lgb_x_train,\n",
    "        valid_sets=[lgb_x_valid],\n",
    "        verbose_eval=100,\n",
    "        num_boost_round=500,\n",
    "        categorical_feature=cat_feats_idx,\n",
    "        early_stopping_rounds=100,\n",
    "    )\n",
    "    preds = model61.predict(x_valid[FEATS])\n",
    "    acc = accuracy_score(y_valid, np.where(preds >= 0.5, 1, 0))\n",
    "    auc = roc_auc_score(y_valid, preds)\n",
    "    print(f'VALID AUC : {auc} ACC : {acc}\\n')\n",
    "    mlflow.log_metric(\"VAL AUC\",auc)\n",
    "    mlflow.log_metric(\"VAL Set SEED\",SEED)\n",
    "    model61_run_id=run.info.run_id\n",
    "    post_slack(\"done\")\n",
    "    print(f\"{model61_run_id=}\")\n",
    "    file_name = title2filename(title)\n",
    "    test_preds = lgbm_predict(test, model61, FEATS, f'{file_name}.csv')\n",
    "\n",
    "q = pd.Series(test_preds).plot(kind='kde')"
   ]
  },
  {
   "cell_type": "code",
   "execution_count": null,
   "id": "de2e952d",
   "metadata": {},
   "outputs": [],
   "source": [
    "### 제출 mlflow 등록\n",
    "# 제출시\n",
    "LB_AUC=0.8190\n",
    "run_id = 'ad6c0253c9bd4f4d9557988b0a482e99'\n",
    "mlflow.start_run(run_id=run_id)\n",
    "run = mlflow.active_run()\n",
    "print(\"Active run_id: {}\".format(run.info.run_id))\n",
    "mlflow.log_metric(\"LB AUC\",LB_AUC)\n",
    "mlflow.end_run()"
   ]
  }
 ],
 "metadata": {
  "kernelspec": {
   "display_name": "Python 3 (ipykernel)",
   "language": "python",
   "name": "python3"
  },
  "language_info": {
   "codemirror_mode": {
    "name": "ipython",
    "version": 3
   },
   "file_extension": ".py",
   "mimetype": "text/x-python",
   "name": "python",
   "nbconvert_exporter": "python",
   "pygments_lexer": "ipython3",
   "version": "3.9.15"
  },
  "toc": {
   "base_numbering": 1,
   "nav_menu": {},
   "number_sections": true,
   "sideBar": true,
   "skip_h1_title": true,
   "title_cell": "Table of Contents",
   "title_sidebar": "Contents",
   "toc_cell": false,
   "toc_position": {
    "height": "calc(100% - 180px)",
    "left": "10px",
    "top": "150px",
    "width": "384px"
   },
   "toc_section_display": true,
   "toc_window_display": true
  }
 },
 "nbformat": 4,
 "nbformat_minor": 5
}
