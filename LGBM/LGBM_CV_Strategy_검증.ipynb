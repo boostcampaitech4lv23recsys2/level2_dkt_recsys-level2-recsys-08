{
 "cells": [
  {
   "cell_type": "markdown",
   "metadata": {
    "id": "yt7sDAqHhfQp"
   },
   "source": [
    "# LGBM을 활용한 베이스라인"
   ]
  },
  {
   "cell_type": "code",
   "execution_count": 14,
   "metadata": {
    "ExecuteTime": {
     "end_time": "2022-11-24T06:58:15.314538Z",
     "start_time": "2022-11-24T06:58:01.922989Z"
    }
   },
   "outputs": [
    {
     "data": {
      "text/plain": [
       "((2266586, 6), (259370, 6))"
      ]
     },
     "execution_count": 14,
     "metadata": {},
     "output_type": "execute_result"
    }
   ],
   "source": [
    "from IPython.core.interactiveshell import InteractiveShell\n",
    "InteractiveShell.ast_node_interactivity = 'all'\n",
    "import lightgbm as lgb\n",
    "from sklearn.metrics import roc_auc_score\n",
    "from sklearn.metrics import accuracy_score\n",
    "import numpy as np\n",
    "import pandas as pd\n",
    "import os\n",
    "import random\n",
    "import warnings\n",
    "warnings.filterwarnings('ignore')\n",
    "base_feats = ['KnowledgeTag', 'user_correct_answer', 'user_total_answer', \n",
    "         'user_acc', 'test_mean', 'test_sum', 'tag_mean','tag_sum']\n",
    "\n",
    "## 1. 데이터 로딩\n",
    "data_dir = '/opt/ml/input/data' # 경로\n",
    "train_file_path = os.path.join(data_dir, 'train_data.csv') # 데이터\n",
    "test_file_path = os.path.join(data_dir, 'test_data.csv')\n",
    "df_train = pd.read_csv(train_file_path)\n",
    "df_test = pd.read_csv(test_file_path)\n",
    "df_test = df_test[df_test.answerCode!=-1]  # answer_code -1 제외\n",
    "df_train.shape, df_test.shape\n",
    "df = pd.read_csv(os.path.join(data_dir, 'train_test_last2.csv'))"
   ]
  },
  {
   "cell_type": "markdown",
   "metadata": {
    "id": "p_oCGAgEhfQw"
   },
   "source": [
    "## 2. Feature Engineering"
   ]
  },
  {
   "cell_type": "code",
   "execution_count": 15,
   "metadata": {
    "ExecuteTime": {
     "end_time": "2022-11-24T06:58:15.323382Z",
     "start_time": "2022-11-24T06:58:15.317775Z"
    }
   },
   "outputs": [],
   "source": [
    "day_dict = {'Tuesday': 0,\n",
    " 'Thursday': 1,\n",
    " 'Monday': 2,\n",
    " 'Saturday': 3,\n",
    " 'Friday': 4,\n",
    " 'Wednesday': 5,\n",
    " 'Sunday': 6}"
   ]
  },
  {
   "cell_type": "code",
   "execution_count": 16,
   "metadata": {
    "ExecuteTime": {
     "end_time": "2022-11-24T06:58:42.165010Z",
     "start_time": "2022-11-24T06:58:23.770935Z"
    },
    "id": "URNLoukChfQx"
   },
   "outputs": [
    {
     "data": {
      "text/plain": [
       "((2266586, 22), (259370, 22))"
      ]
     },
     "execution_count": 16,
     "metadata": {},
     "output_type": "execute_result"
    }
   ],
   "source": [
    "def feature_engineering(df):\n",
    "    df2 = df.copy()\n",
    "    #유저별 시퀀스를 고려하기 위해 아래와 같이 정렬\n",
    "    df2.sort_values(by=['userID','Timestamp'], inplace=True)\n",
    "    \n",
    "    #유저들의 문제 풀이수, 정답 수, 정답률을 시간순으로 누적해서 계산\n",
    "    df2['user_correct_answer'] = df2.groupby('userID')['answerCode'].transform(lambda x: x.cumsum().shift(1))\n",
    "    df2['user_total_answer'] = df2.groupby('userID')['answerCode'].cumcount()\n",
    "    df2['user_acc'] = df2['user_correct_answer']/df2['user_total_answer']\n",
    "    df2['month'] = pd.to_datetime(df2.Timestamp).dt.month\n",
    "    df2['day'] = pd.to_datetime(df2.Timestamp).dt.day\n",
    "    df2['hour'] = pd.to_datetime(df2.Timestamp).dt.hour\n",
    "    df2['dayname'] = pd.to_datetime(df2.Timestamp).dt.day_name().map(day_dict)\n",
    "    df2['big_category'] = df2.testId.map(lambda x:x[2]).astype(int)\n",
    "    df2['problem_num'] = df2.assessmentItemID.map(lambda x: int(x[-3:]))\n",
    "    df2['mid_category'] = df2.testId.map(lambda x: int(x[-3:]))\n",
    "\n",
    "    # testId와 KnowledgeTag의 전체 정답률은 한번에 계산\n",
    "    # 아래 데이터는 제출용 데이터셋에 대해서도 재사용\n",
    "    correct_t = df2.groupby(['testId'])['answerCode'].agg(['mean', 'std', 'sum'])\n",
    "    correct_t.columns = [\"test_mean\", \"test_std\", 'test_sum']\n",
    "    correct_k = df2.groupby(['KnowledgeTag'])['answerCode'].agg(['mean', 'std', 'sum'])\n",
    "    correct_k.columns = [\"tag_mean\", 'tag_std', 'tag_sum']\n",
    "\n",
    "    df2 = pd.merge(df2, correct_t, on=['testId'], how=\"left\")\n",
    "    df2 = pd.merge(df2, correct_k, on=['KnowledgeTag'], how=\"left\")\n",
    "    \n",
    "    return df2\n",
    "\n",
    "train_fe = feature_engineering(df_train)\n",
    "test_fe = feature_engineering(df_test)\n",
    "train_fe.shape, test_fe.shape"
   ]
  },
  {
   "cell_type": "code",
   "execution_count": 18,
   "metadata": {
    "ExecuteTime": {
     "end_time": "2022-11-24T06:58:49.077189Z",
     "start_time": "2022-11-24T06:58:49.025677Z"
    }
   },
   "outputs": [
    {
     "data": {
      "text/html": [
       "<div>\n",
       "<style scoped>\n",
       "    .dataframe tbody tr th:only-of-type {\n",
       "        vertical-align: middle;\n",
       "    }\n",
       "\n",
       "    .dataframe tbody tr th {\n",
       "        vertical-align: top;\n",
       "    }\n",
       "\n",
       "    .dataframe thead th {\n",
       "        text-align: right;\n",
       "    }\n",
       "</style>\n",
       "<table border=\"1\" class=\"dataframe\">\n",
       "  <thead>\n",
       "    <tr style=\"text-align: right;\">\n",
       "      <th></th>\n",
       "      <th>userID</th>\n",
       "      <th>assessmentItemID</th>\n",
       "      <th>testId</th>\n",
       "      <th>answerCode</th>\n",
       "      <th>Timestamp</th>\n",
       "      <th>KnowledgeTag</th>\n",
       "      <th>user_correct_answer</th>\n",
       "      <th>user_total_answer</th>\n",
       "      <th>user_acc</th>\n",
       "      <th>month</th>\n",
       "      <th>...</th>\n",
       "      <th>dayname</th>\n",
       "      <th>big_category</th>\n",
       "      <th>problem_num</th>\n",
       "      <th>mid_category</th>\n",
       "      <th>test_mean</th>\n",
       "      <th>test_std</th>\n",
       "      <th>test_sum</th>\n",
       "      <th>tag_mean</th>\n",
       "      <th>tag_std</th>\n",
       "      <th>tag_sum</th>\n",
       "    </tr>\n",
       "  </thead>\n",
       "  <tbody>\n",
       "    <tr>\n",
       "      <th>0</th>\n",
       "      <td>0</td>\n",
       "      <td>A060001001</td>\n",
       "      <td>A060000001</td>\n",
       "      <td>1</td>\n",
       "      <td>2020-03-24 00:17:11</td>\n",
       "      <td>7224</td>\n",
       "      <td>NaN</td>\n",
       "      <td>0</td>\n",
       "      <td>NaN</td>\n",
       "      <td>3</td>\n",
       "      <td>...</td>\n",
       "      <td>0</td>\n",
       "      <td>6</td>\n",
       "      <td>1</td>\n",
       "      <td>1</td>\n",
       "      <td>0.947683</td>\n",
       "      <td>0.222749</td>\n",
       "      <td>1268</td>\n",
       "      <td>0.955022</td>\n",
       "      <td>0.207410</td>\n",
       "      <td>637</td>\n",
       "    </tr>\n",
       "    <tr>\n",
       "      <th>1</th>\n",
       "      <td>0</td>\n",
       "      <td>A060001002</td>\n",
       "      <td>A060000001</td>\n",
       "      <td>1</td>\n",
       "      <td>2020-03-24 00:17:14</td>\n",
       "      <td>7225</td>\n",
       "      <td>1.0</td>\n",
       "      <td>1</td>\n",
       "      <td>1.0</td>\n",
       "      <td>3</td>\n",
       "      <td>...</td>\n",
       "      <td>0</td>\n",
       "      <td>6</td>\n",
       "      <td>2</td>\n",
       "      <td>1</td>\n",
       "      <td>0.947683</td>\n",
       "      <td>0.222749</td>\n",
       "      <td>1268</td>\n",
       "      <td>0.913187</td>\n",
       "      <td>0.281603</td>\n",
       "      <td>3040</td>\n",
       "    </tr>\n",
       "  </tbody>\n",
       "</table>\n",
       "<p>2 rows × 22 columns</p>\n",
       "</div>"
      ],
      "text/plain": [
       "   userID assessmentItemID      testId  answerCode            Timestamp  \\\n",
       "0       0       A060001001  A060000001           1  2020-03-24 00:17:11   \n",
       "1       0       A060001002  A060000001           1  2020-03-24 00:17:14   \n",
       "\n",
       "   KnowledgeTag  user_correct_answer  user_total_answer  user_acc  month  ...  \\\n",
       "0          7224                  NaN                  0       NaN      3  ...   \n",
       "1          7225                  1.0                  1       1.0      3  ...   \n",
       "\n",
       "   dayname  big_category  problem_num  mid_category  test_mean  test_std  \\\n",
       "0        0             6            1             1   0.947683  0.222749   \n",
       "1        0             6            2             1   0.947683  0.222749   \n",
       "\n",
       "   test_sum  tag_mean   tag_std  tag_sum  \n",
       "0      1268  0.955022  0.207410      637  \n",
       "1      1268  0.913187  0.281603     3040  \n",
       "\n",
       "[2 rows x 22 columns]"
      ]
     },
     "execution_count": 18,
     "metadata": {},
     "output_type": "execute_result"
    },
    {
     "data": {
      "text/html": [
       "<div>\n",
       "<style scoped>\n",
       "    .dataframe tbody tr th:only-of-type {\n",
       "        vertical-align: middle;\n",
       "    }\n",
       "\n",
       "    .dataframe tbody tr th {\n",
       "        vertical-align: top;\n",
       "    }\n",
       "\n",
       "    .dataframe thead th {\n",
       "        text-align: right;\n",
       "    }\n",
       "</style>\n",
       "<table border=\"1\" class=\"dataframe\">\n",
       "  <thead>\n",
       "    <tr style=\"text-align: right;\">\n",
       "      <th></th>\n",
       "      <th>userID</th>\n",
       "      <th>assessmentItemID</th>\n",
       "      <th>testId</th>\n",
       "      <th>answerCode</th>\n",
       "      <th>Timestamp</th>\n",
       "      <th>KnowledgeTag</th>\n",
       "      <th>user_correct_answer</th>\n",
       "      <th>user_total_answer</th>\n",
       "      <th>user_acc</th>\n",
       "      <th>month</th>\n",
       "      <th>...</th>\n",
       "      <th>dayname</th>\n",
       "      <th>big_category</th>\n",
       "      <th>problem_num</th>\n",
       "      <th>mid_category</th>\n",
       "      <th>test_mean</th>\n",
       "      <th>test_std</th>\n",
       "      <th>test_sum</th>\n",
       "      <th>tag_mean</th>\n",
       "      <th>tag_std</th>\n",
       "      <th>tag_sum</th>\n",
       "    </tr>\n",
       "  </thead>\n",
       "  <tbody>\n",
       "    <tr>\n",
       "      <th>0</th>\n",
       "      <td>3</td>\n",
       "      <td>A050023001</td>\n",
       "      <td>A050000023</td>\n",
       "      <td>1</td>\n",
       "      <td>2020-01-09 10:56:31</td>\n",
       "      <td>2626</td>\n",
       "      <td>NaN</td>\n",
       "      <td>0</td>\n",
       "      <td>NaN</td>\n",
       "      <td>1</td>\n",
       "      <td>...</td>\n",
       "      <td>1</td>\n",
       "      <td>5</td>\n",
       "      <td>1</td>\n",
       "      <td>23</td>\n",
       "      <td>0.473214</td>\n",
       "      <td>0.5004</td>\n",
       "      <td>106</td>\n",
       "      <td>0.587097</td>\n",
       "      <td>0.493952</td>\n",
       "      <td>91</td>\n",
       "    </tr>\n",
       "    <tr>\n",
       "      <th>1</th>\n",
       "      <td>3</td>\n",
       "      <td>A050023002</td>\n",
       "      <td>A050000023</td>\n",
       "      <td>1</td>\n",
       "      <td>2020-01-09 10:56:57</td>\n",
       "      <td>2626</td>\n",
       "      <td>1.0</td>\n",
       "      <td>1</td>\n",
       "      <td>1.0</td>\n",
       "      <td>1</td>\n",
       "      <td>...</td>\n",
       "      <td>1</td>\n",
       "      <td>5</td>\n",
       "      <td>2</td>\n",
       "      <td>23</td>\n",
       "      <td>0.473214</td>\n",
       "      <td>0.5004</td>\n",
       "      <td>106</td>\n",
       "      <td>0.587097</td>\n",
       "      <td>0.493952</td>\n",
       "      <td>91</td>\n",
       "    </tr>\n",
       "  </tbody>\n",
       "</table>\n",
       "<p>2 rows × 22 columns</p>\n",
       "</div>"
      ],
      "text/plain": [
       "   userID assessmentItemID      testId  answerCode            Timestamp  \\\n",
       "0       3       A050023001  A050000023           1  2020-01-09 10:56:31   \n",
       "1       3       A050023002  A050000023           1  2020-01-09 10:56:57   \n",
       "\n",
       "   KnowledgeTag  user_correct_answer  user_total_answer  user_acc  month  ...  \\\n",
       "0          2626                  NaN                  0       NaN      1  ...   \n",
       "1          2626                  1.0                  1       1.0      1  ...   \n",
       "\n",
       "   dayname  big_category  problem_num  mid_category  test_mean  test_std  \\\n",
       "0        1             5            1            23   0.473214    0.5004   \n",
       "1        1             5            2            23   0.473214    0.5004   \n",
       "\n",
       "   test_sum  tag_mean   tag_std  tag_sum  \n",
       "0       106  0.587097  0.493952       91  \n",
       "1       106  0.587097  0.493952       91  \n",
       "\n",
       "[2 rows x 22 columns]"
      ]
     },
     "execution_count": 18,
     "metadata": {},
     "output_type": "execute_result"
    }
   ],
   "source": [
    "train_fe[:2]\n",
    "test_fe[:2]"
   ]
  },
  {
   "cell_type": "markdown",
   "metadata": {
    "id": "5VZzei3DhfQy"
   },
   "source": [
    "## 3. Train/Test 데이터 셋 분리"
   ]
  },
  {
   "cell_type": "markdown",
   "metadata": {},
   "source": [
    "### 3.2 train/test Custom 분리"
   ]
  },
  {
   "cell_type": "code",
   "execution_count": 19,
   "metadata": {
    "ExecuteTime": {
     "end_time": "2022-11-24T06:58:52.642663Z",
     "start_time": "2022-11-24T06:58:52.029826Z"
    }
   },
   "outputs": [
    {
     "data": {
      "text/plain": [
       "(258626, 22)"
      ]
     },
     "execution_count": 19,
     "metadata": {},
     "output_type": "execute_result"
    },
    {
     "data": {
      "text/plain": [
       "((2525212, 21), (744, 21))"
      ]
     },
     "execution_count": 19,
     "metadata": {},
     "output_type": "execute_result"
    }
   ],
   "source": [
    "test_to_train = test_fe[test_fe['userID'] == test_fe['userID'].shift(-1)]\n",
    "test_to_train.shape\n",
    "train_all = pd.concat([train_fe,test_to_train])\n",
    "valid = test_fe[test_fe['userID'] != test_fe['userID'].shift(-1)]\n",
    "\n",
    "# X, y 값 분리\n",
    "y_train_main = train_all['answerCode']\n",
    "train_main = train_all.drop(['answerCode'], axis=1)\n",
    "\n",
    "y_test_main = valid['answerCode']\n",
    "test_main = valid.drop(['answerCode'], axis=1)\n",
    "\n",
    "# shape 출력\n",
    "train_main.shape, test_main.shape"
   ]
  },
  {
   "cell_type": "code",
   "execution_count": 6,
   "metadata": {
    "ExecuteTime": {
     "end_time": "2022-11-24T06:49:46.986168Z",
     "start_time": "2022-11-24T06:49:45.888611Z"
    }
   },
   "outputs": [
    {
     "data": {
      "text/plain": [
       "(259370, 22)"
      ]
     },
     "execution_count": 6,
     "metadata": {},
     "output_type": "execute_result"
    },
    {
     "data": {
      "text/plain": [
       "((2525956, 21), (744, 21))"
      ]
     },
     "execution_count": 6,
     "metadata": {},
     "output_type": "execute_result"
    }
   ],
   "source": [
    "test_to_train = test_fe[test_fe['userID'] == test_fe['userID'].shift(-1)]\n",
    "test_to_train.shape\n",
    "train_all = pd.concat([train_fe,test_to_train])\n",
    "valid = test_fe[test_fe['userID'] != test_fe['userID'].shift(-1)]\n",
    "\n",
    "# X, y 값 분리\n",
    "y_train_main = train_all['answerCode']\n",
    "train_main = train_all.drop(['answerCode'], axis=1)\n",
    "\n",
    "y_test_main = valid['answerCode']\n",
    "test_main = valid.drop(['answerCode'], axis=1)\n",
    "\n",
    "# shape 출력\n",
    "train_main.shape, test_main.shape"
   ]
  },
  {
   "cell_type": "code",
   "execution_count": 21,
   "metadata": {
    "ExecuteTime": {
     "end_time": "2022-11-21T14:10:02.851649Z",
     "start_time": "2022-11-21T14:10:02.675557Z"
    },
    "id": "CKRjM0rxhfQ2"
   },
   "outputs": [
    {
     "data": {
      "image/png": "[encoded data removed]",
      "text/plain": [
       "<Figure size 640x480 with 1 Axes>"
      ]
     },
     "metadata": {},
     "output_type": "display_data"
    }
   ],
   "source": [
    "# INSTALL MATPLOTLIB IN ADVANCE\n",
    "_ = lgb.plot_importance(model)"
   ]
  },
  {
   "cell_type": "markdown",
   "metadata": {},
   "source": [
    "## 5. 기존 최대 성능"
   ]
  },
  {
   "cell_type": "code",
   "execution_count": 18,
   "metadata": {
    "ExecuteTime": {
     "end_time": "2022-11-24T01:47:00.782085Z",
     "start_time": "2022-11-24T01:47:00.776306Z"
    }
   },
   "outputs": [
    {
     "data": {
      "text/plain": [
       "((2525212, 21), (744, 21))"
      ]
     },
     "execution_count": 18,
     "metadata": {},
     "output_type": "execute_result"
    }
   ],
   "source": [
    "train_main.shape, test_main.shape"
   ]
  },
  {
   "cell_type": "code",
   "execution_count": 7,
   "metadata": {
    "ExecuteTime": {
     "end_time": "2022-11-24T06:49:58.665337Z",
     "start_time": "2022-11-24T06:49:58.660829Z"
    }
   },
   "outputs": [
    {
     "data": {
      "text/plain": [
       "((2525956, 21), (744, 21))"
      ]
     },
     "execution_count": 7,
     "metadata": {},
     "output_type": "execute_result"
    }
   ],
   "source": [
    "train_main.shape, test_main.shape"
   ]
  },
  {
   "cell_type": "code",
   "execution_count": 8,
   "metadata": {
    "ExecuteTime": {
     "end_time": "2022-11-24T06:50:00.997509Z",
     "start_time": "2022-11-24T06:50:00.993811Z"
    }
   },
   "outputs": [],
   "source": [
    "# 사용할 Feature 설정\n",
    "FEATS = ['KnowledgeTag', 'user_correct_answer', 'user_total_answer',\n",
    "         'big_category',\n",
    "         'mid_category',\n",
    "         'problem_num',\n",
    "         'month','day','dayname','hour',\n",
    "         'user_acc',\n",
    "         'test_mean',\n",
    "         'test_sum',\n",
    "         'test_std', 'tag_std',\n",
    "         'tag_mean',\n",
    "         'tag_sum',\n",
    "        ]"
   ]
  },
  {
   "cell_type": "code",
   "execution_count": 9,
   "metadata": {
    "ExecuteTime": {
     "end_time": "2022-11-24T06:50:05.126005Z",
     "start_time": "2022-11-24T06:50:05.121832Z"
    }
   },
   "outputs": [
    {
     "data": {
      "text/plain": [
       "(2525956, 21)"
      ]
     },
     "execution_count": 9,
     "metadata": {},
     "output_type": "execute_result"
    }
   ],
   "source": [
    "train_main.shape"
   ]
  },
  {
   "cell_type": "code",
   "execution_count": 10,
   "metadata": {
    "ExecuteTime": {
     "end_time": "2022-11-24T06:50:05.773188Z",
     "start_time": "2022-11-24T06:50:05.768759Z"
    }
   },
   "outputs": [
    {
     "data": {
      "text/plain": [
       "(744, 21)"
      ]
     },
     "execution_count": 10,
     "metadata": {},
     "output_type": "execute_result"
    }
   ],
   "source": [
    "test_main.shape"
   ]
  },
  {
   "cell_type": "code",
   "execution_count": 11,
   "metadata": {
    "ExecuteTime": {
     "end_time": "2022-11-24T06:54:24.931781Z",
     "start_time": "2022-11-24T06:50:17.830916Z"
    },
    "collapsed": true
   },
   "outputs": [
    {
     "name": "stdout",
     "output_type": "stream",
     "text": [
      "[LightGBM] [Info] Number of positive: 1653588, number of negative: 872368\n",
      "[LightGBM] [Warning] Auto-choosing row-wise multi-threading, the overhead of testing was 0.053397 seconds.\n",
      "You can set `force_row_wise=true` to remove the overhead.\n",
      "And if memory is not enough, you can set `force_col_wise=true`.\n",
      "[LightGBM] [Info] Total Bins 2840\n",
      "[LightGBM] [Info] Number of data points in the train set: 2525956, number of used features: 17\n",
      "[LightGBM] [Info] [binary:BoostFromScore]: pavg=0.654638 -> initscore=0.639491\n",
      "[LightGBM] [Info] Start training from score 0.639491\n",
      "[100]\tvalid_0's binary_logloss: 0.803649\n",
      "[200]\tvalid_0's binary_logloss: 0.812115\n",
      "[300]\tvalid_0's binary_logloss: 0.814919\n",
      "[400]\tvalid_0's binary_logloss: 0.814489\n",
      "[500]\tvalid_0's binary_logloss: 0.813104\n",
      "[600]\tvalid_0's binary_logloss: 0.811175\n",
      "[700]\tvalid_0's binary_logloss: 0.813467\n",
      "[800]\tvalid_0's binary_logloss: 0.813273\n",
      "[900]\tvalid_0's binary_logloss: 0.81649\n",
      "[1000]\tvalid_0's binary_logloss: 0.818124\n",
      "[1100]\tvalid_0's binary_logloss: 0.819821\n",
      "[1200]\tvalid_0's binary_logloss: 0.820514\n",
      "[1300]\tvalid_0's binary_logloss: 0.8192\n",
      "[1400]\tvalid_0's binary_logloss: 0.817745\n",
      "[1500]\tvalid_0's binary_logloss: 0.819583\n",
      "[1600]\tvalid_0's binary_logloss: 0.822434\n",
      "[1700]\tvalid_0's binary_logloss: 0.821291\n",
      "[1800]\tvalid_0's binary_logloss: 0.82152\n",
      "[1900]\tvalid_0's binary_logloss: 0.8236\n",
      "[2000]\tvalid_0's binary_logloss: 0.822543\n",
      "[2100]\tvalid_0's binary_logloss: 0.821404\n",
      "[2200]\tvalid_0's binary_logloss: 0.820523\n",
      "[2300]\tvalid_0's binary_logloss: 0.823181\n",
      "[2400]\tvalid_0's binary_logloss: 0.822456\n",
      "[2500]\tvalid_0's binary_logloss: 0.823019\n",
      "[2600]\tvalid_0's binary_logloss: 0.823883\n",
      "[2700]\tvalid_0's binary_logloss: 0.824486\n",
      "[2800]\tvalid_0's binary_logloss: 0.826524\n",
      "[2900]\tvalid_0's binary_logloss: 0.827338\n",
      "[3000]\tvalid_0's binary_logloss: 0.826667\n",
      "[3100]\tvalid_0's binary_logloss: 0.827449\n",
      "[3200]\tvalid_0's binary_logloss: 0.828506\n"
     ]
    },
    {
     "ename": "ValueError",
     "evalue": "Only one class present in y_true. ROC AUC score is not defined in that case.",
     "output_type": "error",
     "traceback": [
      "\u001b[0;31m---------------------------------------------------------------------------\u001b[0m",
      "\u001b[0;31mValueError\u001b[0m                                Traceback (most recent call last)",
      "Cell \u001b[0;32mIn [11], line 15\u001b[0m\n\u001b[1;32m     13\u001b[0m preds \u001b[38;5;241m=\u001b[39m model1\u001b[38;5;241m.\u001b[39mpredict(test_main[FEATS])\n\u001b[1;32m     14\u001b[0m acc \u001b[38;5;241m=\u001b[39m accuracy_score(y_test_main, np\u001b[38;5;241m.\u001b[39mwhere(preds \u001b[38;5;241m>\u001b[39m\u001b[38;5;241m=\u001b[39m \u001b[38;5;241m0.5\u001b[39m, \u001b[38;5;241m1\u001b[39m, \u001b[38;5;241m0\u001b[39m))\n\u001b[0;32m---> 15\u001b[0m auc \u001b[38;5;241m=\u001b[39m \u001b[43mroc_auc_score\u001b[49m\u001b[43m(\u001b[49m\u001b[43my_test_main\u001b[49m\u001b[43m,\u001b[49m\u001b[43m \u001b[49m\u001b[43mpreds\u001b[49m\u001b[43m)\u001b[49m\n\u001b[1;32m     17\u001b[0m \u001b[38;5;28mprint\u001b[39m(\u001b[38;5;124mf\u001b[39m\u001b[38;5;124m'\u001b[39m\u001b[38;5;124mVALID AUC : \u001b[39m\u001b[38;5;132;01m{\u001b[39;00mauc\u001b[38;5;132;01m}\u001b[39;00m\u001b[38;5;124m ACC : \u001b[39m\u001b[38;5;132;01m{\u001b[39;00macc\u001b[38;5;132;01m}\u001b[39;00m\u001b[38;5;130;01m\\n\u001b[39;00m\u001b[38;5;124m'\u001b[39m)\n",
      "File \u001b[0;32m/opt/conda/envs/jupy/lib/python3.9/site-packages/sklearn/metrics/_ranking.py:571\u001b[0m, in \u001b[0;36mroc_auc_score\u001b[0;34m(y_true, y_score, average, sample_weight, max_fpr, multi_class, labels)\u001b[0m\n\u001b[1;32m    569\u001b[0m     labels \u001b[38;5;241m=\u001b[39m np\u001b[38;5;241m.\u001b[39munique(y_true)\n\u001b[1;32m    570\u001b[0m     y_true \u001b[38;5;241m=\u001b[39m label_binarize(y_true, classes\u001b[38;5;241m=\u001b[39mlabels)[:, \u001b[38;5;241m0\u001b[39m]\n\u001b[0;32m--> 571\u001b[0m     \u001b[38;5;28;01mreturn\u001b[39;00m \u001b[43m_average_binary_score\u001b[49m\u001b[43m(\u001b[49m\n\u001b[1;32m    572\u001b[0m \u001b[43m        \u001b[49m\u001b[43mpartial\u001b[49m\u001b[43m(\u001b[49m\u001b[43m_binary_roc_auc_score\u001b[49m\u001b[43m,\u001b[49m\u001b[43m \u001b[49m\u001b[43mmax_fpr\u001b[49m\u001b[38;5;241;43m=\u001b[39;49m\u001b[43mmax_fpr\u001b[49m\u001b[43m)\u001b[49m\u001b[43m,\u001b[49m\n\u001b[1;32m    573\u001b[0m \u001b[43m        \u001b[49m\u001b[43my_true\u001b[49m\u001b[43m,\u001b[49m\n\u001b[1;32m    574\u001b[0m \u001b[43m        \u001b[49m\u001b[43my_score\u001b[49m\u001b[43m,\u001b[49m\n\u001b[1;32m    575\u001b[0m \u001b[43m        \u001b[49m\u001b[43maverage\u001b[49m\u001b[43m,\u001b[49m\n\u001b[1;32m    576\u001b[0m \u001b[43m        \u001b[49m\u001b[43msample_weight\u001b[49m\u001b[38;5;241;43m=\u001b[39;49m\u001b[43msample_weight\u001b[49m\u001b[43m,\u001b[49m\n\u001b[1;32m    577\u001b[0m \u001b[43m    \u001b[49m\u001b[43m)\u001b[49m\n\u001b[1;32m    578\u001b[0m \u001b[38;5;28;01melse\u001b[39;00m:  \u001b[38;5;66;03m# multilabel-indicator\u001b[39;00m\n\u001b[1;32m    579\u001b[0m     \u001b[38;5;28;01mreturn\u001b[39;00m _average_binary_score(\n\u001b[1;32m    580\u001b[0m         partial(_binary_roc_auc_score, max_fpr\u001b[38;5;241m=\u001b[39mmax_fpr),\n\u001b[1;32m    581\u001b[0m         y_true,\n\u001b[0;32m   (...)\u001b[0m\n\u001b[1;32m    584\u001b[0m         sample_weight\u001b[38;5;241m=\u001b[39msample_weight,\n\u001b[1;32m    585\u001b[0m     )\n",
      "File \u001b[0;32m/opt/conda/envs/jupy/lib/python3.9/site-packages/sklearn/metrics/_base.py:75\u001b[0m, in \u001b[0;36m_average_binary_score\u001b[0;34m(binary_metric, y_true, y_score, average, sample_weight)\u001b[0m\n\u001b[1;32m     72\u001b[0m     \u001b[38;5;28;01mraise\u001b[39;00m \u001b[38;5;167;01mValueError\u001b[39;00m(\u001b[38;5;124m\"\u001b[39m\u001b[38;5;132;01m{0}\u001b[39;00m\u001b[38;5;124m format is not supported\u001b[39m\u001b[38;5;124m\"\u001b[39m\u001b[38;5;241m.\u001b[39mformat(y_type))\n\u001b[1;32m     74\u001b[0m \u001b[38;5;28;01mif\u001b[39;00m y_type \u001b[38;5;241m==\u001b[39m \u001b[38;5;124m\"\u001b[39m\u001b[38;5;124mbinary\u001b[39m\u001b[38;5;124m\"\u001b[39m:\n\u001b[0;32m---> 75\u001b[0m     \u001b[38;5;28;01mreturn\u001b[39;00m \u001b[43mbinary_metric\u001b[49m\u001b[43m(\u001b[49m\u001b[43my_true\u001b[49m\u001b[43m,\u001b[49m\u001b[43m \u001b[49m\u001b[43my_score\u001b[49m\u001b[43m,\u001b[49m\u001b[43m \u001b[49m\u001b[43msample_weight\u001b[49m\u001b[38;5;241;43m=\u001b[39;49m\u001b[43msample_weight\u001b[49m\u001b[43m)\u001b[49m\n\u001b[1;32m     77\u001b[0m check_consistent_length(y_true, y_score, sample_weight)\n\u001b[1;32m     78\u001b[0m y_true \u001b[38;5;241m=\u001b[39m check_array(y_true)\n",
      "File \u001b[0;32m/opt/conda/envs/jupy/lib/python3.9/site-packages/sklearn/metrics/_ranking.py:339\u001b[0m, in \u001b[0;36m_binary_roc_auc_score\u001b[0;34m(y_true, y_score, sample_weight, max_fpr)\u001b[0m\n\u001b[1;32m    337\u001b[0m \u001b[38;5;124;03m\"\"\"Binary roc auc score.\"\"\"\u001b[39;00m\n\u001b[1;32m    338\u001b[0m \u001b[38;5;28;01mif\u001b[39;00m \u001b[38;5;28mlen\u001b[39m(np\u001b[38;5;241m.\u001b[39munique(y_true)) \u001b[38;5;241m!=\u001b[39m \u001b[38;5;241m2\u001b[39m:\n\u001b[0;32m--> 339\u001b[0m     \u001b[38;5;28;01mraise\u001b[39;00m \u001b[38;5;167;01mValueError\u001b[39;00m(\n\u001b[1;32m    340\u001b[0m         \u001b[38;5;124m\"\u001b[39m\u001b[38;5;124mOnly one class present in y_true. ROC AUC score \u001b[39m\u001b[38;5;124m\"\u001b[39m\n\u001b[1;32m    341\u001b[0m         \u001b[38;5;124m\"\u001b[39m\u001b[38;5;124mis not defined in that case.\u001b[39m\u001b[38;5;124m\"\u001b[39m\n\u001b[1;32m    342\u001b[0m     )\n\u001b[1;32m    344\u001b[0m fpr, tpr, _ \u001b[38;5;241m=\u001b[39m roc_curve(y_true, y_score, sample_weight\u001b[38;5;241m=\u001b[39msample_weight)\n\u001b[1;32m    345\u001b[0m \u001b[38;5;28;01mif\u001b[39;00m max_fpr \u001b[38;5;129;01mis\u001b[39;00m \u001b[38;5;28;01mNone\u001b[39;00m \u001b[38;5;129;01mor\u001b[39;00m max_fpr \u001b[38;5;241m==\u001b[39m \u001b[38;5;241m1\u001b[39m:\n",
      "\u001b[0;31mValueError\u001b[0m: Only one class present in y_true. ROC AUC score is not defined in that case."
     ]
    }
   ],
   "source": [
    "lgb_train_main = lgb.Dataset(train_main[FEATS], y_train_main)\n",
    "lgb_test_main = lgb.Dataset(test_main[FEATS], y_test_main)\n",
    "\n",
    "model1 = lgb.train(\n",
    "    {'objective': 'binary'}, \n",
    "    lgb_train_main,\n",
    "    valid_sets=[lgb_test_main],\n",
    "    verbose_eval=100,\n",
    "    num_boost_round=3200,\n",
    "#     early_stopping_rounds=200,\n",
    ")\n",
    "\n",
    "preds = model1.predict(test_main[FEATS])\n",
    "acc = accuracy_score(y_test_main, np.where(preds >= 0.5, 1, 0))\n",
    "auc = roc_auc_score(y_test_main, preds)\n",
    "\n",
    "print(f'VALID AUC : {auc} ACC : {acc}\\n')"
   ]
  },
  {
   "cell_type": "code",
   "execution_count": 13,
   "metadata": {
    "ExecuteTime": {
     "end_time": "2022-11-24T06:55:52.238061Z",
     "start_time": "2022-11-24T06:55:52.228833Z"
    }
   },
   "outputs": [
    {
     "data": {
      "text/plain": [
       "1035     -1\n",
       "1706     -1\n",
       "3023     -1\n",
       "4283     -1\n",
       "4670     -1\n",
       "         ..\n",
       "260052   -1\n",
       "260067   -1\n",
       "260082   -1\n",
       "260097   -1\n",
       "260113   -1\n",
       "Name: answerCode, Length: 744, dtype: int64"
      ]
     },
     "execution_count": 13,
     "metadata": {},
     "output_type": "execute_result"
    }
   ],
   "source": [
    "y_test_main"
   ]
  },
  {
   "cell_type": "code",
   "execution_count": 19,
   "metadata": {
    "ExecuteTime": {
     "end_time": "2022-11-24T01:54:10.789917Z",
     "start_time": "2022-11-24T01:49:20.638463Z"
    },
    "scrolled": true
   },
   "outputs": [
    {
     "name": "stdout",
     "output_type": "stream",
     "text": [
      "[LightGBM] [Info] Number of positive: 1653175, number of negative: 872037\n",
      "[LightGBM] [Warning] Auto-choosing row-wise multi-threading, the overhead of testing was 0.057667 seconds.\n",
      "You can set `force_row_wise=true` to remove the overhead.\n",
      "And if memory is not enough, you can set `force_col_wise=true`.\n",
      "[LightGBM] [Info] Total Bins 2840\n",
      "[LightGBM] [Info] Number of data points in the train set: 2525212, number of used features: 17\n",
      "[LightGBM] [Info] [binary:BoostFromScore]: pavg=0.654668 -> initscore=0.639621\n",
      "[LightGBM] [Info] Start training from score 0.639621\n",
      "[100]\tvalid_0's binary_logloss: 0.605976\n",
      "[200]\tvalid_0's binary_logloss: 0.602041\n",
      "[300]\tvalid_0's binary_logloss: 0.600447\n",
      "[400]\tvalid_0's binary_logloss: 0.595921\n",
      "[500]\tvalid_0's binary_logloss: 0.593755\n",
      "[600]\tvalid_0's binary_logloss: 0.590534\n",
      "[700]\tvalid_0's binary_logloss: 0.589904\n",
      "[800]\tvalid_0's binary_logloss: 0.588589\n",
      "[900]\tvalid_0's binary_logloss: 0.588649\n",
      "[1000]\tvalid_0's binary_logloss: 0.588097\n",
      "[1100]\tvalid_0's binary_logloss: 0.587149\n",
      "[1200]\tvalid_0's binary_logloss: 0.586671\n",
      "[1300]\tvalid_0's binary_logloss: 0.58603\n",
      "[1400]\tvalid_0's binary_logloss: 0.585026\n",
      "[1500]\tvalid_0's binary_logloss: 0.583623\n",
      "[1600]\tvalid_0's binary_logloss: 0.581889\n",
      "[1700]\tvalid_0's binary_logloss: 0.581326\n",
      "[1800]\tvalid_0's binary_logloss: 0.581027\n",
      "[1900]\tvalid_0's binary_logloss: 0.579715\n",
      "[2000]\tvalid_0's binary_logloss: 0.57954\n",
      "[2100]\tvalid_0's binary_logloss: 0.577679\n",
      "[2200]\tvalid_0's binary_logloss: 0.576554\n",
      "[2300]\tvalid_0's binary_logloss: 0.576634\n",
      "[2400]\tvalid_0's binary_logloss: 0.576252\n",
      "[2500]\tvalid_0's binary_logloss: 0.574909\n",
      "[2600]\tvalid_0's binary_logloss: 0.575818\n",
      "[2700]\tvalid_0's binary_logloss: 0.574639\n",
      "[2800]\tvalid_0's binary_logloss: 0.573341\n",
      "[2900]\tvalid_0's binary_logloss: 0.572676\n",
      "[3000]\tvalid_0's binary_logloss: 0.572151\n",
      "[3100]\tvalid_0's binary_logloss: 0.572064\n",
      "[3200]\tvalid_0's binary_logloss: 0.571517\n",
      "VALID AUC : 0.7740868890953381 ACC : 0.7123655913978495\n",
      "\n"
     ]
    }
   ],
   "source": [
    "lgb_train_main = lgb.Dataset(train_main[FEATS], y_train_main)\n",
    "lgb_test_main = lgb.Dataset(test_main[FEATS], y_test_main)\n",
    "\n",
    "model_e1 = lgb.train(\n",
    "    {'objective': 'binary'}, \n",
    "    lgb_train_main,\n",
    "    valid_sets=[lgb_test_main],\n",
    "    verbose_eval=100,\n",
    "    num_boost_round=3200,\n",
    "#     early_stopping_rounds=200,\n",
    ")\n",
    "\n",
    "preds = model_e1.predict(test_main[FEATS])\n",
    "acc = accuracy_score(y_test_main, np.where(preds >= 0.5, 1, 0))\n",
    "auc = roc_auc_score(y_test_main, preds)\n",
    "\n",
    "print(f'VALID AUC : {auc} ACC : {acc}\\n')"
   ]
  },
  {
   "cell_type": "code",
   "execution_count": 20,
   "metadata": {
    "ExecuteTime": {
     "end_time": "2022-11-24T02:03:05.836176Z",
     "start_time": "2022-11-24T01:54:10.794288Z"
    },
    "scrolled": true
   },
   "outputs": [
    {
     "name": "stdout",
     "output_type": "stream",
     "text": [
      "[LightGBM] [Info] Number of positive: 1653175, number of negative: 872037\n",
      "[LightGBM] [Warning] Auto-choosing col-wise multi-threading, the overhead of testing was 0.208325 seconds.\n",
      "You can set `force_col_wise=true` to remove the overhead.\n",
      "[LightGBM] [Info] Total Bins 2840\n",
      "[LightGBM] [Info] Number of data points in the train set: 2525212, number of used features: 17\n",
      "[LightGBM] [Info] [binary:BoostFromScore]: pavg=0.654668 -> initscore=0.639621\n",
      "[LightGBM] [Info] Start training from score 0.639621\n",
      "Training until validation scores don't improve for 200 rounds\n",
      "[100]\tvalid_0's binary_logloss: 0.605976\n",
      "[200]\tvalid_0's binary_logloss: 0.602041\n",
      "[300]\tvalid_0's binary_logloss: 0.600447\n",
      "[400]\tvalid_0's binary_logloss: 0.595921\n",
      "[500]\tvalid_0's binary_logloss: 0.593755\n",
      "[600]\tvalid_0's binary_logloss: 0.590534\n",
      "[700]\tvalid_0's binary_logloss: 0.589904\n",
      "[800]\tvalid_0's binary_logloss: 0.588589\n",
      "[900]\tvalid_0's binary_logloss: 0.588649\n",
      "[1000]\tvalid_0's binary_logloss: 0.588097\n",
      "[1100]\tvalid_0's binary_logloss: 0.587149\n",
      "[1200]\tvalid_0's binary_logloss: 0.586671\n",
      "[1300]\tvalid_0's binary_logloss: 0.58603\n",
      "[1400]\tvalid_0's binary_logloss: 0.585026\n",
      "[1500]\tvalid_0's binary_logloss: 0.583623\n",
      "[1600]\tvalid_0's binary_logloss: 0.581889\n",
      "[1700]\tvalid_0's binary_logloss: 0.581326\n",
      "[1800]\tvalid_0's binary_logloss: 0.581027\n",
      "[1900]\tvalid_0's binary_logloss: 0.579715\n",
      "[2000]\tvalid_0's binary_logloss: 0.57954\n",
      "[2100]\tvalid_0's binary_logloss: 0.577679\n",
      "[2200]\tvalid_0's binary_logloss: 0.576554\n",
      "[2300]\tvalid_0's binary_logloss: 0.576634\n",
      "[2400]\tvalid_0's binary_logloss: 0.576252\n",
      "[2500]\tvalid_0's binary_logloss: 0.574909\n",
      "[2600]\tvalid_0's binary_logloss: 0.575818\n",
      "[2700]\tvalid_0's binary_logloss: 0.574639\n",
      "[2800]\tvalid_0's binary_logloss: 0.573341\n",
      "[2900]\tvalid_0's binary_logloss: 0.572676\n",
      "[3000]\tvalid_0's binary_logloss: 0.572151\n",
      "[3100]\tvalid_0's binary_logloss: 0.572064\n",
      "[3200]\tvalid_0's binary_logloss: 0.571517\n",
      "[3300]\tvalid_0's binary_logloss: 0.57164\n",
      "[3400]\tvalid_0's binary_logloss: 0.571414\n",
      "[3500]\tvalid_0's binary_logloss: 0.570884\n",
      "[3600]\tvalid_0's binary_logloss: 0.569853\n",
      "[3700]\tvalid_0's binary_logloss: 0.569547\n",
      "[3800]\tvalid_0's binary_logloss: 0.568493\n",
      "[3900]\tvalid_0's binary_logloss: 0.568602\n",
      "[4000]\tvalid_0's binary_logloss: 0.567767\n",
      "[4100]\tvalid_0's binary_logloss: 0.566794\n",
      "[4200]\tvalid_0's binary_logloss: 0.566361\n",
      "[4300]\tvalid_0's binary_logloss: 0.566014\n",
      "[4400]\tvalid_0's binary_logloss: 0.565452\n",
      "[4500]\tvalid_0's binary_logloss: 0.564361\n",
      "[4600]\tvalid_0's binary_logloss: 0.564655\n",
      "[4700]\tvalid_0's binary_logloss: 0.563477\n",
      "[4800]\tvalid_0's binary_logloss: 0.562665\n",
      "[4900]\tvalid_0's binary_logloss: 0.562873\n",
      "[5000]\tvalid_0's binary_logloss: 0.562322\n",
      "[5100]\tvalid_0's binary_logloss: 0.561995\n",
      "[5200]\tvalid_0's binary_logloss: 0.561341\n",
      "[5300]\tvalid_0's binary_logloss: 0.560895\n",
      "[5400]\tvalid_0's binary_logloss: 0.559988\n",
      "[5500]\tvalid_0's binary_logloss: 0.559764\n",
      "[5600]\tvalid_0's binary_logloss: 0.559666\n",
      "[5700]\tvalid_0's binary_logloss: 0.559712\n",
      "Early stopping, best iteration is:\n",
      "[5540]\tvalid_0's binary_logloss: 0.559337\n",
      "VALID AUC : 0.7882636079676378 ACC : 0.7258064516129032\n",
      "\n"
     ]
    }
   ],
   "source": [
    "lgb_train_main = lgb.Dataset(train_main[FEATS], y_train_main)\n",
    "lgb_test_main = lgb.Dataset(test_main[FEATS], y_test_main)\n",
    "\n",
    "model_e2 = lgb.train(\n",
    "    {'objective': 'binary'}, \n",
    "    lgb_train_main,\n",
    "    valid_sets=[lgb_test_main],\n",
    "    verbose_eval=100,\n",
    "    num_boost_round=10000,\n",
    "    early_stopping_rounds=200,\n",
    ")\n",
    "\n",
    "preds = model_e2.predict(test_main[FEATS])\n",
    "acc = accuracy_score(y_test_main, np.where(preds >= 0.5, 1, 0))\n",
    "auc = roc_auc_score(y_test_main, preds)\n",
    "\n",
    "print(f'VALID AUC : {auc} ACC : {acc}\\n')"
   ]
  },
  {
   "cell_type": "markdown",
   "metadata": {
    "id": "8Bsff1ZVhfQ3"
   },
   "source": [
    "### Inference"
   ]
  },
  {
   "cell_type": "code",
   "execution_count": 118,
   "metadata": {
    "ExecuteTime": {
     "end_time": "2022-11-22T13:45:03.939363Z",
     "start_time": "2022-11-22T13:45:03.934872Z"
    }
   },
   "outputs": [
    {
     "data": {
      "text/plain": [
       "4800"
      ]
     },
     "execution_count": 118,
     "metadata": {},
     "output_type": "execute_result"
    }
   ],
   "source": [
    "model3.params['num_iterations']"
   ]
  },
  {
   "cell_type": "code",
   "execution_count": 27,
   "metadata": {
    "ExecuteTime": {
     "end_time": "2022-11-24T02:38:02.786038Z",
     "start_time": "2022-11-24T02:38:00.577503Z"
    },
    "id": "N6YEFm8IhfQ3"
   },
   "outputs": [
    {
     "data": {
      "text/html": [
       "<div>\n",
       "<style scoped>\n",
       "    .dataframe tbody tr th:only-of-type {\n",
       "        vertical-align: middle;\n",
       "    }\n",
       "\n",
       "    .dataframe tbody tr th {\n",
       "        vertical-align: top;\n",
       "    }\n",
       "\n",
       "    .dataframe thead th {\n",
       "        text-align: right;\n",
       "    }\n",
       "</style>\n",
       "<table border=\"1\" class=\"dataframe\">\n",
       "  <thead>\n",
       "    <tr style=\"text-align: right;\">\n",
       "      <th></th>\n",
       "      <th>userID</th>\n",
       "      <th>assessmentItemID</th>\n",
       "      <th>testId</th>\n",
       "      <th>Timestamp</th>\n",
       "      <th>KnowledgeTag</th>\n",
       "      <th>user_correct_answer</th>\n",
       "      <th>user_total_answer</th>\n",
       "      <th>user_acc</th>\n",
       "      <th>month</th>\n",
       "      <th>day</th>\n",
       "      <th>...</th>\n",
       "      <th>dayname</th>\n",
       "      <th>big_category</th>\n",
       "      <th>problem_num</th>\n",
       "      <th>mid_category</th>\n",
       "      <th>test_mean</th>\n",
       "      <th>test_std</th>\n",
       "      <th>test_sum</th>\n",
       "      <th>tag_mean</th>\n",
       "      <th>tag_std</th>\n",
       "      <th>tag_sum</th>\n",
       "    </tr>\n",
       "  </thead>\n",
       "  <tbody>\n",
       "    <tr>\n",
       "      <th>1035</th>\n",
       "      <td>3</td>\n",
       "      <td>A050133008</td>\n",
       "      <td>A050000133</td>\n",
       "      <td>2020-10-26 13:13:57</td>\n",
       "      <td>5289</td>\n",
       "      <td>717.0</td>\n",
       "      <td>1035</td>\n",
       "      <td>0.692754</td>\n",
       "      <td>10</td>\n",
       "      <td>26</td>\n",
       "      <td>...</td>\n",
       "      <td>2</td>\n",
       "      <td>5</td>\n",
       "      <td>8</td>\n",
       "      <td>133</td>\n",
       "      <td>0.661765</td>\n",
       "      <td>0.490209</td>\n",
       "      <td>90</td>\n",
       "      <td>0.542662</td>\n",
       "      <td>0.505845</td>\n",
       "      <td>159</td>\n",
       "    </tr>\n",
       "    <tr>\n",
       "      <th>1706</th>\n",
       "      <td>4</td>\n",
       "      <td>A070146008</td>\n",
       "      <td>A070000146</td>\n",
       "      <td>2020-12-27 02:47:54</td>\n",
       "      <td>9080</td>\n",
       "      <td>465.0</td>\n",
       "      <td>670</td>\n",
       "      <td>0.694030</td>\n",
       "      <td>12</td>\n",
       "      <td>27</td>\n",
       "      <td>...</td>\n",
       "      <td>6</td>\n",
       "      <td>7</td>\n",
       "      <td>8</td>\n",
       "      <td>146</td>\n",
       "      <td>0.740385</td>\n",
       "      <td>0.539601</td>\n",
       "      <td>77</td>\n",
       "      <td>0.565693</td>\n",
       "      <td>0.552442</td>\n",
       "      <td>155</td>\n",
       "    </tr>\n",
       "    <tr>\n",
       "      <th>3023</th>\n",
       "      <td>13</td>\n",
       "      <td>A070111008</td>\n",
       "      <td>A070000111</td>\n",
       "      <td>2020-12-27 04:35:09</td>\n",
       "      <td>9660</td>\n",
       "      <td>915.0</td>\n",
       "      <td>1316</td>\n",
       "      <td>0.695289</td>\n",
       "      <td>12</td>\n",
       "      <td>27</td>\n",
       "      <td>...</td>\n",
       "      <td>6</td>\n",
       "      <td>7</td>\n",
       "      <td>8</td>\n",
       "      <td>111</td>\n",
       "      <td>0.417857</td>\n",
       "      <td>0.501291</td>\n",
       "      <td>117</td>\n",
       "      <td>0.446753</td>\n",
       "      <td>0.518307</td>\n",
       "      <td>172</td>\n",
       "    </tr>\n",
       "  </tbody>\n",
       "</table>\n",
       "<p>3 rows × 21 columns</p>\n",
       "</div>"
      ],
      "text/plain": [
       "      userID assessmentItemID      testId            Timestamp  KnowledgeTag  \\\n",
       "1035       3       A050133008  A050000133  2020-10-26 13:13:57          5289   \n",
       "1706       4       A070146008  A070000146  2020-12-27 02:47:54          9080   \n",
       "3023      13       A070111008  A070000111  2020-12-27 04:35:09          9660   \n",
       "\n",
       "      user_correct_answer  user_total_answer  user_acc  month  day  ...  \\\n",
       "1035                717.0               1035  0.692754     10   26  ...   \n",
       "1706                465.0                670  0.694030     12   27  ...   \n",
       "3023                915.0               1316  0.695289     12   27  ...   \n",
       "\n",
       "      dayname  big_category  problem_num  mid_category  test_mean  test_std  \\\n",
       "1035        2             5            8           133   0.661765  0.490209   \n",
       "1706        6             7            8           146   0.740385  0.539601   \n",
       "3023        6             7            8           111   0.417857  0.501291   \n",
       "\n",
       "      test_sum  tag_mean   tag_std  tag_sum  \n",
       "1035        90  0.542662  0.505845      159  \n",
       "1706        77  0.565693  0.552442      155  \n",
       "3023       117  0.446753  0.518307      172  \n",
       "\n",
       "[3 rows x 21 columns]"
      ]
     },
     "execution_count": 27,
     "metadata": {},
     "output_type": "execute_result"
    },
    {
     "name": "stdout",
     "output_type": "stream",
     "text": [
      "writing prediction : output/submission_lgbm_cv_verification.csv\n"
     ]
    }
   ],
   "source": [
    "# LOAD TESTDATA\n",
    "test_csv_file_path = os.path.join(data_dir, 'test_data.csv')\n",
    "test_df = pd.read_csv(test_csv_file_path)\n",
    "\n",
    "# FEATURE ENGINEERING\n",
    "test_df = feature_engineering(test_df)\n",
    "\n",
    "# LEAVE LAST INTERACTION ONLY\n",
    "test_df = test_df[test_df['userID'] != test_df['userID'].shift(-1)]\n",
    "\n",
    "# DROP ANSWERCODE\n",
    "test_df = test_df.drop(['answerCode'], axis=1)\n",
    "\n",
    "test_df[:3]\n",
    "\n",
    "# MAKE PREDICTION\n",
    "total_preds = model_e2.predict(test_df[FEATS])\n",
    "\n",
    "# SAVE OUTPUT\n",
    "output_dir = 'output/'\n",
    "write_path = os.path.join(output_dir, \"submission_lgbm_cv_verification2.csv\")\n",
    "if not os.path.exists(output_dir):\n",
    "    os.makedirs(output_dir)\n",
    "with open(write_path, 'w', encoding='utf8') as w:\n",
    "    print(\"writing prediction : {}\".format(write_path))\n",
    "    q=w.write(\"id,prediction\\n\")\n",
    "    for id, p in enumerate(total_preds):\n",
    "        q=w.write('{},{}\\n'.format(id,p))"
   ]
  },
  {
   "cell_type": "markdown",
   "metadata": {},
   "source": [
    "### 기존과 비교"
   ]
  },
  {
   "cell_type": "code",
   "execution_count": 28,
   "metadata": {
    "ExecuteTime": {
     "end_time": "2022-11-24T03:00:50.795642Z",
     "start_time": "2022-11-24T03:00:50.790249Z"
    }
   },
   "outputs": [],
   "source": [
    "df1 = pd.read_csv('output/submission_lgbm_add_time_test_tag_std_big_mid_problem_number_3200epoch_valauc_7718.csv')"
   ]
  },
  {
   "cell_type": "code",
   "execution_count": 29,
   "metadata": {
    "ExecuteTime": {
     "end_time": "2022-11-24T03:01:03.045903Z",
     "start_time": "2022-11-24T03:01:03.039493Z"
    }
   },
   "outputs": [],
   "source": [
    "df2 = pd.read_csv('output/submission_lgbm_cv_verification.csv')"
   ]
  },
  {
   "cell_type": "code",
   "execution_count": 35,
   "metadata": {
    "ExecuteTime": {
     "end_time": "2022-11-24T03:03:27.650213Z",
     "start_time": "2022-11-24T03:03:27.644306Z"
    }
   },
   "outputs": [],
   "source": [
    "dfm = df1.merge(df2,on='id')"
   ]
  },
  {
   "cell_type": "code",
   "execution_count": 41,
   "metadata": {
    "ExecuteTime": {
     "end_time": "2022-11-24T03:03:58.374039Z",
     "start_time": "2022-11-24T03:03:58.370333Z"
    }
   },
   "outputs": [],
   "source": [
    "dfm['diff'] = abs(dfm.prediction_x - dfm.prediction_y)"
   ]
  },
  {
   "cell_type": "code",
   "execution_count": 47,
   "metadata": {
    "ExecuteTime": {
     "end_time": "2022-11-24T03:04:36.935269Z",
     "start_time": "2022-11-24T03:04:36.915332Z"
    }
   },
   "outputs": [
    {
     "data": {
      "text/html": [
       "<div>\n",
       "<style scoped>\n",
       "    .dataframe tbody tr th:only-of-type {\n",
       "        vertical-align: middle;\n",
       "    }\n",
       "\n",
       "    .dataframe tbody tr th {\n",
       "        vertical-align: top;\n",
       "    }\n",
       "\n",
       "    .dataframe thead th {\n",
       "        text-align: right;\n",
       "    }\n",
       "</style>\n",
       "<table border=\"1\" class=\"dataframe\">\n",
       "  <thead>\n",
       "    <tr style=\"text-align: right;\">\n",
       "      <th></th>\n",
       "      <th>0</th>\n",
       "      <th>1</th>\n",
       "      <th>2</th>\n",
       "      <th>3</th>\n",
       "      <th>4</th>\n",
       "      <th>5</th>\n",
       "      <th>6</th>\n",
       "      <th>7</th>\n",
       "    </tr>\n",
       "  </thead>\n",
       "  <tbody>\n",
       "    <tr>\n",
       "      <th>index</th>\n",
       "      <td>count</td>\n",
       "      <td>mean</td>\n",
       "      <td>std</td>\n",
       "      <td>min</td>\n",
       "      <td>25%</td>\n",
       "      <td>50%</td>\n",
       "      <td>75%</td>\n",
       "      <td>max</td>\n",
       "    </tr>\n",
       "    <tr>\n",
       "      <th>diff</th>\n",
       "      <td>744.0</td>\n",
       "      <td>0.08995</td>\n",
       "      <td>0.074653</td>\n",
       "      <td>0.000055</td>\n",
       "      <td>0.034</td>\n",
       "      <td>0.070803</td>\n",
       "      <td>0.12779</td>\n",
       "      <td>0.384599</td>\n",
       "    </tr>\n",
       "  </tbody>\n",
       "</table>\n",
       "</div>"
      ],
      "text/plain": [
       "           0        1         2         3      4         5        6         7\n",
       "index  count     mean       std       min    25%       50%      75%       max\n",
       "diff   744.0  0.08995  0.074653  0.000055  0.034  0.070803  0.12779  0.384599"
      ]
     },
     "execution_count": 47,
     "metadata": {},
     "output_type": "execute_result"
    }
   ],
   "source": [
    "dfm['diff'].describe().reset_index().T"
   ]
  },
  {
   "cell_type": "markdown",
   "metadata": {},
   "source": [
    "## StratifiedKFold"
   ]
  },
  {
   "cell_type": "code",
   "execution_count": 21,
   "metadata": {
    "ExecuteTime": {
     "end_time": "2022-11-24T02:03:05.845231Z",
     "start_time": "2022-11-24T02:03:05.840301Z"
    }
   },
   "outputs": [],
   "source": [
    "from sklearn.model_selection import StratifiedGroupKFold"
   ]
  },
  {
   "cell_type": "code",
   "execution_count": 22,
   "metadata": {
    "ExecuteTime": {
     "end_time": "2022-11-24T02:03:06.368266Z",
     "start_time": "2022-11-24T02:03:05.848939Z"
    }
   },
   "outputs": [],
   "source": [
    "n_splits = 6\n",
    "cv = StratifiedGroupKFold(n_splits=n_splits)\n",
    "\n",
    "x = df.drop('answerCode',axis=1)\n",
    "y = df['answerCode']\n",
    "\n",
    "## 4. train\n",
    "# 파라미터 설정\n",
    "params = {\n",
    "    # \"max_depth\": args.max_depth, # default=-1 (no limit)\n",
    "#     \"learning_rate\": args.learning_rate,  # default = 0.1, [0.0005 ~ 0.5]\n",
    "#     \"boosting\": \"gbdt\",\n",
    "    \"objective\": \"bianry\"\n",
    "#     \"metric\": args.metric,\n",
    "#     \"num_leaves\": args.num_leaves,  # default = 31, [10, 20, 31, 40, 50]\n",
    "#     \"feature_fraction\": args.feature_fraction,  # default = 1.0, [0.4, 0.6, 0.8, 1.0]\n",
    "#     \"bagging_fraction\": args.bagging_fraction,  # default = 1.0, [0.4, 0.6, 0.8, 1.0]\n",
    "#     \"bagging_freq\": args.bagging_freq,  # default = 0, [0, 1, 2, 3, 4]\n",
    "#     \"seed\": 42,\n",
    "#     \"verbose\": -1,\n",
    "}"
   ]
  },
  {
   "cell_type": "code",
   "execution_count": 23,
   "metadata": {
    "ExecuteTime": {
     "end_time": "2022-11-24T02:27:36.066502Z",
     "start_time": "2022-11-24T02:05:45.225373Z"
    },
    "scrolled": true
   },
   "outputs": [
    {
     "name": "stdout",
     "output_type": "stream",
     "text": [
      "[LightGBM] [Info] Number of positive: 1351413, number of negative: 720572\n",
      "[LightGBM] [Warning] Auto-choosing row-wise multi-threading, the overhead of testing was 0.055037 seconds.\n",
      "You can set `force_row_wise=true` to remove the overhead.\n",
      "And if memory is not enough, you can set `force_col_wise=true`.\n",
      "[LightGBM] [Info] Total Bins 2840\n",
      "[LightGBM] [Info] Number of data points in the train set: 2071985, number of used features: 17\n",
      "[LightGBM] [Info] [binary:BoostFromScore]: pavg=0.652231 -> initscore=0.628861\n",
      "[LightGBM] [Info] Start training from score 0.628861\n",
      "[100]\tvalid_0's binary_logloss: 0.638007\n",
      "[200]\tvalid_0's binary_logloss: 0.63296\n",
      "[300]\tvalid_0's binary_logloss: 0.632993\n",
      "[400]\tvalid_0's binary_logloss: 0.632994\n",
      "[500]\tvalid_0's binary_logloss: 0.630552\n",
      "[600]\tvalid_0's binary_logloss: 0.629557\n",
      "[700]\tvalid_0's binary_logloss: 0.628693\n",
      "[800]\tvalid_0's binary_logloss: 0.629121\n",
      "[900]\tvalid_0's binary_logloss: 0.628516\n",
      "[1000]\tvalid_0's binary_logloss: 0.629717\n",
      "[1100]\tvalid_0's binary_logloss: 0.630263\n",
      "[1200]\tvalid_0's binary_logloss: 0.631293\n",
      "[1300]\tvalid_0's binary_logloss: 0.630401\n",
      "[1400]\tvalid_0's binary_logloss: 0.631663\n",
      "[1500]\tvalid_0's binary_logloss: 0.629304\n",
      "[1600]\tvalid_0's binary_logloss: 0.629591\n",
      "[1700]\tvalid_0's binary_logloss: 0.630103\n",
      "[1800]\tvalid_0's binary_logloss: 0.630277\n",
      "[1900]\tvalid_0's binary_logloss: 0.630635\n",
      "[2000]\tvalid_0's binary_logloss: 0.629463\n",
      "[2100]\tvalid_0's binary_logloss: 0.630593\n",
      "[2200]\tvalid_0's binary_logloss: 0.63042\n",
      "[2300]\tvalid_0's binary_logloss: 0.630417\n",
      "[2400]\tvalid_0's binary_logloss: 0.629703\n",
      "[2500]\tvalid_0's binary_logloss: 0.629624\n",
      "[2600]\tvalid_0's binary_logloss: 0.629008\n",
      "[2700]\tvalid_0's binary_logloss: 0.629201\n",
      "[2800]\tvalid_0's binary_logloss: 0.629441\n",
      "[2900]\tvalid_0's binary_logloss: 0.630073\n",
      "[3000]\tvalid_0's binary_logloss: 0.629866\n",
      "[3100]\tvalid_0's binary_logloss: 0.630115\n",
      "[3200]\tvalid_0's binary_logloss: 0.629253\n",
      "VALID AUC : 0.7065884134797427 ACC : 0.6589698046181173\n",
      "\n",
      "[LightGBM] [Info] Number of positive: 1357119, number of negative: 715405\n",
      "[LightGBM] [Warning] Auto-choosing row-wise multi-threading, the overhead of testing was 0.046684 seconds.\n",
      "You can set `force_row_wise=true` to remove the overhead.\n",
      "And if memory is not enough, you can set `force_col_wise=true`.\n",
      "[LightGBM] [Info] Total Bins 2840\n",
      "[LightGBM] [Info] Number of data points in the train set: 2072524, number of used features: 17\n",
      "[LightGBM] [Info] [binary:BoostFromScore]: pavg=0.654815 -> initscore=0.640271\n",
      "[LightGBM] [Info] Start training from score 0.640271\n",
      "[100]\tvalid_0's binary_logloss: 0.630438\n",
      "[200]\tvalid_0's binary_logloss: 0.62464\n",
      "[300]\tvalid_0's binary_logloss: 0.622973\n",
      "[400]\tvalid_0's binary_logloss: 0.620854\n",
      "[500]\tvalid_0's binary_logloss: 0.619407\n",
      "[600]\tvalid_0's binary_logloss: 0.617589\n",
      "[700]\tvalid_0's binary_logloss: 0.616397\n",
      "[800]\tvalid_0's binary_logloss: 0.615644\n",
      "[900]\tvalid_0's binary_logloss: 0.615295\n",
      "[1000]\tvalid_0's binary_logloss: 0.614154\n",
      "[1100]\tvalid_0's binary_logloss: 0.613624\n",
      "[1200]\tvalid_0's binary_logloss: 0.613665\n",
      "[1300]\tvalid_0's binary_logloss: 0.612858\n",
      "[1400]\tvalid_0's binary_logloss: 0.612164\n",
      "[1500]\tvalid_0's binary_logloss: 0.61212\n",
      "[1600]\tvalid_0's binary_logloss: 0.612536\n",
      "[1700]\tvalid_0's binary_logloss: 0.612303\n",
      "[1800]\tvalid_0's binary_logloss: 0.612903\n",
      "[1900]\tvalid_0's binary_logloss: 0.613285\n",
      "[2000]\tvalid_0's binary_logloss: 0.61388\n",
      "[2100]\tvalid_0's binary_logloss: 0.613865\n",
      "[2200]\tvalid_0's binary_logloss: 0.613252\n",
      "[2300]\tvalid_0's binary_logloss: 0.612983\n",
      "[2400]\tvalid_0's binary_logloss: 0.612704\n",
      "[2500]\tvalid_0's binary_logloss: 0.612644\n",
      "[2600]\tvalid_0's binary_logloss: 0.612078\n",
      "[2700]\tvalid_0's binary_logloss: 0.61122\n",
      "[2800]\tvalid_0's binary_logloss: 0.611365\n",
      "[2900]\tvalid_0's binary_logloss: 0.611298\n",
      "[3000]\tvalid_0's binary_logloss: 0.610903\n",
      "[3100]\tvalid_0's binary_logloss: 0.611098\n",
      "[3200]\tvalid_0's binary_logloss: 0.610848\n",
      "VALID AUC : 0.7293882163034705 ACC : 0.6522842639593909\n",
      "\n",
      "[LightGBM] [Info] Number of positive: 1360109, number of negative: 712702\n",
      "[LightGBM] [Warning] Auto-choosing row-wise multi-threading, the overhead of testing was 0.062837 seconds.\n",
      "You can set `force_row_wise=true` to remove the overhead.\n",
      "And if memory is not enough, you can set `force_col_wise=true`.\n",
      "[LightGBM] [Info] Total Bins 2840\n",
      "[LightGBM] [Info] Number of data points in the train set: 2072811, number of used features: 17\n",
      "[LightGBM] [Info] [binary:BoostFromScore]: pavg=0.656166 -> initscore=0.646257\n",
      "[LightGBM] [Info] Start training from score 0.646257\n",
      "[100]\tvalid_0's binary_logloss: 0.62851\n",
      "[200]\tvalid_0's binary_logloss: 0.624901\n",
      "[300]\tvalid_0's binary_logloss: 0.623507\n",
      "[400]\tvalid_0's binary_logloss: 0.619492\n",
      "[500]\tvalid_0's binary_logloss: 0.618104\n",
      "[600]\tvalid_0's binary_logloss: 0.61563\n",
      "[700]\tvalid_0's binary_logloss: 0.614171\n",
      "[800]\tvalid_0's binary_logloss: 0.614305\n",
      "[900]\tvalid_0's binary_logloss: 0.613526\n",
      "[1000]\tvalid_0's binary_logloss: 0.612372\n",
      "[1100]\tvalid_0's binary_logloss: 0.611495\n",
      "[1200]\tvalid_0's binary_logloss: 0.610854\n",
      "[1300]\tvalid_0's binary_logloss: 0.609393\n",
      "[1400]\tvalid_0's binary_logloss: 0.609702\n",
      "[1500]\tvalid_0's binary_logloss: 0.609738\n",
      "[1600]\tvalid_0's binary_logloss: 0.61021\n",
      "[1700]\tvalid_0's binary_logloss: 0.609674\n",
      "[1800]\tvalid_0's binary_logloss: 0.609072\n",
      "[1900]\tvalid_0's binary_logloss: 0.609423\n",
      "[2000]\tvalid_0's binary_logloss: 0.608305\n",
      "[2100]\tvalid_0's binary_logloss: 0.607963\n",
      "[2200]\tvalid_0's binary_logloss: 0.607286\n",
      "[2300]\tvalid_0's binary_logloss: 0.607023\n",
      "[2400]\tvalid_0's binary_logloss: 0.605752\n",
      "[2500]\tvalid_0's binary_logloss: 0.605352\n",
      "[2600]\tvalid_0's binary_logloss: 0.604793\n",
      "[2700]\tvalid_0's binary_logloss: 0.604591\n",
      "[2800]\tvalid_0's binary_logloss: 0.604106\n",
      "[2900]\tvalid_0's binary_logloss: 0.604345\n",
      "[3000]\tvalid_0's binary_logloss: 0.604641\n",
      "[3100]\tvalid_0's binary_logloss: 0.604376\n",
      "[3200]\tvalid_0's binary_logloss: 0.603837\n",
      "VALID AUC : 0.738214334193023 ACC : 0.6712707182320442\n",
      "\n",
      "[LightGBM] [Info] Number of positive: 1368910, number of negative: 703910\n",
      "[LightGBM] [Warning] Auto-choosing row-wise multi-threading, the overhead of testing was 0.056780 seconds.\n",
      "You can set `force_row_wise=true` to remove the overhead.\n",
      "And if memory is not enough, you can set `force_col_wise=true`.\n",
      "[LightGBM] [Info] Total Bins 2841\n",
      "[LightGBM] [Info] Number of data points in the train set: 2072820, number of used features: 17\n",
      "[LightGBM] [Info] [binary:BoostFromScore]: pavg=0.660409 -> initscore=0.665120\n",
      "[LightGBM] [Info] Start training from score 0.665120\n",
      "[100]\tvalid_0's binary_logloss: 0.635888\n",
      "[200]\tvalid_0's binary_logloss: 0.630717\n",
      "[300]\tvalid_0's binary_logloss: 0.629272\n",
      "[400]\tvalid_0's binary_logloss: 0.626042\n",
      "[500]\tvalid_0's binary_logloss: 0.62351\n",
      "[600]\tvalid_0's binary_logloss: 0.623066\n",
      "[700]\tvalid_0's binary_logloss: 0.623558\n",
      "[800]\tvalid_0's binary_logloss: 0.623906\n",
      "[900]\tvalid_0's binary_logloss: 0.622956\n",
      "[1000]\tvalid_0's binary_logloss: 0.622187\n",
      "[1100]\tvalid_0's binary_logloss: 0.621732\n",
      "[1200]\tvalid_0's binary_logloss: 0.620698\n",
      "[1300]\tvalid_0's binary_logloss: 0.621009\n",
      "[1400]\tvalid_0's binary_logloss: 0.620587\n",
      "[1500]\tvalid_0's binary_logloss: 0.620289\n",
      "[1600]\tvalid_0's binary_logloss: 0.620497\n",
      "[1700]\tvalid_0's binary_logloss: 0.619639\n",
      "[1800]\tvalid_0's binary_logloss: 0.619353\n",
      "[1900]\tvalid_0's binary_logloss: 0.619236\n",
      "[2000]\tvalid_0's binary_logloss: 0.619149\n",
      "[2100]\tvalid_0's binary_logloss: 0.618219\n",
      "[2200]\tvalid_0's binary_logloss: 0.618613\n",
      "[2300]\tvalid_0's binary_logloss: 0.618577\n",
      "[2400]\tvalid_0's binary_logloss: 0.61861\n",
      "[2500]\tvalid_0's binary_logloss: 0.618753\n",
      "[2600]\tvalid_0's binary_logloss: 0.618632\n",
      "[2700]\tvalid_0's binary_logloss: 0.618882\n",
      "[2800]\tvalid_0's binary_logloss: 0.619018\n",
      "[2900]\tvalid_0's binary_logloss: 0.618883\n",
      "[3000]\tvalid_0's binary_logloss: 0.619085\n",
      "[3100]\tvalid_0's binary_logloss: 0.61938\n",
      "[3200]\tvalid_0's binary_logloss: 0.619825\n",
      "VALID AUC : 0.7166795372676247 ACC : 0.6529768467475193\n",
      "\n",
      "[LightGBM] [Info] Number of positive: 1347184, number of negative: 725870\n",
      "[LightGBM] [Warning] Auto-choosing row-wise multi-threading, the overhead of testing was 0.053992 seconds.\n",
      "You can set `force_row_wise=true` to remove the overhead.\n",
      "And if memory is not enough, you can set `force_col_wise=true`.\n",
      "[LightGBM] [Info] Total Bins 2840\n",
      "[LightGBM] [Info] Number of data points in the train set: 2073054, number of used features: 17\n",
      "[LightGBM] [Info] [binary:BoostFromScore]: pavg=0.649855 -> initscore=0.618401\n",
      "[LightGBM] [Info] Start training from score 0.618401\n"
     ]
    },
    {
     "name": "stdout",
     "output_type": "stream",
     "text": [
      "[100]\tvalid_0's binary_logloss: 0.635052\n",
      "[200]\tvalid_0's binary_logloss: 0.631489\n",
      "[300]\tvalid_0's binary_logloss: 0.630766\n",
      "[400]\tvalid_0's binary_logloss: 0.629144\n",
      "[500]\tvalid_0's binary_logloss: 0.628162\n",
      "[600]\tvalid_0's binary_logloss: 0.625932\n",
      "[700]\tvalid_0's binary_logloss: 0.627511\n",
      "[800]\tvalid_0's binary_logloss: 0.628723\n",
      "[900]\tvalid_0's binary_logloss: 0.63057\n",
      "[1000]\tvalid_0's binary_logloss: 0.630895\n",
      "[1100]\tvalid_0's binary_logloss: 0.631353\n",
      "[1200]\tvalid_0's binary_logloss: 0.631419\n",
      "[1300]\tvalid_0's binary_logloss: 0.630896\n",
      "[1400]\tvalid_0's binary_logloss: 0.632055\n",
      "[1500]\tvalid_0's binary_logloss: 0.63182\n",
      "[1600]\tvalid_0's binary_logloss: 0.631605\n",
      "[1700]\tvalid_0's binary_logloss: 0.631812\n",
      "[1800]\tvalid_0's binary_logloss: 0.63188\n",
      "[1900]\tvalid_0's binary_logloss: 0.630647\n",
      "[2000]\tvalid_0's binary_logloss: 0.630152\n",
      "[2100]\tvalid_0's binary_logloss: 0.630248\n",
      "[2200]\tvalid_0's binary_logloss: 0.631572\n",
      "[2300]\tvalid_0's binary_logloss: 0.632326\n",
      "[2400]\tvalid_0's binary_logloss: 0.632254\n",
      "[2500]\tvalid_0's binary_logloss: 0.6329\n",
      "[2600]\tvalid_0's binary_logloss: 0.632566\n",
      "[2700]\tvalid_0's binary_logloss: 0.632298\n",
      "[2800]\tvalid_0's binary_logloss: 0.632862\n",
      "[2900]\tvalid_0's binary_logloss: 0.632939\n",
      "[3000]\tvalid_0's binary_logloss: 0.633412\n",
      "[3100]\tvalid_0's binary_logloss: 0.634061\n",
      "[3200]\tvalid_0's binary_logloss: 0.6342\n",
      "VALID AUC : 0.7083015458743225 ACC : 0.655608214849921\n",
      "\n",
      "[LightGBM] [Info] Number of positive: 1483205, number of negative: 783381\n",
      "[LightGBM] [Warning] Auto-choosing row-wise multi-threading, the overhead of testing was 0.036121 seconds.\n",
      "You can set `force_row_wise=true` to remove the overhead.\n",
      "And if memory is not enough, you can set `force_col_wise=true`.\n",
      "[LightGBM] [Info] Total Bins 2841\n",
      "[LightGBM] [Info] Number of data points in the train set: 2266586, number of used features: 17\n",
      "[LightGBM] [Info] [binary:BoostFromScore]: pavg=0.654378 -> initscore=0.638341\n",
      "[LightGBM] [Info] Start training from score 0.638341\n",
      "[100]\tvalid_0's binary_logloss: 0.612483\n",
      "[200]\tvalid_0's binary_logloss: 0.613012\n",
      "[300]\tvalid_0's binary_logloss: 0.613923\n",
      "[400]\tvalid_0's binary_logloss: 0.614923\n",
      "[500]\tvalid_0's binary_logloss: 0.614806\n",
      "[600]\tvalid_0's binary_logloss: 0.613582\n",
      "[700]\tvalid_0's binary_logloss: 0.614123\n",
      "[800]\tvalid_0's binary_logloss: 0.613199\n",
      "[900]\tvalid_0's binary_logloss: 0.61396\n",
      "[1000]\tvalid_0's binary_logloss: 0.617635\n",
      "[1100]\tvalid_0's binary_logloss: 0.618298\n",
      "[1200]\tvalid_0's binary_logloss: 0.619817\n",
      "[1300]\tvalid_0's binary_logloss: 0.620401\n",
      "[1400]\tvalid_0's binary_logloss: 0.620427\n",
      "[1500]\tvalid_0's binary_logloss: 0.622171\n",
      "[1600]\tvalid_0's binary_logloss: 0.621188\n",
      "[1700]\tvalid_0's binary_logloss: 0.620373\n",
      "[1800]\tvalid_0's binary_logloss: 0.621637\n",
      "[1900]\tvalid_0's binary_logloss: 0.62218\n",
      "[2000]\tvalid_0's binary_logloss: 0.622447\n",
      "[2100]\tvalid_0's binary_logloss: 0.623068\n",
      "[2200]\tvalid_0's binary_logloss: 0.624598\n",
      "[2300]\tvalid_0's binary_logloss: 0.626631\n",
      "[2400]\tvalid_0's binary_logloss: 0.627139\n",
      "[2500]\tvalid_0's binary_logloss: 0.628109\n",
      "[2600]\tvalid_0's binary_logloss: 0.628203\n",
      "[2700]\tvalid_0's binary_logloss: 0.628627\n",
      "[2800]\tvalid_0's binary_logloss: 0.62885\n",
      "[2900]\tvalid_0's binary_logloss: 0.630386\n",
      "[3000]\tvalid_0's binary_logloss: 0.631034\n",
      "[3100]\tvalid_0's binary_logloss: 0.634675\n",
      "[3200]\tvalid_0's binary_logloss: 0.635304\n",
      "VALID AUC : 0.71066472571926 ACC : 0.6666666666666666\n",
      "\n"
     ]
    }
   ],
   "source": [
    "k_auc_list = list()\n",
    "for k, (train_idx, valid_idx) in enumerate(cv.split(x,y,df.group),1):\n",
    "\n",
    "    # train 분리\n",
    "    train = x.iloc[train_idx]\n",
    "    y_train = y.iloc[train_idx]\n",
    "\n",
    "    # valid 분리\n",
    "    val = x.iloc[valid_idx]\n",
    "    valid = val[val.valid==1]\n",
    "    y_valid = y.iloc[valid.index]\n",
    "\n",
    "    lgb_train = lgb.Dataset(train[FEATS], y_train)\n",
    "    lgb_valid = lgb.Dataset(valid[FEATS], y_valid)\n",
    "    \n",
    "    model_k1 = lgb.train(\n",
    "        {'objective': 'binary'}, \n",
    "        lgb_train,\n",
    "        valid_sets=[lgb_valid],\n",
    "        verbose_eval=100,\n",
    "        num_boost_round=3200,\n",
    "    #     early_stopping_rounds=200,\n",
    "    )\n",
    "\n",
    "    preds = model_k1.predict(valid[FEATS])\n",
    "    acc = accuracy_score(y_valid, np.where(preds >= 0.5, 1, 0))\n",
    "    auc = roc_auc_score(y_valid, preds)\n",
    "    k_auc_list.append(auc)\n",
    "    print(f'VALID AUC : {auc} ACC : {acc}\\n')"
   ]
  },
  {
   "cell_type": "code",
   "execution_count": 25,
   "metadata": {
    "ExecuteTime": {
     "end_time": "2022-11-24T02:35:48.550366Z",
     "start_time": "2022-11-24T02:35:48.543034Z"
    }
   },
   "outputs": [
    {
     "data": {
      "text/plain": [
       "0.7183061288062406"
      ]
     },
     "execution_count": 25,
     "metadata": {},
     "output_type": "execute_result"
    }
   ],
   "source": [
    "kfold_auc = sum(k_auc_list) / n_splits\n",
    "kfold_auc"
   ]
  },
  {
   "cell_type": "code",
   "execution_count": 24,
   "metadata": {
    "ExecuteTime": {
     "end_time": "2022-11-24T02:34:39.233701Z",
     "start_time": "2022-11-24T02:27:36.071237Z"
    }
   },
   "outputs": [
    {
     "name": "stdout",
     "output_type": "stream",
     "text": [
      "[LightGBM] [Info] Number of positive: 1351413, number of negative: 720572\n",
      "[LightGBM] [Warning] Auto-choosing row-wise multi-threading, the overhead of testing was 0.051213 seconds.\n",
      "You can set `force_row_wise=true` to remove the overhead.\n",
      "And if memory is not enough, you can set `force_col_wise=true`.\n",
      "[LightGBM] [Info] Total Bins 2840\n",
      "[LightGBM] [Info] Number of data points in the train set: 2071985, number of used features: 17\n",
      "[LightGBM] [Info] [binary:BoostFromScore]: pavg=0.652231 -> initscore=0.628861\n",
      "[LightGBM] [Info] Start training from score 0.628861\n",
      "Training until validation scores don't improve for 200 rounds\n",
      "[100]\tvalid_0's binary_logloss: 0.638007\n",
      "[200]\tvalid_0's binary_logloss: 0.63296\n",
      "[300]\tvalid_0's binary_logloss: 0.632993\n",
      "[400]\tvalid_0's binary_logloss: 0.632994\n",
      "[500]\tvalid_0's binary_logloss: 0.630552\n",
      "[600]\tvalid_0's binary_logloss: 0.629557\n",
      "[700]\tvalid_0's binary_logloss: 0.628693\n",
      "[800]\tvalid_0's binary_logloss: 0.629121\n",
      "[900]\tvalid_0's binary_logloss: 0.628516\n",
      "[1000]\tvalid_0's binary_logloss: 0.629717\n",
      "Early stopping, best iteration is:\n",
      "[851]\tvalid_0's binary_logloss: 0.628429\n",
      "VALID AUC : 0.7071437586772688 ACC : 0.6518650088809946\n",
      "\n",
      "[LightGBM] [Info] Number of positive: 1357119, number of negative: 715405\n",
      "[LightGBM] [Warning] Auto-choosing row-wise multi-threading, the overhead of testing was 0.041562 seconds.\n",
      "You can set `force_row_wise=true` to remove the overhead.\n",
      "And if memory is not enough, you can set `force_col_wise=true`.\n",
      "[LightGBM] [Info] Total Bins 2840\n",
      "[LightGBM] [Info] Number of data points in the train set: 2072524, number of used features: 17\n",
      "[LightGBM] [Info] [binary:BoostFromScore]: pavg=0.654815 -> initscore=0.640271\n",
      "[LightGBM] [Info] Start training from score 0.640271\n",
      "Training until validation scores don't improve for 200 rounds\n",
      "[100]\tvalid_0's binary_logloss: 0.630438\n",
      "[200]\tvalid_0's binary_logloss: 0.62464\n",
      "[300]\tvalid_0's binary_logloss: 0.622973\n",
      "[400]\tvalid_0's binary_logloss: 0.620854\n",
      "[500]\tvalid_0's binary_logloss: 0.619407\n",
      "[600]\tvalid_0's binary_logloss: 0.617589\n",
      "[700]\tvalid_0's binary_logloss: 0.616397\n",
      "[800]\tvalid_0's binary_logloss: 0.615644\n",
      "[900]\tvalid_0's binary_logloss: 0.615295\n",
      "[1000]\tvalid_0's binary_logloss: 0.614154\n",
      "[1100]\tvalid_0's binary_logloss: 0.613624\n",
      "[1200]\tvalid_0's binary_logloss: 0.613665\n",
      "[1300]\tvalid_0's binary_logloss: 0.612858\n",
      "[1400]\tvalid_0's binary_logloss: 0.612164\n",
      "[1500]\tvalid_0's binary_logloss: 0.61212\n",
      "[1600]\tvalid_0's binary_logloss: 0.612536\n",
      "Early stopping, best iteration is:\n",
      "[1477]\tvalid_0's binary_logloss: 0.611798\n",
      "VALID AUC : 0.727728813559322 ACC : 0.6472081218274112\n",
      "\n",
      "[LightGBM] [Info] Number of positive: 1360109, number of negative: 712702\n",
      "[LightGBM] [Warning] Auto-choosing row-wise multi-threading, the overhead of testing was 0.023444 seconds.\n",
      "You can set `force_row_wise=true` to remove the overhead.\n",
      "And if memory is not enough, you can set `force_col_wise=true`.\n",
      "[LightGBM] [Info] Total Bins 2840\n",
      "[LightGBM] [Info] Number of data points in the train set: 2072811, number of used features: 17\n",
      "[LightGBM] [Info] [binary:BoostFromScore]: pavg=0.656166 -> initscore=0.646257\n",
      "[LightGBM] [Info] Start training from score 0.646257\n",
      "Training until validation scores don't improve for 200 rounds\n",
      "[100]\tvalid_0's binary_logloss: 0.62851\n",
      "[200]\tvalid_0's binary_logloss: 0.624901\n",
      "[300]\tvalid_0's binary_logloss: 0.623507\n",
      "[400]\tvalid_0's binary_logloss: 0.619492\n",
      "[500]\tvalid_0's binary_logloss: 0.618104\n",
      "[600]\tvalid_0's binary_logloss: 0.61563\n",
      "[700]\tvalid_0's binary_logloss: 0.614171\n",
      "[800]\tvalid_0's binary_logloss: 0.614305\n",
      "[900]\tvalid_0's binary_logloss: 0.613526\n",
      "[1000]\tvalid_0's binary_logloss: 0.612372\n",
      "[1100]\tvalid_0's binary_logloss: 0.611495\n",
      "[1200]\tvalid_0's binary_logloss: 0.610854\n",
      "[1300]\tvalid_0's binary_logloss: 0.609393\n",
      "[1400]\tvalid_0's binary_logloss: 0.609702\n",
      "Early stopping, best iteration is:\n",
      "[1289]\tvalid_0's binary_logloss: 0.609339\n",
      "VALID AUC : 0.7328933079951134 ACC : 0.6639042357274402\n",
      "\n",
      "[LightGBM] [Info] Number of positive: 1368910, number of negative: 703910\n",
      "[LightGBM] [Warning] Auto-choosing row-wise multi-threading, the overhead of testing was 0.048733 seconds.\n",
      "You can set `force_row_wise=true` to remove the overhead.\n",
      "And if memory is not enough, you can set `force_col_wise=true`.\n",
      "[LightGBM] [Info] Total Bins 2841\n",
      "[LightGBM] [Info] Number of data points in the train set: 2072820, number of used features: 17\n",
      "[LightGBM] [Info] [binary:BoostFromScore]: pavg=0.660409 -> initscore=0.665120\n",
      "[LightGBM] [Info] Start training from score 0.665120\n",
      "Training until validation scores don't improve for 200 rounds\n",
      "[100]\tvalid_0's binary_logloss: 0.635888\n",
      "[200]\tvalid_0's binary_logloss: 0.630717\n",
      "[300]\tvalid_0's binary_logloss: 0.629272\n",
      "[400]\tvalid_0's binary_logloss: 0.626042\n",
      "[500]\tvalid_0's binary_logloss: 0.62351\n",
      "[600]\tvalid_0's binary_logloss: 0.623066\n",
      "[700]\tvalid_0's binary_logloss: 0.623558\n",
      "[800]\tvalid_0's binary_logloss: 0.623906\n",
      "Early stopping, best iteration is:\n",
      "[604]\tvalid_0's binary_logloss: 0.62301\n",
      "VALID AUC : 0.712814701424905 ACC : 0.6441565600882029\n",
      "\n",
      "[LightGBM] [Info] Number of positive: 1347184, number of negative: 725870\n",
      "[LightGBM] [Warning] Auto-choosing row-wise multi-threading, the overhead of testing was 0.047028 seconds.\n",
      "You can set `force_row_wise=true` to remove the overhead.\n",
      "And if memory is not enough, you can set `force_col_wise=true`.\n",
      "[LightGBM] [Info] Total Bins 2840\n",
      "[LightGBM] [Info] Number of data points in the train set: 2073054, number of used features: 17\n",
      "[LightGBM] [Info] [binary:BoostFromScore]: pavg=0.649855 -> initscore=0.618401\n",
      "[LightGBM] [Info] Start training from score 0.618401\n",
      "Training until validation scores don't improve for 200 rounds\n",
      "[100]\tvalid_0's binary_logloss: 0.635052\n",
      "[200]\tvalid_0's binary_logloss: 0.631489\n",
      "[300]\tvalid_0's binary_logloss: 0.630766\n",
      "[400]\tvalid_0's binary_logloss: 0.629144\n",
      "[500]\tvalid_0's binary_logloss: 0.628162\n",
      "[600]\tvalid_0's binary_logloss: 0.625932\n",
      "[700]\tvalid_0's binary_logloss: 0.627511\n",
      "Early stopping, best iteration is:\n",
      "[555]\tvalid_0's binary_logloss: 0.624787\n",
      "VALID AUC : 0.714876530817105 ACC : 0.6477093206951027\n",
      "\n",
      "[LightGBM] [Info] Number of positive: 1483205, number of negative: 783381\n",
      "[LightGBM] [Warning] Auto-choosing row-wise multi-threading, the overhead of testing was 0.063688 seconds.\n",
      "You can set `force_row_wise=true` to remove the overhead.\n",
      "And if memory is not enough, you can set `force_col_wise=true`.\n",
      "[LightGBM] [Info] Total Bins 2841\n",
      "[LightGBM] [Info] Number of data points in the train set: 2266586, number of used features: 17\n",
      "[LightGBM] [Info] [binary:BoostFromScore]: pavg=0.654378 -> initscore=0.638341\n",
      "[LightGBM] [Info] Start training from score 0.638341\n",
      "Training until validation scores don't improve for 200 rounds\n",
      "[100]\tvalid_0's binary_logloss: 0.612483\n",
      "[200]\tvalid_0's binary_logloss: 0.613012\n",
      "Early stopping, best iteration is:\n",
      "[33]\tvalid_0's binary_logloss: 0.609391\n",
      "VALID AUC : 0.7267909263147114 ACC : 0.6706989247311828\n",
      "\n"
     ]
    }
   ],
   "source": [
    "k_auc_list2 = list()\n",
    "for k, (train_idx, valid_idx) in enumerate(cv.split(x,y,df.group),1):\n",
    "\n",
    "    # train 분리\n",
    "    train = x.iloc[train_idx]\n",
    "    y_train = y.iloc[train_idx]\n",
    "\n",
    "    # valid 분리\n",
    "    val = x.iloc[valid_idx]\n",
    "    valid = val[val.valid==1]\n",
    "    y_valid = y.iloc[valid.index]\n",
    "\n",
    "    lgb_train = lgb.Dataset(train[FEATS], y_train)\n",
    "    lgb_valid = lgb.Dataset(valid[FEATS], y_valid)\n",
    "    \n",
    "    model_k2 = lgb.train(\n",
    "        {'objective': 'binary'}, \n",
    "        lgb_train,\n",
    "        valid_sets=[lgb_valid],\n",
    "        verbose_eval=100,\n",
    "        num_boost_round=10000,\n",
    "        early_stopping_rounds=200,\n",
    "    )\n",
    "\n",
    "    preds = model_k2.predict(valid[FEATS])\n",
    "    acc = accuracy_score(y_valid, np.where(preds >= 0.5, 1, 0))\n",
    "    auc = roc_auc_score(y_valid, preds)\n",
    "    k_auc_list2.append(auc)\n",
    "    print(f'VALID AUC : {auc} ACC : {acc}\\n')\n",
    "\n",
    "kfold_auc = sum(k_auc_list2) / n_splits"
   ]
  },
  {
   "cell_type": "code",
   "execution_count": 26,
   "metadata": {
    "ExecuteTime": {
     "end_time": "2022-11-24T02:36:01.641978Z",
     "start_time": "2022-11-24T02:36:01.634472Z"
    }
   },
   "outputs": [
    {
     "data": {
      "text/plain": [
       "0.7203746731314044"
      ]
     },
     "execution_count": 26,
     "metadata": {},
     "output_type": "execute_result"
    }
   ],
   "source": [
    "kfold_auc2 = sum(k_auc_list2) / n_splits\n",
    "kfold_auc2"
   ]
  },
  {
   "cell_type": "code",
   "execution_count": null,
   "metadata": {},
   "outputs": [],
   "source": []
  },
  {
   "cell_type": "code",
   "execution_count": null,
   "metadata": {},
   "outputs": [],
   "source": []
  },
  {
   "cell_type": "code",
   "execution_count": null,
   "metadata": {},
   "outputs": [],
   "source": [
    "for k, (train_idx, valid_idx) in enumerate(cv.split(x,y,df.group),1):\n",
    "\n",
    "    # train 분리\n",
    "    train = x.iloc[train_idx]\n",
    "    y_train = y.iloc[train_idx]\n",
    "\n",
    "    # valid 분리\n",
    "    val = x.iloc[valid_idx]\n",
    "    valid = val[val.valid==1]\n",
    "    y_valid = y.iloc[valid.index]\n",
    "\n",
    "    model2 = lgb.LGBMClassifier(\n",
    "    **params,\n",
    "    n_estimators=3200,\n",
    "    silent=-1,\n",
    "    )\n",
    "\n",
    "    model.fit(\n",
    "        X=train[FEATS],\n",
    "        y=y_train,\n",
    "        early_stopping_rounds=100,\n",
    "        eval_set=[(train[FEATS], y_train), (valid[FEATS], y_valid)],\n",
    "        eval_names=[\"train\", \"valid\"],\n",
    "        eval_metric=\"roc_auc\",\n",
    "#         verbose=100,\n",
    "    )\n",
    "\n",
    "    preds = model.predict_proba(valid[FEATS])[:, 1]\n",
    "    acc = accuracy_score(y_valid, np.where(preds >= 0.5, 1, 0))\n",
    "    auc = roc_auc_score(y_valid, preds)\n",
    "    k_auc_list.append(auc)\n",
    "    print(f'VALID AUC : {auc} ACC : {acc}\\n')\n",
    "\n",
    "kfold_auc = sum(k_auc_list) / n_splits"
   ]
  }
 ],
 "metadata": {
  "colab": {
   "collapsed_sections": [],
   "provenance": []
  },
  "kernelspec": {
   "display_name": "Python 3 (ipykernel)",
   "language": "python",
   "name": "python3"
  },
  "language_info": {
   "codemirror_mode": {
    "name": "ipython",
    "version": 3
   },
   "file_extension": ".py",
   "mimetype": "text/x-python",
   "name": "python",
   "nbconvert_exporter": "python",
   "pygments_lexer": "ipython3",
   "version": "3.9.15"
  },
  "toc": {
   "base_numbering": 1,
   "nav_menu": {},
   "number_sections": false,
   "sideBar": true,
   "skip_h1_title": false,
   "title_cell": "Table of Contents",
   "title_sidebar": "Contents",
   "toc_cell": false,
   "toc_position": {
    "height": "calc(100% - 180px)",
    "left": "10px",
    "top": "150px",
    "width": "249.391px"
   },
   "toc_section_display": true,
   "toc_window_display": true
  }
 },
 "nbformat": 4,
 "nbformat_minor": 1
}
