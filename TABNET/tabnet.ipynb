{
 "cells": [
  {
   "cell_type": "code",
   "execution_count": 6,
   "metadata": {},
   "outputs": [],
   "source": [
    "import os\n",
    "import numpy as np\n",
    "import pandas as pd\n",
    "import torch\n",
    "import random\n",
    "\n",
    "from utils import seed_everything,data_load\n",
    "\n",
    "from sklearn.metrics import roc_auc_score\n",
    "from sklearn.metrics import accuracy_score\n",
    "from pytorch_tabnet.tab_model import TabNetClassifier, TabNetRegressor\n",
    "DATA_PATH = '../EDA/'"
   ]
  },
  {
   "cell_type": "code",
   "execution_count": 3,
   "metadata": {},
   "outputs": [],
   "source": [
    "class CFG:\n",
    "    START_IDX = 90000000\n",
    "    SEED = 42\n",
    "    TEST_SIZE = 0.2\n",
    "    N_EPOCHS = 5\n",
    "    BATCH_SZ = 1024\n",
    "    PATIENCE = 3\n",
    "    VIRTUAL_BS = 128\n",
    "    LR = 0.01\n",
    "    ND = 8  # Width of the decision prediction layer. Bigger values gives more capacity to the model with the risk of overfitting. \n",
    "    NA = 8  # Width of the attention embedding for each mask. According to the paper n_d=n_a is usually a good choice. \n",
    "    N_STEPS = 3 # Number of steps in the architecture (usually between 3 and 10)\n",
    "    GAMMA = 1.3 # This is the coefficient for feature reusage in the masks. A value close to 1 will make mask selection least correlated between layers. \n",
    "    #Values range from 1.0 to 2.0.\n",
    "    N_INDEPENDENT = 1 # Number of independent Gated Linear Units layers at each step. Usual values range from 1 to 5.\n",
    "    LAMBDA = 0\n",
    "    N_SHARED = 3 # Number of shared Gated Linear Units at each step Usual values range from 1 to 5\n",
    "    MOMENTUM = 0.1\n",
    "    CLIP = 1.0\n",
    "    MASK_TYPE = 'sparsemax' #(default='sparsemax') Either \"sparsemax\" or \"entmax\" : this is the masking function to use for selecting features"
   ]
  },
  {
   "cell_type": "code",
   "execution_count": 21,
   "metadata": {},
   "outputs": [],
   "source": [
    "def feature_engineering(df):\n",
    "    #유저별 시퀀스를 고려하기 위해 아래와 같이 정렬\n",
    "    df.sort_values(by=['userID','Timestamp'], inplace=True)\n",
    "    \n",
    "    #유저들의 문제 풀이수, 정답 수, 정답률을 시간순으로 누적해서 계산\n",
    "    ## 유저별 맞춘 개수를 한칸 아래로 땡기기(shift 1)\n",
    "    df['user_correct_answer'] = df.groupby('userID')['answerCode'].transform(lambda x: x.cumsum().shift(1))\n",
    "    ## 유저별 문제 푼 개수 cumcount\n",
    "    df['user_total_answer'] = df.groupby('userID')['answerCode'].cumcount()\n",
    "    # 유저별 푼 문제수에 따른 정확도\n",
    "    df['user_acc'] = df['user_correct_answer']/df['user_total_answer']\n",
    "\n",
    "    # testId와 KnowledgeTag의 전체 정답률은 한번에 계산\n",
    "    # 아래 데이터는 제출용 데이터셋에 대해서도 재사용\n",
    "    \n",
    "    ## 시험지별 정답률과 맞춘 횟수\n",
    "    correct_t = df.groupby(['testId'])['answerCode'].agg(['mean', 'sum'])\n",
    "    correct_t.columns = [\"test_mean\", 'test_sum']\n",
    "    ## 문제 유형별 정답률과 맞춘 횟수\n",
    "    correct_k = df.groupby(['KnowledgeTag'])['answerCode'].agg(['mean', 'sum'])\n",
    "    correct_k.columns = [\"tag_mean\", 'tag_sum']\n",
    "\n",
    "    ## df에 시험지별 정답률과 맞춘 횟수 추가\n",
    "    df = pd.merge(df, correct_t, on=['testId'], how=\"left\")\n",
    "    ## df에 문제 유형별 정답률과 맞춘 횟수 추가\n",
    "    df = pd.merge(df, correct_k, on=['KnowledgeTag'], how=\"left\")\n",
    "    \n",
    "    return df"
   ]
  },
  {
   "cell_type": "code",
   "execution_count": 7,
   "metadata": {},
   "outputs": [],
   "source": [
    "# train과 test 데이터셋은 사용자 별로 묶어서 분리를 해주어야함\n",
    "def custom_train_test_split(df, ratio=0.7, split=True):\n",
    "    \n",
    "    users = list(zip(df['userID'].value_counts().index, df['userID'].value_counts()))\n",
    "    random.shuffle(users)\n",
    "    \n",
    "    max_train_data_len = ratio*len(df)\n",
    "    sum_of_train_data = 0\n",
    "    user_ids =[]\n",
    "\n",
    "    for user_id, count in users:\n",
    "        sum_of_train_data += count\n",
    "        if max_train_data_len < sum_of_train_data:\n",
    "            break\n",
    "        user_ids.append(user_id)\n",
    "\n",
    "\n",
    "    train = df[df['userID'].isin(user_ids)]\n",
    "    test = df[df['userID'].isin(user_ids) == False]\n",
    "\n",
    "    #test데이터셋은 각 유저의 마지막 interaction만 추출\n",
    "    test = test[test['userID'] != test['userID'].shift(-1)]\n",
    "    return train, test"
   ]
  },
  {
   "cell_type": "code",
   "execution_count": 33,
   "metadata": {},
   "outputs": [],
   "source": [
    "seed_everything(CFG.SEED)\n",
    "train,test = data_load(DATA_PATH)\n",
    "train = feature_engineering(train)\n",
    "train,valid = custom_train_test_split(train)"
   ]
  },
  {
   "cell_type": "code",
   "execution_count": 34,
   "metadata": {},
   "outputs": [
    {
     "data": {
      "text/plain": [
       "Index(['userID', 'assessmentItemID', 'testId', 'answerCode', 'Timestamp',\n",
       "       'KnowledgeTag', 'Time', 'Timediff', 'Timepassed', 'assess_count',\n",
       "       'user_correct_answer', 'user_total_answer', 'user_acc', 'test_mean',\n",
       "       'test_sum', 'tag_mean', 'tag_sum'],\n",
       "      dtype='object')"
      ]
     },
     "execution_count": 34,
     "metadata": {},
     "output_type": "execute_result"
    }
   ],
   "source": [
    "train.columns"
   ]
  },
  {
   "cell_type": "code",
   "execution_count": 36,
   "metadata": {},
   "outputs": [],
   "source": [
    "FEATS = ['KnowledgeTag', 'user_correct_answer', 'user_total_answer', 'Time','Timediff','Timepassed','assess_count',\n",
    "         'user_acc', 'test_mean', 'test_sum', 'tag_mean','tag_sum','answerCode']\n",
    "train = train[FEATS]\n",
    "valid = valid[FEATS]\n"
   ]
  },
  {
   "cell_type": "code",
   "execution_count": 28,
   "metadata": {},
   "outputs": [
    {
     "name": "stderr",
     "output_type": "stream",
     "text": [
      "/opt/conda/lib/python3.8/site-packages/pytorch_tabnet/abstract_model.py:75: UserWarning: Device used : cuda\n",
      "  warnings.warn(f\"Device used : {self.device}\")\n"
     ]
    }
   ],
   "source": [
    "model = TabNetClassifier(\n",
    "    n_d = CFG.ND,\n",
    "    n_a = CFG.NA,\n",
    "    n_steps = CFG.N_STEPS,\n",
    "    gamma = CFG.GAMMA, \n",
    "    n_independent = CFG.N_INDEPENDENT,\n",
    "    n_shared = CFG.N_SHARED,\n",
    "    # cat_dims=[cat_dims],\n",
    "    cat_emb_dim=1,\n",
    "    optimizer_params=dict(lr=CFG.LR),\n",
    "    momentum=CFG.MOMENTUM,\n",
    "    # cat_idxs=[cat_idxs],\n",
    "    verbose=1,\n",
    "    #scheduler_params=dict(milestones=[20, 50, 80], gamma=0.5), \n",
    "    #scheduler_fn=torch.optim.lr_scheduler.MultiStepLR,\n",
    "    mask_type = CFG.MASK_TYPE,\n",
    "    lambda_sparse = CFG.LAMBDA,\n",
    "    clip_value = CFG.CLIP\n",
    ")"
   ]
  },
  {
   "cell_type": "code",
   "execution_count": 42,
   "metadata": {},
   "outputs": [],
   "source": [
    "train = train.fillna(0)\n",
    "valid = valid.fillna(0)"
   ]
  },
  {
   "cell_type": "code",
   "execution_count": 43,
   "metadata": {},
   "outputs": [
    {
     "name": "stdout",
     "output_type": "stream",
     "text": [
      "epoch 0  | loss: 0.61077 | val_0_auc: 0.67882 |  0:01:51s\n",
      "epoch 1  | loss: 0.59891 | val_0_auc: 0.67944 |  0:03:35s\n",
      "epoch 2  | loss: 0.58436 | val_0_auc: 0.68425 |  0:05:14s\n",
      "epoch 3  | loss: 0.58189 | val_0_auc: 0.68216 |  0:07:09s\n",
      "epoch 4  | loss: 0.58011 | val_0_auc: 0.68021 |  0:09:00s\n",
      "Stop training because you reached max_epochs = 5 with best_epoch = 2 and best_val_0_auc = 0.68425\n"
     ]
    },
    {
     "name": "stderr",
     "output_type": "stream",
     "text": [
      "/opt/conda/lib/python3.8/site-packages/pytorch_tabnet/callbacks.py:172: UserWarning: Best weights from best epoch are automatically used!\n",
      "  warnings.warn(wrn_msg)\n"
     ]
    }
   ],
   "source": [
    "model.fit(\n",
    "    X_train = train.drop(columns = 'answerCode').values,\n",
    "    y_train = train['answerCode'].values,\n",
    "    eval_set = [(valid.drop(columns = 'answerCode').values,valid['answerCode'].values)],\n",
    "    max_epochs = CFG.N_EPOCHS, \n",
    "    patience = CFG.PATIENCE,\n",
    "    batch_size = CFG.BATCH_SZ, \n",
    "    virtual_batch_size = CFG.VIRTUAL_BS,\n",
    "    num_workers = 0,\n",
    "    weights = 1,\n",
    "    drop_last = False\n",
    ")"
   ]
  },
  {
   "cell_type": "code",
   "execution_count": 44,
   "metadata": {},
   "outputs": [
    {
     "name": "stdout",
     "output_type": "stream",
     "text": [
      "Successfully saved model at ./saved/tabnet_model_test_1.zip\n"
     ]
    },
    {
     "name": "stderr",
     "output_type": "stream",
     "text": [
      "/opt/conda/lib/python3.8/site-packages/pytorch_tabnet/abstract_model.py:75: UserWarning: Device used : cuda\n",
      "  warnings.warn(f\"Device used : {self.device}\")\n"
     ]
    }
   ],
   "source": [
    "# save tabnet model\n",
    "saving_path_name = \"./saved/tabnet_model_test_1\"\n",
    "saved_filepath = model.save_model(saving_path_name)\n",
    "\n",
    "# define new model with basic parameters and load state dict weights\n",
    "loaded_clf = TabNetClassifier()\n",
    "loaded_clf.load_model(saved_filepath)"
   ]
  },
  {
   "cell_type": "code",
   "execution_count": 63,
   "metadata": {},
   "outputs": [],
   "source": [
    "explain = loaded_clf.explain(valid.drop(columns = 'answerCode').values)"
   ]
  },
  {
   "cell_type": "code",
   "execution_count": 67,
   "metadata": {},
   "outputs": [
    {
     "data": {
      "text/plain": [
       "(12,)"
      ]
     },
     "execution_count": 67,
     "metadata": {},
     "output_type": "execute_result"
    }
   ],
   "source": [
    "explain[0].shape"
   ]
  },
  {
   "cell_type": "code",
   "execution_count": 72,
   "metadata": {},
   "outputs": [
    {
     "data": {
      "text/plain": [
       "Index(['KnowledgeTag', 'user_correct_answer', 'user_total_answer', 'Time',\n",
       "       'Timediff', 'Timepassed', 'assess_count', 'user_acc', 'test_mean',\n",
       "       'test_sum', 'tag_mean', 'tag_sum', 'answerCode'],\n",
       "      dtype='object')"
      ]
     },
     "execution_count": 72,
     "metadata": {},
     "output_type": "execute_result"
    }
   ],
   "source": [
    "train.columns"
   ]
  },
  {
   "cell_type": "code",
   "execution_count": 91,
   "metadata": {},
   "outputs": [
    {
     "data": {
      "image/png": "[encoded data removed]",
      "text/plain": [
       "<Figure size 640x480 with 6 Axes>"
      ]
     },
     "metadata": {},
     "output_type": "display_data"
    }
   ],
   "source": [
    "import matplotlib.pyplot as plt\n",
    "\n",
    "fig, axes = plt.subplots(1,3)\n",
    "\n",
    "for i,ax in enumerate(axes):\n",
    "    pcm = ax.pcolor(explain[1][i],vmin = 0, vmax = 1)\n",
    "    cbar = fig.colorbar(pcm, ax=axes[i], \n",
    "                        ticks=[0, 0.5, 1], \n",
    "                        orientation='horizontal'\n",
    "                       )"
   ]
  },
  {
   "cell_type": "code",
   "execution_count": null,
   "metadata": {},
   "outputs": [],
   "source": []
  }
 ],
 "metadata": {
  "kernelspec": {
   "display_name": "Python 3.8.5 ('base')",
   "language": "python",
   "name": "python3"
  },
  "language_info": {
   "codemirror_mode": {
    "name": "ipython",
    "version": 3
   },
   "file_extension": ".py",
   "mimetype": "text/x-python",
   "name": "python",
   "nbconvert_exporter": "python",
   "pygments_lexer": "ipython3",
   "version": "3.8.5"
  },
  "orig_nbformat": 4,
  "vscode": {
   "interpreter": {
    "hash": "d4d1e4263499bec80672ea0156c357c1ee493ec2b1c70f0acce89fc37c4a6abe"
   }
  }
 },
 "nbformat": 4,
 "nbformat_minor": 2
}
