{
 "cells": [
  {
   "cell_type": "code",
   "execution_count": 1,
   "metadata": {},
   "outputs": [],
   "source": [
    "import os\n",
    "import numpy as np\n",
    "import pandas as pd\n",
    "import torch\n",
    "import random\n",
    "\n",
    "from utils import seed_everything,data_load,\n",
    "\n",
    "from sklearn.metrics import roc_auc_score\n",
    "from sklearn.metrics import accuracy_score\n",
    "from pytorch_tabnet.tab_model import TabNetClassifier, TabNetRegressor\n",
    "DATA_PATH = '../EDA/'"
   ]
  },
  {
   "cell_type": "markdown",
   "metadata": {},
   "source": [
    "### Parameter Class 설정"
   ]
  },
  {
   "cell_type": "code",
   "execution_count": 2,
   "metadata": {},
   "outputs": [],
   "source": [
    "class CFG:\n",
    "    START_IDX = 90000000\n",
    "    SEED = 42\n",
    "    TEST_SIZE = 0.2\n",
    "    N_EPOCHS = 5\n",
    "    BATCH_SZ = 1024\n",
    "    PATIENCE = 3\n",
    "    VIRTUAL_BS = 128\n",
    "    LR = 0.01\n",
    "    ND = 8  # Width of the decision prediction layer. Bigger values gives more capacity to the model with the risk of overfitting. \n",
    "    NA = 8  # Width of the attention embedding for each mask. According tos the paper n_d=n_a is usually a good choice. \n",
    "    N_STEPS = 3 # Number of steps in the architecture (usually between 3 and 10)\n",
    "    GAMMA = 1.3 # This is the coefficient for feature reusage in the masks. A value close to 1 will make mask selection least correlated between layers. \n",
    "    #Values range from 1.0 to 2.0.\n",
    "    N_INDEPENDENT = 1 # Number of independent Gated Linear Units layers at each step. Usual values range from 1 to 5.\n",
    "    LAMBDA = 0\n",
    "    N_SHARED = 3 # Number of shared Gated Linear Units at each step Usual values range from 1 to 5\n",
    "    MOMENTUM = 0.1\n",
    "    CLIP = 1.0\n",
    "    MASK_TYPE = 'sparsemax' #(default='sparsemax') Either \"sparsemax\" or \"entmax\" : this is the masking function to use for selecting features"
   ]
  },
  {
   "cell_type": "markdown",
   "metadata": {},
   "source": [
    "### Feature_engineering, train_test_split"
   ]
  },
  {
   "cell_type": "code",
   "execution_count": 3,
   "metadata": {},
   "outputs": [],
   "source": [
    "def feature_engineering(df):\n",
    "    #유저별 시퀀스를 고려하기 위해 아래와 같이 정렬\n",
    "    df.sort_values(by=['userID','Timestamp'], inplace=True)\n",
    "    \n",
    "    #유저들의 문제 풀이수, 정답 수, 정답률을 시간순으로 누적해서 계산\n",
    "    ## 유저별 맞춘 개수를 한칸 아래로 땡기기(shift 1)\n",
    "    df['user_correct_answer'] = df.groupby('userID')['answerCode'].transform(lambda x: x.cumsum().shift(1))\n",
    "    ## 유저별 문제 푼 개수 cumcount\n",
    "    df['user_total_answer'] = df.groupby('userID')['answerCode'].cumcount()\n",
    "    # 유저별 푼 문제수에 따른 정확도\n",
    "    df['user_acc'] = df['user_correct_answer']/df['user_total_answer']\n",
    "\n",
    "    # testId와 KnowledgeTag의 전체 정답률은 한번에 계산\n",
    "    # 아래 데이터는 제출용 데이터셋에 대해서도 재사용\n",
    "    \n",
    "    ## 시험지별 정답률과 맞춘 횟수\n",
    "    correct_t = df.groupby(['testId'])['answerCode'].agg(['mean', 'sum'])\n",
    "    correct_t.columns = [\"test_mean\", 'test_sum']\n",
    "    ## 문제 유형별 정답률과 맞춘 횟수\n",
    "    correct_k = df.groupby(['KnowledgeTag'])['answerCode'].agg(['mean', 'sum'])\n",
    "    correct_k.columns = [\"tag_mean\", 'tag_sum']\n",
    "\n",
    "    ## df에 시험지별 정답률과 맞춘 횟수 추가\n",
    "    df = pd.merge(df, correct_t, on=['testId'], how=\"left\")\n",
    "    ## df에 문제 유형별 정답률과 맞춘 횟수 추가\n",
    "    df = pd.merge(df, correct_k, on=['KnowledgeTag'], how=\"left\")\n",
    "    \n",
    "    return df"
   ]
  },
  {
   "cell_type": "code",
   "execution_count": 4,
   "metadata": {},
   "outputs": [],
   "source": [
    "# train과 test 데이터셋은 사용자 별로 묶어서 분리를 해주어야함\n",
    "def custom_train_test_split(df, ratio=0.7, split=True):\n",
    "    \n",
    "    users = list(zip(df['userID'].value_counts().index, df['userID'].value_counts()))\n",
    "    random.shuffle(users)\n",
    "    \n",
    "    max_train_data_len = ratio*len(df)\n",
    "    sum_of_train_data = 0\n",
    "    user_ids =[]\n",
    "\n",
    "    for user_id, count in users:\n",
    "        sum_of_train_data += count\n",
    "        if max_train_data_len < sum_of_train_data:\n",
    "            break\n",
    "        user_ids.append(user_id)\n",
    "\n",
    "\n",
    "    train = df[df['userID'].isin(user_ids)]\n",
    "    test = df[df['userID'].isin(user_ids) == False]\n",
    "\n",
    "    #test데이터셋은 각 유저의 마지막 interaction만 추출\n",
    "    test = test[test['userID'] != test['userID'].shift(-1)]\n",
    "    return train, test"
   ]
  },
  {
   "cell_type": "markdown",
   "metadata": {},
   "source": [
    "### Data -> train,valid,test"
   ]
  },
  {
   "cell_type": "code",
   "execution_count": 5,
   "metadata": {},
   "outputs": [],
   "source": [
    "seed_everything(CFG.SEED)\n",
    "cat_features = ['userID','assessmentItemID','testId','KnowledgeTag']\n",
    "df = data_load(DATA_PATH)\n",
    "df = feature_engineering(df)\n",
    "df.fillna(0,inplace = True)\n",
    "df = categorical_feature(df,cat_features)\n",
    "train = df[df['answerCode']>-1]\n",
    "test = df[df['answerCode']==-1]\n",
    "train,valid = custom_train_test_split(train)"
   ]
  },
  {
   "cell_type": "markdown",
   "metadata": {},
   "source": [
    "### 사용 Feature 설정"
   ]
  },
  {
   "cell_type": "code",
   "execution_count": 6,
   "metadata": {},
   "outputs": [],
   "source": [
    "# 유저, 문제, 시험지, 태그 추가\n",
    "FEATS = ['userID','assessmentItemID','testId','KnowledgeTag','Time','Timediff','Timepassed','assess_count',\n",
    "         'user_acc', 'test_mean', 'test_sum', 'tag_mean','tag_sum','answerCode']\n",
    "train_set = train[FEATS]\n",
    "valid_set = valid[FEATS]\n",
    "cat_idxs = [train_set.columns.get_loc(col) for col in cat_features]\n",
    "cat_dims = [df[col].nunique() for col in cat_features]"
   ]
  },
  {
   "cell_type": "code",
   "execution_count": 7,
   "metadata": {},
   "outputs": [],
   "source": [
    "# 카테고리 제외\n",
    "FEATS = ['Time','Timediff','Timepassed','assess_count',\n",
    "         'user_acc', 'test_mean', 'test_sum', 'tag_mean','tag_sum','answerCode']\n",
    "train_set = train[FEATS]\n",
    "valid_set = valid[FEATS]\n",
    "# cat_idxs = [train.columns.get_loc(col) for col in cat_features]\n",
    "# cat_dims = [train[col].nunique() for col in cat_features]"
   ]
  },
  {
   "cell_type": "markdown",
   "metadata": {},
   "source": [
    "### TabNet 불러오기"
   ]
  },
  {
   "cell_type": "code",
   "execution_count": 7,
   "metadata": {},
   "outputs": [
    {
     "name": "stderr",
     "output_type": "stream",
     "text": [
      "/opt/conda/lib/python3.8/site-packages/pytorch_tabnet/abstract_model.py:75: UserWarning: Device used : cuda\n",
      "  warnings.warn(f\"Device used : {self.device}\")\n"
     ]
    }
   ],
   "source": [
    "model = TabNetClassifier(\n",
    "    n_d = CFG.ND,\n",
    "    n_a = CFG.NA,\n",
    "    n_steps = CFG.N_STEPS,\n",
    "    gamma = CFG.GAMMA, \n",
    "    n_independent = CFG.N_INDEPENDENT,\n",
    "    n_shared = CFG.N_SHARED,\n",
    "    cat_emb_dim=1,\n",
    "    optimizer_params=dict(lr=CFG.LR),\n",
    "    momentum=CFG.MOMENTUM,\n",
    "    cat_idxs=cat_idxs,\n",
    "    cat_dims=cat_dims,\n",
    "    verbose=1,\n",
    "    #scheduler_params=dict(milestones=[20, 50, 80], gamma=0.5), \n",
    "    #scheduler_fn=torch.optim.lr_scheduler.MultiStepLR,\n",
    "    mask_type = CFG.MASK_TYPE,\n",
    "    lambda_sparse = CFG.LAMBDA,\n",
    "    clip_value = CFG.CLIP\n",
    ")"
   ]
  },
  {
   "cell_type": "markdown",
   "metadata": {},
   "source": [
    "### 모델 학습"
   ]
  },
  {
   "cell_type": "code",
   "execution_count": 8,
   "metadata": {},
   "outputs": [
    {
     "name": "stdout",
     "output_type": "stream",
     "text": [
      "epoch 0  | loss: 0.61505 | val_0_auc: 0.68127 |  0:02:08s\n",
      "epoch 1  | loss: 0.58664 | val_0_auc: 0.70895 |  0:04:22s\n",
      "epoch 2  | loss: 0.54273 | val_0_auc: 0.72205 |  0:06:34s\n",
      "epoch 3  | loss: 0.52707 | val_0_auc: 0.71737 |  0:08:44s\n",
      "epoch 4  | loss: 0.52056 | val_0_auc: 0.71597 |  0:10:48s\n",
      "Stop training because you reached max_epochs = 5 with best_epoch = 2 and best_val_0_auc = 0.72205\n"
     ]
    },
    {
     "name": "stderr",
     "output_type": "stream",
     "text": [
      "/opt/conda/lib/python3.8/site-packages/pytorch_tabnet/callbacks.py:172: UserWarning: Best weights from best epoch are automatically used!\n",
      "  warnings.warn(wrn_msg)\n"
     ]
    }
   ],
   "source": [
    "model.fit(\n",
    "    X_train = train_set.drop(columns = 'answerCode').values,\n",
    "    y_train = train_set['answerCode'].values,\n",
    "    eval_set = [(valid_set.drop(columns = 'answerCode').values,valid_set['answerCode'].values)],\n",
    "    max_epochs = CFG.N_EPOCHS, \n",
    "    patience = CFG.PATIENCE,\n",
    "    batch_size = CFG.BATCH_SZ, \n",
    "    virtual_batch_size = CFG.VIRTUAL_BS,\n",
    "    num_workers = 0,\n",
    "    weights = 1,\n",
    "    drop_last = False\n",
    ")"
   ]
  },
  {
   "cell_type": "markdown",
   "metadata": {},
   "source": [
    "### 모델 저장 및 불러오기"
   ]
  },
  {
   "cell_type": "code",
   "execution_count": 9,
   "metadata": {},
   "outputs": [
    {
     "name": "stdout",
     "output_type": "stream",
     "text": [
      "Successfully saved model at ./saved/tabnet_model_add_ID.zip\n"
     ]
    },
    {
     "name": "stderr",
     "output_type": "stream",
     "text": [
      "/opt/conda/lib/python3.8/site-packages/pytorch_tabnet/abstract_model.py:75: UserWarning: Device used : cuda\n",
      "  warnings.warn(f\"Device used : {self.device}\")\n"
     ]
    }
   ],
   "source": [
    "# save tabnet model\n",
    "saving_path_name = \"./saved/tabnet_model_add_ID\"\n",
    "saved_filepath = model.save_model(saving_path_name)\n",
    "\n",
    "# define new model with basic parameters and load state dict weights\n",
    "loaded_clf = TabNetClassifier()\n",
    "loaded_clf.load_model(saved_filepath)"
   ]
  },
  {
   "cell_type": "markdown",
   "metadata": {},
   "source": [
    "### Test set Prediction"
   ]
  },
  {
   "cell_type": "code",
   "execution_count": 26,
   "metadata": {},
   "outputs": [],
   "source": [
    "# MAKE PREDICTION\n",
    "total_preds = model.predict(test[FEATS].drop(columns = 'answerCode').values)\n",
    "preds = np.where(total_preds>=0.5,1,0)\n",
    "submission = pd.read_csv('../../data/sample_submission.csv')\n",
    "submission['prediction'] = preds"
   ]
  },
  {
   "cell_type": "code",
   "execution_count": 27,
   "metadata": {},
   "outputs": [],
   "source": [
    "submission.to_csv('./submission/submission.add_cat.csv')"
   ]
  },
  {
   "cell_type": "markdown",
   "metadata": {},
   "source": [
    "### Explain"
   ]
  },
  {
   "cell_type": "code",
   "execution_count": 14,
   "metadata": {},
   "outputs": [],
   "source": [
    "explain = model.explain(valid_set.drop(columns = 'answerCode').values)"
   ]
  },
  {
   "cell_type": "code",
   "execution_count": 20,
   "metadata": {},
   "outputs": [
    {
     "data": {
      "image/png": "[encoded data removed]",
      "text/plain": [
       "<Figure size 1500x500 with 3 Axes>"
      ]
     },
     "metadata": {},
     "output_type": "display_data"
    }
   ],
   "source": [
    "import matplotlib.pyplot as plt\n",
    "\n",
    "fig, axes = plt.subplots(1,3,figsize = (15,5))\n",
    "\n",
    "for i,ax in enumerate(axes):\n",
    "    pcm = ax.pcolor(explain[1][i],vmin = 0, vmax = 1)\n",
    "    ax.set_xticks(range(len(FEATS)))"
   ]
  },
  {
   "cell_type": "code",
   "execution_count": 29,
   "metadata": {},
   "outputs": [
    {
     "data": {
      "text/plain": [
       "array([[0., 0., 0., ..., 0., 0., 0.],\n",
       "       [0., 0., 0., ..., 0., 0., 0.],\n",
       "       [0., 0., 0., ..., 0., 0., 0.],\n",
       "       ...,\n",
       "       [0., 0., 0., ..., 0., 0., 0.],\n",
       "       [0., 0., 0., ..., 0., 0., 0.],\n",
       "       [0., 0., 0., ..., 0., 0., 0.]])"
      ]
     },
     "execution_count": 29,
     "metadata": {},
     "output_type": "execute_result"
    }
   ],
   "source": [
    "temp = np.zeros_like(explain[1][0])\n",
    "temp"
   ]
  },
  {
   "cell_type": "code",
   "execution_count": null,
   "metadata": {},
   "outputs": [],
   "source": [
    "explain[1][0]"
   ]
  },
  {
   "cell_type": "code",
   "execution_count": null,
   "metadata": {},
   "outputs": [
    {
     "name": "stderr",
     "output_type": "stream",
     "text": [
      "/tmp/ipykernel_68867/4226347720.py:7: MatplotlibDeprecationWarning: Unable to determine Axes to steal space for Colorbar. Using gca(), but will raise in the future. Either provide the *cax* argument to use as the Axes for the Colorbar, provide the *ax* argument to steal space from it, or add *mappable* to an Axes.\n",
      "  plt.colorbar(temp)\n"
     ]
    },
    {
     "ename": "AttributeError",
     "evalue": "'numpy.ndarray' object has no attribute 'get_array'",
     "output_type": "error",
     "traceback": [
      "\u001b[0;31m---------------------------------------------------------------------------\u001b[0m",
      "\u001b[0;31mAttributeError\u001b[0m                            Traceback (most recent call last)",
      "Cell \u001b[0;32mIn [31], line 7\u001b[0m\n\u001b[1;32m      4\u001b[0m \u001b[39mfor\u001b[39;00m i \u001b[39min\u001b[39;00m \u001b[39mrange\u001b[39m(CFG\u001b[39m.\u001b[39mN_STEPS):\n\u001b[1;32m      5\u001b[0m     temp \u001b[39m+\u001b[39m\u001b[39m=\u001b[39m explain[\u001b[39m1\u001b[39m][i]\n\u001b[0;32m----> 7\u001b[0m plt\u001b[39m.\u001b[39;49mcolorbar(temp)\n\u001b[1;32m      8\u001b[0m plt\u001b[39m.\u001b[39mshow()\n",
      "File \u001b[0;32m/opt/conda/lib/python3.8/site-packages/matplotlib/pyplot.py:2065\u001b[0m, in \u001b[0;36mcolorbar\u001b[0;34m(mappable, cax, ax, **kwargs)\u001b[0m\n\u001b[1;32m   2060\u001b[0m     \u001b[39mif\u001b[39;00m mappable \u001b[39mis\u001b[39;00m \u001b[39mNone\u001b[39;00m:\n\u001b[1;32m   2061\u001b[0m         \u001b[39mraise\u001b[39;00m \u001b[39mRuntimeError\u001b[39;00m(\u001b[39m'\u001b[39m\u001b[39mNo mappable was found to use for colorbar \u001b[39m\u001b[39m'\u001b[39m\n\u001b[1;32m   2062\u001b[0m                            \u001b[39m'\u001b[39m\u001b[39mcreation. First define a mappable such as \u001b[39m\u001b[39m'\u001b[39m\n\u001b[1;32m   2063\u001b[0m                            \u001b[39m'\u001b[39m\u001b[39man image (with imshow) or a contour set (\u001b[39m\u001b[39m'\u001b[39m\n\u001b[1;32m   2064\u001b[0m                            \u001b[39m'\u001b[39m\u001b[39mwith contourf).\u001b[39m\u001b[39m'\u001b[39m)\n\u001b[0;32m-> 2065\u001b[0m ret \u001b[39m=\u001b[39m gcf()\u001b[39m.\u001b[39;49mcolorbar(mappable, cax\u001b[39m=\u001b[39;49mcax, ax\u001b[39m=\u001b[39;49max, \u001b[39m*\u001b[39;49m\u001b[39m*\u001b[39;49mkwargs)\n\u001b[1;32m   2066\u001b[0m \u001b[39mreturn\u001b[39;00m ret\n",
      "File \u001b[0;32m/opt/conda/lib/python3.8/site-packages/matplotlib/figure.py:1277\u001b[0m, in \u001b[0;36mFigureBase.colorbar\u001b[0;34m(self, mappable, cax, ax, use_gridspec, **kwargs)\u001b[0m\n\u001b[1;32m   1273\u001b[0m NON_COLORBAR_KEYS \u001b[39m=\u001b[39m [\u001b[39m'\u001b[39m\u001b[39mfraction\u001b[39m\u001b[39m'\u001b[39m, \u001b[39m'\u001b[39m\u001b[39mpad\u001b[39m\u001b[39m'\u001b[39m, \u001b[39m'\u001b[39m\u001b[39mshrink\u001b[39m\u001b[39m'\u001b[39m, \u001b[39m'\u001b[39m\u001b[39maspect\u001b[39m\u001b[39m'\u001b[39m, \u001b[39m'\u001b[39m\u001b[39manchor\u001b[39m\u001b[39m'\u001b[39m,\n\u001b[1;32m   1274\u001b[0m                      \u001b[39m'\u001b[39m\u001b[39mpanchor\u001b[39m\u001b[39m'\u001b[39m]\n\u001b[1;32m   1275\u001b[0m cb_kw \u001b[39m=\u001b[39m {k: v \u001b[39mfor\u001b[39;00m k, v \u001b[39min\u001b[39;00m kwargs\u001b[39m.\u001b[39mitems() \u001b[39mif\u001b[39;00m k \u001b[39mnot\u001b[39;00m \u001b[39min\u001b[39;00m NON_COLORBAR_KEYS}\n\u001b[0;32m-> 1277\u001b[0m cb \u001b[39m=\u001b[39m cbar\u001b[39m.\u001b[39;49mColorbar(cax, mappable, \u001b[39m*\u001b[39;49m\u001b[39m*\u001b[39;49mcb_kw)\n\u001b[1;32m   1279\u001b[0m \u001b[39mif\u001b[39;00m \u001b[39mnot\u001b[39;00m userax:\n\u001b[1;32m   1280\u001b[0m     \u001b[39mself\u001b[39m\u001b[39m.\u001b[39msca(current_ax)\n",
      "File \u001b[0;32m/opt/conda/lib/python3.8/site-packages/matplotlib/_api/deprecation.py:384\u001b[0m, in \u001b[0;36mdelete_parameter.<locals>.wrapper\u001b[0;34m(*inner_args, **inner_kwargs)\u001b[0m\n\u001b[1;32m    379\u001b[0m \u001b[39m@functools\u001b[39m\u001b[39m.\u001b[39mwraps(func)\n\u001b[1;32m    380\u001b[0m \u001b[39mdef\u001b[39;00m \u001b[39mwrapper\u001b[39m(\u001b[39m*\u001b[39minner_args, \u001b[39m*\u001b[39m\u001b[39m*\u001b[39minner_kwargs):\n\u001b[1;32m    381\u001b[0m     \u001b[39mif\u001b[39;00m \u001b[39mlen\u001b[39m(inner_args) \u001b[39m<\u001b[39m\u001b[39m=\u001b[39m name_idx \u001b[39mand\u001b[39;00m name \u001b[39mnot\u001b[39;00m \u001b[39min\u001b[39;00m inner_kwargs:\n\u001b[1;32m    382\u001b[0m         \u001b[39m# Early return in the simple, non-deprecated case (much faster than\u001b[39;00m\n\u001b[1;32m    383\u001b[0m         \u001b[39m# calling bind()).\u001b[39;00m\n\u001b[0;32m--> 384\u001b[0m         \u001b[39mreturn\u001b[39;00m func(\u001b[39m*\u001b[39;49minner_args, \u001b[39m*\u001b[39;49m\u001b[39m*\u001b[39;49minner_kwargs)\n\u001b[1;32m    385\u001b[0m     arguments \u001b[39m=\u001b[39m signature\u001b[39m.\u001b[39mbind(\u001b[39m*\u001b[39minner_args, \u001b[39m*\u001b[39m\u001b[39m*\u001b[39minner_kwargs)\u001b[39m.\u001b[39marguments\n\u001b[1;32m    386\u001b[0m     \u001b[39mif\u001b[39;00m is_varargs \u001b[39mand\u001b[39;00m arguments\u001b[39m.\u001b[39mget(name):\n",
      "File \u001b[0;32m/opt/conda/lib/python3.8/site-packages/matplotlib/colorbar.py:288\u001b[0m, in \u001b[0;36mColorbar.__init__\u001b[0;34m(self, ax, mappable, cmap, norm, alpha, values, boundaries, orientation, ticklocation, extend, spacing, ticks, format, drawedges, filled, extendfrac, extendrect, label)\u001b[0m\n\u001b[1;32m    284\u001b[0m     mappable \u001b[39m=\u001b[39m cm\u001b[39m.\u001b[39mScalarMappable(norm\u001b[39m=\u001b[39mnorm, cmap\u001b[39m=\u001b[39mcmap)\n\u001b[1;32m    286\u001b[0m \u001b[39m# Ensure the given mappable's norm has appropriate vmin and vmax\u001b[39;00m\n\u001b[1;32m    287\u001b[0m \u001b[39m# set even if mappable.draw has not yet been called.\u001b[39;00m\n\u001b[0;32m--> 288\u001b[0m \u001b[39mif\u001b[39;00m mappable\u001b[39m.\u001b[39;49mget_array() \u001b[39mis\u001b[39;00m \u001b[39mnot\u001b[39;00m \u001b[39mNone\u001b[39;00m:\n\u001b[1;32m    289\u001b[0m     mappable\u001b[39m.\u001b[39mautoscale_None()\n\u001b[1;32m    291\u001b[0m \u001b[39mself\u001b[39m\u001b[39m.\u001b[39mmappable \u001b[39m=\u001b[39m mappable\n",
      "\u001b[0;31mAttributeError\u001b[0m: 'numpy.ndarray' object has no attribute 'get_array'"
     ]
    },
    {
     "data": {
      "image/png": "[encoded data removed]",
      "text/plain": [
       "<Figure size 640x480 with 2 Axes>"
      ]
     },
     "metadata": {},
     "output_type": "display_data"
    }
   ],
   "source": [
    "import matplotlib.pyplot as plt\n",
    "\n",
    "fig,ax = plt.subplots(figsize = (5,5))\n",
    "\n",
    "temp = np.zeros_like(explain[1][0])\n",
    "for i in range(CFG.N_STEPS):\n",
    "    temp += explain[1][i]\n",
    "\n",
    "pcm = ax.pcolor(temp,vmin = 0, vmax = 1)\n",
    "ax.set_xticks(range(len(FEATS)))\n",
    "plt.show()"
   ]
  },
  {
   "cell_type": "code",
   "execution_count": null,
   "metadata": {},
   "outputs": [],
   "source": []
  }
 ],
 "metadata": {
  "kernelspec": {
   "display_name": "Python 3.8.5 ('base')",
   "language": "python",
   "name": "python3"
  },
  "language_info": {
   "codemirror_mode": {
    "name": "ipython",
    "version": 3
   },
   "file_extension": ".py",
   "mimetype": "text/x-python",
   "name": "python",
   "nbconvert_exporter": "python",
   "pygments_lexer": "ipython3",
   "version": "3.8.5"
  },
  "orig_nbformat": 4,
  "vscode": {
   "interpreter": {
    "hash": "d4d1e4263499bec80672ea0156c357c1ee493ec2b1c70f0acce89fc37c4a6abe"
   }
  }
 },
 "nbformat": 4,
 "nbformat_minor": 2
}
