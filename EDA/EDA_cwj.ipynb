{
 "cells": [
  {
   "cell_type": "code",
   "execution_count": 3,
   "id": "5c39cc22",
   "metadata": {
    "ExecuteTime": {
     "end_time": "2022-11-18T05:34:34.656818Z",
     "start_time": "2022-11-18T05:34:30.656735Z"
    }
   },
   "outputs": [],
   "source": [
    "import numpy as np\n",
    "import seaborn as sns\n",
    "import matplotlib.pyplot as plt\n",
    "import random\n",
    "plt.style.use('seaborn')\n",
    "from IPython.core.interactiveshell import InteractiveShell\n",
    "InteractiveShell.ast_node_interactivity = \"all\"\n",
    "\n",
    "import pandas as pd\n",
    "pd.set_option('display.min_rows', 500)\n",
    "import warnings\n",
    "warnings.filterwarnings('ignore')\n",
    "\n",
    "path='../../data/'\n",
    "train = pd.read_csv(f\"{path}/train_data.csv\")\n",
    "test = pd.read_csv(f\"{path}/test_data.csv\")\n",
    "sub = pd.read_csv(f\"{path}/sample_submission.csv\")"
   ]
  },
  {
   "cell_type": "code",
   "execution_count": 4,
   "id": "f9f35f6d",
   "metadata": {
    "ExecuteTime": {
     "end_time": "2022-11-18T05:34:34.665337Z",
     "start_time": "2022-11-18T05:34:34.659335Z"
    }
   },
   "outputs": [],
   "source": [
    "def feature_engineering(df):\n",
    "    #유저별 시퀀스를 고려하기 위해 아래와 같이 정렬\n",
    "    df.sort_values(by=['userID','Timestamp'], inplace=True)\n",
    "    \n",
    "    #유저들의 문제 풀이수, 정답 수, 정답률을 시간순으로 누적해서 계산\n",
    "    df['user_correct_answer'] = df.groupby('userID')['answerCode'].transform(lambda x: x.cumsum().shift(1))\n",
    "    df['user_total_answer'] = df.groupby('userID')['answerCode'].cumcount()\n",
    "    df['user_acc'] = df['user_correct_answer']/df['user_total_answer']\n",
    "\n",
    "    # testId와 KnowledgeTag의 전체 정답률은 한번에 계산\n",
    "    # 아래 데이터는 제출용 데이터셋에 대해서도 재사용\n",
    "    correct_t = df.groupby(['testId'])['answerCode'].agg(['mean', 'sum'])\n",
    "    correct_t.columns = [\"test_mean\", 'test_sum']\n",
    "    correct_k = df.groupby(['KnowledgeTag'])['answerCode'].agg(['mean', 'sum'])\n",
    "    correct_k.columns = [\"tag_mean\", 'tag_sum']\n",
    "\n",
    "    df = pd.merge(df, correct_t, on=['testId'], how=\"left\")\n",
    "    df = pd.merge(df, correct_k, on=['KnowledgeTag'], how=\"left\")\n",
    "    \n",
    "    return df"
   ]
  },
  {
   "cell_type": "markdown",
   "id": "373a1d03",
   "metadata": {},
   "source": [
    "## 기본 정보"
   ]
  },
  {
   "cell_type": "code",
   "execution_count": 22,
   "id": "d56eb5c3",
   "metadata": {
    "ExecuteTime": {
     "end_time": "2022-11-18T05:52:40.464336Z",
     "start_time": "2022-11-18T05:52:40.189647Z"
    }
   },
   "outputs": [
    {
     "name": "stdout",
     "output_type": "stream",
     "text": [
      "--- BASIC INFORMATIONS ---\n",
      "userID(사용자ID)           : 6698\n",
      "assessmentItemID(문항ID)  : 9454\n",
      "testID(시험지ID)           : 1537\n",
      "mean answer rate(정답률)   : 65.44%\n",
      "KnowledgeTag(문제 유형)     : 912\n",
      "--------------------------\n"
     ]
    }
   ],
   "source": [
    "print(f\"\"\"--- BASIC INFORMATIONS ---\n",
    "userID(사용자ID)           : {train.userID.nunique()}\n",
    "assessmentItemID(문항ID)  : {train.assessmentItemID.nunique()}\n",
    "testID(시험지ID)           : {train.testId.nunique()}\n",
    "mean answer rate(정답률)   : {train.answerCode.mean():.2%}\n",
    "KnowledgeTag(문제 유형)     : {train.KnowledgeTag.nunique()}\n",
    "{'-'*26}\"\"\")"
   ]
  },
  {
   "cell_type": "code",
   "execution_count": 23,
   "id": "e477a23b",
   "metadata": {
    "ExecuteTime": {
     "end_time": "2022-11-18T05:52:48.740211Z",
     "start_time": "2022-11-18T05:52:48.705755Z"
    }
   },
   "outputs": [
    {
     "name": "stdout",
     "output_type": "stream",
     "text": [
      "--- BASIC INFORMATIONS ---\n",
      "userID(사용자ID)           : 744\n",
      "assessmentItemID(문항ID)  : 9454\n",
      "testID(시험지ID)           : 1537\n",
      "mean answer rate(정답률)   : 65.22%\n",
      "KnowledgeTag(문제 유형)     : 912\n",
      "--------------------------\n"
     ]
    }
   ],
   "source": [
    "print(f\"\"\"--- BASIC INFORMATIONS ---\n",
    "userID(사용자ID)           : {test.userID.nunique()}\n",
    "assessmentItemID(문항ID)  : {test.assessmentItemID.nunique()}\n",
    "testID(시험지ID)           : {test.testId.nunique()}\n",
    "mean answer rate(정답률)   : {test.answerCode.mean():.2%}\n",
    "KnowledgeTag(문제 유형)     : {test.KnowledgeTag.nunique()}\n",
    "{'-'*26}\"\"\")"
   ]
  },
  {
   "cell_type": "markdown",
   "id": "d38d462d",
   "metadata": {},
   "source": [
    "## train data, test data 확인\n",
    "- test데이터 26만 개중 맞춰야 되는 행은 744행 (마지막 문제)\n",
    "    - 테스트 데이터 26만개를 모두 train 데이터로 활용할 수 있지 않을까?\n",
    "    - 테스트 데이터 744개의 맨 마지막 문제말고 그 앞문제로 validation 하면 되지 않을까?"
   ]
  },
  {
   "cell_type": "code",
   "execution_count": 5,
   "id": "40ac3598",
   "metadata": {
    "ExecuteTime": {
     "end_time": "2022-11-18T05:34:34.681897Z",
     "start_time": "2022-11-18T05:34:34.666999Z"
    }
   },
   "outputs": [
    {
     "data": {
      "text/html": [
       "<div>\n",
       "<style scoped>\n",
       "    .dataframe tbody tr th:only-of-type {\n",
       "        vertical-align: middle;\n",
       "    }\n",
       "\n",
       "    .dataframe tbody tr th {\n",
       "        vertical-align: top;\n",
       "    }\n",
       "\n",
       "    .dataframe thead th {\n",
       "        text-align: right;\n",
       "    }\n",
       "</style>\n",
       "<table border=\"1\" class=\"dataframe\">\n",
       "  <thead>\n",
       "    <tr style=\"text-align: right;\">\n",
       "      <th></th>\n",
       "      <th>userID</th>\n",
       "      <th>assessmentItemID</th>\n",
       "      <th>testId</th>\n",
       "      <th>answerCode</th>\n",
       "      <th>Timestamp</th>\n",
       "      <th>KnowledgeTag</th>\n",
       "    </tr>\n",
       "  </thead>\n",
       "  <tbody>\n",
       "    <tr>\n",
       "      <th>0</th>\n",
       "      <td>0</td>\n",
       "      <td>A060001001</td>\n",
       "      <td>A060000001</td>\n",
       "      <td>1</td>\n",
       "      <td>2020-03-24 00:17:11</td>\n",
       "      <td>7224</td>\n",
       "    </tr>\n",
       "    <tr>\n",
       "      <th>1</th>\n",
       "      <td>0</td>\n",
       "      <td>A060001002</td>\n",
       "      <td>A060000001</td>\n",
       "      <td>1</td>\n",
       "      <td>2020-03-24 00:17:14</td>\n",
       "      <td>7225</td>\n",
       "    </tr>\n",
       "    <tr>\n",
       "      <th>2</th>\n",
       "      <td>0</td>\n",
       "      <td>A060001003</td>\n",
       "      <td>A060000001</td>\n",
       "      <td>1</td>\n",
       "      <td>2020-03-24 00:17:22</td>\n",
       "      <td>7225</td>\n",
       "    </tr>\n",
       "    <tr>\n",
       "      <th>3</th>\n",
       "      <td>0</td>\n",
       "      <td>A060001004</td>\n",
       "      <td>A060000001</td>\n",
       "      <td>1</td>\n",
       "      <td>2020-03-24 00:17:29</td>\n",
       "      <td>7225</td>\n",
       "    </tr>\n",
       "    <tr>\n",
       "      <th>4</th>\n",
       "      <td>0</td>\n",
       "      <td>A060001005</td>\n",
       "      <td>A060000001</td>\n",
       "      <td>1</td>\n",
       "      <td>2020-03-24 00:17:36</td>\n",
       "      <td>7225</td>\n",
       "    </tr>\n",
       "  </tbody>\n",
       "</table>\n",
       "</div>"
      ],
      "text/plain": [
       "   userID assessmentItemID      testId  answerCode            Timestamp  \\\n",
       "0       0       A060001001  A060000001           1  2020-03-24 00:17:11   \n",
       "1       0       A060001002  A060000001           1  2020-03-24 00:17:14   \n",
       "2       0       A060001003  A060000001           1  2020-03-24 00:17:22   \n",
       "3       0       A060001004  A060000001           1  2020-03-24 00:17:29   \n",
       "4       0       A060001005  A060000001           1  2020-03-24 00:17:36   \n",
       "\n",
       "   KnowledgeTag  \n",
       "0          7224  \n",
       "1          7225  \n",
       "2          7225  \n",
       "3          7225  \n",
       "4          7225  "
      ]
     },
     "execution_count": 5,
     "metadata": {},
     "output_type": "execute_result"
    }
   ],
   "source": [
    "train[:5]"
   ]
  },
  {
   "cell_type": "code",
   "execution_count": 6,
   "id": "a8d0359f",
   "metadata": {
    "ExecuteTime": {
     "end_time": "2022-11-18T05:34:34.690917Z",
     "start_time": "2022-11-18T05:34:34.683534Z"
    }
   },
   "outputs": [
    {
     "data": {
      "text/html": [
       "<div>\n",
       "<style scoped>\n",
       "    .dataframe tbody tr th:only-of-type {\n",
       "        vertical-align: middle;\n",
       "    }\n",
       "\n",
       "    .dataframe tbody tr th {\n",
       "        vertical-align: top;\n",
       "    }\n",
       "\n",
       "    .dataframe thead th {\n",
       "        text-align: right;\n",
       "    }\n",
       "</style>\n",
       "<table border=\"1\" class=\"dataframe\">\n",
       "  <thead>\n",
       "    <tr style=\"text-align: right;\">\n",
       "      <th></th>\n",
       "      <th>userID</th>\n",
       "      <th>assessmentItemID</th>\n",
       "      <th>testId</th>\n",
       "      <th>answerCode</th>\n",
       "      <th>Timestamp</th>\n",
       "      <th>KnowledgeTag</th>\n",
       "    </tr>\n",
       "  </thead>\n",
       "  <tbody>\n",
       "    <tr>\n",
       "      <th>0</th>\n",
       "      <td>3</td>\n",
       "      <td>A050023001</td>\n",
       "      <td>A050000023</td>\n",
       "      <td>1</td>\n",
       "      <td>2020-01-09 10:56:31</td>\n",
       "      <td>2626</td>\n",
       "    </tr>\n",
       "    <tr>\n",
       "      <th>1</th>\n",
       "      <td>3</td>\n",
       "      <td>A050023002</td>\n",
       "      <td>A050000023</td>\n",
       "      <td>1</td>\n",
       "      <td>2020-01-09 10:56:57</td>\n",
       "      <td>2626</td>\n",
       "    </tr>\n",
       "    <tr>\n",
       "      <th>2</th>\n",
       "      <td>3</td>\n",
       "      <td>A050023003</td>\n",
       "      <td>A050000023</td>\n",
       "      <td>0</td>\n",
       "      <td>2020-01-09 10:58:31</td>\n",
       "      <td>2625</td>\n",
       "    </tr>\n",
       "    <tr>\n",
       "      <th>3</th>\n",
       "      <td>3</td>\n",
       "      <td>A050023004</td>\n",
       "      <td>A050000023</td>\n",
       "      <td>0</td>\n",
       "      <td>2020-01-09 10:58:36</td>\n",
       "      <td>2625</td>\n",
       "    </tr>\n",
       "    <tr>\n",
       "      <th>4</th>\n",
       "      <td>3</td>\n",
       "      <td>A050023006</td>\n",
       "      <td>A050000023</td>\n",
       "      <td>0</td>\n",
       "      <td>2020-01-09 10:58:43</td>\n",
       "      <td>2623</td>\n",
       "    </tr>\n",
       "  </tbody>\n",
       "</table>\n",
       "</div>"
      ],
      "text/plain": [
       "   userID assessmentItemID      testId  answerCode            Timestamp  \\\n",
       "0       3       A050023001  A050000023           1  2020-01-09 10:56:31   \n",
       "1       3       A050023002  A050000023           1  2020-01-09 10:56:57   \n",
       "2       3       A050023003  A050000023           0  2020-01-09 10:58:31   \n",
       "3       3       A050023004  A050000023           0  2020-01-09 10:58:36   \n",
       "4       3       A050023006  A050000023           0  2020-01-09 10:58:43   \n",
       "\n",
       "   KnowledgeTag  \n",
       "0          2626  \n",
       "1          2626  \n",
       "2          2625  \n",
       "3          2625  \n",
       "4          2623  "
      ]
     },
     "execution_count": 6,
     "metadata": {},
     "output_type": "execute_result"
    }
   ],
   "source": [
    "test[:5]"
   ]
  },
  {
   "cell_type": "code",
   "execution_count": 7,
   "id": "cded4cdc",
   "metadata": {
    "ExecuteTime": {
     "end_time": "2022-11-18T05:34:34.699602Z",
     "start_time": "2022-11-18T05:34:34.693473Z"
    }
   },
   "outputs": [
    {
     "data": {
      "text/html": [
       "<div>\n",
       "<style scoped>\n",
       "    .dataframe tbody tr th:only-of-type {\n",
       "        vertical-align: middle;\n",
       "    }\n",
       "\n",
       "    .dataframe tbody tr th {\n",
       "        vertical-align: top;\n",
       "    }\n",
       "\n",
       "    .dataframe thead th {\n",
       "        text-align: right;\n",
       "    }\n",
       "</style>\n",
       "<table border=\"1\" class=\"dataframe\">\n",
       "  <thead>\n",
       "    <tr style=\"text-align: right;\">\n",
       "      <th></th>\n",
       "      <th>id</th>\n",
       "      <th>prediction</th>\n",
       "    </tr>\n",
       "  </thead>\n",
       "  <tbody>\n",
       "    <tr>\n",
       "      <th>0</th>\n",
       "      <td>0</td>\n",
       "      <td>0.5</td>\n",
       "    </tr>\n",
       "    <tr>\n",
       "      <th>1</th>\n",
       "      <td>1</td>\n",
       "      <td>0.5</td>\n",
       "    </tr>\n",
       "    <tr>\n",
       "      <th>2</th>\n",
       "      <td>2</td>\n",
       "      <td>0.5</td>\n",
       "    </tr>\n",
       "  </tbody>\n",
       "</table>\n",
       "</div>"
      ],
      "text/plain": [
       "   id  prediction\n",
       "0   0         0.5\n",
       "1   1         0.5\n",
       "2   2         0.5"
      ]
     },
     "execution_count": 7,
     "metadata": {},
     "output_type": "execute_result"
    }
   ],
   "source": [
    "sub[:3]"
   ]
  },
  {
   "cell_type": "code",
   "execution_count": 8,
   "id": "df7cb167",
   "metadata": {
    "ExecuteTime": {
     "end_time": "2022-11-18T05:34:34.705075Z",
     "start_time": "2022-11-18T05:34:34.701244Z"
    }
   },
   "outputs": [
    {
     "data": {
      "text/plain": [
       "(260114, 744)"
      ]
     },
     "execution_count": 8,
     "metadata": {},
     "output_type": "execute_result"
    }
   ],
   "source": [
    "len(test), len(sub)"
   ]
  },
  {
   "cell_type": "code",
   "execution_count": 9,
   "id": "d2c08069",
   "metadata": {
    "ExecuteTime": {
     "end_time": "2022-11-18T05:34:34.925525Z",
     "start_time": "2022-11-18T05:34:34.706717Z"
    }
   },
   "outputs": [],
   "source": [
    "train_user = set(train.userID)\n",
    "test_user = set(test.userID)"
   ]
  },
  {
   "cell_type": "code",
   "execution_count": 10,
   "id": "40fb45e9",
   "metadata": {
    "ExecuteTime": {
     "end_time": "2022-11-18T05:34:34.932057Z",
     "start_time": "2022-11-18T05:34:34.927641Z"
    }
   },
   "outputs": [
    {
     "data": {
      "text/plain": [
       "(6698, 744)"
      ]
     },
     "execution_count": 10,
     "metadata": {},
     "output_type": "execute_result"
    }
   ],
   "source": [
    "len(train_user),len(test_user)"
   ]
  },
  {
   "cell_type": "code",
   "execution_count": 11,
   "id": "89ad4bb9",
   "metadata": {
    "ExecuteTime": {
     "end_time": "2022-11-18T05:34:34.937353Z",
     "start_time": "2022-11-18T05:34:34.933683Z"
    }
   },
   "outputs": [
    {
     "data": {
      "text/plain": [
       "set()"
      ]
     },
     "execution_count": 11,
     "metadata": {},
     "output_type": "execute_result"
    }
   ],
   "source": [
    "train_user.intersection(test_user)"
   ]
  },
  {
   "cell_type": "markdown",
   "id": "de9f5e50",
   "metadata": {},
   "source": [
    "## category 변수와 numeric 변수 구분"
   ]
  },
  {
   "cell_type": "markdown",
   "id": "b49fa38c",
   "metadata": {},
   "source": [
    "### category 변수\n",
    "userID, assessmentItemID, testId, KnowledgeTag"
   ]
  },
  {
   "cell_type": "code",
   "execution_count": 14,
   "id": "69870209",
   "metadata": {
    "ExecuteTime": {
     "end_time": "2022-11-18T05:34:49.577790Z",
     "start_time": "2022-11-18T05:34:49.569444Z"
    }
   },
   "outputs": [
    {
     "data": {
      "text/html": [
       "<div>\n",
       "<style scoped>\n",
       "    .dataframe tbody tr th:only-of-type {\n",
       "        vertical-align: middle;\n",
       "    }\n",
       "\n",
       "    .dataframe tbody tr th {\n",
       "        vertical-align: top;\n",
       "    }\n",
       "\n",
       "    .dataframe thead th {\n",
       "        text-align: right;\n",
       "    }\n",
       "</style>\n",
       "<table border=\"1\" class=\"dataframe\">\n",
       "  <thead>\n",
       "    <tr style=\"text-align: right;\">\n",
       "      <th></th>\n",
       "      <th>userID</th>\n",
       "      <th>assessmentItemID</th>\n",
       "      <th>testId</th>\n",
       "      <th>answerCode</th>\n",
       "      <th>Timestamp</th>\n",
       "      <th>KnowledgeTag</th>\n",
       "    </tr>\n",
       "  </thead>\n",
       "  <tbody>\n",
       "    <tr>\n",
       "      <th>0</th>\n",
       "      <td>0</td>\n",
       "      <td>A060001001</td>\n",
       "      <td>A060000001</td>\n",
       "      <td>1</td>\n",
       "      <td>2020-03-24 00:17:11</td>\n",
       "      <td>7224</td>\n",
       "    </tr>\n",
       "    <tr>\n",
       "      <th>1</th>\n",
       "      <td>0</td>\n",
       "      <td>A060001002</td>\n",
       "      <td>A060000001</td>\n",
       "      <td>1</td>\n",
       "      <td>2020-03-24 00:17:14</td>\n",
       "      <td>7225</td>\n",
       "    </tr>\n",
       "    <tr>\n",
       "      <th>2</th>\n",
       "      <td>0</td>\n",
       "      <td>A060001003</td>\n",
       "      <td>A060000001</td>\n",
       "      <td>1</td>\n",
       "      <td>2020-03-24 00:17:22</td>\n",
       "      <td>7225</td>\n",
       "    </tr>\n",
       "  </tbody>\n",
       "</table>\n",
       "</div>"
      ],
      "text/plain": [
       "   userID assessmentItemID      testId  answerCode            Timestamp  \\\n",
       "0       0       A060001001  A060000001           1  2020-03-24 00:17:11   \n",
       "1       0       A060001002  A060000001           1  2020-03-24 00:17:14   \n",
       "2       0       A060001003  A060000001           1  2020-03-24 00:17:22   \n",
       "\n",
       "   KnowledgeTag  \n",
       "0          7224  \n",
       "1          7225  \n",
       "2          7225  "
      ]
     },
     "execution_count": 14,
     "metadata": {},
     "output_type": "execute_result"
    }
   ],
   "source": [
    "train[:3]"
   ]
  },
  {
   "cell_type": "markdown",
   "id": "0ace6988",
   "metadata": {},
   "source": [
    "### Continuos 변수\n",
    "Timestamp"
   ]
  },
  {
   "cell_type": "code",
   "execution_count": null,
   "id": "ead75e62",
   "metadata": {},
   "outputs": [],
   "source": []
  },
  {
   "cell_type": "markdown",
   "id": "eb67750c",
   "metadata": {},
   "source": [
    "## 시험지별 문제 확인"
   ]
  },
  {
   "cell_type": "code",
   "execution_count": 34,
   "id": "98f930d6",
   "metadata": {
    "ExecuteTime": {
     "end_time": "2022-11-18T05:57:55.487981Z",
     "start_time": "2022-11-18T05:57:54.810944Z"
    }
   },
   "outputs": [
    {
     "data": {
      "text/plain": [
       "001    371755\n",
       "003    371640\n",
       "002    370972\n",
       "004    369705\n",
       "005    360607\n",
       "006    197772\n",
       "007    127121\n",
       "008     67150\n",
       "009     18417\n",
       "010      5342\n",
       "011      3352\n",
       "012      2484\n",
       "013       269\n",
       "Name: problem_number, dtype: int64"
      ]
     },
     "execution_count": 34,
     "metadata": {},
     "output_type": "execute_result"
    }
   ],
   "source": [
    "train['problem_number']=train.assessmentItemID.map(lambda x: x[-3:])\n",
    "train.problem_number.value_counts()"
   ]
  },
  {
   "cell_type": "markdown",
   "id": "d90133ea",
   "metadata": {},
   "source": [
    "### 문제 번호별 난이도"
   ]
  },
  {
   "cell_type": "code",
   "execution_count": 104,
   "id": "4addd463",
   "metadata": {
    "ExecuteTime": {
     "end_time": "2022-11-18T06:34:32.131951Z",
     "start_time": "2022-11-18T06:34:31.803825Z"
    }
   },
   "outputs": [
    {
     "data": {
      "image/png": "[encoded data removed]",
      "text/plain": [
       "<Figure size 960x560 with 1 Axes>"
      ]
     },
     "metadata": {},
     "output_type": "display_data"
    }
   ],
   "source": [
    "pn_correct = train.groupby('problem_number')['answerCode'].mean().reset_index()\n",
    "fig, ax = plt.subplots(1, 1, figsize=(12, 7))\n",
    "q=sns.barplot(pn_correct,x='problem_number',y='answerCode', color=\"dodgerblue\")\n",
    "q=ax.set_xlabel(\"Problem Number\", fontsize=15)\n",
    "q=ax.set_ylabel(\"Answer Rate\", fontsize=15)\n",
    "q=ax.set_title(\"Answer Rate by Problem Number\", fontsize=20, fontweight=\"semibold\")\n",
    "q=plt.show()"
   ]
  },
  {
   "cell_type": "markdown",
   "id": "76767f8f",
   "metadata": {},
   "source": [
    "## 시험지의 분류 피처는 무엇을 의미할까?"
   ]
  },
  {
   "cell_type": "markdown",
   "id": "a19d2f7a",
   "metadata": {},
   "source": [
    "### 대분류 피처 9가지"
   ]
  },
  {
   "cell_type": "code",
   "execution_count": 66,
   "id": "a3abe439",
   "metadata": {
    "ExecuteTime": {
     "end_time": "2022-11-18T06:11:18.026120Z",
     "start_time": "2022-11-18T06:11:17.403193Z"
    }
   },
   "outputs": [
    {
     "data": {
      "text/plain": [
       "070    279164\n",
       "050    275773\n",
       "030    273762\n",
       "010    272082\n",
       "020    268327\n",
       "040    267323\n",
       "060    264434\n",
       "080    246336\n",
       "090    119385\n",
       "Name: testId, dtype: int64"
      ]
     },
     "execution_count": 66,
     "metadata": {},
     "output_type": "execute_result"
    }
   ],
   "source": [
    "train.testId.map(lambda x: x[1:4]).value_counts()"
   ]
  },
  {
   "cell_type": "code",
   "execution_count": 67,
   "id": "9e210d90",
   "metadata": {
    "ExecuteTime": {
     "end_time": "2022-11-18T06:11:32.250383Z",
     "start_time": "2022-11-18T06:11:31.903764Z"
    }
   },
   "outputs": [
    {
     "data": {
      "text/plain": [
       "7    279164\n",
       "5    275773\n",
       "3    273762\n",
       "1    272082\n",
       "2    268327\n",
       "4    267323\n",
       "6    264434\n",
       "8    246336\n",
       "9    119385\n",
       "Name: testId, dtype: int64"
      ]
     },
     "execution_count": 67,
     "metadata": {},
     "output_type": "execute_result"
    }
   ],
   "source": [
    "train.testId.map(lambda x: x[2]).value_counts()"
   ]
  },
  {
   "cell_type": "code",
   "execution_count": 68,
   "id": "a8099e53",
   "metadata": {
    "ExecuteTime": {
     "end_time": "2022-11-18T06:12:00.923643Z",
     "start_time": "2022-11-18T06:12:00.668240Z"
    }
   },
   "outputs": [],
   "source": [
    "train['big_category'] = train.testId.map(lambda x: x[2])"
   ]
  },
  {
   "cell_type": "markdown",
   "id": "65da57bc",
   "metadata": {},
   "source": [
    "#### 대분류별 정답률"
   ]
  },
  {
   "cell_type": "code",
   "execution_count": 105,
   "id": "59b9c592",
   "metadata": {
    "ExecuteTime": {
     "end_time": "2022-11-18T06:38:30.751754Z",
     "start_time": "2022-11-18T06:38:30.461755Z"
    }
   },
   "outputs": [
    {
     "data": {
      "image/png": "[encoded data removed]",
      "text/plain": [
       "<Figure size 960x560 with 1 Axes>"
      ]
     },
     "metadata": {},
     "output_type": "display_data"
    }
   ],
   "source": [
    "bg_correct = train.groupby('big_category')['answerCode'].mean().reset_index()\n",
    "fig, ax = plt.subplots(1, 1, figsize=(12, 7))\n",
    "q=sns.barplot(bg_correct,x='big_category',y='answerCode', color=\"dodgerblue\")\n",
    "q=ax.set_xlabel(\"Big Category\", fontsize=15)\n",
    "q=ax.set_ylabel(\"Answer Rate\", fontsize=15)\n",
    "q=ax.set_title(\"Answer Rate by Big Category\", fontsize=20, fontweight=\"semibold\")\n",
    "q=plt.show()"
   ]
  },
  {
   "cell_type": "markdown",
   "id": "582af862",
   "metadata": {},
   "source": [
    "### 중분류 피처 198개"
   ]
  },
  {
   "cell_type": "code",
   "execution_count": 70,
   "id": "fb09c813",
   "metadata": {
    "ExecuteTime": {
     "end_time": "2022-11-18T06:13:46.976742Z",
     "start_time": "2022-11-18T06:13:46.355668Z"
    },
    "scrolled": true
   },
   "outputs": [
    {
     "data": {
      "text/plain": [
       "017    17739\n",
       "009    17555\n",
       "011    17029\n",
       "003    16970\n",
       "007    16826\n",
       "018    16698\n",
       "013    16517\n",
       "015    16436\n",
       "005    16325\n",
       "057    16233\n",
       "019    16050\n",
       "025    15985\n",
       "033    15806\n",
       "047    15511\n",
       "016    15448\n",
       "023    15391\n",
       "034    15081\n",
       "049    14999\n",
       "045    14952\n",
       "055    14920\n",
       "029    14920\n",
       "001    14911\n",
       "027    14851\n",
       "032    14759\n",
       "044    14758\n",
       "021    14751\n",
       "051    14674\n",
       "128    14509\n",
       "127    14473\n",
       "043    14307\n",
       "       ...  \n",
       "169     7328\n",
       "172     7326\n",
       "174     7085\n",
       "171     7048\n",
       "181     7040\n",
       "190     6913\n",
       "175     6903\n",
       "177     6731\n",
       "183     6655\n",
       "185     6619\n",
       "173     6613\n",
       "192     6477\n",
       "179     6451\n",
       "187     6385\n",
       "186     6234\n",
       "193     6173\n",
       "168     6020\n",
       "182     5909\n",
       "166     5564\n",
       "188     5517\n",
       "191     5261\n",
       "195     4417\n",
       "176     4363\n",
       "189     4345\n",
       "178     3824\n",
       "180     3767\n",
       "197     2973\n",
       "194     2596\n",
       "196     1304\n",
       "198      951\n",
       "Name: testId, Length: 198, dtype: int64"
      ]
     },
     "execution_count": 70,
     "metadata": {},
     "output_type": "execute_result"
    }
   ],
   "source": [
    "train.testId.map(lambda x: x[-3:]).value_counts()"
   ]
  },
  {
   "cell_type": "code",
   "execution_count": 71,
   "id": "2c38f85a",
   "metadata": {
    "ExecuteTime": {
     "end_time": "2022-11-18T06:14:11.397497Z",
     "start_time": "2022-11-18T06:14:10.768265Z"
    }
   },
   "outputs": [
    {
     "data": {
      "text/plain": [
       "198"
      ]
     },
     "execution_count": 71,
     "metadata": {},
     "output_type": "execute_result"
    }
   ],
   "source": [
    "len(train.testId.map(lambda x: x[-3:]).value_counts())"
   ]
  },
  {
   "cell_type": "code",
   "execution_count": 72,
   "id": "71b98636",
   "metadata": {
    "ExecuteTime": {
     "end_time": "2022-11-18T06:15:33.368011Z",
     "start_time": "2022-11-18T06:15:32.907653Z"
    }
   },
   "outputs": [],
   "source": [
    "train['mid_category'] = train.testId.map(lambda x: x[-3:])"
   ]
  },
  {
   "cell_type": "code",
   "execution_count": 76,
   "id": "1e62cf8f",
   "metadata": {
    "ExecuteTime": {
     "end_time": "2022-11-18T06:17:40.055287Z",
     "start_time": "2022-11-18T06:17:39.726768Z"
    },
    "scrolled": true
   },
   "outputs": [
    {
     "data": {
      "text/html": [
       "<div>\n",
       "<style scoped>\n",
       "    .dataframe tbody tr th:only-of-type {\n",
       "        vertical-align: middle;\n",
       "    }\n",
       "\n",
       "    .dataframe tbody tr th {\n",
       "        vertical-align: top;\n",
       "    }\n",
       "\n",
       "    .dataframe thead th {\n",
       "        text-align: right;\n",
       "    }\n",
       "</style>\n",
       "<table border=\"1\" class=\"dataframe\">\n",
       "  <thead>\n",
       "    <tr style=\"text-align: right;\">\n",
       "      <th></th>\n",
       "      <th>big_category</th>\n",
       "      <th>mid_category</th>\n",
       "      <th>answerCode</th>\n",
       "    </tr>\n",
       "  </thead>\n",
       "  <tbody>\n",
       "    <tr>\n",
       "      <th>0</th>\n",
       "      <td>1</td>\n",
       "      <td>001</td>\n",
       "      <td>1585</td>\n",
       "    </tr>\n",
       "    <tr>\n",
       "      <th>1</th>\n",
       "      <td>1</td>\n",
       "      <td>002</td>\n",
       "      <td>1550</td>\n",
       "    </tr>\n",
       "    <tr>\n",
       "      <th>2</th>\n",
       "      <td>1</td>\n",
       "      <td>003</td>\n",
       "      <td>1615</td>\n",
       "    </tr>\n",
       "    <tr>\n",
       "      <th>3</th>\n",
       "      <td>1</td>\n",
       "      <td>004</td>\n",
       "      <td>1540</td>\n",
       "    </tr>\n",
       "    <tr>\n",
       "      <th>4</th>\n",
       "      <td>1</td>\n",
       "      <td>005</td>\n",
       "      <td>1595</td>\n",
       "    </tr>\n",
       "    <tr>\n",
       "      <th>5</th>\n",
       "      <td>1</td>\n",
       "      <td>006</td>\n",
       "      <td>1550</td>\n",
       "    </tr>\n",
       "    <tr>\n",
       "      <th>6</th>\n",
       "      <td>1</td>\n",
       "      <td>007</td>\n",
       "      <td>1570</td>\n",
       "    </tr>\n",
       "    <tr>\n",
       "      <th>7</th>\n",
       "      <td>1</td>\n",
       "      <td>008</td>\n",
       "      <td>1585</td>\n",
       "    </tr>\n",
       "    <tr>\n",
       "      <th>8</th>\n",
       "      <td>1</td>\n",
       "      <td>009</td>\n",
       "      <td>1590</td>\n",
       "    </tr>\n",
       "    <tr>\n",
       "      <th>9</th>\n",
       "      <td>1</td>\n",
       "      <td>010</td>\n",
       "      <td>1580</td>\n",
       "    </tr>\n",
       "    <tr>\n",
       "      <th>10</th>\n",
       "      <td>1</td>\n",
       "      <td>011</td>\n",
       "      <td>1595</td>\n",
       "    </tr>\n",
       "    <tr>\n",
       "      <th>11</th>\n",
       "      <td>1</td>\n",
       "      <td>012</td>\n",
       "      <td>1590</td>\n",
       "    </tr>\n",
       "    <tr>\n",
       "      <th>12</th>\n",
       "      <td>1</td>\n",
       "      <td>013</td>\n",
       "      <td>1580</td>\n",
       "    </tr>\n",
       "    <tr>\n",
       "      <th>13</th>\n",
       "      <td>1</td>\n",
       "      <td>014</td>\n",
       "      <td>1575</td>\n",
       "    </tr>\n",
       "    <tr>\n",
       "      <th>14</th>\n",
       "      <td>1</td>\n",
       "      <td>015</td>\n",
       "      <td>1288</td>\n",
       "    </tr>\n",
       "    <tr>\n",
       "      <th>15</th>\n",
       "      <td>1</td>\n",
       "      <td>016</td>\n",
       "      <td>1550</td>\n",
       "    </tr>\n",
       "    <tr>\n",
       "      <th>16</th>\n",
       "      <td>1</td>\n",
       "      <td>017</td>\n",
       "      <td>2480</td>\n",
       "    </tr>\n",
       "    <tr>\n",
       "      <th>17</th>\n",
       "      <td>1</td>\n",
       "      <td>018</td>\n",
       "      <td>2536</td>\n",
       "    </tr>\n",
       "    <tr>\n",
       "      <th>18</th>\n",
       "      <td>1</td>\n",
       "      <td>019</td>\n",
       "      <td>1590</td>\n",
       "    </tr>\n",
       "    <tr>\n",
       "      <th>19</th>\n",
       "      <td>1</td>\n",
       "      <td>020</td>\n",
       "      <td>1264</td>\n",
       "    </tr>\n",
       "    <tr>\n",
       "      <th>20</th>\n",
       "      <td>1</td>\n",
       "      <td>021</td>\n",
       "      <td>1908</td>\n",
       "    </tr>\n",
       "    <tr>\n",
       "      <th>21</th>\n",
       "      <td>1</td>\n",
       "      <td>022</td>\n",
       "      <td>1878</td>\n",
       "    </tr>\n",
       "    <tr>\n",
       "      <th>22</th>\n",
       "      <td>1</td>\n",
       "      <td>023</td>\n",
       "      <td>1236</td>\n",
       "    </tr>\n",
       "    <tr>\n",
       "      <th>23</th>\n",
       "      <td>1</td>\n",
       "      <td>024</td>\n",
       "      <td>1585</td>\n",
       "    </tr>\n",
       "    <tr>\n",
       "      <th>24</th>\n",
       "      <td>1</td>\n",
       "      <td>025</td>\n",
       "      <td>1580</td>\n",
       "    </tr>\n",
       "    <tr>\n",
       "      <th>25</th>\n",
       "      <td>1</td>\n",
       "      <td>026</td>\n",
       "      <td>1854</td>\n",
       "    </tr>\n",
       "    <tr>\n",
       "      <th>26</th>\n",
       "      <td>1</td>\n",
       "      <td>027</td>\n",
       "      <td>930</td>\n",
       "    </tr>\n",
       "    <tr>\n",
       "      <th>27</th>\n",
       "      <td>1</td>\n",
       "      <td>028</td>\n",
       "      <td>1635</td>\n",
       "    </tr>\n",
       "    <tr>\n",
       "      <th>28</th>\n",
       "      <td>1</td>\n",
       "      <td>029</td>\n",
       "      <td>1565</td>\n",
       "    </tr>\n",
       "    <tr>\n",
       "      <th>29</th>\n",
       "      <td>1</td>\n",
       "      <td>030</td>\n",
       "      <td>1605</td>\n",
       "    </tr>\n",
       "    <tr>\n",
       "      <th>...</th>\n",
       "      <td>...</td>\n",
       "      <td>...</td>\n",
       "      <td>...</td>\n",
       "    </tr>\n",
       "    <tr>\n",
       "      <th>1507</th>\n",
       "      <td>9</td>\n",
       "      <td>045</td>\n",
       "      <td>1668</td>\n",
       "    </tr>\n",
       "    <tr>\n",
       "      <th>1508</th>\n",
       "      <td>9</td>\n",
       "      <td>046</td>\n",
       "      <td>1644</td>\n",
       "    </tr>\n",
       "    <tr>\n",
       "      <th>1509</th>\n",
       "      <td>9</td>\n",
       "      <td>047</td>\n",
       "      <td>2168</td>\n",
       "    </tr>\n",
       "    <tr>\n",
       "      <th>1510</th>\n",
       "      <td>9</td>\n",
       "      <td>048</td>\n",
       "      <td>1620</td>\n",
       "    </tr>\n",
       "    <tr>\n",
       "      <th>1511</th>\n",
       "      <td>9</td>\n",
       "      <td>049</td>\n",
       "      <td>1638</td>\n",
       "    </tr>\n",
       "    <tr>\n",
       "      <th>1512</th>\n",
       "      <td>9</td>\n",
       "      <td>050</td>\n",
       "      <td>1362</td>\n",
       "    </tr>\n",
       "    <tr>\n",
       "      <th>1513</th>\n",
       "      <td>9</td>\n",
       "      <td>051</td>\n",
       "      <td>1808</td>\n",
       "    </tr>\n",
       "    <tr>\n",
       "      <th>1514</th>\n",
       "      <td>9</td>\n",
       "      <td>052</td>\n",
       "      <td>1374</td>\n",
       "    </tr>\n",
       "    <tr>\n",
       "      <th>1515</th>\n",
       "      <td>9</td>\n",
       "      <td>053</td>\n",
       "      <td>1092</td>\n",
       "    </tr>\n",
       "    <tr>\n",
       "      <th>1516</th>\n",
       "      <td>9</td>\n",
       "      <td>054</td>\n",
       "      <td>1456</td>\n",
       "    </tr>\n",
       "    <tr>\n",
       "      <th>1517</th>\n",
       "      <td>9</td>\n",
       "      <td>055</td>\n",
       "      <td>1368</td>\n",
       "    </tr>\n",
       "    <tr>\n",
       "      <th>1518</th>\n",
       "      <td>9</td>\n",
       "      <td>056</td>\n",
       "      <td>1086</td>\n",
       "    </tr>\n",
       "    <tr>\n",
       "      <th>1519</th>\n",
       "      <td>9</td>\n",
       "      <td>057</td>\n",
       "      <td>1456</td>\n",
       "    </tr>\n",
       "    <tr>\n",
       "      <th>1520</th>\n",
       "      <td>9</td>\n",
       "      <td>058</td>\n",
       "      <td>1464</td>\n",
       "    </tr>\n",
       "    <tr>\n",
       "      <th>1521</th>\n",
       "      <td>9</td>\n",
       "      <td>059</td>\n",
       "      <td>798</td>\n",
       "    </tr>\n",
       "    <tr>\n",
       "      <th>1522</th>\n",
       "      <td>9</td>\n",
       "      <td>060</td>\n",
       "      <td>834</td>\n",
       "    </tr>\n",
       "    <tr>\n",
       "      <th>1523</th>\n",
       "      <td>9</td>\n",
       "      <td>061</td>\n",
       "      <td>945</td>\n",
       "    </tr>\n",
       "    <tr>\n",
       "      <th>1524</th>\n",
       "      <td>9</td>\n",
       "      <td>062</td>\n",
       "      <td>1064</td>\n",
       "    </tr>\n",
       "    <tr>\n",
       "      <th>1525</th>\n",
       "      <td>9</td>\n",
       "      <td>063</td>\n",
       "      <td>816</td>\n",
       "    </tr>\n",
       "    <tr>\n",
       "      <th>1526</th>\n",
       "      <td>9</td>\n",
       "      <td>064</td>\n",
       "      <td>552</td>\n",
       "    </tr>\n",
       "    <tr>\n",
       "      <th>1527</th>\n",
       "      <td>9</td>\n",
       "      <td>065</td>\n",
       "      <td>736</td>\n",
       "    </tr>\n",
       "    <tr>\n",
       "      <th>1528</th>\n",
       "      <td>9</td>\n",
       "      <td>066</td>\n",
       "      <td>728</td>\n",
       "    </tr>\n",
       "    <tr>\n",
       "      <th>1529</th>\n",
       "      <td>9</td>\n",
       "      <td>067</td>\n",
       "      <td>376</td>\n",
       "    </tr>\n",
       "    <tr>\n",
       "      <th>1530</th>\n",
       "      <td>9</td>\n",
       "      <td>068</td>\n",
       "      <td>352</td>\n",
       "    </tr>\n",
       "    <tr>\n",
       "      <th>1531</th>\n",
       "      <td>9</td>\n",
       "      <td>069</td>\n",
       "      <td>540</td>\n",
       "    </tr>\n",
       "    <tr>\n",
       "      <th>1532</th>\n",
       "      <td>9</td>\n",
       "      <td>070</td>\n",
       "      <td>344</td>\n",
       "    </tr>\n",
       "    <tr>\n",
       "      <th>1533</th>\n",
       "      <td>9</td>\n",
       "      <td>071</td>\n",
       "      <td>360</td>\n",
       "    </tr>\n",
       "    <tr>\n",
       "      <th>1534</th>\n",
       "      <td>9</td>\n",
       "      <td>072</td>\n",
       "      <td>270</td>\n",
       "    </tr>\n",
       "    <tr>\n",
       "      <th>1535</th>\n",
       "      <td>9</td>\n",
       "      <td>073</td>\n",
       "      <td>270</td>\n",
       "    </tr>\n",
       "    <tr>\n",
       "      <th>1536</th>\n",
       "      <td>9</td>\n",
       "      <td>074</td>\n",
       "      <td>270</td>\n",
       "    </tr>\n",
       "  </tbody>\n",
       "</table>\n",
       "<p>1537 rows × 3 columns</p>\n",
       "</div>"
      ],
      "text/plain": [
       "     big_category mid_category  answerCode\n",
       "0               1          001        1585\n",
       "1               1          002        1550\n",
       "2               1          003        1615\n",
       "3               1          004        1540\n",
       "4               1          005        1595\n",
       "5               1          006        1550\n",
       "6               1          007        1570\n",
       "7               1          008        1585\n",
       "8               1          009        1590\n",
       "9               1          010        1580\n",
       "10              1          011        1595\n",
       "11              1          012        1590\n",
       "12              1          013        1580\n",
       "13              1          014        1575\n",
       "14              1          015        1288\n",
       "15              1          016        1550\n",
       "16              1          017        2480\n",
       "17              1          018        2536\n",
       "18              1          019        1590\n",
       "19              1          020        1264\n",
       "20              1          021        1908\n",
       "21              1          022        1878\n",
       "22              1          023        1236\n",
       "23              1          024        1585\n",
       "24              1          025        1580\n",
       "25              1          026        1854\n",
       "26              1          027         930\n",
       "27              1          028        1635\n",
       "28              1          029        1565\n",
       "29              1          030        1605\n",
       "...           ...          ...         ...\n",
       "1507            9          045        1668\n",
       "1508            9          046        1644\n",
       "1509            9          047        2168\n",
       "1510            9          048        1620\n",
       "1511            9          049        1638\n",
       "1512            9          050        1362\n",
       "1513            9          051        1808\n",
       "1514            9          052        1374\n",
       "1515            9          053        1092\n",
       "1516            9          054        1456\n",
       "1517            9          055        1368\n",
       "1518            9          056        1086\n",
       "1519            9          057        1456\n",
       "1520            9          058        1464\n",
       "1521            9          059         798\n",
       "1522            9          060         834\n",
       "1523            9          061         945\n",
       "1524            9          062        1064\n",
       "1525            9          063         816\n",
       "1526            9          064         552\n",
       "1527            9          065         736\n",
       "1528            9          066         728\n",
       "1529            9          067         376\n",
       "1530            9          068         352\n",
       "1531            9          069         540\n",
       "1532            9          070         344\n",
       "1533            9          071         360\n",
       "1534            9          072         270\n",
       "1535            9          073         270\n",
       "1536            9          074         270\n",
       "\n",
       "[1537 rows x 3 columns]"
      ]
     },
     "execution_count": 76,
     "metadata": {},
     "output_type": "execute_result"
    }
   ],
   "source": [
    "cat_df = train.groupby(['big_category','mid_category'])['answerCode'].count().reset_index()\n",
    "cat_df"
   ]
  },
  {
   "cell_type": "code",
   "execution_count": 87,
   "id": "eeff7e7b",
   "metadata": {
    "ExecuteTime": {
     "end_time": "2022-11-18T06:20:55.265748Z",
     "start_time": "2022-11-18T06:20:55.250203Z"
    }
   },
   "outputs": [
    {
     "name": "stdout",
     "output_type": "stream",
     "text": [
      "☄️ 대분류 1의 중분류 개수:192\n",
      "['001', '002', '003', '004', '005', '006', '007', '008', '009', '010', '011', '012', '013', '014', '015', '016', '017', '018', '019', '020', '021', '022', '023', '024', '025', '026', '027', '028', '029', '030', '031', '032', '033', '034', '035', '036', '037', '038', '039', '040', '041', '042', '043', '044', '045', '046', '047', '048', '049', '050', '051', '052', '053', '054', '055', '056', '057', '058', '059', '060', '061', '062', '063', '064', '065', '066', '067', '068', '069', '070', '071', '072', '073', '074', '075', '076', '077', '078', '079', '080', '081', '082', '083', '084', '085', '086', '087', '088', '089', '090', '091', '092', '093', '094', '095', '096', '097', '098', '099', '100', '101', '102', '103', '104', '105', '106', '107', '108', '109', '110', '111', '112', '113', '114', '115', '116', '117', '118', '119', '120', '121', '122', '123', '124', '125', '126', '127', '128', '129', '130', '131', '132', '133', '134', '135', '136', '137', '138', '139', '140', '141', '142', '143', '144', '145', '146', '147', '148', '149', '150', '151', '152', '153', '154', '155', '156', '157', '158', '159', '160', '161', '162', '163', '164', '165', '166', '167', '168', '169', '170', '171', '172', '173', '174', '175', '176', '177', '178', '179', '180', '181', '182', '183', '184', '185', '186', '187', '188', '189', '190', '191', '192']\n",
      "\n",
      "☄️ 대분류 2의 중분류 개수:194\n",
      "['001', '002', '003', '004', '005', '006', '007', '008', '009', '010', '011', '012', '013', '014', '015', '016', '017', '018', '019', '020', '021', '022', '023', '024', '025', '026', '027', '028', '029', '030', '031', '032', '033', '034', '035', '036', '037', '038', '039', '040', '041', '042', '043', '044', '045', '046', '047', '048', '049', '050', '051', '052', '053', '054', '055', '056', '057', '058', '059', '060', '061', '062', '063', '064', '065', '066', '067', '068', '069', '070', '071', '072', '073', '074', '075', '076', '077', '078', '079', '080', '081', '082', '083', '084', '085', '086', '087', '088', '089', '090', '091', '092', '093', '094', '095', '096', '097', '098', '099', '100', '101', '102', '103', '104', '105', '106', '107', '108', '109', '110', '111', '112', '113', '114', '115', '116', '117', '118', '119', '120', '121', '122', '123', '124', '125', '126', '127', '128', '129', '130', '131', '132', '133', '134', '135', '136', '137', '138', '139', '140', '141', '142', '143', '144', '145', '146', '147', '148', '149', '150', '151', '152', '153', '154', '155', '156', '157', '158', '159', '160', '161', '162', '163', '164', '165', '167', '168', '169', '170', '171', '172', '173', '174', '175', '176', '177', '178', '179', '180', '181', '182', '183', '184', '185', '186', '187', '188', '189', '190', '191', '192', '193', '194', '195']\n",
      "\n",
      "☄️ 대분류 3의 중분류 개수:198\n",
      "['001', '002', '003', '004', '005', '006', '007', '008', '009', '010', '011', '012', '013', '014', '015', '016', '017', '018', '019', '020', '021', '022', '023', '024', '025', '026', '027', '028', '029', '030', '031', '032', '033', '034', '035', '036', '037', '038', '039', '040', '041', '042', '043', '044', '045', '046', '047', '048', '049', '050', '051', '052', '053', '054', '055', '056', '057', '058', '059', '060', '061', '062', '063', '064', '065', '066', '067', '068', '069', '070', '071', '072', '073', '074', '075', '076', '077', '078', '079', '080', '081', '082', '083', '084', '085', '086', '087', '088', '089', '090', '091', '092', '093', '094', '095', '096', '097', '098', '099', '100', '101', '102', '103', '104', '105', '106', '107', '108', '109', '110', '111', '112', '113', '114', '115', '116', '117', '118', '119', '120', '121', '122', '123', '124', '125', '126', '127', '128', '129', '130', '131', '132', '133', '134', '135', '136', '137', '138', '139', '140', '141', '142', '143', '144', '145', '146', '147', '148', '149', '150', '151', '152', '153', '154', '155', '156', '157', '158', '159', '160', '161', '162', '163', '164', '165', '166', '167', '168', '169', '170', '171', '172', '173', '174', '175', '176', '177', '178', '179', '180', '181', '182', '183', '184', '185', '186', '187', '188', '189', '190', '191', '192', '193', '194', '195', '196', '197', '198']\n",
      "\n",
      "☄️ 대분류 4의 중분류 개수:198\n",
      "['001', '002', '003', '004', '005', '006', '007', '008', '009', '010', '011', '012', '013', '014', '015', '016', '017', '018', '019', '020', '021', '022', '023', '024', '025', '026', '027', '028', '029', '030', '031', '032', '033', '034', '035', '036', '037', '038', '039', '040', '041', '042', '043', '044', '045', '046', '047', '048', '049', '050', '051', '052', '053', '054', '055', '056', '057', '058', '059', '060', '061', '062', '063', '064', '065', '066', '067', '068', '069', '070', '071', '072', '073', '074', '075', '076', '077', '078', '079', '080', '081', '082', '083', '084', '085', '086', '087', '088', '089', '090', '091', '092', '093', '094', '095', '096', '097', '098', '099', '100', '101', '102', '103', '104', '105', '106', '107', '108', '109', '110', '111', '112', '113', '114', '115', '116', '117', '118', '119', '120', '121', '122', '123', '124', '125', '126', '127', '128', '129', '130', '131', '132', '133', '134', '135', '136', '137', '138', '139', '140', '141', '142', '143', '144', '145', '146', '147', '148', '149', '150', '151', '152', '153', '154', '155', '156', '157', '158', '159', '160', '161', '162', '163', '164', '165', '166', '167', '168', '169', '170', '171', '172', '173', '174', '175', '176', '177', '178', '179', '180', '181', '182', '183', '184', '185', '186', '187', '188', '189', '190', '191', '192', '193', '194', '195', '196', '197', '198']\n",
      "\n",
      "☄️ 대분류 5의 중분류 개수:193\n",
      "['001', '002', '003', '004', '005', '006', '007', '008', '009', '010', '011', '012', '013', '014', '015', '016', '017', '018', '019', '020', '021', '022', '023', '024', '025', '026', '027', '028', '029', '030', '031', '032', '033', '034', '035', '036', '037', '038', '039', '040', '041', '042', '043', '044', '045', '046', '047', '048', '049', '050', '051', '052', '053', '054', '055', '056', '057', '058', '059', '060', '061', '062', '063', '064', '065', '066', '067', '068', '069', '070', '071', '072', '073', '074', '075', '076', '077', '078', '079', '080', '081', '082', '083', '084', '085', '086', '087', '088', '089', '090', '091', '092', '093', '094', '095', '096', '097', '098', '099', '100', '101', '102', '103', '104', '105', '106', '107', '108', '109', '110', '111', '112', '113', '114', '115', '116', '117', '118', '119', '120', '121', '122', '123', '124', '125', '126', '127', '128', '129', '130', '131', '132', '133', '134', '135', '136', '137', '138', '139', '140', '141', '142', '143', '144', '145', '146', '147', '148', '149', '150', '151', '152', '153', '154', '155', '156', '157', '158', '159', '160', '161', '162', '163', '164', '165', '166', '167', '168', '169', '170', '171', '172', '173', '174', '175', '176', '177', '178', '179', '180', '181', '182', '183', '184', '185', '186', '187', '188', '189', '190', '191', '192', '193']\n",
      "\n",
      "☄️ 대분류 6의 중분류 개수:186\n",
      "['001', '002', '003', '004', '005', '006', '007', '008', '009', '010', '011', '012', '013', '014', '015', '016', '017', '018', '019', '020', '021', '022', '023', '024', '025', '026', '027', '028', '029', '030', '031', '032', '033', '034', '035', '036', '037', '038', '039', '040', '041', '042', '043', '044', '045', '046', '047', '048', '049', '050', '051', '052', '053', '054', '055', '056', '057', '058', '059', '060', '061', '062', '063', '064', '065', '066', '067', '068', '069', '070', '071', '072', '073', '074', '075', '076', '077', '078', '079', '080', '081', '082', '083', '084', '085', '086', '087', '088', '089', '090', '091', '092', '093', '094', '095', '096', '097', '098', '099', '100', '101', '102', '103', '104', '105', '106', '107', '108', '109', '110', '111', '112', '113', '114', '115', '116', '117', '118', '119', '120', '121', '122', '123', '124', '125', '126', '127', '128', '129', '130', '131', '132', '133', '134', '135', '136', '137', '138', '139', '140', '141', '142', '143', '144', '145', '146', '147', '148', '149', '150', '151', '152', '153', '154', '155', '156', '157', '158', '159', '160', '161', '162', '163', '164', '165', '166', '167', '168', '169', '170', '171', '172', '173', '174', '175', '176', '177', '178', '179', '180', '181', '182', '183', '184', '185', '186']\n",
      "\n",
      "☄️ 대분류 7의 중분류 개수:164\n",
      "['001', '002', '003', '004', '005', '006', '007', '008', '009', '010', '011', '012', '013', '014', '015', '016', '017', '018', '019', '020', '021', '022', '023', '024', '025', '026', '027', '028', '029', '030', '031', '032', '033', '034', '035', '036', '037', '038', '039', '040', '041', '042', '043', '044', '045', '046', '047', '048', '049', '050', '051', '052', '053', '054', '055', '056', '057', '058', '059', '060', '061', '062', '063', '064', '065', '066', '067', '068', '069', '070', '071', '072', '073', '074', '075', '076', '077', '078', '079', '080', '081', '082', '083', '084', '085', '086', '087', '088', '089', '090', '091', '092', '093', '094', '095', '096', '097', '098', '099', '100', '101', '102', '103', '104', '105', '106', '107', '108', '109', '110', '111', '112', '113', '114', '115', '116', '117', '118', '119', '120', '121', '122', '123', '124', '125', '126', '127', '128', '129', '130', '131', '132', '133', '134', '135', '136', '137', '138', '139', '140', '141', '142', '143', '144', '145', '146', '147', '148', '149', '150', '151', '152', '153', '154', '155', '156', '157', '158', '159', '160', '161', '162', '163', '164']\n",
      "\n",
      "☄️ 대분류 8의 중분류 개수:138\n",
      "['001', '002', '003', '004', '005', '006', '007', '008', '009', '010', '011', '012', '013', '014', '015', '016', '017', '018', '019', '020', '021', '022', '023', '024', '025', '026', '027', '028', '029', '030', '031', '032', '033', '034', '035', '036', '037', '038', '039', '040', '041', '042', '043', '044', '045', '046', '047', '048', '049', '050', '051', '052', '053', '054', '055', '056', '057', '058', '059', '060', '061', '062', '063', '064', '065', '066', '067', '068', '069', '070', '071', '072', '073', '074', '075', '076', '077', '078', '079', '080', '081', '082', '083', '084', '085', '086', '087', '088', '089', '090', '091', '092', '093', '094', '095', '096', '097', '098', '099', '100', '101', '102', '103', '104', '105', '106', '107', '108', '109', '110', '111', '112', '113', '114', '115', '116', '117', '118', '119', '120', '121', '122', '123', '124', '125', '126', '127', '128', '129', '130', '131', '132', '133', '134', '135', '136', '137', '138']\n",
      "\n",
      "☄️ 대분류 9의 중분류 개수:74\n",
      "['001', '002', '003', '004', '005', '006', '007', '008', '009', '010', '011', '012', '013', '014', '015', '016', '017', '018', '019', '020', '021', '022', '023', '024', '025', '026', '027', '028', '029', '030', '031', '032', '033', '034', '035', '036', '037', '038', '039', '040', '041', '042', '043', '044', '045', '046', '047', '048', '049', '050', '051', '052', '053', '054', '055', '056', '057', '058', '059', '060', '061', '062', '063', '064', '065', '066', '067', '068', '069', '070', '071', '072', '073', '074']\n",
      "\n"
     ]
    }
   ],
   "source": [
    "for i in range(1,10):\n",
    "    n=str(i)\n",
    "    print(f\"☄️ 대분류 {n}의 중분류 개수:{len(cat_df[cat_df.big_category==n].mid_category.unique())}\")\n",
    "    print(cat_df[cat_df.big_category==n].mid_category.unique().tolist())\n",
    "    print()"
   ]
  },
  {
   "cell_type": "markdown",
   "id": "3ee47f3e",
   "metadata": {},
   "source": [
    "#### 대분류 속에 중분류는 몇개씩 있을까?"
   ]
  },
  {
   "cell_type": "code",
   "execution_count": 108,
   "id": "b393a797",
   "metadata": {
    "ExecuteTime": {
     "end_time": "2022-11-18T06:45:30.826286Z",
     "start_time": "2022-11-18T06:45:30.270005Z"
    }
   },
   "outputs": [
    {
     "data": {
      "image/png": "[encoded data removed]",
      "text/plain": [
       "<Figure size 960x560 with 1 Axes>"
      ]
     },
     "metadata": {},
     "output_type": "display_data"
    }
   ],
   "source": [
    "df = train.groupby('big_category')['mid_category'].apply(set).apply(len).reset_index()\n",
    "fig, ax = plt.subplots(1, 1, figsize=(12, 7))\n",
    "q=sns.barplot(df,x='big_category',y='mid_category', color=\"dodgerblue\")\n",
    "q=ax.set_xlabel(\"Big Category\", fontsize=15)\n",
    "q=ax.set_ylabel(\"Mid Category\", fontsize=15)\n",
    "q=ax.set_title(\"Mid Category by Big Category\", fontsize=20, fontweight=\"semibold\")\n",
    "q=plt.show()"
   ]
  },
  {
   "cell_type": "markdown",
   "id": "64a278c4",
   "metadata": {},
   "source": [
    "#### 문제 번호별로 중분류가 나뉠까?\n",
    "한 문제 번호에 대해 중분류가 여러개가 있다? problem number 이건 한 문제로 보긴 어렵겠다."
   ]
  },
  {
   "cell_type": "code",
   "execution_count": 112,
   "id": "e5dc3761",
   "metadata": {
    "ExecuteTime": {
     "end_time": "2022-11-18T06:48:51.895639Z",
     "start_time": "2022-11-18T06:48:50.979511Z"
    }
   },
   "outputs": [
    {
     "data": {
      "image/png": "[encoded data removed]",
      "text/plain": [
       "<Figure size 960x560 with 1 Axes>"
      ]
     },
     "metadata": {},
     "output_type": "display_data"
    }
   ],
   "source": [
    "df = train.groupby('problem_number')['mid_category'].apply(set).apply(len).reset_index()\n",
    "fig, ax = plt.subplots(1, 1, figsize=(12, 7))\n",
    "q=sns.barplot(df,x='problem_number',y='mid_category', color=\"dodgerblue\")\n",
    "q=ax.set_xlabel(\"Problem Number\", fontsize=15)\n",
    "q=ax.set_ylabel(\"Mid Category\", fontsize=15)\n",
    "q=ax.set_title(\"Mid Category by Problem Number\", fontsize=20, fontweight=\"semibold\")\n",
    "q=plt.show()"
   ]
  },
  {
   "cell_type": "markdown",
   "id": "f9d796e4",
   "metadata": {},
   "source": [
    "#### 중분류별 정답률 확인 -> 유의미한 패턴은 보이지 않는다."
   ]
  },
  {
   "cell_type": "code",
   "execution_count": 113,
   "id": "0a8608ab",
   "metadata": {
    "ExecuteTime": {
     "end_time": "2022-11-18T06:49:45.542947Z",
     "start_time": "2022-11-18T06:49:43.650732Z"
    }
   },
   "outputs": [
    {
     "data": {
      "image/png": "[encoded data removed]",
      "text/plain": [
       "<Figure size 960x560 with 1 Axes>"
      ]
     },
     "metadata": {},
     "output_type": "display_data"
    }
   ],
   "source": [
    "df = train.groupby('mid_category')['answerCode'].mean().reset_index()\n",
    "fig, ax = plt.subplots(1, 1, figsize=(12, 7))\n",
    "q=sns.barplot(df,x='mid_category',y='answerCode', color=\"dodgerblue\")\n",
    "q=ax.set_xlabel(\"Mid Category\", fontsize=15)\n",
    "q=ax.set_ylabel(\"Answer Rate\", fontsize=15)\n",
    "q=ax.set_title(\"Answer Rate by Mid Category\", fontsize=20, fontweight=\"semibold\")\n",
    "q=plt.show()"
   ]
  },
  {
   "cell_type": "code",
   "execution_count": 119,
   "id": "7be40998",
   "metadata": {
    "ExecuteTime": {
     "end_time": "2022-11-18T06:58:22.502208Z",
     "start_time": "2022-11-18T06:58:22.345717Z"
    }
   },
   "outputs": [
    {
     "data": {
      "text/plain": [
       "array(['6', '9', '3', '8', '1', '4', '7', '2', '5'], dtype=object)"
      ]
     },
     "execution_count": 119,
     "metadata": {},
     "output_type": "execute_result"
    }
   ],
   "source": [
    "train[train.mid_category=='001'].big_category.unique()"
   ]
  },
  {
   "cell_type": "code",
   "execution_count": 116,
   "id": "3a994528",
   "metadata": {
    "ExecuteTime": {
     "end_time": "2022-11-18T06:56:35.929378Z",
     "start_time": "2022-11-18T06:56:35.524429Z"
    }
   },
   "outputs": [
    {
     "data": {
      "text/html": [
       "<div>\n",
       "<style scoped>\n",
       "    .dataframe tbody tr th:only-of-type {\n",
       "        vertical-align: middle;\n",
       "    }\n",
       "\n",
       "    .dataframe tbody tr th {\n",
       "        vertical-align: top;\n",
       "    }\n",
       "\n",
       "    .dataframe thead th {\n",
       "        text-align: right;\n",
       "    }\n",
       "</style>\n",
       "<table border=\"1\" class=\"dataframe\">\n",
       "  <thead>\n",
       "    <tr style=\"text-align: right;\">\n",
       "      <th></th>\n",
       "      <th>mid_category</th>\n",
       "      <th>big_category</th>\n",
       "    </tr>\n",
       "  </thead>\n",
       "  <tbody>\n",
       "    <tr>\n",
       "      <th>0</th>\n",
       "      <td>001</td>\n",
       "      <td>9</td>\n",
       "    </tr>\n",
       "    <tr>\n",
       "      <th>1</th>\n",
       "      <td>002</td>\n",
       "      <td>9</td>\n",
       "    </tr>\n",
       "    <tr>\n",
       "      <th>2</th>\n",
       "      <td>003</td>\n",
       "      <td>9</td>\n",
       "    </tr>\n",
       "    <tr>\n",
       "      <th>3</th>\n",
       "      <td>004</td>\n",
       "      <td>9</td>\n",
       "    </tr>\n",
       "    <tr>\n",
       "      <th>4</th>\n",
       "      <td>005</td>\n",
       "      <td>9</td>\n",
       "    </tr>\n",
       "    <tr>\n",
       "      <th>5</th>\n",
       "      <td>006</td>\n",
       "      <td>9</td>\n",
       "    </tr>\n",
       "    <tr>\n",
       "      <th>6</th>\n",
       "      <td>007</td>\n",
       "      <td>9</td>\n",
       "    </tr>\n",
       "    <tr>\n",
       "      <th>7</th>\n",
       "      <td>008</td>\n",
       "      <td>9</td>\n",
       "    </tr>\n",
       "    <tr>\n",
       "      <th>8</th>\n",
       "      <td>009</td>\n",
       "      <td>9</td>\n",
       "    </tr>\n",
       "    <tr>\n",
       "      <th>9</th>\n",
       "      <td>010</td>\n",
       "      <td>9</td>\n",
       "    </tr>\n",
       "    <tr>\n",
       "      <th>10</th>\n",
       "      <td>011</td>\n",
       "      <td>9</td>\n",
       "    </tr>\n",
       "    <tr>\n",
       "      <th>11</th>\n",
       "      <td>012</td>\n",
       "      <td>9</td>\n",
       "    </tr>\n",
       "    <tr>\n",
       "      <th>12</th>\n",
       "      <td>013</td>\n",
       "      <td>9</td>\n",
       "    </tr>\n",
       "    <tr>\n",
       "      <th>13</th>\n",
       "      <td>014</td>\n",
       "      <td>9</td>\n",
       "    </tr>\n",
       "    <tr>\n",
       "      <th>14</th>\n",
       "      <td>015</td>\n",
       "      <td>9</td>\n",
       "    </tr>\n",
       "    <tr>\n",
       "      <th>15</th>\n",
       "      <td>016</td>\n",
       "      <td>9</td>\n",
       "    </tr>\n",
       "    <tr>\n",
       "      <th>16</th>\n",
       "      <td>017</td>\n",
       "      <td>9</td>\n",
       "    </tr>\n",
       "    <tr>\n",
       "      <th>17</th>\n",
       "      <td>018</td>\n",
       "      <td>9</td>\n",
       "    </tr>\n",
       "    <tr>\n",
       "      <th>18</th>\n",
       "      <td>019</td>\n",
       "      <td>9</td>\n",
       "    </tr>\n",
       "    <tr>\n",
       "      <th>19</th>\n",
       "      <td>020</td>\n",
       "      <td>9</td>\n",
       "    </tr>\n",
       "    <tr>\n",
       "      <th>20</th>\n",
       "      <td>021</td>\n",
       "      <td>9</td>\n",
       "    </tr>\n",
       "    <tr>\n",
       "      <th>21</th>\n",
       "      <td>022</td>\n",
       "      <td>9</td>\n",
       "    </tr>\n",
       "    <tr>\n",
       "      <th>22</th>\n",
       "      <td>023</td>\n",
       "      <td>9</td>\n",
       "    </tr>\n",
       "    <tr>\n",
       "      <th>23</th>\n",
       "      <td>024</td>\n",
       "      <td>9</td>\n",
       "    </tr>\n",
       "    <tr>\n",
       "      <th>24</th>\n",
       "      <td>025</td>\n",
       "      <td>9</td>\n",
       "    </tr>\n",
       "    <tr>\n",
       "      <th>25</th>\n",
       "      <td>026</td>\n",
       "      <td>9</td>\n",
       "    </tr>\n",
       "    <tr>\n",
       "      <th>26</th>\n",
       "      <td>027</td>\n",
       "      <td>9</td>\n",
       "    </tr>\n",
       "    <tr>\n",
       "      <th>27</th>\n",
       "      <td>028</td>\n",
       "      <td>9</td>\n",
       "    </tr>\n",
       "    <tr>\n",
       "      <th>28</th>\n",
       "      <td>029</td>\n",
       "      <td>9</td>\n",
       "    </tr>\n",
       "    <tr>\n",
       "      <th>29</th>\n",
       "      <td>030</td>\n",
       "      <td>9</td>\n",
       "    </tr>\n",
       "    <tr>\n",
       "      <th>...</th>\n",
       "      <td>...</td>\n",
       "      <td>...</td>\n",
       "    </tr>\n",
       "    <tr>\n",
       "      <th>168</th>\n",
       "      <td>169</td>\n",
       "      <td>6</td>\n",
       "    </tr>\n",
       "    <tr>\n",
       "      <th>169</th>\n",
       "      <td>170</td>\n",
       "      <td>6</td>\n",
       "    </tr>\n",
       "    <tr>\n",
       "      <th>170</th>\n",
       "      <td>171</td>\n",
       "      <td>6</td>\n",
       "    </tr>\n",
       "    <tr>\n",
       "      <th>171</th>\n",
       "      <td>172</td>\n",
       "      <td>6</td>\n",
       "    </tr>\n",
       "    <tr>\n",
       "      <th>172</th>\n",
       "      <td>173</td>\n",
       "      <td>6</td>\n",
       "    </tr>\n",
       "    <tr>\n",
       "      <th>173</th>\n",
       "      <td>174</td>\n",
       "      <td>6</td>\n",
       "    </tr>\n",
       "    <tr>\n",
       "      <th>174</th>\n",
       "      <td>175</td>\n",
       "      <td>6</td>\n",
       "    </tr>\n",
       "    <tr>\n",
       "      <th>175</th>\n",
       "      <td>176</td>\n",
       "      <td>6</td>\n",
       "    </tr>\n",
       "    <tr>\n",
       "      <th>176</th>\n",
       "      <td>177</td>\n",
       "      <td>6</td>\n",
       "    </tr>\n",
       "    <tr>\n",
       "      <th>177</th>\n",
       "      <td>178</td>\n",
       "      <td>6</td>\n",
       "    </tr>\n",
       "    <tr>\n",
       "      <th>178</th>\n",
       "      <td>179</td>\n",
       "      <td>6</td>\n",
       "    </tr>\n",
       "    <tr>\n",
       "      <th>179</th>\n",
       "      <td>180</td>\n",
       "      <td>6</td>\n",
       "    </tr>\n",
       "    <tr>\n",
       "      <th>180</th>\n",
       "      <td>181</td>\n",
       "      <td>6</td>\n",
       "    </tr>\n",
       "    <tr>\n",
       "      <th>181</th>\n",
       "      <td>182</td>\n",
       "      <td>6</td>\n",
       "    </tr>\n",
       "    <tr>\n",
       "      <th>182</th>\n",
       "      <td>183</td>\n",
       "      <td>6</td>\n",
       "    </tr>\n",
       "    <tr>\n",
       "      <th>183</th>\n",
       "      <td>184</td>\n",
       "      <td>6</td>\n",
       "    </tr>\n",
       "    <tr>\n",
       "      <th>184</th>\n",
       "      <td>185</td>\n",
       "      <td>6</td>\n",
       "    </tr>\n",
       "    <tr>\n",
       "      <th>185</th>\n",
       "      <td>186</td>\n",
       "      <td>6</td>\n",
       "    </tr>\n",
       "    <tr>\n",
       "      <th>186</th>\n",
       "      <td>187</td>\n",
       "      <td>5</td>\n",
       "    </tr>\n",
       "    <tr>\n",
       "      <th>187</th>\n",
       "      <td>188</td>\n",
       "      <td>5</td>\n",
       "    </tr>\n",
       "    <tr>\n",
       "      <th>188</th>\n",
       "      <td>189</td>\n",
       "      <td>5</td>\n",
       "    </tr>\n",
       "    <tr>\n",
       "      <th>189</th>\n",
       "      <td>190</td>\n",
       "      <td>5</td>\n",
       "    </tr>\n",
       "    <tr>\n",
       "      <th>190</th>\n",
       "      <td>191</td>\n",
       "      <td>5</td>\n",
       "    </tr>\n",
       "    <tr>\n",
       "      <th>191</th>\n",
       "      <td>192</td>\n",
       "      <td>5</td>\n",
       "    </tr>\n",
       "    <tr>\n",
       "      <th>192</th>\n",
       "      <td>193</td>\n",
       "      <td>4</td>\n",
       "    </tr>\n",
       "    <tr>\n",
       "      <th>193</th>\n",
       "      <td>194</td>\n",
       "      <td>3</td>\n",
       "    </tr>\n",
       "    <tr>\n",
       "      <th>194</th>\n",
       "      <td>195</td>\n",
       "      <td>3</td>\n",
       "    </tr>\n",
       "    <tr>\n",
       "      <th>195</th>\n",
       "      <td>196</td>\n",
       "      <td>2</td>\n",
       "    </tr>\n",
       "    <tr>\n",
       "      <th>196</th>\n",
       "      <td>197</td>\n",
       "      <td>2</td>\n",
       "    </tr>\n",
       "    <tr>\n",
       "      <th>197</th>\n",
       "      <td>198</td>\n",
       "      <td>2</td>\n",
       "    </tr>\n",
       "  </tbody>\n",
       "</table>\n",
       "<p>198 rows × 2 columns</p>\n",
       "</div>"
      ],
      "text/plain": [
       "    mid_category  big_category\n",
       "0            001             9\n",
       "1            002             9\n",
       "2            003             9\n",
       "3            004             9\n",
       "4            005             9\n",
       "5            006             9\n",
       "6            007             9\n",
       "7            008             9\n",
       "8            009             9\n",
       "9            010             9\n",
       "10           011             9\n",
       "11           012             9\n",
       "12           013             9\n",
       "13           014             9\n",
       "14           015             9\n",
       "15           016             9\n",
       "16           017             9\n",
       "17           018             9\n",
       "18           019             9\n",
       "19           020             9\n",
       "20           021             9\n",
       "21           022             9\n",
       "22           023             9\n",
       "23           024             9\n",
       "24           025             9\n",
       "25           026             9\n",
       "26           027             9\n",
       "27           028             9\n",
       "28           029             9\n",
       "29           030             9\n",
       "..           ...           ...\n",
       "168          169             6\n",
       "169          170             6\n",
       "170          171             6\n",
       "171          172             6\n",
       "172          173             6\n",
       "173          174             6\n",
       "174          175             6\n",
       "175          176             6\n",
       "176          177             6\n",
       "177          178             6\n",
       "178          179             6\n",
       "179          180             6\n",
       "180          181             6\n",
       "181          182             6\n",
       "182          183             6\n",
       "183          184             6\n",
       "184          185             6\n",
       "185          186             6\n",
       "186          187             5\n",
       "187          188             5\n",
       "188          189             5\n",
       "189          190             5\n",
       "190          191             5\n",
       "191          192             5\n",
       "192          193             4\n",
       "193          194             3\n",
       "194          195             3\n",
       "195          196             2\n",
       "196          197             2\n",
       "197          198             2\n",
       "\n",
       "[198 rows x 2 columns]"
      ]
     },
     "execution_count": 116,
     "metadata": {},
     "output_type": "execute_result"
    }
   ],
   "source": [
    "train.groupby('mid_category')['big_category'].apply(set).apply(len).reset_index()"
   ]
  },
  {
   "cell_type": "code",
   "execution_count": null,
   "id": "2351ace4",
   "metadata": {},
   "outputs": [],
   "source": []
  },
  {
   "cell_type": "code",
   "execution_count": 78,
   "id": "bcc18b69",
   "metadata": {
    "ExecuteTime": {
     "end_time": "2022-11-18T06:17:58.454977Z",
     "start_time": "2022-11-18T06:17:58.450239Z"
    }
   },
   "outputs": [
    {
     "data": {
      "text/plain": [
       "array(['1', '2', '3', '4', '5', '6', '7', '8', '9'], dtype=object)"
      ]
     },
     "execution_count": 78,
     "metadata": {},
     "output_type": "execute_result"
    }
   ],
   "source": [
    "for cat in cat_df.big_category.unique():\n",
    "    "
   ]
  }
 ],
 "metadata": {
  "kernelspec": {
   "display_name": "Python 3 (ipykernel)",
   "language": "python",
   "name": "python3"
  },
  "language_info": {
   "codemirror_mode": {
    "name": "ipython",
    "version": 3
   },
   "file_extension": ".py",
   "mimetype": "text/x-python",
   "name": "python",
   "nbconvert_exporter": "python",
   "pygments_lexer": "ipython3",
   "version": "3.9.15"
  },
  "toc": {
   "base_numbering": 1,
   "nav_menu": {},
   "number_sections": true,
   "sideBar": true,
   "skip_h1_title": false,
   "title_cell": "Table of Contents",
   "title_sidebar": "Contents",
   "toc_cell": false,
   "toc_position": {
    "height": "calc(100% - 180px)",
    "left": "10px",
    "top": "150px",
    "width": "305px"
   },
   "toc_section_display": true,
   "toc_window_display": true
  }
 },
 "nbformat": 4,
 "nbformat_minor": 5
}
