{
 "cells": [
  {
   "cell_type": "code",
   "execution_count": 10,
   "id": "5c39cc22",
   "metadata": {
    "ExecuteTime": {
     "end_time": "2022-11-17T05:50:10.696740Z",
     "start_time": "2022-11-17T05:50:08.080197Z"
    }
   },
   "outputs": [],
   "source": [
    "import numpy as np\n",
    "import seaborn as sns\n",
    "import matplotlib.pyplot as plt\n",
    "import random\n",
    "\n",
    "from IPython.core.interactiveshell import InteractiveShell\n",
    "InteractiveShell.ast_node_interactivity = \"all\"\n",
    "\n",
    "import pandas as pd\n",
    "pd.set_option('display.min_rows', 500)\n",
    "import warnings\n",
    "warnings.filterwarnings('ignore')\n",
    "\n",
    "path='../../data/'\n",
    "train = pd.read_csv(f\"{path}/train_data.csv\")\n",
    "test = pd.read_csv(f\"{path}/test_data.csv\")\n",
    "sub = pd.read_csv(f\"{path}/sample_submission.csv\")"
   ]
  },
  {
   "cell_type": "code",
   "execution_count": null,
   "id": "f9f35f6d",
   "metadata": {},
   "outputs": [],
   "source": [
    "def feature_engineering(df):\n",
    "    #유저별 시퀀스를 고려하기 위해 아래와 같이 정렬\n",
    "    df.sort_values(by=['userID','Timestamp'], inplace=True)\n",
    "    \n",
    "    #유저들의 문제 풀이수, 정답 수, 정답률을 시간순으로 누적해서 계산\n",
    "    df['user_correct_answer'] = df.groupby('userID')['answerCode'].transform(lambda x: x.cumsum().shift(1))\n",
    "    df['user_total_answer'] = df.groupby('userID')['answerCode'].cumcount()\n",
    "    df['user_acc'] = df['user_correct_answer']/df['user_total_answer']\n",
    "\n",
    "    # testId와 KnowledgeTag의 전체 정답률은 한번에 계산\n",
    "    # 아래 데이터는 제출용 데이터셋에 대해서도 재사용\n",
    "    correct_t = df.groupby(['testId'])['answerCode'].agg(['mean', 'sum'])\n",
    "    correct_t.columns = [\"test_mean\", 'test_sum']\n",
    "    correct_k = df.groupby(['KnowledgeTag'])['answerCode'].agg(['mean', 'sum'])\n",
    "    correct_k.columns = [\"tag_mean\", 'tag_sum']\n",
    "\n",
    "    df = pd.merge(df, correct_t, on=['testId'], how=\"left\")\n",
    "    df = pd.merge(df, correct_k, on=['KnowledgeTag'], how=\"left\")\n",
    "    \n",
    "    return df"
   ]
  },
  {
   "cell_type": "code",
   "execution_count": 4,
   "id": "40ac3598",
   "metadata": {
    "ExecuteTime": {
     "end_time": "2022-11-17T05:48:37.486262Z",
     "start_time": "2022-11-17T05:48:37.478263Z"
    }
   },
   "outputs": [
    {
     "data": {
      "text/html": [
       "<div>\n",
       "<style scoped>\n",
       "    .dataframe tbody tr th:only-of-type {\n",
       "        vertical-align: middle;\n",
       "    }\n",
       "\n",
       "    .dataframe tbody tr th {\n",
       "        vertical-align: top;\n",
       "    }\n",
       "\n",
       "    .dataframe thead th {\n",
       "        text-align: right;\n",
       "    }\n",
       "</style>\n",
       "<table border=\"1\" class=\"dataframe\">\n",
       "  <thead>\n",
       "    <tr style=\"text-align: right;\">\n",
       "      <th></th>\n",
       "      <th>userID</th>\n",
       "      <th>assessmentItemID</th>\n",
       "      <th>testId</th>\n",
       "      <th>answerCode</th>\n",
       "      <th>Timestamp</th>\n",
       "      <th>KnowledgeTag</th>\n",
       "    </tr>\n",
       "  </thead>\n",
       "  <tbody>\n",
       "    <tr>\n",
       "      <th>0</th>\n",
       "      <td>0</td>\n",
       "      <td>A060001001</td>\n",
       "      <td>A060000001</td>\n",
       "      <td>1</td>\n",
       "      <td>2020-03-24 00:17:11</td>\n",
       "      <td>7224</td>\n",
       "    </tr>\n",
       "    <tr>\n",
       "      <th>1</th>\n",
       "      <td>0</td>\n",
       "      <td>A060001002</td>\n",
       "      <td>A060000001</td>\n",
       "      <td>1</td>\n",
       "      <td>2020-03-24 00:17:14</td>\n",
       "      <td>7225</td>\n",
       "    </tr>\n",
       "    <tr>\n",
       "      <th>2</th>\n",
       "      <td>0</td>\n",
       "      <td>A060001003</td>\n",
       "      <td>A060000001</td>\n",
       "      <td>1</td>\n",
       "      <td>2020-03-24 00:17:22</td>\n",
       "      <td>7225</td>\n",
       "    </tr>\n",
       "    <tr>\n",
       "      <th>3</th>\n",
       "      <td>0</td>\n",
       "      <td>A060001004</td>\n",
       "      <td>A060000001</td>\n",
       "      <td>1</td>\n",
       "      <td>2020-03-24 00:17:29</td>\n",
       "      <td>7225</td>\n",
       "    </tr>\n",
       "    <tr>\n",
       "      <th>4</th>\n",
       "      <td>0</td>\n",
       "      <td>A060001005</td>\n",
       "      <td>A060000001</td>\n",
       "      <td>1</td>\n",
       "      <td>2020-03-24 00:17:36</td>\n",
       "      <td>7225</td>\n",
       "    </tr>\n",
       "  </tbody>\n",
       "</table>\n",
       "</div>"
      ],
      "text/plain": [
       "   userID assessmentItemID      testId  answerCode            Timestamp  \\\n",
       "0       0       A060001001  A060000001           1  2020-03-24 00:17:11   \n",
       "1       0       A060001002  A060000001           1  2020-03-24 00:17:14   \n",
       "2       0       A060001003  A060000001           1  2020-03-24 00:17:22   \n",
       "3       0       A060001004  A060000001           1  2020-03-24 00:17:29   \n",
       "4       0       A060001005  A060000001           1  2020-03-24 00:17:36   \n",
       "\n",
       "   KnowledgeTag  \n",
       "0          7224  \n",
       "1          7225  \n",
       "2          7225  \n",
       "3          7225  \n",
       "4          7225  "
      ]
     },
     "execution_count": 4,
     "metadata": {},
     "output_type": "execute_result"
    }
   ],
   "source": [
    "train[:5]"
   ]
  },
  {
   "cell_type": "code",
   "execution_count": 5,
   "id": "a8d0359f",
   "metadata": {
    "ExecuteTime": {
     "end_time": "2022-11-17T05:48:39.710670Z",
     "start_time": "2022-11-17T05:48:39.702772Z"
    }
   },
   "outputs": [
    {
     "data": {
      "text/html": [
       "<div>\n",
       "<style scoped>\n",
       "    .dataframe tbody tr th:only-of-type {\n",
       "        vertical-align: middle;\n",
       "    }\n",
       "\n",
       "    .dataframe tbody tr th {\n",
       "        vertical-align: top;\n",
       "    }\n",
       "\n",
       "    .dataframe thead th {\n",
       "        text-align: right;\n",
       "    }\n",
       "</style>\n",
       "<table border=\"1\" class=\"dataframe\">\n",
       "  <thead>\n",
       "    <tr style=\"text-align: right;\">\n",
       "      <th></th>\n",
       "      <th>userID</th>\n",
       "      <th>assessmentItemID</th>\n",
       "      <th>testId</th>\n",
       "      <th>answerCode</th>\n",
       "      <th>Timestamp</th>\n",
       "      <th>KnowledgeTag</th>\n",
       "    </tr>\n",
       "  </thead>\n",
       "  <tbody>\n",
       "    <tr>\n",
       "      <th>0</th>\n",
       "      <td>3</td>\n",
       "      <td>A050023001</td>\n",
       "      <td>A050000023</td>\n",
       "      <td>1</td>\n",
       "      <td>2020-01-09 10:56:31</td>\n",
       "      <td>2626</td>\n",
       "    </tr>\n",
       "    <tr>\n",
       "      <th>1</th>\n",
       "      <td>3</td>\n",
       "      <td>A050023002</td>\n",
       "      <td>A050000023</td>\n",
       "      <td>1</td>\n",
       "      <td>2020-01-09 10:56:57</td>\n",
       "      <td>2626</td>\n",
       "    </tr>\n",
       "    <tr>\n",
       "      <th>2</th>\n",
       "      <td>3</td>\n",
       "      <td>A050023003</td>\n",
       "      <td>A050000023</td>\n",
       "      <td>0</td>\n",
       "      <td>2020-01-09 10:58:31</td>\n",
       "      <td>2625</td>\n",
       "    </tr>\n",
       "    <tr>\n",
       "      <th>3</th>\n",
       "      <td>3</td>\n",
       "      <td>A050023004</td>\n",
       "      <td>A050000023</td>\n",
       "      <td>0</td>\n",
       "      <td>2020-01-09 10:58:36</td>\n",
       "      <td>2625</td>\n",
       "    </tr>\n",
       "    <tr>\n",
       "      <th>4</th>\n",
       "      <td>3</td>\n",
       "      <td>A050023006</td>\n",
       "      <td>A050000023</td>\n",
       "      <td>0</td>\n",
       "      <td>2020-01-09 10:58:43</td>\n",
       "      <td>2623</td>\n",
       "    </tr>\n",
       "  </tbody>\n",
       "</table>\n",
       "</div>"
      ],
      "text/plain": [
       "   userID assessmentItemID      testId  answerCode            Timestamp  \\\n",
       "0       3       A050023001  A050000023           1  2020-01-09 10:56:31   \n",
       "1       3       A050023002  A050000023           1  2020-01-09 10:56:57   \n",
       "2       3       A050023003  A050000023           0  2020-01-09 10:58:31   \n",
       "3       3       A050023004  A050000023           0  2020-01-09 10:58:36   \n",
       "4       3       A050023006  A050000023           0  2020-01-09 10:58:43   \n",
       "\n",
       "   KnowledgeTag  \n",
       "0          2626  \n",
       "1          2626  \n",
       "2          2625  \n",
       "3          2625  \n",
       "4          2623  "
      ]
     },
     "execution_count": 5,
     "metadata": {},
     "output_type": "execute_result"
    }
   ],
   "source": [
    "test[:5]"
   ]
  },
  {
   "cell_type": "code",
   "execution_count": 11,
   "id": "cded4cdc",
   "metadata": {
    "ExecuteTime": {
     "end_time": "2022-11-17T05:50:13.596844Z",
     "start_time": "2022-11-17T05:50:13.589302Z"
    }
   },
   "outputs": [
    {
     "data": {
      "text/html": [
       "<div>\n",
       "<style scoped>\n",
       "    .dataframe tbody tr th:only-of-type {\n",
       "        vertical-align: middle;\n",
       "    }\n",
       "\n",
       "    .dataframe tbody tr th {\n",
       "        vertical-align: top;\n",
       "    }\n",
       "\n",
       "    .dataframe thead th {\n",
       "        text-align: right;\n",
       "    }\n",
       "</style>\n",
       "<table border=\"1\" class=\"dataframe\">\n",
       "  <thead>\n",
       "    <tr style=\"text-align: right;\">\n",
       "      <th></th>\n",
       "      <th>id</th>\n",
       "      <th>prediction</th>\n",
       "    </tr>\n",
       "  </thead>\n",
       "  <tbody>\n",
       "    <tr>\n",
       "      <th>0</th>\n",
       "      <td>0</td>\n",
       "      <td>0.5</td>\n",
       "    </tr>\n",
       "    <tr>\n",
       "      <th>1</th>\n",
       "      <td>1</td>\n",
       "      <td>0.5</td>\n",
       "    </tr>\n",
       "    <tr>\n",
       "      <th>2</th>\n",
       "      <td>2</td>\n",
       "      <td>0.5</td>\n",
       "    </tr>\n",
       "  </tbody>\n",
       "</table>\n",
       "</div>"
      ],
      "text/plain": [
       "   id  prediction\n",
       "0   0         0.5\n",
       "1   1         0.5\n",
       "2   2         0.5"
      ]
     },
     "execution_count": 11,
     "metadata": {},
     "output_type": "execute_result"
    }
   ],
   "source": [
    "sub[:3]"
   ]
  },
  {
   "cell_type": "code",
   "execution_count": 12,
   "id": "df7cb167",
   "metadata": {
    "ExecuteTime": {
     "end_time": "2022-11-17T05:50:28.247000Z",
     "start_time": "2022-11-17T05:50:28.242906Z"
    }
   },
   "outputs": [
    {
     "data": {
      "text/plain": [
       "(260114, 744)"
      ]
     },
     "execution_count": 12,
     "metadata": {},
     "output_type": "execute_result"
    }
   ],
   "source": [
    "len(test), len(sub)"
   ]
  },
  {
   "cell_type": "code",
   "execution_count": null,
   "id": "b798bb4c",
   "metadata": {},
   "outputs": [],
   "source": []
  },
  {
   "cell_type": "code",
   "execution_count": 6,
   "id": "d2c08069",
   "metadata": {
    "ExecuteTime": {
     "end_time": "2022-11-17T05:49:08.017621Z",
     "start_time": "2022-11-17T05:49:07.798742Z"
    }
   },
   "outputs": [],
   "source": [
    "train_user = set(train.userID)\n",
    "test_user = set(test.userID)"
   ]
  },
  {
   "cell_type": "code",
   "execution_count": 7,
   "id": "40fb45e9",
   "metadata": {
    "ExecuteTime": {
     "end_time": "2022-11-17T05:49:15.772415Z",
     "start_time": "2022-11-17T05:49:15.767841Z"
    }
   },
   "outputs": [
    {
     "data": {
      "text/plain": [
       "(6698, 744)"
      ]
     },
     "execution_count": 7,
     "metadata": {},
     "output_type": "execute_result"
    }
   ],
   "source": [
    "len(train_user),len(test_user)"
   ]
  },
  {
   "cell_type": "code",
   "execution_count": 8,
   "id": "89ad4bb9",
   "metadata": {
    "ExecuteTime": {
     "end_time": "2022-11-17T05:49:22.967717Z",
     "start_time": "2022-11-17T05:49:22.963461Z"
    }
   },
   "outputs": [
    {
     "data": {
      "text/plain": [
       "set()"
      ]
     },
     "execution_count": 8,
     "metadata": {},
     "output_type": "execute_result"
    }
   ],
   "source": [
    "train_user.intersection(test_user)"
   ]
  },
  {
   "cell_type": "code",
   "execution_count": null,
   "id": "52aa6b1f",
   "metadata": {},
   "outputs": [],
   "source": []
  }
 ],
 "metadata": {
  "kernelspec": {
   "display_name": "Python 3 (ipykernel)",
   "language": "python",
   "name": "python3"
  },
  "language_info": {
   "codemirror_mode": {
    "name": "ipython",
    "version": 3
   },
   "file_extension": ".py",
   "mimetype": "text/x-python",
   "name": "python",
   "nbconvert_exporter": "python",
   "pygments_lexer": "ipython3",
   "version": "3.9.15"
  },
  "toc": {
   "base_numbering": 1,
   "nav_menu": {},
   "number_sections": true,
   "sideBar": true,
   "skip_h1_title": false,
   "title_cell": "Table of Contents",
   "title_sidebar": "Contents",
   "toc_cell": false,
   "toc_position": {},
   "toc_section_display": true,
   "toc_window_display": false
  }
 },
 "nbformat": 4,
 "nbformat_minor": 5
}
