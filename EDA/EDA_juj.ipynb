{
 "cells": [
  {
   "cell_type": "markdown",
   "metadata": {},
   "source": [
    "# EDA"
   ]
  },
  {
   "cell_type": "code",
   "execution_count": 6,
   "metadata": {},
   "outputs": [],
   "source": [
    "import numpy as np \n",
    "import pandas as pd\n",
    "import matplotlib.pyplot as plt\n",
    "import seaborn as sns\n",
    "import time\n",
    "path = '../../data/'"
   ]
  },
  {
   "cell_type": "code",
   "execution_count": 7,
   "metadata": {},
   "outputs": [],
   "source": [
    "dtype = {\n",
    "    'userID': 'int16',\n",
    "    'answerCode': 'int8',\n",
    "    'KnowledgeTag': 'int16'\n",
    "}   \n",
    "\n",
    "train = pd.read_csv(path + 'train_data.csv', dtype=dtype, parse_dates=['Timestamp'])\n",
    "test = pd.read_csv(path + 'test_data.csv', dtype=dtype, parse_dates=['Timestamp'])\n",
    "submission = pd.read_csv(path + 'sample_submission.csv')"
   ]
  },
  {
   "cell_type": "markdown",
   "metadata": {},
   "source": [
    "> 시간을 초 단위로 변경"
   ]
  },
  {
   "cell_type": "code",
   "execution_count": 8,
   "metadata": {},
   "outputs": [
    {
     "name": "stdout",
     "output_type": "stream",
     "text": [
      "timetuple :  time.struct_time(tm_year=2020, tm_mon=3, tm_mday=24, tm_hour=0, tm_min=17, tm_sec=11, tm_wday=1, tm_yday=84, tm_isdst=-1)\n",
      "mktime :  1585009031.0\n"
     ]
    }
   ],
   "source": [
    "# timetuple, mktime 활용\n",
    "print(\"timetuple : \",train['Timestamp'].iloc[0].timetuple())\n",
    "print(\"mktime : \",time.mktime(train['Timestamp'].iloc[0].timetuple()))"
   ]
  },
  {
   "cell_type": "code",
   "execution_count": 9,
   "metadata": {},
   "outputs": [],
   "source": [
    "train['Timestamp'] = train['Timestamp'].apply(lambda x: int(time.mktime(x.timetuple())))\n",
    "test['Timestamp'] = test['Timestamp'].apply(lambda x: int(time.mktime(x.timetuple())))\n"
   ]
  },
  {
   "cell_type": "markdown",
   "metadata": {},
   "source": [
    "> 시간차 column 추가"
   ]
  },
  {
   "cell_type": "code",
   "execution_count": 10,
   "metadata": {},
   "outputs": [],
   "source": [
    "train['Timediff'] = train.groupby([\"userID\",\"testId\"])['Timestamp'].diff().fillna(0).astype(int)\n",
    "test['Timediff'] = test.groupby([\"userID\",\"testId\"])['Timestamp'].diff().fillna(0).astype(int)"
   ]
  },
  {
   "cell_type": "markdown",
   "metadata": {},
   "source": [
    "> 시험지별 풀기 시작한 지 얼마나 지났는지 column 추가"
   ]
  },
  {
   "cell_type": "code",
   "execution_count": 11,
   "metadata": {},
   "outputs": [],
   "source": [
    "train['Timepassed'] = train.groupby(['userID','testId'])['Timediff'].cumsum()\n",
    "test['Timepassed'] = test.groupby(['userID','testId'])['Timediff'].cumsum()"
   ]
  },
  {
   "cell_type": "markdown",
   "metadata": {},
   "source": [
    "> Timestamp drop"
   ]
  },
  {
   "cell_type": "code",
   "execution_count": 12,
   "metadata": {},
   "outputs": [],
   "source": [
    "train = train.drop(columns = 'Timestamp')\n",
    "test = test.drop(columns = 'Timestamp')"
   ]
  },
  {
   "cell_type": "code",
   "execution_count": 13,
   "metadata": {},
   "outputs": [],
   "source": [
    "def percentile(s):\n",
    "    return np.sum(s) / len(s)"
   ]
  },
  {
   "cell_type": "markdown",
   "metadata": {},
   "source": [
    "## train, test Head"
   ]
  },
  {
   "cell_type": "code",
   "execution_count": 14,
   "metadata": {},
   "outputs": [
    {
     "data": {
      "text/html": [
       "<div>\n",
       "<style scoped>\n",
       "    .dataframe tbody tr th:only-of-type {\n",
       "        vertical-align: middle;\n",
       "    }\n",
       "\n",
       "    .dataframe tbody tr th {\n",
       "        vertical-align: top;\n",
       "    }\n",
       "\n",
       "    .dataframe thead th {\n",
       "        text-align: right;\n",
       "    }\n",
       "</style>\n",
       "<table border=\"1\" class=\"dataframe\">\n",
       "  <thead>\n",
       "    <tr style=\"text-align: right;\">\n",
       "      <th></th>\n",
       "      <th>userID</th>\n",
       "      <th>assessmentItemID</th>\n",
       "      <th>testId</th>\n",
       "      <th>answerCode</th>\n",
       "      <th>KnowledgeTag</th>\n",
       "      <th>Timediff</th>\n",
       "      <th>Timepassed</th>\n",
       "    </tr>\n",
       "  </thead>\n",
       "  <tbody>\n",
       "    <tr>\n",
       "      <th>0</th>\n",
       "      <td>0</td>\n",
       "      <td>A060001001</td>\n",
       "      <td>A060000001</td>\n",
       "      <td>1</td>\n",
       "      <td>7224</td>\n",
       "      <td>0</td>\n",
       "      <td>0</td>\n",
       "    </tr>\n",
       "    <tr>\n",
       "      <th>1</th>\n",
       "      <td>0</td>\n",
       "      <td>A060001002</td>\n",
       "      <td>A060000001</td>\n",
       "      <td>1</td>\n",
       "      <td>7225</td>\n",
       "      <td>3</td>\n",
       "      <td>3</td>\n",
       "    </tr>\n",
       "    <tr>\n",
       "      <th>2</th>\n",
       "      <td>0</td>\n",
       "      <td>A060001003</td>\n",
       "      <td>A060000001</td>\n",
       "      <td>1</td>\n",
       "      <td>7225</td>\n",
       "      <td>8</td>\n",
       "      <td>11</td>\n",
       "    </tr>\n",
       "    <tr>\n",
       "      <th>3</th>\n",
       "      <td>0</td>\n",
       "      <td>A060001004</td>\n",
       "      <td>A060000001</td>\n",
       "      <td>1</td>\n",
       "      <td>7225</td>\n",
       "      <td>7</td>\n",
       "      <td>18</td>\n",
       "    </tr>\n",
       "    <tr>\n",
       "      <th>4</th>\n",
       "      <td>0</td>\n",
       "      <td>A060001005</td>\n",
       "      <td>A060000001</td>\n",
       "      <td>1</td>\n",
       "      <td>7225</td>\n",
       "      <td>7</td>\n",
       "      <td>25</td>\n",
       "    </tr>\n",
       "  </tbody>\n",
       "</table>\n",
       "</div>"
      ],
      "text/plain": [
       "   userID assessmentItemID      testId  answerCode  KnowledgeTag  Timediff  \\\n",
       "0       0       A060001001  A060000001           1          7224         0   \n",
       "1       0       A060001002  A060000001           1          7225         3   \n",
       "2       0       A060001003  A060000001           1          7225         8   \n",
       "3       0       A060001004  A060000001           1          7225         7   \n",
       "4       0       A060001005  A060000001           1          7225         7   \n",
       "\n",
       "   Timepassed  \n",
       "0           0  \n",
       "1           3  \n",
       "2          11  \n",
       "3          18  \n",
       "4          25  "
      ]
     },
     "execution_count": 14,
     "metadata": {},
     "output_type": "execute_result"
    }
   ],
   "source": [
    "train.head()"
   ]
  },
  {
   "cell_type": "code",
   "execution_count": 15,
   "metadata": {},
   "outputs": [
    {
     "data": {
      "text/html": [
       "<div>\n",
       "<style scoped>\n",
       "    .dataframe tbody tr th:only-of-type {\n",
       "        vertical-align: middle;\n",
       "    }\n",
       "\n",
       "    .dataframe tbody tr th {\n",
       "        vertical-align: top;\n",
       "    }\n",
       "\n",
       "    .dataframe thead th {\n",
       "        text-align: right;\n",
       "    }\n",
       "</style>\n",
       "<table border=\"1\" class=\"dataframe\">\n",
       "  <thead>\n",
       "    <tr style=\"text-align: right;\">\n",
       "      <th></th>\n",
       "      <th>userID</th>\n",
       "      <th>assessmentItemID</th>\n",
       "      <th>testId</th>\n",
       "      <th>answerCode</th>\n",
       "      <th>KnowledgeTag</th>\n",
       "      <th>Timediff</th>\n",
       "      <th>Timepassed</th>\n",
       "    </tr>\n",
       "  </thead>\n",
       "  <tbody>\n",
       "    <tr>\n",
       "      <th>0</th>\n",
       "      <td>3</td>\n",
       "      <td>A050023001</td>\n",
       "      <td>A050000023</td>\n",
       "      <td>1</td>\n",
       "      <td>2626</td>\n",
       "      <td>0</td>\n",
       "      <td>0</td>\n",
       "    </tr>\n",
       "    <tr>\n",
       "      <th>1</th>\n",
       "      <td>3</td>\n",
       "      <td>A050023002</td>\n",
       "      <td>A050000023</td>\n",
       "      <td>1</td>\n",
       "      <td>2626</td>\n",
       "      <td>26</td>\n",
       "      <td>26</td>\n",
       "    </tr>\n",
       "    <tr>\n",
       "      <th>2</th>\n",
       "      <td>3</td>\n",
       "      <td>A050023003</td>\n",
       "      <td>A050000023</td>\n",
       "      <td>0</td>\n",
       "      <td>2625</td>\n",
       "      <td>94</td>\n",
       "      <td>120</td>\n",
       "    </tr>\n",
       "    <tr>\n",
       "      <th>3</th>\n",
       "      <td>3</td>\n",
       "      <td>A050023004</td>\n",
       "      <td>A050000023</td>\n",
       "      <td>0</td>\n",
       "      <td>2625</td>\n",
       "      <td>5</td>\n",
       "      <td>125</td>\n",
       "    </tr>\n",
       "    <tr>\n",
       "      <th>4</th>\n",
       "      <td>3</td>\n",
       "      <td>A050023006</td>\n",
       "      <td>A050000023</td>\n",
       "      <td>0</td>\n",
       "      <td>2623</td>\n",
       "      <td>7</td>\n",
       "      <td>132</td>\n",
       "    </tr>\n",
       "  </tbody>\n",
       "</table>\n",
       "</div>"
      ],
      "text/plain": [
       "   userID assessmentItemID      testId  answerCode  KnowledgeTag  Timediff  \\\n",
       "0       3       A050023001  A050000023           1          2626         0   \n",
       "1       3       A050023002  A050000023           1          2626        26   \n",
       "2       3       A050023003  A050000023           0          2625        94   \n",
       "3       3       A050023004  A050000023           0          2625         5   \n",
       "4       3       A050023006  A050000023           0          2623         7   \n",
       "\n",
       "   Timepassed  \n",
       "0           0  \n",
       "1          26  \n",
       "2         120  \n",
       "3         125  \n",
       "4         132  "
      ]
     },
     "execution_count": 15,
     "metadata": {},
     "output_type": "execute_result"
    }
   ],
   "source": [
    "test.head()"
   ]
  },
  {
   "cell_type": "markdown",
   "metadata": {},
   "source": [
    "## feature 개수"
   ]
  },
  {
   "cell_type": "markdown",
   "metadata": {},
   "source": [
    "> train 과 test의 시험지와 문제와 tag는 같다, user는 겹치지 않음"
   ]
  },
  {
   "cell_type": "code",
   "execution_count": 42,
   "metadata": {},
   "outputs": [
    {
     "name": "stdout",
     "output_type": "stream",
     "text": [
      "num of rows :  2266586\n",
      "userID's nunique :  6698\n",
      "assessmentItemID's nunique :  9454\n",
      "testId's nunique :  1537\n",
      "KnowledgeTag's nunique :  912\n"
     ]
    }
   ],
   "source": [
    "idx = [0,1,2,4]\n",
    "print(\"num of rows : \",train.shape[0])\n",
    "for col in train.columns[idx]:\n",
    "    print(f\"{col}'s nunique : \",train[f\"{col}\"].nunique())"
   ]
  },
  {
   "cell_type": "code",
   "execution_count": 17,
   "metadata": {},
   "outputs": [
    {
     "name": "stdout",
     "output_type": "stream",
     "text": [
      "num of rows :  260114\n",
      "userID's nunique :  744\n",
      "assessmentItemID's nunique :  9454\n",
      "testId's nunique :  1537\n",
      "KnowledgeTag's nunique :  912\n"
     ]
    }
   ],
   "source": [
    "print(\"num of rows : \",test.shape[0])\n",
    "for col in test.columns[idx]:\n",
    "    print(f\"{col}'s nunique : \",test[f\"{col}\"].nunique())"
   ]
  },
  {
   "cell_type": "code",
   "execution_count": 18,
   "metadata": {},
   "outputs": [
    {
     "name": "stdout",
     "output_type": "stream",
     "text": [
      "userID's compare train, test  :  6698\n",
      "assessmentItemID's compare train, test  :  0\n",
      "testId's compare train, test  :  0\n",
      "KnowledgeTag's compare train, test  :  0\n"
     ]
    }
   ],
   "source": [
    "for col in train.columns[idx]:\n",
    "    print(f\"{col}'s compare train, test  : \",len(set(train[f\"{col}\"].unique()) - set(test[f\"{col}\"].unique())))"
   ]
  },
  {
   "cell_type": "code",
   "execution_count": 19,
   "metadata": {},
   "outputs": [
    {
     "name": "stdout",
     "output_type": "stream",
     "text": [
      "train data null :  0\n",
      "test data null :  0\n"
     ]
    }
   ],
   "source": [
    "print(\"train data null : \",train.isnull().sum().sum())\n",
    "print(\"test data null : \",test.isnull().sum().sum())"
   ]
  },
  {
   "cell_type": "markdown",
   "metadata": {},
   "source": [
    "## 정답 오답 개수"
   ]
  },
  {
   "cell_type": "markdown",
   "metadata": {},
   "source": [
    "\n",
    "> train : 정답이 약 2배가량 많음"
   ]
  },
  {
   "cell_type": "code",
   "execution_count": 20,
   "metadata": {},
   "outputs": [
    {
     "name": "stdout",
     "output_type": "stream",
     "text": [
      "answer count :  1483205\n",
      "answer rate :  0.654378435232548\n",
      "wrong answer count :  783381\n",
      "wrong answer rate :  0.34562156476745204\n"
     ]
    }
   ],
   "source": [
    "answer_count = train['answerCode'].value_counts()\n",
    "print(\"answer count : \",answer_count[1])\n",
    "print(\"answer rate : \",answer_count[1]/answer_count.sum())\n",
    "print(\"wrong answer count : \",answer_count[0])\n",
    "print(\"wrong answer rate : \", answer_count[0]/answer_count.sum())"
   ]
  },
  {
   "cell_type": "markdown",
   "metadata": {},
   "source": [
    "> test : train과 비슷함"
   ]
  },
  {
   "cell_type": "code",
   "execution_count": 21,
   "metadata": {},
   "outputs": [
    {
     "name": "stdout",
     "output_type": "stream",
     "text": [
      "answer count :  170383\n",
      "answer rate :  0.6569109765971393\n",
      "wrong answer count :  88987\n",
      "wrong answer rate :  0.3430890234028608\n"
     ]
    }
   ],
   "source": [
    "answer_count = test['answerCode'].value_counts()\n",
    "print(\"answer count : \",answer_count[1])\n",
    "print(\"answer rate : \",answer_count[1]/answer_count.iloc[0:2].sum())\n",
    "print(\"wrong answer count : \",answer_count[0])\n",
    "print(\"wrong answer rate : \", answer_count[0]/answer_count.iloc[0:2].sum())"
   ]
  },
  {
   "cell_type": "markdown",
   "metadata": {},
   "source": [
    "## feature 별 분포"
   ]
  },
  {
   "cell_type": "markdown",
   "metadata": {},
   "source": [
    "### UserID"
   ]
  },
  {
   "cell_type": "code",
   "execution_count": 22,
   "metadata": {},
   "outputs": [],
   "source": [
    "user_group_train = train.groupby('userID')\n",
    "user_group_test = test.groupby('userID')"
   ]
  },
  {
   "cell_type": "code",
   "execution_count": 23,
   "metadata": {},
   "outputs": [],
   "source": [
    "def draw_group(group,col : str) -> None:\n",
    "    fig,ax = plt.subplots()\n",
    "    groupby = (set(train.columns) - set(group.count().columns)).pop()\n",
    "\n",
    "    group[col].count().hist(bins = 20,ax =ax)\n",
    "    \n",
    "    ax.set_title(groupby + \" | count\")\n",
    "    ax.set_xlabel(\"by \" + groupby)\n",
    "    ax.set_ylabel(\"Count\")\n",
    "    ax.set_label(\"median\")\n",
    "\n",
    "    ax.axvline(group[col].count().median(),label = \"Median\",color = 'tomato')\n",
    "    ax.axvline(group[col].count().mean(),label = \"Mean\",color = 'orange')\n",
    "    ax.legend(\n",
    "        title = \"Describe\"\n",
    "    )\n",
    "    plt.show()"
   ]
  },
  {
   "cell_type": "code",
   "execution_count": 24,
   "metadata": {},
   "outputs": [
    {
     "data": {
      "image/png": "[encoded data removed]",
      "text/plain": [
       "<Figure size 640x480 with 1 Axes>"
      ]
     },
     "metadata": {},
     "output_type": "display_data"
    }
   ],
   "source": [
    "draw_group(user_group_train,\"assessmentItemID\")"
   ]
  },
  {
   "cell_type": "code",
   "execution_count": 25,
   "metadata": {},
   "outputs": [
    {
     "data": {
      "image/png": "[encoded data removed]",
      "text/plain": [
       "<Figure size 640x480 with 1 Axes>"
      ]
     },
     "metadata": {},
     "output_type": "display_data"
    }
   ],
   "source": [
    "draw_group(user_group_test,\"assessmentItemID\")"
   ]
  },
  {
   "cell_type": "markdown",
   "metadata": {},
   "source": [
    "### assessmentItemID"
   ]
  },
  {
   "cell_type": "markdown",
   "metadata": {},
   "source": [
    "> 한 사람이 문제를 여러번 푼 경우"
   ]
  },
  {
   "cell_type": "code",
   "execution_count": 43,
   "metadata": {},
   "outputs": [],
   "source": [
    "user_assessment_group = test.groupby('userID').agg({\"assessmentItemID\":(lambda x:x)})\n",
    "user_assessment_group = user_assessment_group.reset_index()\n"
   ]
  },
  {
   "cell_type": "code",
   "execution_count": 57,
   "metadata": {},
   "outputs": [
    {
     "data": {
      "text/html": [
       "<div>\n",
       "<style scoped>\n",
       "    .dataframe tbody tr th:only-of-type {\n",
       "        vertical-align: middle;\n",
       "    }\n",
       "\n",
       "    .dataframe tbody tr th {\n",
       "        vertical-align: top;\n",
       "    }\n",
       "\n",
       "    .dataframe thead th {\n",
       "        text-align: right;\n",
       "    }\n",
       "</style>\n",
       "<table border=\"1\" class=\"dataframe\">\n",
       "  <thead>\n",
       "    <tr style=\"text-align: right;\">\n",
       "      <th></th>\n",
       "      <th>userID</th>\n",
       "      <th>assessmentItemID</th>\n",
       "    </tr>\n",
       "  </thead>\n",
       "  <tbody>\n",
       "    <tr>\n",
       "      <th>0</th>\n",
       "      <td>0</td>\n",
       "      <td>[A060001001, A060001002, A060001003, A06000100...</td>\n",
       "    </tr>\n",
       "    <tr>\n",
       "      <th>1</th>\n",
       "      <td>1</td>\n",
       "      <td>[A040013001, A040013002, A040013003, A04001300...</td>\n",
       "    </tr>\n",
       "    <tr>\n",
       "      <th>2</th>\n",
       "      <td>2</td>\n",
       "      <td>[A030050001, A030050002, A030050003, A03005000...</td>\n",
       "    </tr>\n",
       "    <tr>\n",
       "      <th>3</th>\n",
       "      <td>5</td>\n",
       "      <td>[A080001001, A080001002, A080001003, A08000100...</td>\n",
       "    </tr>\n",
       "    <tr>\n",
       "      <th>4</th>\n",
       "      <td>6</td>\n",
       "      <td>[A030016001, A030016002, A030016003, A03001600...</td>\n",
       "    </tr>\n",
       "    <tr>\n",
       "      <th>...</th>\n",
       "      <td>...</td>\n",
       "      <td>...</td>\n",
       "    </tr>\n",
       "    <tr>\n",
       "      <th>6693</th>\n",
       "      <td>7436</td>\n",
       "      <td>[A050095001, A050095002, A050095003, A05009500...</td>\n",
       "    </tr>\n",
       "    <tr>\n",
       "      <th>6694</th>\n",
       "      <td>7437</td>\n",
       "      <td>[A040072001, A040072002, A040072003, A04007200...</td>\n",
       "    </tr>\n",
       "    <tr>\n",
       "      <th>6695</th>\n",
       "      <td>7438</td>\n",
       "      <td>[A080002001, A080002002, A080002003, A08000200...</td>\n",
       "    </tr>\n",
       "    <tr>\n",
       "      <th>6696</th>\n",
       "      <td>7440</td>\n",
       "      <td>[A050096001, A050096002, A050096005, A05009600...</td>\n",
       "    </tr>\n",
       "    <tr>\n",
       "      <th>6697</th>\n",
       "      <td>7441</td>\n",
       "      <td>[A030071001, A030071002, A030071003, A03007100...</td>\n",
       "    </tr>\n",
       "  </tbody>\n",
       "</table>\n",
       "<p>6698 rows × 2 columns</p>\n",
       "</div>"
      ],
      "text/plain": [
       "      userID                                   assessmentItemID\n",
       "0          0  [A060001001, A060001002, A060001003, A06000100...\n",
       "1          1  [A040013001, A040013002, A040013003, A04001300...\n",
       "2          2  [A030050001, A030050002, A030050003, A03005000...\n",
       "3          5  [A080001001, A080001002, A080001003, A08000100...\n",
       "4          6  [A030016001, A030016002, A030016003, A03001600...\n",
       "...      ...                                                ...\n",
       "6693    7436  [A050095001, A050095002, A050095003, A05009500...\n",
       "6694    7437  [A040072001, A040072002, A040072003, A04007200...\n",
       "6695    7438  [A080002001, A080002002, A080002003, A08000200...\n",
       "6696    7440  [A050096001, A050096002, A050096005, A05009600...\n",
       "6697    7441  [A030071001, A030071002, A030071003, A03007100...\n",
       "\n",
       "[6698 rows x 2 columns]"
      ]
     },
     "execution_count": 57,
     "metadata": {},
     "output_type": "execute_result"
    }
   ],
   "source": [
    "user_assessment_group"
   ]
  },
  {
   "cell_type": "code",
   "execution_count": 58,
   "metadata": {},
   "outputs": [],
   "source": [
    "user_assessment_group = train.groupby('userID').agg({\"assessmentItemID\":(lambda x:x)})"
   ]
  },
  {
   "cell_type": "code",
   "execution_count": 59,
   "metadata": {},
   "outputs": [],
   "source": [
    "user_assessment_group = user_assessment_group.reset_index()"
   ]
  },
  {
   "cell_type": "code",
   "execution_count": 60,
   "metadata": {},
   "outputs": [],
   "source": [
    "duplicated_dic = {}\n",
    "for i in range(6698):\n",
    "    duplicated_dic[user_assessment_group.loc[i,'userID']] = pd.Series(user_assessment_group.loc[i,\"assessmentItemID\"]).duplicated().sum()"
   ]
  },
  {
   "cell_type": "code",
   "execution_count": 61,
   "metadata": {},
   "outputs": [],
   "source": [
    "duplicated_dic\n",
    "data = pd.DataFrame({'userID' : duplicated_dic.keys(),'duplicated' : duplicated_dic.values()})"
   ]
  },
  {
   "cell_type": "code",
   "execution_count": 62,
   "metadata": {},
   "outputs": [
    {
     "data": {
      "text/html": [
       "<div>\n",
       "<style scoped>\n",
       "    .dataframe tbody tr th:only-of-type {\n",
       "        vertical-align: middle;\n",
       "    }\n",
       "\n",
       "    .dataframe tbody tr th {\n",
       "        vertical-align: top;\n",
       "    }\n",
       "\n",
       "    .dataframe thead th {\n",
       "        text-align: right;\n",
       "    }\n",
       "</style>\n",
       "<table border=\"1\" class=\"dataframe\">\n",
       "  <thead>\n",
       "    <tr style=\"text-align: right;\">\n",
       "      <th></th>\n",
       "      <th>userID</th>\n",
       "      <th>duplicated</th>\n",
       "    </tr>\n",
       "  </thead>\n",
       "  <tbody>\n",
       "    <tr>\n",
       "      <th>1</th>\n",
       "      <td>1</td>\n",
       "      <td>54</td>\n",
       "    </tr>\n",
       "    <tr>\n",
       "      <th>4</th>\n",
       "      <td>6</td>\n",
       "      <td>34</td>\n",
       "    </tr>\n",
       "    <tr>\n",
       "      <th>13</th>\n",
       "      <td>16</td>\n",
       "      <td>125</td>\n",
       "    </tr>\n",
       "    <tr>\n",
       "      <th>28</th>\n",
       "      <td>34</td>\n",
       "      <td>224</td>\n",
       "    </tr>\n",
       "    <tr>\n",
       "      <th>34</th>\n",
       "      <td>40</td>\n",
       "      <td>62</td>\n",
       "    </tr>\n",
       "    <tr>\n",
       "      <th>...</th>\n",
       "      <td>...</td>\n",
       "      <td>...</td>\n",
       "    </tr>\n",
       "    <tr>\n",
       "      <th>6024</th>\n",
       "      <td>6690</td>\n",
       "      <td>5</td>\n",
       "    </tr>\n",
       "    <tr>\n",
       "      <th>6031</th>\n",
       "      <td>6698</td>\n",
       "      <td>14</td>\n",
       "    </tr>\n",
       "    <tr>\n",
       "      <th>6181</th>\n",
       "      <td>6858</td>\n",
       "      <td>10</td>\n",
       "    </tr>\n",
       "    <tr>\n",
       "      <th>6291</th>\n",
       "      <td>6977</td>\n",
       "      <td>5</td>\n",
       "    </tr>\n",
       "    <tr>\n",
       "      <th>6598</th>\n",
       "      <td>7329</td>\n",
       "      <td>4</td>\n",
       "    </tr>\n",
       "  </tbody>\n",
       "</table>\n",
       "<p>699 rows × 2 columns</p>\n",
       "</div>"
      ],
      "text/plain": [
       "      userID  duplicated\n",
       "1          1          54\n",
       "4          6          34\n",
       "13        16         125\n",
       "28        34         224\n",
       "34        40          62\n",
       "...      ...         ...\n",
       "6024    6690           5\n",
       "6031    6698          14\n",
       "6181    6858          10\n",
       "6291    6977           5\n",
       "6598    7329           4\n",
       "\n",
       "[699 rows x 2 columns]"
      ]
     },
     "execution_count": 62,
     "metadata": {},
     "output_type": "execute_result"
    }
   ],
   "source": [
    "data[data['duplicated']>0]"
   ]
  },
  {
   "cell_type": "code",
   "execution_count": 63,
   "metadata": {},
   "outputs": [
    {
     "data": {
      "text/plain": [
       "45953"
      ]
     },
     "execution_count": 63,
     "metadata": {},
     "output_type": "execute_result"
    }
   ],
   "source": [
    "data['duplicated'].sum()"
   ]
  },
  {
   "cell_type": "markdown",
   "metadata": {},
   "source": [
    "> 한 문제당 푼 횟수 분포"
   ]
  },
  {
   "cell_type": "code",
   "execution_count": 31,
   "metadata": {},
   "outputs": [],
   "source": [
    "assessment_group_train = train.groupby('assessmentItemID')\n",
    "assessment_group_test = test.groupby('assessmentItemID')"
   ]
  },
  {
   "cell_type": "code",
   "execution_count": 32,
   "metadata": {},
   "outputs": [
    {
     "name": "stdout",
     "output_type": "stream",
     "text": [
      "문제당 최대 유저 수 :  454\n",
      "문제당 최소 유저 수 :  43\n"
     ]
    }
   ],
   "source": [
    "print(\"문제당 최대 유저 수 : \",assessment_group_train[\"userID\"].count().max())\n",
    "print(\"문제당 최소 유저 수 : \",assessment_group_train[\"userID\"].count().min())\n"
   ]
  },
  {
   "cell_type": "code",
   "execution_count": 33,
   "metadata": {},
   "outputs": [
    {
     "data": {
      "image/png": "[encoded data removed]",
      "text/plain": [
       "<Figure size 640x480 with 1 Axes>"
      ]
     },
     "metadata": {},
     "output_type": "display_data"
    }
   ],
   "source": [
    "draw_group(assessment_group_train,\"userID\")"
   ]
  },
  {
   "cell_type": "code",
   "execution_count": 34,
   "metadata": {},
   "outputs": [
    {
     "data": {
      "image/png": "[encoded data removed]",
      "text/plain": [
       "<Figure size 640x480 with 1 Axes>"
      ]
     },
     "metadata": {},
     "output_type": "display_data"
    }
   ],
   "source": [
    "draw_group(assessment_group_test,\"userID\")"
   ]
  },
  {
   "cell_type": "markdown",
   "metadata": {},
   "source": [
    "## TestID"
   ]
  },
  {
   "cell_type": "code",
   "execution_count": null,
   "metadata": {},
   "outputs": [],
   "source": []
  },
  {
   "cell_type": "markdown",
   "metadata": {},
   "source": [
    "## Timepassed"
   ]
  },
  {
   "cell_type": "code",
   "execution_count": 35,
   "metadata": {},
   "outputs": [
    {
     "data": {
      "text/html": [
       "<div>\n",
       "<style scoped>\n",
       "    .dataframe tbody tr th:only-of-type {\n",
       "        vertical-align: middle;\n",
       "    }\n",
       "\n",
       "    .dataframe tbody tr th {\n",
       "        vertical-align: top;\n",
       "    }\n",
       "\n",
       "    .dataframe thead th {\n",
       "        text-align: right;\n",
       "    }\n",
       "</style>\n",
       "<table border=\"1\" class=\"dataframe\">\n",
       "  <thead>\n",
       "    <tr style=\"text-align: right;\">\n",
       "      <th></th>\n",
       "      <th>answerCode</th>\n",
       "      <th>userID</th>\n",
       "    </tr>\n",
       "    <tr>\n",
       "      <th>Timepassed</th>\n",
       "      <th></th>\n",
       "      <th></th>\n",
       "    </tr>\n",
       "  </thead>\n",
       "  <tbody>\n",
       "    <tr>\n",
       "      <th>0</th>\n",
       "      <td>0.750662</td>\n",
       "      <td>365620</td>\n",
       "    </tr>\n",
       "    <tr>\n",
       "      <th>1</th>\n",
       "      <td>0.228117</td>\n",
       "      <td>7483</td>\n",
       "    </tr>\n",
       "    <tr>\n",
       "      <th>2</th>\n",
       "      <td>0.224625</td>\n",
       "      <td>17803</td>\n",
       "    </tr>\n",
       "    <tr>\n",
       "      <th>3</th>\n",
       "      <td>0.226958</td>\n",
       "      <td>17501</td>\n",
       "    </tr>\n",
       "    <tr>\n",
       "      <th>4</th>\n",
       "      <td>0.266208</td>\n",
       "      <td>18185</td>\n",
       "    </tr>\n",
       "    <tr>\n",
       "      <th>...</th>\n",
       "      <td>...</td>\n",
       "      <td>...</td>\n",
       "    </tr>\n",
       "    <tr>\n",
       "      <th>28696496</th>\n",
       "      <td>1.000000</td>\n",
       "      <td>1</td>\n",
       "    </tr>\n",
       "    <tr>\n",
       "      <th>28696535</th>\n",
       "      <td>1.000000</td>\n",
       "      <td>1</td>\n",
       "    </tr>\n",
       "    <tr>\n",
       "      <th>28696570</th>\n",
       "      <td>0.000000</td>\n",
       "      <td>1</td>\n",
       "    </tr>\n",
       "    <tr>\n",
       "      <th>28696674</th>\n",
       "      <td>1.000000</td>\n",
       "      <td>1</td>\n",
       "    </tr>\n",
       "    <tr>\n",
       "      <th>28696677</th>\n",
       "      <td>0.000000</td>\n",
       "      <td>1</td>\n",
       "    </tr>\n",
       "  </tbody>\n",
       "</table>\n",
       "<p>63454 rows × 2 columns</p>\n",
       "</div>"
      ],
      "text/plain": [
       "            answerCode  userID\n",
       "Timepassed                    \n",
       "0             0.750662  365620\n",
       "1             0.228117    7483\n",
       "2             0.224625   17803\n",
       "3             0.226958   17501\n",
       "4             0.266208   18185\n",
       "...                ...     ...\n",
       "28696496      1.000000       1\n",
       "28696535      1.000000       1\n",
       "28696570      0.000000       1\n",
       "28696674      1.000000       1\n",
       "28696677      0.000000       1\n",
       "\n",
       "[63454 rows x 2 columns]"
      ]
     },
     "execution_count": 35,
     "metadata": {},
     "output_type": "execute_result"
    }
   ],
   "source": [
    "train.groupby(\"Timepassed\").agg({\"answerCode\" : percentile, \"userID\":'count'})"
   ]
  },
  {
   "cell_type": "code",
   "execution_count": 36,
   "metadata": {},
   "outputs": [
    {
     "data": {
      "text/html": [
       "<div>\n",
       "<style scoped>\n",
       "    .dataframe tbody tr th:only-of-type {\n",
       "        vertical-align: middle;\n",
       "    }\n",
       "\n",
       "    .dataframe tbody tr th {\n",
       "        vertical-align: top;\n",
       "    }\n",
       "\n",
       "    .dataframe thead th {\n",
       "        text-align: right;\n",
       "    }\n",
       "</style>\n",
       "<table border=\"1\" class=\"dataframe\">\n",
       "  <thead>\n",
       "    <tr style=\"text-align: right;\">\n",
       "      <th></th>\n",
       "      <th>Timepassed</th>\n",
       "      <th>answerCode</th>\n",
       "      <th>userID</th>\n",
       "    </tr>\n",
       "  </thead>\n",
       "  <tbody>\n",
       "    <tr>\n",
       "      <th>0</th>\n",
       "      <td>0</td>\n",
       "      <td>0.750662</td>\n",
       "      <td>365620</td>\n",
       "    </tr>\n",
       "    <tr>\n",
       "      <th>1</th>\n",
       "      <td>1</td>\n",
       "      <td>0.228117</td>\n",
       "      <td>7483</td>\n",
       "    </tr>\n",
       "    <tr>\n",
       "      <th>2</th>\n",
       "      <td>2</td>\n",
       "      <td>0.224625</td>\n",
       "      <td>17803</td>\n",
       "    </tr>\n",
       "    <tr>\n",
       "      <th>3</th>\n",
       "      <td>3</td>\n",
       "      <td>0.226958</td>\n",
       "      <td>17501</td>\n",
       "    </tr>\n",
       "    <tr>\n",
       "      <th>4</th>\n",
       "      <td>4</td>\n",
       "      <td>0.266208</td>\n",
       "      <td>18185</td>\n",
       "    </tr>\n",
       "    <tr>\n",
       "      <th>...</th>\n",
       "      <td>...</td>\n",
       "      <td>...</td>\n",
       "      <td>...</td>\n",
       "    </tr>\n",
       "    <tr>\n",
       "      <th>63449</th>\n",
       "      <td>28696496</td>\n",
       "      <td>1.000000</td>\n",
       "      <td>1</td>\n",
       "    </tr>\n",
       "    <tr>\n",
       "      <th>63450</th>\n",
       "      <td>28696535</td>\n",
       "      <td>1.000000</td>\n",
       "      <td>1</td>\n",
       "    </tr>\n",
       "    <tr>\n",
       "      <th>63451</th>\n",
       "      <td>28696570</td>\n",
       "      <td>0.000000</td>\n",
       "      <td>1</td>\n",
       "    </tr>\n",
       "    <tr>\n",
       "      <th>63452</th>\n",
       "      <td>28696674</td>\n",
       "      <td>1.000000</td>\n",
       "      <td>1</td>\n",
       "    </tr>\n",
       "    <tr>\n",
       "      <th>63453</th>\n",
       "      <td>28696677</td>\n",
       "      <td>0.000000</td>\n",
       "      <td>1</td>\n",
       "    </tr>\n",
       "  </tbody>\n",
       "</table>\n",
       "<p>63454 rows × 3 columns</p>\n",
       "</div>"
      ],
      "text/plain": [
       "       Timepassed  answerCode  userID\n",
       "0               0    0.750662  365620\n",
       "1               1    0.228117    7483\n",
       "2               2    0.224625   17803\n",
       "3               3    0.226958   17501\n",
       "4               4    0.266208   18185\n",
       "...           ...         ...     ...\n",
       "63449    28696496    1.000000       1\n",
       "63450    28696535    1.000000       1\n",
       "63451    28696570    0.000000       1\n",
       "63452    28696674    1.000000       1\n",
       "63453    28696677    0.000000       1\n",
       "\n",
       "[63454 rows x 3 columns]"
      ]
     },
     "execution_count": 36,
     "metadata": {},
     "output_type": "execute_result"
    }
   ],
   "source": [
    "train.groupby(\"Timepassed\").agg({\"answerCode\" : percentile, \"userID\":'count'}).reset_index()"
   ]
  },
  {
   "cell_type": "code",
   "execution_count": 37,
   "metadata": {},
   "outputs": [
    {
     "data": {
      "text/html": [
       "<div>\n",
       "<style scoped>\n",
       "    .dataframe tbody tr th:only-of-type {\n",
       "        vertical-align: middle;\n",
       "    }\n",
       "\n",
       "    .dataframe tbody tr th {\n",
       "        vertical-align: top;\n",
       "    }\n",
       "\n",
       "    .dataframe thead th {\n",
       "        text-align: right;\n",
       "    }\n",
       "</style>\n",
       "<table border=\"1\" class=\"dataframe\">\n",
       "  <thead>\n",
       "    <tr style=\"text-align: right;\">\n",
       "      <th></th>\n",
       "      <th>userID</th>\n",
       "      <th>assessmentItemID</th>\n",
       "      <th>testId</th>\n",
       "      <th>answerCode</th>\n",
       "      <th>KnowledgeTag</th>\n",
       "      <th>Timediff</th>\n",
       "      <th>Timepassed</th>\n",
       "    </tr>\n",
       "  </thead>\n",
       "  <tbody>\n",
       "    <tr>\n",
       "      <th>801</th>\n",
       "      <td>1</td>\n",
       "      <td>A040049004</td>\n",
       "      <td>A040000049</td>\n",
       "      <td>0</td>\n",
       "      <td>2071</td>\n",
       "      <td>7905</td>\n",
       "      <td>12390</td>\n",
       "    </tr>\n",
       "    <tr>\n",
       "      <th>802</th>\n",
       "      <td>1</td>\n",
       "      <td>A040049005</td>\n",
       "      <td>A040000049</td>\n",
       "      <td>0</td>\n",
       "      <td>2071</td>\n",
       "      <td>3</td>\n",
       "      <td>12393</td>\n",
       "    </tr>\n",
       "    <tr>\n",
       "      <th>1122</th>\n",
       "      <td>1</td>\n",
       "      <td>A040050005</td>\n",
       "      <td>A040000050</td>\n",
       "      <td>1</td>\n",
       "      <td>2071</td>\n",
       "      <td>372</td>\n",
       "      <td>10258</td>\n",
       "    </tr>\n",
       "    <tr>\n",
       "      <th>1397</th>\n",
       "      <td>1</td>\n",
       "      <td>A040155001</td>\n",
       "      <td>A040000155</td>\n",
       "      <td>1</td>\n",
       "      <td>2111</td>\n",
       "      <td>4877683</td>\n",
       "      <td>4877953</td>\n",
       "    </tr>\n",
       "    <tr>\n",
       "      <th>1398</th>\n",
       "      <td>1</td>\n",
       "      <td>A040155002</td>\n",
       "      <td>A040000155</td>\n",
       "      <td>1</td>\n",
       "      <td>2111</td>\n",
       "      <td>39</td>\n",
       "      <td>4877992</td>\n",
       "    </tr>\n",
       "    <tr>\n",
       "      <th>...</th>\n",
       "      <td>...</td>\n",
       "      <td>...</td>\n",
       "      <td>...</td>\n",
       "      <td>...</td>\n",
       "      <td>...</td>\n",
       "      <td>...</td>\n",
       "      <td>...</td>\n",
       "    </tr>\n",
       "    <tr>\n",
       "      <th>2264829</th>\n",
       "      <td>7328</td>\n",
       "      <td>A050086007</td>\n",
       "      <td>A050000086</td>\n",
       "      <td>0</td>\n",
       "      <td>10332</td>\n",
       "      <td>12</td>\n",
       "      <td>10886</td>\n",
       "    </tr>\n",
       "    <tr>\n",
       "      <th>2264863</th>\n",
       "      <td>7329</td>\n",
       "      <td>A040198001</td>\n",
       "      <td>A040000198</td>\n",
       "      <td>1</td>\n",
       "      <td>2133</td>\n",
       "      <td>24535065</td>\n",
       "      <td>24535088</td>\n",
       "    </tr>\n",
       "    <tr>\n",
       "      <th>2264864</th>\n",
       "      <td>7329</td>\n",
       "      <td>A040198002</td>\n",
       "      <td>A040000198</td>\n",
       "      <td>1</td>\n",
       "      <td>2133</td>\n",
       "      <td>4</td>\n",
       "      <td>24535092</td>\n",
       "    </tr>\n",
       "    <tr>\n",
       "      <th>2264865</th>\n",
       "      <td>7329</td>\n",
       "      <td>A040198003</td>\n",
       "      <td>A040000198</td>\n",
       "      <td>1</td>\n",
       "      <td>2133</td>\n",
       "      <td>9</td>\n",
       "      <td>24535101</td>\n",
       "    </tr>\n",
       "    <tr>\n",
       "      <th>2264866</th>\n",
       "      <td>7329</td>\n",
       "      <td>A040198004</td>\n",
       "      <td>A040000198</td>\n",
       "      <td>1</td>\n",
       "      <td>2133</td>\n",
       "      <td>6</td>\n",
       "      <td>24535107</td>\n",
       "    </tr>\n",
       "  </tbody>\n",
       "</table>\n",
       "<p>56314 rows × 7 columns</p>\n",
       "</div>"
      ],
      "text/plain": [
       "         userID assessmentItemID      testId  answerCode  KnowledgeTag  \\\n",
       "801           1       A040049004  A040000049           0          2071   \n",
       "802           1       A040049005  A040000049           0          2071   \n",
       "1122          1       A040050005  A040000050           1          2071   \n",
       "1397          1       A040155001  A040000155           1          2111   \n",
       "1398          1       A040155002  A040000155           1          2111   \n",
       "...         ...              ...         ...         ...           ...   \n",
       "2264829    7328       A050086007  A050000086           0         10332   \n",
       "2264863    7329       A040198001  A040000198           1          2133   \n",
       "2264864    7329       A040198002  A040000198           1          2133   \n",
       "2264865    7329       A040198003  A040000198           1          2133   \n",
       "2264866    7329       A040198004  A040000198           1          2133   \n",
       "\n",
       "         Timediff  Timepassed  \n",
       "801          7905       12390  \n",
       "802             3       12393  \n",
       "1122          372       10258  \n",
       "1397      4877683     4877953  \n",
       "1398           39     4877992  \n",
       "...           ...         ...  \n",
       "2264829        12       10886  \n",
       "2264863  24535065    24535088  \n",
       "2264864         4    24535092  \n",
       "2264865         9    24535101  \n",
       "2264866         6    24535107  \n",
       "\n",
       "[56314 rows x 7 columns]"
      ]
     },
     "execution_count": 37,
     "metadata": {},
     "output_type": "execute_result"
    }
   ],
   "source": [
    "train[train[\"Timepassed\"]>10000]"
   ]
  },
  {
   "cell_type": "code",
   "execution_count": 38,
   "metadata": {},
   "outputs": [
    {
     "data": {
      "text/html": [
       "<div>\n",
       "<style scoped>\n",
       "    .dataframe tbody tr th:only-of-type {\n",
       "        vertical-align: middle;\n",
       "    }\n",
       "\n",
       "    .dataframe tbody tr th {\n",
       "        vertical-align: top;\n",
       "    }\n",
       "\n",
       "    .dataframe thead th {\n",
       "        text-align: right;\n",
       "    }\n",
       "</style>\n",
       "<table border=\"1\" class=\"dataframe\">\n",
       "  <thead>\n",
       "    <tr style=\"text-align: right;\">\n",
       "      <th></th>\n",
       "      <th>userID</th>\n",
       "      <th>assessmentItemID</th>\n",
       "      <th>testId</th>\n",
       "      <th>answerCode</th>\n",
       "      <th>KnowledgeTag</th>\n",
       "      <th>Timediff</th>\n",
       "      <th>Timepassed</th>\n",
       "    </tr>\n",
       "  </thead>\n",
       "  <tbody>\n",
       "    <tr>\n",
       "      <th>2247991</th>\n",
       "      <td>6695</td>\n",
       "      <td>A040198001</td>\n",
       "      <td>A040000198</td>\n",
       "      <td>1</td>\n",
       "      <td>2133</td>\n",
       "      <td>0</td>\n",
       "      <td>0</td>\n",
       "    </tr>\n",
       "    <tr>\n",
       "      <th>2247992</th>\n",
       "      <td>6695</td>\n",
       "      <td>A040198002</td>\n",
       "      <td>A040000198</td>\n",
       "      <td>1</td>\n",
       "      <td>2133</td>\n",
       "      <td>4</td>\n",
       "      <td>4</td>\n",
       "    </tr>\n",
       "    <tr>\n",
       "      <th>2247993</th>\n",
       "      <td>6695</td>\n",
       "      <td>A040198003</td>\n",
       "      <td>A040000198</td>\n",
       "      <td>0</td>\n",
       "      <td>2133</td>\n",
       "      <td>29</td>\n",
       "      <td>33</td>\n",
       "    </tr>\n",
       "    <tr>\n",
       "      <th>2247994</th>\n",
       "      <td>6695</td>\n",
       "      <td>A040198004</td>\n",
       "      <td>A040000198</td>\n",
       "      <td>1</td>\n",
       "      <td>2133</td>\n",
       "      <td>12</td>\n",
       "      <td>45</td>\n",
       "    </tr>\n",
       "    <tr>\n",
       "      <th>2256517</th>\n",
       "      <td>6939</td>\n",
       "      <td>A040198001</td>\n",
       "      <td>A040000198</td>\n",
       "      <td>1</td>\n",
       "      <td>2133</td>\n",
       "      <td>0</td>\n",
       "      <td>0</td>\n",
       "    </tr>\n",
       "    <tr>\n",
       "      <th>2256518</th>\n",
       "      <td>6939</td>\n",
       "      <td>A040198002</td>\n",
       "      <td>A040000198</td>\n",
       "      <td>1</td>\n",
       "      <td>2133</td>\n",
       "      <td>5</td>\n",
       "      <td>5</td>\n",
       "    </tr>\n",
       "    <tr>\n",
       "      <th>2256519</th>\n",
       "      <td>6939</td>\n",
       "      <td>A040198003</td>\n",
       "      <td>A040000198</td>\n",
       "      <td>1</td>\n",
       "      <td>2133</td>\n",
       "      <td>13</td>\n",
       "      <td>18</td>\n",
       "    </tr>\n",
       "    <tr>\n",
       "      <th>2256520</th>\n",
       "      <td>6939</td>\n",
       "      <td>A040198004</td>\n",
       "      <td>A040000198</td>\n",
       "      <td>1</td>\n",
       "      <td>2133</td>\n",
       "      <td>12</td>\n",
       "      <td>30</td>\n",
       "    </tr>\n",
       "    <tr>\n",
       "      <th>2259755</th>\n",
       "      <td>7072</td>\n",
       "      <td>A040198001</td>\n",
       "      <td>A040000198</td>\n",
       "      <td>1</td>\n",
       "      <td>2133</td>\n",
       "      <td>0</td>\n",
       "      <td>0</td>\n",
       "    </tr>\n",
       "    <tr>\n",
       "      <th>2259756</th>\n",
       "      <td>7072</td>\n",
       "      <td>A040198002</td>\n",
       "      <td>A040000198</td>\n",
       "      <td>1</td>\n",
       "      <td>2133</td>\n",
       "      <td>7</td>\n",
       "      <td>7</td>\n",
       "    </tr>\n",
       "    <tr>\n",
       "      <th>2259757</th>\n",
       "      <td>7072</td>\n",
       "      <td>A040198003</td>\n",
       "      <td>A040000198</td>\n",
       "      <td>1</td>\n",
       "      <td>2133</td>\n",
       "      <td>20</td>\n",
       "      <td>27</td>\n",
       "    </tr>\n",
       "    <tr>\n",
       "      <th>2259758</th>\n",
       "      <td>7072</td>\n",
       "      <td>A040198004</td>\n",
       "      <td>A040000198</td>\n",
       "      <td>1</td>\n",
       "      <td>2133</td>\n",
       "      <td>318</td>\n",
       "      <td>345</td>\n",
       "    </tr>\n",
       "    <tr>\n",
       "      <th>2264849</th>\n",
       "      <td>7329</td>\n",
       "      <td>A040198001</td>\n",
       "      <td>A040000198</td>\n",
       "      <td>0</td>\n",
       "      <td>2133</td>\n",
       "      <td>0</td>\n",
       "      <td>0</td>\n",
       "    </tr>\n",
       "    <tr>\n",
       "      <th>2264850</th>\n",
       "      <td>7329</td>\n",
       "      <td>A040198002</td>\n",
       "      <td>A040000198</td>\n",
       "      <td>1</td>\n",
       "      <td>2133</td>\n",
       "      <td>5</td>\n",
       "      <td>5</td>\n",
       "    </tr>\n",
       "    <tr>\n",
       "      <th>2264851</th>\n",
       "      <td>7329</td>\n",
       "      <td>A040198003</td>\n",
       "      <td>A040000198</td>\n",
       "      <td>1</td>\n",
       "      <td>2133</td>\n",
       "      <td>10</td>\n",
       "      <td>15</td>\n",
       "    </tr>\n",
       "    <tr>\n",
       "      <th>2264852</th>\n",
       "      <td>7329</td>\n",
       "      <td>A040198004</td>\n",
       "      <td>A040000198</td>\n",
       "      <td>1</td>\n",
       "      <td>2133</td>\n",
       "      <td>8</td>\n",
       "      <td>23</td>\n",
       "    </tr>\n",
       "    <tr>\n",
       "      <th>2264863</th>\n",
       "      <td>7329</td>\n",
       "      <td>A040198001</td>\n",
       "      <td>A040000198</td>\n",
       "      <td>1</td>\n",
       "      <td>2133</td>\n",
       "      <td>24535065</td>\n",
       "      <td>24535088</td>\n",
       "    </tr>\n",
       "    <tr>\n",
       "      <th>2264864</th>\n",
       "      <td>7329</td>\n",
       "      <td>A040198002</td>\n",
       "      <td>A040000198</td>\n",
       "      <td>1</td>\n",
       "      <td>2133</td>\n",
       "      <td>4</td>\n",
       "      <td>24535092</td>\n",
       "    </tr>\n",
       "    <tr>\n",
       "      <th>2264865</th>\n",
       "      <td>7329</td>\n",
       "      <td>A040198003</td>\n",
       "      <td>A040000198</td>\n",
       "      <td>1</td>\n",
       "      <td>2133</td>\n",
       "      <td>9</td>\n",
       "      <td>24535101</td>\n",
       "    </tr>\n",
       "    <tr>\n",
       "      <th>2264866</th>\n",
       "      <td>7329</td>\n",
       "      <td>A040198004</td>\n",
       "      <td>A040000198</td>\n",
       "      <td>1</td>\n",
       "      <td>2133</td>\n",
       "      <td>6</td>\n",
       "      <td>24535107</td>\n",
       "    </tr>\n",
       "  </tbody>\n",
       "</table>\n",
       "</div>"
      ],
      "text/plain": [
       "         userID assessmentItemID      testId  answerCode  KnowledgeTag  \\\n",
       "2247991    6695       A040198001  A040000198           1          2133   \n",
       "2247992    6695       A040198002  A040000198           1          2133   \n",
       "2247993    6695       A040198003  A040000198           0          2133   \n",
       "2247994    6695       A040198004  A040000198           1          2133   \n",
       "2256517    6939       A040198001  A040000198           1          2133   \n",
       "2256518    6939       A040198002  A040000198           1          2133   \n",
       "2256519    6939       A040198003  A040000198           1          2133   \n",
       "2256520    6939       A040198004  A040000198           1          2133   \n",
       "2259755    7072       A040198001  A040000198           1          2133   \n",
       "2259756    7072       A040198002  A040000198           1          2133   \n",
       "2259757    7072       A040198003  A040000198           1          2133   \n",
       "2259758    7072       A040198004  A040000198           1          2133   \n",
       "2264849    7329       A040198001  A040000198           0          2133   \n",
       "2264850    7329       A040198002  A040000198           1          2133   \n",
       "2264851    7329       A040198003  A040000198           1          2133   \n",
       "2264852    7329       A040198004  A040000198           1          2133   \n",
       "2264863    7329       A040198001  A040000198           1          2133   \n",
       "2264864    7329       A040198002  A040000198           1          2133   \n",
       "2264865    7329       A040198003  A040000198           1          2133   \n",
       "2264866    7329       A040198004  A040000198           1          2133   \n",
       "\n",
       "         Timediff  Timepassed  \n",
       "2247991         0           0  \n",
       "2247992         4           4  \n",
       "2247993        29          33  \n",
       "2247994        12          45  \n",
       "2256517         0           0  \n",
       "2256518         5           5  \n",
       "2256519        13          18  \n",
       "2256520        12          30  \n",
       "2259755         0           0  \n",
       "2259756         7           7  \n",
       "2259757        20          27  \n",
       "2259758       318         345  \n",
       "2264849         0           0  \n",
       "2264850         5           5  \n",
       "2264851        10          15  \n",
       "2264852         8          23  \n",
       "2264863  24535065    24535088  \n",
       "2264864         4    24535092  \n",
       "2264865         9    24535101  \n",
       "2264866         6    24535107  "
      ]
     },
     "execution_count": 38,
     "metadata": {},
     "output_type": "execute_result"
    }
   ],
   "source": [
    "train[train[\"testId\"] == 'A040000198'].iloc[-20:]"
   ]
  },
  {
   "cell_type": "code",
   "execution_count": null,
   "metadata": {},
   "outputs": [],
   "source": []
  }
 ],
 "metadata": {
  "kernelspec": {
   "display_name": "Python 3.8.5 ('base')",
   "language": "python",
   "name": "python3"
  },
  "language_info": {
   "codemirror_mode": {
    "name": "ipython",
    "version": 3
   },
   "file_extension": ".py",
   "mimetype": "text/x-python",
   "name": "python",
   "nbconvert_exporter": "python",
   "pygments_lexer": "ipython3",
   "version": "3.8.5"
  },
  "orig_nbformat": 4,
  "vscode": {
   "interpreter": {
    "hash": "d4d1e4263499bec80672ea0156c357c1ee493ec2b1c70f0acce89fc37c4a6abe"
   }
  }
 },
 "nbformat": 4,
 "nbformat_minor": 2
}
