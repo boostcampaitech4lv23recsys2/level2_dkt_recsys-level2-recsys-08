{
 "cells": [
  {
   "cell_type": "markdown",
   "metadata": {},
   "source": [
    "# EDA"
   ]
  },
  {
   "cell_type": "code",
   "execution_count": 2,
   "metadata": {},
   "outputs": [],
   "source": [
    "import numpy as np \n",
    "import pandas as pd\n",
    "import matplotlib.pyplot as plt\n",
    "import seaborn as sns\n",
    "import time\n",
    "path = '../../data/'"
   ]
  },
  {
   "cell_type": "code",
   "execution_count": 3,
   "metadata": {},
   "outputs": [],
   "source": [
    "dtype = {\n",
    "    'userID': 'int16',\n",
    "    'answerCode': 'int8',\n",
    "    'KnowledgeTag': 'int16'\n",
    "}   \n",
    "\n",
    "train = pd.read_csv(path + 'train_data.csv', dtype=dtype, parse_dates=['Timestamp'])\n",
    "test = pd.read_csv(path + 'test_data.csv', dtype=dtype, parse_dates=['Timestamp'])\n",
    "df = pd.concat([train,test[test['answerCode']>-1]]).reset_index(drop = True)\n",
    "submission = pd.read_csv(path + 'sample_submission.csv')"
   ]
  },
  {
   "cell_type": "markdown",
   "metadata": {},
   "source": [
    "> 시간을 초 단위로 변경"
   ]
  },
  {
   "cell_type": "code",
   "execution_count": 5,
   "metadata": {},
   "outputs": [
    {
     "name": "stdout",
     "output_type": "stream",
     "text": [
      "timetuple :  time.struct_time(tm_year=2020, tm_mon=3, tm_mday=24, tm_hour=0, tm_min=17, tm_sec=11, tm_wday=1, tm_yday=84, tm_isdst=-1)\n",
      "mktime :  1585009031.0\n"
     ]
    }
   ],
   "source": [
    "# timetuple, mktime 활용\n",
    "print(\"timetuple : \",train['Timestamp'].iloc[0].timetuple())\n",
    "print(\"mktime : \",time.mktime(train['Timestamp'].iloc[0].timetuple()))"
   ]
  },
  {
   "cell_type": "code",
   "execution_count": 4,
   "metadata": {},
   "outputs": [],
   "source": [
    "train['Time'] = train['Timestamp'].apply(lambda x: int(time.mktime(x.timetuple())))\n",
    "test['Time'] = test['Timestamp'].apply(lambda x: int(time.mktime(x.timetuple())))\n"
   ]
  },
  {
   "cell_type": "markdown",
   "metadata": {},
   "source": [
    "> 정답률 함수"
   ]
  },
  {
   "cell_type": "code",
   "execution_count": 5,
   "metadata": {},
   "outputs": [],
   "source": [
    "def percentile(s):\n",
    "    return np.sum(s) / len(s)"
   ]
  },
  {
   "cell_type": "markdown",
   "metadata": {},
   "source": [
    "## train, test Head"
   ]
  },
  {
   "cell_type": "code",
   "execution_count": 8,
   "metadata": {},
   "outputs": [
    {
     "data": {
      "text/html": [
       "<div>\n",
       "<style scoped>\n",
       "    .dataframe tbody tr th:only-of-type {\n",
       "        vertical-align: middle;\n",
       "    }\n",
       "\n",
       "    .dataframe tbody tr th {\n",
       "        vertical-align: top;\n",
       "    }\n",
       "\n",
       "    .dataframe thead th {\n",
       "        text-align: right;\n",
       "    }\n",
       "</style>\n",
       "<table border=\"1\" class=\"dataframe\">\n",
       "  <thead>\n",
       "    <tr style=\"text-align: right;\">\n",
       "      <th></th>\n",
       "      <th>userID</th>\n",
       "      <th>assessmentItemID</th>\n",
       "      <th>testId</th>\n",
       "      <th>answerCode</th>\n",
       "      <th>Timestamp</th>\n",
       "      <th>KnowledgeTag</th>\n",
       "      <th>Time</th>\n",
       "      <th>Timediff</th>\n",
       "      <th>Timepassed</th>\n",
       "    </tr>\n",
       "  </thead>\n",
       "  <tbody>\n",
       "    <tr>\n",
       "      <th>0</th>\n",
       "      <td>0</td>\n",
       "      <td>A060001001</td>\n",
       "      <td>A060000001</td>\n",
       "      <td>1</td>\n",
       "      <td>2020-03-24 00:17:11</td>\n",
       "      <td>7224</td>\n",
       "      <td>1585009031</td>\n",
       "      <td>0</td>\n",
       "      <td>0</td>\n",
       "    </tr>\n",
       "    <tr>\n",
       "      <th>1</th>\n",
       "      <td>0</td>\n",
       "      <td>A060001002</td>\n",
       "      <td>A060000001</td>\n",
       "      <td>1</td>\n",
       "      <td>2020-03-24 00:17:14</td>\n",
       "      <td>7225</td>\n",
       "      <td>1585009034</td>\n",
       "      <td>3</td>\n",
       "      <td>3</td>\n",
       "    </tr>\n",
       "    <tr>\n",
       "      <th>2</th>\n",
       "      <td>0</td>\n",
       "      <td>A060001003</td>\n",
       "      <td>A060000001</td>\n",
       "      <td>1</td>\n",
       "      <td>2020-03-24 00:17:22</td>\n",
       "      <td>7225</td>\n",
       "      <td>1585009042</td>\n",
       "      <td>8</td>\n",
       "      <td>11</td>\n",
       "    </tr>\n",
       "    <tr>\n",
       "      <th>3</th>\n",
       "      <td>0</td>\n",
       "      <td>A060001004</td>\n",
       "      <td>A060000001</td>\n",
       "      <td>1</td>\n",
       "      <td>2020-03-24 00:17:29</td>\n",
       "      <td>7225</td>\n",
       "      <td>1585009049</td>\n",
       "      <td>7</td>\n",
       "      <td>18</td>\n",
       "    </tr>\n",
       "    <tr>\n",
       "      <th>4</th>\n",
       "      <td>0</td>\n",
       "      <td>A060001005</td>\n",
       "      <td>A060000001</td>\n",
       "      <td>1</td>\n",
       "      <td>2020-03-24 00:17:36</td>\n",
       "      <td>7225</td>\n",
       "      <td>1585009056</td>\n",
       "      <td>7</td>\n",
       "      <td>25</td>\n",
       "    </tr>\n",
       "  </tbody>\n",
       "</table>\n",
       "</div>"
      ],
      "text/plain": [
       "   userID assessmentItemID      testId  answerCode           Timestamp  \\\n",
       "0       0       A060001001  A060000001           1 2020-03-24 00:17:11   \n",
       "1       0       A060001002  A060000001           1 2020-03-24 00:17:14   \n",
       "2       0       A060001003  A060000001           1 2020-03-24 00:17:22   \n",
       "3       0       A060001004  A060000001           1 2020-03-24 00:17:29   \n",
       "4       0       A060001005  A060000001           1 2020-03-24 00:17:36   \n",
       "\n",
       "   KnowledgeTag        Time  Timediff  Timepassed  \n",
       "0          7224  1585009031         0           0  \n",
       "1          7225  1585009034         3           3  \n",
       "2          7225  1585009042         8          11  \n",
       "3          7225  1585009049         7          18  \n",
       "4          7225  1585009056         7          25  "
      ]
     },
     "execution_count": 8,
     "metadata": {},
     "output_type": "execute_result"
    }
   ],
   "source": [
    "train.head()"
   ]
  },
  {
   "cell_type": "code",
   "execution_count": 9,
   "metadata": {},
   "outputs": [
    {
     "data": {
      "text/html": [
       "<div>\n",
       "<style scoped>\n",
       "    .dataframe tbody tr th:only-of-type {\n",
       "        vertical-align: middle;\n",
       "    }\n",
       "\n",
       "    .dataframe tbody tr th {\n",
       "        vertical-align: top;\n",
       "    }\n",
       "\n",
       "    .dataframe thead th {\n",
       "        text-align: right;\n",
       "    }\n",
       "</style>\n",
       "<table border=\"1\" class=\"dataframe\">\n",
       "  <thead>\n",
       "    <tr style=\"text-align: right;\">\n",
       "      <th></th>\n",
       "      <th>userID</th>\n",
       "      <th>assessmentItemID</th>\n",
       "      <th>testId</th>\n",
       "      <th>answerCode</th>\n",
       "      <th>Timestamp</th>\n",
       "      <th>KnowledgeTag</th>\n",
       "      <th>Time</th>\n",
       "      <th>Timediff</th>\n",
       "      <th>Timepassed</th>\n",
       "    </tr>\n",
       "  </thead>\n",
       "  <tbody>\n",
       "    <tr>\n",
       "      <th>0</th>\n",
       "      <td>3</td>\n",
       "      <td>A050023001</td>\n",
       "      <td>A050000023</td>\n",
       "      <td>1</td>\n",
       "      <td>2020-01-09 10:56:31</td>\n",
       "      <td>2626</td>\n",
       "      <td>1578567391</td>\n",
       "      <td>0</td>\n",
       "      <td>0</td>\n",
       "    </tr>\n",
       "    <tr>\n",
       "      <th>1</th>\n",
       "      <td>3</td>\n",
       "      <td>A050023002</td>\n",
       "      <td>A050000023</td>\n",
       "      <td>1</td>\n",
       "      <td>2020-01-09 10:56:57</td>\n",
       "      <td>2626</td>\n",
       "      <td>1578567417</td>\n",
       "      <td>26</td>\n",
       "      <td>26</td>\n",
       "    </tr>\n",
       "    <tr>\n",
       "      <th>2</th>\n",
       "      <td>3</td>\n",
       "      <td>A050023003</td>\n",
       "      <td>A050000023</td>\n",
       "      <td>0</td>\n",
       "      <td>2020-01-09 10:58:31</td>\n",
       "      <td>2625</td>\n",
       "      <td>1578567511</td>\n",
       "      <td>94</td>\n",
       "      <td>120</td>\n",
       "    </tr>\n",
       "    <tr>\n",
       "      <th>3</th>\n",
       "      <td>3</td>\n",
       "      <td>A050023004</td>\n",
       "      <td>A050000023</td>\n",
       "      <td>0</td>\n",
       "      <td>2020-01-09 10:58:36</td>\n",
       "      <td>2625</td>\n",
       "      <td>1578567516</td>\n",
       "      <td>5</td>\n",
       "      <td>125</td>\n",
       "    </tr>\n",
       "    <tr>\n",
       "      <th>4</th>\n",
       "      <td>3</td>\n",
       "      <td>A050023006</td>\n",
       "      <td>A050000023</td>\n",
       "      <td>0</td>\n",
       "      <td>2020-01-09 10:58:43</td>\n",
       "      <td>2623</td>\n",
       "      <td>1578567523</td>\n",
       "      <td>7</td>\n",
       "      <td>132</td>\n",
       "    </tr>\n",
       "  </tbody>\n",
       "</table>\n",
       "</div>"
      ],
      "text/plain": [
       "   userID assessmentItemID      testId  answerCode           Timestamp  \\\n",
       "0       3       A050023001  A050000023           1 2020-01-09 10:56:31   \n",
       "1       3       A050023002  A050000023           1 2020-01-09 10:56:57   \n",
       "2       3       A050023003  A050000023           0 2020-01-09 10:58:31   \n",
       "3       3       A050023004  A050000023           0 2020-01-09 10:58:36   \n",
       "4       3       A050023006  A050000023           0 2020-01-09 10:58:43   \n",
       "\n",
       "   KnowledgeTag        Time  Timediff  Timepassed  \n",
       "0          2626  1578567391         0           0  \n",
       "1          2626  1578567417        26          26  \n",
       "2          2625  1578567511        94         120  \n",
       "3          2625  1578567516         5         125  \n",
       "4          2623  1578567523         7         132  "
      ]
     },
     "execution_count": 9,
     "metadata": {},
     "output_type": "execute_result"
    }
   ],
   "source": [
    "test.head()"
   ]
  },
  {
   "cell_type": "markdown",
   "metadata": {},
   "source": [
    "## feature 개수"
   ]
  },
  {
   "cell_type": "markdown",
   "metadata": {},
   "source": [
    "> train 과 test의 시험지와 문제와 tag는 같다, user는 겹치지 않음"
   ]
  },
  {
   "cell_type": "code",
   "execution_count": 42,
   "metadata": {},
   "outputs": [
    {
     "name": "stdout",
     "output_type": "stream",
     "text": [
      "num of rows :  2266586\n",
      "userID's nunique :  6698\n",
      "assessmentItemID's nunique :  9454\n",
      "testId's nunique :  1537\n",
      "KnowledgeTag's nunique :  912\n"
     ]
    }
   ],
   "source": [
    "idx = [0,1,2,4]\n",
    "print(\"num of rows : \",train.shape[0])\n",
    "for col in train.columns[idx]:\n",
    "    print(f\"{col}'s nunique : \",train[f\"{col}\"].nunique())"
   ]
  },
  {
   "cell_type": "code",
   "execution_count": 17,
   "metadata": {},
   "outputs": [
    {
     "name": "stdout",
     "output_type": "stream",
     "text": [
      "num of rows :  260114\n",
      "userID's nunique :  744\n",
      "assessmentItemID's nunique :  9454\n",
      "testId's nunique :  1537\n",
      "KnowledgeTag's nunique :  912\n"
     ]
    }
   ],
   "source": [
    "print(\"num of rows : \",test.shape[0])\n",
    "for col in test.columns[idx]:\n",
    "    print(f\"{col}'s nunique : \",test[f\"{col}\"].nunique())"
   ]
  },
  {
   "cell_type": "code",
   "execution_count": 18,
   "metadata": {},
   "outputs": [
    {
     "name": "stdout",
     "output_type": "stream",
     "text": [
      "userID's compare train, test  :  6698\n",
      "assessmentItemID's compare train, test  :  0\n",
      "testId's compare train, test  :  0\n",
      "KnowledgeTag's compare train, test  :  0\n"
     ]
    }
   ],
   "source": [
    "for col in train.columns[idx]:\n",
    "    print(f\"{col}'s compare train, test  : \",len(set(train[f\"{col}\"].unique()) - set(test[f\"{col}\"].unique())))"
   ]
  },
  {
   "cell_type": "code",
   "execution_count": 19,
   "metadata": {},
   "outputs": [
    {
     "name": "stdout",
     "output_type": "stream",
     "text": [
      "train data null :  0\n",
      "test data null :  0\n"
     ]
    }
   ],
   "source": [
    "print(\"train data null : \",train.isnull().sum().sum())\n",
    "print(\"test data null : \",test.isnull().sum().sum())"
   ]
  },
  {
   "cell_type": "markdown",
   "metadata": {},
   "source": [
    "## 정답 오답 개수"
   ]
  },
  {
   "cell_type": "markdown",
   "metadata": {},
   "source": [
    "\n",
    "> train : 정답이 약 2배가량 많음"
   ]
  },
  {
   "cell_type": "code",
   "execution_count": 20,
   "metadata": {},
   "outputs": [
    {
     "name": "stdout",
     "output_type": "stream",
     "text": [
      "answer count :  1483205\n",
      "answer rate :  0.654378435232548\n",
      "wrong answer count :  783381\n",
      "wrong answer rate :  0.34562156476745204\n"
     ]
    }
   ],
   "source": [
    "answer_count = train['answerCode'].value_counts()\n",
    "print(\"answer count : \",answer_count[1])\n",
    "print(\"answer rate : \",answer_count[1]/answer_count.sum())\n",
    "print(\"wrong answer count : \",answer_count[0])\n",
    "print(\"wrong answer rate : \", answer_count[0]/answer_count.sum())"
   ]
  },
  {
   "cell_type": "markdown",
   "metadata": {},
   "source": [
    "> test : train과 비슷함"
   ]
  },
  {
   "cell_type": "code",
   "execution_count": 21,
   "metadata": {},
   "outputs": [
    {
     "name": "stdout",
     "output_type": "stream",
     "text": [
      "answer count :  170383\n",
      "answer rate :  0.6569109765971393\n",
      "wrong answer count :  88987\n",
      "wrong answer rate :  0.3430890234028608\n"
     ]
    }
   ],
   "source": [
    "answer_count = test['answerCode'].value_counts()\n",
    "print(\"answer count : \",answer_count[1])\n",
    "print(\"answer rate : \",answer_count[1]/answer_count.iloc[0:2].sum())\n",
    "print(\"wrong answer count : \",answer_count[0])\n",
    "print(\"wrong answer rate : \", answer_count[0]/answer_count.iloc[0:2].sum())"
   ]
  },
  {
   "cell_type": "markdown",
   "metadata": {},
   "source": [
    "## feature 별 분포"
   ]
  },
  {
   "cell_type": "markdown",
   "metadata": {},
   "source": [
    "### UserID"
   ]
  },
  {
   "cell_type": "code",
   "execution_count": 22,
   "metadata": {},
   "outputs": [],
   "source": [
    "user_group_train = train.groupby('userID')\n",
    "user_group_test = test.groupby('userID')"
   ]
  },
  {
   "cell_type": "code",
   "execution_count": 26,
   "metadata": {},
   "outputs": [],
   "source": [
    "def draw_group(group,col : str) -> None:\n",
    "    fig,ax = plt.subplots()\n",
    "    groupby = (set(train.columns) - set(group.count().columns)).pop()\n",
    "\n",
    "    group[col].count().hist(bins = 20,ax =ax)\n",
    "    \n",
    "    ax.set_title(groupby + \" | count\")\n",
    "    ax.set_xlabel(\"by \" + groupby)\n",
    "    ax.set_ylabel(\"Count\")\n",
    "    ax.set_label(\"median\")\n",
    "\n",
    "    ax.axvline(group[col].count().median(),label = \"Median\",color = 'tomato')\n",
    "    ax.axvline(group[col].count().mean(),label = \"Mean\",color = 'orange')\n",
    "    ax.legend(\n",
    "        title = \"Describe\"\n",
    "    )\n",
    "    plt.show()"
   ]
  },
  {
   "cell_type": "code",
   "execution_count": 24,
   "metadata": {},
   "outputs": [
    {
     "data": {
      "image/png": "[encoded data removed]",
      "text/plain": [
       "<Figure size 640x480 with 1 Axes>"
      ]
     },
     "metadata": {},
     "output_type": "display_data"
    }
   ],
   "source": [
    "draw_group(user_group_train,\"assessmentItemID\")"
   ]
  },
  {
   "cell_type": "code",
   "execution_count": 25,
   "metadata": {},
   "outputs": [
    {
     "data": {
      "image/png": "[encoded data removed]",
      "text/plain": [
       "<Figure size 640x480 with 1 Axes>"
      ]
     },
     "metadata": {},
     "output_type": "display_data"
    }
   ],
   "source": [
    "draw_group(user_group_test,\"assessmentItemID\")"
   ]
  },
  {
   "cell_type": "markdown",
   "metadata": {},
   "source": [
    "### Timestamp"
   ]
  },
  {
   "cell_type": "markdown",
   "metadata": {},
   "source": [
    "> 시험지별로 시간이 갱신 된다고 가정\n",
    "\n",
    "- 해당 문제를 몇 번째 푸는지 column 추가\n"
   ]
  },
  {
   "cell_type": "code",
   "execution_count": 2,
   "metadata": {},
   "outputs": [],
   "source": [
    "train = pd.read_csv('./train_time.csv')\n",
    "test = pd.read_csv('./test_time.csv') # 아래 함수가 오래걸려서 그냥 파일로 저장"
   ]
  },
  {
   "cell_type": "code",
   "execution_count": 60,
   "metadata": {},
   "outputs": [],
   "source": [
    "# train.to_csv('./train_time.csv',index = False)\n",
    "# test.to_csv('./test_time.csv',index = False)"
   ]
  },
  {
   "cell_type": "markdown",
   "metadata": {},
   "source": [
    "- 시험지 내에서 시간차와 흘러간 시간 column 추가"
   ]
  },
  {
   "cell_type": "code",
   "execution_count": 20,
   "metadata": {},
   "outputs": [],
   "source": [
    "# 옛날거\n",
    "'''def assess_count(data):\n",
    "    data['cnt'] = 1\n",
    "    data['assess_count'] = data.groupby(['userID', 'assessmentItemID'])['cnt'].cumsum()\n",
    "    return data.drop(columns = 'cnt')\n",
    "    \n",
    "def timepass(data : pd.DataFrame):\n",
    "    timepassed = [0]\n",
    "    for i in range(1, data.shape[0]) :\n",
    "        if (data.loc[i-1,'testId'] != data.loc[i,'testId']) | (data.loc[i-1,'userID'] != data.loc[i,'userID'])\\\n",
    "             | (data.loc[i-1,'assess_count'] != data.loc[i,'assess_count']):\n",
    "            timepassed.append(0)\n",
    "        else :\n",
    "            timepassed.append(data.loc[i,'Time'] - data.loc[i-1,'Time'])\n",
    "    return np.array(timepassed)\n",
    "timediff = timepass(train)\n",
    "train['Timediff'] = timediff\n",
    "timediff = timepass(test)\n",
    "test['Timediff'] = timediff\n",
    "train['Timepassed'] = train.groupby(['userID','testId','assess_count'])['Timediff'].cumsum()\n",
    "test['Timepassed'] = test.groupby(['userID','testId','assess_count'])['Timediff'].cumsum()'''\n"
   ]
  },
  {
   "cell_type": "code",
   "execution_count": 5,
   "metadata": {},
   "outputs": [],
   "source": [
    "def assess_count(data):\n",
    "    data['cnt'] = 1\n",
    "    data['assess_count'] = data.groupby(['userID', 'assessmentItemID'])['cnt'].cumsum()\n",
    "    return data.drop(columns = 'cnt')\n",
    "train = assess_count(train)\n",
    "test = assess_count(test)"
   ]
  },
  {
   "cell_type": "code",
   "execution_count": 6,
   "metadata": {},
   "outputs": [],
   "source": [
    "def time_diff(data):\n",
    "    data['Timediff'] = data.groupby(['userID','testId','assess_count'])['Time'].diff().fillna(0)\n",
    "    data['Timediff'] = data['Timediff'].apply(lambda x : x if x < 650 else 650)\n",
    "    data['Timepassed'] = data.groupby(['userID','testId','assess_count'])['Timediff'].cumsum()"
   ]
  },
  {
   "cell_type": "markdown",
   "metadata": {},
   "source": [
    "### Timediff별 정답률"
   ]
  },
  {
   "cell_type": "code",
   "execution_count": 11,
   "metadata": {},
   "outputs": [],
   "source": [
    "time_diff(train)\n",
    "time_diff(test)"
   ]
  },
  {
   "cell_type": "code",
   "execution_count": 19,
   "metadata": {},
   "outputs": [],
   "source": [
    "time_diff = train.groupby('Timediff').agg({'answerCode':percentile}).reset_index()"
   ]
  },
  {
   "cell_type": "code",
   "execution_count": 20,
   "metadata": {},
   "outputs": [
    {
     "data": {
      "text/plain": [
       "<BarContainer object of 100 artists>"
      ]
     },
     "execution_count": 20,
     "metadata": {},
     "output_type": "execute_result"
    },
    {
     "data": {
      "image/png": "[encoded data removed]",
      "text/plain": [
       "<Figure size 3000x1000 with 1 Axes>"
      ]
     },
     "metadata": {},
     "output_type": "display_data"
    }
   ],
   "source": [
    "fig,ax = plt.subplots(figsize = (30,10))\n",
    "plt.bar(time_diff['Timediff'][:100],time_diff['answerCode'][:100])"
   ]
  },
  {
   "cell_type": "markdown",
   "metadata": {},
   "source": [
    "### assessmentItemID"
   ]
  },
  {
   "cell_type": "markdown",
   "metadata": {},
   "source": [
    "> 동일 문제를 반복해서 풀 경우 정답률"
   ]
  },
  {
   "cell_type": "code",
   "execution_count": 40,
   "metadata": {},
   "outputs": [
    {
     "data": {
      "text/html": [
       "<div>\n",
       "<style scoped>\n",
       "    .dataframe tbody tr th:only-of-type {\n",
       "        vertical-align: middle;\n",
       "    }\n",
       "\n",
       "    .dataframe tbody tr th {\n",
       "        vertical-align: top;\n",
       "    }\n",
       "\n",
       "    .dataframe thead th {\n",
       "        text-align: right;\n",
       "    }\n",
       "</style>\n",
       "<table border=\"1\" class=\"dataframe\">\n",
       "  <thead>\n",
       "    <tr style=\"text-align: right;\">\n",
       "      <th></th>\n",
       "      <th>answerCode</th>\n",
       "    </tr>\n",
       "    <tr>\n",
       "      <th>assess_count</th>\n",
       "      <th></th>\n",
       "    </tr>\n",
       "  </thead>\n",
       "  <tbody>\n",
       "    <tr>\n",
       "      <th>1</th>\n",
       "      <td>0.654647</td>\n",
       "    </tr>\n",
       "    <tr>\n",
       "      <th>2</th>\n",
       "      <td>0.645138</td>\n",
       "    </tr>\n",
       "    <tr>\n",
       "      <th>3</th>\n",
       "      <td>0.438849</td>\n",
       "    </tr>\n",
       "  </tbody>\n",
       "</table>\n",
       "</div>"
      ],
      "text/plain": [
       "              answerCode\n",
       "assess_count            \n",
       "1               0.654647\n",
       "2               0.645138\n",
       "3               0.438849"
      ]
     },
     "execution_count": 40,
     "metadata": {},
     "output_type": "execute_result"
    }
   ],
   "source": [
    "train.groupby('assess_count').agg({'answerCode':percentile})"
   ]
  },
  {
   "cell_type": "markdown",
   "metadata": {},
   "source": [
    "> 한 문제당 푼 횟수 분포"
   ]
  },
  {
   "cell_type": "code",
   "execution_count": 31,
   "metadata": {},
   "outputs": [],
   "source": [
    "assessment_group_train = train.groupby('assessmentItemID')\n",
    "assessment_group_test = test.groupby('assessmentItemID')"
   ]
  },
  {
   "cell_type": "code",
   "execution_count": 32,
   "metadata": {},
   "outputs": [
    {
     "name": "stdout",
     "output_type": "stream",
     "text": [
      "문제당 최대 유저 수 :  454\n",
      "문제당 최소 유저 수 :  43\n"
     ]
    }
   ],
   "source": [
    "print(\"문제당 최대 유저 수 : \",assessment_group_train[\"userID\"].count().max())\n",
    "print(\"문제당 최소 유저 수 : \",assessment_group_train[\"userID\"].count().min())\n"
   ]
  },
  {
   "cell_type": "code",
   "execution_count": 33,
   "metadata": {},
   "outputs": [
    {
     "data": {
      "image/png": "[encoded data removed]",
      "text/plain": [
       "<Figure size 640x480 with 1 Axes>"
      ]
     },
     "metadata": {},
     "output_type": "display_data"
    }
   ],
   "source": [
    "draw_group(assessment_group_train,\"userID\")"
   ]
  },
  {
   "cell_type": "code",
   "execution_count": 34,
   "metadata": {},
   "outputs": [
    {
     "data": {
      "image/png": "[encoded data removed]",
      "text/plain": [
       "<Figure size 640x480 with 1 Axes>"
      ]
     },
     "metadata": {},
     "output_type": "display_data"
    }
   ],
   "source": [
    "draw_group(assessment_group_test,\"userID\")"
   ]
  },
  {
   "cell_type": "markdown",
   "metadata": {},
   "source": [
    "## TestID"
   ]
  },
  {
   "cell_type": "markdown",
   "metadata": {},
   "source": [
    "> 대분류 나누기"
   ]
  },
  {
   "cell_type": "code",
   "execution_count": 72,
   "metadata": {},
   "outputs": [],
   "source": [
    "def big_cat(data):\n",
    "    data['big_cat'] = data['testId'].str[2]\n",
    "    data_big = data.groupby('big_cat').agg({'answerCode':percentile}).reset_index()\n",
    "    data_big.columns = ['big_cat','big_cat_rate']\n",
    "    data = data.merge(data_big,how = 'left',on = 'big_cat')\n",
    "    return data"
   ]
  },
  {
   "cell_type": "code",
   "execution_count": 76,
   "metadata": {},
   "outputs": [],
   "source": [
    "train = big_cat(train)\n",
    "test = big_cat(test)"
   ]
  },
  {
   "cell_type": "code",
   "execution_count": 78,
   "metadata": {},
   "outputs": [
    {
     "data": {
      "text/html": [
       "<div>\n",
       "<style scoped>\n",
       "    .dataframe tbody tr th:only-of-type {\n",
       "        vertical-align: middle;\n",
       "    }\n",
       "\n",
       "    .dataframe tbody tr th {\n",
       "        vertical-align: top;\n",
       "    }\n",
       "\n",
       "    .dataframe thead th {\n",
       "        text-align: right;\n",
       "    }\n",
       "</style>\n",
       "<table border=\"1\" class=\"dataframe\">\n",
       "  <thead>\n",
       "    <tr style=\"text-align: right;\">\n",
       "      <th></th>\n",
       "      <th>userID</th>\n",
       "      <th>assessmentItemID</th>\n",
       "      <th>testId</th>\n",
       "      <th>answerCode</th>\n",
       "      <th>Timestamp</th>\n",
       "      <th>KnowledgeTag</th>\n",
       "      <th>Time</th>\n",
       "      <th>big_cat</th>\n",
       "      <th>big_cat_rate</th>\n",
       "    </tr>\n",
       "  </thead>\n",
       "  <tbody>\n",
       "    <tr>\n",
       "      <th>223172</th>\n",
       "      <td>300</td>\n",
       "      <td>A040162004</td>\n",
       "      <td>A040000162</td>\n",
       "      <td>0</td>\n",
       "      <td>2020-10-26 11:00:05</td>\n",
       "      <td>2119</td>\n",
       "      <td>1603710005</td>\n",
       "      <td>4</td>\n",
       "      <td>0.684056</td>\n",
       "    </tr>\n",
       "    <tr>\n",
       "      <th>1875180</th>\n",
       "      <td>3642</td>\n",
       "      <td>A020074004</td>\n",
       "      <td>A020000074</td>\n",
       "      <td>1</td>\n",
       "      <td>2020-07-19 07:12:27</td>\n",
       "      <td>7936</td>\n",
       "      <td>1595142747</td>\n",
       "      <td>2</td>\n",
       "      <td>0.737593</td>\n",
       "    </tr>\n",
       "    <tr>\n",
       "      <th>2213688</th>\n",
       "      <td>5974</td>\n",
       "      <td>A050051004</td>\n",
       "      <td>A050000051</td>\n",
       "      <td>1</td>\n",
       "      <td>2020-07-17 06:42:10</td>\n",
       "      <td>3757</td>\n",
       "      <td>1594968130</td>\n",
       "      <td>5</td>\n",
       "      <td>0.658208</td>\n",
       "    </tr>\n",
       "  </tbody>\n",
       "</table>\n",
       "</div>"
      ],
      "text/plain": [
       "         userID assessmentItemID      testId  answerCode           Timestamp  \\\n",
       "223172      300       A040162004  A040000162           0 2020-10-26 11:00:05   \n",
       "1875180    3642       A020074004  A020000074           1 2020-07-19 07:12:27   \n",
       "2213688    5974       A050051004  A050000051           1 2020-07-17 06:42:10   \n",
       "\n",
       "         KnowledgeTag        Time big_cat  big_cat_rate  \n",
       "223172           2119  1603710005       4      0.684056  \n",
       "1875180          7936  1595142747       2      0.737593  \n",
       "2213688          3757  1594968130       5      0.658208  "
      ]
     },
     "execution_count": 78,
     "metadata": {},
     "output_type": "execute_result"
    }
   ],
   "source": [
    "train.sample(3)"
   ]
  },
  {
   "cell_type": "code",
   "execution_count": 46,
   "metadata": {},
   "outputs": [
    {
     "data": {
      "image/png": "[encoded data removed]",
      "text/plain": [
       "<Figure size 500x500 with 2 Axes>"
      ]
     },
     "metadata": {},
     "output_type": "display_data"
    }
   ],
   "source": [
    "fig,axes = plt.subplots(1,2,figsize = (5,5))\n",
    "temp = [train_big,test_big]\n",
    "for i,ax in enumerate(axes):\n",
    "    ax.bar(np.arange(1,10),temp[i]['answerCode'])\n",
    "    ax.set_xticks(np.arange(1,10))"
   ]
  },
  {
   "cell_type": "code",
   "execution_count": 49,
   "metadata": {},
   "outputs": [
    {
     "data": {
      "text/plain": [
       "big_cat\n",
       "1     75\n",
       "2     87\n",
       "3     85\n",
       "4     97\n",
       "5     83\n",
       "6     66\n",
       "7    123\n",
       "8    109\n",
       "9     19\n",
       "Name: userID, dtype: int64"
      ]
     },
     "execution_count": 49,
     "metadata": {},
     "output_type": "execute_result"
    }
   ],
   "source": [
    "test[test['answerCode']==-1].groupby('big_cat')['userID'].count()"
   ]
  },
  {
   "cell_type": "markdown",
   "metadata": {},
   "source": [
    "## date"
   ]
  },
  {
   "cell_type": "code",
   "execution_count": 84,
   "metadata": {},
   "outputs": [],
   "source": [
    "df = pd.concat([train,test[test['answerCode']>-1]]).reset_index(drop = True)"
   ]
  },
  {
   "cell_type": "code",
   "execution_count": 130,
   "metadata": {},
   "outputs": [],
   "source": [
    "def add_date(data):\n",
    "    data['year'] = data['Timestamp'].apply(lambda x : x.year)\n",
    "    data['month'] = data['Timestamp'].apply(lambda x : x.month)\n",
    "    data['day'] = data['Timestamp'].apply(lambda x : x.day)\n",
    "    date_answer_rate = data.groupby(['year','month','day']).agg({'answerCode':percentile}).reset_index()\n",
    "    date_answer_rate.columns = ['year','month','day','date_answer_rate']\n",
    "    data = data.merge(date_answer_rate,how = 'left',on = ['year','month','day'])\n",
    "    return data"
   ]
  },
  {
   "cell_type": "code",
   "execution_count": 132,
   "metadata": {},
   "outputs": [],
   "source": [
    "df = add_date(df)"
   ]
  },
  {
   "cell_type": "code",
   "execution_count": 136,
   "metadata": {},
   "outputs": [],
   "source": [
    "date_group = df.groupby(['day']).agg({'answerCode':percentile,'assessmentItemID':'count'}).reset_index()"
   ]
  },
  {
   "cell_type": "code",
   "execution_count": 137,
   "metadata": {},
   "outputs": [
    {
     "data": {
      "text/html": [
       "<div>\n",
       "<style scoped>\n",
       "    .dataframe tbody tr th:only-of-type {\n",
       "        vertical-align: middle;\n",
       "    }\n",
       "\n",
       "    .dataframe tbody tr th {\n",
       "        vertical-align: top;\n",
       "    }\n",
       "\n",
       "    .dataframe thead th {\n",
       "        text-align: right;\n",
       "    }\n",
       "</style>\n",
       "<table border=\"1\" class=\"dataframe\">\n",
       "  <thead>\n",
       "    <tr style=\"text-align: right;\">\n",
       "      <th></th>\n",
       "      <th>day</th>\n",
       "      <th>answerCode</th>\n",
       "      <th>assessmentItemID</th>\n",
       "    </tr>\n",
       "  </thead>\n",
       "  <tbody>\n",
       "    <tr>\n",
       "      <th>0</th>\n",
       "      <td>1</td>\n",
       "      <td>0.651347</td>\n",
       "      <td>60794</td>\n",
       "    </tr>\n",
       "    <tr>\n",
       "      <th>1</th>\n",
       "      <td>2</td>\n",
       "      <td>0.657436</td>\n",
       "      <td>69511</td>\n",
       "    </tr>\n",
       "    <tr>\n",
       "      <th>2</th>\n",
       "      <td>3</td>\n",
       "      <td>0.654962</td>\n",
       "      <td>79255</td>\n",
       "    </tr>\n",
       "    <tr>\n",
       "      <th>3</th>\n",
       "      <td>4</td>\n",
       "      <td>0.644669</td>\n",
       "      <td>74038</td>\n",
       "    </tr>\n",
       "    <tr>\n",
       "      <th>4</th>\n",
       "      <td>5</td>\n",
       "      <td>0.645326</td>\n",
       "      <td>66774</td>\n",
       "    </tr>\n",
       "    <tr>\n",
       "      <th>5</th>\n",
       "      <td>6</td>\n",
       "      <td>0.665483</td>\n",
       "      <td>80537</td>\n",
       "    </tr>\n",
       "    <tr>\n",
       "      <th>6</th>\n",
       "      <td>7</td>\n",
       "      <td>0.662667</td>\n",
       "      <td>87845</td>\n",
       "    </tr>\n",
       "    <tr>\n",
       "      <th>7</th>\n",
       "      <td>8</td>\n",
       "      <td>0.659323</td>\n",
       "      <td>82612</td>\n",
       "    </tr>\n",
       "    <tr>\n",
       "      <th>8</th>\n",
       "      <td>9</td>\n",
       "      <td>0.658183</td>\n",
       "      <td>76111</td>\n",
       "    </tr>\n",
       "    <tr>\n",
       "      <th>9</th>\n",
       "      <td>10</td>\n",
       "      <td>0.656896</td>\n",
       "      <td>86210</td>\n",
       "    </tr>\n",
       "    <tr>\n",
       "      <th>10</th>\n",
       "      <td>11</td>\n",
       "      <td>0.645831</td>\n",
       "      <td>80374</td>\n",
       "    </tr>\n",
       "    <tr>\n",
       "      <th>11</th>\n",
       "      <td>12</td>\n",
       "      <td>0.654575</td>\n",
       "      <td>81462</td>\n",
       "    </tr>\n",
       "    <tr>\n",
       "      <th>12</th>\n",
       "      <td>13</td>\n",
       "      <td>0.661050</td>\n",
       "      <td>86939</td>\n",
       "    </tr>\n",
       "    <tr>\n",
       "      <th>13</th>\n",
       "      <td>14</td>\n",
       "      <td>0.659048</td>\n",
       "      <td>93277</td>\n",
       "    </tr>\n",
       "    <tr>\n",
       "      <th>14</th>\n",
       "      <td>15</td>\n",
       "      <td>0.659420</td>\n",
       "      <td>83760</td>\n",
       "    </tr>\n",
       "    <tr>\n",
       "      <th>15</th>\n",
       "      <td>16</td>\n",
       "      <td>0.656336</td>\n",
       "      <td>89605</td>\n",
       "    </tr>\n",
       "    <tr>\n",
       "      <th>16</th>\n",
       "      <td>17</td>\n",
       "      <td>0.653016</td>\n",
       "      <td>86344</td>\n",
       "    </tr>\n",
       "    <tr>\n",
       "      <th>17</th>\n",
       "      <td>18</td>\n",
       "      <td>0.649516</td>\n",
       "      <td>84797</td>\n",
       "    </tr>\n",
       "    <tr>\n",
       "      <th>18</th>\n",
       "      <td>19</td>\n",
       "      <td>0.649526</td>\n",
       "      <td>85918</td>\n",
       "    </tr>\n",
       "    <tr>\n",
       "      <th>19</th>\n",
       "      <td>20</td>\n",
       "      <td>0.660160</td>\n",
       "      <td>93397</td>\n",
       "    </tr>\n",
       "    <tr>\n",
       "      <th>20</th>\n",
       "      <td>21</td>\n",
       "      <td>0.660044</td>\n",
       "      <td>98098</td>\n",
       "    </tr>\n",
       "    <tr>\n",
       "      <th>21</th>\n",
       "      <td>22</td>\n",
       "      <td>0.654698</td>\n",
       "      <td>93495</td>\n",
       "    </tr>\n",
       "    <tr>\n",
       "      <th>22</th>\n",
       "      <td>23</td>\n",
       "      <td>0.653730</td>\n",
       "      <td>97554</td>\n",
       "    </tr>\n",
       "    <tr>\n",
       "      <th>23</th>\n",
       "      <td>24</td>\n",
       "      <td>0.654757</td>\n",
       "      <td>94765</td>\n",
       "    </tr>\n",
       "    <tr>\n",
       "      <th>24</th>\n",
       "      <td>25</td>\n",
       "      <td>0.653120</td>\n",
       "      <td>90599</td>\n",
       "    </tr>\n",
       "    <tr>\n",
       "      <th>25</th>\n",
       "      <td>26</td>\n",
       "      <td>0.658350</td>\n",
       "      <td>87370</td>\n",
       "    </tr>\n",
       "    <tr>\n",
       "      <th>26</th>\n",
       "      <td>27</td>\n",
       "      <td>0.650056</td>\n",
       "      <td>76275</td>\n",
       "    </tr>\n",
       "    <tr>\n",
       "      <th>27</th>\n",
       "      <td>28</td>\n",
       "      <td>0.646652</td>\n",
       "      <td>87851</td>\n",
       "    </tr>\n",
       "    <tr>\n",
       "      <th>28</th>\n",
       "      <td>29</td>\n",
       "      <td>0.645361</td>\n",
       "      <td>70421</td>\n",
       "    </tr>\n",
       "    <tr>\n",
       "      <th>29</th>\n",
       "      <td>30</td>\n",
       "      <td>0.646188</td>\n",
       "      <td>56971</td>\n",
       "    </tr>\n",
       "    <tr>\n",
       "      <th>30</th>\n",
       "      <td>31</td>\n",
       "      <td>0.657906</td>\n",
       "      <td>42997</td>\n",
       "    </tr>\n",
       "  </tbody>\n",
       "</table>\n",
       "</div>"
      ],
      "text/plain": [
       "    day  answerCode  assessmentItemID\n",
       "0     1    0.651347             60794\n",
       "1     2    0.657436             69511\n",
       "2     3    0.654962             79255\n",
       "3     4    0.644669             74038\n",
       "4     5    0.645326             66774\n",
       "5     6    0.665483             80537\n",
       "6     7    0.662667             87845\n",
       "7     8    0.659323             82612\n",
       "8     9    0.658183             76111\n",
       "9    10    0.656896             86210\n",
       "10   11    0.645831             80374\n",
       "11   12    0.654575             81462\n",
       "12   13    0.661050             86939\n",
       "13   14    0.659048             93277\n",
       "14   15    0.659420             83760\n",
       "15   16    0.656336             89605\n",
       "16   17    0.653016             86344\n",
       "17   18    0.649516             84797\n",
       "18   19    0.649526             85918\n",
       "19   20    0.660160             93397\n",
       "20   21    0.660044             98098\n",
       "21   22    0.654698             93495\n",
       "22   23    0.653730             97554\n",
       "23   24    0.654757             94765\n",
       "24   25    0.653120             90599\n",
       "25   26    0.658350             87370\n",
       "26   27    0.650056             76275\n",
       "27   28    0.646652             87851\n",
       "28   29    0.645361             70421\n",
       "29   30    0.646188             56971\n",
       "30   31    0.657906             42997"
      ]
     },
     "execution_count": 137,
     "metadata": {},
     "output_type": "execute_result"
    }
   ],
   "source": [
    "date_group"
   ]
  },
  {
   "cell_type": "code",
   "execution_count": 114,
   "metadata": {},
   "outputs": [
    {
     "data": {
      "text/plain": [
       "<BarContainer object of 365 artists>"
      ]
     },
     "execution_count": 114,
     "metadata": {},
     "output_type": "execute_result"
    },
    {
     "data": {
      "image/png": "[encoded data removed]",
      "text/plain": [
       "<Figure size 1000x500 with 1 Axes>"
      ]
     },
     "metadata": {},
     "output_type": "display_data"
    }
   ],
   "source": [
    "fig,ax = plt.subplots( figsize = (10,5))\n",
    "index = np.arange(date_group.shape[0])\n",
    "ax.bar(index, date_group['answerCode'])"
   ]
  },
  {
   "cell_type": "code",
   "execution_count": 138,
   "metadata": {},
   "outputs": [
    {
     "data": {
      "text/plain": [
       "<BarContainer object of 31 artists>"
      ]
     },
     "execution_count": 138,
     "metadata": {},
     "output_type": "execute_result"
    },
    {
     "data": {
      "image/png": "[encoded data removed]",
      "text/plain": [
       "<Figure size 1000x500 with 1 Axes>"
      ]
     },
     "metadata": {},
     "output_type": "display_data"
    }
   ],
   "source": [
    "date_groupfig,ax = plt.subplots( figsize = (10,5))\n",
    "index = np.arange(date_group.shape[0])\n",
    "ax.bar(index, date_group['answerCode'])"
   ]
  },
  {
   "cell_type": "code",
   "execution_count": 116,
   "metadata": {},
   "outputs": [],
   "source": [
    "test_group = test[test['answerCode']==-1]"
   ]
  },
  {
   "cell_type": "code",
   "execution_count": 122,
   "metadata": {},
   "outputs": [
    {
     "data": {
      "text/html": [
       "<div>\n",
       "<style scoped>\n",
       "    .dataframe tbody tr th:only-of-type {\n",
       "        vertical-align: middle;\n",
       "    }\n",
       "\n",
       "    .dataframe tbody tr th {\n",
       "        vertical-align: top;\n",
       "    }\n",
       "\n",
       "    .dataframe thead th {\n",
       "        text-align: right;\n",
       "    }\n",
       "</style>\n",
       "<table border=\"1\" class=\"dataframe\">\n",
       "  <thead>\n",
       "    <tr style=\"text-align: right;\">\n",
       "      <th></th>\n",
       "      <th>year</th>\n",
       "      <th>month</th>\n",
       "      <th>day</th>\n",
       "      <th>answerCode</th>\n",
       "      <th>assessmentItemID</th>\n",
       "    </tr>\n",
       "  </thead>\n",
       "  <tbody>\n",
       "    <tr>\n",
       "      <th>0</th>\n",
       "      <td>2020</td>\n",
       "      <td>7</td>\n",
       "      <td>2</td>\n",
       "      <td>-1.0</td>\n",
       "      <td>1</td>\n",
       "    </tr>\n",
       "    <tr>\n",
       "      <th>1</th>\n",
       "      <td>2020</td>\n",
       "      <td>8</td>\n",
       "      <td>3</td>\n",
       "      <td>-1.0</td>\n",
       "      <td>1</td>\n",
       "    </tr>\n",
       "    <tr>\n",
       "      <th>2</th>\n",
       "      <td>2020</td>\n",
       "      <td>8</td>\n",
       "      <td>12</td>\n",
       "      <td>-1.0</td>\n",
       "      <td>1</td>\n",
       "    </tr>\n",
       "    <tr>\n",
       "      <th>3</th>\n",
       "      <td>2020</td>\n",
       "      <td>8</td>\n",
       "      <td>18</td>\n",
       "      <td>-1.0</td>\n",
       "      <td>1</td>\n",
       "    </tr>\n",
       "    <tr>\n",
       "      <th>4</th>\n",
       "      <td>2020</td>\n",
       "      <td>8</td>\n",
       "      <td>19</td>\n",
       "      <td>-1.0</td>\n",
       "      <td>3</td>\n",
       "    </tr>\n",
       "    <tr>\n",
       "      <th>...</th>\n",
       "      <td>...</td>\n",
       "      <td>...</td>\n",
       "      <td>...</td>\n",
       "      <td>...</td>\n",
       "      <td>...</td>\n",
       "    </tr>\n",
       "    <tr>\n",
       "      <th>100</th>\n",
       "      <td>2020</td>\n",
       "      <td>12</td>\n",
       "      <td>25</td>\n",
       "      <td>-1.0</td>\n",
       "      <td>17</td>\n",
       "    </tr>\n",
       "    <tr>\n",
       "      <th>101</th>\n",
       "      <td>2020</td>\n",
       "      <td>12</td>\n",
       "      <td>26</td>\n",
       "      <td>-1.0</td>\n",
       "      <td>2</td>\n",
       "    </tr>\n",
       "    <tr>\n",
       "      <th>102</th>\n",
       "      <td>2020</td>\n",
       "      <td>12</td>\n",
       "      <td>27</td>\n",
       "      <td>-1.0</td>\n",
       "      <td>5</td>\n",
       "    </tr>\n",
       "    <tr>\n",
       "      <th>103</th>\n",
       "      <td>2020</td>\n",
       "      <td>12</td>\n",
       "      <td>28</td>\n",
       "      <td>-1.0</td>\n",
       "      <td>13</td>\n",
       "    </tr>\n",
       "    <tr>\n",
       "      <th>104</th>\n",
       "      <td>2020</td>\n",
       "      <td>12</td>\n",
       "      <td>29</td>\n",
       "      <td>-1.0</td>\n",
       "      <td>33</td>\n",
       "    </tr>\n",
       "  </tbody>\n",
       "</table>\n",
       "<p>105 rows × 5 columns</p>\n",
       "</div>"
      ],
      "text/plain": [
       "     year  month  day  answerCode  assessmentItemID\n",
       "0    2020      7    2        -1.0                 1\n",
       "1    2020      8    3        -1.0                 1\n",
       "2    2020      8   12        -1.0                 1\n",
       "3    2020      8   18        -1.0                 1\n",
       "4    2020      8   19        -1.0                 3\n",
       "..    ...    ...  ...         ...               ...\n",
       "100  2020     12   25        -1.0                17\n",
       "101  2020     12   26        -1.0                 2\n",
       "102  2020     12   27        -1.0                 5\n",
       "103  2020     12   28        -1.0                13\n",
       "104  2020     12   29        -1.0                33\n",
       "\n",
       "[105 rows x 5 columns]"
      ]
     },
     "execution_count": 122,
     "metadata": {},
     "output_type": "execute_result"
    }
   ],
   "source": [
    "test_group.groupby(['year','month','day']).agg({'answerCode':percentile,'assessmentItemID':'count'}).reset_index()"
   ]
  },
  {
   "cell_type": "code",
   "execution_count": 124,
   "metadata": {},
   "outputs": [
    {
     "data": {
      "text/html": [
       "<div>\n",
       "<style scoped>\n",
       "    .dataframe tbody tr th:only-of-type {\n",
       "        vertical-align: middle;\n",
       "    }\n",
       "\n",
       "    .dataframe tbody tr th {\n",
       "        vertical-align: top;\n",
       "    }\n",
       "\n",
       "    .dataframe thead th {\n",
       "        text-align: right;\n",
       "    }\n",
       "</style>\n",
       "<table border=\"1\" class=\"dataframe\">\n",
       "  <thead>\n",
       "    <tr style=\"text-align: right;\">\n",
       "      <th></th>\n",
       "      <th>userID</th>\n",
       "      <th>assessmentItemID_x</th>\n",
       "      <th>testId</th>\n",
       "      <th>answerCode_x</th>\n",
       "      <th>Timestamp</th>\n",
       "      <th>KnowledgeTag</th>\n",
       "      <th>Time</th>\n",
       "      <th>big_cat</th>\n",
       "      <th>big_cat_rate</th>\n",
       "      <th>year</th>\n",
       "      <th>month</th>\n",
       "      <th>day</th>\n",
       "      <th>answerCode_y</th>\n",
       "      <th>assessmentItemID_y</th>\n",
       "    </tr>\n",
       "  </thead>\n",
       "  <tbody>\n",
       "    <tr>\n",
       "      <th>0</th>\n",
       "      <td>3</td>\n",
       "      <td>A050133008</td>\n",
       "      <td>A050000133</td>\n",
       "      <td>-1</td>\n",
       "      <td>2020-10-26 13:13:57</td>\n",
       "      <td>5289</td>\n",
       "      <td>1603718037</td>\n",
       "      <td>5</td>\n",
       "      <td>0.662618</td>\n",
       "      <td>2020</td>\n",
       "      <td>10</td>\n",
       "      <td>26</td>\n",
       "      <td>-1.0</td>\n",
       "      <td>175</td>\n",
       "    </tr>\n",
       "    <tr>\n",
       "      <th>1</th>\n",
       "      <td>4</td>\n",
       "      <td>A070146008</td>\n",
       "      <td>A070000146</td>\n",
       "      <td>-1</td>\n",
       "      <td>2020-12-27 02:47:54</td>\n",
       "      <td>9080</td>\n",
       "      <td>1609037274</td>\n",
       "      <td>7</td>\n",
       "      <td>0.515691</td>\n",
       "      <td>2020</td>\n",
       "      <td>12</td>\n",
       "      <td>27</td>\n",
       "      <td>-1.0</td>\n",
       "      <td>5</td>\n",
       "    </tr>\n",
       "    <tr>\n",
       "      <th>2</th>\n",
       "      <td>13</td>\n",
       "      <td>A070111008</td>\n",
       "      <td>A070000111</td>\n",
       "      <td>-1</td>\n",
       "      <td>2020-12-27 04:35:09</td>\n",
       "      <td>9660</td>\n",
       "      <td>1609043709</td>\n",
       "      <td>7</td>\n",
       "      <td>0.515691</td>\n",
       "      <td>2020</td>\n",
       "      <td>12</td>\n",
       "      <td>27</td>\n",
       "      <td>-1.0</td>\n",
       "      <td>5</td>\n",
       "    </tr>\n",
       "    <tr>\n",
       "      <th>3</th>\n",
       "      <td>17</td>\n",
       "      <td>A090064006</td>\n",
       "      <td>A090000064</td>\n",
       "      <td>-1</td>\n",
       "      <td>2020-10-30 05:48:37</td>\n",
       "      <td>2611</td>\n",
       "      <td>1604036917</td>\n",
       "      <td>9</td>\n",
       "      <td>0.498492</td>\n",
       "      <td>2020</td>\n",
       "      <td>10</td>\n",
       "      <td>30</td>\n",
       "      <td>-1.0</td>\n",
       "      <td>2</td>\n",
       "    </tr>\n",
       "    <tr>\n",
       "      <th>4</th>\n",
       "      <td>26</td>\n",
       "      <td>A060135007</td>\n",
       "      <td>A060000135</td>\n",
       "      <td>-1</td>\n",
       "      <td>2020-10-23 11:44:18</td>\n",
       "      <td>1422</td>\n",
       "      <td>1603453458</td>\n",
       "      <td>6</td>\n",
       "      <td>0.733989</td>\n",
       "      <td>2020</td>\n",
       "      <td>10</td>\n",
       "      <td>23</td>\n",
       "      <td>-1.0</td>\n",
       "      <td>89</td>\n",
       "    </tr>\n",
       "    <tr>\n",
       "      <th>...</th>\n",
       "      <td>...</td>\n",
       "      <td>...</td>\n",
       "      <td>...</td>\n",
       "      <td>...</td>\n",
       "      <td>...</td>\n",
       "      <td>...</td>\n",
       "      <td>...</td>\n",
       "      <td>...</td>\n",
       "      <td>...</td>\n",
       "      <td>...</td>\n",
       "      <td>...</td>\n",
       "      <td>...</td>\n",
       "      <td>...</td>\n",
       "      <td>...</td>\n",
       "    </tr>\n",
       "    <tr>\n",
       "      <th>739</th>\n",
       "      <td>7395</td>\n",
       "      <td>A040122005</td>\n",
       "      <td>A040000122</td>\n",
       "      <td>-1</td>\n",
       "      <td>2020-09-08 02:05:20</td>\n",
       "      <td>10615</td>\n",
       "      <td>1599530720</td>\n",
       "      <td>4</td>\n",
       "      <td>0.644724</td>\n",
       "      <td>2020</td>\n",
       "      <td>9</td>\n",
       "      <td>8</td>\n",
       "      <td>-1.0</td>\n",
       "      <td>1</td>\n",
       "    </tr>\n",
       "    <tr>\n",
       "      <th>740</th>\n",
       "      <td>7404</td>\n",
       "      <td>A030111005</td>\n",
       "      <td>A030000111</td>\n",
       "      <td>-1</td>\n",
       "      <td>2020-10-13 09:49:18</td>\n",
       "      <td>7636</td>\n",
       "      <td>1602582558</td>\n",
       "      <td>3</td>\n",
       "      <td>0.697083</td>\n",
       "      <td>2020</td>\n",
       "      <td>10</td>\n",
       "      <td>13</td>\n",
       "      <td>-1.0</td>\n",
       "      <td>5</td>\n",
       "    </tr>\n",
       "    <tr>\n",
       "      <th>741</th>\n",
       "      <td>7416</td>\n",
       "      <td>A050193004</td>\n",
       "      <td>A050000193</td>\n",
       "      <td>-1</td>\n",
       "      <td>2020-10-04 02:44:41</td>\n",
       "      <td>10402</td>\n",
       "      <td>1601779481</td>\n",
       "      <td>5</td>\n",
       "      <td>0.662618</td>\n",
       "      <td>2020</td>\n",
       "      <td>10</td>\n",
       "      <td>4</td>\n",
       "      <td>-1.0</td>\n",
       "      <td>1</td>\n",
       "    </tr>\n",
       "    <tr>\n",
       "      <th>742</th>\n",
       "      <td>7417</td>\n",
       "      <td>A050193004</td>\n",
       "      <td>A050000193</td>\n",
       "      <td>-1</td>\n",
       "      <td>2020-09-06 13:09:15</td>\n",
       "      <td>10402</td>\n",
       "      <td>1599397755</td>\n",
       "      <td>5</td>\n",
       "      <td>0.662618</td>\n",
       "      <td>2020</td>\n",
       "      <td>9</td>\n",
       "      <td>6</td>\n",
       "      <td>-1.0</td>\n",
       "      <td>1</td>\n",
       "    </tr>\n",
       "    <tr>\n",
       "      <th>743</th>\n",
       "      <td>7439</td>\n",
       "      <td>A040130005</td>\n",
       "      <td>A040000130</td>\n",
       "      <td>-1</td>\n",
       "      <td>2020-10-14 23:10:03</td>\n",
       "      <td>8832</td>\n",
       "      <td>1602717003</td>\n",
       "      <td>4</td>\n",
       "      <td>0.644724</td>\n",
       "      <td>2020</td>\n",
       "      <td>10</td>\n",
       "      <td>14</td>\n",
       "      <td>-1.0</td>\n",
       "      <td>5</td>\n",
       "    </tr>\n",
       "  </tbody>\n",
       "</table>\n",
       "<p>744 rows × 14 columns</p>\n",
       "</div>"
      ],
      "text/plain": [
       "     userID assessmentItemID_x      testId  answerCode_x           Timestamp  \\\n",
       "0         3         A050133008  A050000133            -1 2020-10-26 13:13:57   \n",
       "1         4         A070146008  A070000146            -1 2020-12-27 02:47:54   \n",
       "2        13         A070111008  A070000111            -1 2020-12-27 04:35:09   \n",
       "3        17         A090064006  A090000064            -1 2020-10-30 05:48:37   \n",
       "4        26         A060135007  A060000135            -1 2020-10-23 11:44:18   \n",
       "..      ...                ...         ...           ...                 ...   \n",
       "739    7395         A040122005  A040000122            -1 2020-09-08 02:05:20   \n",
       "740    7404         A030111005  A030000111            -1 2020-10-13 09:49:18   \n",
       "741    7416         A050193004  A050000193            -1 2020-10-04 02:44:41   \n",
       "742    7417         A050193004  A050000193            -1 2020-09-06 13:09:15   \n",
       "743    7439         A040130005  A040000130            -1 2020-10-14 23:10:03   \n",
       "\n",
       "     KnowledgeTag        Time big_cat  big_cat_rate  year  month  day  \\\n",
       "0            5289  1603718037       5      0.662618  2020     10   26   \n",
       "1            9080  1609037274       7      0.515691  2020     12   27   \n",
       "2            9660  1609043709       7      0.515691  2020     12   27   \n",
       "3            2611  1604036917       9      0.498492  2020     10   30   \n",
       "4            1422  1603453458       6      0.733989  2020     10   23   \n",
       "..            ...         ...     ...           ...   ...    ...  ...   \n",
       "739         10615  1599530720       4      0.644724  2020      9    8   \n",
       "740          7636  1602582558       3      0.697083  2020     10   13   \n",
       "741         10402  1601779481       5      0.662618  2020     10    4   \n",
       "742         10402  1599397755       5      0.662618  2020      9    6   \n",
       "743          8832  1602717003       4      0.644724  2020     10   14   \n",
       "\n",
       "     answerCode_y  assessmentItemID_y  \n",
       "0            -1.0                 175  \n",
       "1            -1.0                   5  \n",
       "2            -1.0                   5  \n",
       "3            -1.0                   2  \n",
       "4            -1.0                  89  \n",
       "..            ...                 ...  \n",
       "739          -1.0                   1  \n",
       "740          -1.0                   5  \n",
       "741          -1.0                   1  \n",
       "742          -1.0                   1  \n",
       "743          -1.0                   5  \n",
       "\n",
       "[744 rows x 14 columns]"
      ]
     },
     "execution_count": 124,
     "metadata": {},
     "output_type": "execute_result"
    }
   ],
   "source": [
    "test_group.merge(test_group.groupby(['year','month','day']).agg({'answerCode':percentile,'assessmentItemID':'count'}).reset_index(),how = 'left',on=['year','month','day'])"
   ]
  },
  {
   "cell_type": "code",
   "execution_count": 117,
   "metadata": {},
   "outputs": [
    {
     "name": "stderr",
     "output_type": "stream",
     "text": [
      "/tmp/ipykernel_106212/2331924225.py:2: SettingWithCopyWarning: \n",
      "A value is trying to be set on a copy of a slice from a DataFrame.\n",
      "Try using .loc[row_indexer,col_indexer] = value instead\n",
      "\n",
      "See the caveats in the documentation: https://pandas.pydata.org/pandas-docs/stable/user_guide/indexing.html#returning-a-view-versus-a-copy\n",
      "  data['year'] = data['Timestamp'].apply(lambda x : x.year)\n",
      "/tmp/ipykernel_106212/2331924225.py:3: SettingWithCopyWarning: \n",
      "A value is trying to be set on a copy of a slice from a DataFrame.\n",
      "Try using .loc[row_indexer,col_indexer] = value instead\n",
      "\n",
      "See the caveats in the documentation: https://pandas.pydata.org/pandas-docs/stable/user_guide/indexing.html#returning-a-view-versus-a-copy\n",
      "  data['month'] = data['Timestamp'].apply(lambda x : x.month)\n",
      "/tmp/ipykernel_106212/2331924225.py:4: SettingWithCopyWarning: \n",
      "A value is trying to be set on a copy of a slice from a DataFrame.\n",
      "Try using .loc[row_indexer,col_indexer] = value instead\n",
      "\n",
      "See the caveats in the documentation: https://pandas.pydata.org/pandas-docs/stable/user_guide/indexing.html#returning-a-view-versus-a-copy\n",
      "  data['day'] = data['Timestamp'].apply(lambda x : x.day)\n"
     ]
    }
   ],
   "source": [
    "add_date(test_group)"
   ]
  },
  {
   "cell_type": "markdown",
   "metadata": {},
   "source": [
    "### 이전 문제의 정답 여부가 영향을 줄까나리"
   ]
  },
  {
   "cell_type": "code",
   "execution_count": 6,
   "metadata": {},
   "outputs": [],
   "source": [
    "df = pd.concat([train,test[test['answerCode']!=-1]])"
   ]
  },
  {
   "cell_type": "code",
   "execution_count": 7,
   "metadata": {},
   "outputs": [],
   "source": [
    "df['prev_answer'] = df.answerCode.shift(1)\n",
    "df = df.fillna(0)"
   ]
  },
  {
   "cell_type": "code",
   "execution_count": 8,
   "metadata": {},
   "outputs": [],
   "source": [
    "df_prev = df.groupby(['userID','prev_answer']).agg({'answerCode':percentile}).reset_index()\n",
    "df_prev.columns = ['userID','prev_answer','prev_answer_rate']\n",
    "df_ar = df.groupby('userID').agg({'answerCode':percentile}).reset_index()\n",
    "df_ar.columns = ['userID','ar']\n",
    "df = df.merge(df_prev,how = 'left',on = ['userID','prev_answer'])\n",
    "df = df.merge(df_ar,how = 'left',on = ['userID'])\n",
    "df['prev_answer_rate'] = df['prev_answer_rate'] - df['ar']\n",
    "df.drop(columns = 'ar',inplace =True)"
   ]
  },
  {
   "cell_type": "code",
   "execution_count": 31,
   "metadata": {},
   "outputs": [
    {
     "data": {
      "text/plain": [
       "<AxesSubplot: >"
      ]
     },
     "execution_count": 31,
     "metadata": {},
     "output_type": "execute_result"
    },
    {
     "data": {
      "image/png": "[encoded data removed]",
      "text/plain": [
       "<Figure size 640x480 with 1 Axes>"
      ]
     },
     "metadata": {},
     "output_type": "display_data"
    }
   ],
   "source": [
    "df[df['prev_answer_rate']>0]['prev_answer_rate'].hist(bins = 100)"
   ]
  },
  {
   "cell_type": "code",
   "execution_count": 30,
   "metadata": {},
   "outputs": [
    {
     "data": {
      "text/plain": [
       "<AxesSubplot: >"
      ]
     },
     "execution_count": 30,
     "metadata": {},
     "output_type": "execute_result"
    },
    {
     "data": {
      "image/png": "[encoded data removed]",
      "text/plain": [
       "<Figure size 640x480 with 1 Axes>"
      ]
     },
     "metadata": {},
     "output_type": "display_data"
    }
   ],
   "source": [
    "df[df['prev_answer_rate']<0]['prev_answer_rate'].hist(bins = 100)"
   ]
  },
  {
   "cell_type": "code",
   "execution_count": null,
   "metadata": {},
   "outputs": [],
   "source": []
  }
 ],
 "metadata": {
  "kernelspec": {
   "display_name": "Python 3.8.5 ('base')",
   "language": "python",
   "name": "python3"
  },
  "language_info": {
   "codemirror_mode": {
    "name": "ipython",
    "version": 3
   },
   "file_extension": ".py",
   "mimetype": "text/x-python",
   "name": "python",
   "nbconvert_exporter": "python",
   "pygments_lexer": "ipython3",
   "version": "3.8.5"
  },
  "orig_nbformat": 4,
  "vscode": {
   "interpreter": {
    "hash": "d4d1e4263499bec80672ea0156c357c1ee493ec2b1c70f0acce89fc37c4a6abe"
   }
  }
 },
 "nbformat": 4,
 "nbformat_minor": 2
}
