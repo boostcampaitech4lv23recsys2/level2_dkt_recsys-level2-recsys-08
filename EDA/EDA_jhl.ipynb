{
 "cells": [
  {
   "cell_type": "markdown",
   "metadata": {},
   "source": [
    "* userID 사용자의 고유번호\n",
    "* assessmentItemID 문항의 고유번호\n",
    "* testId 시험지의 고유번호\n",
    "* answerCode 사용자가 해당 문항을 맞췄는지 여부에 대한 이진 데이터\n",
    "* Timestamp 사용자가 해당문항을 풀기 시작한 시점의 데이터\n",
    "* KnowledgeTag 문항 당 하나씩 배정되는 태그"
   ]
  },
  {
   "cell_type": "markdown",
   "metadata": {},
   "source": [
    "<<< train dataset 간단한 EDA >>>"
   ]
  },
  {
   "cell_type": "code",
   "execution_count": 112,
   "metadata": {},
   "outputs": [],
   "source": [
    "import pandas as pd\n",
    "import numpy as np\n",
    "import matplotlib.pyplot as plt\n",
    "import seaborn as sns"
   ]
  },
  {
   "cell_type": "code",
   "execution_count": 113,
   "metadata": {},
   "outputs": [
    {
     "data": {
      "text/html": [
       "<div>\n",
       "<style scoped>\n",
       "    .dataframe tbody tr th:only-of-type {\n",
       "        vertical-align: middle;\n",
       "    }\n",
       "\n",
       "    .dataframe tbody tr th {\n",
       "        vertical-align: top;\n",
       "    }\n",
       "\n",
       "    .dataframe thead th {\n",
       "        text-align: right;\n",
       "    }\n",
       "</style>\n",
       "<table border=\"1\" class=\"dataframe\">\n",
       "  <thead>\n",
       "    <tr style=\"text-align: right;\">\n",
       "      <th></th>\n",
       "      <th>userID</th>\n",
       "      <th>assessmentItemID</th>\n",
       "      <th>testId</th>\n",
       "      <th>answerCode</th>\n",
       "      <th>Timestamp</th>\n",
       "      <th>KnowledgeTag</th>\n",
       "    </tr>\n",
       "  </thead>\n",
       "  <tbody>\n",
       "    <tr>\n",
       "      <th>459998</th>\n",
       "      <td>640</td>\n",
       "      <td>A020115002</td>\n",
       "      <td>A020000115</td>\n",
       "      <td>1</td>\n",
       "      <td>2020-09-16 06:10:08</td>\n",
       "      <td>8006</td>\n",
       "    </tr>\n",
       "    <tr>\n",
       "      <th>1093488</th>\n",
       "      <td>1664</td>\n",
       "      <td>A030046001</td>\n",
       "      <td>A030000046</td>\n",
       "      <td>1</td>\n",
       "      <td>2020-04-13 10:11:20</td>\n",
       "      <td>373</td>\n",
       "    </tr>\n",
       "    <tr>\n",
       "      <th>2194904</th>\n",
       "      <td>5703</td>\n",
       "      <td>A020124005</td>\n",
       "      <td>A020000124</td>\n",
       "      <td>1</td>\n",
       "      <td>2020-09-28 14:37:17</td>\n",
       "      <td>8018</td>\n",
       "    </tr>\n",
       "    <tr>\n",
       "      <th>46621</th>\n",
       "      <td>61</td>\n",
       "      <td>A080111007</td>\n",
       "      <td>A080000111</td>\n",
       "      <td>1</td>\n",
       "      <td>2020-10-24 06:36:47</td>\n",
       "      <td>2711</td>\n",
       "    </tr>\n",
       "    <tr>\n",
       "      <th>1233353</th>\n",
       "      <td>1945</td>\n",
       "      <td>A080016004</td>\n",
       "      <td>A080000016</td>\n",
       "      <td>0</td>\n",
       "      <td>2020-04-14 03:45:05</td>\n",
       "      <td>4669</td>\n",
       "    </tr>\n",
       "  </tbody>\n",
       "</table>\n",
       "</div>"
      ],
      "text/plain": [
       "         userID assessmentItemID      testId  answerCode            Timestamp  \\\n",
       "459998      640       A020115002  A020000115           1  2020-09-16 06:10:08   \n",
       "1093488    1664       A030046001  A030000046           1  2020-04-13 10:11:20   \n",
       "2194904    5703       A020124005  A020000124           1  2020-09-28 14:37:17   \n",
       "46621        61       A080111007  A080000111           1  2020-10-24 06:36:47   \n",
       "1233353    1945       A080016004  A080000016           0  2020-04-14 03:45:05   \n",
       "\n",
       "         KnowledgeTag  \n",
       "459998           8006  \n",
       "1093488           373  \n",
       "2194904          8018  \n",
       "46621            2711  \n",
       "1233353          4669  "
      ]
     },
     "execution_count": 113,
     "metadata": {},
     "output_type": "execute_result"
    }
   ],
   "source": [
    "df = pd.read_csv(\"/opt/ml/dkt_team/data/train_data.csv\")\n",
    "df.sample(5)"
   ]
  },
  {
   "cell_type": "code",
   "execution_count": 114,
   "metadata": {},
   "outputs": [
    {
     "name": "stdout",
     "output_type": "stream",
     "text": [
      "<class 'pandas.core.frame.DataFrame'>\n",
      "RangeIndex: 2266586 entries, 0 to 2266585\n",
      "Data columns (total 6 columns):\n",
      " #   Column            Dtype \n",
      "---  ------            ----- \n",
      " 0   userID            int64 \n",
      " 1   assessmentItemID  object\n",
      " 2   testId            object\n",
      " 3   answerCode        int64 \n",
      " 4   Timestamp         object\n",
      " 5   KnowledgeTag      int64 \n",
      "dtypes: int64(3), object(3)\n",
      "memory usage: 103.8+ MB\n"
     ]
    }
   ],
   "source": [
    "df.info()"
   ]
  },
  {
   "cell_type": "code",
   "execution_count": 115,
   "metadata": {},
   "outputs": [
    {
     "data": {
      "text/html": [
       "<div>\n",
       "<style scoped>\n",
       "    .dataframe tbody tr th:only-of-type {\n",
       "        vertical-align: middle;\n",
       "    }\n",
       "\n",
       "    .dataframe tbody tr th {\n",
       "        vertical-align: top;\n",
       "    }\n",
       "\n",
       "    .dataframe thead th {\n",
       "        text-align: right;\n",
       "    }\n",
       "</style>\n",
       "<table border=\"1\" class=\"dataframe\">\n",
       "  <thead>\n",
       "    <tr style=\"text-align: right;\">\n",
       "      <th></th>\n",
       "      <th>userID</th>\n",
       "      <th>answerCode</th>\n",
       "      <th>KnowledgeTag</th>\n",
       "    </tr>\n",
       "  </thead>\n",
       "  <tbody>\n",
       "    <tr>\n",
       "      <th>count</th>\n",
       "      <td>2.266586e+06</td>\n",
       "      <td>2.266586e+06</td>\n",
       "      <td>2.266586e+06</td>\n",
       "    </tr>\n",
       "    <tr>\n",
       "      <th>mean</th>\n",
       "      <td>2.087687e+03</td>\n",
       "      <td>6.543784e-01</td>\n",
       "      <td>4.909007e+03</td>\n",
       "    </tr>\n",
       "    <tr>\n",
       "      <th>std</th>\n",
       "      <td>1.589365e+03</td>\n",
       "      <td>4.755706e-01</td>\n",
       "      <td>3.302214e+03</td>\n",
       "    </tr>\n",
       "    <tr>\n",
       "      <th>min</th>\n",
       "      <td>0.000000e+00</td>\n",
       "      <td>0.000000e+00</td>\n",
       "      <td>2.300000e+01</td>\n",
       "    </tr>\n",
       "    <tr>\n",
       "      <th>25%</th>\n",
       "      <td>8.000000e+02</td>\n",
       "      <td>0.000000e+00</td>\n",
       "      <td>1.931000e+03</td>\n",
       "    </tr>\n",
       "    <tr>\n",
       "      <th>50%</th>\n",
       "      <td>1.748000e+03</td>\n",
       "      <td>1.000000e+00</td>\n",
       "      <td>5.258000e+03</td>\n",
       "    </tr>\n",
       "    <tr>\n",
       "      <th>75%</th>\n",
       "      <td>3.046000e+03</td>\n",
       "      <td>1.000000e+00</td>\n",
       "      <td>7.913000e+03</td>\n",
       "    </tr>\n",
       "    <tr>\n",
       "      <th>max</th>\n",
       "      <td>7.441000e+03</td>\n",
       "      <td>1.000000e+00</td>\n",
       "      <td>1.127100e+04</td>\n",
       "    </tr>\n",
       "  </tbody>\n",
       "</table>\n",
       "</div>"
      ],
      "text/plain": [
       "             userID    answerCode  KnowledgeTag\n",
       "count  2.266586e+06  2.266586e+06  2.266586e+06\n",
       "mean   2.087687e+03  6.543784e-01  4.909007e+03\n",
       "std    1.589365e+03  4.755706e-01  3.302214e+03\n",
       "min    0.000000e+00  0.000000e+00  2.300000e+01\n",
       "25%    8.000000e+02  0.000000e+00  1.931000e+03\n",
       "50%    1.748000e+03  1.000000e+00  5.258000e+03\n",
       "75%    3.046000e+03  1.000000e+00  7.913000e+03\n",
       "max    7.441000e+03  1.000000e+00  1.127100e+04"
      ]
     },
     "execution_count": 115,
     "metadata": {},
     "output_type": "execute_result"
    }
   ],
   "source": [
    "df.describe()"
   ]
  },
  {
   "cell_type": "code",
   "execution_count": 116,
   "metadata": {},
   "outputs": [
    {
     "name": "stdout",
     "output_type": "stream",
     "text": [
      "userID : [   0    1    2 ... 7438 7440 7441]\n",
      "assessmentItemID : ['A060001001' 'A060001002' 'A060001003' ... 'A010180004' 'A010180005'\n",
      " 'A010180006']\n",
      "testId : ['A060000001' 'A060000003' 'A060000005' ... 'A010000178' 'A010000189'\n",
      " 'A010000180']\n",
      "answerCode : [1 0]\n",
      "Timestamp : ['2020-03-24 00:17:11' '2020-03-24 00:17:14' '2020-03-24 00:17:22' ...\n",
      " '2020-08-21 01:06:50' '2020-08-21 01:07:36' '2020-08-21 01:08:49']\n",
      "KnowledgeTag : [ 7224  7225  7226  7227  7228  7229  4605  1394  1396  1397  1395  7230\n",
      "   586   587  1356  4657   588   589   590  4658  4673  1444  4661  1443\n",
      "  4660  4659  1442   592   593  4671  4668  4664  4663  4662  4665  4669\n",
      "  4672   595   594  4667   596   599   598   600  4678  4682  4681  4680\n",
      "   601  4685   602  4683  4684  9232   603  2652  4686  7863   606   605\n",
      "   609  4687   610  4805  4688   611 10603   612  4784  4802  4795 10604\n",
      "   614  4803  4793  4797  9557   615   616  2848   618  4783  4801  4799\n",
      " 10605 10606  9590  2849  2852  2853  4804 10403 10405   623   624   626\n",
      "   625   627   628 10404  4967  4970  4971  4975  8794  2887  4974  4976\n",
      "  4978  4979  3097    23    25  9931    26 10568   705    30    32   706\n",
      "    31   707  1108  1107   708  9497   709  1110  8931  7034  7120  1117\n",
      "  7171  1120  8132   710  7126  7125  7167   711   712  7170  7172  8134\n",
      "  8135   713   714  8137   770  8136  8091  8092  8093  1184  8289  2711\n",
      "  1185  1200  1203  9519 10572  1201  8404  2723  2725  2048  2047  2049\n",
      "  2050  2053 11214  2054  2065  2067  2068  2069  2070  2071  2072  2077\n",
      "  2078  2079  2085  4697 10174    78  2087  4699  4709 11253  4723  2089\n",
      "  4724  4725  4209  2090  5141 10741  2091  5261  9728  2092  5317  4210\n",
      "  2093  2094  5595  7271  5308  5596  7268  4211  7305 11269   974   971\n",
      "   972  9743 11270 11271 10778  9744  9745   975  4232  9787  9829 10169\n",
      " 10168  9811 10590  2055  1000 10182 10608  9832 10181  1002  1010 10180\n",
      "  1011  4234 10607  1009  9846 10759 10610 10760  2074  1248  2111  2112\n",
      "  1249  9852  2075  1250  1251  2113  2076  1252 10764  4236  2114 11235\n",
      "  2116 11236  2120 11241  2121  2118  2119  2123  2122  8238  8836  2096\n",
      "  2097  2125  2099  2100  2127 11246  2101  2102 10615  2128  2103  2104\n",
      " 10618  2129  8832  8247  8244  2131  2107  2108  2110  2109  2132  2133\n",
      "  2115  2010  2098  2598  4242  2600  2601 10190  2105  2602  9923  9924\n",
      "  2644  9925  9929  2647  9926  4243  2648 10196   407   307  7309  7310\n",
      "   308   332   331  7321   419  2617   334   339  2619   351  7333   363\n",
      "  7334   365   371   373  3691  3682   202  3751  3752  3753  3755  3756\n",
      "  3757  3826  3827  5258   309  5260   475   342   346   394   395   551\n",
      "   559   547  7781  7782  7788  7823  1707  1720   425  5289  1721   427\n",
      "   428  4604  4679  4800  4957  4959  5485  7581  4962  4961  4969  4963\n",
      "  5834  7593  4965  4964  6308  2868  2869  2870  4972  7597  7600  4980\n",
      "  7596  7599  6456  7621  7618  7620    24 10569  4498  6555  6556  6648\n",
      "  7118  6775 10421  7127  1422 10747 10573  9498  1450 10749  1183  1180\n",
      "  1181  2719  1182  7803  8343  2712  1202  2718  2717  2714  2715  8403\n",
      "  2721  2726  2727  9500  8420  8421  8422  8423  8424  8426  8431  8428\n",
      "  8429  8425  8427  8432  8433  7307  7308   355   405   409   411   417\n",
      "   429   431   433   436   439 11265   438   443   447   452   458   461\n",
      "  7636  7637   465   464   471  7653   481   554   574  7690  7691  7789\n",
      "  7817  2615  2616  2620  2621  2622  3681  3693  3703  3728  3729  7912\n",
      "  7913  7914  2618  7915  7916  7918  7919  7920  7921  7922  2626  2625\n",
      "   192  2623  7696  7924  3704  7926  7747  7751  7932  7933  8127  7934\n",
      "  7935  7936  7938  7822  5259   360  7941  7943  7944   396  8027  5268\n",
      "  5269  8004  5270  5271  8002  5284  8003  5286  8005  5285  8006  8014\n",
      "  5267 10313 10328  8015  8016  8017  8018  5311   434   435  8019  8020\n",
      "  2603   444  8021  8022  8023  5814  5844  5846  7595  7598  7601  6453\n",
      "  6454  6455  6557  5836  6803  6806  5845  6804  4746  3804  3806   164\n",
      "   162  5656  5782  5620   163  5705  5788  1257  8831  9161  5810  1260\n",
      "  1261  1262  9166  6795  6774  6647  1439  6805  7807  7810  7802  7797\n",
      "  7811  7801  7800  1453  1454  1455  1463  1464  1451  1452  7073  7070\n",
      "  1456  1458  7626  9062  9066  9055  9065  9064  6796  6785   169   121\n",
      "  5761  5707  5762  5653  5763  1255  5780  5781  5783  5619  1256  8830\n",
      "  9160  9165  5809  1259  5808  6784  1263  9168  9171  9172  1264  9170\n",
      "  1266  6800  6801  6802  6825  9185  9184  9186  1269  6826  6828  6827\n",
      "  9072  9099  7856  9082  9083  9086  9075  9069  9070  9098  9071  9068\n",
      "  9077  9078  9079  9080  9081  9765  7862  3288  7866  9797   607   608\n",
      "   116  3793   117  3792  3794  3798  3795  3820  3821  7665  7667  5654\n",
      "  5655  9164  9162  9167  9169  1267  1268  1271  9022  8899  8896  9187\n",
      "  1273  8872  8871  8875  8874 10819  8885  7928  7929  8879  8880  8890\n",
      "  8891  8889  8892  8878  7259  8893  8895  8894 10834  8897  8900  8901\n",
      "  9021  8902  8904  8905  8906  9592  8910  8908 10837  8911  2604  8913\n",
      " 10838  9660  2607  9044  9052  9051  9053  9046  9090  9054  9049 10841\n",
      "  9067  9073  7629  6649  7076  6777  7798  7799  6794  6807  8130  8131\n",
      "  7693  7694  7925  7927  7930  7818  1726  1727  1728  1873  1876  1878\n",
      "  1879  1880  1931  1934  1935  1964  1962  1982  1984  8123  7829  9050\n",
      "  7867  6307  8125  8126  8129  8133  8094  8095  8096  8097  8122  8124\n",
      "  7809  1963  7804  3824  3825 10329  3828  1877  1874 10335 10333   392\n",
      "   393   397   398 10330  5283  5288  5290  5297  5298  5300   374 10332\n",
      "   440   441   437   445   446   448   449   451   455   456   454   457\n",
      "   459  5532  5542  5543  5544 10395 10396 10398 10397 10399 10400 10402\n",
      "  8877  8881  9121  9122  9120  9124  9126  9125  8868  8887  8886  7248\n",
      "  9661  9091  2608 10784  9927  2605  9928  2610  2611  7812  7072  7075\n",
      "  7815  1253  9858  9857 10624 10766 10625  1531  1494  1533  1532  1548\n",
      "  1576  1575  1581  1534 10450  1465   426  7805  7808  1872  1875  2871\n",
      "  7813  1577  1578  1579  1580  1582  1583  2612  2614 10795  2613  5142]\n"
     ]
    }
   ],
   "source": [
    "# 각 컬럼의 고유값\n",
    "columns = df.columns\n",
    "for column in columns:\n",
    "    print(f'{column} : {df[column].unique()}')"
   ]
  },
  {
   "cell_type": "code",
   "execution_count": 117,
   "metadata": {},
   "outputs": [
    {
     "name": "stdout",
     "output_type": "stream",
     "text": [
      "userID : 6698\n",
      "assessmentItemID : 9454\n",
      "testId : 1537\n",
      "answerCode : 2\n",
      "Timestamp : 2076774\n",
      "KnowledgeTag : 912\n"
     ]
    }
   ],
   "source": [
    "# 각 컬럼의 고유값 개수\n",
    "columns = df.columns\n",
    "for column in columns:\n",
    "    print(f'{column} : {df[column].nunique()}')"
   ]
  },
  {
   "cell_type": "code",
   "execution_count": 118,
   "metadata": {},
   "outputs": [
    {
     "data": {
      "text/plain": [
       "array([   0,    1,    2, ..., 7438, 7440, 7441])"
      ]
     },
     "execution_count": 118,
     "metadata": {},
     "output_type": "execute_result"
    }
   ],
   "source": [
    "df['userID'].unique()"
   ]
  },
  {
   "cell_type": "code",
   "execution_count": 119,
   "metadata": {},
   "outputs": [
    {
     "data": {
      "text/plain": [
       "<AxesSubplot: >"
      ]
     },
     "execution_count": 119,
     "metadata": {},
     "output_type": "execute_result"
    },
    {
     "data": {
      "image/png": "[encoded data removed]",
      "text/plain": [
       "<Figure size 2500x1000 with 2 Axes>"
      ]
     },
     "metadata": {},
     "output_type": "display_data"
    }
   ],
   "source": [
    "import missingno as msno\n",
    "msno.matrix(df=df.iloc[:, :], color=(0.1, 0.6, 0.8))"
   ]
  },
  {
   "cell_type": "code",
   "execution_count": 120,
   "metadata": {},
   "outputs": [
    {
     "name": "stdout",
     "output_type": "stream",
     "text": [
      "userID : 0\n",
      "assessmentItemID : 0\n",
      "testId : 0\n",
      "answerCode : 0\n",
      "Timestamp : 0\n",
      "KnowledgeTag : 0\n"
     ]
    }
   ],
   "source": [
    "# 각 컬럼의 결측값 개수 -> 결측치 없음\n",
    "columns = df.columns\n",
    "for column in columns:\n",
    "    print(f'{column} : {df[column].isna().sum()}')"
   ]
  },
  {
   "cell_type": "code",
   "execution_count": 121,
   "metadata": {},
   "outputs": [
    {
     "name": "stdout",
     "output_type": "stream",
     "text": [
      "1    1483205\n",
      "0     783381\n",
      "Name: answerCode, dtype: int64\n"
     ]
    },
    {
     "data": {
      "text/plain": [
       "<AxesSubplot: >"
      ]
     },
     "execution_count": 121,
     "metadata": {},
     "output_type": "execute_result"
    },
    {
     "data": {
      "image/png": "[encoded data removed]",
      "text/plain": [
       "<Figure size 640x480 with 1 Axes>"
      ]
     },
     "metadata": {},
     "output_type": "display_data"
    }
   ],
   "source": [
    "# 정답과 오답의 비율\n",
    "df_answerCode = df['answerCode'].value_counts()\n",
    "print(df_answerCode)\n",
    "df_answerCode.plot(kind='bar')"
   ]
  },
  {
   "cell_type": "code",
   "execution_count": 122,
   "metadata": {},
   "outputs": [
    {
     "name": "stdout",
     "output_type": "stream",
     "text": [
      "7597    12892\n",
      "7600    10734\n",
      "2010    10176\n",
      "7621     9709\n",
      "8127     9006\n",
      "        ...  \n",
      "5142       47\n",
      "2871       46\n",
      "4978       46\n",
      "7125       45\n",
      "2613       44\n",
      "Name: KnowledgeTag, Length: 912, dtype: int64\n"
     ]
    },
    {
     "data": {
      "text/plain": [
       "<AxesSubplot: >"
      ]
     },
     "execution_count": 122,
     "metadata": {},
     "output_type": "execute_result"
    },
    {
     "data": {
      "image/png": "[encoded data removed]",
      "text/plain": [
       "<Figure size 640x480 with 1 Axes>"
      ]
     },
     "metadata": {},
     "output_type": "display_data"
    }
   ],
   "source": [
    "df_tag = df['KnowledgeTag'].value_counts()\n",
    "print(df_tag)\n",
    "df_tag.plot(kind='bar')"
   ]
  },
  {
   "cell_type": "markdown",
   "metadata": {},
   "source": [
    "df2 <- df에서 대분류 추가 후, 대분류와 중분류 특징 관찰"
   ]
  },
  {
   "cell_type": "code",
   "execution_count": 123,
   "metadata": {},
   "outputs": [
    {
     "data": {
      "text/html": [
       "<div>\n",
       "<style scoped>\n",
       "    .dataframe tbody tr th:only-of-type {\n",
       "        vertical-align: middle;\n",
       "    }\n",
       "\n",
       "    .dataframe tbody tr th {\n",
       "        vertical-align: top;\n",
       "    }\n",
       "\n",
       "    .dataframe thead th {\n",
       "        text-align: right;\n",
       "    }\n",
       "</style>\n",
       "<table border=\"1\" class=\"dataframe\">\n",
       "  <thead>\n",
       "    <tr style=\"text-align: right;\">\n",
       "      <th></th>\n",
       "      <th>userID</th>\n",
       "      <th>assessmentItemID</th>\n",
       "      <th>testId</th>\n",
       "      <th>answerCode</th>\n",
       "      <th>Timestamp</th>\n",
       "      <th>KnowledgeTag</th>\n",
       "    </tr>\n",
       "  </thead>\n",
       "  <tbody>\n",
       "    <tr>\n",
       "      <th>0</th>\n",
       "      <td>0</td>\n",
       "      <td>A060001001</td>\n",
       "      <td>A060000001</td>\n",
       "      <td>1</td>\n",
       "      <td>2020-03-24 00:17:11</td>\n",
       "      <td>7224</td>\n",
       "    </tr>\n",
       "    <tr>\n",
       "      <th>1</th>\n",
       "      <td>0</td>\n",
       "      <td>A060001002</td>\n",
       "      <td>A060000001</td>\n",
       "      <td>1</td>\n",
       "      <td>2020-03-24 00:17:14</td>\n",
       "      <td>7225</td>\n",
       "    </tr>\n",
       "    <tr>\n",
       "      <th>2</th>\n",
       "      <td>0</td>\n",
       "      <td>A060001003</td>\n",
       "      <td>A060000001</td>\n",
       "      <td>1</td>\n",
       "      <td>2020-03-24 00:17:22</td>\n",
       "      <td>7225</td>\n",
       "    </tr>\n",
       "    <tr>\n",
       "      <th>3</th>\n",
       "      <td>0</td>\n",
       "      <td>A060001004</td>\n",
       "      <td>A060000001</td>\n",
       "      <td>1</td>\n",
       "      <td>2020-03-24 00:17:29</td>\n",
       "      <td>7225</td>\n",
       "    </tr>\n",
       "    <tr>\n",
       "      <th>4</th>\n",
       "      <td>0</td>\n",
       "      <td>A060001005</td>\n",
       "      <td>A060000001</td>\n",
       "      <td>1</td>\n",
       "      <td>2020-03-24 00:17:36</td>\n",
       "      <td>7225</td>\n",
       "    </tr>\n",
       "  </tbody>\n",
       "</table>\n",
       "</div>"
      ],
      "text/plain": [
       "   userID assessmentItemID      testId  answerCode            Timestamp  \\\n",
       "0       0       A060001001  A060000001           1  2020-03-24 00:17:11   \n",
       "1       0       A060001002  A060000001           1  2020-03-24 00:17:14   \n",
       "2       0       A060001003  A060000001           1  2020-03-24 00:17:22   \n",
       "3       0       A060001004  A060000001           1  2020-03-24 00:17:29   \n",
       "4       0       A060001005  A060000001           1  2020-03-24 00:17:36   \n",
       "\n",
       "   KnowledgeTag  \n",
       "0          7224  \n",
       "1          7225  \n",
       "2          7225  \n",
       "3          7225  \n",
       "4          7225  "
      ]
     },
     "execution_count": 123,
     "metadata": {},
     "output_type": "execute_result"
    }
   ],
   "source": [
    "df2 = df.copy()\n",
    "df2.head()"
   ]
  },
  {
   "cell_type": "code",
   "execution_count": 124,
   "metadata": {},
   "outputs": [],
   "source": [
    "df2['test_tag'] = df2['testId'].apply(lambda x: x[2:3])"
   ]
  },
  {
   "cell_type": "code",
   "execution_count": 125,
   "metadata": {},
   "outputs": [
    {
     "data": {
      "text/plain": [
       "array(['6', '8', '2', '4', '9', '3', '5', '1', '7'], dtype=object)"
      ]
     },
     "execution_count": 125,
     "metadata": {},
     "output_type": "execute_result"
    }
   ],
   "source": [
    "df2['test_tag'].unique()"
   ]
  },
  {
   "cell_type": "code",
   "execution_count": 126,
   "metadata": {},
   "outputs": [
    {
     "data": {
      "text/plain": [
       "<AxesSubplot: >"
      ]
     },
     "execution_count": 126,
     "metadata": {},
     "output_type": "execute_result"
    },
    {
     "data": {
      "image/png": "[encoded data removed]",
      "text/plain": [
       "<Figure size 640x480 with 1 Axes>"
      ]
     },
     "metadata": {},
     "output_type": "display_data"
    }
   ],
   "source": [
    "df2['test_tag'].value_counts().plot(kind='bar')"
   ]
  },
  {
   "cell_type": "markdown",
   "metadata": {},
   "source": [
    "df2에 test_tag로 대분류 feature를 추가하고 데이터 개수를 비교해주자\n",
    "7이 제일 많고 9가 제일 적은 것은 것을 볼 수 있다."
   ]
  },
  {
   "cell_type": "code",
   "execution_count": 127,
   "metadata": {},
   "outputs": [],
   "source": [
    "def percentile(s):\n",
    "    return np.sum(s) / len(s)"
   ]
  },
  {
   "cell_type": "code",
   "execution_count": 128,
   "metadata": {},
   "outputs": [
    {
     "data": {
      "text/plain": [
       "<AxesSubplot: xlabel='test_tag'>"
      ]
     },
     "execution_count": 128,
     "metadata": {},
     "output_type": "execute_result"
    },
    {
     "data": {
      "image/png": "[encoded data removed]",
      "text/plain": [
       "<Figure size 640x480 with 1 Axes>"
      ]
     },
     "metadata": {},
     "output_type": "display_data"
    }
   ],
   "source": [
    "df2.groupby('test_tag').agg({\n",
    "    'answerCode' : percentile\n",
    "}).plot(kind='bar')"
   ]
  },
  {
   "cell_type": "markdown",
   "metadata": {},
   "source": [
    "test_tag 대분류로 그룹핑해서 정답률을 확인해주었을 때, 대분류 별로 유의미한 차이가 있음을 볼 수 있다.\n",
    "-> 대분류로 feature 추가 고려해보자"
   ]
  },
  {
   "cell_type": "code",
   "execution_count": 129,
   "metadata": {},
   "outputs": [
    {
     "data": {
      "text/plain": [
       "<AxesSubplot: xlabel='KnowledgeTag'>"
      ]
     },
     "execution_count": 129,
     "metadata": {},
     "output_type": "execute_result"
    },
    {
     "data": {
      "image/png": "[encoded data removed]",
      "text/plain": [
       "<Figure size 640x480 with 1 Axes>"
      ]
     },
     "metadata": {},
     "output_type": "display_data"
    }
   ],
   "source": [
    "df2.groupby('KnowledgeTag').agg({\n",
    "    'answerCode' : percentile\n",
    "}).plot(kind='bar')"
   ]
  },
  {
   "cell_type": "code",
   "execution_count": 130,
   "metadata": {},
   "outputs": [
    {
     "data": {
      "text/html": [
       "<div>\n",
       "<style scoped>\n",
       "    .dataframe tbody tr th:only-of-type {\n",
       "        vertical-align: middle;\n",
       "    }\n",
       "\n",
       "    .dataframe tbody tr th {\n",
       "        vertical-align: top;\n",
       "    }\n",
       "\n",
       "    .dataframe thead th {\n",
       "        text-align: right;\n",
       "    }\n",
       "</style>\n",
       "<table border=\"1\" class=\"dataframe\">\n",
       "  <thead>\n",
       "    <tr style=\"text-align: right;\">\n",
       "      <th></th>\n",
       "      <th>userID</th>\n",
       "      <th>assessmentItemID</th>\n",
       "      <th>testId</th>\n",
       "      <th>answerCode</th>\n",
       "      <th>Timestamp</th>\n",
       "      <th>KnowledgeTag</th>\n",
       "      <th>test_tag</th>\n",
       "    </tr>\n",
       "  </thead>\n",
       "  <tbody>\n",
       "  </tbody>\n",
       "</table>\n",
       "</div>"
      ],
      "text/plain": [
       "Empty DataFrame\n",
       "Columns: [userID, assessmentItemID, testId, answerCode, Timestamp, KnowledgeTag, test_tag]\n",
       "Index: []"
      ]
     },
     "execution_count": 130,
     "metadata": {},
     "output_type": "execute_result"
    }
   ],
   "source": [
    "df2[df2['KnowledgeTag'] == 0]"
   ]
  },
  {
   "cell_type": "code",
   "execution_count": 131,
   "metadata": {},
   "outputs": [
    {
     "data": {
      "text/html": [
       "<div>\n",
       "<style scoped>\n",
       "    .dataframe tbody tr th:only-of-type {\n",
       "        vertical-align: middle;\n",
       "    }\n",
       "\n",
       "    .dataframe tbody tr th {\n",
       "        vertical-align: top;\n",
       "    }\n",
       "\n",
       "    .dataframe thead th {\n",
       "        text-align: right;\n",
       "    }\n",
       "</style>\n",
       "<table border=\"1\" class=\"dataframe\">\n",
       "  <thead>\n",
       "    <tr style=\"text-align: right;\">\n",
       "      <th></th>\n",
       "      <th>KnowledgeTag</th>\n",
       "      <th>count</th>\n",
       "    </tr>\n",
       "  </thead>\n",
       "  <tbody>\n",
       "    <tr>\n",
       "      <th>0</th>\n",
       "      <td>7597</td>\n",
       "      <td>12892</td>\n",
       "    </tr>\n",
       "    <tr>\n",
       "      <th>1</th>\n",
       "      <td>7600</td>\n",
       "      <td>10734</td>\n",
       "    </tr>\n",
       "    <tr>\n",
       "      <th>2</th>\n",
       "      <td>2010</td>\n",
       "      <td>10176</td>\n",
       "    </tr>\n",
       "    <tr>\n",
       "      <th>3</th>\n",
       "      <td>7621</td>\n",
       "      <td>9709</td>\n",
       "    </tr>\n",
       "    <tr>\n",
       "      <th>4</th>\n",
       "      <td>8127</td>\n",
       "      <td>9006</td>\n",
       "    </tr>\n",
       "    <tr>\n",
       "      <th>5</th>\n",
       "      <td>8004</td>\n",
       "      <td>8394</td>\n",
       "    </tr>\n",
       "    <tr>\n",
       "      <th>6</th>\n",
       "      <td>2085</td>\n",
       "      <td>8247</td>\n",
       "    </tr>\n",
       "    <tr>\n",
       "      <th>7</th>\n",
       "      <td>10169</td>\n",
       "      <td>8180</td>\n",
       "    </tr>\n",
       "    <tr>\n",
       "      <th>8</th>\n",
       "      <td>2065</td>\n",
       "      <td>7945</td>\n",
       "    </tr>\n",
       "    <tr>\n",
       "      <th>9</th>\n",
       "      <td>7599</td>\n",
       "      <td>7231</td>\n",
       "    </tr>\n",
       "  </tbody>\n",
       "</table>\n",
       "</div>"
      ],
      "text/plain": [
       "   KnowledgeTag  count\n",
       "0          7597  12892\n",
       "1          7600  10734\n",
       "2          2010  10176\n",
       "3          7621   9709\n",
       "4          8127   9006\n",
       "5          8004   8394\n",
       "6          2085   8247\n",
       "7         10169   8180\n",
       "8          2065   7945\n",
       "9          7599   7231"
      ]
     },
     "execution_count": 131,
     "metadata": {},
     "output_type": "execute_result"
    }
   ],
   "source": [
    "tag_high_df = pd.DataFrame(df2['KnowledgeTag'].value_counts()).reset_index()\n",
    "tag_high_df.columns = ['KnowledgeTag','count']\n",
    "tag_high_df.head(10)"
   ]
  },
  {
   "cell_type": "markdown",
   "metadata": {},
   "source": [
    "문항 ID와 tag 가 관련이 있을까?"
   ]
  },
  {
   "cell_type": "code",
   "execution_count": 132,
   "metadata": {},
   "outputs": [
    {
     "data": {
      "text/plain": [
       "['001',\n",
       " '002',\n",
       " '003',\n",
       " '004',\n",
       " '005',\n",
       " '006',\n",
       " '007',\n",
       " '008',\n",
       " '009',\n",
       " '010',\n",
       " '011',\n",
       " '012',\n",
       " '013']"
      ]
     },
     "execution_count": 132,
     "metadata": {},
     "output_type": "execute_result"
    }
   ],
   "source": [
    "sorted(df2['assessmentItemID'].apply(lambda x:x[-3:]).unique())"
   ]
  },
  {
   "cell_type": "code",
   "execution_count": 133,
   "metadata": {},
   "outputs": [
    {
     "data": {
      "text/plain": [
       "array(['001', '002', '003', '004', '005', '006', '007', '008', '009',\n",
       "       '010', '011', '012', '013', '014', '015', '016', '017', '018',\n",
       "       '019', '020', '021', '022', '023', '024', '025', '026', '027',\n",
       "       '028', '029', '030', '031', '032', '033', '034', '035', '036',\n",
       "       '037', '038', '039', '040', '041', '042', '043', '044', '045',\n",
       "       '046', '047', '048', '049', '050', '051', '052', '053', '054',\n",
       "       '055', '056', '057', '058', '059', '060', '061', '062', '063',\n",
       "       '064', '065', '066', '067', '068', '069', '070', '071', '072',\n",
       "       '073', '074', '075', '076', '077', '078', '079', '080', '081',\n",
       "       '082', '083', '084', '085', '086', '087', '088', '089', '090',\n",
       "       '091', '092', '093', '094', '095', '096', '097', '098', '099',\n",
       "       '100', '101', '102', '103', '104', '105', '106', '107', '108',\n",
       "       '109', '110', '111', '112', '113', '114', '115', '116', '117',\n",
       "       '118', '119', '120', '121', '122', '123', '124', '125', '126',\n",
       "       '127', '128', '129', '130', '131', '132', '133', '134', '135',\n",
       "       '136', '137', '138', '139', '140', '141', '142', '143', '144',\n",
       "       '145', '146', '147', '148', '149', '150', '151', '152', '153',\n",
       "       '154', '155', '156', '157', '158', '159', '160', '161', '162',\n",
       "       '163', '164', '165', '166', '167', '168', '169', '170', '171',\n",
       "       '172', '173', '174', '175', '176', '177', '178', '179', '180',\n",
       "       '181', '182', '183', '184', '185', '186', '187', '188', '189',\n",
       "       '190', '191', '192', '193', '194', '195', '196', '197', '198'],\n",
       "      dtype=object)"
      ]
     },
     "execution_count": 133,
     "metadata": {},
     "output_type": "execute_result"
    }
   ],
   "source": [
    "temp = df2['assessmentItemID'].apply(lambda x:x[-6:-3]).unique()\n",
    "temp.sort()\n",
    "temp"
   ]
  },
  {
   "cell_type": "markdown",
   "metadata": {},
   "source": [
    "문항ID의 뒤 세자리 숫자는 1~13번까지... 한 시험지 당 13번까지만 있나보다.\n",
    "문항ID의 숫자 가운데 세자리 숫자는 1~198번까지... 무슨 상관이 있을까!\n",
    "\n",
    "문항 ID를 다시 정리하면,\n",
    "앞의 첫자리는 무조건 A.\n",
    "그 다음 세자리는 1~9로 대분류 feature로 나눴던 세자리.\n",
    "그 다음 세자리는 1~198까지의 무언가.\n",
    "마지막 세자리는 시험지 내 문항 번호로 1~13까지.\n"
   ]
  },
  {
   "cell_type": "code",
   "execution_count": 182,
   "metadata": {},
   "outputs": [],
   "source": [
    "tag_group = df2.groupby(['test_tag', 'KnowledgeTag']).agg({\n",
    "    'answerCode' : percentile\n",
    "})"
   ]
  },
  {
   "cell_type": "code",
   "execution_count": 187,
   "metadata": {},
   "outputs": [],
   "source": [
    "tag_group = tag_group.reset_index()"
   ]
  },
  {
   "cell_type": "code",
   "execution_count": 192,
   "metadata": {},
   "outputs": [
    {
     "name": "stderr",
     "output_type": "stream",
     "text": [
      "/tmp/ipykernel_38919/2178446056.py:2: FutureWarning: In a future version of pandas all arguments of DataFrame.pivot will be keyword-only.\n",
      "  sns.heatmap(tag_group.pivot('test_tag','KnowledgeTag', 'answerCode'))\n"
     ]
    },
    {
     "data": {
      "text/plain": [
       "<AxesSubplot: xlabel='KnowledgeTag', ylabel='test_tag'>"
      ]
     },
     "execution_count": 192,
     "metadata": {},
     "output_type": "execute_result"
    },
    {
     "data": {
      "image/png": "[encoded data removed]",
      "text/plain": [
       "<Figure size 2000x500 with 2 Axes>"
      ]
     },
     "metadata": {},
     "output_type": "display_data"
    }
   ],
   "source": [
    "plt.figure(figsize=(20,5))\n",
    "sns.heatmap(tag_group.pivot('test_tag','KnowledgeTag', 'answerCode'))"
   ]
  },
  {
   "cell_type": "markdown",
   "metadata": {},
   "source": [
    "대분류와 중분류 크로스탭 결과 분석\n",
    "-> 중분류가 특정 대분류에만 포함되어 있는 것을 알 수 있었음."
   ]
  },
  {
   "cell_type": "code",
   "execution_count": 135,
   "metadata": {},
   "outputs": [
    {
     "data": {
      "text/html": [
       "<div>\n",
       "<style scoped>\n",
       "    .dataframe tbody tr th:only-of-type {\n",
       "        vertical-align: middle;\n",
       "    }\n",
       "\n",
       "    .dataframe tbody tr th {\n",
       "        vertical-align: top;\n",
       "    }\n",
       "\n",
       "    .dataframe thead th {\n",
       "        text-align: right;\n",
       "    }\n",
       "</style>\n",
       "<table border=\"1\" class=\"dataframe\">\n",
       "  <thead>\n",
       "    <tr style=\"text-align: right;\">\n",
       "      <th>KnowledgeTag</th>\n",
       "      <th>23</th>\n",
       "      <th>24</th>\n",
       "      <th>25</th>\n",
       "      <th>26</th>\n",
       "      <th>30</th>\n",
       "      <th>31</th>\n",
       "      <th>32</th>\n",
       "      <th>78</th>\n",
       "      <th>116</th>\n",
       "      <th>117</th>\n",
       "      <th>...</th>\n",
       "      <th>11214</th>\n",
       "      <th>11235</th>\n",
       "      <th>11236</th>\n",
       "      <th>11241</th>\n",
       "      <th>11246</th>\n",
       "      <th>11253</th>\n",
       "      <th>11265</th>\n",
       "      <th>11269</th>\n",
       "      <th>11270</th>\n",
       "      <th>11271</th>\n",
       "    </tr>\n",
       "    <tr>\n",
       "      <th>test_tag</th>\n",
       "      <th></th>\n",
       "      <th></th>\n",
       "      <th></th>\n",
       "      <th></th>\n",
       "      <th></th>\n",
       "      <th></th>\n",
       "      <th></th>\n",
       "      <th></th>\n",
       "      <th></th>\n",
       "      <th></th>\n",
       "      <th></th>\n",
       "      <th></th>\n",
       "      <th></th>\n",
       "      <th></th>\n",
       "      <th></th>\n",
       "      <th></th>\n",
       "      <th></th>\n",
       "      <th></th>\n",
       "      <th></th>\n",
       "      <th></th>\n",
       "      <th></th>\n",
       "    </tr>\n",
       "  </thead>\n",
       "  <tbody>\n",
       "    <tr>\n",
       "      <th>1</th>\n",
       "      <td>0</td>\n",
       "      <td>0</td>\n",
       "      <td>0</td>\n",
       "      <td>0</td>\n",
       "      <td>0</td>\n",
       "      <td>0</td>\n",
       "      <td>0</td>\n",
       "      <td>0</td>\n",
       "      <td>0</td>\n",
       "      <td>0</td>\n",
       "      <td>...</td>\n",
       "      <td>0</td>\n",
       "      <td>0</td>\n",
       "      <td>0</td>\n",
       "      <td>0</td>\n",
       "      <td>0</td>\n",
       "      <td>0</td>\n",
       "      <td>0</td>\n",
       "      <td>0</td>\n",
       "      <td>0</td>\n",
       "      <td>0</td>\n",
       "    </tr>\n",
       "    <tr>\n",
       "      <th>2</th>\n",
       "      <td>0</td>\n",
       "      <td>0</td>\n",
       "      <td>0</td>\n",
       "      <td>0</td>\n",
       "      <td>0</td>\n",
       "      <td>0</td>\n",
       "      <td>0</td>\n",
       "      <td>0</td>\n",
       "      <td>0</td>\n",
       "      <td>0</td>\n",
       "      <td>...</td>\n",
       "      <td>0</td>\n",
       "      <td>0</td>\n",
       "      <td>0</td>\n",
       "      <td>0</td>\n",
       "      <td>0</td>\n",
       "      <td>0</td>\n",
       "      <td>0</td>\n",
       "      <td>0</td>\n",
       "      <td>0</td>\n",
       "      <td>0</td>\n",
       "    </tr>\n",
       "    <tr>\n",
       "      <th>3</th>\n",
       "      <td>0</td>\n",
       "      <td>0</td>\n",
       "      <td>0</td>\n",
       "      <td>0</td>\n",
       "      <td>0</td>\n",
       "      <td>0</td>\n",
       "      <td>0</td>\n",
       "      <td>0</td>\n",
       "      <td>0</td>\n",
       "      <td>0</td>\n",
       "      <td>...</td>\n",
       "      <td>0</td>\n",
       "      <td>0</td>\n",
       "      <td>0</td>\n",
       "      <td>0</td>\n",
       "      <td>0</td>\n",
       "      <td>0</td>\n",
       "      <td>0</td>\n",
       "      <td>0</td>\n",
       "      <td>0</td>\n",
       "      <td>0</td>\n",
       "    </tr>\n",
       "    <tr>\n",
       "      <th>4</th>\n",
       "      <td>0</td>\n",
       "      <td>0</td>\n",
       "      <td>0</td>\n",
       "      <td>0</td>\n",
       "      <td>0</td>\n",
       "      <td>0</td>\n",
       "      <td>0</td>\n",
       "      <td>0</td>\n",
       "      <td>0</td>\n",
       "      <td>0</td>\n",
       "      <td>...</td>\n",
       "      <td>4219</td>\n",
       "      <td>542</td>\n",
       "      <td>537</td>\n",
       "      <td>531</td>\n",
       "      <td>1476</td>\n",
       "      <td>4282</td>\n",
       "      <td>454</td>\n",
       "      <td>2417</td>\n",
       "      <td>261</td>\n",
       "      <td>522</td>\n",
       "    </tr>\n",
       "    <tr>\n",
       "      <th>5</th>\n",
       "      <td>0</td>\n",
       "      <td>0</td>\n",
       "      <td>0</td>\n",
       "      <td>0</td>\n",
       "      <td>0</td>\n",
       "      <td>0</td>\n",
       "      <td>0</td>\n",
       "      <td>0</td>\n",
       "      <td>0</td>\n",
       "      <td>0</td>\n",
       "      <td>...</td>\n",
       "      <td>0</td>\n",
       "      <td>0</td>\n",
       "      <td>0</td>\n",
       "      <td>0</td>\n",
       "      <td>0</td>\n",
       "      <td>0</td>\n",
       "      <td>0</td>\n",
       "      <td>0</td>\n",
       "      <td>0</td>\n",
       "      <td>0</td>\n",
       "    </tr>\n",
       "    <tr>\n",
       "      <th>6</th>\n",
       "      <td>0</td>\n",
       "      <td>0</td>\n",
       "      <td>0</td>\n",
       "      <td>0</td>\n",
       "      <td>0</td>\n",
       "      <td>0</td>\n",
       "      <td>0</td>\n",
       "      <td>0</td>\n",
       "      <td>0</td>\n",
       "      <td>0</td>\n",
       "      <td>...</td>\n",
       "      <td>0</td>\n",
       "      <td>0</td>\n",
       "      <td>0</td>\n",
       "      <td>0</td>\n",
       "      <td>0</td>\n",
       "      <td>0</td>\n",
       "      <td>0</td>\n",
       "      <td>0</td>\n",
       "      <td>0</td>\n",
       "      <td>0</td>\n",
       "    </tr>\n",
       "    <tr>\n",
       "      <th>7</th>\n",
       "      <td>0</td>\n",
       "      <td>0</td>\n",
       "      <td>0</td>\n",
       "      <td>0</td>\n",
       "      <td>0</td>\n",
       "      <td>0</td>\n",
       "      <td>0</td>\n",
       "      <td>0</td>\n",
       "      <td>1328</td>\n",
       "      <td>1807</td>\n",
       "      <td>...</td>\n",
       "      <td>0</td>\n",
       "      <td>0</td>\n",
       "      <td>0</td>\n",
       "      <td>0</td>\n",
       "      <td>0</td>\n",
       "      <td>0</td>\n",
       "      <td>0</td>\n",
       "      <td>0</td>\n",
       "      <td>0</td>\n",
       "      <td>0</td>\n",
       "    </tr>\n",
       "    <tr>\n",
       "      <th>8</th>\n",
       "      <td>1800</td>\n",
       "      <td>358</td>\n",
       "      <td>92</td>\n",
       "      <td>2432</td>\n",
       "      <td>539</td>\n",
       "      <td>1123</td>\n",
       "      <td>4282</td>\n",
       "      <td>0</td>\n",
       "      <td>0</td>\n",
       "      <td>0</td>\n",
       "      <td>...</td>\n",
       "      <td>0</td>\n",
       "      <td>0</td>\n",
       "      <td>0</td>\n",
       "      <td>0</td>\n",
       "      <td>0</td>\n",
       "      <td>0</td>\n",
       "      <td>0</td>\n",
       "      <td>0</td>\n",
       "      <td>0</td>\n",
       "      <td>0</td>\n",
       "    </tr>\n",
       "    <tr>\n",
       "      <th>9</th>\n",
       "      <td>0</td>\n",
       "      <td>0</td>\n",
       "      <td>0</td>\n",
       "      <td>0</td>\n",
       "      <td>0</td>\n",
       "      <td>0</td>\n",
       "      <td>0</td>\n",
       "      <td>1581</td>\n",
       "      <td>0</td>\n",
       "      <td>0</td>\n",
       "      <td>...</td>\n",
       "      <td>0</td>\n",
       "      <td>0</td>\n",
       "      <td>0</td>\n",
       "      <td>0</td>\n",
       "      <td>0</td>\n",
       "      <td>0</td>\n",
       "      <td>0</td>\n",
       "      <td>0</td>\n",
       "      <td>0</td>\n",
       "      <td>0</td>\n",
       "    </tr>\n",
       "  </tbody>\n",
       "</table>\n",
       "<p>9 rows × 912 columns</p>\n",
       "</div>"
      ],
      "text/plain": [
       "KnowledgeTag  23     24     25     26     30     31     32     78     116    \\\n",
       "test_tag                                                                      \n",
       "1                 0      0      0      0      0      0      0      0      0   \n",
       "2                 0      0      0      0      0      0      0      0      0   \n",
       "3                 0      0      0      0      0      0      0      0      0   \n",
       "4                 0      0      0      0      0      0      0      0      0   \n",
       "5                 0      0      0      0      0      0      0      0      0   \n",
       "6                 0      0      0      0      0      0      0      0      0   \n",
       "7                 0      0      0      0      0      0      0      0   1328   \n",
       "8              1800    358     92   2432    539   1123   4282      0      0   \n",
       "9                 0      0      0      0      0      0      0   1581      0   \n",
       "\n",
       "KnowledgeTag  117    ...  11214  11235  11236  11241  11246  11253  11265  \\\n",
       "test_tag             ...                                                    \n",
       "1                 0  ...      0      0      0      0      0      0      0   \n",
       "2                 0  ...      0      0      0      0      0      0      0   \n",
       "3                 0  ...      0      0      0      0      0      0      0   \n",
       "4                 0  ...   4219    542    537    531   1476   4282    454   \n",
       "5                 0  ...      0      0      0      0      0      0      0   \n",
       "6                 0  ...      0      0      0      0      0      0      0   \n",
       "7              1807  ...      0      0      0      0      0      0      0   \n",
       "8                 0  ...      0      0      0      0      0      0      0   \n",
       "9                 0  ...      0      0      0      0      0      0      0   \n",
       "\n",
       "KnowledgeTag  11269  11270  11271  \n",
       "test_tag                           \n",
       "1                 0      0      0  \n",
       "2                 0      0      0  \n",
       "3                 0      0      0  \n",
       "4              2417    261    522  \n",
       "5                 0      0      0  \n",
       "6                 0      0      0  \n",
       "7                 0      0      0  \n",
       "8                 0      0      0  \n",
       "9                 0      0      0  \n",
       "\n",
       "[9 rows x 912 columns]"
      ]
     },
     "execution_count": 135,
     "metadata": {},
     "output_type": "execute_result"
    }
   ],
   "source": [
    "cross_tag = pd.crosstab(df2['test_tag'], df2['KnowledgeTag'], margins=False)\n",
    "cross_tag"
   ]
  },
  {
   "cell_type": "code",
   "execution_count": 137,
   "metadata": {},
   "outputs": [
    {
     "data": {
      "text/plain": [
       "7    279164\n",
       "5    275773\n",
       "3    273762\n",
       "1    272082\n",
       "2    268327\n",
       "4    267323\n",
       "6    264434\n",
       "8    246336\n",
       "9    119385\n",
       "Name: test_tag, dtype: int64"
      ]
     },
     "execution_count": 137,
     "metadata": {},
     "output_type": "execute_result"
    }
   ],
   "source": [
    "df2['test_tag'].value_counts()"
   ]
  },
  {
   "cell_type": "code",
   "execution_count": 138,
   "metadata": {},
   "outputs": [
    {
     "data": {
      "text/plain": [
       "7597    12892\n",
       "7600    10734\n",
       "2010    10176\n",
       "7621     9709\n",
       "8127     9006\n",
       "        ...  \n",
       "5142       47\n",
       "2871       46\n",
       "4978       46\n",
       "7125       45\n",
       "2613       44\n",
       "Name: KnowledgeTag, Length: 912, dtype: int64"
      ]
     },
     "execution_count": 138,
     "metadata": {},
     "output_type": "execute_result"
    }
   ],
   "source": [
    "df2['KnowledgeTag'].value_counts()"
   ]
  },
  {
   "cell_type": "code",
   "execution_count": 155,
   "metadata": {},
   "outputs": [
    {
     "data": {
      "text/plain": [
       "64"
      ]
     },
     "execution_count": 155,
     "metadata": {},
     "output_type": "execute_result"
    }
   ],
   "source": [
    "df2[df2['test_tag'] == '1']['KnowledgeTag'].nunique()"
   ]
  },
  {
   "cell_type": "code",
   "execution_count": 150,
   "metadata": {},
   "outputs": [
    {
     "data": {
      "text/plain": [
       "150"
      ]
     },
     "execution_count": 150,
     "metadata": {},
     "output_type": "execute_result"
    }
   ],
   "source": [
    "df2[df2['test_tag'] == '8']['KnowledgeTag'].nunique()"
   ]
  },
  {
   "cell_type": "code",
   "execution_count": 159,
   "metadata": {},
   "outputs": [],
   "source": [
    "set1 = df2[df2['test_tag'] == '1']['KnowledgeTag'].unique()\n",
    "set8 = df2[df2['test_tag'] == '8']['KnowledgeTag'].unique()"
   ]
  },
  {
   "cell_type": "code",
   "execution_count": 162,
   "metadata": {},
   "outputs": [
    {
     "data": {
      "text/plain": [
       "[]"
      ]
     },
     "execution_count": 162,
     "metadata": {},
     "output_type": "execute_result"
    }
   ],
   "source": [
    "list(set(set1).intersection(set8))"
   ]
  },
  {
   "cell_type": "code",
   "execution_count": 163,
   "metadata": {},
   "outputs": [
    {
     "data": {
      "text/plain": [
       "[]"
      ]
     },
     "execution_count": 163,
     "metadata": {},
     "output_type": "execute_result"
    }
   ],
   "source": [
    "list(set(set8).intersection(set1))"
   ]
  },
  {
   "cell_type": "code",
   "execution_count": 256,
   "metadata": {},
   "outputs": [
    {
     "data": {
      "text/html": [
       "<div>\n",
       "<style scoped>\n",
       "    .dataframe tbody tr th:only-of-type {\n",
       "        vertical-align: middle;\n",
       "    }\n",
       "\n",
       "    .dataframe tbody tr th {\n",
       "        vertical-align: top;\n",
       "    }\n",
       "\n",
       "    .dataframe thead th {\n",
       "        text-align: right;\n",
       "    }\n",
       "</style>\n",
       "<table border=\"1\" class=\"dataframe\">\n",
       "  <thead>\n",
       "    <tr style=\"text-align: right;\">\n",
       "      <th></th>\n",
       "      <th>userID</th>\n",
       "      <th>assessmentItemID</th>\n",
       "      <th>testId</th>\n",
       "      <th>answerCode</th>\n",
       "      <th>Timestamp</th>\n",
       "      <th>KnowledgeTag</th>\n",
       "      <th>test_tag</th>\n",
       "    </tr>\n",
       "  </thead>\n",
       "  <tbody>\n",
       "    <tr>\n",
       "      <th>0</th>\n",
       "      <td>0</td>\n",
       "      <td>A060001001</td>\n",
       "      <td>A060000001</td>\n",
       "      <td>1</td>\n",
       "      <td>2020-03-24 00:17:11</td>\n",
       "      <td>7224</td>\n",
       "      <td>6</td>\n",
       "    </tr>\n",
       "    <tr>\n",
       "      <th>1</th>\n",
       "      <td>0</td>\n",
       "      <td>A060001002</td>\n",
       "      <td>A060000001</td>\n",
       "      <td>1</td>\n",
       "      <td>2020-03-24 00:17:14</td>\n",
       "      <td>7225</td>\n",
       "      <td>6</td>\n",
       "    </tr>\n",
       "    <tr>\n",
       "      <th>2</th>\n",
       "      <td>0</td>\n",
       "      <td>A060001003</td>\n",
       "      <td>A060000001</td>\n",
       "      <td>1</td>\n",
       "      <td>2020-03-24 00:17:22</td>\n",
       "      <td>7225</td>\n",
       "      <td>6</td>\n",
       "    </tr>\n",
       "    <tr>\n",
       "      <th>3</th>\n",
       "      <td>0</td>\n",
       "      <td>A060001004</td>\n",
       "      <td>A060000001</td>\n",
       "      <td>1</td>\n",
       "      <td>2020-03-24 00:17:29</td>\n",
       "      <td>7225</td>\n",
       "      <td>6</td>\n",
       "    </tr>\n",
       "    <tr>\n",
       "      <th>4</th>\n",
       "      <td>0</td>\n",
       "      <td>A060001005</td>\n",
       "      <td>A060000001</td>\n",
       "      <td>1</td>\n",
       "      <td>2020-03-24 00:17:36</td>\n",
       "      <td>7225</td>\n",
       "      <td>6</td>\n",
       "    </tr>\n",
       "    <tr>\n",
       "      <th>...</th>\n",
       "      <td>...</td>\n",
       "      <td>...</td>\n",
       "      <td>...</td>\n",
       "      <td>...</td>\n",
       "      <td>...</td>\n",
       "      <td>...</td>\n",
       "      <td>...</td>\n",
       "    </tr>\n",
       "    <tr>\n",
       "      <th>2266581</th>\n",
       "      <td>7441</td>\n",
       "      <td>A030071005</td>\n",
       "      <td>A030000071</td>\n",
       "      <td>0</td>\n",
       "      <td>2020-06-05 06:50:21</td>\n",
       "      <td>438</td>\n",
       "      <td>3</td>\n",
       "    </tr>\n",
       "    <tr>\n",
       "      <th>2266582</th>\n",
       "      <td>7441</td>\n",
       "      <td>A040165001</td>\n",
       "      <td>A040000165</td>\n",
       "      <td>1</td>\n",
       "      <td>2020-08-21 01:06:39</td>\n",
       "      <td>8836</td>\n",
       "      <td>4</td>\n",
       "    </tr>\n",
       "    <tr>\n",
       "      <th>2266583</th>\n",
       "      <td>7441</td>\n",
       "      <td>A040165002</td>\n",
       "      <td>A040000165</td>\n",
       "      <td>1</td>\n",
       "      <td>2020-08-21 01:06:50</td>\n",
       "      <td>8836</td>\n",
       "      <td>4</td>\n",
       "    </tr>\n",
       "    <tr>\n",
       "      <th>2266584</th>\n",
       "      <td>7441</td>\n",
       "      <td>A040165003</td>\n",
       "      <td>A040000165</td>\n",
       "      <td>1</td>\n",
       "      <td>2020-08-21 01:07:36</td>\n",
       "      <td>8836</td>\n",
       "      <td>4</td>\n",
       "    </tr>\n",
       "    <tr>\n",
       "      <th>2266585</th>\n",
       "      <td>7441</td>\n",
       "      <td>A040165004</td>\n",
       "      <td>A040000165</td>\n",
       "      <td>1</td>\n",
       "      <td>2020-08-21 01:08:49</td>\n",
       "      <td>8836</td>\n",
       "      <td>4</td>\n",
       "    </tr>\n",
       "  </tbody>\n",
       "</table>\n",
       "<p>2266586 rows × 7 columns</p>\n",
       "</div>"
      ],
      "text/plain": [
       "         userID assessmentItemID      testId  answerCode            Timestamp  \\\n",
       "0             0       A060001001  A060000001           1  2020-03-24 00:17:11   \n",
       "1             0       A060001002  A060000001           1  2020-03-24 00:17:14   \n",
       "2             0       A060001003  A060000001           1  2020-03-24 00:17:22   \n",
       "3             0       A060001004  A060000001           1  2020-03-24 00:17:29   \n",
       "4             0       A060001005  A060000001           1  2020-03-24 00:17:36   \n",
       "...         ...              ...         ...         ...                  ...   \n",
       "2266581    7441       A030071005  A030000071           0  2020-06-05 06:50:21   \n",
       "2266582    7441       A040165001  A040000165           1  2020-08-21 01:06:39   \n",
       "2266583    7441       A040165002  A040000165           1  2020-08-21 01:06:50   \n",
       "2266584    7441       A040165003  A040000165           1  2020-08-21 01:07:36   \n",
       "2266585    7441       A040165004  A040000165           1  2020-08-21 01:08:49   \n",
       "\n",
       "         KnowledgeTag test_tag  \n",
       "0                7224        6  \n",
       "1                7225        6  \n",
       "2                7225        6  \n",
       "3                7225        6  \n",
       "4                7225        6  \n",
       "...               ...      ...  \n",
       "2266581           438        3  \n",
       "2266582          8836        4  \n",
       "2266583          8836        4  \n",
       "2266584          8836        4  \n",
       "2266585          8836        4  \n",
       "\n",
       "[2266586 rows x 7 columns]"
      ]
     },
     "execution_count": 256,
     "metadata": {},
     "output_type": "execute_result"
    }
   ],
   "source": [
    "df2"
   ]
  },
  {
   "cell_type": "markdown",
   "metadata": {},
   "source": [
    "대분류 test_tag 1과 대분류 test_tag 8의 중분류가 서로 겹치지 않는 것을 확인했다.\n",
    "그럼 test_tag 대분류 따라 중분류가 겹치지 않는 것인가?"
   ]
  },
  {
   "cell_type": "code",
   "execution_count": 171,
   "metadata": {},
   "outputs": [],
   "source": [
    "sets = []\n",
    "for i in range(1, 10):\n",
    "    sets.append(df2[df2['test_tag'] == str(i)]['KnowledgeTag'].unique())\n",
    "    "
   ]
  },
  {
   "cell_type": "code",
   "execution_count": 173,
   "metadata": {},
   "outputs": [
    {
     "name": "stdout",
     "output_type": "stream",
     "text": [
      "[set(), set(), set(), set(), set(), set(), set(), set()]\n",
      "[set(), set(), set(), set(), set(), set(), set()]\n",
      "[set(), set(), set(), set(), set(), set()]\n",
      "[set(), set(), set(), set(), set()]\n",
      "[set(), set(), set(), set()]\n",
      "[set(), set(), set()]\n",
      "[{7863}, set()]\n",
      "[set()]\n"
     ]
    }
   ],
   "source": [
    "for i in range(0, 8):\n",
    "    print(list(set(sets[i]).intersection(sets[s]) for s in range(i+1, len(sets))))"
   ]
  },
  {
   "cell_type": "code",
   "execution_count": 176,
   "metadata": {},
   "outputs": [
    {
     "name": "stdout",
     "output_type": "stream",
     "text": [
      "sets 6 : [116, 117, 121, 162, 163, 164, 169, 607, 608, 1255, 1256, 1257, 1259, 1260, 1261, 1262, 1263, 1264, 1266, 1267, 1268, 1269, 1271, 1273, 3288, 3792, 3793, 3794, 3795, 3798, 3804, 3806, 3820, 3821, 4746, 5619, 5620, 5653, 5654, 5655, 5656, 5705, 5707, 5761, 5762, 5763, 5780, 5781, 5782, 5783, 5788, 5808, 5809, 5810, 6784, 6785, 6795, 6796, 6800, 6801, 6802, 6825, 6826, 6827, 6828, 7248, 7259, 7665, 7667, 7856, 7862, 7863, 7866, 7867, 8830, 8831, 8868, 8871, 8872, 8874, 8875, 8877, 8878, 8879, 8880, 8881, 8885, 8886, 8887, 8889, 8890, 8891, 8892, 8893, 8894, 8895, 8896, 8897, 8899, 8900, 8901, 8902, 8904, 8905, 8906, 8908, 8910, 8911, 8913, 9021, 9022, 9044, 9046, 9049, 9050, 9051, 9052, 9053, 9054, 9055, 9062, 9064, 9065, 9066, 9067, 9068, 9069, 9070, 9071, 9072, 9073, 9075, 9077, 9078, 9079, 9080, 9081, 9082, 9083, 9086, 9090, 9091, 9098, 9099, 9120, 9121, 9122, 9124, 9125, 9126, 9160, 9161, 9162, 9164, 9165, 9166, 9167, 9168, 9169, 9170, 9171, 9172, 9184, 9185, 9186, 9187, 9592, 9660, 9661, 9765, 9797, 10819, 10834, 10837, 10838, 10841]\n",
      "sets 7 : [23, 24, 25, 26, 30, 31, 32, 1107, 1108, 1110, 1117, 1120, 1180, 1181, 1182, 1183, 1184, 1185, 1200, 1201, 1202, 1203, 1356, 1394, 1395, 1396, 1397, 1442, 1443, 1444, 2652, 2711, 2712, 2714, 2715, 2717, 2718, 2719, 2721, 2723, 2725, 2726, 2727, 2848, 2849, 2852, 2853, 2868, 2869, 2870, 2871, 2887, 3097, 4498, 4604, 4605, 4657, 4658, 4659, 4660, 4661, 4662, 4663, 4664, 4665, 4667, 4668, 4669, 4671, 4672, 4673, 4678, 4679, 4680, 4681, 4682, 4683, 4684, 4685, 4686, 4687, 4688, 4783, 4784, 4793, 4795, 4797, 4799, 4800, 4801, 4802, 4803, 4804, 4805, 4957, 4959, 4961, 4962, 4963, 4964, 4965, 4967, 4969, 4970, 4971, 4972, 4974, 4975, 4976, 4978, 4979, 4980, 7034, 7118, 7120, 7125, 7126, 7127, 7167, 7170, 7171, 7172, 7863, 8289, 8343, 8403, 8404, 8420, 8421, 8422, 8423, 8424, 8425, 8426, 8427, 8428, 8429, 8431, 8432, 8433, 8794, 8931, 9497, 9498, 9500, 9519, 10568, 10569, 10572, 10573]\n"
     ]
    }
   ],
   "source": [
    "print(f'sets 6 : {sorted(sets[6])}')\n",
    "print(f'sets 7 : {sorted(sets[7])}')"
   ]
  },
  {
   "cell_type": "code",
   "execution_count": 177,
   "metadata": {},
   "outputs": [
    {
     "data": {
      "text/plain": [
       "[7863]"
      ]
     },
     "execution_count": 177,
     "metadata": {},
     "output_type": "execute_result"
    }
   ],
   "source": [
    "list(set(sets[6]).intersection(sets[7]))\n",
    "# 왜 이것만 둘다 포함되지?!!"
   ]
  },
  {
   "cell_type": "markdown",
   "metadata": {},
   "source": [
    "타임스탬프 분석해보자\n",
    "- 총 걸린 시간 feature로 추가\n",
    "- 낮에 풀었는지 밤에 풀었는지\n",
    "- 푼 시간을 나누어 크게 분류해보자"
   ]
  },
  {
   "cell_type": "code",
   "execution_count": 197,
   "metadata": {},
   "outputs": [],
   "source": [
    "from datetime import datetime\n",
    "import time"
   ]
  },
  {
   "cell_type": "code",
   "execution_count": 232,
   "metadata": {},
   "outputs": [],
   "source": [
    "time_df = df.copy()"
   ]
  },
  {
   "cell_type": "code",
   "execution_count": 233,
   "metadata": {},
   "outputs": [],
   "source": [
    "time_df['Timestamp'] = pd.to_datetime(time_df['Timestamp'])"
   ]
  },
  {
   "cell_type": "code",
   "execution_count": null,
   "metadata": {},
   "outputs": [],
   "source": [
    "time_df.groupby('userID')['Timestamp']"
   ]
  },
  {
   "cell_type": "code",
   "execution_count": 226,
   "metadata": {},
   "outputs": [],
   "source": [
    "time_df['hour'] = time_df['Timestamp'].transform(lambda x: pd.to_datetime(x).dt.hour)\n"
   ]
  },
  {
   "cell_type": "code",
   "execution_count": 231,
   "metadata": {},
   "outputs": [
    {
     "data": {
      "text/plain": [
       "<AxesSubplot: >"
      ]
     },
     "execution_count": 231,
     "metadata": {},
     "output_type": "execute_result"
    },
    {
     "data": {
      "image/png": "[encoded data removed]",
      "text/plain": [
       "<Figure size 640x480 with 1 Axes>"
      ]
     },
     "metadata": {},
     "output_type": "display_data"
    }
   ],
   "source": [
    "time_df['hour'].value_counts().plot(kind='bar')"
   ]
  }
 ],
 "metadata": {
  "kernelspec": {
   "display_name": "Python 3.8.5 ('base')",
   "language": "python",
   "name": "python3"
  },
  "language_info": {
   "codemirror_mode": {
    "name": "ipython",
    "version": 3
   },
   "file_extension": ".py",
   "mimetype": "text/x-python",
   "name": "python",
   "nbconvert_exporter": "python",
   "pygments_lexer": "ipython3",
   "version": "3.8.5"
  },
  "orig_nbformat": 4,
  "vscode": {
   "interpreter": {
    "hash": "d4d1e4263499bec80672ea0156c357c1ee493ec2b1c70f0acce89fc37c4a6abe"
   }
  }
 },
 "nbformat": 4,
 "nbformat_minor": 2
}
