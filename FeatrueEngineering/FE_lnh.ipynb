{
 "cells": [
  {
   "cell_type": "code",
   "execution_count": 8,
   "id": "54774e91-046b-4f5f-b8ed-d91f93e4e5dc",
   "metadata": {},
   "outputs": [],
   "source": [
    "import torch\n",
    "import numpy as np\n",
    "# import seaborn as sns\n",
    "import matplotlib.pyplot as plt\n",
    "import random\n",
    "# plt.style.use('seaborn')\n",
    "from IPython.core.interactiveshell import InteractiveShell\n",
    "InteractiveShell.ast_node_interactivity = \"all\"\n",
    "\n",
    "import os\n",
    "import pandas as pd\n",
    "pd.set_option('display.min_rows', 500)\n",
    "import warnings\n",
    "warnings.filterwarnings('ignore')\n",
    "\n",
    "path='../../data/'\n",
    "train = pd.read_csv(f\"{path}/train_data.csv\")\n",
    "test = pd.read_csv(f\"{path}/test_data.csv\")\n",
    "sub = pd.read_csv(f\"{path}/sample_submission.csv\")"
   ]
  },
  {
   "cell_type": "markdown",
   "id": "17f2a4a7-f26c-4f99-a9cb-f5985ba23bcd",
   "metadata": {},
   "source": [
    "# 피처엔지니어링 및 전처리\n",
    "범주형 피처는 라벨인코딩까지 하고 csv 형태로 저장"
   ]
  },
  {
   "cell_type": "code",
   "execution_count": 32,
   "id": "923389a2-8369-4d64-83cc-eeac20f12d20",
   "metadata": {},
   "outputs": [],
   "source": [
    "import time\n",
    "from datetime import datetime\n",
    "\n",
    "day_dict = {'Tuesday': 0,\n",
    " 'Thursday': 1,\n",
    " 'Friday': 2,\n",
    " 'Wednesday' : 3,\n",
    " 'Monday': 4,\n",
    " 'Saturday': 5,\n",
    " 'Sunday': 6}\n",
    "\n",
    "def convert_time(s):\n",
    "    timestamp = time.mktime(\n",
    "        datetime.strptime(s, \"%Y-%m-%d %H:%M:%S\").timetuple()\n",
    "    )\n",
    "    return int(timestamp)\n",
    "\n",
    "def feature_engineering(df):\n",
    "    df2 = df.copy()\n",
    "    #유저별 시퀀스를 고려하기 위해 아래와 같이 정렬\n",
    "    df2.sort_values(by=['userID','Timestamp'], inplace=True)\n",
    "    \n",
    "    df2['big_category'] = df2.testId.map(lambda x:x[2]).astype(int)\n",
    "    df2['mid_category'] = df2.testId.map(lambda x: int(x[-3:]))\n",
    "    df2['problem_num'] = df2.assessmentItemID.map(lambda x: int(x[-3:]))\n",
    "    \n",
    "    df2['Timestamp_start'] = pd.to_datetime(df['Timestamp'])\n",
    "    df2['Timestamp_fin'] = df2.groupby('userID')['Timestamp_start'].shift(-1)\n",
    "    df2['solvetime'] = df2.Timestamp_fin - df2.Timestamp_start\n",
    "    df2['solvesec_600'] = df2.solvetime.map(lambda x : x.total_seconds()).shift(1).fillna(0)\n",
    "    # df2['solvesec_cat'] = pd.to_datetime(df2.Timestamp).dt.day_name().map(day_dict)\n",
    "    df2.loc[df2.solvesec_600>=600,'solvesec_600']=0\n",
    "    df2.loc[df2.solvesec_600<0,'solvesec_600']=0\n",
    "    \n",
    "    correct_t = df2.groupby(['testId'])['answerCode'].agg(['mean', 'std'])\n",
    "    correct_t.columns = [\"test_mean\", \"test_std\"]\n",
    "    correct_k = df2.groupby(['KnowledgeTag'])['answerCode'].agg(['mean', 'std'])\n",
    "    correct_k.columns = [\"tag_mean\", 'tag_std']\n",
    "    correct_b = df2.groupby(['big_category'])['answerCode'].agg(['mean', 'std', 'sum'])\n",
    "    correct_b.columns = [\"big_mean\", 'big_std', 'big_sum']\n",
    "    correct_a = df2.groupby(['assessmentItemID'])['answerCode'].agg(['mean', 'std'])\n",
    "    correct_a.columns = [\"assess_mean\", 'assess_std']\n",
    "    correct_u = df2.groupby(['userID'])['answerCode'].agg(['mean', 'std', 'sum'])\n",
    "    correct_u.columns = [\"user_mean\", 'user_std', 'user_sum']\n",
    "    \n",
    "    \n",
    "    df2 = pd.merge(df2, correct_t, on=['testId'], how=\"left\")\n",
    "    df2 = pd.merge(df2, correct_k, on=['KnowledgeTag'], how=\"left\")\n",
    "    df2 = pd.merge(df2, correct_b, on=['big_category'], how=\"left\")\n",
    "    df2 = pd.merge(df2, correct_a, on=['assessmentItemID'], how=\"left\")\n",
    "    df2 = pd.merge(df2, correct_a, on=['assessmentItemID'], how=\"left\")\n",
    "    \n",
    "\n",
    "    # df[\"Timestamp\"] = df[\"Timestamp\"].apply(convert_time)\n",
    "    \n",
    "    return df2"
   ]
  },
  {
   "cell_type": "code",
   "execution_count": 33,
   "id": "2d53753b-0fcd-4f09-bbbf-19e0129cf72c",
   "metadata": {},
   "outputs": [],
   "source": [
    "train_df = feature_engineering(train)\n",
    "test_df = feature_engineering(test)"
   ]
  },
  {
   "cell_type": "code",
   "execution_count": 34,
   "id": "0acc7060-ef93-4a28-ab49-579138096b72",
   "metadata": {},
   "outputs": [],
   "source": [
    "all = pd.concat([train, test]).copy().reset_index(drop=True)\n",
    "all.sort_values(by=['userID','Timestamp'], inplace=True)\n",
    "all_df = feature_engineering(all)"
   ]
  },
  {
   "cell_type": "code",
   "execution_count": 164,
   "id": "b88e227c-d4cc-4b72-aa78-c5882f32d68d",
   "metadata": {},
   "outputs": [],
   "source": [
    "# train_df.to_csv('../dkt/asset/train_fe_df.csv')\n",
    "# test_df.to_csv('../dkt/asset/test_fe_df.csv')\n",
    "# all_df.to_csv('../dkt/asset/all_fe_df.csv')"
   ]
  },
  {
   "cell_type": "code",
   "execution_count": 35,
   "id": "7ecda11d-3961-4b90-91f7-a7638079d08e",
   "metadata": {},
   "outputs": [],
   "source": [
    "cate_cols = ['testId','assessmentItemID','KnowledgeTag','big_category','mid_category','problem_num', 'month', 'dayname']\n",
    "for col in cate_cols:\n",
    "    exec(col + '2idx = {v:k for k,v in enumerate(all_df[\"' + col + '\"].unique())}')\n",
    "    exec('train_df[\"' + col + '\"] = train_df[\"' + col + '\"].map(' + col + '2idx)')"
   ]
  },
  {
   "cell_type": "code",
   "execution_count": 36,
   "id": "940750b1-6a8b-4234-9f9d-864f6746771e",
   "metadata": {},
   "outputs": [],
   "source": [
    "cate_cols = ['testId','assessmentItemID','KnowledgeTag','big_category','mid_category','problem_num', 'month', 'dayname']\n",
    "for col in cate_cols:\n",
    "    exec(col + '2idx = {v:k for k,v in enumerate(all_df[\"' + col + '\"].unique())}')\n",
    "    exec('test_df[\"' + col + '\"] = test_df[\"' + col + '\"].map(' + col + '2idx)')"
   ]
  },
  {
   "cell_type": "code",
   "execution_count": 37,
   "id": "f117647b-f37a-4551-bbf2-d452095ec606",
   "metadata": {},
   "outputs": [],
   "source": [
    "train_df.to_csv('../dkt/asset/train_fe_df.csv')\n",
    "test_df.to_csv('../dkt/asset/test_fe_df.csv')\n",
    "all_df.to_csv('../dkt/asset/all_fe_df.csv')"
   ]
  },
  {
   "cell_type": "code",
   "execution_count": 38,
   "id": "2a5c7533-ca3d-43b9-a752-3d305c02c40b",
   "metadata": {},
   "outputs": [
    {
     "name": "stdout",
     "output_type": "stream",
     "text": [
      "/opt/ml/input/main_dir/FeatrueEngineering\n"
     ]
    }
   ],
   "source": [
    "!pwd``"
   ]
  },
  {
   "cell_type": "code",
   "execution_count": 153,
   "id": "cc5655ab-f74f-4cfe-b5b6-d16c73fb2c69",
   "metadata": {},
   "outputs": [
    {
     "data": {
      "text/plain": [
       "torch.float32"
      ]
     },
     "execution_count": 153,
     "metadata": {},
     "output_type": "execute_result"
    }
   ],
   "source": [
    "import torch\n",
    "a = torch.rand([64,20,1])\n",
    "a.dtype"
   ]
  },
  {
   "cell_type": "code",
   "execution_count": 157,
   "id": "c0dc77b4-d7b8-4c9a-9bb2-37e01016c33d",
   "metadata": {},
   "outputs": [
    {
     "data": {
      "text/plain": [
       "'1.13.0+cu117'"
      ]
     },
     "execution_count": 157,
     "metadata": {},
     "output_type": "execute_result"
    },
    {
     "data": {
      "text/plain": [
       "True"
      ]
     },
     "execution_count": 157,
     "metadata": {},
     "output_type": "execute_result"
    }
   ],
   "source": [
    "import torch\n",
    "torch.__version__\n",
    "torch.cuda.is_available()"
   ]
  },
  {
   "cell_type": "code",
   "execution_count": 150,
   "id": "682efec8-6503-4c9e-b556-5da7ebee4a1c",
   "metadata": {},
   "outputs": [
    {
     "data": {
      "text/plain": [
       "torch.Size([64, 20, 21])"
      ]
     },
     "execution_count": 151,
     "metadata": {},
     "output_type": "execute_result"
    }
   ],
   "source": [
    "import torch.nn as nn\n",
    "tmp = nn.Linear(in_features=1, out_features=21)\n",
    "tmp(a)"
   ]
  },
  {
   "cell_type": "markdown",
   "id": "8f7dd8fa-fe92-442f-83c6-4c19e85b50be",
   "metadata": {},
   "source": [
    "# 'after_fe_train_test_bigcategory_fe.pkl' 으로 적용하기\n",
    "FE된 df를 불러온 후, 범주형 피처는 라벨인코딩까지 하고 csv 형태로 저장"
   ]
  },
  {
   "cell_type": "code",
   "execution_count": 9,
   "id": "f1c33aed-1bd4-4299-bce1-adeb763b08f0",
   "metadata": {},
   "outputs": [],
   "source": [
    "## 1. 데이터 로딩\n",
    "data_dir = '/opt/ml/input/data' # 경로\n",
    "after_fe_path = os.path.join(data_dir, 'after_fe_train_test_bigcategory_fe.pkl')\n",
    "df = pd.read_pickle(after_fe_path)"
   ]
  },
  {
   "cell_type": "code",
   "execution_count": 15,
   "id": "156173e2-4721-4f0a-8b0b-98ceed18c158",
   "metadata": {
    "tags": []
   },
   "outputs": [],
   "source": [
    "train_df = df[df['kind'] == 'train']"
   ]
  },
  {
   "cell_type": "code",
   "execution_count": 16,
   "id": "1acc38b5-a298-4d56-abff-b533f678e47a",
   "metadata": {},
   "outputs": [],
   "source": [
    "test_df = df[df['kind'] == 'test']"
   ]
  },
  {
   "cell_type": "code",
   "execution_count": 18,
   "id": "11314dbf-6464-418e-8d9f-b814221ffe84",
   "metadata": {},
   "outputs": [],
   "source": [
    "all = pd.concat([train_df, test_df]).copy().reset_index(drop=True)\n",
    "all.sort_values(by=['userID','Timestamp'], inplace=True)"
   ]
  },
  {
   "cell_type": "code",
   "execution_count": 30,
   "id": "6fbab7e7-a62c-44be-8924-4fd2bc29c608",
   "metadata": {},
   "outputs": [],
   "source": [
    "pd.set_option('display.max_columns', None)"
   ]
  },
  {
   "cell_type": "code",
   "execution_count": 31,
   "id": "c48baf2a-375c-4234-b6b6-9171be49b9b0",
   "metadata": {},
   "outputs": [
    {
     "data": {
      "text/html": [
       "<div>\n",
       "<style scoped>\n",
       "    .dataframe tbody tr th:only-of-type {\n",
       "        vertical-align: middle;\n",
       "    }\n",
       "\n",
       "    .dataframe tbody tr th {\n",
       "        vertical-align: top;\n",
       "    }\n",
       "\n",
       "    .dataframe thead th {\n",
       "        text-align: right;\n",
       "    }\n",
       "</style>\n",
       "<table border=\"1\" class=\"dataframe\">\n",
       "  <thead>\n",
       "    <tr style=\"text-align: right;\">\n",
       "      <th></th>\n",
       "      <th>userID</th>\n",
       "      <th>assessmentItemID</th>\n",
       "      <th>testId</th>\n",
       "      <th>answerCode</th>\n",
       "      <th>Timestamp</th>\n",
       "      <th>KnowledgeTag</th>\n",
       "      <th>kind</th>\n",
       "      <th>uidIdx</th>\n",
       "      <th>assIdx</th>\n",
       "      <th>testIdx</th>\n",
       "      <th>user_correct_answer</th>\n",
       "      <th>user_total_answer</th>\n",
       "      <th>user_acc</th>\n",
       "      <th>month</th>\n",
       "      <th>day</th>\n",
       "      <th>hour</th>\n",
       "      <th>dayname</th>\n",
       "      <th>big_category</th>\n",
       "      <th>problem_num</th>\n",
       "      <th>mid_category</th>\n",
       "      <th>test_mean</th>\n",
       "      <th>test_std</th>\n",
       "      <th>test_sum</th>\n",
       "      <th>tag_mean</th>\n",
       "      <th>tag_std</th>\n",
       "      <th>tag_sum</th>\n",
       "      <th>Timestamp2</th>\n",
       "      <th>solvetime</th>\n",
       "      <th>solvesec</th>\n",
       "      <th>solvesec_3600</th>\n",
       "      <th>time_category</th>\n",
       "      <th>solvesec_cumsum</th>\n",
       "      <th>solvecumsum_category</th>\n",
       "      <th>big_category_acc</th>\n",
       "      <th>big_category_std</th>\n",
       "      <th>big_category_cumconut</th>\n",
       "      <th>big_category_answer</th>\n",
       "      <th>big_category_answer_log1p</th>\n",
       "      <th>big_category_user_cum_acc</th>\n",
       "      <th>big_category_user_acc</th>\n",
       "      <th>big_category_user_std</th>\n",
       "    </tr>\n",
       "  </thead>\n",
       "  <tbody>\n",
       "    <tr>\n",
       "      <th>0</th>\n",
       "      <td>0</td>\n",
       "      <td>0</td>\n",
       "      <td>0</td>\n",
       "      <td>1</td>\n",
       "      <td>2020-03-24 00:17:11</td>\n",
       "      <td>0</td>\n",
       "      <td>train</td>\n",
       "      <td>0</td>\n",
       "      <td>5354</td>\n",
       "      <td>975</td>\n",
       "      <td>NaN</td>\n",
       "      <td>0</td>\n",
       "      <td>NaN</td>\n",
       "      <td>0</td>\n",
       "      <td>0</td>\n",
       "      <td>0</td>\n",
       "      <td>0</td>\n",
       "      <td>0</td>\n",
       "      <td>0</td>\n",
       "      <td>0</td>\n",
       "      <td>0.952667</td>\n",
       "      <td>0.212422</td>\n",
       "      <td>1429</td>\n",
       "      <td>0.957333</td>\n",
       "      <td>0.202239</td>\n",
       "      <td>718</td>\n",
       "      <td>2020-03-24 00:17:11</td>\n",
       "      <td>0 days 00:00:00</td>\n",
       "      <td>0.0</td>\n",
       "      <td>0.0</td>\n",
       "      <td>0</td>\n",
       "      <td>0.0</td>\n",
       "      <td>0</td>\n",
       "      <td>0.711898</td>\n",
       "      <td>0.453371</td>\n",
       "      <td>0</td>\n",
       "      <td>0.0</td>\n",
       "      <td>NaN</td>\n",
       "      <td>0.0</td>\n",
       "      <td>0.791908</td>\n",
       "      <td>0.406531</td>\n",
       "    </tr>\n",
       "    <tr>\n",
       "      <th>1</th>\n",
       "      <td>0</td>\n",
       "      <td>1</td>\n",
       "      <td>0</td>\n",
       "      <td>1</td>\n",
       "      <td>2020-03-24 00:17:14</td>\n",
       "      <td>1</td>\n",
       "      <td>train</td>\n",
       "      <td>0</td>\n",
       "      <td>5355</td>\n",
       "      <td>975</td>\n",
       "      <td>1.0</td>\n",
       "      <td>1</td>\n",
       "      <td>1.0</td>\n",
       "      <td>0</td>\n",
       "      <td>0</td>\n",
       "      <td>0</td>\n",
       "      <td>0</td>\n",
       "      <td>0</td>\n",
       "      <td>1</td>\n",
       "      <td>0</td>\n",
       "      <td>0.952667</td>\n",
       "      <td>0.212422</td>\n",
       "      <td>1429</td>\n",
       "      <td>0.917067</td>\n",
       "      <td>0.275818</td>\n",
       "      <td>3439</td>\n",
       "      <td>2020-03-24 00:17:14</td>\n",
       "      <td>0 days 00:00:03</td>\n",
       "      <td>3.0</td>\n",
       "      <td>3.0</td>\n",
       "      <td>1</td>\n",
       "      <td>3.0</td>\n",
       "      <td>1</td>\n",
       "      <td>0.711898</td>\n",
       "      <td>0.453371</td>\n",
       "      <td>1</td>\n",
       "      <td>1.0</td>\n",
       "      <td>0.693147</td>\n",
       "      <td>1.0</td>\n",
       "      <td>0.791908</td>\n",
       "      <td>0.406531</td>\n",
       "    </tr>\n",
       "  </tbody>\n",
       "</table>\n",
       "</div>"
      ],
      "text/plain": [
       "   userID  assessmentItemID  testId  answerCode            Timestamp  \\\n",
       "0       0                 0       0           1  2020-03-24 00:17:11   \n",
       "1       0                 1       0           1  2020-03-24 00:17:14   \n",
       "\n",
       "   KnowledgeTag   kind  uidIdx  assIdx  testIdx  user_correct_answer  \\\n",
       "0             0  train       0    5354      975                  NaN   \n",
       "1             1  train       0    5355      975                  1.0   \n",
       "\n",
       "   user_total_answer  user_acc  month  day  hour  dayname  big_category  \\\n",
       "0                  0       NaN      0    0     0        0             0   \n",
       "1                  1       1.0      0    0     0        0             0   \n",
       "\n",
       "   problem_num  mid_category  test_mean  test_std  test_sum  tag_mean  \\\n",
       "0            0             0   0.952667  0.212422      1429  0.957333   \n",
       "1            1             0   0.952667  0.212422      1429  0.917067   \n",
       "\n",
       "    tag_std  tag_sum          Timestamp2       solvetime  solvesec  \\\n",
       "0  0.202239      718 2020-03-24 00:17:11 0 days 00:00:00       0.0   \n",
       "1  0.275818     3439 2020-03-24 00:17:14 0 days 00:00:03       3.0   \n",
       "\n",
       "   solvesec_3600  time_category  solvesec_cumsum  solvecumsum_category  \\\n",
       "0            0.0              0              0.0                     0   \n",
       "1            3.0              1              3.0                     1   \n",
       "\n",
       "   big_category_acc  big_category_std  big_category_cumconut  \\\n",
       "0          0.711898          0.453371                      0   \n",
       "1          0.711898          0.453371                      1   \n",
       "\n",
       "   big_category_answer  big_category_answer_log1p  big_category_user_cum_acc  \\\n",
       "0                  0.0                        NaN                        0.0   \n",
       "1                  1.0                   0.693147                        1.0   \n",
       "\n",
       "   big_category_user_acc  big_category_user_std  \n",
       "0               0.791908               0.406531  \n",
       "1               0.791908               0.406531  "
      ]
     },
     "execution_count": 31,
     "metadata": {},
     "output_type": "execute_result"
    }
   ],
   "source": [
    "train_df.head(2)"
   ]
  },
  {
   "cell_type": "code",
   "execution_count": 21,
   "id": "a18c11c0-420e-4422-b41b-cce8ddcf3e6b",
   "metadata": {},
   "outputs": [
    {
     "data": {
      "text/plain": [
       "Index(['userID', 'assessmentItemID', 'testId', 'answerCode', 'Timestamp',\n",
       "       'KnowledgeTag', 'kind', 'uidIdx', 'assIdx', 'testIdx',\n",
       "       'user_correct_answer', 'user_total_answer', 'user_acc', 'month', 'day',\n",
       "       'hour', 'dayname', 'big_category', 'problem_num', 'mid_category',\n",
       "       'test_mean', 'test_std', 'test_sum', 'tag_mean', 'tag_std', 'tag_sum',\n",
       "       'Timestamp2', 'solvetime', 'solvesec', 'solvesec_3600', 'time_category',\n",
       "       'solvesec_cumsum', 'solvecumsum_category', 'big_category_acc',\n",
       "       'big_category_std', 'big_category_cumconut', 'big_category_answer',\n",
       "       'big_category_answer_log1p', 'big_category_user_cum_acc',\n",
       "       'big_category_user_acc', 'big_category_user_std'],\n",
       "      dtype='object')"
      ]
     },
     "execution_count": 21,
     "metadata": {},
     "output_type": "execute_result"
    }
   ],
   "source": [
    "train_df.columns"
   ]
  },
  {
   "cell_type": "code",
   "execution_count": 23,
   "id": "30b482fd-c5c3-4908-9c87-af64ca844142",
   "metadata": {},
   "outputs": [],
   "source": [
    "cate_cols = ['testId','assessmentItemID','KnowledgeTag','big_category','mid_category',\n",
    "             'problem_num', 'month','dayname','day', 'hour','time_category','solvecumsum_category']\n",
    "num_cols = ['user_correct_answer', 'user_total_answer', 'user_acc', 'test_mean', 'test_std', 'test_sum',\n",
    "            'tag_mean', 'tag_std', 'tag_sum', 'solvesec_3600', 'big_category_acc', 'big_category_std', 'big_category_cumconut',\n",
    "            'big_category_answer','big_category_answer_log1p','big_category_user_cum_acc','big_category_user_acc','big_category_user_std']"
   ]
  },
  {
   "cell_type": "code",
   "execution_count": 25,
   "id": "e420355d-e28e-4d6e-b130-08bc5804bc88",
   "metadata": {},
   "outputs": [],
   "source": [
    "for col in cate_cols:\n",
    "    exec(col + '2idx = {v:k for k,v in enumerate(all[\"' + col + '\"].unique())}')\n",
    "    exec('train_df[\"' + col + '\"] = train_df[\"' + col + '\"].map(' + col + '2idx)')"
   ]
  },
  {
   "cell_type": "code",
   "execution_count": 26,
   "id": "15efd32c-e2b8-4df9-8220-5302f71e8ac6",
   "metadata": {},
   "outputs": [],
   "source": [
    "for col in cate_cols:\n",
    "    exec(col + '2idx = {v:k for k,v in enumerate(all[\"' + col + '\"].unique())}')\n",
    "    exec('test_df[\"' + col + '\"] = test_df[\"' + col + '\"].map(' + col + '2idx)')"
   ]
  },
  {
   "cell_type": "code",
   "execution_count": 28,
   "id": "f93d6b06-8a58-4583-bf54-501d096b093b",
   "metadata": {},
   "outputs": [],
   "source": [
    "train_df.to_csv('../dkt/asset/train_fe_df.csv')\n",
    "test_df.to_csv('../dkt/asset/test_fe_df.csv')\n",
    "all.to_csv('../dkt/asset/all_fe_df.csv')"
   ]
  },
  {
   "cell_type": "code",
   "execution_count": null,
   "id": "ff78d967-c5b7-4835-85dc-f34b5739585f",
   "metadata": {},
   "outputs": [],
   "source": [
    "data_dir = '/opt/ml/input/data' # 경로\n",
    "    write_path=f'{data_dir}/after_fe_train_test_cumsum.pkl'\n",
    "    df.to_pickle(write_path,index=False)"
   ]
  },
  {
   "cell_type": "code",
   "execution_count": null,
   "id": "4e346d20-1b0c-40ec-ba89-f3886da6d6ad",
   "metadata": {},
   "outputs": [],
   "source": []
  },
  {
   "cell_type": "markdown",
   "id": "ce014c44-4e70-49b2-844b-a49d90d13e0c",
   "metadata": {},
   "source": [
    "# 여러모델 실행"
   ]
  },
  {
   "cell_type": "code",
   "execution_count": 71,
   "id": "f21b1331-c8f1-41b7-8132-4acc350dc628",
   "metadata": {},
   "outputs": [],
   "source": [
    "import os\n",
    "os.environ['MKL_THREADING_LAYER'] = 'GNU'"
   ]
  },
  {
   "cell_type": "code",
   "execution_count": 136,
   "id": "17427174-9018-4f32-b5a4-3f26ef201255",
   "metadata": {
    "collapsed": true,
    "jupyter": {
     "outputs_hidden": true
    },
    "tags": []
   },
   "outputs": [
    {
     "name": "stdout",
     "output_type": "stream",
     "text": [
      "\u001b[34m\u001b[1mwandb\u001b[0m: Currently logged in as: \u001b[33mnahyun\u001b[0m. Use \u001b[1m`wandb login --relogin`\u001b[0m to force relogin\n",
      "\u001b[34m\u001b[1mwandb\u001b[0m: Currently logged in as: \u001b[33mnahyun\u001b[0m (\u001b[33mrecsys8\u001b[0m). Use \u001b[1m`wandb login --relogin`\u001b[0m to force relogin\n",
      "\u001b[34m\u001b[1mwandb\u001b[0m: Tracking run with wandb version 0.13.5\n",
      "\u001b[34m\u001b[1mwandb\u001b[0m: Run data is saved locally in \u001b[35m\u001b[1m/opt/ml/input/main_dir/FeatrueEngineering/wandb/run-20221205_092604-29liu0ov\u001b[0m\n",
      "\u001b[34m\u001b[1mwandb\u001b[0m: Run \u001b[1m`wandb offline`\u001b[0m to turn off syncing.\n",
      "\u001b[34m\u001b[1mwandb\u001b[0m: Syncing run \u001b[33mcrisp-yogurt-461\u001b[0m\n",
      "\u001b[34m\u001b[1mwandb\u001b[0m: ⭐️ View project at \u001b[34m\u001b[4mhttps://wandb.ai/recsys8/Sequential\u001b[0m\n",
      "\u001b[34m\u001b[1mwandb\u001b[0m: 🚀 View run at \u001b[34m\u001b[4mhttps://wandb.ai/recsys8/Sequential/runs/29liu0ov\u001b[0m\n",
      "\u001b[34m\u001b[1mwandb\u001b[0m: \u001b[33mWARNING\u001b[0m Calling wandb.run.save without any arguments is deprecated.Changes to attributes are automatically persisted.\n",
      "Start Training: Epoch 1\n",
      "Training steps: 0 Loss: 0.6893821954727173\n",
      "Training steps: 50 Loss: 0.6667741537094116\n",
      "TRAIN AUC : 0.6712833448961489 ACC : 0.5546075085324232\n",
      "VALID AUC : 0.7294817512528998 ACC : 0.663681592039801\n",
      "\n",
      "saving model ...\n",
      "Start Training: Epoch 2\n",
      "Training steps: 0 Loss: 0.5825918316841125\n",
      "Training steps: 50 Loss: 0.5687114596366882\n",
      "TRAIN AUC : 0.7364989010007228 ACC : 0.6478242320819113\n",
      "VALID AUC : 0.7346946871891307 ACC : 0.608457711442786\n",
      "\n",
      "saving model ...\n",
      "Start Training: Epoch 3\n",
      "Training steps: 0 Loss: 0.5543514490127563\n",
      "Training steps: 50 Loss: 0.671944260597229\n",
      "TRAIN AUC : 0.7373675252323123 ACC : 0.6476109215017065\n",
      "VALID AUC : 0.7356626905136666 ACC : 0.6850746268656717\n",
      "\n",
      "saving model ...\n",
      "Start Training: Epoch 4\n",
      "Training steps: 0 Loss: 0.6167230606079102\n",
      "Training steps: 50 Loss: 0.6065534353256226\n",
      "TRAIN AUC : 0.7452763087481435 ACC : 0.6653156996587031\n",
      "VALID AUC : 0.7355178867376602 ACC : 0.6810945273631841\n",
      "\n",
      "Start Training: Epoch 5\n",
      "Training steps: 0 Loss: 0.5625184178352356\n",
      "Training steps: 50 Loss: 0.6002825498580933\n",
      "TRAIN AUC : 0.741510811764352 ACC : 0.6557167235494881\n",
      "VALID AUC : 0.7352917548134859 ACC : 0.618407960199005\n",
      "\n",
      "Start Training: Epoch 6\n",
      "Training steps: 0 Loss: 0.6423713564872742\n",
      "Training steps: 50 Loss: 0.6137723922729492\n",
      "TRAIN AUC : 0.7423796183268044 ACC : 0.659556313993174\n",
      "VALID AUC : 0.735162819944439 ACC : 0.6447761194029851\n",
      "\n",
      "Start Training: Epoch 7\n",
      "Training steps: 0 Loss: 0.6223321557044983\n",
      "Training steps: 50 Loss: 0.593575119972229\n",
      "TRAIN AUC : 0.7449818444043113 ACC : 0.6610494880546075\n",
      "VALID AUC : 0.7350993443166005 ACC : 0.6572139303482587\n",
      "\n",
      "Start Training: Epoch 8\n",
      "Training steps: 0 Loss: 0.6809314489364624\n",
      "Training steps: 50 Loss: 0.619157075881958\n",
      "TRAIN AUC : 0.7430214229647545 ACC : 0.6616894197952219\n",
      "VALID AUC : 0.7345746785802486 ACC : 0.6442786069651741\n",
      "\n",
      "Start Training: Epoch 9\n",
      "Training steps: 0 Loss: 0.5937793254852295\n",
      "Training steps: 50 Loss: 0.5444673299789429\n",
      "TRAIN AUC : 0.7483804916916382 ACC : 0.6657423208191127\n",
      "VALID AUC : 0.7347472529434343 ACC : 0.6676616915422886\n",
      "\n",
      "Start Training: Epoch 10\n",
      "Training steps: 0 Loss: 0.5841376781463623\n",
      "Training steps: 50 Loss: 0.6158996820449829\n",
      "TRAIN AUC : 0.7451092936775862 ACC : 0.6593430034129693\n",
      "VALID AUC : 0.7353105991405003 ACC : 0.6258706467661691\n",
      "\n",
      "Start Training: Epoch 11\n",
      "Training steps: 0 Loss: 0.5173232555389404\n",
      "Training steps: 50 Loss: 0.5673438310623169\n",
      "TRAIN AUC : 0.7446731582531609 ACC : 0.662542662116041\n",
      "VALID AUC : 0.734920819113305 ACC : 0.608955223880597\n",
      "\n",
      "Start Training: Epoch 12\n",
      "Training steps: 0 Loss: 0.63823401927948\n",
      "Training steps: 50 Loss: 0.6043636798858643\n",
      "TRAIN AUC : 0.7422663908608478 ACC : 0.6535836177474402\n",
      "VALID AUC : 0.7333190513170695 ACC : 0.6587064676616915\n",
      "\n",
      "Start Training: Epoch 13\n",
      "Training steps: 0 Loss: 0.4785226881504059\n",
      "Training steps: 50 Loss: 0.6468607187271118\n",
      "TRAIN AUC : 0.7466362234902321 ACC : 0.6610494880546075\n",
      "VALID AUC : 0.7357102972345455 ACC : 0.6711442786069651\n",
      "\n",
      "saving model ...\n",
      "Start Training: Epoch 14\n",
      "Training steps: 0 Loss: 0.527289628982544\n",
      "Training steps: 50 Loss: 0.585741400718689\n",
      "TRAIN AUC : 0.7488948470563138 ACC : 0.6642491467576792\n",
      "VALID AUC : 0.7335888227353831 ACC : 0.6791044776119403\n",
      "\n",
      "Epoch 00014: reducing learning rate of group 0 to 5.0000e-04.\n",
      "Start Training: Epoch 15\n",
      "Training steps: 0 Loss: 0.576440155506134\n",
      "Training steps: 50 Loss: 0.599658727645874\n",
      "TRAIN AUC : 0.7497784224186737 ACC : 0.6661689419795221\n",
      "VALID AUC : 0.7324819664749505 ACC : 0.6288557213930348\n",
      "\n",
      "Start Training: Epoch 16\n",
      "Training steps: 0 Loss: 0.600567102432251\n",
      "Training steps: 50 Loss: 0.6467602849006653\n",
      "TRAIN AUC : 0.7530448798302865 ACC : 0.6712883959044369\n",
      "VALID AUC : 0.7339220697815347 ACC : 0.636318407960199\n",
      "\n",
      "Start Training: Epoch 17\n",
      "Training steps: 0 Loss: 0.5971139669418335\n",
      "Training steps: 50 Loss: 0.5818111896514893\n",
      "TRAIN AUC : 0.7518440487662126 ACC : 0.6619027303754266\n",
      "VALID AUC : 0.7335422078211892 ACC : 0.6368159203980099\n",
      "\n",
      "Start Training: Epoch 18\n",
      "Training steps: 0 Loss: 0.5252740383148193\n",
      "Training steps: 50 Loss: 0.6925827264785767\n",
      "TRAIN AUC : 0.7514797517018308 ACC : 0.6642491467576792\n",
      "VALID AUC : 0.7329828288508631 ACC : 0.6134328358208955\n",
      "\n",
      "Start Training: Epoch 19\n",
      "Training steps: 0 Loss: 0.5713365077972412\n",
      "Training steps: 50 Loss: 0.6744340658187866\n",
      "TRAIN AUC : 0.7502406311565155 ACC : 0.6608361774744027\n",
      "VALID AUC : 0.7327071065924399 ACC : 0.6557213930348259\n",
      "\n",
      "Start Training: Epoch 20\n",
      "Training steps: 0 Loss: 0.6363574266433716\n",
      "Training steps: 50 Loss: 0.5346558690071106\n",
      "TRAIN AUC : 0.7537379194407547 ACC : 0.6676621160409556\n",
      "VALID AUC : 0.7318115051559071 ACC : 0.6049751243781094\n",
      "\n",
      "Start Training: Epoch 21\n",
      "Training steps: 0 Loss: 0.6403337717056274\n",
      "Training steps: 50 Loss: 0.6608562469482422\n",
      "TRAIN AUC : 0.7529581815049042 ACC : 0.6631825938566553\n",
      "VALID AUC : 0.7326813196186305 ACC : 0.6547263681592039\n",
      "\n",
      "Start Training: Epoch 22\n",
      "Training steps: 0 Loss: 0.5900826454162598\n",
      "Training steps: 50 Loss: 0.5453599691390991\n",
      "TRAIN AUC : 0.7519543589383603 ACC : 0.6642491467576792\n",
      "VALID AUC : 0.7334975765203652 ACC : 0.6562189054726368\n",
      "\n",
      "Start Training: Epoch 23\n",
      "Training steps: 0 Loss: 0.5155752301216125\n",
      "Training steps: 50 Loss: 0.6016800403594971\n",
      "TRAIN AUC : 0.7544725304879993 ACC : 0.6674488054607508\n",
      "VALID AUC : 0.7339587666288788 ACC : 0.6487562189054726\n",
      "\n",
      "EarlyStopping counter: 10 out of 10\n",
      "/opt/conda/lib/python3.8/site-packages/_distutils_hack/__init__.py:33: UserWarning: Setuptools is replacing distutils.\n",
      "  warnings.warn(\"Setuptools is replacing distutils.\")\n",
      "\u001b[34m\u001b[1mwandb\u001b[0m: Waiting for W&B process to finish... \u001b[32m(success).\u001b[0m\n",
      "\u001b[34m\u001b[1mwandb\u001b[0m: | 0.091 MB of 0.091 MB uploaded (0.000 MB deduped)\n",
      "\u001b[34m\u001b[1mwandb\u001b[0m: Run history:\n",
      "\u001b[34m\u001b[1mwandb\u001b[0m:            epoch ▁▁▂▂▂▃▃▃▄▄▄▅▅▅▅▆▆▆▇▇▇██\n",
      "\u001b[34m\u001b[1mwandb\u001b[0m:  train_acc_epoch ▁▇▇█▇▇▇▇█▇▇▇▇███▇█▇████\n",
      "\u001b[34m\u001b[1mwandb\u001b[0m:  train_auc_epoch ▁▆▇▇▇▇▇▇▇▇▇▇▇██████████\n",
      "\u001b[34m\u001b[1mwandb\u001b[0m: train_loss_epoch █▂▂▂▂▂▂▂▂▂▂▂▁▁▂▁▁▁▁▁▁▁▁\n",
      "\u001b[34m\u001b[1mwandb\u001b[0m:  valid_acc_epoch ▆▁██▂▄▆▄▆▃▁▆▇▇▃▄▄▂▅▁▅▅▅\n",
      "\u001b[34m\u001b[1mwandb\u001b[0m:  valid_auc_epoch ▁▇███▇▇▇▇█▇▅█▆▄▆▆▅▅▄▅▆▆\n",
      "\u001b[34m\u001b[1mwandb\u001b[0m: \n",
      "\u001b[34m\u001b[1mwandb\u001b[0m: Run summary:\n",
      "\u001b[34m\u001b[1mwandb\u001b[0m:         best_auc 0.73571\n",
      "\u001b[34m\u001b[1mwandb\u001b[0m:            epoch 22\n",
      "\u001b[34m\u001b[1mwandb\u001b[0m:  train_acc_epoch 0.66745\n",
      "\u001b[34m\u001b[1mwandb\u001b[0m:  train_auc_epoch 0.75447\n",
      "\u001b[34m\u001b[1mwandb\u001b[0m: train_loss_epoch 0.58964\n",
      "\u001b[34m\u001b[1mwandb\u001b[0m:  valid_acc_epoch 0.64876\n",
      "\u001b[34m\u001b[1mwandb\u001b[0m:  valid_auc_epoch 0.73396\n",
      "\u001b[34m\u001b[1mwandb\u001b[0m: \n",
      "\u001b[34m\u001b[1mwandb\u001b[0m: Synced \u001b[33mcrisp-yogurt-461\u001b[0m: \u001b[34m\u001b[4mhttps://wandb.ai/recsys8/Sequential/runs/29liu0ov\u001b[0m\n",
      "\u001b[34m\u001b[1mwandb\u001b[0m: Synced 6 W&B file(s), 0 media file(s), 0 artifact file(s) and 0 other file(s)\n",
      "\u001b[34m\u001b[1mwandb\u001b[0m: Find logs at: \u001b[35m\u001b[1m./wandb/run-20221205_092604-29liu0ov/logs\u001b[0m\n"
     ]
    }
   ],
   "source": [
    "!python ../dkt/train.py --model lstm --n_epochs 500 --patience 30 --lr 0.001 --hidden_dim 128"
   ]
  },
  {
   "cell_type": "code",
   "execution_count": 1,
   "id": "3f8246d3-d0ed-4265-920e-980d059ef1f3",
   "metadata": {
    "collapsed": true,
    "jupyter": {
     "outputs_hidden": true
    },
    "tags": []
   },
   "outputs": [
    {
     "name": "stdout",
     "output_type": "stream",
     "text": [
      "/opt/conda/lib/python3.8/site-packages/scipy/__init__.py:146: UserWarning: A NumPy version >=1.16.5 and <1.23.0 is required for this version of SciPy (detected version 1.23.4\n",
      "  warnings.warn(f\"A NumPy version >={np_minversion} and <{np_maxversion}\"\n",
      "\u001b[34m\u001b[1mwandb\u001b[0m: Currently logged in as: \u001b[33mnahyun\u001b[0m. Use \u001b[1m`wandb login --relogin`\u001b[0m to force relogin\n",
      "cpu\n",
      "\u001b[34m\u001b[1mwandb\u001b[0m: Currently logged in as: \u001b[33mnahyun\u001b[0m (\u001b[33mrecsys8\u001b[0m). Use \u001b[1m`wandb login --relogin`\u001b[0m to force relogin\n",
      "\u001b[34m\u001b[1mwandb\u001b[0m: Tracking run with wandb version 0.13.5\n",
      "\u001b[34m\u001b[1mwandb\u001b[0m: Run data is saved locally in \u001b[35m\u001b[1m/opt/ml/input/main_dir/FeatrueEngineering/wandb/run-20221206_014526-3cfrgfgs\u001b[0m\n",
      "\u001b[34m\u001b[1mwandb\u001b[0m: Run \u001b[1m`wandb offline`\u001b[0m to turn off syncing.\n",
      "\u001b[34m\u001b[1mwandb\u001b[0m: Syncing run \u001b[33mrosy-vortex-526\u001b[0m\n",
      "\u001b[34m\u001b[1mwandb\u001b[0m: ⭐️ View project at \u001b[34m\u001b[4mhttps://wandb.ai/recsys8/Sequential\u001b[0m\n",
      "\u001b[34m\u001b[1mwandb\u001b[0m: 🚀 View run at \u001b[34m\u001b[4mhttps://wandb.ai/recsys8/Sequential/runs/3cfrgfgs\u001b[0m\n",
      "\u001b[34m\u001b[1mwandb\u001b[0m: \u001b[33mWARNING\u001b[0m Calling wandb.run.save without any arguments is deprecated.Changes to attributes are automatically persisted.\n",
      "Start Training: Epoch 1\n",
      "Traceback (most recent call last):\n",
      "  File \"../dkt/train.py\", line 82, in <module>\n",
      "    main(args)\n",
      "  File \"../dkt/train.py\", line 36, in main\n",
      "    trainer.run(args, train_data, valid_data, model)\n",
      "  File \"/opt/ml/input/main_dir/dkt/src/trainer.py\", line 37, in run\n",
      "    train_auc, train_acc, train_loss = train(\n",
      "  File \"/opt/ml/input/main_dir/dkt/src/trainer.py\", line 95, in train\n",
      "    preds = model(input) #[64,20]\n",
      "  File \"/opt/conda/lib/python3.8/site-packages/torch/nn/modules/module.py\", line 1120, in _call_impl\n",
      "    result = forward_call(*input, **kwargs)\n",
      "  File \"/opt/ml/input/main_dir/dkt/src/model.py\", line 186, in forward\n",
      "    embed_testId = self.embedding_testId(testId.type(torch.cuda.IntTensor))\n",
      "RuntimeError: Cannot initialize CUDA without ATen_cuda library. PyTorch splits its backend into two shared libraries: a CPU library and a CUDA library; this error has occurred because you are trying to use some CUDA functionality, but the CUDA library has not been loaded by the dynamic linker for some reason.  The CUDA library MUST be loaded, EVEN IF you don't directly use any symbols from the CUDA library! One common culprit is a lack of -Wl,--no-as-needed in your link arguments; many dynamic linkers will delete dynamic library dependencies if you don't depend on any of their symbols.  You can check if this has occurred by using ldd on your binary to see if there is a dependency on *_cuda.so library.\n",
      "\u001b[34m\u001b[1mwandb\u001b[0m: Waiting for W&B process to finish... \u001b[31m(failed 1).\u001b[0m Press Control-C to abort syncing.\n",
      "\u001b[34m\u001b[1mwandb\u001b[0m: Synced \u001b[33mrosy-vortex-526\u001b[0m: \u001b[34m\u001b[4mhttps://wandb.ai/recsys8/Sequential/runs/3cfrgfgs\u001b[0m\n",
      "\u001b[34m\u001b[1mwandb\u001b[0m: Synced 6 W&B file(s), 0 media file(s), 0 artifact file(s) and 0 other file(s)\n",
      "\u001b[34m\u001b[1mwandb\u001b[0m: Find logs at: \u001b[35m\u001b[1m./wandb/run-20221206_014526-3cfrgfgs/logs\u001b[0m\n"
     ]
    }
   ],
   "source": [
    "!python ../dkt/train.py --model lstmattn --n_epochs 500 --patience 30 --lr 0.001 --hidden_dim 128"
   ]
  },
  {
   "cell_type": "code",
   "execution_count": 2,
   "id": "3a94c1e7-39cd-4ca8-8bfa-0672fd990461",
   "metadata": {
    "collapsed": true,
    "jupyter": {
     "outputs_hidden": true
    },
    "tags": []
   },
   "outputs": [
    {
     "name": "stdout",
     "output_type": "stream",
     "text": [
      "/opt/conda/lib/python3.8/site-packages/scipy/__init__.py:146: UserWarning: A NumPy version >=1.16.5 and <1.23.0 is required for this version of SciPy (detected version 1.23.4\n",
      "  warnings.warn(f\"A NumPy version >={np_minversion} and <{np_maxversion}\"\n",
      "\u001b[34m\u001b[1mwandb\u001b[0m: Currently logged in as: \u001b[33mnahyun\u001b[0m. Use \u001b[1m`wandb login --relogin`\u001b[0m to force relogin\n",
      "cpu\n",
      "\u001b[34m\u001b[1mwandb\u001b[0m: Currently logged in as: \u001b[33mnahyun\u001b[0m (\u001b[33mrecsys8\u001b[0m). Use \u001b[1m`wandb login --relogin`\u001b[0m to force relogin\n",
      "\u001b[34m\u001b[1mwandb\u001b[0m: Tracking run with wandb version 0.13.5\n",
      "\u001b[34m\u001b[1mwandb\u001b[0m: Run data is saved locally in \u001b[35m\u001b[1m/opt/ml/input/main_dir/FeatrueEngineering/wandb/run-20221206_014624-nbke7e9a\u001b[0m\n",
      "\u001b[34m\u001b[1mwandb\u001b[0m: Run \u001b[1m`wandb offline`\u001b[0m to turn off syncing.\n",
      "\u001b[34m\u001b[1mwandb\u001b[0m: Syncing run \u001b[33mfine-puddle-528\u001b[0m\n",
      "\u001b[34m\u001b[1mwandb\u001b[0m: ⭐️ View project at \u001b[34m\u001b[4mhttps://wandb.ai/recsys8/Sequential\u001b[0m\n",
      "\u001b[34m\u001b[1mwandb\u001b[0m: 🚀 View run at \u001b[34m\u001b[4mhttps://wandb.ai/recsys8/Sequential/runs/nbke7e9a\u001b[0m\n",
      "\u001b[34m\u001b[1mwandb\u001b[0m: \u001b[33mWARNING\u001b[0m Calling wandb.run.save without any arguments is deprecated.Changes to attributes are automatically persisted.\n",
      "Start Training: Epoch 1\n",
      "Traceback (most recent call last):\n",
      "  File \"../dkt/train.py\", line 82, in <module>\n",
      "    main(args)\n",
      "  File \"../dkt/train.py\", line 36, in main\n",
      "    trainer.run(args, train_data, valid_data, model)\n",
      "  File \"/opt/ml/input/main_dir/dkt/src/trainer.py\", line 37, in run\n",
      "    train_auc, train_acc, train_loss = train(\n",
      "  File \"/opt/ml/input/main_dir/dkt/src/trainer.py\", line 95, in train\n",
      "    preds = model(input) #[64,20]\n",
      "  File \"/opt/conda/lib/python3.8/site-packages/torch/nn/modules/module.py\", line 1120, in _call_impl\n",
      "    result = forward_call(*input, **kwargs)\n",
      "  File \"/opt/ml/input/main_dir/dkt/src/lqtransformer.py\", line 131, in forward\n",
      "    embed_testId = self.embedding_testId(testId.type(torch.cuda.IntTensor))\n",
      "RuntimeError: Cannot initialize CUDA without ATen_cuda library. PyTorch splits its backend into two shared libraries: a CPU library and a CUDA library; this error has occurred because you are trying to use some CUDA functionality, but the CUDA library has not been loaded by the dynamic linker for some reason.  The CUDA library MUST be loaded, EVEN IF you don't directly use any symbols from the CUDA library! One common culprit is a lack of -Wl,--no-as-needed in your link arguments; many dynamic linkers will delete dynamic library dependencies if you don't depend on any of their symbols.  You can check if this has occurred by using ldd on your binary to see if there is a dependency on *_cuda.so library.\n",
      "\u001b[34m\u001b[1mwandb\u001b[0m: Waiting for W&B process to finish... \u001b[31m(failed 1).\u001b[0m Press Control-C to abort syncing.\n",
      "\u001b[34m\u001b[1mwandb\u001b[0m: Synced \u001b[33mfine-puddle-528\u001b[0m: \u001b[34m\u001b[4mhttps://wandb.ai/recsys8/Sequential/runs/nbke7e9a\u001b[0m\n",
      "\u001b[34m\u001b[1mwandb\u001b[0m: Synced 6 W&B file(s), 0 media file(s), 0 artifact file(s) and 0 other file(s)\n",
      "\u001b[34m\u001b[1mwandb\u001b[0m: Find logs at: \u001b[35m\u001b[1m./wandb/run-20221206_014624-nbke7e9a/logs\u001b[0m\n"
     ]
    }
   ],
   "source": [
    "!python ../dkt/train.py --model lqtransformer --n_epochs 500 --patience 30 --lr 0.001 --hidden_dim 128"
   ]
  },
  {
   "cell_type": "code",
   "execution_count": null,
   "id": "7fa5e698-8ac4-4e4f-ac1b-3bf33af7ec00",
   "metadata": {},
   "outputs": [],
   "source": []
  },
  {
   "cell_type": "code",
   "execution_count": null,
   "id": "cd0c1b5d-2336-49af-94d4-8df930c4795d",
   "metadata": {},
   "outputs": [],
   "source": []
  },
  {
   "cell_type": "code",
   "execution_count": null,
   "id": "fbad0859-4d97-4248-b0e5-b7fdbbd45d8c",
   "metadata": {},
   "outputs": [],
   "source": []
  },
  {
   "cell_type": "code",
   "execution_count": null,
   "id": "c9f0ab43-80bb-489f-a483-e056d9313680",
   "metadata": {},
   "outputs": [],
   "source": []
  }
 ],
 "metadata": {
  "kernelspec": {
   "display_name": "dkt2",
   "language": "python",
   "name": "dkt2"
  },
  "language_info": {
   "codemirror_mode": {
    "name": "ipython",
    "version": 3
   },
   "file_extension": ".py",
   "mimetype": "text/x-python",
   "name": "python",
   "nbconvert_exporter": "python",
   "pygments_lexer": "ipython3",
   "version": "3.9.15"
  }
 },
 "nbformat": 4,
 "nbformat_minor": 5
}
