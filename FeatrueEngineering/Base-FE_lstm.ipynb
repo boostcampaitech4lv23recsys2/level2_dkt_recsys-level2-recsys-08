{
 "cells": [
  {
   "cell_type": "markdown",
   "id": "4443df37",
   "metadata": {},
   "source": [
    "## dataload & FeatureEngineering"
   ]
  },
  {
   "cell_type": "code",
   "execution_count": 5,
   "id": "5b40adf7",
   "metadata": {
    "ExecuteTime": {
     "end_time": "2022-12-01T15:57:44.119277Z",
     "start_time": "2022-12-01T15:56:51.018808Z"
    }
   },
   "outputs": [
    {
     "name": "stdout",
     "output_type": "stream",
     "text": [
      "Dataset of shape (2526700, 44)\n",
      "Columns are ['userID', 'assessmentItemID', 'testId', 'answerCode', 'Timestamp', 'KnowledgeTag', 'kind', 'uidIdx', 'assIdx', 'testIdx', 'user_correct_answer', 'user_total_answer', 'user_acc', 'month', 'day', 'hour', 'dayname', 'big_category', 'problem_num', 'mid_category', 'test_mean', 'test_std', 'test_sum', 'tag_mean', 'tag_std', 'tag_sum', 'big_mean', 'big_std', 'big_sum', 'Timestamp2', 'solvetime', 'solvesec', 'solvesec_3600', 'time_category', 'solvesec_cumsum', 'solvecumsum_category', 'big_category_acc', 'big_category_std', 'big_category_cumconut', 'big_category_user_acc', 'big_category_user_std', 'big_category_answer', 'big_category_answer_log1p', 'left_asymptote']\n",
      "Parameter estimation is starting...\n"
     ]
    },
    {
     "name": "stderr",
     "output_type": "stream",
     "text": [
      "100%|██████████| 2526700/2526700 [00:22<00:00, 110640.35it/s]\n"
     ]
    },
    {
     "name": "stdout",
     "output_type": "stream",
     "text": [
      "Theta & beta estimations on assessmentItemID are completed.\n"
     ]
    }
   ],
   "source": [
    "import numpy as np\n",
    "import seaborn as sns\n",
    "import matplotlib.pyplot as plt\n",
    "import random\n",
    "plt.style.use('seaborn')\n",
    "from IPython.core.interactiveshell import InteractiveShell\n",
    "InteractiveShell.ast_node_interactivity = \"all\"\n",
    "# import missingno\n",
    "import pandas as pd\n",
    "pd.set_option('display.min_rows', 500)\n",
    "import warnings\n",
    "warnings.filterwarnings('ignore')\n",
    "\n",
    "import sys\n",
    "import os\n",
    "sys.path.append(os.path.dirname(\"/opt/ml/dkt_team/code/FeatrueEngineering\"))\n",
    "from LGBM.utils import apply_elo_granularity_feature_name\n",
    "\n",
    "def concat_and_export(train_fe, test_fe):\n",
    "    \n",
    "    train_fe['kind']='train'\n",
    "    test_fe['kind']='test'\n",
    "    \n",
    "    df = pd.concat([train_fe,test_fe])\n",
    "    data_dir = '/opt/ml/input/data' # 경로\n",
    "    write_path=f'{data_dir}/after_fe_train_test_cumsum.pkl'\n",
    "    df.to_pickle(write_path,index=False)\n",
    "    print(f\"Write: {write_path}\")\n",
    "    \n",
    "def export(df, output='after_fe_train_test.pkl'):\n",
    "    data_dir = '/opt/ml/input/data' # 경로\n",
    "    write_path=f'{data_dir}/{output}'\n",
    "    df.to_pickle(write_path)\n",
    "    print(f\"Write: {write_path}\")\n",
    "    \n",
    "path='/opt/ml/dkt_team/data'\n",
    "train = pd.read_csv(f\"{path}/train_data.csv\")\n",
    "test = pd.read_csv(f\"{path}/test_data.csv\")\n",
    "\n",
    "day_dict = {'Tuesday': 0,\n",
    " 'Thursday': 1,\n",
    " 'Monday': 2,\n",
    " 'Saturday': 3,\n",
    " 'Friday': 4,\n",
    " 'Wednesday': 5,\n",
    " 'Sunday': 6}\n",
    "\n",
    "def feature_engineering(df):\n",
    "    uid2idx = {v:k for k,v in enumerate(sorted(df.userID.unique()))}\n",
    "    ass2idx = {v:k for k,v in enumerate(sorted(df.assessmentItemID.unique()))}\n",
    "    test2idx = {v:k for k,v in enumerate(sorted(df.testId.unique()))}\n",
    "\n",
    "    df2 = df.copy()\n",
    "    #유저별 시퀀스를 고려하기 위해 아래와 같이 정렬\n",
    "    df2.sort_values(by=['userID','Timestamp'], inplace=True)\n",
    "    \n",
    "    # userID, assessmentItemID, testId 라벨인코딩\n",
    "    df2['uidIdx'] = df2.userID.map(uid2idx)\n",
    "    df2['assIdx'] = df2.assessmentItemID.map(ass2idx)\n",
    "    df2['testIdx'] = df2.testId.map(test2idx)\n",
    "    \n",
    "    #유저들의 문제 풀이수, 정답 수, 정답률을 시간순으로 누적해서 계산\n",
    "    df2['user_correct_answer'] = df2.groupby('userID')['answerCode'].transform(lambda x: x.cumsum().shift(1))\n",
    "    df2['user_total_answer'] = df2.groupby('userID')['answerCode'].cumcount()\n",
    "    df2['user_acc'] = df2['user_correct_answer']/df2['user_total_answer']\n",
    "    df2['month'] = pd.to_datetime(df2.Timestamp).dt.month\n",
    "    df2['day'] = pd.to_datetime(df2.Timestamp).dt.day\n",
    "    df2['hour'] = pd.to_datetime(df2.Timestamp).dt.hour\n",
    "    df2['dayname'] = pd.to_datetime(df2.Timestamp).dt.day_name().map(day_dict)\n",
    "    df2['big_category'] = df2.testId.map(lambda x:x[2]).astype(int)\n",
    "    df2['problem_num'] = df2.assessmentItemID.map(lambda x: int(x[-3:]))\n",
    "    df2['mid_category'] = df2.testId.map(lambda x: int(x[-3:]))\n",
    "\n",
    "    # testId와 KnowledgeTag의 전체 정답률은 한번에 계산\n",
    "    # 아래 데이터는 제출용 데이터셋에 대해서도 재사용\n",
    "    correct_t = df2.groupby(['testId'])['answerCode'].agg(['mean', 'std', 'sum'])\n",
    "    correct_t.columns = [\"test_mean\", \"test_std\", 'test_sum']\n",
    "    correct_k = df2.groupby(['KnowledgeTag'])['answerCode'].agg(['mean', 'std', 'sum'])\n",
    "    correct_k.columns = [\"tag_mean\", 'tag_std', 'tag_sum']\n",
    "    correct_b = df2.groupby(['big_category'])['answerCode'].agg(['mean', 'std', 'sum'])\n",
    "    correct_b.columns = [\"big_mean\", 'big_std', 'big_sum']\n",
    "\n",
    "    df2 = pd.merge(df2, correct_t, on=['testId'], how=\"left\")\n",
    "    df2 = pd.merge(df2, correct_k, on=['KnowledgeTag'], how=\"left\")\n",
    "    df2 = pd.merge(df2, correct_b, on=['big_category'], how=\"left\")\n",
    "    \n",
    "    # 유저별 문제푼 시간, solvesec_3600, time_category\n",
    "    df2['Timestamp2'] = pd.to_datetime(df2.Timestamp)\n",
    "    df2['solvetime'] = df2.groupby('userID')['Timestamp2'].diff().fillna(pd.Timedelta(seconds=0))\n",
    "    df2['solvesec'] = df2.solvetime.map(lambda x : x.total_seconds())\n",
    "    df2['solvesec_3600'] = df2.solvesec\n",
    "    df2.loc[df2.solvesec>=3600,'solvesec_3600']=3600\n",
    "\n",
    "    df2['time_category'] = ''\n",
    "    tc = [0,5,7,10,60,600,1200,2400,3600]\n",
    "    df2.loc[(df2.solvesec==0), 'time_category'] = \"0 - [0,0]\"\n",
    "    for i in range(len(tc)-1):\n",
    "        s,e = tc[i],tc[i+1]\n",
    "        df2.loc[(df2.solvesec>s) & (df2.solvesec<=e),'time_category']=f\"{i+1} - ({s}, {e}]\"\n",
    "    df2.loc[(df2.solvesec>=tc[-1]),'time_category'] = f\"{i+2} - ({e}, )\"\n",
    "    timecat2idx={k:v for v,k in enumerate(sorted(df2.time_category.unique()))}\n",
    "    df2['time_category'] = df2.time_category.map(timecat2idx)\n",
    "    \n",
    "    # 유저별 문제푼 시간 Cumsum\n",
    "    df2['solvesec_cumsum'] = df2.groupby(['userID','testId'])['solvesec_3600'].cumsum()%3601\n",
    "    df2['solvecumsum_category'] = ''\n",
    "    tc = [0,5,7,10,60,600,1200,2400,3600,7200]\n",
    "    df2.loc[(df2.solvesec_cumsum==0), 'solvecumsum_category'] = \"0 - [0,0]\"\n",
    "    for i in range(len(tc)-1):\n",
    "        s,e = tc[i],tc[i+1]\n",
    "        df2.loc[(df2.solvesec_cumsum>s) & (df2.solvesec_cumsum<=e),'solvecumsum_category']=f\"{i+1} - ({s}, {e}]\"\n",
    "    df2.loc[(df2.solvesec_cumsum>=tc[-1]),'solvecumsum_category'] = f\"{i+2} - ({e}, )\"\n",
    "    solvecumsum_category2idx={k:v for v,k in enumerate(sorted(df2.solvecumsum_category.unique()))}\n",
    "    df2['solvecumsum_category'] = df2.solvecumsum_category.map(solvecumsum_category2idx)\n",
    "    \n",
    "    ## big_category\n",
    "    # big_category 전체 정답률, 표준편차\n",
    "    big_category_answermean = dict(df2.groupby(\"big_category\").answerCode.mean())\n",
    "    big_category_answerstd = dict(df2.groupby(\"big_category\").answerCode.std())\n",
    "    df2['big_category_acc'] = df2.big_category.map(big_category_answermean)\n",
    "    df2['big_category_std'] = df2.big_category.map(big_category_answerstd)\n",
    "\n",
    "    # 유저별 big category 문제 푼 횟수\n",
    "    df2['big_category_cumconut'] = df2.groupby(['userID','big_category']).answerCode.cumcount()\n",
    "\n",
    "    # 유저별 정답률, 표준 편차\n",
    "    df2_user_big_ans = df2.groupby(['userID','big_category']).answerCode.mean().reset_index()\n",
    "    df2_user_big_ans.rename(columns={'answerCode':'big_category_user_acc'},inplace=True)\n",
    "    df2 = df2.merge(df2_user_big_ans,on=['userID','big_category'])\n",
    "\n",
    "    df2_user_big_ans_std = df2.groupby(['userID','big_category']).answerCode.std().reset_index()\n",
    "    df2_user_big_ans_std.rename(columns={'answerCode':'big_category_user_std'},inplace=True)\n",
    "    df2 = df2.merge(df2_user_big_ans_std,on=['userID','big_category'])\n",
    "\n",
    "    # 문제별 맞춘 횟수 + log1p\n",
    "    df2['big_category_answer'] = df2.groupby(['userID','big_category']).answerCode.transform(lambda x: x.cumsum().shift(1))\n",
    "    df2['big_category_answer_log1p'] = np.log1p(df2.big_category_answer)\n",
    "    \n",
    "    df2 = apply_elo_granularity_feature_name(df2, \"assessmentItemID\")\n",
    "    \n",
    "    df2.sort_values(by=['userID','Timestamp'], inplace=True)\n",
    "    return df2\n",
    "\n",
    "train['kind']='train'\n",
    "test['kind']='test'\n",
    "df = pd.concat([train,test])\n",
    "df = feature_engineering(df)"
   ]
  },
  {
   "cell_type": "code",
   "execution_count": 9,
   "id": "379897c2",
   "metadata": {},
   "outputs": [
    {
     "name": "stdout",
     "output_type": "stream",
     "text": [
      "<class 'pandas.core.frame.DataFrame'>\n",
      "Int64Index: 2526700 entries, 0 to 2526699\n",
      "Data columns (total 45 columns):\n",
      " #   Column                     Dtype          \n",
      "---  ------                     -----          \n",
      " 0   userID                     int64          \n",
      " 1   assessmentItemID           object         \n",
      " 2   testId                     object         \n",
      " 3   answerCode                 int64          \n",
      " 4   Timestamp                  object         \n",
      " 5   KnowledgeTag               int64          \n",
      " 6   kind                       object         \n",
      " 7   uidIdx                     int64          \n",
      " 8   assIdx                     int64          \n",
      " 9   testIdx                    int64          \n",
      " 10  user_correct_answer        float64        \n",
      " 11  user_total_answer          int64          \n",
      " 12  user_acc                   float64        \n",
      " 13  month                      int64          \n",
      " 14  day                        int64          \n",
      " 15  hour                       int64          \n",
      " 16  dayname                    int64          \n",
      " 17  big_category               int64          \n",
      " 18  problem_num                int64          \n",
      " 19  mid_category               int64          \n",
      " 20  test_mean                  float64        \n",
      " 21  test_std                   float64        \n",
      " 22  test_sum                   int64          \n",
      " 23  tag_mean                   float64        \n",
      " 24  tag_std                    float64        \n",
      " 25  tag_sum                    int64          \n",
      " 26  big_mean                   float64        \n",
      " 27  big_std                    float64        \n",
      " 28  big_sum                    int64          \n",
      " 29  Timestamp2                 datetime64[ns] \n",
      " 30  solvetime                  timedelta64[ns]\n",
      " 31  solvesec                   float64        \n",
      " 32  solvesec_3600              float64        \n",
      " 33  time_category              int64          \n",
      " 34  solvesec_cumsum            float64        \n",
      " 35  solvecumsum_category       int64          \n",
      " 36  big_category_acc           float64        \n",
      " 37  big_category_std           float64        \n",
      " 38  big_category_cumconut      int64          \n",
      " 39  big_category_user_acc      float64        \n",
      " 40  big_category_user_std      float64        \n",
      " 41  big_category_answer        float64        \n",
      " 42  big_category_answer_log1p  float64        \n",
      " 43  left_asymptote             int64          \n",
      " 44  elo_assessmentItemID       float64        \n",
      "dtypes: datetime64[ns](1), float64(18), int64(21), object(4), timedelta64[ns](1)\n",
      "memory usage: 886.8+ MB\n"
     ]
    }
   ],
   "source": [
    "df.info()"
   ]
  },
  {
   "cell_type": "code",
   "execution_count": 6,
   "id": "ea8cb86b",
   "metadata": {},
   "outputs": [],
   "source": [
    "df1 = df[df['kind']=='train']\n",
    "df2 = df[df['kind']=='test']"
   ]
  },
  {
   "cell_type": "code",
   "execution_count": 7,
   "id": "fef11027",
   "metadata": {},
   "outputs": [],
   "source": [
    "write_path=\"/opt/ml/input/data/df1_FE.pkl\"\n",
    "df1.to_pickle(write_path)"
   ]
  },
  {
   "cell_type": "code",
   "execution_count": 8,
   "id": "92ecb757",
   "metadata": {},
   "outputs": [],
   "source": [
    "write_path=\"/opt/ml/input/data/df2_FE.pkl\"\n",
    "df2.to_pickle(write_path)"
   ]
  },
  {
   "cell_type": "markdown",
   "id": "210ce42d",
   "metadata": {},
   "source": [
    "## 내보내기"
   ]
  },
  {
   "cell_type": "code",
   "execution_count": 11,
   "id": "a1c2f416",
   "metadata": {
    "ExecuteTime": {
     "end_time": "2022-12-01T15:57:51.584182Z",
     "start_time": "2022-12-01T15:57:44.122929Z"
    }
   },
   "outputs": [
    {
     "name": "stdout",
     "output_type": "stream",
     "text": [
      "Write: /opt/ml/input/data/base_lgbm2.pkl\n"
     ]
    }
   ],
   "source": [
    "df2 = df.copy()\n",
    "export(df2, output='base_lgbm2.pkl')"
   ]
  }
 ],
 "metadata": {
  "kernelspec": {
   "display_name": "Python 3.10.8 ('lgcnrnn')",
   "language": "python",
   "name": "python3"
  },
  "language_info": {
   "codemirror_mode": {
    "name": "ipython",
    "version": 3
   },
   "file_extension": ".py",
   "mimetype": "text/x-python",
   "name": "python",
   "nbconvert_exporter": "python",
   "pygments_lexer": "ipython3",
   "version": "3.10.8"
  },
  "toc": {
   "base_numbering": 1,
   "nav_menu": {},
   "number_sections": true,
   "sideBar": true,
   "skip_h1_title": true,
   "title_cell": "Table of Contents",
   "title_sidebar": "Contents",
   "toc_cell": false,
   "toc_position": {
    "height": "calc(100% - 180px)",
    "left": "10px",
    "top": "150px",
    "width": "384px"
   },
   "toc_section_display": true,
   "toc_window_display": true
  },
  "vscode": {
   "interpreter": {
    "hash": "1f9ecee0ae7293f2e8fbdd490ca55da94f19608f53940d49fa33c74b4126e337"
   }
  }
 },
 "nbformat": 4,
 "nbformat_minor": 5
}
