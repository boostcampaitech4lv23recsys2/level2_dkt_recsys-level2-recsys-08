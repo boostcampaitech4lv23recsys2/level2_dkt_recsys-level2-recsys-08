{
 "cells": [
  {
   "cell_type": "code",
   "execution_count": 3,
   "id": "5b40adf7",
   "metadata": {
    "ExecuteTime": {
     "end_time": "2022-11-28T15:38:13.046245Z",
     "start_time": "2022-11-28T15:37:29.598698Z"
    }
   },
   "outputs": [
    {
     "data": {
      "text/plain": [
       "((2266586, 27), (260114, 27))"
      ]
     },
     "execution_count": 3,
     "metadata": {},
     "output_type": "execute_result"
    }
   ],
   "source": [
    "import numpy as np\n",
    "import seaborn as sns\n",
    "import matplotlib.pyplot as plt\n",
    "import random\n",
    "plt.style.use('seaborn')\n",
    "from IPython.core.interactiveshell import InteractiveShell\n",
    "InteractiveShell.ast_node_interactivity = \"all\"\n",
    "\n",
    "import pandas as pd\n",
    "pd.set_option('display.min_rows', 500)\n",
    "import warnings\n",
    "warnings.filterwarnings('ignore')\n",
    "\n",
    "def concat_and_export(train_fe, test_fe):\n",
    "    \n",
    "    train_fe['kind']='train'\n",
    "    test_fe['kind']='test'\n",
    "    \n",
    "    df = pd.concat([train_fe,test_fe])\n",
    "    data_dir = '/opt/ml/input/data' # 경로\n",
    "    write_path=f'{data_dir}/after_fe_train_test_cumsum.pkl'\n",
    "    df.to_pickle(write_path,index=False)\n",
    "    print(f\"Write: {write_path}\")\n",
    "    \n",
    "def export(df, output='after_fe_train_test.pkl'):\n",
    "    data_dir = '/opt/ml/input/data' # 경로\n",
    "    write_path=f'{data_dir}/{output}'\n",
    "    df.to_pickle(write_path)\n",
    "    print(f\"Write: {write_path}\")\n",
    "    \n",
    "path='../../data/'\n",
    "train = pd.read_csv(f\"{path}/train_data.csv\")\n",
    "test = pd.read_csv(f\"{path}/test_data.csv\")\n",
    "sub = pd.read_csv(f\"{path}/sample_submission.csv\")\n",
    "\n",
    "day_dict = {'Tuesday': 0,\n",
    " 'Thursday': 1,\n",
    " 'Monday': 2,\n",
    " 'Saturday': 3,\n",
    " 'Friday': 4,\n",
    " 'Wednesday': 5,\n",
    " 'Sunday': 6}\n",
    "\n",
    "def feature_engineering(df):\n",
    "    df2 = df.copy()\n",
    "    #유저별 시퀀스를 고려하기 위해 아래와 같이 정렬\n",
    "    df2.sort_values(by=['userID','Timestamp'], inplace=True)\n",
    "    \n",
    "    # 유저별 문제푼 시간, solvesec_3600, time_category\n",
    "    df2['Timestamp2'] = pd.to_datetime(df2.Timestamp)\n",
    "    df2['solvetime'] = df2.groupby('userID')['Timestamp2'].diff().fillna(pd.Timedelta(seconds=0))\n",
    "    df2['solvesec'] = df2.solvetime.map(lambda x : x.total_seconds())\n",
    "    df2['solvesec_3600'] = df2.solvesec\n",
    "    df2.loc[df2.solvesec>=3600,'solvesec_3600']=3600\n",
    "\n",
    "    df2['time_category'] = ''\n",
    "    tc = [0,5,7,10,60,600,1200,2400,3600]\n",
    "    df2.loc[(df2.solvesec==0), 'time_category'] = \"0 - [0,0]\"\n",
    "    for i in range(len(tc)-1):\n",
    "        s,e = tc[i],tc[i+1]\n",
    "        df2.loc[(df2.solvesec>s) & (df2.solvesec<=e),'time_category']=f\"{i+1} - ({s}, {e}]\"\n",
    "    df2.loc[(df2.solvesec>=tc[-1]),'time_category'] = f\"{i+2} - ({e}, )\"\n",
    "    timecat2idx={k:v for v,k in enumerate(sorted(df2.time_category.unique()))}\n",
    "    df2['time_category'] = df2.time_category.map(timecat2idx)\n",
    "    \n",
    "    \n",
    "    \n",
    "    #유저들의 문제 풀이수, 정답 수, 정답률을 시간순으로 누적해서 계산\n",
    "    df2['user_correct_answer'] = df2.groupby('userID')['answerCode'].transform(lambda x: x.cumsum().shift(1))\n",
    "    df2['user_total_answer'] = df2.groupby('userID')['answerCode'].cumcount()\n",
    "    df2['user_acc'] = df2['user_correct_answer']/df2['user_total_answer']\n",
    "    df2['month'] = pd.to_datetime(df2.Timestamp).dt.month\n",
    "    df2['day'] = pd.to_datetime(df2.Timestamp).dt.day\n",
    "    df2['hour'] = pd.to_datetime(df2.Timestamp).dt.hour\n",
    "    df2['dayname'] = pd.to_datetime(df2.Timestamp).dt.day_name().map(day_dict)\n",
    "    df2['big_category'] = df2.testId.map(lambda x:x[2]).astype(int)\n",
    "    df2['problem_num'] = df2.assessmentItemID.map(lambda x: int(x[-3:]))\n",
    "    df2['mid_category'] = df2.testId.map(lambda x: int(x[-3:]))\n",
    "\n",
    "    # testId와 KnowledgeTag의 전체 정답률은 한번에 계산\n",
    "    # 아래 데이터는 제출용 데이터셋에 대해서도 재사용\n",
    "    correct_t = df2.groupby(['testId'])['answerCode'].agg(['mean', 'std', 'sum'])\n",
    "    correct_t.columns = [\"test_mean\", \"test_std\", 'test_sum']\n",
    "    correct_k = df2.groupby(['KnowledgeTag'])['answerCode'].agg(['mean', 'std', 'sum'])\n",
    "    correct_k.columns = [\"tag_mean\", 'tag_std', 'tag_sum']\n",
    "\n",
    "    df2 = pd.merge(df2, correct_t, on=['testId'], how=\"left\")\n",
    "    df2 = pd.merge(df2, correct_k, on=['KnowledgeTag'], how=\"left\")\n",
    "    \n",
    "    return df2\n",
    "\n",
    "train_fe = feature_engineering(train)\n",
    "test_fe = feature_engineering(test)\n",
    "train_fe.shape, test_fe.shape"
   ]
  },
  {
   "cell_type": "code",
   "execution_count": 4,
   "id": "3118330d",
   "metadata": {
    "ExecuteTime": {
     "end_time": "2022-11-28T15:38:13.517628Z",
     "start_time": "2022-11-28T15:38:13.049039Z"
    }
   },
   "outputs": [],
   "source": [
    "train_fe['kind']='train'\n",
    "test_fe['kind']='test'\n",
    "df = pd.concat([train_fe,test_fe])"
   ]
  },
  {
   "cell_type": "markdown",
   "id": "4a3621ee",
   "metadata": {},
   "source": [
    "## 전체 데이터"
   ]
  },
  {
   "cell_type": "markdown",
   "id": "001fb15c",
   "metadata": {},
   "source": [
    "### 문제푼시간 초단위 측정 및 내보내기"
   ]
  },
  {
   "cell_type": "code",
   "execution_count": 5,
   "id": "62b6aab4",
   "metadata": {
    "ExecuteTime": {
     "end_time": "2022-11-28T15:38:41.451470Z",
     "start_time": "2022-11-28T15:38:13.520363Z"
    }
   },
   "outputs": [
    {
     "data": {
      "text/plain": [
       "count    2.519258e+06\n",
       "mean     5.279512e+04\n",
       "std      4.059280e+05\n",
       "min      0.000000e+00\n",
       "25%      1.300000e+01\n",
       "50%      3.700000e+01\n",
       "75%      1.360000e+02\n",
       "max      2.560230e+07\n",
       "Name: solvesec, dtype: float64"
      ]
     },
     "execution_count": 5,
     "metadata": {},
     "output_type": "execute_result"
    }
   ],
   "source": [
    "df = df.sort_values(['userID','Timestamp'])\n",
    "\n",
    "df.reset_index(drop=True,inplace=True)\n",
    "\n",
    "df['Timestamp2'] = pd.to_datetime(df.Timestamp)\n",
    "df['solvetime'] = df.groupby('userID')['Timestamp2'].diff()\n",
    "df['solvesec'] = df.solvetime.map(lambda x : x.total_seconds())\n",
    "\n",
    "df.solvesec.describe()"
   ]
  },
  {
   "cell_type": "code",
   "execution_count": 31,
   "id": "8d7a8a60",
   "metadata": {
    "ExecuteTime": {
     "end_time": "2022-11-28T07:00:28.126440Z",
     "start_time": "2022-11-28T07:00:28.094603Z"
    }
   },
   "outputs": [],
   "source": [
    "df['solvesec_3600'] = df.solvesec\n",
    "df.loc[df.solvesec>=3600,'solvesec_3600']=3600"
   ]
  },
  {
   "cell_type": "code",
   "execution_count": 8,
   "id": "17450b15",
   "metadata": {
    "ExecuteTime": {
     "end_time": "2022-11-28T15:40:02.732805Z",
     "start_time": "2022-11-28T15:40:00.153863Z"
    }
   },
   "outputs": [
    {
     "name": "stdout",
     "output_type": "stream",
     "text": [
      "Write: /opt/ml/input/data/after_fe_train_test_solvetime2.pkl\n"
     ]
    }
   ],
   "source": [
    "# 문제푼 시간 초단위 측정 내보내기\n",
    "df2 = df.drop(['Timestamp2','solvetime'],axis=1)\n",
    "export(df2,output='after_fe_train_test_solvetime2.pkl')"
   ]
  },
  {
   "cell_type": "markdown",
   "id": "0e40a10d",
   "metadata": {},
   "source": [
    "## 3600초, 3200, 2400, 1800, 1200, 800, 600 이상 변환"
   ]
  },
  {
   "cell_type": "code",
   "execution_count": 9,
   "id": "616e81b7",
   "metadata": {
    "ExecuteTime": {
     "end_time": "2022-11-28T15:46:44.986404Z",
     "start_time": "2022-11-28T15:46:44.964521Z"
    }
   },
   "outputs": [],
   "source": [
    "df['solvesec_3600_2'] = df.solvesec\n",
    "df.loc[df.solvesec>=3600,'solvesec_3600_2']=3600"
   ]
  },
  {
   "cell_type": "code",
   "execution_count": 11,
   "id": "fbb5e6ae",
   "metadata": {
    "ExecuteTime": {
     "end_time": "2022-11-28T15:56:12.020377Z",
     "start_time": "2022-11-28T15:56:11.972492Z"
    }
   },
   "outputs": [],
   "source": [
    "df['solvesec_3200_2'] = df.solvesec\n",
    "df.loc[df.solvesec>=3200,'solvesec_3200_2']=3200"
   ]
  },
  {
   "cell_type": "code",
   "execution_count": 12,
   "id": "99292d9a",
   "metadata": {
    "ExecuteTime": {
     "end_time": "2022-11-28T15:56:12.700756Z",
     "start_time": "2022-11-28T15:56:12.667215Z"
    }
   },
   "outputs": [],
   "source": [
    "df['solvesec_2400_2'] = df.solvesec\n",
    "df.loc[df.solvesec>=2400,'solvesec_2400_2']=2400"
   ]
  },
  {
   "cell_type": "code",
   "execution_count": 13,
   "id": "853c5c76",
   "metadata": {
    "ExecuteTime": {
     "end_time": "2022-11-28T15:56:13.183789Z",
     "start_time": "2022-11-28T15:56:13.153131Z"
    }
   },
   "outputs": [],
   "source": [
    "df['solvesec_1800_2'] = df.solvesec\n",
    "df.loc[df.solvesec>=1800,'solvesec_1800_2']=1800"
   ]
  },
  {
   "cell_type": "code",
   "execution_count": 14,
   "id": "1bb245f8",
   "metadata": {
    "ExecuteTime": {
     "end_time": "2022-11-28T15:56:13.520153Z",
     "start_time": "2022-11-28T15:56:13.492223Z"
    }
   },
   "outputs": [],
   "source": [
    "df['solvesec_1200_2'] = df.solvesec\n",
    "df.loc[df.solvesec>=1200,'solvesec_1200_2']=1200"
   ]
  },
  {
   "cell_type": "code",
   "execution_count": 15,
   "id": "7502fb0d",
   "metadata": {
    "ExecuteTime": {
     "end_time": "2022-11-28T15:56:13.883187Z",
     "start_time": "2022-11-28T15:56:13.847496Z"
    }
   },
   "outputs": [],
   "source": [
    "df['solvesec_800_2'] = df.solvesec\n",
    "df.loc[df.solvesec>=800,'solvesec_800_2']=800"
   ]
  },
  {
   "cell_type": "code",
   "execution_count": 16,
   "id": "6ca45c58",
   "metadata": {
    "ExecuteTime": {
     "end_time": "2022-11-28T15:56:15.815097Z",
     "start_time": "2022-11-28T15:56:15.778556Z"
    }
   },
   "outputs": [],
   "source": [
    "df['solvesec_600_2'] = df.solvesec\n",
    "df.loc[df.solvesec>=600,'solvesec_600_2']=600"
   ]
  },
  {
   "cell_type": "code",
   "execution_count": 17,
   "id": "1ebd3edf",
   "metadata": {
    "ExecuteTime": {
     "end_time": "2022-11-28T15:56:41.885935Z",
     "start_time": "2022-11-28T15:56:35.724937Z"
    }
   },
   "outputs": [
    {
     "name": "stdout",
     "output_type": "stream",
     "text": [
      "Write: /opt/ml/input/data/after_fe_train_test_solvetime2.pkl\n"
     ]
    }
   ],
   "source": [
    "# 문제푼 시간 초단위 측정 내보내기\n",
    "df2 = df.drop(['Timestamp2','solvetime'],axis=1)\n",
    "export(df2,output='after_fe_train_test_solvetime2.pkl')"
   ]
  },
  {
   "cell_type": "code",
   "execution_count": null,
   "id": "13372332",
   "metadata": {},
   "outputs": [],
   "source": []
  },
  {
   "cell_type": "code",
   "execution_count": null,
   "id": "a407c246",
   "metadata": {},
   "outputs": [],
   "source": []
  },
  {
   "cell_type": "code",
   "execution_count": null,
   "id": "4caaa787",
   "metadata": {},
   "outputs": [],
   "source": []
  },
  {
   "cell_type": "markdown",
   "id": "e04714b6",
   "metadata": {},
   "source": [
    "### time category 나누기"
   ]
  },
  {
   "cell_type": "code",
   "execution_count": 18,
   "id": "1f0661a1",
   "metadata": {
    "ExecuteTime": {
     "end_time": "2022-11-28T16:30:43.474629Z",
     "start_time": "2022-11-28T16:30:43.242098Z"
    }
   },
   "outputs": [
    {
     "name": "stdout",
     "output_type": "stream",
     "text": [
      "0\n",
      "0 5\n",
      "5 7\n",
      "7 10\n",
      "10 60\n",
      "60 600\n",
      "600 1200\n",
      "1200 2400\n",
      "2400\n"
     ]
    }
   ],
   "source": [
    "df['time_category'] = ''\n",
    "\n",
    "tc = [0,5,7,10,60,600,1200,2400]\n",
    "df.loc[(df.solvesec==0), 'time_category'] = \"0 - [0,0]\"\n",
    "print(0)\n",
    "for i in range(len(tc)-1):\n",
    "    s,e = tc[i],tc[i+1]\n",
    "    df.loc[(df.solvesec>s) & (df.solvesec<=e),'time_category']=f\"{i+1} - ({s}, {e}]\"\n",
    "    print(s,e)\n",
    "df.loc[(df.solvesec>=tc[-1]),'time_category'] = f\"{i+2} - ({e}, )\"\n",
    "print(e)"
   ]
  },
  {
   "cell_type": "code",
   "execution_count": 20,
   "id": "69a91885",
   "metadata": {
    "ExecuteTime": {
     "end_time": "2022-11-28T16:31:08.313681Z",
     "start_time": "2022-11-28T16:31:08.288186Z"
    }
   },
   "outputs": [
    {
     "data": {
      "text/html": [
       "<div>\n",
       "<style scoped>\n",
       "    .dataframe tbody tr th:only-of-type {\n",
       "        vertical-align: middle;\n",
       "    }\n",
       "\n",
       "    .dataframe tbody tr th {\n",
       "        vertical-align: top;\n",
       "    }\n",
       "\n",
       "    .dataframe thead th {\n",
       "        text-align: right;\n",
       "    }\n",
       "</style>\n",
       "<table border=\"1\" class=\"dataframe\">\n",
       "  <thead>\n",
       "    <tr style=\"text-align: right;\">\n",
       "      <th></th>\n",
       "      <th>userID</th>\n",
       "      <th>assessmentItemID</th>\n",
       "      <th>testId</th>\n",
       "      <th>answerCode</th>\n",
       "      <th>Timestamp</th>\n",
       "      <th>KnowledgeTag</th>\n",
       "      <th>Timestamp2</th>\n",
       "      <th>solvetime</th>\n",
       "      <th>solvesec</th>\n",
       "      <th>solvesec_3600</th>\n",
       "      <th>...</th>\n",
       "      <th>tag_std</th>\n",
       "      <th>tag_sum</th>\n",
       "      <th>kind</th>\n",
       "      <th>solvesec_3600_2</th>\n",
       "      <th>solvesec_3200_2</th>\n",
       "      <th>solvesec_2400_2</th>\n",
       "      <th>solvesec_1800_2</th>\n",
       "      <th>solvesec_1200_2</th>\n",
       "      <th>solvesec_800_2</th>\n",
       "      <th>solvesec_600_2</th>\n",
       "    </tr>\n",
       "  </thead>\n",
       "  <tbody>\n",
       "    <tr>\n",
       "      <th>0</th>\n",
       "      <td>0</td>\n",
       "      <td>A060001001</td>\n",
       "      <td>A060000001</td>\n",
       "      <td>1</td>\n",
       "      <td>2020-03-24 00:17:11</td>\n",
       "      <td>7224</td>\n",
       "      <td>2020-03-24 00:17:11</td>\n",
       "      <td>NaT</td>\n",
       "      <td>NaN</td>\n",
       "      <td>0.0</td>\n",
       "      <td>...</td>\n",
       "      <td>0.207410</td>\n",
       "      <td>637</td>\n",
       "      <td>train</td>\n",
       "      <td>NaN</td>\n",
       "      <td>NaN</td>\n",
       "      <td>NaN</td>\n",
       "      <td>NaN</td>\n",
       "      <td>NaN</td>\n",
       "      <td>NaN</td>\n",
       "      <td>NaN</td>\n",
       "    </tr>\n",
       "    <tr>\n",
       "      <th>1</th>\n",
       "      <td>0</td>\n",
       "      <td>A060001002</td>\n",
       "      <td>A060000001</td>\n",
       "      <td>1</td>\n",
       "      <td>2020-03-24 00:17:14</td>\n",
       "      <td>7225</td>\n",
       "      <td>2020-03-24 00:17:14</td>\n",
       "      <td>0 days 00:00:03</td>\n",
       "      <td>3.0</td>\n",
       "      <td>3.0</td>\n",
       "      <td>...</td>\n",
       "      <td>0.281603</td>\n",
       "      <td>3040</td>\n",
       "      <td>train</td>\n",
       "      <td>3.0</td>\n",
       "      <td>3.0</td>\n",
       "      <td>3.0</td>\n",
       "      <td>3.0</td>\n",
       "      <td>3.0</td>\n",
       "      <td>3.0</td>\n",
       "      <td>3.0</td>\n",
       "    </tr>\n",
       "  </tbody>\n",
       "</table>\n",
       "<p>2 rows × 35 columns</p>\n",
       "</div>"
      ],
      "text/plain": [
       "   userID assessmentItemID      testId  answerCode            Timestamp  \\\n",
       "0       0       A060001001  A060000001           1  2020-03-24 00:17:11   \n",
       "1       0       A060001002  A060000001           1  2020-03-24 00:17:14   \n",
       "\n",
       "   KnowledgeTag          Timestamp2       solvetime  solvesec  solvesec_3600  \\\n",
       "0          7224 2020-03-24 00:17:11             NaT       NaN            0.0   \n",
       "1          7225 2020-03-24 00:17:14 0 days 00:00:03       3.0            3.0   \n",
       "\n",
       "   ...   tag_std  tag_sum   kind  solvesec_3600_2  solvesec_3200_2  \\\n",
       "0  ...  0.207410      637  train              NaN              NaN   \n",
       "1  ...  0.281603     3040  train              3.0              3.0   \n",
       "\n",
       "   solvesec_2400_2  solvesec_1800_2  solvesec_1200_2  solvesec_800_2  \\\n",
       "0              NaN              NaN              NaN             NaN   \n",
       "1              3.0              3.0              3.0             3.0   \n",
       "\n",
       "   solvesec_600_2  \n",
       "0             NaN  \n",
       "1             3.0  \n",
       "\n",
       "[2 rows x 35 columns]"
      ]
     },
     "execution_count": 20,
     "metadata": {},
     "output_type": "execute_result"
    }
   ],
   "source": [
    "df[:2]"
   ]
  },
  {
   "cell_type": "code",
   "execution_count": 28,
   "id": "bf56f7b9",
   "metadata": {
    "ExecuteTime": {
     "end_time": "2022-11-28T16:33:18.890468Z",
     "start_time": "2022-11-28T16:33:18.580912Z"
    }
   },
   "outputs": [],
   "source": [
    "df.loc[df.time_category=='','time_category']='9999'"
   ]
  },
  {
   "cell_type": "code",
   "execution_count": 29,
   "id": "961ec54e",
   "metadata": {
    "ExecuteTime": {
     "end_time": "2022-11-28T16:33:23.675556Z",
     "start_time": "2022-11-28T16:33:23.340728Z"
    }
   },
   "outputs": [
    {
     "data": {
      "text/html": [
       "<div>\n",
       "<style scoped>\n",
       "    .dataframe tbody tr th:only-of-type {\n",
       "        vertical-align: middle;\n",
       "    }\n",
       "\n",
       "    .dataframe tbody tr th {\n",
       "        vertical-align: top;\n",
       "    }\n",
       "\n",
       "    .dataframe thead th {\n",
       "        text-align: right;\n",
       "    }\n",
       "</style>\n",
       "<table border=\"1\" class=\"dataframe\">\n",
       "  <thead>\n",
       "    <tr style=\"text-align: right;\">\n",
       "      <th></th>\n",
       "      <th>mean</th>\n",
       "      <th>count</th>\n",
       "    </tr>\n",
       "    <tr>\n",
       "      <th>time_category</th>\n",
       "      <th></th>\n",
       "      <th></th>\n",
       "    </tr>\n",
       "  </thead>\n",
       "  <tbody>\n",
       "    <tr>\n",
       "      <th>0 - [0,0]</th>\n",
       "      <td>0.449879</td>\n",
       "      <td>8280</td>\n",
       "    </tr>\n",
       "    <tr>\n",
       "      <th>1 - (0, 5]</th>\n",
       "      <td>0.246009</td>\n",
       "      <td>364747</td>\n",
       "    </tr>\n",
       "    <tr>\n",
       "      <th>2 - (5, 7]</th>\n",
       "      <td>0.491269</td>\n",
       "      <td>69176</td>\n",
       "    </tr>\n",
       "    <tr>\n",
       "      <th>3 - (7, 10]</th>\n",
       "      <td>0.664348</td>\n",
       "      <td>102204</td>\n",
       "    </tr>\n",
       "    <tr>\n",
       "      <th>4 - (10, 60]</th>\n",
       "      <td>0.751549</td>\n",
       "      <td>1008903</td>\n",
       "    </tr>\n",
       "    <tr>\n",
       "      <th>5 - (60, 600]</th>\n",
       "      <td>0.702995</td>\n",
       "      <td>552226</td>\n",
       "    </tr>\n",
       "    <tr>\n",
       "      <th>6 - (600, 1200]</th>\n",
       "      <td>0.682187</td>\n",
       "      <td>27384</td>\n",
       "    </tr>\n",
       "    <tr>\n",
       "      <th>7 - (1200, 2400]</th>\n",
       "      <td>0.697362</td>\n",
       "      <td>16756</td>\n",
       "    </tr>\n",
       "    <tr>\n",
       "      <th>8 - (2400, )</th>\n",
       "      <td>0.745031</td>\n",
       "      <td>369582</td>\n",
       "    </tr>\n",
       "    <tr>\n",
       "      <th>9999</th>\n",
       "      <td>0.717146</td>\n",
       "      <td>7442</td>\n",
       "    </tr>\n",
       "  </tbody>\n",
       "</table>\n",
       "</div>"
      ],
      "text/plain": [
       "                      mean    count\n",
       "time_category                      \n",
       "0 - [0,0]         0.449879     8280\n",
       "1 - (0, 5]        0.246009   364747\n",
       "2 - (5, 7]        0.491269    69176\n",
       "3 - (7, 10]       0.664348   102204\n",
       "4 - (10, 60]      0.751549  1008903\n",
       "5 - (60, 600]     0.702995   552226\n",
       "6 - (600, 1200]   0.682187    27384\n",
       "7 - (1200, 2400]  0.697362    16756\n",
       "8 - (2400, )      0.745031   369582\n",
       "9999              0.717146     7442"
      ]
     },
     "execution_count": 29,
     "metadata": {},
     "output_type": "execute_result"
    }
   ],
   "source": [
    "time_grp = df.groupby('time_category')['answerCode'].agg(['mean','count'])\n",
    "time_grp['C'] = time_grp.index.str.extract(r'(\\d+)').astype(int)[0].tolist()\n",
    "time_grp.sort_values('C')[['mean','count']]"
   ]
  },
  {
   "cell_type": "code",
   "execution_count": 31,
   "id": "3cbcd080",
   "metadata": {
    "ExecuteTime": {
     "end_time": "2022-11-28T16:46:34.203345Z",
     "start_time": "2022-11-28T16:46:33.612027Z"
    }
   },
   "outputs": [
    {
     "data": {
      "text/plain": [
       "4    1008903\n",
       "5     552226\n",
       "8     369582\n",
       "1     364747\n",
       "3     102204\n",
       "2      69176\n",
       "6      27384\n",
       "7      16756\n",
       "0       8280\n",
       "9       7442\n",
       "Name: time_category, dtype: int64"
      ]
     },
     "execution_count": 31,
     "metadata": {},
     "output_type": "execute_result"
    }
   ],
   "source": [
    "timecat2idx={k:v for v,k in enumerate(sorted(df.time_category.unique()))}\n",
    "df['time_category'] = df.time_category.map(timecat2idx)\n",
    "df.time_category.value_counts()"
   ]
  },
  {
   "cell_type": "code",
   "execution_count": 35,
   "id": "e8dfca4a",
   "metadata": {
    "ExecuteTime": {
     "end_time": "2022-11-28T16:47:50.488624Z",
     "start_time": "2022-11-28T16:47:50.480594Z"
    }
   },
   "outputs": [
    {
     "data": {
      "text/html": [
       "<div>\n",
       "<style scoped>\n",
       "    .dataframe tbody tr th:only-of-type {\n",
       "        vertical-align: middle;\n",
       "    }\n",
       "\n",
       "    .dataframe tbody tr th {\n",
       "        vertical-align: top;\n",
       "    }\n",
       "\n",
       "    .dataframe thead th {\n",
       "        text-align: right;\n",
       "    }\n",
       "</style>\n",
       "<table border=\"1\" class=\"dataframe\">\n",
       "  <thead>\n",
       "    <tr style=\"text-align: right;\">\n",
       "      <th></th>\n",
       "      <th>userID</th>\n",
       "      <th>time_category</th>\n",
       "    </tr>\n",
       "  </thead>\n",
       "  <tbody>\n",
       "    <tr>\n",
       "      <th>0</th>\n",
       "      <td>0</td>\n",
       "      <td>9</td>\n",
       "    </tr>\n",
       "    <tr>\n",
       "      <th>1</th>\n",
       "      <td>0</td>\n",
       "      <td>1</td>\n",
       "    </tr>\n",
       "    <tr>\n",
       "      <th>2</th>\n",
       "      <td>0</td>\n",
       "      <td>3</td>\n",
       "    </tr>\n",
       "    <tr>\n",
       "      <th>3</th>\n",
       "      <td>0</td>\n",
       "      <td>2</td>\n",
       "    </tr>\n",
       "    <tr>\n",
       "      <th>4</th>\n",
       "      <td>0</td>\n",
       "      <td>2</td>\n",
       "    </tr>\n",
       "    <tr>\n",
       "      <th>5</th>\n",
       "      <td>0</td>\n",
       "      <td>4</td>\n",
       "    </tr>\n",
       "    <tr>\n",
       "      <th>6</th>\n",
       "      <td>0</td>\n",
       "      <td>8</td>\n",
       "    </tr>\n",
       "    <tr>\n",
       "      <th>7</th>\n",
       "      <td>0</td>\n",
       "      <td>2</td>\n",
       "    </tr>\n",
       "    <tr>\n",
       "      <th>8</th>\n",
       "      <td>0</td>\n",
       "      <td>5</td>\n",
       "    </tr>\n",
       "    <tr>\n",
       "      <th>9</th>\n",
       "      <td>0</td>\n",
       "      <td>4</td>\n",
       "    </tr>\n",
       "  </tbody>\n",
       "</table>\n",
       "</div>"
      ],
      "text/plain": [
       "   userID  time_category\n",
       "0       0              9\n",
       "1       0              1\n",
       "2       0              3\n",
       "3       0              2\n",
       "4       0              2\n",
       "5       0              4\n",
       "6       0              8\n",
       "7       0              2\n",
       "8       0              5\n",
       "9       0              4"
      ]
     },
     "execution_count": 35,
     "metadata": {},
     "output_type": "execute_result"
    }
   ],
   "source": [
    "df[:10][['userID','time_category']]"
   ]
  },
  {
   "cell_type": "code",
   "execution_count": 36,
   "id": "304ef2f3",
   "metadata": {
    "ExecuteTime": {
     "end_time": "2022-11-28T16:48:31.985564Z",
     "start_time": "2022-11-28T16:48:25.731115Z"
    }
   },
   "outputs": [
    {
     "name": "stdout",
     "output_type": "stream",
     "text": [
      "Write: /opt/ml/input/data/after_fe_train_test_solvetime2.pkl\n"
     ]
    }
   ],
   "source": [
    "df2 = df.drop(['Timestamp2','solvetime'],axis=1)\n",
    "export(df2, output='after_fe_train_test_solvetime2.pkl')"
   ]
  },
  {
   "cell_type": "code",
   "execution_count": null,
   "id": "b2394345",
   "metadata": {},
   "outputs": [],
   "source": []
  },
  {
   "cell_type": "code",
   "execution_count": null,
   "id": "43acf5f5",
   "metadata": {},
   "outputs": [],
   "source": []
  }
 ],
 "metadata": {
  "kernelspec": {
   "display_name": "Python 3 (ipykernel)",
   "language": "python",
   "name": "python3"
  },
  "language_info": {
   "codemirror_mode": {
    "name": "ipython",
    "version": 3
   },
   "file_extension": ".py",
   "mimetype": "text/x-python",
   "name": "python",
   "nbconvert_exporter": "python",
   "pygments_lexer": "ipython3",
   "version": "3.9.15"
  },
  "toc": {
   "base_numbering": 1,
   "nav_menu": {},
   "number_sections": true,
   "sideBar": true,
   "skip_h1_title": true,
   "title_cell": "Table of Contents",
   "title_sidebar": "Contents",
   "toc_cell": false,
   "toc_position": {
    "height": "calc(100% - 180px)",
    "left": "10px",
    "top": "150px",
    "width": "361.996px"
   },
   "toc_section_display": true,
   "toc_window_display": true
  }
 },
 "nbformat": 4,
 "nbformat_minor": 5
}
