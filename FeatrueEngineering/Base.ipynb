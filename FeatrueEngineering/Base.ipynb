{
 "cells": [
  {
   "cell_type": "code",
   "execution_count": 11,
   "id": "2640f404",
   "metadata": {
    "ExecuteTime": {
     "end_time": "2022-11-25T07:49:35.418304Z",
     "start_time": "2022-11-25T07:49:14.008866Z"
    }
   },
   "outputs": [
    {
     "data": {
      "text/plain": [
       "((2266586, 22), (260114, 22))"
      ]
     },
     "execution_count": 11,
     "metadata": {},
     "output_type": "execute_result"
    }
   ],
   "source": [
    "import numpy as np\n",
    "import seaborn as sns\n",
    "import matplotlib.pyplot as plt\n",
    "import random\n",
    "plt.style.use('seaborn')\n",
    "from IPython.core.interactiveshell import InteractiveShell\n",
    "InteractiveShell.ast_node_interactivity = \"all\"\n",
    "\n",
    "import pandas as pd\n",
    "pd.set_option('display.min_rows', 500)\n",
    "import warnings\n",
    "warnings.filterwarnings('ignore')\n",
    "\n",
    "def concat_and_export(train_fe, test_fe):\n",
    "    \n",
    "    train_fe['kind']='train'\n",
    "    test_fe['kind']='test'\n",
    "    \n",
    "    df = pd.concat([train_fe,test_fe])\n",
    "    data_dir = '/opt/ml/input/data' # 경로\n",
    "    write_path=f'{data_dir}/after_fe_train_test.pkl'\n",
    "    df.to_pickle(write_path)\n",
    "    print(f\"Write: {write_path}\")\n",
    "    \n",
    "def export(df):\n",
    "    data_dir = '/opt/ml/input/data' # 경로\n",
    "    write_path=f'{data_dir}/after_fe_train_test.pkl'\n",
    "    df.to_pickle(write_path)\n",
    "    print(f\"Write: {write_path}\")\n",
    "    \n",
    "path='../../data/'\n",
    "train = pd.read_csv(f\"{path}/train_data.csv\")\n",
    "test = pd.read_csv(f\"{path}/test_data.csv\")\n",
    "sub = pd.read_csv(f\"{path}/sample_submission.csv\")\n",
    "\n",
    "day_dict = {'Tuesday': 0,\n",
    " 'Thursday': 1,\n",
    " 'Monday': 2,\n",
    " 'Saturday': 3,\n",
    " 'Friday': 4,\n",
    " 'Wednesday': 5,\n",
    " 'Sunday': 6}\n",
    "\n",
    "def feature_engineering(df):\n",
    "    df2 = df.copy()\n",
    "    #유저별 시퀀스를 고려하기 위해 아래와 같이 정렬\n",
    "    df2.sort_values(by=['userID','Timestamp'], inplace=True)\n",
    "    \n",
    "    #유저들의 문제 풀이수, 정답 수, 정답률을 시간순으로 누적해서 계산\n",
    "    df2['user_correct_answer'] = df2.groupby('userID')['answerCode'].transform(lambda x: x.cumsum().shift(1))\n",
    "    df2['user_total_answer'] = df2.groupby('userID')['answerCode'].cumcount()\n",
    "    df2['user_acc'] = df2['user_correct_answer']/df2['user_total_answer']\n",
    "    df2['month'] = pd.to_datetime(df2.Timestamp).dt.month\n",
    "    df2['day'] = pd.to_datetime(df2.Timestamp).dt.day\n",
    "    df2['hour'] = pd.to_datetime(df2.Timestamp).dt.hour\n",
    "    df2['dayname'] = pd.to_datetime(df2.Timestamp).dt.day_name().map(day_dict)\n",
    "    df2['big_category'] = df2.testId.map(lambda x:x[2]).astype(int)\n",
    "    df2['problem_num'] = df2.assessmentItemID.map(lambda x: int(x[-3:]))\n",
    "    df2['mid_category'] = df2.testId.map(lambda x: int(x[-3:]))\n",
    "\n",
    "    # testId와 KnowledgeTag의 전체 정답률은 한번에 계산\n",
    "    # 아래 데이터는 제출용 데이터셋에 대해서도 재사용\n",
    "    correct_t = df2.groupby(['testId'])['answerCode'].agg(['mean', 'std', 'sum'])\n",
    "    correct_t.columns = [\"test_mean\", \"test_std\", 'test_sum']\n",
    "    correct_k = df2.groupby(['KnowledgeTag'])['answerCode'].agg(['mean', 'std', 'sum'])\n",
    "    correct_k.columns = [\"tag_mean\", 'tag_std', 'tag_sum']\n",
    "\n",
    "    df2 = pd.merge(df2, correct_t, on=['testId'], how=\"left\")\n",
    "    df2 = pd.merge(df2, correct_k, on=['KnowledgeTag'], how=\"left\")\n",
    "    \n",
    "    return df2\n",
    "\n",
    "train_fe = feature_engineering(train)\n",
    "test_fe = feature_engineering(test)\n",
    "train_fe.shape, test_fe.shape\n",
    "\n",
    "train_fe['kind']='train'\n",
    "test_fe['kind']='test'\n",
    "df = pd.concat([train_fe,test_fe])"
   ]
  },
  {
   "cell_type": "code",
   "execution_count": 12,
   "id": "bc11a928",
   "metadata": {
    "ExecuteTime": {
     "end_time": "2022-11-25T07:49:47.474624Z",
     "start_time": "2022-11-25T07:49:47.303691Z"
    }
   },
   "outputs": [
    {
     "name": "stdout",
     "output_type": "stream",
     "text": [
      "ls: cannot access 'data/': No such file or directory\r\n"
     ]
    }
   ],
   "source": []
  },
  {
   "cell_type": "code",
   "execution_count": null,
   "id": "92ce9c85",
   "metadata": {},
   "outputs": [],
   "source": [
    "df2 = df.drop(['Timestamp2','solvetime'],axis=1)\n",
    "export(df2)"
   ]
  }
 ],
 "metadata": {
  "kernelspec": {
   "display_name": "Python 3 (ipykernel)",
   "language": "python",
   "name": "python3"
  },
  "language_info": {
   "codemirror_mode": {
    "name": "ipython",
    "version": 3
   },
   "file_extension": ".py",
   "mimetype": "text/x-python",
   "name": "python",
   "nbconvert_exporter": "python",
   "pygments_lexer": "ipython3",
   "version": "3.9.15"
  },
  "toc": {
   "base_numbering": 1,
   "nav_menu": {},
   "number_sections": true,
   "sideBar": true,
   "skip_h1_title": true,
   "title_cell": "Table of Contents",
   "title_sidebar": "Contents",
   "toc_cell": false,
   "toc_position": {},
   "toc_section_display": true,
   "toc_window_display": false
  }
 },
 "nbformat": 4,
 "nbformat_minor": 5
}
