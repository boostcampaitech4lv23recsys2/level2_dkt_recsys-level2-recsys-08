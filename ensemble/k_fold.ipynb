{
 "cells": [
  {
   "cell_type": "code",
   "execution_count": 1,
   "metadata": {},
   "outputs": [],
   "source": [
    "import random\n",
    "import pandas as pd\n",
    "import numpy as np\n"
   ]
  },
  {
   "cell_type": "code",
   "execution_count": 2,
   "metadata": {},
   "outputs": [],
   "source": [
    "df = pd.read_csv('../../data/test_data.csv')\n",
    "df2 = pd.read_csv('../../data/train_data.csv')"
   ]
  },
  {
   "cell_type": "code",
   "execution_count": 3,
   "metadata": {},
   "outputs": [],
   "source": [
    "def k_fold_split(df,fold):\n",
    "    users = list(zip(df['userID'].value_counts().index, df['userID'].value_counts())) # 유저 ID, 유저 수\n",
    "    random.shuffle(users)\n",
    "\n",
    "    max_train_data_len = len(df)/fold\n",
    "    sum_of_train_data = 0\n",
    "    val_idx =[[] for _ in range(fold)]\n",
    "    val_set = []\n",
    "    train_set = []\n",
    "\n",
    "    idx = 0\n",
    "    for k in range(fold-1):\n",
    "        sum_of_train_data = 0\n",
    "        for user_id, count in users[idx:]:\n",
    "            sum_of_train_data += count\n",
    "            if max_train_data_len < sum_of_train_data:\n",
    "                break\n",
    "            val_idx[k].append(user_id)\n",
    "            idx += 1\n",
    "            \n",
    "    for i in range(idx,len(users)):\n",
    "        val_idx[fold-1].append(users[i][0])\n",
    "\n",
    "    for k in range(fold):\n",
    "        train_set.append(df[df['userID'].isin(val_idx[k]) == False])\n",
    "        val = df[df['userID'].isin(val_idx[k])]\n",
    "        val_set.append(val[val['userID'] != val['userID'].shift(-1)])\n",
    "    return train_set,val_set"
   ]
  },
  {
   "cell_type": "code",
   "execution_count": 4,
   "metadata": {},
   "outputs": [],
   "source": [
    "fold = 5\n",
    "train,test = k_fold_split(df,fold)"
   ]
  },
  {
   "cell_type": "code",
   "execution_count": 5,
   "metadata": {},
   "outputs": [
    {
     "name": "stdout",
     "output_type": "stream",
     "text": [
      "총 user 수 : 6698\n",
      "train_0 user 수 : 598\n",
      "test_0 user 수 : 146\n",
      "겹치는 유저가 있나?? : set()\n",
      "train_1 user 수 : 596\n",
      "test_1 user 수 : 148\n",
      "겹치는 유저가 있나?? : set()\n",
      "train_2 user 수 : 595\n",
      "test_2 user 수 : 149\n",
      "겹치는 유저가 있나?? : set()\n",
      "train_3 user 수 : 607\n",
      "test_3 user 수 : 137\n",
      "겹치는 유저가 있나?? : set()\n",
      "train_4 user 수 : 580\n",
      "test_4 user 수 : 164\n",
      "겹치는 유저가 있나?? : set()\n"
     ]
    }
   ],
   "source": [
    "print(f\"총 user 수 : {df2['userID'].nunique()}\")\n",
    "for i in range(fold):\n",
    "    print(f\"train_{i} user 수 : {train[i]['userID'].nunique()}\")\n",
    "    print(f\"test_{i} user 수 : {test[i]['userID'].nunique()}\")\n",
    "    print(f\"겹치는 유저가 있나?? : {set(train[i]['userID'])&set(test[i]['userID'])}\")"
   ]
  }
 ],
 "metadata": {
  "kernelspec": {
   "display_name": "Python 3.8.5 ('base')",
   "language": "python",
   "name": "python3"
  },
  "language_info": {
   "codemirror_mode": {
    "name": "ipython",
    "version": 3
   },
   "file_extension": ".py",
   "mimetype": "text/x-python",
   "name": "python",
   "nbconvert_exporter": "python",
   "pygments_lexer": "ipython3",
   "version": "3.8.5"
  },
  "orig_nbformat": 4,
  "vscode": {
   "interpreter": {
    "hash": "d4d1e4263499bec80672ea0156c357c1ee493ec2b1c70f0acce89fc37c4a6abe"
   }
  }
 },
 "nbformat": 4,
 "nbformat_minor": 2
}
